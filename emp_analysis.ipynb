{
 "cells": [
  {
   "cell_type": "code",
   "execution_count": 1,
   "id": "8c221870",
   "metadata": {},
   "outputs": [],
   "source": [
    "# imports \n",
    "import emp_preprocessing as ep\n",
    "import emp_fake_data as ef\n",
    "import emp_metrics as em\n",
    "import networkx as nx\n",
    "import functions as fct\n",
    "import numpy as np\n",
    "import pandas as pd\n",
    "import parameters as par\n",
    "import os\n",
    "import graphics as gx\n",
    "import data_mapping as dm\n",
    "\n",
    "# parameters\n",
    "path = \"./results/empirical_results/test2/\"\n",
    "plot_period=1000"
   ]
  },
  {
   "attachments": {},
   "cell_type": "markdown",
   "id": "a5dec96a",
   "metadata": {},
   "source": [
    "# 1 data preprocessing"
   ]
  },
  {
   "attachments": {},
   "cell_type": "markdown",
   "id": "cb8b4bdf",
   "metadata": {},
   "source": [
    "## 1.1  load input data"
   ]
  },
  {
   "cell_type": "code",
   "execution_count": null,
   "id": "15668faf",
   "metadata": {},
   "outputs": [],
   "source": [
    "# # opt 1: get the mmsr exposure view (prepared by NA)\n",
    "# df_exposures = pd.read_stata(\"path-to-stata\") # ajouter le path\n",
    "\n",
    "# opt 2: get df_mmsr secured (used for transaction and exposure view)\n",
    "df_mmsr_secured = pd.read_stata(\"path-to-stata\") # ajouter le path\n",
    "\n",
    "# get df_mmsr unsecured (used for deposits time series)\n",
    "df_mmsr_unsecured = pd.read_stata(\"path-to-stata\") # ajouter le path\n",
    "\n",
    "# build fake finrep data (used for accounting view)\n",
    "df_finrep = pd.read_stata(\"path-to-stata\") # ajouter le path\n",
    "df_finrep.rename(columns=dm.dic_finrep_columns, inplace=True) # change the columns names "
   ]
  },
  {
   "attachments": {},
   "cell_type": "markdown",
   "id": "d35757d7",
   "metadata": {},
   "source": [
    "## 1.2 build fake data"
   ]
  },
  {
   "cell_type": "code",
   "execution_count": null,
   "id": "da4a7b17",
   "metadata": {},
   "outputs": [],
   "source": [
    "nb_lines = int(1e6) # 1 million lines\n",
    "\n",
    "# # opt 1: get the mmsr exposure view (prepared by NA)\n",
    "# df_exposures = ef.get_df_exposures(lines=int(1e5),freq=\"5h\")\n",
    "\n",
    "# opt 2: get df_mmsr secured (used for transaction and exposure view)\n",
    "df_mmsr_secured = ef.get_df_mmsr_secured(nb_tran=nb_lines,holidays=dm.holidays)\n",
    "\n",
    "# get df_mmsr unsecured (used for deposits time series)\n",
    "df_mmsr_unsecured = ef.get_df_mmsr_unsecured(nb_tran=nb_lines,holidays=dm.holidays)\n",
    "\n",
    "# build fake finrep data (used for accounting view)\n",
    "df_finrep = ef.get_df_finrep()"
   ]
  },
  {
   "attachments": {},
   "cell_type": "markdown",
   "id": "38e308f6",
   "metadata": {},
   "source": [
    "## 1.3 preprocessing"
   ]
  },
  {
   "cell_type": "markdown",
   "id": "87225ba2",
   "metadata": {},
   "source": [
    "**MMSR reporting instructions for evergreen repos**\n",
    "\n",
    "The reporting of evergreen repos is defined by the MMSR reporting instruction, paragraph 3.1 https://www.ecb.europa.eu/stats/money/mmss/shared/files/MMSR-Reporting_instructions.pdf\n",
    "\n",
    "Evergreen are reported with the notice period defined as the maturity date and rolled over every day (reporting a new line in MMSR each day) until the product is cancelled.\n",
    "\n",
    "To detect an evergreen we flag all transactions that are repeted across several days with the exact same counterparties, nominal amount and tenor."
   ]
  },
  {
   "cell_type": "code",
   "execution_count": 3,
   "id": "d5c9e1d6",
   "metadata": {},
   "outputs": [],
   "source": [
    "# data anonymization \n",
    "ep.anonymize(df_mmsr_secured,df_mmsr_unsecured,df_finrep, path=path)"
   ]
  },
  {
   "cell_type": "code",
   "execution_count": 4,
   "id": "02f27bef",
   "metadata": {},
   "outputs": [
    {
     "name": "stdout",
     "output_type": "stream",
     "text": [
      "get df_mmsr_secured_clean\n",
      "get df_mmsr_secured_expanded\n",
      "get dic_rev_repo_exp_adj from df_mmsr_secured_expanded\n"
     ]
    },
    {
     "name": "stderr",
     "output_type": "stream",
     "text": [
      "100%|██████████| 8814/8814 [00:59<00:00, 147.04it/s]\n"
     ]
    },
    {
     "name": "stdout",
     "output_type": "stream",
     "text": [
      "get dic_arr_binary_adj\n"
     ]
    },
    {
     "name": "stderr",
     "output_type": "stream",
     "text": [
      "c:\\Users\\VictorLeCoz\\local\\Secured_interbank_network\\emp_preprocessing.py:527: NumbaExperimentalFeatureWarning: \u001b[1m\u001b[1m\u001b[1m\u001b[1mUse of isinstance() detected. This is an experimental feature.\u001b[0m\u001b[0m\u001b[0m\u001b[0m\n",
      "  binary_adj = np.where(\n"
     ]
    },
    {
     "name": "stdout",
     "output_type": "stream",
     "text": [
      "get dic_dashed_trajectory\n"
     ]
    }
   ],
   "source": [
    "# # opt 1: get dic reverse repo exp adj history from exposure (prepared by NA)\n",
    "# dic_rev_repo_exp_adj = ep.get_dic_rev_repo_exp_adj_from_exposures(df_exposures=df_exposures,path=path, plot_period=plot_period)\n",
    "\n",
    "# opt 2: get dic reverse repo exp adj history directly from mmsr\n",
    "df_mmsr_secured_clean = ep.get_df_mmsr_secured_clean(df_mmsr_secured,holidays=dm.holidays, path=path, compute_tenor=False)\n",
    "df_mmsr_secured_expanded = ep.get_df_mmsr_secured_expanded(df_mmsr_secured_clean,  holidays=False, path=path)\n",
    "dic_rev_repo_exp_adj = ep.get_dic_rev_repo_exp_adj_from_df_mmsr_secured_expanded(df_mmsr_secured_expanded,path=path, plot_period=plot_period)\n",
    "\n",
    "# get aggregated adjency matrices\n",
    "dic_arr_binary_adj = ep.get_dic_arr_binary_adj(dic_rev_repo_exp_adj=dic_rev_repo_exp_adj,path=path, plot_period=plot_period)\n",
    "\n",
    "# get df_rev_repo_trans\n",
    "df_rev_repo_trans = ep.get_df_rev_repo_trans(df_mmsr_secured_clean, path=path)\n",
    "\n",
    "# get dic dashed trajectory \n",
    "df_finrep_clean = ep.get_df_finrep_clean(df_finrep, path=path)\n",
    "dic_dashed_trajectory = ep.get_dic_dashed_trajectory(df_finrep_clean,path=path)"
   ]
  },
  {
   "attachments": {},
   "cell_type": "markdown",
   "id": "17ffa7fa",
   "metadata": {},
   "source": [
    "## 1.4 pickle"
   ]
  },
  {
   "cell_type": "code",
   "execution_count": 2,
   "id": "7e56a43b",
   "metadata": {},
   "outputs": [
    {
     "name": "stderr",
     "output_type": "stream",
     "text": [
      "c:\\Users\\VictorLeCoz\\local\\Secured_interbank_network\\emp_preprocessing.py:730: DtypeWarning: Columns (6) have mixed types. Specify dtype option on import or set low_memory=False.\n",
      "  df_mmsr_secured_expanded = pd.read_csv(\n"
     ]
    }
   ],
   "source": [
    "# load input data\n",
    "df_mmsr_secured, df_mmsr_secured_clean, df_mmsr_secured_expanded, df_mmsr_unsecured, df_finrep_clean = ep.load_input_data(path=path)\n",
    "\n",
    "# pickle (faster)\n",
    "dic_arr_binary_adj = ep.load_dic_arr_binary_adj(path=path)\n",
    "dic_rev_repo_exp_adj = ep.load_dic_rev_repo_exp_adj(path=path)\n",
    "dic_dashed_trajectory = ep.load_dic_dashed_trajectory(path=path)\n",
    "df_rev_repo_trans = pd.read_csv(f\"{path}pickle/df_rev_repo_trans.csv\", index_col=0)"
   ]
  },
  {
   "attachments": {},
   "cell_type": "markdown",
   "id": "27ae698a",
   "metadata": {},
   "source": [
    "# 2 metrics measurement"
   ]
  },
  {
   "cell_type": "code",
   "execution_count": 7,
   "id": "bfc69fc2",
   "metadata": {},
   "outputs": [],
   "source": [
    "os.makedirs(f\"{path}accounting_view/\", exist_ok=True)"
   ]
  },
  {
   "attachments": {},
   "cell_type": "markdown",
   "id": "8101911f",
   "metadata": {},
   "source": [
    "### 2.1.2 accounting items"
   ]
  },
  {
   "attachments": {},
   "cell_type": "markdown",
   "id": "c8bfb75d",
   "metadata": {},
   "source": [
    "#### A - static, distribution across banks, at several point in time "
   ]
  },
  {
   "cell_type": "code",
   "execution_count": 8,
   "id": "c7fd44b3",
   "metadata": {},
   "outputs": [
    {
     "name": "stdout",
     "output_type": "stream",
     "text": [
      "run power law tests\n"
     ]
    },
    {
     "name": "stderr",
     "output_type": "stream",
     "text": [
      "Calculating best minimal value for power law fit\n",
      "/mnt/live/user/vlecoz/conda_env/money_markets/lib/python3.8/site-packages/powerlaw.py:699: RuntimeWarning: invalid value encountered in divide\n",
      "  (CDF_diff**2) /\n",
      "/mnt/live/user/vlecoz/conda_env/money_markets/lib/python3.8/site-packages/powerlaw.py:699: RuntimeWarning: divide by zero encountered in divide\n",
      "  (CDF_diff**2) /\n",
      "Calculating best minimal value for power law fit\n",
      "/mnt/live/user/vlecoz/conda_env/money_markets/lib/python3.8/site-packages/powerlaw.py:699: RuntimeWarning: invalid value encountered in divide\n",
      "  (CDF_diff**2) /\n",
      "Calculating best minimal value for power law fit\n",
      "/mnt/live/user/vlecoz/conda_env/money_markets/lib/python3.8/site-packages/powerlaw.py:699: RuntimeWarning: divide by zero encountered in divide\n",
      "  (CDF_diff**2) /\n",
      "Calculating best minimal value for power law fit\n",
      "Calculating best minimal value for power law fit\n",
      "Calculating best minimal value for power law fit\n",
      "Calculating best minimal value for power law fit\n",
      "Calculating best minimal value for power law fit\n",
      "Calculating best minimal value for power law fit\n",
      "Calculating best minimal value for power law fit\n",
      "Calculating best minimal value for power law fit\n",
      "Calculating best minimal value for power law fit\n",
      "Calculating best minimal value for power law fit\n",
      "Calculating best minimal value for power law fit\n",
      "Calculating best minimal value for power law fit\n",
      "Calculating best minimal value for power law fit\n",
      "Calculating best minimal value for power law fit\n",
      "Calculating best minimal value for power law fit\n",
      "Calculating best minimal value for power law fit\n",
      "Calculating best minimal value for power law fit\n",
      "Calculating best minimal value for power law fit\n",
      "Calculating best minimal value for power law fit\n",
      "Calculating best minimal value for power law fit\n",
      "Calculating best minimal value for power law fit\n",
      "Calculating best minimal value for power law fit\n",
      "Calculating best minimal value for power law fit\n",
      "Calculating best minimal value for power law fit\n",
      "Calculating best minimal value for power law fit\n",
      "Calculating best minimal value for power law fit\n",
      "Calculating best minimal value for power law fit\n",
      "Calculating best minimal value for power law fit\n",
      "Calculating best minimal value for power law fit\n",
      "Calculating best minimal value for power law fit\n",
      "Calculating best minimal value for power law fit\n",
      "Calculating best minimal value for power law fit\n",
      "Calculating best minimal value for power law fit\n",
      "Calculating best minimal value for power law fit\n",
      "Calculating best minimal value for power law fit\n",
      "Calculating best minimal value for power law fit\n",
      "Calculating best minimal value for power law fit\n",
      "Calculating best minimal value for power law fit\n",
      "Calculating best minimal value for power law fit\n",
      "Calculating best minimal value for power law fit\n",
      "Calculating best minimal value for power law fit\n",
      "Calculating best minimal value for power law fit\n",
      "Calculating best minimal value for power law fit\n",
      "Calculating best minimal value for power law fit\n",
      "Calculating best minimal value for power law fit\n",
      "Calculating best minimal value for power law fit\n",
      "Calculating best minimal value for power law fit\n",
      "Calculating best minimal value for power law fit\n",
      "Calculating best minimal value for power law fit\n",
      "Calculating best minimal value for power law fit\n",
      "Calculating best minimal value for power law fit\n",
      "Calculating best minimal value for power law fit\n",
      "Calculating best minimal value for power law fit\n",
      "Calculating best minimal value for power law fit\n",
      "Calculating best minimal value for power law fit\n",
      "Calculating best minimal value for power law fit\n",
      "Calculating best minimal value for power law fit\n",
      "Calculating best minimal value for power law fit\n",
      "Calculating best minimal value for power law fit\n",
      "Calculating best minimal value for power law fit\n",
      "Calculating best minimal value for power law fit\n",
      "Calculating best minimal value for power law fit\n",
      "Calculating best minimal value for power law fit\n",
      "Calculating best minimal value for power law fit\n",
      "Calculating best minimal value for power law fit\n",
      "Calculating best minimal value for power law fit\n",
      "Calculating best minimal value for power law fit\n",
      "Calculating best minimal value for power law fit\n",
      "Calculating best minimal value for power law fit\n",
      "Calculating best minimal value for power law fit\n",
      "Calculating best minimal value for power law fit\n",
      "Calculating best minimal value for power law fit\n",
      "Calculating best minimal value for power law fit\n",
      "Calculating best minimal value for power law fit\n",
      "Calculating best minimal value for power law fit\n",
      "Calculating best minimal value for power law fit\n",
      "Calculating best minimal value for power law fit\n",
      "Calculating best minimal value for power law fit\n",
      "Calculating best minimal value for power law fit\n",
      "Calculating best minimal value for power law fit\n",
      "Calculating best minimal value for power law fit\n",
      "Calculating best minimal value for power law fit\n",
      "Calculating best minimal value for power law fit\n",
      "Calculating best minimal value for power law fit\n",
      "Calculating best minimal value for power law fit\n",
      "Calculating best minimal value for power law fit\n",
      "Calculating best minimal value for power law fit\n",
      "Calculating best minimal value for power law fit\n",
      "Calculating best minimal value for power law fit\n",
      "Calculating best minimal value for power law fit\n",
      "Calculating best minimal value for power law fit\n",
      "Calculating best minimal value for power law fit\n",
      "Calculating best minimal value for power law fit\n",
      "Calculating best minimal value for power law fit\n",
      "Calculating best minimal value for power law fit\n",
      "Calculating best minimal value for power law fit\n",
      "Calculating best minimal value for power law fit\n",
      "Calculating best minimal value for power law fit\n",
      "Calculating best minimal value for power law fit\n",
      "Calculating best minimal value for power law fit\n",
      "Calculating best minimal value for power law fit\n",
      "Calculating best minimal value for power law fit\n",
      "Calculating best minimal value for power law fit\n",
      "Calculating best minimal value for power law fit\n",
      "Calculating best minimal value for power law fit\n",
      "Calculating best minimal value for power law fit\n",
      "Calculating best minimal value for power law fit\n",
      "Calculating best minimal value for power law fit\n",
      "Calculating best minimal value for power law fit\n",
      "Calculating best minimal value for power law fit\n",
      "Calculating best minimal value for power law fit\n",
      "Calculating best minimal value for power law fit\n",
      "Calculating best minimal value for power law fit\n",
      "Calculating best minimal value for power law fit\n",
      "Calculating best minimal value for power law fit\n",
      "Calculating best minimal value for power law fit\n",
      "Calculating best minimal value for power law fit\n",
      "Calculating best minimal value for power law fit\n",
      "Calculating best minimal value for power law fit\n",
      "Calculating best minimal value for power law fit\n",
      "Calculating best minimal value for power law fit\n",
      "Calculating best minimal value for power law fit\n",
      "Calculating best minimal value for power law fit\n",
      "Calculating best minimal value for power law fit\n",
      "Calculating best minimal value for power law fit\n",
      "Calculating best minimal value for power law fit\n",
      "Calculating best minimal value for power law fit\n",
      "Calculating best minimal value for power law fit\n",
      "Calculating best minimal value for power law fit\n",
      "Calculating best minimal value for power law fit\n",
      "Calculating best minimal value for power law fit\n",
      "Calculating best minimal value for power law fit\n",
      "Calculating best minimal value for power law fit\n",
      "Calculating best minimal value for power law fit\n",
      "Calculating best minimal value for power law fit\n",
      "Calculating best minimal value for power law fit\n",
      "Calculating best minimal value for power law fit\n",
      "Calculating best minimal value for power law fit\n",
      "Calculating best minimal value for power law fit\n",
      "Calculating best minimal value for power law fit\n",
      "Calculating best minimal value for power law fit\n",
      "Calculating best minimal value for power law fit\n",
      "Calculating best minimal value for power law fit\n",
      "Calculating best minimal value for power law fit\n",
      "Calculating best minimal value for power law fit\n",
      "Calculating best minimal value for power law fit\n",
      "Calculating best minimal value for power law fit\n",
      "Calculating best minimal value for power law fit\n",
      "Calculating best minimal value for power law fit\n",
      "Calculating best minimal value for power law fit\n",
      "Calculating best minimal value for power law fit\n",
      "Calculating best minimal value for power law fit\n",
      "Calculating best minimal value for power law fit\n",
      "Calculating best minimal value for power law fit\n",
      "Calculating best minimal value for power law fit\n",
      "Calculating best minimal value for power law fit\n",
      "Calculating best minimal value for power law fit\n",
      "Calculating best minimal value for power law fit\n",
      "Calculating best minimal value for power law fit\n",
      "Calculating best minimal value for power law fit\n",
      "Calculating best minimal value for power law fit\n",
      "Calculating best minimal value for power law fit\n",
      "Calculating best minimal value for power law fit\n",
      "Calculating best minimal value for power law fit\n",
      "Calculating best minimal value for power law fit\n",
      "Calculating best minimal value for power law fit\n",
      "Calculating best minimal value for power law fit\n",
      "Calculating best minimal value for power law fit\n",
      "Calculating best minimal value for power law fit\n",
      "Calculating best minimal value for power law fit\n",
      "Calculating best minimal value for power law fit\n",
      "Calculating best minimal value for power law fit\n",
      "Calculating best minimal value for power law fit\n",
      "Calculating best minimal value for power law fit\n",
      "Calculating best minimal value for power law fit\n",
      "Calculating best minimal value for power law fit\n",
      "Calculating best minimal value for power law fit\n",
      "Calculating best minimal value for power law fit\n",
      "Calculating best minimal value for power law fit\n",
      "Calculating best minimal value for power law fit\n",
      "Calculating best minimal value for power law fit\n",
      "Calculating best minimal value for power law fit\n",
      "Calculating best minimal value for power law fit\n",
      "Calculating best minimal value for power law fit\n",
      "Calculating best minimal value for power law fit\n",
      "Calculating best minimal value for power law fit\n",
      "Calculating best minimal value for power law fit\n",
      "Calculating best minimal value for power law fit\n",
      "Calculating best minimal value for power law fit\n",
      "Calculating best minimal value for power law fit\n",
      "Calculating best minimal value for power law fit\n",
      "Calculating best minimal value for power law fit\n",
      "Calculating best minimal value for power law fit\n",
      "Calculating best minimal value for power law fit\n",
      "Calculating best minimal value for power law fit\n",
      "Calculating best minimal value for power law fit\n",
      "Calculating best minimal value for power law fit\n",
      "Calculating best minimal value for power law fit\n",
      "Calculating best minimal value for power law fit\n",
      "Calculating best minimal value for power law fit\n",
      "Calculating best minimal value for power law fit\n",
      "Calculating best minimal value for power law fit\n",
      "Calculating best minimal value for power law fit\n",
      "Calculating best minimal value for power law fit\n",
      "Calculating best minimal value for power law fit\n",
      "Calculating best minimal value for power law fit\n",
      "Calculating best minimal value for power law fit\n",
      "Calculating best minimal value for power law fit\n",
      "Calculating best minimal value for power law fit\n",
      "Calculating best minimal value for power law fit\n",
      "Calculating best minimal value for power law fit\n",
      "Calculating best minimal value for power law fit\n",
      "Calculating best minimal value for power law fit\n",
      "Calculating best minimal value for power law fit\n",
      "Calculating best minimal value for power law fit\n",
      "Calculating best minimal value for power law fit\n",
      "Calculating best minimal value for power law fit\n",
      "Calculating best minimal value for power law fit\n",
      "Calculating best minimal value for power law fit\n",
      "Calculating best minimal value for power law fit\n",
      "Calculating best minimal value for power law fit\n",
      "Calculating best minimal value for power law fit\n",
      "Calculating best minimal value for power law fit\n",
      "Calculating best minimal value for power law fit\n",
      "Calculating best minimal value for power law fit\n",
      "Calculating best minimal value for power law fit\n",
      "Calculating best minimal value for power law fit\n",
      "Calculating best minimal value for power law fit\n",
      "Calculating best minimal value for power law fit\n",
      "Calculating best minimal value for power law fit\n",
      "Calculating best minimal value for power law fit\n",
      "Calculating best minimal value for power law fit\n",
      "Calculating best minimal value for power law fit\n",
      "Calculating best minimal value for power law fit\n",
      "Calculating best minimal value for power law fit\n",
      "Calculating best minimal value for power law fit\n",
      "Calculating best minimal value for power law fit\n",
      "Calculating best minimal value for power law fit\n",
      "Calculating best minimal value for power law fit\n",
      "Calculating best minimal value for power law fit\n",
      "Calculating best minimal value for power law fit\n",
      "Calculating best minimal value for power law fit\n",
      "Calculating best minimal value for power law fit\n",
      "Calculating best minimal value for power law fit\n",
      "Calculating best minimal value for power law fit\n",
      "Calculating best minimal value for power law fit\n",
      "Calculating best minimal value for power law fit\n",
      "Calculating best minimal value for power law fit\n",
      "Calculating best minimal value for power law fit\n",
      "Calculating best minimal value for power law fit\n",
      "Calculating best minimal value for power law fit\n",
      "Calculating best minimal value for power law fit\n",
      "Calculating best minimal value for power law fit\n",
      "Calculating best minimal value for power law fit\n",
      "Calculating best minimal value for power law fit\n",
      "Calculating best minimal value for power law fit\n",
      "Calculating best minimal value for power law fit\n",
      "Calculating best minimal value for power law fit\n",
      "Calculating best minimal value for power law fit\n",
      "Calculating best minimal value for power law fit\n",
      "Calculating best minimal value for power law fit\n",
      "Calculating best minimal value for power law fit\n",
      "Calculating best minimal value for power law fit\n",
      "Calculating best minimal value for power law fit\n",
      "Calculating best minimal value for power law fit\n",
      "Calculating best minimal value for power law fit\n",
      "Calculating best minimal value for power law fit\n",
      "Calculating best minimal value for power law fit\n",
      "Calculating best minimal value for power law fit\n",
      "Calculating best minimal value for power law fit\n",
      "Calculating best minimal value for power law fit\n",
      "Calculating best minimal value for power law fit\n",
      "Calculating best minimal value for power law fit\n",
      "Calculating best minimal value for power law fit\n",
      "Calculating best minimal value for power law fit\n",
      "Calculating best minimal value for power law fit\n",
      "Calculating best minimal value for power law fit\n",
      "Calculating best minimal value for power law fit\n",
      "Calculating best minimal value for power law fit\n",
      "Calculating best minimal value for power law fit\n",
      "Calculating best minimal value for power law fit\n",
      "Calculating best minimal value for power law fit\n",
      "Calculating best minimal value for power law fit\n",
      "Calculating best minimal value for power law fit\n",
      "Calculating best minimal value for power law fit\n",
      "Calculating best minimal value for power law fit\n",
      "Calculating best minimal value for power law fit\n",
      "Calculating best minimal value for power law fit\n",
      "Calculating best minimal value for power law fit\n",
      "Calculating best minimal value for power law fit\n",
      "Calculating best minimal value for power law fit\n",
      "Calculating best minimal value for power law fit\n",
      "Calculating best minimal value for power law fit\n",
      "Calculating best minimal value for power law fit\n",
      "Calculating best minimal value for power law fit\n",
      "Calculating best minimal value for power law fit\n",
      "Calculating best minimal value for power law fit\n",
      "Calculating best minimal value for power law fit\n",
      "Calculating best minimal value for power law fit\n",
      "Calculating best minimal value for power law fit\n",
      "Calculating best minimal value for power law fit\n",
      "Calculating best minimal value for power law fit\n",
      "Calculating best minimal value for power law fit\n",
      "Calculating best minimal value for power law fit\n",
      "Calculating best minimal value for power law fit\n",
      "Calculating best minimal value for power law fit\n",
      "Calculating best minimal value for power law fit\n",
      "Calculating best minimal value for power law fit\n",
      "Calculating best minimal value for power law fit\n",
      "Calculating best minimal value for power law fit\n",
      "Calculating best minimal value for power law fit\n",
      "Calculating best minimal value for power law fit\n",
      "Calculating best minimal value for power law fit\n",
      "Calculating best minimal value for power law fit\n",
      "Calculating best minimal value for power law fit\n",
      "Calculating best minimal value for power law fit\n",
      "Calculating best minimal value for power law fit\n",
      "Calculating best minimal value for power law fit\n",
      "Calculating best minimal value for power law fit\n",
      "Calculating best minimal value for power law fit\n",
      "Calculating best minimal value for power law fit\n",
      "Calculating best minimal value for power law fit\n",
      "Calculating best minimal value for power law fit\n",
      "Calculating best minimal value for power law fit\n",
      "Calculating best minimal value for power law fit\n",
      "Calculating best minimal value for power law fit\n",
      "Calculating best minimal value for power law fit\n",
      "Calculating best minimal value for power law fit\n",
      "Calculating best minimal value for power law fit\n",
      "Calculating best minimal value for power law fit\n",
      "Calculating best minimal value for power law fit\n",
      "Calculating best minimal value for power law fit\n",
      "Calculating best minimal value for power law fit\n",
      "Calculating best minimal value for power law fit\n",
      "Calculating best minimal value for power law fit\n",
      "Calculating best minimal value for power law fit\n",
      "Calculating best minimal value for power law fit\n",
      "Calculating best minimal value for power law fit\n",
      "Calculating best minimal value for power law fit\n",
      "Calculating best minimal value for power law fit\n",
      "Calculating best minimal value for power law fit\n",
      "Calculating best minimal value for power law fit\n",
      "Calculating best minimal value for power law fit\n",
      "Calculating best minimal value for power law fit\n",
      "Calculating best minimal value for power law fit\n",
      "Calculating best minimal value for power law fit\n",
      "Calculating best minimal value for power law fit\n",
      "Calculating best minimal value for power law fit\n",
      "Calculating best minimal value for power law fit\n",
      "Calculating best minimal value for power law fit\n",
      "Calculating best minimal value for power law fit\n",
      "Calculating best minimal value for power law fit\n",
      "Calculating best minimal value for power law fit\n",
      "Calculating best minimal value for power law fit\n",
      "Calculating best minimal value for power law fit\n",
      "Calculating best minimal value for power law fit\n",
      "Calculating best minimal value for power law fit\n",
      "Calculating best minimal value for power law fit\n",
      "Calculating best minimal value for power law fit\n",
      "Calculating best minimal value for power law fit\n",
      "Calculating best minimal value for power law fit\n",
      "Calculating best minimal value for power law fit\n",
      "Calculating best minimal value for power law fit\n",
      "Calculating best minimal value for power law fit\n",
      "Calculating best minimal value for power law fit\n",
      "Calculating best minimal value for power law fit\n",
      "Calculating best minimal value for power law fit\n",
      "Calculating best minimal value for power law fit\n",
      "Calculating best minimal value for power law fit\n",
      "Calculating best minimal value for power law fit\n",
      "Calculating best minimal value for power law fit\n",
      "Calculating best minimal value for power law fit\n"
     ]
    }
   ],
   "source": [
    "days = list(dic_rev_repo_exp_adj.keys())\n",
    "plot_days = fct.list_intersection(days, dic_dashed_trajectory.keys())\n",
    "bank_items = list(dic_dashed_trajectory.values())[0].columns\n",
    "\n",
    "# get df_powerlaw\n",
    "df_powerlaw = em.get_powerlaw(\n",
    "            dic_dashed_trajectory=dic_dashed_trajectory,\n",
    "            days=days,\n",
    "            plot_days=plot_days,\n",
    "            plot_period=plot_period,\n",
    "            path=f\"{path}accounting_view/static/\"\n",
    "        )\n",
    "\n",
    "# plot each powerlaw charts \n",
    "gx.plot_powerlaw(\n",
    "            df_network_trajectory=df_powerlaw,\n",
    "            days=days,\n",
    "            plot_period=plot_period,\n",
    "            path=f\"{path}accounting_view/\",\n",
    "            plot_days=plot_days,\n",
    "        )\n",
    "\n",
    "# plot p-values across time \n",
    "gx.plot_network_trajectory(\n",
    "                df=df_powerlaw,\n",
    "                cols=[f\"powerlaw p-value {bank_item}\"  for bank_item in bank_items],\n",
    "                file_name=f\"{path}accounting_view/static/powerlaw_pvalue.pdf\",\n",
    "            )\n",
    "\n",
    "# plot alpha of power laws across time \n",
    "gx.plot_network_trajectory(\n",
    "                df=df_powerlaw,\n",
    "                cols=[f\"powerlaw alpha {bank_item}\"  for bank_item in bank_items],\n",
    "                file_name=f\"{path}accounting_view/static/powerlaw_alpha.pdf\",\n",
    "            )"
   ]
  },
  {
   "attachments": {},
   "cell_type": "markdown",
   "id": "7b85896f",
   "metadata": {},
   "source": [
    "#### B - dynamic, distribution across time"
   ]
  },
  {
   "cell_type": "code",
   "execution_count": 9,
   "id": "b3cfacb0",
   "metadata": {},
   "outputs": [
    {
     "name": "stdout",
     "output_type": "stream",
     "text": [
      "get df_deposits\n"
     ]
    }
   ],
   "source": [
    "df_delta_deposits, df_relative_deposits, df_delta_deposits_over_assets = em.get_df_deposits(df_mmsr_unsecured, dic_dashed_trajectory)"
   ]
  },
  {
   "cell_type": "code",
   "execution_count": 10,
   "id": "19f0318a",
   "metadata": {},
   "outputs": [
    {
     "name": "stdout",
     "output_type": "stream",
     "text": [
      "get df_deposits_variations_by_bank\n"
     ]
    },
    {
     "name": "stderr",
     "output_type": "stream",
     "text": [
      "Calculating best minimal value for power law fit\n",
      "/mnt/live/user/vlecoz/conda_env/money_markets/lib/python3.8/site-packages/powerlaw.py:699: RuntimeWarning: invalid value encountered in divide\n",
      "  (CDF_diff**2) /\n",
      "Calculating best minimal value for power law fit\n",
      "/mnt/live/user/vlecoz/conda_env/money_markets/lib/python3.8/site-packages/powerlaw.py:699: RuntimeWarning: invalid value encountered in divide\n",
      "  (CDF_diff**2) /\n",
      "Calculating best minimal value for power law fit\n",
      "/mnt/live/user/vlecoz/conda_env/money_markets/lib/python3.8/site-packages/powerlaw.py:699: RuntimeWarning: invalid value encountered in divide\n",
      "  (CDF_diff**2) /\n",
      "Calculating best minimal value for power law fit\n",
      "/mnt/live/user/vlecoz/conda_env/money_markets/lib/python3.8/site-packages/powerlaw.py:699: RuntimeWarning: invalid value encountered in divide\n",
      "  (CDF_diff**2) /\n",
      "Calculating best minimal value for power law fit\n",
      "/mnt/live/user/vlecoz/conda_env/money_markets/lib/python3.8/site-packages/powerlaw.py:699: RuntimeWarning: invalid value encountered in divide\n",
      "  (CDF_diff**2) /\n",
      "Calculating best minimal value for power law fit\n",
      "/mnt/live/user/vlecoz/conda_env/money_markets/lib/python3.8/site-packages/powerlaw.py:699: RuntimeWarning: invalid value encountered in divide\n",
      "  (CDF_diff**2) /\n",
      "Calculating best minimal value for power law fit\n",
      "/mnt/live/user/vlecoz/conda_env/money_markets/lib/python3.8/site-packages/powerlaw.py:699: RuntimeWarning: invalid value encountered in divide\n",
      "  (CDF_diff**2) /\n",
      "Calculating best minimal value for power law fit\n",
      "/mnt/live/user/vlecoz/conda_env/money_markets/lib/python3.8/site-packages/powerlaw.py:699: RuntimeWarning: invalid value encountered in divide\n",
      "  (CDF_diff**2) /\n",
      "Calculating best minimal value for power law fit\n",
      "/mnt/live/user/vlecoz/conda_env/money_markets/lib/python3.8/site-packages/powerlaw.py:699: RuntimeWarning: invalid value encountered in divide\n",
      "  (CDF_diff**2) /\n",
      "Calculating best minimal value for power law fit\n",
      "/mnt/live/user/vlecoz/conda_env/money_markets/lib/python3.8/site-packages/powerlaw.py:699: RuntimeWarning: invalid value encountered in divide\n",
      "  (CDF_diff**2) /\n",
      "Calculating best minimal value for power law fit\n",
      "/mnt/live/user/vlecoz/conda_env/money_markets/lib/python3.8/site-packages/powerlaw.py:699: RuntimeWarning: invalid value encountered in divide\n",
      "  (CDF_diff**2) /\n",
      "Calculating best minimal value for power law fit\n",
      "/mnt/live/user/vlecoz/conda_env/money_markets/lib/python3.8/site-packages/powerlaw.py:699: RuntimeWarning: invalid value encountered in divide\n",
      "  (CDF_diff**2) /\n",
      "Calculating best minimal value for power law fit\n",
      "/mnt/live/user/vlecoz/conda_env/money_markets/lib/python3.8/site-packages/powerlaw.py:699: RuntimeWarning: invalid value encountered in divide\n",
      "  (CDF_diff**2) /\n",
      "Calculating best minimal value for power law fit\n",
      "/mnt/live/user/vlecoz/conda_env/money_markets/lib/python3.8/site-packages/powerlaw.py:699: RuntimeWarning: invalid value encountered in divide\n",
      "  (CDF_diff**2) /\n",
      "Calculating best minimal value for power law fit\n",
      "/mnt/live/user/vlecoz/conda_env/money_markets/lib/python3.8/site-packages/powerlaw.py:699: RuntimeWarning: invalid value encountered in divide\n",
      "  (CDF_diff**2) /\n",
      "Calculating best minimal value for power law fit\n",
      "/mnt/live/user/vlecoz/conda_env/money_markets/lib/python3.8/site-packages/powerlaw.py:699: RuntimeWarning: invalid value encountered in divide\n",
      "  (CDF_diff**2) /\n",
      "Calculating best minimal value for power law fit\n",
      "/mnt/live/user/vlecoz/conda_env/money_markets/lib/python3.8/site-packages/powerlaw.py:699: RuntimeWarning: invalid value encountered in divide\n",
      "  (CDF_diff**2) /\n",
      "Calculating best minimal value for power law fit\n",
      "/mnt/live/user/vlecoz/conda_env/money_markets/lib/python3.8/site-packages/powerlaw.py:699: RuntimeWarning: invalid value encountered in divide\n",
      "  (CDF_diff**2) /\n",
      "Calculating best minimal value for power law fit\n",
      "/mnt/live/user/vlecoz/conda_env/money_markets/lib/python3.8/site-packages/powerlaw.py:699: RuntimeWarning: invalid value encountered in divide\n",
      "  (CDF_diff**2) /\n",
      "Calculating best minimal value for power law fit\n",
      "/mnt/live/user/vlecoz/conda_env/money_markets/lib/python3.8/site-packages/powerlaw.py:699: RuntimeWarning: invalid value encountered in divide\n",
      "  (CDF_diff**2) /\n",
      "Calculating best minimal value for power law fit\n",
      "/mnt/live/user/vlecoz/conda_env/money_markets/lib/python3.8/site-packages/powerlaw.py:699: RuntimeWarning: invalid value encountered in divide\n",
      "  (CDF_diff**2) /\n",
      "Calculating best minimal value for power law fit\n",
      "/mnt/live/user/vlecoz/conda_env/money_markets/lib/python3.8/site-packages/powerlaw.py:699: RuntimeWarning: invalid value encountered in divide\n",
      "  (CDF_diff**2) /\n",
      "Calculating best minimal value for power law fit\n",
      "/mnt/live/user/vlecoz/conda_env/money_markets/lib/python3.8/site-packages/powerlaw.py:699: RuntimeWarning: invalid value encountered in divide\n",
      "  (CDF_diff**2) /\n",
      "Calculating best minimal value for power law fit\n",
      "/mnt/live/user/vlecoz/conda_env/money_markets/lib/python3.8/site-packages/powerlaw.py:699: RuntimeWarning: invalid value encountered in divide\n",
      "  (CDF_diff**2) /\n",
      "Calculating best minimal value for power law fit\n",
      "/mnt/live/user/vlecoz/conda_env/money_markets/lib/python3.8/site-packages/powerlaw.py:699: RuntimeWarning: invalid value encountered in divide\n",
      "  (CDF_diff**2) /\n",
      "Calculating best minimal value for power law fit\n",
      "/mnt/live/user/vlecoz/conda_env/money_markets/lib/python3.8/site-packages/powerlaw.py:699: RuntimeWarning: invalid value encountered in divide\n",
      "  (CDF_diff**2) /\n",
      "Calculating best minimal value for power law fit\n",
      "/mnt/live/user/vlecoz/conda_env/money_markets/lib/python3.8/site-packages/powerlaw.py:699: RuntimeWarning: invalid value encountered in divide\n",
      "  (CDF_diff**2) /\n",
      "Calculating best minimal value for power law fit\n",
      "/mnt/live/user/vlecoz/conda_env/money_markets/lib/python3.8/site-packages/powerlaw.py:699: RuntimeWarning: invalid value encountered in divide\n",
      "  (CDF_diff**2) /\n",
      "Calculating best minimal value for power law fit\n",
      "/mnt/live/user/vlecoz/conda_env/money_markets/lib/python3.8/site-packages/powerlaw.py:699: RuntimeWarning: invalid value encountered in divide\n",
      "  (CDF_diff**2) /\n",
      "Calculating best minimal value for power law fit\n",
      "/mnt/live/user/vlecoz/conda_env/money_markets/lib/python3.8/site-packages/powerlaw.py:699: RuntimeWarning: invalid value encountered in divide\n",
      "  (CDF_diff**2) /\n",
      "Calculating best minimal value for power law fit\n",
      "/mnt/live/user/vlecoz/conda_env/money_markets/lib/python3.8/site-packages/powerlaw.py:699: RuntimeWarning: invalid value encountered in divide\n",
      "  (CDF_diff**2) /\n",
      "Calculating best minimal value for power law fit\n",
      "/mnt/live/user/vlecoz/conda_env/money_markets/lib/python3.8/site-packages/powerlaw.py:699: RuntimeWarning: invalid value encountered in divide\n",
      "  (CDF_diff**2) /\n",
      "Calculating best minimal value for power law fit\n",
      "/mnt/live/user/vlecoz/conda_env/money_markets/lib/python3.8/site-packages/powerlaw.py:699: RuntimeWarning: invalid value encountered in divide\n",
      "  (CDF_diff**2) /\n",
      "Calculating best minimal value for power law fit\n",
      "/mnt/live/user/vlecoz/conda_env/money_markets/lib/python3.8/site-packages/powerlaw.py:699: RuntimeWarning: invalid value encountered in divide\n",
      "  (CDF_diff**2) /\n",
      "Calculating best minimal value for power law fit\n",
      "/mnt/live/user/vlecoz/conda_env/money_markets/lib/python3.8/site-packages/powerlaw.py:699: RuntimeWarning: invalid value encountered in divide\n",
      "  (CDF_diff**2) /\n",
      "Calculating best minimal value for power law fit\n",
      "/mnt/live/user/vlecoz/conda_env/money_markets/lib/python3.8/site-packages/powerlaw.py:699: RuntimeWarning: invalid value encountered in divide\n",
      "  (CDF_diff**2) /\n",
      "Calculating best minimal value for power law fit\n",
      "/mnt/live/user/vlecoz/conda_env/money_markets/lib/python3.8/site-packages/powerlaw.py:699: RuntimeWarning: invalid value encountered in divide\n",
      "  (CDF_diff**2) /\n",
      "Calculating best minimal value for power law fit\n",
      "/mnt/live/user/vlecoz/conda_env/money_markets/lib/python3.8/site-packages/powerlaw.py:699: RuntimeWarning: invalid value encountered in divide\n",
      "  (CDF_diff**2) /\n",
      "Calculating best minimal value for power law fit\n",
      "/mnt/live/user/vlecoz/conda_env/money_markets/lib/python3.8/site-packages/powerlaw.py:699: RuntimeWarning: invalid value encountered in divide\n",
      "  (CDF_diff**2) /\n",
      "Calculating best minimal value for power law fit\n",
      "/mnt/live/user/vlecoz/conda_env/money_markets/lib/python3.8/site-packages/powerlaw.py:699: RuntimeWarning: invalid value encountered in divide\n",
      "  (CDF_diff**2) /\n",
      "Calculating best minimal value for power law fit\n",
      "/mnt/live/user/vlecoz/conda_env/money_markets/lib/python3.8/site-packages/powerlaw.py:699: RuntimeWarning: invalid value encountered in divide\n",
      "  (CDF_diff**2) /\n",
      "/mnt/live/user/vlecoz/conda_env/money_markets/lib/python3.8/site-packages/powerlaw.py:699: RuntimeWarning: divide by zero encountered in divide\n",
      "  (CDF_diff**2) /\n",
      "Calculating best minimal value for power law fit\n",
      "/mnt/live/user/vlecoz/conda_env/money_markets/lib/python3.8/site-packages/powerlaw.py:699: RuntimeWarning: invalid value encountered in divide\n",
      "  (CDF_diff**2) /\n",
      "Calculating best minimal value for power law fit\n",
      "/mnt/live/user/vlecoz/conda_env/money_markets/lib/python3.8/site-packages/powerlaw.py:699: RuntimeWarning: invalid value encountered in divide\n",
      "  (CDF_diff**2) /\n",
      "Calculating best minimal value for power law fit\n",
      "/mnt/live/user/vlecoz/conda_env/money_markets/lib/python3.8/site-packages/powerlaw.py:699: RuntimeWarning: invalid value encountered in divide\n",
      "  (CDF_diff**2) /\n",
      "Calculating best minimal value for power law fit\n",
      "/mnt/live/user/vlecoz/conda_env/money_markets/lib/python3.8/site-packages/powerlaw.py:699: RuntimeWarning: invalid value encountered in divide\n",
      "  (CDF_diff**2) /\n",
      "Calculating best minimal value for power law fit\n",
      "/mnt/live/user/vlecoz/conda_env/money_markets/lib/python3.8/site-packages/powerlaw.py:699: RuntimeWarning: invalid value encountered in divide\n",
      "  (CDF_diff**2) /\n",
      "/mnt/live/user/vlecoz/conda_env/money_markets/lib/python3.8/site-packages/powerlaw.py:699: RuntimeWarning: divide by zero encountered in divide\n",
      "  (CDF_diff**2) /\n",
      "Calculating best minimal value for power law fit\n",
      "/mnt/live/user/vlecoz/conda_env/money_markets/lib/python3.8/site-packages/powerlaw.py:699: RuntimeWarning: invalid value encountered in divide\n",
      "  (CDF_diff**2) /\n",
      "Calculating best minimal value for power law fit\n",
      "/mnt/live/user/vlecoz/conda_env/money_markets/lib/python3.8/site-packages/powerlaw.py:699: RuntimeWarning: invalid value encountered in divide\n",
      "  (CDF_diff**2) /\n",
      "/mnt/live/user/vlecoz/conda_env/money_markets/lib/python3.8/site-packages/powerlaw.py:699: RuntimeWarning: divide by zero encountered in divide\n",
      "  (CDF_diff**2) /\n",
      "Calculating best minimal value for power law fit\n",
      "/mnt/live/user/vlecoz/conda_env/money_markets/lib/python3.8/site-packages/powerlaw.py:699: RuntimeWarning: invalid value encountered in divide\n",
      "  (CDF_diff**2) /\n",
      "Calculating best minimal value for power law fit\n",
      "/mnt/live/user/vlecoz/conda_env/money_markets/lib/python3.8/site-packages/powerlaw.py:699: RuntimeWarning: invalid value encountered in divide\n",
      "  (CDF_diff**2) /\n",
      "Calculating best minimal value for power law fit\n",
      "/mnt/live/user/vlecoz/conda_env/money_markets/lib/python3.8/site-packages/powerlaw.py:699: RuntimeWarning: invalid value encountered in divide\n",
      "  (CDF_diff**2) /\n",
      "Calculating best minimal value for power law fit\n",
      "/mnt/live/user/vlecoz/conda_env/money_markets/lib/python3.8/site-packages/powerlaw.py:699: RuntimeWarning: invalid value encountered in divide\n",
      "  (CDF_diff**2) /\n",
      "Calculating best minimal value for power law fit\n",
      "/mnt/live/user/vlecoz/conda_env/money_markets/lib/python3.8/site-packages/powerlaw.py:699: RuntimeWarning: invalid value encountered in divide\n",
      "  (CDF_diff**2) /\n",
      "Calculating best minimal value for power law fit\n",
      "/mnt/live/user/vlecoz/conda_env/money_markets/lib/python3.8/site-packages/powerlaw.py:699: RuntimeWarning: invalid value encountered in divide\n",
      "  (CDF_diff**2) /\n",
      "Calculating best minimal value for power law fit\n",
      "/mnt/live/user/vlecoz/conda_env/money_markets/lib/python3.8/site-packages/powerlaw.py:699: RuntimeWarning: invalid value encountered in divide\n",
      "  (CDF_diff**2) /\n",
      "Calculating best minimal value for power law fit\n",
      "/mnt/live/user/vlecoz/conda_env/money_markets/lib/python3.8/site-packages/powerlaw.py:699: RuntimeWarning: invalid value encountered in divide\n",
      "  (CDF_diff**2) /\n",
      "Calculating best minimal value for power law fit\n",
      "/mnt/live/user/vlecoz/conda_env/money_markets/lib/python3.8/site-packages/powerlaw.py:699: RuntimeWarning: invalid value encountered in divide\n",
      "  (CDF_diff**2) /\n",
      "Calculating best minimal value for power law fit\n",
      "/mnt/live/user/vlecoz/conda_env/money_markets/lib/python3.8/site-packages/powerlaw.py:699: RuntimeWarning: invalid value encountered in divide\n",
      "  (CDF_diff**2) /\n",
      "Calculating best minimal value for power law fit\n",
      "/mnt/live/user/vlecoz/conda_env/money_markets/lib/python3.8/site-packages/powerlaw.py:699: RuntimeWarning: invalid value encountered in divide\n",
      "  (CDF_diff**2) /\n",
      "Calculating best minimal value for power law fit\n",
      "/mnt/live/user/vlecoz/conda_env/money_markets/lib/python3.8/site-packages/powerlaw.py:699: RuntimeWarning: invalid value encountered in divide\n",
      "  (CDF_diff**2) /\n"
     ]
    }
   ],
   "source": [
    "# distribution of deposits relative variation across time for each single bank\n",
    "df_deposits_variations_by_bank = em.get_df_deposits_variations_by_bank(df_delta_deposits, df_relative_deposits, df_delta_deposits_over_assets, f\"{path}/accounting_view/dynamic/\")\n",
    "\n",
    "df = df_deposits_variations_by_bank[df_deposits_variations_by_bank>0]\n",
    "em.run_n_plot_powerlaw(df,f\"{path}accounting_view/dynamic/per_bank/positive/\")\n",
    "\n",
    "df = -df_deposits_variations_by_bank[df_deposits_variations_by_bank<0]\n",
    "em.run_n_plot_powerlaw(df,f\"{path}accounting_view/dynamic/per_bank/negative/\")"
   ]
  },
  {
   "attachments": {},
   "cell_type": "markdown",
   "id": "82f6c566",
   "metadata": {},
   "source": [
    "#### C - mixed view across time and banks"
   ]
  },
  {
   "cell_type": "code",
   "execution_count": 11,
   "id": "9f0875d2",
   "metadata": {},
   "outputs": [
    {
     "name": "stdout",
     "output_type": "stream",
     "text": [
      "get df_deposits_variation\n"
     ]
    },
    {
     "name": "stderr",
     "output_type": "stream",
     "text": [
      "Calculating best minimal value for power law fit\n",
      "/mnt/live/user/vlecoz/conda_env/money_markets/lib/python3.8/site-packages/powerlaw.py:699: RuntimeWarning: invalid value encountered in divide\n",
      "  (CDF_diff**2) /\n",
      "Calculating best minimal value for power law fit\n",
      "/mnt/live/user/vlecoz/conda_env/money_markets/lib/python3.8/site-packages/powerlaw.py:699: RuntimeWarning: invalid value encountered in divide\n",
      "  (CDF_diff**2) /\n"
     ]
    }
   ],
   "source": [
    "# distribution of deposits relative variation across time for each single bank\n",
    "df_deposits_variations = em.get_df_deposits_variations(df_delta_deposits, df_relative_deposits, df_delta_deposits_over_assets, f\"{path}/accounting_view/mixed/\")\n",
    "\n",
    "df = df_deposits_variations[df_deposits_variations>0]\n",
    "em.run_n_plot_powerlaw(df,f\"{path}accounting_view/mixed/positive/\")\n",
    "\n",
    "df = -df_deposits_variations[df_deposits_variations<0]\n",
    "em.run_n_plot_powerlaw(df,f\"{path}accounting_view/mixed/negative/\")"
   ]
  },
  {
   "attachments": {},
   "cell_type": "markdown",
   "id": "179a84a8",
   "metadata": {},
   "source": [
    "## 2.2. exposure view"
   ]
  },
  {
   "cell_type": "code",
   "execution_count": 12,
   "id": "e3be6955",
   "metadata": {},
   "outputs": [],
   "source": [
    "os.makedirs(f\"{path}exposure_view/\", exist_ok=True)"
   ]
  },
  {
   "attachments": {},
   "cell_type": "markdown",
   "id": "d20f818d",
   "metadata": {},
   "source": [
    "### 2.2.1 jaccard"
   ]
  },
  {
   "cell_type": "code",
   "execution_count": 13,
   "id": "af67a20c",
   "metadata": {},
   "outputs": [
    {
     "name": "stdout",
     "output_type": "stream",
     "text": [
      "get jaccard\n"
     ]
    },
    {
     "name": "stderr",
     "output_type": "stream",
     "text": [
      "100%|██████████| 8828/8828 [00:02<00:00, 4282.85it/s]\n"
     ]
    }
   ],
   "source": [
    "days = list(dic_rev_repo_exp_adj.keys())\n",
    "\n",
    "# get jaccard\n",
    "df_jaccard = em.get_rev_repo_exposure_stats(dic_arr_binary_adj, days, path=path)\n",
    "gx.plot_network_trajectory(\n",
    "            df=df_jaccard,\n",
    "            cols=df_jaccard.columns,\n",
    "            file_name=f\"{path}exposure_view/jaccard_index.pdf\")"
   ]
  },
  {
   "attachments": {},
   "cell_type": "markdown",
   "id": "62a3fac4",
   "metadata": {},
   "source": [
    "### 2.2.2 density"
   ]
  },
  {
   "cell_type": "code",
   "execution_count": 14,
   "id": "758c5661",
   "metadata": {},
   "outputs": [
    {
     "name": "stdout",
     "output_type": "stream",
     "text": [
      "get density\n"
     ]
    },
    {
     "name": "stderr",
     "output_type": "stream",
     "text": [
      "100%|██████████| 8828/8828 [00:01<00:00, 4429.43it/s]\n"
     ]
    }
   ],
   "source": [
    "days = list(dic_rev_repo_exp_adj.keys())\n",
    "\n",
    "# get density\n",
    "df_density = em.get_density(dic_arr_binary_adj, days, path=path)\n",
    "gx.plot_network_trajectory(\n",
    "            df=df_density,\n",
    "            cols=df_density.columns,\n",
    "            file_name=f\"{path}exposure_view/network_density.pdf\",\n",
    "        )"
   ]
  },
  {
   "attachments": {},
   "cell_type": "markdown",
   "id": "848fc0f1",
   "metadata": {},
   "source": [
    "### 2.2.3 degree distribution  (static)"
   ]
  },
  {
   "cell_type": "code",
   "execution_count": 15,
   "id": "e1538f0b",
   "metadata": {},
   "outputs": [
    {
     "name": "stdout",
     "output_type": "stream",
     "text": [
      "get degree distribution\n"
     ]
    },
    {
     "name": "stderr",
     "output_type": "stream",
     "text": [
      "100%|██████████| 8829/8829 [00:05<00:00, 1598.11it/s]\n"
     ]
    }
   ],
   "source": [
    "days = list(dic_rev_repo_exp_adj.keys())\n",
    "\n",
    "# get degree distribution\n",
    "dic_in_degree, dic_out_degree, dic_degree = em.get_degree_distribution(dic_arr_binary_adj, path=f\"{path}exposure_view/degree_distribution/\")\n",
    "gx.plot_degree_distribution(dic_in_degree,\n",
    "    dic_out_degree,\n",
    "    days,\n",
    "    plot_period,\n",
    "    f\"{path}exposure_view/degree_distribution/\")\n"
   ]
  },
  {
   "attachments": {},
   "cell_type": "markdown",
   "id": "c03fafc7",
   "metadata": {},
   "source": [
    "### 2.2.4 degree stats"
   ]
  },
  {
   "cell_type": "code",
   "execution_count": 16,
   "id": "c3bc10a5",
   "metadata": {},
   "outputs": [
    {
     "name": "stdout",
     "output_type": "stream",
     "text": [
      "get degree stats\n"
     ]
    },
    {
     "name": "stderr",
     "output_type": "stream",
     "text": [
      "100%|██████████| 8828/8828 [00:06<00:00, 1379.10it/s]\n"
     ]
    }
   ],
   "source": [
    "days = list(dic_rev_repo_exp_adj.keys())\n",
    "\n",
    "# get av. degree\n",
    "df_degree_stats = em.get_degree_stats(dic_degree, days, path=path)\n",
    "gx.plot_network_trajectory(\n",
    "            df=df_degree_stats,\n",
    "            cols=df_degree_stats.columns,\n",
    "            file_name=f\"{path}exposure_view/degree_stats.pdf\",\n",
    "        )"
   ]
  },
  {
   "attachments": {},
   "cell_type": "markdown",
   "id": "211bf04f",
   "metadata": {},
   "source": [
    "### 2.2.5 degree per asset"
   ]
  },
  {
   "cell_type": "code",
   "execution_count": 17,
   "id": "f8f633a4",
   "metadata": {},
   "outputs": [],
   "source": [
    "days = list(dic_rev_repo_exp_adj.keys())\n",
    "bank_ids = list(dic_rev_repo_exp_adj.values())[0].index\n",
    "\n",
    "# select the days and banks (common between the 2 lists)\n",
    "finrep_days = list(df_finrep_clean[\"date\"])\n",
    "finrep_bank_ids = list(set(df_finrep_clean[\"lei\"]))\n",
    "plot_days = fct.list_intersection(days, finrep_days)\n",
    "\n",
    "# plot\n",
    "gx.plot_degree_per_asset(\n",
    "    dic_dashed_trajectory,\n",
    "    dic_degree,\n",
    "    bank_ids,\n",
    "    days,\n",
    "    plot_period,\n",
    "    f\"{path}exposure_view/degree_per_asset/\",\n",
    "    plot_days=plot_days,\n",
    "    finrep_bank_ids=finrep_bank_ids)"
   ]
  },
  {
   "attachments": {},
   "cell_type": "markdown",
   "id": "62af12bc",
   "metadata": {},
   "source": [
    "### 2.2.6 network plots (static)"
   ]
  },
  {
   "cell_type": "code",
   "execution_count": 6,
   "id": "86ba13d3",
   "metadata": {},
   "outputs": [],
   "source": [
    "days = list(dic_rev_repo_exp_adj.keys())\n",
    "bank_ids = list(list(dic_rev_repo_exp_adj.values())[0].index)\n",
    "arr_rev_repo_exp_adj = ep.convert_dic_to_array(dic_rev_repo_exp_adj)\n",
    "plot_days = fct.list_intersection(days, dic_dashed_trajectory.keys())\n",
    "\n",
    "# plot the reverse repo network\n",
    "gx.plot_weighted_adj_network(\n",
    "    arr_rev_repo_exp_adj,\n",
    "    dic_dashed_trajectory,\n",
    "    days,\n",
    "    plot_period,\n",
    "    f\"{path}exposure_view/weighted_adj_network/\",\n",
    "    \"reverse repo\",\n",
    "    bank_ids=bank_ids,\n",
    "    plot_days=plot_days,\n",
    ")"
   ]
  },
  {
   "attachments": {},
   "cell_type": "markdown",
   "id": "3bc2c133",
   "metadata": {},
   "source": [
    "### 2.2.6 core periphery (static)"
   ]
  },
  {
   "cell_type": "code",
   "execution_count": 3,
   "id": "394414ed",
   "metadata": {},
   "outputs": [
    {
     "name": "stdout",
     "output_type": "stream",
     "text": [
      "run core-periphery tests\n"
     ]
    },
    {
     "name": "stderr",
     "output_type": "stream",
     "text": [
      "  0%|          | 0/5 [00:00<?, ?it/s]"
     ]
    },
    {
     "name": "stdout",
     "output_type": "stream",
     "text": [
      "core-periphery tests using the KM_ER approach\n",
      "test on day 2000-01-03 00:00:00\n"
     ]
    },
    {
     "name": "stderr",
     "output_type": "stream",
     "text": [
      "c:\\Users\\VictorLeCoz\\Anaconda3\\envs\\interbank_network\\lib\\site-packages\\cpnet\\utils.py:20: FutureWarning: adjacency_matrix will return a scipy.sparse array instead of a matrix in Networkx 3.0.\n",
      "  sparse.csr_matrix(nx.adjacency_matrix(net), dtype=np.float64),\n",
      "c:\\Users\\VictorLeCoz\\Anaconda3\\envs\\interbank_network\\lib\\site-packages\\cpnet\\qstest.py:96: FutureWarning: adjacency_matrix will return a scipy.sparse array instead of a matrix in Networkx 3.0.\n",
      "  A = nx.adjacency_matrix(G)\n"
     ]
    },
    {
     "name": "stdout",
     "output_type": "stream",
     "text": [
      "test on day 2002-09-29 00:00:00\n"
     ]
    },
    {
     "name": "stderr",
     "output_type": "stream",
     "text": [
      "c:\\Users\\VictorLeCoz\\Anaconda3\\envs\\interbank_network\\lib\\site-packages\\cpnet\\qstest.py:35: FutureWarning: adjacency_matrix will return a scipy.sparse array instead of a matrix in Networkx 3.0.\n",
      "  Ar = sparse.csr_matrix(nx.adjacency_matrix(Gr))\n",
      "100%|██████████| 100/100 [00:01<00:00, 60.42it/s]\n",
      "c:\\Users\\VictorLeCoz\\Anaconda3\\envs\\interbank_network\\lib\\site-packages\\cpnet\\utils.py:20: FutureWarning: adjacency_matrix will return a scipy.sparse array instead of a matrix in Networkx 3.0.\n",
      "  sparse.csr_matrix(nx.adjacency_matrix(net), dtype=np.float64),\n",
      "c:\\Users\\VictorLeCoz\\Anaconda3\\envs\\interbank_network\\lib\\site-packages\\cpnet\\qstest.py:96: FutureWarning: adjacency_matrix will return a scipy.sparse array instead of a matrix in Networkx 3.0.\n",
      "  A = nx.adjacency_matrix(G)\n"
     ]
    },
    {
     "name": "stdout",
     "output_type": "stream",
     "text": [
      "test on day 2005-06-25 00:00:00\n"
     ]
    },
    {
     "name": "stderr",
     "output_type": "stream",
     "text": [
      "c:\\Users\\VictorLeCoz\\Anaconda3\\envs\\interbank_network\\lib\\site-packages\\cpnet\\qstest.py:35: FutureWarning: adjacency_matrix will return a scipy.sparse array instead of a matrix in Networkx 3.0.\n",
      "  Ar = sparse.csr_matrix(nx.adjacency_matrix(Gr))\n",
      "100%|██████████| 100/100 [00:01<00:00, 52.66it/s]\n",
      "c:\\Users\\VictorLeCoz\\Anaconda3\\envs\\interbank_network\\lib\\site-packages\\cpnet\\utils.py:20: FutureWarning: adjacency_matrix will return a scipy.sparse array instead of a matrix in Networkx 3.0.\n",
      "  sparse.csr_matrix(nx.adjacency_matrix(net), dtype=np.float64),\n",
      "c:\\Users\\VictorLeCoz\\Anaconda3\\envs\\interbank_network\\lib\\site-packages\\cpnet\\qstest.py:96: FutureWarning: adjacency_matrix will return a scipy.sparse array instead of a matrix in Networkx 3.0.\n",
      "  A = nx.adjacency_matrix(G)\n"
     ]
    },
    {
     "name": "stdout",
     "output_type": "stream",
     "text": [
      "test on day 2008-03-21 00:00:00\n"
     ]
    },
    {
     "name": "stderr",
     "output_type": "stream",
     "text": [
      "c:\\Users\\VictorLeCoz\\Anaconda3\\envs\\interbank_network\\lib\\site-packages\\cpnet\\qstest.py:35: FutureWarning: adjacency_matrix will return a scipy.sparse array instead of a matrix in Networkx 3.0.\n",
      "  Ar = sparse.csr_matrix(nx.adjacency_matrix(Gr))\n",
      "100%|██████████| 100/100 [00:02<00:00, 44.40it/s]\n",
      "c:\\Users\\VictorLeCoz\\Anaconda3\\envs\\interbank_network\\lib\\site-packages\\cpnet\\utils.py:20: FutureWarning: adjacency_matrix will return a scipy.sparse array instead of a matrix in Networkx 3.0.\n",
      "  sparse.csr_matrix(nx.adjacency_matrix(net), dtype=np.float64),\n",
      "c:\\Users\\VictorLeCoz\\Anaconda3\\envs\\interbank_network\\lib\\site-packages\\cpnet\\qstest.py:96: FutureWarning: adjacency_matrix will return a scipy.sparse array instead of a matrix in Networkx 3.0.\n",
      "  A = nx.adjacency_matrix(G)\n"
     ]
    },
    {
     "name": "stdout",
     "output_type": "stream",
     "text": [
      "test on day 2010-12-16 00:00:00\n"
     ]
    },
    {
     "name": "stderr",
     "output_type": "stream",
     "text": [
      "c:\\Users\\VictorLeCoz\\Anaconda3\\envs\\interbank_network\\lib\\site-packages\\cpnet\\qstest.py:35: FutureWarning: adjacency_matrix will return a scipy.sparse array instead of a matrix in Networkx 3.0.\n",
      "  Ar = sparse.csr_matrix(nx.adjacency_matrix(Gr))\n",
      "100%|██████████| 100/100 [00:02<00:00, 43.18it/s]\n",
      "c:\\Users\\VictorLeCoz\\Anaconda3\\envs\\interbank_network\\lib\\site-packages\\cpnet\\utils.py:20: FutureWarning: adjacency_matrix will return a scipy.sparse array instead of a matrix in Networkx 3.0.\n",
      "  sparse.csr_matrix(nx.adjacency_matrix(net), dtype=np.float64),\n",
      "c:\\Users\\VictorLeCoz\\Anaconda3\\envs\\interbank_network\\lib\\site-packages\\cpnet\\qstest.py:96: FutureWarning: adjacency_matrix will return a scipy.sparse array instead of a matrix in Networkx 3.0.\n",
      "  A = nx.adjacency_matrix(G)\n"
     ]
    },
    {
     "name": "stdout",
     "output_type": "stream",
     "text": [
      "test on day 2013-09-11 00:00:00\n"
     ]
    },
    {
     "name": "stderr",
     "output_type": "stream",
     "text": [
      "c:\\Users\\VictorLeCoz\\Anaconda3\\envs\\interbank_network\\lib\\site-packages\\cpnet\\qstest.py:35: FutureWarning: adjacency_matrix will return a scipy.sparse array instead of a matrix in Networkx 3.0.\n",
      "  Ar = sparse.csr_matrix(nx.adjacency_matrix(Gr))\n",
      "100%|██████████| 100/100 [00:02<00:00, 40.87it/s]\n",
      "c:\\Users\\VictorLeCoz\\Anaconda3\\envs\\interbank_network\\lib\\site-packages\\cpnet\\utils.py:20: FutureWarning: adjacency_matrix will return a scipy.sparse array instead of a matrix in Networkx 3.0.\n",
      "  sparse.csr_matrix(nx.adjacency_matrix(net), dtype=np.float64),\n",
      "c:\\Users\\VictorLeCoz\\Anaconda3\\envs\\interbank_network\\lib\\site-packages\\cpnet\\qstest.py:96: FutureWarning: adjacency_matrix will return a scipy.sparse array instead of a matrix in Networkx 3.0.\n",
      "  A = nx.adjacency_matrix(G)\n"
     ]
    },
    {
     "name": "stdout",
     "output_type": "stream",
     "text": [
      "test on day 2016-06-07 00:00:00\n"
     ]
    },
    {
     "name": "stderr",
     "output_type": "stream",
     "text": [
      "c:\\Users\\VictorLeCoz\\Anaconda3\\envs\\interbank_network\\lib\\site-packages\\cpnet\\qstest.py:35: FutureWarning: adjacency_matrix will return a scipy.sparse array instead of a matrix in Networkx 3.0.\n",
      "  Ar = sparse.csr_matrix(nx.adjacency_matrix(Gr))\n",
      "100%|██████████| 100/100 [00:02<00:00, 35.19it/s]\n",
      "c:\\Users\\VictorLeCoz\\Anaconda3\\envs\\interbank_network\\lib\\site-packages\\cpnet\\utils.py:20: FutureWarning: adjacency_matrix will return a scipy.sparse array instead of a matrix in Networkx 3.0.\n",
      "  sparse.csr_matrix(nx.adjacency_matrix(net), dtype=np.float64),\n",
      "c:\\Users\\VictorLeCoz\\Anaconda3\\envs\\interbank_network\\lib\\site-packages\\cpnet\\qstest.py:96: FutureWarning: adjacency_matrix will return a scipy.sparse array instead of a matrix in Networkx 3.0.\n",
      "  A = nx.adjacency_matrix(G)\n"
     ]
    },
    {
     "name": "stdout",
     "output_type": "stream",
     "text": [
      "test on day 2019-03-04 00:00:00\n"
     ]
    },
    {
     "name": "stderr",
     "output_type": "stream",
     "text": [
      "c:\\Users\\VictorLeCoz\\Anaconda3\\envs\\interbank_network\\lib\\site-packages\\cpnet\\qstest.py:35: FutureWarning: adjacency_matrix will return a scipy.sparse array instead of a matrix in Networkx 3.0.\n",
      "  Ar = sparse.csr_matrix(nx.adjacency_matrix(Gr))\n",
      "100%|██████████| 100/100 [00:02<00:00, 46.23it/s]\n",
      "c:\\Users\\VictorLeCoz\\Anaconda3\\envs\\interbank_network\\lib\\site-packages\\cpnet\\utils.py:20: FutureWarning: adjacency_matrix will return a scipy.sparse array instead of a matrix in Networkx 3.0.\n",
      "  sparse.csr_matrix(nx.adjacency_matrix(net), dtype=np.float64),\n",
      "c:\\Users\\VictorLeCoz\\Anaconda3\\envs\\interbank_network\\lib\\site-packages\\cpnet\\qstest.py:96: FutureWarning: adjacency_matrix will return a scipy.sparse array instead of a matrix in Networkx 3.0.\n",
      "  A = nx.adjacency_matrix(G)\n"
     ]
    },
    {
     "name": "stdout",
     "output_type": "stream",
     "text": [
      "test on day 2021-11-28 00:00:00\n"
     ]
    },
    {
     "name": "stderr",
     "output_type": "stream",
     "text": [
      "c:\\Users\\VictorLeCoz\\Anaconda3\\envs\\interbank_network\\lib\\site-packages\\cpnet\\qstest.py:35: FutureWarning: adjacency_matrix will return a scipy.sparse array instead of a matrix in Networkx 3.0.\n",
      "  Ar = sparse.csr_matrix(nx.adjacency_matrix(Gr))\n",
      "100%|██████████| 100/100 [00:02<00:00, 42.05it/s]\n",
      "c:\\Users\\VictorLeCoz\\Anaconda3\\envs\\interbank_network\\lib\\site-packages\\cpnet\\utils.py:20: FutureWarning: adjacency_matrix will return a scipy.sparse array instead of a matrix in Networkx 3.0.\n",
      "  sparse.csr_matrix(nx.adjacency_matrix(net), dtype=np.float64),\n",
      "c:\\Users\\VictorLeCoz\\Anaconda3\\envs\\interbank_network\\lib\\site-packages\\cpnet\\qstest.py:96: FutureWarning: adjacency_matrix will return a scipy.sparse array instead of a matrix in Networkx 3.0.\n",
      "  A = nx.adjacency_matrix(G)\n"
     ]
    },
    {
     "name": "stdout",
     "output_type": "stream",
     "text": [
      "test on day 2024-02-19 00:00:00\n"
     ]
    },
    {
     "name": "stderr",
     "output_type": "stream",
     "text": [
      "c:\\Users\\VictorLeCoz\\Anaconda3\\envs\\interbank_network\\lib\\site-packages\\cpnet\\qstest.py:35: FutureWarning: adjacency_matrix will return a scipy.sparse array instead of a matrix in Networkx 3.0.\n",
      "  Ar = sparse.csr_matrix(nx.adjacency_matrix(Gr))\n",
      "  8%|▊         | 8/100 [00:00<00:00, 254.28it/s]\n",
      "c:\\Users\\VictorLeCoz\\Anaconda3\\envs\\interbank_network\\lib\\site-packages\\cpnet\\utils.py:20: FutureWarning: adjacency_matrix will return a scipy.sparse array instead of a matrix in Networkx 3.0.\n",
      "  sparse.csr_matrix(nx.adjacency_matrix(net), dtype=np.float64),\n",
      "c:\\Users\\VictorLeCoz\\Anaconda3\\envs\\interbank_network\\lib\\site-packages\\cpnet\\qstest.py:96: FutureWarning: adjacency_matrix will return a scipy.sparse array instead of a matrix in Networkx 3.0.\n",
      "  A = nx.adjacency_matrix(G)\n"
     ]
    },
    {
     "name": "stdout",
     "output_type": "stream",
     "text": [
      "core-periphery tests using the KM_config approach\n",
      "test on day 2000-01-03 00:00:00\n",
      "test on day 2002-09-29 00:00:00\n"
     ]
    },
    {
     "name": "stderr",
     "output_type": "stream",
     "text": [
      "c:\\Users\\VictorLeCoz\\Anaconda3\\envs\\interbank_network\\lib\\site-packages\\cpnet\\qstest.py:35: FutureWarning: adjacency_matrix will return a scipy.sparse array instead of a matrix in Networkx 3.0.\n",
      "  Ar = sparse.csr_matrix(nx.adjacency_matrix(Gr))\n",
      "100%|██████████| 100/100 [00:02<00:00, 45.42it/s]\n",
      "c:\\Users\\VictorLeCoz\\Anaconda3\\envs\\interbank_network\\lib\\site-packages\\cpnet\\utils.py:20: FutureWarning: adjacency_matrix will return a scipy.sparse array instead of a matrix in Networkx 3.0.\n",
      "  sparse.csr_matrix(nx.adjacency_matrix(net), dtype=np.float64),\n",
      "c:\\Users\\VictorLeCoz\\Anaconda3\\envs\\interbank_network\\lib\\site-packages\\cpnet\\qstest.py:96: FutureWarning: adjacency_matrix will return a scipy.sparse array instead of a matrix in Networkx 3.0.\n",
      "  A = nx.adjacency_matrix(G)\n"
     ]
    },
    {
     "name": "stdout",
     "output_type": "stream",
     "text": [
      "test on day 2005-06-25 00:00:00\n"
     ]
    },
    {
     "name": "stderr",
     "output_type": "stream",
     "text": [
      "c:\\Users\\VictorLeCoz\\Anaconda3\\envs\\interbank_network\\lib\\site-packages\\cpnet\\qstest.py:35: FutureWarning: adjacency_matrix will return a scipy.sparse array instead of a matrix in Networkx 3.0.\n",
      "  Ar = sparse.csr_matrix(nx.adjacency_matrix(Gr))\n",
      "100%|██████████| 100/100 [00:02<00:00, 49.08it/s]\n",
      "c:\\Users\\VictorLeCoz\\Anaconda3\\envs\\interbank_network\\lib\\site-packages\\cpnet\\utils.py:20: FutureWarning: adjacency_matrix will return a scipy.sparse array instead of a matrix in Networkx 3.0.\n",
      "  sparse.csr_matrix(nx.adjacency_matrix(net), dtype=np.float64),\n",
      "c:\\Users\\VictorLeCoz\\Anaconda3\\envs\\interbank_network\\lib\\site-packages\\cpnet\\qstest.py:96: FutureWarning: adjacency_matrix will return a scipy.sparse array instead of a matrix in Networkx 3.0.\n",
      "  A = nx.adjacency_matrix(G)\n"
     ]
    },
    {
     "name": "stdout",
     "output_type": "stream",
     "text": [
      "test on day 2008-03-21 00:00:00\n"
     ]
    },
    {
     "name": "stderr",
     "output_type": "stream",
     "text": [
      "c:\\Users\\VictorLeCoz\\Anaconda3\\envs\\interbank_network\\lib\\site-packages\\cpnet\\qstest.py:35: FutureWarning: adjacency_matrix will return a scipy.sparse array instead of a matrix in Networkx 3.0.\n",
      "  Ar = sparse.csr_matrix(nx.adjacency_matrix(Gr))\n",
      "100%|██████████| 100/100 [00:02<00:00, 45.15it/s]\n",
      "c:\\Users\\VictorLeCoz\\Anaconda3\\envs\\interbank_network\\lib\\site-packages\\cpnet\\utils.py:20: FutureWarning: adjacency_matrix will return a scipy.sparse array instead of a matrix in Networkx 3.0.\n",
      "  sparse.csr_matrix(nx.adjacency_matrix(net), dtype=np.float64),\n",
      "c:\\Users\\VictorLeCoz\\Anaconda3\\envs\\interbank_network\\lib\\site-packages\\cpnet\\qstest.py:96: FutureWarning: adjacency_matrix will return a scipy.sparse array instead of a matrix in Networkx 3.0.\n",
      "  A = nx.adjacency_matrix(G)\n"
     ]
    },
    {
     "name": "stdout",
     "output_type": "stream",
     "text": [
      "test on day 2010-12-16 00:00:00\n"
     ]
    },
    {
     "name": "stderr",
     "output_type": "stream",
     "text": [
      "c:\\Users\\VictorLeCoz\\Anaconda3\\envs\\interbank_network\\lib\\site-packages\\cpnet\\qstest.py:35: FutureWarning: adjacency_matrix will return a scipy.sparse array instead of a matrix in Networkx 3.0.\n",
      "  Ar = sparse.csr_matrix(nx.adjacency_matrix(Gr))\n",
      "100%|██████████| 100/100 [00:01<00:00, 62.91it/s]\n",
      "c:\\Users\\VictorLeCoz\\Anaconda3\\envs\\interbank_network\\lib\\site-packages\\cpnet\\utils.py:20: FutureWarning: adjacency_matrix will return a scipy.sparse array instead of a matrix in Networkx 3.0.\n",
      "  sparse.csr_matrix(nx.adjacency_matrix(net), dtype=np.float64),\n",
      "c:\\Users\\VictorLeCoz\\Anaconda3\\envs\\interbank_network\\lib\\site-packages\\cpnet\\qstest.py:96: FutureWarning: adjacency_matrix will return a scipy.sparse array instead of a matrix in Networkx 3.0.\n",
      "  A = nx.adjacency_matrix(G)\n"
     ]
    },
    {
     "name": "stdout",
     "output_type": "stream",
     "text": [
      "test on day 2013-09-11 00:00:00\n"
     ]
    },
    {
     "name": "stderr",
     "output_type": "stream",
     "text": [
      "c:\\Users\\VictorLeCoz\\Anaconda3\\envs\\interbank_network\\lib\\site-packages\\cpnet\\qstest.py:35: FutureWarning: adjacency_matrix will return a scipy.sparse array instead of a matrix in Networkx 3.0.\n",
      "  Ar = sparse.csr_matrix(nx.adjacency_matrix(Gr))\n",
      "100%|██████████| 100/100 [00:01<00:00, 54.63it/s]\n",
      "c:\\Users\\VictorLeCoz\\Anaconda3\\envs\\interbank_network\\lib\\site-packages\\cpnet\\utils.py:20: FutureWarning: adjacency_matrix will return a scipy.sparse array instead of a matrix in Networkx 3.0.\n",
      "  sparse.csr_matrix(nx.adjacency_matrix(net), dtype=np.float64),\n",
      "c:\\Users\\VictorLeCoz\\Anaconda3\\envs\\interbank_network\\lib\\site-packages\\cpnet\\qstest.py:96: FutureWarning: adjacency_matrix will return a scipy.sparse array instead of a matrix in Networkx 3.0.\n",
      "  A = nx.adjacency_matrix(G)\n"
     ]
    },
    {
     "name": "stdout",
     "output_type": "stream",
     "text": [
      "test on day 2016-06-07 00:00:00\n"
     ]
    },
    {
     "name": "stderr",
     "output_type": "stream",
     "text": [
      "c:\\Users\\VictorLeCoz\\Anaconda3\\envs\\interbank_network\\lib\\site-packages\\cpnet\\qstest.py:35: FutureWarning: adjacency_matrix will return a scipy.sparse array instead of a matrix in Networkx 3.0.\n",
      "  Ar = sparse.csr_matrix(nx.adjacency_matrix(Gr))\n",
      "100%|██████████| 100/100 [00:01<00:00, 75.98it/s]\n",
      "c:\\Users\\VictorLeCoz\\Anaconda3\\envs\\interbank_network\\lib\\site-packages\\cpnet\\utils.py:20: FutureWarning: adjacency_matrix will return a scipy.sparse array instead of a matrix in Networkx 3.0.\n",
      "  sparse.csr_matrix(nx.adjacency_matrix(net), dtype=np.float64),\n",
      "c:\\Users\\VictorLeCoz\\Anaconda3\\envs\\interbank_network\\lib\\site-packages\\cpnet\\qstest.py:96: FutureWarning: adjacency_matrix will return a scipy.sparse array instead of a matrix in Networkx 3.0.\n",
      "  A = nx.adjacency_matrix(G)\n"
     ]
    },
    {
     "name": "stdout",
     "output_type": "stream",
     "text": [
      "test on day 2019-03-04 00:00:00\n"
     ]
    },
    {
     "name": "stderr",
     "output_type": "stream",
     "text": [
      "c:\\Users\\VictorLeCoz\\Anaconda3\\envs\\interbank_network\\lib\\site-packages\\cpnet\\qstest.py:35: FutureWarning: adjacency_matrix will return a scipy.sparse array instead of a matrix in Networkx 3.0.\n",
      "  Ar = sparse.csr_matrix(nx.adjacency_matrix(Gr))\n",
      "100%|██████████| 100/100 [00:01<00:00, 79.42it/s]\n",
      "c:\\Users\\VictorLeCoz\\Anaconda3\\envs\\interbank_network\\lib\\site-packages\\cpnet\\utils.py:20: FutureWarning: adjacency_matrix will return a scipy.sparse array instead of a matrix in Networkx 3.0.\n",
      "  sparse.csr_matrix(nx.adjacency_matrix(net), dtype=np.float64),\n",
      "c:\\Users\\VictorLeCoz\\Anaconda3\\envs\\interbank_network\\lib\\site-packages\\cpnet\\qstest.py:96: FutureWarning: adjacency_matrix will return a scipy.sparse array instead of a matrix in Networkx 3.0.\n",
      "  A = nx.adjacency_matrix(G)\n"
     ]
    },
    {
     "name": "stdout",
     "output_type": "stream",
     "text": [
      "test on day 2021-11-28 00:00:00\n"
     ]
    },
    {
     "name": "stderr",
     "output_type": "stream",
     "text": [
      "c:\\Users\\VictorLeCoz\\Anaconda3\\envs\\interbank_network\\lib\\site-packages\\cpnet\\qstest.py:35: FutureWarning: adjacency_matrix will return a scipy.sparse array instead of a matrix in Networkx 3.0.\n",
      "  Ar = sparse.csr_matrix(nx.adjacency_matrix(Gr))\n",
      "100%|██████████| 100/100 [00:01<00:00, 80.98it/s]\n",
      "c:\\Users\\VictorLeCoz\\Anaconda3\\envs\\interbank_network\\lib\\site-packages\\cpnet\\utils.py:20: FutureWarning: adjacency_matrix will return a scipy.sparse array instead of a matrix in Networkx 3.0.\n",
      "  sparse.csr_matrix(nx.adjacency_matrix(net), dtype=np.float64),\n",
      "c:\\Users\\VictorLeCoz\\Anaconda3\\envs\\interbank_network\\lib\\site-packages\\cpnet\\qstest.py:96: FutureWarning: adjacency_matrix will return a scipy.sparse array instead of a matrix in Networkx 3.0.\n",
      "  A = nx.adjacency_matrix(G)\n"
     ]
    },
    {
     "name": "stdout",
     "output_type": "stream",
     "text": [
      "test on day 2024-02-19 00:00:00\n"
     ]
    },
    {
     "name": "stderr",
     "output_type": "stream",
     "text": [
      "c:\\Users\\VictorLeCoz\\Anaconda3\\envs\\interbank_network\\lib\\site-packages\\cpnet\\qstest.py:35: FutureWarning: adjacency_matrix will return a scipy.sparse array instead of a matrix in Networkx 3.0.\n",
      "  Ar = sparse.csr_matrix(nx.adjacency_matrix(Gr))\n",
      " 12%|█▏        | 12/100 [00:00<00:00, 314.23it/s]\n",
      "c:\\Users\\VictorLeCoz\\Anaconda3\\envs\\interbank_network\\lib\\site-packages\\cpnet\\utils.py:20: FutureWarning: adjacency_matrix will return a scipy.sparse array instead of a matrix in Networkx 3.0.\n",
      "  sparse.csr_matrix(nx.adjacency_matrix(net), dtype=np.float64),\n",
      "c:\\Users\\VictorLeCoz\\Anaconda3\\envs\\interbank_network\\lib\\site-packages\\cpnet\\qstest.py:96: FutureWarning: adjacency_matrix will return a scipy.sparse array instead of a matrix in Networkx 3.0.\n",
      "  A = nx.adjacency_matrix(G)\n"
     ]
    },
    {
     "name": "stdout",
     "output_type": "stream",
     "text": [
      "core-periphery tests using the Rombach approach\n",
      "test on day 2000-01-03 00:00:00\n"
     ]
    },
    {
     "name": "stderr",
     "output_type": "stream",
     "text": [
      "c:\\Users\\VictorLeCoz\\Anaconda3\\envs\\interbank_network\\lib\\site-packages\\cpnet\\qstest.py:35: FutureWarning: adjacency_matrix will return a scipy.sparse array instead of a matrix in Networkx 3.0.\n",
      "  Ar = sparse.csr_matrix(nx.adjacency_matrix(Gr))\n",
      "100%|██████████| 100/100 [00:03<00:00, 28.96it/s]\n"
     ]
    },
    {
     "name": "stdout",
     "output_type": "stream",
     "text": [
      "test on day 2002-09-29 00:00:00\n"
     ]
    },
    {
     "name": "stderr",
     "output_type": "stream",
     "text": [
      "100%|██████████| 100/100 [00:00<00:00, 361.43it/s]\n",
      "c:\\Users\\VictorLeCoz\\Anaconda3\\envs\\interbank_network\\lib\\site-packages\\cpnet\\utils.py:20: FutureWarning: adjacency_matrix will return a scipy.sparse array instead of a matrix in Networkx 3.0.\n",
      "  sparse.csr_matrix(nx.adjacency_matrix(net), dtype=np.float64),\n",
      "c:\\Users\\VictorLeCoz\\Anaconda3\\envs\\interbank_network\\lib\\site-packages\\cpnet\\qstest.py:96: FutureWarning: adjacency_matrix will return a scipy.sparse array instead of a matrix in Networkx 3.0.\n",
      "  A = nx.adjacency_matrix(G)\n"
     ]
    },
    {
     "name": "stdout",
     "output_type": "stream",
     "text": [
      "test on day 2005-06-25 00:00:00\n"
     ]
    },
    {
     "name": "stderr",
     "output_type": "stream",
     "text": [
      "c:\\Users\\VictorLeCoz\\Anaconda3\\envs\\interbank_network\\lib\\site-packages\\cpnet\\qstest.py:35: FutureWarning: adjacency_matrix will return a scipy.sparse array instead of a matrix in Networkx 3.0.\n",
      "  Ar = sparse.csr_matrix(nx.adjacency_matrix(Gr))\n",
      "100%|██████████| 100/100 [00:00<00:00, 286.62it/s]\n",
      "c:\\Users\\VictorLeCoz\\Anaconda3\\envs\\interbank_network\\lib\\site-packages\\cpnet\\utils.py:20: FutureWarning: adjacency_matrix will return a scipy.sparse array instead of a matrix in Networkx 3.0.\n",
      "  sparse.csr_matrix(nx.adjacency_matrix(net), dtype=np.float64),\n",
      "c:\\Users\\VictorLeCoz\\Anaconda3\\envs\\interbank_network\\lib\\site-packages\\cpnet\\qstest.py:96: FutureWarning: adjacency_matrix will return a scipy.sparse array instead of a matrix in Networkx 3.0.\n",
      "  A = nx.adjacency_matrix(G)\n"
     ]
    },
    {
     "name": "stdout",
     "output_type": "stream",
     "text": [
      "test on day 2008-03-21 00:00:00\n"
     ]
    },
    {
     "name": "stderr",
     "output_type": "stream",
     "text": [
      "c:\\Users\\VictorLeCoz\\Anaconda3\\envs\\interbank_network\\lib\\site-packages\\cpnet\\qstest.py:35: FutureWarning: adjacency_matrix will return a scipy.sparse array instead of a matrix in Networkx 3.0.\n",
      "  Ar = sparse.csr_matrix(nx.adjacency_matrix(Gr))\n",
      "100%|██████████| 100/100 [00:00<00:00, 367.18it/s]\n",
      "c:\\Users\\VictorLeCoz\\Anaconda3\\envs\\interbank_network\\lib\\site-packages\\cpnet\\utils.py:20: FutureWarning: adjacency_matrix will return a scipy.sparse array instead of a matrix in Networkx 3.0.\n",
      "  sparse.csr_matrix(nx.adjacency_matrix(net), dtype=np.float64),\n",
      "c:\\Users\\VictorLeCoz\\Anaconda3\\envs\\interbank_network\\lib\\site-packages\\cpnet\\qstest.py:96: FutureWarning: adjacency_matrix will return a scipy.sparse array instead of a matrix in Networkx 3.0.\n",
      "  A = nx.adjacency_matrix(G)\n"
     ]
    },
    {
     "name": "stdout",
     "output_type": "stream",
     "text": [
      "test on day 2010-12-16 00:00:00\n"
     ]
    },
    {
     "name": "stderr",
     "output_type": "stream",
     "text": [
      "c:\\Users\\VictorLeCoz\\Anaconda3\\envs\\interbank_network\\lib\\site-packages\\cpnet\\qstest.py:35: FutureWarning: adjacency_matrix will return a scipy.sparse array instead of a matrix in Networkx 3.0.\n",
      "  Ar = sparse.csr_matrix(nx.adjacency_matrix(Gr))\n",
      "100%|██████████| 100/100 [00:00<00:00, 337.22it/s]\n",
      "c:\\Users\\VictorLeCoz\\Anaconda3\\envs\\interbank_network\\lib\\site-packages\\cpnet\\utils.py:20: FutureWarning: adjacency_matrix will return a scipy.sparse array instead of a matrix in Networkx 3.0.\n",
      "  sparse.csr_matrix(nx.adjacency_matrix(net), dtype=np.float64),\n",
      "c:\\Users\\VictorLeCoz\\Anaconda3\\envs\\interbank_network\\lib\\site-packages\\cpnet\\qstest.py:96: FutureWarning: adjacency_matrix will return a scipy.sparse array instead of a matrix in Networkx 3.0.\n",
      "  A = nx.adjacency_matrix(G)\n"
     ]
    },
    {
     "name": "stdout",
     "output_type": "stream",
     "text": [
      "test on day 2013-09-11 00:00:00\n"
     ]
    },
    {
     "name": "stderr",
     "output_type": "stream",
     "text": [
      "c:\\Users\\VictorLeCoz\\Anaconda3\\envs\\interbank_network\\lib\\site-packages\\cpnet\\qstest.py:35: FutureWarning: adjacency_matrix will return a scipy.sparse array instead of a matrix in Networkx 3.0.\n",
      "  Ar = sparse.csr_matrix(nx.adjacency_matrix(Gr))\n",
      "100%|██████████| 100/100 [00:00<00:00, 255.76it/s]\n",
      "c:\\Users\\VictorLeCoz\\Anaconda3\\envs\\interbank_network\\lib\\site-packages\\cpnet\\utils.py:20: FutureWarning: adjacency_matrix will return a scipy.sparse array instead of a matrix in Networkx 3.0.\n",
      "  sparse.csr_matrix(nx.adjacency_matrix(net), dtype=np.float64),\n",
      "c:\\Users\\VictorLeCoz\\Anaconda3\\envs\\interbank_network\\lib\\site-packages\\cpnet\\qstest.py:96: FutureWarning: adjacency_matrix will return a scipy.sparse array instead of a matrix in Networkx 3.0.\n",
      "  A = nx.adjacency_matrix(G)\n"
     ]
    },
    {
     "name": "stdout",
     "output_type": "stream",
     "text": [
      "test on day 2016-06-07 00:00:00\n"
     ]
    },
    {
     "name": "stderr",
     "output_type": "stream",
     "text": [
      "c:\\Users\\VictorLeCoz\\Anaconda3\\envs\\interbank_network\\lib\\site-packages\\cpnet\\qstest.py:35: FutureWarning: adjacency_matrix will return a scipy.sparse array instead of a matrix in Networkx 3.0.\n",
      "  Ar = sparse.csr_matrix(nx.adjacency_matrix(Gr))\n",
      "100%|██████████| 100/100 [00:00<00:00, 247.67it/s]\n",
      "c:\\Users\\VictorLeCoz\\Anaconda3\\envs\\interbank_network\\lib\\site-packages\\cpnet\\utils.py:20: FutureWarning: adjacency_matrix will return a scipy.sparse array instead of a matrix in Networkx 3.0.\n",
      "  sparse.csr_matrix(nx.adjacency_matrix(net), dtype=np.float64),\n",
      "c:\\Users\\VictorLeCoz\\Anaconda3\\envs\\interbank_network\\lib\\site-packages\\cpnet\\qstest.py:96: FutureWarning: adjacency_matrix will return a scipy.sparse array instead of a matrix in Networkx 3.0.\n",
      "  A = nx.adjacency_matrix(G)\n"
     ]
    },
    {
     "name": "stdout",
     "output_type": "stream",
     "text": [
      "test on day 2019-03-04 00:00:00\n"
     ]
    },
    {
     "name": "stderr",
     "output_type": "stream",
     "text": [
      "c:\\Users\\VictorLeCoz\\Anaconda3\\envs\\interbank_network\\lib\\site-packages\\cpnet\\qstest.py:35: FutureWarning: adjacency_matrix will return a scipy.sparse array instead of a matrix in Networkx 3.0.\n",
      "  Ar = sparse.csr_matrix(nx.adjacency_matrix(Gr))\n",
      "100%|██████████| 100/100 [00:00<00:00, 312.23it/s]\n",
      "c:\\Users\\VictorLeCoz\\Anaconda3\\envs\\interbank_network\\lib\\site-packages\\cpnet\\utils.py:20: FutureWarning: adjacency_matrix will return a scipy.sparse array instead of a matrix in Networkx 3.0.\n",
      "  sparse.csr_matrix(nx.adjacency_matrix(net), dtype=np.float64),\n",
      "c:\\Users\\VictorLeCoz\\Anaconda3\\envs\\interbank_network\\lib\\site-packages\\cpnet\\qstest.py:96: FutureWarning: adjacency_matrix will return a scipy.sparse array instead of a matrix in Networkx 3.0.\n",
      "  A = nx.adjacency_matrix(G)\n"
     ]
    },
    {
     "name": "stdout",
     "output_type": "stream",
     "text": [
      "test on day 2021-11-28 00:00:00\n"
     ]
    },
    {
     "name": "stderr",
     "output_type": "stream",
     "text": [
      "c:\\Users\\VictorLeCoz\\Anaconda3\\envs\\interbank_network\\lib\\site-packages\\cpnet\\qstest.py:35: FutureWarning: adjacency_matrix will return a scipy.sparse array instead of a matrix in Networkx 3.0.\n",
      "  Ar = sparse.csr_matrix(nx.adjacency_matrix(Gr))\n",
      "100%|██████████| 100/100 [00:00<00:00, 453.63it/s]\n",
      "c:\\Users\\VictorLeCoz\\Anaconda3\\envs\\interbank_network\\lib\\site-packages\\cpnet\\utils.py:20: FutureWarning: adjacency_matrix will return a scipy.sparse array instead of a matrix in Networkx 3.0.\n",
      "  sparse.csr_matrix(nx.adjacency_matrix(net), dtype=np.float64),\n",
      "c:\\Users\\VictorLeCoz\\Anaconda3\\envs\\interbank_network\\lib\\site-packages\\cpnet\\qstest.py:96: FutureWarning: adjacency_matrix will return a scipy.sparse array instead of a matrix in Networkx 3.0.\n",
      "  A = nx.adjacency_matrix(G)\n"
     ]
    },
    {
     "name": "stdout",
     "output_type": "stream",
     "text": [
      "test on day 2024-02-19 00:00:00\n"
     ]
    },
    {
     "name": "stderr",
     "output_type": "stream",
     "text": [
      "c:\\Users\\VictorLeCoz\\Anaconda3\\envs\\interbank_network\\lib\\site-packages\\cpnet\\qstest.py:35: FutureWarning: adjacency_matrix will return a scipy.sparse array instead of a matrix in Networkx 3.0.\n",
      "  Ar = sparse.csr_matrix(nx.adjacency_matrix(Gr))\n",
      "100%|██████████| 100/100 [00:00<00:00, 182.86it/s]\n",
      "c:\\Users\\VictorLeCoz\\Anaconda3\\envs\\interbank_network\\lib\\site-packages\\cpnet\\utils.py:20: FutureWarning: adjacency_matrix will return a scipy.sparse array instead of a matrix in Networkx 3.0.\n",
      "  sparse.csr_matrix(nx.adjacency_matrix(net), dtype=np.float64),\n",
      "c:\\Users\\VictorLeCoz\\Anaconda3\\envs\\interbank_network\\lib\\site-packages\\cpnet\\qstest.py:96: FutureWarning: adjacency_matrix will return a scipy.sparse array instead of a matrix in Networkx 3.0.\n",
      "  A = nx.adjacency_matrix(G)\n"
     ]
    },
    {
     "name": "stdout",
     "output_type": "stream",
     "text": [
      "core-periphery tests using the Rossa approach\n",
      "test on day 2000-01-03 00:00:00\n"
     ]
    },
    {
     "name": "stderr",
     "output_type": "stream",
     "text": [
      "c:\\Users\\VictorLeCoz\\Anaconda3\\envs\\interbank_network\\lib\\site-packages\\cpnet\\qstest.py:35: FutureWarning: adjacency_matrix will return a scipy.sparse array instead of a matrix in Networkx 3.0.\n",
      "  Ar = sparse.csr_matrix(nx.adjacency_matrix(Gr))\n",
      "100%|██████████| 100/100 [00:00<00:00, 206.81it/s]\n"
     ]
    },
    {
     "name": "stdout",
     "output_type": "stream",
     "text": [
      "test on day 2002-09-29 00:00:00\n"
     ]
    },
    {
     "name": "stderr",
     "output_type": "stream",
     "text": [
      "100%|██████████| 100/100 [00:00<00:00, 216.31it/s]\n",
      "c:\\Users\\VictorLeCoz\\Anaconda3\\envs\\interbank_network\\lib\\site-packages\\cpnet\\utils.py:20: FutureWarning: adjacency_matrix will return a scipy.sparse array instead of a matrix in Networkx 3.0.\n",
      "  sparse.csr_matrix(nx.adjacency_matrix(net), dtype=np.float64),\n",
      "c:\\Users\\VictorLeCoz\\Anaconda3\\envs\\interbank_network\\lib\\site-packages\\cpnet\\qstest.py:96: FutureWarning: adjacency_matrix will return a scipy.sparse array instead of a matrix in Networkx 3.0.\n",
      "  A = nx.adjacency_matrix(G)\n"
     ]
    },
    {
     "name": "stdout",
     "output_type": "stream",
     "text": [
      "test on day 2005-06-25 00:00:00\n"
     ]
    },
    {
     "name": "stderr",
     "output_type": "stream",
     "text": [
      "c:\\Users\\VictorLeCoz\\Anaconda3\\envs\\interbank_network\\lib\\site-packages\\cpnet\\qstest.py:35: FutureWarning: adjacency_matrix will return a scipy.sparse array instead of a matrix in Networkx 3.0.\n",
      "  Ar = sparse.csr_matrix(nx.adjacency_matrix(Gr))\n",
      "100%|██████████| 100/100 [00:00<00:00, 178.33it/s]\n",
      "c:\\Users\\VictorLeCoz\\Anaconda3\\envs\\interbank_network\\lib\\site-packages\\cpnet\\utils.py:20: FutureWarning: adjacency_matrix will return a scipy.sparse array instead of a matrix in Networkx 3.0.\n",
      "  sparse.csr_matrix(nx.adjacency_matrix(net), dtype=np.float64),\n",
      "c:\\Users\\VictorLeCoz\\Anaconda3\\envs\\interbank_network\\lib\\site-packages\\cpnet\\qstest.py:96: FutureWarning: adjacency_matrix will return a scipy.sparse array instead of a matrix in Networkx 3.0.\n",
      "  A = nx.adjacency_matrix(G)\n"
     ]
    },
    {
     "name": "stdout",
     "output_type": "stream",
     "text": [
      "test on day 2008-03-21 00:00:00\n"
     ]
    },
    {
     "name": "stderr",
     "output_type": "stream",
     "text": [
      "c:\\Users\\VictorLeCoz\\Anaconda3\\envs\\interbank_network\\lib\\site-packages\\cpnet\\qstest.py:35: FutureWarning: adjacency_matrix will return a scipy.sparse array instead of a matrix in Networkx 3.0.\n",
      "  Ar = sparse.csr_matrix(nx.adjacency_matrix(Gr))\n",
      "100%|██████████| 100/100 [00:00<00:00, 274.14it/s]\n",
      "c:\\Users\\VictorLeCoz\\Anaconda3\\envs\\interbank_network\\lib\\site-packages\\cpnet\\utils.py:20: FutureWarning: adjacency_matrix will return a scipy.sparse array instead of a matrix in Networkx 3.0.\n",
      "  sparse.csr_matrix(nx.adjacency_matrix(net), dtype=np.float64),\n",
      "c:\\Users\\VictorLeCoz\\Anaconda3\\envs\\interbank_network\\lib\\site-packages\\cpnet\\qstest.py:96: FutureWarning: adjacency_matrix will return a scipy.sparse array instead of a matrix in Networkx 3.0.\n",
      "  A = nx.adjacency_matrix(G)\n"
     ]
    },
    {
     "name": "stdout",
     "output_type": "stream",
     "text": [
      "test on day 2010-12-16 00:00:00\n"
     ]
    },
    {
     "name": "stderr",
     "output_type": "stream",
     "text": [
      "c:\\Users\\VictorLeCoz\\Anaconda3\\envs\\interbank_network\\lib\\site-packages\\cpnet\\qstest.py:35: FutureWarning: adjacency_matrix will return a scipy.sparse array instead of a matrix in Networkx 3.0.\n",
      "  Ar = sparse.csr_matrix(nx.adjacency_matrix(Gr))\n",
      "100%|██████████| 100/100 [00:00<00:00, 242.23it/s]\n",
      "c:\\Users\\VictorLeCoz\\Anaconda3\\envs\\interbank_network\\lib\\site-packages\\cpnet\\utils.py:20: FutureWarning: adjacency_matrix will return a scipy.sparse array instead of a matrix in Networkx 3.0.\n",
      "  sparse.csr_matrix(nx.adjacency_matrix(net), dtype=np.float64),\n",
      "c:\\Users\\VictorLeCoz\\Anaconda3\\envs\\interbank_network\\lib\\site-packages\\cpnet\\qstest.py:96: FutureWarning: adjacency_matrix will return a scipy.sparse array instead of a matrix in Networkx 3.0.\n",
      "  A = nx.adjacency_matrix(G)\n"
     ]
    },
    {
     "name": "stdout",
     "output_type": "stream",
     "text": [
      "test on day 2013-09-11 00:00:00\n"
     ]
    },
    {
     "name": "stderr",
     "output_type": "stream",
     "text": [
      "c:\\Users\\VictorLeCoz\\Anaconda3\\envs\\interbank_network\\lib\\site-packages\\cpnet\\qstest.py:35: FutureWarning: adjacency_matrix will return a scipy.sparse array instead of a matrix in Networkx 3.0.\n",
      "  Ar = sparse.csr_matrix(nx.adjacency_matrix(Gr))\n",
      "100%|██████████| 100/100 [00:00<00:00, 194.13it/s]\n",
      "c:\\Users\\VictorLeCoz\\Anaconda3\\envs\\interbank_network\\lib\\site-packages\\cpnet\\utils.py:20: FutureWarning: adjacency_matrix will return a scipy.sparse array instead of a matrix in Networkx 3.0.\n",
      "  sparse.csr_matrix(nx.adjacency_matrix(net), dtype=np.float64),\n",
      "c:\\Users\\VictorLeCoz\\Anaconda3\\envs\\interbank_network\\lib\\site-packages\\cpnet\\qstest.py:96: FutureWarning: adjacency_matrix will return a scipy.sparse array instead of a matrix in Networkx 3.0.\n",
      "  A = nx.adjacency_matrix(G)\n"
     ]
    },
    {
     "name": "stdout",
     "output_type": "stream",
     "text": [
      "test on day 2016-06-07 00:00:00\n"
     ]
    },
    {
     "name": "stderr",
     "output_type": "stream",
     "text": [
      "c:\\Users\\VictorLeCoz\\Anaconda3\\envs\\interbank_network\\lib\\site-packages\\cpnet\\qstest.py:35: FutureWarning: adjacency_matrix will return a scipy.sparse array instead of a matrix in Networkx 3.0.\n",
      "  Ar = sparse.csr_matrix(nx.adjacency_matrix(Gr))\n",
      "100%|██████████| 100/100 [00:00<00:00, 201.91it/s]\n",
      "c:\\Users\\VictorLeCoz\\Anaconda3\\envs\\interbank_network\\lib\\site-packages\\cpnet\\utils.py:20: FutureWarning: adjacency_matrix will return a scipy.sparse array instead of a matrix in Networkx 3.0.\n",
      "  sparse.csr_matrix(nx.adjacency_matrix(net), dtype=np.float64),\n",
      "c:\\Users\\VictorLeCoz\\Anaconda3\\envs\\interbank_network\\lib\\site-packages\\cpnet\\qstest.py:96: FutureWarning: adjacency_matrix will return a scipy.sparse array instead of a matrix in Networkx 3.0.\n",
      "  A = nx.adjacency_matrix(G)\n"
     ]
    },
    {
     "name": "stdout",
     "output_type": "stream",
     "text": [
      "test on day 2019-03-04 00:00:00\n"
     ]
    },
    {
     "name": "stderr",
     "output_type": "stream",
     "text": [
      "c:\\Users\\VictorLeCoz\\Anaconda3\\envs\\interbank_network\\lib\\site-packages\\cpnet\\qstest.py:35: FutureWarning: adjacency_matrix will return a scipy.sparse array instead of a matrix in Networkx 3.0.\n",
      "  Ar = sparse.csr_matrix(nx.adjacency_matrix(Gr))\n",
      "100%|██████████| 100/100 [00:00<00:00, 167.31it/s]\n",
      "c:\\Users\\VictorLeCoz\\Anaconda3\\envs\\interbank_network\\lib\\site-packages\\cpnet\\utils.py:20: FutureWarning: adjacency_matrix will return a scipy.sparse array instead of a matrix in Networkx 3.0.\n",
      "  sparse.csr_matrix(nx.adjacency_matrix(net), dtype=np.float64),\n",
      "c:\\Users\\VictorLeCoz\\Anaconda3\\envs\\interbank_network\\lib\\site-packages\\cpnet\\qstest.py:96: FutureWarning: adjacency_matrix will return a scipy.sparse array instead of a matrix in Networkx 3.0.\n",
      "  A = nx.adjacency_matrix(G)\n"
     ]
    },
    {
     "name": "stdout",
     "output_type": "stream",
     "text": [
      "test on day 2021-11-28 00:00:00\n"
     ]
    },
    {
     "name": "stderr",
     "output_type": "stream",
     "text": [
      "c:\\Users\\VictorLeCoz\\Anaconda3\\envs\\interbank_network\\lib\\site-packages\\cpnet\\qstest.py:35: FutureWarning: adjacency_matrix will return a scipy.sparse array instead of a matrix in Networkx 3.0.\n",
      "  Ar = sparse.csr_matrix(nx.adjacency_matrix(Gr))\n",
      "100%|██████████| 100/100 [00:00<00:00, 244.42it/s]\n",
      "c:\\Users\\VictorLeCoz\\Anaconda3\\envs\\interbank_network\\lib\\site-packages\\cpnet\\utils.py:20: FutureWarning: adjacency_matrix will return a scipy.sparse array instead of a matrix in Networkx 3.0.\n",
      "  sparse.csr_matrix(nx.adjacency_matrix(net), dtype=np.float64),\n",
      "c:\\Users\\VictorLeCoz\\Anaconda3\\envs\\interbank_network\\lib\\site-packages\\cpnet\\qstest.py:96: FutureWarning: adjacency_matrix will return a scipy.sparse array instead of a matrix in Networkx 3.0.\n",
      "  A = nx.adjacency_matrix(G)\n"
     ]
    },
    {
     "name": "stdout",
     "output_type": "stream",
     "text": [
      "test on day 2024-02-19 00:00:00\n"
     ]
    },
    {
     "name": "stderr",
     "output_type": "stream",
     "text": [
      "c:\\Users\\VictorLeCoz\\Anaconda3\\envs\\interbank_network\\lib\\site-packages\\cpnet\\qstest.py:35: FutureWarning: adjacency_matrix will return a scipy.sparse array instead of a matrix in Networkx 3.0.\n",
      "  Ar = sparse.csr_matrix(nx.adjacency_matrix(Gr))\n",
      "100%|██████████| 100/100 [00:00<00:00, 242.16it/s]\n",
      "c:\\Users\\VictorLeCoz\\Anaconda3\\envs\\interbank_network\\lib\\site-packages\\cpnet\\utils.py:20: FutureWarning: adjacency_matrix will return a scipy.sparse array instead of a matrix in Networkx 3.0.\n",
      "  sparse.csr_matrix(nx.adjacency_matrix(net), dtype=np.float64),\n",
      "c:\\Users\\VictorLeCoz\\Anaconda3\\envs\\interbank_network\\lib\\site-packages\\cpnet\\qstest.py:96: FutureWarning: adjacency_matrix will return a scipy.sparse array instead of a matrix in Networkx 3.0.\n",
      "  A = nx.adjacency_matrix(G)\n"
     ]
    },
    {
     "name": "stdout",
     "output_type": "stream",
     "text": [
      "core-periphery tests using the LapCore approach\n",
      "test on day 2000-01-03 00:00:00\n"
     ]
    },
    {
     "name": "stderr",
     "output_type": "stream",
     "text": [
      "c:\\Users\\VictorLeCoz\\Anaconda3\\envs\\interbank_network\\lib\\site-packages\\cpnet\\qstest.py:35: FutureWarning: adjacency_matrix will return a scipy.sparse array instead of a matrix in Networkx 3.0.\n",
      "  Ar = sparse.csr_matrix(nx.adjacency_matrix(Gr))\n",
      "100%|██████████| 100/100 [00:00<00:00, 153.71it/s]\n"
     ]
    },
    {
     "name": "stdout",
     "output_type": "stream",
     "text": [
      "test on day 2002-09-29 00:00:00\n"
     ]
    },
    {
     "name": "stderr",
     "output_type": "stream",
     "text": [
      "100%|██████████| 100/100 [00:00<00:00, 185.72it/s]\n",
      "c:\\Users\\VictorLeCoz\\Anaconda3\\envs\\interbank_network\\lib\\site-packages\\cpnet\\utils.py:20: FutureWarning: adjacency_matrix will return a scipy.sparse array instead of a matrix in Networkx 3.0.\n",
      "  sparse.csr_matrix(nx.adjacency_matrix(net), dtype=np.float64),\n",
      "c:\\Users\\VictorLeCoz\\Anaconda3\\envs\\interbank_network\\lib\\site-packages\\cpnet\\qstest.py:96: FutureWarning: adjacency_matrix will return a scipy.sparse array instead of a matrix in Networkx 3.0.\n",
      "  A = nx.adjacency_matrix(G)\n"
     ]
    },
    {
     "name": "stdout",
     "output_type": "stream",
     "text": [
      "test on day 2005-06-25 00:00:00\n"
     ]
    },
    {
     "name": "stderr",
     "output_type": "stream",
     "text": [
      "c:\\Users\\VictorLeCoz\\Anaconda3\\envs\\interbank_network\\lib\\site-packages\\cpnet\\qstest.py:35: FutureWarning: adjacency_matrix will return a scipy.sparse array instead of a matrix in Networkx 3.0.\n",
      "  Ar = sparse.csr_matrix(nx.adjacency_matrix(Gr))\n",
      "100%|██████████| 100/100 [00:00<00:00, 140.35it/s]\n",
      "c:\\Users\\VictorLeCoz\\Anaconda3\\envs\\interbank_network\\lib\\site-packages\\cpnet\\utils.py:20: FutureWarning: adjacency_matrix will return a scipy.sparse array instead of a matrix in Networkx 3.0.\n",
      "  sparse.csr_matrix(nx.adjacency_matrix(net), dtype=np.float64),\n",
      "c:\\Users\\VictorLeCoz\\Anaconda3\\envs\\interbank_network\\lib\\site-packages\\cpnet\\qstest.py:96: FutureWarning: adjacency_matrix will return a scipy.sparse array instead of a matrix in Networkx 3.0.\n",
      "  A = nx.adjacency_matrix(G)\n"
     ]
    },
    {
     "name": "stdout",
     "output_type": "stream",
     "text": [
      "test on day 2008-03-21 00:00:00\n"
     ]
    },
    {
     "name": "stderr",
     "output_type": "stream",
     "text": [
      "c:\\Users\\VictorLeCoz\\Anaconda3\\envs\\interbank_network\\lib\\site-packages\\cpnet\\qstest.py:35: FutureWarning: adjacency_matrix will return a scipy.sparse array instead of a matrix in Networkx 3.0.\n",
      "  Ar = sparse.csr_matrix(nx.adjacency_matrix(Gr))\n",
      "100%|██████████| 100/100 [00:00<00:00, 164.03it/s]\n",
      "c:\\Users\\VictorLeCoz\\Anaconda3\\envs\\interbank_network\\lib\\site-packages\\cpnet\\utils.py:20: FutureWarning: adjacency_matrix will return a scipy.sparse array instead of a matrix in Networkx 3.0.\n",
      "  sparse.csr_matrix(nx.adjacency_matrix(net), dtype=np.float64),\n",
      "c:\\Users\\VictorLeCoz\\Anaconda3\\envs\\interbank_network\\lib\\site-packages\\cpnet\\qstest.py:96: FutureWarning: adjacency_matrix will return a scipy.sparse array instead of a matrix in Networkx 3.0.\n",
      "  A = nx.adjacency_matrix(G)\n"
     ]
    },
    {
     "name": "stdout",
     "output_type": "stream",
     "text": [
      "test on day 2010-12-16 00:00:00\n"
     ]
    },
    {
     "name": "stderr",
     "output_type": "stream",
     "text": [
      "c:\\Users\\VictorLeCoz\\Anaconda3\\envs\\interbank_network\\lib\\site-packages\\cpnet\\qstest.py:35: FutureWarning: adjacency_matrix will return a scipy.sparse array instead of a matrix in Networkx 3.0.\n",
      "  Ar = sparse.csr_matrix(nx.adjacency_matrix(Gr))\n",
      "100%|██████████| 100/100 [00:00<00:00, 143.16it/s]\n",
      "c:\\Users\\VictorLeCoz\\Anaconda3\\envs\\interbank_network\\lib\\site-packages\\cpnet\\utils.py:20: FutureWarning: adjacency_matrix will return a scipy.sparse array instead of a matrix in Networkx 3.0.\n",
      "  sparse.csr_matrix(nx.adjacency_matrix(net), dtype=np.float64),\n",
      "c:\\Users\\VictorLeCoz\\Anaconda3\\envs\\interbank_network\\lib\\site-packages\\cpnet\\qstest.py:96: FutureWarning: adjacency_matrix will return a scipy.sparse array instead of a matrix in Networkx 3.0.\n",
      "  A = nx.adjacency_matrix(G)\n"
     ]
    },
    {
     "name": "stdout",
     "output_type": "stream",
     "text": [
      "test on day 2013-09-11 00:00:00\n"
     ]
    },
    {
     "name": "stderr",
     "output_type": "stream",
     "text": [
      "c:\\Users\\VictorLeCoz\\Anaconda3\\envs\\interbank_network\\lib\\site-packages\\cpnet\\qstest.py:35: FutureWarning: adjacency_matrix will return a scipy.sparse array instead of a matrix in Networkx 3.0.\n",
      "  Ar = sparse.csr_matrix(nx.adjacency_matrix(Gr))\n",
      "100%|██████████| 100/100 [00:00<00:00, 150.10it/s]\n",
      "c:\\Users\\VictorLeCoz\\Anaconda3\\envs\\interbank_network\\lib\\site-packages\\cpnet\\utils.py:20: FutureWarning: adjacency_matrix will return a scipy.sparse array instead of a matrix in Networkx 3.0.\n",
      "  sparse.csr_matrix(nx.adjacency_matrix(net), dtype=np.float64),\n",
      "c:\\Users\\VictorLeCoz\\Anaconda3\\envs\\interbank_network\\lib\\site-packages\\cpnet\\qstest.py:96: FutureWarning: adjacency_matrix will return a scipy.sparse array instead of a matrix in Networkx 3.0.\n",
      "  A = nx.adjacency_matrix(G)\n"
     ]
    },
    {
     "name": "stdout",
     "output_type": "stream",
     "text": [
      "test on day 2016-06-07 00:00:00\n"
     ]
    },
    {
     "name": "stderr",
     "output_type": "stream",
     "text": [
      "c:\\Users\\VictorLeCoz\\Anaconda3\\envs\\interbank_network\\lib\\site-packages\\cpnet\\qstest.py:35: FutureWarning: adjacency_matrix will return a scipy.sparse array instead of a matrix in Networkx 3.0.\n",
      "  Ar = sparse.csr_matrix(nx.adjacency_matrix(Gr))\n",
      "100%|██████████| 100/100 [00:00<00:00, 116.65it/s]\n",
      "c:\\Users\\VictorLeCoz\\Anaconda3\\envs\\interbank_network\\lib\\site-packages\\cpnet\\utils.py:20: FutureWarning: adjacency_matrix will return a scipy.sparse array instead of a matrix in Networkx 3.0.\n",
      "  sparse.csr_matrix(nx.adjacency_matrix(net), dtype=np.float64),\n",
      "c:\\Users\\VictorLeCoz\\Anaconda3\\envs\\interbank_network\\lib\\site-packages\\cpnet\\qstest.py:96: FutureWarning: adjacency_matrix will return a scipy.sparse array instead of a matrix in Networkx 3.0.\n",
      "  A = nx.adjacency_matrix(G)\n"
     ]
    },
    {
     "name": "stdout",
     "output_type": "stream",
     "text": [
      "test on day 2019-03-04 00:00:00\n"
     ]
    },
    {
     "name": "stderr",
     "output_type": "stream",
     "text": [
      "c:\\Users\\VictorLeCoz\\Anaconda3\\envs\\interbank_network\\lib\\site-packages\\cpnet\\qstest.py:35: FutureWarning: adjacency_matrix will return a scipy.sparse array instead of a matrix in Networkx 3.0.\n",
      "  Ar = sparse.csr_matrix(nx.adjacency_matrix(Gr))\n",
      "100%|██████████| 100/100 [00:00<00:00, 137.95it/s]\n",
      "c:\\Users\\VictorLeCoz\\Anaconda3\\envs\\interbank_network\\lib\\site-packages\\cpnet\\utils.py:20: FutureWarning: adjacency_matrix will return a scipy.sparse array instead of a matrix in Networkx 3.0.\n",
      "  sparse.csr_matrix(nx.adjacency_matrix(net), dtype=np.float64),\n",
      "c:\\Users\\VictorLeCoz\\Anaconda3\\envs\\interbank_network\\lib\\site-packages\\cpnet\\qstest.py:96: FutureWarning: adjacency_matrix will return a scipy.sparse array instead of a matrix in Networkx 3.0.\n",
      "  A = nx.adjacency_matrix(G)\n"
     ]
    },
    {
     "name": "stdout",
     "output_type": "stream",
     "text": [
      "test on day 2021-11-28 00:00:00\n"
     ]
    },
    {
     "name": "stderr",
     "output_type": "stream",
     "text": [
      "c:\\Users\\VictorLeCoz\\Anaconda3\\envs\\interbank_network\\lib\\site-packages\\cpnet\\qstest.py:35: FutureWarning: adjacency_matrix will return a scipy.sparse array instead of a matrix in Networkx 3.0.\n",
      "  Ar = sparse.csr_matrix(nx.adjacency_matrix(Gr))\n",
      "100%|██████████| 100/100 [00:00<00:00, 159.81it/s]\n",
      "c:\\Users\\VictorLeCoz\\Anaconda3\\envs\\interbank_network\\lib\\site-packages\\cpnet\\utils.py:20: FutureWarning: adjacency_matrix will return a scipy.sparse array instead of a matrix in Networkx 3.0.\n",
      "  sparse.csr_matrix(nx.adjacency_matrix(net), dtype=np.float64),\n",
      "c:\\Users\\VictorLeCoz\\Anaconda3\\envs\\interbank_network\\lib\\site-packages\\cpnet\\qstest.py:96: FutureWarning: adjacency_matrix will return a scipy.sparse array instead of a matrix in Networkx 3.0.\n",
      "  A = nx.adjacency_matrix(G)\n"
     ]
    },
    {
     "name": "stdout",
     "output_type": "stream",
     "text": [
      "test on day 2024-02-19 00:00:00\n"
     ]
    },
    {
     "name": "stderr",
     "output_type": "stream",
     "text": [
      "c:\\Users\\VictorLeCoz\\Anaconda3\\envs\\interbank_network\\lib\\site-packages\\cpnet\\qstest.py:35: FutureWarning: adjacency_matrix will return a scipy.sparse array instead of a matrix in Networkx 3.0.\n",
      "  Ar = sparse.csr_matrix(nx.adjacency_matrix(Gr))\n",
      "100%|██████████| 100/100 [00:00<00:00, 203.05it/s]\n",
      "c:\\Users\\VictorLeCoz\\Anaconda3\\envs\\interbank_network\\lib\\site-packages\\cpnet\\utils.py:20: FutureWarning: adjacency_matrix will return a scipy.sparse array instead of a matrix in Networkx 3.0.\n",
      "  sparse.csr_matrix(nx.adjacency_matrix(net), dtype=np.float64),\n",
      "c:\\Users\\VictorLeCoz\\Anaconda3\\envs\\interbank_network\\lib\\site-packages\\cpnet\\qstest.py:96: FutureWarning: adjacency_matrix will return a scipy.sparse array instead of a matrix in Networkx 3.0.\n",
      "  A = nx.adjacency_matrix(G)\n"
     ]
    },
    {
     "name": "stdout",
     "output_type": "stream",
     "text": [
      "core-periphery tests using the LapSgnCore approach\n",
      "test on day 2000-01-03 00:00:00\n"
     ]
    },
    {
     "name": "stderr",
     "output_type": "stream",
     "text": [
      "c:\\Users\\VictorLeCoz\\Anaconda3\\envs\\interbank_network\\lib\\site-packages\\cpnet\\qstest.py:35: FutureWarning: adjacency_matrix will return a scipy.sparse array instead of a matrix in Networkx 3.0.\n",
      "  Ar = sparse.csr_matrix(nx.adjacency_matrix(Gr))\n",
      "100%|██████████| 100/100 [00:00<00:00, 319.03it/s]\n"
     ]
    },
    {
     "name": "stdout",
     "output_type": "stream",
     "text": [
      "test on day 2002-09-29 00:00:00\n"
     ]
    },
    {
     "name": "stderr",
     "output_type": "stream",
     "text": [
      "100%|██████████| 100/100 [00:00<00:00, 273.97it/s]\n",
      "c:\\Users\\VictorLeCoz\\Anaconda3\\envs\\interbank_network\\lib\\site-packages\\cpnet\\utils.py:20: FutureWarning: adjacency_matrix will return a scipy.sparse array instead of a matrix in Networkx 3.0.\n",
      "  sparse.csr_matrix(nx.adjacency_matrix(net), dtype=np.float64),\n",
      "c:\\Users\\VictorLeCoz\\Anaconda3\\envs\\interbank_network\\lib\\site-packages\\cpnet\\qstest.py:96: FutureWarning: adjacency_matrix will return a scipy.sparse array instead of a matrix in Networkx 3.0.\n",
      "  A = nx.adjacency_matrix(G)\n"
     ]
    },
    {
     "name": "stdout",
     "output_type": "stream",
     "text": [
      "test on day 2005-06-25 00:00:00\n"
     ]
    },
    {
     "name": "stderr",
     "output_type": "stream",
     "text": [
      "c:\\Users\\VictorLeCoz\\Anaconda3\\envs\\interbank_network\\lib\\site-packages\\cpnet\\qstest.py:35: FutureWarning: adjacency_matrix will return a scipy.sparse array instead of a matrix in Networkx 3.0.\n",
      "  Ar = sparse.csr_matrix(nx.adjacency_matrix(Gr))\n",
      "100%|██████████| 100/100 [00:00<00:00, 250.39it/s]\n",
      "c:\\Users\\VictorLeCoz\\Anaconda3\\envs\\interbank_network\\lib\\site-packages\\cpnet\\utils.py:20: FutureWarning: adjacency_matrix will return a scipy.sparse array instead of a matrix in Networkx 3.0.\n",
      "  sparse.csr_matrix(nx.adjacency_matrix(net), dtype=np.float64),\n",
      "c:\\Users\\VictorLeCoz\\Anaconda3\\envs\\interbank_network\\lib\\site-packages\\cpnet\\qstest.py:96: FutureWarning: adjacency_matrix will return a scipy.sparse array instead of a matrix in Networkx 3.0.\n",
      "  A = nx.adjacency_matrix(G)\n"
     ]
    },
    {
     "name": "stdout",
     "output_type": "stream",
     "text": [
      "test on day 2008-03-21 00:00:00\n"
     ]
    },
    {
     "name": "stderr",
     "output_type": "stream",
     "text": [
      "c:\\Users\\VictorLeCoz\\Anaconda3\\envs\\interbank_network\\lib\\site-packages\\cpnet\\qstest.py:35: FutureWarning: adjacency_matrix will return a scipy.sparse array instead of a matrix in Networkx 3.0.\n",
      "  Ar = sparse.csr_matrix(nx.adjacency_matrix(Gr))\n",
      "100%|██████████| 100/100 [00:00<00:00, 342.41it/s]\n",
      "c:\\Users\\VictorLeCoz\\Anaconda3\\envs\\interbank_network\\lib\\site-packages\\cpnet\\utils.py:20: FutureWarning: adjacency_matrix will return a scipy.sparse array instead of a matrix in Networkx 3.0.\n",
      "  sparse.csr_matrix(nx.adjacency_matrix(net), dtype=np.float64),\n",
      "c:\\Users\\VictorLeCoz\\Anaconda3\\envs\\interbank_network\\lib\\site-packages\\cpnet\\qstest.py:96: FutureWarning: adjacency_matrix will return a scipy.sparse array instead of a matrix in Networkx 3.0.\n",
      "  A = nx.adjacency_matrix(G)\n"
     ]
    },
    {
     "name": "stdout",
     "output_type": "stream",
     "text": [
      "test on day 2010-12-16 00:00:00\n"
     ]
    },
    {
     "name": "stderr",
     "output_type": "stream",
     "text": [
      "c:\\Users\\VictorLeCoz\\Anaconda3\\envs\\interbank_network\\lib\\site-packages\\cpnet\\qstest.py:35: FutureWarning: adjacency_matrix will return a scipy.sparse array instead of a matrix in Networkx 3.0.\n",
      "  Ar = sparse.csr_matrix(nx.adjacency_matrix(Gr))\n",
      "100%|██████████| 100/100 [00:00<00:00, 215.20it/s]\n",
      "c:\\Users\\VictorLeCoz\\Anaconda3\\envs\\interbank_network\\lib\\site-packages\\cpnet\\utils.py:20: FutureWarning: adjacency_matrix will return a scipy.sparse array instead of a matrix in Networkx 3.0.\n",
      "  sparse.csr_matrix(nx.adjacency_matrix(net), dtype=np.float64),\n",
      "c:\\Users\\VictorLeCoz\\Anaconda3\\envs\\interbank_network\\lib\\site-packages\\cpnet\\qstest.py:96: FutureWarning: adjacency_matrix will return a scipy.sparse array instead of a matrix in Networkx 3.0.\n",
      "  A = nx.adjacency_matrix(G)\n"
     ]
    },
    {
     "name": "stdout",
     "output_type": "stream",
     "text": [
      "test on day 2013-09-11 00:00:00\n"
     ]
    },
    {
     "name": "stderr",
     "output_type": "stream",
     "text": [
      "c:\\Users\\VictorLeCoz\\Anaconda3\\envs\\interbank_network\\lib\\site-packages\\cpnet\\qstest.py:35: FutureWarning: adjacency_matrix will return a scipy.sparse array instead of a matrix in Networkx 3.0.\n",
      "  Ar = sparse.csr_matrix(nx.adjacency_matrix(Gr))\n",
      "100%|██████████| 100/100 [00:00<00:00, 212.44it/s]\n",
      "c:\\Users\\VictorLeCoz\\Anaconda3\\envs\\interbank_network\\lib\\site-packages\\cpnet\\utils.py:20: FutureWarning: adjacency_matrix will return a scipy.sparse array instead of a matrix in Networkx 3.0.\n",
      "  sparse.csr_matrix(nx.adjacency_matrix(net), dtype=np.float64),\n",
      "c:\\Users\\VictorLeCoz\\Anaconda3\\envs\\interbank_network\\lib\\site-packages\\cpnet\\qstest.py:96: FutureWarning: adjacency_matrix will return a scipy.sparse array instead of a matrix in Networkx 3.0.\n",
      "  A = nx.adjacency_matrix(G)\n"
     ]
    },
    {
     "name": "stdout",
     "output_type": "stream",
     "text": [
      "test on day 2016-06-07 00:00:00\n"
     ]
    },
    {
     "name": "stderr",
     "output_type": "stream",
     "text": [
      "c:\\Users\\VictorLeCoz\\Anaconda3\\envs\\interbank_network\\lib\\site-packages\\cpnet\\qstest.py:35: FutureWarning: adjacency_matrix will return a scipy.sparse array instead of a matrix in Networkx 3.0.\n",
      "  Ar = sparse.csr_matrix(nx.adjacency_matrix(Gr))\n",
      "100%|██████████| 100/100 [00:00<00:00, 299.64it/s]\n",
      "c:\\Users\\VictorLeCoz\\Anaconda3\\envs\\interbank_network\\lib\\site-packages\\cpnet\\utils.py:20: FutureWarning: adjacency_matrix will return a scipy.sparse array instead of a matrix in Networkx 3.0.\n",
      "  sparse.csr_matrix(nx.adjacency_matrix(net), dtype=np.float64),\n",
      "c:\\Users\\VictorLeCoz\\Anaconda3\\envs\\interbank_network\\lib\\site-packages\\cpnet\\qstest.py:96: FutureWarning: adjacency_matrix will return a scipy.sparse array instead of a matrix in Networkx 3.0.\n",
      "  A = nx.adjacency_matrix(G)\n"
     ]
    },
    {
     "name": "stdout",
     "output_type": "stream",
     "text": [
      "test on day 2019-03-04 00:00:00\n"
     ]
    },
    {
     "name": "stderr",
     "output_type": "stream",
     "text": [
      "c:\\Users\\VictorLeCoz\\Anaconda3\\envs\\interbank_network\\lib\\site-packages\\cpnet\\qstest.py:35: FutureWarning: adjacency_matrix will return a scipy.sparse array instead of a matrix in Networkx 3.0.\n",
      "  Ar = sparse.csr_matrix(nx.adjacency_matrix(Gr))\n",
      "100%|██████████| 100/100 [00:00<00:00, 328.94it/s]\n",
      "c:\\Users\\VictorLeCoz\\Anaconda3\\envs\\interbank_network\\lib\\site-packages\\cpnet\\utils.py:20: FutureWarning: adjacency_matrix will return a scipy.sparse array instead of a matrix in Networkx 3.0.\n",
      "  sparse.csr_matrix(nx.adjacency_matrix(net), dtype=np.float64),\n",
      "c:\\Users\\VictorLeCoz\\Anaconda3\\envs\\interbank_network\\lib\\site-packages\\cpnet\\qstest.py:96: FutureWarning: adjacency_matrix will return a scipy.sparse array instead of a matrix in Networkx 3.0.\n",
      "  A = nx.adjacency_matrix(G)\n"
     ]
    },
    {
     "name": "stdout",
     "output_type": "stream",
     "text": [
      "test on day 2021-11-28 00:00:00\n"
     ]
    },
    {
     "name": "stderr",
     "output_type": "stream",
     "text": [
      "c:\\Users\\VictorLeCoz\\Anaconda3\\envs\\interbank_network\\lib\\site-packages\\cpnet\\qstest.py:35: FutureWarning: adjacency_matrix will return a scipy.sparse array instead of a matrix in Networkx 3.0.\n",
      "  Ar = sparse.csr_matrix(nx.adjacency_matrix(Gr))\n",
      "100%|██████████| 100/100 [00:00<00:00, 234.91it/s]\n",
      "c:\\Users\\VictorLeCoz\\Anaconda3\\envs\\interbank_network\\lib\\site-packages\\cpnet\\utils.py:20: FutureWarning: adjacency_matrix will return a scipy.sparse array instead of a matrix in Networkx 3.0.\n",
      "  sparse.csr_matrix(nx.adjacency_matrix(net), dtype=np.float64),\n",
      "c:\\Users\\VictorLeCoz\\Anaconda3\\envs\\interbank_network\\lib\\site-packages\\cpnet\\qstest.py:96: FutureWarning: adjacency_matrix will return a scipy.sparse array instead of a matrix in Networkx 3.0.\n",
      "  A = nx.adjacency_matrix(G)\n"
     ]
    },
    {
     "name": "stdout",
     "output_type": "stream",
     "text": [
      "test on day 2024-02-19 00:00:00\n"
     ]
    },
    {
     "name": "stderr",
     "output_type": "stream",
     "text": [
      "c:\\Users\\VictorLeCoz\\Anaconda3\\envs\\interbank_network\\lib\\site-packages\\cpnet\\qstest.py:35: FutureWarning: adjacency_matrix will return a scipy.sparse array instead of a matrix in Networkx 3.0.\n",
      "  Ar = sparse.csr_matrix(nx.adjacency_matrix(Gr))\n",
      "100%|██████████| 100/100 [00:00<00:00, 254.33it/s]\n",
      "c:\\Users\\VictorLeCoz\\Anaconda3\\envs\\interbank_network\\lib\\site-packages\\cpnet\\utils.py:20: FutureWarning: adjacency_matrix will return a scipy.sparse array instead of a matrix in Networkx 3.0.\n",
      "  sparse.csr_matrix(nx.adjacency_matrix(net), dtype=np.float64),\n",
      "c:\\Users\\VictorLeCoz\\Anaconda3\\envs\\interbank_network\\lib\\site-packages\\cpnet\\qstest.py:96: FutureWarning: adjacency_matrix will return a scipy.sparse array instead of a matrix in Networkx 3.0.\n",
      "  A = nx.adjacency_matrix(G)\n"
     ]
    },
    {
     "name": "stdout",
     "output_type": "stream",
     "text": [
      "core-periphery tests using the LowRankCore approach\n",
      "test on day 2000-01-03 00:00:00\n"
     ]
    },
    {
     "name": "stderr",
     "output_type": "stream",
     "text": [
      "c:\\Users\\VictorLeCoz\\Anaconda3\\envs\\interbank_network\\lib\\site-packages\\cpnet\\qstest.py:35: FutureWarning: adjacency_matrix will return a scipy.sparse array instead of a matrix in Networkx 3.0.\n",
      "  Ar = sparse.csr_matrix(nx.adjacency_matrix(Gr))\n",
      "100%|██████████| 100/100 [00:00<00:00, 168.42it/s]\n"
     ]
    },
    {
     "name": "stdout",
     "output_type": "stream",
     "text": [
      "test on day 2002-09-29 00:00:00\n"
     ]
    },
    {
     "name": "stderr",
     "output_type": "stream",
     "text": [
      "100%|██████████| 100/100 [00:00<00:00, 176.96it/s]\n",
      "c:\\Users\\VictorLeCoz\\Anaconda3\\envs\\interbank_network\\lib\\site-packages\\cpnet\\utils.py:20: FutureWarning: adjacency_matrix will return a scipy.sparse array instead of a matrix in Networkx 3.0.\n",
      "  sparse.csr_matrix(nx.adjacency_matrix(net), dtype=np.float64),\n",
      "c:\\Users\\VictorLeCoz\\Anaconda3\\envs\\interbank_network\\lib\\site-packages\\cpnet\\qstest.py:96: FutureWarning: adjacency_matrix will return a scipy.sparse array instead of a matrix in Networkx 3.0.\n",
      "  A = nx.adjacency_matrix(G)\n"
     ]
    },
    {
     "name": "stdout",
     "output_type": "stream",
     "text": [
      "test on day 2005-06-25 00:00:00\n"
     ]
    },
    {
     "name": "stderr",
     "output_type": "stream",
     "text": [
      "c:\\Users\\VictorLeCoz\\Anaconda3\\envs\\interbank_network\\lib\\site-packages\\cpnet\\qstest.py:35: FutureWarning: adjacency_matrix will return a scipy.sparse array instead of a matrix in Networkx 3.0.\n",
      "  Ar = sparse.csr_matrix(nx.adjacency_matrix(Gr))\n",
      "100%|██████████| 100/100 [00:00<00:00, 199.95it/s]\n",
      "c:\\Users\\VictorLeCoz\\Anaconda3\\envs\\interbank_network\\lib\\site-packages\\cpnet\\utils.py:20: FutureWarning: adjacency_matrix will return a scipy.sparse array instead of a matrix in Networkx 3.0.\n",
      "  sparse.csr_matrix(nx.adjacency_matrix(net), dtype=np.float64),\n",
      "c:\\Users\\VictorLeCoz\\Anaconda3\\envs\\interbank_network\\lib\\site-packages\\cpnet\\qstest.py:96: FutureWarning: adjacency_matrix will return a scipy.sparse array instead of a matrix in Networkx 3.0.\n",
      "  A = nx.adjacency_matrix(G)\n"
     ]
    },
    {
     "name": "stdout",
     "output_type": "stream",
     "text": [
      "test on day 2008-03-21 00:00:00\n"
     ]
    },
    {
     "name": "stderr",
     "output_type": "stream",
     "text": [
      "c:\\Users\\VictorLeCoz\\Anaconda3\\envs\\interbank_network\\lib\\site-packages\\cpnet\\qstest.py:35: FutureWarning: adjacency_matrix will return a scipy.sparse array instead of a matrix in Networkx 3.0.\n",
      "  Ar = sparse.csr_matrix(nx.adjacency_matrix(Gr))\n",
      "100%|██████████| 100/100 [00:00<00:00, 211.54it/s]\n",
      "c:\\Users\\VictorLeCoz\\Anaconda3\\envs\\interbank_network\\lib\\site-packages\\cpnet\\utils.py:20: FutureWarning: adjacency_matrix will return a scipy.sparse array instead of a matrix in Networkx 3.0.\n",
      "  sparse.csr_matrix(nx.adjacency_matrix(net), dtype=np.float64),\n",
      "c:\\Users\\VictorLeCoz\\Anaconda3\\envs\\interbank_network\\lib\\site-packages\\cpnet\\qstest.py:96: FutureWarning: adjacency_matrix will return a scipy.sparse array instead of a matrix in Networkx 3.0.\n",
      "  A = nx.adjacency_matrix(G)\n"
     ]
    },
    {
     "name": "stdout",
     "output_type": "stream",
     "text": [
      "test on day 2010-12-16 00:00:00\n"
     ]
    },
    {
     "name": "stderr",
     "output_type": "stream",
     "text": [
      "c:\\Users\\VictorLeCoz\\Anaconda3\\envs\\interbank_network\\lib\\site-packages\\cpnet\\qstest.py:35: FutureWarning: adjacency_matrix will return a scipy.sparse array instead of a matrix in Networkx 3.0.\n",
      "  Ar = sparse.csr_matrix(nx.adjacency_matrix(Gr))\n",
      "100%|██████████| 100/100 [00:00<00:00, 156.88it/s]\n",
      "c:\\Users\\VictorLeCoz\\Anaconda3\\envs\\interbank_network\\lib\\site-packages\\cpnet\\utils.py:20: FutureWarning: adjacency_matrix will return a scipy.sparse array instead of a matrix in Networkx 3.0.\n",
      "  sparse.csr_matrix(nx.adjacency_matrix(net), dtype=np.float64),\n",
      "c:\\Users\\VictorLeCoz\\Anaconda3\\envs\\interbank_network\\lib\\site-packages\\cpnet\\qstest.py:96: FutureWarning: adjacency_matrix will return a scipy.sparse array instead of a matrix in Networkx 3.0.\n",
      "  A = nx.adjacency_matrix(G)\n"
     ]
    },
    {
     "name": "stdout",
     "output_type": "stream",
     "text": [
      "test on day 2013-09-11 00:00:00\n"
     ]
    },
    {
     "name": "stderr",
     "output_type": "stream",
     "text": [
      "c:\\Users\\VictorLeCoz\\Anaconda3\\envs\\interbank_network\\lib\\site-packages\\cpnet\\qstest.py:35: FutureWarning: adjacency_matrix will return a scipy.sparse array instead of a matrix in Networkx 3.0.\n",
      "  Ar = sparse.csr_matrix(nx.adjacency_matrix(Gr))\n",
      "100%|██████████| 100/100 [00:00<00:00, 206.33it/s]\n",
      "c:\\Users\\VictorLeCoz\\Anaconda3\\envs\\interbank_network\\lib\\site-packages\\cpnet\\utils.py:20: FutureWarning: adjacency_matrix will return a scipy.sparse array instead of a matrix in Networkx 3.0.\n",
      "  sparse.csr_matrix(nx.adjacency_matrix(net), dtype=np.float64),\n",
      "c:\\Users\\VictorLeCoz\\Anaconda3\\envs\\interbank_network\\lib\\site-packages\\cpnet\\qstest.py:96: FutureWarning: adjacency_matrix will return a scipy.sparse array instead of a matrix in Networkx 3.0.\n",
      "  A = nx.adjacency_matrix(G)\n"
     ]
    },
    {
     "name": "stdout",
     "output_type": "stream",
     "text": [
      "test on day 2016-06-07 00:00:00\n"
     ]
    },
    {
     "name": "stderr",
     "output_type": "stream",
     "text": [
      "c:\\Users\\VictorLeCoz\\Anaconda3\\envs\\interbank_network\\lib\\site-packages\\cpnet\\qstest.py:35: FutureWarning: adjacency_matrix will return a scipy.sparse array instead of a matrix in Networkx 3.0.\n",
      "  Ar = sparse.csr_matrix(nx.adjacency_matrix(Gr))\n",
      "100%|██████████| 100/100 [00:00<00:00, 166.86it/s]\n",
      "c:\\Users\\VictorLeCoz\\Anaconda3\\envs\\interbank_network\\lib\\site-packages\\cpnet\\utils.py:20: FutureWarning: adjacency_matrix will return a scipy.sparse array instead of a matrix in Networkx 3.0.\n",
      "  sparse.csr_matrix(nx.adjacency_matrix(net), dtype=np.float64),\n",
      "c:\\Users\\VictorLeCoz\\Anaconda3\\envs\\interbank_network\\lib\\site-packages\\cpnet\\qstest.py:96: FutureWarning: adjacency_matrix will return a scipy.sparse array instead of a matrix in Networkx 3.0.\n",
      "  A = nx.adjacency_matrix(G)\n"
     ]
    },
    {
     "name": "stdout",
     "output_type": "stream",
     "text": [
      "test on day 2019-03-04 00:00:00\n"
     ]
    },
    {
     "name": "stderr",
     "output_type": "stream",
     "text": [
      "c:\\Users\\VictorLeCoz\\Anaconda3\\envs\\interbank_network\\lib\\site-packages\\cpnet\\qstest.py:35: FutureWarning: adjacency_matrix will return a scipy.sparse array instead of a matrix in Networkx 3.0.\n",
      "  Ar = sparse.csr_matrix(nx.adjacency_matrix(Gr))\n",
      "100%|██████████| 100/100 [00:00<00:00, 169.27it/s]\n",
      "c:\\Users\\VictorLeCoz\\Anaconda3\\envs\\interbank_network\\lib\\site-packages\\cpnet\\utils.py:20: FutureWarning: adjacency_matrix will return a scipy.sparse array instead of a matrix in Networkx 3.0.\n",
      "  sparse.csr_matrix(nx.adjacency_matrix(net), dtype=np.float64),\n",
      "c:\\Users\\VictorLeCoz\\Anaconda3\\envs\\interbank_network\\lib\\site-packages\\cpnet\\qstest.py:96: FutureWarning: adjacency_matrix will return a scipy.sparse array instead of a matrix in Networkx 3.0.\n",
      "  A = nx.adjacency_matrix(G)\n"
     ]
    },
    {
     "name": "stdout",
     "output_type": "stream",
     "text": [
      "test on day 2021-11-28 00:00:00\n"
     ]
    },
    {
     "name": "stderr",
     "output_type": "stream",
     "text": [
      "c:\\Users\\VictorLeCoz\\Anaconda3\\envs\\interbank_network\\lib\\site-packages\\cpnet\\qstest.py:35: FutureWarning: adjacency_matrix will return a scipy.sparse array instead of a matrix in Networkx 3.0.\n",
      "  Ar = sparse.csr_matrix(nx.adjacency_matrix(Gr))\n",
      "100%|██████████| 100/100 [00:00<00:00, 143.83it/s]\n",
      "c:\\Users\\VictorLeCoz\\Anaconda3\\envs\\interbank_network\\lib\\site-packages\\cpnet\\utils.py:20: FutureWarning: adjacency_matrix will return a scipy.sparse array instead of a matrix in Networkx 3.0.\n",
      "  sparse.csr_matrix(nx.adjacency_matrix(net), dtype=np.float64),\n",
      "c:\\Users\\VictorLeCoz\\Anaconda3\\envs\\interbank_network\\lib\\site-packages\\cpnet\\qstest.py:96: FutureWarning: adjacency_matrix will return a scipy.sparse array instead of a matrix in Networkx 3.0.\n",
      "  A = nx.adjacency_matrix(G)\n"
     ]
    },
    {
     "name": "stdout",
     "output_type": "stream",
     "text": [
      "test on day 2024-02-19 00:00:00\n"
     ]
    },
    {
     "name": "stderr",
     "output_type": "stream",
     "text": [
      "c:\\Users\\VictorLeCoz\\Anaconda3\\envs\\interbank_network\\lib\\site-packages\\cpnet\\qstest.py:35: FutureWarning: adjacency_matrix will return a scipy.sparse array instead of a matrix in Networkx 3.0.\n",
      "  Ar = sparse.csr_matrix(nx.adjacency_matrix(Gr))\n",
      "100%|██████████| 100/100 [00:00<00:00, 125.77it/s]\n",
      "c:\\Users\\VictorLeCoz\\Anaconda3\\envs\\interbank_network\\lib\\site-packages\\cpnet\\utils.py:20: FutureWarning: adjacency_matrix will return a scipy.sparse array instead of a matrix in Networkx 3.0.\n",
      "  sparse.csr_matrix(nx.adjacency_matrix(net), dtype=np.float64),\n",
      "c:\\Users\\VictorLeCoz\\Anaconda3\\envs\\interbank_network\\lib\\site-packages\\cpnet\\qstest.py:96: FutureWarning: adjacency_matrix will return a scipy.sparse array instead of a matrix in Networkx 3.0.\n",
      "  A = nx.adjacency_matrix(G)\n"
     ]
    },
    {
     "name": "stdout",
     "output_type": "stream",
     "text": [
      "core-periphery tests using the MINRES approach\n",
      "test on day 2000-01-03 00:00:00\n"
     ]
    },
    {
     "name": "stderr",
     "output_type": "stream",
     "text": [
      "c:\\Users\\VictorLeCoz\\Anaconda3\\envs\\interbank_network\\lib\\site-packages\\cpnet\\qstest.py:35: FutureWarning: adjacency_matrix will return a scipy.sparse array instead of a matrix in Networkx 3.0.\n",
      "  Ar = sparse.csr_matrix(nx.adjacency_matrix(Gr))\n",
      "100%|██████████| 100/100 [00:03<00:00, 27.08it/s]\n"
     ]
    },
    {
     "name": "stdout",
     "output_type": "stream",
     "text": [
      "test on day 2002-09-29 00:00:00\n"
     ]
    },
    {
     "name": "stderr",
     "output_type": "stream",
     "text": [
      "100%|██████████| 100/100 [00:03<00:00, 30.17it/s]\n",
      "c:\\Users\\VictorLeCoz\\Anaconda3\\envs\\interbank_network\\lib\\site-packages\\cpnet\\utils.py:20: FutureWarning: adjacency_matrix will return a scipy.sparse array instead of a matrix in Networkx 3.0.\n",
      "  sparse.csr_matrix(nx.adjacency_matrix(net), dtype=np.float64),\n",
      "c:\\Users\\VictorLeCoz\\Anaconda3\\envs\\interbank_network\\lib\\site-packages\\cpnet\\qstest.py:96: FutureWarning: adjacency_matrix will return a scipy.sparse array instead of a matrix in Networkx 3.0.\n",
      "  A = nx.adjacency_matrix(G)\n"
     ]
    },
    {
     "name": "stdout",
     "output_type": "stream",
     "text": [
      "test on day 2005-06-25 00:00:00\n"
     ]
    },
    {
     "name": "stderr",
     "output_type": "stream",
     "text": [
      "c:\\Users\\VictorLeCoz\\Anaconda3\\envs\\interbank_network\\lib\\site-packages\\cpnet\\qstest.py:35: FutureWarning: adjacency_matrix will return a scipy.sparse array instead of a matrix in Networkx 3.0.\n",
      "  Ar = sparse.csr_matrix(nx.adjacency_matrix(Gr))\n",
      "100%|██████████| 100/100 [00:02<00:00, 38.60it/s]\n",
      "c:\\Users\\VictorLeCoz\\Anaconda3\\envs\\interbank_network\\lib\\site-packages\\cpnet\\utils.py:20: FutureWarning: adjacency_matrix will return a scipy.sparse array instead of a matrix in Networkx 3.0.\n",
      "  sparse.csr_matrix(nx.adjacency_matrix(net), dtype=np.float64),\n",
      "c:\\Users\\VictorLeCoz\\Anaconda3\\envs\\interbank_network\\lib\\site-packages\\cpnet\\qstest.py:96: FutureWarning: adjacency_matrix will return a scipy.sparse array instead of a matrix in Networkx 3.0.\n",
      "  A = nx.adjacency_matrix(G)\n"
     ]
    },
    {
     "name": "stdout",
     "output_type": "stream",
     "text": [
      "test on day 2008-03-21 00:00:00\n"
     ]
    },
    {
     "name": "stderr",
     "output_type": "stream",
     "text": [
      "c:\\Users\\VictorLeCoz\\Anaconda3\\envs\\interbank_network\\lib\\site-packages\\cpnet\\qstest.py:35: FutureWarning: adjacency_matrix will return a scipy.sparse array instead of a matrix in Networkx 3.0.\n",
      "  Ar = sparse.csr_matrix(nx.adjacency_matrix(Gr))\n",
      "100%|██████████| 100/100 [00:02<00:00, 34.15it/s]\n",
      "c:\\Users\\VictorLeCoz\\Anaconda3\\envs\\interbank_network\\lib\\site-packages\\cpnet\\utils.py:20: FutureWarning: adjacency_matrix will return a scipy.sparse array instead of a matrix in Networkx 3.0.\n",
      "  sparse.csr_matrix(nx.adjacency_matrix(net), dtype=np.float64),\n",
      "c:\\Users\\VictorLeCoz\\Anaconda3\\envs\\interbank_network\\lib\\site-packages\\cpnet\\qstest.py:96: FutureWarning: adjacency_matrix will return a scipy.sparse array instead of a matrix in Networkx 3.0.\n",
      "  A = nx.adjacency_matrix(G)\n"
     ]
    },
    {
     "name": "stdout",
     "output_type": "stream",
     "text": [
      "test on day 2010-12-16 00:00:00\n"
     ]
    },
    {
     "name": "stderr",
     "output_type": "stream",
     "text": [
      "c:\\Users\\VictorLeCoz\\Anaconda3\\envs\\interbank_network\\lib\\site-packages\\cpnet\\qstest.py:35: FutureWarning: adjacency_matrix will return a scipy.sparse array instead of a matrix in Networkx 3.0.\n",
      "  Ar = sparse.csr_matrix(nx.adjacency_matrix(Gr))\n",
      "100%|██████████| 100/100 [00:04<00:00, 23.16it/s]\n",
      "c:\\Users\\VictorLeCoz\\Anaconda3\\envs\\interbank_network\\lib\\site-packages\\cpnet\\utils.py:20: FutureWarning: adjacency_matrix will return a scipy.sparse array instead of a matrix in Networkx 3.0.\n",
      "  sparse.csr_matrix(nx.adjacency_matrix(net), dtype=np.float64),\n",
      "c:\\Users\\VictorLeCoz\\Anaconda3\\envs\\interbank_network\\lib\\site-packages\\cpnet\\qstest.py:96: FutureWarning: adjacency_matrix will return a scipy.sparse array instead of a matrix in Networkx 3.0.\n",
      "  A = nx.adjacency_matrix(G)\n"
     ]
    },
    {
     "name": "stdout",
     "output_type": "stream",
     "text": [
      "test on day 2013-09-11 00:00:00\n"
     ]
    },
    {
     "name": "stderr",
     "output_type": "stream",
     "text": [
      "c:\\Users\\VictorLeCoz\\Anaconda3\\envs\\interbank_network\\lib\\site-packages\\cpnet\\qstest.py:35: FutureWarning: adjacency_matrix will return a scipy.sparse array instead of a matrix in Networkx 3.0.\n",
      "  Ar = sparse.csr_matrix(nx.adjacency_matrix(Gr))\n",
      "100%|██████████| 100/100 [00:02<00:00, 36.35it/s]\n",
      "c:\\Users\\VictorLeCoz\\Anaconda3\\envs\\interbank_network\\lib\\site-packages\\cpnet\\utils.py:20: FutureWarning: adjacency_matrix will return a scipy.sparse array instead of a matrix in Networkx 3.0.\n",
      "  sparse.csr_matrix(nx.adjacency_matrix(net), dtype=np.float64),\n",
      "c:\\Users\\VictorLeCoz\\Anaconda3\\envs\\interbank_network\\lib\\site-packages\\cpnet\\qstest.py:96: FutureWarning: adjacency_matrix will return a scipy.sparse array instead of a matrix in Networkx 3.0.\n",
      "  A = nx.adjacency_matrix(G)\n"
     ]
    },
    {
     "name": "stdout",
     "output_type": "stream",
     "text": [
      "test on day 2016-06-07 00:00:00\n"
     ]
    },
    {
     "name": "stderr",
     "output_type": "stream",
     "text": [
      "c:\\Users\\VictorLeCoz\\Anaconda3\\envs\\interbank_network\\lib\\site-packages\\cpnet\\qstest.py:35: FutureWarning: adjacency_matrix will return a scipy.sparse array instead of a matrix in Networkx 3.0.\n",
      "  Ar = sparse.csr_matrix(nx.adjacency_matrix(Gr))\n",
      "100%|██████████| 100/100 [00:02<00:00, 43.10it/s]\n",
      "c:\\Users\\VictorLeCoz\\Anaconda3\\envs\\interbank_network\\lib\\site-packages\\cpnet\\utils.py:20: FutureWarning: adjacency_matrix will return a scipy.sparse array instead of a matrix in Networkx 3.0.\n",
      "  sparse.csr_matrix(nx.adjacency_matrix(net), dtype=np.float64),\n",
      "c:\\Users\\VictorLeCoz\\Anaconda3\\envs\\interbank_network\\lib\\site-packages\\cpnet\\qstest.py:96: FutureWarning: adjacency_matrix will return a scipy.sparse array instead of a matrix in Networkx 3.0.\n",
      "  A = nx.adjacency_matrix(G)\n"
     ]
    },
    {
     "name": "stdout",
     "output_type": "stream",
     "text": [
      "test on day 2019-03-04 00:00:00\n"
     ]
    },
    {
     "name": "stderr",
     "output_type": "stream",
     "text": [
      "c:\\Users\\VictorLeCoz\\Anaconda3\\envs\\interbank_network\\lib\\site-packages\\cpnet\\qstest.py:35: FutureWarning: adjacency_matrix will return a scipy.sparse array instead of a matrix in Networkx 3.0.\n",
      "  Ar = sparse.csr_matrix(nx.adjacency_matrix(Gr))\n",
      "100%|██████████| 100/100 [00:02<00:00, 37.34it/s]\n",
      "c:\\Users\\VictorLeCoz\\Anaconda3\\envs\\interbank_network\\lib\\site-packages\\cpnet\\utils.py:20: FutureWarning: adjacency_matrix will return a scipy.sparse array instead of a matrix in Networkx 3.0.\n",
      "  sparse.csr_matrix(nx.adjacency_matrix(net), dtype=np.float64),\n",
      "c:\\Users\\VictorLeCoz\\Anaconda3\\envs\\interbank_network\\lib\\site-packages\\cpnet\\qstest.py:96: FutureWarning: adjacency_matrix will return a scipy.sparse array instead of a matrix in Networkx 3.0.\n",
      "  A = nx.adjacency_matrix(G)\n"
     ]
    },
    {
     "name": "stdout",
     "output_type": "stream",
     "text": [
      "test on day 2021-11-28 00:00:00\n"
     ]
    },
    {
     "name": "stderr",
     "output_type": "stream",
     "text": [
      "c:\\Users\\VictorLeCoz\\Anaconda3\\envs\\interbank_network\\lib\\site-packages\\cpnet\\qstest.py:35: FutureWarning: adjacency_matrix will return a scipy.sparse array instead of a matrix in Networkx 3.0.\n",
      "  Ar = sparse.csr_matrix(nx.adjacency_matrix(Gr))\n",
      "100%|██████████| 100/100 [00:02<00:00, 36.02it/s]\n",
      "c:\\Users\\VictorLeCoz\\Anaconda3\\envs\\interbank_network\\lib\\site-packages\\cpnet\\utils.py:20: FutureWarning: adjacency_matrix will return a scipy.sparse array instead of a matrix in Networkx 3.0.\n",
      "  sparse.csr_matrix(nx.adjacency_matrix(net), dtype=np.float64),\n",
      "c:\\Users\\VictorLeCoz\\Anaconda3\\envs\\interbank_network\\lib\\site-packages\\cpnet\\qstest.py:96: FutureWarning: adjacency_matrix will return a scipy.sparse array instead of a matrix in Networkx 3.0.\n",
      "  A = nx.adjacency_matrix(G)\n"
     ]
    },
    {
     "name": "stdout",
     "output_type": "stream",
     "text": [
      "test on day 2024-02-19 00:00:00\n"
     ]
    },
    {
     "name": "stderr",
     "output_type": "stream",
     "text": [
      "c:\\Users\\VictorLeCoz\\Anaconda3\\envs\\interbank_network\\lib\\site-packages\\cpnet\\qstest.py:35: FutureWarning: adjacency_matrix will return a scipy.sparse array instead of a matrix in Networkx 3.0.\n",
      "  Ar = sparse.csr_matrix(nx.adjacency_matrix(Gr))\n",
      "100%|██████████| 100/100 [00:05<00:00, 19.20it/s]\n",
      "c:\\Users\\VictorLeCoz\\Anaconda3\\envs\\interbank_network\\lib\\site-packages\\cpnet\\utils.py:20: FutureWarning: adjacency_matrix will return a scipy.sparse array instead of a matrix in Networkx 3.0.\n",
      "  sparse.csr_matrix(nx.adjacency_matrix(net), dtype=np.float64),\n",
      "c:\\Users\\VictorLeCoz\\Anaconda3\\envs\\interbank_network\\lib\\site-packages\\cpnet\\qstest.py:96: FutureWarning: adjacency_matrix will return a scipy.sparse array instead of a matrix in Networkx 3.0.\n",
      "  A = nx.adjacency_matrix(G)\n"
     ]
    },
    {
     "name": "stdout",
     "output_type": "stream",
     "text": [
      "core-periphery tests using the Lip approach\n",
      "test on day 2000-01-03 00:00:00\n"
     ]
    },
    {
     "name": "stderr",
     "output_type": "stream",
     "text": [
      "c:\\Users\\VictorLeCoz\\Anaconda3\\envs\\interbank_network\\lib\\site-packages\\cpnet\\qstest.py:35: FutureWarning: adjacency_matrix will return a scipy.sparse array instead of a matrix in Networkx 3.0.\n",
      "  Ar = sparse.csr_matrix(nx.adjacency_matrix(Gr))\n",
      "100%|██████████| 100/100 [00:00<00:00, 1542.58it/s]\n"
     ]
    },
    {
     "name": "stdout",
     "output_type": "stream",
     "text": [
      "test on day 2002-09-29 00:00:00\n"
     ]
    },
    {
     "name": "stderr",
     "output_type": "stream",
     "text": [
      "100%|██████████| 100/100 [00:00<00:00, 791.72it/s]\n",
      "c:\\Users\\VictorLeCoz\\Anaconda3\\envs\\interbank_network\\lib\\site-packages\\cpnet\\utils.py:20: FutureWarning: adjacency_matrix will return a scipy.sparse array instead of a matrix in Networkx 3.0.\n",
      "  sparse.csr_matrix(nx.adjacency_matrix(net), dtype=np.float64),\n",
      "c:\\Users\\VictorLeCoz\\Anaconda3\\envs\\interbank_network\\lib\\site-packages\\cpnet\\qstest.py:96: FutureWarning: adjacency_matrix will return a scipy.sparse array instead of a matrix in Networkx 3.0.\n",
      "  A = nx.adjacency_matrix(G)\n"
     ]
    },
    {
     "name": "stdout",
     "output_type": "stream",
     "text": [
      "test on day 2005-06-25 00:00:00\n"
     ]
    },
    {
     "name": "stderr",
     "output_type": "stream",
     "text": [
      "c:\\Users\\VictorLeCoz\\Anaconda3\\envs\\interbank_network\\lib\\site-packages\\cpnet\\qstest.py:35: FutureWarning: adjacency_matrix will return a scipy.sparse array instead of a matrix in Networkx 3.0.\n",
      "  Ar = sparse.csr_matrix(nx.adjacency_matrix(Gr))\n",
      "100%|██████████| 100/100 [00:00<00:00, 1236.47it/s]\n",
      "c:\\Users\\VictorLeCoz\\Anaconda3\\envs\\interbank_network\\lib\\site-packages\\cpnet\\utils.py:20: FutureWarning: adjacency_matrix will return a scipy.sparse array instead of a matrix in Networkx 3.0.\n",
      "  sparse.csr_matrix(nx.adjacency_matrix(net), dtype=np.float64),\n",
      "c:\\Users\\VictorLeCoz\\Anaconda3\\envs\\interbank_network\\lib\\site-packages\\cpnet\\qstest.py:96: FutureWarning: adjacency_matrix will return a scipy.sparse array instead of a matrix in Networkx 3.0.\n",
      "  A = nx.adjacency_matrix(G)\n"
     ]
    },
    {
     "name": "stdout",
     "output_type": "stream",
     "text": [
      "test on day 2008-03-21 00:00:00\n"
     ]
    },
    {
     "name": "stderr",
     "output_type": "stream",
     "text": [
      "c:\\Users\\VictorLeCoz\\Anaconda3\\envs\\interbank_network\\lib\\site-packages\\cpnet\\qstest.py:35: FutureWarning: adjacency_matrix will return a scipy.sparse array instead of a matrix in Networkx 3.0.\n",
      "  Ar = sparse.csr_matrix(nx.adjacency_matrix(Gr))\n",
      "100%|██████████| 100/100 [00:00<00:00, 838.02it/s]\n",
      "c:\\Users\\VictorLeCoz\\Anaconda3\\envs\\interbank_network\\lib\\site-packages\\cpnet\\utils.py:20: FutureWarning: adjacency_matrix will return a scipy.sparse array instead of a matrix in Networkx 3.0.\n",
      "  sparse.csr_matrix(nx.adjacency_matrix(net), dtype=np.float64),\n",
      "c:\\Users\\VictorLeCoz\\Anaconda3\\envs\\interbank_network\\lib\\site-packages\\cpnet\\qstest.py:96: FutureWarning: adjacency_matrix will return a scipy.sparse array instead of a matrix in Networkx 3.0.\n",
      "  A = nx.adjacency_matrix(G)\n"
     ]
    },
    {
     "name": "stdout",
     "output_type": "stream",
     "text": [
      "test on day 2010-12-16 00:00:00\n"
     ]
    },
    {
     "name": "stderr",
     "output_type": "stream",
     "text": [
      "c:\\Users\\VictorLeCoz\\Anaconda3\\envs\\interbank_network\\lib\\site-packages\\cpnet\\qstest.py:35: FutureWarning: adjacency_matrix will return a scipy.sparse array instead of a matrix in Networkx 3.0.\n",
      "  Ar = sparse.csr_matrix(nx.adjacency_matrix(Gr))\n",
      "100%|██████████| 100/100 [00:00<00:00, 505.58it/s]\n",
      "c:\\Users\\VictorLeCoz\\Anaconda3\\envs\\interbank_network\\lib\\site-packages\\cpnet\\utils.py:20: FutureWarning: adjacency_matrix will return a scipy.sparse array instead of a matrix in Networkx 3.0.\n",
      "  sparse.csr_matrix(nx.adjacency_matrix(net), dtype=np.float64),\n",
      "c:\\Users\\VictorLeCoz\\Anaconda3\\envs\\interbank_network\\lib\\site-packages\\cpnet\\qstest.py:96: FutureWarning: adjacency_matrix will return a scipy.sparse array instead of a matrix in Networkx 3.0.\n",
      "  A = nx.adjacency_matrix(G)\n"
     ]
    },
    {
     "name": "stdout",
     "output_type": "stream",
     "text": [
      "test on day 2013-09-11 00:00:00\n"
     ]
    },
    {
     "name": "stderr",
     "output_type": "stream",
     "text": [
      "c:\\Users\\VictorLeCoz\\Anaconda3\\envs\\interbank_network\\lib\\site-packages\\cpnet\\qstest.py:35: FutureWarning: adjacency_matrix will return a scipy.sparse array instead of a matrix in Networkx 3.0.\n",
      "  Ar = sparse.csr_matrix(nx.adjacency_matrix(Gr))\n",
      "100%|██████████| 100/100 [00:00<00:00, 606.12it/s]\n",
      "c:\\Users\\VictorLeCoz\\Anaconda3\\envs\\interbank_network\\lib\\site-packages\\cpnet\\utils.py:20: FutureWarning: adjacency_matrix will return a scipy.sparse array instead of a matrix in Networkx 3.0.\n",
      "  sparse.csr_matrix(nx.adjacency_matrix(net), dtype=np.float64),\n",
      "c:\\Users\\VictorLeCoz\\Anaconda3\\envs\\interbank_network\\lib\\site-packages\\cpnet\\qstest.py:96: FutureWarning: adjacency_matrix will return a scipy.sparse array instead of a matrix in Networkx 3.0.\n",
      "  A = nx.adjacency_matrix(G)\n"
     ]
    },
    {
     "name": "stdout",
     "output_type": "stream",
     "text": [
      "test on day 2016-06-07 00:00:00\n"
     ]
    },
    {
     "name": "stderr",
     "output_type": "stream",
     "text": [
      "c:\\Users\\VictorLeCoz\\Anaconda3\\envs\\interbank_network\\lib\\site-packages\\cpnet\\qstest.py:35: FutureWarning: adjacency_matrix will return a scipy.sparse array instead of a matrix in Networkx 3.0.\n",
      "  Ar = sparse.csr_matrix(nx.adjacency_matrix(Gr))\n",
      "100%|██████████| 100/100 [00:00<00:00, 1004.94it/s]\n",
      "c:\\Users\\VictorLeCoz\\Anaconda3\\envs\\interbank_network\\lib\\site-packages\\cpnet\\utils.py:20: FutureWarning: adjacency_matrix will return a scipy.sparse array instead of a matrix in Networkx 3.0.\n",
      "  sparse.csr_matrix(nx.adjacency_matrix(net), dtype=np.float64),\n",
      "c:\\Users\\VictorLeCoz\\Anaconda3\\envs\\interbank_network\\lib\\site-packages\\cpnet\\qstest.py:96: FutureWarning: adjacency_matrix will return a scipy.sparse array instead of a matrix in Networkx 3.0.\n",
      "  A = nx.adjacency_matrix(G)\n"
     ]
    },
    {
     "name": "stdout",
     "output_type": "stream",
     "text": [
      "test on day 2019-03-04 00:00:00\n"
     ]
    },
    {
     "name": "stderr",
     "output_type": "stream",
     "text": [
      "c:\\Users\\VictorLeCoz\\Anaconda3\\envs\\interbank_network\\lib\\site-packages\\cpnet\\qstest.py:35: FutureWarning: adjacency_matrix will return a scipy.sparse array instead of a matrix in Networkx 3.0.\n",
      "  Ar = sparse.csr_matrix(nx.adjacency_matrix(Gr))\n",
      "100%|██████████| 100/100 [00:00<00:00, 515.86it/s]\n",
      "c:\\Users\\VictorLeCoz\\Anaconda3\\envs\\interbank_network\\lib\\site-packages\\cpnet\\utils.py:20: FutureWarning: adjacency_matrix will return a scipy.sparse array instead of a matrix in Networkx 3.0.\n",
      "  sparse.csr_matrix(nx.adjacency_matrix(net), dtype=np.float64),\n",
      "c:\\Users\\VictorLeCoz\\Anaconda3\\envs\\interbank_network\\lib\\site-packages\\cpnet\\qstest.py:96: FutureWarning: adjacency_matrix will return a scipy.sparse array instead of a matrix in Networkx 3.0.\n",
      "  A = nx.adjacency_matrix(G)\n"
     ]
    },
    {
     "name": "stdout",
     "output_type": "stream",
     "text": [
      "test on day 2021-11-28 00:00:00\n"
     ]
    },
    {
     "name": "stderr",
     "output_type": "stream",
     "text": [
      "c:\\Users\\VictorLeCoz\\Anaconda3\\envs\\interbank_network\\lib\\site-packages\\cpnet\\qstest.py:35: FutureWarning: adjacency_matrix will return a scipy.sparse array instead of a matrix in Networkx 3.0.\n",
      "  Ar = sparse.csr_matrix(nx.adjacency_matrix(Gr))\n",
      "100%|██████████| 100/100 [00:00<00:00, 600.04it/s]\n"
     ]
    },
    {
     "name": "stdout",
     "output_type": "stream",
     "text": [
      "test on day 2024-02-19 00:00:00"
     ]
    },
    {
     "name": "stderr",
     "output_type": "stream",
     "text": [
      "c:\\Users\\VictorLeCoz\\Anaconda3\\envs\\interbank_network\\lib\\site-packages\\cpnet\\utils.py:20: FutureWarning: adjacency_matrix will return a scipy.sparse array instead of a matrix in Networkx 3.0.\n",
      "  sparse.csr_matrix(nx.adjacency_matrix(net), dtype=np.float64),\n",
      "c:\\Users\\VictorLeCoz\\Anaconda3\\envs\\interbank_network\\lib\\site-packages\\cpnet\\qstest.py:96: FutureWarning: adjacency_matrix will return a scipy.sparse array instead of a matrix in Networkx 3.0.\n",
      "  A = nx.adjacency_matrix(G)\n"
     ]
    },
    {
     "name": "stdout",
     "output_type": "stream",
     "text": [
      "\n"
     ]
    },
    {
     "name": "stderr",
     "output_type": "stream",
     "text": [
      "c:\\Users\\VictorLeCoz\\Anaconda3\\envs\\interbank_network\\lib\\site-packages\\cpnet\\qstest.py:35: FutureWarning: adjacency_matrix will return a scipy.sparse array instead of a matrix in Networkx 3.0.\n",
      "  Ar = sparse.csr_matrix(nx.adjacency_matrix(Gr))\n",
      "100%|██████████| 100/100 [00:00<00:00, 846.72it/s]\n",
      "c:\\Users\\VictorLeCoz\\Anaconda3\\envs\\interbank_network\\lib\\site-packages\\cpnet\\utils.py:20: FutureWarning: adjacency_matrix will return a scipy.sparse array instead of a matrix in Networkx 3.0.\n",
      "  sparse.csr_matrix(nx.adjacency_matrix(net), dtype=np.float64),\n"
     ]
    },
    {
     "name": "stdout",
     "output_type": "stream",
     "text": [
      "core-periphery tests using the BE approach\n",
      "test on day 2000-01-03 00:00:00\n"
     ]
    },
    {
     "name": "stderr",
     "output_type": "stream",
     "text": [
      "c:\\Users\\VictorLeCoz\\Anaconda3\\envs\\interbank_network\\lib\\site-packages\\cpnet\\qstest.py:96: FutureWarning: adjacency_matrix will return a scipy.sparse array instead of a matrix in Networkx 3.0.\n",
      "  A = nx.adjacency_matrix(G)\n",
      "c:\\Users\\VictorLeCoz\\Anaconda3\\envs\\interbank_network\\lib\\site-packages\\cpnet\\qstest.py:35: FutureWarning: adjacency_matrix will return a scipy.sparse array instead of a matrix in Networkx 3.0.\n",
      "  Ar = sparse.csr_matrix(nx.adjacency_matrix(Gr))\n",
      "100%|██████████| 100/100 [00:00<00:00, 559.78it/s]\n"
     ]
    },
    {
     "name": "stdout",
     "output_type": "stream",
     "text": [
      "test on day 2002-09-29 00:00:00\n"
     ]
    },
    {
     "name": "stderr",
     "output_type": "stream",
     "text": [
      "100%|██████████| 100/100 [00:00<00:00, 368.02it/s]\n",
      "c:\\Users\\VictorLeCoz\\Anaconda3\\envs\\interbank_network\\lib\\site-packages\\cpnet\\utils.py:20: FutureWarning: adjacency_matrix will return a scipy.sparse array instead of a matrix in Networkx 3.0.\n",
      "  sparse.csr_matrix(nx.adjacency_matrix(net), dtype=np.float64),\n",
      "c:\\Users\\VictorLeCoz\\Anaconda3\\envs\\interbank_network\\lib\\site-packages\\cpnet\\qstest.py:96: FutureWarning: adjacency_matrix will return a scipy.sparse array instead of a matrix in Networkx 3.0.\n",
      "  A = nx.adjacency_matrix(G)\n"
     ]
    },
    {
     "name": "stdout",
     "output_type": "stream",
     "text": [
      "test on day 2005-06-25 00:00:00\n"
     ]
    },
    {
     "name": "stderr",
     "output_type": "stream",
     "text": [
      "c:\\Users\\VictorLeCoz\\Anaconda3\\envs\\interbank_network\\lib\\site-packages\\cpnet\\qstest.py:35: FutureWarning: adjacency_matrix will return a scipy.sparse array instead of a matrix in Networkx 3.0.\n",
      "  Ar = sparse.csr_matrix(nx.adjacency_matrix(Gr))\n",
      "100%|██████████| 100/100 [00:00<00:00, 541.96it/s]\n",
      "c:\\Users\\VictorLeCoz\\Anaconda3\\envs\\interbank_network\\lib\\site-packages\\cpnet\\utils.py:20: FutureWarning: adjacency_matrix will return a scipy.sparse array instead of a matrix in Networkx 3.0.\n",
      "  sparse.csr_matrix(nx.adjacency_matrix(net), dtype=np.float64),\n",
      "c:\\Users\\VictorLeCoz\\Anaconda3\\envs\\interbank_network\\lib\\site-packages\\cpnet\\qstest.py:96: FutureWarning: adjacency_matrix will return a scipy.sparse array instead of a matrix in Networkx 3.0.\n",
      "  A = nx.adjacency_matrix(G)\n"
     ]
    },
    {
     "name": "stdout",
     "output_type": "stream",
     "text": [
      "test on day 2008-03-21 00:00:00\n"
     ]
    },
    {
     "name": "stderr",
     "output_type": "stream",
     "text": [
      "c:\\Users\\VictorLeCoz\\Anaconda3\\envs\\interbank_network\\lib\\site-packages\\cpnet\\qstest.py:35: FutureWarning: adjacency_matrix will return a scipy.sparse array instead of a matrix in Networkx 3.0.\n",
      "  Ar = sparse.csr_matrix(nx.adjacency_matrix(Gr))\n",
      "100%|██████████| 100/100 [00:00<00:00, 499.41it/s]\n",
      "c:\\Users\\VictorLeCoz\\Anaconda3\\envs\\interbank_network\\lib\\site-packages\\cpnet\\utils.py:20: FutureWarning: adjacency_matrix will return a scipy.sparse array instead of a matrix in Networkx 3.0.\n",
      "  sparse.csr_matrix(nx.adjacency_matrix(net), dtype=np.float64),\n",
      "c:\\Users\\VictorLeCoz\\Anaconda3\\envs\\interbank_network\\lib\\site-packages\\cpnet\\qstest.py:96: FutureWarning: adjacency_matrix will return a scipy.sparse array instead of a matrix in Networkx 3.0.\n",
      "  A = nx.adjacency_matrix(G)\n"
     ]
    },
    {
     "name": "stdout",
     "output_type": "stream",
     "text": [
      "test on day 2010-12-16 00:00:00\n"
     ]
    },
    {
     "name": "stderr",
     "output_type": "stream",
     "text": [
      "c:\\Users\\VictorLeCoz\\Anaconda3\\envs\\interbank_network\\lib\\site-packages\\cpnet\\qstest.py:35: FutureWarning: adjacency_matrix will return a scipy.sparse array instead of a matrix in Networkx 3.0.\n",
      "  Ar = sparse.csr_matrix(nx.adjacency_matrix(Gr))\n",
      "100%|██████████| 100/100 [00:00<00:00, 527.81it/s]\n",
      "c:\\Users\\VictorLeCoz\\Anaconda3\\envs\\interbank_network\\lib\\site-packages\\cpnet\\utils.py:20: FutureWarning: adjacency_matrix will return a scipy.sparse array instead of a matrix in Networkx 3.0.\n",
      "  sparse.csr_matrix(nx.adjacency_matrix(net), dtype=np.float64),\n",
      "c:\\Users\\VictorLeCoz\\Anaconda3\\envs\\interbank_network\\lib\\site-packages\\cpnet\\qstest.py:96: FutureWarning: adjacency_matrix will return a scipy.sparse array instead of a matrix in Networkx 3.0.\n",
      "  A = nx.adjacency_matrix(G)\n"
     ]
    },
    {
     "name": "stdout",
     "output_type": "stream",
     "text": [
      "test on day 2013-09-11 00:00:00\n"
     ]
    },
    {
     "name": "stderr",
     "output_type": "stream",
     "text": [
      "c:\\Users\\VictorLeCoz\\Anaconda3\\envs\\interbank_network\\lib\\site-packages\\cpnet\\qstest.py:35: FutureWarning: adjacency_matrix will return a scipy.sparse array instead of a matrix in Networkx 3.0.\n",
      "  Ar = sparse.csr_matrix(nx.adjacency_matrix(Gr))\n",
      "100%|██████████| 100/100 [00:00<00:00, 574.82it/s]\n",
      "c:\\Users\\VictorLeCoz\\Anaconda3\\envs\\interbank_network\\lib\\site-packages\\cpnet\\utils.py:20: FutureWarning: adjacency_matrix will return a scipy.sparse array instead of a matrix in Networkx 3.0.\n",
      "  sparse.csr_matrix(nx.adjacency_matrix(net), dtype=np.float64),\n",
      "c:\\Users\\VictorLeCoz\\Anaconda3\\envs\\interbank_network\\lib\\site-packages\\cpnet\\qstest.py:96: FutureWarning: adjacency_matrix will return a scipy.sparse array instead of a matrix in Networkx 3.0.\n",
      "  A = nx.adjacency_matrix(G)\n"
     ]
    },
    {
     "name": "stdout",
     "output_type": "stream",
     "text": [
      "test on day 2016-06-07 00:00:00\n"
     ]
    },
    {
     "name": "stderr",
     "output_type": "stream",
     "text": [
      "c:\\Users\\VictorLeCoz\\Anaconda3\\envs\\interbank_network\\lib\\site-packages\\cpnet\\qstest.py:35: FutureWarning: adjacency_matrix will return a scipy.sparse array instead of a matrix in Networkx 3.0.\n",
      "  Ar = sparse.csr_matrix(nx.adjacency_matrix(Gr))\n",
      "100%|██████████| 100/100 [00:00<00:00, 557.94it/s]\n",
      "c:\\Users\\VictorLeCoz\\Anaconda3\\envs\\interbank_network\\lib\\site-packages\\cpnet\\utils.py:20: FutureWarning: adjacency_matrix will return a scipy.sparse array instead of a matrix in Networkx 3.0.\n",
      "  sparse.csr_matrix(nx.adjacency_matrix(net), dtype=np.float64),\n",
      "c:\\Users\\VictorLeCoz\\Anaconda3\\envs\\interbank_network\\lib\\site-packages\\cpnet\\qstest.py:96: FutureWarning: adjacency_matrix will return a scipy.sparse array instead of a matrix in Networkx 3.0.\n",
      "  A = nx.adjacency_matrix(G)\n"
     ]
    },
    {
     "name": "stdout",
     "output_type": "stream",
     "text": [
      "test on day 2019-03-04 00:00:00\n"
     ]
    },
    {
     "name": "stderr",
     "output_type": "stream",
     "text": [
      "c:\\Users\\VictorLeCoz\\Anaconda3\\envs\\interbank_network\\lib\\site-packages\\cpnet\\qstest.py:35: FutureWarning: adjacency_matrix will return a scipy.sparse array instead of a matrix in Networkx 3.0.\n",
      "  Ar = sparse.csr_matrix(nx.adjacency_matrix(Gr))\n",
      "100%|██████████| 100/100 [00:00<00:00, 380.92it/s]\n",
      "c:\\Users\\VictorLeCoz\\Anaconda3\\envs\\interbank_network\\lib\\site-packages\\cpnet\\utils.py:20: FutureWarning: adjacency_matrix will return a scipy.sparse array instead of a matrix in Networkx 3.0.\n",
      "  sparse.csr_matrix(nx.adjacency_matrix(net), dtype=np.float64),\n",
      "c:\\Users\\VictorLeCoz\\Anaconda3\\envs\\interbank_network\\lib\\site-packages\\cpnet\\qstest.py:96: FutureWarning: adjacency_matrix will return a scipy.sparse array instead of a matrix in Networkx 3.0.\n",
      "  A = nx.adjacency_matrix(G)\n"
     ]
    },
    {
     "name": "stdout",
     "output_type": "stream",
     "text": [
      "test on day 2021-11-28 00:00:00\n"
     ]
    },
    {
     "name": "stderr",
     "output_type": "stream",
     "text": [
      "c:\\Users\\VictorLeCoz\\Anaconda3\\envs\\interbank_network\\lib\\site-packages\\cpnet\\qstest.py:35: FutureWarning: adjacency_matrix will return a scipy.sparse array instead of a matrix in Networkx 3.0.\n",
      "  Ar = sparse.csr_matrix(nx.adjacency_matrix(Gr))\n",
      "100%|██████████| 100/100 [00:00<00:00, 533.04it/s]\n",
      "c:\\Users\\VictorLeCoz\\Anaconda3\\envs\\interbank_network\\lib\\site-packages\\cpnet\\utils.py:20: FutureWarning: adjacency_matrix will return a scipy.sparse array instead of a matrix in Networkx 3.0.\n",
      "  sparse.csr_matrix(nx.adjacency_matrix(net), dtype=np.float64),\n",
      "c:\\Users\\VictorLeCoz\\Anaconda3\\envs\\interbank_network\\lib\\site-packages\\cpnet\\qstest.py:96: FutureWarning: adjacency_matrix will return a scipy.sparse array instead of a matrix in Networkx 3.0.\n",
      "  A = nx.adjacency_matrix(G)\n"
     ]
    },
    {
     "name": "stdout",
     "output_type": "stream",
     "text": [
      "test on day 2024-02-19 00:00:00\n"
     ]
    },
    {
     "name": "stderr",
     "output_type": "stream",
     "text": [
      "c:\\Users\\VictorLeCoz\\Anaconda3\\envs\\interbank_network\\lib\\site-packages\\cpnet\\qstest.py:35: FutureWarning: adjacency_matrix will return a scipy.sparse array instead of a matrix in Networkx 3.0.\n",
      "  Ar = sparse.csr_matrix(nx.adjacency_matrix(Gr))\n",
      "100%|██████████| 100/100 [00:00<00:00, 588.98it/s]\n",
      " 20%|██        | 1/5 [01:38<06:33, 98.43s/it]c:\\Users\\VictorLeCoz\\Anaconda3\\envs\\interbank_network\\lib\\site-packages\\cpnet\\utils.py:20: FutureWarning: adjacency_matrix will return a scipy.sparse array instead of a matrix in Networkx 3.0.\n",
      "  sparse.csr_matrix(nx.adjacency_matrix(net), dtype=np.float64),\n",
      "c:\\Users\\VictorLeCoz\\Anaconda3\\envs\\interbank_network\\lib\\site-packages\\cpnet\\qstest.py:96: FutureWarning: adjacency_matrix will return a scipy.sparse array instead of a matrix in Networkx 3.0.\n",
      "  A = nx.adjacency_matrix(G)\n"
     ]
    },
    {
     "name": "stdout",
     "output_type": "stream",
     "text": [
      "core-periphery tests using the KM_ER approach\n",
      "test on day 2000-01-03 00:00:00\n",
      "test on day 2002-09-29 00:00:00\n"
     ]
    },
    {
     "name": "stderr",
     "output_type": "stream",
     "text": [
      "c:\\Users\\VictorLeCoz\\Anaconda3\\envs\\interbank_network\\lib\\site-packages\\cpnet\\qstest.py:35: FutureWarning: adjacency_matrix will return a scipy.sparse array instead of a matrix in Networkx 3.0.\n",
      "  Ar = sparse.csr_matrix(nx.adjacency_matrix(Gr))\n",
      "100%|██████████| 100/100 [00:01<00:00, 73.28it/s]\n",
      "c:\\Users\\VictorLeCoz\\Anaconda3\\envs\\interbank_network\\lib\\site-packages\\cpnet\\utils.py:20: FutureWarning: adjacency_matrix will return a scipy.sparse array instead of a matrix in Networkx 3.0.\n",
      "  sparse.csr_matrix(nx.adjacency_matrix(net), dtype=np.float64),\n",
      "c:\\Users\\VictorLeCoz\\Anaconda3\\envs\\interbank_network\\lib\\site-packages\\cpnet\\qstest.py:96: FutureWarning: adjacency_matrix will return a scipy.sparse array instead of a matrix in Networkx 3.0.\n",
      "  A = nx.adjacency_matrix(G)\n"
     ]
    },
    {
     "name": "stdout",
     "output_type": "stream",
     "text": [
      "test on day 2005-06-25 00:00:00\n"
     ]
    },
    {
     "name": "stderr",
     "output_type": "stream",
     "text": [
      "c:\\Users\\VictorLeCoz\\Anaconda3\\envs\\interbank_network\\lib\\site-packages\\cpnet\\qstest.py:35: FutureWarning: adjacency_matrix will return a scipy.sparse array instead of a matrix in Networkx 3.0.\n",
      "  Ar = sparse.csr_matrix(nx.adjacency_matrix(Gr))\n",
      "100%|██████████| 100/100 [00:01<00:00, 88.45it/s]\n",
      "c:\\Users\\VictorLeCoz\\Anaconda3\\envs\\interbank_network\\lib\\site-packages\\cpnet\\utils.py:20: FutureWarning: adjacency_matrix will return a scipy.sparse array instead of a matrix in Networkx 3.0.\n",
      "  sparse.csr_matrix(nx.adjacency_matrix(net), dtype=np.float64),\n",
      "c:\\Users\\VictorLeCoz\\Anaconda3\\envs\\interbank_network\\lib\\site-packages\\cpnet\\qstest.py:96: FutureWarning: adjacency_matrix will return a scipy.sparse array instead of a matrix in Networkx 3.0.\n",
      "  A = nx.adjacency_matrix(G)\n"
     ]
    },
    {
     "name": "stdout",
     "output_type": "stream",
     "text": [
      "test on day 2008-03-21 00:00:00\n"
     ]
    },
    {
     "name": "stderr",
     "output_type": "stream",
     "text": [
      "c:\\Users\\VictorLeCoz\\Anaconda3\\envs\\interbank_network\\lib\\site-packages\\cpnet\\qstest.py:35: FutureWarning: adjacency_matrix will return a scipy.sparse array instead of a matrix in Networkx 3.0.\n",
      "  Ar = sparse.csr_matrix(nx.adjacency_matrix(Gr))\n",
      "100%|██████████| 100/100 [00:01<00:00, 92.52it/s]\n",
      "c:\\Users\\VictorLeCoz\\Anaconda3\\envs\\interbank_network\\lib\\site-packages\\cpnet\\utils.py:20: FutureWarning: adjacency_matrix will return a scipy.sparse array instead of a matrix in Networkx 3.0.\n",
      "  sparse.csr_matrix(nx.adjacency_matrix(net), dtype=np.float64),\n",
      "c:\\Users\\VictorLeCoz\\Anaconda3\\envs\\interbank_network\\lib\\site-packages\\cpnet\\qstest.py:96: FutureWarning: adjacency_matrix will return a scipy.sparse array instead of a matrix in Networkx 3.0.\n",
      "  A = nx.adjacency_matrix(G)\n"
     ]
    },
    {
     "name": "stdout",
     "output_type": "stream",
     "text": [
      "test on day 2010-12-16 00:00:00\n"
     ]
    },
    {
     "name": "stderr",
     "output_type": "stream",
     "text": [
      "c:\\Users\\VictorLeCoz\\Anaconda3\\envs\\interbank_network\\lib\\site-packages\\cpnet\\qstest.py:35: FutureWarning: adjacency_matrix will return a scipy.sparse array instead of a matrix in Networkx 3.0.\n",
      "  Ar = sparse.csr_matrix(nx.adjacency_matrix(Gr))\n",
      "100%|██████████| 100/100 [00:01<00:00, 72.31it/s]\n",
      "c:\\Users\\VictorLeCoz\\Anaconda3\\envs\\interbank_network\\lib\\site-packages\\cpnet\\utils.py:20: FutureWarning: adjacency_matrix will return a scipy.sparse array instead of a matrix in Networkx 3.0.\n",
      "  sparse.csr_matrix(nx.adjacency_matrix(net), dtype=np.float64),\n",
      "c:\\Users\\VictorLeCoz\\Anaconda3\\envs\\interbank_network\\lib\\site-packages\\cpnet\\qstest.py:96: FutureWarning: adjacency_matrix will return a scipy.sparse array instead of a matrix in Networkx 3.0.\n",
      "  A = nx.adjacency_matrix(G)\n"
     ]
    },
    {
     "name": "stdout",
     "output_type": "stream",
     "text": [
      "test on day 2013-09-11 00:00:00\n"
     ]
    },
    {
     "name": "stderr",
     "output_type": "stream",
     "text": [
      "c:\\Users\\VictorLeCoz\\Anaconda3\\envs\\interbank_network\\lib\\site-packages\\cpnet\\qstest.py:35: FutureWarning: adjacency_matrix will return a scipy.sparse array instead of a matrix in Networkx 3.0.\n",
      "  Ar = sparse.csr_matrix(nx.adjacency_matrix(Gr))\n",
      "100%|██████████| 100/100 [00:01<00:00, 75.95it/s]\n",
      "c:\\Users\\VictorLeCoz\\Anaconda3\\envs\\interbank_network\\lib\\site-packages\\cpnet\\utils.py:20: FutureWarning: adjacency_matrix will return a scipy.sparse array instead of a matrix in Networkx 3.0.\n",
      "  sparse.csr_matrix(nx.adjacency_matrix(net), dtype=np.float64),\n",
      "c:\\Users\\VictorLeCoz\\Anaconda3\\envs\\interbank_network\\lib\\site-packages\\cpnet\\qstest.py:96: FutureWarning: adjacency_matrix will return a scipy.sparse array instead of a matrix in Networkx 3.0.\n",
      "  A = nx.adjacency_matrix(G)\n"
     ]
    },
    {
     "name": "stdout",
     "output_type": "stream",
     "text": [
      "test on day 2016-06-07 00:00:00\n"
     ]
    },
    {
     "name": "stderr",
     "output_type": "stream",
     "text": [
      "c:\\Users\\VictorLeCoz\\Anaconda3\\envs\\interbank_network\\lib\\site-packages\\cpnet\\qstest.py:35: FutureWarning: adjacency_matrix will return a scipy.sparse array instead of a matrix in Networkx 3.0.\n",
      "  Ar = sparse.csr_matrix(nx.adjacency_matrix(Gr))\n",
      "100%|██████████| 100/100 [00:01<00:00, 93.48it/s]\n",
      "c:\\Users\\VictorLeCoz\\Anaconda3\\envs\\interbank_network\\lib\\site-packages\\cpnet\\utils.py:20: FutureWarning: adjacency_matrix will return a scipy.sparse array instead of a matrix in Networkx 3.0.\n",
      "  sparse.csr_matrix(nx.adjacency_matrix(net), dtype=np.float64),\n",
      "c:\\Users\\VictorLeCoz\\Anaconda3\\envs\\interbank_network\\lib\\site-packages\\cpnet\\qstest.py:96: FutureWarning: adjacency_matrix will return a scipy.sparse array instead of a matrix in Networkx 3.0.\n",
      "  A = nx.adjacency_matrix(G)\n"
     ]
    },
    {
     "name": "stdout",
     "output_type": "stream",
     "text": [
      "test on day 2019-03-04 00:00:00\n"
     ]
    },
    {
     "name": "stderr",
     "output_type": "stream",
     "text": [
      "c:\\Users\\VictorLeCoz\\Anaconda3\\envs\\interbank_network\\lib\\site-packages\\cpnet\\qstest.py:35: FutureWarning: adjacency_matrix will return a scipy.sparse array instead of a matrix in Networkx 3.0.\n",
      "  Ar = sparse.csr_matrix(nx.adjacency_matrix(Gr))\n",
      "100%|██████████| 100/100 [00:01<00:00, 88.87it/s]\n",
      "c:\\Users\\VictorLeCoz\\Anaconda3\\envs\\interbank_network\\lib\\site-packages\\cpnet\\utils.py:20: FutureWarning: adjacency_matrix will return a scipy.sparse array instead of a matrix in Networkx 3.0.\n",
      "  sparse.csr_matrix(nx.adjacency_matrix(net), dtype=np.float64),\n",
      "c:\\Users\\VictorLeCoz\\Anaconda3\\envs\\interbank_network\\lib\\site-packages\\cpnet\\qstest.py:96: FutureWarning: adjacency_matrix will return a scipy.sparse array instead of a matrix in Networkx 3.0.\n",
      "  A = nx.adjacency_matrix(G)\n"
     ]
    },
    {
     "name": "stdout",
     "output_type": "stream",
     "text": [
      "test on day 2021-11-28 00:00:00\n"
     ]
    },
    {
     "name": "stderr",
     "output_type": "stream",
     "text": [
      "c:\\Users\\VictorLeCoz\\Anaconda3\\envs\\interbank_network\\lib\\site-packages\\cpnet\\qstest.py:35: FutureWarning: adjacency_matrix will return a scipy.sparse array instead of a matrix in Networkx 3.0.\n",
      "  Ar = sparse.csr_matrix(nx.adjacency_matrix(Gr))\n",
      "100%|██████████| 100/100 [00:01<00:00, 66.30it/s]\n",
      "c:\\Users\\VictorLeCoz\\Anaconda3\\envs\\interbank_network\\lib\\site-packages\\cpnet\\utils.py:20: FutureWarning: adjacency_matrix will return a scipy.sparse array instead of a matrix in Networkx 3.0.\n",
      "  sparse.csr_matrix(nx.adjacency_matrix(net), dtype=np.float64),\n",
      "c:\\Users\\VictorLeCoz\\Anaconda3\\envs\\interbank_network\\lib\\site-packages\\cpnet\\qstest.py:96: FutureWarning: adjacency_matrix will return a scipy.sparse array instead of a matrix in Networkx 3.0.\n",
      "  A = nx.adjacency_matrix(G)\n"
     ]
    },
    {
     "name": "stdout",
     "output_type": "stream",
     "text": [
      "test on day 2024-02-19 00:00:00\n"
     ]
    },
    {
     "name": "stderr",
     "output_type": "stream",
     "text": [
      "c:\\Users\\VictorLeCoz\\Anaconda3\\envs\\interbank_network\\lib\\site-packages\\cpnet\\qstest.py:35: FutureWarning: adjacency_matrix will return a scipy.sparse array instead of a matrix in Networkx 3.0.\n",
      "  Ar = sparse.csr_matrix(nx.adjacency_matrix(Gr))\n",
      "100%|██████████| 100/100 [00:01<00:00, 71.29it/s]\n",
      "c:\\Users\\VictorLeCoz\\Anaconda3\\envs\\interbank_network\\lib\\site-packages\\cpnet\\utils.py:20: FutureWarning: adjacency_matrix will return a scipy.sparse array instead of a matrix in Networkx 3.0.\n",
      "  sparse.csr_matrix(nx.adjacency_matrix(net), dtype=np.float64),\n",
      "c:\\Users\\VictorLeCoz\\Anaconda3\\envs\\interbank_network\\lib\\site-packages\\cpnet\\qstest.py:96: FutureWarning: adjacency_matrix will return a scipy.sparse array instead of a matrix in Networkx 3.0.\n",
      "  A = nx.adjacency_matrix(G)\n"
     ]
    },
    {
     "name": "stdout",
     "output_type": "stream",
     "text": [
      "core-periphery tests using the KM_config approach\n",
      "test on day 2000-01-03 00:00:00\n",
      "test on day 2002-09-29 00:00:00\n"
     ]
    },
    {
     "name": "stderr",
     "output_type": "stream",
     "text": [
      "c:\\Users\\VictorLeCoz\\Anaconda3\\envs\\interbank_network\\lib\\site-packages\\cpnet\\qstest.py:35: FutureWarning: adjacency_matrix will return a scipy.sparse array instead of a matrix in Networkx 3.0.\n",
      "  Ar = sparse.csr_matrix(nx.adjacency_matrix(Gr))\n",
      "100%|██████████| 100/100 [00:01<00:00, 52.32it/s]\n",
      "c:\\Users\\VictorLeCoz\\Anaconda3\\envs\\interbank_network\\lib\\site-packages\\cpnet\\utils.py:20: FutureWarning: adjacency_matrix will return a scipy.sparse array instead of a matrix in Networkx 3.0.\n",
      "  sparse.csr_matrix(nx.adjacency_matrix(net), dtype=np.float64),\n",
      "c:\\Users\\VictorLeCoz\\Anaconda3\\envs\\interbank_network\\lib\\site-packages\\cpnet\\qstest.py:96: FutureWarning: adjacency_matrix will return a scipy.sparse array instead of a matrix in Networkx 3.0.\n",
      "  A = nx.adjacency_matrix(G)\n"
     ]
    },
    {
     "name": "stdout",
     "output_type": "stream",
     "text": [
      "test on day 2005-06-25 00:00:00\n"
     ]
    },
    {
     "name": "stderr",
     "output_type": "stream",
     "text": [
      "c:\\Users\\VictorLeCoz\\Anaconda3\\envs\\interbank_network\\lib\\site-packages\\cpnet\\qstest.py:35: FutureWarning: adjacency_matrix will return a scipy.sparse array instead of a matrix in Networkx 3.0.\n",
      "  Ar = sparse.csr_matrix(nx.adjacency_matrix(Gr))\n",
      "100%|██████████| 100/100 [00:02<00:00, 49.99it/s]\n",
      "c:\\Users\\VictorLeCoz\\Anaconda3\\envs\\interbank_network\\lib\\site-packages\\cpnet\\utils.py:20: FutureWarning: adjacency_matrix will return a scipy.sparse array instead of a matrix in Networkx 3.0.\n",
      "  sparse.csr_matrix(nx.adjacency_matrix(net), dtype=np.float64),\n",
      "c:\\Users\\VictorLeCoz\\Anaconda3\\envs\\interbank_network\\lib\\site-packages\\cpnet\\qstest.py:96: FutureWarning: adjacency_matrix will return a scipy.sparse array instead of a matrix in Networkx 3.0.\n",
      "  A = nx.adjacency_matrix(G)\n"
     ]
    },
    {
     "name": "stdout",
     "output_type": "stream",
     "text": [
      "test on day 2008-03-21 00:00:00\n"
     ]
    },
    {
     "name": "stderr",
     "output_type": "stream",
     "text": [
      "c:\\Users\\VictorLeCoz\\Anaconda3\\envs\\interbank_network\\lib\\site-packages\\cpnet\\qstest.py:35: FutureWarning: adjacency_matrix will return a scipy.sparse array instead of a matrix in Networkx 3.0.\n",
      "  Ar = sparse.csr_matrix(nx.adjacency_matrix(Gr))\n",
      "100%|██████████| 100/100 [00:02<00:00, 45.50it/s]\n",
      "c:\\Users\\VictorLeCoz\\Anaconda3\\envs\\interbank_network\\lib\\site-packages\\cpnet\\utils.py:20: FutureWarning: adjacency_matrix will return a scipy.sparse array instead of a matrix in Networkx 3.0.\n",
      "  sparse.csr_matrix(nx.adjacency_matrix(net), dtype=np.float64),\n"
     ]
    },
    {
     "name": "stdout",
     "output_type": "stream",
     "text": [
      "test on day 2010-12-16 00:00:00\n"
     ]
    },
    {
     "name": "stderr",
     "output_type": "stream",
     "text": [
      "c:\\Users\\VictorLeCoz\\Anaconda3\\envs\\interbank_network\\lib\\site-packages\\cpnet\\qstest.py:96: FutureWarning: adjacency_matrix will return a scipy.sparse array instead of a matrix in Networkx 3.0.\n",
      "  A = nx.adjacency_matrix(G)\n",
      "c:\\Users\\VictorLeCoz\\Anaconda3\\envs\\interbank_network\\lib\\site-packages\\cpnet\\qstest.py:35: FutureWarning: adjacency_matrix will return a scipy.sparse array instead of a matrix in Networkx 3.0.\n",
      "  Ar = sparse.csr_matrix(nx.adjacency_matrix(Gr))\n",
      "100%|██████████| 100/100 [00:01<00:00, 64.67it/s]\n",
      "c:\\Users\\VictorLeCoz\\Anaconda3\\envs\\interbank_network\\lib\\site-packages\\cpnet\\utils.py:20: FutureWarning: adjacency_matrix will return a scipy.sparse array instead of a matrix in Networkx 3.0.\n",
      "  sparse.csr_matrix(nx.adjacency_matrix(net), dtype=np.float64),\n",
      "c:\\Users\\VictorLeCoz\\Anaconda3\\envs\\interbank_network\\lib\\site-packages\\cpnet\\qstest.py:96: FutureWarning: adjacency_matrix will return a scipy.sparse array instead of a matrix in Networkx 3.0.\n",
      "  A = nx.adjacency_matrix(G)\n"
     ]
    },
    {
     "name": "stdout",
     "output_type": "stream",
     "text": [
      "test on day 2013-09-11 00:00:00\n"
     ]
    },
    {
     "name": "stderr",
     "output_type": "stream",
     "text": [
      "c:\\Users\\VictorLeCoz\\Anaconda3\\envs\\interbank_network\\lib\\site-packages\\cpnet\\qstest.py:35: FutureWarning: adjacency_matrix will return a scipy.sparse array instead of a matrix in Networkx 3.0.\n",
      "  Ar = sparse.csr_matrix(nx.adjacency_matrix(Gr))\n",
      "100%|██████████| 100/100 [00:01<00:00, 64.56it/s]\n",
      "c:\\Users\\VictorLeCoz\\Anaconda3\\envs\\interbank_network\\lib\\site-packages\\cpnet\\utils.py:20: FutureWarning: adjacency_matrix will return a scipy.sparse array instead of a matrix in Networkx 3.0.\n",
      "  sparse.csr_matrix(nx.adjacency_matrix(net), dtype=np.float64),\n",
      "c:\\Users\\VictorLeCoz\\Anaconda3\\envs\\interbank_network\\lib\\site-packages\\cpnet\\qstest.py:96: FutureWarning: adjacency_matrix will return a scipy.sparse array instead of a matrix in Networkx 3.0.\n",
      "  A = nx.adjacency_matrix(G)\n"
     ]
    },
    {
     "name": "stdout",
     "output_type": "stream",
     "text": [
      "test on day 2016-06-07 00:00:00\n"
     ]
    },
    {
     "name": "stderr",
     "output_type": "stream",
     "text": [
      "c:\\Users\\VictorLeCoz\\Anaconda3\\envs\\interbank_network\\lib\\site-packages\\cpnet\\qstest.py:35: FutureWarning: adjacency_matrix will return a scipy.sparse array instead of a matrix in Networkx 3.0.\n",
      "  Ar = sparse.csr_matrix(nx.adjacency_matrix(Gr))\n",
      "100%|██████████| 100/100 [00:01<00:00, 60.21it/s]\n",
      "c:\\Users\\VictorLeCoz\\Anaconda3\\envs\\interbank_network\\lib\\site-packages\\cpnet\\utils.py:20: FutureWarning: adjacency_matrix will return a scipy.sparse array instead of a matrix in Networkx 3.0.\n",
      "  sparse.csr_matrix(nx.adjacency_matrix(net), dtype=np.float64),\n",
      "c:\\Users\\VictorLeCoz\\Anaconda3\\envs\\interbank_network\\lib\\site-packages\\cpnet\\qstest.py:96: FutureWarning: adjacency_matrix will return a scipy.sparse array instead of a matrix in Networkx 3.0.\n",
      "  A = nx.adjacency_matrix(G)\n"
     ]
    },
    {
     "name": "stdout",
     "output_type": "stream",
     "text": [
      "test on day 2019-03-04 00:00:00\n"
     ]
    },
    {
     "name": "stderr",
     "output_type": "stream",
     "text": [
      "c:\\Users\\VictorLeCoz\\Anaconda3\\envs\\interbank_network\\lib\\site-packages\\cpnet\\qstest.py:35: FutureWarning: adjacency_matrix will return a scipy.sparse array instead of a matrix in Networkx 3.0.\n",
      "  Ar = sparse.csr_matrix(nx.adjacency_matrix(Gr))\n",
      "100%|██████████| 100/100 [00:02<00:00, 49.40it/s]\n",
      "c:\\Users\\VictorLeCoz\\Anaconda3\\envs\\interbank_network\\lib\\site-packages\\cpnet\\utils.py:20: FutureWarning: adjacency_matrix will return a scipy.sparse array instead of a matrix in Networkx 3.0.\n",
      "  sparse.csr_matrix(nx.adjacency_matrix(net), dtype=np.float64),\n",
      "c:\\Users\\VictorLeCoz\\Anaconda3\\envs\\interbank_network\\lib\\site-packages\\cpnet\\qstest.py:96: FutureWarning: adjacency_matrix will return a scipy.sparse array instead of a matrix in Networkx 3.0.\n",
      "  A = nx.adjacency_matrix(G)\n"
     ]
    },
    {
     "name": "stdout",
     "output_type": "stream",
     "text": [
      "test on day 2021-11-28 00:00:00\n"
     ]
    },
    {
     "name": "stderr",
     "output_type": "stream",
     "text": [
      "c:\\Users\\VictorLeCoz\\Anaconda3\\envs\\interbank_network\\lib\\site-packages\\cpnet\\qstest.py:35: FutureWarning: adjacency_matrix will return a scipy.sparse array instead of a matrix in Networkx 3.0.\n",
      "  Ar = sparse.csr_matrix(nx.adjacency_matrix(Gr))\n",
      "100%|██████████| 100/100 [00:01<00:00, 54.89it/s]\n",
      "c:\\Users\\VictorLeCoz\\Anaconda3\\envs\\interbank_network\\lib\\site-packages\\cpnet\\utils.py:20: FutureWarning: adjacency_matrix will return a scipy.sparse array instead of a matrix in Networkx 3.0.\n",
      "  sparse.csr_matrix(nx.adjacency_matrix(net), dtype=np.float64),\n"
     ]
    },
    {
     "name": "stdout",
     "output_type": "stream",
     "text": [
      "test on day 2024-02-19 00:00:00\n"
     ]
    },
    {
     "name": "stderr",
     "output_type": "stream",
     "text": [
      "c:\\Users\\VictorLeCoz\\Anaconda3\\envs\\interbank_network\\lib\\site-packages\\cpnet\\qstest.py:96: FutureWarning: adjacency_matrix will return a scipy.sparse array instead of a matrix in Networkx 3.0.\n",
      "  A = nx.adjacency_matrix(G)\n",
      "c:\\Users\\VictorLeCoz\\Anaconda3\\envs\\interbank_network\\lib\\site-packages\\cpnet\\qstest.py:35: FutureWarning: adjacency_matrix will return a scipy.sparse array instead of a matrix in Networkx 3.0.\n",
      "  Ar = sparse.csr_matrix(nx.adjacency_matrix(Gr))\n",
      "100%|██████████| 100/100 [00:01<00:00, 74.44it/s]\n",
      "c:\\Users\\VictorLeCoz\\Anaconda3\\envs\\interbank_network\\lib\\site-packages\\cpnet\\utils.py:20: FutureWarning: adjacency_matrix will return a scipy.sparse array instead of a matrix in Networkx 3.0.\n",
      "  sparse.csr_matrix(nx.adjacency_matrix(net), dtype=np.float64),\n",
      "c:\\Users\\VictorLeCoz\\Anaconda3\\envs\\interbank_network\\lib\\site-packages\\cpnet\\qstest.py:96: FutureWarning: adjacency_matrix will return a scipy.sparse array instead of a matrix in Networkx 3.0.\n",
      "  A = nx.adjacency_matrix(G)\n"
     ]
    },
    {
     "name": "stdout",
     "output_type": "stream",
     "text": [
      "core-periphery tests using the Rombach approach\n",
      "test on day 2000-01-03 00:00:00\n"
     ]
    },
    {
     "name": "stderr",
     "output_type": "stream",
     "text": [
      "c:\\Users\\VictorLeCoz\\Anaconda3\\envs\\interbank_network\\lib\\site-packages\\cpnet\\qstest.py:35: FutureWarning: adjacency_matrix will return a scipy.sparse array instead of a matrix in Networkx 3.0.\n",
      "  Ar = sparse.csr_matrix(nx.adjacency_matrix(Gr))\n",
      "100%|██████████| 100/100 [00:05<00:00, 19.87it/s]\n"
     ]
    },
    {
     "name": "stdout",
     "output_type": "stream",
     "text": [
      "test on day 2002-09-29 00:00:00\n"
     ]
    },
    {
     "name": "stderr",
     "output_type": "stream",
     "text": [
      "100%|██████████| 100/100 [00:00<00:00, 232.46it/s]\n",
      "c:\\Users\\VictorLeCoz\\Anaconda3\\envs\\interbank_network\\lib\\site-packages\\cpnet\\utils.py:20: FutureWarning: adjacency_matrix will return a scipy.sparse array instead of a matrix in Networkx 3.0.\n",
      "  sparse.csr_matrix(nx.adjacency_matrix(net), dtype=np.float64),\n",
      "c:\\Users\\VictorLeCoz\\Anaconda3\\envs\\interbank_network\\lib\\site-packages\\cpnet\\qstest.py:96: FutureWarning: adjacency_matrix will return a scipy.sparse array instead of a matrix in Networkx 3.0.\n",
      "  A = nx.adjacency_matrix(G)\n"
     ]
    },
    {
     "name": "stdout",
     "output_type": "stream",
     "text": [
      "test on day 2005-06-25 00:00:00\n"
     ]
    },
    {
     "name": "stderr",
     "output_type": "stream",
     "text": [
      "c:\\Users\\VictorLeCoz\\Anaconda3\\envs\\interbank_network\\lib\\site-packages\\cpnet\\qstest.py:35: FutureWarning: adjacency_matrix will return a scipy.sparse array instead of a matrix in Networkx 3.0.\n",
      "  Ar = sparse.csr_matrix(nx.adjacency_matrix(Gr))\n",
      "100%|██████████| 100/100 [00:00<00:00, 187.14it/s]\n",
      "c:\\Users\\VictorLeCoz\\Anaconda3\\envs\\interbank_network\\lib\\site-packages\\cpnet\\utils.py:20: FutureWarning: adjacency_matrix will return a scipy.sparse array instead of a matrix in Networkx 3.0.\n",
      "  sparse.csr_matrix(nx.adjacency_matrix(net), dtype=np.float64),\n",
      "c:\\Users\\VictorLeCoz\\Anaconda3\\envs\\interbank_network\\lib\\site-packages\\cpnet\\qstest.py:96: FutureWarning: adjacency_matrix will return a scipy.sparse array instead of a matrix in Networkx 3.0.\n",
      "  A = nx.adjacency_matrix(G)\n"
     ]
    },
    {
     "name": "stdout",
     "output_type": "stream",
     "text": [
      "test on day 2008-03-21 00:00:00\n"
     ]
    },
    {
     "name": "stderr",
     "output_type": "stream",
     "text": [
      "c:\\Users\\VictorLeCoz\\Anaconda3\\envs\\interbank_network\\lib\\site-packages\\cpnet\\qstest.py:35: FutureWarning: adjacency_matrix will return a scipy.sparse array instead of a matrix in Networkx 3.0.\n",
      "  Ar = sparse.csr_matrix(nx.adjacency_matrix(Gr))\n",
      "100%|██████████| 100/100 [00:00<00:00, 268.30it/s]\n",
      "c:\\Users\\VictorLeCoz\\Anaconda3\\envs\\interbank_network\\lib\\site-packages\\cpnet\\utils.py:20: FutureWarning: adjacency_matrix will return a scipy.sparse array instead of a matrix in Networkx 3.0.\n",
      "  sparse.csr_matrix(nx.adjacency_matrix(net), dtype=np.float64),\n",
      "c:\\Users\\VictorLeCoz\\Anaconda3\\envs\\interbank_network\\lib\\site-packages\\cpnet\\qstest.py:96: FutureWarning: adjacency_matrix will return a scipy.sparse array instead of a matrix in Networkx 3.0.\n",
      "  A = nx.adjacency_matrix(G)\n"
     ]
    },
    {
     "name": "stdout",
     "output_type": "stream",
     "text": [
      "test on day 2010-12-16 00:00:00\n"
     ]
    },
    {
     "name": "stderr",
     "output_type": "stream",
     "text": [
      "c:\\Users\\VictorLeCoz\\Anaconda3\\envs\\interbank_network\\lib\\site-packages\\cpnet\\qstest.py:35: FutureWarning: adjacency_matrix will return a scipy.sparse array instead of a matrix in Networkx 3.0.\n",
      "  Ar = sparse.csr_matrix(nx.adjacency_matrix(Gr))\n",
      "100%|██████████| 100/100 [00:00<00:00, 239.94it/s]\n",
      "c:\\Users\\VictorLeCoz\\Anaconda3\\envs\\interbank_network\\lib\\site-packages\\cpnet\\utils.py:20: FutureWarning: adjacency_matrix will return a scipy.sparse array instead of a matrix in Networkx 3.0.\n",
      "  sparse.csr_matrix(nx.adjacency_matrix(net), dtype=np.float64),\n",
      "c:\\Users\\VictorLeCoz\\Anaconda3\\envs\\interbank_network\\lib\\site-packages\\cpnet\\qstest.py:96: FutureWarning: adjacency_matrix will return a scipy.sparse array instead of a matrix in Networkx 3.0.\n",
      "  A = nx.adjacency_matrix(G)\n"
     ]
    },
    {
     "name": "stdout",
     "output_type": "stream",
     "text": [
      "test on day 2013-09-11 00:00:00\n"
     ]
    },
    {
     "name": "stderr",
     "output_type": "stream",
     "text": [
      "c:\\Users\\VictorLeCoz\\Anaconda3\\envs\\interbank_network\\lib\\site-packages\\cpnet\\qstest.py:35: FutureWarning: adjacency_matrix will return a scipy.sparse array instead of a matrix in Networkx 3.0.\n",
      "  Ar = sparse.csr_matrix(nx.adjacency_matrix(Gr))\n",
      "100%|██████████| 100/100 [00:00<00:00, 269.81it/s]\n",
      "c:\\Users\\VictorLeCoz\\Anaconda3\\envs\\interbank_network\\lib\\site-packages\\cpnet\\utils.py:20: FutureWarning: adjacency_matrix will return a scipy.sparse array instead of a matrix in Networkx 3.0.\n",
      "  sparse.csr_matrix(nx.adjacency_matrix(net), dtype=np.float64),\n",
      "c:\\Users\\VictorLeCoz\\Anaconda3\\envs\\interbank_network\\lib\\site-packages\\cpnet\\qstest.py:96: FutureWarning: adjacency_matrix will return a scipy.sparse array instead of a matrix in Networkx 3.0.\n",
      "  A = nx.adjacency_matrix(G)\n"
     ]
    },
    {
     "name": "stdout",
     "output_type": "stream",
     "text": [
      "test on day 2016-06-07 00:00:00\n"
     ]
    },
    {
     "name": "stderr",
     "output_type": "stream",
     "text": [
      "c:\\Users\\VictorLeCoz\\Anaconda3\\envs\\interbank_network\\lib\\site-packages\\cpnet\\qstest.py:35: FutureWarning: adjacency_matrix will return a scipy.sparse array instead of a matrix in Networkx 3.0.\n",
      "  Ar = sparse.csr_matrix(nx.adjacency_matrix(Gr))\n",
      "100%|██████████| 100/100 [00:00<00:00, 354.36it/s]\n",
      "c:\\Users\\VictorLeCoz\\Anaconda3\\envs\\interbank_network\\lib\\site-packages\\cpnet\\utils.py:20: FutureWarning: adjacency_matrix will return a scipy.sparse array instead of a matrix in Networkx 3.0.\n",
      "  sparse.csr_matrix(nx.adjacency_matrix(net), dtype=np.float64),\n",
      "c:\\Users\\VictorLeCoz\\Anaconda3\\envs\\interbank_network\\lib\\site-packages\\cpnet\\qstest.py:96: FutureWarning: adjacency_matrix will return a scipy.sparse array instead of a matrix in Networkx 3.0.\n",
      "  A = nx.adjacency_matrix(G)\n"
     ]
    },
    {
     "name": "stdout",
     "output_type": "stream",
     "text": [
      "test on day 2019-03-04 00:00:00\n"
     ]
    },
    {
     "name": "stderr",
     "output_type": "stream",
     "text": [
      "c:\\Users\\VictorLeCoz\\Anaconda3\\envs\\interbank_network\\lib\\site-packages\\cpnet\\qstest.py:35: FutureWarning: adjacency_matrix will return a scipy.sparse array instead of a matrix in Networkx 3.0.\n",
      "  Ar = sparse.csr_matrix(nx.adjacency_matrix(Gr))\n",
      "100%|██████████| 100/100 [00:00<00:00, 374.30it/s]\n",
      "c:\\Users\\VictorLeCoz\\Anaconda3\\envs\\interbank_network\\lib\\site-packages\\cpnet\\utils.py:20: FutureWarning: adjacency_matrix will return a scipy.sparse array instead of a matrix in Networkx 3.0.\n",
      "  sparse.csr_matrix(nx.adjacency_matrix(net), dtype=np.float64),\n",
      "c:\\Users\\VictorLeCoz\\Anaconda3\\envs\\interbank_network\\lib\\site-packages\\cpnet\\qstest.py:96: FutureWarning: adjacency_matrix will return a scipy.sparse array instead of a matrix in Networkx 3.0.\n",
      "  A = nx.adjacency_matrix(G)\n"
     ]
    },
    {
     "name": "stdout",
     "output_type": "stream",
     "text": [
      "test on day 2021-11-28 00:00:00\n"
     ]
    },
    {
     "name": "stderr",
     "output_type": "stream",
     "text": [
      "c:\\Users\\VictorLeCoz\\Anaconda3\\envs\\interbank_network\\lib\\site-packages\\cpnet\\qstest.py:35: FutureWarning: adjacency_matrix will return a scipy.sparse array instead of a matrix in Networkx 3.0.\n",
      "  Ar = sparse.csr_matrix(nx.adjacency_matrix(Gr))\n",
      "100%|██████████| 100/100 [00:00<00:00, 333.98it/s]\n",
      "c:\\Users\\VictorLeCoz\\Anaconda3\\envs\\interbank_network\\lib\\site-packages\\cpnet\\utils.py:20: FutureWarning: adjacency_matrix will return a scipy.sparse array instead of a matrix in Networkx 3.0.\n",
      "  sparse.csr_matrix(nx.adjacency_matrix(net), dtype=np.float64),\n",
      "c:\\Users\\VictorLeCoz\\Anaconda3\\envs\\interbank_network\\lib\\site-packages\\cpnet\\qstest.py:96: FutureWarning: adjacency_matrix will return a scipy.sparse array instead of a matrix in Networkx 3.0.\n",
      "  A = nx.adjacency_matrix(G)\n"
     ]
    },
    {
     "name": "stdout",
     "output_type": "stream",
     "text": [
      "test on day 2024-02-19 00:00:00\n"
     ]
    },
    {
     "name": "stderr",
     "output_type": "stream",
     "text": [
      "c:\\Users\\VictorLeCoz\\Anaconda3\\envs\\interbank_network\\lib\\site-packages\\cpnet\\qstest.py:35: FutureWarning: adjacency_matrix will return a scipy.sparse array instead of a matrix in Networkx 3.0.\n",
      "  Ar = sparse.csr_matrix(nx.adjacency_matrix(Gr))\n",
      "100%|██████████| 100/100 [00:00<00:00, 215.27it/s]\n",
      "c:\\Users\\VictorLeCoz\\Anaconda3\\envs\\interbank_network\\lib\\site-packages\\cpnet\\utils.py:20: FutureWarning: adjacency_matrix will return a scipy.sparse array instead of a matrix in Networkx 3.0.\n",
      "  sparse.csr_matrix(nx.adjacency_matrix(net), dtype=np.float64),\n",
      "c:\\Users\\VictorLeCoz\\Anaconda3\\envs\\interbank_network\\lib\\site-packages\\cpnet\\qstest.py:96: FutureWarning: adjacency_matrix will return a scipy.sparse array instead of a matrix in Networkx 3.0.\n",
      "  A = nx.adjacency_matrix(G)\n"
     ]
    },
    {
     "name": "stdout",
     "output_type": "stream",
     "text": [
      "core-periphery tests using the Rossa approach\n",
      "test on day 2000-01-03 00:00:00\n"
     ]
    },
    {
     "name": "stderr",
     "output_type": "stream",
     "text": [
      "c:\\Users\\VictorLeCoz\\Anaconda3\\envs\\interbank_network\\lib\\site-packages\\cpnet\\qstest.py:35: FutureWarning: adjacency_matrix will return a scipy.sparse array instead of a matrix in Networkx 3.0.\n",
      "  Ar = sparse.csr_matrix(nx.adjacency_matrix(Gr))\n",
      "100%|██████████| 100/100 [00:00<00:00, 261.27it/s]\n"
     ]
    },
    {
     "name": "stdout",
     "output_type": "stream",
     "text": [
      "test on day 2002-09-29 00:00:00\n"
     ]
    },
    {
     "name": "stderr",
     "output_type": "stream",
     "text": [
      "100%|██████████| 100/100 [00:00<00:00, 138.91it/s]\n",
      "c:\\Users\\VictorLeCoz\\Anaconda3\\envs\\interbank_network\\lib\\site-packages\\cpnet\\utils.py:20: FutureWarning: adjacency_matrix will return a scipy.sparse array instead of a matrix in Networkx 3.0.\n",
      "  sparse.csr_matrix(nx.adjacency_matrix(net), dtype=np.float64),\n",
      "c:\\Users\\VictorLeCoz\\Anaconda3\\envs\\interbank_network\\lib\\site-packages\\cpnet\\qstest.py:96: FutureWarning: adjacency_matrix will return a scipy.sparse array instead of a matrix in Networkx 3.0.\n",
      "  A = nx.adjacency_matrix(G)\n"
     ]
    },
    {
     "name": "stdout",
     "output_type": "stream",
     "text": [
      "test on day 2005-06-25 00:00:00\n"
     ]
    },
    {
     "name": "stderr",
     "output_type": "stream",
     "text": [
      "c:\\Users\\VictorLeCoz\\Anaconda3\\envs\\interbank_network\\lib\\site-packages\\cpnet\\qstest.py:35: FutureWarning: adjacency_matrix will return a scipy.sparse array instead of a matrix in Networkx 3.0.\n",
      "  Ar = sparse.csr_matrix(nx.adjacency_matrix(Gr))\n"
     ]
    }
   ],
   "source": [
    "arr_rev_repo_exp_adj = ep.convert_dic_to_array(dic_rev_repo_exp_adj)\n",
    "days = list(dic_rev_repo_exp_adj.keys())\n",
    "\n",
    "# get df_cpnet\n",
    "df_cpnet = em.get_cpnet(\n",
    "                dic_arr_binary_adj=dic_arr_binary_adj,\n",
    "                arr_rev_repo_exp_adj=arr_rev_repo_exp_adj,\n",
    "                days=days,\n",
    "                plot_period=plot_period,\n",
    "                path=f\"{path}exposure_view/core-periphery/\",\n",
    "            )\n",
    "\n",
    "# Plot the core-periphery struture\n",
    "gx.plot_cpnet(\n",
    "                df_network_trajectory=df_cpnet,\n",
    "                dic_arr_binary_adj=dic_arr_binary_adj,\n",
    "                arr_rev_repo_exp_adj=arr_rev_repo_exp_adj,\n",
    "                days=days,\n",
    "                plot_period=plot_period,\n",
    "                path=f\"{path}exposure_view/\",\n",
    "            )\n",
    "\n",
    "# # read csv (faster)\n",
    "# df_cpnet = pd.read_csv(f\"{path}exposure_view/core-periphery/df_cpnet.csv\", index_col=0)\n",
    "# df_cpnet.index = pd.to_datetime(df_cpnet.index)\n",
    "\n",
    "# plot the time evolution of p-values for each aggregation level\n",
    "for fig in par.figs_cpnet_pvalues:\n",
    "    gx.plot_network_trajectory(\n",
    "            df=df_cpnet,\n",
    "            cols=fig[1],\n",
    "            file_name=f\"{path}{fig[0]}.pdf\",\n",
    "        )"
   ]
  },
  {
   "attachments": {},
   "cell_type": "markdown",
   "id": "d300d2ef",
   "metadata": {},
   "source": [
    "## 2.3 transaction view"
   ]
  },
  {
   "cell_type": "code",
   "execution_count": null,
   "id": "aa4a584d",
   "metadata": {},
   "outputs": [],
   "source": [
    "os.makedirs(f\"{path}transaction_view/\", exist_ok=True)"
   ]
  },
  {
   "attachments": {},
   "cell_type": "markdown",
   "id": "a6f1ac6e",
   "metadata": {},
   "source": [
    "### 2.3.1 av network"
   ]
  },
  {
   "cell_type": "code",
   "execution_count": null,
   "id": "92e202d5",
   "metadata": {},
   "outputs": [
    {
     "name": "stdout",
     "output_type": "stream",
     "text": [
      "get transaction stats av. network\n"
     ]
    },
    {
     "name": "stderr",
     "output_type": "stream",
     "text": [
      "100%|██████████| 6146/6146 [00:23<00:00, 259.56it/s]\n"
     ]
    }
   ],
   "source": [
    "days = list(dic_rev_repo_exp_adj.keys())\n",
    "df_transaction_stats = em.get_transaction_stats(\n",
    "            df_rev_repo_trans=df_rev_repo_trans,\n",
    "            extension=\" av. network\",\n",
    "            days=days,\n",
    "            path=f\"{path}transaction_view/\",\n",
    "        )\n",
    "\n",
    "# plot the time evolution of the av network trans level metrics\n",
    "for fig in [par.fig_repo_transactions_maturity_av_network, par.fig_repo_transactions_notional_av_network, par.fig_number_repo_transactions_av_network]:\n",
    "    gx.plot_network_trajectory(\n",
    "            df=df_transaction_stats,\n",
    "            cols=fig[1],\n",
    "            file_name=f\"{path}{fig[0]}.pdf\",\n",
    "        )"
   ]
  },
  {
   "attachments": {},
   "cell_type": "markdown",
   "id": "14c1d601",
   "metadata": {},
   "source": [
    "### 2.3.2 reverse repos by notice period (static)"
   ]
  },
  {
   "cell_type": "code",
   "execution_count": null,
   "id": "60b2d192",
   "metadata": {},
   "outputs": [],
   "source": [
    "# plot notional by notice period\n",
    "gx.plot_notional_by_notice_period(df_mmsr_secured, path=f\"{path}transaction_view/\", plot_period=plot_period)"
   ]
  },
  {
   "attachments": {},
   "cell_type": "markdown",
   "id": "24ce5244",
   "metadata": {},
   "source": [
    "### 2.3.3 colletral ising code reuse"
   ]
  },
  {
   "cell_type": "code",
   "execution_count": null,
   "id": "098159ef",
   "metadata": {},
   "outputs": [],
   "source": [
    "df_isin = em.get_df_isin(df_mmsr_secured_expanded, path=f\"{path}transaction_view/\")\n",
    "gx.plot_collateral_reuse(df_isin=df_isin, path=f\"{path}transaction_view/\", plot_period=plot_period)"
   ]
  },
  {
   "attachments": {},
   "cell_type": "markdown",
   "id": "4c2702a9",
   "metadata": {},
   "source": [
    "# 3 tools"
   ]
  },
  {
   "attachments": {},
   "cell_type": "markdown",
   "id": "15562a4a",
   "metadata": {},
   "source": [
    "## 3.1 examples of density / histogram in log - log"
   ]
  },
  {
   "cell_type": "code",
   "execution_count": null,
   "id": "d8229ad9",
   "metadata": {},
   "outputs": [
    {
     "data": {
      "image/png": "[encoded data removed]",
      "text/plain": [
       "<Figure size 800x400 with 1 Axes>"
      ]
     },
     "metadata": {},
     "output_type": "display_data"
    }
   ],
   "source": [
    "# Pareto law\n",
    "\n",
    "import numpy as np\n",
    "import matplotlib.pyplot as plt\n",
    "import seaborn as sns\n",
    "\n",
    "# Generate random data\n",
    "x = np.random.pareto(3,size=100000)\n",
    "\n",
    "# Compute the absolute value and sign of the data\n",
    "abs_x = np.abs(x)\n",
    "sign_x = np.sign(x)\n",
    "\n",
    "# Set up the figure\n",
    "fig, ax = plt.subplots(figsize=(8, 4))\n",
    "\n",
    "# Plot the KDE on a log scale with the transformed data\n",
    "sns.kdeplot(x.clip(0.5,5), ax=ax, cut=0, fill=True)\n",
    "ax.set_xscale('log')\n",
    "\n",
    "# Set the y-axis to log scale\n",
    "ax.set_yscale('log')\n",
    "\n",
    "# Set axis labels\n",
    "ax.set_xlabel('value')\n",
    "ax.set_ylabel('density')\n",
    "\n",
    "# Show the plot\n",
    "plt.show()"
   ]
  },
  {
   "cell_type": "code",
   "execution_count": null,
   "id": "ff021268",
   "metadata": {},
   "outputs": [
    {
     "data": {
      "image/png": "[encoded data removed]",
      "text/plain": [
       "<Figure size 800x400 with 1 Axes>"
      ]
     },
     "metadata": {},
     "output_type": "display_data"
    }
   ],
   "source": [
    "# student law\n",
    "\n",
    "import numpy as np\n",
    "import matplotlib.pyplot as plt\n",
    "import seaborn as sns\n",
    "\n",
    "# Generate random data\n",
    "x = np.random.standard_t(1,size=100000)\n",
    "\n",
    "# Compute the absolute value and sign of the data\n",
    "abs_x = np.abs(x)\n",
    "sign_x = np.sign(x)\n",
    "\n",
    "# Set up the figure\n",
    "fig, ax = plt.subplots(figsize=(8, 4))\n",
    "\n",
    "# Plot the KDE on a log scale with the transformed data\n",
    "sns.kdeplot(x.clip(-10,10), ax=ax, fill=True, cut=0)\n",
    "ax.set_xscale('symlog', linthresh=0.1)\n",
    "\n",
    "# Set the y-axis to log scale\n",
    "ax.set_yscale('log')\n",
    "\n",
    "# Set axis labels\n",
    "ax.set_xlabel('Value')\n",
    "ax.set_ylabel('Density')\n",
    "\n",
    "# Show the plot\n",
    "plt.show()"
   ]
  },
  {
   "attachments": {},
   "cell_type": "markdown",
   "id": "0ae2e695",
   "metadata": {},
   "source": [
    "## 3.2 multiple histogram on the same plot"
   ]
  },
  {
   "cell_type": "code",
   "execution_count": null,
   "id": "ee9801d6",
   "metadata": {},
   "outputs": [
    {
     "data": {
      "image/png": "[encoded data removed]",
      "text/plain": [
       "<Figure size 640x480 with 2 Axes>"
      ]
     },
     "metadata": {},
     "output_type": "display_data"
    }
   ],
   "source": [
    "from matplotlib import pyplot as plt\n",
    "\n",
    "fig, (ax1,ax2) = plt.subplots(1,2)\n",
    "pos = 0\n",
    "width = 0.2\n",
    "for  i in range(10):\n",
    "    binary_adj = np.random.randint(0,2,(10,10))\n",
    "    bank_network = nx.from_numpy_array(\n",
    "                binary_adj,\n",
    "                parallel_edges=False,\n",
    "                create_using=nx.DiGraph,\n",
    "            )  # first define a networkx object.\n",
    "    ar_in_degree = np.array(bank_network.in_degree())[:,1]\n",
    "    hist = np.unique(ar_in_degree, return_counts=True)\n",
    "    ax1.bar(hist[0] + pos, hist[1], width=0.01)\n",
    "    ax2.bar(hist[0] + pos, hist[1], width=0.01)\n",
    "    pos = pos +width +0.1\n",
    "\n"
   ]
  },
  {
   "attachments": {},
   "cell_type": "markdown",
   "id": "1f3b28eb",
   "metadata": {},
   "source": [
    "## 3.3 power low fitting"
   ]
  },
  {
   "cell_type": "code",
   "execution_count": null,
   "id": "a9113cea",
   "metadata": {},
   "outputs": [
    {
     "name": "stderr",
     "output_type": "stream",
     "text": [
      "Calculating best minimal value for power law fit\n",
      "/mnt/live/user/vlecoz/conda_env/money_markets/lib/python3.8/site-packages/powerlaw.py:699: RuntimeWarning: invalid value encountered in divide\n",
      "  (CDF_diff**2) /\n"
     ]
    },
    {
     "name": "stdout",
     "output_type": "stream",
     "text": [
      "2.8438867253470077\n",
      "0.6675766466185065\n"
     ]
    },
    {
     "data": {
      "text/plain": [
       "<AxesSubplot: >"
      ]
     },
     "execution_count": 24,
     "metadata": {},
     "output_type": "execute_result"
    },
    {
     "data": {
      "image/png": "[encoded data removed]",
      "text/plain": [
       "<Figure size 640x480 with 1 Axes>"
      ]
     },
     "metadata": {},
     "output_type": "display_data"
    }
   ],
   "source": [
    "# fitting\n",
    "import powerlaw\n",
    "import numpy as np\n",
    "sr_data = np.random.pareto(3,size=1000) # data can be list or numpy array\n",
    "powerlaw_fit = powerlaw.Fit(sr_data)\n",
    "print(powerlaw_fit.power_law.alpha)\n",
    "print(powerlaw_fit.power_law.xmin)\n",
    "R, p = powerlaw_fit.distribution_compare('power_law', 'exponential')\n",
    "fig2 = powerlaw_fit.plot_ccdf(color = \"r\", linewidth = 2)\n",
    "powerlaw_fit.power_law.plot_ccdf(color = \"r\", linestyle = \"--\", ax = fig2)\n",
    "powerlaw_fit.lognormal.plot_ccdf(ax=fig2)\n",
    "powerlaw_fit.exponential.plot_ccdf(ax=fig2)"
   ]
  },
  {
   "cell_type": "markdown",
   "id": "dd635593",
   "metadata": {},
   "source": [
    "## 3.4 build the calendar"
   ]
  },
  {
   "cell_type": "code",
   "execution_count": null,
   "id": "15789f6b",
   "metadata": {},
   "outputs": [
    {
     "data": {
      "text/plain": [
       "[datetime.date(2000, 1, 1),\n",
       " datetime.date(2000, 4, 21),\n",
       " datetime.date(2000, 4, 24),\n",
       " datetime.date(2000, 5, 1),\n",
       " datetime.date(2000, 12, 25),\n",
       " datetime.date(2000, 12, 26),\n",
       " datetime.date(2001, 1, 1),\n",
       " datetime.date(2001, 4, 13),\n",
       " datetime.date(2001, 4, 16),\n",
       " datetime.date(2001, 5, 1),\n",
       " datetime.date(2001, 12, 25),\n",
       " datetime.date(2001, 12, 26),\n",
       " datetime.date(2002, 1, 1),\n",
       " datetime.date(2002, 3, 29),\n",
       " datetime.date(2002, 4, 1),\n",
       " datetime.date(2002, 5, 1),\n",
       " datetime.date(2002, 12, 25),\n",
       " datetime.date(2002, 12, 26),\n",
       " datetime.date(2003, 1, 1),\n",
       " datetime.date(2003, 4, 18),\n",
       " datetime.date(2003, 4, 21),\n",
       " datetime.date(2003, 5, 1),\n",
       " datetime.date(2003, 12, 25),\n",
       " datetime.date(2003, 12, 26),\n",
       " datetime.date(2004, 1, 1),\n",
       " datetime.date(2004, 4, 9),\n",
       " datetime.date(2004, 4, 12),\n",
       " datetime.date(2004, 5, 1),\n",
       " datetime.date(2004, 12, 25),\n",
       " datetime.date(2004, 12, 26),\n",
       " datetime.date(2005, 1, 1),\n",
       " datetime.date(2005, 3, 25),\n",
       " datetime.date(2005, 3, 28),\n",
       " datetime.date(2005, 5, 1),\n",
       " datetime.date(2005, 12, 25),\n",
       " datetime.date(2005, 12, 26),\n",
       " datetime.date(2006, 1, 1),\n",
       " datetime.date(2006, 4, 14),\n",
       " datetime.date(2006, 4, 17),\n",
       " datetime.date(2006, 5, 1),\n",
       " datetime.date(2006, 12, 25),\n",
       " datetime.date(2006, 12, 26),\n",
       " datetime.date(2007, 1, 1),\n",
       " datetime.date(2007, 4, 6),\n",
       " datetime.date(2007, 4, 9),\n",
       " datetime.date(2007, 5, 1),\n",
       " datetime.date(2007, 12, 25),\n",
       " datetime.date(2007, 12, 26),\n",
       " datetime.date(2008, 1, 1),\n",
       " datetime.date(2008, 3, 21),\n",
       " datetime.date(2008, 3, 24),\n",
       " datetime.date(2008, 5, 1),\n",
       " datetime.date(2008, 12, 25),\n",
       " datetime.date(2008, 12, 26),\n",
       " datetime.date(2009, 1, 1),\n",
       " datetime.date(2009, 4, 10),\n",
       " datetime.date(2009, 4, 13),\n",
       " datetime.date(2009, 5, 1),\n",
       " datetime.date(2009, 12, 25),\n",
       " datetime.date(2009, 12, 26),\n",
       " datetime.date(2010, 1, 1),\n",
       " datetime.date(2010, 4, 2),\n",
       " datetime.date(2010, 4, 5),\n",
       " datetime.date(2010, 5, 1),\n",
       " datetime.date(2010, 12, 25),\n",
       " datetime.date(2010, 12, 26),\n",
       " datetime.date(2011, 1, 1),\n",
       " datetime.date(2011, 4, 22),\n",
       " datetime.date(2011, 4, 25),\n",
       " datetime.date(2011, 5, 1),\n",
       " datetime.date(2011, 12, 25),\n",
       " datetime.date(2011, 12, 26),\n",
       " datetime.date(2012, 1, 1),\n",
       " datetime.date(2012, 4, 6),\n",
       " datetime.date(2012, 4, 9),\n",
       " datetime.date(2012, 5, 1),\n",
       " datetime.date(2012, 12, 25),\n",
       " datetime.date(2012, 12, 26),\n",
       " datetime.date(2013, 1, 1),\n",
       " datetime.date(2013, 3, 29),\n",
       " datetime.date(2013, 4, 1),\n",
       " datetime.date(2013, 5, 1),\n",
       " datetime.date(2013, 12, 25),\n",
       " datetime.date(2013, 12, 26),\n",
       " datetime.date(2014, 1, 1),\n",
       " datetime.date(2014, 4, 18),\n",
       " datetime.date(2014, 4, 21),\n",
       " datetime.date(2014, 5, 1),\n",
       " datetime.date(2014, 12, 25),\n",
       " datetime.date(2014, 12, 26),\n",
       " datetime.date(2015, 1, 1),\n",
       " datetime.date(2015, 4, 3),\n",
       " datetime.date(2015, 4, 6),\n",
       " datetime.date(2015, 5, 1),\n",
       " datetime.date(2015, 12, 25),\n",
       " datetime.date(2015, 12, 26),\n",
       " datetime.date(2016, 1, 1),\n",
       " datetime.date(2016, 3, 25),\n",
       " datetime.date(2016, 3, 28),\n",
       " datetime.date(2016, 5, 1),\n",
       " datetime.date(2016, 12, 25),\n",
       " datetime.date(2016, 12, 26),\n",
       " datetime.date(2017, 1, 1),\n",
       " datetime.date(2017, 4, 14),\n",
       " datetime.date(2017, 4, 17),\n",
       " datetime.date(2017, 5, 1),\n",
       " datetime.date(2017, 12, 25),\n",
       " datetime.date(2017, 12, 26),\n",
       " datetime.date(2018, 1, 1),\n",
       " datetime.date(2018, 3, 30),\n",
       " datetime.date(2018, 4, 2),\n",
       " datetime.date(2018, 5, 1),\n",
       " datetime.date(2018, 12, 25),\n",
       " datetime.date(2018, 12, 26),\n",
       " datetime.date(2019, 1, 1),\n",
       " datetime.date(2019, 4, 19),\n",
       " datetime.date(2019, 4, 22),\n",
       " datetime.date(2019, 5, 1),\n",
       " datetime.date(2019, 12, 25),\n",
       " datetime.date(2019, 12, 26),\n",
       " datetime.date(2020, 1, 1),\n",
       " datetime.date(2020, 4, 10),\n",
       " datetime.date(2020, 4, 13),\n",
       " datetime.date(2020, 5, 1),\n",
       " datetime.date(2020, 12, 25),\n",
       " datetime.date(2020, 12, 26),\n",
       " datetime.date(2021, 1, 1),\n",
       " datetime.date(2021, 4, 2),\n",
       " datetime.date(2021, 4, 5),\n",
       " datetime.date(2021, 5, 1),\n",
       " datetime.date(2021, 12, 25),\n",
       " datetime.date(2021, 12, 26),\n",
       " datetime.date(2022, 1, 1),\n",
       " datetime.date(2022, 4, 15),\n",
       " datetime.date(2022, 4, 18),\n",
       " datetime.date(2022, 5, 1),\n",
       " datetime.date(2022, 12, 25),\n",
       " datetime.date(2022, 12, 26),\n",
       " datetime.date(2023, 1, 1),\n",
       " datetime.date(2023, 4, 7),\n",
       " datetime.date(2023, 4, 10),\n",
       " datetime.date(2023, 5, 1),\n",
       " datetime.date(2023, 12, 25),\n",
       " datetime.date(2023, 12, 26),\n",
       " datetime.date(2024, 1, 1),\n",
       " datetime.date(2024, 3, 29),\n",
       " datetime.date(2024, 4, 1),\n",
       " datetime.date(2024, 5, 1),\n",
       " datetime.date(2024, 12, 25),\n",
       " datetime.date(2024, 12, 26)]"
      ]
     },
     "execution_count": 25,
     "metadata": {},
     "output_type": "execute_result"
    }
   ],
   "source": [
    "from workalendar.europe import EuropeanCentralBank\n",
    "\n",
    "# build the list of holidays\n",
    "holidays = []\n",
    "for year in range(2000,2025):\n",
    "    holidays = holidays + EuropeanCentralBank().holidays(year)\n",
    "\n",
    "# reformating into a list\n",
    "holidays = [tuple_day[0] for tuple_day in holidays]\n",
    "holidays"
   ]
  },
  {
   "attachments": {},
   "cell_type": "markdown",
   "id": "666209a7",
   "metadata": {},
   "source": [
    "## 3.4 quality check on the cleaning of mmsr from evergreens"
   ]
  },
  {
   "cell_type": "code",
   "execution_count": null,
   "id": "90ca29bd",
   "metadata": {},
   "outputs": [
    {
     "data": {
      "text/plain": [
       "len\n",
       "1      393216\n",
       "48      50762\n",
       "64      50284\n",
       "56      50254\n",
       "32      50034\n",
       "40      49722\n",
       "16      24813\n",
       "6        6189\n",
       "dtype: int64"
      ]
     },
     "execution_count": 26,
     "metadata": {},
     "output_type": "execute_result"
    }
   ],
   "source": [
    "def get_len(row):\n",
    "    if isinstance(row[\"trans_id\"], int):\n",
    "        return 1 \n",
    "    else:\n",
    "        return len(row[\"trans_id\"])\n",
    "\n",
    "\n",
    "apply_func = lambda row: get_len(row)\n",
    "df_rev_repo_trans[\"len\"] = df_rev_repo_trans.apply(apply_func, axis=1)\n",
    "df_rev_repo_trans[[\"len\"]].value_counts()"
   ]
  }
 ],
 "metadata": {
  "kernelspec": {
   "display_name": "interbank_network",
   "language": "python",
   "name": "python3"
  },
  "language_info": {
   "codemirror_mode": {
    "name": "ipython",
    "version": 3
   },
   "file_extension": ".py",
   "mimetype": "text/x-python",
   "name": "python",
   "nbconvert_exporter": "python",
   "pygments_lexer": "ipython3",
   "version": "3.8.16"
  },
  "vscode": {
   "interpreter": {
    "hash": "32ea9c90008a5dcaff259cd18f14c457e4ce7786446437a8837b659a7369a5ef"
   }
  }
 },
 "nbformat": 4,
 "nbformat_minor": 5
}
