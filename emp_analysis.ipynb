{
 "cells": [
  {
   "cell_type": "code",
   "execution_count": 1,
   "id": "8c221870",
   "metadata": {},
   "outputs": [],
   "source": [
    "# imports \n",
    "import emp_preprocessing as ep\n",
    "import emp_fake_data as ef\n",
    "import emp_metrics as em\n",
    "import emp_graphics as eg\n",
    "import networkx as nx\n",
    "import graphics as gx\n",
    "import functions as fct\n",
    "import numpy as np\n",
    "import pandas as pd\n",
    "\n",
    "# parameters\n",
    "agg_periods = [1, 50, 100, 250]\n",
    "path_results = \"./results/general-testing/\""
   ]
  },
  {
   "cell_type": "markdown",
   "id": "a5dec96a",
   "metadata": {},
   "source": [
    "# data preprocessing"
   ]
  },
  {
   "cell_type": "code",
   "execution_count": 6,
   "id": "22175976",
   "metadata": {},
   "outputs": [
    {
     "name": "stderr",
     "output_type": "stream",
     "text": [
      "  3%|▎         | 157/5000 [00:02<00:46, 103.81it/s]"
     ]
    }
   ],
   "source": [
    "# load fake data\n",
    "df_mmsr = ef.get_df_mmsr(nb_tran=5000)\n",
    "dic_obs_adj_cr, dic_obs_adj_tr = ep.build_from_data(df_mmsr=df_mmsr)"
   ]
  },
  {
   "cell_type": "code",
   "execution_count": 2,
   "id": "7e56a43b",
   "metadata": {},
   "outputs": [],
   "source": [
    "# load data (faster)\n",
    "dic_obs_adj_cr, dic_obs_adj_tr = ep.get_dic_obs_adj_cr(), ep.get_dic_obs_adj_tr()"
   ]
  },
  {
   "cell_type": "markdown",
   "id": "27ae698a",
   "metadata": {},
   "source": [
    "# metrics measurement"
   ]
  },
  {
   "cell_type": "code",
   "execution_count": null,
   "id": "a84903e0",
   "metadata": {},
   "outputs": [],
   "source": [
    "# get aggregated adjency matrices\n",
    "dic_binary_adjs = em.get_binary_adjs(dic_obs_adj_tr, agg_periods)"
   ]
  },
  {
   "cell_type": "markdown",
   "id": "d20f818d",
   "metadata": {},
   "source": [
    "## jaccard"
   ]
  },
  {
   "cell_type": "code",
   "execution_count": null,
   "id": "af67a20c",
   "metadata": {},
   "outputs": [],
   "source": [
    "# get jaccard\n",
    "dic_jaccard = em.get_jaccard(dic_binary_adjs)\n",
    "eg.plot_jaccard_aggregated(dic_jaccard, path_results)"
   ]
  },
  {
   "cell_type": "markdown",
   "id": "62a3fac4",
   "metadata": {},
   "source": [
    "## density"
   ]
  },
  {
   "cell_type": "code",
   "execution_count": null,
   "id": "758c5661",
   "metadata": {},
   "outputs": [],
   "source": [
    "# get density\n",
    "dic_density = em.get_density(dic_binary_adjs)\n",
    "eg.plot_network_density(dic_density, path_results)"
   ]
  },
  {
   "cell_type": "markdown",
   "id": "848fc0f1",
   "metadata": {},
   "source": [
    "## distribution of in and out degree"
   ]
  },
  {
   "cell_type": "code",
   "execution_count": null,
   "id": "acca1a9a",
   "metadata": {},
   "outputs": [],
   "source": [
    "# get degree distribution\n",
    "\n",
    "# for the transactions aggregated\n",
    "dic_in_degree_distribution, dic_out_degree_distribution = em.get_degree_distribution(dic_binary_adjs)\n",
    "eg.plot_degree_distribution(\n",
    "    dic_in_degree_distribution, dic_out_degree_distribution, path_results, name=\"degree_distribution_tr\"\n",
    ")"
   ]
  },
  {
   "cell_type": "code",
   "execution_count": null,
   "id": "e1538f0b",
   "metadata": {},
   "outputs": [],
   "source": [
    "# for the exposures\n",
    "dic_binary_adjs = em.get_binary_adjs(dic_obs_adj_cr, [1])\n",
    "dic_in_degree_distribution, dic_out_degree_distribution = em.get_degree_distribution(dic_binary_adjs)\n",
    "eg.plot_degree_distribution(\n",
    "    dic_in_degree_distribution, dic_out_degree_distribution, path_results, name=\"degree_distribution_cr\"\n",
    ")"
   ]
  },
  {
   "cell_type": "markdown",
   "id": "3bc2c133",
   "metadata": {},
   "source": [
    "## core periphery"
   ]
  },
  {
   "cell_type": "code",
   "execution_count": 5,
   "id": "b93e9fb5",
   "metadata": {},
   "outputs": [
    {
     "name": "stderr",
     "output_type": "stream",
     "text": [
      "100%|██████████| 300/300 [00:00<00:00, 764.94it/s]\n"
     ]
    },
    {
     "name": "stdout",
     "output_type": "stream",
     "text": [
      "1 core-periphery structure(s) detected, but 0 significant, p-values are [0.895171970302426] \n"
     ]
    },
    {
     "name": "stderr",
     "output_type": "stream",
     "text": [
      "100%|██████████| 300/300 [00:00<00:00, 606.97it/s]\n"
     ]
    },
    {
     "name": "stdout",
     "output_type": "stream",
     "text": [
      "1 core-periphery structure(s) detected, but 1 significant, p-values are [0.009972509744850422] \n"
     ]
    },
    {
     "name": "stderr",
     "output_type": "stream",
     "text": [
      "100%|██████████| 300/300 [00:00<00:00, 437.78it/s]\n"
     ]
    },
    {
     "name": "stdout",
     "output_type": "stream",
     "text": [
      "1 core-periphery structure(s) detected, but 0 significant, p-values are [nan] \n"
     ]
    },
    {
     "name": "stderr",
     "output_type": "stream",
     "text": [
      "100%|██████████| 300/300 [00:00<00:00, 570.16it/s]\n"
     ]
    },
    {
     "name": "stdout",
     "output_type": "stream",
     "text": [
      "1 core-periphery structure(s) detected, but 0 significant, p-values are [nan] \n"
     ]
    },
    {
     "name": "stderr",
     "output_type": "stream",
     "text": [
      "100%|██████████| 300/300 [00:00<00:00, 508.12it/s]\n"
     ]
    },
    {
     "name": "stdout",
     "output_type": "stream",
     "text": [
      "1 core-periphery structure(s) detected, but 0 significant, p-values are [nan] \n"
     ]
    }
   ],
   "source": [
    "# get cp structure\n",
    "\n",
    "# for the exposures : to be checked wether the cpnet librairie handles weighted graph, I don't remember\n",
    "\n",
    "dic_binary_adjs = em.get_binary_adjs(dic_obs_adj_cr, [1])\n",
    "\n",
    "dic_p_value = em.get_n_plot_cp_test(dic_binary_adjs, save_every=100, path_results=path_results)"
   ]
  },
  {
   "cell_type": "code",
   "execution_count": 3,
   "id": "394414ed",
   "metadata": {},
   "outputs": [
    {
     "name": "stderr",
     "output_type": "stream",
     "text": [
      "100%|██████████| 300/300 [00:00<00:00, 693.20it/s]\n"
     ]
    },
    {
     "name": "stdout",
     "output_type": "stream",
     "text": [
      "1 core-periphery structure(s) detected, but 0 significant, p-values are [0.8822186257111552] \n"
     ]
    },
    {
     "name": "stderr",
     "output_type": "stream",
     "text": [
      "100%|██████████| 300/300 [00:00<00:00, 731.56it/s]\n"
     ]
    },
    {
     "name": "stdout",
     "output_type": "stream",
     "text": [
      "1 core-periphery structure(s) detected, but 0 significant, p-values are [0.9097598199431296] \n"
     ]
    },
    {
     "name": "stderr",
     "output_type": "stream",
     "text": [
      "100%|██████████| 300/300 [00:00<00:00, 470.04it/s]\n"
     ]
    },
    {
     "name": "stdout",
     "output_type": "stream",
     "text": [
      "1 core-periphery structure(s) detected, but 0 significant, p-values are [0.9650979183912886] \n"
     ]
    },
    {
     "name": "stderr",
     "output_type": "stream",
     "text": [
      "100%|██████████| 300/300 [00:00<00:00, 359.91it/s]\n"
     ]
    },
    {
     "name": "stdout",
     "output_type": "stream",
     "text": [
      "1 core-periphery structure(s) detected, but 0 significant, p-values are [0.9482436363798101] \n"
     ]
    },
    {
     "name": "stderr",
     "output_type": "stream",
     "text": [
      "100%|██████████| 300/300 [00:01<00:00, 271.44it/s]\n"
     ]
    },
    {
     "name": "stdout",
     "output_type": "stream",
     "text": [
      "1 core-periphery structure(s) detected, but 0 significant, p-values are [0.923310065529725] \n"
     ]
    },
    {
     "name": "stderr",
     "output_type": "stream",
     "text": [
      "100%|██████████| 300/300 [00:01<00:00, 220.89it/s]\n"
     ]
    },
    {
     "name": "stdout",
     "output_type": "stream",
     "text": [
      "1 core-periphery structure(s) detected, but 0 significant, p-values are [0.9218553773770056] \n"
     ]
    },
    {
     "name": "stderr",
     "output_type": "stream",
     "text": [
      "100%|██████████| 300/300 [00:01<00:00, 175.35it/s]\n"
     ]
    },
    {
     "name": "stdout",
     "output_type": "stream",
     "text": [
      "1 core-periphery structure(s) detected, but 0 significant, p-values are [0.9344525638751838] \n"
     ]
    },
    {
     "name": "stderr",
     "output_type": "stream",
     "text": [
      "100%|██████████| 300/300 [00:00<00:00, 322.21it/s]\n"
     ]
    },
    {
     "name": "stdout",
     "output_type": "stream",
     "text": [
      "1 core-periphery structure(s) detected, but 0 significant, p-values are [0.937524460666088] \n"
     ]
    },
    {
     "name": "stderr",
     "output_type": "stream",
     "text": [
      "100%|██████████| 300/300 [00:00<00:00, 516.43it/s]\n"
     ]
    },
    {
     "name": "stdout",
     "output_type": "stream",
     "text": [
      "1 core-periphery structure(s) detected, but 0 significant, p-values are [0.9854035337836586] \n"
     ]
    },
    {
     "name": "stderr",
     "output_type": "stream",
     "text": [
      "100%|██████████| 300/300 [00:00<00:00, 523.19it/s]\n"
     ]
    },
    {
     "name": "stdout",
     "output_type": "stream",
     "text": [
      "1 core-periphery structure(s) detected, but 0 significant, p-values are [0.9822626622398711] \n"
     ]
    }
   ],
   "source": [
    "# build the dic_binary_adjs\n",
    "dic_binary_adjs = em.get_binary_adjs(dic_obs_adj_tr, agg_periods=[1,50])\n",
    "dic_p_value = em.get_n_plot_cp_test(dic_binary_adjs, save_every=100, path_results=path_results)"
   ]
  },
  {
   "cell_type": "code",
   "execution_count": 4,
   "id": "9020736d",
   "metadata": {},
   "outputs": [
    {
     "data": {
      "text/plain": [
       "{1: [1,\n",
       "  [0.8822186257111552],\n",
       "  [0.9650979183912886],\n",
       "  [0.923310065529725],\n",
       "  [0.9344525638751838],\n",
       "  [0.9854035337836586]],\n",
       " 50: [1,\n",
       "  [0.9097598199431296],\n",
       "  [0.9482436363798101],\n",
       "  [0.9218553773770056],\n",
       "  [0.937524460666088],\n",
       "  [0.9822626622398711]]}"
      ]
     },
     "execution_count": 4,
     "metadata": {},
     "output_type": "execute_result"
    }
   ],
   "source": [
    "dic_p_value"
   ]
  },
  {
   "cell_type": "markdown",
   "id": "8eef7572",
   "metadata": {},
   "source": [
    "## asset per degree"
   ]
  },
  {
   "cell_type": "code",
   "execution_count": null,
   "id": "c2103a8a",
   "metadata": {},
   "outputs": [
    {
     "data": {
      "text/html": [
       "<div>\n",
       "<style scoped>\n",
       "    .dataframe tbody tr th:only-of-type {\n",
       "        vertical-align: middle;\n",
       "    }\n",
       "\n",
       "    .dataframe tbody tr th {\n",
       "        vertical-align: top;\n",
       "    }\n",
       "\n",
       "    .dataframe thead th {\n",
       "        text-align: right;\n",
       "    }\n",
       "</style>\n",
       "<table border=\"1\" class=\"dataframe\">\n",
       "  <thead>\n",
       "    <tr style=\"text-align: right;\">\n",
       "      <th></th>\n",
       "      <th>lei</th>\n",
       "      <th>date</th>\n",
       "      <th>total_assets</th>\n",
       "    </tr>\n",
       "  </thead>\n",
       "  <tbody>\n",
       "    <tr>\n",
       "      <th>0</th>\n",
       "      <td>bank_0</td>\n",
       "      <td>2020-01-01</td>\n",
       "      <td>58.990529</td>\n",
       "    </tr>\n",
       "    <tr>\n",
       "      <th>1</th>\n",
       "      <td>bank_1</td>\n",
       "      <td>2020-01-01</td>\n",
       "      <td>50.501149</td>\n",
       "    </tr>\n",
       "    <tr>\n",
       "      <th>2</th>\n",
       "      <td>bank_2</td>\n",
       "      <td>2020-01-01</td>\n",
       "      <td>5.344294</td>\n",
       "    </tr>\n",
       "    <tr>\n",
       "      <th>3</th>\n",
       "      <td>bank_3</td>\n",
       "      <td>2020-01-01</td>\n",
       "      <td>90.204711</td>\n",
       "    </tr>\n",
       "    <tr>\n",
       "      <th>4</th>\n",
       "      <td>bank_4</td>\n",
       "      <td>2020-01-01</td>\n",
       "      <td>64.365055</td>\n",
       "    </tr>\n",
       "    <tr>\n",
       "      <th>...</th>\n",
       "      <td>...</td>\n",
       "      <td>...</td>\n",
       "      <td>...</td>\n",
       "    </tr>\n",
       "    <tr>\n",
       "      <th>1245</th>\n",
       "      <td>bank_45</td>\n",
       "      <td>2044-01-01</td>\n",
       "      <td>50.109490</td>\n",
       "    </tr>\n",
       "    <tr>\n",
       "      <th>1246</th>\n",
       "      <td>bank_46</td>\n",
       "      <td>2044-01-01</td>\n",
       "      <td>91.466958</td>\n",
       "    </tr>\n",
       "    <tr>\n",
       "      <th>1247</th>\n",
       "      <td>bank_47</td>\n",
       "      <td>2044-01-01</td>\n",
       "      <td>75.007440</td>\n",
       "    </tr>\n",
       "    <tr>\n",
       "      <th>1248</th>\n",
       "      <td>bank_48</td>\n",
       "      <td>2044-01-01</td>\n",
       "      <td>12.931336</td>\n",
       "    </tr>\n",
       "    <tr>\n",
       "      <th>1249</th>\n",
       "      <td>bank_49</td>\n",
       "      <td>2044-01-01</td>\n",
       "      <td>44.575529</td>\n",
       "    </tr>\n",
       "  </tbody>\n",
       "</table>\n",
       "<p>1250 rows × 3 columns</p>\n",
       "</div>"
      ],
      "text/plain": [
       "          lei       date  total_assets\n",
       "0      bank_0 2020-01-01     58.990529\n",
       "1      bank_1 2020-01-01     50.501149\n",
       "2      bank_2 2020-01-01      5.344294\n",
       "3      bank_3 2020-01-01     90.204711\n",
       "4      bank_4 2020-01-01     64.365055\n",
       "...       ...        ...           ...\n",
       "1245  bank_45 2044-01-01     50.109490\n",
       "1246  bank_46 2044-01-01     91.466958\n",
       "1247  bank_47 2044-01-01     75.007440\n",
       "1248  bank_48 2044-01-01     12.931336\n",
       "1249  bank_49 2044-01-01     44.575529\n",
       "\n",
       "[1250 rows x 3 columns]"
      ]
     },
     "execution_count": 10,
     "metadata": {},
     "output_type": "execute_result"
    }
   ],
   "source": [
    "ef.get_df_finrep()"
   ]
  },
  {
   "cell_type": "markdown",
   "id": "4c2702a9",
   "metadata": {},
   "source": [
    "# tools"
   ]
  },
  {
   "cell_type": "code",
   "execution_count": null,
   "id": "ee9801d6",
   "metadata": {},
   "outputs": [
    {
     "data": {
      "text/plain": [
       "<BarContainer object of 6 artists>"
      ]
     },
     "execution_count": 11,
     "metadata": {},
     "output_type": "execute_result"
    },
    {
     "data": {
      "image/png": "[encoded data removed]",
      "text/plain": [
       "<Figure size 432x288 with 1 Axes>"
      ]
     },
     "metadata": {
      "needs_background": "light"
     },
     "output_type": "display_data"
    }
   ],
   "source": [
    "from matplotlib import pyplot as plt\n",
    "binary_adj = np.random.randint(0,2,(10,10))\n",
    "bank_network = nx.from_numpy_matrix(\n",
    "            binary_adj,\n",
    "            parallel_edges=False,\n",
    "            create_using=nx.DiGraph,\n",
    "        )  # first define a networkx object.\n",
    "\n",
    "ar_in_degree = np.array(bank_network.in_degree())[:,1]\n",
    "hist = np.unique(ar_in_degree, return_counts=True)\n",
    "plt.bar(*hist)\n"
   ]
  }
 ],
 "metadata": {
  "kernelspec": {
   "display_name": "Python 3.9.5 ('venv': venv)",
   "language": "python",
   "name": "python3"
  },
  "language_info": {
   "codemirror_mode": {
    "name": "ipython",
    "version": 3
   },
   "file_extension": ".py",
   "mimetype": "text/x-python",
   "name": "python",
   "nbconvert_exporter": "python",
   "pygments_lexer": "ipython3",
   "version": "3.9.5"
  },
  "vscode": {
   "interpreter": {
    "hash": "079b1fb917025cd1efcb3b76bbd42ea8503c3ca839bb74a5335b7616d8aa92a0"
   }
  }
 },
 "nbformat": 4,
 "nbformat_minor": 5
}
