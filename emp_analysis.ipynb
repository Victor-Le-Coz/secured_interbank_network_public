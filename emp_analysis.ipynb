{
 "cells": [
  {
   "cell_type": "code",
   "execution_count": 1,
   "id": "8c221870",
   "metadata": {},
   "outputs": [],
   "source": [
    "# imports \n",
    "import emp_preprocessing as ep\n",
    "import emp_fake_data as ef\n",
    "import emp_metrics as em\n",
    "import emp_graphics as eg\n",
    "import networkx as nx\n",
    "import graphics as gx\n",
    "import functions as fct\n",
    "import numpy as np"
   ]
  },
  {
   "cell_type": "markdown",
   "id": "a5dec96a",
   "metadata": {},
   "source": [
    "# data preprocessing"
   ]
  },
  {
   "cell_type": "code",
   "execution_count": 2,
   "id": "22175976",
   "metadata": {},
   "outputs": [
    {
     "data": {
      "text/html": [
       "<div>\n",
       "<style scoped>\n",
       "    .dataframe tbody tr th:only-of-type {\n",
       "        vertical-align: middle;\n",
       "    }\n",
       "\n",
       "    .dataframe tbody tr th {\n",
       "        vertical-align: top;\n",
       "    }\n",
       "\n",
       "    .dataframe thead th {\n",
       "        text-align: right;\n",
       "    }\n",
       "</style>\n",
       "<table border=\"1\" class=\"dataframe\">\n",
       "  <thead>\n",
       "    <tr style=\"text-align: right;\">\n",
       "      <th></th>\n",
       "      <th>report_agent_lei</th>\n",
       "      <th>cntp_lei</th>\n",
       "      <th>trns_nominal_amt</th>\n",
       "      <th>maturity_time_stamp</th>\n",
       "      <th>first_occurence</th>\n",
       "      <th>trns_type</th>\n",
       "    </tr>\n",
       "  </thead>\n",
       "  <tbody>\n",
       "    <tr>\n",
       "      <th>2020-01-01 00:00:00</th>\n",
       "      <td>bank_12</td>\n",
       "      <td>bank_43</td>\n",
       "      <td>24.625484</td>\n",
       "      <td>2020-08-16 21:46:24.324844800</td>\n",
       "      <td>True</td>\n",
       "      <td>LEND</td>\n",
       "    </tr>\n",
       "    <tr>\n",
       "      <th>2020-01-01 05:00:00</th>\n",
       "      <td>bank_21</td>\n",
       "      <td>fund_44</td>\n",
       "      <td>63.870558</td>\n",
       "      <td>2020-03-09 19:22:32.420294400</td>\n",
       "      <td>False</td>\n",
       "      <td>LEND</td>\n",
       "    </tr>\n",
       "    <tr>\n",
       "      <th>2020-01-01 10:00:00</th>\n",
       "      <td>bank_19</td>\n",
       "      <td>bank_28</td>\n",
       "      <td>88.447007</td>\n",
       "      <td>2020-05-18 04:02:55.979692800</td>\n",
       "      <td>True</td>\n",
       "      <td>SELL</td>\n",
       "    </tr>\n",
       "    <tr>\n",
       "      <th>2020-01-01 15:00:00</th>\n",
       "      <td>bank_38</td>\n",
       "      <td>bank_46</td>\n",
       "      <td>75.800468</td>\n",
       "      <td>2020-01-23 06:23:51.785116800</td>\n",
       "      <td>False</td>\n",
       "      <td>LEND</td>\n",
       "    </tr>\n",
       "    <tr>\n",
       "      <th>2020-01-01 20:00:00</th>\n",
       "      <td>bank_28</td>\n",
       "      <td>bank_99</td>\n",
       "      <td>7.625742</td>\n",
       "      <td>2020-08-26 06:57:17.419536000</td>\n",
       "      <td>False</td>\n",
       "      <td>LEND</td>\n",
       "    </tr>\n",
       "    <tr>\n",
       "      <th>...</th>\n",
       "      <td>...</td>\n",
       "      <td>...</td>\n",
       "      <td>...</td>\n",
       "      <td>...</td>\n",
       "      <td>...</td>\n",
       "      <td>...</td>\n",
       "    </tr>\n",
       "    <tr>\n",
       "      <th>2022-11-06 15:00:00</th>\n",
       "      <td>bank_48</td>\n",
       "      <td>fund_26</td>\n",
       "      <td>59.412782</td>\n",
       "      <td>2023-04-23 09:08:50.018208000</td>\n",
       "      <td>False</td>\n",
       "      <td>BUYI</td>\n",
       "    </tr>\n",
       "    <tr>\n",
       "      <th>2022-11-06 20:00:00</th>\n",
       "      <td>bank_12</td>\n",
       "      <td>bank_75</td>\n",
       "      <td>40.562559</td>\n",
       "      <td>2023-06-23 22:18:04.840876800</td>\n",
       "      <td>False</td>\n",
       "      <td>LEND</td>\n",
       "    </tr>\n",
       "    <tr>\n",
       "      <th>2022-11-07 01:00:00</th>\n",
       "      <td>bank_49</td>\n",
       "      <td>bank_63</td>\n",
       "      <td>7.495949</td>\n",
       "      <td>2023-06-24 22:58:42.484022400</td>\n",
       "      <td>True</td>\n",
       "      <td>LEND</td>\n",
       "    </tr>\n",
       "    <tr>\n",
       "      <th>2022-11-07 06:00:00</th>\n",
       "      <td>bank_10</td>\n",
       "      <td>bank_73</td>\n",
       "      <td>70.904792</td>\n",
       "      <td>2022-12-02 16:33:55.598198400</td>\n",
       "      <td>True</td>\n",
       "      <td>SELL</td>\n",
       "    </tr>\n",
       "    <tr>\n",
       "      <th>2022-11-07 11:00:00</th>\n",
       "      <td>bank_32</td>\n",
       "      <td>bank_70</td>\n",
       "      <td>20.684234</td>\n",
       "      <td>2023-01-26 17:40:47.510947200</td>\n",
       "      <td>False</td>\n",
       "      <td>LEND</td>\n",
       "    </tr>\n",
       "  </tbody>\n",
       "</table>\n",
       "<p>5000 rows × 6 columns</p>\n",
       "</div>"
      ],
      "text/plain": [
       "                    report_agent_lei cntp_lei  trns_nominal_amt  \\\n",
       "2020-01-01 00:00:00          bank_12  bank_43         24.625484   \n",
       "2020-01-01 05:00:00          bank_21  fund_44         63.870558   \n",
       "2020-01-01 10:00:00          bank_19  bank_28         88.447007   \n",
       "2020-01-01 15:00:00          bank_38  bank_46         75.800468   \n",
       "2020-01-01 20:00:00          bank_28  bank_99          7.625742   \n",
       "...                              ...      ...               ...   \n",
       "2022-11-06 15:00:00          bank_48  fund_26         59.412782   \n",
       "2022-11-06 20:00:00          bank_12  bank_75         40.562559   \n",
       "2022-11-07 01:00:00          bank_49  bank_63          7.495949   \n",
       "2022-11-07 06:00:00          bank_10  bank_73         70.904792   \n",
       "2022-11-07 11:00:00          bank_32  bank_70         20.684234   \n",
       "\n",
       "                              maturity_time_stamp  first_occurence trns_type  \n",
       "2020-01-01 00:00:00 2020-08-16 21:46:24.324844800             True      LEND  \n",
       "2020-01-01 05:00:00 2020-03-09 19:22:32.420294400            False      LEND  \n",
       "2020-01-01 10:00:00 2020-05-18 04:02:55.979692800             True      SELL  \n",
       "2020-01-01 15:00:00 2020-01-23 06:23:51.785116800            False      LEND  \n",
       "2020-01-01 20:00:00 2020-08-26 06:57:17.419536000            False      LEND  \n",
       "...                                           ...              ...       ...  \n",
       "2022-11-06 15:00:00 2023-04-23 09:08:50.018208000            False      BUYI  \n",
       "2022-11-06 20:00:00 2023-06-23 22:18:04.840876800            False      LEND  \n",
       "2022-11-07 01:00:00 2023-06-24 22:58:42.484022400             True      LEND  \n",
       "2022-11-07 06:00:00 2022-12-02 16:33:55.598198400             True      SELL  \n",
       "2022-11-07 11:00:00 2023-01-26 17:40:47.510947200            False      LEND  \n",
       "\n",
       "[5000 rows x 6 columns]"
      ]
     },
     "execution_count": 2,
     "metadata": {},
     "output_type": "execute_result"
    }
   ],
   "source": [
    "# load fake data\n",
    "df_mmsr = ef.get_df_mmsr(nb_tran=5000)\n",
    "df_mmsr"
   ]
  },
  {
   "cell_type": "code",
   "execution_count": 3,
   "id": "1a1e4070",
   "metadata": {},
   "outputs": [
    {
     "name": "stderr",
     "output_type": "stream",
     "text": [
      "100%|██████████| 5000/5000 [02:19<00:00, 35.92it/s] \n"
     ]
    }
   ],
   "source": [
    "dic_obs_adj_cr, dic_obs_adj_tr = ep.build_from_data(df_mmsr=df_mmsr)"
   ]
  },
  {
   "cell_type": "markdown",
   "id": "27ae698a",
   "metadata": {},
   "source": [
    "# metrics measurement"
   ]
  },
  {
   "cell_type": "code",
   "execution_count": 4,
   "id": "bbf7aa78",
   "metadata": {},
   "outputs": [],
   "source": [
    "# parameters\n",
    "agg_periods = [1, 50, 100, 250]\n",
    "path_results = \"./results/general-testing/\""
   ]
  },
  {
   "cell_type": "markdown",
   "id": "d20f818d",
   "metadata": {},
   "source": [
    "## jaccard"
   ]
  },
  {
   "cell_type": "code",
   "execution_count": 5,
   "id": "af67a20c",
   "metadata": {},
   "outputs": [
    {
     "name": "stderr",
     "output_type": "stream",
     "text": [
      "c:\\Users\\VictorLeCoz\\OneDrive - Quant Decisions S.L\\Documents\\PhD\\secured-inter-bank-network\\emp_metrics.py:51: RuntimeWarning: invalid value encountered in long_scalars\n",
      "  np.logical_and(\n"
     ]
    }
   ],
   "source": [
    "dic_jaccard = em.compute_jaccard(dic_obs_adj_tr=dic_obs_adj_tr, agg_periods=agg_periods)"
   ]
  },
  {
   "cell_type": "code",
   "execution_count": 6,
   "id": "bca4d97d",
   "metadata": {},
   "outputs": [],
   "source": [
    "eg.plot_jaccard_aggregated(dic_jaccard, agg_periods, path_results)"
   ]
  },
  {
   "cell_type": "markdown",
   "id": "62a3fac4",
   "metadata": {},
   "source": [
    "## density"
   ]
  },
  {
   "cell_type": "code",
   "execution_count": 7,
   "id": "758c5661",
   "metadata": {},
   "outputs": [],
   "source": [
    "dic_density = em.compute_density(dic_obs_adj_tr=dic_obs_adj_tr, agg_periods=agg_periods)"
   ]
  },
  {
   "cell_type": "code",
   "execution_count": 8,
   "id": "5958feca",
   "metadata": {},
   "outputs": [],
   "source": [
    "eg.plot_network_density(dic_density, agg_periods, path_results)"
   ]
  },
  {
   "cell_type": "markdown",
   "id": "3bc2c133",
   "metadata": {},
   "source": [
    "## core periphery"
   ]
  },
  {
   "cell_type": "code",
   "execution_count": 10,
   "id": "e971c851",
   "metadata": {},
   "outputs": [
    {
     "name": "stderr",
     "output_type": "stream",
     "text": [
      "100%|██████████| 300/300 [00:26<00:00, 11.20it/s]\n"
     ]
    },
    {
     "name": "stdout",
     "output_type": "stream",
     "text": [
      "1 core-periphery structure(s) detected, but 0 significant, p-values are [0.37590634307784243] \n"
     ]
    }
   ],
   "source": [
    "bank_network = nx.from_numpy_matrix(\n",
    "np.array(dic_obs_adj_tr[\"2020-01-05\"]), parallel_edges=False, create_using=nx.DiGraph\n",
    ")  # build nx object\n",
    "sig_c, sig_x, significant, p_value = fct.cpnet_test(\n",
    "bank_network\n",
    ")  # run cpnet test\n",
    "gx.plot_core_periphery(\n",
    "bank_network=bank_network,\n",
    "sig_c=sig_c,\n",
    "sig_x=sig_x,\n",
    "path=path_results,\n",
    "step=\"2020-01-05\",\n",
    "name_in_title=\"reverse repos\",\n",
    ")  # plot charts"
   ]
  },
  {
   "cell_type": "markdown",
   "id": "fea1d6b8",
   "metadata": {},
   "source": []
  }
 ],
 "metadata": {
  "kernelspec": {
   "display_name": "Python 3.9.5 ('venv': venv)",
   "language": "python",
   "name": "python3"
  },
  "language_info": {
   "codemirror_mode": {
    "name": "ipython",
    "version": 3
   },
   "file_extension": ".py",
   "mimetype": "text/x-python",
   "name": "python",
   "nbconvert_exporter": "python",
   "pygments_lexer": "ipython3",
   "version": "3.9.5"
  },
  "vscode": {
   "interpreter": {
    "hash": "079b1fb917025cd1efcb3b76bbd42ea8503c3ca839bb74a5335b7616d8aa92a0"
   }
  }
 },
 "nbformat": 4,
 "nbformat_minor": 5
}
