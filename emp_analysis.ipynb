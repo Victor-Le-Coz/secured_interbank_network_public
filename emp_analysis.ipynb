{
 "cells": [
  {
   "cell_type": "code",
   "execution_count": 1,
   "id": "8c221870",
   "metadata": {},
   "outputs": [],
   "source": [
    "# imports \n",
    "import emp_preprocessing as ep\n",
    "import emp_fake_data as ef\n",
    "import emp_metrics as em\n",
    "import networkx as nx\n",
    "import functions as fct\n",
    "import numpy as np\n",
    "import pandas as pd\n",
    "import parameters as par\n",
    "import os\n",
    "import graphics as gx\n",
    "\n",
    "# parameters\n",
    "path = \"./results/empirical_results/\"\n",
    "plot_period=1000"
   ]
  },
  {
   "attachments": {},
   "cell_type": "markdown",
   "id": "a5dec96a",
   "metadata": {},
   "source": [
    "# 1 data preprocessing"
   ]
  },
  {
   "cell_type": "code",
   "execution_count": 2,
   "id": "02f27bef",
   "metadata": {},
   "outputs": [
    {
     "name": "stderr",
     "output_type": "stream",
     "text": [
      "100%|██████████| 100000/100000 [00:34<00:00, 2928.12it/s]\n"
     ]
    }
   ],
   "source": [
    "# build fake reverse repo exp adj history\n",
    "df_exposures = ef.get_df_exposures(lines=int(1e5))\n",
    "dic_rev_repo_exp_adj = ep.build_from_exposures(df_exposures=df_exposures,path=f\"{path}data/\")\n",
    "\n",
    "# build fake finrep data\n",
    "df_finrep = ef.get_df_finrep()\n",
    "dic_dashed_trajectory = ef.get_dic_dashed_trajectory(df_finrep)"
   ]
  },
  {
   "cell_type": "code",
   "execution_count": 2,
   "id": "7e56a43b",
   "metadata": {},
   "outputs": [],
   "source": [
    "# pickle (faster)\n",
    "dic_rev_repo_exp_adj = ep.load_dic_obs_matrix_reverse_repo(path=f\"{path}data/\")\n",
    "df_finrep = ef.get_df_finrep()\n",
    "dic_dashed_trajectory = ef.get_dic_dashed_trajectory(df_finrep)"
   ]
  },
  {
   "cell_type": "markdown",
   "id": "937cca80",
   "metadata": {},
   "source": []
  },
  {
   "attachments": {},
   "cell_type": "markdown",
   "id": "27ae698a",
   "metadata": {},
   "source": [
    "# 2 metrics measurement"
   ]
  },
  {
   "cell_type": "code",
   "execution_count": 4,
   "id": "bfc69fc2",
   "metadata": {},
   "outputs": [],
   "source": [
    "os.makedirs(f\"{path}accounting_view/\", exist_ok=True)"
   ]
  },
  {
   "attachments": {},
   "cell_type": "markdown",
   "id": "8101911f",
   "metadata": {},
   "source": [
    "### 2.1.2 accounting items"
   ]
  },
  {
   "attachments": {},
   "cell_type": "markdown",
   "id": "c8bfb75d",
   "metadata": {},
   "source": [
    "#### A - static, distribution across banks, at several point in time "
   ]
  },
  {
   "cell_type": "code",
   "execution_count": null,
   "id": "c7fd44b3",
   "metadata": {},
   "outputs": [],
   "source": [
    "days = list(dic_rev_repo_exp_adj.keys())\n",
    "plot_days = fct.list_intersection(days, dic_dashed_trajectory.keys())\n",
    "bank_items = list(dic_dashed_trajectory.values())[0].columns\n",
    "\n",
    "# get df_powerlaw\n",
    "df_powerlaw = em.get_powerlaw(\n",
    "            dic_dashed_trajectory=dic_dashed_trajectory,\n",
    "            days=days,\n",
    "            plot_days=plot_days,\n",
    "            plot_period=plot_period,\n",
    "            path=f\"{path}accounting_view/power_law/\"\n",
    "        )\n",
    "\n",
    "# plot each powerlaw charts \n",
    "gx.plot_powerlaw(\n",
    "            df_network_trajectory=df_powerlaw,\n",
    "            days=days,\n",
    "            plot_period=plot_period,\n",
    "            path=f\"{path}accounting_view/\",\n",
    "            plot_days=plot_days,\n",
    "        )\n",
    "\n",
    "# plot p-values across time \n",
    "gx.plot_network_trajectory(\n",
    "                df=df_powerlaw,\n",
    "                cols=[f\"powerlaw p-value {bank_item}\"  for bank_item in bank_items],\n",
    "                file_name=f\"{path}accounting_view/power_law/powerlaw_pvalue.pdf\",\n",
    "            )\n",
    "\n",
    "# plot alpha of power laws across time \n",
    "gx.plot_network_trajectory(\n",
    "                df=df_powerlaw,\n",
    "                cols=[f\"powerlaw alpha {bank_item}\"  for bank_item in bank_items],\n",
    "                file_name=f\"{path}accounting_view/power_law/powerlaw_alpha.pdf\",\n",
    "            )"
   ]
  },
  {
   "attachments": {},
   "cell_type": "markdown",
   "id": "7b85896f",
   "metadata": {},
   "source": [
    "#### B - dynamic, distribution across time"
   ]
  },
  {
   "cell_type": "code",
   "execution_count": null,
   "id": "19f0318a",
   "metadata": {},
   "outputs": [],
   "source": [
    "# distribution of deposits relative variation across time for each single bank\n",
    "df_mmsr = ef.get_df_mmsr_unsecured(10000,freq=\"10min\")\n",
    "df_deposits_variations_by_bank = ep.get_df_deposits_variations_by_bank(df_mmsr, dic_dashed_trajectory, f\"{path}/accounting_view/deposits/\")\n",
    "\n",
    "df = df_deposits_variations_by_bank[df_deposits_variations_by_bank>0]\n",
    "em.run_n_plot_powerlaw(df,f\"{path}accounting_view/deposits/per_bank/positive/\")\n",
    "\n",
    "df = -df_deposits_variations_by_bank[df_deposits_variations_by_bank<0]\n",
    "em.run_n_plot_powerlaw(df,f\"{path}accounting_view/deposits/per_bank/negative/\")"
   ]
  },
  {
   "attachments": {},
   "cell_type": "markdown",
   "id": "82f6c566",
   "metadata": {},
   "source": [
    "#### C - mixed view across time and banks"
   ]
  },
  {
   "cell_type": "code",
   "execution_count": null,
   "id": "9f0875d2",
   "metadata": {},
   "outputs": [],
   "source": [
    "# distribution of deposits relative variation across time for each single bank\n",
    "df_mmsr = ef.get_df_mmsr_unsecured(10000,freq=\"10min\")\n",
    "df_deposits_variations = ep.get_df_deposits_variation(df_mmsr, dic_dashed_trajectory, f\"{path}/accounting_view/deposits/\")\n",
    "\n",
    "df = df_deposits_variations[df_deposits_variations>0]\n",
    "em.run_n_plot_powerlaw(df,f\"{path}accounting_view/deposits/positive/\")\n",
    "\n",
    "df = -df_deposits_variations[df_deposits_variations<0]\n",
    "em.run_n_plot_powerlaw(df,f\"{path}accounting_view/deposits/negative/\")"
   ]
  },
  {
   "attachments": {},
   "cell_type": "markdown",
   "id": "179a84a8",
   "metadata": {},
   "source": [
    "## 2.2. exposure view"
   ]
  },
  {
   "cell_type": "code",
   "execution_count": 8,
   "id": "e3be6955",
   "metadata": {},
   "outputs": [],
   "source": [
    "os.makedirs(f\"{path}exposure_view/\", exist_ok=True)"
   ]
  },
  {
   "cell_type": "code",
   "execution_count": 9,
   "id": "a84903e0",
   "metadata": {},
   "outputs": [],
   "source": [
    "# get aggregated adjency matrices\n",
    "dic_arr_binary_adj = ep.build_rolling_binary_adj(dic_rev_repo_exp_adj=dic_rev_repo_exp_adj,path=f\"{path}data/\")"
   ]
  },
  {
   "cell_type": "code",
   "execution_count": 10,
   "id": "71b40141",
   "metadata": {},
   "outputs": [],
   "source": [
    "# pickle (faster)\n",
    "dic_arr_binary_adj = ep.load_dic_arr_binary_adj(path=f\"{path}data/\")"
   ]
  },
  {
   "attachments": {},
   "cell_type": "markdown",
   "id": "d20f818d",
   "metadata": {},
   "source": [
    "### 2.2.1 jaccard"
   ]
  },
  {
   "cell_type": "code",
   "execution_count": 11,
   "id": "af67a20c",
   "metadata": {},
   "outputs": [
    {
     "name": "stdout",
     "output_type": "stream",
     "text": [
      "get jaccard\n"
     ]
    },
    {
     "name": "stderr",
     "output_type": "stream",
     "text": [
      "100%|██████████| 20833/20833 [00:04<00:00, 4186.66it/s]\n"
     ]
    }
   ],
   "source": [
    "days = list(dic_rev_repo_exp_adj.keys())\n",
    "\n",
    "# get jaccard\n",
    "df_jaccard = em.get_rev_repo_exposure_stats(dic_arr_binary_adj, days, path=path)\n",
    "gx.plot_network_trajectory(\n",
    "            df=df_jaccard,\n",
    "            cols=df_jaccard.columns,\n",
    "            file_name=f\"{path}exposure_view/jaccard_index.pdf\")"
   ]
  },
  {
   "attachments": {},
   "cell_type": "markdown",
   "id": "62a3fac4",
   "metadata": {},
   "source": [
    "### 2.2.2 density"
   ]
  },
  {
   "cell_type": "code",
   "execution_count": 12,
   "id": "758c5661",
   "metadata": {},
   "outputs": [
    {
     "name": "stdout",
     "output_type": "stream",
     "text": [
      "get density\n"
     ]
    },
    {
     "name": "stderr",
     "output_type": "stream",
     "text": [
      "100%|██████████| 20833/20833 [00:04<00:00, 4294.83it/s]\n"
     ]
    }
   ],
   "source": [
    "days = list(dic_rev_repo_exp_adj.keys())\n",
    "\n",
    "# get density\n",
    "df_density = em.get_density(dic_arr_binary_adj, days, path=path)\n",
    "gx.plot_network_trajectory(\n",
    "            df=df_density,\n",
    "            cols=df_density.columns,\n",
    "            file_name=f\"{path}exposure_view/network_density.pdf\",\n",
    "        )"
   ]
  },
  {
   "attachments": {},
   "cell_type": "markdown",
   "id": "848fc0f1",
   "metadata": {},
   "source": [
    "### 2.2.3 degree distribution  (static, dashed)"
   ]
  },
  {
   "cell_type": "code",
   "execution_count": 13,
   "id": "e1538f0b",
   "metadata": {},
   "outputs": [
    {
     "name": "stdout",
     "output_type": "stream",
     "text": [
      "get degree distribution\n"
     ]
    },
    {
     "name": "stderr",
     "output_type": "stream",
     "text": [
      "100%|██████████| 20834/20834 [00:10<00:00, 1911.33it/s]\n"
     ]
    }
   ],
   "source": [
    "days = list(dic_rev_repo_exp_adj.keys())\n",
    "\n",
    "# get degree distribution\n",
    "dic_in_degree, dic_out_degree, dic_degree = em.get_degree_distribution(dic_arr_binary_adj, path=f\"{path}exposure_view/degree_distribution/\")\n",
    "gx.plot_degree_distribution(dic_in_degree,\n",
    "    dic_out_degree,\n",
    "    days,\n",
    "    plot_period,\n",
    "    f\"{path}exposure_view/degree_distribution/\")\n"
   ]
  },
  {
   "attachments": {},
   "cell_type": "markdown",
   "id": "c03fafc7",
   "metadata": {},
   "source": [
    "### 2.2.4 degree stats"
   ]
  },
  {
   "cell_type": "code",
   "execution_count": 14,
   "id": "c3bc10a5",
   "metadata": {},
   "outputs": [
    {
     "name": "stdout",
     "output_type": "stream",
     "text": [
      "get degree stats\n"
     ]
    },
    {
     "name": "stderr",
     "output_type": "stream",
     "text": [
      "100%|██████████| 20833/20833 [00:15<00:00, 1337.96it/s]\n"
     ]
    }
   ],
   "source": [
    "days = list(dic_rev_repo_exp_adj.keys())\n",
    "\n",
    "# get av. degree\n",
    "df_degree_stats = em.get_degree_stats(dic_degree, days, path=path)\n",
    "gx.plot_network_trajectory(\n",
    "            df=df_degree_stats,\n",
    "            cols=df_degree_stats.columns,\n",
    "            file_name=f\"{path}exposure_view/degree_stats.pdf\",\n",
    "        )"
   ]
  },
  {
   "attachments": {},
   "cell_type": "markdown",
   "id": "211bf04f",
   "metadata": {},
   "source": [
    "### 2.2.5 degree per asset"
   ]
  },
  {
   "cell_type": "code",
   "execution_count": 15,
   "id": "f8f633a4",
   "metadata": {},
   "outputs": [],
   "source": [
    "days = list(dic_rev_repo_exp_adj.keys())\n",
    "bank_ids = list(dic_rev_repo_exp_adj.values())[0].index\n",
    "\n",
    "# select the days and banks (common between the 2 lists)\n",
    "finrep_days = list(df_finrep[\"date\"])\n",
    "finrep_bank_ids = list(set(df_finrep[\"lei\"]))\n",
    "plot_days = fct.list_intersection(days, finrep_days)\n",
    "\n",
    "# plot\n",
    "gx.plot_degree_per_asset(\n",
    "    dic_dashed_trajectory,\n",
    "    dic_degree,\n",
    "    bank_ids,\n",
    "    days,\n",
    "    plot_period,\n",
    "    f\"{path}exposure_view/degree_per_asset/\",\n",
    "    plot_days=plot_days,\n",
    "    finrep_bank_ids=finrep_bank_ids)"
   ]
  },
  {
   "attachments": {},
   "cell_type": "markdown",
   "id": "62af12bc",
   "metadata": {},
   "source": [
    "### 2.2.6 network plots (static)"
   ]
  },
  {
   "cell_type": "code",
   "execution_count": 16,
   "id": "86ba13d3",
   "metadata": {},
   "outputs": [],
   "source": [
    "days = list(dic_rev_repo_exp_adj.keys())\n",
    "bank_ids = list(list(dic_rev_repo_exp_adj.values())[0].index)\n",
    "arr_rev_repo_exp_adj = ep.convert_dic_to_array(dic_rev_repo_exp_adj)\n",
    "plot_days = fct.list_intersection(days, dic_dashed_trajectory.keys())\n",
    "\n",
    "# plot the reverse repo network\n",
    "gx.plot_weighted_adj_network(\n",
    "    arr_rev_repo_exp_adj,\n",
    "    dic_dashed_trajectory,\n",
    "    days,\n",
    "    plot_period,\n",
    "    f\"{path}exposure_view/weighted_adj_network/\",\n",
    "    \"reverse repo\",\n",
    "    bank_ids=bank_ids,\n",
    "    plot_days=plot_days,\n",
    ")"
   ]
  },
  {
   "attachments": {},
   "cell_type": "markdown",
   "id": "3bc2c133",
   "metadata": {},
   "source": [
    "### 2.2.6 core periphery"
   ]
  },
  {
   "cell_type": "code",
   "execution_count": null,
   "id": "394414ed",
   "metadata": {},
   "outputs": [],
   "source": [
    "arr_rev_repo_exp_adj = ep.convert_dic_to_array(dic_rev_repo_exp_adj)\n",
    "days = list(dic_rev_repo_exp_adj.keys())\n",
    "\n",
    "# get df_cpnet\n",
    "df_cpnet = em.get_cpnet(\n",
    "                dic_arr_binary_adj=dic_arr_binary_adj,\n",
    "                arr_rev_repo_exp_adj=arr_rev_repo_exp_adj,\n",
    "                days=days,\n",
    "                plot_period=plot_period,\n",
    "                path=f\"{path}exposure_view/core-periphery/\",\n",
    "            )\n",
    "\n",
    "# Plot the core-periphery struture\n",
    "gx.plot_cpnet(\n",
    "                df_network_trajectory=df_cpnet,\n",
    "                dic_arr_binary_adj=dic_arr_binary_adj,\n",
    "                arr_rev_repo_exp_adj=arr_rev_repo_exp_adj,\n",
    "                days=days,\n",
    "                plot_period=plot_period,\n",
    "                path=f\"{path}exposure_view/\",\n",
    "            )\n",
    "\n",
    "# # read csv (faster)\n",
    "# df_cpnet = pd.read_csv(f\"{path}exposure_view/core-periphery/df_cpnet.csv\", index_col=0)\n",
    "# df_cpnet.index = pd.to_datetime(df_cpnet.index)\n",
    "\n",
    "# plot the time evolution of p-values for each aggregation level\n",
    "for fig in par.figs_cpnet_pvalues:\n",
    "    gx.plot_network_trajectory(\n",
    "            df=df_cpnet,\n",
    "            cols=fig[1],\n",
    "            file_name=f\"{path}{fig[0]}.pdf\",\n",
    "        )"
   ]
  },
  {
   "attachments": {},
   "cell_type": "markdown",
   "id": "d300d2ef",
   "metadata": {},
   "source": [
    "## 2.3 transaction view"
   ]
  },
  {
   "cell_type": "code",
   "execution_count": 18,
   "id": "aa4a584d",
   "metadata": {},
   "outputs": [],
   "source": [
    "os.makedirs(f\"{path}transaction_view/\", exist_ok=True)"
   ]
  },
  {
   "attachments": {},
   "cell_type": "markdown",
   "id": "a6f1ac6e",
   "metadata": {},
   "source": [
    "### 2.3.1 av network"
   ]
  },
  {
   "cell_type": "code",
   "execution_count": null,
   "id": "066b8aa8",
   "metadata": {},
   "outputs": [],
   "source": [
    "# get df_reverse_repo_transactions"
   ]
  },
  {
   "attachments": {},
   "cell_type": "markdown",
   "id": "4c2702a9",
   "metadata": {},
   "source": [
    "# 3 tools"
   ]
  },
  {
   "attachments": {},
   "cell_type": "markdown",
   "id": "15562a4a",
   "metadata": {},
   "source": [
    "## 3.1 examples of density / histogram in log - log"
   ]
  },
  {
   "attachments": {},
   "cell_type": "markdown",
   "id": "de8082a1",
   "metadata": {},
   "source": [
    "### pareto law"
   ]
  },
  {
   "cell_type": "code",
   "execution_count": 19,
   "id": "d8229ad9",
   "metadata": {},
   "outputs": [
    {
     "data": {
      "image/png": "[encoded data removed]",
      "text/plain": [
       "<Figure size 800x400 with 1 Axes>"
      ]
     },
     "metadata": {},
     "output_type": "display_data"
    }
   ],
   "source": [
    "import numpy as np\n",
    "import matplotlib.pyplot as plt\n",
    "import seaborn as sns\n",
    "\n",
    "# Generate random data\n",
    "x = np.random.pareto(3,size=100000)\n",
    "\n",
    "# Compute the absolute value and sign of the data\n",
    "abs_x = np.abs(x)\n",
    "sign_x = np.sign(x)\n",
    "\n",
    "# Set up the figure\n",
    "fig, ax = plt.subplots(figsize=(8, 4))\n",
    "\n",
    "# Plot the KDE on a log scale with the transformed data\n",
    "sns.kdeplot(x.clip(0.5,5), ax=ax, cut=0, fill=True)\n",
    "ax.set_xscale('log')\n",
    "\n",
    "# Set the y-axis to log scale\n",
    "ax.set_yscale('log')\n",
    "\n",
    "# Set axis labels\n",
    "ax.set_xlabel('value')\n",
    "ax.set_ylabel('density')\n",
    "\n",
    "# Show the plot\n",
    "plt.show()"
   ]
  },
  {
   "attachments": {},
   "cell_type": "markdown",
   "id": "e8a63f91",
   "metadata": {},
   "source": [
    "### student law"
   ]
  },
  {
   "cell_type": "code",
   "execution_count": 20,
   "id": "ff021268",
   "metadata": {},
   "outputs": [
    {
     "data": {
      "image/png": "[encoded data removed]",
      "text/plain": [
       "<Figure size 800x400 with 1 Axes>"
      ]
     },
     "metadata": {},
     "output_type": "display_data"
    }
   ],
   "source": [
    "import numpy as np\n",
    "import matplotlib.pyplot as plt\n",
    "import seaborn as sns\n",
    "\n",
    "# Generate random data\n",
    "x = np.random.standard_t(1,size=100000)\n",
    "\n",
    "# Compute the absolute value and sign of the data\n",
    "abs_x = np.abs(x)\n",
    "sign_x = np.sign(x)\n",
    "\n",
    "# Set up the figure\n",
    "fig, ax = plt.subplots(figsize=(8, 4))\n",
    "\n",
    "# Plot the KDE on a log scale with the transformed data\n",
    "sns.kdeplot(x.clip(-10,10), ax=ax, fill=True, cut=0)\n",
    "ax.set_xscale('symlog', linthresh=0.1)\n",
    "\n",
    "# Set the y-axis to log scale\n",
    "ax.set_yscale('log')\n",
    "\n",
    "# Set axis labels\n",
    "ax.set_xlabel('Value')\n",
    "ax.set_ylabel('Density')\n",
    "\n",
    "# Show the plot\n",
    "plt.show()"
   ]
  },
  {
   "attachments": {},
   "cell_type": "markdown",
   "id": "0ae2e695",
   "metadata": {},
   "source": [
    "## 3.2 multiple histogram on the same plot"
   ]
  },
  {
   "cell_type": "code",
   "execution_count": 21,
   "id": "ee9801d6",
   "metadata": {},
   "outputs": [
    {
     "data": {
      "image/png": "[encoded data removed]",
      "text/plain": [
       "<Figure size 640x480 with 2 Axes>"
      ]
     },
     "metadata": {},
     "output_type": "display_data"
    }
   ],
   "source": [
    "from matplotlib import pyplot as plt\n",
    "\n",
    "fig, (ax1,ax2) = plt.subplots(1,2)\n",
    "pos = 0\n",
    "width = 0.2\n",
    "for  i in range(10):\n",
    "    binary_adj = np.random.randint(0,2,(10,10))\n",
    "    bank_network = nx.from_numpy_array(\n",
    "                binary_adj,\n",
    "                parallel_edges=False,\n",
    "                create_using=nx.DiGraph,\n",
    "            )  # first define a networkx object.\n",
    "    ar_in_degree = np.array(bank_network.in_degree())[:,1]\n",
    "    hist = np.unique(ar_in_degree, return_counts=True)\n",
    "    ax1.bar(hist[0] + pos, hist[1], width=0.01)\n",
    "    ax2.bar(hist[0] + pos, hist[1], width=0.01)\n",
    "    pos = pos +width +0.1\n",
    "\n"
   ]
  },
  {
   "attachments": {},
   "cell_type": "markdown",
   "id": "1f3b28eb",
   "metadata": {},
   "source": [
    "## 3.3 power low fitting"
   ]
  },
  {
   "cell_type": "code",
   "execution_count": 22,
   "id": "a9113cea",
   "metadata": {},
   "outputs": [
    {
     "name": "stderr",
     "output_type": "stream",
     "text": [
      "Calculating best minimal value for power law fit\n",
      "/mnt/live/user/vlecoz/conda_env/money_markets/lib/python3.8/site-packages/powerlaw.py:699: RuntimeWarning: invalid value encountered in divide\n",
      "  (CDF_diff**2) /\n"
     ]
    },
    {
     "name": "stdout",
     "output_type": "stream",
     "text": [
      "3.214195465860383\n",
      "0.9720572221944399\n"
     ]
    },
    {
     "data": {
      "text/plain": [
       "<AxesSubplot: >"
      ]
     },
     "execution_count": 22,
     "metadata": {},
     "output_type": "execute_result"
    },
    {
     "data": {
      "image/png": "[encoded data removed]",
      "text/plain": [
       "<Figure size 640x480 with 1 Axes>"
      ]
     },
     "metadata": {},
     "output_type": "display_data"
    }
   ],
   "source": [
    "# fitting\n",
    "import powerlaw\n",
    "import numpy as np\n",
    "sr_data = np.random.pareto(3,size=1000) # data can be list or numpy array\n",
    "powerlaw_fit = powerlaw.Fit(sr_data)\n",
    "print(powerlaw_fit.power_law.alpha)\n",
    "print(powerlaw_fit.power_law.xmin)\n",
    "R, p = powerlaw_fit.distribution_compare('power_law', 'exponential')\n",
    "fig2 = powerlaw_fit.plot_ccdf(color = \"r\", linewidth = 2)\n",
    "powerlaw_fit.power_law.plot_ccdf(color = \"r\", linestyle = \"--\", ax = fig2)\n",
    "powerlaw_fit.lognormal.plot_ccdf(ax=fig2)\n",
    "powerlaw_fit.exponential.plot_ccdf(ax=fig2)"
   ]
  }
 ],
 "metadata": {
  "kernelspec": {
   "display_name": "Python 3.9.5 ('venv': venv)",
   "language": "python",
   "name": "python3"
  },
  "language_info": {
   "codemirror_mode": {
    "name": "ipython",
    "version": 3
   },
   "file_extension": ".py",
   "mimetype": "text/x-python",
   "name": "python",
   "nbconvert_exporter": "python",
   "pygments_lexer": "ipython3",
   "version": "3.8.13"
  },
  "vscode": {
   "interpreter": {
    "hash": "079b1fb917025cd1efcb3b76bbd42ea8503c3ca839bb74a5335b7616d8aa92a0"
   }
  }
 },
 "nbformat": 4,
 "nbformat_minor": 5
}
