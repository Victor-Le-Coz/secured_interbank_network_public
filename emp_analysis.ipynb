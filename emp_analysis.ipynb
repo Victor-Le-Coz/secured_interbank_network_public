{
 "cells": [
  {
   "cell_type": "code",
   "execution_count": 1,
   "id": "8c221870",
   "metadata": {},
   "outputs": [],
   "source": [
    "# imports \n",
    "import emp_preprocessing as ep\n",
    "import emp_fake_data as ef\n",
    "import emp_metrics as em\n",
    "import networkx as nx\n",
    "import functions as fct\n",
    "import numpy as np\n",
    "import pandas as pd\n",
    "import parameters as par\n",
    "from graphics import ClassGraphics\n",
    "\n",
    "# parameters\n",
    "path_results = \"./results/empirical_results/\"\n",
    "Graphics = ClassGraphics(None,plot_period=1000)"
   ]
  },
  {
   "attachments": {},
   "cell_type": "markdown",
   "id": "a5dec96a",
   "metadata": {},
   "source": [
    "# 1 data preprocessing"
   ]
  },
  {
   "cell_type": "code",
   "execution_count": 2,
   "id": "02f27bef",
   "metadata": {},
   "outputs": [
    {
     "name": "stderr",
     "output_type": "stream",
     "text": [
      "100%|██████████| 100000/100000 [00:33<00:00, 3025.30it/s]\n"
     ]
    }
   ],
   "source": [
    "# load fake data (exposure)\n",
    "df_exposures = ef.get_df_exposures(lines=int(1e5))\n",
    "dic_obs_matrix_reverse_repo = ep.build_from_exposures(df_exposures=df_exposures,path=f\"{path_results}data/\")"
   ]
  },
  {
   "cell_type": "code",
   "execution_count": 3,
   "id": "7e56a43b",
   "metadata": {},
   "outputs": [],
   "source": [
    "# pickle (faster)\n",
    "dic_obs_matrix_reverse_repo = ep.load_dic_obs_matrix_reverse_repo(path=f\"{path_results}data/\")"
   ]
  },
  {
   "attachments": {},
   "cell_type": "markdown",
   "id": "27ae698a",
   "metadata": {},
   "source": [
    "# 2 metrics measurement"
   ]
  },
  {
   "cell_type": "code",
   "execution_count": 4,
   "id": "a84903e0",
   "metadata": {},
   "outputs": [],
   "source": [
    "# get aggregated adjency matrices\n",
    "dic_arr_binary_adj = ep.build_rolling_binary_adj(dic_obs_matrix_reverse_repo=dic_obs_matrix_reverse_repo,path=f\"{path_results}data/\")"
   ]
  },
  {
   "cell_type": "code",
   "execution_count": 5,
   "id": "71b40141",
   "metadata": {},
   "outputs": [],
   "source": [
    "# pickle (faster)\n",
    "dic_arr_binary_adj = ep.load_dic_arr_binary_adj(path=f\"{path_results}data/\")"
   ]
  },
  {
   "attachments": {},
   "cell_type": "markdown",
   "id": "d20f818d",
   "metadata": {},
   "source": [
    "## 2.1 jaccard"
   ]
  },
  {
   "cell_type": "code",
   "execution_count": 6,
   "id": "af67a20c",
   "metadata": {},
   "outputs": [
    {
     "name": "stdout",
     "output_type": "stream",
     "text": [
      "get jaccard\n"
     ]
    },
    {
     "name": "stderr",
     "output_type": "stream",
     "text": [
      "100%|██████████| 20833/20833 [00:04<00:00, 4362.85it/s]\n"
     ]
    }
   ],
   "source": [
    "days = list(dic_obs_matrix_reverse_repo.keys())\n",
    "\n",
    "# get jaccard\n",
    "df_jaccard = em.get_jaccard(dic_arr_binary_adj, days, path=path_results)\n",
    "Graphics.plot_trajectory(\n",
    "            df=df_jaccard,\n",
    "            cols=[\n",
    "                f\"jaccard index-{agg_period}\" for agg_period in par.agg_periods\n",
    "            ],\n",
    "            title=\"Jaccard index\",\n",
    "            file_name=f\"{path_results}jaccard_index.pdf\")"
   ]
  },
  {
   "attachments": {},
   "cell_type": "markdown",
   "id": "62a3fac4",
   "metadata": {},
   "source": [
    "## 2.2 density"
   ]
  },
  {
   "cell_type": "code",
   "execution_count": 7,
   "id": "758c5661",
   "metadata": {},
   "outputs": [
    {
     "name": "stdout",
     "output_type": "stream",
     "text": [
      "get density\n"
     ]
    },
    {
     "name": "stderr",
     "output_type": "stream",
     "text": [
      "100%|██████████| 20833/20833 [00:04<00:00, 4469.74it/s]\n"
     ]
    }
   ],
   "source": [
    "days = list(dic_obs_matrix_reverse_repo.keys())\n",
    "\n",
    "# get density\n",
    "df_density = em.get_density(dic_arr_binary_adj, days, path=path_results)\n",
    "Graphics.plot_trajectory(\n",
    "            df=df_density,\n",
    "            cols=[\n",
    "                f\"network density-{agg_period}\"\n",
    "                for agg_period in par.agg_periods\n",
    "            ],\n",
    "            title=\"Network density\",\n",
    "            file_name=f\"{path_results}network_density.pdf\",\n",
    "        )"
   ]
  },
  {
   "attachments": {},
   "cell_type": "markdown",
   "id": "848fc0f1",
   "metadata": {},
   "source": [
    "## 2.3 degree distribution "
   ]
  },
  {
   "cell_type": "code",
   "execution_count": 8,
   "id": "e1538f0b",
   "metadata": {},
   "outputs": [
    {
     "name": "stdout",
     "output_type": "stream",
     "text": [
      "get degree distribution\n"
     ]
    },
    {
     "name": "stderr",
     "output_type": "stream",
     "text": [
      " 50%|█████     | 10481/20834 [00:05<00:05, 2010.62it/s]"
     ]
    }
   ],
   "source": [
    "days = list(dic_obs_matrix_reverse_repo.keys())\n",
    "\n",
    "# get degree distribution\n",
    "dic_in_degree, dic_out_degree, dic_degree = em.get_degree_distribution(dic_arr_binary_adj, path=f\"{path_results}degree_distribution/\")\n",
    "Graphics.plot_degree_distribution(dic_in_degree,\n",
    "    dic_out_degree,\n",
    "    days,\n",
    "    f\"{path_results}degree_distribution/\")\n"
   ]
  },
  {
   "attachments": {},
   "cell_type": "markdown",
   "id": "c03fafc7",
   "metadata": {},
   "source": [
    "## 2.4 av. degree"
   ]
  },
  {
   "cell_type": "code",
   "execution_count": null,
   "id": "c3bc10a5",
   "metadata": {},
   "outputs": [
    {
     "name": "stdout",
     "output_type": "stream",
     "text": [
      "get av. degree\n"
     ]
    },
    {
     "name": "stderr",
     "output_type": "stream",
     "text": [
      "100%|██████████| 2083/2083 [00:00<00:00, 5447.00it/s]\n"
     ]
    }
   ],
   "source": [
    "days = list(dic_obs_matrix_reverse_repo.keys())\n",
    "\n",
    "# get av. degree\n",
    "df_av_degree = em.get_av_degree(dic_degree, days, path=path_results)\n",
    "Graphics.plot_trajectory(\n",
    "            df=df_av_degree,\n",
    "            cols=[\n",
    "                f\"av. degree-{agg_period}\" for agg_period in par.agg_periods\n",
    "            ],\n",
    "            title=\"Av. degree\",\n",
    "            file_name=f\"{path_results}average_degree.pdf\",\n",
    "        )"
   ]
  },
  {
   "attachments": {},
   "cell_type": "markdown",
   "id": "211bf04f",
   "metadata": {},
   "source": [
    "## 2.5 degree per asset"
   ]
  },
  {
   "cell_type": "code",
   "execution_count": null,
   "id": "7409ff55",
   "metadata": {},
   "outputs": [
    {
     "data": {
      "text/plain": [
       "(20, 20)"
      ]
     },
     "execution_count": 15,
     "metadata": {},
     "output_type": "execute_result"
    }
   ],
   "source": [
    "dic_obs_matrix_reverse_repo[\"2020-01-01\"].shape"
   ]
  },
  {
   "cell_type": "code",
   "execution_count": null,
   "id": "f8f633a4",
   "metadata": {},
   "outputs": [
    {
     "ename": "ValueError",
     "evalue": "Length of values (10) does not match length of index (20)",
     "output_type": "error",
     "traceback": [
      "\u001b[0;31m---------------------------------------------------------------------------\u001b[0m",
      "\u001b[0;31mValueError\u001b[0m                                Traceback (most recent call last)",
      "\u001b[1;32m/mnt/research-live/user/vlecoz/Secured_interbank_network/emp_analysis.ipynb Cell 17\u001b[0m in \u001b[0;36m<cell line: 16>\u001b[0;34m()\u001b[0m\n\u001b[1;32m     <a href='vscode-notebook-cell://ssh-remote%2Bsrv006542/mnt/research-live/user/vlecoz/Secured_interbank_network/emp_analysis.ipynb#X24sdnNjb2RlLXJlbW90ZQ%3D%3D?line=12'>13</a>\u001b[0m arr_total_assets \u001b[39m=\u001b[39m em\u001b[39m.\u001b[39mbuild_arr_total_assets(df_finrep, bank_ids_int,\u001b[39mf\u001b[39m\u001b[39m\"\u001b[39m\u001b[39m{\u001b[39;00mpath_results\u001b[39m}\u001b[39;00m\u001b[39mdegree_per_asset/\u001b[39m\u001b[39m\"\u001b[39m)\n\u001b[1;32m     <a href='vscode-notebook-cell://ssh-remote%2Bsrv006542/mnt/research-live/user/vlecoz/Secured_interbank_network/emp_analysis.ipynb#X24sdnNjb2RlLXJlbW90ZQ%3D%3D?line=14'>15</a>\u001b[0m \u001b[39m# plot\u001b[39;00m\n\u001b[0;32m---> <a href='vscode-notebook-cell://ssh-remote%2Bsrv006542/mnt/research-live/user/vlecoz/Secured_interbank_network/emp_analysis.ipynb#X24sdnNjb2RlLXJlbW90ZQ%3D%3D?line=15'>16</a>\u001b[0m Graphics\u001b[39m.\u001b[39;49mplot_degree_per_asset(arr_total_assets,dic_degree,bank_ids,days,\u001b[39mf\u001b[39;49m\u001b[39m\"\u001b[39;49m\u001b[39m{\u001b[39;49;00mpath_results\u001b[39m}\u001b[39;49;00m\u001b[39mdegree_per_asset/\u001b[39;49m\u001b[39m\"\u001b[39;49m,plot_days\u001b[39m=\u001b[39;49mplot_days,finrep_days\u001b[39m=\u001b[39;49mfinrep_days, finrep_bank_ids\u001b[39m=\u001b[39;49mfinrep_bank_ids)\n",
      "File \u001b[0;32m/mnt/live/user/vlecoz/Secured_interbank_network/graphics.py:484\u001b[0m, in \u001b[0;36mClassGraphics.plot_degree_per_asset\u001b[0;34m(self, arr_total_assets, dic_degree, bank_ids, days, path, figsize, plot_days, finrep_days, finrep_bank_ids)\u001b[0m\n\u001b[1;32m    481\u001b[0m     finrep_plot_steps \u001b[39m=\u001b[39m plot_steps\n\u001b[1;32m    483\u001b[0m \u001b[39mfor\u001b[39;00m step, finrep_step \u001b[39min\u001b[39;00m \u001b[39mzip\u001b[39m(plot_steps, finrep_plot_steps):\n\u001b[0;32m--> 484\u001b[0m     \u001b[39mself\u001b[39;49m\u001b[39m.\u001b[39;49mplot_step_degree_per_asset(\n\u001b[1;32m    485\u001b[0m         arr_total_assets[finrep_step],\n\u001b[1;32m    486\u001b[0m         dic_degree,\n\u001b[1;32m    487\u001b[0m         bank_ids,\n\u001b[1;32m    488\u001b[0m         days,\n\u001b[1;32m    489\u001b[0m         step,\n\u001b[1;32m    490\u001b[0m         path,\n\u001b[1;32m    491\u001b[0m         figsize\u001b[39m=\u001b[39;49mfigsize,\n\u001b[1;32m    492\u001b[0m         finrep_bank_ids\u001b[39m=\u001b[39;49mfinrep_bank_ids,\n\u001b[1;32m    493\u001b[0m     )\n",
      "File \u001b[0;32m/mnt/live/user/vlecoz/Secured_interbank_network/graphics.py:412\u001b[0m, in \u001b[0;36mClassGraphics.plot_step_degree_per_asset\u001b[0;34m(self, ar_total_assets, dic_degree, bank_ids, days, step, path, figsize, finrep_bank_ids)\u001b[0m\n\u001b[1;32m    410\u001b[0m df_degree \u001b[39m=\u001b[39m pd\u001b[39m.\u001b[39mDataFrame(index\u001b[39m=\u001b[39mbank_ids)\n\u001b[1;32m    411\u001b[0m \u001b[39mfor\u001b[39;00m agg_period \u001b[39min\u001b[39;00m par\u001b[39m.\u001b[39magg_periods:\n\u001b[0;32m--> 412\u001b[0m     df_degree[\u001b[39mf\u001b[39;49m\u001b[39m\"\u001b[39;49m\u001b[39mdegree-\u001b[39;49m\u001b[39m{\u001b[39;49;00magg_period\u001b[39m}\u001b[39;49;00m\u001b[39m\"\u001b[39;49m] \u001b[39m=\u001b[39m dic_degree[agg_period][step]\n\u001b[1;32m    414\u001b[0m \u001b[39m# build the asset per bank from the ar_total assets\u001b[39;00m\n\u001b[1;32m    415\u001b[0m df_total_assets \u001b[39m=\u001b[39m pd\u001b[39m.\u001b[39mDataFrame(\n\u001b[1;32m    416\u001b[0m     ar_total_assets, index\u001b[39m=\u001b[39mfinrep_bank_ids, columns\u001b[39m=\u001b[39m[\u001b[39m\"\u001b[39m\u001b[39mtotal assets\u001b[39m\u001b[39m\"\u001b[39m]\n\u001b[1;32m    417\u001b[0m )\n",
      "File \u001b[0;32m/mnt/live/user/vlecoz/conda_env/money_markets/lib/python3.8/site-packages/pandas/core/frame.py:3977\u001b[0m, in \u001b[0;36mDataFrame.__setitem__\u001b[0;34m(self, key, value)\u001b[0m\n\u001b[1;32m   3974\u001b[0m     \u001b[39mself\u001b[39m\u001b[39m.\u001b[39m_setitem_array([key], value)\n\u001b[1;32m   3975\u001b[0m \u001b[39melse\u001b[39;00m:\n\u001b[1;32m   3976\u001b[0m     \u001b[39m# set column\u001b[39;00m\n\u001b[0;32m-> 3977\u001b[0m     \u001b[39mself\u001b[39;49m\u001b[39m.\u001b[39;49m_set_item(key, value)\n",
      "File \u001b[0;32m/mnt/live/user/vlecoz/conda_env/money_markets/lib/python3.8/site-packages/pandas/core/frame.py:4171\u001b[0m, in \u001b[0;36mDataFrame._set_item\u001b[0;34m(self, key, value)\u001b[0m\n\u001b[1;32m   4161\u001b[0m \u001b[39mdef\u001b[39;00m \u001b[39m_set_item\u001b[39m(\u001b[39mself\u001b[39m, key, value) \u001b[39m-\u001b[39m\u001b[39m>\u001b[39m \u001b[39mNone\u001b[39;00m:\n\u001b[1;32m   4162\u001b[0m     \u001b[39m\"\"\"\u001b[39;00m\n\u001b[1;32m   4163\u001b[0m \u001b[39m    Add series to DataFrame in specified column.\u001b[39;00m\n\u001b[1;32m   4164\u001b[0m \n\u001b[0;32m   (...)\u001b[0m\n\u001b[1;32m   4169\u001b[0m \u001b[39m    ensure homogeneity.\u001b[39;00m\n\u001b[1;32m   4170\u001b[0m \u001b[39m    \"\"\"\u001b[39;00m\n\u001b[0;32m-> 4171\u001b[0m     value \u001b[39m=\u001b[39m \u001b[39mself\u001b[39;49m\u001b[39m.\u001b[39;49m_sanitize_column(value)\n\u001b[1;32m   4173\u001b[0m     \u001b[39mif\u001b[39;00m (\n\u001b[1;32m   4174\u001b[0m         key \u001b[39min\u001b[39;00m \u001b[39mself\u001b[39m\u001b[39m.\u001b[39mcolumns\n\u001b[1;32m   4175\u001b[0m         \u001b[39mand\u001b[39;00m value\u001b[39m.\u001b[39mndim \u001b[39m==\u001b[39m \u001b[39m1\u001b[39m\n\u001b[1;32m   4176\u001b[0m         \u001b[39mand\u001b[39;00m \u001b[39mnot\u001b[39;00m is_extension_array_dtype(value)\n\u001b[1;32m   4177\u001b[0m     ):\n\u001b[1;32m   4178\u001b[0m         \u001b[39m# broadcast across multiple columns if necessary\u001b[39;00m\n\u001b[1;32m   4179\u001b[0m         \u001b[39mif\u001b[39;00m \u001b[39mnot\u001b[39;00m \u001b[39mself\u001b[39m\u001b[39m.\u001b[39mcolumns\u001b[39m.\u001b[39mis_unique \u001b[39mor\u001b[39;00m \u001b[39misinstance\u001b[39m(\u001b[39mself\u001b[39m\u001b[39m.\u001b[39mcolumns, MultiIndex):\n",
      "File \u001b[0;32m/mnt/live/user/vlecoz/conda_env/money_markets/lib/python3.8/site-packages/pandas/core/frame.py:4904\u001b[0m, in \u001b[0;36mDataFrame._sanitize_column\u001b[0;34m(self, value)\u001b[0m\n\u001b[1;32m   4901\u001b[0m     \u001b[39mreturn\u001b[39;00m _reindex_for_setitem(Series(value), \u001b[39mself\u001b[39m\u001b[39m.\u001b[39mindex)\n\u001b[1;32m   4903\u001b[0m \u001b[39mif\u001b[39;00m is_list_like(value):\n\u001b[0;32m-> 4904\u001b[0m     com\u001b[39m.\u001b[39;49mrequire_length_match(value, \u001b[39mself\u001b[39;49m\u001b[39m.\u001b[39;49mindex)\n\u001b[1;32m   4905\u001b[0m \u001b[39mreturn\u001b[39;00m sanitize_array(value, \u001b[39mself\u001b[39m\u001b[39m.\u001b[39mindex, copy\u001b[39m=\u001b[39m\u001b[39mTrue\u001b[39;00m, allow_2d\u001b[39m=\u001b[39m\u001b[39mTrue\u001b[39;00m)\n",
      "File \u001b[0;32m/mnt/live/user/vlecoz/conda_env/money_markets/lib/python3.8/site-packages/pandas/core/common.py:561\u001b[0m, in \u001b[0;36mrequire_length_match\u001b[0;34m(data, index)\u001b[0m\n\u001b[1;32m    557\u001b[0m \u001b[39m\"\"\"\u001b[39;00m\n\u001b[1;32m    558\u001b[0m \u001b[39mCheck the length of data matches the length of the index.\u001b[39;00m\n\u001b[1;32m    559\u001b[0m \u001b[39m\"\"\"\u001b[39;00m\n\u001b[1;32m    560\u001b[0m \u001b[39mif\u001b[39;00m \u001b[39mlen\u001b[39m(data) \u001b[39m!=\u001b[39m \u001b[39mlen\u001b[39m(index):\n\u001b[0;32m--> 561\u001b[0m     \u001b[39mraise\u001b[39;00m \u001b[39mValueError\u001b[39;00m(\n\u001b[1;32m    562\u001b[0m         \u001b[39m\"\u001b[39m\u001b[39mLength of values \u001b[39m\u001b[39m\"\u001b[39m\n\u001b[1;32m    563\u001b[0m         \u001b[39mf\u001b[39m\u001b[39m\"\u001b[39m\u001b[39m(\u001b[39m\u001b[39m{\u001b[39;00m\u001b[39mlen\u001b[39m(data)\u001b[39m}\u001b[39;00m\u001b[39m) \u001b[39m\u001b[39m\"\u001b[39m\n\u001b[1;32m    564\u001b[0m         \u001b[39m\"\u001b[39m\u001b[39mdoes not match length of index \u001b[39m\u001b[39m\"\u001b[39m\n\u001b[1;32m    565\u001b[0m         \u001b[39mf\u001b[39m\u001b[39m\"\u001b[39m\u001b[39m(\u001b[39m\u001b[39m{\u001b[39;00m\u001b[39mlen\u001b[39m(index)\u001b[39m}\u001b[39;00m\u001b[39m)\u001b[39m\u001b[39m\"\u001b[39m\n\u001b[1;32m    566\u001b[0m     )\n",
      "\u001b[0;31mValueError\u001b[0m: Length of values (10) does not match length of index (20)"
     ]
    }
   ],
   "source": [
    "# build finrep data @NA: add here a read csv of the data with the total assets\n",
    "df_finrep = ef.get_df_finrep()\n",
    "days = list(dic_obs_matrix_reverse_repo.keys())\n",
    "bank_ids = list(dic_obs_matrix_reverse_repo.values())[0].index\n",
    "\n",
    "# select the days and banks (common between the 2 lists)\n",
    "finrep_days = list(df_finrep[\"date\"])\n",
    "finrep_bank_ids = list(df_finrep[\"lei\"])\n",
    "plot_days = fct.list_intersection(days, finrep_days)\n",
    "\n",
    "# build arr_total_assets\n",
    "arr_total_assets = em.build_arr_total_assets(df_finrep, finrep_bank_ids,f\"{path_results}degree_per_asset/\")\n",
    "\n",
    "# plot\n",
    "Graphics.plot_degree_per_asset(arr_total_assets,dic_degree,bank_ids,days,f\"{path_results}degree_per_asset/\",plot_days=plot_days,finrep_days=finrep_days, finrep_bank_ids=finrep_bank_ids)"
   ]
  },
  {
   "attachments": {},
   "cell_type": "markdown",
   "id": "3bc2c133",
   "metadata": {},
   "source": [
    "## 2.6 core periphery"
   ]
  },
  {
   "cell_type": "code",
   "execution_count": null,
   "id": "394414ed",
   "metadata": {},
   "outputs": [],
   "source": [
    "arr_obs_matrix_reverse_repo = ep.convert_dic_to_array(dic_obs_matrix_reverse_repo)\n",
    "days = list(dic_obs_matrix_reverse_repo.keys())\n",
    "\n",
    "# run cp tests\n",
    "Graphics.plot_cp_test(dic_arr_binary_adj, algos=par.cp_algos,days=days, path_results=path_results, opt_agg=True)\n",
    "Graphics.plot_cp_test(arr_obs_matrix_reverse_repo, algos=par.cp_algos, days=days, path_results=path_results, opt_agg=False)"
   ]
  },
  {
   "attachments": {},
   "cell_type": "markdown",
   "id": "4c2702a9",
   "metadata": {},
   "source": [
    "# 3 tools"
   ]
  },
  {
   "attachments": {},
   "cell_type": "markdown",
   "id": "15562a4a",
   "metadata": {},
   "source": [
    "## 3.1 examples of density / histogram in log - log"
   ]
  },
  {
   "attachments": {},
   "cell_type": "markdown",
   "id": "de8082a1",
   "metadata": {},
   "source": [
    "### pareto law"
   ]
  },
  {
   "cell_type": "code",
   "execution_count": null,
   "id": "d8229ad9",
   "metadata": {},
   "outputs": [],
   "source": [
    "import numpy as np\n",
    "import matplotlib.pyplot as plt\n",
    "import seaborn as sns\n",
    "\n",
    "# Generate random data\n",
    "x = np.random.pareto(3,size=100000)\n",
    "\n",
    "# Compute the absolute value and sign of the data\n",
    "abs_x = np.abs(x)\n",
    "sign_x = np.sign(x)\n",
    "\n",
    "# Set up the figure\n",
    "fig, ax = plt.subplots(figsize=(8, 4))\n",
    "\n",
    "# Plot the KDE on a log scale with the transformed data\n",
    "sns.kdeplot(x.clip(0.5,5), ax=ax, cut=0, fill=True)\n",
    "ax.set_xscale('log')\n",
    "\n",
    "# Set the y-axis to log scale\n",
    "ax.set_yscale('log')\n",
    "\n",
    "# Set axis labels\n",
    "ax.set_xlabel('value')\n",
    "ax.set_ylabel('density')\n",
    "\n",
    "# Show the plot\n",
    "plt.show()"
   ]
  },
  {
   "attachments": {},
   "cell_type": "markdown",
   "id": "e8a63f91",
   "metadata": {},
   "source": [
    "### student law"
   ]
  },
  {
   "cell_type": "code",
   "execution_count": null,
   "id": "ff021268",
   "metadata": {},
   "outputs": [],
   "source": [
    "import numpy as np\n",
    "import matplotlib.pyplot as plt\n",
    "import seaborn as sns\n",
    "\n",
    "# Generate random data\n",
    "x = np.random.standard_t(1,size=100000)\n",
    "\n",
    "# Compute the absolute value and sign of the data\n",
    "abs_x = np.abs(x)\n",
    "sign_x = np.sign(x)\n",
    "\n",
    "# Set up the figure\n",
    "fig, ax = plt.subplots(figsize=(8, 4))\n",
    "\n",
    "# Plot the KDE on a log scale with the transformed data\n",
    "sns.kdeplot(x.clip(-10,10), ax=ax, fill=True, cut=0)\n",
    "ax.set_xscale('symlog', linthresh=0.1)\n",
    "\n",
    "# Set the y-axis to log scale\n",
    "ax.set_yscale('log')\n",
    "\n",
    "# Set axis labels\n",
    "ax.set_xlabel('Value')\n",
    "ax.set_ylabel('Density')\n",
    "\n",
    "# Show the plot\n",
    "plt.show()"
   ]
  },
  {
   "attachments": {},
   "cell_type": "markdown",
   "id": "0ae2e695",
   "metadata": {},
   "source": [
    "## 3.2 multiple histogram on the same plot"
   ]
  },
  {
   "cell_type": "code",
   "execution_count": null,
   "id": "ee9801d6",
   "metadata": {},
   "outputs": [],
   "source": [
    "from matplotlib import pyplot as plt\n",
    "\n",
    "fig, (ax1,ax2) = plt.subplots(1,2)\n",
    "pos = 0\n",
    "width = 0.2\n",
    "for  i in range(10):\n",
    "    binary_adj = np.random.randint(0,2,(10,10))\n",
    "    bank_network = nx.from_numpy_array(\n",
    "                binary_adj,\n",
    "                parallel_edges=False,\n",
    "                create_using=nx.DiGraph,\n",
    "            )  # first define a networkx object.\n",
    "    ar_in_degree = np.array(bank_network.in_degree())[:,1]\n",
    "    hist = np.unique(ar_in_degree, return_counts=True)\n",
    "    ax1.bar(hist[0] + pos, hist[1], width=0.01)\n",
    "    ax2.bar(hist[0] + pos, hist[1], width=0.01)\n",
    "    pos = pos +width +0.1\n",
    "\n"
   ]
  },
  {
   "attachments": {},
   "cell_type": "markdown",
   "id": "1f3b28eb",
   "metadata": {},
   "source": [
    "## 3.3 power low fitting"
   ]
  },
  {
   "cell_type": "code",
   "execution_count": null,
   "id": "a9113cea",
   "metadata": {},
   "outputs": [],
   "source": [
    "# fitting\n",
    "import powerlaw\n",
    "import numpy as np\n",
    "data = np.random.pareto(3,size=1000) # data can be list or numpy array\n",
    "fit = powerlaw.Fit(data)\n",
    "print(fit.power_law.alpha)\n",
    "print(fit.power_law.xmin)\n",
    "R, p = fit.distribution_compare('power_law', 'exponential')\n",
    "fig2 = fit.plot_ccdf(color = \"r\", linewidth = 2)\n",
    "fit.power_law.plot_ccdf(color = \"r\", linestyle = \"--\", ax = fig2)\n",
    "fit.lognormal.plot_ccdf(ax=fig2)\n",
    "fit.exponential.plot_ccdf(ax=fig2)"
   ]
  }
 ],
 "metadata": {
  "kernelspec": {
   "display_name": "Python 3.9.5 ('venv': venv)",
   "language": "python",
   "name": "python3"
  },
  "language_info": {
   "codemirror_mode": {
    "name": "ipython",
    "version": 3
   },
   "file_extension": ".py",
   "mimetype": "text/x-python",
   "name": "python",
   "nbconvert_exporter": "python",
   "pygments_lexer": "ipython3",
   "version": "3.8.13"
  },
  "vscode": {
   "interpreter": {
    "hash": "079b1fb917025cd1efcb3b76bbd42ea8503c3ca839bb74a5335b7616d8aa92a0"
   }
  }
 },
 "nbformat": 4,
 "nbformat_minor": 5
}
