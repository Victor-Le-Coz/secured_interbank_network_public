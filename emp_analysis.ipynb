{
 "cells": [
  {
   "cell_type": "code",
   "execution_count": 1,
   "id": "8c221870",
   "metadata": {},
   "outputs": [],
   "source": [
    "# imports \n",
    "import emp_preprocessing as ep\n",
    "import emp_fake_data as ef\n",
    "import emp_metrics as em\n",
    "import emp_graphics as eg\n",
    "import networkx as nx\n",
    "import graphics as gx\n",
    "import functions as fct\n",
    "import numpy as np\n",
    "import pandas as pd\n",
    "\n",
    "# parameters\n",
    "agg_periods = [1, 50, 100, 250]\n",
    "path_results = \"./results/general-testing/\""
   ]
  },
  {
   "attachments": {},
   "cell_type": "markdown",
   "id": "a5dec96a",
   "metadata": {},
   "source": [
    "# 1 data preprocessing"
   ]
  },
  {
   "cell_type": "code",
   "execution_count": 2,
   "id": "22175976",
   "metadata": {},
   "outputs": [
    {
     "name": "stderr",
     "output_type": "stream",
     "text": [
      "100%|██████████| 10000/10000 [00:08<00:00, 1210.86it/s]\n"
     ]
    }
   ],
   "source": [
    "# load fake data\n",
    "df_mmsr = ef.get_df_mmsr(nb_tran=int(1e4))\n",
    "dic_obs_matrix_reverse_repo = ep.build_from_data(df_mmsr=df_mmsr)"
   ]
  },
  {
   "cell_type": "code",
   "execution_count": 3,
   "id": "7e56a43b",
   "metadata": {},
   "outputs": [],
   "source": [
    "# load data (faster)\n",
    "dic_obs_matrix_reverse_repo = ep.get_dic_obs_adj_cr()"
   ]
  },
  {
   "attachments": {},
   "cell_type": "markdown",
   "id": "27ae698a",
   "metadata": {},
   "source": [
    "# 2 metrics measurement"
   ]
  },
  {
   "cell_type": "code",
   "execution_count": 4,
   "id": "a84903e0",
   "metadata": {},
   "outputs": [],
   "source": [
    "# get aggregated adjency matrices\n",
    "dic_binary_adjs = em.get_binary_adjs(dic_obs_matrix_reverse_repo, agg_periods)"
   ]
  },
  {
   "attachments": {},
   "cell_type": "markdown",
   "id": "d20f818d",
   "metadata": {},
   "source": [
    "## 2.1 jaccard"
   ]
  },
  {
   "cell_type": "code",
   "execution_count": 6,
   "id": "af67a20c",
   "metadata": {},
   "outputs": [
    {
     "data": {
      "text/plain": [
       "<Figure size 400x300 with 0 Axes>"
      ]
     },
     "metadata": {},
     "output_type": "display_data"
    }
   ],
   "source": [
    "# get jaccard\n",
    "df_jaccard = em.get_jaccard(dic_binary_adjs)\n",
    "eg.plot_jaccard_aggregated(df_jaccard, path_results)"
   ]
  },
  {
   "attachments": {},
   "cell_type": "markdown",
   "id": "62a3fac4",
   "metadata": {},
   "source": [
    "## 2.2 density"
   ]
  },
  {
   "cell_type": "code",
   "execution_count": 7,
   "id": "758c5661",
   "metadata": {},
   "outputs": [],
   "source": [
    "# get density\n",
    "dic_density = em.get_density(dic_binary_adjs)\n",
    "eg.plot_network_density(dic_density, path_results)"
   ]
  },
  {
   "attachments": {},
   "cell_type": "markdown",
   "id": "848fc0f1",
   "metadata": {},
   "source": [
    "## 2.3 distribution of in and out degree"
   ]
  },
  {
   "cell_type": "code",
   "execution_count": 14,
   "id": "e1538f0b",
   "metadata": {},
   "outputs": [],
   "source": [
    "# for the exposures\n",
    "dic_binary_adjs = em.get_binary_adjs(dic_obs_matrix_reverse_repo, agg_periods)\n",
    "dic_in_degree_distribution, dic_out_degree_distribution = em.get_degree_distribution(dic_binary_adjs)\n",
    "eg.plot_degree_distribution(\n",
    "    dic_in_degree_distribution, dic_out_degree_distribution, path_results, name=\"degree_distribution_reverse_repos\"\n",
    ")"
   ]
  },
  {
   "attachments": {},
   "cell_type": "markdown",
   "id": "3bc2c133",
   "metadata": {},
   "source": [
    "## 2.4 core periphery"
   ]
  },
  {
   "cell_type": "code",
   "execution_count": 15,
   "id": "394414ed",
   "metadata": {},
   "outputs": [
    {
     "name": "stderr",
     "output_type": "stream",
     "text": [
      "/mnt/live/user/vlecoz/conda_env/money_markets/lib/python3.8/site-packages/cpnet/utils.py:20: FutureWarning: adjacency_matrix will return a scipy.sparse array instead of a matrix in Networkx 3.0.\n",
      "  sparse.csr_matrix(nx.adjacency_matrix(net), dtype=np.float64),\n",
      "/mnt/live/user/vlecoz/conda_env/money_markets/lib/python3.8/site-packages/cpnet/qstest.py:94: UserWarning: 'num_of_thread keyword' is duplicated due to a compatibility issue with numba. Only one CPU will be used.\n",
      "  warnings.warn(\"'num_of_thread keyword' is duplicated due to a compatibility issue with numba. Only one CPU will be used.\")\n",
      "/mnt/live/user/vlecoz/conda_env/money_markets/lib/python3.8/site-packages/cpnet/qstest.py:96: FutureWarning: adjacency_matrix will return a scipy.sparse array instead of a matrix in Networkx 3.0.\n",
      "  A = nx.adjacency_matrix(G)\n",
      "  0%|          | 0/100 [00:00<?, ?it/s]/mnt/live/user/vlecoz/conda_env/money_markets/lib/python3.8/site-packages/cpnet/qstest.py:35: FutureWarning: adjacency_matrix will return a scipy.sparse array instead of a matrix in Networkx 3.0.\n",
      "  Ar = sparse.csr_matrix(nx.adjacency_matrix(Gr))\n",
      "100%|██████████| 100/100 [00:00<00:00, 598.17it/s]\n",
      "/mnt/live/user/vlecoz/conda_env/money_markets/lib/python3.8/site-packages/cpnet/utils.py:20: FutureWarning: adjacency_matrix will return a scipy.sparse array instead of a matrix in Networkx 3.0.\n",
      "  sparse.csr_matrix(nx.adjacency_matrix(net), dtype=np.float64),\n",
      "/mnt/live/user/vlecoz/conda_env/money_markets/lib/python3.8/site-packages/cpnet/qstest.py:94: UserWarning: 'num_of_thread keyword' is duplicated due to a compatibility issue with numba. Only one CPU will be used.\n",
      "  warnings.warn(\"'num_of_thread keyword' is duplicated due to a compatibility issue with numba. Only one CPU will be used.\")\n",
      "/mnt/live/user/vlecoz/conda_env/money_markets/lib/python3.8/site-packages/cpnet/qstest.py:96: FutureWarning: adjacency_matrix will return a scipy.sparse array instead of a matrix in Networkx 3.0.\n",
      "  A = nx.adjacency_matrix(G)\n"
     ]
    },
    {
     "name": "stdout",
     "output_type": "stream",
     "text": [
      "1 core-periphery structure(s) detected, but 0 significant, p-values are [0.9042740275687846] \n"
     ]
    },
    {
     "name": "stderr",
     "output_type": "stream",
     "text": [
      "  0%|          | 0/100 [00:00<?, ?it/s]/mnt/live/user/vlecoz/conda_env/money_markets/lib/python3.8/site-packages/cpnet/qstest.py:35: FutureWarning: adjacency_matrix will return a scipy.sparse array instead of a matrix in Networkx 3.0.\n",
      "  Ar = sparse.csr_matrix(nx.adjacency_matrix(Gr))\n",
      "100%|██████████| 100/100 [00:00<00:00, 607.66it/s]\n",
      "/mnt/live/user/vlecoz/conda_env/money_markets/lib/python3.8/site-packages/cpnet/utils.py:20: FutureWarning: adjacency_matrix will return a scipy.sparse array instead of a matrix in Networkx 3.0.\n",
      "  sparse.csr_matrix(nx.adjacency_matrix(net), dtype=np.float64),\n",
      "/mnt/live/user/vlecoz/conda_env/money_markets/lib/python3.8/site-packages/cpnet/qstest.py:94: UserWarning: 'num_of_thread keyword' is duplicated due to a compatibility issue with numba. Only one CPU will be used.\n",
      "  warnings.warn(\"'num_of_thread keyword' is duplicated due to a compatibility issue with numba. Only one CPU will be used.\")\n",
      "/mnt/live/user/vlecoz/conda_env/money_markets/lib/python3.8/site-packages/cpnet/qstest.py:96: FutureWarning: adjacency_matrix will return a scipy.sparse array instead of a matrix in Networkx 3.0.\n",
      "  A = nx.adjacency_matrix(G)\n"
     ]
    },
    {
     "name": "stdout",
     "output_type": "stream",
     "text": [
      "1 core-periphery structure(s) detected, but 0 significant, p-values are [0.9367638744490722] \n"
     ]
    },
    {
     "name": "stderr",
     "output_type": "stream",
     "text": [
      "  0%|          | 0/100 [00:00<?, ?it/s]/mnt/live/user/vlecoz/conda_env/money_markets/lib/python3.8/site-packages/cpnet/qstest.py:35: FutureWarning: adjacency_matrix will return a scipy.sparse array instead of a matrix in Networkx 3.0.\n",
      "  Ar = sparse.csr_matrix(nx.adjacency_matrix(Gr))\n",
      "100%|██████████| 100/100 [00:00<00:00, 597.10it/s]\n",
      "/mnt/live/user/vlecoz/conda_env/money_markets/lib/python3.8/site-packages/cpnet/utils.py:20: FutureWarning: adjacency_matrix will return a scipy.sparse array instead of a matrix in Networkx 3.0.\n",
      "  sparse.csr_matrix(nx.adjacency_matrix(net), dtype=np.float64),\n",
      "/mnt/live/user/vlecoz/conda_env/money_markets/lib/python3.8/site-packages/cpnet/qstest.py:94: UserWarning: 'num_of_thread keyword' is duplicated due to a compatibility issue with numba. Only one CPU will be used.\n",
      "  warnings.warn(\"'num_of_thread keyword' is duplicated due to a compatibility issue with numba. Only one CPU will be used.\")\n",
      "/mnt/live/user/vlecoz/conda_env/money_markets/lib/python3.8/site-packages/cpnet/qstest.py:96: FutureWarning: adjacency_matrix will return a scipy.sparse array instead of a matrix in Networkx 3.0.\n",
      "  A = nx.adjacency_matrix(G)\n"
     ]
    },
    {
     "name": "stdout",
     "output_type": "stream",
     "text": [
      "1 core-periphery structure(s) detected, but 0 significant, p-values are [0.9531307096338808] \n"
     ]
    },
    {
     "name": "stderr",
     "output_type": "stream",
     "text": [
      "  0%|          | 0/100 [00:00<?, ?it/s]/mnt/live/user/vlecoz/conda_env/money_markets/lib/python3.8/site-packages/cpnet/qstest.py:35: FutureWarning: adjacency_matrix will return a scipy.sparse array instead of a matrix in Networkx 3.0.\n",
      "  Ar = sparse.csr_matrix(nx.adjacency_matrix(Gr))\n",
      "100%|██████████| 100/100 [00:00<00:00, 600.17it/s]\n",
      "/mnt/live/user/vlecoz/conda_env/money_markets/lib/python3.8/site-packages/cpnet/utils.py:20: FutureWarning: adjacency_matrix will return a scipy.sparse array instead of a matrix in Networkx 3.0.\n",
      "  sparse.csr_matrix(nx.adjacency_matrix(net), dtype=np.float64),\n",
      "/mnt/live/user/vlecoz/conda_env/money_markets/lib/python3.8/site-packages/cpnet/qstest.py:94: UserWarning: 'num_of_thread keyword' is duplicated due to a compatibility issue with numba. Only one CPU will be used.\n",
      "  warnings.warn(\"'num_of_thread keyword' is duplicated due to a compatibility issue with numba. Only one CPU will be used.\")\n",
      "/mnt/live/user/vlecoz/conda_env/money_markets/lib/python3.8/site-packages/cpnet/qstest.py:96: FutureWarning: adjacency_matrix will return a scipy.sparse array instead of a matrix in Networkx 3.0.\n",
      "  A = nx.adjacency_matrix(G)\n"
     ]
    },
    {
     "name": "stdout",
     "output_type": "stream",
     "text": [
      "1 core-periphery structure(s) detected, but 0 significant, p-values are [0.9720059468235128] \n"
     ]
    },
    {
     "name": "stderr",
     "output_type": "stream",
     "text": [
      "  0%|          | 0/100 [00:00<?, ?it/s]/mnt/live/user/vlecoz/conda_env/money_markets/lib/python3.8/site-packages/cpnet/qstest.py:35: FutureWarning: adjacency_matrix will return a scipy.sparse array instead of a matrix in Networkx 3.0.\n",
      "  Ar = sparse.csr_matrix(nx.adjacency_matrix(Gr))\n",
      "100%|██████████| 100/100 [00:00<00:00, 478.23it/s]\n"
     ]
    },
    {
     "name": "stdout",
     "output_type": "stream",
     "text": [
      "1 core-periphery structure(s) detected, but 0 significant, p-values are [0.8647542221322262] \n"
     ]
    },
    {
     "name": "stderr",
     "output_type": "stream",
     "text": [
      "/mnt/live/user/vlecoz/conda_env/money_markets/lib/python3.8/site-packages/cpnet/utils.py:20: FutureWarning: adjacency_matrix will return a scipy.sparse array instead of a matrix in Networkx 3.0.\n",
      "  sparse.csr_matrix(nx.adjacency_matrix(net), dtype=np.float64),\n",
      "/mnt/live/user/vlecoz/conda_env/money_markets/lib/python3.8/site-packages/cpnet/qstest.py:94: UserWarning: 'num_of_thread keyword' is duplicated due to a compatibility issue with numba. Only one CPU will be used.\n",
      "  warnings.warn(\"'num_of_thread keyword' is duplicated due to a compatibility issue with numba. Only one CPU will be used.\")\n",
      "/mnt/live/user/vlecoz/conda_env/money_markets/lib/python3.8/site-packages/cpnet/qstest.py:96: FutureWarning: adjacency_matrix will return a scipy.sparse array instead of a matrix in Networkx 3.0.\n",
      "  A = nx.adjacency_matrix(G)\n",
      "  0%|          | 0/100 [00:00<?, ?it/s]/mnt/live/user/vlecoz/conda_env/money_markets/lib/python3.8/site-packages/cpnet/qstest.py:35: FutureWarning: adjacency_matrix will return a scipy.sparse array instead of a matrix in Networkx 3.0.\n",
      "  Ar = sparse.csr_matrix(nx.adjacency_matrix(Gr))\n",
      "100%|██████████| 100/100 [00:00<00:00, 468.81it/s]\n"
     ]
    },
    {
     "name": "stdout",
     "output_type": "stream",
     "text": [
      "1 core-periphery structure(s) detected, but 0 significant, p-values are [0.8503152320756266] \n"
     ]
    },
    {
     "name": "stderr",
     "output_type": "stream",
     "text": [
      "/mnt/live/user/vlecoz/conda_env/money_markets/lib/python3.8/site-packages/cpnet/utils.py:20: FutureWarning: adjacency_matrix will return a scipy.sparse array instead of a matrix in Networkx 3.0.\n",
      "  sparse.csr_matrix(nx.adjacency_matrix(net), dtype=np.float64),\n",
      "/mnt/live/user/vlecoz/conda_env/money_markets/lib/python3.8/site-packages/cpnet/qstest.py:94: UserWarning: 'num_of_thread keyword' is duplicated due to a compatibility issue with numba. Only one CPU will be used.\n",
      "  warnings.warn(\"'num_of_thread keyword' is duplicated due to a compatibility issue with numba. Only one CPU will be used.\")\n",
      "/mnt/live/user/vlecoz/conda_env/money_markets/lib/python3.8/site-packages/cpnet/qstest.py:96: FutureWarning: adjacency_matrix will return a scipy.sparse array instead of a matrix in Networkx 3.0.\n",
      "  A = nx.adjacency_matrix(G)\n",
      "  0%|          | 0/100 [00:00<?, ?it/s]/mnt/live/user/vlecoz/conda_env/money_markets/lib/python3.8/site-packages/cpnet/qstest.py:35: FutureWarning: adjacency_matrix will return a scipy.sparse array instead of a matrix in Networkx 3.0.\n",
      "  Ar = sparse.csr_matrix(nx.adjacency_matrix(Gr))\n",
      "100%|██████████| 100/100 [00:00<00:00, 477.42it/s]\n"
     ]
    },
    {
     "name": "stdout",
     "output_type": "stream",
     "text": [
      "1 core-periphery structure(s) detected, but 0 significant, p-values are [0.9063849709739417] \n"
     ]
    },
    {
     "name": "stderr",
     "output_type": "stream",
     "text": [
      "/mnt/live/user/vlecoz/conda_env/money_markets/lib/python3.8/site-packages/cpnet/utils.py:20: FutureWarning: adjacency_matrix will return a scipy.sparse array instead of a matrix in Networkx 3.0.\n",
      "  sparse.csr_matrix(nx.adjacency_matrix(net), dtype=np.float64),\n",
      "/mnt/live/user/vlecoz/conda_env/money_markets/lib/python3.8/site-packages/cpnet/qstest.py:94: UserWarning: 'num_of_thread keyword' is duplicated due to a compatibility issue with numba. Only one CPU will be used.\n",
      "  warnings.warn(\"'num_of_thread keyword' is duplicated due to a compatibility issue with numba. Only one CPU will be used.\")\n",
      "/mnt/live/user/vlecoz/conda_env/money_markets/lib/python3.8/site-packages/cpnet/qstest.py:96: FutureWarning: adjacency_matrix will return a scipy.sparse array instead of a matrix in Networkx 3.0.\n",
      "  A = nx.adjacency_matrix(G)\n",
      "  0%|          | 0/100 [00:00<?, ?it/s]/mnt/live/user/vlecoz/conda_env/money_markets/lib/python3.8/site-packages/cpnet/qstest.py:35: FutureWarning: adjacency_matrix will return a scipy.sparse array instead of a matrix in Networkx 3.0.\n",
      "  Ar = sparse.csr_matrix(nx.adjacency_matrix(Gr))\n",
      "100%|██████████| 100/100 [00:00<00:00, 444.72it/s]\n"
     ]
    },
    {
     "name": "stdout",
     "output_type": "stream",
     "text": [
      "1 core-periphery structure(s) detected, but 0 significant, p-values are [0.5446332086606411] \n"
     ]
    },
    {
     "name": "stderr",
     "output_type": "stream",
     "text": [
      "/mnt/live/user/vlecoz/conda_env/money_markets/lib/python3.8/site-packages/cpnet/utils.py:20: FutureWarning: adjacency_matrix will return a scipy.sparse array instead of a matrix in Networkx 3.0.\n",
      "  sparse.csr_matrix(nx.adjacency_matrix(net), dtype=np.float64),\n",
      "/mnt/live/user/vlecoz/conda_env/money_markets/lib/python3.8/site-packages/cpnet/qstest.py:94: UserWarning: 'num_of_thread keyword' is duplicated due to a compatibility issue with numba. Only one CPU will be used.\n",
      "  warnings.warn(\"'num_of_thread keyword' is duplicated due to a compatibility issue with numba. Only one CPU will be used.\")\n",
      "/mnt/live/user/vlecoz/conda_env/money_markets/lib/python3.8/site-packages/cpnet/qstest.py:96: FutureWarning: adjacency_matrix will return a scipy.sparse array instead of a matrix in Networkx 3.0.\n",
      "  A = nx.adjacency_matrix(G)\n",
      "  0%|          | 0/100 [00:00<?, ?it/s]/mnt/live/user/vlecoz/conda_env/money_markets/lib/python3.8/site-packages/cpnet/qstest.py:35: FutureWarning: adjacency_matrix will return a scipy.sparse array instead of a matrix in Networkx 3.0.\n",
      "  Ar = sparse.csr_matrix(nx.adjacency_matrix(Gr))\n",
      "100%|██████████| 100/100 [00:00<00:00, 471.08it/s]\n"
     ]
    },
    {
     "name": "stdout",
     "output_type": "stream",
     "text": [
      "1 core-periphery structure(s) detected, but 0 significant, p-values are [0.8915476047129735] \n"
     ]
    },
    {
     "name": "stderr",
     "output_type": "stream",
     "text": [
      "/mnt/live/user/vlecoz/conda_env/money_markets/lib/python3.8/site-packages/cpnet/utils.py:20: FutureWarning: adjacency_matrix will return a scipy.sparse array instead of a matrix in Networkx 3.0.\n",
      "  sparse.csr_matrix(nx.adjacency_matrix(net), dtype=np.float64),\n",
      "/mnt/live/user/vlecoz/conda_env/money_markets/lib/python3.8/site-packages/cpnet/qstest.py:94: UserWarning: 'num_of_thread keyword' is duplicated due to a compatibility issue with numba. Only one CPU will be used.\n",
      "  warnings.warn(\"'num_of_thread keyword' is duplicated due to a compatibility issue with numba. Only one CPU will be used.\")\n",
      "/mnt/live/user/vlecoz/conda_env/money_markets/lib/python3.8/site-packages/cpnet/qstest.py:96: FutureWarning: adjacency_matrix will return a scipy.sparse array instead of a matrix in Networkx 3.0.\n",
      "  A = nx.adjacency_matrix(G)\n",
      "  0%|          | 0/100 [00:00<?, ?it/s]/mnt/live/user/vlecoz/conda_env/money_markets/lib/python3.8/site-packages/cpnet/qstest.py:35: FutureWarning: adjacency_matrix will return a scipy.sparse array instead of a matrix in Networkx 3.0.\n",
      "  Ar = sparse.csr_matrix(nx.adjacency_matrix(Gr))\n",
      "100%|██████████| 100/100 [00:00<00:00, 273.59it/s]\n"
     ]
    },
    {
     "name": "stdout",
     "output_type": "stream",
     "text": [
      "1 core-periphery structure(s) detected, but 0 significant, p-values are [0.9813771680379776] \n"
     ]
    },
    {
     "name": "stderr",
     "output_type": "stream",
     "text": [
      "/mnt/live/user/vlecoz/conda_env/money_markets/lib/python3.8/site-packages/cpnet/utils.py:20: FutureWarning: adjacency_matrix will return a scipy.sparse array instead of a matrix in Networkx 3.0.\n",
      "  sparse.csr_matrix(nx.adjacency_matrix(net), dtype=np.float64),\n",
      "/mnt/live/user/vlecoz/conda_env/money_markets/lib/python3.8/site-packages/cpnet/qstest.py:94: UserWarning: 'num_of_thread keyword' is duplicated due to a compatibility issue with numba. Only one CPU will be used.\n",
      "  warnings.warn(\"'num_of_thread keyword' is duplicated due to a compatibility issue with numba. Only one CPU will be used.\")\n",
      "/mnt/live/user/vlecoz/conda_env/money_markets/lib/python3.8/site-packages/cpnet/qstest.py:96: FutureWarning: adjacency_matrix will return a scipy.sparse array instead of a matrix in Networkx 3.0.\n",
      "  A = nx.adjacency_matrix(G)\n",
      "  0%|          | 0/100 [00:00<?, ?it/s]/mnt/live/user/vlecoz/conda_env/money_markets/lib/python3.8/site-packages/cpnet/qstest.py:35: FutureWarning: adjacency_matrix will return a scipy.sparse array instead of a matrix in Networkx 3.0.\n",
      "  Ar = sparse.csr_matrix(nx.adjacency_matrix(Gr))\n",
      "100%|██████████| 100/100 [00:00<00:00, 466.52it/s]\n"
     ]
    },
    {
     "name": "stdout",
     "output_type": "stream",
     "text": [
      "1 core-periphery structure(s) detected, but 0 significant, p-values are [0.9618411986313556] \n"
     ]
    },
    {
     "name": "stderr",
     "output_type": "stream",
     "text": [
      "/mnt/live/user/vlecoz/conda_env/money_markets/lib/python3.8/site-packages/cpnet/utils.py:20: FutureWarning: adjacency_matrix will return a scipy.sparse array instead of a matrix in Networkx 3.0.\n",
      "  sparse.csr_matrix(nx.adjacency_matrix(net), dtype=np.float64),\n",
      "/mnt/live/user/vlecoz/conda_env/money_markets/lib/python3.8/site-packages/cpnet/qstest.py:94: UserWarning: 'num_of_thread keyword' is duplicated due to a compatibility issue with numba. Only one CPU will be used.\n",
      "  warnings.warn(\"'num_of_thread keyword' is duplicated due to a compatibility issue with numba. Only one CPU will be used.\")\n",
      "/mnt/live/user/vlecoz/conda_env/money_markets/lib/python3.8/site-packages/cpnet/qstest.py:96: FutureWarning: adjacency_matrix will return a scipy.sparse array instead of a matrix in Networkx 3.0.\n",
      "  A = nx.adjacency_matrix(G)\n",
      "  0%|          | 0/100 [00:00<?, ?it/s]/mnt/live/user/vlecoz/conda_env/money_markets/lib/python3.8/site-packages/cpnet/qstest.py:35: FutureWarning: adjacency_matrix will return a scipy.sparse array instead of a matrix in Networkx 3.0.\n",
      "  Ar = sparse.csr_matrix(nx.adjacency_matrix(Gr))\n",
      "100%|██████████| 100/100 [00:00<00:00, 432.15it/s]\n"
     ]
    },
    {
     "name": "stdout",
     "output_type": "stream",
     "text": [
      "1 core-periphery structure(s) detected, but 0 significant, p-values are [0.9872609771322768] \n"
     ]
    },
    {
     "name": "stderr",
     "output_type": "stream",
     "text": [
      "/mnt/live/user/vlecoz/conda_env/money_markets/lib/python3.8/site-packages/cpnet/utils.py:20: FutureWarning: adjacency_matrix will return a scipy.sparse array instead of a matrix in Networkx 3.0.\n",
      "  sparse.csr_matrix(nx.adjacency_matrix(net), dtype=np.float64),\n",
      "/mnt/live/user/vlecoz/conda_env/money_markets/lib/python3.8/site-packages/cpnet/qstest.py:94: UserWarning: 'num_of_thread keyword' is duplicated due to a compatibility issue with numba. Only one CPU will be used.\n",
      "  warnings.warn(\"'num_of_thread keyword' is duplicated due to a compatibility issue with numba. Only one CPU will be used.\")\n",
      "/mnt/live/user/vlecoz/conda_env/money_markets/lib/python3.8/site-packages/cpnet/qstest.py:96: FutureWarning: adjacency_matrix will return a scipy.sparse array instead of a matrix in Networkx 3.0.\n",
      "  A = nx.adjacency_matrix(G)\n",
      "  0%|          | 0/100 [00:00<?, ?it/s]/mnt/live/user/vlecoz/conda_env/money_markets/lib/python3.8/site-packages/cpnet/qstest.py:35: FutureWarning: adjacency_matrix will return a scipy.sparse array instead of a matrix in Networkx 3.0.\n",
      "  Ar = sparse.csr_matrix(nx.adjacency_matrix(Gr))\n",
      "100%|██████████| 100/100 [00:00<00:00, 483.90it/s]\n"
     ]
    },
    {
     "name": "stdout",
     "output_type": "stream",
     "text": [
      "1 core-periphery structure(s) detected, but 0 significant, p-values are [0.9513987992534162] \n"
     ]
    },
    {
     "name": "stderr",
     "output_type": "stream",
     "text": [
      "/mnt/live/user/vlecoz/conda_env/money_markets/lib/python3.8/site-packages/cpnet/utils.py:20: FutureWarning: adjacency_matrix will return a scipy.sparse array instead of a matrix in Networkx 3.0.\n",
      "  sparse.csr_matrix(nx.adjacency_matrix(net), dtype=np.float64),\n",
      "/mnt/live/user/vlecoz/conda_env/money_markets/lib/python3.8/site-packages/cpnet/qstest.py:94: UserWarning: 'num_of_thread keyword' is duplicated due to a compatibility issue with numba. Only one CPU will be used.\n",
      "  warnings.warn(\"'num_of_thread keyword' is duplicated due to a compatibility issue with numba. Only one CPU will be used.\")\n",
      "/mnt/live/user/vlecoz/conda_env/money_markets/lib/python3.8/site-packages/cpnet/qstest.py:96: FutureWarning: adjacency_matrix will return a scipy.sparse array instead of a matrix in Networkx 3.0.\n",
      "  A = nx.adjacency_matrix(G)\n",
      "  0%|          | 0/100 [00:00<?, ?it/s]/mnt/live/user/vlecoz/conda_env/money_markets/lib/python3.8/site-packages/cpnet/qstest.py:35: FutureWarning: adjacency_matrix will return a scipy.sparse array instead of a matrix in Networkx 3.0.\n",
      "  Ar = sparse.csr_matrix(nx.adjacency_matrix(Gr))\n",
      "100%|██████████| 100/100 [00:00<00:00, 480.72it/s]\n"
     ]
    },
    {
     "name": "stdout",
     "output_type": "stream",
     "text": [
      "1 core-periphery structure(s) detected, but 0 significant, p-values are [0.9177649444635699] \n"
     ]
    },
    {
     "name": "stderr",
     "output_type": "stream",
     "text": [
      "/mnt/live/user/vlecoz/conda_env/money_markets/lib/python3.8/site-packages/cpnet/utils.py:20: FutureWarning: adjacency_matrix will return a scipy.sparse array instead of a matrix in Networkx 3.0.\n",
      "  sparse.csr_matrix(nx.adjacency_matrix(net), dtype=np.float64),\n",
      "/mnt/live/user/vlecoz/conda_env/money_markets/lib/python3.8/site-packages/cpnet/qstest.py:94: UserWarning: 'num_of_thread keyword' is duplicated due to a compatibility issue with numba. Only one CPU will be used.\n",
      "  warnings.warn(\"'num_of_thread keyword' is duplicated due to a compatibility issue with numba. Only one CPU will be used.\")\n",
      "/mnt/live/user/vlecoz/conda_env/money_markets/lib/python3.8/site-packages/cpnet/qstest.py:96: FutureWarning: adjacency_matrix will return a scipy.sparse array instead of a matrix in Networkx 3.0.\n",
      "  A = nx.adjacency_matrix(G)\n",
      "  0%|          | 0/100 [00:00<?, ?it/s]/mnt/live/user/vlecoz/conda_env/money_markets/lib/python3.8/site-packages/cpnet/qstest.py:35: FutureWarning: adjacency_matrix will return a scipy.sparse array instead of a matrix in Networkx 3.0.\n",
      "  Ar = sparse.csr_matrix(nx.adjacency_matrix(Gr))\n",
      "100%|██████████| 100/100 [00:00<00:00, 476.44it/s]\n"
     ]
    },
    {
     "name": "stdout",
     "output_type": "stream",
     "text": [
      "1 core-periphery structure(s) detected, but 0 significant, p-values are [0.9165382919705236] \n"
     ]
    },
    {
     "name": "stderr",
     "output_type": "stream",
     "text": [
      "/mnt/live/user/vlecoz/conda_env/money_markets/lib/python3.8/site-packages/cpnet/utils.py:20: FutureWarning: adjacency_matrix will return a scipy.sparse array instead of a matrix in Networkx 3.0.\n",
      "  sparse.csr_matrix(nx.adjacency_matrix(net), dtype=np.float64),\n",
      "/mnt/live/user/vlecoz/conda_env/money_markets/lib/python3.8/site-packages/cpnet/qstest.py:94: UserWarning: 'num_of_thread keyword' is duplicated due to a compatibility issue with numba. Only one CPU will be used.\n",
      "  warnings.warn(\"'num_of_thread keyword' is duplicated due to a compatibility issue with numba. Only one CPU will be used.\")\n",
      "/mnt/live/user/vlecoz/conda_env/money_markets/lib/python3.8/site-packages/cpnet/qstest.py:96: FutureWarning: adjacency_matrix will return a scipy.sparse array instead of a matrix in Networkx 3.0.\n",
      "  A = nx.adjacency_matrix(G)\n",
      "  0%|          | 0/100 [00:00<?, ?it/s]/mnt/live/user/vlecoz/conda_env/money_markets/lib/python3.8/site-packages/cpnet/qstest.py:35: FutureWarning: adjacency_matrix will return a scipy.sparse array instead of a matrix in Networkx 3.0.\n",
      "  Ar = sparse.csr_matrix(nx.adjacency_matrix(Gr))\n",
      "100%|██████████| 100/100 [00:00<00:00, 441.77it/s]\n"
     ]
    },
    {
     "name": "stdout",
     "output_type": "stream",
     "text": [
      "1 core-periphery structure(s) detected, but 0 significant, p-values are [0.9741309730635559] \n"
     ]
    },
    {
     "name": "stderr",
     "output_type": "stream",
     "text": [
      "/mnt/live/user/vlecoz/conda_env/money_markets/lib/python3.8/site-packages/cpnet/utils.py:20: FutureWarning: adjacency_matrix will return a scipy.sparse array instead of a matrix in Networkx 3.0.\n",
      "  sparse.csr_matrix(nx.adjacency_matrix(net), dtype=np.float64),\n",
      "/mnt/live/user/vlecoz/conda_env/money_markets/lib/python3.8/site-packages/cpnet/qstest.py:94: UserWarning: 'num_of_thread keyword' is duplicated due to a compatibility issue with numba. Only one CPU will be used.\n",
      "  warnings.warn(\"'num_of_thread keyword' is duplicated due to a compatibility issue with numba. Only one CPU will be used.\")\n",
      "/mnt/live/user/vlecoz/conda_env/money_markets/lib/python3.8/site-packages/cpnet/qstest.py:96: FutureWarning: adjacency_matrix will return a scipy.sparse array instead of a matrix in Networkx 3.0.\n",
      "  A = nx.adjacency_matrix(G)\n",
      "  0%|          | 0/100 [00:00<?, ?it/s]/mnt/live/user/vlecoz/conda_env/money_markets/lib/python3.8/site-packages/cpnet/qstest.py:35: FutureWarning: adjacency_matrix will return a scipy.sparse array instead of a matrix in Networkx 3.0.\n",
      "  Ar = sparse.csr_matrix(nx.adjacency_matrix(Gr))\n",
      "100%|██████████| 100/100 [00:00<00:00, 493.84it/s]\n"
     ]
    },
    {
     "name": "stdout",
     "output_type": "stream",
     "text": [
      "1 core-periphery structure(s) detected, but 0 significant, p-values are [0.8428512564044524] \n"
     ]
    },
    {
     "name": "stderr",
     "output_type": "stream",
     "text": [
      "/mnt/live/user/vlecoz/conda_env/money_markets/lib/python3.8/site-packages/cpnet/utils.py:20: FutureWarning: adjacency_matrix will return a scipy.sparse array instead of a matrix in Networkx 3.0.\n",
      "  sparse.csr_matrix(nx.adjacency_matrix(net), dtype=np.float64),\n",
      "/mnt/live/user/vlecoz/conda_env/money_markets/lib/python3.8/site-packages/cpnet/qstest.py:94: UserWarning: 'num_of_thread keyword' is duplicated due to a compatibility issue with numba. Only one CPU will be used.\n",
      "  warnings.warn(\"'num_of_thread keyword' is duplicated due to a compatibility issue with numba. Only one CPU will be used.\")\n",
      "/mnt/live/user/vlecoz/conda_env/money_markets/lib/python3.8/site-packages/cpnet/qstest.py:96: FutureWarning: adjacency_matrix will return a scipy.sparse array instead of a matrix in Networkx 3.0.\n",
      "  A = nx.adjacency_matrix(G)\n",
      "  0%|          | 0/100 [00:00<?, ?it/s]/mnt/live/user/vlecoz/conda_env/money_markets/lib/python3.8/site-packages/cpnet/qstest.py:35: FutureWarning: adjacency_matrix will return a scipy.sparse array instead of a matrix in Networkx 3.0.\n",
      "  Ar = sparse.csr_matrix(nx.adjacency_matrix(Gr))\n",
      "100%|██████████| 100/100 [00:00<00:00, 463.46it/s]\n"
     ]
    },
    {
     "name": "stdout",
     "output_type": "stream",
     "text": [
      "1 core-periphery structure(s) detected, but 0 significant, p-values are [0.9103564275356031] \n"
     ]
    },
    {
     "name": "stderr",
     "output_type": "stream",
     "text": [
      "/mnt/live/user/vlecoz/conda_env/money_markets/lib/python3.8/site-packages/cpnet/utils.py:20: FutureWarning: adjacency_matrix will return a scipy.sparse array instead of a matrix in Networkx 3.0.\n",
      "  sparse.csr_matrix(nx.adjacency_matrix(net), dtype=np.float64),\n",
      "/mnt/live/user/vlecoz/conda_env/money_markets/lib/python3.8/site-packages/cpnet/qstest.py:94: UserWarning: 'num_of_thread keyword' is duplicated due to a compatibility issue with numba. Only one CPU will be used.\n",
      "  warnings.warn(\"'num_of_thread keyword' is duplicated due to a compatibility issue with numba. Only one CPU will be used.\")\n",
      "/mnt/live/user/vlecoz/conda_env/money_markets/lib/python3.8/site-packages/cpnet/qstest.py:96: FutureWarning: adjacency_matrix will return a scipy.sparse array instead of a matrix in Networkx 3.0.\n",
      "  A = nx.adjacency_matrix(G)\n",
      "  0%|          | 0/100 [00:00<?, ?it/s]/mnt/live/user/vlecoz/conda_env/money_markets/lib/python3.8/site-packages/cpnet/qstest.py:35: FutureWarning: adjacency_matrix will return a scipy.sparse array instead of a matrix in Networkx 3.0.\n",
      "  Ar = sparse.csr_matrix(nx.adjacency_matrix(Gr))\n",
      "100%|██████████| 100/100 [00:00<00:00, 486.10it/s]\n"
     ]
    },
    {
     "name": "stdout",
     "output_type": "stream",
     "text": [
      "1 core-periphery structure(s) detected, but 0 significant, p-values are [0.8332437514759772] \n"
     ]
    },
    {
     "name": "stderr",
     "output_type": "stream",
     "text": [
      "/mnt/live/user/vlecoz/conda_env/money_markets/lib/python3.8/site-packages/cpnet/utils.py:20: FutureWarning: adjacency_matrix will return a scipy.sparse array instead of a matrix in Networkx 3.0.\n",
      "  sparse.csr_matrix(nx.adjacency_matrix(net), dtype=np.float64),\n",
      "/mnt/live/user/vlecoz/conda_env/money_markets/lib/python3.8/site-packages/cpnet/qstest.py:94: UserWarning: 'num_of_thread keyword' is duplicated due to a compatibility issue with numba. Only one CPU will be used.\n",
      "  warnings.warn(\"'num_of_thread keyword' is duplicated due to a compatibility issue with numba. Only one CPU will be used.\")\n",
      "/mnt/live/user/vlecoz/conda_env/money_markets/lib/python3.8/site-packages/cpnet/qstest.py:96: FutureWarning: adjacency_matrix will return a scipy.sparse array instead of a matrix in Networkx 3.0.\n",
      "  A = nx.adjacency_matrix(G)\n",
      "  0%|          | 0/100 [00:00<?, ?it/s]/mnt/live/user/vlecoz/conda_env/money_markets/lib/python3.8/site-packages/cpnet/qstest.py:35: FutureWarning: adjacency_matrix will return a scipy.sparse array instead of a matrix in Networkx 3.0.\n",
      "  Ar = sparse.csr_matrix(nx.adjacency_matrix(Gr))\n",
      "100%|██████████| 100/100 [00:00<00:00, 439.21it/s]\n"
     ]
    },
    {
     "name": "stdout",
     "output_type": "stream",
     "text": [
      "1 core-periphery structure(s) detected, but 0 significant, p-values are [0.9802924126418731] \n"
     ]
    }
   ],
   "source": [
    "# build the dic_binary_adjs\n",
    "dic_binary_adjs = em.get_binary_adjs(dic_obs_matrix_reverse_repo, agg_periods)\n",
    "dic_p_value = em.get_n_plot_cp_test(dic_binary_adjs, save_every=100, path_results=path_results)"
   ]
  },
  {
   "cell_type": "code",
   "execution_count": 11,
   "id": "9020736d",
   "metadata": {},
   "outputs": [
    {
     "data": {
      "text/plain": [
       "{1: [1,\n",
       "  [0.9365997376356756],\n",
       "  [0.867414916797697],\n",
       "  [0.963515251345065],\n",
       "  [0.9765811589464047],\n",
       "  [0.8802792080348179]],\n",
       " 50: [1,\n",
       "  [0.9570574909699225],\n",
       "  [0.8331599197263858],\n",
       "  [0.8851689598520565],\n",
       "  [0.9217329195199652],\n",
       "  [0.8753254280120053]]}"
      ]
     },
     "execution_count": 11,
     "metadata": {},
     "output_type": "execute_result"
    }
   ],
   "source": [
    "dic_p_value"
   ]
  },
  {
   "attachments": {},
   "cell_type": "markdown",
   "id": "8eef7572",
   "metadata": {},
   "source": [
    "## 2.5 asset per degree"
   ]
  },
  {
   "cell_type": "code",
   "execution_count": 12,
   "id": "c2103a8a",
   "metadata": {},
   "outputs": [
    {
     "data": {
      "text/html": [
       "<div>\n",
       "<style scoped>\n",
       "    .dataframe tbody tr th:only-of-type {\n",
       "        vertical-align: middle;\n",
       "    }\n",
       "\n",
       "    .dataframe tbody tr th {\n",
       "        vertical-align: top;\n",
       "    }\n",
       "\n",
       "    .dataframe thead th {\n",
       "        text-align: right;\n",
       "    }\n",
       "</style>\n",
       "<table border=\"1\" class=\"dataframe\">\n",
       "  <thead>\n",
       "    <tr style=\"text-align: right;\">\n",
       "      <th></th>\n",
       "      <th>lei</th>\n",
       "      <th>date</th>\n",
       "      <th>total_assets</th>\n",
       "    </tr>\n",
       "  </thead>\n",
       "  <tbody>\n",
       "    <tr>\n",
       "      <th>0</th>\n",
       "      <td>bank_0</td>\n",
       "      <td>2020-01-01</td>\n",
       "      <td>77.203142</td>\n",
       "    </tr>\n",
       "    <tr>\n",
       "      <th>1</th>\n",
       "      <td>bank_1</td>\n",
       "      <td>2020-01-01</td>\n",
       "      <td>84.849293</td>\n",
       "    </tr>\n",
       "    <tr>\n",
       "      <th>2</th>\n",
       "      <td>bank_2</td>\n",
       "      <td>2020-01-01</td>\n",
       "      <td>62.048893</td>\n",
       "    </tr>\n",
       "    <tr>\n",
       "      <th>3</th>\n",
       "      <td>bank_3</td>\n",
       "      <td>2020-01-01</td>\n",
       "      <td>91.381572</td>\n",
       "    </tr>\n",
       "    <tr>\n",
       "      <th>4</th>\n",
       "      <td>bank_4</td>\n",
       "      <td>2020-01-01</td>\n",
       "      <td>50.094894</td>\n",
       "    </tr>\n",
       "    <tr>\n",
       "      <th>...</th>\n",
       "      <td>...</td>\n",
       "      <td>...</td>\n",
       "      <td>...</td>\n",
       "    </tr>\n",
       "    <tr>\n",
       "      <th>1245</th>\n",
       "      <td>bank_45</td>\n",
       "      <td>2044-01-01</td>\n",
       "      <td>28.079956</td>\n",
       "    </tr>\n",
       "    <tr>\n",
       "      <th>1246</th>\n",
       "      <td>bank_46</td>\n",
       "      <td>2044-01-01</td>\n",
       "      <td>58.764271</td>\n",
       "    </tr>\n",
       "    <tr>\n",
       "      <th>1247</th>\n",
       "      <td>bank_47</td>\n",
       "      <td>2044-01-01</td>\n",
       "      <td>94.146067</td>\n",
       "    </tr>\n",
       "    <tr>\n",
       "      <th>1248</th>\n",
       "      <td>bank_48</td>\n",
       "      <td>2044-01-01</td>\n",
       "      <td>29.661545</td>\n",
       "    </tr>\n",
       "    <tr>\n",
       "      <th>1249</th>\n",
       "      <td>bank_49</td>\n",
       "      <td>2044-01-01</td>\n",
       "      <td>3.944893</td>\n",
       "    </tr>\n",
       "  </tbody>\n",
       "</table>\n",
       "<p>1250 rows × 3 columns</p>\n",
       "</div>"
      ],
      "text/plain": [
       "          lei       date  total_assets\n",
       "0      bank_0 2020-01-01     77.203142\n",
       "1      bank_1 2020-01-01     84.849293\n",
       "2      bank_2 2020-01-01     62.048893\n",
       "3      bank_3 2020-01-01     91.381572\n",
       "4      bank_4 2020-01-01     50.094894\n",
       "...       ...        ...           ...\n",
       "1245  bank_45 2044-01-01     28.079956\n",
       "1246  bank_46 2044-01-01     58.764271\n",
       "1247  bank_47 2044-01-01     94.146067\n",
       "1248  bank_48 2044-01-01     29.661545\n",
       "1249  bank_49 2044-01-01      3.944893\n",
       "\n",
       "[1250 rows x 3 columns]"
      ]
     },
     "execution_count": 12,
     "metadata": {},
     "output_type": "execute_result"
    }
   ],
   "source": [
    "ef.get_df_finrep()"
   ]
  },
  {
   "cell_type": "markdown",
   "id": "4c2702a9",
   "metadata": {},
   "source": [
    "# tools"
   ]
  },
  {
   "cell_type": "code",
   "execution_count": null,
   "id": "ee9801d6",
   "metadata": {},
   "outputs": [
    {
     "data": {
      "text/plain": [
       "<BarContainer object of 6 artists>"
      ]
     },
     "execution_count": 11,
     "metadata": {},
     "output_type": "execute_result"
    },
    {
     "data": {
      "image/png": "[encoded data removed]",
      "text/plain": [
       "<Figure size 432x288 with 1 Axes>"
      ]
     },
     "metadata": {
      "needs_background": "light"
     },
     "output_type": "display_data"
    }
   ],
   "source": [
    "from matplotlib import pyplot as plt\n",
    "binary_adj = np.random.randint(0,2,(10,10))\n",
    "bank_network = nx.from_numpy_matrix(\n",
    "            binary_adj,\n",
    "            parallel_edges=False,\n",
    "            create_using=nx.DiGraph,\n",
    "        )  # first define a networkx object.\n",
    "\n",
    "ar_in_degree = np.array(bank_network.in_degree())[:,1]\n",
    "hist = np.unique(ar_in_degree, return_counts=True)\n",
    "plt.bar(*hist)\n"
   ]
  }
 ],
 "metadata": {
  "kernelspec": {
   "display_name": "Python 3.9.5 ('venv': venv)",
   "language": "python",
   "name": "python3"
  },
  "language_info": {
   "codemirror_mode": {
    "name": "ipython",
    "version": 3
   },
   "file_extension": ".py",
   "mimetype": "text/x-python",
   "name": "python",
   "nbconvert_exporter": "python",
   "pygments_lexer": "ipython3",
   "version": "3.8.13"
  },
  "vscode": {
   "interpreter": {
    "hash": "079b1fb917025cd1efcb3b76bbd42ea8503c3ca839bb74a5335b7616d8aa92a0"
   }
  }
 },
 "nbformat": 4,
 "nbformat_minor": 5
}
