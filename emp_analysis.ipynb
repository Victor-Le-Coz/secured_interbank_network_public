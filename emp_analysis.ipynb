{
 "cells": [
  {
   "cell_type": "code",
   "execution_count": 1,
   "id": "8c221870",
   "metadata": {},
   "outputs": [],
   "source": [
    "# imports \n",
    "import emp_preprocessing as ep\n",
    "import emp_fake_data as ef\n",
    "import emp_metrics as em\n",
    "import networkx as nx\n",
    "import functions as fct\n",
    "import numpy as np\n",
    "import pandas as pd\n",
    "import parameters as par\n",
    "import os\n",
    "import graphics as gx\n",
    "import data_mapping as dm\n",
    "\n",
    "# parameters\n",
    "path = \"./results/empirical_results/\"\n",
    "plot_period=1000"
   ]
  },
  {
   "attachments": {},
   "cell_type": "markdown",
   "id": "a5dec96a",
   "metadata": {},
   "source": [
    "# 1 data preprocessing"
   ]
  },
  {
   "attachments": {},
   "cell_type": "markdown",
   "id": "cb8b4bdf",
   "metadata": {},
   "source": [
    "## 1.1  load input data from ECB databases"
   ]
  },
  {
   "cell_type": "code",
   "execution_count": null,
   "id": "15668faf",
   "metadata": {},
   "outputs": [],
   "source": [
    "# get df_mmsr unsecured (used for deposits time series)\n",
    "df_mmsr_unsecured = pd.read_stata(\"path-to-stata\") # ajouter le path\n",
    "\n",
    "# get df_mmsr secured (used for transaction view)\n",
    "df_mmsr_secured = pd.read_stata(\"path-to-stata\") # ajouter le path\n",
    "\n",
    "# get the mmsr transaction view directly\n",
    "df_exposures = pd.read_stata(\"path-to-stata\") # ajouter le path\n",
    "\n",
    "# get finrep data\n",
    "df_finrep = pd.read_stata(\"path-to-stata\") # ajouter le path\n",
    "df_finrep.rename(columns=dm.dic_finrep_columns, inplace=True) # change the columns names "
   ]
  },
  {
   "attachments": {},
   "cell_type": "markdown",
   "id": "d35757d7",
   "metadata": {},
   "source": [
    "## 1.2 build fake data (optional)"
   ]
  },
  {
   "cell_type": "code",
   "execution_count": null,
   "id": "da4a7b17",
   "metadata": {},
   "outputs": [],
   "source": [
    "nb_lines = int(1e6) # 1 million lines\n",
    "\n",
    "# get df_mmsr unsecured (used for deposits time series)\n",
    "df_mmsr_unsecured = ef.get_df_mmsr_unsecured(nb_tran=nb_lines,freq=\"10min\")\n",
    "\n",
    "# get df_mmsr secured (used for transaction view)\n",
    "df_mmsr_secured = ef.get_df_mmsr_secured(nb_tran=nb_lines,freq=\"10min\", holidays=dm.holidays)\n",
    "\n",
    "# get the mmsr exposure view directly\n",
    "df_exposures = ef.get_df_exposures(lines=int(1e5),freq=\"5h\")\n",
    "\n",
    "# build fake finrep data\n",
    "df_finrep = ef.get_df_finrep()"
   ]
  },
  {
   "attachments": {},
   "cell_type": "markdown",
   "id": "38e308f6",
   "metadata": {},
   "source": [
    "## 1.3 preprocessing"
   ]
  },
  {
   "cell_type": "code",
   "execution_count": 3,
   "id": "02f27bef",
   "metadata": {},
   "outputs": [
    {
     "name": "stdout",
     "output_type": "stream",
     "text": [
      "get dic_rev_repo_exp_adj\n"
     ]
    },
    {
     "name": "stderr",
     "output_type": "stream",
     "text": [
      "100%|██████████| 100000/100000 [00:32<00:00, 3032.56it/s]\n"
     ]
    },
    {
     "name": "stdout",
     "output_type": "stream",
     "text": [
      "get dic_arr_binary_adj\n",
      "get dic_dashed_trajectory\n"
     ]
    }
   ],
   "source": [
    "# get dic reverse repo exp adj history\n",
    "dic_rev_repo_exp_adj = ep.get_dic_rev_repo_exp_adj_from_exposures(df_exposures=df_exposures,path=path, plot_period=plot_period)\n",
    "\n",
    "# get aggregated adjency matrices\n",
    "dic_arr_binary_adj = ep.get_dic_arr_binary_adj(dic_rev_repo_exp_adj=dic_rev_repo_exp_adj,path=path, plot_period=plot_period)\n",
    "\n",
    "# get dic dashed trajectory \n",
    "dic_dashed_trajectory = ep.get_dic_dashed_trajectory(df_finrep)"
   ]
  },
  {
   "cell_type": "code",
   "execution_count": 4,
   "id": "7e56a43b",
   "metadata": {},
   "outputs": [
    {
     "name": "stdout",
     "output_type": "stream",
     "text": [
      "get dic_dashed_trajectory\n"
     ]
    }
   ],
   "source": [
    "# pickle (faster)\n",
    "dic_arr_binary_adj = ep.load_dic_arr_binary_adj(path=path)\n",
    "dic_rev_repo_exp_adj = ep.load_dic_rev_repo_exp_adj(path=path)\n",
    "dic_dashed_trajectory = ep.get_dic_dashed_trajectory(df_finrep)"
   ]
  },
  {
   "attachments": {},
   "cell_type": "markdown",
   "id": "27ae698a",
   "metadata": {},
   "source": [
    "# 2 metrics measurement"
   ]
  },
  {
   "cell_type": "code",
   "execution_count": 4,
   "id": "bfc69fc2",
   "metadata": {},
   "outputs": [],
   "source": [
    "os.makedirs(f\"{path}accounting_view/\", exist_ok=True)"
   ]
  },
  {
   "attachments": {},
   "cell_type": "markdown",
   "id": "8101911f",
   "metadata": {},
   "source": [
    "### 2.1.2 accounting items"
   ]
  },
  {
   "attachments": {},
   "cell_type": "markdown",
   "id": "c8bfb75d",
   "metadata": {},
   "source": [
    "#### A - static, distribution across banks, at several point in time "
   ]
  },
  {
   "cell_type": "code",
   "execution_count": null,
   "id": "c7fd44b3",
   "metadata": {},
   "outputs": [],
   "source": [
    "days = list(dic_rev_repo_exp_adj.keys())\n",
    "plot_days = fct.list_intersection(days, dic_dashed_trajectory.keys())\n",
    "bank_items = list(dic_dashed_trajectory.values())[0].columns\n",
    "\n",
    "# get df_powerlaw\n",
    "df_powerlaw = em.get_powerlaw(\n",
    "            dic_dashed_trajectory=dic_dashed_trajectory,\n",
    "            days=days,\n",
    "            plot_days=plot_days,\n",
    "            plot_period=plot_period,\n",
    "            path=f\"{path}accounting_view/power_law/\"\n",
    "        )\n",
    "\n",
    "# plot each powerlaw charts \n",
    "gx.plot_powerlaw(\n",
    "            df_network_trajectory=df_powerlaw,\n",
    "            days=days,\n",
    "            plot_period=plot_period,\n",
    "            path=f\"{path}accounting_view/\",\n",
    "            plot_days=plot_days,\n",
    "        )\n",
    "\n",
    "# plot p-values across time \n",
    "gx.plot_network_trajectory(\n",
    "                df=df_powerlaw,\n",
    "                cols=[f\"powerlaw p-value {bank_item}\"  for bank_item in bank_items],\n",
    "                file_name=f\"{path}accounting_view/power_law/powerlaw_pvalue.pdf\",\n",
    "            )\n",
    "\n",
    "# plot alpha of power laws across time \n",
    "gx.plot_network_trajectory(\n",
    "                df=df_powerlaw,\n",
    "                cols=[f\"powerlaw alpha {bank_item}\"  for bank_item in bank_items],\n",
    "                file_name=f\"{path}accounting_view/power_law/powerlaw_alpha.pdf\",\n",
    "            )"
   ]
  },
  {
   "attachments": {},
   "cell_type": "markdown",
   "id": "7b85896f",
   "metadata": {},
   "source": [
    "#### B - dynamic, distribution across time"
   ]
  },
  {
   "cell_type": "code",
   "execution_count": null,
   "id": "19f0318a",
   "metadata": {},
   "outputs": [],
   "source": [
    "# distribution of deposits relative variation across time for each single bank\n",
    "df_deposits_variations_by_bank = ep.get_df_deposits_variations_by_bank(df_mmsr_unsecured, dic_dashed_trajectory, f\"{path}/accounting_view/deposits/\")\n",
    "\n",
    "df = df_deposits_variations_by_bank[df_deposits_variations_by_bank>0]\n",
    "em.run_n_plot_powerlaw(df,f\"{path}accounting_view/deposits/per_bank/positive/\")\n",
    "\n",
    "df = -df_deposits_variations_by_bank[df_deposits_variations_by_bank<0]\n",
    "em.run_n_plot_powerlaw(df,f\"{path}accounting_view/deposits/per_bank/negative/\")"
   ]
  },
  {
   "attachments": {},
   "cell_type": "markdown",
   "id": "82f6c566",
   "metadata": {},
   "source": [
    "#### C - mixed view across time and banks"
   ]
  },
  {
   "cell_type": "code",
   "execution_count": null,
   "id": "9f0875d2",
   "metadata": {},
   "outputs": [],
   "source": [
    "# distribution of deposits relative variation across time for each single bank\n",
    "df_mmsr_unsecured = ef.get_df_mmsr_unsecured(10000,freq=\"10min\")\n",
    "df_deposits_variations = ep.get_df_deposits_variation(df_mmsr_unsecured, dic_dashed_trajectory, f\"{path}/accounting_view/deposits/\")\n",
    "\n",
    "df = df_deposits_variations[df_deposits_variations>0]\n",
    "em.run_n_plot_powerlaw(df,f\"{path}accounting_view/deposits/positive/\")\n",
    "\n",
    "df = -df_deposits_variations[df_deposits_variations<0]\n",
    "em.run_n_plot_powerlaw(df,f\"{path}accounting_view/deposits/negative/\")"
   ]
  },
  {
   "attachments": {},
   "cell_type": "markdown",
   "id": "179a84a8",
   "metadata": {},
   "source": [
    "## 2.2. exposure view"
   ]
  },
  {
   "cell_type": "code",
   "execution_count": 4,
   "id": "e3be6955",
   "metadata": {},
   "outputs": [],
   "source": [
    "os.makedirs(f\"{path}exposure_view/\", exist_ok=True)"
   ]
  },
  {
   "attachments": {},
   "cell_type": "markdown",
   "id": "d20f818d",
   "metadata": {},
   "source": [
    "### 2.2.1 jaccard"
   ]
  },
  {
   "cell_type": "code",
   "execution_count": 11,
   "id": "af67a20c",
   "metadata": {},
   "outputs": [
    {
     "name": "stdout",
     "output_type": "stream",
     "text": [
      "get jaccard\n"
     ]
    },
    {
     "name": "stderr",
     "output_type": "stream",
     "text": [
      "100%|██████████| 20833/20833 [00:04<00:00, 4288.08it/s]\n"
     ]
    }
   ],
   "source": [
    "days = list(dic_rev_repo_exp_adj.keys())\n",
    "\n",
    "# get jaccard\n",
    "df_jaccard = em.get_rev_repo_exposure_stats(dic_arr_binary_adj, days, path=path)\n",
    "gx.plot_network_trajectory(\n",
    "            df=df_jaccard,\n",
    "            cols=df_jaccard.columns,\n",
    "            file_name=f\"{path}exposure_view/jaccard_index.pdf\")"
   ]
  },
  {
   "attachments": {},
   "cell_type": "markdown",
   "id": "62a3fac4",
   "metadata": {},
   "source": [
    "### 2.2.2 density"
   ]
  },
  {
   "cell_type": "code",
   "execution_count": 12,
   "id": "758c5661",
   "metadata": {},
   "outputs": [
    {
     "name": "stdout",
     "output_type": "stream",
     "text": [
      "get density\n"
     ]
    },
    {
     "name": "stderr",
     "output_type": "stream",
     "text": [
      "100%|██████████| 20833/20833 [00:04<00:00, 4385.73it/s]\n"
     ]
    }
   ],
   "source": [
    "days = list(dic_rev_repo_exp_adj.keys())\n",
    "\n",
    "# get density\n",
    "df_density = em.get_density(dic_arr_binary_adj, days, path=path)\n",
    "gx.plot_network_trajectory(\n",
    "            df=df_density,\n",
    "            cols=df_density.columns,\n",
    "            file_name=f\"{path}exposure_view/network_density.pdf\",\n",
    "        )"
   ]
  },
  {
   "attachments": {},
   "cell_type": "markdown",
   "id": "848fc0f1",
   "metadata": {},
   "source": [
    "### 2.2.3 degree distribution  (static)"
   ]
  },
  {
   "cell_type": "code",
   "execution_count": 13,
   "id": "e1538f0b",
   "metadata": {},
   "outputs": [
    {
     "name": "stdout",
     "output_type": "stream",
     "text": [
      "get degree distribution\n"
     ]
    },
    {
     "name": "stderr",
     "output_type": "stream",
     "text": [
      "100%|██████████| 20834/20834 [00:10<00:00, 1921.16it/s]\n"
     ]
    }
   ],
   "source": [
    "days = list(dic_rev_repo_exp_adj.keys())\n",
    "\n",
    "# get degree distribution\n",
    "dic_in_degree, dic_out_degree, dic_degree = em.get_degree_distribution(dic_arr_binary_adj, path=f\"{path}exposure_view/degree_distribution/\")\n",
    "gx.plot_degree_distribution(dic_in_degree,\n",
    "    dic_out_degree,\n",
    "    days,\n",
    "    plot_period,\n",
    "    f\"{path}exposure_view/degree_distribution/\")\n"
   ]
  },
  {
   "attachments": {},
   "cell_type": "markdown",
   "id": "c03fafc7",
   "metadata": {},
   "source": [
    "### 2.2.4 degree stats"
   ]
  },
  {
   "cell_type": "code",
   "execution_count": 14,
   "id": "c3bc10a5",
   "metadata": {},
   "outputs": [
    {
     "name": "stdout",
     "output_type": "stream",
     "text": [
      "get degree stats\n"
     ]
    },
    {
     "name": "stderr",
     "output_type": "stream",
     "text": [
      "100%|██████████| 20833/20833 [00:15<00:00, 1357.74it/s]\n"
     ]
    }
   ],
   "source": [
    "days = list(dic_rev_repo_exp_adj.keys())\n",
    "\n",
    "# get av. degree\n",
    "df_degree_stats = em.get_degree_stats(dic_degree, days, path=path)\n",
    "gx.plot_network_trajectory(\n",
    "            df=df_degree_stats,\n",
    "            cols=df_degree_stats.columns,\n",
    "            file_name=f\"{path}exposure_view/degree_stats.pdf\",\n",
    "        )"
   ]
  },
  {
   "attachments": {},
   "cell_type": "markdown",
   "id": "211bf04f",
   "metadata": {},
   "source": [
    "### 2.2.5 degree per asset"
   ]
  },
  {
   "cell_type": "code",
   "execution_count": 15,
   "id": "f8f633a4",
   "metadata": {},
   "outputs": [],
   "source": [
    "days = list(dic_rev_repo_exp_adj.keys())\n",
    "bank_ids = list(dic_rev_repo_exp_adj.values())[0].index\n",
    "\n",
    "# select the days and banks (common between the 2 lists)\n",
    "finrep_days = list(df_finrep[\"date\"])\n",
    "finrep_bank_ids = list(set(df_finrep[\"lei\"]))\n",
    "plot_days = fct.list_intersection(days, finrep_days)\n",
    "\n",
    "# plot\n",
    "gx.plot_degree_per_asset(\n",
    "    dic_dashed_trajectory,\n",
    "    dic_degree,\n",
    "    bank_ids,\n",
    "    days,\n",
    "    plot_period,\n",
    "    f\"{path}exposure_view/degree_per_asset/\",\n",
    "    plot_days=plot_days,\n",
    "    finrep_bank_ids=finrep_bank_ids)"
   ]
  },
  {
   "attachments": {},
   "cell_type": "markdown",
   "id": "62af12bc",
   "metadata": {},
   "source": [
    "### 2.2.6 network plots (static)"
   ]
  },
  {
   "cell_type": "code",
   "execution_count": 16,
   "id": "86ba13d3",
   "metadata": {},
   "outputs": [],
   "source": [
    "days = list(dic_rev_repo_exp_adj.keys())\n",
    "bank_ids = list(list(dic_rev_repo_exp_adj.values())[0].index)\n",
    "arr_rev_repo_exp_adj = ep.convert_dic_to_array(dic_rev_repo_exp_adj)\n",
    "plot_days = fct.list_intersection(days, dic_dashed_trajectory.keys())\n",
    "\n",
    "# plot the reverse repo network\n",
    "gx.plot_weighted_adj_network(\n",
    "    arr_rev_repo_exp_adj,\n",
    "    dic_dashed_trajectory,\n",
    "    days,\n",
    "    plot_period,\n",
    "    f\"{path}exposure_view/weighted_adj_network/\",\n",
    "    \"reverse repo\",\n",
    "    bank_ids=bank_ids,\n",
    "    plot_days=plot_days,\n",
    ")"
   ]
  },
  {
   "attachments": {},
   "cell_type": "markdown",
   "id": "3bc2c133",
   "metadata": {},
   "source": [
    "### 2.2.6 core periphery (static)"
   ]
  },
  {
   "cell_type": "code",
   "execution_count": null,
   "id": "394414ed",
   "metadata": {},
   "outputs": [],
   "source": [
    "arr_rev_repo_exp_adj = ep.convert_dic_to_array(dic_rev_repo_exp_adj)\n",
    "days = list(dic_rev_repo_exp_adj.keys())\n",
    "\n",
    "# get df_cpnet\n",
    "df_cpnet = em.get_cpnet(\n",
    "                dic_arr_binary_adj=dic_arr_binary_adj,\n",
    "                arr_rev_repo_exp_adj=arr_rev_repo_exp_adj,\n",
    "                days=days,\n",
    "                plot_period=plot_period,\n",
    "                path=f\"{path}exposure_view/core-periphery/\",\n",
    "            )\n",
    "\n",
    "# Plot the core-periphery struture\n",
    "gx.plot_cpnet(\n",
    "                df_network_trajectory=df_cpnet,\n",
    "                dic_arr_binary_adj=dic_arr_binary_adj,\n",
    "                arr_rev_repo_exp_adj=arr_rev_repo_exp_adj,\n",
    "                days=days,\n",
    "                plot_period=plot_period,\n",
    "                path=f\"{path}exposure_view/\",\n",
    "            )\n",
    "\n",
    "# # read csv (faster)\n",
    "# df_cpnet = pd.read_csv(f\"{path}exposure_view/core-periphery/df_cpnet.csv\", index_col=0)\n",
    "# df_cpnet.index = pd.to_datetime(df_cpnet.index)\n",
    "\n",
    "# plot the time evolution of p-values for each aggregation level\n",
    "for fig in par.figs_cpnet_pvalues:\n",
    "    gx.plot_network_trajectory(\n",
    "            df=df_cpnet,\n",
    "            cols=fig[1],\n",
    "            file_name=f\"{path}{fig[0]}.pdf\",\n",
    "        )"
   ]
  },
  {
   "attachments": {},
   "cell_type": "markdown",
   "id": "d300d2ef",
   "metadata": {},
   "source": [
    "## 2.3 transaction view"
   ]
  },
  {
   "cell_type": "code",
   "execution_count": null,
   "id": "aa4a584d",
   "metadata": {},
   "outputs": [],
   "source": [
    "os.makedirs(f\"{path}transaction_view/\", exist_ok=True)"
   ]
  },
  {
   "attachments": {},
   "cell_type": "markdown",
   "id": "a6f1ac6e",
   "metadata": {},
   "source": [
    "### 2.3.1 av network"
   ]
  },
  {
   "attachments": {},
   "cell_type": "markdown",
   "id": "6b2f3b55",
   "metadata": {},
   "source": [
    "**MMSR reporting instructions for evergreen repos**\n",
    "\n",
    "The reporting of evergreen repos is defined by the MMSR reporting instruction, paragraph 3.1 https://www.ecb.europa.eu/stats/money/mmss/shared/files/MMSR-Reporting_instructions.pdf\n",
    "\n",
    "Evergreen are reported with the notice period defined as the maturity date and rolled over every day (reporting a new line in MMSR each day) until the product is cancelled.\n",
    "\n",
    "To detect an evergreen we flag all transactions that are repeted across several days with the exact same counterparties, nominal amount and tenor."
   ]
  },
  {
   "cell_type": "code",
   "execution_count": 5,
   "id": "066b8aa8",
   "metadata": {},
   "outputs": [
    {
     "data": {
      "text/html": [
       "<div>\n",
       "<style scoped>\n",
       "    .dataframe tbody tr th:only-of-type {\n",
       "        vertical-align: middle;\n",
       "    }\n",
       "\n",
       "    .dataframe tbody tr th {\n",
       "        vertical-align: top;\n",
       "    }\n",
       "\n",
       "    .dataframe thead th {\n",
       "        text-align: right;\n",
       "    }\n",
       "</style>\n",
       "<table border=\"1\" class=\"dataframe\">\n",
       "  <thead>\n",
       "    <tr style=\"text-align: right;\">\n",
       "      <th></th>\n",
       "      <th>owner_bank_id</th>\n",
       "      <th>bank_id</th>\n",
       "      <th>trans_id</th>\n",
       "      <th>amount</th>\n",
       "      <th>start_step</th>\n",
       "      <th>tenor</th>\n",
       "      <th>status</th>\n",
       "    </tr>\n",
       "  </thead>\n",
       "  <tbody>\n",
       "    <tr>\n",
       "      <th>0</th>\n",
       "      <td>bank_1</td>\n",
       "      <td>bank_6</td>\n",
       "      <td>0</td>\n",
       "      <td>85.795266</td>\n",
       "      <td>0</td>\n",
       "      <td>13</td>\n",
       "      <td>False</td>\n",
       "    </tr>\n",
       "    <tr>\n",
       "      <th>1</th>\n",
       "      <td>bank_2</td>\n",
       "      <td>fund_1</td>\n",
       "      <td>1</td>\n",
       "      <td>1.903799</td>\n",
       "      <td>0</td>\n",
       "      <td>30</td>\n",
       "      <td>False</td>\n",
       "    </tr>\n",
       "    <tr>\n",
       "      <th>2</th>\n",
       "      <td>bank_6</td>\n",
       "      <td>bank_10</td>\n",
       "      <td>2</td>\n",
       "      <td>32.905824</td>\n",
       "      <td>0</td>\n",
       "      <td>17</td>\n",
       "      <td>False</td>\n",
       "    </tr>\n",
       "    <tr>\n",
       "      <th>4</th>\n",
       "      <td>bank_3</td>\n",
       "      <td>bank_1</td>\n",
       "      <td>4</td>\n",
       "      <td>12.285778</td>\n",
       "      <td>0</td>\n",
       "      <td>34</td>\n",
       "      <td>False</td>\n",
       "    </tr>\n",
       "    <tr>\n",
       "      <th>6</th>\n",
       "      <td>bank_8</td>\n",
       "      <td>bank_10</td>\n",
       "      <td>6</td>\n",
       "      <td>78.285520</td>\n",
       "      <td>0</td>\n",
       "      <td>4</td>\n",
       "      <td>False</td>\n",
       "    </tr>\n",
       "    <tr>\n",
       "      <th>...</th>\n",
       "      <td>...</td>\n",
       "      <td>...</td>\n",
       "      <td>...</td>\n",
       "      <td>...</td>\n",
       "      <td>...</td>\n",
       "      <td>...</td>\n",
       "      <td>...</td>\n",
       "    </tr>\n",
       "    <tr>\n",
       "      <th>1618137</th>\n",
       "      <td>bank_9</td>\n",
       "      <td>fund_4</td>\n",
       "      <td>[52667, 52667, 52667, 52667, 52667, 52667, 526...</td>\n",
       "      <td>99.955551</td>\n",
       "      <td>260</td>\n",
       "      <td>18</td>\n",
       "      <td>False</td>\n",
       "    </tr>\n",
       "    <tr>\n",
       "      <th>1618138</th>\n",
       "      <td>bank_9</td>\n",
       "      <td>fund_4</td>\n",
       "      <td>[52667, 52667, 52667, 52667, 52667, 52667, 526...</td>\n",
       "      <td>99.955551</td>\n",
       "      <td>257</td>\n",
       "      <td>18</td>\n",
       "      <td>False</td>\n",
       "    </tr>\n",
       "    <tr>\n",
       "      <th>1618139</th>\n",
       "      <td>bank_9</td>\n",
       "      <td>fund_4</td>\n",
       "      <td>[52667, 52667, 52667, 52667, 52667, 52667, 526...</td>\n",
       "      <td>99.955551</td>\n",
       "      <td>261</td>\n",
       "      <td>18</td>\n",
       "      <td>False</td>\n",
       "    </tr>\n",
       "    <tr>\n",
       "      <th>1618140</th>\n",
       "      <td>bank_9</td>\n",
       "      <td>fund_4</td>\n",
       "      <td>[52667, 52667, 52667, 52667, 52667, 52667, 526...</td>\n",
       "      <td>99.955551</td>\n",
       "      <td>257</td>\n",
       "      <td>18</td>\n",
       "      <td>False</td>\n",
       "    </tr>\n",
       "    <tr>\n",
       "      <th>1618141</th>\n",
       "      <td>bank_9</td>\n",
       "      <td>fund_4</td>\n",
       "      <td>[52667, 52667, 52667, 52667, 52667, 52667, 526...</td>\n",
       "      <td>99.955551</td>\n",
       "      <td>261</td>\n",
       "      <td>19</td>\n",
       "      <td>False</td>\n",
       "    </tr>\n",
       "  </tbody>\n",
       "</table>\n",
       "<p>2273688 rows × 7 columns</p>\n",
       "</div>"
      ],
      "text/plain": [
       "        owner_bank_id  bank_id  \\\n",
       "0              bank_1   bank_6   \n",
       "1              bank_2   fund_1   \n",
       "2              bank_6  bank_10   \n",
       "4              bank_3   bank_1   \n",
       "6              bank_8  bank_10   \n",
       "...               ...      ...   \n",
       "1618137        bank_9   fund_4   \n",
       "1618138        bank_9   fund_4   \n",
       "1618139        bank_9   fund_4   \n",
       "1618140        bank_9   fund_4   \n",
       "1618141        bank_9   fund_4   \n",
       "\n",
       "                                                  trans_id     amount  \\\n",
       "0                                                        0  85.795266   \n",
       "1                                                        1   1.903799   \n",
       "2                                                        2  32.905824   \n",
       "4                                                        4  12.285778   \n",
       "6                                                        6  78.285520   \n",
       "...                                                    ...        ...   \n",
       "1618137  [52667, 52667, 52667, 52667, 52667, 52667, 526...  99.955551   \n",
       "1618138  [52667, 52667, 52667, 52667, 52667, 52667, 526...  99.955551   \n",
       "1618139  [52667, 52667, 52667, 52667, 52667, 52667, 526...  99.955551   \n",
       "1618140  [52667, 52667, 52667, 52667, 52667, 52667, 526...  99.955551   \n",
       "1618141  [52667, 52667, 52667, 52667, 52667, 52667, 526...  99.955551   \n",
       "\n",
       "        start_step tenor  status  \n",
       "0                0    13   False  \n",
       "1                0    30   False  \n",
       "2                0    17   False  \n",
       "4                0    34   False  \n",
       "6                0     4   False  \n",
       "...            ...   ...     ...  \n",
       "1618137        260    18   False  \n",
       "1618138        257    18   False  \n",
       "1618139        261    18   False  \n",
       "1618140        257    18   False  \n",
       "1618141        261    19   False  \n",
       "\n",
       "[2273688 rows x 7 columns]"
      ]
     },
     "execution_count": 5,
     "metadata": {},
     "output_type": "execute_result"
    }
   ],
   "source": [
    "# get df_rev_repo_trans\n",
    "df_rev_repo_trans = ep.get_df_rev_repo_trans(df_mmsr_secured,holidays=dm.holidays, path=path)\n",
    "df_rev_repo_trans "
   ]
  },
  {
   "cell_type": "code",
   "execution_count": 9,
   "id": "92e202d5",
   "metadata": {},
   "outputs": [
    {
     "name": "stdout",
     "output_type": "stream",
     "text": [
      "get transaction stats av. network\n"
     ]
    },
    {
     "name": "stderr",
     "output_type": "stream",
     "text": [
      "100%|██████████| 199/199 [00:53<00:00,  3.71it/s]\n"
     ]
    }
   ],
   "source": [
    "days = list(dic_rev_repo_exp_adj.keys())[:200]\n",
    "df_transaction_stats = em.get_transaction_stats(\n",
    "            df_rev_repo_trans=df_rev_repo_trans,\n",
    "            extension=\" av. network\",\n",
    "            days=days,\n",
    "            path=f\"{path}transaction_view/\",\n",
    "        )\n",
    "\n",
    "\n",
    "# plot the time evolution of the av network trans level metrics\n",
    "for fig in [par.fig_repo_transactions_maturity_av_network, par.fig_repo_transactions_notional_av_network, par.fig_number_repo_transactions_av_network]:\n",
    "    gx.plot_network_trajectory(\n",
    "            df=df_transaction_stats,\n",
    "            cols=fig[1],\n",
    "            file_name=f\"{path}{fig[0]}.pdf\",\n",
    "        )\n"
   ]
  },
  {
   "attachments": {},
   "cell_type": "markdown",
   "id": "4c2702a9",
   "metadata": {},
   "source": [
    "# 3 tools"
   ]
  },
  {
   "attachments": {},
   "cell_type": "markdown",
   "id": "15562a4a",
   "metadata": {},
   "source": [
    "## 3.1 examples of density / histogram in log - log"
   ]
  },
  {
   "attachments": {},
   "cell_type": "markdown",
   "id": "de8082a1",
   "metadata": {},
   "source": [
    "### pareto law"
   ]
  },
  {
   "cell_type": "code",
   "execution_count": 22,
   "id": "d8229ad9",
   "metadata": {},
   "outputs": [
    {
     "data": {
      "image/png": "[encoded data removed]",
      "text/plain": [
       "<Figure size 800x400 with 1 Axes>"
      ]
     },
     "metadata": {},
     "output_type": "display_data"
    }
   ],
   "source": [
    "import numpy as np\n",
    "import matplotlib.pyplot as plt\n",
    "import seaborn as sns\n",
    "\n",
    "# Generate random data\n",
    "x = np.random.pareto(3,size=100000)\n",
    "\n",
    "# Compute the absolute value and sign of the data\n",
    "abs_x = np.abs(x)\n",
    "sign_x = np.sign(x)\n",
    "\n",
    "# Set up the figure\n",
    "fig, ax = plt.subplots(figsize=(8, 4))\n",
    "\n",
    "# Plot the KDE on a log scale with the transformed data\n",
    "sns.kdeplot(x.clip(0.5,5), ax=ax, cut=0, fill=True)\n",
    "ax.set_xscale('log')\n",
    "\n",
    "# Set the y-axis to log scale\n",
    "ax.set_yscale('log')\n",
    "\n",
    "# Set axis labels\n",
    "ax.set_xlabel('value')\n",
    "ax.set_ylabel('density')\n",
    "\n",
    "# Show the plot\n",
    "plt.show()"
   ]
  },
  {
   "attachments": {},
   "cell_type": "markdown",
   "id": "e8a63f91",
   "metadata": {},
   "source": [
    "### student law"
   ]
  },
  {
   "cell_type": "code",
   "execution_count": 23,
   "id": "ff021268",
   "metadata": {},
   "outputs": [
    {
     "data": {
      "image/png": "[encoded data removed]",
      "text/plain": [
       "<Figure size 800x400 with 1 Axes>"
      ]
     },
     "metadata": {},
     "output_type": "display_data"
    }
   ],
   "source": [
    "import numpy as np\n",
    "import matplotlib.pyplot as plt\n",
    "import seaborn as sns\n",
    "\n",
    "# Generate random data\n",
    "x = np.random.standard_t(1,size=100000)\n",
    "\n",
    "# Compute the absolute value and sign of the data\n",
    "abs_x = np.abs(x)\n",
    "sign_x = np.sign(x)\n",
    "\n",
    "# Set up the figure\n",
    "fig, ax = plt.subplots(figsize=(8, 4))\n",
    "\n",
    "# Plot the KDE on a log scale with the transformed data\n",
    "sns.kdeplot(x.clip(-10,10), ax=ax, fill=True, cut=0)\n",
    "ax.set_xscale('symlog', linthresh=0.1)\n",
    "\n",
    "# Set the y-axis to log scale\n",
    "ax.set_yscale('log')\n",
    "\n",
    "# Set axis labels\n",
    "ax.set_xlabel('Value')\n",
    "ax.set_ylabel('Density')\n",
    "\n",
    "# Show the plot\n",
    "plt.show()"
   ]
  },
  {
   "attachments": {},
   "cell_type": "markdown",
   "id": "0ae2e695",
   "metadata": {},
   "source": [
    "## 3.2 multiple histogram on the same plot"
   ]
  },
  {
   "cell_type": "code",
   "execution_count": 24,
   "id": "ee9801d6",
   "metadata": {},
   "outputs": [
    {
     "data": {
      "image/png": "[encoded data removed]",
      "text/plain": [
       "<Figure size 640x480 with 2 Axes>"
      ]
     },
     "metadata": {},
     "output_type": "display_data"
    }
   ],
   "source": [
    "from matplotlib import pyplot as plt\n",
    "\n",
    "fig, (ax1,ax2) = plt.subplots(1,2)\n",
    "pos = 0\n",
    "width = 0.2\n",
    "for  i in range(10):\n",
    "    binary_adj = np.random.randint(0,2,(10,10))\n",
    "    bank_network = nx.from_numpy_array(\n",
    "                binary_adj,\n",
    "                parallel_edges=False,\n",
    "                create_using=nx.DiGraph,\n",
    "            )  # first define a networkx object.\n",
    "    ar_in_degree = np.array(bank_network.in_degree())[:,1]\n",
    "    hist = np.unique(ar_in_degree, return_counts=True)\n",
    "    ax1.bar(hist[0] + pos, hist[1], width=0.01)\n",
    "    ax2.bar(hist[0] + pos, hist[1], width=0.01)\n",
    "    pos = pos +width +0.1\n",
    "\n"
   ]
  },
  {
   "attachments": {},
   "cell_type": "markdown",
   "id": "1f3b28eb",
   "metadata": {},
   "source": [
    "## 3.3 power low fitting"
   ]
  },
  {
   "cell_type": "code",
   "execution_count": 25,
   "id": "a9113cea",
   "metadata": {},
   "outputs": [
    {
     "name": "stderr",
     "output_type": "stream",
     "text": [
      "Calculating best minimal value for power law fit\n",
      "/mnt/live/user/vlecoz/conda_env/money_markets/lib/python3.8/site-packages/powerlaw.py:699: RuntimeWarning: invalid value encountered in divide\n",
      "  (CDF_diff**2) /\n"
     ]
    },
    {
     "name": "stdout",
     "output_type": "stream",
     "text": [
      "2.739898963091264\n",
      "0.850901796570982\n"
     ]
    },
    {
     "data": {
      "text/plain": [
       "<AxesSubplot: >"
      ]
     },
     "execution_count": 25,
     "metadata": {},
     "output_type": "execute_result"
    },
    {
     "data": {
      "image/png": "[encoded data removed]",
      "text/plain": [
       "<Figure size 640x480 with 1 Axes>"
      ]
     },
     "metadata": {},
     "output_type": "display_data"
    }
   ],
   "source": [
    "# fitting\n",
    "import powerlaw\n",
    "import numpy as np\n",
    "sr_data = np.random.pareto(3,size=1000) # data can be list or numpy array\n",
    "powerlaw_fit = powerlaw.Fit(sr_data)\n",
    "print(powerlaw_fit.power_law.alpha)\n",
    "print(powerlaw_fit.power_law.xmin)\n",
    "R, p = powerlaw_fit.distribution_compare('power_law', 'exponential')\n",
    "fig2 = powerlaw_fit.plot_ccdf(color = \"r\", linewidth = 2)\n",
    "powerlaw_fit.power_law.plot_ccdf(color = \"r\", linestyle = \"--\", ax = fig2)\n",
    "powerlaw_fit.lognormal.plot_ccdf(ax=fig2)\n",
    "powerlaw_fit.exponential.plot_ccdf(ax=fig2)"
   ]
  },
  {
   "cell_type": "markdown",
   "id": "dd635593",
   "metadata": {},
   "source": [
    "## 3.4 build the calendar"
   ]
  },
  {
   "cell_type": "code",
   "execution_count": null,
   "id": "15789f6b",
   "metadata": {},
   "outputs": [
    {
     "data": {
      "text/plain": [
       "[datetime.date(2000, 1, 1),\n",
       " datetime.date(2000, 4, 21),\n",
       " datetime.date(2000, 4, 24),\n",
       " datetime.date(2000, 5, 1),\n",
       " datetime.date(2000, 12, 25),\n",
       " datetime.date(2000, 12, 26),\n",
       " datetime.date(2001, 1, 1),\n",
       " datetime.date(2001, 4, 13),\n",
       " datetime.date(2001, 4, 16),\n",
       " datetime.date(2001, 5, 1),\n",
       " datetime.date(2001, 12, 25),\n",
       " datetime.date(2001, 12, 26),\n",
       " datetime.date(2002, 1, 1),\n",
       " datetime.date(2002, 3, 29),\n",
       " datetime.date(2002, 4, 1),\n",
       " datetime.date(2002, 5, 1),\n",
       " datetime.date(2002, 12, 25),\n",
       " datetime.date(2002, 12, 26),\n",
       " datetime.date(2003, 1, 1),\n",
       " datetime.date(2003, 4, 18),\n",
       " datetime.date(2003, 4, 21),\n",
       " datetime.date(2003, 5, 1),\n",
       " datetime.date(2003, 12, 25),\n",
       " datetime.date(2003, 12, 26),\n",
       " datetime.date(2004, 1, 1),\n",
       " datetime.date(2004, 4, 9),\n",
       " datetime.date(2004, 4, 12),\n",
       " datetime.date(2004, 5, 1),\n",
       " datetime.date(2004, 12, 25),\n",
       " datetime.date(2004, 12, 26),\n",
       " datetime.date(2005, 1, 1),\n",
       " datetime.date(2005, 3, 25),\n",
       " datetime.date(2005, 3, 28),\n",
       " datetime.date(2005, 5, 1),\n",
       " datetime.date(2005, 12, 25),\n",
       " datetime.date(2005, 12, 26),\n",
       " datetime.date(2006, 1, 1),\n",
       " datetime.date(2006, 4, 14),\n",
       " datetime.date(2006, 4, 17),\n",
       " datetime.date(2006, 5, 1),\n",
       " datetime.date(2006, 12, 25),\n",
       " datetime.date(2006, 12, 26),\n",
       " datetime.date(2007, 1, 1),\n",
       " datetime.date(2007, 4, 6),\n",
       " datetime.date(2007, 4, 9),\n",
       " datetime.date(2007, 5, 1),\n",
       " datetime.date(2007, 12, 25),\n",
       " datetime.date(2007, 12, 26),\n",
       " datetime.date(2008, 1, 1),\n",
       " datetime.date(2008, 3, 21),\n",
       " datetime.date(2008, 3, 24),\n",
       " datetime.date(2008, 5, 1),\n",
       " datetime.date(2008, 12, 25),\n",
       " datetime.date(2008, 12, 26),\n",
       " datetime.date(2009, 1, 1),\n",
       " datetime.date(2009, 4, 10),\n",
       " datetime.date(2009, 4, 13),\n",
       " datetime.date(2009, 5, 1),\n",
       " datetime.date(2009, 12, 25),\n",
       " datetime.date(2009, 12, 26),\n",
       " datetime.date(2010, 1, 1),\n",
       " datetime.date(2010, 4, 2),\n",
       " datetime.date(2010, 4, 5),\n",
       " datetime.date(2010, 5, 1),\n",
       " datetime.date(2010, 12, 25),\n",
       " datetime.date(2010, 12, 26),\n",
       " datetime.date(2011, 1, 1),\n",
       " datetime.date(2011, 4, 22),\n",
       " datetime.date(2011, 4, 25),\n",
       " datetime.date(2011, 5, 1),\n",
       " datetime.date(2011, 12, 25),\n",
       " datetime.date(2011, 12, 26),\n",
       " datetime.date(2012, 1, 1),\n",
       " datetime.date(2012, 4, 6),\n",
       " datetime.date(2012, 4, 9),\n",
       " datetime.date(2012, 5, 1),\n",
       " datetime.date(2012, 12, 25),\n",
       " datetime.date(2012, 12, 26),\n",
       " datetime.date(2013, 1, 1),\n",
       " datetime.date(2013, 3, 29),\n",
       " datetime.date(2013, 4, 1),\n",
       " datetime.date(2013, 5, 1),\n",
       " datetime.date(2013, 12, 25),\n",
       " datetime.date(2013, 12, 26),\n",
       " datetime.date(2014, 1, 1),\n",
       " datetime.date(2014, 4, 18),\n",
       " datetime.date(2014, 4, 21),\n",
       " datetime.date(2014, 5, 1),\n",
       " datetime.date(2014, 12, 25),\n",
       " datetime.date(2014, 12, 26),\n",
       " datetime.date(2015, 1, 1),\n",
       " datetime.date(2015, 4, 3),\n",
       " datetime.date(2015, 4, 6),\n",
       " datetime.date(2015, 5, 1),\n",
       " datetime.date(2015, 12, 25),\n",
       " datetime.date(2015, 12, 26),\n",
       " datetime.date(2016, 1, 1),\n",
       " datetime.date(2016, 3, 25),\n",
       " datetime.date(2016, 3, 28),\n",
       " datetime.date(2016, 5, 1),\n",
       " datetime.date(2016, 12, 25),\n",
       " datetime.date(2016, 12, 26),\n",
       " datetime.date(2017, 1, 1),\n",
       " datetime.date(2017, 4, 14),\n",
       " datetime.date(2017, 4, 17),\n",
       " datetime.date(2017, 5, 1),\n",
       " datetime.date(2017, 12, 25),\n",
       " datetime.date(2017, 12, 26),\n",
       " datetime.date(2018, 1, 1),\n",
       " datetime.date(2018, 3, 30),\n",
       " datetime.date(2018, 4, 2),\n",
       " datetime.date(2018, 5, 1),\n",
       " datetime.date(2018, 12, 25),\n",
       " datetime.date(2018, 12, 26),\n",
       " datetime.date(2019, 1, 1),\n",
       " datetime.date(2019, 4, 19),\n",
       " datetime.date(2019, 4, 22),\n",
       " datetime.date(2019, 5, 1),\n",
       " datetime.date(2019, 12, 25),\n",
       " datetime.date(2019, 12, 26),\n",
       " datetime.date(2020, 1, 1),\n",
       " datetime.date(2020, 4, 10),\n",
       " datetime.date(2020, 4, 13),\n",
       " datetime.date(2020, 5, 1),\n",
       " datetime.date(2020, 12, 25),\n",
       " datetime.date(2020, 12, 26),\n",
       " datetime.date(2021, 1, 1),\n",
       " datetime.date(2021, 4, 2),\n",
       " datetime.date(2021, 4, 5),\n",
       " datetime.date(2021, 5, 1),\n",
       " datetime.date(2021, 12, 25),\n",
       " datetime.date(2021, 12, 26),\n",
       " datetime.date(2022, 1, 1),\n",
       " datetime.date(2022, 4, 15),\n",
       " datetime.date(2022, 4, 18),\n",
       " datetime.date(2022, 5, 1),\n",
       " datetime.date(2022, 12, 25),\n",
       " datetime.date(2022, 12, 26)]"
      ]
     },
     "metadata": {},
     "output_type": "display_data"
    }
   ],
   "source": [
    "from workalendar.europe import EuropeanCentralBank\n",
    "\n",
    "# build the list of holidays\n",
    "holidays = []\n",
    "for year in range(2000,2023):\n",
    "    holidays = holidays + EuropeanCentralBank().holidays(year)\n",
    "\n",
    "# reformating into a list\n",
    "holidays = [tuple_day[0] for tuple_day in holidays]\n"
   ]
  }
 ],
 "metadata": {
  "kernelspec": {
   "display_name": "Python 3.9.5 ('venv': venv)",
   "language": "python",
   "name": "python3"
  },
  "language_info": {
   "codemirror_mode": {
    "name": "ipython",
    "version": 3
   },
   "file_extension": ".py",
   "mimetype": "text/x-python",
   "name": "python",
   "nbconvert_exporter": "python",
   "pygments_lexer": "ipython3",
   "version": "3.8.13"
  },
  "vscode": {
   "interpreter": {
    "hash": "079b1fb917025cd1efcb3b76bbd42ea8503c3ca839bb74a5335b7616d8aa92a0"
   }
  }
 },
 "nbformat": 4,
 "nbformat_minor": 5
}
