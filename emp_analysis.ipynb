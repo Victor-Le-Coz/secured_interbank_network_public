{
 "cells": [
  {
   "cell_type": "code",
   "execution_count": 1,
   "id": "8c221870",
   "metadata": {},
   "outputs": [],
   "source": [
    "# imports \n",
    "import emp_preprocessing as ep\n",
    "import emp_fake_data as ef\n",
    "import emp_metrics as em\n",
    "import networkx as nx\n",
    "import functions as fct\n",
    "import numpy as np\n",
    "import pandas as pd\n",
    "import parameters as par\n",
    "import os\n",
    "import graphics as gx\n",
    "import data_mapping as dm\n",
    "\n",
    "# parameters\n",
    "path = \"./results/empirical_results/testing/\"\n",
    "plot_period=1000"
   ]
  },
  {
   "attachments": {},
   "cell_type": "markdown",
   "id": "a5dec96a",
   "metadata": {},
   "source": [
    "# 1 data preprocessing"
   ]
  },
  {
   "attachments": {},
   "cell_type": "markdown",
   "id": "cb8b4bdf",
   "metadata": {},
   "source": [
    "## 1.1  load input data"
   ]
  },
  {
   "cell_type": "code",
   "execution_count": null,
   "id": "e3ff4e64",
   "metadata": {},
   "outputs": [],
   "source": [
    "# opt 2: get df_mmsr secured (used for transaction and exposure view)\n",
    "df_mmsr_secured = pd.read_stata(r'D:\\MMSR_secured_small.dta')\n",
    "\n",
    "# get df_mmsr unsecured (used for deposits time series)\n",
    "df_mmsr_unsecured = pd.read_stata(r'D:\\Unsecured_deposits_Small.dta')\n",
    "\n",
    "# build fake finrep data (used for accounting view)\n",
    "df_finrep = pd.read_stata(r'D:\\balance_sheet_data_clean.dta')\n",
    "df_finrep.rename(columns=dm.dic_finrep_columns, inplace=True) # change the columns names "
   ]
  },
  {
   "cell_type": "code",
   "execution_count": null,
   "id": "15668faf",
   "metadata": {},
   "outputs": [],
   "source": [
    "# # opt 1: get the mmsr exposure view (prepared by NA)\n",
    "# df_exposures = pd.read_stata(\"path-to-stata\") # ajouter le path\n",
    "\n",
    "# opt 2: get df_mmsr secured (used for transaction and exposure view)\n",
    "df_mmsr_secured = pd.read_stata(r'P:\\ECB business areas\\DGR\\Databases and Programme files\\FIR\\Nolwenn Allaire\\ABM - Le Coz\\data\\mmsr_all/MMSR_secured_small.dta')\n",
    "\n",
    "# get df_mmsr unsecured (used for deposits time series)\n",
    "df_mmsr_unsecured = pd.read_stata(r'P:\\ECB business areas\\DGR\\Databases and Programme files\\FIR\\Nolwenn Allaire\\ABM - Le Coz\\data\\mmsr_all/Unsecured_deposits_Small.dta')\n",
    "\n",
    "# build fake finrep data (used for accounting view)\n",
    "df_finrep = pd.read_stata(r'P:\\ECB business areas\\DGR\\Databases and Programme files\\FIR\\Nolwenn Allaire\\ABM - Le Coz\\results\\Model Inputs\\2. Bank Balance Sheet Statistics\\balance_sheet_data_clean.dta')\n",
    "df_finrep.rename(columns=dm.dic_finrep_columns, inplace=True) # change the columns names \n"
   ]
  },
  {
   "attachments": {},
   "cell_type": "markdown",
   "id": "d35757d7",
   "metadata": {},
   "source": [
    "## 1.2 build fake data"
   ]
  },
  {
   "cell_type": "code",
   "execution_count": 2,
   "id": "da4a7b17",
   "metadata": {},
   "outputs": [
    {
     "name": "stderr",
     "output_type": "stream",
     "text": [
      "c:\\Users\\VictorLeCoz\\local\\Secured_interbank_network\\emp_fake_data.py:77: PerformanceWarning: Non-vectorized DateOffset being applied to Series or DatetimeIndex.\n",
      "  df_evergreen[\"trade_date\"] + row * bbday\n",
      "c:\\Users\\VictorLeCoz\\local\\Secured_interbank_network\\emp_fake_data.py:76: SettingWithCopyWarning: \n",
      "A value is trying to be set on a copy of a slice from a DataFrame.\n",
      "Try using .loc[row_indexer,col_indexer] = value instead\n",
      "\n",
      "See the caveats in the documentation: https://pandas.pydata.org/pandas-docs/stable/user_guide/indexing.html#returning-a-view-versus-a-copy\n",
      "  df_evergreen[\"trade_date\"] = (\n",
      "c:\\Users\\VictorLeCoz\\local\\Secured_interbank_network\\emp_fake_data.py:80: PerformanceWarning: Non-vectorized DateOffset being applied to Series or DatetimeIndex.\n",
      "  df_evergreen[\"maturity_date\"] + row * bbday\n",
      "c:\\Users\\VictorLeCoz\\local\\Secured_interbank_network\\emp_fake_data.py:79: SettingWithCopyWarning: \n",
      "A value is trying to be set on a copy of a slice from a DataFrame.\n",
      "Try using .loc[row_indexer,col_indexer] = value instead\n",
      "\n",
      "See the caveats in the documentation: https://pandas.pydata.org/pandas-docs/stable/user_guide/indexing.html#returning-a-view-versus-a-copy\n",
      "  df_evergreen[\"maturity_date\"] = (\n",
      "c:\\Users\\VictorLeCoz\\local\\Secured_interbank_network\\emp_fake_data.py:77: PerformanceWarning: Non-vectorized DateOffset being applied to Series or DatetimeIndex.\n",
      "  df_evergreen[\"trade_date\"] + row * bbday\n",
      "c:\\Users\\VictorLeCoz\\local\\Secured_interbank_network\\emp_fake_data.py:76: SettingWithCopyWarning: \n",
      "A value is trying to be set on a copy of a slice from a DataFrame.\n",
      "Try using .loc[row_indexer,col_indexer] = value instead\n",
      "\n",
      "See the caveats in the documentation: https://pandas.pydata.org/pandas-docs/stable/user_guide/indexing.html#returning-a-view-versus-a-copy\n",
      "  df_evergreen[\"trade_date\"] = (\n",
      "c:\\Users\\VictorLeCoz\\local\\Secured_interbank_network\\emp_fake_data.py:80: PerformanceWarning: Non-vectorized DateOffset being applied to Series or DatetimeIndex.\n",
      "  df_evergreen[\"maturity_date\"] + row * bbday\n",
      "c:\\Users\\VictorLeCoz\\local\\Secured_interbank_network\\emp_fake_data.py:79: SettingWithCopyWarning: \n",
      "A value is trying to be set on a copy of a slice from a DataFrame.\n",
      "Try using .loc[row_indexer,col_indexer] = value instead\n",
      "\n",
      "See the caveats in the documentation: https://pandas.pydata.org/pandas-docs/stable/user_guide/indexing.html#returning-a-view-versus-a-copy\n",
      "  df_evergreen[\"maturity_date\"] = (\n",
      "c:\\Users\\VictorLeCoz\\local\\Secured_interbank_network\\emp_fake_data.py:77: PerformanceWarning: Non-vectorized DateOffset being applied to Series or DatetimeIndex.\n",
      "  df_evergreen[\"trade_date\"] + row * bbday\n",
      "c:\\Users\\VictorLeCoz\\local\\Secured_interbank_network\\emp_fake_data.py:76: SettingWithCopyWarning: \n",
      "A value is trying to be set on a copy of a slice from a DataFrame.\n",
      "Try using .loc[row_indexer,col_indexer] = value instead\n",
      "\n",
      "See the caveats in the documentation: https://pandas.pydata.org/pandas-docs/stable/user_guide/indexing.html#returning-a-view-versus-a-copy\n",
      "  df_evergreen[\"trade_date\"] = (\n",
      "c:\\Users\\VictorLeCoz\\local\\Secured_interbank_network\\emp_fake_data.py:80: PerformanceWarning: Non-vectorized DateOffset being applied to Series or DatetimeIndex.\n",
      "  df_evergreen[\"maturity_date\"] + row * bbday\n",
      "c:\\Users\\VictorLeCoz\\local\\Secured_interbank_network\\emp_fake_data.py:79: SettingWithCopyWarning: \n",
      "A value is trying to be set on a copy of a slice from a DataFrame.\n",
      "Try using .loc[row_indexer,col_indexer] = value instead\n",
      "\n",
      "See the caveats in the documentation: https://pandas.pydata.org/pandas-docs/stable/user_guide/indexing.html#returning-a-view-versus-a-copy\n",
      "  df_evergreen[\"maturity_date\"] = (\n",
      "c:\\Users\\VictorLeCoz\\local\\Secured_interbank_network\\emp_fake_data.py:77: PerformanceWarning: Non-vectorized DateOffset being applied to Series or DatetimeIndex.\n",
      "  df_evergreen[\"trade_date\"] + row * bbday\n",
      "c:\\Users\\VictorLeCoz\\local\\Secured_interbank_network\\emp_fake_data.py:76: SettingWithCopyWarning: \n",
      "A value is trying to be set on a copy of a slice from a DataFrame.\n",
      "Try using .loc[row_indexer,col_indexer] = value instead\n",
      "\n",
      "See the caveats in the documentation: https://pandas.pydata.org/pandas-docs/stable/user_guide/indexing.html#returning-a-view-versus-a-copy\n",
      "  df_evergreen[\"trade_date\"] = (\n",
      "c:\\Users\\VictorLeCoz\\local\\Secured_interbank_network\\emp_fake_data.py:80: PerformanceWarning: Non-vectorized DateOffset being applied to Series or DatetimeIndex.\n",
      "  df_evergreen[\"maturity_date\"] + row * bbday\n",
      "c:\\Users\\VictorLeCoz\\local\\Secured_interbank_network\\emp_fake_data.py:79: SettingWithCopyWarning: \n",
      "A value is trying to be set on a copy of a slice from a DataFrame.\n",
      "Try using .loc[row_indexer,col_indexer] = value instead\n",
      "\n",
      "See the caveats in the documentation: https://pandas.pydata.org/pandas-docs/stable/user_guide/indexing.html#returning-a-view-versus-a-copy\n",
      "  df_evergreen[\"maturity_date\"] = (\n",
      "c:\\Users\\VictorLeCoz\\local\\Secured_interbank_network\\emp_fake_data.py:77: PerformanceWarning: Non-vectorized DateOffset being applied to Series or DatetimeIndex.\n",
      "  df_evergreen[\"trade_date\"] + row * bbday\n",
      "c:\\Users\\VictorLeCoz\\local\\Secured_interbank_network\\emp_fake_data.py:76: SettingWithCopyWarning: \n",
      "A value is trying to be set on a copy of a slice from a DataFrame.\n",
      "Try using .loc[row_indexer,col_indexer] = value instead\n",
      "\n",
      "See the caveats in the documentation: https://pandas.pydata.org/pandas-docs/stable/user_guide/indexing.html#returning-a-view-versus-a-copy\n",
      "  df_evergreen[\"trade_date\"] = (\n",
      "c:\\Users\\VictorLeCoz\\local\\Secured_interbank_network\\emp_fake_data.py:80: PerformanceWarning: Non-vectorized DateOffset being applied to Series or DatetimeIndex.\n",
      "  df_evergreen[\"maturity_date\"] + row * bbday\n",
      "c:\\Users\\VictorLeCoz\\local\\Secured_interbank_network\\emp_fake_data.py:79: SettingWithCopyWarning: \n",
      "A value is trying to be set on a copy of a slice from a DataFrame.\n",
      "Try using .loc[row_indexer,col_indexer] = value instead\n",
      "\n",
      "See the caveats in the documentation: https://pandas.pydata.org/pandas-docs/stable/user_guide/indexing.html#returning-a-view-versus-a-copy\n",
      "  df_evergreen[\"maturity_date\"] = (\n",
      "c:\\Users\\VictorLeCoz\\local\\Secured_interbank_network\\emp_fake_data.py:77: PerformanceWarning: Non-vectorized DateOffset being applied to Series or DatetimeIndex.\n",
      "  df_evergreen[\"trade_date\"] + row * bbday\n",
      "c:\\Users\\VictorLeCoz\\local\\Secured_interbank_network\\emp_fake_data.py:76: SettingWithCopyWarning: \n",
      "A value is trying to be set on a copy of a slice from a DataFrame.\n",
      "Try using .loc[row_indexer,col_indexer] = value instead\n",
      "\n",
      "See the caveats in the documentation: https://pandas.pydata.org/pandas-docs/stable/user_guide/indexing.html#returning-a-view-versus-a-copy\n",
      "  df_evergreen[\"trade_date\"] = (\n",
      "c:\\Users\\VictorLeCoz\\local\\Secured_interbank_network\\emp_fake_data.py:80: PerformanceWarning: Non-vectorized DateOffset being applied to Series or DatetimeIndex.\n",
      "  df_evergreen[\"maturity_date\"] + row * bbday\n",
      "c:\\Users\\VictorLeCoz\\local\\Secured_interbank_network\\emp_fake_data.py:79: SettingWithCopyWarning: \n",
      "A value is trying to be set on a copy of a slice from a DataFrame.\n",
      "Try using .loc[row_indexer,col_indexer] = value instead\n",
      "\n",
      "See the caveats in the documentation: https://pandas.pydata.org/pandas-docs/stable/user_guide/indexing.html#returning-a-view-versus-a-copy\n",
      "  df_evergreen[\"maturity_date\"] = (\n",
      "c:\\Users\\VictorLeCoz\\local\\Secured_interbank_network\\emp_fake_data.py:77: PerformanceWarning: Non-vectorized DateOffset being applied to Series or DatetimeIndex.\n",
      "  df_evergreen[\"trade_date\"] + row * bbday\n",
      "c:\\Users\\VictorLeCoz\\local\\Secured_interbank_network\\emp_fake_data.py:76: SettingWithCopyWarning: \n",
      "A value is trying to be set on a copy of a slice from a DataFrame.\n",
      "Try using .loc[row_indexer,col_indexer] = value instead\n",
      "\n",
      "See the caveats in the documentation: https://pandas.pydata.org/pandas-docs/stable/user_guide/indexing.html#returning-a-view-versus-a-copy\n",
      "  df_evergreen[\"trade_date\"] = (\n",
      "c:\\Users\\VictorLeCoz\\local\\Secured_interbank_network\\emp_fake_data.py:80: PerformanceWarning: Non-vectorized DateOffset being applied to Series or DatetimeIndex.\n",
      "  df_evergreen[\"maturity_date\"] + row * bbday\n",
      "c:\\Users\\VictorLeCoz\\local\\Secured_interbank_network\\emp_fake_data.py:79: SettingWithCopyWarning: \n",
      "A value is trying to be set on a copy of a slice from a DataFrame.\n",
      "Try using .loc[row_indexer,col_indexer] = value instead\n",
      "\n",
      "See the caveats in the documentation: https://pandas.pydata.org/pandas-docs/stable/user_guide/indexing.html#returning-a-view-versus-a-copy\n",
      "  df_evergreen[\"maturity_date\"] = (\n",
      "c:\\Users\\VictorLeCoz\\local\\Secured_interbank_network\\emp_fake_data.py:77: PerformanceWarning: Non-vectorized DateOffset being applied to Series or DatetimeIndex.\n",
      "  df_evergreen[\"trade_date\"] + row * bbday\n",
      "c:\\Users\\VictorLeCoz\\local\\Secured_interbank_network\\emp_fake_data.py:76: SettingWithCopyWarning: \n",
      "A value is trying to be set on a copy of a slice from a DataFrame.\n",
      "Try using .loc[row_indexer,col_indexer] = value instead\n",
      "\n",
      "See the caveats in the documentation: https://pandas.pydata.org/pandas-docs/stable/user_guide/indexing.html#returning-a-view-versus-a-copy\n",
      "  df_evergreen[\"trade_date\"] = (\n",
      "c:\\Users\\VictorLeCoz\\local\\Secured_interbank_network\\emp_fake_data.py:80: PerformanceWarning: Non-vectorized DateOffset being applied to Series or DatetimeIndex.\n",
      "  df_evergreen[\"maturity_date\"] + row * bbday\n",
      "c:\\Users\\VictorLeCoz\\local\\Secured_interbank_network\\emp_fake_data.py:79: SettingWithCopyWarning: \n",
      "A value is trying to be set on a copy of a slice from a DataFrame.\n",
      "Try using .loc[row_indexer,col_indexer] = value instead\n",
      "\n",
      "See the caveats in the documentation: https://pandas.pydata.org/pandas-docs/stable/user_guide/indexing.html#returning-a-view-versus-a-copy\n",
      "  df_evergreen[\"maturity_date\"] = (\n",
      "c:\\Users\\VictorLeCoz\\local\\Secured_interbank_network\\emp_fake_data.py:77: PerformanceWarning: Non-vectorized DateOffset being applied to Series or DatetimeIndex.\n",
      "  df_evergreen[\"trade_date\"] + row * bbday\n",
      "c:\\Users\\VictorLeCoz\\local\\Secured_interbank_network\\emp_fake_data.py:76: SettingWithCopyWarning: \n",
      "A value is trying to be set on a copy of a slice from a DataFrame.\n",
      "Try using .loc[row_indexer,col_indexer] = value instead\n",
      "\n",
      "See the caveats in the documentation: https://pandas.pydata.org/pandas-docs/stable/user_guide/indexing.html#returning-a-view-versus-a-copy\n",
      "  df_evergreen[\"trade_date\"] = (\n",
      "c:\\Users\\VictorLeCoz\\local\\Secured_interbank_network\\emp_fake_data.py:80: PerformanceWarning: Non-vectorized DateOffset being applied to Series or DatetimeIndex.\n",
      "  df_evergreen[\"maturity_date\"] + row * bbday\n",
      "c:\\Users\\VictorLeCoz\\local\\Secured_interbank_network\\emp_fake_data.py:79: SettingWithCopyWarning: \n",
      "A value is trying to be set on a copy of a slice from a DataFrame.\n",
      "Try using .loc[row_indexer,col_indexer] = value instead\n",
      "\n",
      "See the caveats in the documentation: https://pandas.pydata.org/pandas-docs/stable/user_guide/indexing.html#returning-a-view-versus-a-copy\n",
      "  df_evergreen[\"maturity_date\"] = (\n",
      "c:\\Users\\VictorLeCoz\\local\\Secured_interbank_network\\emp_fake_data.py:77: PerformanceWarning: Non-vectorized DateOffset being applied to Series or DatetimeIndex.\n",
      "  df_evergreen[\"trade_date\"] + row * bbday\n",
      "c:\\Users\\VictorLeCoz\\local\\Secured_interbank_network\\emp_fake_data.py:76: SettingWithCopyWarning: \n",
      "A value is trying to be set on a copy of a slice from a DataFrame.\n",
      "Try using .loc[row_indexer,col_indexer] = value instead\n",
      "\n",
      "See the caveats in the documentation: https://pandas.pydata.org/pandas-docs/stable/user_guide/indexing.html#returning-a-view-versus-a-copy\n",
      "  df_evergreen[\"trade_date\"] = (\n",
      "c:\\Users\\VictorLeCoz\\local\\Secured_interbank_network\\emp_fake_data.py:80: PerformanceWarning: Non-vectorized DateOffset being applied to Series or DatetimeIndex.\n",
      "  df_evergreen[\"maturity_date\"] + row * bbday\n",
      "c:\\Users\\VictorLeCoz\\local\\Secured_interbank_network\\emp_fake_data.py:79: SettingWithCopyWarning: \n",
      "A value is trying to be set on a copy of a slice from a DataFrame.\n",
      "Try using .loc[row_indexer,col_indexer] = value instead\n",
      "\n",
      "See the caveats in the documentation: https://pandas.pydata.org/pandas-docs/stable/user_guide/indexing.html#returning-a-view-versus-a-copy\n",
      "  df_evergreen[\"maturity_date\"] = (\n",
      "c:\\Users\\VictorLeCoz\\local\\Secured_interbank_network\\emp_fake_data.py:77: PerformanceWarning: Non-vectorized DateOffset being applied to Series or DatetimeIndex.\n",
      "  df_evergreen[\"trade_date\"] + row * bbday\n",
      "c:\\Users\\VictorLeCoz\\local\\Secured_interbank_network\\emp_fake_data.py:76: SettingWithCopyWarning: \n",
      "A value is trying to be set on a copy of a slice from a DataFrame.\n",
      "Try using .loc[row_indexer,col_indexer] = value instead\n",
      "\n",
      "See the caveats in the documentation: https://pandas.pydata.org/pandas-docs/stable/user_guide/indexing.html#returning-a-view-versus-a-copy\n",
      "  df_evergreen[\"trade_date\"] = (\n",
      "c:\\Users\\VictorLeCoz\\local\\Secured_interbank_network\\emp_fake_data.py:80: PerformanceWarning: Non-vectorized DateOffset being applied to Series or DatetimeIndex.\n",
      "  df_evergreen[\"maturity_date\"] + row * bbday\n",
      "c:\\Users\\VictorLeCoz\\local\\Secured_interbank_network\\emp_fake_data.py:79: SettingWithCopyWarning: \n",
      "A value is trying to be set on a copy of a slice from a DataFrame.\n",
      "Try using .loc[row_indexer,col_indexer] = value instead\n",
      "\n",
      "See the caveats in the documentation: https://pandas.pydata.org/pandas-docs/stable/user_guide/indexing.html#returning-a-view-versus-a-copy\n",
      "  df_evergreen[\"maturity_date\"] = (\n",
      "c:\\Users\\VictorLeCoz\\local\\Secured_interbank_network\\emp_fake_data.py:77: PerformanceWarning: Non-vectorized DateOffset being applied to Series or DatetimeIndex.\n",
      "  df_evergreen[\"trade_date\"] + row * bbday\n",
      "c:\\Users\\VictorLeCoz\\local\\Secured_interbank_network\\emp_fake_data.py:76: SettingWithCopyWarning: \n",
      "A value is trying to be set on a copy of a slice from a DataFrame.\n",
      "Try using .loc[row_indexer,col_indexer] = value instead\n",
      "\n",
      "See the caveats in the documentation: https://pandas.pydata.org/pandas-docs/stable/user_guide/indexing.html#returning-a-view-versus-a-copy\n",
      "  df_evergreen[\"trade_date\"] = (\n",
      "c:\\Users\\VictorLeCoz\\local\\Secured_interbank_network\\emp_fake_data.py:80: PerformanceWarning: Non-vectorized DateOffset being applied to Series or DatetimeIndex.\n",
      "  df_evergreen[\"maturity_date\"] + row * bbday\n",
      "c:\\Users\\VictorLeCoz\\local\\Secured_interbank_network\\emp_fake_data.py:79: SettingWithCopyWarning: \n",
      "A value is trying to be set on a copy of a slice from a DataFrame.\n",
      "Try using .loc[row_indexer,col_indexer] = value instead\n",
      "\n",
      "See the caveats in the documentation: https://pandas.pydata.org/pandas-docs/stable/user_guide/indexing.html#returning-a-view-versus-a-copy\n",
      "  df_evergreen[\"maturity_date\"] = (\n",
      "c:\\Users\\VictorLeCoz\\local\\Secured_interbank_network\\emp_fake_data.py:77: PerformanceWarning: Non-vectorized DateOffset being applied to Series or DatetimeIndex.\n",
      "  df_evergreen[\"trade_date\"] + row * bbday\n",
      "c:\\Users\\VictorLeCoz\\local\\Secured_interbank_network\\emp_fake_data.py:76: SettingWithCopyWarning: \n",
      "A value is trying to be set on a copy of a slice from a DataFrame.\n",
      "Try using .loc[row_indexer,col_indexer] = value instead\n",
      "\n",
      "See the caveats in the documentation: https://pandas.pydata.org/pandas-docs/stable/user_guide/indexing.html#returning-a-view-versus-a-copy\n",
      "  df_evergreen[\"trade_date\"] = (\n",
      "c:\\Users\\VictorLeCoz\\local\\Secured_interbank_network\\emp_fake_data.py:80: PerformanceWarning: Non-vectorized DateOffset being applied to Series or DatetimeIndex.\n",
      "  df_evergreen[\"maturity_date\"] + row * bbday\n",
      "c:\\Users\\VictorLeCoz\\local\\Secured_interbank_network\\emp_fake_data.py:79: SettingWithCopyWarning: \n",
      "A value is trying to be set on a copy of a slice from a DataFrame.\n",
      "Try using .loc[row_indexer,col_indexer] = value instead\n",
      "\n",
      "See the caveats in the documentation: https://pandas.pydata.org/pandas-docs/stable/user_guide/indexing.html#returning-a-view-versus-a-copy\n",
      "  df_evergreen[\"maturity_date\"] = (\n",
      "c:\\Users\\VictorLeCoz\\local\\Secured_interbank_network\\emp_fake_data.py:77: PerformanceWarning: Non-vectorized DateOffset being applied to Series or DatetimeIndex.\n",
      "  df_evergreen[\"trade_date\"] + row * bbday\n",
      "c:\\Users\\VictorLeCoz\\local\\Secured_interbank_network\\emp_fake_data.py:76: SettingWithCopyWarning: \n",
      "A value is trying to be set on a copy of a slice from a DataFrame.\n",
      "Try using .loc[row_indexer,col_indexer] = value instead\n",
      "\n",
      "See the caveats in the documentation: https://pandas.pydata.org/pandas-docs/stable/user_guide/indexing.html#returning-a-view-versus-a-copy\n",
      "  df_evergreen[\"trade_date\"] = (\n",
      "c:\\Users\\VictorLeCoz\\local\\Secured_interbank_network\\emp_fake_data.py:80: PerformanceWarning: Non-vectorized DateOffset being applied to Series or DatetimeIndex.\n",
      "  df_evergreen[\"maturity_date\"] + row * bbday\n",
      "c:\\Users\\VictorLeCoz\\local\\Secured_interbank_network\\emp_fake_data.py:79: SettingWithCopyWarning: \n",
      "A value is trying to be set on a copy of a slice from a DataFrame.\n",
      "Try using .loc[row_indexer,col_indexer] = value instead\n",
      "\n",
      "See the caveats in the documentation: https://pandas.pydata.org/pandas-docs/stable/user_guide/indexing.html#returning-a-view-versus-a-copy\n",
      "  df_evergreen[\"maturity_date\"] = (\n",
      "c:\\Users\\VictorLeCoz\\local\\Secured_interbank_network\\emp_fake_data.py:77: PerformanceWarning: Non-vectorized DateOffset being applied to Series or DatetimeIndex.\n",
      "  df_evergreen[\"trade_date\"] + row * bbday\n",
      "c:\\Users\\VictorLeCoz\\local\\Secured_interbank_network\\emp_fake_data.py:76: SettingWithCopyWarning: \n",
      "A value is trying to be set on a copy of a slice from a DataFrame.\n",
      "Try using .loc[row_indexer,col_indexer] = value instead\n",
      "\n",
      "See the caveats in the documentation: https://pandas.pydata.org/pandas-docs/stable/user_guide/indexing.html#returning-a-view-versus-a-copy\n",
      "  df_evergreen[\"trade_date\"] = (\n",
      "c:\\Users\\VictorLeCoz\\local\\Secured_interbank_network\\emp_fake_data.py:80: PerformanceWarning: Non-vectorized DateOffset being applied to Series or DatetimeIndex.\n",
      "  df_evergreen[\"maturity_date\"] + row * bbday\n",
      "c:\\Users\\VictorLeCoz\\local\\Secured_interbank_network\\emp_fake_data.py:79: SettingWithCopyWarning: \n",
      "A value is trying to be set on a copy of a slice from a DataFrame.\n",
      "Try using .loc[row_indexer,col_indexer] = value instead\n",
      "\n",
      "See the caveats in the documentation: https://pandas.pydata.org/pandas-docs/stable/user_guide/indexing.html#returning-a-view-versus-a-copy\n",
      "  df_evergreen[\"maturity_date\"] = (\n",
      "c:\\Users\\VictorLeCoz\\local\\Secured_interbank_network\\emp_fake_data.py:77: PerformanceWarning: Non-vectorized DateOffset being applied to Series or DatetimeIndex.\n",
      "  df_evergreen[\"trade_date\"] + row * bbday\n",
      "c:\\Users\\VictorLeCoz\\local\\Secured_interbank_network\\emp_fake_data.py:76: SettingWithCopyWarning: \n",
      "A value is trying to be set on a copy of a slice from a DataFrame.\n",
      "Try using .loc[row_indexer,col_indexer] = value instead\n",
      "\n",
      "See the caveats in the documentation: https://pandas.pydata.org/pandas-docs/stable/user_guide/indexing.html#returning-a-view-versus-a-copy\n",
      "  df_evergreen[\"trade_date\"] = (\n",
      "c:\\Users\\VictorLeCoz\\local\\Secured_interbank_network\\emp_fake_data.py:80: PerformanceWarning: Non-vectorized DateOffset being applied to Series or DatetimeIndex.\n",
      "  df_evergreen[\"maturity_date\"] + row * bbday\n",
      "c:\\Users\\VictorLeCoz\\local\\Secured_interbank_network\\emp_fake_data.py:79: SettingWithCopyWarning: \n",
      "A value is trying to be set on a copy of a slice from a DataFrame.\n",
      "Try using .loc[row_indexer,col_indexer] = value instead\n",
      "\n",
      "See the caveats in the documentation: https://pandas.pydata.org/pandas-docs/stable/user_guide/indexing.html#returning-a-view-versus-a-copy\n",
      "  df_evergreen[\"maturity_date\"] = (\n",
      "c:\\Users\\VictorLeCoz\\local\\Secured_interbank_network\\emp_fake_data.py:77: PerformanceWarning: Non-vectorized DateOffset being applied to Series or DatetimeIndex.\n",
      "  df_evergreen[\"trade_date\"] + row * bbday\n",
      "c:\\Users\\VictorLeCoz\\local\\Secured_interbank_network\\emp_fake_data.py:76: SettingWithCopyWarning: \n",
      "A value is trying to be set on a copy of a slice from a DataFrame.\n",
      "Try using .loc[row_indexer,col_indexer] = value instead\n",
      "\n",
      "See the caveats in the documentation: https://pandas.pydata.org/pandas-docs/stable/user_guide/indexing.html#returning-a-view-versus-a-copy\n",
      "  df_evergreen[\"trade_date\"] = (\n",
      "c:\\Users\\VictorLeCoz\\local\\Secured_interbank_network\\emp_fake_data.py:80: PerformanceWarning: Non-vectorized DateOffset being applied to Series or DatetimeIndex.\n",
      "  df_evergreen[\"maturity_date\"] + row * bbday\n",
      "c:\\Users\\VictorLeCoz\\local\\Secured_interbank_network\\emp_fake_data.py:79: SettingWithCopyWarning: \n",
      "A value is trying to be set on a copy of a slice from a DataFrame.\n",
      "Try using .loc[row_indexer,col_indexer] = value instead\n",
      "\n",
      "See the caveats in the documentation: https://pandas.pydata.org/pandas-docs/stable/user_guide/indexing.html#returning-a-view-versus-a-copy\n",
      "  df_evergreen[\"maturity_date\"] = (\n",
      "c:\\Users\\VictorLeCoz\\local\\Secured_interbank_network\\emp_fake_data.py:77: PerformanceWarning: Non-vectorized DateOffset being applied to Series or DatetimeIndex.\n",
      "  df_evergreen[\"trade_date\"] + row * bbday\n",
      "c:\\Users\\VictorLeCoz\\local\\Secured_interbank_network\\emp_fake_data.py:76: SettingWithCopyWarning: \n",
      "A value is trying to be set on a copy of a slice from a DataFrame.\n",
      "Try using .loc[row_indexer,col_indexer] = value instead\n",
      "\n",
      "See the caveats in the documentation: https://pandas.pydata.org/pandas-docs/stable/user_guide/indexing.html#returning-a-view-versus-a-copy\n",
      "  df_evergreen[\"trade_date\"] = (\n",
      "c:\\Users\\VictorLeCoz\\local\\Secured_interbank_network\\emp_fake_data.py:80: PerformanceWarning: Non-vectorized DateOffset being applied to Series or DatetimeIndex.\n",
      "  df_evergreen[\"maturity_date\"] + row * bbday\n",
      "c:\\Users\\VictorLeCoz\\local\\Secured_interbank_network\\emp_fake_data.py:79: SettingWithCopyWarning: \n",
      "A value is trying to be set on a copy of a slice from a DataFrame.\n",
      "Try using .loc[row_indexer,col_indexer] = value instead\n",
      "\n",
      "See the caveats in the documentation: https://pandas.pydata.org/pandas-docs/stable/user_guide/indexing.html#returning-a-view-versus-a-copy\n",
      "  df_evergreen[\"maturity_date\"] = (\n",
      "c:\\Users\\VictorLeCoz\\local\\Secured_interbank_network\\emp_fake_data.py:77: PerformanceWarning: Non-vectorized DateOffset being applied to Series or DatetimeIndex.\n",
      "  df_evergreen[\"trade_date\"] + row * bbday\n",
      "c:\\Users\\VictorLeCoz\\local\\Secured_interbank_network\\emp_fake_data.py:76: SettingWithCopyWarning: \n",
      "A value is trying to be set on a copy of a slice from a DataFrame.\n",
      "Try using .loc[row_indexer,col_indexer] = value instead\n",
      "\n",
      "See the caveats in the documentation: https://pandas.pydata.org/pandas-docs/stable/user_guide/indexing.html#returning-a-view-versus-a-copy\n",
      "  df_evergreen[\"trade_date\"] = (\n",
      "c:\\Users\\VictorLeCoz\\local\\Secured_interbank_network\\emp_fake_data.py:80: PerformanceWarning: Non-vectorized DateOffset being applied to Series or DatetimeIndex.\n",
      "  df_evergreen[\"maturity_date\"] + row * bbday\n",
      "c:\\Users\\VictorLeCoz\\local\\Secured_interbank_network\\emp_fake_data.py:79: SettingWithCopyWarning: \n",
      "A value is trying to be set on a copy of a slice from a DataFrame.\n",
      "Try using .loc[row_indexer,col_indexer] = value instead\n",
      "\n",
      "See the caveats in the documentation: https://pandas.pydata.org/pandas-docs/stable/user_guide/indexing.html#returning-a-view-versus-a-copy\n",
      "  df_evergreen[\"maturity_date\"] = (\n",
      "c:\\Users\\VictorLeCoz\\local\\Secured_interbank_network\\emp_fake_data.py:77: PerformanceWarning: Non-vectorized DateOffset being applied to Series or DatetimeIndex.\n",
      "  df_evergreen[\"trade_date\"] + row * bbday\n",
      "c:\\Users\\VictorLeCoz\\local\\Secured_interbank_network\\emp_fake_data.py:76: SettingWithCopyWarning: \n",
      "A value is trying to be set on a copy of a slice from a DataFrame.\n",
      "Try using .loc[row_indexer,col_indexer] = value instead\n",
      "\n",
      "See the caveats in the documentation: https://pandas.pydata.org/pandas-docs/stable/user_guide/indexing.html#returning-a-view-versus-a-copy\n",
      "  df_evergreen[\"trade_date\"] = (\n",
      "c:\\Users\\VictorLeCoz\\local\\Secured_interbank_network\\emp_fake_data.py:80: PerformanceWarning: Non-vectorized DateOffset being applied to Series or DatetimeIndex.\n",
      "  df_evergreen[\"maturity_date\"] + row * bbday\n",
      "c:\\Users\\VictorLeCoz\\local\\Secured_interbank_network\\emp_fake_data.py:79: SettingWithCopyWarning: \n",
      "A value is trying to be set on a copy of a slice from a DataFrame.\n",
      "Try using .loc[row_indexer,col_indexer] = value instead\n",
      "\n",
      "See the caveats in the documentation: https://pandas.pydata.org/pandas-docs/stable/user_guide/indexing.html#returning-a-view-versus-a-copy\n",
      "  df_evergreen[\"maturity_date\"] = (\n",
      "c:\\Users\\VictorLeCoz\\local\\Secured_interbank_network\\emp_fake_data.py:77: PerformanceWarning: Non-vectorized DateOffset being applied to Series or DatetimeIndex.\n",
      "  df_evergreen[\"trade_date\"] + row * bbday\n",
      "c:\\Users\\VictorLeCoz\\local\\Secured_interbank_network\\emp_fake_data.py:76: SettingWithCopyWarning: \n",
      "A value is trying to be set on a copy of a slice from a DataFrame.\n",
      "Try using .loc[row_indexer,col_indexer] = value instead\n",
      "\n",
      "See the caveats in the documentation: https://pandas.pydata.org/pandas-docs/stable/user_guide/indexing.html#returning-a-view-versus-a-copy\n",
      "  df_evergreen[\"trade_date\"] = (\n",
      "c:\\Users\\VictorLeCoz\\local\\Secured_interbank_network\\emp_fake_data.py:80: PerformanceWarning: Non-vectorized DateOffset being applied to Series or DatetimeIndex.\n",
      "  df_evergreen[\"maturity_date\"] + row * bbday\n",
      "c:\\Users\\VictorLeCoz\\local\\Secured_interbank_network\\emp_fake_data.py:79: SettingWithCopyWarning: \n",
      "A value is trying to be set on a copy of a slice from a DataFrame.\n",
      "Try using .loc[row_indexer,col_indexer] = value instead\n",
      "\n",
      "See the caveats in the documentation: https://pandas.pydata.org/pandas-docs/stable/user_guide/indexing.html#returning-a-view-versus-a-copy\n",
      "  df_evergreen[\"maturity_date\"] = (\n",
      "c:\\Users\\VictorLeCoz\\local\\Secured_interbank_network\\emp_fake_data.py:77: PerformanceWarning: Non-vectorized DateOffset being applied to Series or DatetimeIndex.\n",
      "  df_evergreen[\"trade_date\"] + row * bbday\n",
      "c:\\Users\\VictorLeCoz\\local\\Secured_interbank_network\\emp_fake_data.py:76: SettingWithCopyWarning: \n",
      "A value is trying to be set on a copy of a slice from a DataFrame.\n",
      "Try using .loc[row_indexer,col_indexer] = value instead\n",
      "\n",
      "See the caveats in the documentation: https://pandas.pydata.org/pandas-docs/stable/user_guide/indexing.html#returning-a-view-versus-a-copy\n",
      "  df_evergreen[\"trade_date\"] = (\n",
      "c:\\Users\\VictorLeCoz\\local\\Secured_interbank_network\\emp_fake_data.py:80: PerformanceWarning: Non-vectorized DateOffset being applied to Series or DatetimeIndex.\n",
      "  df_evergreen[\"maturity_date\"] + row * bbday\n",
      "c:\\Users\\VictorLeCoz\\local\\Secured_interbank_network\\emp_fake_data.py:79: SettingWithCopyWarning: \n",
      "A value is trying to be set on a copy of a slice from a DataFrame.\n",
      "Try using .loc[row_indexer,col_indexer] = value instead\n",
      "\n",
      "See the caveats in the documentation: https://pandas.pydata.org/pandas-docs/stable/user_guide/indexing.html#returning-a-view-versus-a-copy\n",
      "  df_evergreen[\"maturity_date\"] = (\n",
      "c:\\Users\\VictorLeCoz\\local\\Secured_interbank_network\\emp_fake_data.py:77: PerformanceWarning: Non-vectorized DateOffset being applied to Series or DatetimeIndex.\n",
      "  df_evergreen[\"trade_date\"] + row * bbday\n",
      "c:\\Users\\VictorLeCoz\\local\\Secured_interbank_network\\emp_fake_data.py:76: SettingWithCopyWarning: \n",
      "A value is trying to be set on a copy of a slice from a DataFrame.\n",
      "Try using .loc[row_indexer,col_indexer] = value instead\n",
      "\n",
      "See the caveats in the documentation: https://pandas.pydata.org/pandas-docs/stable/user_guide/indexing.html#returning-a-view-versus-a-copy\n",
      "  df_evergreen[\"trade_date\"] = (\n",
      "c:\\Users\\VictorLeCoz\\local\\Secured_interbank_network\\emp_fake_data.py:80: PerformanceWarning: Non-vectorized DateOffset being applied to Series or DatetimeIndex.\n",
      "  df_evergreen[\"maturity_date\"] + row * bbday\n",
      "c:\\Users\\VictorLeCoz\\local\\Secured_interbank_network\\emp_fake_data.py:79: SettingWithCopyWarning: \n",
      "A value is trying to be set on a copy of a slice from a DataFrame.\n",
      "Try using .loc[row_indexer,col_indexer] = value instead\n",
      "\n",
      "See the caveats in the documentation: https://pandas.pydata.org/pandas-docs/stable/user_guide/indexing.html#returning-a-view-versus-a-copy\n",
      "  df_evergreen[\"maturity_date\"] = (\n",
      "c:\\Users\\VictorLeCoz\\local\\Secured_interbank_network\\emp_fake_data.py:77: PerformanceWarning: Non-vectorized DateOffset being applied to Series or DatetimeIndex.\n",
      "  df_evergreen[\"trade_date\"] + row * bbday\n",
      "c:\\Users\\VictorLeCoz\\local\\Secured_interbank_network\\emp_fake_data.py:76: SettingWithCopyWarning: \n",
      "A value is trying to be set on a copy of a slice from a DataFrame.\n",
      "Try using .loc[row_indexer,col_indexer] = value instead\n",
      "\n",
      "See the caveats in the documentation: https://pandas.pydata.org/pandas-docs/stable/user_guide/indexing.html#returning-a-view-versus-a-copy\n",
      "  df_evergreen[\"trade_date\"] = (\n",
      "c:\\Users\\VictorLeCoz\\local\\Secured_interbank_network\\emp_fake_data.py:80: PerformanceWarning: Non-vectorized DateOffset being applied to Series or DatetimeIndex.\n",
      "  df_evergreen[\"maturity_date\"] + row * bbday\n",
      "c:\\Users\\VictorLeCoz\\local\\Secured_interbank_network\\emp_fake_data.py:79: SettingWithCopyWarning: \n",
      "A value is trying to be set on a copy of a slice from a DataFrame.\n",
      "Try using .loc[row_indexer,col_indexer] = value instead\n",
      "\n",
      "See the caveats in the documentation: https://pandas.pydata.org/pandas-docs/stable/user_guide/indexing.html#returning-a-view-versus-a-copy\n",
      "  df_evergreen[\"maturity_date\"] = (\n",
      "c:\\Users\\VictorLeCoz\\local\\Secured_interbank_network\\emp_fake_data.py:77: PerformanceWarning: Non-vectorized DateOffset being applied to Series or DatetimeIndex.\n",
      "  df_evergreen[\"trade_date\"] + row * bbday\n",
      "c:\\Users\\VictorLeCoz\\local\\Secured_interbank_network\\emp_fake_data.py:76: SettingWithCopyWarning: \n",
      "A value is trying to be set on a copy of a slice from a DataFrame.\n",
      "Try using .loc[row_indexer,col_indexer] = value instead\n",
      "\n",
      "See the caveats in the documentation: https://pandas.pydata.org/pandas-docs/stable/user_guide/indexing.html#returning-a-view-versus-a-copy\n",
      "  df_evergreen[\"trade_date\"] = (\n",
      "c:\\Users\\VictorLeCoz\\local\\Secured_interbank_network\\emp_fake_data.py:80: PerformanceWarning: Non-vectorized DateOffset being applied to Series or DatetimeIndex.\n",
      "  df_evergreen[\"maturity_date\"] + row * bbday\n",
      "c:\\Users\\VictorLeCoz\\local\\Secured_interbank_network\\emp_fake_data.py:79: SettingWithCopyWarning: \n",
      "A value is trying to be set on a copy of a slice from a DataFrame.\n",
      "Try using .loc[row_indexer,col_indexer] = value instead\n",
      "\n",
      "See the caveats in the documentation: https://pandas.pydata.org/pandas-docs/stable/user_guide/indexing.html#returning-a-view-versus-a-copy\n",
      "  df_evergreen[\"maturity_date\"] = (\n",
      "c:\\Users\\VictorLeCoz\\local\\Secured_interbank_network\\emp_fake_data.py:77: PerformanceWarning: Non-vectorized DateOffset being applied to Series or DatetimeIndex.\n",
      "  df_evergreen[\"trade_date\"] + row * bbday\n",
      "c:\\Users\\VictorLeCoz\\local\\Secured_interbank_network\\emp_fake_data.py:76: SettingWithCopyWarning: \n",
      "A value is trying to be set on a copy of a slice from a DataFrame.\n",
      "Try using .loc[row_indexer,col_indexer] = value instead\n",
      "\n",
      "See the caveats in the documentation: https://pandas.pydata.org/pandas-docs/stable/user_guide/indexing.html#returning-a-view-versus-a-copy\n",
      "  df_evergreen[\"trade_date\"] = (\n",
      "c:\\Users\\VictorLeCoz\\local\\Secured_interbank_network\\emp_fake_data.py:80: PerformanceWarning: Non-vectorized DateOffset being applied to Series or DatetimeIndex.\n",
      "  df_evergreen[\"maturity_date\"] + row * bbday\n",
      "c:\\Users\\VictorLeCoz\\local\\Secured_interbank_network\\emp_fake_data.py:79: SettingWithCopyWarning: \n",
      "A value is trying to be set on a copy of a slice from a DataFrame.\n",
      "Try using .loc[row_indexer,col_indexer] = value instead\n",
      "\n",
      "See the caveats in the documentation: https://pandas.pydata.org/pandas-docs/stable/user_guide/indexing.html#returning-a-view-versus-a-copy\n",
      "  df_evergreen[\"maturity_date\"] = (\n",
      "c:\\Users\\VictorLeCoz\\local\\Secured_interbank_network\\emp_fake_data.py:77: PerformanceWarning: Non-vectorized DateOffset being applied to Series or DatetimeIndex.\n",
      "  df_evergreen[\"trade_date\"] + row * bbday\n",
      "c:\\Users\\VictorLeCoz\\local\\Secured_interbank_network\\emp_fake_data.py:76: SettingWithCopyWarning: \n",
      "A value is trying to be set on a copy of a slice from a DataFrame.\n",
      "Try using .loc[row_indexer,col_indexer] = value instead\n",
      "\n",
      "See the caveats in the documentation: https://pandas.pydata.org/pandas-docs/stable/user_guide/indexing.html#returning-a-view-versus-a-copy\n",
      "  df_evergreen[\"trade_date\"] = (\n",
      "c:\\Users\\VictorLeCoz\\local\\Secured_interbank_network\\emp_fake_data.py:80: PerformanceWarning: Non-vectorized DateOffset being applied to Series or DatetimeIndex.\n",
      "  df_evergreen[\"maturity_date\"] + row * bbday\n",
      "c:\\Users\\VictorLeCoz\\local\\Secured_interbank_network\\emp_fake_data.py:79: SettingWithCopyWarning: \n",
      "A value is trying to be set on a copy of a slice from a DataFrame.\n",
      "Try using .loc[row_indexer,col_indexer] = value instead\n",
      "\n",
      "See the caveats in the documentation: https://pandas.pydata.org/pandas-docs/stable/user_guide/indexing.html#returning-a-view-versus-a-copy\n",
      "  df_evergreen[\"maturity_date\"] = (\n"
     ]
    }
   ],
   "source": [
    "nb_lines = int(1e2) # 1 million lines\n",
    "\n",
    "# # opt 1: get the mmsr exposure view (prepared by NA)\n",
    "# df_exposures = ef.get_df_exposures(lines=int(1e5),freq=\"5h\")\n",
    "\n",
    "# opt 2: get df_mmsr secured (used for transaction and exposure view)\n",
    "df_mmsr_secured = ef.get_df_mmsr_secured(nb_tran=nb_lines,holidays=dm.holidays)\n",
    "\n",
    "# get df_mmsr unsecured (used for deposits time series)\n",
    "df_mmsr_unsecured = ef.get_df_mmsr_unsecured(nb_tran=nb_lines,holidays=dm.holidays)\n",
    "\n",
    "# build fake finrep data (used for accounting view)\n",
    "df_finrep = ef.get_df_finrep()"
   ]
  },
  {
   "attachments": {},
   "cell_type": "markdown",
   "id": "38e308f6",
   "metadata": {},
   "source": [
    "## 1.3 preprocessing"
   ]
  },
  {
   "cell_type": "markdown",
   "id": "87225ba2",
   "metadata": {},
   "source": [
    "**MMSR reporting instructions for evergreen repos**\n",
    "\n",
    "The reporting of evergreen repos is defined by the MMSR reporting instruction, paragraph 3.1 https://www.ecb.europa.eu/stats/money/mmss/shared/files/MMSR-Reporting_instructions.pdf\n",
    "\n",
    "Evergreen are reported with the notice period defined as the maturity date and rolled over every day (reporting a new line in MMSR each day) until the product is cancelled.\n",
    "\n",
    "To detect an evergreen we flag all transactions that are repeted across several days with the exact same counterparties, nominal amount and tenor."
   ]
  },
  {
   "cell_type": "code",
   "execution_count": 3,
   "id": "f696379f",
   "metadata": {},
   "outputs": [
    {
     "data": {
      "text/plain": [
       "'193.2 KiB'"
      ]
     },
     "execution_count": 3,
     "metadata": {},
     "output_type": "execute_result"
    }
   ],
   "source": [
    "fct.sizeof_fmt(fct.get_size(df_mmsr_secured))"
   ]
  },
  {
   "cell_type": "code",
   "execution_count": 4,
   "id": "d5c9e1d6",
   "metadata": {},
   "outputs": [
    {
     "data": {
      "text/plain": [
       "'113.3 KiB'"
      ]
     },
     "execution_count": 4,
     "metadata": {},
     "output_type": "execute_result"
    }
   ],
   "source": [
    "# data anonymization\n",
    "ep.anonymize(df_mmsr_secured,df_mmsr_unsecured,df_finrep, path=path)\n",
    "\n",
    "# data size reduction\n",
    "ep.reduce_size(df_mmsr_secured,df_mmsr_unsecured, path)\n",
    "fct.sizeof_fmt(fct.get_size(df_mmsr_secured))"
   ]
  },
  {
   "cell_type": "code",
   "execution_count": 5,
   "id": "02f27bef",
   "metadata": {},
   "outputs": [
    {
     "name": "stdout",
     "output_type": "stream",
     "text": [
      "get df_mmsr_secured_clean\n",
      "get df_mmsr_secured_expanded\n",
      "get dic_rev_repo_exp_adj from df_mmsr_secured_expanded\n"
     ]
    },
    {
     "name": "stderr",
     "output_type": "stream",
     "text": [
      "100%|██████████| 3125/3125 [00:06<00:00, 503.23it/s]\n"
     ]
    },
    {
     "name": "stdout",
     "output_type": "stream",
     "text": [
      "get dic_arr_binary_adj\n"
     ]
    },
    {
     "name": "stderr",
     "output_type": "stream",
     "text": [
      "c:\\Users\\VictorLeCoz\\local\\Secured_interbank_network\\emp_preprocessing.py:542: NumbaExperimentalFeatureWarning: \u001b[1m\u001b[1m\u001b[1m\u001b[1mUse of isinstance() detected. This is an experimental feature.\u001b[0m\u001b[0m\u001b[0m\u001b[0m\n",
      "  binary_adj = np.where(\n"
     ]
    },
    {
     "name": "stdout",
     "output_type": "stream",
     "text": [
      "get dic_dashed_trajectory\n"
     ]
    }
   ],
   "source": [
    "# # opt 1: get dic reverse repo exp adj history from exposure (prepared by NA)\n",
    "# dic_rev_repo_exp_adj = ep.get_dic_rev_repo_exp_adj_from_exposures(df_exposures=df_exposures,path=path, plot_period=plot_period)\n",
    "\n",
    "# opt 2: get dic reverse repo exp adj history directly from mmsr\n",
    "df_mmsr_secured_clean = ep.get_df_mmsr_secured_clean(df_mmsr_secured,holidays=dm.holidays, path=path, compute_tenor=False)\n",
    "df_mmsr_secured_expanded = ep.get_df_mmsr_secured_expanded(df_mmsr_secured_clean,  holidays=False, path=path)\n",
    "dic_rev_repo_exp_adj = ep.get_dic_rev_repo_exp_adj_from_df_mmsr_secured_expanded(df_mmsr_secured_expanded,path=path, plot_period=False)\n",
    "\n",
    "# get aggregated adjency matrices\n",
    "dic_arr_binary_adj = ep.get_dic_arr_binary_adj(dic_rev_repo_exp_adj=dic_rev_repo_exp_adj,path=path, plot_period=plot_period)\n",
    "\n",
    "# get df_rev_repo_trans\n",
    "df_rev_repo_trans = ep.get_df_rev_repo_trans(df_mmsr_secured_clean, path=path)\n",
    "\n",
    "# get dic dashed trajectory \n",
    "df_finrep_clean = ep.get_df_finrep_clean(df_finrep, path=path)\n",
    "ep.add_ratios_in_df_finrep_clean(df_finrep_clean, path=path)\n",
    "dic_dashed_trajectory = ep.get_dic_dashed_trajectory(df_finrep_clean,path=path)"
   ]
  },
  {
   "attachments": {},
   "cell_type": "markdown",
   "id": "17ffa7fa",
   "metadata": {},
   "source": [
    "## 1.4 pickle"
   ]
  },
  {
   "cell_type": "code",
   "execution_count": 6,
   "id": "7e56a43b",
   "metadata": {},
   "outputs": [],
   "source": [
    "# load input data\n",
    "df_mmsr_secured, df_mmsr_secured_clean, df_mmsr_secured_expanded, df_mmsr_unsecured, df_finrep_clean = ep.load_input_data(path=path)\n",
    "\n",
    "# pickle (faster)\n",
    "dic_arr_binary_adj = ep.load_dic_arr_binary_adj(path=path)\n",
    "dic_rev_repo_exp_adj = ep.load_dic_rev_repo_exp_adj(path=path)\n",
    "dic_dashed_trajectory = ep.load_dic_dashed_trajectory(path=path)\n",
    "df_rev_repo_trans = pd.read_csv(f\"{path}pickle/df_rev_repo_trans.csv\", index_col=0)"
   ]
  },
  {
   "attachments": {},
   "cell_type": "markdown",
   "id": "27ae698a",
   "metadata": {},
   "source": [
    "# 2 metrics measurement"
   ]
  },
  {
   "cell_type": "code",
   "execution_count": 7,
   "id": "bfc69fc2",
   "metadata": {},
   "outputs": [],
   "source": [
    "os.makedirs(f\"{path}accounting_view/\", exist_ok=True)"
   ]
  },
  {
   "attachments": {},
   "cell_type": "markdown",
   "id": "8101911f",
   "metadata": {},
   "source": [
    "### 2.1.2 accounting items"
   ]
  },
  {
   "attachments": {},
   "cell_type": "markdown",
   "id": "c8bfb75d",
   "metadata": {},
   "source": [
    "#### A - static, distribution across banks, at several point in time "
   ]
  },
  {
   "cell_type": "code",
   "execution_count": 8,
   "id": "c7fd44b3",
   "metadata": {},
   "outputs": [
    {
     "name": "stdout",
     "output_type": "stream",
     "text": [
      "run power law tests\n"
     ]
    },
    {
     "name": "stderr",
     "output_type": "stream",
     "text": [
      "Calculating best minimal value for power law fit\n",
      "c:\\Users\\VictorLeCoz\\Anaconda3\\envs\\interbank_network\\lib\\site-packages\\powerlaw.py:699: RuntimeWarning: invalid value encountered in divide\n",
      "  (CDF_diff**2) /\n",
      "Calculating best minimal value for power law fit\n",
      "c:\\Users\\VictorLeCoz\\Anaconda3\\envs\\interbank_network\\lib\\site-packages\\powerlaw.py:699: RuntimeWarning: invalid value encountered in divide\n",
      "  (CDF_diff**2) /\n",
      "Calculating best minimal value for power law fit\n",
      "Calculating best minimal value for power law fit\n",
      "Calculating best minimal value for power law fit\n",
      "Calculating best minimal value for power law fit\n",
      "Calculating best minimal value for power law fit\n",
      "Calculating best minimal value for power law fit\n",
      "Calculating best minimal value for power law fit\n",
      "Calculating best minimal value for power law fit\n",
      "Calculating best minimal value for power law fit\n",
      "Calculating best minimal value for power law fit\n",
      "Calculating best minimal value for power law fit\n",
      "Calculating best minimal value for power law fit\n",
      "c:\\Users\\VictorLeCoz\\Anaconda3\\envs\\interbank_network\\lib\\site-packages\\powerlaw.py:699: RuntimeWarning: divide by zero encountered in divide\n",
      "  (CDF_diff**2) /\n",
      "Calculating best minimal value for power law fit\n",
      "Calculating best minimal value for power law fit\n",
      "Calculating best minimal value for power law fit\n",
      "Calculating best minimal value for power law fit\n",
      "Calculating best minimal value for power law fit\n",
      "Calculating best minimal value for power law fit\n",
      "Calculating best minimal value for power law fit\n",
      "Calculating best minimal value for power law fit\n",
      "Calculating best minimal value for power law fit\n",
      "Calculating best minimal value for power law fit\n",
      "Calculating best minimal value for power law fit\n",
      "Calculating best minimal value for power law fit\n",
      "Calculating best minimal value for power law fit\n",
      "Calculating best minimal value for power law fit\n",
      "Calculating best minimal value for power law fit\n",
      "Calculating best minimal value for power law fit\n",
      "Calculating best minimal value for power law fit\n",
      "Calculating best minimal value for power law fit\n",
      "Calculating best minimal value for power law fit\n",
      "Calculating best minimal value for power law fit\n",
      "Calculating best minimal value for power law fit\n",
      "Calculating best minimal value for power law fit\n",
      "Calculating best minimal value for power law fit\n",
      "Calculating best minimal value for power law fit\n",
      "Calculating best minimal value for power law fit\n",
      "Calculating best minimal value for power law fit\n",
      "Calculating best minimal value for power law fit\n",
      "Calculating best minimal value for power law fit\n",
      "Calculating best minimal value for power law fit\n",
      "Calculating best minimal value for power law fit\n",
      "Calculating best minimal value for power law fit\n",
      "Calculating best minimal value for power law fit\n",
      "Calculating best minimal value for power law fit\n",
      "Calculating best minimal value for power law fit\n",
      "Calculating best minimal value for power law fit\n",
      "Calculating best minimal value for power law fit\n",
      "Calculating best minimal value for power law fit\n",
      "Calculating best minimal value for power law fit\n",
      "Calculating best minimal value for power law fit\n",
      "Calculating best minimal value for power law fit\n",
      "Calculating best minimal value for power law fit\n",
      "Calculating best minimal value for power law fit\n",
      "Calculating best minimal value for power law fit\n",
      "Calculating best minimal value for power law fit\n",
      "Calculating best minimal value for power law fit\n",
      "Calculating best minimal value for power law fit\n",
      "Calculating best minimal value for power law fit\n",
      "Calculating best minimal value for power law fit\n",
      "Calculating best minimal value for power law fit\n",
      "Calculating best minimal value for power law fit\n",
      "Calculating best minimal value for power law fit\n",
      "Calculating best minimal value for power law fit\n",
      "Calculating best minimal value for power law fit\n",
      "Calculating best minimal value for power law fit\n",
      "Calculating best minimal value for power law fit\n",
      "Calculating best minimal value for power law fit\n",
      "Calculating best minimal value for power law fit\n",
      "Calculating best minimal value for power law fit\n",
      "Calculating best minimal value for power law fit\n",
      "Calculating best minimal value for power law fit\n",
      "Calculating best minimal value for power law fit\n",
      "Calculating best minimal value for power law fit\n",
      "Calculating best minimal value for power law fit\n",
      "Calculating best minimal value for power law fit\n",
      "Calculating best minimal value for power law fit\n",
      "Calculating best minimal value for power law fit\n",
      "Calculating best minimal value for power law fit\n",
      "Calculating best minimal value for power law fit\n",
      "Calculating best minimal value for power law fit\n",
      "Calculating best minimal value for power law fit\n",
      "Calculating best minimal value for power law fit\n",
      "Calculating best minimal value for power law fit\n",
      "Calculating best minimal value for power law fit\n",
      "Calculating best minimal value for power law fit\n",
      "Calculating best minimal value for power law fit\n",
      "Calculating best minimal value for power law fit\n",
      "Calculating best minimal value for power law fit\n",
      "Calculating best minimal value for power law fit\n",
      "Calculating best minimal value for power law fit\n",
      "Calculating best minimal value for power law fit\n",
      "Calculating best minimal value for power law fit\n",
      "Calculating best minimal value for power law fit\n",
      "Calculating best minimal value for power law fit\n",
      "Calculating best minimal value for power law fit\n",
      "Calculating best minimal value for power law fit\n",
      "Calculating best minimal value for power law fit\n",
      "Calculating best minimal value for power law fit\n",
      "Calculating best minimal value for power law fit\n",
      "Calculating best minimal value for power law fit\n",
      "Calculating best minimal value for power law fit\n",
      "Calculating best minimal value for power law fit\n",
      "Calculating best minimal value for power law fit\n",
      "Calculating best minimal value for power law fit\n",
      "Calculating best minimal value for power law fit\n",
      "Calculating best minimal value for power law fit\n",
      "Calculating best minimal value for power law fit\n",
      "Calculating best minimal value for power law fit\n",
      "Calculating best minimal value for power law fit\n",
      "Calculating best minimal value for power law fit\n",
      "Calculating best minimal value for power law fit\n",
      "Calculating best minimal value for power law fit\n",
      "Calculating best minimal value for power law fit\n",
      "Calculating best minimal value for power law fit\n",
      "Calculating best minimal value for power law fit\n",
      "Calculating best minimal value for power law fit\n",
      "Calculating best minimal value for power law fit\n",
      "Calculating best minimal value for power law fit\n",
      "Calculating best minimal value for power law fit\n",
      "Calculating best minimal value for power law fit\n",
      "Calculating best minimal value for power law fit\n",
      "Calculating best minimal value for power law fit\n",
      "Calculating best minimal value for power law fit\n",
      "Calculating best minimal value for power law fit\n",
      "Calculating best minimal value for power law fit\n",
      "Calculating best minimal value for power law fit\n",
      "Calculating best minimal value for power law fit\n",
      "Calculating best minimal value for power law fit\n",
      "Calculating best minimal value for power law fit\n",
      "Calculating best minimal value for power law fit\n",
      "Calculating best minimal value for power law fit\n",
      "Calculating best minimal value for power law fit\n",
      "Calculating best minimal value for power law fit\n",
      "Calculating best minimal value for power law fit\n",
      "Calculating best minimal value for power law fit\n",
      "Calculating best minimal value for power law fit\n",
      "Calculating best minimal value for power law fit\n",
      "Calculating best minimal value for power law fit\n",
      "Calculating best minimal value for power law fit\n",
      "Calculating best minimal value for power law fit\n",
      "Calculating best minimal value for power law fit\n",
      "Calculating best minimal value for power law fit\n",
      "Calculating best minimal value for power law fit\n",
      "Calculating best minimal value for power law fit\n",
      "Calculating best minimal value for power law fit\n",
      "Calculating best minimal value for power law fit\n",
      "Calculating best minimal value for power law fit\n",
      "Calculating best minimal value for power law fit\n",
      "Calculating best minimal value for power law fit\n",
      "Calculating best minimal value for power law fit\n",
      "Calculating best minimal value for power law fit\n",
      "Calculating best minimal value for power law fit\n",
      "Calculating best minimal value for power law fit\n",
      "Calculating best minimal value for power law fit\n",
      "Calculating best minimal value for power law fit\n",
      "Calculating best minimal value for power law fit\n",
      "Calculating best minimal value for power law fit\n",
      "Calculating best minimal value for power law fit\n",
      "Calculating best minimal value for power law fit\n",
      "Calculating best minimal value for power law fit\n",
      "Calculating best minimal value for power law fit\n",
      "Calculating best minimal value for power law fit\n",
      "Calculating best minimal value for power law fit\n",
      "Calculating best minimal value for power law fit\n",
      "Calculating best minimal value for power law fit\n",
      "Calculating best minimal value for power law fit\n",
      "Calculating best minimal value for power law fit\n",
      "Calculating best minimal value for power law fit\n",
      "Calculating best minimal value for power law fit\n",
      "Calculating best minimal value for power law fit\n",
      "Calculating best minimal value for power law fit\n",
      "Calculating best minimal value for power law fit\n",
      "Calculating best minimal value for power law fit\n",
      "Calculating best minimal value for power law fit\n",
      "Calculating best minimal value for power law fit\n",
      "Calculating best minimal value for power law fit\n",
      "Calculating best minimal value for power law fit\n",
      "Calculating best minimal value for power law fit\n",
      "Calculating best minimal value for power law fit\n",
      "Calculating best minimal value for power law fit\n",
      "Calculating best minimal value for power law fit\n",
      "Calculating best minimal value for power law fit\n",
      "Calculating best minimal value for power law fit\n",
      "Calculating best minimal value for power law fit\n",
      "Calculating best minimal value for power law fit\n",
      "Calculating best minimal value for power law fit\n",
      "Calculating best minimal value for power law fit\n",
      "Calculating best minimal value for power law fit\n",
      "Calculating best minimal value for power law fit\n",
      "Calculating best minimal value for power law fit\n",
      "Calculating best minimal value for power law fit\n",
      "Calculating best minimal value for power law fit\n",
      "Calculating best minimal value for power law fit\n",
      "Calculating best minimal value for power law fit\n",
      "Calculating best minimal value for power law fit\n",
      "Calculating best minimal value for power law fit\n",
      "Calculating best minimal value for power law fit\n",
      "Calculating best minimal value for power law fit\n",
      "Calculating best minimal value for power law fit\n",
      "Calculating best minimal value for power law fit\n",
      "Calculating best minimal value for power law fit\n",
      "Calculating best minimal value for power law fit\n",
      "Calculating best minimal value for power law fit\n",
      "Calculating best minimal value for power law fit\n",
      "Calculating best minimal value for power law fit\n",
      "Calculating best minimal value for power law fit\n",
      "Calculating best minimal value for power law fit\n",
      "Calculating best minimal value for power law fit\n",
      "Calculating best minimal value for power law fit\n",
      "Calculating best minimal value for power law fit\n",
      "Calculating best minimal value for power law fit\n",
      "Calculating best minimal value for power law fit\n",
      "Calculating best minimal value for power law fit\n",
      "Calculating best minimal value for power law fit\n",
      "Calculating best minimal value for power law fit\n",
      "Calculating best minimal value for power law fit\n",
      "Calculating best minimal value for power law fit\n",
      "Calculating best minimal value for power law fit\n",
      "Calculating best minimal value for power law fit\n",
      "Calculating best minimal value for power law fit\n",
      "Calculating best minimal value for power law fit\n",
      "Calculating best minimal value for power law fit\n",
      "Calculating best minimal value for power law fit\n",
      "Calculating best minimal value for power law fit\n",
      "Calculating best minimal value for power law fit\n",
      "Calculating best minimal value for power law fit\n",
      "Calculating best minimal value for power law fit\n",
      "Calculating best minimal value for power law fit\n",
      "Calculating best minimal value for power law fit\n",
      "Calculating best minimal value for power law fit\n",
      "Calculating best minimal value for power law fit\n",
      "Calculating best minimal value for power law fit\n",
      "Calculating best minimal value for power law fit\n",
      "Calculating best minimal value for power law fit\n",
      "Calculating best minimal value for power law fit\n",
      "Calculating best minimal value for power law fit\n",
      "Calculating best minimal value for power law fit\n",
      "Calculating best minimal value for power law fit\n",
      "Calculating best minimal value for power law fit\n",
      "Calculating best minimal value for power law fit\n",
      "Calculating best minimal value for power law fit\n",
      "Calculating best minimal value for power law fit\n",
      "Calculating best minimal value for power law fit\n",
      "Calculating best minimal value for power law fit\n",
      "Calculating best minimal value for power law fit\n",
      "Calculating best minimal value for power law fit\n",
      "Calculating best minimal value for power law fit\n",
      "Calculating best minimal value for power law fit\n",
      "Calculating best minimal value for power law fit\n",
      "Calculating best minimal value for power law fit\n",
      "Calculating best minimal value for power law fit\n",
      "Calculating best minimal value for power law fit\n",
      "Calculating best minimal value for power law fit\n",
      "Calculating best minimal value for power law fit\n",
      "Calculating best minimal value for power law fit\n",
      "Calculating best minimal value for power law fit\n",
      "Calculating best minimal value for power law fit\n",
      "Calculating best minimal value for power law fit\n",
      "Calculating best minimal value for power law fit\n",
      "Calculating best minimal value for power law fit\n",
      "Calculating best minimal value for power law fit\n"
     ]
    }
   ],
   "source": [
    "days = list(dic_rev_repo_exp_adj.keys())\n",
    "plot_days = fct.list_intersection(days, dic_dashed_trajectory.keys())\n",
    "bank_items = list(list(dic_dashed_trajectory.values())[0].columns)\n",
    "\n",
    "# get df_powerlaw\n",
    "df_powerlaw = em.get_powerlaw(\n",
    "            dic_dashed_trajectory=dic_dashed_trajectory,\n",
    "            days=days,\n",
    "            plot_days=plot_days,\n",
    "            plot_period=plot_period,\n",
    "            path=f\"{path}accounting_view/static/\"\n",
    "        )\n",
    "\n",
    "# plot each powerlaw charts \n",
    "gx.plot_powerlaw(\n",
    "            df_network_trajectory=df_powerlaw,\n",
    "            days=days,\n",
    "            plot_period=plot_period,\n",
    "            path=f\"{path}accounting_view/\",\n",
    "            plot_days=plot_days,\n",
    "            bank_items=bank_items,\n",
    "        )\n",
    "\n",
    "# plot p-values across time \n",
    "gx.plot_network_trajectory(\n",
    "                df=df_powerlaw,\n",
    "                cols=[f\"powerlaw p-value {bank_item}\"  for bank_item in bank_items],\n",
    "                file_name=f\"{path}accounting_view/static/powerlaw_pvalue.pdf\",\n",
    "            )\n",
    "\n",
    "# plot alpha of power laws across time \n",
    "gx.plot_network_trajectory(\n",
    "                df=df_powerlaw,\n",
    "                cols=[f\"powerlaw alpha {bank_item}\"  for bank_item in bank_items],\n",
    "                file_name=f\"{path}accounting_view/static/powerlaw_alpha.pdf\",\n",
    "            )"
   ]
  },
  {
   "attachments": {},
   "cell_type": "markdown",
   "id": "7b85896f",
   "metadata": {},
   "source": [
    "#### B - dynamic, distribution across time"
   ]
  },
  {
   "cell_type": "code",
   "execution_count": 9,
   "id": "b3cfacb0",
   "metadata": {},
   "outputs": [
    {
     "name": "stdout",
     "output_type": "stream",
     "text": [
      "get df_deposits\n"
     ]
    }
   ],
   "source": [
    "df_delta_deposits, df_relative_deposits, df_delta_deposits_over_assets = em.get_df_deposits(df_mmsr_unsecured, dic_dashed_trajectory)"
   ]
  },
  {
   "cell_type": "code",
   "execution_count": 10,
   "id": "19f0318a",
   "metadata": {},
   "outputs": [
    {
     "name": "stdout",
     "output_type": "stream",
     "text": [
      "get df_deposits_variations_by_bank\n"
     ]
    }
   ],
   "source": [
    "# distribution of deposits relative variation across time for each single bank\n",
    "df_deposits_variations_by_bank = em.get_df_deposits_variations_by_bank(df_delta_deposits, df_relative_deposits, df_delta_deposits_over_assets, f\"{path}/accounting_view/dynamic/\")\n",
    "\n",
    "df = df_deposits_variations_by_bank[df_deposits_variations_by_bank>0]\n",
    "em.run_n_plot_powerlaw(df,f\"{path}accounting_view/dynamic/per_bank/positive/\", transverse=True)\n",
    "\n",
    "df = -df_deposits_variations_by_bank[df_deposits_variations_by_bank<0]\n",
    "em.run_n_plot_powerlaw(df,f\"{path}accounting_view/dynamic/per_bank/negative/\", transverse=True)"
   ]
  },
  {
   "attachments": {},
   "cell_type": "markdown",
   "id": "82f6c566",
   "metadata": {},
   "source": [
    "#### C - mixed view across time and banks"
   ]
  },
  {
   "cell_type": "code",
   "execution_count": 11,
   "id": "9f0875d2",
   "metadata": {},
   "outputs": [
    {
     "name": "stdout",
     "output_type": "stream",
     "text": [
      "get df_deposits_variation\n"
     ]
    },
    {
     "name": "stderr",
     "output_type": "stream",
     "text": [
      "Calculating best minimal value for power law fit\n",
      "c:\\Users\\VictorLeCoz\\Anaconda3\\envs\\interbank_network\\lib\\site-packages\\powerlaw.py:699: RuntimeWarning: invalid value encountered in divide\n",
      "  (CDF_diff**2) /\n"
     ]
    }
   ],
   "source": [
    "# distribution of deposits relative variation across time for each single bank\n",
    "df_deposits_variations = em.get_df_deposits_variations(df_delta_deposits, df_relative_deposits, df_delta_deposits_over_assets, f\"{path}/accounting_view/mixed/\")\n",
    "\n",
    "df = df_deposits_variations[df_deposits_variations>0]\n",
    "em.run_n_plot_powerlaw(df,f\"{path}accounting_view/mixed/positive/\")\n",
    "\n",
    "df = -df_deposits_variations[df_deposits_variations<0]\n",
    "em.run_n_plot_powerlaw(df,f\"{path}accounting_view/mixed/negative/\")"
   ]
  },
  {
   "attachments": {},
   "cell_type": "markdown",
   "id": "179a84a8",
   "metadata": {},
   "source": [
    "## 2.2. exposure view"
   ]
  },
  {
   "cell_type": "code",
   "execution_count": 12,
   "id": "e3be6955",
   "metadata": {},
   "outputs": [],
   "source": [
    "os.makedirs(f\"{path}exposure_view/\", exist_ok=True)"
   ]
  },
  {
   "attachments": {},
   "cell_type": "markdown",
   "id": "d20f818d",
   "metadata": {},
   "source": [
    "### 2.2.1 jaccard"
   ]
  },
  {
   "cell_type": "code",
   "execution_count": 13,
   "id": "af67a20c",
   "metadata": {},
   "outputs": [
    {
     "name": "stdout",
     "output_type": "stream",
     "text": [
      "get jaccard\n"
     ]
    },
    {
     "name": "stderr",
     "output_type": "stream",
     "text": [
      "100%|██████████| 3124/3124 [00:00<00:00, 4029.26it/s]\n"
     ]
    }
   ],
   "source": [
    "days = list(dic_rev_repo_exp_adj.keys())\n",
    "\n",
    "# get jaccard\n",
    "df_jaccard = em.get_rev_repo_exposure_stats(dic_arr_binary_adj, days, path=f\"{path}exposure_view/\")\n",
    "gx.plot_network_trajectory(\n",
    "            df=df_jaccard,\n",
    "            cols=df_jaccard.columns,\n",
    "            file_name=f\"{path}exposure_view/jaccard_index.pdf\")"
   ]
  },
  {
   "attachments": {},
   "cell_type": "markdown",
   "id": "62a3fac4",
   "metadata": {},
   "source": [
    "### 2.2.2 density"
   ]
  },
  {
   "cell_type": "code",
   "execution_count": 14,
   "id": "758c5661",
   "metadata": {},
   "outputs": [
    {
     "name": "stdout",
     "output_type": "stream",
     "text": [
      "get density\n"
     ]
    },
    {
     "name": "stderr",
     "output_type": "stream",
     "text": [
      "100%|██████████| 3124/3124 [00:00<00:00, 4247.29it/s]\n"
     ]
    }
   ],
   "source": [
    "days = list(dic_rev_repo_exp_adj.keys())\n",
    "\n",
    "# get density\n",
    "df_density = em.get_density(dic_arr_binary_adj, days, path=f\"{path}exposure_view/\")\n",
    "gx.plot_network_trajectory(\n",
    "            df=df_density,\n",
    "            cols=df_density.columns,\n",
    "            file_name=f\"{path}exposure_view/network_density.pdf\",\n",
    "        )"
   ]
  },
  {
   "attachments": {},
   "cell_type": "markdown",
   "id": "848fc0f1",
   "metadata": {},
   "source": [
    "### 2.2.3 degree distribution  (static)"
   ]
  },
  {
   "cell_type": "code",
   "execution_count": 15,
   "id": "e1538f0b",
   "metadata": {},
   "outputs": [
    {
     "name": "stdout",
     "output_type": "stream",
     "text": [
      "get degree distribution\n"
     ]
    },
    {
     "name": "stderr",
     "output_type": "stream",
     "text": [
      "100%|██████████| 3125/3125 [00:00<00:00, 3578.19it/s]\n"
     ]
    }
   ],
   "source": [
    "days = list(dic_rev_repo_exp_adj.keys())\n",
    "\n",
    "# get degree distribution\n",
    "dic_in_degree, dic_out_degree, dic_degree = em.get_degree_distribution(dic_arr_binary_adj, path=f\"{path}exposure_view/degree_distribution/\")\n",
    "gx.plot_degree_distribution(dic_in_degree,\n",
    "    dic_out_degree,\n",
    "    days,\n",
    "    plot_period,\n",
    "    f\"{path}exposure_view/degree_distribution/\")\n"
   ]
  },
  {
   "attachments": {},
   "cell_type": "markdown",
   "id": "c03fafc7",
   "metadata": {},
   "source": [
    "### 2.2.4 degree stats"
   ]
  },
  {
   "cell_type": "code",
   "execution_count": 16,
   "id": "c3bc10a5",
   "metadata": {},
   "outputs": [
    {
     "name": "stdout",
     "output_type": "stream",
     "text": [
      "get degree stats\n"
     ]
    },
    {
     "name": "stderr",
     "output_type": "stream",
     "text": [
      "100%|██████████| 3124/3124 [00:02<00:00, 1282.37it/s]\n"
     ]
    }
   ],
   "source": [
    "days = list(dic_rev_repo_exp_adj.keys())\n",
    "\n",
    "# get av. degree\n",
    "df_degree_stats = em.get_degree_stats(dic_degree, days, path=f\"{path}exposure_view/\")\n",
    "gx.plot_network_trajectory(\n",
    "            df=df_degree_stats,\n",
    "            cols=df_degree_stats.columns,\n",
    "            file_name=f\"{path}exposure_view/degree_stats.pdf\",\n",
    "        )"
   ]
  },
  {
   "attachments": {},
   "cell_type": "markdown",
   "id": "211bf04f",
   "metadata": {},
   "source": [
    "### 2.2.5 degree per asset"
   ]
  },
  {
   "cell_type": "code",
   "execution_count": 17,
   "id": "f8f633a4",
   "metadata": {},
   "outputs": [],
   "source": [
    "days = list(dic_rev_repo_exp_adj.keys())\n",
    "bank_ids = list(dic_rev_repo_exp_adj.values())[0].index\n",
    "\n",
    "# select the days and banks (common between the 2 lists)\n",
    "finrep_days = list(df_finrep_clean[\"qdate\"])\n",
    "finrep_bank_ids = list(set(df_finrep_clean[\"report_agent_lei\"]))\n",
    "plot_days = fct.list_intersection(days, finrep_days)\n",
    "\n",
    "# plot\n",
    "gx.plot_degree_per_asset(\n",
    "    dic_dashed_trajectory,\n",
    "    dic_degree,\n",
    "    bank_ids,\n",
    "    days,\n",
    "    plot_period,\n",
    "    f\"{path}exposure_view/degree_per_asset/\",\n",
    "    plot_days=plot_days,\n",
    "    finrep_bank_ids=finrep_bank_ids)"
   ]
  },
  {
   "attachments": {},
   "cell_type": "markdown",
   "id": "62af12bc",
   "metadata": {},
   "source": [
    "### 2.2.6 network plots (static)"
   ]
  },
  {
   "cell_type": "code",
   "execution_count": 18,
   "id": "86ba13d3",
   "metadata": {},
   "outputs": [],
   "source": [
    "days = list(dic_rev_repo_exp_adj.keys())\n",
    "bank_ids = list(list(dic_rev_repo_exp_adj.values())[0].index)\n",
    "arr_rev_repo_exp_adj = ep.convert_dic_to_array(dic_rev_repo_exp_adj)\n",
    "plot_days = fct.list_intersection(days, dic_dashed_trajectory.keys())\n",
    "\n",
    "# plot the reverse repo network\n",
    "gx.plot_weighted_adj_network(\n",
    "    arr_rev_repo_exp_adj,\n",
    "    dic_dashed_trajectory,\n",
    "    days,\n",
    "    plot_period,\n",
    "    f\"{path}exposure_view/weighted_adj_network/\",\n",
    "    \"reverse repo\",\n",
    "    bank_ids=bank_ids,\n",
    "    plot_days=plot_days,\n",
    ")"
   ]
  },
  {
   "attachments": {},
   "cell_type": "markdown",
   "id": "3bc2c133",
   "metadata": {},
   "source": [
    "### 2.2.6 core periphery (static)"
   ]
  },
  {
   "cell_type": "code",
   "execution_count": 19,
   "id": "394414ed",
   "metadata": {},
   "outputs": [
    {
     "name": "stdout",
     "output_type": "stream",
     "text": [
      "run core-periphery tests\n"
     ]
    },
    {
     "name": "stderr",
     "output_type": "stream",
     "text": [
      "  0%|          | 0/5 [00:00<?, ?it/s]c:\\Users\\VictorLeCoz\\Anaconda3\\envs\\interbank_network\\lib\\site-packages\\cpnet\\utils.py:20: FutureWarning: adjacency_matrix will return a scipy.sparse array instead of a matrix in Networkx 3.0.\n",
      "  sparse.csr_matrix(nx.adjacency_matrix(net), dtype=np.float64),\n",
      "c:\\Users\\VictorLeCoz\\Anaconda3\\envs\\interbank_network\\lib\\site-packages\\cpnet\\qstest.py:96: FutureWarning: adjacency_matrix will return a scipy.sparse array instead of a matrix in Networkx 3.0.\n",
      "  A = nx.adjacency_matrix(G)\n"
     ]
    },
    {
     "name": "stdout",
     "output_type": "stream",
     "text": [
      "core-periphery tests using the KM_ER approach\n",
      "test on day 2000-05-03 00:00:00\n",
      "test on day 2007-05-29 00:00:00\n"
     ]
    },
    {
     "name": "stderr",
     "output_type": "stream",
     "text": [
      "c:\\Users\\VictorLeCoz\\Anaconda3\\envs\\interbank_network\\lib\\site-packages\\cpnet\\qstest.py:35: FutureWarning: adjacency_matrix will return a scipy.sparse array instead of a matrix in Networkx 3.0.\n",
      "  Ar = sparse.csr_matrix(nx.adjacency_matrix(Gr))\n",
      " 28%|██▊       | 28/100 [00:00<00:00, 409.96it/s]\n",
      "c:\\Users\\VictorLeCoz\\Anaconda3\\envs\\interbank_network\\lib\\site-packages\\cpnet\\utils.py:20: FutureWarning: adjacency_matrix will return a scipy.sparse array instead of a matrix in Networkx 3.0.\n",
      "  sparse.csr_matrix(nx.adjacency_matrix(net), dtype=np.float64),\n",
      "c:\\Users\\VictorLeCoz\\Anaconda3\\envs\\interbank_network\\lib\\site-packages\\cpnet\\qstest.py:96: FutureWarning: adjacency_matrix will return a scipy.sparse array instead of a matrix in Networkx 3.0.\n",
      "  A = nx.adjacency_matrix(G)\n"
     ]
    },
    {
     "name": "stdout",
     "output_type": "stream",
     "text": [
      "test on day 2014-06-26 00:00:00\n"
     ]
    },
    {
     "name": "stderr",
     "output_type": "stream",
     "text": [
      "c:\\Users\\VictorLeCoz\\Anaconda3\\envs\\interbank_network\\lib\\site-packages\\cpnet\\qstest.py:35: FutureWarning: adjacency_matrix will return a scipy.sparse array instead of a matrix in Networkx 3.0.\n",
      "  Ar = sparse.csr_matrix(nx.adjacency_matrix(Gr))\n",
      " 19%|█▉        | 19/100 [00:00<00:00, 422.04it/s]\n",
      "c:\\Users\\VictorLeCoz\\Anaconda3\\envs\\interbank_network\\lib\\site-packages\\cpnet\\utils.py:20: FutureWarning: adjacency_matrix will return a scipy.sparse array instead of a matrix in Networkx 3.0.\n",
      "  sparse.csr_matrix(nx.adjacency_matrix(net), dtype=np.float64),\n",
      "c:\\Users\\VictorLeCoz\\Anaconda3\\envs\\interbank_network\\lib\\site-packages\\cpnet\\qstest.py:96: FutureWarning: adjacency_matrix will return a scipy.sparse array instead of a matrix in Networkx 3.0.\n",
      "  A = nx.adjacency_matrix(G)\n"
     ]
    },
    {
     "name": "stdout",
     "output_type": "stream",
     "text": [
      "test on day 2023-05-04 00:00:00\n"
     ]
    },
    {
     "name": "stderr",
     "output_type": "stream",
     "text": [
      "c:\\Users\\VictorLeCoz\\Anaconda3\\envs\\interbank_network\\lib\\site-packages\\cpnet\\qstest.py:35: FutureWarning: adjacency_matrix will return a scipy.sparse array instead of a matrix in Networkx 3.0.\n",
      "  Ar = sparse.csr_matrix(nx.adjacency_matrix(Gr))\n",
      "  1%|          | 1/100 [00:00<00:00, 240.69it/s]\n",
      "c:\\Users\\VictorLeCoz\\Anaconda3\\envs\\interbank_network\\lib\\site-packages\\cpnet\\utils.py:20: FutureWarning: adjacency_matrix will return a scipy.sparse array instead of a matrix in Networkx 3.0.\n",
      "  sparse.csr_matrix(nx.adjacency_matrix(net), dtype=np.float64),\n",
      "c:\\Users\\VictorLeCoz\\Anaconda3\\envs\\interbank_network\\lib\\site-packages\\cpnet\\qstest.py:96: FutureWarning: adjacency_matrix will return a scipy.sparse array instead of a matrix in Networkx 3.0.\n",
      "  A = nx.adjacency_matrix(G)\n"
     ]
    },
    {
     "name": "stdout",
     "output_type": "stream",
     "text": [
      "test on day 2024-01-12 00:00:00\n"
     ]
    },
    {
     "name": "stderr",
     "output_type": "stream",
     "text": [
      "c:\\Users\\VictorLeCoz\\Anaconda3\\envs\\interbank_network\\lib\\site-packages\\cpnet\\qstest.py:35: FutureWarning: adjacency_matrix will return a scipy.sparse array instead of a matrix in Networkx 3.0.\n",
      "  Ar = sparse.csr_matrix(nx.adjacency_matrix(Gr))\n",
      "  0%|          | 0/100 [00:00<?, ?it/s]\n",
      "c:\\Users\\VictorLeCoz\\Anaconda3\\envs\\interbank_network\\lib\\site-packages\\cpnet\\utils.py:20: FutureWarning: adjacency_matrix will return a scipy.sparse array instead of a matrix in Networkx 3.0.\n",
      "  sparse.csr_matrix(nx.adjacency_matrix(net), dtype=np.float64),\n",
      "c:\\Users\\VictorLeCoz\\Anaconda3\\envs\\interbank_network\\lib\\site-packages\\cpnet\\qstest.py:96: FutureWarning: adjacency_matrix will return a scipy.sparse array instead of a matrix in Networkx 3.0.\n",
      "  A = nx.adjacency_matrix(G)\n"
     ]
    },
    {
     "name": "stdout",
     "output_type": "stream",
     "text": [
      "core-periphery tests using the KM_config approach\n",
      "test on day 2000-05-03 00:00:00\n",
      "test on day 2007-05-29 00:00:00\n"
     ]
    },
    {
     "name": "stderr",
     "output_type": "stream",
     "text": [
      "c:\\Users\\VictorLeCoz\\Anaconda3\\envs\\interbank_network\\lib\\site-packages\\cpnet\\qstest.py:35: FutureWarning: adjacency_matrix will return a scipy.sparse array instead of a matrix in Networkx 3.0.\n",
      "  Ar = sparse.csr_matrix(nx.adjacency_matrix(Gr))\n",
      "  0%|          | 0/100 [00:00<?, ?it/s]\n",
      "c:\\Users\\VictorLeCoz\\Anaconda3\\envs\\interbank_network\\lib\\site-packages\\cpnet\\utils.py:20: FutureWarning: adjacency_matrix will return a scipy.sparse array instead of a matrix in Networkx 3.0.\n",
      "  sparse.csr_matrix(nx.adjacency_matrix(net), dtype=np.float64),\n",
      "c:\\Users\\VictorLeCoz\\Anaconda3\\envs\\interbank_network\\lib\\site-packages\\cpnet\\qstest.py:96: FutureWarning: adjacency_matrix will return a scipy.sparse array instead of a matrix in Networkx 3.0.\n",
      "  A = nx.adjacency_matrix(G)\n"
     ]
    },
    {
     "name": "stdout",
     "output_type": "stream",
     "text": [
      "test on day 2014-06-26 00:00:00\n"
     ]
    },
    {
     "name": "stderr",
     "output_type": "stream",
     "text": [
      "c:\\Users\\VictorLeCoz\\Anaconda3\\envs\\interbank_network\\lib\\site-packages\\cpnet\\qstest.py:35: FutureWarning: adjacency_matrix will return a scipy.sparse array instead of a matrix in Networkx 3.0.\n",
      "  Ar = sparse.csr_matrix(nx.adjacency_matrix(Gr))\n",
      " 14%|█▍        | 14/100 [00:00<00:00, 341.45it/s]\n",
      "c:\\Users\\VictorLeCoz\\Anaconda3\\envs\\interbank_network\\lib\\site-packages\\cpnet\\utils.py:20: FutureWarning: adjacency_matrix will return a scipy.sparse array instead of a matrix in Networkx 3.0.\n",
      "  sparse.csr_matrix(nx.adjacency_matrix(net), dtype=np.float64),\n",
      "c:\\Users\\VictorLeCoz\\Anaconda3\\envs\\interbank_network\\lib\\site-packages\\cpnet\\qstest.py:96: FutureWarning: adjacency_matrix will return a scipy.sparse array instead of a matrix in Networkx 3.0.\n",
      "  A = nx.adjacency_matrix(G)\n"
     ]
    },
    {
     "name": "stdout",
     "output_type": "stream",
     "text": [
      "test on day 2023-05-04 00:00:00\n"
     ]
    },
    {
     "name": "stderr",
     "output_type": "stream",
     "text": [
      "c:\\Users\\VictorLeCoz\\Anaconda3\\envs\\interbank_network\\lib\\site-packages\\cpnet\\qstest.py:35: FutureWarning: adjacency_matrix will return a scipy.sparse array instead of a matrix in Networkx 3.0.\n",
      "  Ar = sparse.csr_matrix(nx.adjacency_matrix(Gr))\n",
      "  0%|          | 0/100 [00:00<?, ?it/s]\n",
      "c:\\Users\\VictorLeCoz\\Anaconda3\\envs\\interbank_network\\lib\\site-packages\\cpnet\\utils.py:20: FutureWarning: adjacency_matrix will return a scipy.sparse array instead of a matrix in Networkx 3.0.\n",
      "  sparse.csr_matrix(nx.adjacency_matrix(net), dtype=np.float64),\n",
      "c:\\Users\\VictorLeCoz\\Anaconda3\\envs\\interbank_network\\lib\\site-packages\\cpnet\\qstest.py:96: FutureWarning: adjacency_matrix will return a scipy.sparse array instead of a matrix in Networkx 3.0.\n",
      "  A = nx.adjacency_matrix(G)\n"
     ]
    },
    {
     "name": "stdout",
     "output_type": "stream",
     "text": [
      "test on day 2024-01-12 00:00:00\n"
     ]
    },
    {
     "name": "stderr",
     "output_type": "stream",
     "text": [
      "c:\\Users\\VictorLeCoz\\Anaconda3\\envs\\interbank_network\\lib\\site-packages\\cpnet\\qstest.py:35: FutureWarning: adjacency_matrix will return a scipy.sparse array instead of a matrix in Networkx 3.0.\n",
      "  Ar = sparse.csr_matrix(nx.adjacency_matrix(Gr))\n",
      "  0%|          | 0/100 [00:00<?, ?it/s]\n",
      "c:\\Users\\VictorLeCoz\\Anaconda3\\envs\\interbank_network\\lib\\site-packages\\cpnet\\utils.py:20: FutureWarning: adjacency_matrix will return a scipy.sparse array instead of a matrix in Networkx 3.0.\n",
      "  sparse.csr_matrix(nx.adjacency_matrix(net), dtype=np.float64),\n",
      "c:\\Users\\VictorLeCoz\\Anaconda3\\envs\\interbank_network\\lib\\site-packages\\cpnet\\qstest.py:96: FutureWarning: adjacency_matrix will return a scipy.sparse array instead of a matrix in Networkx 3.0.\n",
      "  A = nx.adjacency_matrix(G)\n"
     ]
    },
    {
     "name": "stdout",
     "output_type": "stream",
     "text": [
      "core-periphery tests using the Rombach approach\n",
      "test on day 2000-05-03 00:00:00\n"
     ]
    },
    {
     "name": "stderr",
     "output_type": "stream",
     "text": [
      "c:\\Users\\VictorLeCoz\\Anaconda3\\envs\\interbank_network\\lib\\site-packages\\cpnet\\qstest.py:35: FutureWarning: adjacency_matrix will return a scipy.sparse array instead of a matrix in Networkx 3.0.\n",
      "  Ar = sparse.csr_matrix(nx.adjacency_matrix(Gr))\n",
      "100%|██████████| 100/100 [00:02<00:00, 46.18it/s]\n"
     ]
    },
    {
     "name": "stdout",
     "output_type": "stream",
     "text": [
      "test on day 2007-05-29 00:00:00\n"
     ]
    },
    {
     "name": "stderr",
     "output_type": "stream",
     "text": [
      "100%|██████████| 100/100 [00:00<00:00, 140.58it/s]\n",
      "c:\\Users\\VictorLeCoz\\Anaconda3\\envs\\interbank_network\\lib\\site-packages\\cpnet\\utils.py:20: FutureWarning: adjacency_matrix will return a scipy.sparse array instead of a matrix in Networkx 3.0.\n",
      "  sparse.csr_matrix(nx.adjacency_matrix(net), dtype=np.float64),\n",
      "c:\\Users\\VictorLeCoz\\Anaconda3\\envs\\interbank_network\\lib\\site-packages\\cpnet\\qstest.py:96: FutureWarning: adjacency_matrix will return a scipy.sparse array instead of a matrix in Networkx 3.0.\n",
      "  A = nx.adjacency_matrix(G)\n"
     ]
    },
    {
     "name": "stdout",
     "output_type": "stream",
     "text": [
      "test on day 2014-06-26 00:00:00\n"
     ]
    },
    {
     "name": "stderr",
     "output_type": "stream",
     "text": [
      "c:\\Users\\VictorLeCoz\\Anaconda3\\envs\\interbank_network\\lib\\site-packages\\cpnet\\qstest.py:35: FutureWarning: adjacency_matrix will return a scipy.sparse array instead of a matrix in Networkx 3.0.\n",
      "  Ar = sparse.csr_matrix(nx.adjacency_matrix(Gr))\n",
      "100%|██████████| 100/100 [00:00<00:00, 195.59it/s]\n",
      "c:\\Users\\VictorLeCoz\\Anaconda3\\envs\\interbank_network\\lib\\site-packages\\cpnet\\utils.py:20: FutureWarning: adjacency_matrix will return a scipy.sparse array instead of a matrix in Networkx 3.0.\n",
      "  sparse.csr_matrix(nx.adjacency_matrix(net), dtype=np.float64),\n",
      "c:\\Users\\VictorLeCoz\\Anaconda3\\envs\\interbank_network\\lib\\site-packages\\cpnet\\qstest.py:96: FutureWarning: adjacency_matrix will return a scipy.sparse array instead of a matrix in Networkx 3.0.\n",
      "  A = nx.adjacency_matrix(G)\n"
     ]
    },
    {
     "name": "stdout",
     "output_type": "stream",
     "text": [
      "test on day 2023-05-04 00:00:00\n"
     ]
    },
    {
     "name": "stderr",
     "output_type": "stream",
     "text": [
      "c:\\Users\\VictorLeCoz\\Anaconda3\\envs\\interbank_network\\lib\\site-packages\\cpnet\\qstest.py:35: FutureWarning: adjacency_matrix will return a scipy.sparse array instead of a matrix in Networkx 3.0.\n",
      "  Ar = sparse.csr_matrix(nx.adjacency_matrix(Gr))\n",
      "100%|██████████| 100/100 [00:01<00:00, 54.10it/s]\n",
      "c:\\Users\\VictorLeCoz\\Anaconda3\\envs\\interbank_network\\lib\\site-packages\\cpnet\\utils.py:20: FutureWarning: adjacency_matrix will return a scipy.sparse array instead of a matrix in Networkx 3.0.\n",
      "  sparse.csr_matrix(nx.adjacency_matrix(net), dtype=np.float64),\n",
      "c:\\Users\\VictorLeCoz\\Anaconda3\\envs\\interbank_network\\lib\\site-packages\\cpnet\\qstest.py:96: FutureWarning: adjacency_matrix will return a scipy.sparse array instead of a matrix in Networkx 3.0.\n",
      "  A = nx.adjacency_matrix(G)\n"
     ]
    },
    {
     "name": "stdout",
     "output_type": "stream",
     "text": [
      "test on day 2024-01-12 00:00:00\n"
     ]
    },
    {
     "name": "stderr",
     "output_type": "stream",
     "text": [
      "c:\\Users\\VictorLeCoz\\Anaconda3\\envs\\interbank_network\\lib\\site-packages\\cpnet\\qstest.py:35: FutureWarning: adjacency_matrix will return a scipy.sparse array instead of a matrix in Networkx 3.0.\n",
      "  Ar = sparse.csr_matrix(nx.adjacency_matrix(Gr))\n",
      "100%|██████████| 100/100 [00:00<00:00, 204.20it/s]\n",
      "c:\\Users\\VictorLeCoz\\Anaconda3\\envs\\interbank_network\\lib\\site-packages\\cpnet\\utils.py:20: FutureWarning: adjacency_matrix will return a scipy.sparse array instead of a matrix in Networkx 3.0.\n",
      "  sparse.csr_matrix(nx.adjacency_matrix(net), dtype=np.float64),\n",
      "c:\\Users\\VictorLeCoz\\Anaconda3\\envs\\interbank_network\\lib\\site-packages\\cpnet\\qstest.py:96: FutureWarning: adjacency_matrix will return a scipy.sparse array instead of a matrix in Networkx 3.0.\n",
      "  A = nx.adjacency_matrix(G)\n"
     ]
    },
    {
     "name": "stdout",
     "output_type": "stream",
     "text": [
      "core-periphery tests using the Rossa approach\n",
      "test on day 2000-05-03 00:00:00\n"
     ]
    },
    {
     "name": "stderr",
     "output_type": "stream",
     "text": [
      "c:\\Users\\VictorLeCoz\\Anaconda3\\envs\\interbank_network\\lib\\site-packages\\cpnet\\qstest.py:35: FutureWarning: adjacency_matrix will return a scipy.sparse array instead of a matrix in Networkx 3.0.\n",
      "  Ar = sparse.csr_matrix(nx.adjacency_matrix(Gr))\n",
      "100%|██████████| 100/100 [00:00<00:00, 183.51it/s]\n"
     ]
    },
    {
     "name": "stdout",
     "output_type": "stream",
     "text": [
      "test on day 2007-05-29 00:00:00\n"
     ]
    },
    {
     "name": "stderr",
     "output_type": "stream",
     "text": [
      "100%|██████████| 100/100 [00:00<00:00, 197.74it/s]\n",
      "c:\\Users\\VictorLeCoz\\Anaconda3\\envs\\interbank_network\\lib\\site-packages\\cpnet\\utils.py:20: FutureWarning: adjacency_matrix will return a scipy.sparse array instead of a matrix in Networkx 3.0.\n",
      "  sparse.csr_matrix(nx.adjacency_matrix(net), dtype=np.float64),\n",
      "c:\\Users\\VictorLeCoz\\Anaconda3\\envs\\interbank_network\\lib\\site-packages\\cpnet\\qstest.py:96: FutureWarning: adjacency_matrix will return a scipy.sparse array instead of a matrix in Networkx 3.0.\n",
      "  A = nx.adjacency_matrix(G)\n"
     ]
    },
    {
     "name": "stdout",
     "output_type": "stream",
     "text": [
      "test on day 2014-06-26 00:00:00\n"
     ]
    },
    {
     "name": "stderr",
     "output_type": "stream",
     "text": [
      "c:\\Users\\VictorLeCoz\\Anaconda3\\envs\\interbank_network\\lib\\site-packages\\cpnet\\qstest.py:35: FutureWarning: adjacency_matrix will return a scipy.sparse array instead of a matrix in Networkx 3.0.\n",
      "  Ar = sparse.csr_matrix(nx.adjacency_matrix(Gr))\n",
      "100%|██████████| 100/100 [00:00<00:00, 224.24it/s]\n",
      "c:\\Users\\VictorLeCoz\\Anaconda3\\envs\\interbank_network\\lib\\site-packages\\cpnet\\utils.py:20: FutureWarning: adjacency_matrix will return a scipy.sparse array instead of a matrix in Networkx 3.0.\n",
      "  sparse.csr_matrix(nx.adjacency_matrix(net), dtype=np.float64),\n",
      "c:\\Users\\VictorLeCoz\\Anaconda3\\envs\\interbank_network\\lib\\site-packages\\cpnet\\qstest.py:96: FutureWarning: adjacency_matrix will return a scipy.sparse array instead of a matrix in Networkx 3.0.\n",
      "  A = nx.adjacency_matrix(G)\n"
     ]
    },
    {
     "name": "stdout",
     "output_type": "stream",
     "text": [
      "test on day 2023-05-04 00:00:00\n"
     ]
    },
    {
     "name": "stderr",
     "output_type": "stream",
     "text": [
      "c:\\Users\\VictorLeCoz\\Anaconda3\\envs\\interbank_network\\lib\\site-packages\\cpnet\\qstest.py:35: FutureWarning: adjacency_matrix will return a scipy.sparse array instead of a matrix in Networkx 3.0.\n",
      "  Ar = sparse.csr_matrix(nx.adjacency_matrix(Gr))\n",
      "100%|██████████| 100/100 [00:00<00:00, 241.21it/s]\n",
      "c:\\Users\\VictorLeCoz\\Anaconda3\\envs\\interbank_network\\lib\\site-packages\\cpnet\\utils.py:20: FutureWarning: adjacency_matrix will return a scipy.sparse array instead of a matrix in Networkx 3.0.\n",
      "  sparse.csr_matrix(nx.adjacency_matrix(net), dtype=np.float64),\n",
      "c:\\Users\\VictorLeCoz\\Anaconda3\\envs\\interbank_network\\lib\\site-packages\\cpnet\\qstest.py:96: FutureWarning: adjacency_matrix will return a scipy.sparse array instead of a matrix in Networkx 3.0.\n",
      "  A = nx.adjacency_matrix(G)\n"
     ]
    },
    {
     "name": "stdout",
     "output_type": "stream",
     "text": [
      "test on day 2024-01-12 00:00:00\n"
     ]
    },
    {
     "name": "stderr",
     "output_type": "stream",
     "text": [
      "c:\\Users\\VictorLeCoz\\Anaconda3\\envs\\interbank_network\\lib\\site-packages\\cpnet\\qstest.py:35: FutureWarning: adjacency_matrix will return a scipy.sparse array instead of a matrix in Networkx 3.0.\n",
      "  Ar = sparse.csr_matrix(nx.adjacency_matrix(Gr))\n",
      "100%|██████████| 100/100 [00:00<00:00, 239.14it/s]\n",
      "c:\\Users\\VictorLeCoz\\Anaconda3\\envs\\interbank_network\\lib\\site-packages\\cpnet\\utils.py:20: FutureWarning: adjacency_matrix will return a scipy.sparse array instead of a matrix in Networkx 3.0.\n",
      "  sparse.csr_matrix(nx.adjacency_matrix(net), dtype=np.float64),\n",
      "c:\\Users\\VictorLeCoz\\Anaconda3\\envs\\interbank_network\\lib\\site-packages\\cpnet\\qstest.py:96: FutureWarning: adjacency_matrix will return a scipy.sparse array instead of a matrix in Networkx 3.0.\n",
      "  A = nx.adjacency_matrix(G)\n"
     ]
    },
    {
     "name": "stdout",
     "output_type": "stream",
     "text": [
      "core-periphery tests using the LapCore approach\n",
      "test on day 2000-05-03 00:00:00\n"
     ]
    },
    {
     "name": "stderr",
     "output_type": "stream",
     "text": [
      "c:\\Users\\VictorLeCoz\\Anaconda3\\envs\\interbank_network\\lib\\site-packages\\cpnet\\qstest.py:35: FutureWarning: adjacency_matrix will return a scipy.sparse array instead of a matrix in Networkx 3.0.\n",
      "  Ar = sparse.csr_matrix(nx.adjacency_matrix(Gr))\n",
      "100%|██████████| 100/100 [00:00<00:00, 138.40it/s]\n"
     ]
    },
    {
     "name": "stdout",
     "output_type": "stream",
     "text": [
      "test on day 2007-05-29 00:00:00\n"
     ]
    },
    {
     "name": "stderr",
     "output_type": "stream",
     "text": [
      "100%|██████████| 100/100 [00:00<00:00, 158.39it/s]\n",
      "c:\\Users\\VictorLeCoz\\Anaconda3\\envs\\interbank_network\\lib\\site-packages\\cpnet\\utils.py:20: FutureWarning: adjacency_matrix will return a scipy.sparse array instead of a matrix in Networkx 3.0.\n",
      "  sparse.csr_matrix(nx.adjacency_matrix(net), dtype=np.float64),\n",
      "c:\\Users\\VictorLeCoz\\Anaconda3\\envs\\interbank_network\\lib\\site-packages\\cpnet\\qstest.py:96: FutureWarning: adjacency_matrix will return a scipy.sparse array instead of a matrix in Networkx 3.0.\n",
      "  A = nx.adjacency_matrix(G)\n"
     ]
    },
    {
     "name": "stdout",
     "output_type": "stream",
     "text": [
      "test on day 2014-06-26 00:00:00\n"
     ]
    },
    {
     "name": "stderr",
     "output_type": "stream",
     "text": [
      "c:\\Users\\VictorLeCoz\\Anaconda3\\envs\\interbank_network\\lib\\site-packages\\cpnet\\qstest.py:35: FutureWarning: adjacency_matrix will return a scipy.sparse array instead of a matrix in Networkx 3.0.\n",
      "  Ar = sparse.csr_matrix(nx.adjacency_matrix(Gr))\n",
      "100%|██████████| 100/100 [00:00<00:00, 161.61it/s]\n",
      "c:\\Users\\VictorLeCoz\\Anaconda3\\envs\\interbank_network\\lib\\site-packages\\cpnet\\utils.py:20: FutureWarning: adjacency_matrix will return a scipy.sparse array instead of a matrix in Networkx 3.0.\n",
      "  sparse.csr_matrix(nx.adjacency_matrix(net), dtype=np.float64),\n",
      "c:\\Users\\VictorLeCoz\\Anaconda3\\envs\\interbank_network\\lib\\site-packages\\cpnet\\qstest.py:96: FutureWarning: adjacency_matrix will return a scipy.sparse array instead of a matrix in Networkx 3.0.\n",
      "  A = nx.adjacency_matrix(G)\n"
     ]
    },
    {
     "name": "stdout",
     "output_type": "stream",
     "text": [
      "test on day 2023-05-04 00:00:00\n"
     ]
    },
    {
     "name": "stderr",
     "output_type": "stream",
     "text": [
      "c:\\Users\\VictorLeCoz\\Anaconda3\\envs\\interbank_network\\lib\\site-packages\\cpnet\\qstest.py:35: FutureWarning: adjacency_matrix will return a scipy.sparse array instead of a matrix in Networkx 3.0.\n",
      "  Ar = sparse.csr_matrix(nx.adjacency_matrix(Gr))\n",
      "100%|██████████| 100/100 [00:00<00:00, 176.27it/s]\n",
      "c:\\Users\\VictorLeCoz\\Anaconda3\\envs\\interbank_network\\lib\\site-packages\\cpnet\\utils.py:20: FutureWarning: adjacency_matrix will return a scipy.sparse array instead of a matrix in Networkx 3.0.\n",
      "  sparse.csr_matrix(nx.adjacency_matrix(net), dtype=np.float64),\n",
      "c:\\Users\\VictorLeCoz\\Anaconda3\\envs\\interbank_network\\lib\\site-packages\\cpnet\\qstest.py:96: FutureWarning: adjacency_matrix will return a scipy.sparse array instead of a matrix in Networkx 3.0.\n",
      "  A = nx.adjacency_matrix(G)\n"
     ]
    },
    {
     "name": "stdout",
     "output_type": "stream",
     "text": [
      "test on day 2024-01-12 00:00:00\n"
     ]
    },
    {
     "name": "stderr",
     "output_type": "stream",
     "text": [
      "c:\\Users\\VictorLeCoz\\Anaconda3\\envs\\interbank_network\\lib\\site-packages\\cpnet\\qstest.py:35: FutureWarning: adjacency_matrix will return a scipy.sparse array instead of a matrix in Networkx 3.0.\n",
      "  Ar = sparse.csr_matrix(nx.adjacency_matrix(Gr))\n",
      "100%|██████████| 100/100 [00:00<00:00, 146.14it/s]\n",
      "c:\\Users\\VictorLeCoz\\Anaconda3\\envs\\interbank_network\\lib\\site-packages\\cpnet\\utils.py:20: FutureWarning: adjacency_matrix will return a scipy.sparse array instead of a matrix in Networkx 3.0.\n",
      "  sparse.csr_matrix(nx.adjacency_matrix(net), dtype=np.float64),\n",
      "c:\\Users\\VictorLeCoz\\Anaconda3\\envs\\interbank_network\\lib\\site-packages\\cpnet\\qstest.py:96: FutureWarning: adjacency_matrix will return a scipy.sparse array instead of a matrix in Networkx 3.0.\n",
      "  A = nx.adjacency_matrix(G)\n"
     ]
    },
    {
     "name": "stdout",
     "output_type": "stream",
     "text": [
      "core-periphery tests using the LapSgnCore approach\n",
      "test on day 2000-05-03 00:00:00\n"
     ]
    },
    {
     "name": "stderr",
     "output_type": "stream",
     "text": [
      "c:\\Users\\VictorLeCoz\\Anaconda3\\envs\\interbank_network\\lib\\site-packages\\cpnet\\qstest.py:35: FutureWarning: adjacency_matrix will return a scipy.sparse array instead of a matrix in Networkx 3.0.\n",
      "  Ar = sparse.csr_matrix(nx.adjacency_matrix(Gr))\n",
      "100%|██████████| 100/100 [00:00<00:00, 262.49it/s]\n"
     ]
    },
    {
     "name": "stdout",
     "output_type": "stream",
     "text": [
      "test on day 2007-05-29 00:00:00\n"
     ]
    },
    {
     "name": "stderr",
     "output_type": "stream",
     "text": [
      "100%|██████████| 100/100 [00:00<00:00, 256.42it/s]\n",
      "c:\\Users\\VictorLeCoz\\Anaconda3\\envs\\interbank_network\\lib\\site-packages\\cpnet\\utils.py:20: FutureWarning: adjacency_matrix will return a scipy.sparse array instead of a matrix in Networkx 3.0.\n",
      "  sparse.csr_matrix(nx.adjacency_matrix(net), dtype=np.float64),\n",
      "c:\\Users\\VictorLeCoz\\Anaconda3\\envs\\interbank_network\\lib\\site-packages\\cpnet\\qstest.py:96: FutureWarning: adjacency_matrix will return a scipy.sparse array instead of a matrix in Networkx 3.0.\n",
      "  A = nx.adjacency_matrix(G)\n"
     ]
    },
    {
     "name": "stdout",
     "output_type": "stream",
     "text": [
      "test on day 2014-06-26 00:00:00\n"
     ]
    },
    {
     "name": "stderr",
     "output_type": "stream",
     "text": [
      "c:\\Users\\VictorLeCoz\\Anaconda3\\envs\\interbank_network\\lib\\site-packages\\cpnet\\qstest.py:35: FutureWarning: adjacency_matrix will return a scipy.sparse array instead of a matrix in Networkx 3.0.\n",
      "  Ar = sparse.csr_matrix(nx.adjacency_matrix(Gr))\n",
      "100%|██████████| 100/100 [00:00<00:00, 266.62it/s]\n",
      "c:\\Users\\VictorLeCoz\\Anaconda3\\envs\\interbank_network\\lib\\site-packages\\cpnet\\utils.py:20: FutureWarning: adjacency_matrix will return a scipy.sparse array instead of a matrix in Networkx 3.0.\n",
      "  sparse.csr_matrix(nx.adjacency_matrix(net), dtype=np.float64),\n",
      "c:\\Users\\VictorLeCoz\\Anaconda3\\envs\\interbank_network\\lib\\site-packages\\cpnet\\qstest.py:96: FutureWarning: adjacency_matrix will return a scipy.sparse array instead of a matrix in Networkx 3.0.\n",
      "  A = nx.adjacency_matrix(G)\n"
     ]
    },
    {
     "name": "stdout",
     "output_type": "stream",
     "text": [
      "test on day 2023-05-04 00:00:00\n"
     ]
    },
    {
     "name": "stderr",
     "output_type": "stream",
     "text": [
      "c:\\Users\\VictorLeCoz\\Anaconda3\\envs\\interbank_network\\lib\\site-packages\\cpnet\\qstest.py:35: FutureWarning: adjacency_matrix will return a scipy.sparse array instead of a matrix in Networkx 3.0.\n",
      "  Ar = sparse.csr_matrix(nx.adjacency_matrix(Gr))\n",
      "100%|██████████| 100/100 [00:00<00:00, 278.29it/s]\n",
      "c:\\Users\\VictorLeCoz\\Anaconda3\\envs\\interbank_network\\lib\\site-packages\\cpnet\\utils.py:20: FutureWarning: adjacency_matrix will return a scipy.sparse array instead of a matrix in Networkx 3.0.\n",
      "  sparse.csr_matrix(nx.adjacency_matrix(net), dtype=np.float64),\n",
      "c:\\Users\\VictorLeCoz\\Anaconda3\\envs\\interbank_network\\lib\\site-packages\\cpnet\\qstest.py:96: FutureWarning: adjacency_matrix will return a scipy.sparse array instead of a matrix in Networkx 3.0.\n",
      "  A = nx.adjacency_matrix(G)\n"
     ]
    },
    {
     "name": "stdout",
     "output_type": "stream",
     "text": [
      "test on day 2024-01-12 00:00:00\n"
     ]
    },
    {
     "name": "stderr",
     "output_type": "stream",
     "text": [
      "c:\\Users\\VictorLeCoz\\Anaconda3\\envs\\interbank_network\\lib\\site-packages\\cpnet\\qstest.py:35: FutureWarning: adjacency_matrix will return a scipy.sparse array instead of a matrix in Networkx 3.0.\n",
      "  Ar = sparse.csr_matrix(nx.adjacency_matrix(Gr))\n",
      "100%|██████████| 100/100 [00:00<00:00, 242.07it/s]\n",
      "c:\\Users\\VictorLeCoz\\Anaconda3\\envs\\interbank_network\\lib\\site-packages\\cpnet\\utils.py:20: FutureWarning: adjacency_matrix will return a scipy.sparse array instead of a matrix in Networkx 3.0.\n",
      "  sparse.csr_matrix(nx.adjacency_matrix(net), dtype=np.float64),\n",
      "c:\\Users\\VictorLeCoz\\Anaconda3\\envs\\interbank_network\\lib\\site-packages\\cpnet\\qstest.py:96: FutureWarning: adjacency_matrix will return a scipy.sparse array instead of a matrix in Networkx 3.0.\n",
      "  A = nx.adjacency_matrix(G)\n"
     ]
    },
    {
     "name": "stdout",
     "output_type": "stream",
     "text": [
      "core-periphery tests using the LowRankCore approach\n",
      "test on day 2000-05-03 00:00:00\n"
     ]
    },
    {
     "name": "stderr",
     "output_type": "stream",
     "text": [
      "c:\\Users\\VictorLeCoz\\Anaconda3\\envs\\interbank_network\\lib\\site-packages\\cpnet\\qstest.py:35: FutureWarning: adjacency_matrix will return a scipy.sparse array instead of a matrix in Networkx 3.0.\n",
      "  Ar = sparse.csr_matrix(nx.adjacency_matrix(Gr))\n",
      "100%|██████████| 100/100 [00:00<00:00, 160.51it/s]\n"
     ]
    },
    {
     "name": "stdout",
     "output_type": "stream",
     "text": [
      "test on day 2007-05-29 00:00:00\n"
     ]
    },
    {
     "name": "stderr",
     "output_type": "stream",
     "text": [
      "100%|██████████| 100/100 [00:00<00:00, 178.70it/s]\n",
      "c:\\Users\\VictorLeCoz\\Anaconda3\\envs\\interbank_network\\lib\\site-packages\\cpnet\\utils.py:20: FutureWarning: adjacency_matrix will return a scipy.sparse array instead of a matrix in Networkx 3.0.\n",
      "  sparse.csr_matrix(nx.adjacency_matrix(net), dtype=np.float64),\n",
      "c:\\Users\\VictorLeCoz\\Anaconda3\\envs\\interbank_network\\lib\\site-packages\\cpnet\\qstest.py:96: FutureWarning: adjacency_matrix will return a scipy.sparse array instead of a matrix in Networkx 3.0.\n",
      "  A = nx.adjacency_matrix(G)\n"
     ]
    },
    {
     "name": "stdout",
     "output_type": "stream",
     "text": [
      "test on day 2014-06-26 00:00:00\n"
     ]
    },
    {
     "name": "stderr",
     "output_type": "stream",
     "text": [
      "c:\\Users\\VictorLeCoz\\Anaconda3\\envs\\interbank_network\\lib\\site-packages\\cpnet\\qstest.py:35: FutureWarning: adjacency_matrix will return a scipy.sparse array instead of a matrix in Networkx 3.0.\n",
      "  Ar = sparse.csr_matrix(nx.adjacency_matrix(Gr))\n",
      "100%|██████████| 100/100 [00:00<00:00, 155.91it/s]\n",
      "c:\\Users\\VictorLeCoz\\Anaconda3\\envs\\interbank_network\\lib\\site-packages\\cpnet\\utils.py:20: FutureWarning: adjacency_matrix will return a scipy.sparse array instead of a matrix in Networkx 3.0.\n",
      "  sparse.csr_matrix(nx.adjacency_matrix(net), dtype=np.float64),\n",
      "c:\\Users\\VictorLeCoz\\Anaconda3\\envs\\interbank_network\\lib\\site-packages\\cpnet\\qstest.py:96: FutureWarning: adjacency_matrix will return a scipy.sparse array instead of a matrix in Networkx 3.0.\n",
      "  A = nx.adjacency_matrix(G)\n"
     ]
    },
    {
     "name": "stdout",
     "output_type": "stream",
     "text": [
      "test on day 2023-05-04 00:00:00\n"
     ]
    },
    {
     "name": "stderr",
     "output_type": "stream",
     "text": [
      "c:\\Users\\VictorLeCoz\\Anaconda3\\envs\\interbank_network\\lib\\site-packages\\cpnet\\qstest.py:35: FutureWarning: adjacency_matrix will return a scipy.sparse array instead of a matrix in Networkx 3.0.\n",
      "  Ar = sparse.csr_matrix(nx.adjacency_matrix(Gr))\n",
      "100%|██████████| 100/100 [00:00<00:00, 191.47it/s]\n",
      "c:\\Users\\VictorLeCoz\\Anaconda3\\envs\\interbank_network\\lib\\site-packages\\cpnet\\utils.py:20: FutureWarning: adjacency_matrix will return a scipy.sparse array instead of a matrix in Networkx 3.0.\n",
      "  sparse.csr_matrix(nx.adjacency_matrix(net), dtype=np.float64),\n",
      "c:\\Users\\VictorLeCoz\\Anaconda3\\envs\\interbank_network\\lib\\site-packages\\cpnet\\qstest.py:96: FutureWarning: adjacency_matrix will return a scipy.sparse array instead of a matrix in Networkx 3.0.\n",
      "  A = nx.adjacency_matrix(G)\n"
     ]
    },
    {
     "name": "stdout",
     "output_type": "stream",
     "text": [
      "test on day 2024-01-12 00:00:00\n"
     ]
    },
    {
     "name": "stderr",
     "output_type": "stream",
     "text": [
      "c:\\Users\\VictorLeCoz\\Anaconda3\\envs\\interbank_network\\lib\\site-packages\\cpnet\\qstest.py:35: FutureWarning: adjacency_matrix will return a scipy.sparse array instead of a matrix in Networkx 3.0.\n",
      "  Ar = sparse.csr_matrix(nx.adjacency_matrix(Gr))\n",
      "100%|██████████| 100/100 [00:00<00:00, 149.62it/s]\n",
      "c:\\Users\\VictorLeCoz\\Anaconda3\\envs\\interbank_network\\lib\\site-packages\\cpnet\\utils.py:20: FutureWarning: adjacency_matrix will return a scipy.sparse array instead of a matrix in Networkx 3.0.\n",
      "  sparse.csr_matrix(nx.adjacency_matrix(net), dtype=np.float64),\n",
      "c:\\Users\\VictorLeCoz\\Anaconda3\\envs\\interbank_network\\lib\\site-packages\\cpnet\\qstest.py:96: FutureWarning: adjacency_matrix will return a scipy.sparse array instead of a matrix in Networkx 3.0.\n",
      "  A = nx.adjacency_matrix(G)\n"
     ]
    },
    {
     "name": "stdout",
     "output_type": "stream",
     "text": [
      "core-periphery tests using the MINRES approach\n",
      "test on day 2000-05-03 00:00:00\n"
     ]
    },
    {
     "name": "stderr",
     "output_type": "stream",
     "text": [
      "c:\\Users\\VictorLeCoz\\Anaconda3\\envs\\interbank_network\\lib\\site-packages\\cpnet\\qstest.py:35: FutureWarning: adjacency_matrix will return a scipy.sparse array instead of a matrix in Networkx 3.0.\n",
      "  Ar = sparse.csr_matrix(nx.adjacency_matrix(Gr))\n",
      "100%|██████████| 100/100 [00:03<00:00, 26.29it/s]\n"
     ]
    },
    {
     "name": "stdout",
     "output_type": "stream",
     "text": [
      "test on day 2007-05-29 00:00:00\n"
     ]
    },
    {
     "name": "stderr",
     "output_type": "stream",
     "text": [
      "100%|██████████| 100/100 [00:05<00:00, 18.75it/s]\n",
      "c:\\Users\\VictorLeCoz\\Anaconda3\\envs\\interbank_network\\lib\\site-packages\\cpnet\\utils.py:20: FutureWarning: adjacency_matrix will return a scipy.sparse array instead of a matrix in Networkx 3.0.\n",
      "  sparse.csr_matrix(nx.adjacency_matrix(net), dtype=np.float64),\n",
      "c:\\Users\\VictorLeCoz\\Anaconda3\\envs\\interbank_network\\lib\\site-packages\\cpnet\\qstest.py:96: FutureWarning: adjacency_matrix will return a scipy.sparse array instead of a matrix in Networkx 3.0.\n",
      "  A = nx.adjacency_matrix(G)\n"
     ]
    },
    {
     "name": "stdout",
     "output_type": "stream",
     "text": [
      "test on day 2014-06-26 00:00:00\n"
     ]
    },
    {
     "name": "stderr",
     "output_type": "stream",
     "text": [
      "c:\\Users\\VictorLeCoz\\Anaconda3\\envs\\interbank_network\\lib\\site-packages\\cpnet\\qstest.py:35: FutureWarning: adjacency_matrix will return a scipy.sparse array instead of a matrix in Networkx 3.0.\n",
      "  Ar = sparse.csr_matrix(nx.adjacency_matrix(Gr))\n",
      "100%|██████████| 100/100 [00:05<00:00, 17.68it/s]\n",
      "c:\\Users\\VictorLeCoz\\Anaconda3\\envs\\interbank_network\\lib\\site-packages\\cpnet\\utils.py:20: FutureWarning: adjacency_matrix will return a scipy.sparse array instead of a matrix in Networkx 3.0.\n",
      "  sparse.csr_matrix(nx.adjacency_matrix(net), dtype=np.float64),\n",
      "c:\\Users\\VictorLeCoz\\Anaconda3\\envs\\interbank_network\\lib\\site-packages\\cpnet\\qstest.py:96: FutureWarning: adjacency_matrix will return a scipy.sparse array instead of a matrix in Networkx 3.0.\n",
      "  A = nx.adjacency_matrix(G)\n"
     ]
    },
    {
     "name": "stdout",
     "output_type": "stream",
     "text": [
      "test on day 2023-05-04 00:00:00\n"
     ]
    },
    {
     "name": "stderr",
     "output_type": "stream",
     "text": [
      "c:\\Users\\VictorLeCoz\\Anaconda3\\envs\\interbank_network\\lib\\site-packages\\cpnet\\qstest.py:35: FutureWarning: adjacency_matrix will return a scipy.sparse array instead of a matrix in Networkx 3.0.\n",
      "  Ar = sparse.csr_matrix(nx.adjacency_matrix(Gr))\n",
      "100%|██████████| 100/100 [00:05<00:00, 17.91it/s]\n",
      "c:\\Users\\VictorLeCoz\\Anaconda3\\envs\\interbank_network\\lib\\site-packages\\cpnet\\utils.py:20: FutureWarning: adjacency_matrix will return a scipy.sparse array instead of a matrix in Networkx 3.0.\n",
      "  sparse.csr_matrix(nx.adjacency_matrix(net), dtype=np.float64),\n",
      "c:\\Users\\VictorLeCoz\\Anaconda3\\envs\\interbank_network\\lib\\site-packages\\cpnet\\qstest.py:96: FutureWarning: adjacency_matrix will return a scipy.sparse array instead of a matrix in Networkx 3.0.\n",
      "  A = nx.adjacency_matrix(G)\n"
     ]
    },
    {
     "name": "stdout",
     "output_type": "stream",
     "text": [
      "test on day 2024-01-12 00:00:00\n"
     ]
    },
    {
     "name": "stderr",
     "output_type": "stream",
     "text": [
      "c:\\Users\\VictorLeCoz\\Anaconda3\\envs\\interbank_network\\lib\\site-packages\\cpnet\\qstest.py:35: FutureWarning: adjacency_matrix will return a scipy.sparse array instead of a matrix in Networkx 3.0.\n",
      "  Ar = sparse.csr_matrix(nx.adjacency_matrix(Gr))\n",
      "100%|██████████| 100/100 [00:05<00:00, 17.36it/s]\n",
      "c:\\Users\\VictorLeCoz\\Anaconda3\\envs\\interbank_network\\lib\\site-packages\\cpnet\\utils.py:20: FutureWarning: adjacency_matrix will return a scipy.sparse array instead of a matrix in Networkx 3.0.\n",
      "  sparse.csr_matrix(nx.adjacency_matrix(net), dtype=np.float64),\n",
      "c:\\Users\\VictorLeCoz\\Anaconda3\\envs\\interbank_network\\lib\\site-packages\\cpnet\\qstest.py:96: FutureWarning: adjacency_matrix will return a scipy.sparse array instead of a matrix in Networkx 3.0.\n",
      "  A = nx.adjacency_matrix(G)\n"
     ]
    },
    {
     "name": "stdout",
     "output_type": "stream",
     "text": [
      "core-periphery tests using the Lip approach\n",
      "test on day 2000-05-03 00:00:00\n"
     ]
    },
    {
     "name": "stderr",
     "output_type": "stream",
     "text": [
      "c:\\Users\\VictorLeCoz\\Anaconda3\\envs\\interbank_network\\lib\\site-packages\\cpnet\\qstest.py:35: FutureWarning: adjacency_matrix will return a scipy.sparse array instead of a matrix in Networkx 3.0.\n",
      "  Ar = sparse.csr_matrix(nx.adjacency_matrix(Gr))\n",
      "100%|██████████| 100/100 [00:00<00:00, 1498.27it/s]\n"
     ]
    },
    {
     "name": "stdout",
     "output_type": "stream",
     "text": [
      "test on day 2007-05-29 00:00:00\n"
     ]
    },
    {
     "name": "stderr",
     "output_type": "stream",
     "text": [
      "100%|██████████| 100/100 [00:00<00:00, 2028.29it/s]\n",
      "c:\\Users\\VictorLeCoz\\Anaconda3\\envs\\interbank_network\\lib\\site-packages\\cpnet\\utils.py:20: FutureWarning: adjacency_matrix will return a scipy.sparse array instead of a matrix in Networkx 3.0.\n",
      "  sparse.csr_matrix(nx.adjacency_matrix(net), dtype=np.float64),\n",
      "c:\\Users\\VictorLeCoz\\Anaconda3\\envs\\interbank_network\\lib\\site-packages\\cpnet\\qstest.py:96: FutureWarning: adjacency_matrix will return a scipy.sparse array instead of a matrix in Networkx 3.0.\n",
      "  A = nx.adjacency_matrix(G)\n"
     ]
    },
    {
     "name": "stdout",
     "output_type": "stream",
     "text": [
      "test on day 2014-06-26 00:00:00\n"
     ]
    },
    {
     "name": "stderr",
     "output_type": "stream",
     "text": [
      "c:\\Users\\VictorLeCoz\\Anaconda3\\envs\\interbank_network\\lib\\site-packages\\cpnet\\qstest.py:35: FutureWarning: adjacency_matrix will return a scipy.sparse array instead of a matrix in Networkx 3.0.\n",
      "  Ar = sparse.csr_matrix(nx.adjacency_matrix(Gr))\n",
      "100%|██████████| 100/100 [00:00<00:00, 1469.31it/s]\n",
      "c:\\Users\\VictorLeCoz\\Anaconda3\\envs\\interbank_network\\lib\\site-packages\\cpnet\\utils.py:20: FutureWarning: adjacency_matrix will return a scipy.sparse array instead of a matrix in Networkx 3.0.\n",
      "  sparse.csr_matrix(nx.adjacency_matrix(net), dtype=np.float64),\n",
      "c:\\Users\\VictorLeCoz\\Anaconda3\\envs\\interbank_network\\lib\\site-packages\\cpnet\\qstest.py:96: FutureWarning: adjacency_matrix will return a scipy.sparse array instead of a matrix in Networkx 3.0.\n",
      "  A = nx.adjacency_matrix(G)\n"
     ]
    },
    {
     "name": "stdout",
     "output_type": "stream",
     "text": [
      "test on day 2023-05-04 00:00:00\n"
     ]
    },
    {
     "name": "stderr",
     "output_type": "stream",
     "text": [
      "c:\\Users\\VictorLeCoz\\Anaconda3\\envs\\interbank_network\\lib\\site-packages\\cpnet\\qstest.py:35: FutureWarning: adjacency_matrix will return a scipy.sparse array instead of a matrix in Networkx 3.0.\n",
      "  Ar = sparse.csr_matrix(nx.adjacency_matrix(Gr))\n",
      "100%|██████████| 100/100 [00:00<00:00, 1757.42it/s]\n",
      "c:\\Users\\VictorLeCoz\\Anaconda3\\envs\\interbank_network\\lib\\site-packages\\cpnet\\utils.py:20: FutureWarning: adjacency_matrix will return a scipy.sparse array instead of a matrix in Networkx 3.0.\n",
      "  sparse.csr_matrix(nx.adjacency_matrix(net), dtype=np.float64),\n",
      "c:\\Users\\VictorLeCoz\\Anaconda3\\envs\\interbank_network\\lib\\site-packages\\cpnet\\qstest.py:96: FutureWarning: adjacency_matrix will return a scipy.sparse array instead of a matrix in Networkx 3.0.\n",
      "  A = nx.adjacency_matrix(G)\n"
     ]
    },
    {
     "name": "stdout",
     "output_type": "stream",
     "text": [
      "test on day 2024-01-12 00:00:00\n"
     ]
    },
    {
     "name": "stderr",
     "output_type": "stream",
     "text": [
      "c:\\Users\\VictorLeCoz\\Anaconda3\\envs\\interbank_network\\lib\\site-packages\\cpnet\\qstest.py:35: FutureWarning: adjacency_matrix will return a scipy.sparse array instead of a matrix in Networkx 3.0.\n",
      "  Ar = sparse.csr_matrix(nx.adjacency_matrix(Gr))\n",
      "100%|██████████| 100/100 [00:00<00:00, 1331.32it/s]\n",
      "c:\\Users\\VictorLeCoz\\Anaconda3\\envs\\interbank_network\\lib\\site-packages\\cpnet\\utils.py:20: FutureWarning: adjacency_matrix will return a scipy.sparse array instead of a matrix in Networkx 3.0.\n",
      "  sparse.csr_matrix(nx.adjacency_matrix(net), dtype=np.float64),\n"
     ]
    },
    {
     "name": "stdout",
     "output_type": "stream",
     "text": [
      "core-periphery tests using the BE approach\n",
      "test on day 2000-05-03 00:00:00\n"
     ]
    },
    {
     "name": "stderr",
     "output_type": "stream",
     "text": [
      "c:\\Users\\VictorLeCoz\\Anaconda3\\envs\\interbank_network\\lib\\site-packages\\cpnet\\qstest.py:96: FutureWarning: adjacency_matrix will return a scipy.sparse array instead of a matrix in Networkx 3.0.\n",
      "  A = nx.adjacency_matrix(G)\n",
      "c:\\Users\\VictorLeCoz\\Anaconda3\\envs\\interbank_network\\lib\\site-packages\\cpnet\\qstest.py:35: FutureWarning: adjacency_matrix will return a scipy.sparse array instead of a matrix in Networkx 3.0.\n",
      "  Ar = sparse.csr_matrix(nx.adjacency_matrix(Gr))\n",
      "100%|██████████| 100/100 [00:00<00:00, 572.37it/s]\n"
     ]
    },
    {
     "name": "stdout",
     "output_type": "stream",
     "text": [
      "test on day 2007-05-29 00:00:00\n"
     ]
    },
    {
     "name": "stderr",
     "output_type": "stream",
     "text": [
      "100%|██████████| 100/100 [00:00<00:00, 423.34it/s]\n",
      "c:\\Users\\VictorLeCoz\\Anaconda3\\envs\\interbank_network\\lib\\site-packages\\cpnet\\utils.py:20: FutureWarning: adjacency_matrix will return a scipy.sparse array instead of a matrix in Networkx 3.0.\n",
      "  sparse.csr_matrix(nx.adjacency_matrix(net), dtype=np.float64),\n",
      "c:\\Users\\VictorLeCoz\\Anaconda3\\envs\\interbank_network\\lib\\site-packages\\cpnet\\qstest.py:96: FutureWarning: adjacency_matrix will return a scipy.sparse array instead of a matrix in Networkx 3.0.\n",
      "  A = nx.adjacency_matrix(G)\n"
     ]
    },
    {
     "name": "stdout",
     "output_type": "stream",
     "text": [
      "test on day 2014-06-26 00:00:00\n"
     ]
    },
    {
     "name": "stderr",
     "output_type": "stream",
     "text": [
      "c:\\Users\\VictorLeCoz\\Anaconda3\\envs\\interbank_network\\lib\\site-packages\\cpnet\\qstest.py:35: FutureWarning: adjacency_matrix will return a scipy.sparse array instead of a matrix in Networkx 3.0.\n",
      "  Ar = sparse.csr_matrix(nx.adjacency_matrix(Gr))\n",
      "100%|██████████| 100/100 [00:00<00:00, 464.45it/s]\n",
      "c:\\Users\\VictorLeCoz\\Anaconda3\\envs\\interbank_network\\lib\\site-packages\\cpnet\\utils.py:20: FutureWarning: adjacency_matrix will return a scipy.sparse array instead of a matrix in Networkx 3.0.\n",
      "  sparse.csr_matrix(nx.adjacency_matrix(net), dtype=np.float64),\n",
      "c:\\Users\\VictorLeCoz\\Anaconda3\\envs\\interbank_network\\lib\\site-packages\\cpnet\\qstest.py:96: FutureWarning: adjacency_matrix will return a scipy.sparse array instead of a matrix in Networkx 3.0.\n",
      "  A = nx.adjacency_matrix(G)\n"
     ]
    },
    {
     "name": "stdout",
     "output_type": "stream",
     "text": [
      "test on day 2023-05-04 00:00:00\n"
     ]
    },
    {
     "name": "stderr",
     "output_type": "stream",
     "text": [
      "c:\\Users\\VictorLeCoz\\Anaconda3\\envs\\interbank_network\\lib\\site-packages\\cpnet\\qstest.py:35: FutureWarning: adjacency_matrix will return a scipy.sparse array instead of a matrix in Networkx 3.0.\n",
      "  Ar = sparse.csr_matrix(nx.adjacency_matrix(Gr))\n",
      "100%|██████████| 100/100 [00:00<00:00, 471.79it/s]\n",
      "c:\\Users\\VictorLeCoz\\Anaconda3\\envs\\interbank_network\\lib\\site-packages\\cpnet\\utils.py:20: FutureWarning: adjacency_matrix will return a scipy.sparse array instead of a matrix in Networkx 3.0.\n",
      "  sparse.csr_matrix(nx.adjacency_matrix(net), dtype=np.float64),\n",
      "c:\\Users\\VictorLeCoz\\Anaconda3\\envs\\interbank_network\\lib\\site-packages\\cpnet\\qstest.py:96: FutureWarning: adjacency_matrix will return a scipy.sparse array instead of a matrix in Networkx 3.0.\n",
      "  A = nx.adjacency_matrix(G)\n"
     ]
    },
    {
     "name": "stdout",
     "output_type": "stream",
     "text": [
      "test on day 2024-01-12 00:00:00\n"
     ]
    },
    {
     "name": "stderr",
     "output_type": "stream",
     "text": [
      "c:\\Users\\VictorLeCoz\\Anaconda3\\envs\\interbank_network\\lib\\site-packages\\cpnet\\qstest.py:35: FutureWarning: adjacency_matrix will return a scipy.sparse array instead of a matrix in Networkx 3.0.\n",
      "  Ar = sparse.csr_matrix(nx.adjacency_matrix(Gr))\n",
      "100%|██████████| 100/100 [00:00<00:00, 402.83it/s]\n",
      " 20%|██        | 1/5 [00:45<03:00, 45.04s/it]c:\\Users\\VictorLeCoz\\Anaconda3\\envs\\interbank_network\\lib\\site-packages\\cpnet\\utils.py:20: FutureWarning: adjacency_matrix will return a scipy.sparse array instead of a matrix in Networkx 3.0.\n",
      "  sparse.csr_matrix(nx.adjacency_matrix(net), dtype=np.float64),\n",
      "c:\\Users\\VictorLeCoz\\Anaconda3\\envs\\interbank_network\\lib\\site-packages\\cpnet\\qstest.py:96: FutureWarning: adjacency_matrix will return a scipy.sparse array instead of a matrix in Networkx 3.0.\n",
      "  A = nx.adjacency_matrix(G)\n"
     ]
    },
    {
     "name": "stdout",
     "output_type": "stream",
     "text": [
      "core-periphery tests using the KM_ER approach\n",
      "test on day 2000-05-03 00:00:00\n",
      "test on day 2007-05-29 00:00:00\n"
     ]
    },
    {
     "name": "stderr",
     "output_type": "stream",
     "text": [
      "c:\\Users\\VictorLeCoz\\Anaconda3\\envs\\interbank_network\\lib\\site-packages\\cpnet\\qstest.py:35: FutureWarning: adjacency_matrix will return a scipy.sparse array instead of a matrix in Networkx 3.0.\n",
      "  Ar = sparse.csr_matrix(nx.adjacency_matrix(Gr))\n",
      "  1%|          | 1/100 [00:00<00:00, 145.90it/s]\n",
      "c:\\Users\\VictorLeCoz\\Anaconda3\\envs\\interbank_network\\lib\\site-packages\\cpnet\\utils.py:20: FutureWarning: adjacency_matrix will return a scipy.sparse array instead of a matrix in Networkx 3.0.\n",
      "  sparse.csr_matrix(nx.adjacency_matrix(net), dtype=np.float64),\n",
      "c:\\Users\\VictorLeCoz\\Anaconda3\\envs\\interbank_network\\lib\\site-packages\\cpnet\\qstest.py:96: FutureWarning: adjacency_matrix will return a scipy.sparse array instead of a matrix in Networkx 3.0.\n",
      "  A = nx.adjacency_matrix(G)\n"
     ]
    },
    {
     "name": "stdout",
     "output_type": "stream",
     "text": [
      "test on day 2014-06-26 00:00:00\n"
     ]
    },
    {
     "name": "stderr",
     "output_type": "stream",
     "text": [
      "c:\\Users\\VictorLeCoz\\Anaconda3\\envs\\interbank_network\\lib\\site-packages\\cpnet\\qstest.py:35: FutureWarning: adjacency_matrix will return a scipy.sparse array instead of a matrix in Networkx 3.0.\n",
      "  Ar = sparse.csr_matrix(nx.adjacency_matrix(Gr))\n",
      " 20%|██        | 20/100 [00:00<00:00, 180.07it/s]\n",
      "c:\\Users\\VictorLeCoz\\Anaconda3\\envs\\interbank_network\\lib\\site-packages\\cpnet\\utils.py:20: FutureWarning: adjacency_matrix will return a scipy.sparse array instead of a matrix in Networkx 3.0.\n",
      "  sparse.csr_matrix(nx.adjacency_matrix(net), dtype=np.float64),\n",
      "c:\\Users\\VictorLeCoz\\Anaconda3\\envs\\interbank_network\\lib\\site-packages\\cpnet\\qstest.py:96: FutureWarning: adjacency_matrix will return a scipy.sparse array instead of a matrix in Networkx 3.0.\n",
      "  A = nx.adjacency_matrix(G)\n"
     ]
    },
    {
     "name": "stdout",
     "output_type": "stream",
     "text": [
      "test on day 2023-05-04 00:00:00\n"
     ]
    },
    {
     "name": "stderr",
     "output_type": "stream",
     "text": [
      "c:\\Users\\VictorLeCoz\\Anaconda3\\envs\\interbank_network\\lib\\site-packages\\cpnet\\qstest.py:35: FutureWarning: adjacency_matrix will return a scipy.sparse array instead of a matrix in Networkx 3.0.\n",
      "  Ar = sparse.csr_matrix(nx.adjacency_matrix(Gr))\n",
      " 20%|██        | 20/100 [00:00<00:00, 157.53it/s]\n",
      "c:\\Users\\VictorLeCoz\\Anaconda3\\envs\\interbank_network\\lib\\site-packages\\cpnet\\utils.py:20: FutureWarning: adjacency_matrix will return a scipy.sparse array instead of a matrix in Networkx 3.0.\n",
      "  sparse.csr_matrix(nx.adjacency_matrix(net), dtype=np.float64),\n",
      "c:\\Users\\VictorLeCoz\\Anaconda3\\envs\\interbank_network\\lib\\site-packages\\cpnet\\qstest.py:96: FutureWarning: adjacency_matrix will return a scipy.sparse array instead of a matrix in Networkx 3.0.\n",
      "  A = nx.adjacency_matrix(G)\n"
     ]
    },
    {
     "name": "stdout",
     "output_type": "stream",
     "text": [
      "test on day 2024-01-12 00:00:00\n"
     ]
    },
    {
     "name": "stderr",
     "output_type": "stream",
     "text": [
      "c:\\Users\\VictorLeCoz\\Anaconda3\\envs\\interbank_network\\lib\\site-packages\\cpnet\\qstest.py:35: FutureWarning: adjacency_matrix will return a scipy.sparse array instead of a matrix in Networkx 3.0.\n",
      "  Ar = sparse.csr_matrix(nx.adjacency_matrix(Gr))\n",
      "100%|██████████| 100/100 [00:00<00:00, 269.70it/s]\n",
      "c:\\Users\\VictorLeCoz\\Anaconda3\\envs\\interbank_network\\lib\\site-packages\\cpnet\\utils.py:20: FutureWarning: adjacency_matrix will return a scipy.sparse array instead of a matrix in Networkx 3.0.\n",
      "  sparse.csr_matrix(nx.adjacency_matrix(net), dtype=np.float64),\n",
      "c:\\Users\\VictorLeCoz\\Anaconda3\\envs\\interbank_network\\lib\\site-packages\\cpnet\\qstest.py:96: FutureWarning: adjacency_matrix will return a scipy.sparse array instead of a matrix in Networkx 3.0.\n",
      "  A = nx.adjacency_matrix(G)\n"
     ]
    },
    {
     "name": "stdout",
     "output_type": "stream",
     "text": [
      "core-periphery tests using the KM_config approach\n",
      "test on day 2000-05-03 00:00:00\n",
      "test on day 2007-05-29 00:00:00\n"
     ]
    },
    {
     "name": "stderr",
     "output_type": "stream",
     "text": [
      "c:\\Users\\VictorLeCoz\\Anaconda3\\envs\\interbank_network\\lib\\site-packages\\cpnet\\qstest.py:35: FutureWarning: adjacency_matrix will return a scipy.sparse array instead of a matrix in Networkx 3.0.\n",
      "  Ar = sparse.csr_matrix(nx.adjacency_matrix(Gr))\n",
      " 20%|██        | 20/100 [00:00<00:00, 263.72it/s]\n",
      "c:\\Users\\VictorLeCoz\\Anaconda3\\envs\\interbank_network\\lib\\site-packages\\cpnet\\utils.py:20: FutureWarning: adjacency_matrix will return a scipy.sparse array instead of a matrix in Networkx 3.0.\n",
      "  sparse.csr_matrix(nx.adjacency_matrix(net), dtype=np.float64),\n",
      "c:\\Users\\VictorLeCoz\\Anaconda3\\envs\\interbank_network\\lib\\site-packages\\cpnet\\qstest.py:96: FutureWarning: adjacency_matrix will return a scipy.sparse array instead of a matrix in Networkx 3.0.\n",
      "  A = nx.adjacency_matrix(G)\n"
     ]
    },
    {
     "name": "stdout",
     "output_type": "stream",
     "text": [
      "test on day 2014-06-26 00:00:00\n"
     ]
    },
    {
     "name": "stderr",
     "output_type": "stream",
     "text": [
      "c:\\Users\\VictorLeCoz\\Anaconda3\\envs\\interbank_network\\lib\\site-packages\\cpnet\\qstest.py:35: FutureWarning: adjacency_matrix will return a scipy.sparse array instead of a matrix in Networkx 3.0.\n",
      "  Ar = sparse.csr_matrix(nx.adjacency_matrix(Gr))\n",
      " 11%|█         | 11/100 [00:00<00:00, 247.08it/s]\n",
      "c:\\Users\\VictorLeCoz\\Anaconda3\\envs\\interbank_network\\lib\\site-packages\\cpnet\\utils.py:20: FutureWarning: adjacency_matrix will return a scipy.sparse array instead of a matrix in Networkx 3.0.\n",
      "  sparse.csr_matrix(nx.adjacency_matrix(net), dtype=np.float64),\n",
      "c:\\Users\\VictorLeCoz\\Anaconda3\\envs\\interbank_network\\lib\\site-packages\\cpnet\\qstest.py:96: FutureWarning: adjacency_matrix will return a scipy.sparse array instead of a matrix in Networkx 3.0.\n",
      "  A = nx.adjacency_matrix(G)\n"
     ]
    },
    {
     "name": "stdout",
     "output_type": "stream",
     "text": [
      "test on day 2023-05-04 00:00:00\n"
     ]
    },
    {
     "name": "stderr",
     "output_type": "stream",
     "text": [
      "c:\\Users\\VictorLeCoz\\Anaconda3\\envs\\interbank_network\\lib\\site-packages\\cpnet\\qstest.py:35: FutureWarning: adjacency_matrix will return a scipy.sparse array instead of a matrix in Networkx 3.0.\n",
      "  Ar = sparse.csr_matrix(nx.adjacency_matrix(Gr))\n",
      "  6%|▌         | 6/100 [00:00<00:00, 272.43it/s]\n",
      "c:\\Users\\VictorLeCoz\\Anaconda3\\envs\\interbank_network\\lib\\site-packages\\cpnet\\utils.py:20: FutureWarning: adjacency_matrix will return a scipy.sparse array instead of a matrix in Networkx 3.0.\n",
      "  sparse.csr_matrix(nx.adjacency_matrix(net), dtype=np.float64),\n"
     ]
    },
    {
     "name": "stdout",
     "output_type": "stream",
     "text": [
      "test on day 2024-01-12 00:00:00\n"
     ]
    },
    {
     "name": "stderr",
     "output_type": "stream",
     "text": [
      "c:\\Users\\VictorLeCoz\\Anaconda3\\envs\\interbank_network\\lib\\site-packages\\cpnet\\qstest.py:96: FutureWarning: adjacency_matrix will return a scipy.sparse array instead of a matrix in Networkx 3.0.\n",
      "  A = nx.adjacency_matrix(G)\n",
      "c:\\Users\\VictorLeCoz\\Anaconda3\\envs\\interbank_network\\lib\\site-packages\\cpnet\\qstest.py:35: FutureWarning: adjacency_matrix will return a scipy.sparse array instead of a matrix in Networkx 3.0.\n",
      "  Ar = sparse.csr_matrix(nx.adjacency_matrix(Gr))\n",
      "100%|██████████| 100/100 [00:00<00:00, 116.98it/s]\n",
      "c:\\Users\\VictorLeCoz\\Anaconda3\\envs\\interbank_network\\lib\\site-packages\\cpnet\\utils.py:20: FutureWarning: adjacency_matrix will return a scipy.sparse array instead of a matrix in Networkx 3.0.\n",
      "  sparse.csr_matrix(nx.adjacency_matrix(net), dtype=np.float64),\n",
      "c:\\Users\\VictorLeCoz\\Anaconda3\\envs\\interbank_network\\lib\\site-packages\\cpnet\\qstest.py:96: FutureWarning: adjacency_matrix will return a scipy.sparse array instead of a matrix in Networkx 3.0.\n",
      "  A = nx.adjacency_matrix(G)\n"
     ]
    },
    {
     "name": "stdout",
     "output_type": "stream",
     "text": [
      "core-periphery tests using the Rombach approach\n",
      "test on day 2000-05-03 00:00:00\n"
     ]
    },
    {
     "name": "stderr",
     "output_type": "stream",
     "text": [
      "c:\\Users\\VictorLeCoz\\Anaconda3\\envs\\interbank_network\\lib\\site-packages\\cpnet\\qstest.py:35: FutureWarning: adjacency_matrix will return a scipy.sparse array instead of a matrix in Networkx 3.0.\n",
      "  Ar = sparse.csr_matrix(nx.adjacency_matrix(Gr))\n",
      "100%|██████████| 100/100 [00:04<00:00, 24.09it/s]\n"
     ]
    },
    {
     "name": "stdout",
     "output_type": "stream",
     "text": [
      "test on day 2007-05-29 00:00:00\n"
     ]
    },
    {
     "name": "stderr",
     "output_type": "stream",
     "text": [
      "100%|██████████| 100/100 [00:00<00:00, 540.27it/s]\n",
      "c:\\Users\\VictorLeCoz\\Anaconda3\\envs\\interbank_network\\lib\\site-packages\\cpnet\\utils.py:20: FutureWarning: adjacency_matrix will return a scipy.sparse array instead of a matrix in Networkx 3.0.\n",
      "  sparse.csr_matrix(nx.adjacency_matrix(net), dtype=np.float64),\n",
      "c:\\Users\\VictorLeCoz\\Anaconda3\\envs\\interbank_network\\lib\\site-packages\\cpnet\\qstest.py:96: FutureWarning: adjacency_matrix will return a scipy.sparse array instead of a matrix in Networkx 3.0.\n",
      "  A = nx.adjacency_matrix(G)\n"
     ]
    },
    {
     "name": "stdout",
     "output_type": "stream",
     "text": [
      "test on day 2014-06-26 00:00:00\n"
     ]
    },
    {
     "name": "stderr",
     "output_type": "stream",
     "text": [
      "c:\\Users\\VictorLeCoz\\Anaconda3\\envs\\interbank_network\\lib\\site-packages\\cpnet\\qstest.py:35: FutureWarning: adjacency_matrix will return a scipy.sparse array instead of a matrix in Networkx 3.0.\n",
      "  Ar = sparse.csr_matrix(nx.adjacency_matrix(Gr))\n",
      "100%|██████████| 100/100 [00:00<00:00, 202.12it/s]\n",
      "c:\\Users\\VictorLeCoz\\Anaconda3\\envs\\interbank_network\\lib\\site-packages\\cpnet\\utils.py:20: FutureWarning: adjacency_matrix will return a scipy.sparse array instead of a matrix in Networkx 3.0.\n",
      "  sparse.csr_matrix(nx.adjacency_matrix(net), dtype=np.float64),\n",
      "c:\\Users\\VictorLeCoz\\Anaconda3\\envs\\interbank_network\\lib\\site-packages\\cpnet\\qstest.py:96: FutureWarning: adjacency_matrix will return a scipy.sparse array instead of a matrix in Networkx 3.0.\n",
      "  A = nx.adjacency_matrix(G)\n"
     ]
    },
    {
     "name": "stdout",
     "output_type": "stream",
     "text": [
      "test on day 2023-05-04 00:00:00\n"
     ]
    },
    {
     "name": "stderr",
     "output_type": "stream",
     "text": [
      "c:\\Users\\VictorLeCoz\\Anaconda3\\envs\\interbank_network\\lib\\site-packages\\cpnet\\qstest.py:35: FutureWarning: adjacency_matrix will return a scipy.sparse array instead of a matrix in Networkx 3.0.\n",
      "  Ar = sparse.csr_matrix(nx.adjacency_matrix(Gr))\n",
      "100%|██████████| 100/100 [00:00<00:00, 129.30it/s]\n",
      "c:\\Users\\VictorLeCoz\\Anaconda3\\envs\\interbank_network\\lib\\site-packages\\cpnet\\utils.py:20: FutureWarning: adjacency_matrix will return a scipy.sparse array instead of a matrix in Networkx 3.0.\n",
      "  sparse.csr_matrix(nx.adjacency_matrix(net), dtype=np.float64),\n",
      "c:\\Users\\VictorLeCoz\\Anaconda3\\envs\\interbank_network\\lib\\site-packages\\cpnet\\qstest.py:96: FutureWarning: adjacency_matrix will return a scipy.sparse array instead of a matrix in Networkx 3.0.\n",
      "  A = nx.adjacency_matrix(G)\n"
     ]
    },
    {
     "name": "stdout",
     "output_type": "stream",
     "text": [
      "test on day 2024-01-12 00:00:00\n"
     ]
    },
    {
     "name": "stderr",
     "output_type": "stream",
     "text": [
      "c:\\Users\\VictorLeCoz\\Anaconda3\\envs\\interbank_network\\lib\\site-packages\\cpnet\\qstest.py:35: FutureWarning: adjacency_matrix will return a scipy.sparse array instead of a matrix in Networkx 3.0.\n",
      "  Ar = sparse.csr_matrix(nx.adjacency_matrix(Gr))\n",
      "100%|██████████| 100/100 [00:00<00:00, 466.12it/s]\n",
      "c:\\Users\\VictorLeCoz\\Anaconda3\\envs\\interbank_network\\lib\\site-packages\\cpnet\\utils.py:20: FutureWarning: adjacency_matrix will return a scipy.sparse array instead of a matrix in Networkx 3.0.\n",
      "  sparse.csr_matrix(nx.adjacency_matrix(net), dtype=np.float64),\n",
      "c:\\Users\\VictorLeCoz\\Anaconda3\\envs\\interbank_network\\lib\\site-packages\\cpnet\\qstest.py:96: FutureWarning: adjacency_matrix will return a scipy.sparse array instead of a matrix in Networkx 3.0.\n",
      "  A = nx.adjacency_matrix(G)\n"
     ]
    },
    {
     "name": "stdout",
     "output_type": "stream",
     "text": [
      "core-periphery tests using the Rossa approach\n",
      "test on day 2000-05-03 00:00:00\n"
     ]
    },
    {
     "name": "stderr",
     "output_type": "stream",
     "text": [
      "c:\\Users\\VictorLeCoz\\Anaconda3\\envs\\interbank_network\\lib\\site-packages\\cpnet\\qstest.py:35: FutureWarning: adjacency_matrix will return a scipy.sparse array instead of a matrix in Networkx 3.0.\n",
      "  Ar = sparse.csr_matrix(nx.adjacency_matrix(Gr))\n",
      "100%|██████████| 100/100 [00:00<00:00, 203.70it/s]\n"
     ]
    },
    {
     "name": "stdout",
     "output_type": "stream",
     "text": [
      "test on day 2007-05-29 00:00:00\n"
     ]
    },
    {
     "name": "stderr",
     "output_type": "stream",
     "text": [
      "100%|██████████| 100/100 [00:00<00:00, 197.52it/s]\n",
      "c:\\Users\\VictorLeCoz\\Anaconda3\\envs\\interbank_network\\lib\\site-packages\\cpnet\\utils.py:20: FutureWarning: adjacency_matrix will return a scipy.sparse array instead of a matrix in Networkx 3.0.\n",
      "  sparse.csr_matrix(nx.adjacency_matrix(net), dtype=np.float64),\n",
      "c:\\Users\\VictorLeCoz\\Anaconda3\\envs\\interbank_network\\lib\\site-packages\\cpnet\\qstest.py:96: FutureWarning: adjacency_matrix will return a scipy.sparse array instead of a matrix in Networkx 3.0.\n",
      "  A = nx.adjacency_matrix(G)\n"
     ]
    },
    {
     "name": "stdout",
     "output_type": "stream",
     "text": [
      "test on day 2014-06-26 00:00:00\n"
     ]
    },
    {
     "name": "stderr",
     "output_type": "stream",
     "text": [
      "c:\\Users\\VictorLeCoz\\Anaconda3\\envs\\interbank_network\\lib\\site-packages\\cpnet\\qstest.py:35: FutureWarning: adjacency_matrix will return a scipy.sparse array instead of a matrix in Networkx 3.0.\n",
      "  Ar = sparse.csr_matrix(nx.adjacency_matrix(Gr))\n",
      "100%|██████████| 100/100 [00:00<00:00, 230.95it/s]\n",
      "c:\\Users\\VictorLeCoz\\Anaconda3\\envs\\interbank_network\\lib\\site-packages\\cpnet\\utils.py:20: FutureWarning: adjacency_matrix will return a scipy.sparse array instead of a matrix in Networkx 3.0.\n",
      "  sparse.csr_matrix(nx.adjacency_matrix(net), dtype=np.float64),\n",
      "c:\\Users\\VictorLeCoz\\Anaconda3\\envs\\interbank_network\\lib\\site-packages\\cpnet\\qstest.py:96: FutureWarning: adjacency_matrix will return a scipy.sparse array instead of a matrix in Networkx 3.0.\n",
      "  A = nx.adjacency_matrix(G)\n"
     ]
    },
    {
     "name": "stdout",
     "output_type": "stream",
     "text": [
      "test on day 2023-05-04 00:00:00\n"
     ]
    },
    {
     "name": "stderr",
     "output_type": "stream",
     "text": [
      "c:\\Users\\VictorLeCoz\\Anaconda3\\envs\\interbank_network\\lib\\site-packages\\cpnet\\qstest.py:35: FutureWarning: adjacency_matrix will return a scipy.sparse array instead of a matrix in Networkx 3.0.\n",
      "  Ar = sparse.csr_matrix(nx.adjacency_matrix(Gr))\n",
      "100%|██████████| 100/100 [00:00<00:00, 239.02it/s]\n",
      "c:\\Users\\VictorLeCoz\\Anaconda3\\envs\\interbank_network\\lib\\site-packages\\cpnet\\utils.py:20: FutureWarning: adjacency_matrix will return a scipy.sparse array instead of a matrix in Networkx 3.0.\n",
      "  sparse.csr_matrix(nx.adjacency_matrix(net), dtype=np.float64),\n",
      "c:\\Users\\VictorLeCoz\\Anaconda3\\envs\\interbank_network\\lib\\site-packages\\cpnet\\qstest.py:96: FutureWarning: adjacency_matrix will return a scipy.sparse array instead of a matrix in Networkx 3.0.\n",
      "  A = nx.adjacency_matrix(G)\n"
     ]
    },
    {
     "name": "stdout",
     "output_type": "stream",
     "text": [
      "test on day 2024-01-12 00:00:00\n"
     ]
    },
    {
     "name": "stderr",
     "output_type": "stream",
     "text": [
      "c:\\Users\\VictorLeCoz\\Anaconda3\\envs\\interbank_network\\lib\\site-packages\\cpnet\\qstest.py:35: FutureWarning: adjacency_matrix will return a scipy.sparse array instead of a matrix in Networkx 3.0.\n",
      "  Ar = sparse.csr_matrix(nx.adjacency_matrix(Gr))\n",
      "100%|██████████| 100/100 [00:00<00:00, 208.48it/s]\n",
      "c:\\Users\\VictorLeCoz\\Anaconda3\\envs\\interbank_network\\lib\\site-packages\\cpnet\\utils.py:20: FutureWarning: adjacency_matrix will return a scipy.sparse array instead of a matrix in Networkx 3.0.\n",
      "  sparse.csr_matrix(nx.adjacency_matrix(net), dtype=np.float64),\n",
      "c:\\Users\\VictorLeCoz\\Anaconda3\\envs\\interbank_network\\lib\\site-packages\\cpnet\\qstest.py:96: FutureWarning: adjacency_matrix will return a scipy.sparse array instead of a matrix in Networkx 3.0.\n",
      "  A = nx.adjacency_matrix(G)\n"
     ]
    },
    {
     "name": "stdout",
     "output_type": "stream",
     "text": [
      "core-periphery tests using the LapCore approach\n",
      "test on day 2000-05-03 00:00:00\n"
     ]
    },
    {
     "name": "stderr",
     "output_type": "stream",
     "text": [
      "c:\\Users\\VictorLeCoz\\Anaconda3\\envs\\interbank_network\\lib\\site-packages\\cpnet\\qstest.py:35: FutureWarning: adjacency_matrix will return a scipy.sparse array instead of a matrix in Networkx 3.0.\n",
      "  Ar = sparse.csr_matrix(nx.adjacency_matrix(Gr))\n",
      "100%|██████████| 100/100 [00:00<00:00, 162.48it/s]\n"
     ]
    },
    {
     "name": "stdout",
     "output_type": "stream",
     "text": [
      "test on day 2007-05-29 00:00:00\n"
     ]
    },
    {
     "name": "stderr",
     "output_type": "stream",
     "text": [
      "100%|██████████| 100/100 [00:00<00:00, 162.39it/s]\n",
      "c:\\Users\\VictorLeCoz\\Anaconda3\\envs\\interbank_network\\lib\\site-packages\\cpnet\\utils.py:20: FutureWarning: adjacency_matrix will return a scipy.sparse array instead of a matrix in Networkx 3.0.\n",
      "  sparse.csr_matrix(nx.adjacency_matrix(net), dtype=np.float64),\n",
      "c:\\Users\\VictorLeCoz\\Anaconda3\\envs\\interbank_network\\lib\\site-packages\\cpnet\\qstest.py:96: FutureWarning: adjacency_matrix will return a scipy.sparse array instead of a matrix in Networkx 3.0.\n",
      "  A = nx.adjacency_matrix(G)\n"
     ]
    },
    {
     "name": "stdout",
     "output_type": "stream",
     "text": [
      "test on day 2014-06-26 00:00:00\n"
     ]
    },
    {
     "name": "stderr",
     "output_type": "stream",
     "text": [
      "c:\\Users\\VictorLeCoz\\Anaconda3\\envs\\interbank_network\\lib\\site-packages\\cpnet\\qstest.py:35: FutureWarning: adjacency_matrix will return a scipy.sparse array instead of a matrix in Networkx 3.0.\n",
      "  Ar = sparse.csr_matrix(nx.adjacency_matrix(Gr))\n",
      "100%|██████████| 100/100 [00:00<00:00, 137.62it/s]\n",
      "c:\\Users\\VictorLeCoz\\Anaconda3\\envs\\interbank_network\\lib\\site-packages\\cpnet\\utils.py:20: FutureWarning: adjacency_matrix will return a scipy.sparse array instead of a matrix in Networkx 3.0.\n",
      "  sparse.csr_matrix(nx.adjacency_matrix(net), dtype=np.float64),\n",
      "c:\\Users\\VictorLeCoz\\Anaconda3\\envs\\interbank_network\\lib\\site-packages\\cpnet\\qstest.py:96: FutureWarning: adjacency_matrix will return a scipy.sparse array instead of a matrix in Networkx 3.0.\n",
      "  A = nx.adjacency_matrix(G)\n"
     ]
    },
    {
     "name": "stdout",
     "output_type": "stream",
     "text": [
      "test on day 2023-05-04 00:00:00\n"
     ]
    },
    {
     "name": "stderr",
     "output_type": "stream",
     "text": [
      "c:\\Users\\VictorLeCoz\\Anaconda3\\envs\\interbank_network\\lib\\site-packages\\cpnet\\qstest.py:35: FutureWarning: adjacency_matrix will return a scipy.sparse array instead of a matrix in Networkx 3.0.\n",
      "  Ar = sparse.csr_matrix(nx.adjacency_matrix(Gr))\n",
      "100%|██████████| 100/100 [00:00<00:00, 153.47it/s]\n",
      "c:\\Users\\VictorLeCoz\\Anaconda3\\envs\\interbank_network\\lib\\site-packages\\cpnet\\utils.py:20: FutureWarning: adjacency_matrix will return a scipy.sparse array instead of a matrix in Networkx 3.0.\n",
      "  sparse.csr_matrix(nx.adjacency_matrix(net), dtype=np.float64),\n",
      "c:\\Users\\VictorLeCoz\\Anaconda3\\envs\\interbank_network\\lib\\site-packages\\cpnet\\qstest.py:96: FutureWarning: adjacency_matrix will return a scipy.sparse array instead of a matrix in Networkx 3.0.\n",
      "  A = nx.adjacency_matrix(G)\n"
     ]
    },
    {
     "name": "stdout",
     "output_type": "stream",
     "text": [
      "test on day 2024-01-12 00:00:00\n"
     ]
    },
    {
     "name": "stderr",
     "output_type": "stream",
     "text": [
      "c:\\Users\\VictorLeCoz\\Anaconda3\\envs\\interbank_network\\lib\\site-packages\\cpnet\\qstest.py:35: FutureWarning: adjacency_matrix will return a scipy.sparse array instead of a matrix in Networkx 3.0.\n",
      "  Ar = sparse.csr_matrix(nx.adjacency_matrix(Gr))\n",
      "100%|██████████| 100/100 [00:00<00:00, 140.39it/s]\n",
      "c:\\Users\\VictorLeCoz\\Anaconda3\\envs\\interbank_network\\lib\\site-packages\\cpnet\\utils.py:20: FutureWarning: adjacency_matrix will return a scipy.sparse array instead of a matrix in Networkx 3.0.\n",
      "  sparse.csr_matrix(nx.adjacency_matrix(net), dtype=np.float64),\n",
      "c:\\Users\\VictorLeCoz\\Anaconda3\\envs\\interbank_network\\lib\\site-packages\\cpnet\\qstest.py:96: FutureWarning: adjacency_matrix will return a scipy.sparse array instead of a matrix in Networkx 3.0.\n",
      "  A = nx.adjacency_matrix(G)\n"
     ]
    },
    {
     "name": "stdout",
     "output_type": "stream",
     "text": [
      "core-periphery tests using the LapSgnCore approach\n",
      "test on day 2000-05-03 00:00:00\n"
     ]
    },
    {
     "name": "stderr",
     "output_type": "stream",
     "text": [
      "c:\\Users\\VictorLeCoz\\Anaconda3\\envs\\interbank_network\\lib\\site-packages\\cpnet\\qstest.py:35: FutureWarning: adjacency_matrix will return a scipy.sparse array instead of a matrix in Networkx 3.0.\n",
      "  Ar = sparse.csr_matrix(nx.adjacency_matrix(Gr))\n",
      "100%|██████████| 100/100 [00:00<00:00, 312.60it/s]\n"
     ]
    },
    {
     "name": "stdout",
     "output_type": "stream",
     "text": [
      "test on day 2007-05-29 00:00:00\n"
     ]
    },
    {
     "name": "stderr",
     "output_type": "stream",
     "text": [
      "100%|██████████| 100/100 [00:00<00:00, 321.62it/s]\n",
      "c:\\Users\\VictorLeCoz\\Anaconda3\\envs\\interbank_network\\lib\\site-packages\\cpnet\\utils.py:20: FutureWarning: adjacency_matrix will return a scipy.sparse array instead of a matrix in Networkx 3.0.\n",
      "  sparse.csr_matrix(nx.adjacency_matrix(net), dtype=np.float64),\n",
      "c:\\Users\\VictorLeCoz\\Anaconda3\\envs\\interbank_network\\lib\\site-packages\\cpnet\\qstest.py:96: FutureWarning: adjacency_matrix will return a scipy.sparse array instead of a matrix in Networkx 3.0.\n",
      "  A = nx.adjacency_matrix(G)\n"
     ]
    },
    {
     "name": "stdout",
     "output_type": "stream",
     "text": [
      "test on day 2014-06-26 00:00:00\n"
     ]
    },
    {
     "name": "stderr",
     "output_type": "stream",
     "text": [
      "c:\\Users\\VictorLeCoz\\Anaconda3\\envs\\interbank_network\\lib\\site-packages\\cpnet\\qstest.py:35: FutureWarning: adjacency_matrix will return a scipy.sparse array instead of a matrix in Networkx 3.0.\n",
      "  Ar = sparse.csr_matrix(nx.adjacency_matrix(Gr))\n",
      "100%|██████████| 100/100 [00:00<00:00, 309.84it/s]\n",
      "c:\\Users\\VictorLeCoz\\Anaconda3\\envs\\interbank_network\\lib\\site-packages\\cpnet\\utils.py:20: FutureWarning: adjacency_matrix will return a scipy.sparse array instead of a matrix in Networkx 3.0.\n",
      "  sparse.csr_matrix(nx.adjacency_matrix(net), dtype=np.float64),\n",
      "c:\\Users\\VictorLeCoz\\Anaconda3\\envs\\interbank_network\\lib\\site-packages\\cpnet\\qstest.py:96: FutureWarning: adjacency_matrix will return a scipy.sparse array instead of a matrix in Networkx 3.0.\n",
      "  A = nx.adjacency_matrix(G)\n"
     ]
    },
    {
     "name": "stdout",
     "output_type": "stream",
     "text": [
      "test on day 2023-05-04 00:00:00\n"
     ]
    },
    {
     "name": "stderr",
     "output_type": "stream",
     "text": [
      "c:\\Users\\VictorLeCoz\\Anaconda3\\envs\\interbank_network\\lib\\site-packages\\cpnet\\qstest.py:35: FutureWarning: adjacency_matrix will return a scipy.sparse array instead of a matrix in Networkx 3.0.\n",
      "  Ar = sparse.csr_matrix(nx.adjacency_matrix(Gr))\n",
      "100%|██████████| 100/100 [00:00<00:00, 271.51it/s]\n",
      "c:\\Users\\VictorLeCoz\\Anaconda3\\envs\\interbank_network\\lib\\site-packages\\cpnet\\utils.py:20: FutureWarning: adjacency_matrix will return a scipy.sparse array instead of a matrix in Networkx 3.0.\n",
      "  sparse.csr_matrix(nx.adjacency_matrix(net), dtype=np.float64),\n",
      "c:\\Users\\VictorLeCoz\\Anaconda3\\envs\\interbank_network\\lib\\site-packages\\cpnet\\qstest.py:96: FutureWarning: adjacency_matrix will return a scipy.sparse array instead of a matrix in Networkx 3.0.\n",
      "  A = nx.adjacency_matrix(G)\n"
     ]
    },
    {
     "name": "stdout",
     "output_type": "stream",
     "text": [
      "test on day 2024-01-12 00:00:00\n"
     ]
    },
    {
     "name": "stderr",
     "output_type": "stream",
     "text": [
      "c:\\Users\\VictorLeCoz\\Anaconda3\\envs\\interbank_network\\lib\\site-packages\\cpnet\\qstest.py:35: FutureWarning: adjacency_matrix will return a scipy.sparse array instead of a matrix in Networkx 3.0.\n",
      "  Ar = sparse.csr_matrix(nx.adjacency_matrix(Gr))\n",
      "100%|██████████| 100/100 [00:00<00:00, 219.81it/s]\n",
      "c:\\Users\\VictorLeCoz\\Anaconda3\\envs\\interbank_network\\lib\\site-packages\\cpnet\\utils.py:20: FutureWarning: adjacency_matrix will return a scipy.sparse array instead of a matrix in Networkx 3.0.\n",
      "  sparse.csr_matrix(nx.adjacency_matrix(net), dtype=np.float64),\n",
      "c:\\Users\\VictorLeCoz\\Anaconda3\\envs\\interbank_network\\lib\\site-packages\\cpnet\\qstest.py:96: FutureWarning: adjacency_matrix will return a scipy.sparse array instead of a matrix in Networkx 3.0.\n",
      "  A = nx.adjacency_matrix(G)\n"
     ]
    },
    {
     "name": "stdout",
     "output_type": "stream",
     "text": [
      "core-periphery tests using the LowRankCore approach\n",
      "test on day 2000-05-03 00:00:00\n"
     ]
    },
    {
     "name": "stderr",
     "output_type": "stream",
     "text": [
      "c:\\Users\\VictorLeCoz\\Anaconda3\\envs\\interbank_network\\lib\\site-packages\\cpnet\\qstest.py:35: FutureWarning: adjacency_matrix will return a scipy.sparse array instead of a matrix in Networkx 3.0.\n",
      "  Ar = sparse.csr_matrix(nx.adjacency_matrix(Gr))\n",
      "100%|██████████| 100/100 [00:00<00:00, 163.09it/s]\n"
     ]
    },
    {
     "name": "stdout",
     "output_type": "stream",
     "text": [
      "test on day 2007-05-29 00:00:00\n"
     ]
    },
    {
     "name": "stderr",
     "output_type": "stream",
     "text": [
      "100%|██████████| 100/100 [00:00<00:00, 164.87it/s]\n",
      "c:\\Users\\VictorLeCoz\\Anaconda3\\envs\\interbank_network\\lib\\site-packages\\cpnet\\utils.py:20: FutureWarning: adjacency_matrix will return a scipy.sparse array instead of a matrix in Networkx 3.0.\n",
      "  sparse.csr_matrix(nx.adjacency_matrix(net), dtype=np.float64),\n",
      "c:\\Users\\VictorLeCoz\\Anaconda3\\envs\\interbank_network\\lib\\site-packages\\cpnet\\qstest.py:96: FutureWarning: adjacency_matrix will return a scipy.sparse array instead of a matrix in Networkx 3.0.\n",
      "  A = nx.adjacency_matrix(G)\n"
     ]
    },
    {
     "name": "stdout",
     "output_type": "stream",
     "text": [
      "test on day 2014-06-26 00:00:00\n"
     ]
    },
    {
     "name": "stderr",
     "output_type": "stream",
     "text": [
      "c:\\Users\\VictorLeCoz\\Anaconda3\\envs\\interbank_network\\lib\\site-packages\\cpnet\\qstest.py:35: FutureWarning: adjacency_matrix will return a scipy.sparse array instead of a matrix in Networkx 3.0.\n",
      "  Ar = sparse.csr_matrix(nx.adjacency_matrix(Gr))\n",
      "100%|██████████| 100/100 [00:00<00:00, 152.79it/s]\n",
      "c:\\Users\\VictorLeCoz\\Anaconda3\\envs\\interbank_network\\lib\\site-packages\\cpnet\\utils.py:20: FutureWarning: adjacency_matrix will return a scipy.sparse array instead of a matrix in Networkx 3.0.\n",
      "  sparse.csr_matrix(nx.adjacency_matrix(net), dtype=np.float64),\n",
      "c:\\Users\\VictorLeCoz\\Anaconda3\\envs\\interbank_network\\lib\\site-packages\\cpnet\\qstest.py:96: FutureWarning: adjacency_matrix will return a scipy.sparse array instead of a matrix in Networkx 3.0.\n",
      "  A = nx.adjacency_matrix(G)\n"
     ]
    },
    {
     "name": "stdout",
     "output_type": "stream",
     "text": [
      "test on day 2023-05-04 00:00:00\n"
     ]
    },
    {
     "name": "stderr",
     "output_type": "stream",
     "text": [
      "c:\\Users\\VictorLeCoz\\Anaconda3\\envs\\interbank_network\\lib\\site-packages\\cpnet\\qstest.py:35: FutureWarning: adjacency_matrix will return a scipy.sparse array instead of a matrix in Networkx 3.0.\n",
      "  Ar = sparse.csr_matrix(nx.adjacency_matrix(Gr))\n",
      "100%|██████████| 100/100 [00:00<00:00, 136.32it/s]\n",
      "c:\\Users\\VictorLeCoz\\Anaconda3\\envs\\interbank_network\\lib\\site-packages\\cpnet\\utils.py:20: FutureWarning: adjacency_matrix will return a scipy.sparse array instead of a matrix in Networkx 3.0.\n",
      "  sparse.csr_matrix(nx.adjacency_matrix(net), dtype=np.float64),\n",
      "c:\\Users\\VictorLeCoz\\Anaconda3\\envs\\interbank_network\\lib\\site-packages\\cpnet\\qstest.py:96: FutureWarning: adjacency_matrix will return a scipy.sparse array instead of a matrix in Networkx 3.0.\n",
      "  A = nx.adjacency_matrix(G)\n"
     ]
    },
    {
     "name": "stdout",
     "output_type": "stream",
     "text": [
      "test on day 2024-01-12 00:00:00\n"
     ]
    },
    {
     "name": "stderr",
     "output_type": "stream",
     "text": [
      "c:\\Users\\VictorLeCoz\\Anaconda3\\envs\\interbank_network\\lib\\site-packages\\cpnet\\qstest.py:35: FutureWarning: adjacency_matrix will return a scipy.sparse array instead of a matrix in Networkx 3.0.\n",
      "  Ar = sparse.csr_matrix(nx.adjacency_matrix(Gr))\n",
      "100%|██████████| 100/100 [00:00<00:00, 130.51it/s]\n",
      "c:\\Users\\VictorLeCoz\\Anaconda3\\envs\\interbank_network\\lib\\site-packages\\cpnet\\utils.py:20: FutureWarning: adjacency_matrix will return a scipy.sparse array instead of a matrix in Networkx 3.0.\n",
      "  sparse.csr_matrix(nx.adjacency_matrix(net), dtype=np.float64),\n",
      "c:\\Users\\VictorLeCoz\\Anaconda3\\envs\\interbank_network\\lib\\site-packages\\cpnet\\qstest.py:96: FutureWarning: adjacency_matrix will return a scipy.sparse array instead of a matrix in Networkx 3.0.\n",
      "  A = nx.adjacency_matrix(G)\n"
     ]
    },
    {
     "name": "stdout",
     "output_type": "stream",
     "text": [
      "core-periphery tests using the MINRES approach\n",
      "test on day 2000-05-03 00:00:00\n"
     ]
    },
    {
     "name": "stderr",
     "output_type": "stream",
     "text": [
      "c:\\Users\\VictorLeCoz\\Anaconda3\\envs\\interbank_network\\lib\\site-packages\\cpnet\\qstest.py:35: FutureWarning: adjacency_matrix will return a scipy.sparse array instead of a matrix in Networkx 3.0.\n",
      "  Ar = sparse.csr_matrix(nx.adjacency_matrix(Gr))\n",
      "100%|██████████| 100/100 [00:04<00:00, 21.80it/s]\n"
     ]
    },
    {
     "name": "stdout",
     "output_type": "stream",
     "text": [
      "test on day 2007-05-29 00:00:00\n"
     ]
    },
    {
     "name": "stderr",
     "output_type": "stream",
     "text": [
      "100%|██████████| 100/100 [00:06<00:00, 15.78it/s]\n",
      "c:\\Users\\VictorLeCoz\\Anaconda3\\envs\\interbank_network\\lib\\site-packages\\cpnet\\utils.py:20: FutureWarning: adjacency_matrix will return a scipy.sparse array instead of a matrix in Networkx 3.0.\n",
      "  sparse.csr_matrix(nx.adjacency_matrix(net), dtype=np.float64),\n",
      "c:\\Users\\VictorLeCoz\\Anaconda3\\envs\\interbank_network\\lib\\site-packages\\cpnet\\qstest.py:96: FutureWarning: adjacency_matrix will return a scipy.sparse array instead of a matrix in Networkx 3.0.\n",
      "  A = nx.adjacency_matrix(G)\n"
     ]
    },
    {
     "name": "stdout",
     "output_type": "stream",
     "text": [
      "test on day 2014-06-26 00:00:00\n"
     ]
    },
    {
     "name": "stderr",
     "output_type": "stream",
     "text": [
      "c:\\Users\\VictorLeCoz\\Anaconda3\\envs\\interbank_network\\lib\\site-packages\\cpnet\\qstest.py:35: FutureWarning: adjacency_matrix will return a scipy.sparse array instead of a matrix in Networkx 3.0.\n",
      "  Ar = sparse.csr_matrix(nx.adjacency_matrix(Gr))\n",
      "100%|██████████| 100/100 [00:05<00:00, 17.74it/s]\n",
      "c:\\Users\\VictorLeCoz\\Anaconda3\\envs\\interbank_network\\lib\\site-packages\\cpnet\\utils.py:20: FutureWarning: adjacency_matrix will return a scipy.sparse array instead of a matrix in Networkx 3.0.\n",
      "  sparse.csr_matrix(nx.adjacency_matrix(net), dtype=np.float64),\n",
      "c:\\Users\\VictorLeCoz\\Anaconda3\\envs\\interbank_network\\lib\\site-packages\\cpnet\\qstest.py:96: FutureWarning: adjacency_matrix will return a scipy.sparse array instead of a matrix in Networkx 3.0.\n",
      "  A = nx.adjacency_matrix(G)\n"
     ]
    },
    {
     "name": "stdout",
     "output_type": "stream",
     "text": [
      "test on day 2023-05-04 00:00:00\n"
     ]
    },
    {
     "name": "stderr",
     "output_type": "stream",
     "text": [
      "c:\\Users\\VictorLeCoz\\Anaconda3\\envs\\interbank_network\\lib\\site-packages\\cpnet\\qstest.py:35: FutureWarning: adjacency_matrix will return a scipy.sparse array instead of a matrix in Networkx 3.0.\n",
      "  Ar = sparse.csr_matrix(nx.adjacency_matrix(Gr))\n",
      "100%|██████████| 100/100 [00:06<00:00, 16.03it/s]\n",
      "c:\\Users\\VictorLeCoz\\Anaconda3\\envs\\interbank_network\\lib\\site-packages\\cpnet\\utils.py:20: FutureWarning: adjacency_matrix will return a scipy.sparse array instead of a matrix in Networkx 3.0.\n",
      "  sparse.csr_matrix(nx.adjacency_matrix(net), dtype=np.float64),\n",
      "c:\\Users\\VictorLeCoz\\Anaconda3\\envs\\interbank_network\\lib\\site-packages\\cpnet\\qstest.py:96: FutureWarning: adjacency_matrix will return a scipy.sparse array instead of a matrix in Networkx 3.0.\n",
      "  A = nx.adjacency_matrix(G)\n"
     ]
    },
    {
     "name": "stdout",
     "output_type": "stream",
     "text": [
      "test on day 2024-01-12 00:00:00\n"
     ]
    },
    {
     "name": "stderr",
     "output_type": "stream",
     "text": [
      "c:\\Users\\VictorLeCoz\\Anaconda3\\envs\\interbank_network\\lib\\site-packages\\cpnet\\qstest.py:35: FutureWarning: adjacency_matrix will return a scipy.sparse array instead of a matrix in Networkx 3.0.\n",
      "  Ar = sparse.csr_matrix(nx.adjacency_matrix(Gr))\n",
      "100%|██████████| 100/100 [00:04<00:00, 22.96it/s]\n",
      "c:\\Users\\VictorLeCoz\\Anaconda3\\envs\\interbank_network\\lib\\site-packages\\cpnet\\utils.py:20: FutureWarning: adjacency_matrix will return a scipy.sparse array instead of a matrix in Networkx 3.0.\n",
      "  sparse.csr_matrix(nx.adjacency_matrix(net), dtype=np.float64),\n",
      "c:\\Users\\VictorLeCoz\\Anaconda3\\envs\\interbank_network\\lib\\site-packages\\cpnet\\qstest.py:96: FutureWarning: adjacency_matrix will return a scipy.sparse array instead of a matrix in Networkx 3.0.\n",
      "  A = nx.adjacency_matrix(G)\n"
     ]
    },
    {
     "name": "stdout",
     "output_type": "stream",
     "text": [
      "core-periphery tests using the Lip approach\n",
      "test on day 2000-05-03 00:00:00\n"
     ]
    },
    {
     "name": "stderr",
     "output_type": "stream",
     "text": [
      "c:\\Users\\VictorLeCoz\\Anaconda3\\envs\\interbank_network\\lib\\site-packages\\cpnet\\qstest.py:35: FutureWarning: adjacency_matrix will return a scipy.sparse array instead of a matrix in Networkx 3.0.\n",
      "  Ar = sparse.csr_matrix(nx.adjacency_matrix(Gr))\n",
      "100%|██████████| 100/100 [00:00<00:00, 4137.99it/s]\n"
     ]
    },
    {
     "name": "stdout",
     "output_type": "stream",
     "text": [
      "test on day 2007-05-29 00:00:00\n"
     ]
    },
    {
     "name": "stderr",
     "output_type": "stream",
     "text": [
      "100%|██████████| 100/100 [00:00<00:00, 3203.47it/s]\n",
      "c:\\Users\\VictorLeCoz\\Anaconda3\\envs\\interbank_network\\lib\\site-packages\\cpnet\\utils.py:20: FutureWarning: adjacency_matrix will return a scipy.sparse array instead of a matrix in Networkx 3.0.\n",
      "  sparse.csr_matrix(nx.adjacency_matrix(net), dtype=np.float64),\n",
      "c:\\Users\\VictorLeCoz\\Anaconda3\\envs\\interbank_network\\lib\\site-packages\\cpnet\\qstest.py:96: FutureWarning: adjacency_matrix will return a scipy.sparse array instead of a matrix in Networkx 3.0.\n",
      "  A = nx.adjacency_matrix(G)\n"
     ]
    },
    {
     "name": "stdout",
     "output_type": "stream",
     "text": [
      "test on day 2014-06-26 00:00:00\n"
     ]
    },
    {
     "name": "stderr",
     "output_type": "stream",
     "text": [
      "c:\\Users\\VictorLeCoz\\Anaconda3\\envs\\interbank_network\\lib\\site-packages\\cpnet\\qstest.py:35: FutureWarning: adjacency_matrix will return a scipy.sparse array instead of a matrix in Networkx 3.0.\n",
      "  Ar = sparse.csr_matrix(nx.adjacency_matrix(Gr))\n",
      "100%|██████████| 100/100 [00:00<00:00, 3158.12it/s]\n",
      "c:\\Users\\VictorLeCoz\\Anaconda3\\envs\\interbank_network\\lib\\site-packages\\cpnet\\utils.py:20: FutureWarning: adjacency_matrix will return a scipy.sparse array instead of a matrix in Networkx 3.0.\n",
      "  sparse.csr_matrix(nx.adjacency_matrix(net), dtype=np.float64),\n",
      "c:\\Users\\VictorLeCoz\\Anaconda3\\envs\\interbank_network\\lib\\site-packages\\cpnet\\qstest.py:96: FutureWarning: adjacency_matrix will return a scipy.sparse array instead of a matrix in Networkx 3.0.\n",
      "  A = nx.adjacency_matrix(G)\n"
     ]
    },
    {
     "name": "stdout",
     "output_type": "stream",
     "text": [
      "test on day 2023-05-04 00:00:00\n"
     ]
    },
    {
     "name": "stderr",
     "output_type": "stream",
     "text": [
      "c:\\Users\\VictorLeCoz\\Anaconda3\\envs\\interbank_network\\lib\\site-packages\\cpnet\\qstest.py:35: FutureWarning: adjacency_matrix will return a scipy.sparse array instead of a matrix in Networkx 3.0.\n",
      "  Ar = sparse.csr_matrix(nx.adjacency_matrix(Gr))\n",
      "100%|██████████| 100/100 [00:00<00:00, 1424.26it/s]\n",
      "c:\\Users\\VictorLeCoz\\Anaconda3\\envs\\interbank_network\\lib\\site-packages\\cpnet\\utils.py:20: FutureWarning: adjacency_matrix will return a scipy.sparse array instead of a matrix in Networkx 3.0.\n",
      "  sparse.csr_matrix(nx.adjacency_matrix(net), dtype=np.float64),\n",
      "c:\\Users\\VictorLeCoz\\Anaconda3\\envs\\interbank_network\\lib\\site-packages\\cpnet\\qstest.py:96: FutureWarning: adjacency_matrix will return a scipy.sparse array instead of a matrix in Networkx 3.0.\n",
      "  A = nx.adjacency_matrix(G)\n"
     ]
    },
    {
     "name": "stdout",
     "output_type": "stream",
     "text": [
      "test on day 2024-01-12 00:00:00\n"
     ]
    },
    {
     "name": "stderr",
     "output_type": "stream",
     "text": [
      "c:\\Users\\VictorLeCoz\\Anaconda3\\envs\\interbank_network\\lib\\site-packages\\cpnet\\qstest.py:35: FutureWarning: adjacency_matrix will return a scipy.sparse array instead of a matrix in Networkx 3.0.\n",
      "  Ar = sparse.csr_matrix(nx.adjacency_matrix(Gr))\n",
      "100%|██████████| 100/100 [00:00<00:00, 2619.61it/s]\n",
      "c:\\Users\\VictorLeCoz\\Anaconda3\\envs\\interbank_network\\lib\\site-packages\\cpnet\\utils.py:20: FutureWarning: adjacency_matrix will return a scipy.sparse array instead of a matrix in Networkx 3.0.\n",
      "  sparse.csr_matrix(nx.adjacency_matrix(net), dtype=np.float64),\n",
      "c:\\Users\\VictorLeCoz\\Anaconda3\\envs\\interbank_network\\lib\\site-packages\\cpnet\\qstest.py:96: FutureWarning: adjacency_matrix will return a scipy.sparse array instead of a matrix in Networkx 3.0.\n",
      "  A = nx.adjacency_matrix(G)\n"
     ]
    },
    {
     "name": "stdout",
     "output_type": "stream",
     "text": [
      "core-periphery tests using the BE approach\n",
      "test on day 2000-05-03 00:00:00\n"
     ]
    },
    {
     "name": "stderr",
     "output_type": "stream",
     "text": [
      "c:\\Users\\VictorLeCoz\\Anaconda3\\envs\\interbank_network\\lib\\site-packages\\cpnet\\qstest.py:35: FutureWarning: adjacency_matrix will return a scipy.sparse array instead of a matrix in Networkx 3.0.\n",
      "  Ar = sparse.csr_matrix(nx.adjacency_matrix(Gr))\n",
      "100%|██████████| 100/100 [00:00<00:00, 1593.51it/s]\n"
     ]
    },
    {
     "name": "stdout",
     "output_type": "stream",
     "text": [
      "test on day 2007-05-29 00:00:00\n"
     ]
    },
    {
     "name": "stderr",
     "output_type": "stream",
     "text": [
      "100%|██████████| 100/100 [00:00<00:00, 973.00it/s]\n",
      "c:\\Users\\VictorLeCoz\\Anaconda3\\envs\\interbank_network\\lib\\site-packages\\cpnet\\utils.py:20: FutureWarning: adjacency_matrix will return a scipy.sparse array instead of a matrix in Networkx 3.0.\n",
      "  sparse.csr_matrix(nx.adjacency_matrix(net), dtype=np.float64),\n",
      "c:\\Users\\VictorLeCoz\\Anaconda3\\envs\\interbank_network\\lib\\site-packages\\cpnet\\qstest.py:96: FutureWarning: adjacency_matrix will return a scipy.sparse array instead of a matrix in Networkx 3.0.\n",
      "  A = nx.adjacency_matrix(G)\n"
     ]
    },
    {
     "name": "stdout",
     "output_type": "stream",
     "text": [
      "test on day 2014-06-26 00:00:00\n"
     ]
    },
    {
     "name": "stderr",
     "output_type": "stream",
     "text": [
      "c:\\Users\\VictorLeCoz\\Anaconda3\\envs\\interbank_network\\lib\\site-packages\\cpnet\\qstest.py:35: FutureWarning: adjacency_matrix will return a scipy.sparse array instead of a matrix in Networkx 3.0.\n",
      "  Ar = sparse.csr_matrix(nx.adjacency_matrix(Gr))\n",
      "100%|██████████| 100/100 [00:00<00:00, 1234.42it/s]\n",
      "c:\\Users\\VictorLeCoz\\Anaconda3\\envs\\interbank_network\\lib\\site-packages\\cpnet\\utils.py:20: FutureWarning: adjacency_matrix will return a scipy.sparse array instead of a matrix in Networkx 3.0.\n",
      "  sparse.csr_matrix(nx.adjacency_matrix(net), dtype=np.float64),\n",
      "c:\\Users\\VictorLeCoz\\Anaconda3\\envs\\interbank_network\\lib\\site-packages\\cpnet\\qstest.py:96: FutureWarning: adjacency_matrix will return a scipy.sparse array instead of a matrix in Networkx 3.0.\n",
      "  A = nx.adjacency_matrix(G)\n"
     ]
    },
    {
     "name": "stdout",
     "output_type": "stream",
     "text": [
      "test on day 2023-05-04 00:00:00\n"
     ]
    },
    {
     "name": "stderr",
     "output_type": "stream",
     "text": [
      "c:\\Users\\VictorLeCoz\\Anaconda3\\envs\\interbank_network\\lib\\site-packages\\cpnet\\qstest.py:35: FutureWarning: adjacency_matrix will return a scipy.sparse array instead of a matrix in Networkx 3.0.\n",
      "  Ar = sparse.csr_matrix(nx.adjacency_matrix(Gr))\n",
      "100%|██████████| 100/100 [00:00<00:00, 1198.65it/s]\n",
      "c:\\Users\\VictorLeCoz\\Anaconda3\\envs\\interbank_network\\lib\\site-packages\\cpnet\\utils.py:20: FutureWarning: adjacency_matrix will return a scipy.sparse array instead of a matrix in Networkx 3.0.\n",
      "  sparse.csr_matrix(nx.adjacency_matrix(net), dtype=np.float64),\n",
      "c:\\Users\\VictorLeCoz\\Anaconda3\\envs\\interbank_network\\lib\\site-packages\\cpnet\\qstest.py:96: FutureWarning: adjacency_matrix will return a scipy.sparse array instead of a matrix in Networkx 3.0.\n",
      "  A = nx.adjacency_matrix(G)\n"
     ]
    },
    {
     "name": "stdout",
     "output_type": "stream",
     "text": [
      "test on day 2024-01-12 00:00:00\n"
     ]
    },
    {
     "name": "stderr",
     "output_type": "stream",
     "text": [
      "c:\\Users\\VictorLeCoz\\Anaconda3\\envs\\interbank_network\\lib\\site-packages\\cpnet\\qstest.py:35: FutureWarning: adjacency_matrix will return a scipy.sparse array instead of a matrix in Networkx 3.0.\n",
      "  Ar = sparse.csr_matrix(nx.adjacency_matrix(Gr))\n",
      "100%|██████████| 100/100 [00:00<00:00, 1138.25it/s]\n",
      " 40%|████      | 2/5 [01:32<02:18, 46.17s/it]c:\\Users\\VictorLeCoz\\Anaconda3\\envs\\interbank_network\\lib\\site-packages\\cpnet\\utils.py:20: FutureWarning: adjacency_matrix will return a scipy.sparse array instead of a matrix in Networkx 3.0.\n",
      "  sparse.csr_matrix(nx.adjacency_matrix(net), dtype=np.float64),\n",
      "c:\\Users\\VictorLeCoz\\Anaconda3\\envs\\interbank_network\\lib\\site-packages\\cpnet\\qstest.py:96: FutureWarning: adjacency_matrix will return a scipy.sparse array instead of a matrix in Networkx 3.0.\n",
      "  A = nx.adjacency_matrix(G)\n"
     ]
    },
    {
     "name": "stdout",
     "output_type": "stream",
     "text": [
      "core-periphery tests using the KM_ER approach\n",
      "test on day 2000-05-03 00:00:00\n",
      "test on day 2007-05-29 00:00:00\n"
     ]
    },
    {
     "name": "stderr",
     "output_type": "stream",
     "text": [
      "c:\\Users\\VictorLeCoz\\Anaconda3\\envs\\interbank_network\\lib\\site-packages\\cpnet\\qstest.py:35: FutureWarning: adjacency_matrix will return a scipy.sparse array instead of a matrix in Networkx 3.0.\n",
      "  Ar = sparse.csr_matrix(nx.adjacency_matrix(Gr))\n",
      "100%|██████████| 100/100 [00:00<00:00, 475.16it/s]\n",
      "c:\\Users\\VictorLeCoz\\Anaconda3\\envs\\interbank_network\\lib\\site-packages\\cpnet\\utils.py:20: FutureWarning: adjacency_matrix will return a scipy.sparse array instead of a matrix in Networkx 3.0.\n",
      "  sparse.csr_matrix(nx.adjacency_matrix(net), dtype=np.float64),\n",
      "c:\\Users\\VictorLeCoz\\Anaconda3\\envs\\interbank_network\\lib\\site-packages\\cpnet\\qstest.py:96: FutureWarning: adjacency_matrix will return a scipy.sparse array instead of a matrix in Networkx 3.0.\n",
      "  A = nx.adjacency_matrix(G)\n"
     ]
    },
    {
     "name": "stdout",
     "output_type": "stream",
     "text": [
      "test on day 2014-06-26 00:00:00\n"
     ]
    },
    {
     "name": "stderr",
     "output_type": "stream",
     "text": [
      "c:\\Users\\VictorLeCoz\\Anaconda3\\envs\\interbank_network\\lib\\site-packages\\cpnet\\qstest.py:35: FutureWarning: adjacency_matrix will return a scipy.sparse array instead of a matrix in Networkx 3.0.\n",
      "  Ar = sparse.csr_matrix(nx.adjacency_matrix(Gr))\n",
      " 23%|██▎       | 23/100 [00:00<00:00, 501.65it/s]\n",
      "c:\\Users\\VictorLeCoz\\Anaconda3\\envs\\interbank_network\\lib\\site-packages\\cpnet\\utils.py:20: FutureWarning: adjacency_matrix will return a scipy.sparse array instead of a matrix in Networkx 3.0.\n",
      "  sparse.csr_matrix(nx.adjacency_matrix(net), dtype=np.float64),\n",
      "c:\\Users\\VictorLeCoz\\Anaconda3\\envs\\interbank_network\\lib\\site-packages\\cpnet\\qstest.py:96: FutureWarning: adjacency_matrix will return a scipy.sparse array instead of a matrix in Networkx 3.0.\n",
      "  A = nx.adjacency_matrix(G)\n"
     ]
    },
    {
     "name": "stdout",
     "output_type": "stream",
     "text": [
      "test on day 2023-05-04 00:00:00\n"
     ]
    },
    {
     "name": "stderr",
     "output_type": "stream",
     "text": [
      "c:\\Users\\VictorLeCoz\\Anaconda3\\envs\\interbank_network\\lib\\site-packages\\cpnet\\qstest.py:35: FutureWarning: adjacency_matrix will return a scipy.sparse array instead of a matrix in Networkx 3.0.\n",
      "  Ar = sparse.csr_matrix(nx.adjacency_matrix(Gr))\n",
      " 35%|███▌      | 35/100 [00:00<00:00, 448.20it/s]\n",
      "c:\\Users\\VictorLeCoz\\Anaconda3\\envs\\interbank_network\\lib\\site-packages\\cpnet\\utils.py:20: FutureWarning: adjacency_matrix will return a scipy.sparse array instead of a matrix in Networkx 3.0.\n",
      "  sparse.csr_matrix(nx.adjacency_matrix(net), dtype=np.float64),\n",
      "c:\\Users\\VictorLeCoz\\Anaconda3\\envs\\interbank_network\\lib\\site-packages\\cpnet\\qstest.py:96: FutureWarning: adjacency_matrix will return a scipy.sparse array instead of a matrix in Networkx 3.0.\n",
      "  A = nx.adjacency_matrix(G)\n"
     ]
    },
    {
     "name": "stdout",
     "output_type": "stream",
     "text": [
      "test on day 2024-01-12 00:00:00\n"
     ]
    },
    {
     "name": "stderr",
     "output_type": "stream",
     "text": [
      "c:\\Users\\VictorLeCoz\\Anaconda3\\envs\\interbank_network\\lib\\site-packages\\cpnet\\qstest.py:35: FutureWarning: adjacency_matrix will return a scipy.sparse array instead of a matrix in Networkx 3.0.\n",
      "  Ar = sparse.csr_matrix(nx.adjacency_matrix(Gr))\n",
      "100%|██████████| 100/100 [00:00<00:00, 503.97it/s]\n",
      "c:\\Users\\VictorLeCoz\\Anaconda3\\envs\\interbank_network\\lib\\site-packages\\cpnet\\utils.py:20: FutureWarning: adjacency_matrix will return a scipy.sparse array instead of a matrix in Networkx 3.0.\n",
      "  sparse.csr_matrix(nx.adjacency_matrix(net), dtype=np.float64),\n",
      "c:\\Users\\VictorLeCoz\\Anaconda3\\envs\\interbank_network\\lib\\site-packages\\cpnet\\qstest.py:96: FutureWarning: adjacency_matrix will return a scipy.sparse array instead of a matrix in Networkx 3.0.\n",
      "  A = nx.adjacency_matrix(G)\n"
     ]
    },
    {
     "name": "stdout",
     "output_type": "stream",
     "text": [
      "core-periphery tests using the KM_config approach\n",
      "test on day 2000-05-03 00:00:00\n",
      "test on day 2007-05-29 00:00:00\n"
     ]
    },
    {
     "name": "stderr",
     "output_type": "stream",
     "text": [
      "c:\\Users\\VictorLeCoz\\Anaconda3\\envs\\interbank_network\\lib\\site-packages\\cpnet\\qstest.py:35: FutureWarning: adjacency_matrix will return a scipy.sparse array instead of a matrix in Networkx 3.0.\n",
      "  Ar = sparse.csr_matrix(nx.adjacency_matrix(Gr))\n",
      "100%|██████████| 100/100 [00:00<00:00, 304.72it/s]\n",
      "c:\\Users\\VictorLeCoz\\Anaconda3\\envs\\interbank_network\\lib\\site-packages\\cpnet\\utils.py:20: FutureWarning: adjacency_matrix will return a scipy.sparse array instead of a matrix in Networkx 3.0.\n",
      "  sparse.csr_matrix(nx.adjacency_matrix(net), dtype=np.float64),\n",
      "c:\\Users\\VictorLeCoz\\Anaconda3\\envs\\interbank_network\\lib\\site-packages\\cpnet\\qstest.py:96: FutureWarning: adjacency_matrix will return a scipy.sparse array instead of a matrix in Networkx 3.0.\n",
      "  A = nx.adjacency_matrix(G)\n"
     ]
    },
    {
     "name": "stdout",
     "output_type": "stream",
     "text": [
      "test on day 2014-06-26 00:00:00\n"
     ]
    },
    {
     "name": "stderr",
     "output_type": "stream",
     "text": [
      "c:\\Users\\VictorLeCoz\\Anaconda3\\envs\\interbank_network\\lib\\site-packages\\cpnet\\qstest.py:35: FutureWarning: adjacency_matrix will return a scipy.sparse array instead of a matrix in Networkx 3.0.\n",
      "  Ar = sparse.csr_matrix(nx.adjacency_matrix(Gr))\n",
      " 21%|██        | 21/100 [00:00<00:00, 485.47it/s]\n",
      "c:\\Users\\VictorLeCoz\\Anaconda3\\envs\\interbank_network\\lib\\site-packages\\cpnet\\utils.py:20: FutureWarning: adjacency_matrix will return a scipy.sparse array instead of a matrix in Networkx 3.0.\n",
      "  sparse.csr_matrix(nx.adjacency_matrix(net), dtype=np.float64),\n",
      "c:\\Users\\VictorLeCoz\\Anaconda3\\envs\\interbank_network\\lib\\site-packages\\cpnet\\qstest.py:96: FutureWarning: adjacency_matrix will return a scipy.sparse array instead of a matrix in Networkx 3.0.\n",
      "  A = nx.adjacency_matrix(G)\n"
     ]
    },
    {
     "name": "stdout",
     "output_type": "stream",
     "text": [
      "test on day 2023-05-04 00:00:00\n"
     ]
    },
    {
     "name": "stderr",
     "output_type": "stream",
     "text": [
      "c:\\Users\\VictorLeCoz\\Anaconda3\\envs\\interbank_network\\lib\\site-packages\\cpnet\\qstest.py:35: FutureWarning: adjacency_matrix will return a scipy.sparse array instead of a matrix in Networkx 3.0.\n",
      "  Ar = sparse.csr_matrix(nx.adjacency_matrix(Gr))\n",
      " 22%|██▏       | 22/100 [00:00<00:00, 493.55it/s]\n",
      "c:\\Users\\VictorLeCoz\\Anaconda3\\envs\\interbank_network\\lib\\site-packages\\cpnet\\utils.py:20: FutureWarning: adjacency_matrix will return a scipy.sparse array instead of a matrix in Networkx 3.0.\n",
      "  sparse.csr_matrix(nx.adjacency_matrix(net), dtype=np.float64),\n",
      "c:\\Users\\VictorLeCoz\\Anaconda3\\envs\\interbank_network\\lib\\site-packages\\cpnet\\qstest.py:96: FutureWarning: adjacency_matrix will return a scipy.sparse array instead of a matrix in Networkx 3.0.\n",
      "  A = nx.adjacency_matrix(G)\n"
     ]
    },
    {
     "name": "stdout",
     "output_type": "stream",
     "text": [
      "test on day 2024-01-12 00:00:00\n"
     ]
    },
    {
     "name": "stderr",
     "output_type": "stream",
     "text": [
      "c:\\Users\\VictorLeCoz\\Anaconda3\\envs\\interbank_network\\lib\\site-packages\\cpnet\\qstest.py:35: FutureWarning: adjacency_matrix will return a scipy.sparse array instead of a matrix in Networkx 3.0.\n",
      "  Ar = sparse.csr_matrix(nx.adjacency_matrix(Gr))\n",
      "100%|██████████| 100/100 [00:00<00:00, 304.15it/s]\n",
      "c:\\Users\\VictorLeCoz\\Anaconda3\\envs\\interbank_network\\lib\\site-packages\\cpnet\\utils.py:20: FutureWarning: adjacency_matrix will return a scipy.sparse array instead of a matrix in Networkx 3.0.\n",
      "  sparse.csr_matrix(nx.adjacency_matrix(net), dtype=np.float64),\n",
      "c:\\Users\\VictorLeCoz\\Anaconda3\\envs\\interbank_network\\lib\\site-packages\\cpnet\\qstest.py:96: FutureWarning: adjacency_matrix will return a scipy.sparse array instead of a matrix in Networkx 3.0.\n",
      "  A = nx.adjacency_matrix(G)\n"
     ]
    },
    {
     "name": "stdout",
     "output_type": "stream",
     "text": [
      "core-periphery tests using the Rombach approach\n",
      "test on day 2000-05-03 00:00:00\n"
     ]
    },
    {
     "name": "stderr",
     "output_type": "stream",
     "text": [
      "c:\\Users\\VictorLeCoz\\Anaconda3\\envs\\interbank_network\\lib\\site-packages\\cpnet\\qstest.py:35: FutureWarning: adjacency_matrix will return a scipy.sparse array instead of a matrix in Networkx 3.0.\n",
      "  Ar = sparse.csr_matrix(nx.adjacency_matrix(Gr))\n",
      "100%|██████████| 100/100 [00:01<00:00, 56.62it/s]\n"
     ]
    },
    {
     "name": "stdout",
     "output_type": "stream",
     "text": [
      "test on day 2007-05-29 00:00:00\n"
     ]
    },
    {
     "name": "stderr",
     "output_type": "stream",
     "text": [
      "100%|██████████| 100/100 [00:00<00:00, 884.56it/s]\n",
      "c:\\Users\\VictorLeCoz\\Anaconda3\\envs\\interbank_network\\lib\\site-packages\\cpnet\\utils.py:20: FutureWarning: adjacency_matrix will return a scipy.sparse array instead of a matrix in Networkx 3.0.\n",
      "  sparse.csr_matrix(nx.adjacency_matrix(net), dtype=np.float64),\n",
      "c:\\Users\\VictorLeCoz\\Anaconda3\\envs\\interbank_network\\lib\\site-packages\\cpnet\\qstest.py:96: FutureWarning: adjacency_matrix will return a scipy.sparse array instead of a matrix in Networkx 3.0.\n",
      "  A = nx.adjacency_matrix(G)\n"
     ]
    },
    {
     "name": "stdout",
     "output_type": "stream",
     "text": [
      "test on day 2014-06-26 00:00:00\n"
     ]
    },
    {
     "name": "stderr",
     "output_type": "stream",
     "text": [
      "c:\\Users\\VictorLeCoz\\Anaconda3\\envs\\interbank_network\\lib\\site-packages\\cpnet\\qstest.py:35: FutureWarning: adjacency_matrix will return a scipy.sparse array instead of a matrix in Networkx 3.0.\n",
      "  Ar = sparse.csr_matrix(nx.adjacency_matrix(Gr))\n",
      "100%|██████████| 100/100 [00:00<00:00, 763.38it/s]\n",
      "c:\\Users\\VictorLeCoz\\Anaconda3\\envs\\interbank_network\\lib\\site-packages\\cpnet\\utils.py:20: FutureWarning: adjacency_matrix will return a scipy.sparse array instead of a matrix in Networkx 3.0.\n",
      "  sparse.csr_matrix(nx.adjacency_matrix(net), dtype=np.float64),\n",
      "c:\\Users\\VictorLeCoz\\Anaconda3\\envs\\interbank_network\\lib\\site-packages\\cpnet\\qstest.py:96: FutureWarning: adjacency_matrix will return a scipy.sparse array instead of a matrix in Networkx 3.0.\n",
      "  A = nx.adjacency_matrix(G)\n"
     ]
    },
    {
     "name": "stdout",
     "output_type": "stream",
     "text": [
      "test on day 2023-05-04 00:00:00\n"
     ]
    },
    {
     "name": "stderr",
     "output_type": "stream",
     "text": [
      "c:\\Users\\VictorLeCoz\\Anaconda3\\envs\\interbank_network\\lib\\site-packages\\cpnet\\qstest.py:35: FutureWarning: adjacency_matrix will return a scipy.sparse array instead of a matrix in Networkx 3.0.\n",
      "  Ar = sparse.csr_matrix(nx.adjacency_matrix(Gr))\n",
      "100%|██████████| 100/100 [00:00<00:00, 902.59it/s]\n",
      "c:\\Users\\VictorLeCoz\\Anaconda3\\envs\\interbank_network\\lib\\site-packages\\cpnet\\utils.py:20: FutureWarning: adjacency_matrix will return a scipy.sparse array instead of a matrix in Networkx 3.0.\n",
      "  sparse.csr_matrix(nx.adjacency_matrix(net), dtype=np.float64),\n",
      "c:\\Users\\VictorLeCoz\\Anaconda3\\envs\\interbank_network\\lib\\site-packages\\cpnet\\qstest.py:96: FutureWarning: adjacency_matrix will return a scipy.sparse array instead of a matrix in Networkx 3.0.\n",
      "  A = nx.adjacency_matrix(G)\n"
     ]
    },
    {
     "name": "stdout",
     "output_type": "stream",
     "text": [
      "test on day 2024-01-12 00:00:00\n"
     ]
    },
    {
     "name": "stderr",
     "output_type": "stream",
     "text": [
      "c:\\Users\\VictorLeCoz\\Anaconda3\\envs\\interbank_network\\lib\\site-packages\\cpnet\\qstest.py:35: FutureWarning: adjacency_matrix will return a scipy.sparse array instead of a matrix in Networkx 3.0.\n",
      "  Ar = sparse.csr_matrix(nx.adjacency_matrix(Gr))\n",
      "100%|██████████| 100/100 [00:00<00:00, 793.03it/s]\n",
      "c:\\Users\\VictorLeCoz\\Anaconda3\\envs\\interbank_network\\lib\\site-packages\\cpnet\\utils.py:20: FutureWarning: adjacency_matrix will return a scipy.sparse array instead of a matrix in Networkx 3.0.\n",
      "  sparse.csr_matrix(nx.adjacency_matrix(net), dtype=np.float64),\n",
      "c:\\Users\\VictorLeCoz\\Anaconda3\\envs\\interbank_network\\lib\\site-packages\\cpnet\\qstest.py:96: FutureWarning: adjacency_matrix will return a scipy.sparse array instead of a matrix in Networkx 3.0.\n",
      "  A = nx.adjacency_matrix(G)\n"
     ]
    },
    {
     "name": "stdout",
     "output_type": "stream",
     "text": [
      "core-periphery tests using the Rossa approach\n",
      "test on day 2000-05-03 00:00:00\n"
     ]
    },
    {
     "name": "stderr",
     "output_type": "stream",
     "text": [
      "c:\\Users\\VictorLeCoz\\Anaconda3\\envs\\interbank_network\\lib\\site-packages\\cpnet\\qstest.py:35: FutureWarning: adjacency_matrix will return a scipy.sparse array instead of a matrix in Networkx 3.0.\n",
      "  Ar = sparse.csr_matrix(nx.adjacency_matrix(Gr))\n",
      "100%|██████████| 100/100 [00:00<00:00, 332.80it/s]\n"
     ]
    },
    {
     "name": "stdout",
     "output_type": "stream",
     "text": [
      "test on day 2007-05-29 00:00:00\n"
     ]
    },
    {
     "name": "stderr",
     "output_type": "stream",
     "text": [
      "100%|██████████| 100/100 [00:00<00:00, 359.82it/s]\n",
      "c:\\Users\\VictorLeCoz\\Anaconda3\\envs\\interbank_network\\lib\\site-packages\\cpnet\\utils.py:20: FutureWarning: adjacency_matrix will return a scipy.sparse array instead of a matrix in Networkx 3.0.\n",
      "  sparse.csr_matrix(nx.adjacency_matrix(net), dtype=np.float64),\n",
      "c:\\Users\\VictorLeCoz\\Anaconda3\\envs\\interbank_network\\lib\\site-packages\\cpnet\\qstest.py:96: FutureWarning: adjacency_matrix will return a scipy.sparse array instead of a matrix in Networkx 3.0.\n",
      "  A = nx.adjacency_matrix(G)\n"
     ]
    },
    {
     "name": "stdout",
     "output_type": "stream",
     "text": [
      "test on day 2014-06-26 00:00:00\n"
     ]
    },
    {
     "name": "stderr",
     "output_type": "stream",
     "text": [
      "c:\\Users\\VictorLeCoz\\Anaconda3\\envs\\interbank_network\\lib\\site-packages\\cpnet\\qstest.py:35: FutureWarning: adjacency_matrix will return a scipy.sparse array instead of a matrix in Networkx 3.0.\n",
      "  Ar = sparse.csr_matrix(nx.adjacency_matrix(Gr))\n",
      "100%|██████████| 100/100 [00:00<00:00, 340.02it/s]\n",
      "c:\\Users\\VictorLeCoz\\Anaconda3\\envs\\interbank_network\\lib\\site-packages\\cpnet\\utils.py:20: FutureWarning: adjacency_matrix will return a scipy.sparse array instead of a matrix in Networkx 3.0.\n",
      "  sparse.csr_matrix(nx.adjacency_matrix(net), dtype=np.float64),\n",
      "c:\\Users\\VictorLeCoz\\Anaconda3\\envs\\interbank_network\\lib\\site-packages\\cpnet\\qstest.py:96: FutureWarning: adjacency_matrix will return a scipy.sparse array instead of a matrix in Networkx 3.0.\n",
      "  A = nx.adjacency_matrix(G)\n"
     ]
    },
    {
     "name": "stdout",
     "output_type": "stream",
     "text": [
      "test on day 2023-05-04 00:00:00\n"
     ]
    },
    {
     "name": "stderr",
     "output_type": "stream",
     "text": [
      "c:\\Users\\VictorLeCoz\\Anaconda3\\envs\\interbank_network\\lib\\site-packages\\cpnet\\qstest.py:35: FutureWarning: adjacency_matrix will return a scipy.sparse array instead of a matrix in Networkx 3.0.\n",
      "  Ar = sparse.csr_matrix(nx.adjacency_matrix(Gr))\n",
      "100%|██████████| 100/100 [00:00<00:00, 394.03it/s]\n",
      "c:\\Users\\VictorLeCoz\\Anaconda3\\envs\\interbank_network\\lib\\site-packages\\cpnet\\utils.py:20: FutureWarning: adjacency_matrix will return a scipy.sparse array instead of a matrix in Networkx 3.0.\n",
      "  sparse.csr_matrix(nx.adjacency_matrix(net), dtype=np.float64),\n",
      "c:\\Users\\VictorLeCoz\\Anaconda3\\envs\\interbank_network\\lib\\site-packages\\cpnet\\qstest.py:96: FutureWarning: adjacency_matrix will return a scipy.sparse array instead of a matrix in Networkx 3.0.\n",
      "  A = nx.adjacency_matrix(G)\n"
     ]
    },
    {
     "name": "stdout",
     "output_type": "stream",
     "text": [
      "test on day 2024-01-12 00:00:00\n"
     ]
    },
    {
     "name": "stderr",
     "output_type": "stream",
     "text": [
      "c:\\Users\\VictorLeCoz\\Anaconda3\\envs\\interbank_network\\lib\\site-packages\\cpnet\\qstest.py:35: FutureWarning: adjacency_matrix will return a scipy.sparse array instead of a matrix in Networkx 3.0.\n",
      "  Ar = sparse.csr_matrix(nx.adjacency_matrix(Gr))\n",
      "100%|██████████| 100/100 [00:00<00:00, 427.34it/s]\n",
      "c:\\Users\\VictorLeCoz\\Anaconda3\\envs\\interbank_network\\lib\\site-packages\\cpnet\\utils.py:20: FutureWarning: adjacency_matrix will return a scipy.sparse array instead of a matrix in Networkx 3.0.\n",
      "  sparse.csr_matrix(nx.adjacency_matrix(net), dtype=np.float64),\n",
      "c:\\Users\\VictorLeCoz\\Anaconda3\\envs\\interbank_network\\lib\\site-packages\\cpnet\\qstest.py:96: FutureWarning: adjacency_matrix will return a scipy.sparse array instead of a matrix in Networkx 3.0.\n",
      "  A = nx.adjacency_matrix(G)\n"
     ]
    },
    {
     "name": "stdout",
     "output_type": "stream",
     "text": [
      "core-periphery tests using the LapCore approach\n",
      "test on day 2000-05-03 00:00:00\n"
     ]
    },
    {
     "name": "stderr",
     "output_type": "stream",
     "text": [
      "c:\\Users\\VictorLeCoz\\Anaconda3\\envs\\interbank_network\\lib\\site-packages\\cpnet\\qstest.py:35: FutureWarning: adjacency_matrix will return a scipy.sparse array instead of a matrix in Networkx 3.0.\n",
      "  Ar = sparse.csr_matrix(nx.adjacency_matrix(Gr))\n",
      "100%|██████████| 100/100 [00:00<00:00, 278.24it/s]\n"
     ]
    },
    {
     "name": "stdout",
     "output_type": "stream",
     "text": [
      "test on day 2007-05-29 00:00:00\n"
     ]
    },
    {
     "name": "stderr",
     "output_type": "stream",
     "text": [
      "100%|██████████| 100/100 [00:00<00:00, 321.63it/s]\n",
      "c:\\Users\\VictorLeCoz\\Anaconda3\\envs\\interbank_network\\lib\\site-packages\\cpnet\\utils.py:20: FutureWarning: adjacency_matrix will return a scipy.sparse array instead of a matrix in Networkx 3.0.\n",
      "  sparse.csr_matrix(nx.adjacency_matrix(net), dtype=np.float64),\n",
      "c:\\Users\\VictorLeCoz\\Anaconda3\\envs\\interbank_network\\lib\\site-packages\\cpnet\\qstest.py:96: FutureWarning: adjacency_matrix will return a scipy.sparse array instead of a matrix in Networkx 3.0.\n",
      "  A = nx.adjacency_matrix(G)\n"
     ]
    },
    {
     "name": "stdout",
     "output_type": "stream",
     "text": [
      "test on day 2014-06-26 00:00:00\n"
     ]
    },
    {
     "name": "stderr",
     "output_type": "stream",
     "text": [
      "c:\\Users\\VictorLeCoz\\Anaconda3\\envs\\interbank_network\\lib\\site-packages\\cpnet\\qstest.py:35: FutureWarning: adjacency_matrix will return a scipy.sparse array instead of a matrix in Networkx 3.0.\n",
      "  Ar = sparse.csr_matrix(nx.adjacency_matrix(Gr))\n",
      "100%|██████████| 100/100 [00:00<00:00, 319.16it/s]\n",
      "c:\\Users\\VictorLeCoz\\Anaconda3\\envs\\interbank_network\\lib\\site-packages\\cpnet\\utils.py:20: FutureWarning: adjacency_matrix will return a scipy.sparse array instead of a matrix in Networkx 3.0.\n",
      "  sparse.csr_matrix(nx.adjacency_matrix(net), dtype=np.float64),\n",
      "c:\\Users\\VictorLeCoz\\Anaconda3\\envs\\interbank_network\\lib\\site-packages\\cpnet\\qstest.py:96: FutureWarning: adjacency_matrix will return a scipy.sparse array instead of a matrix in Networkx 3.0.\n",
      "  A = nx.adjacency_matrix(G)\n"
     ]
    },
    {
     "name": "stdout",
     "output_type": "stream",
     "text": [
      "test on day 2023-05-04 00:00:00\n"
     ]
    },
    {
     "name": "stderr",
     "output_type": "stream",
     "text": [
      "c:\\Users\\VictorLeCoz\\Anaconda3\\envs\\interbank_network\\lib\\site-packages\\cpnet\\qstest.py:35: FutureWarning: adjacency_matrix will return a scipy.sparse array instead of a matrix in Networkx 3.0.\n",
      "  Ar = sparse.csr_matrix(nx.adjacency_matrix(Gr))\n",
      "100%|██████████| 100/100 [00:00<00:00, 278.57it/s]\n",
      "c:\\Users\\VictorLeCoz\\Anaconda3\\envs\\interbank_network\\lib\\site-packages\\cpnet\\utils.py:20: FutureWarning: adjacency_matrix will return a scipy.sparse array instead of a matrix in Networkx 3.0.\n",
      "  sparse.csr_matrix(nx.adjacency_matrix(net), dtype=np.float64),\n",
      "c:\\Users\\VictorLeCoz\\Anaconda3\\envs\\interbank_network\\lib\\site-packages\\cpnet\\qstest.py:96: FutureWarning: adjacency_matrix will return a scipy.sparse array instead of a matrix in Networkx 3.0.\n",
      "  A = nx.adjacency_matrix(G)\n"
     ]
    },
    {
     "name": "stdout",
     "output_type": "stream",
     "text": [
      "test on day 2024-01-12 00:00:00\n"
     ]
    },
    {
     "name": "stderr",
     "output_type": "stream",
     "text": [
      "c:\\Users\\VictorLeCoz\\Anaconda3\\envs\\interbank_network\\lib\\site-packages\\cpnet\\qstest.py:35: FutureWarning: adjacency_matrix will return a scipy.sparse array instead of a matrix in Networkx 3.0.\n",
      "  Ar = sparse.csr_matrix(nx.adjacency_matrix(Gr))\n",
      "100%|██████████| 100/100 [00:00<00:00, 309.26it/s]\n",
      "c:\\Users\\VictorLeCoz\\Anaconda3\\envs\\interbank_network\\lib\\site-packages\\cpnet\\utils.py:20: FutureWarning: adjacency_matrix will return a scipy.sparse array instead of a matrix in Networkx 3.0.\n",
      "  sparse.csr_matrix(nx.adjacency_matrix(net), dtype=np.float64),\n",
      "c:\\Users\\VictorLeCoz\\Anaconda3\\envs\\interbank_network\\lib\\site-packages\\cpnet\\qstest.py:96: FutureWarning: adjacency_matrix will return a scipy.sparse array instead of a matrix in Networkx 3.0.\n",
      "  A = nx.adjacency_matrix(G)\n"
     ]
    },
    {
     "name": "stdout",
     "output_type": "stream",
     "text": [
      "core-periphery tests using the LapSgnCore approach\n",
      "test on day 2000-05-03 00:00:00\n"
     ]
    },
    {
     "name": "stderr",
     "output_type": "stream",
     "text": [
      "c:\\Users\\VictorLeCoz\\Anaconda3\\envs\\interbank_network\\lib\\site-packages\\cpnet\\qstest.py:35: FutureWarning: adjacency_matrix will return a scipy.sparse array instead of a matrix in Networkx 3.0.\n",
      "  Ar = sparse.csr_matrix(nx.adjacency_matrix(Gr))\n",
      "100%|██████████| 100/100 [00:00<00:00, 629.41it/s]\n"
     ]
    },
    {
     "name": "stdout",
     "output_type": "stream",
     "text": [
      "test on day 2007-05-29 00:00:00\n"
     ]
    },
    {
     "name": "stderr",
     "output_type": "stream",
     "text": [
      "100%|██████████| 100/100 [00:00<00:00, 595.03it/s]\n",
      "c:\\Users\\VictorLeCoz\\Anaconda3\\envs\\interbank_network\\lib\\site-packages\\cpnet\\utils.py:20: FutureWarning: adjacency_matrix will return a scipy.sparse array instead of a matrix in Networkx 3.0.\n",
      "  sparse.csr_matrix(nx.adjacency_matrix(net), dtype=np.float64),\n",
      "c:\\Users\\VictorLeCoz\\Anaconda3\\envs\\interbank_network\\lib\\site-packages\\cpnet\\qstest.py:96: FutureWarning: adjacency_matrix will return a scipy.sparse array instead of a matrix in Networkx 3.0.\n",
      "  A = nx.adjacency_matrix(G)\n"
     ]
    },
    {
     "name": "stdout",
     "output_type": "stream",
     "text": [
      "test on day 2014-06-26 00:00:00\n"
     ]
    },
    {
     "name": "stderr",
     "output_type": "stream",
     "text": [
      "c:\\Users\\VictorLeCoz\\Anaconda3\\envs\\interbank_network\\lib\\site-packages\\cpnet\\qstest.py:35: FutureWarning: adjacency_matrix will return a scipy.sparse array instead of a matrix in Networkx 3.0.\n",
      "  Ar = sparse.csr_matrix(nx.adjacency_matrix(Gr))\n",
      "100%|██████████| 100/100 [00:00<00:00, 598.63it/s]\n",
      "c:\\Users\\VictorLeCoz\\Anaconda3\\envs\\interbank_network\\lib\\site-packages\\cpnet\\utils.py:20: FutureWarning: adjacency_matrix will return a scipy.sparse array instead of a matrix in Networkx 3.0.\n",
      "  sparse.csr_matrix(nx.adjacency_matrix(net), dtype=np.float64),\n",
      "c:\\Users\\VictorLeCoz\\Anaconda3\\envs\\interbank_network\\lib\\site-packages\\cpnet\\qstest.py:96: FutureWarning: adjacency_matrix will return a scipy.sparse array instead of a matrix in Networkx 3.0.\n",
      "  A = nx.adjacency_matrix(G)\n"
     ]
    },
    {
     "name": "stdout",
     "output_type": "stream",
     "text": [
      "test on day 2023-05-04 00:00:00\n"
     ]
    },
    {
     "name": "stderr",
     "output_type": "stream",
     "text": [
      "c:\\Users\\VictorLeCoz\\Anaconda3\\envs\\interbank_network\\lib\\site-packages\\cpnet\\qstest.py:35: FutureWarning: adjacency_matrix will return a scipy.sparse array instead of a matrix in Networkx 3.0.\n",
      "  Ar = sparse.csr_matrix(nx.adjacency_matrix(Gr))\n",
      "100%|██████████| 100/100 [00:00<00:00, 578.47it/s]\n"
     ]
    },
    {
     "name": "stdout",
     "output_type": "stream",
     "text": [
      "test on day 2024-01-12 00:00:00"
     ]
    },
    {
     "name": "stderr",
     "output_type": "stream",
     "text": [
      "c:\\Users\\VictorLeCoz\\Anaconda3\\envs\\interbank_network\\lib\\site-packages\\cpnet\\utils.py:20: FutureWarning: adjacency_matrix will return a scipy.sparse array instead of a matrix in Networkx 3.0.\n",
      "  sparse.csr_matrix(nx.adjacency_matrix(net), dtype=np.float64),\n",
      "c:\\Users\\VictorLeCoz\\Anaconda3\\envs\\interbank_network\\lib\\site-packages\\cpnet\\qstest.py:96: FutureWarning: adjacency_matrix will return a scipy.sparse array instead of a matrix in Networkx 3.0.\n",
      "  A = nx.adjacency_matrix(G)\n"
     ]
    },
    {
     "name": "stdout",
     "output_type": "stream",
     "text": [
      "\n"
     ]
    },
    {
     "name": "stderr",
     "output_type": "stream",
     "text": [
      "c:\\Users\\VictorLeCoz\\Anaconda3\\envs\\interbank_network\\lib\\site-packages\\cpnet\\qstest.py:35: FutureWarning: adjacency_matrix will return a scipy.sparse array instead of a matrix in Networkx 3.0.\n",
      "  Ar = sparse.csr_matrix(nx.adjacency_matrix(Gr))\n",
      "100%|██████████| 100/100 [00:00<00:00, 567.26it/s]\n",
      "c:\\Users\\VictorLeCoz\\Anaconda3\\envs\\interbank_network\\lib\\site-packages\\cpnet\\utils.py:20: FutureWarning: adjacency_matrix will return a scipy.sparse array instead of a matrix in Networkx 3.0.\n",
      "  sparse.csr_matrix(nx.adjacency_matrix(net), dtype=np.float64),\n",
      "c:\\Users\\VictorLeCoz\\Anaconda3\\envs\\interbank_network\\lib\\site-packages\\cpnet\\qstest.py:96: FutureWarning: adjacency_matrix will return a scipy.sparse array instead of a matrix in Networkx 3.0.\n",
      "  A = nx.adjacency_matrix(G)\n"
     ]
    },
    {
     "name": "stdout",
     "output_type": "stream",
     "text": [
      "core-periphery tests using the LowRankCore approach\n",
      "test on day 2000-05-03 00:00:00\n"
     ]
    },
    {
     "name": "stderr",
     "output_type": "stream",
     "text": [
      "c:\\Users\\VictorLeCoz\\Anaconda3\\envs\\interbank_network\\lib\\site-packages\\cpnet\\qstest.py:35: FutureWarning: adjacency_matrix will return a scipy.sparse array instead of a matrix in Networkx 3.0.\n",
      "  Ar = sparse.csr_matrix(nx.adjacency_matrix(Gr))\n",
      "100%|██████████| 100/100 [00:00<00:00, 390.10it/s]\n"
     ]
    },
    {
     "name": "stdout",
     "output_type": "stream",
     "text": [
      "test on day 2007-05-29 00:00:00\n"
     ]
    },
    {
     "name": "stderr",
     "output_type": "stream",
     "text": [
      "100%|██████████| 100/100 [00:00<00:00, 366.27it/s]\n",
      "c:\\Users\\VictorLeCoz\\Anaconda3\\envs\\interbank_network\\lib\\site-packages\\cpnet\\utils.py:20: FutureWarning: adjacency_matrix will return a scipy.sparse array instead of a matrix in Networkx 3.0.\n",
      "  sparse.csr_matrix(nx.adjacency_matrix(net), dtype=np.float64),\n",
      "c:\\Users\\VictorLeCoz\\Anaconda3\\envs\\interbank_network\\lib\\site-packages\\cpnet\\qstest.py:96: FutureWarning: adjacency_matrix will return a scipy.sparse array instead of a matrix in Networkx 3.0.\n",
      "  A = nx.adjacency_matrix(G)\n"
     ]
    },
    {
     "name": "stdout",
     "output_type": "stream",
     "text": [
      "test on day 2014-06-26 00:00:00\n"
     ]
    },
    {
     "name": "stderr",
     "output_type": "stream",
     "text": [
      "c:\\Users\\VictorLeCoz\\Anaconda3\\envs\\interbank_network\\lib\\site-packages\\cpnet\\qstest.py:35: FutureWarning: adjacency_matrix will return a scipy.sparse array instead of a matrix in Networkx 3.0.\n",
      "  Ar = sparse.csr_matrix(nx.adjacency_matrix(Gr))\n",
      "100%|██████████| 100/100 [00:00<00:00, 361.96it/s]\n",
      "c:\\Users\\VictorLeCoz\\Anaconda3\\envs\\interbank_network\\lib\\site-packages\\cpnet\\utils.py:20: FutureWarning: adjacency_matrix will return a scipy.sparse array instead of a matrix in Networkx 3.0.\n",
      "  sparse.csr_matrix(nx.adjacency_matrix(net), dtype=np.float64),\n",
      "c:\\Users\\VictorLeCoz\\Anaconda3\\envs\\interbank_network\\lib\\site-packages\\cpnet\\qstest.py:96: FutureWarning: adjacency_matrix will return a scipy.sparse array instead of a matrix in Networkx 3.0.\n",
      "  A = nx.adjacency_matrix(G)\n"
     ]
    },
    {
     "name": "stdout",
     "output_type": "stream",
     "text": [
      "test on day 2023-05-04 00:00:00\n"
     ]
    },
    {
     "name": "stderr",
     "output_type": "stream",
     "text": [
      "c:\\Users\\VictorLeCoz\\Anaconda3\\envs\\interbank_network\\lib\\site-packages\\cpnet\\qstest.py:35: FutureWarning: adjacency_matrix will return a scipy.sparse array instead of a matrix in Networkx 3.0.\n",
      "  Ar = sparse.csr_matrix(nx.adjacency_matrix(Gr))\n",
      "100%|██████████| 100/100 [00:00<00:00, 371.21it/s]\n",
      "c:\\Users\\VictorLeCoz\\Anaconda3\\envs\\interbank_network\\lib\\site-packages\\cpnet\\utils.py:20: FutureWarning: adjacency_matrix will return a scipy.sparse array instead of a matrix in Networkx 3.0.\n",
      "  sparse.csr_matrix(nx.adjacency_matrix(net), dtype=np.float64),\n",
      "c:\\Users\\VictorLeCoz\\Anaconda3\\envs\\interbank_network\\lib\\site-packages\\cpnet\\qstest.py:96: FutureWarning: adjacency_matrix will return a scipy.sparse array instead of a matrix in Networkx 3.0.\n",
      "  A = nx.adjacency_matrix(G)\n"
     ]
    },
    {
     "name": "stdout",
     "output_type": "stream",
     "text": [
      "test on day 2024-01-12 00:00:00\n"
     ]
    },
    {
     "name": "stderr",
     "output_type": "stream",
     "text": [
      "c:\\Users\\VictorLeCoz\\Anaconda3\\envs\\interbank_network\\lib\\site-packages\\cpnet\\qstest.py:35: FutureWarning: adjacency_matrix will return a scipy.sparse array instead of a matrix in Networkx 3.0.\n",
      "  Ar = sparse.csr_matrix(nx.adjacency_matrix(Gr))\n",
      "100%|██████████| 100/100 [00:00<00:00, 308.83it/s]\n",
      "c:\\Users\\VictorLeCoz\\Anaconda3\\envs\\interbank_network\\lib\\site-packages\\cpnet\\utils.py:20: FutureWarning: adjacency_matrix will return a scipy.sparse array instead of a matrix in Networkx 3.0.\n",
      "  sparse.csr_matrix(nx.adjacency_matrix(net), dtype=np.float64),\n",
      "c:\\Users\\VictorLeCoz\\Anaconda3\\envs\\interbank_network\\lib\\site-packages\\cpnet\\qstest.py:96: FutureWarning: adjacency_matrix will return a scipy.sparse array instead of a matrix in Networkx 3.0.\n",
      "  A = nx.adjacency_matrix(G)\n"
     ]
    },
    {
     "name": "stdout",
     "output_type": "stream",
     "text": [
      "core-periphery tests using the MINRES approach\n",
      "test on day 2000-05-03 00:00:00\n"
     ]
    },
    {
     "name": "stderr",
     "output_type": "stream",
     "text": [
      "c:\\Users\\VictorLeCoz\\Anaconda3\\envs\\interbank_network\\lib\\site-packages\\cpnet\\qstest.py:35: FutureWarning: adjacency_matrix will return a scipy.sparse array instead of a matrix in Networkx 3.0.\n",
      "  Ar = sparse.csr_matrix(nx.adjacency_matrix(Gr))\n",
      "100%|██████████| 100/100 [00:01<00:00, 52.37it/s]\n"
     ]
    },
    {
     "name": "stdout",
     "output_type": "stream",
     "text": [
      "test on day 2007-05-29 00:00:00\n"
     ]
    },
    {
     "name": "stderr",
     "output_type": "stream",
     "text": [
      "100%|██████████| 100/100 [00:02<00:00, 34.64it/s]\n",
      "c:\\Users\\VictorLeCoz\\Anaconda3\\envs\\interbank_network\\lib\\site-packages\\cpnet\\utils.py:20: FutureWarning: adjacency_matrix will return a scipy.sparse array instead of a matrix in Networkx 3.0.\n",
      "  sparse.csr_matrix(nx.adjacency_matrix(net), dtype=np.float64),\n",
      "c:\\Users\\VictorLeCoz\\Anaconda3\\envs\\interbank_network\\lib\\site-packages\\cpnet\\qstest.py:96: FutureWarning: adjacency_matrix will return a scipy.sparse array instead of a matrix in Networkx 3.0.\n",
      "  A = nx.adjacency_matrix(G)\n"
     ]
    },
    {
     "name": "stdout",
     "output_type": "stream",
     "text": [
      "test on day 2014-06-26 00:00:00\n"
     ]
    },
    {
     "name": "stderr",
     "output_type": "stream",
     "text": [
      "c:\\Users\\VictorLeCoz\\Anaconda3\\envs\\interbank_network\\lib\\site-packages\\cpnet\\qstest.py:35: FutureWarning: adjacency_matrix will return a scipy.sparse array instead of a matrix in Networkx 3.0.\n",
      "  Ar = sparse.csr_matrix(nx.adjacency_matrix(Gr))\n",
      "100%|██████████| 100/100 [00:02<00:00, 35.93it/s]\n",
      "c:\\Users\\VictorLeCoz\\Anaconda3\\envs\\interbank_network\\lib\\site-packages\\cpnet\\utils.py:20: FutureWarning: adjacency_matrix will return a scipy.sparse array instead of a matrix in Networkx 3.0.\n",
      "  sparse.csr_matrix(nx.adjacency_matrix(net), dtype=np.float64),\n",
      "c:\\Users\\VictorLeCoz\\Anaconda3\\envs\\interbank_network\\lib\\site-packages\\cpnet\\qstest.py:96: FutureWarning: adjacency_matrix will return a scipy.sparse array instead of a matrix in Networkx 3.0.\n",
      "  A = nx.adjacency_matrix(G)\n"
     ]
    },
    {
     "name": "stdout",
     "output_type": "stream",
     "text": [
      "test on day 2023-05-04 00:00:00\n"
     ]
    },
    {
     "name": "stderr",
     "output_type": "stream",
     "text": [
      "c:\\Users\\VictorLeCoz\\Anaconda3\\envs\\interbank_network\\lib\\site-packages\\cpnet\\qstest.py:35: FutureWarning: adjacency_matrix will return a scipy.sparse array instead of a matrix in Networkx 3.0.\n",
      "  Ar = sparse.csr_matrix(nx.adjacency_matrix(Gr))\n",
      "100%|██████████| 100/100 [00:02<00:00, 33.39it/s]\n",
      "c:\\Users\\VictorLeCoz\\Anaconda3\\envs\\interbank_network\\lib\\site-packages\\cpnet\\utils.py:20: FutureWarning: adjacency_matrix will return a scipy.sparse array instead of a matrix in Networkx 3.0.\n",
      "  sparse.csr_matrix(nx.adjacency_matrix(net), dtype=np.float64),\n",
      "c:\\Users\\VictorLeCoz\\Anaconda3\\envs\\interbank_network\\lib\\site-packages\\cpnet\\qstest.py:96: FutureWarning: adjacency_matrix will return a scipy.sparse array instead of a matrix in Networkx 3.0.\n",
      "  A = nx.adjacency_matrix(G)\n"
     ]
    },
    {
     "name": "stdout",
     "output_type": "stream",
     "text": [
      "test on day 2024-01-12 00:00:00\n"
     ]
    },
    {
     "name": "stderr",
     "output_type": "stream",
     "text": [
      "c:\\Users\\VictorLeCoz\\Anaconda3\\envs\\interbank_network\\lib\\site-packages\\cpnet\\qstest.py:35: FutureWarning: adjacency_matrix will return a scipy.sparse array instead of a matrix in Networkx 3.0.\n",
      "  Ar = sparse.csr_matrix(nx.adjacency_matrix(Gr))\n",
      "100%|██████████| 100/100 [00:03<00:00, 27.44it/s]\n",
      "c:\\Users\\VictorLeCoz\\Anaconda3\\envs\\interbank_network\\lib\\site-packages\\cpnet\\utils.py:20: FutureWarning: adjacency_matrix will return a scipy.sparse array instead of a matrix in Networkx 3.0.\n",
      "  sparse.csr_matrix(nx.adjacency_matrix(net), dtype=np.float64),\n",
      "c:\\Users\\VictorLeCoz\\Anaconda3\\envs\\interbank_network\\lib\\site-packages\\cpnet\\qstest.py:96: FutureWarning: adjacency_matrix will return a scipy.sparse array instead of a matrix in Networkx 3.0.\n",
      "  A = nx.adjacency_matrix(G)\n"
     ]
    },
    {
     "name": "stdout",
     "output_type": "stream",
     "text": [
      "core-periphery tests using the Lip approach\n",
      "test on day 2000-05-03 00:00:00\n"
     ]
    },
    {
     "name": "stderr",
     "output_type": "stream",
     "text": [
      "c:\\Users\\VictorLeCoz\\Anaconda3\\envs\\interbank_network\\lib\\site-packages\\cpnet\\qstest.py:35: FutureWarning: adjacency_matrix will return a scipy.sparse array instead of a matrix in Networkx 3.0.\n",
      "  Ar = sparse.csr_matrix(nx.adjacency_matrix(Gr))\n",
      "100%|██████████| 100/100 [00:00<00:00, 3243.20it/s]\n"
     ]
    },
    {
     "name": "stdout",
     "output_type": "stream",
     "text": [
      "test on day 2007-05-29 00:00:00\n"
     ]
    },
    {
     "name": "stderr",
     "output_type": "stream",
     "text": [
      "100%|██████████| 100/100 [00:00<00:00, 2312.99it/s]\n",
      "c:\\Users\\VictorLeCoz\\Anaconda3\\envs\\interbank_network\\lib\\site-packages\\cpnet\\utils.py:20: FutureWarning: adjacency_matrix will return a scipy.sparse array instead of a matrix in Networkx 3.0.\n",
      "  sparse.csr_matrix(nx.adjacency_matrix(net), dtype=np.float64),\n",
      "c:\\Users\\VictorLeCoz\\Anaconda3\\envs\\interbank_network\\lib\\site-packages\\cpnet\\qstest.py:96: FutureWarning: adjacency_matrix will return a scipy.sparse array instead of a matrix in Networkx 3.0.\n",
      "  A = nx.adjacency_matrix(G)\n"
     ]
    },
    {
     "name": "stdout",
     "output_type": "stream",
     "text": [
      "test on day 2014-06-26 00:00:00\n"
     ]
    },
    {
     "name": "stderr",
     "output_type": "stream",
     "text": [
      "c:\\Users\\VictorLeCoz\\Anaconda3\\envs\\interbank_network\\lib\\site-packages\\cpnet\\qstest.py:35: FutureWarning: adjacency_matrix will return a scipy.sparse array instead of a matrix in Networkx 3.0.\n",
      "  Ar = sparse.csr_matrix(nx.adjacency_matrix(Gr))\n",
      "100%|██████████| 100/100 [00:00<00:00, 2487.18it/s]\n",
      "c:\\Users\\VictorLeCoz\\Anaconda3\\envs\\interbank_network\\lib\\site-packages\\cpnet\\utils.py:20: FutureWarning: adjacency_matrix will return a scipy.sparse array instead of a matrix in Networkx 3.0.\n",
      "  sparse.csr_matrix(nx.adjacency_matrix(net), dtype=np.float64),\n",
      "c:\\Users\\VictorLeCoz\\Anaconda3\\envs\\interbank_network\\lib\\site-packages\\cpnet\\qstest.py:96: FutureWarning: adjacency_matrix will return a scipy.sparse array instead of a matrix in Networkx 3.0.\n",
      "  A = nx.adjacency_matrix(G)\n"
     ]
    },
    {
     "name": "stdout",
     "output_type": "stream",
     "text": [
      "test on day 2023-05-04 00:00:00\n"
     ]
    },
    {
     "name": "stderr",
     "output_type": "stream",
     "text": [
      "c:\\Users\\VictorLeCoz\\Anaconda3\\envs\\interbank_network\\lib\\site-packages\\cpnet\\qstest.py:35: FutureWarning: adjacency_matrix will return a scipy.sparse array instead of a matrix in Networkx 3.0.\n",
      "  Ar = sparse.csr_matrix(nx.adjacency_matrix(Gr))\n",
      "100%|██████████| 100/100 [00:00<00:00, 2465.70it/s]\n",
      "c:\\Users\\VictorLeCoz\\Anaconda3\\envs\\interbank_network\\lib\\site-packages\\cpnet\\utils.py:20: FutureWarning: adjacency_matrix will return a scipy.sparse array instead of a matrix in Networkx 3.0.\n",
      "  sparse.csr_matrix(nx.adjacency_matrix(net), dtype=np.float64),\n",
      "c:\\Users\\VictorLeCoz\\Anaconda3\\envs\\interbank_network\\lib\\site-packages\\cpnet\\qstest.py:96: FutureWarning: adjacency_matrix will return a scipy.sparse array instead of a matrix in Networkx 3.0.\n",
      "  A = nx.adjacency_matrix(G)\n"
     ]
    },
    {
     "name": "stdout",
     "output_type": "stream",
     "text": [
      "test on day 2024-01-12 00:00:00\n"
     ]
    },
    {
     "name": "stderr",
     "output_type": "stream",
     "text": [
      "c:\\Users\\VictorLeCoz\\Anaconda3\\envs\\interbank_network\\lib\\site-packages\\cpnet\\qstest.py:35: FutureWarning: adjacency_matrix will return a scipy.sparse array instead of a matrix in Networkx 3.0.\n",
      "  Ar = sparse.csr_matrix(nx.adjacency_matrix(Gr))\n",
      "100%|██████████| 100/100 [00:00<00:00, 2697.72it/s]\n",
      "c:\\Users\\VictorLeCoz\\Anaconda3\\envs\\interbank_network\\lib\\site-packages\\cpnet\\utils.py:20: FutureWarning: adjacency_matrix will return a scipy.sparse array instead of a matrix in Networkx 3.0.\n",
      "  sparse.csr_matrix(nx.adjacency_matrix(net), dtype=np.float64),\n",
      "c:\\Users\\VictorLeCoz\\Anaconda3\\envs\\interbank_network\\lib\\site-packages\\cpnet\\qstest.py:96: FutureWarning: adjacency_matrix will return a scipy.sparse array instead of a matrix in Networkx 3.0.\n",
      "  A = nx.adjacency_matrix(G)\n"
     ]
    },
    {
     "name": "stdout",
     "output_type": "stream",
     "text": [
      "core-periphery tests using the BE approach\n",
      "test on day 2000-05-03 00:00:00\n"
     ]
    },
    {
     "name": "stderr",
     "output_type": "stream",
     "text": [
      "c:\\Users\\VictorLeCoz\\Anaconda3\\envs\\interbank_network\\lib\\site-packages\\cpnet\\qstest.py:35: FutureWarning: adjacency_matrix will return a scipy.sparse array instead of a matrix in Networkx 3.0.\n",
      "  Ar = sparse.csr_matrix(nx.adjacency_matrix(Gr))\n",
      "100%|██████████| 100/100 [00:00<00:00, 1308.60it/s]\n"
     ]
    },
    {
     "name": "stdout",
     "output_type": "stream",
     "text": [
      "test on day 2007-05-29 00:00:00\n"
     ]
    },
    {
     "name": "stderr",
     "output_type": "stream",
     "text": [
      "100%|██████████| 100/100 [00:00<00:00, 853.72it/s]\n",
      "c:\\Users\\VictorLeCoz\\Anaconda3\\envs\\interbank_network\\lib\\site-packages\\cpnet\\utils.py:20: FutureWarning: adjacency_matrix will return a scipy.sparse array instead of a matrix in Networkx 3.0.\n",
      "  sparse.csr_matrix(nx.adjacency_matrix(net), dtype=np.float64),\n",
      "c:\\Users\\VictorLeCoz\\Anaconda3\\envs\\interbank_network\\lib\\site-packages\\cpnet\\qstest.py:96: FutureWarning: adjacency_matrix will return a scipy.sparse array instead of a matrix in Networkx 3.0.\n",
      "  A = nx.adjacency_matrix(G)\n"
     ]
    },
    {
     "name": "stdout",
     "output_type": "stream",
     "text": [
      "test on day 2014-06-26 00:00:00\n"
     ]
    },
    {
     "name": "stderr",
     "output_type": "stream",
     "text": [
      "c:\\Users\\VictorLeCoz\\Anaconda3\\envs\\interbank_network\\lib\\site-packages\\cpnet\\qstest.py:35: FutureWarning: adjacency_matrix will return a scipy.sparse array instead of a matrix in Networkx 3.0.\n",
      "  Ar = sparse.csr_matrix(nx.adjacency_matrix(Gr))\n",
      "100%|██████████| 100/100 [00:00<00:00, 833.44it/s]\n",
      "c:\\Users\\VictorLeCoz\\Anaconda3\\envs\\interbank_network\\lib\\site-packages\\cpnet\\utils.py:20: FutureWarning: adjacency_matrix will return a scipy.sparse array instead of a matrix in Networkx 3.0.\n",
      "  sparse.csr_matrix(nx.adjacency_matrix(net), dtype=np.float64),\n",
      "c:\\Users\\VictorLeCoz\\Anaconda3\\envs\\interbank_network\\lib\\site-packages\\cpnet\\qstest.py:96: FutureWarning: adjacency_matrix will return a scipy.sparse array instead of a matrix in Networkx 3.0.\n",
      "  A = nx.adjacency_matrix(G)\n"
     ]
    },
    {
     "name": "stdout",
     "output_type": "stream",
     "text": [
      "test on day 2023-05-04 00:00:00\n"
     ]
    },
    {
     "name": "stderr",
     "output_type": "stream",
     "text": [
      "c:\\Users\\VictorLeCoz\\Anaconda3\\envs\\interbank_network\\lib\\site-packages\\cpnet\\qstest.py:35: FutureWarning: adjacency_matrix will return a scipy.sparse array instead of a matrix in Networkx 3.0.\n",
      "  Ar = sparse.csr_matrix(nx.adjacency_matrix(Gr))\n",
      "100%|██████████| 100/100 [00:00<00:00, 834.16it/s]\n",
      "c:\\Users\\VictorLeCoz\\Anaconda3\\envs\\interbank_network\\lib\\site-packages\\cpnet\\utils.py:20: FutureWarning: adjacency_matrix will return a scipy.sparse array instead of a matrix in Networkx 3.0.\n",
      "  sparse.csr_matrix(nx.adjacency_matrix(net), dtype=np.float64),\n",
      "c:\\Users\\VictorLeCoz\\Anaconda3\\envs\\interbank_network\\lib\\site-packages\\cpnet\\qstest.py:96: FutureWarning: adjacency_matrix will return a scipy.sparse array instead of a matrix in Networkx 3.0.\n",
      "  A = nx.adjacency_matrix(G)\n"
     ]
    },
    {
     "name": "stdout",
     "output_type": "stream",
     "text": [
      "test on day 2024-01-12 00:00:00\n"
     ]
    },
    {
     "name": "stderr",
     "output_type": "stream",
     "text": [
      "c:\\Users\\VictorLeCoz\\Anaconda3\\envs\\interbank_network\\lib\\site-packages\\cpnet\\qstest.py:35: FutureWarning: adjacency_matrix will return a scipy.sparse array instead of a matrix in Networkx 3.0.\n",
      "  Ar = sparse.csr_matrix(nx.adjacency_matrix(Gr))\n",
      "100%|██████████| 100/100 [00:00<00:00, 1043.75it/s]\n",
      " 60%|██████    | 3/5 [01:56<01:12, 36.18s/it]c:\\Users\\VictorLeCoz\\Anaconda3\\envs\\interbank_network\\lib\\site-packages\\cpnet\\utils.py:20: FutureWarning: adjacency_matrix will return a scipy.sparse array instead of a matrix in Networkx 3.0.\n",
      "  sparse.csr_matrix(nx.adjacency_matrix(net), dtype=np.float64),\n",
      "c:\\Users\\VictorLeCoz\\Anaconda3\\envs\\interbank_network\\lib\\site-packages\\cpnet\\qstest.py:96: FutureWarning: adjacency_matrix will return a scipy.sparse array instead of a matrix in Networkx 3.0.\n",
      "  A = nx.adjacency_matrix(G)\n"
     ]
    },
    {
     "name": "stdout",
     "output_type": "stream",
     "text": [
      "core-periphery tests using the KM_ER approach\n",
      "test on day 2000-05-03 00:00:00\n",
      "test on day 2007-05-29 00:00:00\n"
     ]
    },
    {
     "name": "stderr",
     "output_type": "stream",
     "text": [
      "c:\\Users\\VictorLeCoz\\Anaconda3\\envs\\interbank_network\\lib\\site-packages\\cpnet\\qstest.py:35: FutureWarning: adjacency_matrix will return a scipy.sparse array instead of a matrix in Networkx 3.0.\n",
      "  Ar = sparse.csr_matrix(nx.adjacency_matrix(Gr))\n",
      "100%|██████████| 100/100 [00:00<00:00, 291.30it/s]\n",
      "c:\\Users\\VictorLeCoz\\Anaconda3\\envs\\interbank_network\\lib\\site-packages\\cpnet\\utils.py:20: FutureWarning: adjacency_matrix will return a scipy.sparse array instead of a matrix in Networkx 3.0.\n",
      "  sparse.csr_matrix(nx.adjacency_matrix(net), dtype=np.float64),\n",
      "c:\\Users\\VictorLeCoz\\Anaconda3\\envs\\interbank_network\\lib\\site-packages\\cpnet\\qstest.py:96: FutureWarning: adjacency_matrix will return a scipy.sparse array instead of a matrix in Networkx 3.0.\n",
      "  A = nx.adjacency_matrix(G)\n"
     ]
    },
    {
     "name": "stdout",
     "output_type": "stream",
     "text": [
      "test on day 2014-06-26 00:00:00\n"
     ]
    },
    {
     "name": "stderr",
     "output_type": "stream",
     "text": [
      "c:\\Users\\VictorLeCoz\\Anaconda3\\envs\\interbank_network\\lib\\site-packages\\cpnet\\qstest.py:35: FutureWarning: adjacency_matrix will return a scipy.sparse array instead of a matrix in Networkx 3.0.\n",
      "  Ar = sparse.csr_matrix(nx.adjacency_matrix(Gr))\n",
      "100%|██████████| 100/100 [00:00<00:00, 416.91it/s]\n",
      "c:\\Users\\VictorLeCoz\\Anaconda3\\envs\\interbank_network\\lib\\site-packages\\cpnet\\utils.py:20: FutureWarning: adjacency_matrix will return a scipy.sparse array instead of a matrix in Networkx 3.0.\n",
      "  sparse.csr_matrix(nx.adjacency_matrix(net), dtype=np.float64),\n",
      "c:\\Users\\VictorLeCoz\\Anaconda3\\envs\\interbank_network\\lib\\site-packages\\cpnet\\qstest.py:96: FutureWarning: adjacency_matrix will return a scipy.sparse array instead of a matrix in Networkx 3.0.\n",
      "  A = nx.adjacency_matrix(G)\n"
     ]
    },
    {
     "name": "stdout",
     "output_type": "stream",
     "text": [
      "test on day 2023-05-04 00:00:00\n"
     ]
    },
    {
     "name": "stderr",
     "output_type": "stream",
     "text": [
      "c:\\Users\\VictorLeCoz\\Anaconda3\\envs\\interbank_network\\lib\\site-packages\\cpnet\\qstest.py:35: FutureWarning: adjacency_matrix will return a scipy.sparse array instead of a matrix in Networkx 3.0.\n",
      "  Ar = sparse.csr_matrix(nx.adjacency_matrix(Gr))\n",
      "100%|██████████| 100/100 [00:00<00:00, 363.20it/s]\n",
      "c:\\Users\\VictorLeCoz\\Anaconda3\\envs\\interbank_network\\lib\\site-packages\\cpnet\\utils.py:20: FutureWarning: adjacency_matrix will return a scipy.sparse array instead of a matrix in Networkx 3.0.\n",
      "  sparse.csr_matrix(nx.adjacency_matrix(net), dtype=np.float64),\n",
      "c:\\Users\\VictorLeCoz\\Anaconda3\\envs\\interbank_network\\lib\\site-packages\\cpnet\\qstest.py:96: FutureWarning: adjacency_matrix will return a scipy.sparse array instead of a matrix in Networkx 3.0.\n",
      "  A = nx.adjacency_matrix(G)\n"
     ]
    },
    {
     "name": "stdout",
     "output_type": "stream",
     "text": [
      "test on day 2024-01-12 00:00:00\n"
     ]
    },
    {
     "name": "stderr",
     "output_type": "stream",
     "text": [
      "c:\\Users\\VictorLeCoz\\Anaconda3\\envs\\interbank_network\\lib\\site-packages\\cpnet\\qstest.py:35: FutureWarning: adjacency_matrix will return a scipy.sparse array instead of a matrix in Networkx 3.0.\n",
      "  Ar = sparse.csr_matrix(nx.adjacency_matrix(Gr))\n",
      "100%|██████████| 100/100 [00:00<00:00, 414.78it/s]\n",
      "c:\\Users\\VictorLeCoz\\Anaconda3\\envs\\interbank_network\\lib\\site-packages\\cpnet\\utils.py:20: FutureWarning: adjacency_matrix will return a scipy.sparse array instead of a matrix in Networkx 3.0.\n",
      "  sparse.csr_matrix(nx.adjacency_matrix(net), dtype=np.float64),\n",
      "c:\\Users\\VictorLeCoz\\Anaconda3\\envs\\interbank_network\\lib\\site-packages\\cpnet\\qstest.py:96: FutureWarning: adjacency_matrix will return a scipy.sparse array instead of a matrix in Networkx 3.0.\n",
      "  A = nx.adjacency_matrix(G)\n"
     ]
    },
    {
     "name": "stdout",
     "output_type": "stream",
     "text": [
      "core-periphery tests using the KM_config approach\n",
      "test on day 2000-05-03 00:00:00\n",
      "test on day 2007-05-29 00:00:00\n"
     ]
    },
    {
     "name": "stderr",
     "output_type": "stream",
     "text": [
      "c:\\Users\\VictorLeCoz\\Anaconda3\\envs\\interbank_network\\lib\\site-packages\\cpnet\\qstest.py:35: FutureWarning: adjacency_matrix will return a scipy.sparse array instead of a matrix in Networkx 3.0.\n",
      "  Ar = sparse.csr_matrix(nx.adjacency_matrix(Gr))\n",
      "100%|██████████| 100/100 [00:00<00:00, 153.96it/s]\n",
      "c:\\Users\\VictorLeCoz\\Anaconda3\\envs\\interbank_network\\lib\\site-packages\\cpnet\\utils.py:20: FutureWarning: adjacency_matrix will return a scipy.sparse array instead of a matrix in Networkx 3.0.\n",
      "  sparse.csr_matrix(nx.adjacency_matrix(net), dtype=np.float64),\n",
      "c:\\Users\\VictorLeCoz\\Anaconda3\\envs\\interbank_network\\lib\\site-packages\\cpnet\\qstest.py:96: FutureWarning: adjacency_matrix will return a scipy.sparse array instead of a matrix in Networkx 3.0.\n",
      "  A = nx.adjacency_matrix(G)\n"
     ]
    },
    {
     "name": "stdout",
     "output_type": "stream",
     "text": [
      "test on day 2014-06-26 00:00:00\n"
     ]
    },
    {
     "name": "stderr",
     "output_type": "stream",
     "text": [
      "c:\\Users\\VictorLeCoz\\Anaconda3\\envs\\interbank_network\\lib\\site-packages\\cpnet\\qstest.py:35: FutureWarning: adjacency_matrix will return a scipy.sparse array instead of a matrix in Networkx 3.0.\n",
      "  Ar = sparse.csr_matrix(nx.adjacency_matrix(Gr))\n",
      "100%|██████████| 100/100 [00:00<00:00, 205.97it/s]\n",
      "c:\\Users\\VictorLeCoz\\Anaconda3\\envs\\interbank_network\\lib\\site-packages\\cpnet\\utils.py:20: FutureWarning: adjacency_matrix will return a scipy.sparse array instead of a matrix in Networkx 3.0.\n",
      "  sparse.csr_matrix(nx.adjacency_matrix(net), dtype=np.float64),\n",
      "c:\\Users\\VictorLeCoz\\Anaconda3\\envs\\interbank_network\\lib\\site-packages\\cpnet\\qstest.py:96: FutureWarning: adjacency_matrix will return a scipy.sparse array instead of a matrix in Networkx 3.0.\n",
      "  A = nx.adjacency_matrix(G)\n"
     ]
    },
    {
     "name": "stdout",
     "output_type": "stream",
     "text": [
      "test on day 2023-05-04 00:00:00\n"
     ]
    },
    {
     "name": "stderr",
     "output_type": "stream",
     "text": [
      "c:\\Users\\VictorLeCoz\\Anaconda3\\envs\\interbank_network\\lib\\site-packages\\cpnet\\qstest.py:35: FutureWarning: adjacency_matrix will return a scipy.sparse array instead of a matrix in Networkx 3.0.\n",
      "  Ar = sparse.csr_matrix(nx.adjacency_matrix(Gr))\n",
      "100%|██████████| 100/100 [00:00<00:00, 239.05it/s]\n",
      "c:\\Users\\VictorLeCoz\\Anaconda3\\envs\\interbank_network\\lib\\site-packages\\cpnet\\utils.py:20: FutureWarning: adjacency_matrix will return a scipy.sparse array instead of a matrix in Networkx 3.0.\n",
      "  sparse.csr_matrix(nx.adjacency_matrix(net), dtype=np.float64),\n",
      "c:\\Users\\VictorLeCoz\\Anaconda3\\envs\\interbank_network\\lib\\site-packages\\cpnet\\qstest.py:96: FutureWarning: adjacency_matrix will return a scipy.sparse array instead of a matrix in Networkx 3.0.\n",
      "  A = nx.adjacency_matrix(G)\n"
     ]
    },
    {
     "name": "stdout",
     "output_type": "stream",
     "text": [
      "test on day 2024-01-12 00:00:00\n"
     ]
    },
    {
     "name": "stderr",
     "output_type": "stream",
     "text": [
      "c:\\Users\\VictorLeCoz\\Anaconda3\\envs\\interbank_network\\lib\\site-packages\\cpnet\\qstest.py:35: FutureWarning: adjacency_matrix will return a scipy.sparse array instead of a matrix in Networkx 3.0.\n",
      "  Ar = sparse.csr_matrix(nx.adjacency_matrix(Gr))\n",
      "100%|██████████| 100/100 [00:00<00:00, 151.97it/s]\n",
      "c:\\Users\\VictorLeCoz\\Anaconda3\\envs\\interbank_network\\lib\\site-packages\\cpnet\\utils.py:20: FutureWarning: adjacency_matrix will return a scipy.sparse array instead of a matrix in Networkx 3.0.\n",
      "  sparse.csr_matrix(nx.adjacency_matrix(net), dtype=np.float64),\n",
      "c:\\Users\\VictorLeCoz\\Anaconda3\\envs\\interbank_network\\lib\\site-packages\\cpnet\\qstest.py:96: FutureWarning: adjacency_matrix will return a scipy.sparse array instead of a matrix in Networkx 3.0.\n",
      "  A = nx.adjacency_matrix(G)\n"
     ]
    },
    {
     "name": "stdout",
     "output_type": "stream",
     "text": [
      "core-periphery tests using the Rombach approach\n",
      "test on day 2000-05-03 00:00:00\n"
     ]
    },
    {
     "name": "stderr",
     "output_type": "stream",
     "text": [
      "c:\\Users\\VictorLeCoz\\Anaconda3\\envs\\interbank_network\\lib\\site-packages\\cpnet\\qstest.py:35: FutureWarning: adjacency_matrix will return a scipy.sparse array instead of a matrix in Networkx 3.0.\n",
      "  Ar = sparse.csr_matrix(nx.adjacency_matrix(Gr))\n",
      "100%|██████████| 100/100 [00:01<00:00, 52.37it/s]\n"
     ]
    },
    {
     "name": "stdout",
     "output_type": "stream",
     "text": [
      "test on day 2007-05-29 00:00:00\n"
     ]
    },
    {
     "name": "stderr",
     "output_type": "stream",
     "text": [
      "100%|██████████| 100/100 [00:00<00:00, 858.83it/s]\n",
      "c:\\Users\\VictorLeCoz\\Anaconda3\\envs\\interbank_network\\lib\\site-packages\\cpnet\\utils.py:20: FutureWarning: adjacency_matrix will return a scipy.sparse array instead of a matrix in Networkx 3.0.\n",
      "  sparse.csr_matrix(nx.adjacency_matrix(net), dtype=np.float64),\n",
      "c:\\Users\\VictorLeCoz\\Anaconda3\\envs\\interbank_network\\lib\\site-packages\\cpnet\\qstest.py:96: FutureWarning: adjacency_matrix will return a scipy.sparse array instead of a matrix in Networkx 3.0.\n",
      "  A = nx.adjacency_matrix(G)\n"
     ]
    },
    {
     "name": "stdout",
     "output_type": "stream",
     "text": [
      "test on day 2014-06-26 00:00:00\n"
     ]
    },
    {
     "name": "stderr",
     "output_type": "stream",
     "text": [
      "c:\\Users\\VictorLeCoz\\Anaconda3\\envs\\interbank_network\\lib\\site-packages\\cpnet\\qstest.py:35: FutureWarning: adjacency_matrix will return a scipy.sparse array instead of a matrix in Networkx 3.0.\n",
      "  Ar = sparse.csr_matrix(nx.adjacency_matrix(Gr))\n",
      "100%|██████████| 100/100 [00:00<00:00, 871.70it/s]\n",
      "c:\\Users\\VictorLeCoz\\Anaconda3\\envs\\interbank_network\\lib\\site-packages\\cpnet\\utils.py:20: FutureWarning: adjacency_matrix will return a scipy.sparse array instead of a matrix in Networkx 3.0.\n",
      "  sparse.csr_matrix(nx.adjacency_matrix(net), dtype=np.float64),\n",
      "c:\\Users\\VictorLeCoz\\Anaconda3\\envs\\interbank_network\\lib\\site-packages\\cpnet\\qstest.py:96: FutureWarning: adjacency_matrix will return a scipy.sparse array instead of a matrix in Networkx 3.0.\n",
      "  A = nx.adjacency_matrix(G)\n"
     ]
    },
    {
     "name": "stdout",
     "output_type": "stream",
     "text": [
      "test on day 2023-05-04 00:00:00\n"
     ]
    },
    {
     "name": "stderr",
     "output_type": "stream",
     "text": [
      "c:\\Users\\VictorLeCoz\\Anaconda3\\envs\\interbank_network\\lib\\site-packages\\cpnet\\qstest.py:35: FutureWarning: adjacency_matrix will return a scipy.sparse array instead of a matrix in Networkx 3.0.\n",
      "  Ar = sparse.csr_matrix(nx.adjacency_matrix(Gr))\n",
      "100%|██████████| 100/100 [00:00<00:00, 852.49it/s]\n",
      "c:\\Users\\VictorLeCoz\\Anaconda3\\envs\\interbank_network\\lib\\site-packages\\cpnet\\utils.py:20: FutureWarning: adjacency_matrix will return a scipy.sparse array instead of a matrix in Networkx 3.0.\n",
      "  sparse.csr_matrix(nx.adjacency_matrix(net), dtype=np.float64),\n",
      "c:\\Users\\VictorLeCoz\\Anaconda3\\envs\\interbank_network\\lib\\site-packages\\cpnet\\qstest.py:96: FutureWarning: adjacency_matrix will return a scipy.sparse array instead of a matrix in Networkx 3.0.\n",
      "  A = nx.adjacency_matrix(G)\n"
     ]
    },
    {
     "name": "stdout",
     "output_type": "stream",
     "text": [
      "test on day 2024-01-12 00:00:00\n"
     ]
    },
    {
     "name": "stderr",
     "output_type": "stream",
     "text": [
      "c:\\Users\\VictorLeCoz\\Anaconda3\\envs\\interbank_network\\lib\\site-packages\\cpnet\\qstest.py:35: FutureWarning: adjacency_matrix will return a scipy.sparse array instead of a matrix in Networkx 3.0.\n",
      "  Ar = sparse.csr_matrix(nx.adjacency_matrix(Gr))\n",
      "100%|██████████| 100/100 [00:00<00:00, 712.14it/s]\n",
      "c:\\Users\\VictorLeCoz\\Anaconda3\\envs\\interbank_network\\lib\\site-packages\\cpnet\\utils.py:20: FutureWarning: adjacency_matrix will return a scipy.sparse array instead of a matrix in Networkx 3.0.\n",
      "  sparse.csr_matrix(nx.adjacency_matrix(net), dtype=np.float64),\n",
      "c:\\Users\\VictorLeCoz\\Anaconda3\\envs\\interbank_network\\lib\\site-packages\\cpnet\\qstest.py:96: FutureWarning: adjacency_matrix will return a scipy.sparse array instead of a matrix in Networkx 3.0.\n",
      "  A = nx.adjacency_matrix(G)\n"
     ]
    },
    {
     "name": "stdout",
     "output_type": "stream",
     "text": [
      "core-periphery tests using the Rossa approach\n",
      "test on day 2000-05-03 00:00:00\n"
     ]
    },
    {
     "name": "stderr",
     "output_type": "stream",
     "text": [
      "c:\\Users\\VictorLeCoz\\Anaconda3\\envs\\interbank_network\\lib\\site-packages\\cpnet\\qstest.py:35: FutureWarning: adjacency_matrix will return a scipy.sparse array instead of a matrix in Networkx 3.0.\n",
      "  Ar = sparse.csr_matrix(nx.adjacency_matrix(Gr))\n",
      "100%|██████████| 100/100 [00:00<00:00, 358.76it/s]\n"
     ]
    },
    {
     "name": "stdout",
     "output_type": "stream",
     "text": [
      "test on day 2007-05-29 00:00:00\n"
     ]
    },
    {
     "name": "stderr",
     "output_type": "stream",
     "text": [
      "100%|██████████| 100/100 [00:00<00:00, 390.20it/s]\n",
      "c:\\Users\\VictorLeCoz\\Anaconda3\\envs\\interbank_network\\lib\\site-packages\\cpnet\\utils.py:20: FutureWarning: adjacency_matrix will return a scipy.sparse array instead of a matrix in Networkx 3.0.\n",
      "  sparse.csr_matrix(nx.adjacency_matrix(net), dtype=np.float64),\n",
      "c:\\Users\\VictorLeCoz\\Anaconda3\\envs\\interbank_network\\lib\\site-packages\\cpnet\\qstest.py:96: FutureWarning: adjacency_matrix will return a scipy.sparse array instead of a matrix in Networkx 3.0.\n",
      "  A = nx.adjacency_matrix(G)\n"
     ]
    },
    {
     "name": "stdout",
     "output_type": "stream",
     "text": [
      "test on day 2014-06-26 00:00:00\n"
     ]
    },
    {
     "name": "stderr",
     "output_type": "stream",
     "text": [
      "c:\\Users\\VictorLeCoz\\Anaconda3\\envs\\interbank_network\\lib\\site-packages\\cpnet\\qstest.py:35: FutureWarning: adjacency_matrix will return a scipy.sparse array instead of a matrix in Networkx 3.0.\n",
      "  Ar = sparse.csr_matrix(nx.adjacency_matrix(Gr))\n",
      "100%|██████████| 100/100 [00:00<00:00, 387.16it/s]\n",
      "c:\\Users\\VictorLeCoz\\Anaconda3\\envs\\interbank_network\\lib\\site-packages\\cpnet\\utils.py:20: FutureWarning: adjacency_matrix will return a scipy.sparse array instead of a matrix in Networkx 3.0.\n",
      "  sparse.csr_matrix(nx.adjacency_matrix(net), dtype=np.float64),\n",
      "c:\\Users\\VictorLeCoz\\Anaconda3\\envs\\interbank_network\\lib\\site-packages\\cpnet\\qstest.py:96: FutureWarning: adjacency_matrix will return a scipy.sparse array instead of a matrix in Networkx 3.0.\n",
      "  A = nx.adjacency_matrix(G)\n"
     ]
    },
    {
     "name": "stdout",
     "output_type": "stream",
     "text": [
      "test on day 2023-05-04 00:00:00\n"
     ]
    },
    {
     "name": "stderr",
     "output_type": "stream",
     "text": [
      "c:\\Users\\VictorLeCoz\\Anaconda3\\envs\\interbank_network\\lib\\site-packages\\cpnet\\qstest.py:35: FutureWarning: adjacency_matrix will return a scipy.sparse array instead of a matrix in Networkx 3.0.\n",
      "  Ar = sparse.csr_matrix(nx.adjacency_matrix(Gr))\n",
      "100%|██████████| 100/100 [00:00<00:00, 359.50it/s]\n",
      "c:\\Users\\VictorLeCoz\\Anaconda3\\envs\\interbank_network\\lib\\site-packages\\cpnet\\utils.py:20: FutureWarning: adjacency_matrix will return a scipy.sparse array instead of a matrix in Networkx 3.0.\n",
      "  sparse.csr_matrix(nx.adjacency_matrix(net), dtype=np.float64),\n",
      "c:\\Users\\VictorLeCoz\\Anaconda3\\envs\\interbank_network\\lib\\site-packages\\cpnet\\qstest.py:96: FutureWarning: adjacency_matrix will return a scipy.sparse array instead of a matrix in Networkx 3.0.\n",
      "  A = nx.adjacency_matrix(G)\n"
     ]
    },
    {
     "name": "stdout",
     "output_type": "stream",
     "text": [
      "test on day 2024-01-12 00:00:00\n"
     ]
    },
    {
     "name": "stderr",
     "output_type": "stream",
     "text": [
      "c:\\Users\\VictorLeCoz\\Anaconda3\\envs\\interbank_network\\lib\\site-packages\\cpnet\\qstest.py:35: FutureWarning: adjacency_matrix will return a scipy.sparse array instead of a matrix in Networkx 3.0.\n",
      "  Ar = sparse.csr_matrix(nx.adjacency_matrix(Gr))\n",
      "100%|██████████| 100/100 [00:00<00:00, 393.46it/s]\n",
      "c:\\Users\\VictorLeCoz\\Anaconda3\\envs\\interbank_network\\lib\\site-packages\\cpnet\\utils.py:20: FutureWarning: adjacency_matrix will return a scipy.sparse array instead of a matrix in Networkx 3.0.\n",
      "  sparse.csr_matrix(nx.adjacency_matrix(net), dtype=np.float64),\n",
      "c:\\Users\\VictorLeCoz\\Anaconda3\\envs\\interbank_network\\lib\\site-packages\\cpnet\\qstest.py:96: FutureWarning: adjacency_matrix will return a scipy.sparse array instead of a matrix in Networkx 3.0.\n",
      "  A = nx.adjacency_matrix(G)\n"
     ]
    },
    {
     "name": "stdout",
     "output_type": "stream",
     "text": [
      "core-periphery tests using the LapCore approach\n",
      "test on day 2000-05-03 00:00:00\n"
     ]
    },
    {
     "name": "stderr",
     "output_type": "stream",
     "text": [
      "c:\\Users\\VictorLeCoz\\Anaconda3\\envs\\interbank_network\\lib\\site-packages\\cpnet\\qstest.py:35: FutureWarning: adjacency_matrix will return a scipy.sparse array instead of a matrix in Networkx 3.0.\n",
      "  Ar = sparse.csr_matrix(nx.adjacency_matrix(Gr))\n",
      "100%|██████████| 100/100 [00:00<00:00, 290.97it/s]\n"
     ]
    },
    {
     "name": "stdout",
     "output_type": "stream",
     "text": [
      "test on day 2007-05-29 00:00:00\n"
     ]
    },
    {
     "name": "stderr",
     "output_type": "stream",
     "text": [
      "100%|██████████| 100/100 [00:00<00:00, 316.54it/s]\n",
      "c:\\Users\\VictorLeCoz\\Anaconda3\\envs\\interbank_network\\lib\\site-packages\\cpnet\\utils.py:20: FutureWarning: adjacency_matrix will return a scipy.sparse array instead of a matrix in Networkx 3.0.\n",
      "  sparse.csr_matrix(nx.adjacency_matrix(net), dtype=np.float64),\n",
      "c:\\Users\\VictorLeCoz\\Anaconda3\\envs\\interbank_network\\lib\\site-packages\\cpnet\\qstest.py:96: FutureWarning: adjacency_matrix will return a scipy.sparse array instead of a matrix in Networkx 3.0.\n",
      "  A = nx.adjacency_matrix(G)\n"
     ]
    },
    {
     "name": "stdout",
     "output_type": "stream",
     "text": [
      "test on day 2014-06-26 00:00:00\n"
     ]
    },
    {
     "name": "stderr",
     "output_type": "stream",
     "text": [
      "c:\\Users\\VictorLeCoz\\Anaconda3\\envs\\interbank_network\\lib\\site-packages\\cpnet\\qstest.py:35: FutureWarning: adjacency_matrix will return a scipy.sparse array instead of a matrix in Networkx 3.0.\n",
      "  Ar = sparse.csr_matrix(nx.adjacency_matrix(Gr))\n",
      "100%|██████████| 100/100 [00:00<00:00, 317.41it/s]\n",
      "c:\\Users\\VictorLeCoz\\Anaconda3\\envs\\interbank_network\\lib\\site-packages\\cpnet\\utils.py:20: FutureWarning: adjacency_matrix will return a scipy.sparse array instead of a matrix in Networkx 3.0.\n",
      "  sparse.csr_matrix(nx.adjacency_matrix(net), dtype=np.float64),\n",
      "c:\\Users\\VictorLeCoz\\Anaconda3\\envs\\interbank_network\\lib\\site-packages\\cpnet\\qstest.py:96: FutureWarning: adjacency_matrix will return a scipy.sparse array instead of a matrix in Networkx 3.0.\n",
      "  A = nx.adjacency_matrix(G)\n"
     ]
    },
    {
     "name": "stdout",
     "output_type": "stream",
     "text": [
      "test on day 2023-05-04 00:00:00\n"
     ]
    },
    {
     "name": "stderr",
     "output_type": "stream",
     "text": [
      "c:\\Users\\VictorLeCoz\\Anaconda3\\envs\\interbank_network\\lib\\site-packages\\cpnet\\qstest.py:35: FutureWarning: adjacency_matrix will return a scipy.sparse array instead of a matrix in Networkx 3.0.\n",
      "  Ar = sparse.csr_matrix(nx.adjacency_matrix(Gr))\n",
      "100%|██████████| 100/100 [00:00<00:00, 327.61it/s]\n",
      "c:\\Users\\VictorLeCoz\\Anaconda3\\envs\\interbank_network\\lib\\site-packages\\cpnet\\utils.py:20: FutureWarning: adjacency_matrix will return a scipy.sparse array instead of a matrix in Networkx 3.0.\n",
      "  sparse.csr_matrix(nx.adjacency_matrix(net), dtype=np.float64),\n",
      "c:\\Users\\VictorLeCoz\\Anaconda3\\envs\\interbank_network\\lib\\site-packages\\cpnet\\qstest.py:96: FutureWarning: adjacency_matrix will return a scipy.sparse array instead of a matrix in Networkx 3.0.\n",
      "  A = nx.adjacency_matrix(G)\n"
     ]
    },
    {
     "name": "stdout",
     "output_type": "stream",
     "text": [
      "test on day 2024-01-12 00:00:00\n"
     ]
    },
    {
     "name": "stderr",
     "output_type": "stream",
     "text": [
      "c:\\Users\\VictorLeCoz\\Anaconda3\\envs\\interbank_network\\lib\\site-packages\\cpnet\\qstest.py:35: FutureWarning: adjacency_matrix will return a scipy.sparse array instead of a matrix in Networkx 3.0.\n",
      "  Ar = sparse.csr_matrix(nx.adjacency_matrix(Gr))\n",
      "100%|██████████| 100/100 [00:00<00:00, 319.56it/s]\n",
      "c:\\Users\\VictorLeCoz\\Anaconda3\\envs\\interbank_network\\lib\\site-packages\\cpnet\\utils.py:20: FutureWarning: adjacency_matrix will return a scipy.sparse array instead of a matrix in Networkx 3.0.\n",
      "  sparse.csr_matrix(nx.adjacency_matrix(net), dtype=np.float64),\n",
      "c:\\Users\\VictorLeCoz\\Anaconda3\\envs\\interbank_network\\lib\\site-packages\\cpnet\\qstest.py:96: FutureWarning: adjacency_matrix will return a scipy.sparse array instead of a matrix in Networkx 3.0.\n",
      "  A = nx.adjacency_matrix(G)\n"
     ]
    },
    {
     "name": "stdout",
     "output_type": "stream",
     "text": [
      "core-periphery tests using the LapSgnCore approach\n",
      "test on day 2000-05-03 00:00:00\n"
     ]
    },
    {
     "name": "stderr",
     "output_type": "stream",
     "text": [
      "c:\\Users\\VictorLeCoz\\Anaconda3\\envs\\interbank_network\\lib\\site-packages\\cpnet\\qstest.py:35: FutureWarning: adjacency_matrix will return a scipy.sparse array instead of a matrix in Networkx 3.0.\n",
      "  Ar = sparse.csr_matrix(nx.adjacency_matrix(Gr))\n",
      "100%|██████████| 100/100 [00:00<00:00, 597.53it/s]\n"
     ]
    },
    {
     "name": "stdout",
     "output_type": "stream",
     "text": [
      "test on day 2007-05-29 00:00:00\n"
     ]
    },
    {
     "name": "stderr",
     "output_type": "stream",
     "text": [
      "100%|██████████| 100/100 [00:00<00:00, 569.88it/s]\n",
      "c:\\Users\\VictorLeCoz\\Anaconda3\\envs\\interbank_network\\lib\\site-packages\\cpnet\\utils.py:20: FutureWarning: adjacency_matrix will return a scipy.sparse array instead of a matrix in Networkx 3.0.\n",
      "  sparse.csr_matrix(nx.adjacency_matrix(net), dtype=np.float64),\n"
     ]
    },
    {
     "name": "stdout",
     "output_type": "stream",
     "text": [
      "test on day 2014-06-26 00:00:00\n"
     ]
    },
    {
     "name": "stderr",
     "output_type": "stream",
     "text": [
      "c:\\Users\\VictorLeCoz\\Anaconda3\\envs\\interbank_network\\lib\\site-packages\\cpnet\\qstest.py:96: FutureWarning: adjacency_matrix will return a scipy.sparse array instead of a matrix in Networkx 3.0.\n",
      "  A = nx.adjacency_matrix(G)\n",
      "c:\\Users\\VictorLeCoz\\Anaconda3\\envs\\interbank_network\\lib\\site-packages\\cpnet\\qstest.py:35: FutureWarning: adjacency_matrix will return a scipy.sparse array instead of a matrix in Networkx 3.0.\n",
      "  Ar = sparse.csr_matrix(nx.adjacency_matrix(Gr))\n",
      "100%|██████████| 100/100 [00:00<00:00, 575.16it/s]\n",
      "c:\\Users\\VictorLeCoz\\Anaconda3\\envs\\interbank_network\\lib\\site-packages\\cpnet\\utils.py:20: FutureWarning: adjacency_matrix will return a scipy.sparse array instead of a matrix in Networkx 3.0.\n",
      "  sparse.csr_matrix(nx.adjacency_matrix(net), dtype=np.float64),\n",
      "c:\\Users\\VictorLeCoz\\Anaconda3\\envs\\interbank_network\\lib\\site-packages\\cpnet\\qstest.py:96: FutureWarning: adjacency_matrix will return a scipy.sparse array instead of a matrix in Networkx 3.0.\n",
      "  A = nx.adjacency_matrix(G)\n"
     ]
    },
    {
     "name": "stdout",
     "output_type": "stream",
     "text": [
      "test on day 2023-05-04 00:00:00\n"
     ]
    },
    {
     "name": "stderr",
     "output_type": "stream",
     "text": [
      "c:\\Users\\VictorLeCoz\\Anaconda3\\envs\\interbank_network\\lib\\site-packages\\cpnet\\qstest.py:35: FutureWarning: adjacency_matrix will return a scipy.sparse array instead of a matrix in Networkx 3.0.\n",
      "  Ar = sparse.csr_matrix(nx.adjacency_matrix(Gr))\n",
      "100%|██████████| 100/100 [00:00<00:00, 462.53it/s]\n",
      "c:\\Users\\VictorLeCoz\\Anaconda3\\envs\\interbank_network\\lib\\site-packages\\cpnet\\utils.py:20: FutureWarning: adjacency_matrix will return a scipy.sparse array instead of a matrix in Networkx 3.0.\n",
      "  sparse.csr_matrix(nx.adjacency_matrix(net), dtype=np.float64),\n",
      "c:\\Users\\VictorLeCoz\\Anaconda3\\envs\\interbank_network\\lib\\site-packages\\cpnet\\qstest.py:96: FutureWarning: adjacency_matrix will return a scipy.sparse array instead of a matrix in Networkx 3.0.\n",
      "  A = nx.adjacency_matrix(G)\n"
     ]
    },
    {
     "name": "stdout",
     "output_type": "stream",
     "text": [
      "test on day 2024-01-12 00:00:00\n"
     ]
    },
    {
     "name": "stderr",
     "output_type": "stream",
     "text": [
      "c:\\Users\\VictorLeCoz\\Anaconda3\\envs\\interbank_network\\lib\\site-packages\\cpnet\\qstest.py:35: FutureWarning: adjacency_matrix will return a scipy.sparse array instead of a matrix in Networkx 3.0.\n",
      "  Ar = sparse.csr_matrix(nx.adjacency_matrix(Gr))\n",
      "100%|██████████| 100/100 [00:00<00:00, 302.66it/s]\n",
      "c:\\Users\\VictorLeCoz\\Anaconda3\\envs\\interbank_network\\lib\\site-packages\\cpnet\\utils.py:20: FutureWarning: adjacency_matrix will return a scipy.sparse array instead of a matrix in Networkx 3.0.\n",
      "  sparse.csr_matrix(nx.adjacency_matrix(net), dtype=np.float64),\n",
      "c:\\Users\\VictorLeCoz\\Anaconda3\\envs\\interbank_network\\lib\\site-packages\\cpnet\\qstest.py:96: FutureWarning: adjacency_matrix will return a scipy.sparse array instead of a matrix in Networkx 3.0.\n",
      "  A = nx.adjacency_matrix(G)\n"
     ]
    },
    {
     "name": "stdout",
     "output_type": "stream",
     "text": [
      "core-periphery tests using the LowRankCore approach\n",
      "test on day 2000-05-03 00:00:00\n"
     ]
    },
    {
     "name": "stderr",
     "output_type": "stream",
     "text": [
      "c:\\Users\\VictorLeCoz\\Anaconda3\\envs\\interbank_network\\lib\\site-packages\\cpnet\\qstest.py:35: FutureWarning: adjacency_matrix will return a scipy.sparse array instead of a matrix in Networkx 3.0.\n",
      "  Ar = sparse.csr_matrix(nx.adjacency_matrix(Gr))\n",
      "100%|██████████| 100/100 [00:00<00:00, 322.82it/s]\n"
     ]
    },
    {
     "name": "stdout",
     "output_type": "stream",
     "text": [
      "test on day 2007-05-29 00:00:00\n"
     ]
    },
    {
     "name": "stderr",
     "output_type": "stream",
     "text": [
      "100%|██████████| 100/100 [00:00<00:00, 335.05it/s]\n",
      "c:\\Users\\VictorLeCoz\\Anaconda3\\envs\\interbank_network\\lib\\site-packages\\cpnet\\utils.py:20: FutureWarning: adjacency_matrix will return a scipy.sparse array instead of a matrix in Networkx 3.0.\n",
      "  sparse.csr_matrix(nx.adjacency_matrix(net), dtype=np.float64),\n",
      "c:\\Users\\VictorLeCoz\\Anaconda3\\envs\\interbank_network\\lib\\site-packages\\cpnet\\qstest.py:96: FutureWarning: adjacency_matrix will return a scipy.sparse array instead of a matrix in Networkx 3.0.\n",
      "  A = nx.adjacency_matrix(G)\n"
     ]
    },
    {
     "name": "stdout",
     "output_type": "stream",
     "text": [
      "test on day 2014-06-26 00:00:00\n"
     ]
    },
    {
     "name": "stderr",
     "output_type": "stream",
     "text": [
      "c:\\Users\\VictorLeCoz\\Anaconda3\\envs\\interbank_network\\lib\\site-packages\\cpnet\\qstest.py:35: FutureWarning: adjacency_matrix will return a scipy.sparse array instead of a matrix in Networkx 3.0.\n",
      "  Ar = sparse.csr_matrix(nx.adjacency_matrix(Gr))\n",
      "100%|██████████| 100/100 [00:00<00:00, 353.33it/s]\n",
      "c:\\Users\\VictorLeCoz\\Anaconda3\\envs\\interbank_network\\lib\\site-packages\\cpnet\\utils.py:20: FutureWarning: adjacency_matrix will return a scipy.sparse array instead of a matrix in Networkx 3.0.\n",
      "  sparse.csr_matrix(nx.adjacency_matrix(net), dtype=np.float64),\n",
      "c:\\Users\\VictorLeCoz\\Anaconda3\\envs\\interbank_network\\lib\\site-packages\\cpnet\\qstest.py:96: FutureWarning: adjacency_matrix will return a scipy.sparse array instead of a matrix in Networkx 3.0.\n",
      "  A = nx.adjacency_matrix(G)\n"
     ]
    },
    {
     "name": "stdout",
     "output_type": "stream",
     "text": [
      "test on day 2023-05-04 00:00:00\n"
     ]
    },
    {
     "name": "stderr",
     "output_type": "stream",
     "text": [
      "c:\\Users\\VictorLeCoz\\Anaconda3\\envs\\interbank_network\\lib\\site-packages\\cpnet\\qstest.py:35: FutureWarning: adjacency_matrix will return a scipy.sparse array instead of a matrix in Networkx 3.0.\n",
      "  Ar = sparse.csr_matrix(nx.adjacency_matrix(Gr))\n",
      "100%|██████████| 100/100 [00:00<00:00, 310.16it/s]\n",
      "c:\\Users\\VictorLeCoz\\Anaconda3\\envs\\interbank_network\\lib\\site-packages\\cpnet\\utils.py:20: FutureWarning: adjacency_matrix will return a scipy.sparse array instead of a matrix in Networkx 3.0.\n",
      "  sparse.csr_matrix(nx.adjacency_matrix(net), dtype=np.float64),\n",
      "c:\\Users\\VictorLeCoz\\Anaconda3\\envs\\interbank_network\\lib\\site-packages\\cpnet\\qstest.py:96: FutureWarning: adjacency_matrix will return a scipy.sparse array instead of a matrix in Networkx 3.0.\n",
      "  A = nx.adjacency_matrix(G)\n"
     ]
    },
    {
     "name": "stdout",
     "output_type": "stream",
     "text": [
      "test on day 2024-01-12 00:00:00\n"
     ]
    },
    {
     "name": "stderr",
     "output_type": "stream",
     "text": [
      "c:\\Users\\VictorLeCoz\\Anaconda3\\envs\\interbank_network\\lib\\site-packages\\cpnet\\qstest.py:35: FutureWarning: adjacency_matrix will return a scipy.sparse array instead of a matrix in Networkx 3.0.\n",
      "  Ar = sparse.csr_matrix(nx.adjacency_matrix(Gr))\n",
      "100%|██████████| 100/100 [00:00<00:00, 344.13it/s]\n",
      "c:\\Users\\VictorLeCoz\\Anaconda3\\envs\\interbank_network\\lib\\site-packages\\cpnet\\utils.py:20: FutureWarning: adjacency_matrix will return a scipy.sparse array instead of a matrix in Networkx 3.0.\n",
      "  sparse.csr_matrix(nx.adjacency_matrix(net), dtype=np.float64),\n",
      "c:\\Users\\VictorLeCoz\\Anaconda3\\envs\\interbank_network\\lib\\site-packages\\cpnet\\qstest.py:96: FutureWarning: adjacency_matrix will return a scipy.sparse array instead of a matrix in Networkx 3.0.\n",
      "  A = nx.adjacency_matrix(G)\n"
     ]
    },
    {
     "name": "stdout",
     "output_type": "stream",
     "text": [
      "core-periphery tests using the MINRES approach\n",
      "test on day 2000-05-03 00:00:00\n"
     ]
    },
    {
     "name": "stderr",
     "output_type": "stream",
     "text": [
      "c:\\Users\\VictorLeCoz\\Anaconda3\\envs\\interbank_network\\lib\\site-packages\\cpnet\\qstest.py:35: FutureWarning: adjacency_matrix will return a scipy.sparse array instead of a matrix in Networkx 3.0.\n",
      "  Ar = sparse.csr_matrix(nx.adjacency_matrix(Gr))\n",
      "100%|██████████| 100/100 [00:02<00:00, 49.93it/s]\n"
     ]
    },
    {
     "name": "stdout",
     "output_type": "stream",
     "text": [
      "test on day 2007-05-29 00:00:00\n"
     ]
    },
    {
     "name": "stderr",
     "output_type": "stream",
     "text": [
      "100%|██████████| 100/100 [00:02<00:00, 38.84it/s]\n",
      "c:\\Users\\VictorLeCoz\\Anaconda3\\envs\\interbank_network\\lib\\site-packages\\cpnet\\utils.py:20: FutureWarning: adjacency_matrix will return a scipy.sparse array instead of a matrix in Networkx 3.0.\n",
      "  sparse.csr_matrix(nx.adjacency_matrix(net), dtype=np.float64),\n",
      "c:\\Users\\VictorLeCoz\\Anaconda3\\envs\\interbank_network\\lib\\site-packages\\cpnet\\qstest.py:96: FutureWarning: adjacency_matrix will return a scipy.sparse array instead of a matrix in Networkx 3.0.\n",
      "  A = nx.adjacency_matrix(G)\n"
     ]
    },
    {
     "name": "stdout",
     "output_type": "stream",
     "text": [
      "test on day 2014-06-26 00:00:00\n"
     ]
    },
    {
     "name": "stderr",
     "output_type": "stream",
     "text": [
      "c:\\Users\\VictorLeCoz\\Anaconda3\\envs\\interbank_network\\lib\\site-packages\\cpnet\\qstest.py:35: FutureWarning: adjacency_matrix will return a scipy.sparse array instead of a matrix in Networkx 3.0.\n",
      "  Ar = sparse.csr_matrix(nx.adjacency_matrix(Gr))\n",
      "100%|██████████| 100/100 [00:03<00:00, 27.70it/s]\n",
      "c:\\Users\\VictorLeCoz\\Anaconda3\\envs\\interbank_network\\lib\\site-packages\\cpnet\\utils.py:20: FutureWarning: adjacency_matrix will return a scipy.sparse array instead of a matrix in Networkx 3.0.\n",
      "  sparse.csr_matrix(nx.adjacency_matrix(net), dtype=np.float64),\n",
      "c:\\Users\\VictorLeCoz\\Anaconda3\\envs\\interbank_network\\lib\\site-packages\\cpnet\\qstest.py:96: FutureWarning: adjacency_matrix will return a scipy.sparse array instead of a matrix in Networkx 3.0.\n",
      "  A = nx.adjacency_matrix(G)\n"
     ]
    },
    {
     "name": "stdout",
     "output_type": "stream",
     "text": [
      "test on day 2023-05-04 00:00:00\n"
     ]
    },
    {
     "name": "stderr",
     "output_type": "stream",
     "text": [
      "c:\\Users\\VictorLeCoz\\Anaconda3\\envs\\interbank_network\\lib\\site-packages\\cpnet\\qstest.py:35: FutureWarning: adjacency_matrix will return a scipy.sparse array instead of a matrix in Networkx 3.0.\n",
      "  Ar = sparse.csr_matrix(nx.adjacency_matrix(Gr))\n",
      "100%|██████████| 100/100 [00:02<00:00, 35.96it/s]\n",
      "c:\\Users\\VictorLeCoz\\Anaconda3\\envs\\interbank_network\\lib\\site-packages\\cpnet\\utils.py:20: FutureWarning: adjacency_matrix will return a scipy.sparse array instead of a matrix in Networkx 3.0.\n",
      "  sparse.csr_matrix(nx.adjacency_matrix(net), dtype=np.float64),\n",
      "c:\\Users\\VictorLeCoz\\Anaconda3\\envs\\interbank_network\\lib\\site-packages\\cpnet\\qstest.py:96: FutureWarning: adjacency_matrix will return a scipy.sparse array instead of a matrix in Networkx 3.0.\n",
      "  A = nx.adjacency_matrix(G)\n"
     ]
    },
    {
     "name": "stdout",
     "output_type": "stream",
     "text": [
      "test on day 2024-01-12 00:00:00\n"
     ]
    },
    {
     "name": "stderr",
     "output_type": "stream",
     "text": [
      "c:\\Users\\VictorLeCoz\\Anaconda3\\envs\\interbank_network\\lib\\site-packages\\cpnet\\qstest.py:35: FutureWarning: adjacency_matrix will return a scipy.sparse array instead of a matrix in Networkx 3.0.\n",
      "  Ar = sparse.csr_matrix(nx.adjacency_matrix(Gr))\n",
      "100%|██████████| 100/100 [00:02<00:00, 34.80it/s]\n",
      "c:\\Users\\VictorLeCoz\\Anaconda3\\envs\\interbank_network\\lib\\site-packages\\cpnet\\utils.py:20: FutureWarning: adjacency_matrix will return a scipy.sparse array instead of a matrix in Networkx 3.0.\n",
      "  sparse.csr_matrix(nx.adjacency_matrix(net), dtype=np.float64),\n",
      "c:\\Users\\VictorLeCoz\\Anaconda3\\envs\\interbank_network\\lib\\site-packages\\cpnet\\qstest.py:96: FutureWarning: adjacency_matrix will return a scipy.sparse array instead of a matrix in Networkx 3.0.\n",
      "  A = nx.adjacency_matrix(G)\n"
     ]
    },
    {
     "name": "stdout",
     "output_type": "stream",
     "text": [
      "core-periphery tests using the Lip approach\n",
      "test on day 2000-05-03 00:00:00\n"
     ]
    },
    {
     "name": "stderr",
     "output_type": "stream",
     "text": [
      "c:\\Users\\VictorLeCoz\\Anaconda3\\envs\\interbank_network\\lib\\site-packages\\cpnet\\qstest.py:35: FutureWarning: adjacency_matrix will return a scipy.sparse array instead of a matrix in Networkx 3.0.\n",
      "  Ar = sparse.csr_matrix(nx.adjacency_matrix(Gr))\n",
      "100%|██████████| 100/100 [00:00<00:00, 3468.20it/s]\n"
     ]
    },
    {
     "name": "stdout",
     "output_type": "stream",
     "text": [
      "test on day 2007-05-29 00:00:00\n"
     ]
    },
    {
     "name": "stderr",
     "output_type": "stream",
     "text": [
      "100%|██████████| 100/100 [00:00<00:00, 2480.08it/s]\n",
      "c:\\Users\\VictorLeCoz\\Anaconda3\\envs\\interbank_network\\lib\\site-packages\\cpnet\\utils.py:20: FutureWarning: adjacency_matrix will return a scipy.sparse array instead of a matrix in Networkx 3.0.\n",
      "  sparse.csr_matrix(nx.adjacency_matrix(net), dtype=np.float64),\n",
      "c:\\Users\\VictorLeCoz\\Anaconda3\\envs\\interbank_network\\lib\\site-packages\\cpnet\\qstest.py:96: FutureWarning: adjacency_matrix will return a scipy.sparse array instead of a matrix in Networkx 3.0.\n",
      "  A = nx.adjacency_matrix(G)\n"
     ]
    },
    {
     "name": "stdout",
     "output_type": "stream",
     "text": [
      "test on day 2014-06-26 00:00:00\n"
     ]
    },
    {
     "name": "stderr",
     "output_type": "stream",
     "text": [
      "c:\\Users\\VictorLeCoz\\Anaconda3\\envs\\interbank_network\\lib\\site-packages\\cpnet\\qstest.py:35: FutureWarning: adjacency_matrix will return a scipy.sparse array instead of a matrix in Networkx 3.0.\n",
      "  Ar = sparse.csr_matrix(nx.adjacency_matrix(Gr))\n",
      "100%|██████████| 100/100 [00:00<00:00, 2666.39it/s]\n",
      "c:\\Users\\VictorLeCoz\\Anaconda3\\envs\\interbank_network\\lib\\site-packages\\cpnet\\utils.py:20: FutureWarning: adjacency_matrix will return a scipy.sparse array instead of a matrix in Networkx 3.0.\n",
      "  sparse.csr_matrix(nx.adjacency_matrix(net), dtype=np.float64),\n",
      "c:\\Users\\VictorLeCoz\\Anaconda3\\envs\\interbank_network\\lib\\site-packages\\cpnet\\qstest.py:96: FutureWarning: adjacency_matrix will return a scipy.sparse array instead of a matrix in Networkx 3.0.\n",
      "  A = nx.adjacency_matrix(G)\n"
     ]
    },
    {
     "name": "stdout",
     "output_type": "stream",
     "text": [
      "test on day 2023-05-04 00:00:00\n"
     ]
    },
    {
     "name": "stderr",
     "output_type": "stream",
     "text": [
      "c:\\Users\\VictorLeCoz\\Anaconda3\\envs\\interbank_network\\lib\\site-packages\\cpnet\\qstest.py:35: FutureWarning: adjacency_matrix will return a scipy.sparse array instead of a matrix in Networkx 3.0.\n",
      "  Ar = sparse.csr_matrix(nx.adjacency_matrix(Gr))\n",
      "100%|██████████| 100/100 [00:00<00:00, 2656.84it/s]\n",
      "c:\\Users\\VictorLeCoz\\Anaconda3\\envs\\interbank_network\\lib\\site-packages\\cpnet\\utils.py:20: FutureWarning: adjacency_matrix will return a scipy.sparse array instead of a matrix in Networkx 3.0.\n",
      "  sparse.csr_matrix(nx.adjacency_matrix(net), dtype=np.float64),\n",
      "c:\\Users\\VictorLeCoz\\Anaconda3\\envs\\interbank_network\\lib\\site-packages\\cpnet\\qstest.py:96: FutureWarning: adjacency_matrix will return a scipy.sparse array instead of a matrix in Networkx 3.0.\n",
      "  A = nx.adjacency_matrix(G)\n"
     ]
    },
    {
     "name": "stdout",
     "output_type": "stream",
     "text": [
      "test on day 2024-01-12 00:00:00\n"
     ]
    },
    {
     "name": "stderr",
     "output_type": "stream",
     "text": [
      "c:\\Users\\VictorLeCoz\\Anaconda3\\envs\\interbank_network\\lib\\site-packages\\cpnet\\qstest.py:35: FutureWarning: adjacency_matrix will return a scipy.sparse array instead of a matrix in Networkx 3.0.\n",
      "  Ar = sparse.csr_matrix(nx.adjacency_matrix(Gr))\n",
      "100%|██████████| 100/100 [00:00<00:00, 2489.29it/s]\n",
      "c:\\Users\\VictorLeCoz\\Anaconda3\\envs\\interbank_network\\lib\\site-packages\\cpnet\\utils.py:20: FutureWarning: adjacency_matrix will return a scipy.sparse array instead of a matrix in Networkx 3.0.\n",
      "  sparse.csr_matrix(nx.adjacency_matrix(net), dtype=np.float64),\n",
      "c:\\Users\\VictorLeCoz\\Anaconda3\\envs\\interbank_network\\lib\\site-packages\\cpnet\\qstest.py:96: FutureWarning: adjacency_matrix will return a scipy.sparse array instead of a matrix in Networkx 3.0.\n",
      "  A = nx.adjacency_matrix(G)\n"
     ]
    },
    {
     "name": "stdout",
     "output_type": "stream",
     "text": [
      "core-periphery tests using the BE approach\n",
      "test on day 2000-05-03 00:00:00\n"
     ]
    },
    {
     "name": "stderr",
     "output_type": "stream",
     "text": [
      "c:\\Users\\VictorLeCoz\\Anaconda3\\envs\\interbank_network\\lib\\site-packages\\cpnet\\qstest.py:35: FutureWarning: adjacency_matrix will return a scipy.sparse array instead of a matrix in Networkx 3.0.\n",
      "  Ar = sparse.csr_matrix(nx.adjacency_matrix(Gr))\n",
      "100%|██████████| 100/100 [00:00<00:00, 1486.60it/s]\n"
     ]
    },
    {
     "name": "stdout",
     "output_type": "stream",
     "text": [
      "test on day 2007-05-29 00:00:00\n"
     ]
    },
    {
     "name": "stderr",
     "output_type": "stream",
     "text": [
      "100%|██████████| 100/100 [00:00<00:00, 892.24it/s]\n",
      "c:\\Users\\VictorLeCoz\\Anaconda3\\envs\\interbank_network\\lib\\site-packages\\cpnet\\utils.py:20: FutureWarning: adjacency_matrix will return a scipy.sparse array instead of a matrix in Networkx 3.0.\n",
      "  sparse.csr_matrix(nx.adjacency_matrix(net), dtype=np.float64),\n",
      "c:\\Users\\VictorLeCoz\\Anaconda3\\envs\\interbank_network\\lib\\site-packages\\cpnet\\qstest.py:96: FutureWarning: adjacency_matrix will return a scipy.sparse array instead of a matrix in Networkx 3.0.\n",
      "  A = nx.adjacency_matrix(G)\n"
     ]
    },
    {
     "name": "stdout",
     "output_type": "stream",
     "text": [
      "test on day 2014-06-26 00:00:00\n"
     ]
    },
    {
     "name": "stderr",
     "output_type": "stream",
     "text": [
      "c:\\Users\\VictorLeCoz\\Anaconda3\\envs\\interbank_network\\lib\\site-packages\\cpnet\\qstest.py:35: FutureWarning: adjacency_matrix will return a scipy.sparse array instead of a matrix in Networkx 3.0.\n",
      "  Ar = sparse.csr_matrix(nx.adjacency_matrix(Gr))\n",
      "100%|██████████| 100/100 [00:00<00:00, 972.22it/s]\n",
      "c:\\Users\\VictorLeCoz\\Anaconda3\\envs\\interbank_network\\lib\\site-packages\\cpnet\\utils.py:20: FutureWarning: adjacency_matrix will return a scipy.sparse array instead of a matrix in Networkx 3.0.\n",
      "  sparse.csr_matrix(nx.adjacency_matrix(net), dtype=np.float64),\n",
      "c:\\Users\\VictorLeCoz\\Anaconda3\\envs\\interbank_network\\lib\\site-packages\\cpnet\\qstest.py:96: FutureWarning: adjacency_matrix will return a scipy.sparse array instead of a matrix in Networkx 3.0.\n",
      "  A = nx.adjacency_matrix(G)\n"
     ]
    },
    {
     "name": "stdout",
     "output_type": "stream",
     "text": [
      "test on day 2023-05-04 00:00:00\n"
     ]
    },
    {
     "name": "stderr",
     "output_type": "stream",
     "text": [
      "c:\\Users\\VictorLeCoz\\Anaconda3\\envs\\interbank_network\\lib\\site-packages\\cpnet\\qstest.py:35: FutureWarning: adjacency_matrix will return a scipy.sparse array instead of a matrix in Networkx 3.0.\n",
      "  Ar = sparse.csr_matrix(nx.adjacency_matrix(Gr))\n",
      "100%|██████████| 100/100 [00:00<00:00, 974.70it/s]\n",
      "c:\\Users\\VictorLeCoz\\Anaconda3\\envs\\interbank_network\\lib\\site-packages\\cpnet\\utils.py:20: FutureWarning: adjacency_matrix will return a scipy.sparse array instead of a matrix in Networkx 3.0.\n",
      "  sparse.csr_matrix(nx.adjacency_matrix(net), dtype=np.float64),\n",
      "c:\\Users\\VictorLeCoz\\Anaconda3\\envs\\interbank_network\\lib\\site-packages\\cpnet\\qstest.py:96: FutureWarning: adjacency_matrix will return a scipy.sparse array instead of a matrix in Networkx 3.0.\n",
      "  A = nx.adjacency_matrix(G)\n"
     ]
    },
    {
     "name": "stdout",
     "output_type": "stream",
     "text": [
      "test on day 2024-01-12 00:00:00\n"
     ]
    },
    {
     "name": "stderr",
     "output_type": "stream",
     "text": [
      "c:\\Users\\VictorLeCoz\\Anaconda3\\envs\\interbank_network\\lib\\site-packages\\cpnet\\qstest.py:35: FutureWarning: adjacency_matrix will return a scipy.sparse array instead of a matrix in Networkx 3.0.\n",
      "  Ar = sparse.csr_matrix(nx.adjacency_matrix(Gr))\n",
      "100%|██████████| 100/100 [00:00<00:00, 955.40it/s]\n",
      " 80%|████████  | 4/5 [02:22<00:32, 32.31s/it]c:\\Users\\VictorLeCoz\\Anaconda3\\envs\\interbank_network\\lib\\site-packages\\cpnet\\utils.py:20: FutureWarning: adjacency_matrix will return a scipy.sparse array instead of a matrix in Networkx 3.0.\n",
      "  sparse.csr_matrix(nx.adjacency_matrix(net), dtype=np.float64),\n",
      "c:\\Users\\VictorLeCoz\\Anaconda3\\envs\\interbank_network\\lib\\site-packages\\cpnet\\qstest.py:96: FutureWarning: adjacency_matrix will return a scipy.sparse array instead of a matrix in Networkx 3.0.\n",
      "  A = nx.adjacency_matrix(G)\n"
     ]
    },
    {
     "name": "stdout",
     "output_type": "stream",
     "text": [
      "core-periphery tests using the KM_ER approach\n",
      "test on day 2000-05-03 00:00:00\n"
     ]
    },
    {
     "name": "stderr",
     "output_type": "stream",
     "text": [
      "c:\\Users\\VictorLeCoz\\Anaconda3\\envs\\interbank_network\\lib\\site-packages\\cpnet\\qstest.py:35: FutureWarning: adjacency_matrix will return a scipy.sparse array instead of a matrix in Networkx 3.0.\n",
      "  Ar = sparse.csr_matrix(nx.adjacency_matrix(Gr))\n",
      " 23%|██▎       | 23/100 [00:00<00:00, 522.55it/s]\n"
     ]
    },
    {
     "name": "stdout",
     "output_type": "stream",
     "text": [
      "test on day 2007-05-29 00:00:00\n"
     ]
    },
    {
     "name": "stderr",
     "output_type": "stream",
     "text": [
      "  1%|          | 1/100 [00:00<00:00, 334.58it/s]\n",
      "c:\\Users\\VictorLeCoz\\Anaconda3\\envs\\interbank_network\\lib\\site-packages\\cpnet\\utils.py:20: FutureWarning: adjacency_matrix will return a scipy.sparse array instead of a matrix in Networkx 3.0.\n",
      "  sparse.csr_matrix(nx.adjacency_matrix(net), dtype=np.float64),\n",
      "c:\\Users\\VictorLeCoz\\Anaconda3\\envs\\interbank_network\\lib\\site-packages\\cpnet\\qstest.py:96: FutureWarning: adjacency_matrix will return a scipy.sparse array instead of a matrix in Networkx 3.0.\n",
      "  A = nx.adjacency_matrix(G)\n"
     ]
    },
    {
     "name": "stdout",
     "output_type": "stream",
     "text": [
      "test on day 2014-06-26 00:00:00\n"
     ]
    },
    {
     "name": "stderr",
     "output_type": "stream",
     "text": [
      "c:\\Users\\VictorLeCoz\\Anaconda3\\envs\\interbank_network\\lib\\site-packages\\cpnet\\qstest.py:35: FutureWarning: adjacency_matrix will return a scipy.sparse array instead of a matrix in Networkx 3.0.\n",
      "  Ar = sparse.csr_matrix(nx.adjacency_matrix(Gr))\n",
      " 16%|█▌        | 16/100 [00:00<00:00, 445.10it/s]\n",
      "c:\\Users\\VictorLeCoz\\Anaconda3\\envs\\interbank_network\\lib\\site-packages\\cpnet\\utils.py:20: FutureWarning: adjacency_matrix will return a scipy.sparse array instead of a matrix in Networkx 3.0.\n",
      "  sparse.csr_matrix(nx.adjacency_matrix(net), dtype=np.float64),\n",
      "c:\\Users\\VictorLeCoz\\Anaconda3\\envs\\interbank_network\\lib\\site-packages\\cpnet\\qstest.py:96: FutureWarning: adjacency_matrix will return a scipy.sparse array instead of a matrix in Networkx 3.0.\n",
      "  A = nx.adjacency_matrix(G)\n"
     ]
    },
    {
     "name": "stdout",
     "output_type": "stream",
     "text": [
      "test on day 2023-05-04 00:00:00\n"
     ]
    },
    {
     "name": "stderr",
     "output_type": "stream",
     "text": [
      "c:\\Users\\VictorLeCoz\\Anaconda3\\envs\\interbank_network\\lib\\site-packages\\cpnet\\qstest.py:35: FutureWarning: adjacency_matrix will return a scipy.sparse array instead of a matrix in Networkx 3.0.\n",
      "  Ar = sparse.csr_matrix(nx.adjacency_matrix(Gr))\n",
      "  8%|▊         | 8/100 [00:00<00:00, 443.98it/s]\n",
      "c:\\Users\\VictorLeCoz\\Anaconda3\\envs\\interbank_network\\lib\\site-packages\\cpnet\\utils.py:20: FutureWarning: adjacency_matrix will return a scipy.sparse array instead of a matrix in Networkx 3.0.\n",
      "  sparse.csr_matrix(nx.adjacency_matrix(net), dtype=np.float64),\n",
      "c:\\Users\\VictorLeCoz\\Anaconda3\\envs\\interbank_network\\lib\\site-packages\\cpnet\\qstest.py:96: FutureWarning: adjacency_matrix will return a scipy.sparse array instead of a matrix in Networkx 3.0.\n",
      "  A = nx.adjacency_matrix(G)\n"
     ]
    },
    {
     "name": "stdout",
     "output_type": "stream",
     "text": [
      "test on day 2024-01-12 00:00:00\n"
     ]
    },
    {
     "name": "stderr",
     "output_type": "stream",
     "text": [
      "c:\\Users\\VictorLeCoz\\Anaconda3\\envs\\interbank_network\\lib\\site-packages\\cpnet\\qstest.py:35: FutureWarning: adjacency_matrix will return a scipy.sparse array instead of a matrix in Networkx 3.0.\n",
      "  Ar = sparse.csr_matrix(nx.adjacency_matrix(Gr))\n",
      " 18%|█▊        | 18/100 [00:00<00:00, 538.14it/s]\n",
      "c:\\Users\\VictorLeCoz\\local\\Secured_interbank_network\\emp_metrics.py:310: PerformanceWarning: DataFrame is highly fragmented.  This is usually the result of calling `frame.insert` many times, which has poor performance.  Consider joining all columns at once using pd.concat(axis=1) instead. To get a de-fragmented frame, use `newframe = frame.copy()`\n",
      "  df_cpnet[f\"{col} {algo}-{agg_period}\"] = df_algo_cpnet[col]\n",
      "c:\\Users\\VictorLeCoz\\local\\Secured_interbank_network\\emp_metrics.py:310: PerformanceWarning: DataFrame is highly fragmented.  This is usually the result of calling `frame.insert` many times, which has poor performance.  Consider joining all columns at once using pd.concat(axis=1) instead. To get a de-fragmented frame, use `newframe = frame.copy()`\n",
      "  df_cpnet[f\"{col} {algo}-{agg_period}\"] = df_algo_cpnet[col]\n",
      "c:\\Users\\VictorLeCoz\\local\\Secured_interbank_network\\emp_metrics.py:310: PerformanceWarning: DataFrame is highly fragmented.  This is usually the result of calling `frame.insert` many times, which has poor performance.  Consider joining all columns at once using pd.concat(axis=1) instead. To get a de-fragmented frame, use `newframe = frame.copy()`\n",
      "  df_cpnet[f\"{col} {algo}-{agg_period}\"] = df_algo_cpnet[col]\n",
      "c:\\Users\\VictorLeCoz\\local\\Secured_interbank_network\\emp_metrics.py:310: PerformanceWarning: DataFrame is highly fragmented.  This is usually the result of calling `frame.insert` many times, which has poor performance.  Consider joining all columns at once using pd.concat(axis=1) instead. To get a de-fragmented frame, use `newframe = frame.copy()`\n",
      "  df_cpnet[f\"{col} {algo}-{agg_period}\"] = df_algo_cpnet[col]\n",
      "c:\\Users\\VictorLeCoz\\Anaconda3\\envs\\interbank_network\\lib\\site-packages\\cpnet\\utils.py:20: FutureWarning: adjacency_matrix will return a scipy.sparse array instead of a matrix in Networkx 3.0.\n",
      "  sparse.csr_matrix(nx.adjacency_matrix(net), dtype=np.float64),\n",
      "c:\\Users\\VictorLeCoz\\Anaconda3\\envs\\interbank_network\\lib\\site-packages\\cpnet\\qstest.py:96: FutureWarning: adjacency_matrix will return a scipy.sparse array instead of a matrix in Networkx 3.0.\n",
      "  A = nx.adjacency_matrix(G)\n"
     ]
    },
    {
     "name": "stdout",
     "output_type": "stream",
     "text": [
      "core-periphery tests using the KM_config approach\n",
      "test on day 2000-05-03 00:00:00\n"
     ]
    },
    {
     "name": "stderr",
     "output_type": "stream",
     "text": [
      "c:\\Users\\VictorLeCoz\\Anaconda3\\envs\\interbank_network\\lib\\site-packages\\cpnet\\qstest.py:35: FutureWarning: adjacency_matrix will return a scipy.sparse array instead of a matrix in Networkx 3.0.\n",
      "  Ar = sparse.csr_matrix(nx.adjacency_matrix(Gr))\n",
      "  4%|▍         | 4/100 [00:00<00:00, 406.52it/s]\n"
     ]
    },
    {
     "name": "stdout",
     "output_type": "stream",
     "text": [
      "test on day 2007-05-29 00:00:00\n"
     ]
    },
    {
     "name": "stderr",
     "output_type": "stream",
     "text": [
      "  0%|          | 0/100 [00:00<?, ?it/s]\n",
      "c:\\Users\\VictorLeCoz\\Anaconda3\\envs\\interbank_network\\lib\\site-packages\\cpnet\\utils.py:20: FutureWarning: adjacency_matrix will return a scipy.sparse array instead of a matrix in Networkx 3.0.\n",
      "  sparse.csr_matrix(nx.adjacency_matrix(net), dtype=np.float64),\n",
      "c:\\Users\\VictorLeCoz\\Anaconda3\\envs\\interbank_network\\lib\\site-packages\\cpnet\\qstest.py:96: FutureWarning: adjacency_matrix will return a scipy.sparse array instead of a matrix in Networkx 3.0.\n",
      "  A = nx.adjacency_matrix(G)\n"
     ]
    },
    {
     "name": "stdout",
     "output_type": "stream",
     "text": [
      "test on day 2014-06-26 00:00:00\n"
     ]
    },
    {
     "name": "stderr",
     "output_type": "stream",
     "text": [
      "c:\\Users\\VictorLeCoz\\Anaconda3\\envs\\interbank_network\\lib\\site-packages\\cpnet\\qstest.py:35: FutureWarning: adjacency_matrix will return a scipy.sparse array instead of a matrix in Networkx 3.0.\n",
      "  Ar = sparse.csr_matrix(nx.adjacency_matrix(Gr))\n",
      " 20%|██        | 20/100 [00:00<00:00, 484.92it/s]\n",
      "c:\\Users\\VictorLeCoz\\Anaconda3\\envs\\interbank_network\\lib\\site-packages\\cpnet\\utils.py:20: FutureWarning: adjacency_matrix will return a scipy.sparse array instead of a matrix in Networkx 3.0.\n",
      "  sparse.csr_matrix(nx.adjacency_matrix(net), dtype=np.float64),\n",
      "c:\\Users\\VictorLeCoz\\Anaconda3\\envs\\interbank_network\\lib\\site-packages\\cpnet\\qstest.py:96: FutureWarning: adjacency_matrix will return a scipy.sparse array instead of a matrix in Networkx 3.0.\n",
      "  A = nx.adjacency_matrix(G)\n"
     ]
    },
    {
     "name": "stdout",
     "output_type": "stream",
     "text": [
      "test on day 2023-05-04 00:00:00\n"
     ]
    },
    {
     "name": "stderr",
     "output_type": "stream",
     "text": [
      "c:\\Users\\VictorLeCoz\\Anaconda3\\envs\\interbank_network\\lib\\site-packages\\cpnet\\qstest.py:35: FutureWarning: adjacency_matrix will return a scipy.sparse array instead of a matrix in Networkx 3.0.\n",
      "  Ar = sparse.csr_matrix(nx.adjacency_matrix(Gr))\n",
      "  6%|▌         | 6/100 [00:00<00:00, 438.25it/s]\n",
      "c:\\Users\\VictorLeCoz\\Anaconda3\\envs\\interbank_network\\lib\\site-packages\\cpnet\\utils.py:20: FutureWarning: adjacency_matrix will return a scipy.sparse array instead of a matrix in Networkx 3.0.\n",
      "  sparse.csr_matrix(nx.adjacency_matrix(net), dtype=np.float64),\n",
      "c:\\Users\\VictorLeCoz\\Anaconda3\\envs\\interbank_network\\lib\\site-packages\\cpnet\\qstest.py:96: FutureWarning: adjacency_matrix will return a scipy.sparse array instead of a matrix in Networkx 3.0.\n",
      "  A = nx.adjacency_matrix(G)\n"
     ]
    },
    {
     "name": "stdout",
     "output_type": "stream",
     "text": [
      "test on day 2024-01-12 00:00:00\n"
     ]
    },
    {
     "name": "stderr",
     "output_type": "stream",
     "text": [
      "c:\\Users\\VictorLeCoz\\Anaconda3\\envs\\interbank_network\\lib\\site-packages\\cpnet\\qstest.py:35: FutureWarning: adjacency_matrix will return a scipy.sparse array instead of a matrix in Networkx 3.0.\n",
      "  Ar = sparse.csr_matrix(nx.adjacency_matrix(Gr))\n",
      " 12%|█▏        | 12/100 [00:00<00:00, 317.46it/s]\n",
      "c:\\Users\\VictorLeCoz\\local\\Secured_interbank_network\\emp_metrics.py:310: PerformanceWarning: DataFrame is highly fragmented.  This is usually the result of calling `frame.insert` many times, which has poor performance.  Consider joining all columns at once using pd.concat(axis=1) instead. To get a de-fragmented frame, use `newframe = frame.copy()`\n",
      "  df_cpnet[f\"{col} {algo}-{agg_period}\"] = df_algo_cpnet[col]\n",
      "c:\\Users\\VictorLeCoz\\local\\Secured_interbank_network\\emp_metrics.py:310: PerformanceWarning: DataFrame is highly fragmented.  This is usually the result of calling `frame.insert` many times, which has poor performance.  Consider joining all columns at once using pd.concat(axis=1) instead. To get a de-fragmented frame, use `newframe = frame.copy()`\n",
      "  df_cpnet[f\"{col} {algo}-{agg_period}\"] = df_algo_cpnet[col]\n",
      "c:\\Users\\VictorLeCoz\\local\\Secured_interbank_network\\emp_metrics.py:310: PerformanceWarning: DataFrame is highly fragmented.  This is usually the result of calling `frame.insert` many times, which has poor performance.  Consider joining all columns at once using pd.concat(axis=1) instead. To get a de-fragmented frame, use `newframe = frame.copy()`\n",
      "  df_cpnet[f\"{col} {algo}-{agg_period}\"] = df_algo_cpnet[col]\n",
      "c:\\Users\\VictorLeCoz\\local\\Secured_interbank_network\\emp_metrics.py:310: PerformanceWarning: DataFrame is highly fragmented.  This is usually the result of calling `frame.insert` many times, which has poor performance.  Consider joining all columns at once using pd.concat(axis=1) instead. To get a de-fragmented frame, use `newframe = frame.copy()`\n",
      "  df_cpnet[f\"{col} {algo}-{agg_period}\"] = df_algo_cpnet[col]\n",
      "c:\\Users\\VictorLeCoz\\Anaconda3\\envs\\interbank_network\\lib\\site-packages\\cpnet\\utils.py:20: FutureWarning: adjacency_matrix will return a scipy.sparse array instead of a matrix in Networkx 3.0.\n",
      "  sparse.csr_matrix(nx.adjacency_matrix(net), dtype=np.float64),\n",
      "c:\\Users\\VictorLeCoz\\Anaconda3\\envs\\interbank_network\\lib\\site-packages\\cpnet\\qstest.py:96: FutureWarning: adjacency_matrix will return a scipy.sparse array instead of a matrix in Networkx 3.0.\n",
      "  A = nx.adjacency_matrix(G)\n"
     ]
    },
    {
     "name": "stdout",
     "output_type": "stream",
     "text": [
      "core-periphery tests using the Rombach approach\n",
      "test on day 2000-05-03 00:00:00\n"
     ]
    },
    {
     "name": "stderr",
     "output_type": "stream",
     "text": [
      "c:\\Users\\VictorLeCoz\\Anaconda3\\envs\\interbank_network\\lib\\site-packages\\cpnet\\qstest.py:35: FutureWarning: adjacency_matrix will return a scipy.sparse array instead of a matrix in Networkx 3.0.\n",
      "  Ar = sparse.csr_matrix(nx.adjacency_matrix(Gr))\n",
      "100%|██████████| 100/100 [00:00<00:00, 365.84it/s]\n"
     ]
    },
    {
     "name": "stdout",
     "output_type": "stream",
     "text": [
      "test on day 2007-05-29 00:00:00\n"
     ]
    },
    {
     "name": "stderr",
     "output_type": "stream",
     "text": [
      "100%|██████████| 100/100 [00:00<00:00, 160.31it/s]\n",
      "c:\\Users\\VictorLeCoz\\Anaconda3\\envs\\interbank_network\\lib\\site-packages\\cpnet\\utils.py:20: FutureWarning: adjacency_matrix will return a scipy.sparse array instead of a matrix in Networkx 3.0.\n",
      "  sparse.csr_matrix(nx.adjacency_matrix(net), dtype=np.float64),\n",
      "c:\\Users\\VictorLeCoz\\Anaconda3\\envs\\interbank_network\\lib\\site-packages\\cpnet\\qstest.py:96: FutureWarning: adjacency_matrix will return a scipy.sparse array instead of a matrix in Networkx 3.0.\n",
      "  A = nx.adjacency_matrix(G)\n"
     ]
    },
    {
     "name": "stdout",
     "output_type": "stream",
     "text": [
      "test on day 2014-06-26 00:00:00\n"
     ]
    },
    {
     "name": "stderr",
     "output_type": "stream",
     "text": [
      "c:\\Users\\VictorLeCoz\\Anaconda3\\envs\\interbank_network\\lib\\site-packages\\cpnet\\qstest.py:35: FutureWarning: adjacency_matrix will return a scipy.sparse array instead of a matrix in Networkx 3.0.\n",
      "  Ar = sparse.csr_matrix(nx.adjacency_matrix(Gr))\n",
      "100%|██████████| 100/100 [00:00<00:00, 234.92it/s]\n",
      "c:\\Users\\VictorLeCoz\\Anaconda3\\envs\\interbank_network\\lib\\site-packages\\cpnet\\utils.py:20: FutureWarning: adjacency_matrix will return a scipy.sparse array instead of a matrix in Networkx 3.0.\n",
      "  sparse.csr_matrix(nx.adjacency_matrix(net), dtype=np.float64),\n",
      "c:\\Users\\VictorLeCoz\\Anaconda3\\envs\\interbank_network\\lib\\site-packages\\cpnet\\qstest.py:96: FutureWarning: adjacency_matrix will return a scipy.sparse array instead of a matrix in Networkx 3.0.\n",
      "  A = nx.adjacency_matrix(G)\n"
     ]
    },
    {
     "name": "stdout",
     "output_type": "stream",
     "text": [
      "test on day 2023-05-04 00:00:00\n"
     ]
    },
    {
     "name": "stderr",
     "output_type": "stream",
     "text": [
      "c:\\Users\\VictorLeCoz\\Anaconda3\\envs\\interbank_network\\lib\\site-packages\\cpnet\\qstest.py:35: FutureWarning: adjacency_matrix will return a scipy.sparse array instead of a matrix in Networkx 3.0.\n",
      "  Ar = sparse.csr_matrix(nx.adjacency_matrix(Gr))\n",
      "100%|██████████| 100/100 [00:01<00:00, 97.55it/s]\n",
      "c:\\Users\\VictorLeCoz\\Anaconda3\\envs\\interbank_network\\lib\\site-packages\\cpnet\\utils.py:20: FutureWarning: adjacency_matrix will return a scipy.sparse array instead of a matrix in Networkx 3.0.\n",
      "  sparse.csr_matrix(nx.adjacency_matrix(net), dtype=np.float64),\n",
      "c:\\Users\\VictorLeCoz\\Anaconda3\\envs\\interbank_network\\lib\\site-packages\\cpnet\\qstest.py:96: FutureWarning: adjacency_matrix will return a scipy.sparse array instead of a matrix in Networkx 3.0.\n",
      "  A = nx.adjacency_matrix(G)\n"
     ]
    },
    {
     "name": "stdout",
     "output_type": "stream",
     "text": [
      "test on day 2024-01-12 00:00:00\n"
     ]
    },
    {
     "name": "stderr",
     "output_type": "stream",
     "text": [
      "c:\\Users\\VictorLeCoz\\Anaconda3\\envs\\interbank_network\\lib\\site-packages\\cpnet\\qstest.py:35: FutureWarning: adjacency_matrix will return a scipy.sparse array instead of a matrix in Networkx 3.0.\n",
      "  Ar = sparse.csr_matrix(nx.adjacency_matrix(Gr))\n",
      "100%|██████████| 100/100 [00:00<00:00, 426.28it/s]\n",
      "c:\\Users\\VictorLeCoz\\local\\Secured_interbank_network\\emp_metrics.py:310: PerformanceWarning: DataFrame is highly fragmented.  This is usually the result of calling `frame.insert` many times, which has poor performance.  Consider joining all columns at once using pd.concat(axis=1) instead. To get a de-fragmented frame, use `newframe = frame.copy()`\n",
      "  df_cpnet[f\"{col} {algo}-{agg_period}\"] = df_algo_cpnet[col]\n",
      "c:\\Users\\VictorLeCoz\\local\\Secured_interbank_network\\emp_metrics.py:310: PerformanceWarning: DataFrame is highly fragmented.  This is usually the result of calling `frame.insert` many times, which has poor performance.  Consider joining all columns at once using pd.concat(axis=1) instead. To get a de-fragmented frame, use `newframe = frame.copy()`\n",
      "  df_cpnet[f\"{col} {algo}-{agg_period}\"] = df_algo_cpnet[col]\n",
      "c:\\Users\\VictorLeCoz\\local\\Secured_interbank_network\\emp_metrics.py:310: PerformanceWarning: DataFrame is highly fragmented.  This is usually the result of calling `frame.insert` many times, which has poor performance.  Consider joining all columns at once using pd.concat(axis=1) instead. To get a de-fragmented frame, use `newframe = frame.copy()`\n",
      "  df_cpnet[f\"{col} {algo}-{agg_period}\"] = df_algo_cpnet[col]\n",
      "c:\\Users\\VictorLeCoz\\local\\Secured_interbank_network\\emp_metrics.py:310: PerformanceWarning: DataFrame is highly fragmented.  This is usually the result of calling `frame.insert` many times, which has poor performance.  Consider joining all columns at once using pd.concat(axis=1) instead. To get a de-fragmented frame, use `newframe = frame.copy()`\n",
      "  df_cpnet[f\"{col} {algo}-{agg_period}\"] = df_algo_cpnet[col]\n",
      "c:\\Users\\VictorLeCoz\\Anaconda3\\envs\\interbank_network\\lib\\site-packages\\cpnet\\utils.py:20: FutureWarning: adjacency_matrix will return a scipy.sparse array instead of a matrix in Networkx 3.0.\n",
      "  sparse.csr_matrix(nx.adjacency_matrix(net), dtype=np.float64),\n",
      "c:\\Users\\VictorLeCoz\\Anaconda3\\envs\\interbank_network\\lib\\site-packages\\cpnet\\qstest.py:96: FutureWarning: adjacency_matrix will return a scipy.sparse array instead of a matrix in Networkx 3.0.\n",
      "  A = nx.adjacency_matrix(G)\n"
     ]
    },
    {
     "name": "stdout",
     "output_type": "stream",
     "text": [
      "core-periphery tests using the Rossa approach\n",
      "test on day 2000-05-03 00:00:00\n"
     ]
    },
    {
     "name": "stderr",
     "output_type": "stream",
     "text": [
      "c:\\Users\\VictorLeCoz\\Anaconda3\\envs\\interbank_network\\lib\\site-packages\\cpnet\\qstest.py:35: FutureWarning: adjacency_matrix will return a scipy.sparse array instead of a matrix in Networkx 3.0.\n",
      "  Ar = sparse.csr_matrix(nx.adjacency_matrix(Gr))\n",
      "100%|██████████| 100/100 [00:00<00:00, 417.41it/s]\n"
     ]
    },
    {
     "name": "stdout",
     "output_type": "stream",
     "text": [
      "test on day 2007-05-29 00:00:00\n"
     ]
    },
    {
     "name": "stderr",
     "output_type": "stream",
     "text": [
      "100%|██████████| 100/100 [00:00<00:00, 373.98it/s]\n",
      "c:\\Users\\VictorLeCoz\\Anaconda3\\envs\\interbank_network\\lib\\site-packages\\cpnet\\utils.py:20: FutureWarning: adjacency_matrix will return a scipy.sparse array instead of a matrix in Networkx 3.0.\n",
      "  sparse.csr_matrix(nx.adjacency_matrix(net), dtype=np.float64),\n",
      "c:\\Users\\VictorLeCoz\\Anaconda3\\envs\\interbank_network\\lib\\site-packages\\cpnet\\qstest.py:96: FutureWarning: adjacency_matrix will return a scipy.sparse array instead of a matrix in Networkx 3.0.\n",
      "  A = nx.adjacency_matrix(G)\n"
     ]
    },
    {
     "name": "stdout",
     "output_type": "stream",
     "text": [
      "test on day 2014-06-26 00:00:00\n"
     ]
    },
    {
     "name": "stderr",
     "output_type": "stream",
     "text": [
      "c:\\Users\\VictorLeCoz\\Anaconda3\\envs\\interbank_network\\lib\\site-packages\\cpnet\\qstest.py:35: FutureWarning: adjacency_matrix will return a scipy.sparse array instead of a matrix in Networkx 3.0.\n",
      "  Ar = sparse.csr_matrix(nx.adjacency_matrix(Gr))\n",
      "100%|██████████| 100/100 [00:00<00:00, 411.12it/s]\n",
      "c:\\Users\\VictorLeCoz\\Anaconda3\\envs\\interbank_network\\lib\\site-packages\\cpnet\\utils.py:20: FutureWarning: adjacency_matrix will return a scipy.sparse array instead of a matrix in Networkx 3.0.\n",
      "  sparse.csr_matrix(nx.adjacency_matrix(net), dtype=np.float64),\n",
      "c:\\Users\\VictorLeCoz\\Anaconda3\\envs\\interbank_network\\lib\\site-packages\\cpnet\\qstest.py:96: FutureWarning: adjacency_matrix will return a scipy.sparse array instead of a matrix in Networkx 3.0.\n",
      "  A = nx.adjacency_matrix(G)\n"
     ]
    },
    {
     "name": "stdout",
     "output_type": "stream",
     "text": [
      "test on day 2023-05-04 00:00:00\n"
     ]
    },
    {
     "name": "stderr",
     "output_type": "stream",
     "text": [
      "c:\\Users\\VictorLeCoz\\Anaconda3\\envs\\interbank_network\\lib\\site-packages\\cpnet\\qstest.py:35: FutureWarning: adjacency_matrix will return a scipy.sparse array instead of a matrix in Networkx 3.0.\n",
      "  Ar = sparse.csr_matrix(nx.adjacency_matrix(Gr))\n",
      "100%|██████████| 100/100 [00:00<00:00, 415.32it/s]\n",
      "c:\\Users\\VictorLeCoz\\Anaconda3\\envs\\interbank_network\\lib\\site-packages\\cpnet\\utils.py:20: FutureWarning: adjacency_matrix will return a scipy.sparse array instead of a matrix in Networkx 3.0.\n",
      "  sparse.csr_matrix(nx.adjacency_matrix(net), dtype=np.float64),\n",
      "c:\\Users\\VictorLeCoz\\Anaconda3\\envs\\interbank_network\\lib\\site-packages\\cpnet\\qstest.py:96: FutureWarning: adjacency_matrix will return a scipy.sparse array instead of a matrix in Networkx 3.0.\n",
      "  A = nx.adjacency_matrix(G)\n"
     ]
    },
    {
     "name": "stdout",
     "output_type": "stream",
     "text": [
      "test on day 2024-01-12 00:00:00\n"
     ]
    },
    {
     "name": "stderr",
     "output_type": "stream",
     "text": [
      "c:\\Users\\VictorLeCoz\\Anaconda3\\envs\\interbank_network\\lib\\site-packages\\cpnet\\qstest.py:35: FutureWarning: adjacency_matrix will return a scipy.sparse array instead of a matrix in Networkx 3.0.\n",
      "  Ar = sparse.csr_matrix(nx.adjacency_matrix(Gr))\n",
      "100%|██████████| 100/100 [00:00<00:00, 419.21it/s]\n",
      "c:\\Users\\VictorLeCoz\\local\\Secured_interbank_network\\emp_metrics.py:310: PerformanceWarning: DataFrame is highly fragmented.  This is usually the result of calling `frame.insert` many times, which has poor performance.  Consider joining all columns at once using pd.concat(axis=1) instead. To get a de-fragmented frame, use `newframe = frame.copy()`\n",
      "  df_cpnet[f\"{col} {algo}-{agg_period}\"] = df_algo_cpnet[col]\n",
      "c:\\Users\\VictorLeCoz\\local\\Secured_interbank_network\\emp_metrics.py:310: PerformanceWarning: DataFrame is highly fragmented.  This is usually the result of calling `frame.insert` many times, which has poor performance.  Consider joining all columns at once using pd.concat(axis=1) instead. To get a de-fragmented frame, use `newframe = frame.copy()`\n",
      "  df_cpnet[f\"{col} {algo}-{agg_period}\"] = df_algo_cpnet[col]\n",
      "c:\\Users\\VictorLeCoz\\local\\Secured_interbank_network\\emp_metrics.py:310: PerformanceWarning: DataFrame is highly fragmented.  This is usually the result of calling `frame.insert` many times, which has poor performance.  Consider joining all columns at once using pd.concat(axis=1) instead. To get a de-fragmented frame, use `newframe = frame.copy()`\n",
      "  df_cpnet[f\"{col} {algo}-{agg_period}\"] = df_algo_cpnet[col]\n",
      "c:\\Users\\VictorLeCoz\\local\\Secured_interbank_network\\emp_metrics.py:310: PerformanceWarning: DataFrame is highly fragmented.  This is usually the result of calling `frame.insert` many times, which has poor performance.  Consider joining all columns at once using pd.concat(axis=1) instead. To get a de-fragmented frame, use `newframe = frame.copy()`\n",
      "  df_cpnet[f\"{col} {algo}-{agg_period}\"] = df_algo_cpnet[col]\n",
      "c:\\Users\\VictorLeCoz\\Anaconda3\\envs\\interbank_network\\lib\\site-packages\\cpnet\\utils.py:20: FutureWarning: adjacency_matrix will return a scipy.sparse array instead of a matrix in Networkx 3.0.\n",
      "  sparse.csr_matrix(nx.adjacency_matrix(net), dtype=np.float64),\n",
      "c:\\Users\\VictorLeCoz\\Anaconda3\\envs\\interbank_network\\lib\\site-packages\\cpnet\\qstest.py:96: FutureWarning: adjacency_matrix will return a scipy.sparse array instead of a matrix in Networkx 3.0.\n",
      "  A = nx.adjacency_matrix(G)\n"
     ]
    },
    {
     "name": "stdout",
     "output_type": "stream",
     "text": [
      "core-periphery tests using the LapCore approach\n",
      "test on day 2000-05-03 00:00:00\n"
     ]
    },
    {
     "name": "stderr",
     "output_type": "stream",
     "text": [
      "c:\\Users\\VictorLeCoz\\Anaconda3\\envs\\interbank_network\\lib\\site-packages\\cpnet\\qstest.py:35: FutureWarning: adjacency_matrix will return a scipy.sparse array instead of a matrix in Networkx 3.0.\n",
      "  Ar = sparse.csr_matrix(nx.adjacency_matrix(Gr))\n",
      "100%|██████████| 100/100 [00:00<00:00, 316.89it/s]\n"
     ]
    },
    {
     "name": "stdout",
     "output_type": "stream",
     "text": [
      "test on day 2007-05-29 00:00:00\n"
     ]
    },
    {
     "name": "stderr",
     "output_type": "stream",
     "text": [
      "100%|██████████| 100/100 [00:00<00:00, 284.25it/s]\n",
      "c:\\Users\\VictorLeCoz\\Anaconda3\\envs\\interbank_network\\lib\\site-packages\\cpnet\\utils.py:20: FutureWarning: adjacency_matrix will return a scipy.sparse array instead of a matrix in Networkx 3.0.\n",
      "  sparse.csr_matrix(nx.adjacency_matrix(net), dtype=np.float64),\n",
      "c:\\Users\\VictorLeCoz\\Anaconda3\\envs\\interbank_network\\lib\\site-packages\\cpnet\\qstest.py:96: FutureWarning: adjacency_matrix will return a scipy.sparse array instead of a matrix in Networkx 3.0.\n",
      "  A = nx.adjacency_matrix(G)\n"
     ]
    },
    {
     "name": "stdout",
     "output_type": "stream",
     "text": [
      "test on day 2014-06-26 00:00:00\n"
     ]
    },
    {
     "name": "stderr",
     "output_type": "stream",
     "text": [
      "c:\\Users\\VictorLeCoz\\Anaconda3\\envs\\interbank_network\\lib\\site-packages\\cpnet\\qstest.py:35: FutureWarning: adjacency_matrix will return a scipy.sparse array instead of a matrix in Networkx 3.0.\n",
      "  Ar = sparse.csr_matrix(nx.adjacency_matrix(Gr))\n",
      "100%|██████████| 100/100 [00:00<00:00, 310.20it/s]\n",
      "c:\\Users\\VictorLeCoz\\Anaconda3\\envs\\interbank_network\\lib\\site-packages\\cpnet\\utils.py:20: FutureWarning: adjacency_matrix will return a scipy.sparse array instead of a matrix in Networkx 3.0.\n",
      "  sparse.csr_matrix(nx.adjacency_matrix(net), dtype=np.float64),\n",
      "c:\\Users\\VictorLeCoz\\Anaconda3\\envs\\interbank_network\\lib\\site-packages\\cpnet\\qstest.py:96: FutureWarning: adjacency_matrix will return a scipy.sparse array instead of a matrix in Networkx 3.0.\n",
      "  A = nx.adjacency_matrix(G)\n"
     ]
    },
    {
     "name": "stdout",
     "output_type": "stream",
     "text": [
      "test on day 2023-05-04 00:00:00\n"
     ]
    },
    {
     "name": "stderr",
     "output_type": "stream",
     "text": [
      "c:\\Users\\VictorLeCoz\\Anaconda3\\envs\\interbank_network\\lib\\site-packages\\cpnet\\qstest.py:35: FutureWarning: adjacency_matrix will return a scipy.sparse array instead of a matrix in Networkx 3.0.\n",
      "  Ar = sparse.csr_matrix(nx.adjacency_matrix(Gr))\n",
      "100%|██████████| 100/100 [00:00<00:00, 268.55it/s]\n",
      "c:\\Users\\VictorLeCoz\\Anaconda3\\envs\\interbank_network\\lib\\site-packages\\cpnet\\utils.py:20: FutureWarning: adjacency_matrix will return a scipy.sparse array instead of a matrix in Networkx 3.0.\n",
      "  sparse.csr_matrix(nx.adjacency_matrix(net), dtype=np.float64),\n",
      "c:\\Users\\VictorLeCoz\\Anaconda3\\envs\\interbank_network\\lib\\site-packages\\cpnet\\qstest.py:96: FutureWarning: adjacency_matrix will return a scipy.sparse array instead of a matrix in Networkx 3.0.\n",
      "  A = nx.adjacency_matrix(G)\n"
     ]
    },
    {
     "name": "stdout",
     "output_type": "stream",
     "text": [
      "test on day 2024-01-12 00:00:00\n"
     ]
    },
    {
     "name": "stderr",
     "output_type": "stream",
     "text": [
      "c:\\Users\\VictorLeCoz\\Anaconda3\\envs\\interbank_network\\lib\\site-packages\\cpnet\\qstest.py:35: FutureWarning: adjacency_matrix will return a scipy.sparse array instead of a matrix in Networkx 3.0.\n",
      "  Ar = sparse.csr_matrix(nx.adjacency_matrix(Gr))\n",
      "100%|██████████| 100/100 [00:00<00:00, 316.33it/s]\n",
      "c:\\Users\\VictorLeCoz\\local\\Secured_interbank_network\\emp_metrics.py:310: PerformanceWarning: DataFrame is highly fragmented.  This is usually the result of calling `frame.insert` many times, which has poor performance.  Consider joining all columns at once using pd.concat(axis=1) instead. To get a de-fragmented frame, use `newframe = frame.copy()`\n",
      "  df_cpnet[f\"{col} {algo}-{agg_period}\"] = df_algo_cpnet[col]\n",
      "c:\\Users\\VictorLeCoz\\local\\Secured_interbank_network\\emp_metrics.py:310: PerformanceWarning: DataFrame is highly fragmented.  This is usually the result of calling `frame.insert` many times, which has poor performance.  Consider joining all columns at once using pd.concat(axis=1) instead. To get a de-fragmented frame, use `newframe = frame.copy()`\n",
      "  df_cpnet[f\"{col} {algo}-{agg_period}\"] = df_algo_cpnet[col]\n",
      "c:\\Users\\VictorLeCoz\\local\\Secured_interbank_network\\emp_metrics.py:310: PerformanceWarning: DataFrame is highly fragmented.  This is usually the result of calling `frame.insert` many times, which has poor performance.  Consider joining all columns at once using pd.concat(axis=1) instead. To get a de-fragmented frame, use `newframe = frame.copy()`\n",
      "  df_cpnet[f\"{col} {algo}-{agg_period}\"] = df_algo_cpnet[col]\n",
      "c:\\Users\\VictorLeCoz\\local\\Secured_interbank_network\\emp_metrics.py:310: PerformanceWarning: DataFrame is highly fragmented.  This is usually the result of calling `frame.insert` many times, which has poor performance.  Consider joining all columns at once using pd.concat(axis=1) instead. To get a de-fragmented frame, use `newframe = frame.copy()`\n",
      "  df_cpnet[f\"{col} {algo}-{agg_period}\"] = df_algo_cpnet[col]\n",
      "c:\\Users\\VictorLeCoz\\Anaconda3\\envs\\interbank_network\\lib\\site-packages\\cpnet\\utils.py:20: FutureWarning: adjacency_matrix will return a scipy.sparse array instead of a matrix in Networkx 3.0.\n",
      "  sparse.csr_matrix(nx.adjacency_matrix(net), dtype=np.float64),\n",
      "c:\\Users\\VictorLeCoz\\Anaconda3\\envs\\interbank_network\\lib\\site-packages\\cpnet\\qstest.py:96: FutureWarning: adjacency_matrix will return a scipy.sparse array instead of a matrix in Networkx 3.0.\n",
      "  A = nx.adjacency_matrix(G)\n"
     ]
    },
    {
     "name": "stdout",
     "output_type": "stream",
     "text": [
      "core-periphery tests using the LapSgnCore approach\n",
      "test on day 2000-05-03 00:00:00\n"
     ]
    },
    {
     "name": "stderr",
     "output_type": "stream",
     "text": [
      "c:\\Users\\VictorLeCoz\\Anaconda3\\envs\\interbank_network\\lib\\site-packages\\cpnet\\qstest.py:35: FutureWarning: adjacency_matrix will return a scipy.sparse array instead of a matrix in Networkx 3.0.\n",
      "  Ar = sparse.csr_matrix(nx.adjacency_matrix(Gr))\n",
      "100%|██████████| 100/100 [00:00<00:00, 565.86it/s]\n"
     ]
    },
    {
     "name": "stdout",
     "output_type": "stream",
     "text": [
      "test on day 2007-05-29 00:00:00\n"
     ]
    },
    {
     "name": "stderr",
     "output_type": "stream",
     "text": [
      "100%|██████████| 100/100 [00:00<00:00, 576.90it/s]\n",
      "c:\\Users\\VictorLeCoz\\Anaconda3\\envs\\interbank_network\\lib\\site-packages\\cpnet\\utils.py:20: FutureWarning: adjacency_matrix will return a scipy.sparse array instead of a matrix in Networkx 3.0.\n",
      "  sparse.csr_matrix(nx.adjacency_matrix(net), dtype=np.float64),\n",
      "c:\\Users\\VictorLeCoz\\Anaconda3\\envs\\interbank_network\\lib\\site-packages\\cpnet\\qstest.py:96: FutureWarning: adjacency_matrix will return a scipy.sparse array instead of a matrix in Networkx 3.0.\n",
      "  A = nx.adjacency_matrix(G)\n"
     ]
    },
    {
     "name": "stdout",
     "output_type": "stream",
     "text": [
      "test on day 2014-06-26 00:00:00\n"
     ]
    },
    {
     "name": "stderr",
     "output_type": "stream",
     "text": [
      "c:\\Users\\VictorLeCoz\\Anaconda3\\envs\\interbank_network\\lib\\site-packages\\cpnet\\qstest.py:35: FutureWarning: adjacency_matrix will return a scipy.sparse array instead of a matrix in Networkx 3.0.\n",
      "  Ar = sparse.csr_matrix(nx.adjacency_matrix(Gr))\n",
      "100%|██████████| 100/100 [00:00<00:00, 566.67it/s]\n"
     ]
    },
    {
     "name": "stdout",
     "output_type": "stream",
     "text": [
      "test on day 2023-05-04 00:00:00"
     ]
    },
    {
     "name": "stderr",
     "output_type": "stream",
     "text": [
      "c:\\Users\\VictorLeCoz\\Anaconda3\\envs\\interbank_network\\lib\\site-packages\\cpnet\\utils.py:20: FutureWarning: adjacency_matrix will return a scipy.sparse array instead of a matrix in Networkx 3.0.\n",
      "  sparse.csr_matrix(nx.adjacency_matrix(net), dtype=np.float64),\n",
      "c:\\Users\\VictorLeCoz\\Anaconda3\\envs\\interbank_network\\lib\\site-packages\\cpnet\\qstest.py:96: FutureWarning: adjacency_matrix will return a scipy.sparse array instead of a matrix in Networkx 3.0.\n",
      "  A = nx.adjacency_matrix(G)\n"
     ]
    },
    {
     "name": "stdout",
     "output_type": "stream",
     "text": [
      "\n"
     ]
    },
    {
     "name": "stderr",
     "output_type": "stream",
     "text": [
      "c:\\Users\\VictorLeCoz\\Anaconda3\\envs\\interbank_network\\lib\\site-packages\\cpnet\\qstest.py:35: FutureWarning: adjacency_matrix will return a scipy.sparse array instead of a matrix in Networkx 3.0.\n",
      "  Ar = sparse.csr_matrix(nx.adjacency_matrix(Gr))\n",
      "100%|██████████| 100/100 [00:00<00:00, 563.00it/s]\n",
      "c:\\Users\\VictorLeCoz\\Anaconda3\\envs\\interbank_network\\lib\\site-packages\\cpnet\\utils.py:20: FutureWarning: adjacency_matrix will return a scipy.sparse array instead of a matrix in Networkx 3.0.\n",
      "  sparse.csr_matrix(nx.adjacency_matrix(net), dtype=np.float64),\n"
     ]
    },
    {
     "name": "stdout",
     "output_type": "stream",
     "text": [
      "test on day 2024-01-12 00:00:00\n"
     ]
    },
    {
     "name": "stderr",
     "output_type": "stream",
     "text": [
      "c:\\Users\\VictorLeCoz\\Anaconda3\\envs\\interbank_network\\lib\\site-packages\\cpnet\\qstest.py:96: FutureWarning: adjacency_matrix will return a scipy.sparse array instead of a matrix in Networkx 3.0.\n",
      "  A = nx.adjacency_matrix(G)\n",
      "c:\\Users\\VictorLeCoz\\Anaconda3\\envs\\interbank_network\\lib\\site-packages\\cpnet\\qstest.py:35: FutureWarning: adjacency_matrix will return a scipy.sparse array instead of a matrix in Networkx 3.0.\n",
      "  Ar = sparse.csr_matrix(nx.adjacency_matrix(Gr))\n",
      "100%|██████████| 100/100 [00:00<00:00, 567.70it/s]\n",
      "c:\\Users\\VictorLeCoz\\local\\Secured_interbank_network\\emp_metrics.py:310: PerformanceWarning: DataFrame is highly fragmented.  This is usually the result of calling `frame.insert` many times, which has poor performance.  Consider joining all columns at once using pd.concat(axis=1) instead. To get a de-fragmented frame, use `newframe = frame.copy()`\n",
      "  df_cpnet[f\"{col} {algo}-{agg_period}\"] = df_algo_cpnet[col]\n",
      "c:\\Users\\VictorLeCoz\\local\\Secured_interbank_network\\emp_metrics.py:310: PerformanceWarning: DataFrame is highly fragmented.  This is usually the result of calling `frame.insert` many times, which has poor performance.  Consider joining all columns at once using pd.concat(axis=1) instead. To get a de-fragmented frame, use `newframe = frame.copy()`\n",
      "  df_cpnet[f\"{col} {algo}-{agg_period}\"] = df_algo_cpnet[col]\n",
      "c:\\Users\\VictorLeCoz\\local\\Secured_interbank_network\\emp_metrics.py:310: PerformanceWarning: DataFrame is highly fragmented.  This is usually the result of calling `frame.insert` many times, which has poor performance.  Consider joining all columns at once using pd.concat(axis=1) instead. To get a de-fragmented frame, use `newframe = frame.copy()`\n",
      "  df_cpnet[f\"{col} {algo}-{agg_period}\"] = df_algo_cpnet[col]\n",
      "c:\\Users\\VictorLeCoz\\local\\Secured_interbank_network\\emp_metrics.py:310: PerformanceWarning: DataFrame is highly fragmented.  This is usually the result of calling `frame.insert` many times, which has poor performance.  Consider joining all columns at once using pd.concat(axis=1) instead. To get a de-fragmented frame, use `newframe = frame.copy()`\n",
      "  df_cpnet[f\"{col} {algo}-{agg_period}\"] = df_algo_cpnet[col]\n",
      "c:\\Users\\VictorLeCoz\\Anaconda3\\envs\\interbank_network\\lib\\site-packages\\cpnet\\utils.py:20: FutureWarning: adjacency_matrix will return a scipy.sparse array instead of a matrix in Networkx 3.0.\n",
      "  sparse.csr_matrix(nx.adjacency_matrix(net), dtype=np.float64),\n"
     ]
    },
    {
     "name": "stdout",
     "output_type": "stream",
     "text": [
      "core-periphery tests using the LowRankCore approach\n",
      "test on day 2000-05-03 00:00:00\n"
     ]
    },
    {
     "name": "stderr",
     "output_type": "stream",
     "text": [
      "c:\\Users\\VictorLeCoz\\Anaconda3\\envs\\interbank_network\\lib\\site-packages\\cpnet\\qstest.py:96: FutureWarning: adjacency_matrix will return a scipy.sparse array instead of a matrix in Networkx 3.0.\n",
      "  A = nx.adjacency_matrix(G)\n",
      "c:\\Users\\VictorLeCoz\\Anaconda3\\envs\\interbank_network\\lib\\site-packages\\cpnet\\qstest.py:35: FutureWarning: adjacency_matrix will return a scipy.sparse array instead of a matrix in Networkx 3.0.\n",
      "  Ar = sparse.csr_matrix(nx.adjacency_matrix(Gr))\n",
      "100%|██████████| 100/100 [00:00<00:00, 291.83it/s]\n"
     ]
    },
    {
     "name": "stdout",
     "output_type": "stream",
     "text": [
      "test on day 2007-05-29 00:00:00\n"
     ]
    },
    {
     "name": "stderr",
     "output_type": "stream",
     "text": [
      "100%|██████████| 100/100 [00:00<00:00, 260.11it/s]\n",
      "c:\\Users\\VictorLeCoz\\Anaconda3\\envs\\interbank_network\\lib\\site-packages\\cpnet\\utils.py:20: FutureWarning: adjacency_matrix will return a scipy.sparse array instead of a matrix in Networkx 3.0.\n",
      "  sparse.csr_matrix(nx.adjacency_matrix(net), dtype=np.float64),\n",
      "c:\\Users\\VictorLeCoz\\Anaconda3\\envs\\interbank_network\\lib\\site-packages\\cpnet\\qstest.py:96: FutureWarning: adjacency_matrix will return a scipy.sparse array instead of a matrix in Networkx 3.0.\n",
      "  A = nx.adjacency_matrix(G)\n"
     ]
    },
    {
     "name": "stdout",
     "output_type": "stream",
     "text": [
      "test on day 2014-06-26 00:00:00\n"
     ]
    },
    {
     "name": "stderr",
     "output_type": "stream",
     "text": [
      "c:\\Users\\VictorLeCoz\\Anaconda3\\envs\\interbank_network\\lib\\site-packages\\cpnet\\qstest.py:35: FutureWarning: adjacency_matrix will return a scipy.sparse array instead of a matrix in Networkx 3.0.\n",
      "  Ar = sparse.csr_matrix(nx.adjacency_matrix(Gr))\n",
      "100%|██████████| 100/100 [00:00<00:00, 336.88it/s]\n",
      "c:\\Users\\VictorLeCoz\\Anaconda3\\envs\\interbank_network\\lib\\site-packages\\cpnet\\utils.py:20: FutureWarning: adjacency_matrix will return a scipy.sparse array instead of a matrix in Networkx 3.0.\n",
      "  sparse.csr_matrix(nx.adjacency_matrix(net), dtype=np.float64),\n",
      "c:\\Users\\VictorLeCoz\\Anaconda3\\envs\\interbank_network\\lib\\site-packages\\cpnet\\qstest.py:96: FutureWarning: adjacency_matrix will return a scipy.sparse array instead of a matrix in Networkx 3.0.\n",
      "  A = nx.adjacency_matrix(G)\n"
     ]
    },
    {
     "name": "stdout",
     "output_type": "stream",
     "text": [
      "test on day 2023-05-04 00:00:00\n"
     ]
    },
    {
     "name": "stderr",
     "output_type": "stream",
     "text": [
      "c:\\Users\\VictorLeCoz\\Anaconda3\\envs\\interbank_network\\lib\\site-packages\\cpnet\\qstest.py:35: FutureWarning: adjacency_matrix will return a scipy.sparse array instead of a matrix in Networkx 3.0.\n",
      "  Ar = sparse.csr_matrix(nx.adjacency_matrix(Gr))\n",
      "100%|██████████| 100/100 [00:00<00:00, 332.29it/s]\n",
      "c:\\Users\\VictorLeCoz\\Anaconda3\\envs\\interbank_network\\lib\\site-packages\\cpnet\\utils.py:20: FutureWarning: adjacency_matrix will return a scipy.sparse array instead of a matrix in Networkx 3.0.\n",
      "  sparse.csr_matrix(nx.adjacency_matrix(net), dtype=np.float64),\n",
      "c:\\Users\\VictorLeCoz\\Anaconda3\\envs\\interbank_network\\lib\\site-packages\\cpnet\\qstest.py:96: FutureWarning: adjacency_matrix will return a scipy.sparse array instead of a matrix in Networkx 3.0.\n",
      "  A = nx.adjacency_matrix(G)\n"
     ]
    },
    {
     "name": "stdout",
     "output_type": "stream",
     "text": [
      "test on day 2024-01-12 00:00:00\n"
     ]
    },
    {
     "name": "stderr",
     "output_type": "stream",
     "text": [
      "c:\\Users\\VictorLeCoz\\Anaconda3\\envs\\interbank_network\\lib\\site-packages\\cpnet\\qstest.py:35: FutureWarning: adjacency_matrix will return a scipy.sparse array instead of a matrix in Networkx 3.0.\n",
      "  Ar = sparse.csr_matrix(nx.adjacency_matrix(Gr))\n",
      "100%|██████████| 100/100 [00:00<00:00, 309.11it/s]\n",
      "c:\\Users\\VictorLeCoz\\local\\Secured_interbank_network\\emp_metrics.py:310: PerformanceWarning: DataFrame is highly fragmented.  This is usually the result of calling `frame.insert` many times, which has poor performance.  Consider joining all columns at once using pd.concat(axis=1) instead. To get a de-fragmented frame, use `newframe = frame.copy()`\n",
      "  df_cpnet[f\"{col} {algo}-{agg_period}\"] = df_algo_cpnet[col]\n",
      "c:\\Users\\VictorLeCoz\\local\\Secured_interbank_network\\emp_metrics.py:310: PerformanceWarning: DataFrame is highly fragmented.  This is usually the result of calling `frame.insert` many times, which has poor performance.  Consider joining all columns at once using pd.concat(axis=1) instead. To get a de-fragmented frame, use `newframe = frame.copy()`\n",
      "  df_cpnet[f\"{col} {algo}-{agg_period}\"] = df_algo_cpnet[col]\n",
      "c:\\Users\\VictorLeCoz\\local\\Secured_interbank_network\\emp_metrics.py:310: PerformanceWarning: DataFrame is highly fragmented.  This is usually the result of calling `frame.insert` many times, which has poor performance.  Consider joining all columns at once using pd.concat(axis=1) instead. To get a de-fragmented frame, use `newframe = frame.copy()`\n",
      "  df_cpnet[f\"{col} {algo}-{agg_period}\"] = df_algo_cpnet[col]\n",
      "c:\\Users\\VictorLeCoz\\local\\Secured_interbank_network\\emp_metrics.py:310: PerformanceWarning: DataFrame is highly fragmented.  This is usually the result of calling `frame.insert` many times, which has poor performance.  Consider joining all columns at once using pd.concat(axis=1) instead. To get a de-fragmented frame, use `newframe = frame.copy()`\n",
      "  df_cpnet[f\"{col} {algo}-{agg_period}\"] = df_algo_cpnet[col]\n",
      "c:\\Users\\VictorLeCoz\\Anaconda3\\envs\\interbank_network\\lib\\site-packages\\cpnet\\utils.py:20: FutureWarning: adjacency_matrix will return a scipy.sparse array instead of a matrix in Networkx 3.0.\n",
      "  sparse.csr_matrix(nx.adjacency_matrix(net), dtype=np.float64),\n",
      "c:\\Users\\VictorLeCoz\\Anaconda3\\envs\\interbank_network\\lib\\site-packages\\cpnet\\qstest.py:96: FutureWarning: adjacency_matrix will return a scipy.sparse array instead of a matrix in Networkx 3.0.\n",
      "  A = nx.adjacency_matrix(G)\n"
     ]
    },
    {
     "name": "stdout",
     "output_type": "stream",
     "text": [
      "core-periphery tests using the MINRES approach\n",
      "test on day 2000-05-03 00:00:00\n"
     ]
    },
    {
     "name": "stderr",
     "output_type": "stream",
     "text": [
      "c:\\Users\\VictorLeCoz\\Anaconda3\\envs\\interbank_network\\lib\\site-packages\\cpnet\\qstest.py:35: FutureWarning: adjacency_matrix will return a scipy.sparse array instead of a matrix in Networkx 3.0.\n",
      "  Ar = sparse.csr_matrix(nx.adjacency_matrix(Gr))\n",
      "100%|██████████| 100/100 [00:02<00:00, 36.72it/s]\n"
     ]
    },
    {
     "name": "stdout",
     "output_type": "stream",
     "text": [
      "test on day 2007-05-29 00:00:00\n"
     ]
    },
    {
     "name": "stderr",
     "output_type": "stream",
     "text": [
      "100%|██████████| 100/100 [00:03<00:00, 27.75it/s]\n",
      "c:\\Users\\VictorLeCoz\\Anaconda3\\envs\\interbank_network\\lib\\site-packages\\cpnet\\utils.py:20: FutureWarning: adjacency_matrix will return a scipy.sparse array instead of a matrix in Networkx 3.0.\n",
      "  sparse.csr_matrix(nx.adjacency_matrix(net), dtype=np.float64),\n",
      "c:\\Users\\VictorLeCoz\\Anaconda3\\envs\\interbank_network\\lib\\site-packages\\cpnet\\qstest.py:96: FutureWarning: adjacency_matrix will return a scipy.sparse array instead of a matrix in Networkx 3.0.\n",
      "  A = nx.adjacency_matrix(G)\n"
     ]
    },
    {
     "name": "stdout",
     "output_type": "stream",
     "text": [
      "test on day 2014-06-26 00:00:00\n"
     ]
    },
    {
     "name": "stderr",
     "output_type": "stream",
     "text": [
      "c:\\Users\\VictorLeCoz\\Anaconda3\\envs\\interbank_network\\lib\\site-packages\\cpnet\\qstest.py:35: FutureWarning: adjacency_matrix will return a scipy.sparse array instead of a matrix in Networkx 3.0.\n",
      "  Ar = sparse.csr_matrix(nx.adjacency_matrix(Gr))\n",
      "100%|██████████| 100/100 [00:03<00:00, 32.32it/s]\n",
      "c:\\Users\\VictorLeCoz\\Anaconda3\\envs\\interbank_network\\lib\\site-packages\\cpnet\\utils.py:20: FutureWarning: adjacency_matrix will return a scipy.sparse array instead of a matrix in Networkx 3.0.\n",
      "  sparse.csr_matrix(nx.adjacency_matrix(net), dtype=np.float64),\n",
      "c:\\Users\\VictorLeCoz\\Anaconda3\\envs\\interbank_network\\lib\\site-packages\\cpnet\\qstest.py:96: FutureWarning: adjacency_matrix will return a scipy.sparse array instead of a matrix in Networkx 3.0.\n",
      "  A = nx.adjacency_matrix(G)\n"
     ]
    },
    {
     "name": "stdout",
     "output_type": "stream",
     "text": [
      "test on day 2023-05-04 00:00:00\n"
     ]
    },
    {
     "name": "stderr",
     "output_type": "stream",
     "text": [
      "c:\\Users\\VictorLeCoz\\Anaconda3\\envs\\interbank_network\\lib\\site-packages\\cpnet\\qstest.py:35: FutureWarning: adjacency_matrix will return a scipy.sparse array instead of a matrix in Networkx 3.0.\n",
      "  Ar = sparse.csr_matrix(nx.adjacency_matrix(Gr))\n",
      "100%|██████████| 100/100 [00:05<00:00, 18.41it/s]\n",
      "c:\\Users\\VictorLeCoz\\Anaconda3\\envs\\interbank_network\\lib\\site-packages\\cpnet\\utils.py:20: FutureWarning: adjacency_matrix will return a scipy.sparse array instead of a matrix in Networkx 3.0.\n",
      "  sparse.csr_matrix(nx.adjacency_matrix(net), dtype=np.float64),\n",
      "c:\\Users\\VictorLeCoz\\Anaconda3\\envs\\interbank_network\\lib\\site-packages\\cpnet\\qstest.py:96: FutureWarning: adjacency_matrix will return a scipy.sparse array instead of a matrix in Networkx 3.0.\n",
      "  A = nx.adjacency_matrix(G)\n"
     ]
    },
    {
     "name": "stdout",
     "output_type": "stream",
     "text": [
      "test on day 2024-01-12 00:00:00\n"
     ]
    },
    {
     "name": "stderr",
     "output_type": "stream",
     "text": [
      "c:\\Users\\VictorLeCoz\\Anaconda3\\envs\\interbank_network\\lib\\site-packages\\cpnet\\qstest.py:35: FutureWarning: adjacency_matrix will return a scipy.sparse array instead of a matrix in Networkx 3.0.\n",
      "  Ar = sparse.csr_matrix(nx.adjacency_matrix(Gr))\n",
      "100%|██████████| 100/100 [00:05<00:00, 18.53it/s]\n",
      "c:\\Users\\VictorLeCoz\\local\\Secured_interbank_network\\emp_metrics.py:310: PerformanceWarning: DataFrame is highly fragmented.  This is usually the result of calling `frame.insert` many times, which has poor performance.  Consider joining all columns at once using pd.concat(axis=1) instead. To get a de-fragmented frame, use `newframe = frame.copy()`\n",
      "  df_cpnet[f\"{col} {algo}-{agg_period}\"] = df_algo_cpnet[col]\n",
      "c:\\Users\\VictorLeCoz\\local\\Secured_interbank_network\\emp_metrics.py:310: PerformanceWarning: DataFrame is highly fragmented.  This is usually the result of calling `frame.insert` many times, which has poor performance.  Consider joining all columns at once using pd.concat(axis=1) instead. To get a de-fragmented frame, use `newframe = frame.copy()`\n",
      "  df_cpnet[f\"{col} {algo}-{agg_period}\"] = df_algo_cpnet[col]\n",
      "c:\\Users\\VictorLeCoz\\local\\Secured_interbank_network\\emp_metrics.py:310: PerformanceWarning: DataFrame is highly fragmented.  This is usually the result of calling `frame.insert` many times, which has poor performance.  Consider joining all columns at once using pd.concat(axis=1) instead. To get a de-fragmented frame, use `newframe = frame.copy()`\n",
      "  df_cpnet[f\"{col} {algo}-{agg_period}\"] = df_algo_cpnet[col]\n",
      "c:\\Users\\VictorLeCoz\\local\\Secured_interbank_network\\emp_metrics.py:310: PerformanceWarning: DataFrame is highly fragmented.  This is usually the result of calling `frame.insert` many times, which has poor performance.  Consider joining all columns at once using pd.concat(axis=1) instead. To get a de-fragmented frame, use `newframe = frame.copy()`\n",
      "  df_cpnet[f\"{col} {algo}-{agg_period}\"] = df_algo_cpnet[col]\n",
      "c:\\Users\\VictorLeCoz\\Anaconda3\\envs\\interbank_network\\lib\\site-packages\\cpnet\\utils.py:20: FutureWarning: adjacency_matrix will return a scipy.sparse array instead of a matrix in Networkx 3.0.\n",
      "  sparse.csr_matrix(nx.adjacency_matrix(net), dtype=np.float64),\n",
      "c:\\Users\\VictorLeCoz\\Anaconda3\\envs\\interbank_network\\lib\\site-packages\\cpnet\\qstest.py:96: FutureWarning: adjacency_matrix will return a scipy.sparse array instead of a matrix in Networkx 3.0.\n",
      "  A = nx.adjacency_matrix(G)\n"
     ]
    },
    {
     "name": "stdout",
     "output_type": "stream",
     "text": [
      "core-periphery tests using the Lip approach\n",
      "test on day 2000-05-03 00:00:00\n"
     ]
    },
    {
     "name": "stderr",
     "output_type": "stream",
     "text": [
      "c:\\Users\\VictorLeCoz\\Anaconda3\\envs\\interbank_network\\lib\\site-packages\\cpnet\\qstest.py:35: FutureWarning: adjacency_matrix will return a scipy.sparse array instead of a matrix in Networkx 3.0.\n",
      "  Ar = sparse.csr_matrix(nx.adjacency_matrix(Gr))\n",
      "100%|██████████| 100/100 [00:00<00:00, 1085.10it/s]\n"
     ]
    },
    {
     "name": "stdout",
     "output_type": "stream",
     "text": [
      "test on day 2007-05-29 00:00:00\n"
     ]
    },
    {
     "name": "stderr",
     "output_type": "stream",
     "text": [
      "100%|██████████| 100/100 [00:00<00:00, 1176.36it/s]\n",
      "c:\\Users\\VictorLeCoz\\Anaconda3\\envs\\interbank_network\\lib\\site-packages\\cpnet\\utils.py:20: FutureWarning: adjacency_matrix will return a scipy.sparse array instead of a matrix in Networkx 3.0.\n",
      "  sparse.csr_matrix(nx.adjacency_matrix(net), dtype=np.float64),\n",
      "c:\\Users\\VictorLeCoz\\Anaconda3\\envs\\interbank_network\\lib\\site-packages\\cpnet\\qstest.py:96: FutureWarning: adjacency_matrix will return a scipy.sparse array instead of a matrix in Networkx 3.0.\n",
      "  A = nx.adjacency_matrix(G)\n"
     ]
    },
    {
     "name": "stdout",
     "output_type": "stream",
     "text": [
      "test on day 2014-06-26 00:00:00\n"
     ]
    },
    {
     "name": "stderr",
     "output_type": "stream",
     "text": [
      "c:\\Users\\VictorLeCoz\\Anaconda3\\envs\\interbank_network\\lib\\site-packages\\cpnet\\qstest.py:35: FutureWarning: adjacency_matrix will return a scipy.sparse array instead of a matrix in Networkx 3.0.\n",
      "  Ar = sparse.csr_matrix(nx.adjacency_matrix(Gr))\n",
      "100%|██████████| 100/100 [00:00<00:00, 1052.72it/s]\n",
      "c:\\Users\\VictorLeCoz\\Anaconda3\\envs\\interbank_network\\lib\\site-packages\\cpnet\\utils.py:20: FutureWarning: adjacency_matrix will return a scipy.sparse array instead of a matrix in Networkx 3.0.\n",
      "  sparse.csr_matrix(nx.adjacency_matrix(net), dtype=np.float64),\n",
      "c:\\Users\\VictorLeCoz\\Anaconda3\\envs\\interbank_network\\lib\\site-packages\\cpnet\\qstest.py:96: FutureWarning: adjacency_matrix will return a scipy.sparse array instead of a matrix in Networkx 3.0.\n",
      "  A = nx.adjacency_matrix(G)\n"
     ]
    },
    {
     "name": "stdout",
     "output_type": "stream",
     "text": [
      "test on day 2023-05-04 00:00:00\n"
     ]
    },
    {
     "name": "stderr",
     "output_type": "stream",
     "text": [
      "c:\\Users\\VictorLeCoz\\Anaconda3\\envs\\interbank_network\\lib\\site-packages\\cpnet\\qstest.py:35: FutureWarning: adjacency_matrix will return a scipy.sparse array instead of a matrix in Networkx 3.0.\n",
      "  Ar = sparse.csr_matrix(nx.adjacency_matrix(Gr))\n",
      "100%|██████████| 100/100 [00:00<00:00, 1393.88it/s]\n",
      "c:\\Users\\VictorLeCoz\\Anaconda3\\envs\\interbank_network\\lib\\site-packages\\cpnet\\utils.py:20: FutureWarning: adjacency_matrix will return a scipy.sparse array instead of a matrix in Networkx 3.0.\n",
      "  sparse.csr_matrix(nx.adjacency_matrix(net), dtype=np.float64),\n",
      "c:\\Users\\VictorLeCoz\\Anaconda3\\envs\\interbank_network\\lib\\site-packages\\cpnet\\qstest.py:96: FutureWarning: adjacency_matrix will return a scipy.sparse array instead of a matrix in Networkx 3.0.\n",
      "  A = nx.adjacency_matrix(G)\n"
     ]
    },
    {
     "name": "stdout",
     "output_type": "stream",
     "text": [
      "test on day 2024-01-12 00:00:00\n"
     ]
    },
    {
     "name": "stderr",
     "output_type": "stream",
     "text": [
      "c:\\Users\\VictorLeCoz\\Anaconda3\\envs\\interbank_network\\lib\\site-packages\\cpnet\\qstest.py:35: FutureWarning: adjacency_matrix will return a scipy.sparse array instead of a matrix in Networkx 3.0.\n",
      "  Ar = sparse.csr_matrix(nx.adjacency_matrix(Gr))\n",
      "100%|██████████| 100/100 [00:00<00:00, 1512.79it/s]\n",
      "c:\\Users\\VictorLeCoz\\local\\Secured_interbank_network\\emp_metrics.py:310: PerformanceWarning: DataFrame is highly fragmented.  This is usually the result of calling `frame.insert` many times, which has poor performance.  Consider joining all columns at once using pd.concat(axis=1) instead. To get a de-fragmented frame, use `newframe = frame.copy()`\n",
      "  df_cpnet[f\"{col} {algo}-{agg_period}\"] = df_algo_cpnet[col]\n",
      "c:\\Users\\VictorLeCoz\\local\\Secured_interbank_network\\emp_metrics.py:310: PerformanceWarning: DataFrame is highly fragmented.  This is usually the result of calling `frame.insert` many times, which has poor performance.  Consider joining all columns at once using pd.concat(axis=1) instead. To get a de-fragmented frame, use `newframe = frame.copy()`\n",
      "  df_cpnet[f\"{col} {algo}-{agg_period}\"] = df_algo_cpnet[col]\n",
      "c:\\Users\\VictorLeCoz\\local\\Secured_interbank_network\\emp_metrics.py:310: PerformanceWarning: DataFrame is highly fragmented.  This is usually the result of calling `frame.insert` many times, which has poor performance.  Consider joining all columns at once using pd.concat(axis=1) instead. To get a de-fragmented frame, use `newframe = frame.copy()`\n",
      "  df_cpnet[f\"{col} {algo}-{agg_period}\"] = df_algo_cpnet[col]\n",
      "c:\\Users\\VictorLeCoz\\local\\Secured_interbank_network\\emp_metrics.py:310: PerformanceWarning: DataFrame is highly fragmented.  This is usually the result of calling `frame.insert` many times, which has poor performance.  Consider joining all columns at once using pd.concat(axis=1) instead. To get a de-fragmented frame, use `newframe = frame.copy()`\n",
      "  df_cpnet[f\"{col} {algo}-{agg_period}\"] = df_algo_cpnet[col]\n",
      "c:\\Users\\VictorLeCoz\\Anaconda3\\envs\\interbank_network\\lib\\site-packages\\cpnet\\utils.py:20: FutureWarning: adjacency_matrix will return a scipy.sparse array instead of a matrix in Networkx 3.0.\n",
      "  sparse.csr_matrix(nx.adjacency_matrix(net), dtype=np.float64),\n",
      "c:\\Users\\VictorLeCoz\\Anaconda3\\envs\\interbank_network\\lib\\site-packages\\cpnet\\qstest.py:96: FutureWarning: adjacency_matrix will return a scipy.sparse array instead of a matrix in Networkx 3.0.\n",
      "  A = nx.adjacency_matrix(G)\n"
     ]
    },
    {
     "name": "stdout",
     "output_type": "stream",
     "text": [
      "core-periphery tests using the BE approach\n",
      "test on day 2000-05-03 00:00:00\n"
     ]
    },
    {
     "name": "stderr",
     "output_type": "stream",
     "text": [
      "c:\\Users\\VictorLeCoz\\Anaconda3\\envs\\interbank_network\\lib\\site-packages\\cpnet\\qstest.py:35: FutureWarning: adjacency_matrix will return a scipy.sparse array instead of a matrix in Networkx 3.0.\n",
      "  Ar = sparse.csr_matrix(nx.adjacency_matrix(Gr))\n",
      "100%|██████████| 100/100 [00:00<00:00, 511.99it/s]\n"
     ]
    },
    {
     "name": "stdout",
     "output_type": "stream",
     "text": [
      "test on day 2007-05-29 00:00:00\n"
     ]
    },
    {
     "name": "stderr",
     "output_type": "stream",
     "text": [
      "100%|██████████| 100/100 [00:00<00:00, 553.35it/s]\n",
      "c:\\Users\\VictorLeCoz\\Anaconda3\\envs\\interbank_network\\lib\\site-packages\\cpnet\\utils.py:20: FutureWarning: adjacency_matrix will return a scipy.sparse array instead of a matrix in Networkx 3.0.\n",
      "  sparse.csr_matrix(nx.adjacency_matrix(net), dtype=np.float64),\n",
      "c:\\Users\\VictorLeCoz\\Anaconda3\\envs\\interbank_network\\lib\\site-packages\\cpnet\\qstest.py:96: FutureWarning: adjacency_matrix will return a scipy.sparse array instead of a matrix in Networkx 3.0.\n",
      "  A = nx.adjacency_matrix(G)\n"
     ]
    },
    {
     "name": "stdout",
     "output_type": "stream",
     "text": [
      "test on day 2014-06-26 00:00:00\n"
     ]
    },
    {
     "name": "stderr",
     "output_type": "stream",
     "text": [
      "c:\\Users\\VictorLeCoz\\Anaconda3\\envs\\interbank_network\\lib\\site-packages\\cpnet\\qstest.py:35: FutureWarning: adjacency_matrix will return a scipy.sparse array instead of a matrix in Networkx 3.0.\n",
      "  Ar = sparse.csr_matrix(nx.adjacency_matrix(Gr))\n",
      "100%|██████████| 100/100 [00:00<00:00, 420.81it/s]\n",
      "c:\\Users\\VictorLeCoz\\Anaconda3\\envs\\interbank_network\\lib\\site-packages\\cpnet\\utils.py:20: FutureWarning: adjacency_matrix will return a scipy.sparse array instead of a matrix in Networkx 3.0.\n",
      "  sparse.csr_matrix(nx.adjacency_matrix(net), dtype=np.float64),\n",
      "c:\\Users\\VictorLeCoz\\Anaconda3\\envs\\interbank_network\\lib\\site-packages\\cpnet\\qstest.py:96: FutureWarning: adjacency_matrix will return a scipy.sparse array instead of a matrix in Networkx 3.0.\n",
      "  A = nx.adjacency_matrix(G)\n"
     ]
    },
    {
     "name": "stdout",
     "output_type": "stream",
     "text": [
      "test on day 2023-05-04 00:00:00\n"
     ]
    },
    {
     "name": "stderr",
     "output_type": "stream",
     "text": [
      "c:\\Users\\VictorLeCoz\\Anaconda3\\envs\\interbank_network\\lib\\site-packages\\cpnet\\qstest.py:35: FutureWarning: adjacency_matrix will return a scipy.sparse array instead of a matrix in Networkx 3.0.\n",
      "  Ar = sparse.csr_matrix(nx.adjacency_matrix(Gr))\n",
      "100%|██████████| 100/100 [00:00<00:00, 417.45it/s]\n",
      "c:\\Users\\VictorLeCoz\\Anaconda3\\envs\\interbank_network\\lib\\site-packages\\cpnet\\utils.py:20: FutureWarning: adjacency_matrix will return a scipy.sparse array instead of a matrix in Networkx 3.0.\n",
      "  sparse.csr_matrix(nx.adjacency_matrix(net), dtype=np.float64),\n",
      "c:\\Users\\VictorLeCoz\\Anaconda3\\envs\\interbank_network\\lib\\site-packages\\cpnet\\qstest.py:96: FutureWarning: adjacency_matrix will return a scipy.sparse array instead of a matrix in Networkx 3.0.\n",
      "  A = nx.adjacency_matrix(G)\n"
     ]
    },
    {
     "name": "stdout",
     "output_type": "stream",
     "text": [
      "test on day 2024-01-12 00:00:00\n"
     ]
    },
    {
     "name": "stderr",
     "output_type": "stream",
     "text": [
      "c:\\Users\\VictorLeCoz\\Anaconda3\\envs\\interbank_network\\lib\\site-packages\\cpnet\\qstest.py:35: FutureWarning: adjacency_matrix will return a scipy.sparse array instead of a matrix in Networkx 3.0.\n",
      "  Ar = sparse.csr_matrix(nx.adjacency_matrix(Gr))\n",
      "100%|██████████| 100/100 [00:00<00:00, 420.80it/s]\n",
      "c:\\Users\\VictorLeCoz\\local\\Secured_interbank_network\\emp_metrics.py:310: PerformanceWarning: DataFrame is highly fragmented.  This is usually the result of calling `frame.insert` many times, which has poor performance.  Consider joining all columns at once using pd.concat(axis=1) instead. To get a de-fragmented frame, use `newframe = frame.copy()`\n",
      "  df_cpnet[f\"{col} {algo}-{agg_period}\"] = df_algo_cpnet[col]\n",
      "c:\\Users\\VictorLeCoz\\local\\Secured_interbank_network\\emp_metrics.py:310: PerformanceWarning: DataFrame is highly fragmented.  This is usually the result of calling `frame.insert` many times, which has poor performance.  Consider joining all columns at once using pd.concat(axis=1) instead. To get a de-fragmented frame, use `newframe = frame.copy()`\n",
      "  df_cpnet[f\"{col} {algo}-{agg_period}\"] = df_algo_cpnet[col]\n",
      "c:\\Users\\VictorLeCoz\\local\\Secured_interbank_network\\emp_metrics.py:310: PerformanceWarning: DataFrame is highly fragmented.  This is usually the result of calling `frame.insert` many times, which has poor performance.  Consider joining all columns at once using pd.concat(axis=1) instead. To get a de-fragmented frame, use `newframe = frame.copy()`\n",
      "  df_cpnet[f\"{col} {algo}-{agg_period}\"] = df_algo_cpnet[col]\n",
      "c:\\Users\\VictorLeCoz\\local\\Secured_interbank_network\\emp_metrics.py:310: PerformanceWarning: DataFrame is highly fragmented.  This is usually the result of calling `frame.insert` many times, which has poor performance.  Consider joining all columns at once using pd.concat(axis=1) instead. To get a de-fragmented frame, use `newframe = frame.copy()`\n",
      "  df_cpnet[f\"{col} {algo}-{agg_period}\"] = df_algo_cpnet[col]\n",
      "100%|██████████| 5/5 [02:53<00:00, 34.69s/it]\n"
     ]
    }
   ],
   "source": [
    "arr_rev_repo_exp_adj = ep.convert_dic_to_array(dic_rev_repo_exp_adj)\n",
    "days = list(dic_rev_repo_exp_adj.keys())\n",
    "\n",
    "# get df_cpnet\n",
    "df_cpnet = em.get_cpnet(\n",
    "                dic_arr_binary_adj=dic_arr_binary_adj,\n",
    "                arr_rev_repo_exp_adj=arr_rev_repo_exp_adj,\n",
    "                days=days,\n",
    "                plot_period=plot_period,\n",
    "                path=f\"{path}exposure_view/core-periphery/\",\n",
    "            )\n",
    "\n",
    "# Plot the core-periphery struture\n",
    "gx.plot_cpnet(\n",
    "                df_network_trajectory=df_cpnet,\n",
    "                dic_arr_binary_adj=dic_arr_binary_adj,\n",
    "                arr_rev_repo_exp_adj=arr_rev_repo_exp_adj,\n",
    "                days=days,\n",
    "                plot_period=plot_period,\n",
    "                path=f\"{path}exposure_view/\",\n",
    "            )\n",
    "\n",
    "# # read csv (faster)\n",
    "# df_cpnet = pd.read_csv(f\"{path}exposure_view/core-periphery/df_cpnet.csv\", index_col=0)\n",
    "# df_cpnet.index = pd.to_datetime(df_cpnet.index)\n",
    "\n",
    "# plot the time evolution of p-values for each aggregation level\n",
    "for fig in par.figs_cpnet_pvalues:\n",
    "    gx.plot_network_trajectory(\n",
    "            df=df_cpnet,\n",
    "            cols=fig[1],\n",
    "            file_name=f\"{path}{fig[0]}.pdf\",\n",
    "        )"
   ]
  },
  {
   "attachments": {},
   "cell_type": "markdown",
   "id": "d300d2ef",
   "metadata": {},
   "source": [
    "## 2.3 transaction view"
   ]
  },
  {
   "cell_type": "code",
   "execution_count": 20,
   "id": "aa4a584d",
   "metadata": {},
   "outputs": [],
   "source": [
    "os.makedirs(f\"{path}transaction_view/\", exist_ok=True)"
   ]
  },
  {
   "attachments": {},
   "cell_type": "markdown",
   "id": "a6f1ac6e",
   "metadata": {},
   "source": [
    "### 2.3.1 av network"
   ]
  },
  {
   "cell_type": "code",
   "execution_count": 21,
   "id": "92e202d5",
   "metadata": {},
   "outputs": [
    {
     "name": "stdout",
     "output_type": "stream",
     "text": [
      "get transaction stats av. network\n"
     ]
    },
    {
     "name": "stderr",
     "output_type": "stream",
     "text": [
      "100%|██████████| 3124/3124 [00:02<00:00, 1185.52it/s]\n"
     ]
    }
   ],
   "source": [
    "days = list(dic_rev_repo_exp_adj.keys())\n",
    "df_transaction_stats = em.get_transaction_stats(\n",
    "            df_rev_repo_trans=df_rev_repo_trans,\n",
    "            extension=\" av. network\",\n",
    "            days=days,\n",
    "            path=f\"{path}transaction_view/\",\n",
    "        )\n",
    "\n",
    "# plot the time evolution of the av network trans level metrics\n",
    "for fig in [par.fig_repo_transactions_maturity_av_network, par.fig_repo_transactions_notional_av_network, par.fig_number_repo_transactions_av_network]:\n",
    "    gx.plot_network_trajectory(\n",
    "            df=df_transaction_stats,\n",
    "            cols=fig[1],\n",
    "            file_name=f\"{path}{fig[0]}.pdf\",\n",
    "        )"
   ]
  },
  {
   "attachments": {},
   "cell_type": "markdown",
   "id": "14c1d601",
   "metadata": {},
   "source": [
    "### 2.3.2 reverse repos by notice period (static)"
   ]
  },
  {
   "cell_type": "code",
   "execution_count": 22,
   "id": "60b2d192",
   "metadata": {},
   "outputs": [],
   "source": [
    "# plot notional by notice period\n",
    "gx.plot_notional_by_notice_period(df_mmsr_secured, path=f\"{path}transaction_view/\", plot_period=plot_period)"
   ]
  },
  {
   "attachments": {},
   "cell_type": "markdown",
   "id": "24ce5244",
   "metadata": {},
   "source": [
    "### 2.3.3 colletral ising code reuse"
   ]
  },
  {
   "cell_type": "code",
   "execution_count": 23,
   "id": "098159ef",
   "metadata": {},
   "outputs": [],
   "source": [
    "df_isin = em.get_df_isin(df_mmsr_secured_expanded, path=f\"{path}transaction_view/\")\n",
    "gx.plot_collateral_reuse(df_isin=df_isin, path=f\"{path}transaction_view/\", plot_period=plot_period)"
   ]
  },
  {
   "attachments": {},
   "cell_type": "markdown",
   "id": "4c2702a9",
   "metadata": {},
   "source": [
    "# 3 tools"
   ]
  },
  {
   "attachments": {},
   "cell_type": "markdown",
   "id": "15562a4a",
   "metadata": {},
   "source": [
    "## 3.1 examples of density / histogram in log - log"
   ]
  },
  {
   "cell_type": "code",
   "execution_count": 24,
   "id": "d8229ad9",
   "metadata": {},
   "outputs": [
    {
     "data": {
      "image/png": "[encoded data removed]",
      "text/plain": [
       "<Figure size 800x400 with 1 Axes>"
      ]
     },
     "metadata": {},
     "output_type": "display_data"
    }
   ],
   "source": [
    "# Pareto law\n",
    "\n",
    "import numpy as np\n",
    "import matplotlib.pyplot as plt\n",
    "import seaborn as sns\n",
    "\n",
    "# Generate random data\n",
    "x = np.random.pareto(3,size=100000)\n",
    "\n",
    "# Compute the absolute value and sign of the data\n",
    "abs_x = np.abs(x)\n",
    "sign_x = np.sign(x)\n",
    "\n",
    "# Set up the figure\n",
    "fig, ax = plt.subplots(figsize=(8, 4))\n",
    "\n",
    "# Plot the KDE on a log scale with the transformed data\n",
    "sns.kdeplot(x.clip(0.5,5), ax=ax, cut=0, fill=True)\n",
    "ax.set_xscale('log')\n",
    "\n",
    "# Set the y-axis to log scale\n",
    "ax.set_yscale('log')\n",
    "\n",
    "# Set axis labels\n",
    "ax.set_xlabel('value')\n",
    "ax.set_ylabel('density')\n",
    "\n",
    "# Show the plot\n",
    "plt.show()"
   ]
  },
  {
   "cell_type": "code",
   "execution_count": 25,
   "id": "ff021268",
   "metadata": {},
   "outputs": [
    {
     "data": {
      "image/png": "[encoded data removed]",
      "text/plain": [
       "<Figure size 800x400 with 1 Axes>"
      ]
     },
     "metadata": {},
     "output_type": "display_data"
    }
   ],
   "source": [
    "# student law\n",
    "\n",
    "import numpy as np\n",
    "import matplotlib.pyplot as plt\n",
    "import seaborn as sns\n",
    "\n",
    "# Generate random data\n",
    "x = np.random.standard_t(1,size=100000)\n",
    "\n",
    "# Compute the absolute value and sign of the data\n",
    "abs_x = np.abs(x)\n",
    "sign_x = np.sign(x)\n",
    "\n",
    "# Set up the figure\n",
    "fig, ax = plt.subplots(figsize=(8, 4))\n",
    "\n",
    "# Plot the KDE on a log scale with the transformed data\n",
    "sns.kdeplot(x.clip(-10,10), ax=ax, fill=True, cut=0)\n",
    "ax.set_xscale('symlog', linthresh=0.1)\n",
    "\n",
    "# Set the y-axis to log scale\n",
    "ax.set_yscale('log')\n",
    "\n",
    "# Set axis labels\n",
    "ax.set_xlabel('Value')\n",
    "ax.set_ylabel('Density')\n",
    "\n",
    "# Show the plot\n",
    "plt.show()"
   ]
  },
  {
   "attachments": {},
   "cell_type": "markdown",
   "id": "0ae2e695",
   "metadata": {},
   "source": [
    "## 3.2 multiple histogram on the same plot"
   ]
  },
  {
   "cell_type": "code",
   "execution_count": 26,
   "id": "ee9801d6",
   "metadata": {},
   "outputs": [
    {
     "data": {
      "image/png": "[encoded data removed]",
      "text/plain": [
       "<Figure size 640x480 with 2 Axes>"
      ]
     },
     "metadata": {},
     "output_type": "display_data"
    }
   ],
   "source": [
    "from matplotlib import pyplot as plt\n",
    "\n",
    "fig, (ax1,ax2) = plt.subplots(1,2)\n",
    "pos = 0\n",
    "width = 0.2\n",
    "for  i in range(10):\n",
    "    binary_adj = np.random.randint(0,2,(10,10))\n",
    "    bank_network = nx.from_numpy_array(\n",
    "                binary_adj,\n",
    "                parallel_edges=False,\n",
    "                create_using=nx.DiGraph,\n",
    "            )  # first define a networkx object.\n",
    "    ar_in_degree = np.array(bank_network.in_degree())[:,1]\n",
    "    hist = np.unique(ar_in_degree, return_counts=True)\n",
    "    ax1.bar(hist[0] + pos, hist[1], width=0.01)\n",
    "    ax2.bar(hist[0] + pos, hist[1], width=0.01)\n",
    "    pos = pos +width +0.1\n",
    "\n"
   ]
  },
  {
   "attachments": {},
   "cell_type": "markdown",
   "id": "1f3b28eb",
   "metadata": {},
   "source": [
    "## 3.3 power low fitting"
   ]
  },
  {
   "cell_type": "code",
   "execution_count": 27,
   "id": "a9113cea",
   "metadata": {},
   "outputs": [
    {
     "name": "stderr",
     "output_type": "stream",
     "text": [
      "Calculating best minimal value for power law fit\n",
      "c:\\Users\\VictorLeCoz\\Anaconda3\\envs\\interbank_network\\lib\\site-packages\\powerlaw.py:699: RuntimeWarning: invalid value encountered in divide\n",
      "  (CDF_diff**2) /\n"
     ]
    },
    {
     "name": "stdout",
     "output_type": "stream",
     "text": [
      "3.5221272408860838\n",
      "1.9388793355633158\n"
     ]
    },
    {
     "name": "stderr",
     "output_type": "stream",
     "text": [
      "c:\\Users\\VictorLeCoz\\Anaconda3\\envs\\interbank_network\\lib\\site-packages\\powerlaw.py:1605: RuntimeWarning: invalid value encountered in divide\n",
      "  CDF = CDF/norm\n",
      "'nan' in fit cumulative distribution values.\n",
      "Likely underflow or overflow error: the optimal fit for this distribution gives values that are so extreme that we lack the numerical precision to calculate them.\n",
      "'nan' in fit cumulative distribution values.\n",
      "Likely underflow or overflow error: the optimal fit for this distribution gives values that are so extreme that we lack the numerical precision to calculate them.\n"
     ]
    },
    {
     "data": {
      "text/plain": [
       "<Axes: >"
      ]
     },
     "execution_count": 27,
     "metadata": {},
     "output_type": "execute_result"
    },
    {
     "data": {
      "image/png": "[encoded data removed]",
      "text/plain": [
       "<Figure size 640x480 with 1 Axes>"
      ]
     },
     "metadata": {},
     "output_type": "display_data"
    }
   ],
   "source": [
    "# fitting\n",
    "import powerlaw\n",
    "import numpy as np\n",
    "sr_data = np.random.pareto(3,size=1000) # data can be list or numpy array\n",
    "powerlaw_fit = powerlaw.Fit(sr_data)\n",
    "print(powerlaw_fit.power_law.alpha)\n",
    "print(powerlaw_fit.power_law.xmin)\n",
    "R, p = powerlaw_fit.distribution_compare('power_law', 'exponential')\n",
    "fig2 = powerlaw_fit.plot_ccdf(color = \"r\", linewidth = 2)\n",
    "powerlaw_fit.power_law.plot_ccdf(color = \"r\", linestyle = \"--\", ax = fig2)\n",
    "powerlaw_fit.lognormal.plot_ccdf(ax=fig2)\n",
    "powerlaw_fit.exponential.plot_ccdf(ax=fig2)"
   ]
  },
  {
   "cell_type": "markdown",
   "id": "dd635593",
   "metadata": {},
   "source": [
    "## 3.4 build the calendar"
   ]
  },
  {
   "cell_type": "code",
   "execution_count": 28,
   "id": "15789f6b",
   "metadata": {},
   "outputs": [
    {
     "data": {
      "text/plain": [
       "[datetime.date(2000, 1, 1),\n",
       " datetime.date(2000, 4, 21),\n",
       " datetime.date(2000, 4, 24),\n",
       " datetime.date(2000, 5, 1),\n",
       " datetime.date(2000, 12, 25),\n",
       " datetime.date(2000, 12, 26),\n",
       " datetime.date(2001, 1, 1),\n",
       " datetime.date(2001, 4, 13),\n",
       " datetime.date(2001, 4, 16),\n",
       " datetime.date(2001, 5, 1),\n",
       " datetime.date(2001, 12, 25),\n",
       " datetime.date(2001, 12, 26),\n",
       " datetime.date(2002, 1, 1),\n",
       " datetime.date(2002, 3, 29),\n",
       " datetime.date(2002, 4, 1),\n",
       " datetime.date(2002, 5, 1),\n",
       " datetime.date(2002, 12, 25),\n",
       " datetime.date(2002, 12, 26),\n",
       " datetime.date(2003, 1, 1),\n",
       " datetime.date(2003, 4, 18),\n",
       " datetime.date(2003, 4, 21),\n",
       " datetime.date(2003, 5, 1),\n",
       " datetime.date(2003, 12, 25),\n",
       " datetime.date(2003, 12, 26),\n",
       " datetime.date(2004, 1, 1),\n",
       " datetime.date(2004, 4, 9),\n",
       " datetime.date(2004, 4, 12),\n",
       " datetime.date(2004, 5, 1),\n",
       " datetime.date(2004, 12, 25),\n",
       " datetime.date(2004, 12, 26),\n",
       " datetime.date(2005, 1, 1),\n",
       " datetime.date(2005, 3, 25),\n",
       " datetime.date(2005, 3, 28),\n",
       " datetime.date(2005, 5, 1),\n",
       " datetime.date(2005, 12, 25),\n",
       " datetime.date(2005, 12, 26),\n",
       " datetime.date(2006, 1, 1),\n",
       " datetime.date(2006, 4, 14),\n",
       " datetime.date(2006, 4, 17),\n",
       " datetime.date(2006, 5, 1),\n",
       " datetime.date(2006, 12, 25),\n",
       " datetime.date(2006, 12, 26),\n",
       " datetime.date(2007, 1, 1),\n",
       " datetime.date(2007, 4, 6),\n",
       " datetime.date(2007, 4, 9),\n",
       " datetime.date(2007, 5, 1),\n",
       " datetime.date(2007, 12, 25),\n",
       " datetime.date(2007, 12, 26),\n",
       " datetime.date(2008, 1, 1),\n",
       " datetime.date(2008, 3, 21),\n",
       " datetime.date(2008, 3, 24),\n",
       " datetime.date(2008, 5, 1),\n",
       " datetime.date(2008, 12, 25),\n",
       " datetime.date(2008, 12, 26),\n",
       " datetime.date(2009, 1, 1),\n",
       " datetime.date(2009, 4, 10),\n",
       " datetime.date(2009, 4, 13),\n",
       " datetime.date(2009, 5, 1),\n",
       " datetime.date(2009, 12, 25),\n",
       " datetime.date(2009, 12, 26),\n",
       " datetime.date(2010, 1, 1),\n",
       " datetime.date(2010, 4, 2),\n",
       " datetime.date(2010, 4, 5),\n",
       " datetime.date(2010, 5, 1),\n",
       " datetime.date(2010, 12, 25),\n",
       " datetime.date(2010, 12, 26),\n",
       " datetime.date(2011, 1, 1),\n",
       " datetime.date(2011, 4, 22),\n",
       " datetime.date(2011, 4, 25),\n",
       " datetime.date(2011, 5, 1),\n",
       " datetime.date(2011, 12, 25),\n",
       " datetime.date(2011, 12, 26),\n",
       " datetime.date(2012, 1, 1),\n",
       " datetime.date(2012, 4, 6),\n",
       " datetime.date(2012, 4, 9),\n",
       " datetime.date(2012, 5, 1),\n",
       " datetime.date(2012, 12, 25),\n",
       " datetime.date(2012, 12, 26),\n",
       " datetime.date(2013, 1, 1),\n",
       " datetime.date(2013, 3, 29),\n",
       " datetime.date(2013, 4, 1),\n",
       " datetime.date(2013, 5, 1),\n",
       " datetime.date(2013, 12, 25),\n",
       " datetime.date(2013, 12, 26),\n",
       " datetime.date(2014, 1, 1),\n",
       " datetime.date(2014, 4, 18),\n",
       " datetime.date(2014, 4, 21),\n",
       " datetime.date(2014, 5, 1),\n",
       " datetime.date(2014, 12, 25),\n",
       " datetime.date(2014, 12, 26),\n",
       " datetime.date(2015, 1, 1),\n",
       " datetime.date(2015, 4, 3),\n",
       " datetime.date(2015, 4, 6),\n",
       " datetime.date(2015, 5, 1),\n",
       " datetime.date(2015, 12, 25),\n",
       " datetime.date(2015, 12, 26),\n",
       " datetime.date(2016, 1, 1),\n",
       " datetime.date(2016, 3, 25),\n",
       " datetime.date(2016, 3, 28),\n",
       " datetime.date(2016, 5, 1),\n",
       " datetime.date(2016, 12, 25),\n",
       " datetime.date(2016, 12, 26),\n",
       " datetime.date(2017, 1, 1),\n",
       " datetime.date(2017, 4, 14),\n",
       " datetime.date(2017, 4, 17),\n",
       " datetime.date(2017, 5, 1),\n",
       " datetime.date(2017, 12, 25),\n",
       " datetime.date(2017, 12, 26),\n",
       " datetime.date(2018, 1, 1),\n",
       " datetime.date(2018, 3, 30),\n",
       " datetime.date(2018, 4, 2),\n",
       " datetime.date(2018, 5, 1),\n",
       " datetime.date(2018, 12, 25),\n",
       " datetime.date(2018, 12, 26),\n",
       " datetime.date(2019, 1, 1),\n",
       " datetime.date(2019, 4, 19),\n",
       " datetime.date(2019, 4, 22),\n",
       " datetime.date(2019, 5, 1),\n",
       " datetime.date(2019, 12, 25),\n",
       " datetime.date(2019, 12, 26),\n",
       " datetime.date(2020, 1, 1),\n",
       " datetime.date(2020, 4, 10),\n",
       " datetime.date(2020, 4, 13),\n",
       " datetime.date(2020, 5, 1),\n",
       " datetime.date(2020, 12, 25),\n",
       " datetime.date(2020, 12, 26),\n",
       " datetime.date(2021, 1, 1),\n",
       " datetime.date(2021, 4, 2),\n",
       " datetime.date(2021, 4, 5),\n",
       " datetime.date(2021, 5, 1),\n",
       " datetime.date(2021, 12, 25),\n",
       " datetime.date(2021, 12, 26),\n",
       " datetime.date(2022, 1, 1),\n",
       " datetime.date(2022, 4, 15),\n",
       " datetime.date(2022, 4, 18),\n",
       " datetime.date(2022, 5, 1),\n",
       " datetime.date(2022, 12, 25),\n",
       " datetime.date(2022, 12, 26),\n",
       " datetime.date(2023, 1, 1),\n",
       " datetime.date(2023, 4, 7),\n",
       " datetime.date(2023, 4, 10),\n",
       " datetime.date(2023, 5, 1),\n",
       " datetime.date(2023, 12, 25),\n",
       " datetime.date(2023, 12, 26),\n",
       " datetime.date(2024, 1, 1),\n",
       " datetime.date(2024, 3, 29),\n",
       " datetime.date(2024, 4, 1),\n",
       " datetime.date(2024, 5, 1),\n",
       " datetime.date(2024, 12, 25),\n",
       " datetime.date(2024, 12, 26)]"
      ]
     },
     "execution_count": 28,
     "metadata": {},
     "output_type": "execute_result"
    }
   ],
   "source": [
    "from workalendar.europe import EuropeanCentralBank\n",
    "\n",
    "# build the list of holidays\n",
    "holidays = []\n",
    "for year in range(2000,2025):\n",
    "    holidays = holidays + EuropeanCentralBank().holidays(year)\n",
    "\n",
    "# reformating into a list\n",
    "holidays = [tuple_day[0] for tuple_day in holidays]\n",
    "holidays"
   ]
  },
  {
   "attachments": {},
   "cell_type": "markdown",
   "id": "666209a7",
   "metadata": {},
   "source": [
    "## 3.4 quality check on the cleaning of mmsr from evergreens"
   ]
  },
  {
   "cell_type": "code",
   "execution_count": 29,
   "id": "90ca29bd",
   "metadata": {},
   "outputs": [
    {
     "ename": "KeyError",
     "evalue": "'trans_id'",
     "output_type": "error",
     "traceback": [
      "\u001b[1;31m---------------------------------------------------------------------------\u001b[0m",
      "\u001b[1;31mKeyError\u001b[0m                                  Traceback (most recent call last)",
      "File \u001b[1;32mc:\\Users\\VictorLeCoz\\Anaconda3\\envs\\interbank_network\\lib\\site-packages\\pandas\\core\\indexes\\base.py:3802\u001b[0m, in \u001b[0;36mIndex.get_loc\u001b[1;34m(self, key, method, tolerance)\u001b[0m\n\u001b[0;32m   3801\u001b[0m \u001b[39mtry\u001b[39;00m:\n\u001b[1;32m-> 3802\u001b[0m     \u001b[39mreturn\u001b[39;00m \u001b[39mself\u001b[39;49m\u001b[39m.\u001b[39;49m_engine\u001b[39m.\u001b[39;49mget_loc(casted_key)\n\u001b[0;32m   3803\u001b[0m \u001b[39mexcept\u001b[39;00m \u001b[39mKeyError\u001b[39;00m \u001b[39mas\u001b[39;00m err:\n",
      "File \u001b[1;32mc:\\Users\\VictorLeCoz\\Anaconda3\\envs\\interbank_network\\lib\\site-packages\\pandas\\_libs\\index.pyx:138\u001b[0m, in \u001b[0;36mpandas._libs.index.IndexEngine.get_loc\u001b[1;34m()\u001b[0m\n",
      "File \u001b[1;32mc:\\Users\\VictorLeCoz\\Anaconda3\\envs\\interbank_network\\lib\\site-packages\\pandas\\_libs\\index.pyx:165\u001b[0m, in \u001b[0;36mpandas._libs.index.IndexEngine.get_loc\u001b[1;34m()\u001b[0m\n",
      "File \u001b[1;32mpandas\\_libs\\hashtable_class_helper.pxi:5745\u001b[0m, in \u001b[0;36mpandas._libs.hashtable.PyObjectHashTable.get_item\u001b[1;34m()\u001b[0m\n",
      "File \u001b[1;32mpandas\\_libs\\hashtable_class_helper.pxi:5753\u001b[0m, in \u001b[0;36mpandas._libs.hashtable.PyObjectHashTable.get_item\u001b[1;34m()\u001b[0m\n",
      "\u001b[1;31mKeyError\u001b[0m: 'trans_id'",
      "\nThe above exception was the direct cause of the following exception:\n",
      "\u001b[1;31mKeyError\u001b[0m                                  Traceback (most recent call last)",
      "Cell \u001b[1;32mIn[29], line 9\u001b[0m\n\u001b[0;32m      5\u001b[0m         \u001b[39mreturn\u001b[39;00m \u001b[39mlen\u001b[39m(row[\u001b[39m\"\u001b[39m\u001b[39mtrans_id\u001b[39m\u001b[39m\"\u001b[39m])\n\u001b[0;32m      8\u001b[0m apply_func \u001b[39m=\u001b[39m \u001b[39mlambda\u001b[39;00m row: get_len(row)\n\u001b[1;32m----> 9\u001b[0m df_rev_repo_trans[\u001b[39m\"\u001b[39m\u001b[39mlen\u001b[39m\u001b[39m\"\u001b[39m] \u001b[39m=\u001b[39m df_rev_repo_trans\u001b[39m.\u001b[39;49mapply(apply_func, axis\u001b[39m=\u001b[39;49m\u001b[39m1\u001b[39;49m)\n\u001b[0;32m     10\u001b[0m df_rev_repo_trans[[\u001b[39m\"\u001b[39m\u001b[39mlen\u001b[39m\u001b[39m\"\u001b[39m]]\u001b[39m.\u001b[39mvalue_counts()\n",
      "File \u001b[1;32mc:\\Users\\VictorLeCoz\\Anaconda3\\envs\\interbank_network\\lib\\site-packages\\pandas\\core\\frame.py:9568\u001b[0m, in \u001b[0;36mDataFrame.apply\u001b[1;34m(self, func, axis, raw, result_type, args, **kwargs)\u001b[0m\n\u001b[0;32m   9557\u001b[0m \u001b[39mfrom\u001b[39;00m \u001b[39mpandas\u001b[39;00m\u001b[39m.\u001b[39;00m\u001b[39mcore\u001b[39;00m\u001b[39m.\u001b[39;00m\u001b[39mapply\u001b[39;00m \u001b[39mimport\u001b[39;00m frame_apply\n\u001b[0;32m   9559\u001b[0m op \u001b[39m=\u001b[39m frame_apply(\n\u001b[0;32m   9560\u001b[0m     \u001b[39mself\u001b[39m,\n\u001b[0;32m   9561\u001b[0m     func\u001b[39m=\u001b[39mfunc,\n\u001b[1;32m   (...)\u001b[0m\n\u001b[0;32m   9566\u001b[0m     kwargs\u001b[39m=\u001b[39mkwargs,\n\u001b[0;32m   9567\u001b[0m )\n\u001b[1;32m-> 9568\u001b[0m \u001b[39mreturn\u001b[39;00m op\u001b[39m.\u001b[39;49mapply()\u001b[39m.\u001b[39m__finalize__(\u001b[39mself\u001b[39m, method\u001b[39m=\u001b[39m\u001b[39m\"\u001b[39m\u001b[39mapply\u001b[39m\u001b[39m\"\u001b[39m)\n",
      "File \u001b[1;32mc:\\Users\\VictorLeCoz\\Anaconda3\\envs\\interbank_network\\lib\\site-packages\\pandas\\core\\apply.py:764\u001b[0m, in \u001b[0;36mFrameApply.apply\u001b[1;34m(self)\u001b[0m\n\u001b[0;32m    761\u001b[0m \u001b[39melif\u001b[39;00m \u001b[39mself\u001b[39m\u001b[39m.\u001b[39mraw:\n\u001b[0;32m    762\u001b[0m     \u001b[39mreturn\u001b[39;00m \u001b[39mself\u001b[39m\u001b[39m.\u001b[39mapply_raw()\n\u001b[1;32m--> 764\u001b[0m \u001b[39mreturn\u001b[39;00m \u001b[39mself\u001b[39;49m\u001b[39m.\u001b[39;49mapply_standard()\n",
      "File \u001b[1;32mc:\\Users\\VictorLeCoz\\Anaconda3\\envs\\interbank_network\\lib\\site-packages\\pandas\\core\\apply.py:891\u001b[0m, in \u001b[0;36mFrameApply.apply_standard\u001b[1;34m(self)\u001b[0m\n\u001b[0;32m    890\u001b[0m \u001b[39mdef\u001b[39;00m \u001b[39mapply_standard\u001b[39m(\u001b[39mself\u001b[39m):\n\u001b[1;32m--> 891\u001b[0m     results, res_index \u001b[39m=\u001b[39m \u001b[39mself\u001b[39;49m\u001b[39m.\u001b[39;49mapply_series_generator()\n\u001b[0;32m    893\u001b[0m     \u001b[39m# wrap results\u001b[39;00m\n\u001b[0;32m    894\u001b[0m     \u001b[39mreturn\u001b[39;00m \u001b[39mself\u001b[39m\u001b[39m.\u001b[39mwrap_results(results, res_index)\n",
      "File \u001b[1;32mc:\\Users\\VictorLeCoz\\Anaconda3\\envs\\interbank_network\\lib\\site-packages\\pandas\\core\\apply.py:907\u001b[0m, in \u001b[0;36mFrameApply.apply_series_generator\u001b[1;34m(self)\u001b[0m\n\u001b[0;32m    904\u001b[0m \u001b[39mwith\u001b[39;00m option_context(\u001b[39m\"\u001b[39m\u001b[39mmode.chained_assignment\u001b[39m\u001b[39m\"\u001b[39m, \u001b[39mNone\u001b[39;00m):\n\u001b[0;32m    905\u001b[0m     \u001b[39mfor\u001b[39;00m i, v \u001b[39min\u001b[39;00m \u001b[39menumerate\u001b[39m(series_gen):\n\u001b[0;32m    906\u001b[0m         \u001b[39m# ignore SettingWithCopy here in case the user mutates\u001b[39;00m\n\u001b[1;32m--> 907\u001b[0m         results[i] \u001b[39m=\u001b[39m \u001b[39mself\u001b[39;49m\u001b[39m.\u001b[39;49mf(v)\n\u001b[0;32m    908\u001b[0m         \u001b[39mif\u001b[39;00m \u001b[39misinstance\u001b[39m(results[i], ABCSeries):\n\u001b[0;32m    909\u001b[0m             \u001b[39m# If we have a view on v, we need to make a copy because\u001b[39;00m\n\u001b[0;32m    910\u001b[0m             \u001b[39m#  series_generator will swap out the underlying data\u001b[39;00m\n\u001b[0;32m    911\u001b[0m             results[i] \u001b[39m=\u001b[39m results[i]\u001b[39m.\u001b[39mcopy(deep\u001b[39m=\u001b[39m\u001b[39mFalse\u001b[39;00m)\n",
      "Cell \u001b[1;32mIn[29], line 8\u001b[0m, in \u001b[0;36m<lambda>\u001b[1;34m(row)\u001b[0m\n\u001b[0;32m      4\u001b[0m     \u001b[39melse\u001b[39;00m:\n\u001b[0;32m      5\u001b[0m         \u001b[39mreturn\u001b[39;00m \u001b[39mlen\u001b[39m(row[\u001b[39m\"\u001b[39m\u001b[39mtrans_id\u001b[39m\u001b[39m\"\u001b[39m])\n\u001b[1;32m----> 8\u001b[0m apply_func \u001b[39m=\u001b[39m \u001b[39mlambda\u001b[39;00m row: get_len(row)\n\u001b[0;32m      9\u001b[0m df_rev_repo_trans[\u001b[39m\"\u001b[39m\u001b[39mlen\u001b[39m\u001b[39m\"\u001b[39m] \u001b[39m=\u001b[39m df_rev_repo_trans\u001b[39m.\u001b[39mapply(apply_func, axis\u001b[39m=\u001b[39m\u001b[39m1\u001b[39m)\n\u001b[0;32m     10\u001b[0m df_rev_repo_trans[[\u001b[39m\"\u001b[39m\u001b[39mlen\u001b[39m\u001b[39m\"\u001b[39m]]\u001b[39m.\u001b[39mvalue_counts()\n",
      "Cell \u001b[1;32mIn[29], line 2\u001b[0m, in \u001b[0;36mget_len\u001b[1;34m(row)\u001b[0m\n\u001b[0;32m      1\u001b[0m \u001b[39mdef\u001b[39;00m \u001b[39mget_len\u001b[39m(row):\n\u001b[1;32m----> 2\u001b[0m     \u001b[39mif\u001b[39;00m \u001b[39misinstance\u001b[39m(row[\u001b[39m\"\u001b[39;49m\u001b[39mtrans_id\u001b[39;49m\u001b[39m\"\u001b[39;49m], \u001b[39mint\u001b[39m):\n\u001b[0;32m      3\u001b[0m         \u001b[39mreturn\u001b[39;00m \u001b[39m1\u001b[39m \n\u001b[0;32m      4\u001b[0m     \u001b[39melse\u001b[39;00m:\n",
      "File \u001b[1;32mc:\\Users\\VictorLeCoz\\Anaconda3\\envs\\interbank_network\\lib\\site-packages\\pandas\\core\\series.py:981\u001b[0m, in \u001b[0;36mSeries.__getitem__\u001b[1;34m(self, key)\u001b[0m\n\u001b[0;32m    978\u001b[0m     \u001b[39mreturn\u001b[39;00m \u001b[39mself\u001b[39m\u001b[39m.\u001b[39m_values[key]\n\u001b[0;32m    980\u001b[0m \u001b[39melif\u001b[39;00m key_is_scalar:\n\u001b[1;32m--> 981\u001b[0m     \u001b[39mreturn\u001b[39;00m \u001b[39mself\u001b[39;49m\u001b[39m.\u001b[39;49m_get_value(key)\n\u001b[0;32m    983\u001b[0m \u001b[39mif\u001b[39;00m is_hashable(key):\n\u001b[0;32m    984\u001b[0m     \u001b[39m# Otherwise index.get_value will raise InvalidIndexError\u001b[39;00m\n\u001b[0;32m    985\u001b[0m     \u001b[39mtry\u001b[39;00m:\n\u001b[0;32m    986\u001b[0m         \u001b[39m# For labels that don't resolve as scalars like tuples and frozensets\u001b[39;00m\n",
      "File \u001b[1;32mc:\\Users\\VictorLeCoz\\Anaconda3\\envs\\interbank_network\\lib\\site-packages\\pandas\\core\\series.py:1089\u001b[0m, in \u001b[0;36mSeries._get_value\u001b[1;34m(self, label, takeable)\u001b[0m\n\u001b[0;32m   1086\u001b[0m     \u001b[39mreturn\u001b[39;00m \u001b[39mself\u001b[39m\u001b[39m.\u001b[39m_values[label]\n\u001b[0;32m   1088\u001b[0m \u001b[39m# Similar to Index.get_value, but we do not fall back to positional\u001b[39;00m\n\u001b[1;32m-> 1089\u001b[0m loc \u001b[39m=\u001b[39m \u001b[39mself\u001b[39;49m\u001b[39m.\u001b[39;49mindex\u001b[39m.\u001b[39;49mget_loc(label)\n\u001b[0;32m   1090\u001b[0m \u001b[39mreturn\u001b[39;00m \u001b[39mself\u001b[39m\u001b[39m.\u001b[39mindex\u001b[39m.\u001b[39m_get_values_for_loc(\u001b[39mself\u001b[39m, loc, label)\n",
      "File \u001b[1;32mc:\\Users\\VictorLeCoz\\Anaconda3\\envs\\interbank_network\\lib\\site-packages\\pandas\\core\\indexes\\base.py:3804\u001b[0m, in \u001b[0;36mIndex.get_loc\u001b[1;34m(self, key, method, tolerance)\u001b[0m\n\u001b[0;32m   3802\u001b[0m     \u001b[39mreturn\u001b[39;00m \u001b[39mself\u001b[39m\u001b[39m.\u001b[39m_engine\u001b[39m.\u001b[39mget_loc(casted_key)\n\u001b[0;32m   3803\u001b[0m \u001b[39mexcept\u001b[39;00m \u001b[39mKeyError\u001b[39;00m \u001b[39mas\u001b[39;00m err:\n\u001b[1;32m-> 3804\u001b[0m     \u001b[39mraise\u001b[39;00m \u001b[39mKeyError\u001b[39;00m(key) \u001b[39mfrom\u001b[39;00m \u001b[39merr\u001b[39;00m\n\u001b[0;32m   3805\u001b[0m \u001b[39mexcept\u001b[39;00m \u001b[39mTypeError\u001b[39;00m:\n\u001b[0;32m   3806\u001b[0m     \u001b[39m# If we have a listlike key, _check_indexing_error will raise\u001b[39;00m\n\u001b[0;32m   3807\u001b[0m     \u001b[39m#  InvalidIndexError. Otherwise we fall through and re-raise\u001b[39;00m\n\u001b[0;32m   3808\u001b[0m     \u001b[39m#  the TypeError.\u001b[39;00m\n\u001b[0;32m   3809\u001b[0m     \u001b[39mself\u001b[39m\u001b[39m.\u001b[39m_check_indexing_error(key)\n",
      "\u001b[1;31mKeyError\u001b[0m: 'trans_id'"
     ]
    }
   ],
   "source": [
    "# def get_len(row):\n",
    "#     if isinstance(row[\"trans_id\"], int):\n",
    "#         return 1 \n",
    "#     else:\n",
    "#         return len(row[\"trans_id\"])\n",
    "\n",
    "\n",
    "# apply_func = lambda row: get_len(row)\n",
    "# df_rev_repo_trans[\"len\"] = df_rev_repo_trans.apply(apply_func, axis=1)\n",
    "# df_rev_repo_trans[[\"len\"]].value_counts()"
   ]
  }
 ],
 "metadata": {
  "kernelspec": {
   "display_name": "interbank_network",
   "language": "python",
   "name": "python3"
  },
  "language_info": {
   "codemirror_mode": {
    "name": "ipython",
    "version": 3
   },
   "file_extension": ".py",
   "mimetype": "text/x-python",
   "name": "python",
   "nbconvert_exporter": "python",
   "pygments_lexer": "ipython3",
   "version": "3.8.16"
  },
  "vscode": {
   "interpreter": {
    "hash": "32ea9c90008a5dcaff259cd18f14c457e4ce7786446437a8837b659a7369a5ef"
   }
  }
 },
 "nbformat": 4,
 "nbformat_minor": 5
}
