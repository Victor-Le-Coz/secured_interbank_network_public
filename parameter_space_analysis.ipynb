{
 "cells": [
  {
   "cell_type": "code",
   "execution_count": 2,
   "metadata": {},
   "outputs": [],
   "source": [
    "import functions as fct\n",
    "import pandas as pd\n",
    "import dynamics as dyn\n",
    "import numpy as np\n",
    "import dask\n",
    "from cluster import new_launch_cluster\n",
    "import graphics as gx\n",
    "\n",
    "# parameter setting\n",
    "nb_banks=50\n",
    "path = \"./results/parameter_space/test/\"\n",
    "initial_deposits_size = 40\n",
    "\n",
    "# reg ratios\n",
    "alpha_init=False  # initial cash (< 1/(1-gamma) - beta)\n",
    "alpha=0.01\n",
    "beta_init=0.5 # initial collateral  (< 1/(1-gamma) - alpha)\n",
    "beta_reg=0.5\n",
    "beta_star=0.5\n",
    "gamma=0.03\n",
    "gamma_init = 2.5*gamma\n",
    "collateral_value=1.0\n",
    "\n",
    "# initialisation of deposits size\n",
    "initialization_method=\"pareto\"\n",
    "alpha_pareto=1.3\n",
    "\n",
    "# shocks on deposits \n",
    "shocks_method=\"non-conservative\"\n",
    "shocks_law=\"normal-mean-reverting\"\n",
    "shocks_vol=0.01 # 0.05\n",
    "\n",
    "# min trans size\n",
    "min_repo_trans_size=1e-8  # 1e-8\n",
    "\n",
    "# dynamics & ploting\n",
    "nb_steps=4*int(5e3)\n",
    "dump_period=int(5e3)\n",
    "plot_period=int(5e2)\n",
    "cp_option=True\n",
    "heavy_plot=False\n",
    "\n",
    "# LCR mgt\n",
    "LCR_mgt_opt=True\n",
    "\n",
    "# leverage mgt\n",
    "end_repo_period=False # if int, periodic end repo / if false, leverage mgt\n",
    "gamma_star = 1.5*gamma\n",
    "\n",
    "# money creation\n",
    "loan_tenor=nb_steps # if int, money creation / if false. no new loans\n",
    "loan_period=1\n",
    "new_loans_vol = 0 # standard deviation around the mean creation of loans\n",
    "new_loans_mean = 5e-2/250 # daily mean increase in loans expressed as a percentage of the intital loans (the other option would be a relative increase but it is unstable np.exp(np.log(1.01)/250)-1 = 4e-5)\n",
    "beta_new = beta_reg # if number, new colat / if false, no new colat \n",
    "# gamma_new = gamma_star*(beta_reg+1)/(1+gamma_star*beta_reg) # if number, new own funds / if false, no new own funds. we need to also add beta reg to ensure LCR can be covered with additional cash (and we still match the solvency ratio despite this excess of stress) in the case of no payment shocks and no collateral creation\n",
    "gamma_new = gamma_init\n",
    "\n",
    "# substitution of collateral\n",
    "substitution = False\n",
    "\n",
    "dic_default_value = {\n",
    "    \"nb_banks\": nb_banks,\n",
    "    \"initial_deposits_size\": initial_deposits_size,\n",
    "    \"alpha_init\": alpha_init,\n",
    "    \"alpha\": alpha,\n",
    "    \"beta_init\": beta_init,\n",
    "    \"beta_reg\": beta_reg,\n",
    "    \"beta_star\": beta_star,\n",
    "    \"beta_new\": beta_new,\n",
    "    \"gamma_init\": gamma_init,\n",
    "    \"gamma\": gamma,\n",
    "    \"gamma_star\": gamma_star, \n",
    "    \"gamma_new\": gamma_new, \n",
    "    \"collateral_value\": collateral_value,\n",
    "    \"initialization_method\": initialization_method,\n",
    "    \"alpha_pareto\": alpha_pareto,\n",
    "    \"shocks_method\": shocks_method,\n",
    "    \"shocks_law\": shocks_law,\n",
    "    \"shocks_vol\": shocks_vol,\n",
    "    \"LCR_mgt_opt\": LCR_mgt_opt,\n",
    "    \"min_repo_trans_size\": min_repo_trans_size,\n",
    "    \"loan_tenor\": loan_tenor, # for money creation \n",
    "    \"loan_period\": loan_period,\n",
    "    \"new_loans_vol\": new_loans_vol,\n",
    "    \"new_loans_mean\": new_loans_mean,\n",
    "    \"end_repo_period\": end_repo_period,\n",
    "    \"nb_steps\": nb_steps,\n",
    "    \"path_results\": f\"{path}runs/\",\n",
    "    \"dump_period\": dump_period,\n",
    "    \"plot_period\": plot_period,\n",
    "    \"cp_option\": cp_option,\n",
    "    \"heavy_plot\": heavy_plot,  # False to avoid the number of linux node to explode\n",
    "    \"substitution\":substitution,\n",
    "}\n",
    "\n",
    "# special dictionary of parameters ranges \n",
    "list_dic_range_special = [\n",
    "    # {\"gamma_init\": [k*gamma for k in np.arange(2,3,0.1)],\n",
    "    # \"gamma_new\": [k*gamma for k in np.arange(2,3,0.1)],},\n",
    "    {\"min_repo_trans_size\": np.logspace(-15, 5, num=100)},\n",
    "]\n",
    "\n",
    "# general dictionary of parameters ranges\n",
    "list_dic_range_general = [\n",
    "    {\"nb_banks\": np.arange(1, 3)},\n",
    "    {\"initial_deposits_size\": np.logspace(-9, 3, num=50)},\n",
    "    {\"alpha_init\": np.arange(0, 1, 0.1)},\n",
    "    {\"beta_init\": np.arange(0, 1, 0.05)},\n",
    "    {\"beta_reg\": np.arange(0, 1, 0.05)},\n",
    "    {\"alpha_pareto\": np.logspace(0, 1, num=3)},\n",
    "    {\"shocks_vol\": np.arange(0, 0.30, 0.0025)},\n",
    "    {\"min_repo_trans_size\": np.logspace(-16, 2, num=3)},\n",
    "    {\"gamma_star\": np.arange(0, 10*gamma, 0.01)},\n",
    "] \n",
    "\n",
    "# define the dictionary to be used for the ranges\n",
    "list_dic_range = list_dic_range_special\n"
   ]
  },
  {
   "cell_type": "markdown",
   "metadata": {},
   "source": [
    "# run parameter space analysis"
   ]
  },
  {
   "cell_type": "code",
   "execution_count": 3,
   "metadata": {},
   "outputs": [
    {
     "data": {
      "text/plain": [
       "7.333333333333333"
      ]
     },
     "execution_count": 3,
     "metadata": {},
     "output_type": "execute_result"
    }
   ],
   "source": [
    "440/60"
   ]
  },
  {
   "cell_type": "code",
   "execution_count": 4,
   "metadata": {},
   "outputs": [
    {
     "data": {
      "text/html": [
       "<div>\n",
       "    <div style=\"width: 24px; height: 24px; background-color: #e1e1e1; border: 3px solid #9D9D9D; border-radius: 5px; position: absolute;\"> </div>\n",
       "    <div style=\"margin-left: 48px;\">\n",
       "        <h3 style=\"margin-bottom: 0px;\">Client</h3>\n",
       "        <p style=\"color: #9D9D9D; margin-bottom: 0px;\">Client-4de643a5-28d0-11ef-bb25-e4434b17e9c8</p>\n",
       "        <table style=\"width: 100%; text-align: left;\">\n",
       "\n",
       "        <tr>\n",
       "        \n",
       "            <td style=\"text-align: left;\"><strong>Connection method:</strong> Cluster object</td>\n",
       "            <td style=\"text-align: left;\"><strong>Cluster type:</strong> dask_jobqueue.SLURMCluster</td>\n",
       "        \n",
       "        </tr>\n",
       "\n",
       "        \n",
       "            <tr>\n",
       "                <td style=\"text-align: left;\">\n",
       "                    <strong>Dashboard: </strong> <a href=\"http://10.70.211.9:8787/status\" target=\"_blank\">http://10.70.211.9:8787/status</a>\n",
       "                </td>\n",
       "                <td style=\"text-align: left;\"></td>\n",
       "            </tr>\n",
       "        \n",
       "\n",
       "        </table>\n",
       "\n",
       "        \n",
       "\n",
       "        \n",
       "            <details>\n",
       "            <summary style=\"margin-bottom: 20px;\"><h3 style=\"display: inline;\">Cluster Info</h3></summary>\n",
       "            <div class=\"jp-RenderedHTMLCommon jp-RenderedHTML jp-mod-trusted jp-OutputArea-output\">\n",
       "    <div style=\"width: 24px; height: 24px; background-color: #e1e1e1; border: 3px solid #9D9D9D; border-radius: 5px; position: absolute;\">\n",
       "    </div>\n",
       "    <div style=\"margin-left: 48px;\">\n",
       "        <h3 style=\"margin-bottom: 0px; margin-top: 0px;\">SLURMCluster</h3>\n",
       "        <p style=\"color: #9D9D9D; margin-bottom: 0px;\">a1d73103</p>\n",
       "        <table style=\"width: 100%; text-align: left;\">\n",
       "            <tr>\n",
       "                <td style=\"text-align: left;\">\n",
       "                    <strong>Dashboard:</strong> <a href=\"http://10.70.211.9:8787/status\" target=\"_blank\">http://10.70.211.9:8787/status</a>\n",
       "                </td>\n",
       "                <td style=\"text-align: left;\">\n",
       "                    <strong>Workers:</strong> 0\n",
       "                </td>\n",
       "            </tr>\n",
       "            <tr>\n",
       "                <td style=\"text-align: left;\">\n",
       "                    <strong>Total threads:</strong> 0\n",
       "                </td>\n",
       "                <td style=\"text-align: left;\">\n",
       "                    <strong>Total memory:</strong> 0 B\n",
       "                </td>\n",
       "            </tr>\n",
       "            \n",
       "        </table>\n",
       "\n",
       "        <details>\n",
       "            <summary style=\"margin-bottom: 20px;\">\n",
       "                <h3 style=\"display: inline;\">Scheduler Info</h3>\n",
       "            </summary>\n",
       "\n",
       "            <div style=\"\">\n",
       "    <div>\n",
       "        <div style=\"width: 24px; height: 24px; background-color: #FFF7E5; border: 3px solid #FF6132; border-radius: 5px; position: absolute;\"> </div>\n",
       "        <div style=\"margin-left: 48px;\">\n",
       "            <h3 style=\"margin-bottom: 0px;\">Scheduler</h3>\n",
       "            <p style=\"color: #9D9D9D; margin-bottom: 0px;\">Scheduler-5cd8ce68-6119-4d6e-9aa3-2afc9cd2626d</p>\n",
       "            <table style=\"width: 100%; text-align: left;\">\n",
       "                <tr>\n",
       "                    <td style=\"text-align: left;\">\n",
       "                        <strong>Comm:</strong> tcp://10.70.211.9:42305\n",
       "                    </td>\n",
       "                    <td style=\"text-align: left;\">\n",
       "                        <strong>Workers:</strong> 0\n",
       "                    </td>\n",
       "                </tr>\n",
       "                <tr>\n",
       "                    <td style=\"text-align: left;\">\n",
       "                        <strong>Dashboard:</strong> <a href=\"http://10.70.211.9:8787/status\" target=\"_blank\">http://10.70.211.9:8787/status</a>\n",
       "                    </td>\n",
       "                    <td style=\"text-align: left;\">\n",
       "                        <strong>Total threads:</strong> 0\n",
       "                    </td>\n",
       "                </tr>\n",
       "                <tr>\n",
       "                    <td style=\"text-align: left;\">\n",
       "                        <strong>Started:</strong> Just now\n",
       "                    </td>\n",
       "                    <td style=\"text-align: left;\">\n",
       "                        <strong>Total memory:</strong> 0 B\n",
       "                    </td>\n",
       "                </tr>\n",
       "            </table>\n",
       "        </div>\n",
       "    </div>\n",
       "\n",
       "    <details style=\"margin-left: 48px;\">\n",
       "        <summary style=\"margin-bottom: 20px;\">\n",
       "            <h3 style=\"display: inline;\">Workers</h3>\n",
       "        </summary>\n",
       "\n",
       "        \n",
       "\n",
       "    </details>\n",
       "</div>\n",
       "\n",
       "        </details>\n",
       "    </div>\n",
       "</div>\n",
       "            </details>\n",
       "        \n",
       "\n",
       "    </div>\n",
       "</div>"
      ],
      "text/plain": [
       "<Client: 'tcp://10.70.211.9:42305' processes=0 threads=0, memory=0 B>"
      ]
     },
     "metadata": {},
     "output_type": "display_data"
    }
   ],
   "source": [
    "# initialize the path\n",
    "# fct.delete_n_init_path(path)\n",
    "\n",
    "# build list of the dic_args to be tested\n",
    "list_dic_args = fct.build_args(dic_default_value, list_dic_range)\n",
    "\n",
    "# open a cluster\n",
    "client, cluster = new_launch_cluster(\n",
    "    task_memory=19,\n",
    "    job_walltime=\"12:00:00\",\n",
    "    max_cpu=len(list_dic_args),\n",
    ")\n",
    "\n",
    "# run with dask distributed\n",
    "dld_obj = [\n",
    "    dask.delayed(dyn.single_run)(**dic_args) for dic_args in list_dic_args\n",
    "]\n",
    "futures = client.compute(dld_obj)\n"
   ]
  },
  {
   "cell_type": "code",
   "execution_count": 3,
   "metadata": {},
   "outputs": [],
   "source": [
    "! squeue -u vlecoz -h -t pending,running -r -O \"state\" | uniq -c"
   ]
  },
  {
   "cell_type": "code",
   "execution_count": 5,
   "metadata": {},
   "outputs": [
    {
     "name": "stdout",
     "output_type": "stream",
     "text": [
      "1 None\n",
      "2 None\n",
      "4 None\n",
      "5 None\n",
      "7 None\n",
      "8 None\n",
      "9 None\n",
      "10 None\n",
      "11 None\n",
      "13 None\n",
      "14 None\n",
      "15 None\n",
      "16 None\n",
      "18 None\n",
      "19 None\n",
      "21 None\n",
      "22 None\n",
      "23 None\n",
      "26 None\n",
      "27 None\n",
      "29 None\n",
      "30 None\n",
      "31 None\n",
      "33 None\n",
      "34 None\n",
      "35 None\n",
      "36 None\n",
      "38 None\n",
      "39 None\n",
      "40 None\n",
      "41 None\n",
      "42 None\n",
      "43 None\n",
      "44 ***ERROR***: leverage ratio not above its regulatory level for one or several banks. Plot and stop simulation.\n",
      "45 None\n",
      "46 None\n",
      "47 None\n",
      "50 None\n",
      "51 None\n",
      "53 None\n",
      "54 None\n",
      "55 None\n",
      "56 None\n",
      "57 None\n",
      "58 None\n",
      "59 None\n",
      "60 None\n",
      "61 None\n",
      "63 None\n",
      "64 None\n",
      "65 None\n",
      "66 None\n",
      "68 None\n",
      "69 None\n",
      "70 None\n",
      "71 None\n",
      "72 None\n",
      "74 None\n",
      "75 None\n",
      "76 None\n",
      "77 None\n",
      "78 None\n",
      "79 None\n",
      "80 None\n",
      "81 None\n",
      "82 None\n",
      "83 None\n",
      "84 None\n",
      "85 None\n",
      "86 None\n",
      "87 None\n",
      "88 None\n",
      "89 None\n",
      "90 None\n",
      "91 None\n",
      "92 None\n",
      "93 None\n",
      "94 None\n",
      "95 None\n",
      "96 None\n",
      "97 None\n",
      "98 None\n",
      "99 None\n"
     ]
    }
   ],
   "source": [
    "for i, future in enumerate(futures):\n",
    "    if future.status == \"finished\":\n",
    "        print(i, future.result())"
   ]
  },
  {
   "cell_type": "code",
   "execution_count": 8,
   "metadata": {},
   "outputs": [
    {
     "data": {
      "text/html": [
       "<strong>Future: single_run</strong>\n",
       "<span style=\"color: var(--jp-ui-font-color2, gray)\"> status: </span>\n",
       "\n",
       "\n",
       "<span style=\"color: var(--jp-error-color0, black)\">lost</span>,\n",
       "\n",
       "\n",
       "\n",
       "<span style=\"color: var(--jp-ui-font-color2, gray)\"> type:</span> NoneType,\n",
       "\n",
       "\n",
       "<span style=\"color: var(--jp-ui-font-color2, gray)\"> key:</span> single_run-ab4f7b86-9aeb-4a13-ab36-f9aa87fdf2e6"
      ],
      "text/plain": [
       "<Future: lost, type: NoneType, key: single_run-ab4f7b86-9aeb-4a13-ab36-f9aa87fdf2e6>"
      ]
     },
     "execution_count": 8,
     "metadata": {},
     "output_type": "execute_result"
    }
   ],
   "source": [
    "future"
   ]
  },
  {
   "cell_type": "code",
   "execution_count": 6,
   "metadata": {},
   "outputs": [],
   "source": [
    "client.shutdown()"
   ]
  },
  {
   "cell_type": "code",
   "execution_count": null,
   "metadata": {},
   "outputs": [],
   "source": [
    "dyn.single_run(*dic_default_value.values())"
   ]
  },
  {
   "attachments": {},
   "cell_type": "markdown",
   "metadata": {},
   "source": [
    "# collect results"
   ]
  },
  {
   "cell_type": "code",
   "execution_count": 6,
   "metadata": {},
   "outputs": [
    {
     "name": "stderr",
     "output_type": "stream",
     "text": [
      "100%|██████████| 3/3 [01:22<00:00, 27.64s/it]\n"
     ]
    }
   ],
   "source": [
    "# collect results into df_network_sensitivity\n",
    "df_network_sensitivity = fct.get_df_network_sensitivity(dic_default_value[\"path_results\"])"
   ]
  },
  {
   "cell_type": "markdown",
   "metadata": {},
   "source": [
    "# plot results"
   ]
  },
  {
   "cell_type": "code",
   "execution_count": null,
   "metadata": {},
   "outputs": [],
   "source": [
    "import parameters as par\n",
    "par.df_plt.loc[\"gamma_new\", \"convertion\"]"
   ]
  },
  {
   "cell_type": "code",
   "execution_count": 2,
   "metadata": {},
   "outputs": [
    {
     "name": "stderr",
     "output_type": "stream",
     "text": [
      "  0%|          | 0/18 [00:00<?, ?it/s]"
     ]
    },
    {
     "name": "stderr",
     "output_type": "stream",
     "text": [
      "100%|██████████| 18/18 [00:14<00:00,  1.23it/s]\n"
     ]
    }
   ],
   "source": [
    "# plot the sensitivity\n",
    "df_network_sensitivity = pd.read_csv(f\"{dic_default_value['path_results']}df_network_sensitivity.csv\", index_col=(0,1))\n",
    "gx.plot_all_sensitivities(df_network_sensitivity,path=path)"
   ]
  },
  {
   "cell_type": "code",
   "execution_count": 4,
   "metadata": {},
   "outputs": [
    {
     "data": {
      "text/plain": [
       "9.0"
      ]
     },
     "execution_count": 4,
     "metadata": {},
     "output_type": "execute_result"
    }
   ],
   "source": [
    "gamma_init*100"
   ]
  },
  {
   "cell_type": "code",
   "execution_count": 15,
   "metadata": {},
   "outputs": [
    {
     "data": {
      "text/plain": [
       "0.015                   0.016647\n",
       "0.018                   0.041164\n",
       "0.020999999999999998    0.040801\n",
       "0.0225                  0.033127\n",
       "0.023999999999999997         NaN\n",
       "0.026999999999999996         NaN\n",
       "0.027                   0.081112\n",
       "0.029999999999999995    0.115062\n",
       "0.0315                  0.132621\n",
       "0.032999999999999995    0.150487\n",
       "0.03599999999999999          NaN\n",
       "0.036                   0.195930\n",
       "0.03899999999999999          NaN\n",
       "0.040499999999999994    0.254340\n",
       "0.041999999999999996         NaN\n",
       "0.04499999999999999          NaN\n",
       "0.04799999999999999          NaN\n",
       "0.049499999999999995    0.429458\n",
       "0.05099999999999999     0.437255\n",
       "0.053999999999999986         NaN\n",
       "0.05399999999999999     0.504381\n",
       "0.05699999999999999     0.552280\n",
       "0.05849999999999999     0.583236\n",
       "0.059999999999999984    0.604268\n",
       "0.06299999999999999     0.654519\n",
       "0.063                   0.668460\n",
       "0.06599999999999999     0.692433\n",
       "0.06899999999999999          NaN\n",
       "0.07199999999999998     0.791605\n",
       "0.07499999999999998     0.874123\n",
       "0.07799999999999999          NaN\n",
       "0.08099999999999997     0.972148\n",
       "0.08399999999999998     1.013143\n",
       "0.08699999999999998     1.054580\n",
       "Name: collateral reuse, dtype: float64"
      ]
     },
     "execution_count": 15,
     "metadata": {},
     "output_type": "execute_result"
    }
   ],
   "source": [
    "df_network_sensitivity.loc[\"gamma_new\"][\"collateral reuse\"]"
   ]
  }
 ],
 "metadata": {
  "kernelspec": {
   "display_name": "Python 3",
   "language": "python",
   "name": "python3"
  },
  "language_info": {
   "codemirror_mode": {
    "name": "ipython",
    "version": 3
   },
   "file_extension": ".py",
   "mimetype": "text/x-python",
   "name": "python",
   "nbconvert_exporter": "python",
   "pygments_lexer": "ipython3",
   "version": "3.8.13"
  },
  "orig_nbformat": 4,
  "vscode": {
   "interpreter": {
    "hash": "772f89c9e5965f4a9875c1ffbe035acc42ea864da53ad5989a43bc0bf2ed9e48"
   }
  }
 },
 "nbformat": 4,
 "nbformat_minor": 2
}
