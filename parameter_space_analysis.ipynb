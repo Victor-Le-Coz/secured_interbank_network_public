{
 "cells": [
  {
   "cell_type": "code",
   "execution_count": 1,
   "metadata": {},
   "outputs": [],
   "source": [
    "import functions as fct\n",
    "import pandas as pd\n",
    "import dynamics as dyn\n",
    "import numpy as np\n",
    "import dask\n",
    "from cluster import new_launch_cluster\n",
    "import graphics as gx\n",
    "\n",
    "# parameter setting\n",
    "nb_banks=50\n",
    "path = \"./results/parameter_space/test/\"\n",
    "initial_deposits_size = 40\n",
    "\n",
    "# reg ratios\n",
    "alpha_init=False  # initial cash (< 1/(1-gamma) - beta)\n",
    "alpha=0.01\n",
    "beta_init=0.5 # initial collateral  (< 1/(1-gamma) - alpha)\n",
    "beta_reg=0.5\n",
    "beta_star=0.5\n",
    "gamma=0.03\n",
    "gamma_init = 3*gamma\n",
    "collateral_value=1.0\n",
    "\n",
    "# initialisation of deposits size\n",
    "initialization_method=\"pareto\"\n",
    "alpha_pareto=1.3\n",
    "\n",
    "# shocks on deposits \n",
    "shocks_method=\"non-conservative\"\n",
    "shocks_law=\"normal-mean-reverting\"\n",
    "shocks_vol=0.07 # 0.05\n",
    "\n",
    "# speed of learning\n",
    "learning_speed = 0.5\n",
    "\n",
    "# min trans size\n",
    "min_repo_trans_size=1e-8  # 1e-8\n",
    "\n",
    "# dynamics & ploting\n",
    "nb_steps=int(10e3)\n",
    "dump_period=int(5e3)\n",
    "plot_period=int(5e3)\n",
    "cp_option=True\n",
    "heavy_plot=False\n",
    "\n",
    "# LCR mgt\n",
    "LCR_mgt_opt=True\n",
    "\n",
    "# leverage mgt\n",
    "end_repo_period=False # if int, periodic end repo / if false, leverage mgt\n",
    "gamma_star = 1.5*gamma\n",
    "check_leverage_opt = False # to avoid killing the run if one or several banks are below min leverage due to high shocks (there is not possibility of decrease balance sheet size if no interbank borrowings)\n",
    "\n",
    "# money creation\n",
    "loan_tenor=nb_steps # if int, money creation / if false. no new loans\n",
    "loan_period=1\n",
    "new_loans_vol = 0 # standard deviation around the mean creation of loans\n",
    "new_loans_mean = 2e-2/250 # daily mean increase in loans expressed as a percentage of the intital loans (the other option would be a relative increase but it is unstable np.exp(np.log(1.01)/250)-1 = 4e-5)\n",
    "beta_new = beta_reg # if number, new colat / if false, no new colat \n",
    "# gamma_new = gamma_star*(beta_reg+1)/(1+gamma_star*beta_reg) # if number, new own funds / if false, no new own funds. we need to also add beta reg to ensure LCR can be covered with additional cash (and we still match the solvency ratio despite this excess of stress) in the case of no payment shocks and no collateral creation\n",
    "gamma_new = 3*gamma\n",
    "\n",
    "# substitution of collateral\n",
    "substitution = False\n",
    "\n",
    "dic_default_value = {\n",
    "    \"nb_banks\": nb_banks,\n",
    "    \"initial_deposits_size\": initial_deposits_size,\n",
    "    \"alpha_init\": alpha_init,\n",
    "    \"alpha\": alpha,\n",
    "    \"beta_init\": beta_init,\n",
    "    \"beta_reg\": beta_reg,\n",
    "    \"beta_star\": beta_star,\n",
    "    \"beta_new\": beta_new,\n",
    "    \"gamma_init\": gamma_init,\n",
    "    \"gamma\": gamma,\n",
    "    \"gamma_star\": gamma_star, \n",
    "    \"gamma_new\": gamma_new, \n",
    "    \"collateral_value\": collateral_value,\n",
    "    \"initialization_method\": initialization_method,\n",
    "    \"alpha_pareto\": alpha_pareto,\n",
    "    \"shocks_method\": shocks_method,\n",
    "    \"shocks_law\": shocks_law,\n",
    "    \"shocks_vol\": shocks_vol,\n",
    "    \"LCR_mgt_opt\": LCR_mgt_opt,\n",
    "    \"min_repo_trans_size\": min_repo_trans_size,\n",
    "    \"loan_tenor\": loan_tenor, # for money creation \n",
    "    \"loan_period\": loan_period,\n",
    "    \"new_loans_vol\": new_loans_vol,\n",
    "    \"new_loans_mean\": new_loans_mean,\n",
    "    \"end_repo_period\": end_repo_period,\n",
    "    \"nb_steps\": nb_steps,\n",
    "    \"path_results\": f\"{path}runs/\",\n",
    "    \"dump_period\": dump_period,\n",
    "    \"plot_period\": plot_period,\n",
    "    \"cp_option\": cp_option,\n",
    "    \"heavy_plot\": heavy_plot,  # False to avoid the number of linux node to explode\n",
    "    \"substitution\":substitution,\n",
    "    \"learning_speed\":learning_speed,\n",
    "    \"check_leverage_opt\":check_leverage_opt,\n",
    "}\n",
    "\n",
    "# special dictionary of parameters ranges \n",
    "list_dic_range = [\n",
    "    # {\"nb_banks\":  [_ for _ in np.arange(50, 550,50)]*20},\n",
    "    {\"alpha_pareto\": [_ for _ in np.logspace(0,2,100)*0.4]*50,},\n",
    "    # {\"gamma_new\": [_ for _ in np.arange(1, 2,0.01)*gamma_star]*50,\n",
    "    #  \"gamma_init\": [_ for _ in np.arange(1, 2,0.01)*gamma_star]*50\n",
    "    #  },\n",
    "    # {\"learning_speed\": [_ for _ in np.arange(0.00, 1.01, 0.01)]*50},\n",
    "    {\"learning_speed\": [_ for _ in np.logspace(-5,0,100)]*50 + [0]*50}, \n",
    "    # {\"shocks_vol\":  [_ for _ in np.arange(0, 0.30, 0.003)]*50},\n",
    "]\n",
    "\n",
    "# initialize the path\n",
    "# fct.delete_n_init_path(path)"
   ]
  },
  {
   "cell_type": "markdown",
   "metadata": {},
   "source": [
    "# run parameter space analysis"
   ]
  },
  {
   "cell_type": "code",
   "execution_count": 2,
   "metadata": {},
   "outputs": [
    {
     "name": "stderr",
     "output_type": "stream",
     "text": [
      "/mnt/live/user/vlecoz/conda_env/money_markets/lib/python3.8/site-packages/distributed/node.py:183: UserWarning: Port 8787 is already in use.\n",
      "Perhaps you already have a cluster running?\n",
      "Hosting the HTTP server on port 38239 instead\n",
      "  warnings.warn(\n"
     ]
    },
    {
     "data": {
      "text/html": [
       "<div>\n",
       "    <div style=\"width: 24px; height: 24px; background-color: #e1e1e1; border: 3px solid #9D9D9D; border-radius: 5px; position: absolute;\"> </div>\n",
       "    <div style=\"margin-left: 48px;\">\n",
       "        <h3 style=\"margin-bottom: 0px;\">Client</h3>\n",
       "        <p style=\"color: #9D9D9D; margin-bottom: 0px;\">Client-94dd3ae6-3324-11ef-b619-e4434b17e9c8</p>\n",
       "        <table style=\"width: 100%; text-align: left;\">\n",
       "\n",
       "        <tr>\n",
       "        \n",
       "            <td style=\"text-align: left;\"><strong>Connection method:</strong> Cluster object</td>\n",
       "            <td style=\"text-align: left;\"><strong>Cluster type:</strong> dask_jobqueue.SLURMCluster</td>\n",
       "        \n",
       "        </tr>\n",
       "\n",
       "        \n",
       "            <tr>\n",
       "                <td style=\"text-align: left;\">\n",
       "                    <strong>Dashboard: </strong> <a href=\"http://10.70.211.9:38239/status\" target=\"_blank\">http://10.70.211.9:38239/status</a>\n",
       "                </td>\n",
       "                <td style=\"text-align: left;\"></td>\n",
       "            </tr>\n",
       "        \n",
       "\n",
       "        </table>\n",
       "\n",
       "        \n",
       "\n",
       "        \n",
       "            <details>\n",
       "            <summary style=\"margin-bottom: 20px;\"><h3 style=\"display: inline;\">Cluster Info</h3></summary>\n",
       "            <div class=\"jp-RenderedHTMLCommon jp-RenderedHTML jp-mod-trusted jp-OutputArea-output\">\n",
       "    <div style=\"width: 24px; height: 24px; background-color: #e1e1e1; border: 3px solid #9D9D9D; border-radius: 5px; position: absolute;\">\n",
       "    </div>\n",
       "    <div style=\"margin-left: 48px;\">\n",
       "        <h3 style=\"margin-bottom: 0px; margin-top: 0px;\">SLURMCluster</h3>\n",
       "        <p style=\"color: #9D9D9D; margin-bottom: 0px;\">714c628d</p>\n",
       "        <table style=\"width: 100%; text-align: left;\">\n",
       "            <tr>\n",
       "                <td style=\"text-align: left;\">\n",
       "                    <strong>Dashboard:</strong> <a href=\"http://10.70.211.9:38239/status\" target=\"_blank\">http://10.70.211.9:38239/status</a>\n",
       "                </td>\n",
       "                <td style=\"text-align: left;\">\n",
       "                    <strong>Workers:</strong> 0\n",
       "                </td>\n",
       "            </tr>\n",
       "            <tr>\n",
       "                <td style=\"text-align: left;\">\n",
       "                    <strong>Total threads:</strong> 0\n",
       "                </td>\n",
       "                <td style=\"text-align: left;\">\n",
       "                    <strong>Total memory:</strong> 0 B\n",
       "                </td>\n",
       "            </tr>\n",
       "            \n",
       "        </table>\n",
       "\n",
       "        <details>\n",
       "            <summary style=\"margin-bottom: 20px;\">\n",
       "                <h3 style=\"display: inline;\">Scheduler Info</h3>\n",
       "            </summary>\n",
       "\n",
       "            <div style=\"\">\n",
       "    <div>\n",
       "        <div style=\"width: 24px; height: 24px; background-color: #FFF7E5; border: 3px solid #FF6132; border-radius: 5px; position: absolute;\"> </div>\n",
       "        <div style=\"margin-left: 48px;\">\n",
       "            <h3 style=\"margin-bottom: 0px;\">Scheduler</h3>\n",
       "            <p style=\"color: #9D9D9D; margin-bottom: 0px;\">Scheduler-5b33ae10-0c19-4118-af8e-1fbcaed20289</p>\n",
       "            <table style=\"width: 100%; text-align: left;\">\n",
       "                <tr>\n",
       "                    <td style=\"text-align: left;\">\n",
       "                        <strong>Comm:</strong> tcp://10.70.211.9:45317\n",
       "                    </td>\n",
       "                    <td style=\"text-align: left;\">\n",
       "                        <strong>Workers:</strong> 0\n",
       "                    </td>\n",
       "                </tr>\n",
       "                <tr>\n",
       "                    <td style=\"text-align: left;\">\n",
       "                        <strong>Dashboard:</strong> <a href=\"http://10.70.211.9:38239/status\" target=\"_blank\">http://10.70.211.9:38239/status</a>\n",
       "                    </td>\n",
       "                    <td style=\"text-align: left;\">\n",
       "                        <strong>Total threads:</strong> 0\n",
       "                    </td>\n",
       "                </tr>\n",
       "                <tr>\n",
       "                    <td style=\"text-align: left;\">\n",
       "                        <strong>Started:</strong> Just now\n",
       "                    </td>\n",
       "                    <td style=\"text-align: left;\">\n",
       "                        <strong>Total memory:</strong> 0 B\n",
       "                    </td>\n",
       "                </tr>\n",
       "            </table>\n",
       "        </div>\n",
       "    </div>\n",
       "\n",
       "    <details style=\"margin-left: 48px;\">\n",
       "        <summary style=\"margin-bottom: 20px;\">\n",
       "            <h3 style=\"display: inline;\">Workers</h3>\n",
       "        </summary>\n",
       "\n",
       "        \n",
       "\n",
       "    </details>\n",
       "</div>\n",
       "\n",
       "        </details>\n",
       "    </div>\n",
       "</div>\n",
       "            </details>\n",
       "        \n",
       "\n",
       "    </div>\n",
       "</div>"
      ],
      "text/plain": [
       "<Client: 'tcp://10.70.211.9:45317' processes=0 threads=0, memory=0 B>"
      ]
     },
     "metadata": {},
     "output_type": "display_data"
    }
   ],
   "source": [
    "\n",
    "\n",
    "# build list of the dic_args to be tested\n",
    "list_dic_args = fct.build_args(dic_default_value, list_dic_range)\n",
    "\n",
    "# open a cluster\n",
    "client, cluster = new_launch_cluster(\n",
    "    task_memory=19,\n",
    "    job_walltime=\"30:00:00\",\n",
    "    max_cpu=len(list_dic_args),\n",
    ")\n",
    "\n",
    "# run with dask distributed\n",
    "dld_obj = [\n",
    "    dask.delayed(dyn.single_run)(**dic_args) for dic_args in list_dic_args\n",
    "]\n",
    "futures = client.compute(dld_obj)\n"
   ]
  },
  {
   "cell_type": "code",
   "execution_count": null,
   "metadata": {},
   "outputs": [],
   "source": [
    "! squeue -u vlecoz -h -t pending,running -r -O \"state\" | uniq -c"
   ]
  },
  {
   "cell_type": "code",
   "execution_count": 69,
   "metadata": {},
   "outputs": [
    {
     "name": "stderr",
     "output_type": "stream",
     "text": [
      "/opt/tmp/tmp/ipykernel_199299/868845186.py:4: FutureWarning: The default dtype for empty Series will be 'object' instead of 'float64' in a future version. Specify a dtype explicitly to silence this warning.\n",
      "  sr_dask_finished = pd.Series()\n",
      "100%|██████████| 15000/15000 [00:00<00:00, 1341604.86it/s]\n"
     ]
    }
   ],
   "source": [
    "from tqdm import tqdm\n",
    "\n",
    "# store error types\n",
    "sr_dask_finished = pd.Series()\n",
    "for i, future in enumerate(tqdm(futures)):\n",
    "    if future.status == \"finished\":\n",
    "        sr_dask_finished.loc[i] = str(future.result())"
   ]
  },
  {
   "cell_type": "code",
   "execution_count": 70,
   "metadata": {},
   "outputs": [
    {
     "data": {
      "text/plain": [
       "Series([], dtype: int64)"
      ]
     },
     "execution_count": 70,
     "metadata": {},
     "output_type": "execute_result"
    }
   ],
   "source": [
    "sr_dask_finished.dropna().apply(lambda x: x[:18]).value_counts()"
   ]
  },
  {
   "cell_type": "code",
   "execution_count": 59,
   "metadata": {},
   "outputs": [
    {
     "name": "stderr",
     "output_type": "stream",
     "text": [
      "/opt/tmp/tmp/ipykernel_199299/2045360933.py:4: FutureWarning: The default dtype for empty Series will be 'object' instead of 'float64' in a future version. Specify a dtype explicitly to silence this warning.\n",
      "  sr_dask_errors = pd.Series()\n",
      "100%|██████████| 15000/15000 [00:00<00:00, 43426.40it/s]\n"
     ]
    }
   ],
   "source": [
    "from tqdm import tqdm\n",
    "\n",
    "# store error types\n",
    "sr_dask_errors = pd.Series()\n",
    "for i, future in enumerate(tqdm(futures)):\n",
    "    if future.status == \"error\":\n",
    "        sr_dask_errors.loc[i] = str(future.exception())"
   ]
  },
  {
   "cell_type": "code",
   "execution_count": 60,
   "metadata": {},
   "outputs": [
    {
     "data": {
      "text/plain": [
       "RecursionError('maximum recursion depth exceeded in comparison')    426\n",
       "dtype: int64"
      ]
     },
     "execution_count": 60,
     "metadata": {},
     "output_type": "execute_result"
    }
   ],
   "source": [
    "# look at the different types of dask errors\n",
    "sr_dask_errors.dropna().apply(lambda x: x[:300]).value_counts()"
   ]
  },
  {
   "cell_type": "code",
   "execution_count": 5,
   "metadata": {},
   "outputs": [
    {
     "name": "stderr",
     "output_type": "stream",
     "text": [
      "/opt/tmp/tmp/ipykernel_214199/1202213659.py:3: FutureWarning: The default dtype for empty Series will be 'object' instead of 'float64' in a future version. Specify a dtype explicitly to silence this warning.\n",
      "  sr_logs =pd.Series()\n",
      "100%|██████████| 332/332 [01:22<00:00,  4.03it/s]\n"
     ]
    }
   ],
   "source": [
    "# check the logs saved, look for what appended to the died workers\n",
    "import os\n",
    "sr_logs =pd.Series()\n",
    "path_logs = f\"./dask_logs/D2024-06_21_T18-05-55.472605/\"\n",
    "files = os.listdir(path_logs)\n",
    "for file in tqdm(files):\n",
    "    sr_logs.loc[file]= open(f\"{path_logs}/{file}\", \"r\").read()"
   ]
  },
  {
   "cell_type": "code",
   "execution_count": 167,
   "metadata": {},
   "outputs": [
    {
     "data": {
      "text/plain": [
       "dask-worker-12488587.err    True\n",
       "dtype: bool"
      ]
     },
     "execution_count": 167,
     "metadata": {},
     "output_type": "execute_result"
    }
   ],
   "source": [
    "sr_bool = sr_logs.str.contains('tcp://10.67.203.13:44700', na=False, regex=True)\n",
    "sr_bool.loc[sr_bool]"
   ]
  },
  {
   "cell_type": "code",
   "execution_count": 7,
   "metadata": {},
   "outputs": [
    {
     "data": {
      "text/plain": [
       "46.875"
      ]
     },
     "execution_count": 7,
     "metadata": {},
     "output_type": "execute_result"
    }
   ],
   "source": [
    "15000/320"
   ]
  },
  {
   "cell_type": "code",
   "execution_count": null,
   "metadata": {},
   "outputs": [],
   "source": [
    "client.shutdown()"
   ]
  },
  {
   "cell_type": "code",
   "execution_count": 4,
   "metadata": {},
   "outputs": [],
   "source": [
    "if \"client\" in globals():\n",
    "    client.close()\n",
    "    cluster.close()\n",
    "    client.shutdown()"
   ]
  },
  {
   "attachments": {},
   "cell_type": "markdown",
   "metadata": {},
   "source": [
    "# collect results"
   ]
  },
  {
   "cell_type": "code",
   "execution_count": 3,
   "metadata": {},
   "outputs": [
    {
     "name": "stderr",
     "output_type": "stream",
     "text": [
      "/mnt/live/user/vlecoz/Secured_interbank_network/functions.py:91: FutureWarning: The default dtype for empty Series will be 'object' instead of 'float64' in a future version. Specify a dtype explicitly to silence this warning.\n",
      "  sr_errors = pd.Series(index=index)\n",
      "100%|██████████| 100/100 [15:47<00:00,  9.48s/it]\n",
      "100%|██████████| 101/101 [16:52<00:00, 10.02s/it]\n"
     ]
    }
   ],
   "source": [
    "# collect results into df_network_sensitivity\n",
    "df_network_sensitivity, sr_errors = fct.get_df_network_sensitivity(dic_default_value[\"path_results\"])"
   ]
  },
  {
   "cell_type": "code",
   "execution_count": 11,
   "metadata": {},
   "outputs": [
    {
     "data": {
      "text/plain": [
       "3099         NaN\n",
       "4999    0.673902\n",
       "3999    0.727084\n",
       "3599    0.653908\n",
       "2799    0.061489\n",
       "99      0.596856\n",
       "1099    0.722480\n",
       "2899    0.644740\n",
       "1799    0.671217\n",
       "2299    0.755748\n",
       "2699    0.676046\n",
       "4299    0.822884\n",
       "299     0.277098\n",
       "4799    0.649833\n",
       "799          NaN\n",
       "699     0.018013\n",
       "999     0.165425\n",
       "1399         NaN\n",
       "3699    0.761614\n",
       "3499    0.745107\n",
       "3199    0.689993\n",
       "499     0.547527\n",
       "2999    0.800513\n",
       "1499    0.758601\n",
       "399     0.738148\n",
       "2599    0.688518\n",
       "4699    0.619834\n",
       "1999    0.005515\n",
       "3899         NaN\n",
       "2099         NaN\n",
       "1699         NaN\n",
       "899     0.794993\n",
       "4599    0.684465\n",
       "3799         NaN\n",
       "1299         NaN\n",
       "199          NaN\n",
       "4399         NaN\n",
       "1899    0.710317\n",
       "3299    0.755488\n",
       "599          NaN\n",
       "4199    0.690610\n",
       "1599    0.539292\n",
       "2499         NaN\n",
       "1199    0.693746\n",
       "3399    0.698979\n",
       "2399         NaN\n",
       "2199    0.730789\n",
       "4499         NaN\n",
       "4099    0.645848\n",
       "4899         NaN\n",
       "Name: network density-1, dtype: float64"
      ]
     },
     "execution_count": 11,
     "metadata": {},
     "output_type": "execute_result"
    }
   ],
   "source": [
    "df_network_sensitivity[\"network density-1\"].loc[\"learning_speed\",1]"
   ]
  },
  {
   "cell_type": "code",
   "execution_count": 44,
   "metadata": {},
   "outputs": [
    {
     "data": {
      "text/plain": [
       " securities reused negati    16\n",
       " bank 43 has not enough c     9\n",
       " bank 19 has not enough c     8\n",
       " bank 45 has not enough c     8\n",
       " bank 42 has not enough c     8\n",
       " bank 20 has not enough c     8\n",
       " bank 46 has not enough c     7\n",
       " bank 10 has not enough c     7\n",
       " bank 6 has not enough co     7\n",
       " bank 31 has not enough c     6\n",
       " bank 14 has not enough c     6\n",
       " bank 11 has not enough c     6\n",
       " bank 1 has not enough co     6\n",
       " bank 5 has not enough co     5\n",
       " bank 21 has not enough c     5\n",
       " bank 48 has not enough c     5\n",
       " bank 38 has not enough c     5\n",
       " bank 37 has not enough c     4\n",
       " bank 32 has not enough c     4\n",
       " bank 35 has not enough c     4\n",
       " bank 22 has not enough c     4\n",
       " bank 9 has not enough co     4\n",
       " bank 13 has not enough c     4\n",
       " bank 4 has not enough co     4\n",
       " bank 2 has not enough co     4\n",
       " bank 7 has not enough co     4\n",
       " bank 26 has not enough c     4\n",
       " bank 24 has not enough c     4\n",
       " bank 40 has not enough c     3\n",
       " bank 8 has not enough co     3\n",
       " bank 17 has not enough c     3\n",
       " bank 36 has not enough c     3\n",
       " bank 47 has not enough c     3\n",
       " bank 15 has not enough c     3\n",
       " bank 41 has not enough c     2\n",
       " bank 29 has not enough c     2\n",
       " bank 18 has not enough c     2\n",
       " bank 34 has not enough c     2\n",
       " bank 23 has not enough c     2\n",
       " bank 39 has not enough c     2\n",
       " bank 25 has not enough c     2\n",
       " bank 12 has not enough c     2\n",
       " bank 33 has not enough c     2\n",
       " bank 0 has not enough co     2\n",
       " bank 27 has not enough c     2\n",
       " bank 3 has not enough co     2\n",
       " bank 44 has not enough c     1\n",
       " bank 30 has not enough c     1\n",
       " bank 49 has not enough c     1\n",
       " bank 16 has not enough c     1\n",
       " bank 28 has not enough c     1\n",
       "dtype: int64"
      ]
     },
     "execution_count": 44,
     "metadata": {},
     "output_type": "execute_result"
    }
   ],
   "source": [
    " # look at the different types of errors\n",
    "sr_bool_error = sr_errors.str.contains(\"ERROR\", na=False, regex=True)\n",
    "sr_errors[sr_bool_error].apply(lambda x: (x.split(\"***ERROR***:\"))[1][:25]).value_counts()"
   ]
  },
  {
   "cell_type": "code",
   "execution_count": 45,
   "metadata": {},
   "outputs": [
    {
     "data": {
      "text/plain": [
       "Series([], dtype: object)"
      ]
     },
     "execution_count": 45,
     "metadata": {},
     "output_type": "execute_result"
    }
   ],
   "source": [
    "sr_errors[sr_errors.str.contains(\"assets don't\", na=False, regex=True)]"
   ]
  },
  {
   "cell_type": "markdown",
   "metadata": {},
   "source": [
    "# plot results"
   ]
  },
  {
   "cell_type": "code",
   "execution_count": 2,
   "metadata": {},
   "outputs": [
    {
     "name": "stderr",
     "output_type": "stream",
     "text": [
      "100%|██████████| 18/18 [00:11<00:00,  1.57it/s]\n"
     ]
    }
   ],
   "source": [
    "# plot the sensitivity\n",
    "df_network_sensitivity = pd.read_csv(f\"{dic_default_value['path_results']}df_network_sensitivity.csv\", index_col=(0,1,2))\n",
    "gx.plot_all_sensitivities(df_network_sensitivity,path=path)"
   ]
  }
 ],
 "metadata": {
  "kernelspec": {
   "display_name": "Python 3",
   "language": "python",
   "name": "python3"
  },
  "language_info": {
   "codemirror_mode": {
    "name": "ipython",
    "version": 3
   },
   "file_extension": ".py",
   "mimetype": "text/x-python",
   "name": "python",
   "nbconvert_exporter": "python",
   "pygments_lexer": "ipython3",
   "version": "3.8.13"
  },
  "orig_nbformat": 4,
  "vscode": {
   "interpreter": {
    "hash": "772f89c9e5965f4a9875c1ffbe035acc42ea864da53ad5989a43bc0bf2ed9e48"
   }
  }
 },
 "nbformat": 4,
 "nbformat_minor": 2
}
