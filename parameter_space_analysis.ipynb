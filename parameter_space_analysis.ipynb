{
 "cells": [
  {
   "cell_type": "code",
   "execution_count": 1,
   "metadata": {},
   "outputs": [],
   "source": [
    "import functions as fct\n",
    "import pandas as pd\n",
    "import dynamics as dyn\n",
    "import numpy as np\n",
    "import dask\n",
    "from cluster import new_launch_cluster\n",
    "import graphics as gx\n",
    "\n",
    "# parameter setting\n",
    "nb_banks=100\n",
    "path = \"./results/parameter_space/test_beta/\"\n",
    "initial_deposits_size = 40\n",
    "\n",
    "# reg ratios\n",
    "alpha_init=False  # initial cash (< 1/(1-gamma) - beta)\n",
    "alpha=0.01\n",
    "beta_init=0.5 # initial collateral  (< 1/(1-gamma) - alpha)\n",
    "beta_reg=0.5\n",
    "beta_star=0.5\n",
    "gamma=0.03\n",
    "gamma_init = 3*gamma\n",
    "collateral_value=1.0\n",
    "\n",
    "# initialisation of deposits size\n",
    "initialization_method=\"pareto\"\n",
    "alpha_pareto=1.4\n",
    "\n",
    "# shocks on deposits \n",
    "shocks_method=\"non-conservative\"\n",
    "shocks_law=\"normal-mean-reverting\"\n",
    "shocks_vol=0.08 # 0.05\n",
    "\n",
    "# speed of learning\n",
    "learning_speed = 0.5\n",
    "\n",
    "# min trans size\n",
    "min_repo_trans_size=1e-8  # 1e-8\n",
    "\n",
    "# dynamics & ploting\n",
    "nb_steps=int(10e3)\n",
    "dump_period=int(5e3)\n",
    "plot_period=int(5e3)\n",
    "cp_option=True\n",
    "heavy_plot=False\n",
    "\n",
    "# LCR mgt\n",
    "LCR_mgt_opt=True\n",
    "\n",
    "# leverage mgt\n",
    "end_repo_period=False # if int, periodic end repo / if false, leverage mgt\n",
    "gamma_star = 1.5*gamma\n",
    "check_leverage_opt = False # to avoid killing the run if one or several banks are below min leverage due to high shocks (there is not possibility of decrease balance sheet size if no interbank borrowings)\n",
    "\n",
    "# money creation\n",
    "loan_tenor=nb_steps # if int, money creation / if false. no new loans\n",
    "loan_period=1\n",
    "new_loans_vol = 0 # standard deviation around the mean creation of loans\n",
    "new_loans_mean = 2e-2/250 # daily mean increase in loans expressed as a percentage of the intital loans (the other option would be a relative increase but it is unstable np.exp(np.log(1.01)/250)-1 = 4e-5)\n",
    "beta_new = beta_reg # if number, new colat / if false, no new colat \n",
    "# gamma_new = gamma_star*(beta_reg+1)/(1+gamma_star*beta_reg) # if number, new own funds / if false, no new own funds. we need to also add beta reg to ensure LCR can be covered with additional cash (and we still match the solvency ratio despite this excess of stress) in the case of no payment shocks and no collateral creation\n",
    "gamma_new = 3*gamma\n",
    "init_money_min = 1e-2 # 10 million money units, minimum for a bank license\n",
    "\n",
    "# substitution of collateral\n",
    "substitution = False\n",
    "\n",
    "# Quantitative easing scenario\n",
    "QE_start = False\n",
    "QE_stop = False\n",
    "\n",
    "# GFC scenario\n",
    "no_trust_start = False\n",
    "no_trust_stop = False\n",
    "\n",
    "dic_default_value = {\n",
    "    \"nb_banks\": nb_banks,\n",
    "    \"initial_deposits_size\": initial_deposits_size,\n",
    "    \"alpha_init\": alpha_init,\n",
    "    \"alpha\": alpha,\n",
    "    \"beta_init\": beta_init,\n",
    "    \"beta_reg\": beta_reg,\n",
    "    \"beta_star\": beta_star,\n",
    "    \"beta_new\": beta_new,\n",
    "    \"gamma_init\": gamma_init,\n",
    "    \"gamma\": gamma,\n",
    "    \"gamma_star\": gamma_star, \n",
    "    \"gamma_new\": gamma_new, \n",
    "    \"collateral_value\": collateral_value,\n",
    "    \"initialization_method\": initialization_method,\n",
    "    \"alpha_pareto\": alpha_pareto,\n",
    "    \"shocks_method\": shocks_method,\n",
    "    \"shocks_law\": shocks_law,\n",
    "    \"shocks_vol\": shocks_vol,\n",
    "    \"LCR_mgt_opt\": LCR_mgt_opt,\n",
    "    \"min_repo_trans_size\": min_repo_trans_size,\n",
    "    \"loan_tenor\": loan_tenor, # for money creation \n",
    "    \"loan_period\": loan_period,\n",
    "    \"new_loans_vol\": new_loans_vol,\n",
    "    \"new_loans_mean\": new_loans_mean,\n",
    "    \"end_repo_period\": end_repo_period,\n",
    "    \"nb_steps\": nb_steps,\n",
    "    \"path_results\": f\"{path}runs/\",\n",
    "    \"dump_period\": dump_period,\n",
    "    \"plot_period\": plot_period,\n",
    "    \"cp_option\": cp_option,\n",
    "    \"heavy_plot\": heavy_plot,  # False to avoid the number of linux node to explode\n",
    "    \"substitution\":substitution,\n",
    "    \"learning_speed\":learning_speed,\n",
    "    \"check_leverage_opt\":check_leverage_opt,\n",
    "    \"init_money_min\":init_money_min,\n",
    "    \"QE_start\":QE_start,\n",
    "    \"QE_stop\":QE_stop,\n",
    "    \"no_trust_start\":no_trust_start,\n",
    "    \"no_trust_stop\":no_trust_stop,\n",
    "}\n",
    "\n",
    "# special dictionary of parameters ranges \n",
    "list_dic_range = [\n",
    "    # {\"nb_banks\":  [_ for _ in np.arange(50, 550,50)]*20},\n",
    "    # {\"alpha_pareto\": [_ for _ in np.logspace(0,2,100)*0.4]*100,},\n",
    "    # {\"gamma_new\": [_ for _ in np.arange(1, 2,0.01)*gamma_star]*100,\n",
    "    #  \"gamma_init\": [_ for _ in np.arange(1, 2,0.01)*gamma_star]*100\n",
    "    #  },\n",
    "    # {\"learning_speed\": [_ for _ in np.logspace(-5,0,100)]*50 + [0]*100}, \n",
    "    # {\"shocks_vol\":  [_ for _ in np.arange(0, 0.30, 0.003)]*100},\n",
    "    {\"beta_reg\": [_ for _ in np.arange(0, 1,0.01)]*100,\n",
    "     \"beta_star\": [_ for _ in np.arange(0, 1,0.01)]*100,\n",
    "     \"beta_new\": [_ for _ in np.arange(0, 1,0.01)]*100,\n",
    "     \"beta_init\": [_ for _ in np.arange(0, 1,0.01)]*100,\n",
    "     },\n",
    "]"
   ]
  },
  {
   "cell_type": "code",
   "execution_count": 4,
   "metadata": {},
   "outputs": [],
   "source": [
    "# # initialize the path\n",
    "# fct.delete_n_init_path(path)"
   ]
  },
  {
   "cell_type": "markdown",
   "metadata": {},
   "source": [
    "# run parameter space analysis"
   ]
  },
  {
   "cell_type": "code",
   "execution_count": 2,
   "metadata": {},
   "outputs": [
    {
     "name": "stderr",
     "output_type": "stream",
     "text": [
      "/mnt/live/user/vlecoz/conda_env/money_markets/lib/python3.8/site-packages/distributed/node.py:183: UserWarning: Port 8787 is already in use.\n",
      "Perhaps you already have a cluster running?\n",
      "Hosting the HTTP server on port 45602 instead\n",
      "  warnings.warn(\n"
     ]
    },
    {
     "data": {
      "text/html": [
       "<div>\n",
       "    <div style=\"width: 24px; height: 24px; background-color: #e1e1e1; border: 3px solid #9D9D9D; border-radius: 5px; position: absolute;\"> </div>\n",
       "    <div style=\"margin-left: 48px;\">\n",
       "        <h3 style=\"margin-bottom: 0px;\">Client</h3>\n",
       "        <p style=\"color: #9D9D9D; margin-bottom: 0px;\">Client-c386f76b-45d6-11ef-adab-e4434b17e9c8</p>\n",
       "        <table style=\"width: 100%; text-align: left;\">\n",
       "\n",
       "        <tr>\n",
       "        \n",
       "            <td style=\"text-align: left;\"><strong>Connection method:</strong> Cluster object</td>\n",
       "            <td style=\"text-align: left;\"><strong>Cluster type:</strong> dask_jobqueue.SLURMCluster</td>\n",
       "        \n",
       "        </tr>\n",
       "\n",
       "        \n",
       "            <tr>\n",
       "                <td style=\"text-align: left;\">\n",
       "                    <strong>Dashboard: </strong> <a href=\"http://10.70.211.9:45602/status\" target=\"_blank\">http://10.70.211.9:45602/status</a>\n",
       "                </td>\n",
       "                <td style=\"text-align: left;\"></td>\n",
       "            </tr>\n",
       "        \n",
       "\n",
       "        </table>\n",
       "\n",
       "        \n",
       "\n",
       "        \n",
       "            <details>\n",
       "            <summary style=\"margin-bottom: 20px;\"><h3 style=\"display: inline;\">Cluster Info</h3></summary>\n",
       "            <div class=\"jp-RenderedHTMLCommon jp-RenderedHTML jp-mod-trusted jp-OutputArea-output\">\n",
       "    <div style=\"width: 24px; height: 24px; background-color: #e1e1e1; border: 3px solid #9D9D9D; border-radius: 5px; position: absolute;\">\n",
       "    </div>\n",
       "    <div style=\"margin-left: 48px;\">\n",
       "        <h3 style=\"margin-bottom: 0px; margin-top: 0px;\">SLURMCluster</h3>\n",
       "        <p style=\"color: #9D9D9D; margin-bottom: 0px;\">89b06b70</p>\n",
       "        <table style=\"width: 100%; text-align: left;\">\n",
       "            <tr>\n",
       "                <td style=\"text-align: left;\">\n",
       "                    <strong>Dashboard:</strong> <a href=\"http://10.70.211.9:45602/status\" target=\"_blank\">http://10.70.211.9:45602/status</a>\n",
       "                </td>\n",
       "                <td style=\"text-align: left;\">\n",
       "                    <strong>Workers:</strong> 0\n",
       "                </td>\n",
       "            </tr>\n",
       "            <tr>\n",
       "                <td style=\"text-align: left;\">\n",
       "                    <strong>Total threads:</strong> 0\n",
       "                </td>\n",
       "                <td style=\"text-align: left;\">\n",
       "                    <strong>Total memory:</strong> 0 B\n",
       "                </td>\n",
       "            </tr>\n",
       "            \n",
       "        </table>\n",
       "\n",
       "        <details>\n",
       "            <summary style=\"margin-bottom: 20px;\">\n",
       "                <h3 style=\"display: inline;\">Scheduler Info</h3>\n",
       "            </summary>\n",
       "\n",
       "            <div style=\"\">\n",
       "    <div>\n",
       "        <div style=\"width: 24px; height: 24px; background-color: #FFF7E5; border: 3px solid #FF6132; border-radius: 5px; position: absolute;\"> </div>\n",
       "        <div style=\"margin-left: 48px;\">\n",
       "            <h3 style=\"margin-bottom: 0px;\">Scheduler</h3>\n",
       "            <p style=\"color: #9D9D9D; margin-bottom: 0px;\">Scheduler-2a50211e-8b31-4fc9-a55e-1adf8b049cdc</p>\n",
       "            <table style=\"width: 100%; text-align: left;\">\n",
       "                <tr>\n",
       "                    <td style=\"text-align: left;\">\n",
       "                        <strong>Comm:</strong> tcp://10.70.211.9:41403\n",
       "                    </td>\n",
       "                    <td style=\"text-align: left;\">\n",
       "                        <strong>Workers:</strong> 0\n",
       "                    </td>\n",
       "                </tr>\n",
       "                <tr>\n",
       "                    <td style=\"text-align: left;\">\n",
       "                        <strong>Dashboard:</strong> <a href=\"http://10.70.211.9:45602/status\" target=\"_blank\">http://10.70.211.9:45602/status</a>\n",
       "                    </td>\n",
       "                    <td style=\"text-align: left;\">\n",
       "                        <strong>Total threads:</strong> 0\n",
       "                    </td>\n",
       "                </tr>\n",
       "                <tr>\n",
       "                    <td style=\"text-align: left;\">\n",
       "                        <strong>Started:</strong> Just now\n",
       "                    </td>\n",
       "                    <td style=\"text-align: left;\">\n",
       "                        <strong>Total memory:</strong> 0 B\n",
       "                    </td>\n",
       "                </tr>\n",
       "            </table>\n",
       "        </div>\n",
       "    </div>\n",
       "\n",
       "    <details style=\"margin-left: 48px;\">\n",
       "        <summary style=\"margin-bottom: 20px;\">\n",
       "            <h3 style=\"display: inline;\">Workers</h3>\n",
       "        </summary>\n",
       "\n",
       "        \n",
       "\n",
       "    </details>\n",
       "</div>\n",
       "\n",
       "        </details>\n",
       "    </div>\n",
       "</div>\n",
       "            </details>\n",
       "        \n",
       "\n",
       "    </div>\n",
       "</div>"
      ],
      "text/plain": [
       "<Client: 'tcp://10.70.211.9:41403' processes=0 threads=0, memory=0 B>"
      ]
     },
     "metadata": {},
     "output_type": "display_data"
    }
   ],
   "source": [
    "# build list of the dic_args to be tested\n",
    "list_dic_args = fct.build_args(dic_default_value, list_dic_range)\n",
    "\n",
    "# open a cluster\n",
    "client, cluster = new_launch_cluster(\n",
    "    task_memory=19,\n",
    "    job_walltime=\"72:00:00\",\n",
    "    max_cpu=len(list_dic_args),\n",
    ")\n",
    "\n",
    "# run with dask distributed\n",
    "dld_obj = [\n",
    "    dask.delayed(dyn.single_run)(**dic_args) for dic_args in list_dic_args\n",
    "]\n",
    "futures = client.compute(dld_obj)\n"
   ]
  },
  {
   "cell_type": "code",
   "execution_count": 1,
   "metadata": {},
   "outputs": [],
   "source": [
    "! squeue -u vlecoz -h -t pending,running -r -O \"state\" | uniq -c"
   ]
  },
  {
   "cell_type": "code",
   "execution_count": 3,
   "metadata": {},
   "outputs": [
    {
     "ename": "NameError",
     "evalue": "name 'pd' is not defined",
     "output_type": "error",
     "traceback": [
      "\u001b[0;31m---------------------------------------------------------------------------\u001b[0m",
      "\u001b[0;31mNameError\u001b[0m                                 Traceback (most recent call last)",
      "Input \u001b[0;32mIn [3]\u001b[0m, in \u001b[0;36m<cell line: 4>\u001b[0;34m()\u001b[0m\n\u001b[1;32m      1\u001b[0m \u001b[38;5;28;01mfrom\u001b[39;00m \u001b[38;5;21;01mtqdm\u001b[39;00m \u001b[38;5;28;01mimport\u001b[39;00m tqdm\n\u001b[1;32m      3\u001b[0m \u001b[38;5;66;03m# store error types\u001b[39;00m\n\u001b[0;32m----> 4\u001b[0m sr_dask_finished \u001b[38;5;241m=\u001b[39m \u001b[43mpd\u001b[49m\u001b[38;5;241m.\u001b[39mSeries()\n\u001b[1;32m      5\u001b[0m \u001b[38;5;28;01mfor\u001b[39;00m i, future \u001b[38;5;129;01min\u001b[39;00m \u001b[38;5;28menumerate\u001b[39m(tqdm(futures)):\n\u001b[1;32m      6\u001b[0m     \u001b[38;5;28;01mif\u001b[39;00m future\u001b[38;5;241m.\u001b[39mstatus \u001b[38;5;241m==\u001b[39m \u001b[38;5;124m\"\u001b[39m\u001b[38;5;124mfinished\u001b[39m\u001b[38;5;124m\"\u001b[39m:\n",
      "\u001b[0;31mNameError\u001b[0m: name 'pd' is not defined"
     ]
    }
   ],
   "source": [
    "from tqdm import tqdm\n",
    "\n",
    "# store error types\n",
    "sr_dask_finished = pd.Series()\n",
    "for i, future in enumerate(tqdm(futures)):\n",
    "    if future.status == \"finished\":\n",
    "        sr_dask_finished.loc[i] = str(future.result())"
   ]
  },
  {
   "cell_type": "code",
   "execution_count": 8,
   "metadata": {},
   "outputs": [
    {
     "data": {
      "text/plain": [
       "***ERROR***: bank 92 has not enough collateral to     2\n",
       "***ERROR***: bank 49 has not enough collateral to     2\n",
       "***ERROR***: bank 45 has not enough collateral to     2\n",
       "***ERROR***: bank 4 has not enough collateral to e    1\n",
       "***ERROR***: bank 78 has not enough collateral to     1\n",
       "***ERROR***: bank 56 has not enough collateral to     1\n",
       "***ERROR***: bank 24 has not enough collateral to     1\n",
       "***ERROR***: bank 79 has not enough collateral to     1\n",
       "***ERROR***: bank 96 has not enough collateral to     1\n",
       "***ERROR***: bank 46 has not enough collateral to     1\n",
       "***ERROR***: bank 67 has not enough collateral to     1\n",
       "***ERROR***: securities reused negative -591.36635    1\n",
       "***ERROR***: bank 33 has not enough collateral to     1\n",
       "***ERROR***: bank 90 has not enough collateral to     1\n",
       "***ERROR***: bank 7 has not enough collateral to e    1\n",
       "***ERROR***: bank 48 has not enough collateral to     1\n",
       "***ERROR***: bank 83 has not enough collateral to     1\n",
       "***ERROR***: bank 39 has not enough collateral to     1\n",
       "***ERROR***: bank 91 has not enough collateral to     1\n",
       "***ERROR***: bank 17 has not enough collateral to     1\n",
       "***ERROR***: bank 13 has not enough collateral to     1\n",
       "***ERROR***: bank 47 has not enough collateral to     1\n",
       "***ERROR***: bank 38 has not enough collateral to     1\n",
       "***ERROR***: bank 10 has not enough collateral to     1\n",
       "***ERROR***: securities reused negative -5.9421129    1\n",
       "dtype: int64"
      ]
     },
     "execution_count": 8,
     "metadata": {},
     "output_type": "execute_result"
    }
   ],
   "source": [
    "sr_dask_finished.dropna().apply(lambda x: x[:50]).value_counts()"
   ]
  },
  {
   "cell_type": "code",
   "execution_count": 2,
   "metadata": {},
   "outputs": [
    {
     "ename": "NameError",
     "evalue": "name 'futures' is not defined",
     "output_type": "error",
     "traceback": [
      "\u001b[0;31m---------------------------------------------------------------------------\u001b[0m",
      "\u001b[0;31mNameError\u001b[0m                                 Traceback (most recent call last)",
      "Input \u001b[0;32mIn [2]\u001b[0m, in \u001b[0;36m<cell line: 1>\u001b[0;34m()\u001b[0m\n\u001b[0;32m----> 1\u001b[0m \u001b[43mfutures\u001b[49m[\u001b[38;5;241m0\u001b[39m]\u001b[38;5;241m.\u001b[39mresult()\n",
      "\u001b[0;31mNameError\u001b[0m: name 'futures' is not defined"
     ]
    }
   ],
   "source": [
    "futures[0].result()"
   ]
  },
  {
   "cell_type": "code",
   "execution_count": 1,
   "metadata": {},
   "outputs": [
    {
     "ename": "NameError",
     "evalue": "name 'pd' is not defined",
     "output_type": "error",
     "traceback": [
      "\u001b[0;31m---------------------------------------------------------------------------\u001b[0m",
      "\u001b[0;31mNameError\u001b[0m                                 Traceback (most recent call last)",
      "Input \u001b[0;32mIn [1]\u001b[0m, in \u001b[0;36m<cell line: 4>\u001b[0;34m()\u001b[0m\n\u001b[1;32m      1\u001b[0m \u001b[38;5;28;01mfrom\u001b[39;00m \u001b[38;5;21;01mtqdm\u001b[39;00m \u001b[38;5;28;01mimport\u001b[39;00m tqdm\n\u001b[1;32m      3\u001b[0m \u001b[38;5;66;03m# store error types\u001b[39;00m\n\u001b[0;32m----> 4\u001b[0m sr_dask_errors \u001b[38;5;241m=\u001b[39m \u001b[43mpd\u001b[49m\u001b[38;5;241m.\u001b[39mSeries()\n\u001b[1;32m      5\u001b[0m \u001b[38;5;28;01mfor\u001b[39;00m i, future \u001b[38;5;129;01min\u001b[39;00m \u001b[38;5;28menumerate\u001b[39m(tqdm(futures)):\n\u001b[1;32m      6\u001b[0m     \u001b[38;5;28;01mif\u001b[39;00m future\u001b[38;5;241m.\u001b[39mstatus \u001b[38;5;241m==\u001b[39m \u001b[38;5;124m\"\u001b[39m\u001b[38;5;124merror\u001b[39m\u001b[38;5;124m\"\u001b[39m:\n",
      "\u001b[0;31mNameError\u001b[0m: name 'pd' is not defined"
     ]
    }
   ],
   "source": [
    "from tqdm import tqdm\n",
    "\n",
    "# store error types\n",
    "sr_dask_errors = pd.Series()\n",
    "for i, future in enumerate(tqdm(futures)):\n",
    "    if future.status == \"error\":\n",
    "        sr_dask_errors.loc[i] = str(future.exception())"
   ]
  },
  {
   "cell_type": "code",
   "execution_count": 9,
   "metadata": {},
   "outputs": [
    {
     "data": {
      "text/plain": [
       "\"[Errno 2] No such file or directory: './results/parameter_space/test/runs/alpha_pareto/18#0.924051880033264/input_parameters.txt'\""
      ]
     },
     "execution_count": 9,
     "metadata": {},
     "output_type": "execute_result"
    }
   ],
   "source": [
    "sr_dask_errors[18]"
   ]
  },
  {
   "cell_type": "code",
   "execution_count": 5,
   "metadata": {},
   "outputs": [
    {
     "data": {
      "text/plain": [
       "__init__() missing 5 required positional arguments: 'init_money_min', 'QE_start', 'QE_stop', 'no_trust_start', and 'no_trust_stop'    35100\n",
       "dtype: int64"
      ]
     },
     "execution_count": 5,
     "metadata": {},
     "output_type": "execute_result"
    }
   ],
   "source": [
    "# look at the different types of dask errors\n",
    "sr_dask_errors.dropna().apply(lambda x: x[:300]).value_counts()"
   ]
  },
  {
   "cell_type": "code",
   "execution_count": 5,
   "metadata": {},
   "outputs": [
    {
     "name": "stderr",
     "output_type": "stream",
     "text": [
      "/opt/tmp/tmp/ipykernel_214199/1202213659.py:3: FutureWarning: The default dtype for empty Series will be 'object' instead of 'float64' in a future version. Specify a dtype explicitly to silence this warning.\n",
      "  sr_logs =pd.Series()\n",
      "100%|██████████| 332/332 [01:22<00:00,  4.03it/s]\n"
     ]
    }
   ],
   "source": [
    "# check the logs saved, look for what appended to the died workers\n",
    "import os\n",
    "sr_logs =pd.Series()\n",
    "path_logs = f\"./dask_logs/D2024-06_21_T18-05-55.472605/\"\n",
    "files = os.listdir(path_logs)\n",
    "for file in tqdm(files):\n",
    "    sr_logs.loc[file]= open(f\"{path_logs}/{file}\", \"r\").read()"
   ]
  },
  {
   "cell_type": "code",
   "execution_count": 167,
   "metadata": {},
   "outputs": [
    {
     "data": {
      "text/plain": [
       "dask-worker-12488587.err    True\n",
       "dtype: bool"
      ]
     },
     "execution_count": 167,
     "metadata": {},
     "output_type": "execute_result"
    }
   ],
   "source": [
    "sr_bool = sr_logs.str.contains('tcp://10.67.203.13:44700', na=False, regex=True)\n",
    "sr_bool.loc[sr_bool]"
   ]
  },
  {
   "cell_type": "code",
   "execution_count": 7,
   "metadata": {},
   "outputs": [
    {
     "data": {
      "text/plain": [
       "46.875"
      ]
     },
     "execution_count": 7,
     "metadata": {},
     "output_type": "execute_result"
    }
   ],
   "source": [
    "15000/320"
   ]
  },
  {
   "cell_type": "code",
   "execution_count": null,
   "metadata": {},
   "outputs": [],
   "source": [
    "client.shutdown()"
   ]
  },
  {
   "cell_type": "code",
   "execution_count": 4,
   "metadata": {},
   "outputs": [],
   "source": [
    "if \"client\" in globals():\n",
    "    client.close()\n",
    "    cluster.close()\n",
    "    client.shutdown()"
   ]
  },
  {
   "attachments": {},
   "cell_type": "markdown",
   "metadata": {},
   "source": [
    "# collect results"
   ]
  },
  {
   "cell_type": "code",
   "execution_count": null,
   "metadata": {},
   "outputs": [],
   "source": [
    "# collect results into df_network_sensitivity\n",
    "df_network_sensitivity, sr_errors = fct.get_df_network_sensitivity(dic_default_value[\"path_results\"])"
   ]
  },
  {
   "cell_type": "code",
   "execution_count": 10,
   "metadata": {},
   "outputs": [
    {
     "data": {
      "text/plain": [
       " securities reused negati    141\n",
       " bank 61 has not enough c     30\n",
       " bank 29 has not enough c     29\n",
       " bank 62 has not enough c     28\n",
       " bank 17 has not enough c     27\n",
       "                            ... \n",
       " bank 78 has not enough c     12\n",
       " bank 55 has not enough c     11\n",
       " bank 99 has not enough c     10\n",
       " bank 22 has not enough c      9\n",
       " bank 18 has not enough c      8\n",
       "Length: 101, dtype: int64"
      ]
     },
     "execution_count": 10,
     "metadata": {},
     "output_type": "execute_result"
    }
   ],
   "source": [
    " # look at the different types of errors\n",
    "sr_bool_error = sr_errors.str.contains(\"ERROR\", na=False, regex=True)\n",
    "sr_errors[sr_bool_error].apply(lambda x: (x.split(\"***ERROR***:\"))[1][:25]).value_counts()"
   ]
  },
  {
   "cell_type": "code",
   "execution_count": 9,
   "metadata": {},
   "outputs": [
    {
     "data": {
      "text/plain": [
       "Series([], dtype: object)"
      ]
     },
     "execution_count": 9,
     "metadata": {},
     "output_type": "execute_result"
    }
   ],
   "source": [
    "sr_errors[sr_errors.str.contains(\"assets don't\", na=False, regex=True)]"
   ]
  },
  {
   "cell_type": "markdown",
   "metadata": {},
   "source": [
    "# plot results"
   ]
  },
  {
   "cell_type": "code",
   "execution_count": 4,
   "metadata": {},
   "outputs": [],
   "source": [
    "import functions as fct\n",
    "import pandas as pd\n",
    "import dynamics as dyn\n",
    "import numpy as np\n",
    "import dask\n",
    "from cluster import new_launch_cluster\n",
    "import graphics as gx\n",
    "\n",
    "path = \"./results/parameter_space/test_beta/\"\n",
    "\n",
    "# plot the sensitivity\n",
    "df_network_sensitivity = pd.read_csv(f\"{dic_default_value['path_results']}df_network_sensitivity.csv\", index_col=(0,1,2))\n",
    "gx.plot_all_sensitivities(df_network_sensitivity,path=path)"
   ]
  },
  {
   "cell_type": "code",
   "execution_count": 5,
   "metadata": {},
   "outputs": [
    {
     "data": {
      "text/plain": [
       "<AxesSubplot: >"
      ]
     },
     "execution_count": 5,
     "metadata": {},
     "output_type": "execute_result"
    },
    {
     "data": {
      "image/png": "[encoded data removed]",
      "text/plain": [
       "<Figure size 640x480 with 1 Axes>"
      ]
     },
     "metadata": {},
     "output_type": "display_data"
    }
   ],
   "source": [
    "df_network_sensitivity.loc[\"beta_reg\"][\"cash tot. network\"].isna().groupby(level=0).sum().plot()"
   ]
  },
  {
   "cell_type": "markdown",
   "metadata": {},
   "source": [
    "# collect error or completed files"
   ]
  },
  {
   "cell_type": "code",
   "execution_count": 3,
   "metadata": {},
   "outputs": [],
   "source": [
    "import os\n",
    "import pandas as pd\n",
    "from pathlib import Path\n",
    "df_stats = pd.DataFrame()\n",
    "for param_path in os.listdir(f\"{path}runs\"):\n",
    "    if os.path.isdir(f\"{path}runs/{param_path}/\"):\n",
    "        for run_path in os.listdir(f\"{path}runs/{param_path}/\"):\n",
    "            df_stats.loc[run_path,param_path] =  Path(f\"{path}runs/{param_path}/{run_path}/completed.txt\").is_file()\n",
    "            \n",
    "            "
   ]
  },
  {
   "cell_type": "code",
   "execution_count": 4,
   "metadata": {},
   "outputs": [
    {
     "data": {
      "text/plain": [
       "shocks_vol        5150\n",
       "alpha_pareto      8264\n",
       "beta_reg          1265\n",
       "learning_speed    4062\n",
       "gamma_new         8471\n",
       "dtype: object"
      ]
     },
     "execution_count": 4,
     "metadata": {},
     "output_type": "execute_result"
    }
   ],
   "source": [
    "df_stats.sum()"
   ]
  },
  {
   "cell_type": "code",
   "execution_count": 11,
   "metadata": {},
   "outputs": [
    {
     "name": "stdout",
     "output_type": "stream",
     "text": [
      "10000\n",
      "10000\n",
      "5100\n",
      "10000\n",
      "10000\n"
     ]
    }
   ],
   "source": [
    "for ranges in list_dic_range:\n",
    "    print(len(list(ranges.values())[0]))"
   ]
  },
  {
   "cell_type": "code",
   "execution_count": 12,
   "metadata": {},
   "outputs": [
    {
     "name": "stdout",
     "output_type": "stream",
     "text": [
      "dict_keys(['alpha_pareto'])\n",
      "dict_keys(['gamma_new', 'gamma_init'])\n",
      "dict_keys(['learning_speed'])\n",
      "dict_keys(['shocks_vol'])\n",
      "dict_keys(['beta_reg', 'beta_star'])\n"
     ]
    }
   ],
   "source": [
    "for ranges in list_dic_range:\n",
    "    print(ranges.keys())"
   ]
  },
  {
   "cell_type": "code",
   "execution_count": 3,
   "metadata": {},
   "outputs": [],
   "source": [
    "path = \"./results/parameter_space/test/\""
   ]
  },
  {
   "cell_type": "markdown",
   "metadata": {},
   "source": [
    "# delete un-necessary files"
   ]
  },
  {
   "cell_type": "code",
   "execution_count": 4,
   "metadata": {},
   "outputs": [
    {
     "name": "stderr",
     "output_type": "stream",
     "text": [
      "  0%|          | 0/10000 [00:00<?, ?it/s]"
     ]
    },
    {
     "name": "stderr",
     "output_type": "stream",
     "text": [
      " 28%|██▊       | 2846/10000 [20:27<1:12:06,  1.65it/s]/tmp/ipykernel_22012/1260053924.py:13: DtypeWarning: Columns (46,47,48,49,50,51,52,53,54,55,56,57,62,63,64) have mixed types. Specify dtype option on import or set low_memory=False.\n",
      "  df_network_trajectory = pd.read_csv(path_df, index_col=0)\n",
      " 43%|████▎     | 4301/10000 [30:36<52:45,  1.80it/s]  /tmp/ipykernel_22012/1260053924.py:13: DtypeWarning: Columns (46,47,48,49,50,51,52,53,54,55,56,57,62,63,64) have mixed types. Specify dtype option on import or set low_memory=False.\n",
      "  df_network_trajectory = pd.read_csv(path_df, index_col=0)\n",
      " 55%|█████▌    | 5517/10000 [39:23<44:27,  1.68it/s]  /tmp/ipykernel_22012/1260053924.py:13: DtypeWarning: Columns (46,47,48,49,50,51,52,53,54,55,56,57,62,63,64) have mixed types. Specify dtype option on import or set low_memory=False.\n",
      "  df_network_trajectory = pd.read_csv(path_df, index_col=0)\n",
      " 61%|██████    | 6083/10000 [43:13<20:18,  3.22it/s]/tmp/ipykernel_22012/1260053924.py:13: DtypeWarning: Columns (46,47,48,49,50,51,52,53,54,55,56,57,62,63,64) have mixed types. Specify dtype option on import or set low_memory=False.\n",
      "  df_network_trajectory = pd.read_csv(path_df, index_col=0)\n",
      "100%|██████████| 10000/10000 [1:12:17<00:00,  2.31it/s]\n",
      "100%|██████████| 10000/10000 [2:06:41<00:00,  1.32it/s] \n",
      "100%|██████████| 10000/10000 [1:10:53<00:00,  2.35it/s]\n",
      "100%|██████████| 5100/5100 [1:00:37<00:00,  1.40it/s]\n",
      "100%|██████████| 10000/10000 [2:05:19<00:00,  1.33it/s] \n"
     ]
    }
   ],
   "source": [
    "import os\n",
    "from tqdm import tqdm\n",
    "import pandas as pd\n",
    "from pathlib import Path\n",
    "import functions as fct\n",
    "for param_path in os.listdir(f\"{path}runs\"):\n",
    "    if os.path.isdir(f\"{path}runs/{param_path}/\"):\n",
    "        for run_path in tqdm(os.listdir(f\"{path}runs/{param_path}/\")):\n",
    "            if Path(f\"{path}runs/{param_path}/{run_path}/completed.txt\").is_file():\n",
    "                \n",
    "                # load the existing df_network_trajectory file\n",
    "                path_df = f\"{path}runs/{param_path}/{run_path}/df_network_trajectory.csv\"\n",
    "                df_network_trajectory = pd.read_csv(path_df, index_col=0)\n",
    "                \n",
    "                # delete everything                \n",
    "                fct.delete_n_init_path(f\"{path}runs/{param_path}/{run_path}\")\n",
    "\n",
    "                \n",
    "                # re-save the necessary files\n",
    "                df_network_trajectory.to_csv(f\"{path}runs/{param_path}/{run_path}/df_network_trajectory.csv\")\n",
    "                \n",
    "                with open(f\"{path}runs/{param_path}/{run_path}/completed.txt\", \"w\") as f:\n",
    "                    f.write(f\"Completed !\")"
   ]
  }
 ],
 "metadata": {
  "kernelspec": {
   "display_name": "Python 3",
   "language": "python",
   "name": "python3"
  },
  "language_info": {
   "codemirror_mode": {
    "name": "ipython",
    "version": 3
   },
   "file_extension": ".py",
   "mimetype": "text/x-python",
   "name": "python",
   "nbconvert_exporter": "python",
   "pygments_lexer": "ipython3",
   "version": "3.8.13"
  },
  "orig_nbformat": 4,
  "vscode": {
   "interpreter": {
    "hash": "772f89c9e5965f4a9875c1ffbe035acc42ea864da53ad5989a43bc0bf2ed9e48"
   }
  }
 },
 "nbformat": 4,
 "nbformat_minor": 2
}
