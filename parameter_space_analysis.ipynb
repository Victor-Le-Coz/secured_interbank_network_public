{
 "cells": [
  {
   "cell_type": "code",
   "execution_count": 1,
   "metadata": {},
   "outputs": [],
   "source": [
    "import functions as fct\n",
    "import pandas as pd\n",
    "import dynamics as dyn\n",
    "import numpy as np\n",
    "import dask\n",
    "from cluster import new_launch_cluster\n",
    "import graphics as gx\n",
    "\n",
    "path = \"./results/parameter_space/test/\"\n",
    "\n",
    "dic_default_value = {\n",
    "    \"nb_banks\": 50,\n",
    "    \"initial_deposits_size\": 1e-5,\n",
    "    \"alpha_init\": False,\n",
    "    \"alpha\": 0.01,\n",
    "    \"beta_init\": 0.5,\n",
    "    \"beta_reg\": 0.5,\n",
    "    \"beta_star\": 0.5,\n",
    "    \"beta_new\": 0.5,\n",
    "    \"gamma_init\": 0.03*10,\n",
    "    \"gamma\": 0.03,\n",
    "    \"gamma_star\": 0.03*10, \n",
    "    \"gamma_new\": 0.03*10, \n",
    "    \"collateral_value\": 1.0,\n",
    "    \"initialization_method\": \"pareto\",\n",
    "    \"alpha_pareto\": 1.3,\n",
    "    \"shocks_method\": \"non-conservative\",\n",
    "    \"shocks_law\": \"normal-mean-reverting\",\n",
    "    \"shocks_vol\": 0.01,\n",
    "    \"LCR_mgt_opt\": True,\n",
    "    \"min_repo_trans_size\": 1e-8,\n",
    "    \"loan_tenor\": 5000, # for money creation \n",
    "    \"loan_period\":1,\n",
    "    \"new_loans_vol\":0,\n",
    "    \"new_loans_mean\":1000000e-2/250,\n",
    "    \"end_repo_period\":False,\n",
    "    \"nb_steps\": int(5e3),\n",
    "    \"path_results\": f\"{path}runs/\",\n",
    "    \"dump_period\": int(5e3),\n",
    "    \"plot_period\": int(1e2),\n",
    "    \"cp_option\": True,\n",
    "    \"heavy_plot\": False,  # False to avoid the number of linux node to explode\n",
    "}\n",
    "\n",
    "# special dictionary of parameters ranges \n",
    "dic_range_special = {\n",
    "    # \"nb_banks\": np.arange(155, 260, 5),  # 10 to 260\n",
    "    # \"initial_deposits_size\": np.logspace(-5, 3, num=500),\n",
    "    # \"initial_deposits_size\": [1e-5 for _ in range(500)],\n",
    "    # \"alpha_init\": np.arange(0, 0.3, 0.01),\n",
    "    # \"beta_init\": np.arange(0, 1, 0.02),\n",
    "    # \"beta_reg\": np.arange(0.01, 1, 0.01),\n",
    "    # \"alpha_pareto\": np.logspace(0, 1, num=50),\n",
    "    \"shocks_vol\": np.arange(0, 0.30, 0.0010),\n",
    "    # \"min_repo_trans_size\": np.logspace(-16, 2, num=50),\n",
    "}\n",
    "\n",
    "# general dictionary of parameters ranges\n",
    "dic_range_general = {\n",
    "    \"nb_banks\": np.arange(1, 3),\n",
    "    \"initial_deposits_size\": np.logspace(-9, 3, num=50),\n",
    "    \"alpha_init\": np.arange(0, 1, 0.1),\n",
    "    \"beta_init\": np.arange(0, 1, 0.05),\n",
    "    \"beta_reg\": np.arange(0.01, 0.03, 0.01),\n",
    "    \"alpha_pareto\": np.logspace(0, 1, num=3),\n",
    "    \"shocks_vol\": np.arange(0, 0.30, 0.0025),\n",
    "    \"min_repo_trans_size\": np.logspace(-16, 2, num=3),\n",
    "}\n",
    "\n",
    "# define the dictionary to be used for the ranges\n",
    "dic_range = dic_range_special"
   ]
  },
  {
   "cell_type": "markdown",
   "metadata": {},
   "source": [
    "# run parameter space analysis"
   ]
  },
  {
   "cell_type": "code",
   "execution_count": 2,
   "metadata": {},
   "outputs": [
    {
     "data": {
      "text/html": [
       "<div>\n",
       "    <div style=\"width: 24px; height: 24px; background-color: #e1e1e1; border: 3px solid #9D9D9D; border-radius: 5px; position: absolute;\"> </div>\n",
       "    <div style=\"margin-left: 48px;\">\n",
       "        <h3 style=\"margin-bottom: 0px;\">Client</h3>\n",
       "        <p style=\"color: #9D9D9D; margin-bottom: 0px;\">Client-223164f5-228c-11ef-a18c-e4434b17e9c8</p>\n",
       "        <table style=\"width: 100%; text-align: left;\">\n",
       "\n",
       "        <tr>\n",
       "        \n",
       "            <td style=\"text-align: left;\"><strong>Connection method:</strong> Cluster object</td>\n",
       "            <td style=\"text-align: left;\"><strong>Cluster type:</strong> dask_jobqueue.SLURMCluster</td>\n",
       "        \n",
       "        </tr>\n",
       "\n",
       "        \n",
       "            <tr>\n",
       "                <td style=\"text-align: left;\">\n",
       "                    <strong>Dashboard: </strong> <a href=\"http://10.70.211.9:8787/status\" target=\"_blank\">http://10.70.211.9:8787/status</a>\n",
       "                </td>\n",
       "                <td style=\"text-align: left;\"></td>\n",
       "            </tr>\n",
       "        \n",
       "\n",
       "        </table>\n",
       "\n",
       "        \n",
       "\n",
       "        \n",
       "            <details>\n",
       "            <summary style=\"margin-bottom: 20px;\"><h3 style=\"display: inline;\">Cluster Info</h3></summary>\n",
       "            <div class=\"jp-RenderedHTMLCommon jp-RenderedHTML jp-mod-trusted jp-OutputArea-output\">\n",
       "    <div style=\"width: 24px; height: 24px; background-color: #e1e1e1; border: 3px solid #9D9D9D; border-radius: 5px; position: absolute;\">\n",
       "    </div>\n",
       "    <div style=\"margin-left: 48px;\">\n",
       "        <h3 style=\"margin-bottom: 0px; margin-top: 0px;\">SLURMCluster</h3>\n",
       "        <p style=\"color: #9D9D9D; margin-bottom: 0px;\">01ead060</p>\n",
       "        <table style=\"width: 100%; text-align: left;\">\n",
       "            <tr>\n",
       "                <td style=\"text-align: left;\">\n",
       "                    <strong>Dashboard:</strong> <a href=\"http://10.70.211.9:8787/status\" target=\"_blank\">http://10.70.211.9:8787/status</a>\n",
       "                </td>\n",
       "                <td style=\"text-align: left;\">\n",
       "                    <strong>Workers:</strong> 0\n",
       "                </td>\n",
       "            </tr>\n",
       "            <tr>\n",
       "                <td style=\"text-align: left;\">\n",
       "                    <strong>Total threads:</strong> 0\n",
       "                </td>\n",
       "                <td style=\"text-align: left;\">\n",
       "                    <strong>Total memory:</strong> 0 B\n",
       "                </td>\n",
       "            </tr>\n",
       "            \n",
       "        </table>\n",
       "\n",
       "        <details>\n",
       "            <summary style=\"margin-bottom: 20px;\">\n",
       "                <h3 style=\"display: inline;\">Scheduler Info</h3>\n",
       "            </summary>\n",
       "\n",
       "            <div style=\"\">\n",
       "    <div>\n",
       "        <div style=\"width: 24px; height: 24px; background-color: #FFF7E5; border: 3px solid #FF6132; border-radius: 5px; position: absolute;\"> </div>\n",
       "        <div style=\"margin-left: 48px;\">\n",
       "            <h3 style=\"margin-bottom: 0px;\">Scheduler</h3>\n",
       "            <p style=\"color: #9D9D9D; margin-bottom: 0px;\">Scheduler-c6ca193c-65b1-4aeb-8c55-5bd513fcd8e2</p>\n",
       "            <table style=\"width: 100%; text-align: left;\">\n",
       "                <tr>\n",
       "                    <td style=\"text-align: left;\">\n",
       "                        <strong>Comm:</strong> tcp://10.70.211.9:39986\n",
       "                    </td>\n",
       "                    <td style=\"text-align: left;\">\n",
       "                        <strong>Workers:</strong> 0\n",
       "                    </td>\n",
       "                </tr>\n",
       "                <tr>\n",
       "                    <td style=\"text-align: left;\">\n",
       "                        <strong>Dashboard:</strong> <a href=\"http://10.70.211.9:8787/status\" target=\"_blank\">http://10.70.211.9:8787/status</a>\n",
       "                    </td>\n",
       "                    <td style=\"text-align: left;\">\n",
       "                        <strong>Total threads:</strong> 0\n",
       "                    </td>\n",
       "                </tr>\n",
       "                <tr>\n",
       "                    <td style=\"text-align: left;\">\n",
       "                        <strong>Started:</strong> Just now\n",
       "                    </td>\n",
       "                    <td style=\"text-align: left;\">\n",
       "                        <strong>Total memory:</strong> 0 B\n",
       "                    </td>\n",
       "                </tr>\n",
       "            </table>\n",
       "        </div>\n",
       "    </div>\n",
       "\n",
       "    <details style=\"margin-left: 48px;\">\n",
       "        <summary style=\"margin-bottom: 20px;\">\n",
       "            <h3 style=\"display: inline;\">Workers</h3>\n",
       "        </summary>\n",
       "\n",
       "        \n",
       "\n",
       "    </details>\n",
       "</div>\n",
       "\n",
       "        </details>\n",
       "    </div>\n",
       "</div>\n",
       "            </details>\n",
       "        \n",
       "\n",
       "    </div>\n",
       "</div>"
      ],
      "text/plain": [
       "<Client: 'tcp://10.70.211.9:39986' processes=0 threads=0, memory=0 B>"
      ]
     },
     "metadata": {},
     "output_type": "display_data"
    }
   ],
   "source": [
    "# initialize the path\n",
    "# fct.delete_n_init_path(path)\n",
    "\n",
    "# build list of the dic_args to be tested\n",
    "list_dic_args = fct.build_args(dic_default_value, dic_range)\n",
    "\n",
    "# open a cluster\n",
    "client, cluster = new_launch_cluster(\n",
    "    task_memory=19,\n",
    "    job_walltime=\"2:00:00\",\n",
    "    max_cpu=fct.get_nb_runs(dic_range),\n",
    ")\n",
    "\n",
    "# run with dask distributed\n",
    "dld_obj = [\n",
    "    dask.delayed(dyn.single_run)(**dic_args) for dic_args in list_dic_args\n",
    "]\n",
    "futures = client.compute(dld_obj)\n"
   ]
  },
  {
   "cell_type": "code",
   "execution_count": 7,
   "metadata": {},
   "outputs": [],
   "source": [
    "for i, future in enumerate(futures):\n",
    "    if future.status == \"finished\":\n",
    "        print(i, future.result())"
   ]
  },
  {
   "cell_type": "code",
   "execution_count": 5,
   "metadata": {},
   "outputs": [
    {
     "data": {
      "text/plain": [
       "0.025"
      ]
     },
     "execution_count": 5,
     "metadata": {},
     "output_type": "execute_result"
    }
   ],
   "source": [
    "np.arange(0, 0.30, 0.0010)[25]"
   ]
  },
  {
   "cell_type": "code",
   "execution_count": 6,
   "metadata": {},
   "outputs": [],
   "source": [
    "client.shutdown()"
   ]
  },
  {
   "cell_type": "code",
   "execution_count": null,
   "metadata": {},
   "outputs": [],
   "source": [
    "dyn.single_run(*dic_default_value.values())"
   ]
  },
  {
   "attachments": {},
   "cell_type": "markdown",
   "metadata": {},
   "source": [
    "# collect results"
   ]
  },
  {
   "cell_type": "code",
   "execution_count": 8,
   "metadata": {},
   "outputs": [
    {
     "name": "stderr",
     "output_type": "stream",
     "text": [
      "100%|██████████| 2/2 [01:20<00:00, 40.24s/it]\n"
     ]
    }
   ],
   "source": [
    "# collect results into df_network_sensitivity\n",
    "df_network_sensitivity = fct.get_df_network_sensitivity(dic_default_value[\"path_results\"])"
   ]
  },
  {
   "cell_type": "code",
   "execution_count": 5,
   "metadata": {},
   "outputs": [
    {
     "data": {
      "text/plain": [
       "<AxesSubplot: >"
      ]
     },
     "execution_count": 5,
     "metadata": {},
     "output_type": "execute_result"
    },
    {
     "data": {
      "image/png": "[encoded data removed]",
      "text/plain": [
       "<Figure size 640x480 with 1 Axes>"
      ]
     },
     "metadata": {},
     "output_type": "display_data"
    }
   ],
   "source": [
    "(df_network_sensitivity[\"borrowings ov. deposits tot. network\"]).hist()"
   ]
  },
  {
   "cell_type": "code",
   "execution_count": 5,
   "metadata": {},
   "outputs": [
    {
     "data": {
      "text/plain": [
       "<AxesSubplot: >"
      ]
     },
     "execution_count": 5,
     "metadata": {},
     "output_type": "execute_result"
    },
    {
     "data": {
      "image/png": "[encoded data removed]",
      "text/plain": [
       "<Figure size 640x480 with 1 Axes>"
      ]
     },
     "metadata": {},
     "output_type": "display_data"
    }
   ],
   "source": [
    "(df_network_sensitivity[\"own funds tot. network\"]/df_network_sensitivity[\"total assets tot. network\"]*100).hist()"
   ]
  },
  {
   "cell_type": "code",
   "execution_count": 6,
   "metadata": {},
   "outputs": [
    {
     "data": {
      "text/plain": [
       "<AxesSubplot: >"
      ]
     },
     "execution_count": 6,
     "metadata": {},
     "output_type": "execute_result"
    },
    {
     "data": {
      "image/png": "[encoded data removed]",
      "text/plain": [
       "<Figure size 640x480 with 1 Axes>"
      ]
     },
     "metadata": {},
     "output_type": "display_data"
    }
   ],
   "source": [
    "df_network_sensitivity[\"leverage ratio av. network\"].hist()"
   ]
  },
  {
   "cell_type": "markdown",
   "metadata": {},
   "source": [
    "# plot results"
   ]
  },
  {
   "cell_type": "code",
   "execution_count": 2,
   "metadata": {},
   "outputs": [
    {
     "name": "stderr",
     "output_type": "stream",
     "text": [
      "  0%|          | 0/18 [00:00<?, ?it/s]"
     ]
    },
    {
     "name": "stderr",
     "output_type": "stream",
     "text": [
      "100%|██████████| 18/18 [00:11<00:00,  1.59it/s]\n"
     ]
    }
   ],
   "source": [
    "# plot the sensitivity\n",
    "df_network_sensitivity = pd.read_csv(f\"{dic_default_value['path_results']}df_network_sensitivity.csv\", index_col=(0,1))\n",
    "gx.plot_all_sensitivities(df_network_sensitivity,path=path)"
   ]
  }
 ],
 "metadata": {
  "kernelspec": {
   "display_name": "Python 3",
   "language": "python",
   "name": "python3"
  },
  "language_info": {
   "codemirror_mode": {
    "name": "ipython",
    "version": 3
   },
   "file_extension": ".py",
   "mimetype": "text/x-python",
   "name": "python",
   "nbconvert_exporter": "python",
   "pygments_lexer": "ipython3",
   "version": "3.8.13"
  },
  "orig_nbformat": 4,
  "vscode": {
   "interpreter": {
    "hash": "772f89c9e5965f4a9875c1ffbe035acc42ea864da53ad5989a43bc0bf2ed9e48"
   }
  }
 },
 "nbformat": 4,
 "nbformat_minor": 2
}
