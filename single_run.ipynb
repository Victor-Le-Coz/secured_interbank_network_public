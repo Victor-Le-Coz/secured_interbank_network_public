{
   "cells": [
      {
         "cell_type": "markdown",
         "metadata": {},
         "source": [
            "reuse rate measured\n",
            "\n",
            "swiss 0.1\n",
            "\n",
            "ESRB 1\n",
            "\n",
            "australia 0.6"
         ]
      },
      {
         "cell_type": "markdown",
         "metadata": {},
         "source": [
            "# testing "
         ]
      },
      {
         "cell_type": "markdown",
         "metadata": {},
         "source": [
            "At initialization, asset and liabilites are equal \n",
            "$$\\alpha D + \\beta D + L  = \\frac{1}{1-\\gamma} D$$\n",
            "$$\\alpha + \\beta \\leq \\frac{1}{1-\\gamma}$$"
         ]
      },
      {
         "cell_type": "code",
         "execution_count": 2,
         "metadata": {},
         "outputs": [
            {
               "name": "stdout",
               "output_type": "stream",
               "text": [
                  "simulate the repo market\n"
               ]
            },
            {
               "name": "stderr",
               "output_type": "stream",
               "text": [
                  " 10%|▉         | 499/4999 [00:44<06:31, 11.51it/s]"
               ]
            },
            {
               "name": "stdout",
               "output_type": "stream",
               "text": [
                  "get df_rev_repo_trans\n"
               ]
            },
            {
               "name": "stderr",
               "output_type": "stream",
               "text": [
                  "100%|██████████| 50/50 [00:00<00:00, 888623.73it/s]\n"
               ]
            },
            {
               "name": "stdout",
               "output_type": "stream",
               "text": [
                  "get df_rev_repo_trans\n"
               ]
            },
            {
               "name": "stderr",
               "output_type": "stream",
               "text": [
                  "100%|██████████| 50/50 [00:00<00:00, 979977.57it/s]\n"
               ]
            },
            {
               "name": "stdout",
               "output_type": "stream",
               "text": [
                  "get arr_rev_repo_exp_adj\n"
               ]
            },
            {
               "name": "stderr",
               "output_type": "stream",
               "text": [
                  "6698it [00:02, 3296.80it/s]\n"
               ]
            },
            {
               "name": "stdout",
               "output_type": "stream",
               "text": [
                  "get arr_binary_adj (numba)\n",
                  "get degree distribution\n"
               ]
            },
            {
               "name": "stderr",
               "output_type": "stream",
               "text": [
                  "100%|██████████| 500/500 [00:00<00:00, 760.99it/s]\n"
               ]
            },
            {
               "name": "stdout",
               "output_type": "stream",
               "text": [
                  "get jaccard\n"
               ]
            },
            {
               "name": "stderr",
               "output_type": "stream",
               "text": [
                  "100%|██████████| 499/499 [00:00<00:00, 6087.35it/s]\n"
               ]
            },
            {
               "name": "stdout",
               "output_type": "stream",
               "text": [
                  "get density\n"
               ]
            },
            {
               "name": "stderr",
               "output_type": "stream",
               "text": [
                  "100%|██████████| 499/499 [00:00<00:00, 4537.17it/s]\n"
               ]
            },
            {
               "name": "stdout",
               "output_type": "stream",
               "text": [
                  "get degree stats\n"
               ]
            },
            {
               "name": "stderr",
               "output_type": "stream",
               "text": [
                  "100%|██████████| 499/499 [00:00<00:00, 1736.75it/s]\n"
               ]
            },
            {
               "name": "stdout",
               "output_type": "stream",
               "text": [
                  "get exposure stats\n"
               ]
            },
            {
               "name": "stderr",
               "output_type": "stream",
               "text": [
                  "100%|██████████| 501/501 [00:00<00:00, 5175.04it/s]\n"
               ]
            },
            {
               "name": "stdout",
               "output_type": "stream",
               "text": [
                  "run core-periphery tests\n"
               ]
            },
            {
               "name": "stderr",
               "output_type": "stream",
               "text": []
            },
            {
               "name": "stdout",
               "output_type": "stream",
               "text": [
                  "core-periphery tests using the Lip approach\n",
                  "test on day 0\n"
               ]
            },
            {
               "name": "stderr",
               "output_type": "stream",
               "text": [
                  "\n",
                  "100%|██████████| 100/100 [00:00<00:00, 2834.58it/s]\n"
               ]
            },
            {
               "name": "stdout",
               "output_type": "stream",
               "text": [
                  "test on day 500\n"
               ]
            },
            {
               "name": "stderr",
               "output_type": "stream",
               "text": [
                  "\n",
                  "\u001b[A\n",
                  "100%|██████████| 100/100 [00:00<00:00, 504.61it/s]\n"
               ]
            },
            {
               "name": "stdout",
               "output_type": "stream",
               "text": [
                  "core-periphery tests using the Lip approach\n",
                  "test on day 0\n"
               ]
            },
            {
               "name": "stderr",
               "output_type": "stream",
               "text": [
                  "\n",
                  "100%|██████████| 100/100 [00:00<00:00, 2868.82it/s]\n"
               ]
            },
            {
               "name": "stdout",
               "output_type": "stream",
               "text": [
                  "test on day 500\n"
               ]
            },
            {
               "name": "stderr",
               "output_type": "stream",
               "text": [
                  "\n",
                  "100%|██████████| 100/100 [00:00<00:00, 1168.09it/s]\n"
               ]
            },
            {
               "name": "stdout",
               "output_type": "stream",
               "text": [
                  "core-periphery tests using the Lip approach\n",
                  "test on day 0\n"
               ]
            },
            {
               "name": "stderr",
               "output_type": "stream",
               "text": [
                  "\n",
                  "100%|██████████| 100/100 [00:00<00:00, 2898.72it/s]\n"
               ]
            },
            {
               "name": "stdout",
               "output_type": "stream",
               "text": [
                  "test on day 500\n"
               ]
            },
            {
               "name": "stderr",
               "output_type": "stream",
               "text": [
                  "\n",
                  "100%|██████████| 100/100 [00:00<00:00, 1150.41it/s]\n"
               ]
            },
            {
               "name": "stdout",
               "output_type": "stream",
               "text": [
                  "core-periphery tests using the Lip approach\n",
                  "test on day 0\n"
               ]
            },
            {
               "name": "stderr",
               "output_type": "stream",
               "text": [
                  "\n",
                  "100%|██████████| 100/100 [00:00<00:00, 2882.23it/s]\n"
               ]
            },
            {
               "name": "stdout",
               "output_type": "stream",
               "text": [
                  "test on day 500\n"
               ]
            },
            {
               "name": "stderr",
               "output_type": "stream",
               "text": [
                  "\n",
                  "100%|██████████| 100/100 [00:00<00:00, 1076.85it/s]\n"
               ]
            },
            {
               "name": "stdout",
               "output_type": "stream",
               "text": [
                  "core-periphery tests using the Lip approach\n",
                  "test on day 0\n"
               ]
            },
            {
               "name": "stderr",
               "output_type": "stream",
               "text": [
                  "\n",
                  "100%|██████████| 100/100 [00:00<00:00, 2912.04it/s]\n"
               ]
            },
            {
               "name": "stdout",
               "output_type": "stream",
               "text": [
                  "test on day 500\n"
               ]
            },
            {
               "name": "stderr",
               "output_type": "stream",
               "text": [
                  "\n",
                  "100%|██████████| 100/100 [00:00<00:00, 1204.89it/s]\n",
                  "100%|██████████| 5/5 [00:00<00:00,  5.15it/s]\n"
               ]
            },
            {
               "name": "stdout",
               "output_type": "stream",
               "text": [
                  "get transaction stats av. network\n"
               ]
            },
            {
               "name": "stderr",
               "output_type": "stream",
               "text": [
                  "100%|██████████| 500/500 [00:00<00:00, 559.53it/s]\n"
               ]
            },
            {
               "name": "stdout",
               "output_type": "stream",
               "text": [
                  "get transaction stats av. bank\n"
               ]
            },
            {
               "name": "stderr",
               "output_type": "stream",
               "text": [
                  "100%|██████████| 500/500 [00:00<00:00, 1007.83it/s]\n",
                  " 20%|█▉        | 999/4999 [01:49<05:47, 11.52it/s]  "
               ]
            },
            {
               "name": "stdout",
               "output_type": "stream",
               "text": [
                  "get df_rev_repo_trans\n"
               ]
            },
            {
               "name": "stderr",
               "output_type": "stream",
               "text": [
                  "100%|██████████| 50/50 [00:00<00:00, 915786.90it/s]\n"
               ]
            },
            {
               "name": "stdout",
               "output_type": "stream",
               "text": [
                  "get df_rev_repo_trans\n"
               ]
            },
            {
               "name": "stderr",
               "output_type": "stream",
               "text": [
                  "100%|██████████| 50/50 [00:00<00:00, 1033079.80it/s]\n"
               ]
            },
            {
               "name": "stdout",
               "output_type": "stream",
               "text": [
                  "get arr_rev_repo_exp_adj\n"
               ]
            },
            {
               "name": "stderr",
               "output_type": "stream",
               "text": [
                  "12049it [00:05, 2314.84it/s]\n"
               ]
            },
            {
               "name": "stdout",
               "output_type": "stream",
               "text": [
                  "get arr_binary_adj (numba)\n",
                  "get degree distribution\n"
               ]
            },
            {
               "name": "stderr",
               "output_type": "stream",
               "text": [
                  "100%|██████████| 1000/1000 [00:01<00:00, 799.72it/s]\n"
               ]
            },
            {
               "name": "stdout",
               "output_type": "stream",
               "text": [
                  "get jaccard\n"
               ]
            },
            {
               "name": "stderr",
               "output_type": "stream",
               "text": [
                  "100%|██████████| 999/999 [00:00<00:00, 5080.61it/s]\n"
               ]
            },
            {
               "name": "stdout",
               "output_type": "stream",
               "text": [
                  "get density\n"
               ]
            },
            {
               "name": "stderr",
               "output_type": "stream",
               "text": [
                  "100%|██████████| 999/999 [00:00<00:00, 4455.35it/s]\n"
               ]
            },
            {
               "name": "stdout",
               "output_type": "stream",
               "text": [
                  "get degree stats\n"
               ]
            },
            {
               "name": "stderr",
               "output_type": "stream",
               "text": [
                  "100%|██████████| 999/999 [00:00<00:00, 1734.32it/s]\n"
               ]
            },
            {
               "name": "stdout",
               "output_type": "stream",
               "text": [
                  "get exposure stats\n"
               ]
            },
            {
               "name": "stderr",
               "output_type": "stream",
               "text": [
                  "100%|██████████| 1001/1001 [00:00<00:00, 5407.27it/s]"
               ]
            },
            {
               "name": "stdout",
               "output_type": "stream",
               "text": [
                  "run core-periphery tests"
               ]
            },
            {
               "name": "stderr",
               "output_type": "stream",
               "text": [
                  "\n"
               ]
            },
            {
               "name": "stdout",
               "output_type": "stream",
               "text": [
                  "\n"
               ]
            },
            {
               "name": "stderr",
               "output_type": "stream",
               "text": []
            },
            {
               "name": "stdout",
               "output_type": "stream",
               "text": [
                  "core-periphery tests using the Lip approach\n",
                  "test on day 0\n"
               ]
            },
            {
               "name": "stderr",
               "output_type": "stream",
               "text": [
                  "\n",
                  "100%|██████████| 100/100 [00:00<00:00, 2837.57it/s]\n"
               ]
            },
            {
               "name": "stdout",
               "output_type": "stream",
               "text": [
                  "test on day 500\n"
               ]
            },
            {
               "name": "stderr",
               "output_type": "stream",
               "text": [
                  "\n",
                  "100%|██████████| 100/100 [00:00<00:00, 1109.98it/s]\n"
               ]
            },
            {
               "name": "stdout",
               "output_type": "stream",
               "text": [
                  "test on day 1000\n"
               ]
            },
            {
               "name": "stderr",
               "output_type": "stream",
               "text": [
                  "\n",
                  "100%|██████████| 100/100 [00:00<00:00, 1181.09it/s]\n"
               ]
            },
            {
               "name": "stdout",
               "output_type": "stream",
               "text": [
                  "core-periphery tests using the Lip approach\n",
                  "test on day 0\n"
               ]
            },
            {
               "name": "stderr",
               "output_type": "stream",
               "text": [
                  "\n",
                  "100%|██████████| 100/100 [00:00<00:00, 2850.92it/s]\n"
               ]
            },
            {
               "name": "stdout",
               "output_type": "stream",
               "text": [
                  "test on day 500\n"
               ]
            },
            {
               "name": "stderr",
               "output_type": "stream",
               "text": [
                  "\n",
                  "100%|██████████| 100/100 [00:00<00:00, 1162.21it/s]\n"
               ]
            },
            {
               "name": "stdout",
               "output_type": "stream",
               "text": [
                  "test on day 1000\n"
               ]
            },
            {
               "name": "stderr",
               "output_type": "stream",
               "text": [
                  "\n",
                  "100%|██████████| 100/100 [00:00<00:00, 1158.03it/s]\n"
               ]
            },
            {
               "name": "stdout",
               "output_type": "stream",
               "text": [
                  "core-periphery tests using the Lip approach\n",
                  "test on day 0\n"
               ]
            },
            {
               "name": "stderr",
               "output_type": "stream",
               "text": [
                  "\n",
                  "100%|██████████| 100/100 [00:00<00:00, 2916.97it/s]\n"
               ]
            },
            {
               "name": "stdout",
               "output_type": "stream",
               "text": [
                  "test on day 500\n"
               ]
            },
            {
               "name": "stderr",
               "output_type": "stream",
               "text": [
                  "\n",
                  "100%|██████████| 100/100 [00:00<00:00, 1137.44it/s]\n"
               ]
            },
            {
               "name": "stdout",
               "output_type": "stream",
               "text": [
                  "test on day 1000\n"
               ]
            },
            {
               "name": "stderr",
               "output_type": "stream",
               "text": [
                  "\n",
                  "100%|██████████| 100/100 [00:00<00:00, 1140.79it/s]\n"
               ]
            },
            {
               "name": "stdout",
               "output_type": "stream",
               "text": [
                  "core-periphery tests using the Lip approach\n",
                  "test on day 0\n"
               ]
            },
            {
               "name": "stderr",
               "output_type": "stream",
               "text": [
                  "\n",
                  "100%|██████████| 100/100 [00:00<00:00, 2864.92it/s]\n"
               ]
            },
            {
               "name": "stdout",
               "output_type": "stream",
               "text": [
                  "test on day 500\n"
               ]
            },
            {
               "name": "stderr",
               "output_type": "stream",
               "text": [
                  "\n",
                  "100%|██████████| 100/100 [00:00<00:00, 1079.18it/s]\n"
               ]
            },
            {
               "name": "stdout",
               "output_type": "stream",
               "text": [
                  "test on day 1000\n"
               ]
            },
            {
               "name": "stderr",
               "output_type": "stream",
               "text": [
                  "\n",
                  "100%|██████████| 100/100 [00:00<00:00, 1105.27it/s]\n"
               ]
            },
            {
               "name": "stdout",
               "output_type": "stream",
               "text": [
                  "core-periphery tests using the Lip approach\n",
                  "test on day 0\n"
               ]
            },
            {
               "name": "stderr",
               "output_type": "stream",
               "text": [
                  "\n",
                  "100%|██████████| 100/100 [00:00<00:00, 2879.40it/s]\n"
               ]
            },
            {
               "name": "stdout",
               "output_type": "stream",
               "text": [
                  "test on day 500\n"
               ]
            },
            {
               "name": "stderr",
               "output_type": "stream",
               "text": [
                  "\n",
                  "100%|██████████| 100/100 [00:00<00:00, 1199.91it/s]\n"
               ]
            },
            {
               "name": "stdout",
               "output_type": "stream",
               "text": [
                  "test on day 1000\n"
               ]
            },
            {
               "name": "stderr",
               "output_type": "stream",
               "text": [
                  "\n",
                  "100%|██████████| 100/100 [00:00<00:00, 1197.90it/s]\n",
                  "100%|██████████| 5/5 [00:01<00:00,  4.36it/s]\n"
               ]
            },
            {
               "name": "stdout",
               "output_type": "stream",
               "text": [
                  "get transaction stats av. network\n"
               ]
            },
            {
               "name": "stderr",
               "output_type": "stream",
               "text": [
                  "100%|██████████| 1000/1000 [00:02<00:00, 435.81it/s]\n"
               ]
            },
            {
               "name": "stdout",
               "output_type": "stream",
               "text": [
                  "get transaction stats av. bank\n"
               ]
            },
            {
               "name": "stderr",
               "output_type": "stream",
               "text": [
                  "100%|██████████| 1000/1000 [00:01<00:00, 899.48it/s]\n",
                  " 30%|██▉       | 1499/4999 [03:07<05:05, 11.47it/s]  "
               ]
            },
            {
               "name": "stdout",
               "output_type": "stream",
               "text": [
                  "get df_rev_repo_trans\n"
               ]
            },
            {
               "name": "stderr",
               "output_type": "stream",
               "text": [
                  "100%|██████████| 50/50 [00:00<00:00, 870187.55it/s]\n"
               ]
            },
            {
               "name": "stdout",
               "output_type": "stream",
               "text": [
                  "get df_rev_repo_trans\n"
               ]
            },
            {
               "name": "stderr",
               "output_type": "stream",
               "text": [
                  "100%|██████████| 50/50 [00:00<00:00, 1048576.00it/s]\n"
               ]
            },
            {
               "name": "stdout",
               "output_type": "stream",
               "text": [
                  "get arr_rev_repo_exp_adj\n"
               ]
            },
            {
               "name": "stderr",
               "output_type": "stream",
               "text": [
                  "17566it [00:08, 1966.62it/s]\n",
                  " 30%|██▉       | 1499/4999 [03:23<05:05, 11.47it/s]"
               ]
            },
            {
               "name": "stdout",
               "output_type": "stream",
               "text": [
                  "get arr_binary_adj (numba)\n",
                  "get degree distribution\n"
               ]
            },
            {
               "name": "stderr",
               "output_type": "stream",
               "text": [
                  "100%|██████████| 1500/1500 [00:01<00:00, 826.38it/s]\n"
               ]
            },
            {
               "name": "stdout",
               "output_type": "stream",
               "text": [
                  "get jaccard\n"
               ]
            },
            {
               "name": "stderr",
               "output_type": "stream",
               "text": [
                  "100%|██████████| 1499/1499 [00:00<00:00, 5143.67it/s]\n"
               ]
            },
            {
               "name": "stdout",
               "output_type": "stream",
               "text": [
                  "get density\n"
               ]
            },
            {
               "name": "stderr",
               "output_type": "stream",
               "text": [
                  "100%|██████████| 1499/1499 [00:00<00:00, 5024.70it/s]\n"
               ]
            },
            {
               "name": "stdout",
               "output_type": "stream",
               "text": [
                  "get degree stats\n"
               ]
            },
            {
               "name": "stderr",
               "output_type": "stream",
               "text": [
                  "100%|██████████| 1499/1499 [00:00<00:00, 1729.38it/s]\n"
               ]
            },
            {
               "name": "stdout",
               "output_type": "stream",
               "text": [
                  "get exposure stats\n"
               ]
            },
            {
               "name": "stderr",
               "output_type": "stream",
               "text": [
                  "100%|██████████| 1501/1501 [00:00<00:00, 5385.71it/s]\n"
               ]
            },
            {
               "name": "stdout",
               "output_type": "stream",
               "text": [
                  "run core-periphery tests\n"
               ]
            },
            {
               "name": "stderr",
               "output_type": "stream",
               "text": []
            },
            {
               "name": "stdout",
               "output_type": "stream",
               "text": [
                  "core-periphery tests using the Lip approach\n",
                  "test on day 0\n"
               ]
            },
            {
               "name": "stderr",
               "output_type": "stream",
               "text": [
                  "\n",
                  "100%|██████████| 100/100 [00:00<00:00, 2840.57it/s]\n"
               ]
            },
            {
               "name": "stdout",
               "output_type": "stream",
               "text": [
                  "test on day 500\n"
               ]
            },
            {
               "name": "stderr",
               "output_type": "stream",
               "text": [
                  "\n",
                  "100%|██████████| 100/100 [00:00<00:00, 1129.50it/s]\n"
               ]
            },
            {
               "name": "stdout",
               "output_type": "stream",
               "text": [
                  "test on day 1000\n"
               ]
            },
            {
               "name": "stderr",
               "output_type": "stream",
               "text": [
                  "\n",
                  "100%|██████████| 100/100 [00:00<00:00, 1187.36it/s]\n"
               ]
            },
            {
               "name": "stdout",
               "output_type": "stream",
               "text": [
                  "test on day 1500\n"
               ]
            },
            {
               "name": "stderr",
               "output_type": "stream",
               "text": [
                  "\n",
                  "100%|██████████| 100/100 [00:00<00:00, 1195.30it/s]\n"
               ]
            },
            {
               "name": "stdout",
               "output_type": "stream",
               "text": [
                  "core-periphery tests using the Lip approach\n",
                  "test on day 0\n"
               ]
            },
            {
               "name": "stderr",
               "output_type": "stream",
               "text": [
                  "\n",
                  "100%|██████████| 100/100 [00:00<00:00, 2876.00it/s]\n"
               ]
            },
            {
               "name": "stdout",
               "output_type": "stream",
               "text": [
                  "test on day 500\n"
               ]
            },
            {
               "name": "stderr",
               "output_type": "stream",
               "text": [
                  "\n",
                  "100%|██████████| 100/100 [00:00<00:00, 1172.78it/s]\n"
               ]
            },
            {
               "name": "stdout",
               "output_type": "stream",
               "text": [
                  "test on day 1000\n"
               ]
            },
            {
               "name": "stderr",
               "output_type": "stream",
               "text": [
                  "\n",
                  "100%|██████████| 100/100 [00:00<00:00, 1163.31it/s]\n"
               ]
            },
            {
               "name": "stdout",
               "output_type": "stream",
               "text": [
                  "test on day 1500\n"
               ]
            },
            {
               "name": "stderr",
               "output_type": "stream",
               "text": [
                  "\n",
                  "100%|██████████| 100/100 [00:00<00:00, 1193.52it/s]\n"
               ]
            },
            {
               "name": "stdout",
               "output_type": "stream",
               "text": [
                  "core-periphery tests using the Lip approach\n",
                  "test on day 0\n"
               ]
            },
            {
               "name": "stderr",
               "output_type": "stream",
               "text": [
                  "\n",
                  "100%|██████████| 100/100 [00:00<00:00, 2914.78it/s]\n"
               ]
            },
            {
               "name": "stdout",
               "output_type": "stream",
               "text": [
                  "test on day 500\n"
               ]
            },
            {
               "name": "stderr",
               "output_type": "stream",
               "text": [
                  "\n",
                  "100%|██████████| 100/100 [00:00<00:00, 1145.28it/s]\n"
               ]
            },
            {
               "name": "stdout",
               "output_type": "stream",
               "text": [
                  "test on day 1000\n"
               ]
            },
            {
               "name": "stderr",
               "output_type": "stream",
               "text": [
                  "\n",
                  "100%|██████████| 100/100 [00:00<00:00, 1156.49it/s]\n"
               ]
            },
            {
               "name": "stdout",
               "output_type": "stream",
               "text": [
                  "test on day 1500\n"
               ]
            },
            {
               "name": "stderr",
               "output_type": "stream",
               "text": [
                  "\n",
                  "100%|██████████| 100/100 [00:00<00:00, 1188.66it/s]\n"
               ]
            },
            {
               "name": "stdout",
               "output_type": "stream",
               "text": [
                  "core-periphery tests using the Lip approach\n",
                  "test on day 0\n"
               ]
            },
            {
               "name": "stderr",
               "output_type": "stream",
               "text": [
                  "\n",
                  "100%|██████████| 100/100 [00:00<00:00, 2939.78it/s]\n"
               ]
            },
            {
               "name": "stdout",
               "output_type": "stream",
               "text": [
                  "test on day 500\n"
               ]
            },
            {
               "name": "stderr",
               "output_type": "stream",
               "text": [
                  "\n",
                  "100%|██████████| 100/100 [00:00<00:00, 1093.24it/s]\n"
               ]
            },
            {
               "name": "stdout",
               "output_type": "stream",
               "text": [
                  "test on day 1000\n"
               ]
            },
            {
               "name": "stderr",
               "output_type": "stream",
               "text": [
                  "\n",
                  "100%|██████████| 100/100 [00:00<00:00, 1116.03it/s]\n"
               ]
            },
            {
               "name": "stdout",
               "output_type": "stream",
               "text": [
                  "test on day 1500\n"
               ]
            },
            {
               "name": "stderr",
               "output_type": "stream",
               "text": [
                  "\n",
                  "100%|██████████| 100/100 [00:00<00:00, 1127.69it/s]\n"
               ]
            },
            {
               "name": "stdout",
               "output_type": "stream",
               "text": [
                  "core-periphery tests using the Lip approach\n",
                  "test on day 0\n"
               ]
            },
            {
               "name": "stderr",
               "output_type": "stream",
               "text": [
                  "\n",
                  "100%|██████████| 100/100 [00:00<00:00, 2920.74it/s]\n"
               ]
            },
            {
               "name": "stdout",
               "output_type": "stream",
               "text": [
                  "test on day 500\n"
               ]
            },
            {
               "name": "stderr",
               "output_type": "stream",
               "text": [
                  "\n",
                  "100%|██████████| 100/100 [00:00<00:00, 1214.43it/s]\n"
               ]
            },
            {
               "name": "stdout",
               "output_type": "stream",
               "text": [
                  "test on day 1000\n"
               ]
            },
            {
               "name": "stderr",
               "output_type": "stream",
               "text": [
                  "\n",
                  "100%|██████████| 100/100 [00:00<00:00, 1194.53it/s]\n"
               ]
            },
            {
               "name": "stdout",
               "output_type": "stream",
               "text": [
                  "test on day 1500\n"
               ]
            },
            {
               "name": "stderr",
               "output_type": "stream",
               "text": [
                  "\n",
                  "100%|██████████| 100/100 [00:00<00:00, 1201.09it/s]\n",
                  "100%|██████████| 5/5 [00:01<00:00,  3.16it/s]\n"
               ]
            },
            {
               "name": "stdout",
               "output_type": "stream",
               "text": [
                  "get transaction stats av. network\n"
               ]
            },
            {
               "name": "stderr",
               "output_type": "stream",
               "text": [
                  "100%|██████████| 1500/1500 [00:04<00:00, 365.17it/s]\n"
               ]
            },
            {
               "name": "stdout",
               "output_type": "stream",
               "text": [
                  "get transaction stats av. bank\n"
               ]
            },
            {
               "name": "stderr",
               "output_type": "stream",
               "text": [
                  "100%|██████████| 1500/1500 [00:01<00:00, 911.95it/s]\n",
                  " 40%|███▉      | 1999/4999 [04:39<04:35, 10.91it/s]  "
               ]
            },
            {
               "name": "stdout",
               "output_type": "stream",
               "text": [
                  "get df_rev_repo_trans\n"
               ]
            },
            {
               "name": "stderr",
               "output_type": "stream",
               "text": [
                  "100%|██████████| 50/50 [00:00<00:00, 685343.79it/s]\n"
               ]
            },
            {
               "name": "stdout",
               "output_type": "stream",
               "text": [
                  "get df_rev_repo_trans\n"
               ]
            },
            {
               "name": "stderr",
               "output_type": "stream",
               "text": [
                  "100%|██████████| 50/50 [00:00<00:00, 835518.73it/s]\n"
               ]
            },
            {
               "name": "stdout",
               "output_type": "stream",
               "text": [
                  "get arr_rev_repo_exp_adj\n"
               ]
            },
            {
               "name": "stderr",
               "output_type": "stream",
               "text": [
                  "22898it [00:12, 1761.50it/s]\n",
                  " 40%|███▉      | 1999/4999 [05:02<04:35, 10.91it/s]"
               ]
            },
            {
               "name": "stdout",
               "output_type": "stream",
               "text": [
                  "get arr_binary_adj (numba)\n",
                  "get degree distribution\n"
               ]
            },
            {
               "name": "stderr",
               "output_type": "stream",
               "text": [
                  "100%|██████████| 2000/2000 [00:02<00:00, 823.55it/s]\n"
               ]
            },
            {
               "name": "stdout",
               "output_type": "stream",
               "text": [
                  "get jaccard\n"
               ]
            },
            {
               "name": "stderr",
               "output_type": "stream",
               "text": [
                  "100%|██████████| 1999/1999 [00:00<00:00, 5065.89it/s]\n"
               ]
            },
            {
               "name": "stdout",
               "output_type": "stream",
               "text": [
                  "get density\n"
               ]
            },
            {
               "name": "stderr",
               "output_type": "stream",
               "text": [
                  "100%|██████████| 1999/1999 [00:00<00:00, 5067.48it/s]\n"
               ]
            },
            {
               "name": "stdout",
               "output_type": "stream",
               "text": [
                  "get degree stats\n"
               ]
            },
            {
               "name": "stderr",
               "output_type": "stream",
               "text": [
                  "100%|██████████| 1999/1999 [00:01<00:00, 1735.07it/s]\n"
               ]
            },
            {
               "name": "stdout",
               "output_type": "stream",
               "text": [
                  "get exposure stats\n"
               ]
            },
            {
               "name": "stderr",
               "output_type": "stream",
               "text": [
                  "100%|██████████| 2001/2001 [00:00<00:00, 5461.07it/s]\n"
               ]
            },
            {
               "name": "stdout",
               "output_type": "stream",
               "text": [
                  "run core-periphery tests\n"
               ]
            },
            {
               "name": "stderr",
               "output_type": "stream",
               "text": []
            },
            {
               "name": "stdout",
               "output_type": "stream",
               "text": [
                  "core-periphery tests using the Lip approach\n",
                  "test on day 0\n"
               ]
            },
            {
               "name": "stderr",
               "output_type": "stream",
               "text": [
                  "\n",
                  "100%|██████████| 100/100 [00:00<00:00, 2818.81it/s]\n"
               ]
            },
            {
               "name": "stdout",
               "output_type": "stream",
               "text": [
                  "test on day 500\n"
               ]
            },
            {
               "name": "stderr",
               "output_type": "stream",
               "text": [
                  "\n",
                  "100%|██████████| 100/100 [00:00<00:00, 1119.45it/s]\n"
               ]
            },
            {
               "name": "stdout",
               "output_type": "stream",
               "text": [
                  "test on day 1000\n"
               ]
            },
            {
               "name": "stderr",
               "output_type": "stream",
               "text": [
                  "\n",
                  "100%|██████████| 100/100 [00:00<00:00, 1205.81it/s]\n"
               ]
            },
            {
               "name": "stdout",
               "output_type": "stream",
               "text": [
                  "test on day 1500\n"
               ]
            },
            {
               "name": "stderr",
               "output_type": "stream",
               "text": [
                  "\n",
                  "100%|██████████| 100/100 [00:00<00:00, 1205.28it/s]\n"
               ]
            },
            {
               "name": "stdout",
               "output_type": "stream",
               "text": [
                  "test on day 2000\n"
               ]
            },
            {
               "name": "stderr",
               "output_type": "stream",
               "text": [
                  "\n",
                  "100%|██████████| 100/100 [00:00<00:00, 1174.37it/s]\n"
               ]
            },
            {
               "name": "stdout",
               "output_type": "stream",
               "text": [
                  "core-periphery tests using the Lip approach\n",
                  "test on day 0\n"
               ]
            },
            {
               "name": "stderr",
               "output_type": "stream",
               "text": [
                  "\n",
                  "100%|██████████| 100/100 [00:00<00:00, 2866.25it/s]\n"
               ]
            },
            {
               "name": "stdout",
               "output_type": "stream",
               "text": [
                  "test on day 500\n"
               ]
            },
            {
               "name": "stderr",
               "output_type": "stream",
               "text": [
                  "\n",
                  "100%|██████████| 100/100 [00:00<00:00, 1173.75it/s]\n"
               ]
            },
            {
               "name": "stdout",
               "output_type": "stream",
               "text": [
                  "test on day 1000\n"
               ]
            },
            {
               "name": "stderr",
               "output_type": "stream",
               "text": [
                  "\n",
                  "100%|██████████| 100/100 [00:00<00:00, 1167.97it/s]\n"
               ]
            },
            {
               "name": "stdout",
               "output_type": "stream",
               "text": [
                  "test on day 1500\n"
               ]
            },
            {
               "name": "stderr",
               "output_type": "stream",
               "text": [
                  "\n",
                  "100%|██████████| 100/100 [00:00<00:00, 1197.25it/s]\n"
               ]
            },
            {
               "name": "stdout",
               "output_type": "stream",
               "text": [
                  "test on day 2000\n"
               ]
            },
            {
               "name": "stderr",
               "output_type": "stream",
               "text": [
                  "\n",
                  "100%|██████████| 100/100 [00:00<00:00, 1163.05it/s]\n"
               ]
            },
            {
               "name": "stdout",
               "output_type": "stream",
               "text": [
                  "core-periphery tests using the Lip approach\n",
                  "test on day 0\n"
               ]
            },
            {
               "name": "stderr",
               "output_type": "stream",
               "text": [
                  "\n",
                  "100%|██████████| 100/100 [00:00<00:00, 2876.06it/s]\n"
               ]
            },
            {
               "name": "stdout",
               "output_type": "stream",
               "text": [
                  "test on day 500\n"
               ]
            },
            {
               "name": "stderr",
               "output_type": "stream",
               "text": [
                  "\n",
                  "100%|██████████| 100/100 [00:00<00:00, 1143.11it/s]\n"
               ]
            },
            {
               "name": "stdout",
               "output_type": "stream",
               "text": [
                  "test on day 1000\n"
               ]
            },
            {
               "name": "stderr",
               "output_type": "stream",
               "text": [
                  "\n",
                  "100%|██████████| 100/100 [00:00<00:00, 1152.48it/s]\n"
               ]
            },
            {
               "name": "stdout",
               "output_type": "stream",
               "text": [
                  "test on day 1500\n"
               ]
            },
            {
               "name": "stderr",
               "output_type": "stream",
               "text": [
                  "\n",
                  "100%|██████████| 100/100 [00:00<00:00, 1180.53it/s]\n"
               ]
            },
            {
               "name": "stdout",
               "output_type": "stream",
               "text": [
                  "test on day 2000\n"
               ]
            },
            {
               "name": "stderr",
               "output_type": "stream",
               "text": [
                  "\n",
                  "100%|██████████| 100/100 [00:00<00:00, 1144.85it/s]\n"
               ]
            },
            {
               "name": "stdout",
               "output_type": "stream",
               "text": [
                  "core-periphery tests using the Lip approach\n",
                  "test on day 0\n"
               ]
            },
            {
               "name": "stderr",
               "output_type": "stream",
               "text": [
                  "\n",
                  "100%|██████████| 100/100 [00:00<00:00, 2888.80it/s]\n"
               ]
            },
            {
               "name": "stdout",
               "output_type": "stream",
               "text": [
                  "test on day 500\n"
               ]
            },
            {
               "name": "stderr",
               "output_type": "stream",
               "text": [
                  "\n",
                  "100%|██████████| 100/100 [00:00<00:00, 1090.15it/s]\n"
               ]
            },
            {
               "name": "stdout",
               "output_type": "stream",
               "text": [
                  "test on day 1000\n"
               ]
            },
            {
               "name": "stderr",
               "output_type": "stream",
               "text": [
                  "\n",
                  "100%|██████████| 100/100 [00:00<00:00, 1121.04it/s]\n"
               ]
            },
            {
               "name": "stdout",
               "output_type": "stream",
               "text": [
                  "test on day 1500\n"
               ]
            },
            {
               "name": "stderr",
               "output_type": "stream",
               "text": [
                  "\n",
                  "100%|██████████| 100/100 [00:00<00:00, 1134.71it/s]\n"
               ]
            },
            {
               "name": "stdout",
               "output_type": "stream",
               "text": [
                  "test on day 2000\n"
               ]
            },
            {
               "name": "stderr",
               "output_type": "stream",
               "text": [
                  "\n",
                  "100%|██████████| 100/100 [00:00<00:00, 1128.67it/s]\n"
               ]
            },
            {
               "name": "stdout",
               "output_type": "stream",
               "text": [
                  "core-periphery tests using the Lip approach\n",
                  "test on day 0\n"
               ]
            },
            {
               "name": "stderr",
               "output_type": "stream",
               "text": [
                  "\n",
                  "100%|██████████| 100/100 [00:00<00:00, 2867.45it/s]\n"
               ]
            },
            {
               "name": "stdout",
               "output_type": "stream",
               "text": [
                  "test on day 500\n"
               ]
            },
            {
               "name": "stderr",
               "output_type": "stream",
               "text": [
                  "\n",
                  "100%|██████████| 100/100 [00:00<00:00, 1203.66it/s]\n"
               ]
            },
            {
               "name": "stdout",
               "output_type": "stream",
               "text": [
                  "test on day 1000\n"
               ]
            },
            {
               "name": "stderr",
               "output_type": "stream",
               "text": [
                  "\n",
                  "100%|██████████| 100/100 [00:00<00:00, 1198.68it/s]\n"
               ]
            },
            {
               "name": "stdout",
               "output_type": "stream",
               "text": [
                  "test on day 1500\n"
               ]
            },
            {
               "name": "stderr",
               "output_type": "stream",
               "text": [
                  "\n",
                  "100%|██████████| 100/100 [00:00<00:00, 1203.95it/s]\n"
               ]
            },
            {
               "name": "stdout",
               "output_type": "stream",
               "text": [
                  "test on day 2000\n"
               ]
            },
            {
               "name": "stderr",
               "output_type": "stream",
               "text": [
                  "\n",
                  "100%|██████████| 100/100 [00:00<00:00, 1186.41it/s]\n",
                  "100%|██████████| 5/5 [00:02<00:00,  2.45it/s]\n"
               ]
            },
            {
               "name": "stdout",
               "output_type": "stream",
               "text": [
                  "get transaction stats av. network\n"
               ]
            },
            {
               "name": "stderr",
               "output_type": "stream",
               "text": [
                  "100%|██████████| 2000/2000 [00:06<00:00, 316.80it/s]\n"
               ]
            },
            {
               "name": "stdout",
               "output_type": "stream",
               "text": [
                  "get transaction stats av. bank\n"
               ]
            },
            {
               "name": "stderr",
               "output_type": "stream",
               "text": [
                  "100%|██████████| 2000/2000 [00:02<00:00, 880.05it/s]\n",
                  " 50%|████▉     | 2499/4999 [06:28<03:46, 11.05it/s]  "
               ]
            },
            {
               "name": "stdout",
               "output_type": "stream",
               "text": [
                  "get df_rev_repo_trans\n"
               ]
            },
            {
               "name": "stderr",
               "output_type": "stream",
               "text": [
                  "100%|██████████| 50/50 [00:00<00:00, 680893.51it/s]\n"
               ]
            },
            {
               "name": "stdout",
               "output_type": "stream",
               "text": [
                  "get df_rev_repo_trans\n"
               ]
            },
            {
               "name": "stderr",
               "output_type": "stream",
               "text": [
                  "100%|██████████| 50/50 [00:00<00:00, 852500.81it/s]\n"
               ]
            },
            {
               "name": "stdout",
               "output_type": "stream",
               "text": [
                  "get arr_rev_repo_exp_adj\n"
               ]
            },
            {
               "name": "stderr",
               "output_type": "stream",
               "text": [
                  "27995it [00:17, 1627.94it/s]06:42<03:46, 11.05it/s]\n"
               ]
            },
            {
               "name": "stdout",
               "output_type": "stream",
               "text": [
                  "get arr_binary_adj (numba)\n",
                  "get degree distribution\n"
               ]
            },
            {
               "name": "stderr",
               "output_type": "stream",
               "text": [
                  "100%|██████████| 2500/2500 [00:03<00:00, 823.39it/s]\n"
               ]
            },
            {
               "name": "stdout",
               "output_type": "stream",
               "text": [
                  "get jaccard\n"
               ]
            },
            {
               "name": "stderr",
               "output_type": "stream",
               "text": [
                  "100%|██████████| 2499/2499 [00:00<00:00, 4991.01it/s]\n"
               ]
            },
            {
               "name": "stdout",
               "output_type": "stream",
               "text": [
                  "get density\n"
               ]
            },
            {
               "name": "stderr",
               "output_type": "stream",
               "text": [
                  "100%|██████████| 2499/2499 [00:00<00:00, 5087.44it/s]\n"
               ]
            },
            {
               "name": "stdout",
               "output_type": "stream",
               "text": [
                  "get degree stats\n"
               ]
            },
            {
               "name": "stderr",
               "output_type": "stream",
               "text": [
                  "100%|██████████| 2499/2499 [00:01<00:00, 1730.69it/s]\n"
               ]
            },
            {
               "name": "stdout",
               "output_type": "stream",
               "text": [
                  "get exposure stats\n"
               ]
            },
            {
               "name": "stderr",
               "output_type": "stream",
               "text": [
                  "100%|██████████| 2501/2501 [00:00<00:00, 5367.46it/s]\n"
               ]
            },
            {
               "name": "stdout",
               "output_type": "stream",
               "text": [
                  "run core-periphery tests\n"
               ]
            },
            {
               "name": "stderr",
               "output_type": "stream",
               "text": []
            },
            {
               "name": "stdout",
               "output_type": "stream",
               "text": [
                  "core-periphery tests using the Lip approach\n",
                  "test on day 0\n"
               ]
            },
            {
               "name": "stderr",
               "output_type": "stream",
               "text": [
                  "\n",
                  "100%|██████████| 100/100 [00:00<00:00, 2770.22it/s]\n"
               ]
            },
            {
               "name": "stdout",
               "output_type": "stream",
               "text": [
                  "test on day 500\n"
               ]
            },
            {
               "name": "stderr",
               "output_type": "stream",
               "text": [
                  "\n",
                  "100%|██████████| 100/100 [00:00<00:00, 1122.37it/s]\n"
               ]
            },
            {
               "name": "stdout",
               "output_type": "stream",
               "text": [
                  "test on day 1000\n"
               ]
            },
            {
               "name": "stderr",
               "output_type": "stream",
               "text": [
                  "\n",
                  "100%|██████████| 100/100 [00:00<00:00, 1191.18it/s]\n"
               ]
            },
            {
               "name": "stdout",
               "output_type": "stream",
               "text": [
                  "test on day 1500\n"
               ]
            },
            {
               "name": "stderr",
               "output_type": "stream",
               "text": [
                  "\n",
                  "100%|██████████| 100/100 [00:00<00:00, 1191.84it/s]\n"
               ]
            },
            {
               "name": "stdout",
               "output_type": "stream",
               "text": [
                  "test on day 2000\n"
               ]
            },
            {
               "name": "stderr",
               "output_type": "stream",
               "text": [
                  "\n",
                  "100%|██████████| 100/100 [00:00<00:00, 1171.58it/s]\n"
               ]
            },
            {
               "name": "stdout",
               "output_type": "stream",
               "text": [
                  "test on day 2500\n"
               ]
            },
            {
               "name": "stderr",
               "output_type": "stream",
               "text": [
                  "\n",
                  "100%|██████████| 100/100 [00:00<00:00, 1211.53it/s]\n"
               ]
            },
            {
               "name": "stdout",
               "output_type": "stream",
               "text": [
                  "core-periphery tests using the Lip approach\n",
                  "test on day 0\n"
               ]
            },
            {
               "name": "stderr",
               "output_type": "stream",
               "text": [
                  "\n",
                  "100%|██████████| 100/100 [00:00<00:00, 2913.66it/s]\n"
               ]
            },
            {
               "name": "stdout",
               "output_type": "stream",
               "text": [
                  "test on day 500\n"
               ]
            },
            {
               "name": "stderr",
               "output_type": "stream",
               "text": [
                  "\n",
                  "100%|██████████| 100/100 [00:00<00:00, 1166.49it/s]\n"
               ]
            },
            {
               "name": "stdout",
               "output_type": "stream",
               "text": [
                  "test on day 1000\n"
               ]
            },
            {
               "name": "stderr",
               "output_type": "stream",
               "text": [
                  "\n",
                  "100%|██████████| 100/100 [00:00<00:00, 1167.86it/s]\n"
               ]
            },
            {
               "name": "stdout",
               "output_type": "stream",
               "text": [
                  "test on day 1500\n"
               ]
            },
            {
               "name": "stderr",
               "output_type": "stream",
               "text": [
                  "\n",
                  "100%|██████████| 100/100 [00:00<00:00, 1189.61it/s]\n"
               ]
            },
            {
               "name": "stdout",
               "output_type": "stream",
               "text": [
                  "test on day 2000\n"
               ]
            },
            {
               "name": "stderr",
               "output_type": "stream",
               "text": [
                  "\n",
                  "100%|██████████| 100/100 [00:00<00:00, 1153.27it/s]\n"
               ]
            },
            {
               "name": "stdout",
               "output_type": "stream",
               "text": [
                  "test on day 2500\n"
               ]
            },
            {
               "name": "stderr",
               "output_type": "stream",
               "text": [
                  "\n",
                  "100%|██████████| 100/100 [00:00<00:00, 1197.44it/s]\n"
               ]
            },
            {
               "name": "stdout",
               "output_type": "stream",
               "text": [
                  "core-periphery tests using the Lip approach\n",
                  "test on day 0\n"
               ]
            },
            {
               "name": "stderr",
               "output_type": "stream",
               "text": [
                  "\n",
                  "100%|██████████| 100/100 [00:00<00:00, 2916.09it/s]\n"
               ]
            },
            {
               "name": "stdout",
               "output_type": "stream",
               "text": [
                  "test on day 500\n"
               ]
            },
            {
               "name": "stderr",
               "output_type": "stream",
               "text": [
                  "\n",
                  "100%|██████████| 100/100 [00:00<00:00, 1149.70it/s]\n"
               ]
            },
            {
               "name": "stdout",
               "output_type": "stream",
               "text": [
                  "test on day 1000\n"
               ]
            },
            {
               "name": "stderr",
               "output_type": "stream",
               "text": [
                  "\n",
                  "100%|██████████| 100/100 [00:00<00:00, 1158.43it/s]\n"
               ]
            },
            {
               "name": "stdout",
               "output_type": "stream",
               "text": [
                  "test on day 1500\n"
               ]
            },
            {
               "name": "stderr",
               "output_type": "stream",
               "text": [
                  "\n",
                  "100%|██████████| 100/100 [00:00<00:00, 1180.37it/s]\n"
               ]
            },
            {
               "name": "stdout",
               "output_type": "stream",
               "text": [
                  "test on day 2000\n"
               ]
            },
            {
               "name": "stderr",
               "output_type": "stream",
               "text": [
                  "\n",
                  "100%|██████████| 100/100 [00:00<00:00, 1156.03it/s]\n"
               ]
            },
            {
               "name": "stdout",
               "output_type": "stream",
               "text": [
                  "test on day 2500\n"
               ]
            },
            {
               "name": "stderr",
               "output_type": "stream",
               "text": [
                  "\n",
                  "100%|██████████| 100/100 [00:00<00:00, 1167.74it/s]\n"
               ]
            },
            {
               "name": "stdout",
               "output_type": "stream",
               "text": [
                  "core-periphery tests using the Lip approach\n",
                  "test on day 0\n"
               ]
            },
            {
               "name": "stderr",
               "output_type": "stream",
               "text": [
                  "\n",
                  "100%|██████████| 100/100 [00:00<00:00, 2899.68it/s]\n"
               ]
            },
            {
               "name": "stdout",
               "output_type": "stream",
               "text": [
                  "test on day 500\n"
               ]
            },
            {
               "name": "stderr",
               "output_type": "stream",
               "text": [
                  "\n",
                  "100%|██████████| 100/100 [00:00<00:00, 1083.09it/s]\n"
               ]
            },
            {
               "name": "stdout",
               "output_type": "stream",
               "text": [
                  "test on day 1000\n"
               ]
            },
            {
               "name": "stderr",
               "output_type": "stream",
               "text": [
                  "\n",
                  "100%|██████████| 100/100 [00:00<00:00, 1116.89it/s]\n"
               ]
            },
            {
               "name": "stdout",
               "output_type": "stream",
               "text": [
                  "test on day 1500\n"
               ]
            },
            {
               "name": "stderr",
               "output_type": "stream",
               "text": [
                  "\n",
                  "100%|██████████| 100/100 [00:00<00:00, 1133.06it/s]\n"
               ]
            },
            {
               "name": "stdout",
               "output_type": "stream",
               "text": [
                  "test on day 2000\n"
               ]
            },
            {
               "name": "stderr",
               "output_type": "stream",
               "text": [
                  "\n",
                  "100%|██████████| 100/100 [00:00<00:00, 1127.23it/s]\n"
               ]
            },
            {
               "name": "stdout",
               "output_type": "stream",
               "text": [
                  "test on day 2500\n"
               ]
            },
            {
               "name": "stderr",
               "output_type": "stream",
               "text": [
                  "\n",
                  "100%|██████████| 100/100 [00:00<00:00, 1162.72it/s]\n"
               ]
            },
            {
               "name": "stdout",
               "output_type": "stream",
               "text": [
                  "core-periphery tests using the Lip approach\n",
                  "test on day 0\n"
               ]
            },
            {
               "name": "stderr",
               "output_type": "stream",
               "text": [
                  "\n",
                  "100%|██████████| 100/100 [00:00<00:00, 2897.26it/s]\n"
               ]
            },
            {
               "name": "stdout",
               "output_type": "stream",
               "text": [
                  "test on day 500\n"
               ]
            },
            {
               "name": "stderr",
               "output_type": "stream",
               "text": [
                  "\n",
                  "100%|██████████| 100/100 [00:00<00:00, 1197.88it/s]\n"
               ]
            },
            {
               "name": "stdout",
               "output_type": "stream",
               "text": [
                  "test on day 1000\n"
               ]
            },
            {
               "name": "stderr",
               "output_type": "stream",
               "text": [
                  "\n",
                  "100%|██████████| 100/100 [00:00<00:00, 1190.12it/s]\n"
               ]
            },
            {
               "name": "stdout",
               "output_type": "stream",
               "text": [
                  "test on day 1500\n"
               ]
            },
            {
               "name": "stderr",
               "output_type": "stream",
               "text": [
                  "\n",
                  "100%|██████████| 100/100 [00:00<00:00, 1203.55it/s]\n"
               ]
            },
            {
               "name": "stdout",
               "output_type": "stream",
               "text": [
                  "test on day 2000\n"
               ]
            },
            {
               "name": "stderr",
               "output_type": "stream",
               "text": [
                  "\n",
                  "100%|██████████| 100/100 [00:00<00:00, 1179.77it/s]\n"
               ]
            },
            {
               "name": "stdout",
               "output_type": "stream",
               "text": [
                  "test on day 2500\n"
               ]
            },
            {
               "name": "stderr",
               "output_type": "stream",
               "text": [
                  "\n",
                  "100%|██████████| 100/100 [00:00<00:00, 1221.55it/s]\n",
                  "100%|██████████| 5/5 [00:02<00:00,  1.98it/s]\n"
               ]
            },
            {
               "name": "stdout",
               "output_type": "stream",
               "text": [
                  "get transaction stats av. network\n"
               ]
            },
            {
               "name": "stderr",
               "output_type": "stream",
               "text": [
                  "100%|██████████| 2500/2500 [00:09<00:00, 275.32it/s]\n"
               ]
            },
            {
               "name": "stdout",
               "output_type": "stream",
               "text": [
                  "get transaction stats av. bank\n"
               ]
            },
            {
               "name": "stderr",
               "output_type": "stream",
               "text": [
                  "100%|██████████| 2500/2500 [00:02<00:00, 840.14it/s]\n",
                  " 55%|█████▌    | 2765/4999 [08:10<06:36,  5.63it/s]  \n",
                  "/mnt/live/user/vlecoz/Secured_interbank_network/network.py:484: SyntaxWarning: assertion is always true, perhaps remove parentheses?\n",
                  "  assert (\n",
                  "/mnt/live/user/vlecoz/Secured_interbank_network/network.py:484: SyntaxWarning: assertion is always true, perhaps remove parentheses?\n",
                  "  assert (\n"
               ]
            },
            {
               "ename": "KeyboardInterrupt",
               "evalue": "",
               "output_type": "error",
               "traceback": [
                  "\u001b[0;31m---------------------------------------------------------------------------\u001b[0m",
                  "\u001b[0;31mKeyboardInterrupt\u001b[0m                         Traceback (most recent call last)",
                  "Input \u001b[0;32mIn [2]\u001b[0m, in \u001b[0;36m<cell line: 95>\u001b[0;34m()\u001b[0m\n\u001b[1;32m     84\u001b[0m Dynamics \u001b[38;5;241m=\u001b[39m ClassDynamics(\n\u001b[1;32m     85\u001b[0m     Network,\n\u001b[1;32m     86\u001b[0m     nb_steps\u001b[38;5;241m=\u001b[39mnb_steps,\n\u001b[0;32m   (...)\u001b[0m\n\u001b[1;32m     91\u001b[0m     heavy_plot\u001b[38;5;241m=\u001b[39mheavy_plot,\n\u001b[1;32m     92\u001b[0m )\n\u001b[1;32m     94\u001b[0m \u001b[38;5;66;03m# simulate\u001b[39;00m\n\u001b[0;32m---> 95\u001b[0m \u001b[43mDynamics\u001b[49m\u001b[38;5;241;43m.\u001b[39;49m\u001b[43msimulate\u001b[49m\u001b[43m(\u001b[49m\u001b[43m)\u001b[49m\n",
                  "File \u001b[0;32m/mnt/live/user/vlecoz/Secured_interbank_network/dynamics.py:445\u001b[0m, in \u001b[0;36mClassDynamics.simulate\u001b[0;34m(self)\u001b[0m\n\u001b[1;32m    441\u001b[0m \u001b[38;5;66;03m# simulate the network\u001b[39;00m\n\u001b[1;32m    442\u001b[0m \u001b[38;5;28;01mfor\u001b[39;00m _ \u001b[38;5;129;01min\u001b[39;00m tqdm(\u001b[38;5;28mrange\u001b[39m(\u001b[38;5;28mself\u001b[39m\u001b[38;5;241m.\u001b[39mnb_steps \u001b[38;5;241m-\u001b[39m \u001b[38;5;241m1\u001b[39m)):\n\u001b[1;32m    443\u001b[0m \n\u001b[1;32m    444\u001b[0m     \u001b[38;5;66;03m# run one step of the network\u001b[39;00m\n\u001b[0;32m--> 445\u001b[0m     \u001b[38;5;28;43mself\u001b[39;49m\u001b[38;5;241;43m.\u001b[39;49m\u001b[43mNetwork\u001b[49m\u001b[38;5;241;43m.\u001b[39;49m\u001b[43mstep_network\u001b[49m\u001b[43m(\u001b[49m\u001b[43m)\u001b[49m\n\u001b[1;32m    447\u001b[0m     \u001b[38;5;66;03m# debug check memory\u001b[39;00m\n\u001b[1;32m    448\u001b[0m     fct\u001b[38;5;241m.\u001b[39mcheck_memory()\n",
                  "File \u001b[0;32m/mnt/live/user/vlecoz/Secured_interbank_network/network.py:230\u001b[0m, in \u001b[0;36mClassNetwork.step_network\u001b[0;34m(self)\u001b[0m\n\u001b[1;32m    224\u001b[0m         \u001b[38;5;28mself\u001b[39m\u001b[38;5;241m.\u001b[39mbanks[bank_id]\u001b[38;5;241m.\u001b[39mstep_enter_central_bank_funding()\n\u001b[1;32m    226\u001b[0m \u001b[38;5;66;03m# test with the loop 2 here \u001b[39;00m\n\u001b[1;32m    227\u001b[0m \n\u001b[1;32m    228\u001b[0m \n\u001b[1;32m    229\u001b[0m \u001b[38;5;66;03m# # loop 4: fill df_banks and dic matrices\u001b[39;00m\n\u001b[0;32m--> 230\u001b[0m \u001b[38;5;28;43mself\u001b[39;49m\u001b[38;5;241;43m.\u001b[39;49m\u001b[43mfill_step_df_banks\u001b[49m\u001b[43m(\u001b[49m\u001b[43m)\u001b[49m\n\u001b[1;32m    232\u001b[0m \u001b[38;5;66;03m# assert constraints (matricial)\u001b[39;00m\n\u001b[1;32m    233\u001b[0m \u001b[38;5;28mself\u001b[39m\u001b[38;5;241m.\u001b[39mcheck_constraints()\n",
                  "File \u001b[0;32m/mnt/live/user/vlecoz/Secured_interbank_network/network.py:427\u001b[0m, in \u001b[0;36mClassNetwork.fill_step_df_banks\u001b[0;34m(self)\u001b[0m\n\u001b[1;32m    425\u001b[0m \u001b[38;5;28;01mfor\u001b[39;00m bank_id, Bank \u001b[38;5;129;01min\u001b[39;00m \u001b[38;5;28menumerate\u001b[39m(\u001b[38;5;28mself\u001b[39m\u001b[38;5;241m.\u001b[39mbanks):\n\u001b[1;32m    426\u001b[0m     \u001b[38;5;28;01mfor\u001b[39;00m key \u001b[38;5;129;01min\u001b[39;00m par\u001b[38;5;241m.\u001b[39maccounting_items:\n\u001b[0;32m--> 427\u001b[0m         \u001b[38;5;28;43mself\u001b[39;49m\u001b[38;5;241;43m.\u001b[39;49m\u001b[43mdf_banks\u001b[49m\u001b[38;5;241;43m.\u001b[39;49m\u001b[43mloc\u001b[49m\u001b[43m[\u001b[49m\u001b[43mbank_id\u001b[49m\u001b[43m,\u001b[49m\u001b[43m \u001b[49m\u001b[43mkey\u001b[49m\u001b[43m]\u001b[49m \u001b[38;5;241m=\u001b[39m Bank\u001b[38;5;241m.\u001b[39mdic_balance_sheet[key]\n\u001b[1;32m    429\u001b[0m \u001b[38;5;66;03m# matricial computation of constraints\u001b[39;00m\n\u001b[1;32m    430\u001b[0m \u001b[38;5;28mself\u001b[39m\u001b[38;5;241m.\u001b[39mdf_banks[\u001b[38;5;124m\"\u001b[39m\u001b[38;5;124mtotal assets\u001b[39m\u001b[38;5;124m\"\u001b[39m] \u001b[38;5;241m=\u001b[39m \u001b[38;5;28mself\u001b[39m\u001b[38;5;241m.\u001b[39mdf_banks[par\u001b[38;5;241m.\u001b[39massets]\u001b[38;5;241m.\u001b[39msum(axis\u001b[38;5;241m=\u001b[39m\u001b[38;5;241m1\u001b[39m)\n",
                  "File \u001b[0;32m/mnt/live/user/vlecoz/conda_env/money_markets/lib/python3.8/site-packages/pandas/core/indexing.py:811\u001b[0m, in \u001b[0;36m_LocationIndexer.__setitem__\u001b[0;34m(self, key, value)\u001b[0m\n\u001b[1;32m    809\u001b[0m \u001b[38;5;28;01mif\u001b[39;00m \u001b[38;5;28misinstance\u001b[39m(key, \u001b[38;5;28mtuple\u001b[39m):\n\u001b[1;32m    810\u001b[0m     key \u001b[38;5;241m=\u001b[39m \u001b[38;5;28mtuple\u001b[39m(\u001b[38;5;28mlist\u001b[39m(x) \u001b[38;5;28;01mif\u001b[39;00m is_iterator(x) \u001b[38;5;28;01melse\u001b[39;00m x \u001b[38;5;28;01mfor\u001b[39;00m x \u001b[38;5;129;01min\u001b[39;00m key)\n\u001b[0;32m--> 811\u001b[0m     key \u001b[38;5;241m=\u001b[39m \u001b[38;5;28;43mtuple\u001b[39;49m\u001b[43m(\u001b[49m\u001b[43mcom\u001b[49m\u001b[38;5;241;43m.\u001b[39;49m\u001b[43mapply_if_callable\u001b[49m\u001b[43m(\u001b[49m\u001b[43mx\u001b[49m\u001b[43m,\u001b[49m\u001b[43m \u001b[49m\u001b[38;5;28;43mself\u001b[39;49m\u001b[38;5;241;43m.\u001b[39;49m\u001b[43mobj\u001b[49m\u001b[43m)\u001b[49m\u001b[43m \u001b[49m\u001b[38;5;28;43;01mfor\u001b[39;49;00m\u001b[43m \u001b[49m\u001b[43mx\u001b[49m\u001b[43m \u001b[49m\u001b[38;5;129;43;01min\u001b[39;49;00m\u001b[43m \u001b[49m\u001b[43mkey\u001b[49m\u001b[43m)\u001b[49m\n\u001b[1;32m    812\u001b[0m \u001b[38;5;28;01melse\u001b[39;00m:\n\u001b[1;32m    813\u001b[0m     key \u001b[38;5;241m=\u001b[39m com\u001b[38;5;241m.\u001b[39mapply_if_callable(key, \u001b[38;5;28mself\u001b[39m\u001b[38;5;241m.\u001b[39mobj)\n",
                  "File \u001b[0;32m/mnt/live/user/vlecoz/conda_env/money_markets/lib/python3.8/site-packages/pandas/core/indexing.py:811\u001b[0m, in \u001b[0;36m<genexpr>\u001b[0;34m(.0)\u001b[0m\n\u001b[1;32m    809\u001b[0m \u001b[38;5;28;01mif\u001b[39;00m \u001b[38;5;28misinstance\u001b[39m(key, \u001b[38;5;28mtuple\u001b[39m):\n\u001b[1;32m    810\u001b[0m     key \u001b[38;5;241m=\u001b[39m \u001b[38;5;28mtuple\u001b[39m(\u001b[38;5;28mlist\u001b[39m(x) \u001b[38;5;28;01mif\u001b[39;00m is_iterator(x) \u001b[38;5;28;01melse\u001b[39;00m x \u001b[38;5;28;01mfor\u001b[39;00m x \u001b[38;5;129;01min\u001b[39;00m key)\n\u001b[0;32m--> 811\u001b[0m     key \u001b[38;5;241m=\u001b[39m \u001b[38;5;28mtuple\u001b[39m(\u001b[43mcom\u001b[49m\u001b[38;5;241;43m.\u001b[39;49m\u001b[43mapply_if_callable\u001b[49m\u001b[43m(\u001b[49m\u001b[43mx\u001b[49m\u001b[43m,\u001b[49m\u001b[43m \u001b[49m\u001b[38;5;28;43mself\u001b[39;49m\u001b[38;5;241;43m.\u001b[39;49m\u001b[43mobj\u001b[49m\u001b[43m)\u001b[49m \u001b[38;5;28;01mfor\u001b[39;00m x \u001b[38;5;129;01min\u001b[39;00m key)\n\u001b[1;32m    812\u001b[0m \u001b[38;5;28;01melse\u001b[39;00m:\n\u001b[1;32m    813\u001b[0m     key \u001b[38;5;241m=\u001b[39m com\u001b[38;5;241m.\u001b[39mapply_if_callable(key, \u001b[38;5;28mself\u001b[39m\u001b[38;5;241m.\u001b[39mobj)\n",
                  "File \u001b[0;32m/mnt/live/user/vlecoz/conda_env/money_markets/lib/python3.8/site-packages/pandas/core/common.py:363\u001b[0m, in \u001b[0;36mapply_if_callable\u001b[0;34m(maybe_callable, obj, **kwargs)\u001b[0m\n\u001b[1;32m    352\u001b[0m \u001b[38;5;28;01mdef\u001b[39;00m \u001b[38;5;21mapply_if_callable\u001b[39m(maybe_callable, obj, \u001b[38;5;241m*\u001b[39m\u001b[38;5;241m*\u001b[39mkwargs):\n\u001b[1;32m    353\u001b[0m     \u001b[38;5;124;03m\"\"\"\u001b[39;00m\n\u001b[1;32m    354\u001b[0m \u001b[38;5;124;03m    Evaluate possibly callable input using obj and kwargs if it is callable,\u001b[39;00m\n\u001b[1;32m    355\u001b[0m \u001b[38;5;124;03m    otherwise return as it is.\u001b[39;00m\n\u001b[0;32m   (...)\u001b[0m\n\u001b[1;32m    361\u001b[0m \u001b[38;5;124;03m    **kwargs\u001b[39;00m\n\u001b[1;32m    362\u001b[0m \u001b[38;5;124;03m    \"\"\"\u001b[39;00m\n\u001b[0;32m--> 363\u001b[0m     \u001b[38;5;28;01mif\u001b[39;00m \u001b[43mcallable\u001b[49m\u001b[43m(\u001b[49m\u001b[43mmaybe_callable\u001b[49m\u001b[43m)\u001b[49m:\n\u001b[1;32m    364\u001b[0m         \u001b[38;5;28;01mreturn\u001b[39;00m maybe_callable(obj, \u001b[38;5;241m*\u001b[39m\u001b[38;5;241m*\u001b[39mkwargs)\n\u001b[1;32m    366\u001b[0m     \u001b[38;5;28;01mreturn\u001b[39;00m maybe_callable\n",
                  "\u001b[0;31mKeyboardInterrupt\u001b[0m: "
               ]
            }
         ],
         "source": [
            "from dynamics import ClassDynamics\n",
            "from network import ClassNetwork\n",
            "\n",
            "\n",
            "# parameter setting\n",
            "nb_banks=50\n",
            "path_results=\"./results/single_run/test/\"\n",
            "initial_deposits_size = 1e-5\n",
            "\n",
            "# reg ratios\n",
            "alpha_init=0.01  # initial cash (< 1/(1-gamma) - beta)\n",
            "alpha=0.01\n",
            "beta_init=0.5 # initial collateral  (< 1/(1-gamma) - alpha)\n",
            "beta_reg=0.5\n",
            "beta_star=0.5\n",
            "gamma=0.03\n",
            "gamma_init = 10*gamma\n",
            "collateral_value=1.0\n",
            "\n",
            "# initialisation of deposits size\n",
            "initialization_method=\"pareto\"\n",
            "alpha_pareto=1.3\n",
            "\n",
            "# shocks on deposits \n",
            "shocks_method=\"non-conservative\"\n",
            "shocks_law=\"normal-mean-reverting\"\n",
            "shocks_vol=0.01 # 0.05\n",
            "\n",
            "# min trans size\n",
            "min_repo_trans_size=1e-8  # 1e-8\n",
            "\n",
            "# dynamics & ploting\n",
            "nb_steps=int(5e3)\n",
            "dump_period=int(5e2)\n",
            "plot_period=int(5e2)\n",
            "cp_option=True\n",
            "heavy_plot=False\n",
            "\n",
            "# LCR mgt\n",
            "LCR_mgt_opt=True\n",
            "\n",
            "# leverage mgt\n",
            "end_repo_period=False # if int, periodic end repo / if false, leverage mgt\n",
            "gamma_star = 10*gamma\n",
            "\n",
            "# money creation\n",
            "loan_tenor=5000 # if int, money creation / if false. no new loans\n",
            "new_loans_vol = 0 # standard deviation around the mean creation of loans\n",
            "new_loans_mean = 1000000e-2/250 # daily mean increase in loans expressed as a percentage of the intital loans (the other option would be a relative increase but it is unstable np.exp(np.log(1.01)/250)-1 = 4e-5)\n",
            "beta_new = beta_reg # if number, new colat / if false, no new colat \n",
            "# gamma_new = gamma_star*(beta_reg+1)/(1+gamma_star*beta_reg) # if number, new own funds / if false, no new own funds. we need to also add beta reg to ensure LCR can be covered with additional cash (and we still match the solvency ratio despite this excess of stress) in the case of no payment shocks and no collateral creation\n",
            "gamma_new = gamma_star\n",
            "\n",
            "\n",
            "# initialize ClassNetwork\n",
            "Network = ClassNetwork(\n",
            "    nb_banks=nb_banks,\n",
            "    initial_deposits_size=initial_deposits_size,\n",
            "    alpha_init=alpha_init,\n",
            "    alpha=alpha,\n",
            "    beta_init=beta_init,\n",
            "    beta_reg=beta_reg,\n",
            "    beta_star=beta_star,\n",
            "    beta_new=beta_new,\n",
            "    gamma_init=gamma_init,\n",
            "    gamma=gamma,\n",
            "    gamma_star=gamma_star,\n",
            "    gamma_new=gamma_new,\n",
            "    collateral_value=collateral_value,\n",
            "    initialization_method=initialization_method,\n",
            "    alpha_pareto=alpha_pareto,\n",
            "    shocks_method=shocks_method,\n",
            "    shocks_law=shocks_law,\n",
            "    shocks_vol=shocks_vol,\n",
            "    LCR_mgt_opt=LCR_mgt_opt,\n",
            "    min_repo_trans_size=min_repo_trans_size,\n",
            "    loan_tenor=loan_tenor,\n",
            "    new_loans_vol=new_loans_vol,\n",
            "    new_loans_mean=new_loans_mean,\n",
            "    end_repo_period=end_repo_period,\n",
            ")\n",
            "\n",
            "# initialize ClassDynamics\n",
            "Dynamics = ClassDynamics(\n",
            "    Network,\n",
            "    nb_steps=nb_steps,\n",
            "    path_results=path_results,\n",
            "    dump_period=dump_period,\n",
            "    plot_period=plot_period,\n",
            "    cp_option=cp_option,\n",
            "    heavy_plot=heavy_plot,\n",
            ")\n",
            "\n",
            "# simulate\n",
            "Dynamics.simulate()"
         ]
      },
      {
         "cell_type": "code",
         "execution_count": 5,
         "metadata": {},
         "outputs": [
            {
               "data": {
                  "text/plain": [
                     "3.980211549592383e-05"
                  ]
               },
               "execution_count": 5,
               "metadata": {},
               "output_type": "execute_result"
            }
         ],
         "source": [
            "import numpy as np\n",
            "np.exp(np.log(1.01)/250)-1"
         ]
      },
      {
         "cell_type": "markdown",
         "metadata": {},
         "source": [
            "# ploting"
         ]
      },
      {
         "cell_type": "code",
         "execution_count": 3,
         "metadata": {},
         "outputs": [
            {
               "name": "stdout",
               "output_type": "stream",
               "text": [
                  "get df_rev_repo_trans\n"
               ]
            },
            {
               "name": "stderr",
               "output_type": "stream",
               "text": [
                  "100%|██████████| 50/50 [00:00<00:00, 580928.53it/s]\n"
               ]
            },
            {
               "name": "stdout",
               "output_type": "stream",
               "text": [
                  "get df_rev_repo_trans\n"
               ]
            },
            {
               "name": "stderr",
               "output_type": "stream",
               "text": [
                  "100%|██████████| 50/50 [00:00<00:00, 735842.81it/s]\n"
               ]
            },
            {
               "name": "stdout",
               "output_type": "stream",
               "text": [
                  "get arr_rev_repo_exp_adj\n"
               ]
            },
            {
               "name": "stderr",
               "output_type": "stream",
               "text": [
                  "58736it [00:07, 7801.67it/s]\n"
               ]
            },
            {
               "name": "stdout",
               "output_type": "stream",
               "text": [
                  "get arr_binary_adj (numba)\n",
                  "get degree distribution\n"
               ]
            },
            {
               "name": "stderr",
               "output_type": "stream",
               "text": [
                  "100%|██████████| 3087/3087 [00:03<00:00, 841.98it/s] \n"
               ]
            },
            {
               "name": "stdout",
               "output_type": "stream",
               "text": [
                  "get jaccard\n"
               ]
            },
            {
               "name": "stderr",
               "output_type": "stream",
               "text": [
                  "100%|██████████| 3086/3086 [00:00<00:00, 4989.66it/s]\n"
               ]
            },
            {
               "name": "stdout",
               "output_type": "stream",
               "text": [
                  "get density\n"
               ]
            },
            {
               "name": "stderr",
               "output_type": "stream",
               "text": [
                  "100%|██████████| 3086/3086 [00:00<00:00, 5102.64it/s]\n"
               ]
            },
            {
               "name": "stdout",
               "output_type": "stream",
               "text": [
                  "get degree stats\n"
               ]
            },
            {
               "name": "stderr",
               "output_type": "stream",
               "text": [
                  "100%|██████████| 3086/3086 [00:01<00:00, 1721.31it/s]\n"
               ]
            },
            {
               "name": "stdout",
               "output_type": "stream",
               "text": [
                  "get exposure stats\n"
               ]
            },
            {
               "name": "stderr",
               "output_type": "stream",
               "text": [
                  "100%|██████████| 3088/3088 [00:00<00:00, 5410.68it/s]\n"
               ]
            },
            {
               "name": "stdout",
               "output_type": "stream",
               "text": [
                  "run core-periphery tests\n"
               ]
            },
            {
               "name": "stderr",
               "output_type": "stream",
               "text": [
                  "  0%|          | 0/5 [00:00<?, ?it/s]"
               ]
            },
            {
               "name": "stdout",
               "output_type": "stream",
               "text": [
                  "core-periphery tests using the Lip approach\n",
                  "test on day 0\n"
               ]
            },
            {
               "name": "stderr",
               "output_type": "stream",
               "text": [
                  "100%|██████████| 100/100 [00:00<00:00, 2813.99it/s]\n"
               ]
            },
            {
               "name": "stdout",
               "output_type": "stream",
               "text": [
                  "test on day 3087\n"
               ]
            },
            {
               "name": "stderr",
               "output_type": "stream",
               "text": [
                  "100%|██████████| 100/100 [00:00<00:00, 1259.41it/s]\n",
                  " 20%|██        | 1/5 [00:00<00:00,  6.98it/s]"
               ]
            },
            {
               "name": "stdout",
               "output_type": "stream",
               "text": [
                  "core-periphery tests using the Lip approach\n",
                  "test on day 0\n"
               ]
            },
            {
               "name": "stderr",
               "output_type": "stream",
               "text": [
                  "100%|██████████| 100/100 [00:00<00:00, 2895.66it/s]\n"
               ]
            },
            {
               "name": "stdout",
               "output_type": "stream",
               "text": [
                  "test on day 3087\n"
               ]
            },
            {
               "name": "stderr",
               "output_type": "stream",
               "text": [
                  "100%|██████████| 100/100 [00:00<00:00, 1329.52it/s]\n",
                  " 40%|████      | 2/5 [00:00<00:00,  7.66it/s]"
               ]
            },
            {
               "name": "stdout",
               "output_type": "stream",
               "text": [
                  "core-periphery tests using the Lip approach\n",
                  "test on day 0\n"
               ]
            },
            {
               "name": "stderr",
               "output_type": "stream",
               "text": [
                  "100%|██████████| 100/100 [00:00<00:00, 2939.18it/s]\n"
               ]
            },
            {
               "name": "stdout",
               "output_type": "stream",
               "text": [
                  "test on day 3087\n"
               ]
            },
            {
               "name": "stderr",
               "output_type": "stream",
               "text": [
                  "100%|██████████| 100/100 [00:00<00:00, 1254.85it/s]\n",
                  " 60%|██████    | 3/5 [00:00<00:00,  7.81it/s]"
               ]
            },
            {
               "name": "stdout",
               "output_type": "stream",
               "text": [
                  "core-periphery tests using the Lip approach\n",
                  "test on day 0\n"
               ]
            },
            {
               "name": "stderr",
               "output_type": "stream",
               "text": [
                  "100%|██████████| 100/100 [00:00<00:00, 2890.59it/s]\n"
               ]
            },
            {
               "name": "stdout",
               "output_type": "stream",
               "text": [
                  "test on day 3087\n"
               ]
            },
            {
               "name": "stderr",
               "output_type": "stream",
               "text": [
                  "100%|██████████| 100/100 [00:00<00:00, 1221.94it/s]\n",
                  " 80%|████████  | 4/5 [00:00<00:00,  7.82it/s]"
               ]
            },
            {
               "name": "stdout",
               "output_type": "stream",
               "text": [
                  "core-periphery tests using the Lip approach\n",
                  "test on day 0\n"
               ]
            },
            {
               "name": "stderr",
               "output_type": "stream",
               "text": [
                  "100%|██████████| 100/100 [00:00<00:00, 1666.24it/s]\n"
               ]
            },
            {
               "name": "stdout",
               "output_type": "stream",
               "text": [
                  "test on day 3087\n"
               ]
            },
            {
               "name": "stderr",
               "output_type": "stream",
               "text": [
                  "100%|██████████| 100/100 [00:00<00:00, 1447.95it/s]\n",
                  "100%|██████████| 5/5 [00:00<00:00,  7.58it/s]\n"
               ]
            },
            {
               "name": "stdout",
               "output_type": "stream",
               "text": [
                  "get transaction stats av. network\n"
               ]
            },
            {
               "name": "stderr",
               "output_type": "stream",
               "text": [
                  "100%|██████████| 3087/3087 [00:18<00:00, 169.81it/s]\n"
               ]
            },
            {
               "name": "stdout",
               "output_type": "stream",
               "text": [
                  "get transaction stats av. bank\n"
               ]
            },
            {
               "name": "stderr",
               "output_type": "stream",
               "text": [
                  "100%|██████████| 3087/3087 [00:03<00:00, 944.97it/s]\n"
               ]
            }
         ],
         "source": [
            "# get graphics after interupting \n",
            "import graphics  as gx\n",
            "Dynamics.nb_steps = Network.step\n",
            "Dynamics.plot_period = Network.step\n",
            "Dynamics.fill()\n",
            "Dynamics.dump()\n",
            "gx.plot(Dynamics)"
         ]
      },
      {
         "cell_type": "markdown",
         "metadata": {},
         "source": [
            "# analysis"
         ]
      },
      {
         "cell_type": "code",
         "execution_count": 3,
         "metadata": {},
         "outputs": [],
         "source": [
            "import numpy as np \n",
            "for chain in Network.chains_rev_repo:\n",
            "   if  len(np.unique (np.array(chain))) < len(np.array(chain)):\n",
            "      print(\"error\")"
         ]
      },
      {
         "cell_type": "code",
         "execution_count": 6,
         "metadata": {},
         "outputs": [
            {
               "name": "stdout",
               "output_type": "stream",
               "text": [
                  "18\n",
                  "2\n",
                  "9.411325805448131\n"
               ]
            }
         ],
         "source": [
            "max = 0 \n",
            "min = 19\n",
            "sum = 0\n",
            "for chain in Network.chains_rev_repo:\n",
            "   if  len(chain) > max:\n",
            "      max = len(chain)\n",
            "   if  len(chain) < min:\n",
            "      min = len(chain)\n",
            "   sum +=len(chain)\n",
            "\n",
            "print(max)\n",
            "print(min)\n",
            "print(sum/len(Network.chains_rev_repo))"
         ]
      },
      {
         "cell_type": "markdown",
         "metadata": {},
         "source": [
            "# new loans"
         ]
      },
      {
         "cell_type": "code",
         "execution_count": null,
         "metadata": {},
         "outputs": [
            {
               "data": {
                  "text/plain": [
                     "(array([36.,  7.,  3.,  0.,  0.,  2.,  1.,  0.,  0.,  1.]),\n",
                     " array([0.22896693, 0.83264029, 1.43631366, 2.03998702, 2.64366039,\n",
                     "        3.24733375, 3.85100712, 4.45468048, 5.05835385, 5.66202721,\n",
                     "        6.26570058]),\n",
                     " <BarContainer object of 10 artists>)"
                  ]
               },
               "metadata": {},
               "output_type": "display_data"
            },
            {
               "data": {
                  "image/png": "[encoded data removed]",
                  "text/plain": [
                     "<Figure size 640x480 with 1 Axes>"
                  ]
               },
               "metadata": {},
               "output_type": "display_data"
            }
         ],
         "source": [
            "import numpy as np\n",
            "from matplotlib import pyplot as plt\n",
            "ar_new_loans = (np.random.randn(nb_banks) * new_loans_vol + 1)*new_loans_mean\n",
            "plt.hist(ar_new_loans*Network.df_banks[\"initial loans\"])"
         ]
      },
      {
         "cell_type": "markdown",
         "metadata": {},
         "source": [
            "# calibration of an exponential "
         ]
      },
      {
         "cell_type": "code",
         "execution_count": 20,
         "metadata": {},
         "outputs": [],
         "source": [
            "import pandas as pd\n",
            "import scipy as sc\n",
            "import numpy as np \n",
            "from matplotlib import pyplot as plt\n",
            "\n",
            "df_network_trajectory = pd.read_csv(\"./results/single_run/convergence of the ratio borrowing ov deposits - not convincing 0.5/df_network_trajectory.csv\", index_col=0)"
         ]
      },
      {
         "cell_type": "code",
         "execution_count": 99,
         "metadata": {},
         "outputs": [],
         "source": [
            "def f_fit(x,a,b,tau):\n",
            "    return a-b*np.exp(-x/tau)\n",
            "\n",
            "def g_fit(x,a,b,tau=1):\n",
            "    return a-b/(x*1.0)**(tau**2)"
         ]
      },
      {
         "cell_type": "code",
         "execution_count": 100,
         "metadata": {},
         "outputs": [],
         "source": [
            "fit = sc.optimize.curve_fit(g_fit, df_network_trajectory.index[500:], df_network_trajectory[\"borrowings ov. deposits tot. network\"].iloc[500:], p0=[50.0,50.0,0.5], full_output=True)"
         ]
      },
      {
         "cell_type": "code",
         "execution_count": 101,
         "metadata": {},
         "outputs": [
            {
               "data": {
                  "text/plain": [
                     "array([5.08811839e+01, 3.58034194e+03, 9.66522445e-01])"
                  ]
               },
               "execution_count": 101,
               "metadata": {},
               "output_type": "execute_result"
            }
         ],
         "source": [
            "popt = fit[0]\n",
            "popt"
         ]
      },
      {
         "cell_type": "code",
         "execution_count": 103,
         "metadata": {},
         "outputs": [
            {
               "data": {
                  "text/plain": [
                     "(0.0, 50.0)"
                  ]
               },
               "execution_count": 103,
               "metadata": {},
               "output_type": "execute_result"
            },
            {
               "data": {
                  "image/png": "[encoded data removed]",
                  "text/plain": [
                     "<Figure size 640x480 with 1 Axes>"
                  ]
               },
               "metadata": {},
               "output_type": "display_data"
            }
         ],
         "source": [
            "plt.plot(df_network_trajectory.index, g_fit(df_network_trajectory.index, *popt))\n",
            "plt.plot(df_network_trajectory.index, df_network_trajectory[\"borrowings ov. deposits tot. network\"])\n",
            "plt.ylim(0,50)"
         ]
      },
      {
         "cell_type": "code",
         "execution_count": 74,
         "metadata": {},
         "outputs": [
            {
               "data": {
                  "text/plain": [
                     "array([ 34.50839404, 259.98935544])"
                  ]
               },
               "execution_count": 74,
               "metadata": {},
               "output_type": "execute_result"
            }
         ],
         "source": [
            "popt"
         ]
      },
      {
         "cell_type": "code",
         "execution_count": 75,
         "metadata": {},
         "outputs": [
            {
               "data": {
                  "text/plain": [
                     "Float64Index([                0.0, 0.13247509297553609, 0.26444162417224953,\n",
                     "               0.3959015459200195,  0.5268568030538839,   0.657309332942808,\n",
                     "               0.7872610655183451,   0.916713923303191,  1.0456698214396194,\n",
                     "               1.1741306677178165,\n",
                     "              ...\n",
                     "                34.50839388343005,   34.50839388404195,  34.508393884651504,\n",
                     "                34.50839388525871,   34.50839388586359,  34.508393886466145,\n",
                     "                34.50839388706639,  34.508393887664326,  34.508393888259974,\n",
                     "               34.508393888853334],\n",
                     "             dtype='float64', length=5000)"
                  ]
               },
               "execution_count": 75,
               "metadata": {},
               "output_type": "execute_result"
            }
         ],
         "source": [
            "f_fit(df_network_trajectory.index, *popt)"
         ]
      },
      {
         "cell_type": "code",
         "execution_count": 76,
         "metadata": {},
         "outputs": [
            {
               "data": {
                  "text/plain": [
                     "array([ 34.50839404, 259.98935544])"
                  ]
               },
               "execution_count": 76,
               "metadata": {},
               "output_type": "execute_result"
            }
         ],
         "source": [
            "popt"
         ]
      },
      {
         "cell_type": "code",
         "execution_count": 77,
         "metadata": {},
         "outputs": [
            {
               "data": {
                  "text/plain": [
                     "99.89097548726113"
                  ]
               },
               "execution_count": 77,
               "metadata": {},
               "output_type": "execute_result"
            }
         ],
         "source": [
            "def R2(y,ymodeled):\n",
            "    return 1 - ((y-ymodeled)**2).sum() / (y**2).sum()\n",
            "\n",
            "R2(df_network_trajectory[\"borrowings ov. deposits tot. network\"],f_fit(df_network_trajectory.index, *popt))*100"
         ]
      },
      {
         "cell_type": "code",
         "execution_count": 65,
         "metadata": {},
         "outputs": [
            {
               "data": {
                  "text/plain": [
                     "0.9991684908182343"
                  ]
               },
               "execution_count": 65,
               "metadata": {},
               "output_type": "execute_result"
            }
         ],
         "source": []
      },
      {
         "cell_type": "code",
         "execution_count": 19,
         "metadata": {},
         "outputs": [],
         "source": [
            "df_network_trajectory.dropna(inplace=True)"
         ]
      },
      {
         "cell_type": "code",
         "execution_count": 21,
         "metadata": {},
         "outputs": [
            {
               "data": {
                  "text/plain": [
                     "Series([], Name: borrowings ov. deposits tot. network, dtype: float64)"
                  ]
               },
               "execution_count": 21,
               "metadata": {},
               "output_type": "execute_result"
            }
         ],
         "source": [
            "df_network_trajectory[\"borrowings ov. deposits tot. network\"]"
         ]
      },
      {
         "cell_type": "markdown",
         "metadata": {},
         "source": [
            "# test avec Damien"
         ]
      },
      {
         "cell_type": "code",
         "execution_count": 16,
         "metadata": {},
         "outputs": [
            {
               "data": {
                  "text/plain": [
                     "4995    49.415460\n",
                     "4996    49.463326\n",
                     "4997    49.358494\n",
                     "4998    49.375028\n",
                     "4999    49.408838\n",
                     "Name: borrowings ov. deposits tot. network, dtype: float64"
                  ]
               },
               "execution_count": 16,
               "metadata": {},
               "output_type": "execute_result"
            }
         ],
         "source": [
            "df_network_trajectory[\"borrowings ov. deposits tot. network\"].tail()"
         ]
      },
      {
         "cell_type": "code",
         "execution_count": 10,
         "metadata": {},
         "outputs": [
            {
               "data": {
                  "text/plain": [
                     "<AxesSubplot: >"
                  ]
               },
               "execution_count": 10,
               "metadata": {},
               "output_type": "execute_result"
            },
            {
               "data": {
                  "image/png": "[encoded data removed]",
                  "text/plain": [
                     "<Figure size 640x480 with 1 Axes>"
                  ]
               },
               "metadata": {},
               "output_type": "display_data"
            }
         ],
         "source": [
            "df_network_trajectory[\"borrowings ov. deposits tot. network\"].plot()"
         ]
      },
      {
         "cell_type": "code",
         "execution_count": 106,
         "metadata": {},
         "outputs": [
            {
               "data": {
                  "image/png": "[encoded data removed]",
                  "text/plain": [
                     "<Figure size 640x480 with 1 Axes>"
                  ]
               },
               "metadata": {},
               "output_type": "display_data"
            }
         ],
         "source": [
            "sr_test = 50.881 - df_network_trajectory[\"borrowings ov. deposits tot. network\"]\n",
            "sr_test.plot()\n",
            "plt.yscale(\"log\")\n",
            "plt.xscale(\"log\")"
         ]
      },
      {
         "cell_type": "code",
         "execution_count": null,
         "metadata": {},
         "outputs": [],
         "source": []
      }
   ],
   "metadata": {
      "kernelspec": {
         "display_name": "Python 3",
         "language": "python",
         "name": "python3"
      },
      "language_info": {
         "codemirror_mode": {
            "name": "ipython",
            "version": 3
         },
         "file_extension": ".py",
         "mimetype": "text/x-python",
         "name": "python",
         "nbconvert_exporter": "python",
         "pygments_lexer": "ipython3",
         "version": "3.8.13"
      }
   },
   "nbformat": 4,
   "nbformat_minor": 2
}
