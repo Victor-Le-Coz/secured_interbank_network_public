{
   "cells": [
      {
         "cell_type": "markdown",
         "metadata": {},
         "source": [
            "reuse rate measured\n",
            "\n",
            "swiss 0.1\n",
            "\n",
            "ESRB 1\n",
            "\n",
            "australia 0.6"
         ]
      },
      {
         "cell_type": "markdown",
         "metadata": {},
         "source": [
            "# testing "
         ]
      },
      {
         "cell_type": "markdown",
         "metadata": {},
         "source": [
            "At initialization, asset and liabilites are equal \n",
            "$$\\alpha D + \\beta D + L  = \\frac{1}{1-\\gamma} D$$\n",
            "$$\\alpha + \\beta \\leq \\frac{1}{1-\\gamma}$$"
         ]
      },
      {
         "cell_type": "code",
         "execution_count": 1,
         "metadata": {},
         "outputs": [
            {
               "name": "stderr",
               "output_type": "stream",
               "text": [
                  "/mnt/live/user/vlecoz/Secured_interbank_network/network.py:496: SyntaxWarning: assertion is always true, perhaps remove parentheses?\n",
                  "  assert (\n"
               ]
            },
            {
               "name": "stdout",
               "output_type": "stream",
               "text": [
                  "simulate the repo market\n"
               ]
            },
            {
               "name": "stderr",
               "output_type": "stream",
               "text": [
                  "  2%|▏         | 499/19999 [00:45<33:54,  9.59it/s]"
               ]
            },
            {
               "name": "stdout",
               "output_type": "stream",
               "text": [
                  "get df_rev_repo_trans\n"
               ]
            },
            {
               "name": "stderr",
               "output_type": "stream",
               "text": [
                  "100%|██████████| 50/50 [00:00<00:00, 779610.41it/s]\n"
               ]
            },
            {
               "name": "stdout",
               "output_type": "stream",
               "text": [
                  "get df_rev_repo_trans\n"
               ]
            },
            {
               "name": "stderr",
               "output_type": "stream",
               "text": [
                  "100%|██████████| 50/50 [00:00<00:00, 998643.81it/s]\n"
               ]
            },
            {
               "name": "stdout",
               "output_type": "stream",
               "text": [
                  "get arr_rev_repo_exp_adj\n"
               ]
            },
            {
               "name": "stderr",
               "output_type": "stream",
               "text": [
                  "15488it [00:10, 1453.07it/s]\n"
               ]
            },
            {
               "name": "stdout",
               "output_type": "stream",
               "text": [
                  "get arr_binary_adj (numba)\n",
                  "get degree distribution\n"
               ]
            },
            {
               "name": "stderr",
               "output_type": "stream",
               "text": [
                  "100%|██████████| 500/500 [00:02<00:00, 188.80it/s]\n"
               ]
            },
            {
               "name": "stdout",
               "output_type": "stream",
               "text": [
                  "get jaccard\n"
               ]
            },
            {
               "name": "stderr",
               "output_type": "stream",
               "text": [
                  "100%|██████████| 499/499 [00:00<00:00, 6069.17it/s]\n"
               ]
            },
            {
               "name": "stdout",
               "output_type": "stream",
               "text": [
                  "get density\n"
               ]
            },
            {
               "name": "stderr",
               "output_type": "stream",
               "text": [
                  "100%|██████████| 499/499 [00:00<00:00, 4524.76it/s]\n"
               ]
            },
            {
               "name": "stdout",
               "output_type": "stream",
               "text": [
                  "get degree stats\n"
               ]
            },
            {
               "name": "stderr",
               "output_type": "stream",
               "text": [
                  "100%|██████████| 499/499 [00:00<00:00, 1741.15it/s]\n"
               ]
            },
            {
               "name": "stdout",
               "output_type": "stream",
               "text": [
                  "get exposure stats\n"
               ]
            },
            {
               "name": "stderr",
               "output_type": "stream",
               "text": [
                  "100%|██████████| 501/501 [00:00<00:00, 5020.47it/s]\n"
               ]
            },
            {
               "name": "stdout",
               "output_type": "stream",
               "text": [
                  "run core-periphery tests\n"
               ]
            },
            {
               "name": "stderr",
               "output_type": "stream",
               "text": []
            },
            {
               "name": "stdout",
               "output_type": "stream",
               "text": [
                  "core-periphery tests using the Lip approach\n",
                  "test on day 0\n"
               ]
            },
            {
               "name": "stderr",
               "output_type": "stream",
               "text": [
                  "\n",
                  "100%|██████████| 100/100 [00:00<00:00, 2775.50it/s]\n"
               ]
            },
            {
               "name": "stdout",
               "output_type": "stream",
               "text": [
                  "test on day 500\n"
               ]
            },
            {
               "name": "stderr",
               "output_type": "stream",
               "text": [
                  "\n",
                  "\u001b[A\n",
                  "\u001b[A\n",
                  "100%|██████████| 100/100 [00:00<00:00, 334.77it/s]\n"
               ]
            },
            {
               "name": "stdout",
               "output_type": "stream",
               "text": [
                  "core-periphery tests using the Lip approach\n",
                  "test on day 0\n"
               ]
            },
            {
               "name": "stderr",
               "output_type": "stream",
               "text": [
                  "\n",
                  "100%|██████████| 100/100 [00:00<00:00, 2767.99it/s]\n"
               ]
            },
            {
               "name": "stdout",
               "output_type": "stream",
               "text": [
                  "test on day 500\n"
               ]
            },
            {
               "name": "stderr",
               "output_type": "stream",
               "text": [
                  "\n",
                  "\u001b[A\n",
                  "\u001b[A\n",
                  "100%|██████████| 100/100 [00:00<00:00, 335.08it/s]\n"
               ]
            },
            {
               "name": "stdout",
               "output_type": "stream",
               "text": [
                  "core-periphery tests using the Lip approach\n",
                  "test on day 0\n"
               ]
            },
            {
               "name": "stderr",
               "output_type": "stream",
               "text": [
                  "\n",
                  "100%|██████████| 100/100 [00:00<00:00, 2796.86it/s]\n"
               ]
            },
            {
               "name": "stdout",
               "output_type": "stream",
               "text": [
                  "test on day 500\n"
               ]
            },
            {
               "name": "stderr",
               "output_type": "stream",
               "text": [
                  "\n",
                  "\u001b[A\n",
                  "\u001b[A\n",
                  "100%|██████████| 100/100 [00:00<00:00, 334.62it/s]\n"
               ]
            },
            {
               "name": "stdout",
               "output_type": "stream",
               "text": [
                  "core-periphery tests using the Lip approach\n",
                  "test on day 0\n"
               ]
            },
            {
               "name": "stderr",
               "output_type": "stream",
               "text": [
                  "\n",
                  "100%|██████████| 100/100 [00:00<00:00, 2804.79it/s]\n"
               ]
            },
            {
               "name": "stdout",
               "output_type": "stream",
               "text": [
                  "test on day 500\n"
               ]
            },
            {
               "name": "stderr",
               "output_type": "stream",
               "text": [
                  "\n",
                  "\u001b[A\n",
                  "\u001b[A\n",
                  "100%|██████████| 100/100 [00:00<00:00, 334.00it/s]\n"
               ]
            },
            {
               "name": "stdout",
               "output_type": "stream",
               "text": [
                  "core-periphery tests using the Lip approach\n",
                  "test on day 0\n"
               ]
            },
            {
               "name": "stderr",
               "output_type": "stream",
               "text": [
                  "\n",
                  "100%|██████████| 100/100 [00:00<00:00, 1824.98it/s]\n"
               ]
            },
            {
               "name": "stdout",
               "output_type": "stream",
               "text": [
                  "test on day 500\n"
               ]
            },
            {
               "name": "stderr",
               "output_type": "stream",
               "text": [
                  "\n",
                  "\u001b[A\n",
                  "\u001b[A\n",
                  "100%|██████████| 100/100 [00:00<00:00, 337.15it/s]\n",
                  "100%|██████████| 5/5 [00:01<00:00,  2.73it/s]\n"
               ]
            },
            {
               "name": "stdout",
               "output_type": "stream",
               "text": [
                  "get transaction stats av. network\n"
               ]
            },
            {
               "name": "stderr",
               "output_type": "stream",
               "text": [
                  "100%|██████████| 500/500 [00:01<00:00, 494.72it/s]\n"
               ]
            },
            {
               "name": "stdout",
               "output_type": "stream",
               "text": [
                  "get transaction stats av. bank\n"
               ]
            },
            {
               "name": "stderr",
               "output_type": "stream",
               "text": [
                  "100%|██████████| 500/500 [00:00<00:00, 1085.36it/s]\n",
                  "  5%|▍         | 999/19999 [02:22<39:07,  8.09it/s]   "
               ]
            },
            {
               "name": "stdout",
               "output_type": "stream",
               "text": [
                  "get df_rev_repo_trans\n"
               ]
            },
            {
               "name": "stderr",
               "output_type": "stream",
               "text": [
                  "100%|██████████| 50/50 [00:00<00:00, 845625.81it/s]\n"
               ]
            },
            {
               "name": "stdout",
               "output_type": "stream",
               "text": [
                  "get df_rev_repo_trans\n"
               ]
            },
            {
               "name": "stderr",
               "output_type": "stream",
               "text": [
                  "100%|██████████| 50/50 [00:00<00:00, 1038194.06it/s]\n"
               ]
            },
            {
               "name": "stdout",
               "output_type": "stream",
               "text": [
                  "get arr_rev_repo_exp_adj\n"
               ]
            },
            {
               "name": "stderr",
               "output_type": "stream",
               "text": [
                  "34833it [00:35, 986.92it/s] \n"
               ]
            },
            {
               "name": "stdout",
               "output_type": "stream",
               "text": [
                  "get arr_binary_adj (numba)\n",
                  "get degree distribution\n"
               ]
            },
            {
               "name": "stderr",
               "output_type": "stream",
               "text": [
                  "100%|██████████| 1000/1000 [00:06<00:00, 154.92it/s]\n"
               ]
            },
            {
               "name": "stdout",
               "output_type": "stream",
               "text": [
                  "get jaccard\n"
               ]
            },
            {
               "name": "stderr",
               "output_type": "stream",
               "text": [
                  "100%|██████████| 999/999 [00:00<00:00, 5183.92it/s]\n"
               ]
            },
            {
               "name": "stdout",
               "output_type": "stream",
               "text": [
                  "get density\n"
               ]
            },
            {
               "name": "stderr",
               "output_type": "stream",
               "text": [
                  "100%|██████████| 999/999 [00:00<00:00, 5032.48it/s]\n"
               ]
            },
            {
               "name": "stdout",
               "output_type": "stream",
               "text": [
                  "get degree stats\n"
               ]
            },
            {
               "name": "stderr",
               "output_type": "stream",
               "text": [
                  "100%|██████████| 999/999 [00:00<00:00, 1718.32it/s]\n"
               ]
            },
            {
               "name": "stdout",
               "output_type": "stream",
               "text": [
                  "get exposure stats\n"
               ]
            },
            {
               "name": "stderr",
               "output_type": "stream",
               "text": [
                  "100%|██████████| 1001/1001 [00:00<00:00, 4813.96it/s]\n"
               ]
            },
            {
               "name": "stdout",
               "output_type": "stream",
               "text": [
                  "run core-periphery tests\n"
               ]
            },
            {
               "name": "stderr",
               "output_type": "stream",
               "text": []
            },
            {
               "name": "stdout",
               "output_type": "stream",
               "text": [
                  "core-periphery tests using the Lip approach\n",
                  "test on day 0\n"
               ]
            },
            {
               "name": "stderr",
               "output_type": "stream",
               "text": [
                  "\n",
                  "100%|██████████| 100/100 [00:00<00:00, 2869.12it/s]\n"
               ]
            },
            {
               "name": "stdout",
               "output_type": "stream",
               "text": [
                  "test on day 500\n"
               ]
            },
            {
               "name": "stderr",
               "output_type": "stream",
               "text": [
                  "\n",
                  "\u001b[A\n",
                  "\u001b[A\n",
                  "100%|██████████| 100/100 [00:00<00:00, 335.56it/s]\n"
               ]
            },
            {
               "name": "stdout",
               "output_type": "stream",
               "text": [
                  "test on day 1000\n"
               ]
            },
            {
               "name": "stderr",
               "output_type": "stream",
               "text": [
                  "\n",
                  "\u001b[A\n",
                  "\u001b[A\n",
                  "\u001b[A\n",
                  "100%|██████████| 100/100 [00:00<00:00, 318.72it/s]\n"
               ]
            },
            {
               "name": "stdout",
               "output_type": "stream",
               "text": [
                  "core-periphery tests using the Lip approach\n",
                  "test on day 0\n"
               ]
            },
            {
               "name": "stderr",
               "output_type": "stream",
               "text": [
                  "\n",
                  "100%|██████████| 100/100 [00:00<00:00, 2799.69it/s]\n"
               ]
            },
            {
               "name": "stdout",
               "output_type": "stream",
               "text": [
                  "test on day 500\n"
               ]
            },
            {
               "name": "stderr",
               "output_type": "stream",
               "text": [
                  "\n",
                  "\u001b[A\n",
                  "\u001b[A\n",
                  "\u001b[A\n",
                  "100%|██████████| 100/100 [00:00<00:00, 114.57it/s]\n"
               ]
            },
            {
               "name": "stdout",
               "output_type": "stream",
               "text": [
                  "test on day 1000\n"
               ]
            },
            {
               "name": "stderr",
               "output_type": "stream",
               "text": [
                  "\n",
                  "\u001b[A\n",
                  "\u001b[A\n",
                  "\u001b[A\n",
                  "100%|██████████| 100/100 [00:00<00:00, 324.48it/s]\n"
               ]
            },
            {
               "name": "stdout",
               "output_type": "stream",
               "text": [
                  "core-periphery tests using the Lip approach\n",
                  "test on day 0\n"
               ]
            },
            {
               "name": "stderr",
               "output_type": "stream",
               "text": [
                  "\n",
                  "100%|██████████| 100/100 [00:00<00:00, 2831.08it/s]\n"
               ]
            },
            {
               "name": "stdout",
               "output_type": "stream",
               "text": [
                  "test on day 500\n"
               ]
            },
            {
               "name": "stderr",
               "output_type": "stream",
               "text": [
                  "\n",
                  "\u001b[A\n",
                  "\u001b[A\n",
                  "100%|██████████| 100/100 [00:00<00:00, 342.47it/s]\n"
               ]
            },
            {
               "name": "stdout",
               "output_type": "stream",
               "text": [
                  "test on day 1000\n"
               ]
            },
            {
               "name": "stderr",
               "output_type": "stream",
               "text": [
                  "\n",
                  "\u001b[A\n",
                  "\u001b[A\n",
                  "\u001b[A\n",
                  "100%|██████████| 100/100 [00:00<00:00, 322.27it/s]\n"
               ]
            },
            {
               "name": "stdout",
               "output_type": "stream",
               "text": [
                  "core-periphery tests using the Lip approach\n",
                  "test on day 0\n"
               ]
            },
            {
               "name": "stderr",
               "output_type": "stream",
               "text": [
                  "\n",
                  "100%|██████████| 100/100 [00:00<00:00, 2879.32it/s]\n"
               ]
            },
            {
               "name": "stdout",
               "output_type": "stream",
               "text": [
                  "test on day 500\n"
               ]
            },
            {
               "name": "stderr",
               "output_type": "stream",
               "text": [
                  "\n",
                  "\u001b[A\n",
                  "\u001b[A\n",
                  "100%|██████████| 100/100 [00:00<00:00, 336.30it/s]\n"
               ]
            },
            {
               "name": "stdout",
               "output_type": "stream",
               "text": [
                  "test on day 1000\n"
               ]
            },
            {
               "name": "stderr",
               "output_type": "stream",
               "text": [
                  "\n",
                  "\u001b[A\n",
                  "\u001b[A\n",
                  "\u001b[A\n",
                  "100%|██████████| 100/100 [00:00<00:00, 321.95it/s]\n"
               ]
            },
            {
               "name": "stdout",
               "output_type": "stream",
               "text": [
                  "core-periphery tests using the Lip approach\n",
                  "test on day 0\n"
               ]
            },
            {
               "name": "stderr",
               "output_type": "stream",
               "text": [
                  "\n",
                  "100%|██████████| 100/100 [00:00<00:00, 1818.57it/s]\n"
               ]
            },
            {
               "name": "stdout",
               "output_type": "stream",
               "text": [
                  "test on day 500\n"
               ]
            },
            {
               "name": "stderr",
               "output_type": "stream",
               "text": [
                  "\n",
                  "\u001b[A\n",
                  "\u001b[A\n",
                  "100%|██████████| 100/100 [00:00<00:00, 339.89it/s]\n"
               ]
            },
            {
               "name": "stdout",
               "output_type": "stream",
               "text": [
                  "test on day 1000\n"
               ]
            },
            {
               "name": "stderr",
               "output_type": "stream",
               "text": [
                  "\n",
                  "\u001b[A\n",
                  "\u001b[A\n",
                  "\u001b[A\n",
                  "100%|██████████| 100/100 [00:00<00:00, 307.18it/s]\n",
                  "100%|██████████| 5/5 [00:03<00:00,  1.26it/s]\n"
               ]
            },
            {
               "name": "stdout",
               "output_type": "stream",
               "text": [
                  "get transaction stats av. network\n"
               ]
            },
            {
               "name": "stderr",
               "output_type": "stream",
               "text": [
                  "100%|██████████| 1000/1000 [00:03<00:00, 264.89it/s]\n"
               ]
            },
            {
               "name": "stdout",
               "output_type": "stream",
               "text": [
                  "get transaction stats av. bank\n"
               ]
            },
            {
               "name": "stderr",
               "output_type": "stream",
               "text": [
                  "100%|██████████| 1000/1000 [00:01<00:00, 985.17it/s]\n",
                  "  7%|▋         | 1499/19999 [04:49<35:51,  8.60it/s]    "
               ]
            },
            {
               "name": "stdout",
               "output_type": "stream",
               "text": [
                  "get df_rev_repo_trans\n"
               ]
            },
            {
               "name": "stderr",
               "output_type": "stream",
               "text": [
                  "100%|██████████| 50/50 [00:00<00:00, 738433.80it/s]\n"
               ]
            },
            {
               "name": "stdout",
               "output_type": "stream",
               "text": [
                  "get df_rev_repo_trans\n"
               ]
            },
            {
               "name": "stderr",
               "output_type": "stream",
               "text": [
                  "100%|██████████| 50/50 [00:00<00:00, 870187.55it/s]\n"
               ]
            },
            {
               "name": "stdout",
               "output_type": "stream",
               "text": [
                  "get arr_rev_repo_exp_adj\n"
               ]
            },
            {
               "name": "stderr",
               "output_type": "stream",
               "text": [
                  "52306it [01:00, 860.62it/s] \n"
               ]
            },
            {
               "name": "stdout",
               "output_type": "stream",
               "text": [
                  "get arr_binary_adj (numba)\n",
                  "get degree distribution\n"
               ]
            },
            {
               "name": "stderr",
               "output_type": "stream",
               "text": [
                  "100%|██████████| 1500/1500 [00:10<00:00, 139.29it/s]\n"
               ]
            },
            {
               "name": "stdout",
               "output_type": "stream",
               "text": [
                  "get jaccard\n"
               ]
            },
            {
               "name": "stderr",
               "output_type": "stream",
               "text": [
                  "100%|██████████| 1499/1499 [00:00<00:00, 5057.55it/s]\n"
               ]
            },
            {
               "name": "stdout",
               "output_type": "stream",
               "text": [
                  "get density\n"
               ]
            },
            {
               "name": "stderr",
               "output_type": "stream",
               "text": [
                  "100%|██████████| 1499/1499 [00:00<00:00, 4996.92it/s]\n"
               ]
            },
            {
               "name": "stdout",
               "output_type": "stream",
               "text": [
                  "get degree stats\n"
               ]
            },
            {
               "name": "stderr",
               "output_type": "stream",
               "text": [
                  "100%|██████████| 1499/1499 [00:00<00:00, 1731.13it/s]\n"
               ]
            },
            {
               "name": "stdout",
               "output_type": "stream",
               "text": [
                  "get exposure stats\n"
               ]
            },
            {
               "name": "stderr",
               "output_type": "stream",
               "text": [
                  "100%|██████████| 1501/1501 [00:00<00:00, 4710.15it/s]\n"
               ]
            },
            {
               "name": "stdout",
               "output_type": "stream",
               "text": [
                  "run core-periphery tests\n"
               ]
            },
            {
               "name": "stderr",
               "output_type": "stream",
               "text": []
            },
            {
               "name": "stdout",
               "output_type": "stream",
               "text": [
                  "core-periphery tests using the Lip approach\n",
                  "test on day 0\n"
               ]
            },
            {
               "name": "stderr",
               "output_type": "stream",
               "text": [
                  "\n",
                  "100%|██████████| 100/100 [00:00<00:00, 2858.62it/s]\n"
               ]
            },
            {
               "name": "stdout",
               "output_type": "stream",
               "text": [
                  "test on day 500\n"
               ]
            },
            {
               "name": "stderr",
               "output_type": "stream",
               "text": [
                  "\n",
                  "\u001b[A\n",
                  "\u001b[A\n",
                  "100%|██████████| 100/100 [00:00<00:00, 340.27it/s]\n"
               ]
            },
            {
               "name": "stdout",
               "output_type": "stream",
               "text": [
                  "test on day 1000\n"
               ]
            },
            {
               "name": "stderr",
               "output_type": "stream",
               "text": [
                  "\n",
                  "\u001b[A\n",
                  "\u001b[A\n",
                  "100%|██████████| 100/100 [00:00<00:00, 327.92it/s]\n"
               ]
            },
            {
               "name": "stdout",
               "output_type": "stream",
               "text": [
                  "test on day 1500\n"
               ]
            },
            {
               "name": "stderr",
               "output_type": "stream",
               "text": [
                  "\n",
                  "\u001b[A\n",
                  "\u001b[A\n",
                  "100%|██████████| 100/100 [00:00<00:00, 330.21it/s]\n"
               ]
            },
            {
               "name": "stdout",
               "output_type": "stream",
               "text": [
                  "core-periphery tests using the Lip approach\n",
                  "test on day 0\n"
               ]
            },
            {
               "name": "stderr",
               "output_type": "stream",
               "text": [
                  "\n",
                  "100%|██████████| 100/100 [00:00<00:00, 2871.59it/s]\n"
               ]
            },
            {
               "name": "stdout",
               "output_type": "stream",
               "text": [
                  "test on day 500\n"
               ]
            },
            {
               "name": "stderr",
               "output_type": "stream",
               "text": [
                  "\n",
                  "\u001b[A\n",
                  "\u001b[A\n",
                  "100%|██████████| 100/100 [00:00<00:00, 342.79it/s]\n"
               ]
            },
            {
               "name": "stdout",
               "output_type": "stream",
               "text": [
                  "test on day 1000\n"
               ]
            },
            {
               "name": "stderr",
               "output_type": "stream",
               "text": [
                  "\n",
                  "\u001b[A\n",
                  "\u001b[A\n",
                  "\u001b[A\n",
                  "100%|██████████| 100/100 [00:00<00:00, 325.68it/s]\n"
               ]
            },
            {
               "name": "stdout",
               "output_type": "stream",
               "text": [
                  "test on day 1500\n"
               ]
            },
            {
               "name": "stderr",
               "output_type": "stream",
               "text": [
                  "\n",
                  "\u001b[A\n",
                  "\u001b[A\n",
                  "100%|██████████| 100/100 [00:00<00:00, 329.07it/s]\n"
               ]
            },
            {
               "name": "stdout",
               "output_type": "stream",
               "text": [
                  "core-periphery tests using the Lip approach\n",
                  "test on day 0\n"
               ]
            },
            {
               "name": "stderr",
               "output_type": "stream",
               "text": [
                  "\n",
                  "100%|██████████| 100/100 [00:00<00:00, 2898.04it/s]\n"
               ]
            },
            {
               "name": "stdout",
               "output_type": "stream",
               "text": [
                  "test on day 500\n"
               ]
            },
            {
               "name": "stderr",
               "output_type": "stream",
               "text": [
                  "\n",
                  "\u001b[A\n",
                  "\u001b[A\n",
                  "100%|██████████| 100/100 [00:00<00:00, 339.65it/s]\n"
               ]
            },
            {
               "name": "stdout",
               "output_type": "stream",
               "text": [
                  "test on day 1000\n"
               ]
            },
            {
               "name": "stderr",
               "output_type": "stream",
               "text": [
                  "\n",
                  "\u001b[A\n",
                  "\u001b[A\n",
                  "\u001b[A\n",
                  "100%|██████████| 100/100 [00:00<00:00, 324.74it/s]\n"
               ]
            },
            {
               "name": "stdout",
               "output_type": "stream",
               "text": [
                  "test on day 1500\n"
               ]
            },
            {
               "name": "stderr",
               "output_type": "stream",
               "text": [
                  "\n",
                  "\u001b[A\n",
                  "\u001b[A\n",
                  "100%|██████████| 100/100 [00:00<00:00, 329.46it/s]\n"
               ]
            },
            {
               "name": "stdout",
               "output_type": "stream",
               "text": [
                  "core-periphery tests using the Lip approach\n",
                  "test on day 0\n"
               ]
            },
            {
               "name": "stderr",
               "output_type": "stream",
               "text": [
                  "\n",
                  "100%|██████████| 100/100 [00:00<00:00, 2890.57it/s]\n"
               ]
            },
            {
               "name": "stdout",
               "output_type": "stream",
               "text": [
                  "test on day 500\n"
               ]
            },
            {
               "name": "stderr",
               "output_type": "stream",
               "text": [
                  "\n",
                  "\u001b[A\n",
                  "\u001b[A\n",
                  "100%|██████████| 100/100 [00:00<00:00, 339.85it/s]\n"
               ]
            },
            {
               "name": "stdout",
               "output_type": "stream",
               "text": [
                  "test on day 1000\n"
               ]
            },
            {
               "name": "stderr",
               "output_type": "stream",
               "text": [
                  "\n",
                  "\u001b[A\n",
                  "\u001b[A\n",
                  "\u001b[A\n",
                  "100%|██████████| 100/100 [00:00<00:00, 323.71it/s]\n"
               ]
            },
            {
               "name": "stdout",
               "output_type": "stream",
               "text": [
                  "test on day 1500\n"
               ]
            },
            {
               "name": "stderr",
               "output_type": "stream",
               "text": [
                  "\n",
                  "\u001b[A\n",
                  "\u001b[A\n",
                  "100%|██████████| 100/100 [00:00<00:00, 329.97it/s]\n"
               ]
            },
            {
               "name": "stdout",
               "output_type": "stream",
               "text": [
                  "core-periphery tests using the Lip approach\n",
                  "test on day 0\n"
               ]
            },
            {
               "name": "stderr",
               "output_type": "stream",
               "text": [
                  "\n",
                  "100%|██████████| 100/100 [00:00<00:00, 1840.54it/s]\n"
               ]
            },
            {
               "name": "stdout",
               "output_type": "stream",
               "text": [
                  "test on day 500\n"
               ]
            },
            {
               "name": "stderr",
               "output_type": "stream",
               "text": [
                  "\n",
                  "\u001b[A\n",
                  "\u001b[A\n",
                  "100%|██████████| 100/100 [00:00<00:00, 342.87it/s]\n"
               ]
            },
            {
               "name": "stdout",
               "output_type": "stream",
               "text": [
                  "test on day 1000\n"
               ]
            },
            {
               "name": "stderr",
               "output_type": "stream",
               "text": [
                  "\n",
                  "\u001b[A\n",
                  "\u001b[A\n",
                  "\u001b[A\n",
                  "100%|██████████| 100/100 [00:00<00:00, 322.97it/s]\n"
               ]
            },
            {
               "name": "stdout",
               "output_type": "stream",
               "text": [
                  "test on day 1500\n"
               ]
            },
            {
               "name": "stderr",
               "output_type": "stream",
               "text": [
                  "\n",
                  "\u001b[A\n",
                  "\u001b[A\n",
                  "\u001b[A\n",
                  "100%|██████████| 100/100 [00:00<00:00, 325.02it/s]\n",
                  "100%|██████████| 5/5 [00:04<00:00,  1.02it/s]\n"
               ]
            },
            {
               "name": "stdout",
               "output_type": "stream",
               "text": [
                  "get transaction stats av. network\n"
               ]
            },
            {
               "name": "stderr",
               "output_type": "stream",
               "text": [
                  "100%|██████████| 1500/1500 [00:07<00:00, 189.58it/s]\n"
               ]
            },
            {
               "name": "stdout",
               "output_type": "stream",
               "text": [
                  "get transaction stats av. bank\n"
               ]
            },
            {
               "name": "stderr",
               "output_type": "stream",
               "text": [
                  "100%|██████████| 1500/1500 [00:01<00:00, 927.03it/s]\n",
                  " 10%|▉         | 1999/19999 [08:03<33:44,  8.89it/s]    "
               ]
            },
            {
               "name": "stdout",
               "output_type": "stream",
               "text": [
                  "get df_rev_repo_trans\n"
               ]
            },
            {
               "name": "stderr",
               "output_type": "stream",
               "text": [
                  "100%|██████████| 50/50 [00:00<00:00, 927943.36it/s]\n"
               ]
            },
            {
               "name": "stdout",
               "output_type": "stream",
               "text": [
                  "get df_rev_repo_trans\n"
               ]
            },
            {
               "name": "stderr",
               "output_type": "stream",
               "text": [
                  "100%|██████████| 50/50 [00:00<00:00, 970903.70it/s]\n"
               ]
            },
            {
               "name": "stdout",
               "output_type": "stream",
               "text": [
                  "get arr_rev_repo_exp_adj\n"
               ]
            },
            {
               "name": "stderr",
               "output_type": "stream",
               "text": [
                  "68796it [01:25, 807.33it/s] \n"
               ]
            },
            {
               "name": "stdout",
               "output_type": "stream",
               "text": [
                  "get arr_binary_adj (numba)\n",
                  "get degree distribution\n"
               ]
            },
            {
               "name": "stderr",
               "output_type": "stream",
               "text": [
                  "100%|██████████| 2000/2000 [00:14<00:00, 141.44it/s]\n"
               ]
            },
            {
               "name": "stdout",
               "output_type": "stream",
               "text": [
                  "get jaccard\n"
               ]
            },
            {
               "name": "stderr",
               "output_type": "stream",
               "text": [
                  "100%|██████████| 1999/1999 [00:00<00:00, 4969.07it/s]\n"
               ]
            },
            {
               "name": "stdout",
               "output_type": "stream",
               "text": [
                  "get density\n"
               ]
            },
            {
               "name": "stderr",
               "output_type": "stream",
               "text": [
                  "100%|██████████| 1999/1999 [00:00<00:00, 5037.57it/s]\n"
               ]
            },
            {
               "name": "stdout",
               "output_type": "stream",
               "text": [
                  "get degree stats\n"
               ]
            },
            {
               "name": "stderr",
               "output_type": "stream",
               "text": [
                  "100%|██████████| 1999/1999 [00:01<00:00, 1711.77it/s]\n"
               ]
            },
            {
               "name": "stdout",
               "output_type": "stream",
               "text": [
                  "get exposure stats\n"
               ]
            },
            {
               "name": "stderr",
               "output_type": "stream",
               "text": [
                  "100%|██████████| 2001/2001 [00:00<00:00, 4834.11it/s]\n"
               ]
            },
            {
               "name": "stdout",
               "output_type": "stream",
               "text": [
                  "run core-periphery tests\n"
               ]
            },
            {
               "name": "stderr",
               "output_type": "stream",
               "text": []
            },
            {
               "name": "stdout",
               "output_type": "stream",
               "text": [
                  "core-periphery tests using the Lip approach\n",
                  "test on day 0\n"
               ]
            },
            {
               "name": "stderr",
               "output_type": "stream",
               "text": [
                  "\n",
                  "100%|██████████| 100/100 [00:00<00:00, 2753.87it/s]\n"
               ]
            },
            {
               "name": "stdout",
               "output_type": "stream",
               "text": [
                  "test on day 500\n"
               ]
            },
            {
               "name": "stderr",
               "output_type": "stream",
               "text": [
                  "\n",
                  "\u001b[A\n",
                  "\u001b[A\n",
                  "100%|██████████| 100/100 [00:00<00:00, 336.98it/s]\n"
               ]
            },
            {
               "name": "stdout",
               "output_type": "stream",
               "text": [
                  "test on day 1000\n"
               ]
            },
            {
               "name": "stderr",
               "output_type": "stream",
               "text": [
                  "\n",
                  "\u001b[A\n",
                  "\u001b[A\n",
                  "\u001b[A\n",
                  "100%|██████████| 100/100 [00:00<00:00, 325.18it/s]\n"
               ]
            },
            {
               "name": "stdout",
               "output_type": "stream",
               "text": [
                  "test on day 1500\n"
               ]
            },
            {
               "name": "stderr",
               "output_type": "stream",
               "text": [
                  "\n",
                  "\u001b[A\n",
                  "\u001b[A\n",
                  "\u001b[A\n",
                  "100%|██████████| 100/100 [00:00<00:00, 327.33it/s]\n"
               ]
            },
            {
               "name": "stdout",
               "output_type": "stream",
               "text": [
                  "test on day 2000\n"
               ]
            },
            {
               "name": "stderr",
               "output_type": "stream",
               "text": [
                  "\n",
                  "\u001b[A\n",
                  "\u001b[A\n",
                  "100%|██████████| 100/100 [00:01<00:00, 52.61it/s]\n"
               ]
            },
            {
               "name": "stdout",
               "output_type": "stream",
               "text": [
                  "core-periphery tests using the Lip approach\n",
                  "test on day 0\n"
               ]
            },
            {
               "name": "stderr",
               "output_type": "stream",
               "text": [
                  "\n",
                  "100%|██████████| 100/100 [00:00<00:00, 2855.70it/s]\n"
               ]
            },
            {
               "name": "stdout",
               "output_type": "stream",
               "text": [
                  "test on day 500\n"
               ]
            },
            {
               "name": "stderr",
               "output_type": "stream",
               "text": [
                  "\n",
                  "\u001b[A\n",
                  "\u001b[A\n",
                  "100%|██████████| 100/100 [00:00<00:00, 338.89it/s]\n"
               ]
            },
            {
               "name": "stdout",
               "output_type": "stream",
               "text": [
                  "test on day 1000\n"
               ]
            },
            {
               "name": "stderr",
               "output_type": "stream",
               "text": [
                  "\n",
                  "\u001b[A\n",
                  "\u001b[A\n",
                  "\u001b[A\n",
                  "100%|██████████| 100/100 [00:00<00:00, 325.13it/s]\n"
               ]
            },
            {
               "name": "stdout",
               "output_type": "stream",
               "text": [
                  "test on day 1500\n"
               ]
            },
            {
               "name": "stderr",
               "output_type": "stream",
               "text": [
                  "\n",
                  "\u001b[A\n",
                  "\u001b[A\n",
                  "100%|██████████| 100/100 [00:00<00:00, 328.52it/s]\n"
               ]
            },
            {
               "name": "stdout",
               "output_type": "stream",
               "text": [
                  "test on day 2000\n"
               ]
            },
            {
               "name": "stderr",
               "output_type": "stream",
               "text": [
                  "\n",
                  "\u001b[A\n",
                  "\u001b[A\n",
                  "100%|██████████| 100/100 [00:00<00:00, 329.47it/s]\n"
               ]
            },
            {
               "name": "stdout",
               "output_type": "stream",
               "text": [
                  "core-periphery tests using the Lip approach\n",
                  "test on day 0\n"
               ]
            },
            {
               "name": "stderr",
               "output_type": "stream",
               "text": [
                  "\n",
                  "100%|██████████| 100/100 [00:00<00:00, 2867.57it/s]\n"
               ]
            },
            {
               "name": "stdout",
               "output_type": "stream",
               "text": [
                  "test on day 500\n"
               ]
            },
            {
               "name": "stderr",
               "output_type": "stream",
               "text": [
                  "\n",
                  "\u001b[A\n",
                  "\u001b[A\n",
                  "100%|██████████| 100/100 [00:00<00:00, 336.89it/s]\n"
               ]
            },
            {
               "name": "stdout",
               "output_type": "stream",
               "text": [
                  "test on day 1000\n"
               ]
            },
            {
               "name": "stderr",
               "output_type": "stream",
               "text": [
                  "\n",
                  "\u001b[A\n",
                  "\u001b[A\n",
                  "\u001b[A\n",
                  "100%|██████████| 100/100 [00:00<00:00, 318.61it/s]\n"
               ]
            },
            {
               "name": "stdout",
               "output_type": "stream",
               "text": [
                  "test on day 1500\n"
               ]
            },
            {
               "name": "stderr",
               "output_type": "stream",
               "text": [
                  "\n",
                  "\u001b[A\n",
                  "\u001b[A\n",
                  "\u001b[A\n",
                  "100%|██████████| 100/100 [00:00<00:00, 323.65it/s]\n"
               ]
            },
            {
               "name": "stdout",
               "output_type": "stream",
               "text": [
                  "test on day 2000\n"
               ]
            },
            {
               "name": "stderr",
               "output_type": "stream",
               "text": [
                  "\n",
                  "\u001b[A\n",
                  "\u001b[A\n",
                  "100%|██████████| 100/100 [00:00<00:00, 330.10it/s]\n"
               ]
            },
            {
               "name": "stdout",
               "output_type": "stream",
               "text": [
                  "core-periphery tests using the Lip approach\n",
                  "test on day 0\n"
               ]
            },
            {
               "name": "stderr",
               "output_type": "stream",
               "text": [
                  "\n",
                  "100%|██████████| 100/100 [00:00<00:00, 2874.46it/s]\n"
               ]
            },
            {
               "name": "stdout",
               "output_type": "stream",
               "text": [
                  "test on day 500\n"
               ]
            },
            {
               "name": "stderr",
               "output_type": "stream",
               "text": [
                  "\n",
                  "\u001b[A\n",
                  "\u001b[A\n",
                  "100%|██████████| 100/100 [00:00<00:00, 335.11it/s]\n"
               ]
            },
            {
               "name": "stdout",
               "output_type": "stream",
               "text": [
                  "test on day 1000\n"
               ]
            },
            {
               "name": "stderr",
               "output_type": "stream",
               "text": [
                  "\n",
                  "\u001b[A\n",
                  "\u001b[A\n",
                  "\u001b[A\n",
                  "100%|██████████| 100/100 [00:00<00:00, 319.33it/s]\n"
               ]
            },
            {
               "name": "stdout",
               "output_type": "stream",
               "text": [
                  "test on day 1500\n"
               ]
            },
            {
               "name": "stderr",
               "output_type": "stream",
               "text": [
                  "\n",
                  "\u001b[A\n",
                  "\u001b[A\n",
                  "\u001b[A\n",
                  "100%|██████████| 100/100 [00:00<00:00, 325.23it/s]\n"
               ]
            },
            {
               "name": "stdout",
               "output_type": "stream",
               "text": [
                  "test on day 2000\n"
               ]
            },
            {
               "name": "stderr",
               "output_type": "stream",
               "text": [
                  "\n",
                  "\u001b[A\n",
                  "\u001b[A\n",
                  "100%|██████████| 100/100 [00:00<00:00, 329.50it/s]\n"
               ]
            },
            {
               "name": "stdout",
               "output_type": "stream",
               "text": [
                  "core-periphery tests using the Lip approach\n",
                  "test on day 0\n"
               ]
            },
            {
               "name": "stderr",
               "output_type": "stream",
               "text": [
                  "\n",
                  "100%|██████████| 100/100 [00:00<00:00, 1824.33it/s]\n"
               ]
            },
            {
               "name": "stdout",
               "output_type": "stream",
               "text": [
                  "test on day 500\n"
               ]
            },
            {
               "name": "stderr",
               "output_type": "stream",
               "text": [
                  "\n",
                  "\u001b[A\n",
                  "\u001b[A\n",
                  "100%|██████████| 100/100 [00:00<00:00, 340.13it/s]\n"
               ]
            },
            {
               "name": "stdout",
               "output_type": "stream",
               "text": [
                  "test on day 1000\n"
               ]
            },
            {
               "name": "stderr",
               "output_type": "stream",
               "text": [
                  "\n",
                  "\u001b[A\n",
                  "\u001b[A\n",
                  "\u001b[A\n",
                  "100%|██████████| 100/100 [00:00<00:00, 321.25it/s]\n"
               ]
            },
            {
               "name": "stdout",
               "output_type": "stream",
               "text": [
                  "test on day 1500\n"
               ]
            },
            {
               "name": "stderr",
               "output_type": "stream",
               "text": [
                  "\n",
                  "\u001b[A\n",
                  "\u001b[A\n",
                  "\u001b[A\n",
                  "100%|██████████| 100/100 [00:00<00:00, 323.13it/s]\n"
               ]
            },
            {
               "name": "stdout",
               "output_type": "stream",
               "text": [
                  "test on day 2000\n"
               ]
            },
            {
               "name": "stderr",
               "output_type": "stream",
               "text": [
                  "\n",
                  "\u001b[A\n",
                  "\u001b[A\n",
                  "100%|██████████| 100/100 [00:00<00:00, 329.78it/s]\n",
                  "100%|██████████| 5/5 [00:08<00:00,  1.73s/it]\n"
               ]
            },
            {
               "name": "stdout",
               "output_type": "stream",
               "text": [
                  "get transaction stats av. network\n"
               ]
            },
            {
               "name": "stderr",
               "output_type": "stream",
               "text": [
                  "100%|██████████| 2000/2000 [00:13<00:00, 148.69it/s]\n"
               ]
            },
            {
               "name": "stdout",
               "output_type": "stream",
               "text": [
                  "get transaction stats av. bank\n"
               ]
            },
            {
               "name": "stderr",
               "output_type": "stream",
               "text": [
                  "100%|██████████| 2000/2000 [00:02<00:00, 894.32it/s]\n",
                  " 12%|█▏        | 2499/19999 [12:14<32:27,  8.98it/s]    "
               ]
            },
            {
               "name": "stdout",
               "output_type": "stream",
               "text": [
                  "get df_rev_repo_trans\n"
               ]
            },
            {
               "name": "stderr",
               "output_type": "stream",
               "text": [
                  "100%|██████████| 50/50 [00:00<00:00, 773856.83it/s]\n"
               ]
            },
            {
               "name": "stdout",
               "output_type": "stream",
               "text": [
                  "get df_rev_repo_trans\n"
               ]
            },
            {
               "name": "stderr",
               "output_type": "stream",
               "text": [
                  "100%|██████████| 50/50 [00:00<00:00, 966429.49it/s]\n"
               ]
            },
            {
               "name": "stdout",
               "output_type": "stream",
               "text": [
                  "get arr_rev_repo_exp_adj\n"
               ]
            },
            {
               "name": "stderr",
               "output_type": "stream",
               "text": [
                  "85695it [01:49, 782.06it/s] \n"
               ]
            },
            {
               "name": "stdout",
               "output_type": "stream",
               "text": [
                  "get arr_binary_adj (numba)\n",
                  "get degree distribution\n"
               ]
            },
            {
               "name": "stderr",
               "output_type": "stream",
               "text": [
                  "100%|██████████| 2500/2500 [00:18<00:00, 134.46it/s]\n"
               ]
            },
            {
               "name": "stdout",
               "output_type": "stream",
               "text": [
                  "get jaccard\n"
               ]
            },
            {
               "name": "stderr",
               "output_type": "stream",
               "text": [
                  "100%|██████████| 2499/2499 [00:00<00:00, 4909.48it/s]\n"
               ]
            },
            {
               "name": "stdout",
               "output_type": "stream",
               "text": [
                  "get density\n"
               ]
            },
            {
               "name": "stderr",
               "output_type": "stream",
               "text": [
                  "100%|██████████| 2499/2499 [00:00<00:00, 4974.68it/s]\n"
               ]
            },
            {
               "name": "stdout",
               "output_type": "stream",
               "text": [
                  "get degree stats\n"
               ]
            },
            {
               "name": "stderr",
               "output_type": "stream",
               "text": [
                  "100%|██████████| 2499/2499 [00:01<00:00, 1722.29it/s]\n"
               ]
            },
            {
               "name": "stdout",
               "output_type": "stream",
               "text": [
                  "get exposure stats\n"
               ]
            },
            {
               "name": "stderr",
               "output_type": "stream",
               "text": [
                  "100%|██████████| 2501/2501 [00:00<00:00, 4826.89it/s]\n"
               ]
            },
            {
               "name": "stdout",
               "output_type": "stream",
               "text": [
                  "run core-periphery tests\n"
               ]
            },
            {
               "name": "stderr",
               "output_type": "stream",
               "text": []
            },
            {
               "name": "stdout",
               "output_type": "stream",
               "text": [
                  "core-periphery tests using the Lip approach\n",
                  "test on day 0\n"
               ]
            },
            {
               "name": "stderr",
               "output_type": "stream",
               "text": [
                  "\n",
                  "100%|██████████| 100/100 [00:00<00:00, 2809.92it/s]\n"
               ]
            },
            {
               "name": "stdout",
               "output_type": "stream",
               "text": [
                  "test on day 500\n"
               ]
            },
            {
               "name": "stderr",
               "output_type": "stream",
               "text": [
                  "\n",
                  "\u001b[A\n",
                  "\u001b[A\n",
                  "100%|██████████| 100/100 [00:00<00:00, 336.61it/s]\n"
               ]
            },
            {
               "name": "stdout",
               "output_type": "stream",
               "text": [
                  "test on day 1000\n"
               ]
            },
            {
               "name": "stderr",
               "output_type": "stream",
               "text": [
                  "\n",
                  "\u001b[A\n",
                  "\u001b[A\n",
                  "\u001b[A\n",
                  "100%|██████████| 100/100 [00:02<00:00, 38.42it/s]\n"
               ]
            },
            {
               "name": "stdout",
               "output_type": "stream",
               "text": [
                  "test on day 1500\n"
               ]
            },
            {
               "name": "stderr",
               "output_type": "stream",
               "text": [
                  "\n",
                  "\u001b[A\n",
                  "\u001b[A\n",
                  "\u001b[A\n",
                  "100%|██████████| 100/100 [00:00<00:00, 325.07it/s]\n"
               ]
            },
            {
               "name": "stdout",
               "output_type": "stream",
               "text": [
                  "test on day 2000\n"
               ]
            },
            {
               "name": "stderr",
               "output_type": "stream",
               "text": [
                  "\n",
                  "\u001b[A\n",
                  "\u001b[A\n",
                  "100%|██████████| 100/100 [00:00<00:00, 331.39it/s]\n"
               ]
            },
            {
               "name": "stdout",
               "output_type": "stream",
               "text": [
                  "test on day 2500\n"
               ]
            },
            {
               "name": "stderr",
               "output_type": "stream",
               "text": [
                  "\n",
                  "\u001b[A\n",
                  "\u001b[A\n",
                  "100%|██████████| 100/100 [00:00<00:00, 332.22it/s]\n"
               ]
            },
            {
               "name": "stdout",
               "output_type": "stream",
               "text": [
                  "core-periphery tests using the Lip approach\n",
                  "test on day 0\n"
               ]
            },
            {
               "name": "stderr",
               "output_type": "stream",
               "text": [
                  "\n",
                  "100%|██████████| 100/100 [00:00<00:00, 2888.26it/s]\n"
               ]
            },
            {
               "name": "stdout",
               "output_type": "stream",
               "text": [
                  "test on day 500\n"
               ]
            },
            {
               "name": "stderr",
               "output_type": "stream",
               "text": [
                  "\n",
                  "\u001b[A\n",
                  "\u001b[A\n",
                  "100%|██████████| 100/100 [00:00<00:00, 336.62it/s]\n"
               ]
            },
            {
               "name": "stdout",
               "output_type": "stream",
               "text": [
                  "test on day 1000\n"
               ]
            },
            {
               "name": "stderr",
               "output_type": "stream",
               "text": [
                  "\n",
                  "\u001b[A\n",
                  "\u001b[A\n",
                  "\u001b[A\n",
                  "100%|██████████| 100/100 [00:00<00:00, 321.36it/s]\n"
               ]
            },
            {
               "name": "stdout",
               "output_type": "stream",
               "text": [
                  "test on day 1500\n"
               ]
            },
            {
               "name": "stderr",
               "output_type": "stream",
               "text": [
                  "\n",
                  "\u001b[A\n",
                  "\u001b[A\n",
                  "\u001b[A\n",
                  "100%|██████████| 100/100 [00:00<00:00, 323.44it/s]\n"
               ]
            },
            {
               "name": "stdout",
               "output_type": "stream",
               "text": [
                  "test on day 2000\n"
               ]
            },
            {
               "name": "stderr",
               "output_type": "stream",
               "text": [
                  "\n",
                  "\u001b[A\n",
                  "\u001b[A\n",
                  "100%|██████████| 100/100 [00:00<00:00, 328.69it/s]\n"
               ]
            },
            {
               "name": "stdout",
               "output_type": "stream",
               "text": [
                  "test on day 2500\n"
               ]
            },
            {
               "name": "stderr",
               "output_type": "stream",
               "text": [
                  "\n",
                  "\u001b[A\n",
                  "\u001b[A\n",
                  "100%|██████████| 100/100 [00:00<00:00, 330.91it/s]\n"
               ]
            },
            {
               "name": "stdout",
               "output_type": "stream",
               "text": [
                  "core-periphery tests using the Lip approach\n",
                  "test on day 0\n"
               ]
            },
            {
               "name": "stderr",
               "output_type": "stream",
               "text": [
                  "\n",
                  "100%|██████████| 100/100 [00:00<00:00, 2851.64it/s]\n"
               ]
            },
            {
               "name": "stdout",
               "output_type": "stream",
               "text": [
                  "test on day 500\n"
               ]
            },
            {
               "name": "stderr",
               "output_type": "stream",
               "text": [
                  "\n",
                  "\u001b[A\n",
                  "\u001b[A\n",
                  "100%|██████████| 100/100 [00:00<00:00, 335.89it/s]\n"
               ]
            },
            {
               "name": "stdout",
               "output_type": "stream",
               "text": [
                  "test on day 1000\n"
               ]
            },
            {
               "name": "stderr",
               "output_type": "stream",
               "text": [
                  "\n",
                  "\u001b[A\n",
                  "\u001b[A\n",
                  "\u001b[A\n",
                  "100%|██████████| 100/100 [00:00<00:00, 320.62it/s]\n"
               ]
            },
            {
               "name": "stdout",
               "output_type": "stream",
               "text": [
                  "test on day 1500\n"
               ]
            },
            {
               "name": "stderr",
               "output_type": "stream",
               "text": [
                  "\n",
                  "\u001b[A\n",
                  "\u001b[A\n",
                  "\u001b[A\n",
                  "100%|██████████| 100/100 [00:00<00:00, 323.58it/s]\n"
               ]
            },
            {
               "name": "stdout",
               "output_type": "stream",
               "text": [
                  "test on day 2000\n"
               ]
            },
            {
               "name": "stderr",
               "output_type": "stream",
               "text": [
                  "\n",
                  "\u001b[A\n",
                  "\u001b[A\n",
                  "100%|██████████| 100/100 [00:00<00:00, 329.43it/s]\n"
               ]
            },
            {
               "name": "stdout",
               "output_type": "stream",
               "text": [
                  "test on day 2500\n"
               ]
            },
            {
               "name": "stderr",
               "output_type": "stream",
               "text": [
                  "\n",
                  "\u001b[A\n",
                  "\u001b[A\n",
                  "100%|██████████| 100/100 [00:00<00:00, 329.45it/s]\n"
               ]
            },
            {
               "name": "stdout",
               "output_type": "stream",
               "text": [
                  "core-periphery tests using the Lip approach\n",
                  "test on day 0\n"
               ]
            },
            {
               "name": "stderr",
               "output_type": "stream",
               "text": [
                  "\n",
                  "100%|██████████| 100/100 [00:00<00:00, 2858.44it/s]\n"
               ]
            },
            {
               "name": "stdout",
               "output_type": "stream",
               "text": [
                  "test on day 500\n"
               ]
            },
            {
               "name": "stderr",
               "output_type": "stream",
               "text": [
                  "\n",
                  "\u001b[A\n",
                  "\u001b[A\n",
                  "100%|██████████| 100/100 [00:00<00:00, 333.91it/s]\n"
               ]
            },
            {
               "name": "stdout",
               "output_type": "stream",
               "text": [
                  "test on day 1000\n"
               ]
            },
            {
               "name": "stderr",
               "output_type": "stream",
               "text": [
                  "\n",
                  "\u001b[A\n",
                  "\u001b[A\n",
                  "\u001b[A\n",
                  "100%|██████████| 100/100 [00:00<00:00, 319.77it/s]\n"
               ]
            },
            {
               "name": "stdout",
               "output_type": "stream",
               "text": [
                  "test on day 1500\n"
               ]
            },
            {
               "name": "stderr",
               "output_type": "stream",
               "text": [
                  "\n",
                  "\u001b[A\n",
                  "\u001b[A\n",
                  "\u001b[A\n",
                  "100%|██████████| 100/100 [00:00<00:00, 324.27it/s]\n"
               ]
            },
            {
               "name": "stdout",
               "output_type": "stream",
               "text": [
                  "test on day 2000\n"
               ]
            },
            {
               "name": "stderr",
               "output_type": "stream",
               "text": [
                  "\n",
                  "\u001b[A\n",
                  "\u001b[A\n",
                  "\u001b[A\n",
                  "100%|██████████| 100/100 [00:00<00:00, 326.29it/s]\n"
               ]
            },
            {
               "name": "stdout",
               "output_type": "stream",
               "text": [
                  "test on day 2500\n"
               ]
            },
            {
               "name": "stderr",
               "output_type": "stream",
               "text": [
                  "\n",
                  "\u001b[A\n",
                  "\u001b[A\n",
                  "100%|██████████| 100/100 [00:00<00:00, 329.14it/s]\n"
               ]
            },
            {
               "name": "stdout",
               "output_type": "stream",
               "text": [
                  "core-periphery tests using the Lip approach\n",
                  "test on day 0\n"
               ]
            },
            {
               "name": "stderr",
               "output_type": "stream",
               "text": [
                  "\n",
                  "100%|██████████| 100/100 [00:00<00:00, 1854.39it/s]\n"
               ]
            },
            {
               "name": "stdout",
               "output_type": "stream",
               "text": [
                  "test on day 500\n"
               ]
            },
            {
               "name": "stderr",
               "output_type": "stream",
               "text": [
                  "\n",
                  "\u001b[A\n",
                  "\u001b[A\n",
                  "100%|██████████| 100/100 [00:00<00:00, 338.05it/s]\n"
               ]
            },
            {
               "name": "stdout",
               "output_type": "stream",
               "text": [
                  "test on day 1000\n"
               ]
            },
            {
               "name": "stderr",
               "output_type": "stream",
               "text": [
                  "\n",
                  "\u001b[A\n",
                  "\u001b[A\n",
                  "\u001b[A\n",
                  "100%|██████████| 100/100 [00:00<00:00, 320.07it/s]\n"
               ]
            },
            {
               "name": "stdout",
               "output_type": "stream",
               "text": [
                  "test on day 1500\n"
               ]
            },
            {
               "name": "stderr",
               "output_type": "stream",
               "text": [
                  "\n",
                  "\u001b[A\n",
                  "\u001b[A\n",
                  "\u001b[A\n",
                  "100%|██████████| 100/100 [00:00<00:00, 321.73it/s]\n"
               ]
            },
            {
               "name": "stdout",
               "output_type": "stream",
               "text": [
                  "test on day 2000\n"
               ]
            },
            {
               "name": "stderr",
               "output_type": "stream",
               "text": [
                  "\n",
                  "\u001b[A\n",
                  "\u001b[A\n",
                  "\u001b[A\n",
                  "100%|██████████| 100/100 [00:00<00:00, 327.16it/s]\n"
               ]
            },
            {
               "name": "stdout",
               "output_type": "stream",
               "text": [
                  "test on day 2500\n"
               ]
            },
            {
               "name": "stderr",
               "output_type": "stream",
               "text": [
                  "\n",
                  "\u001b[A\n",
                  "\u001b[A\n",
                  "\u001b[A\n",
                  "100%|██████████| 100/100 [00:00<00:00, 326.76it/s]\n",
                  "100%|██████████| 5/5 [00:10<00:00,  2.09s/it]\n"
               ]
            },
            {
               "name": "stdout",
               "output_type": "stream",
               "text": [
                  "get transaction stats av. network\n"
               ]
            },
            {
               "name": "stderr",
               "output_type": "stream",
               "text": [
                  "100%|██████████| 2500/2500 [00:20<00:00, 124.65it/s]\n"
               ]
            },
            {
               "name": "stdout",
               "output_type": "stream",
               "text": [
                  "get transaction stats av. bank\n"
               ]
            },
            {
               "name": "stderr",
               "output_type": "stream",
               "text": [
                  "100%|██████████| 2500/2500 [00:02<00:00, 864.31it/s]\n",
                  " 15%|█▍        | 2999/19999 [17:15<29:41,  9.54it/s]    "
               ]
            },
            {
               "name": "stdout",
               "output_type": "stream",
               "text": [
                  "get df_rev_repo_trans\n"
               ]
            },
            {
               "name": "stderr",
               "output_type": "stream",
               "text": [
                  "100%|██████████| 50/50 [00:00<00:00, 828913.83it/s]\n"
               ]
            },
            {
               "name": "stdout",
               "output_type": "stream",
               "text": [
                  "get df_rev_repo_trans\n"
               ]
            },
            {
               "name": "stderr",
               "output_type": "stream",
               "text": [
                  "100%|██████████| 50/50 [00:00<00:00, 892405.11it/s]\n"
               ]
            },
            {
               "name": "stdout",
               "output_type": "stream",
               "text": [
                  "get arr_rev_repo_exp_adj\n"
               ]
            },
            {
               "name": "stderr",
               "output_type": "stream",
               "text": [
                  "101843it [02:13, 764.71it/s] \n"
               ]
            },
            {
               "name": "stdout",
               "output_type": "stream",
               "text": [
                  "get arr_binary_adj (numba)\n",
                  "get degree distribution\n"
               ]
            },
            {
               "name": "stderr",
               "output_type": "stream",
               "text": [
                  "100%|██████████| 3000/3000 [00:23<00:00, 130.11it/s]\n"
               ]
            },
            {
               "name": "stdout",
               "output_type": "stream",
               "text": [
                  "get jaccard\n"
               ]
            },
            {
               "name": "stderr",
               "output_type": "stream",
               "text": [
                  "100%|██████████| 2999/2999 [00:00<00:00, 4917.31it/s]\n"
               ]
            },
            {
               "name": "stdout",
               "output_type": "stream",
               "text": [
                  "get density\n"
               ]
            },
            {
               "name": "stderr",
               "output_type": "stream",
               "text": [
                  "100%|██████████| 2999/2999 [00:00<00:00, 5043.09it/s]\n"
               ]
            },
            {
               "name": "stdout",
               "output_type": "stream",
               "text": [
                  "get degree stats\n"
               ]
            },
            {
               "name": "stderr",
               "output_type": "stream",
               "text": [
                  "100%|██████████| 2999/2999 [00:01<00:00, 1719.47it/s]\n"
               ]
            },
            {
               "name": "stdout",
               "output_type": "stream",
               "text": [
                  "get exposure stats\n"
               ]
            },
            {
               "name": "stderr",
               "output_type": "stream",
               "text": [
                  "100%|██████████| 3001/3001 [00:00<00:00, 4836.84it/s]\n"
               ]
            },
            {
               "name": "stdout",
               "output_type": "stream",
               "text": [
                  "run core-periphery tests\n"
               ]
            },
            {
               "name": "stderr",
               "output_type": "stream",
               "text": []
            },
            {
               "name": "stdout",
               "output_type": "stream",
               "text": [
                  "core-periphery tests using the Lip approach\n",
                  "test on day 0\n"
               ]
            },
            {
               "name": "stderr",
               "output_type": "stream",
               "text": [
                  "\n",
                  "100%|██████████| 100/100 [00:00<00:00, 2860.90it/s]\n"
               ]
            },
            {
               "name": "stdout",
               "output_type": "stream",
               "text": [
                  "test on day 500\n"
               ]
            },
            {
               "name": "stderr",
               "output_type": "stream",
               "text": [
                  "\n",
                  "\u001b[A\n",
                  "\u001b[A\n",
                  "100%|██████████| 100/100 [00:00<00:00, 337.52it/s]\n"
               ]
            },
            {
               "name": "stdout",
               "output_type": "stream",
               "text": [
                  "test on day 1000\n"
               ]
            },
            {
               "name": "stderr",
               "output_type": "stream",
               "text": [
                  "\n",
                  "\u001b[A\n",
                  "\u001b[A\n",
                  "\u001b[A\n",
                  "100%|██████████| 100/100 [00:00<00:00, 326.14it/s]\n"
               ]
            },
            {
               "name": "stdout",
               "output_type": "stream",
               "text": [
                  "test on day 1500\n"
               ]
            },
            {
               "name": "stderr",
               "output_type": "stream",
               "text": [
                  "\n",
                  "\u001b[A\n",
                  "\u001b[A\n",
                  "\u001b[A\n",
                  "100%|██████████| 100/100 [00:00<00:00, 326.21it/s]\n"
               ]
            },
            {
               "name": "stdout",
               "output_type": "stream",
               "text": [
                  "test on day 2000\n"
               ]
            },
            {
               "name": "stderr",
               "output_type": "stream",
               "text": [
                  "\n",
                  "\u001b[A\n",
                  "\u001b[A\n",
                  "100%|██████████| 100/100 [00:00<00:00, 332.65it/s]\n"
               ]
            },
            {
               "name": "stdout",
               "output_type": "stream",
               "text": [
                  "test on day 2500\n"
               ]
            },
            {
               "name": "stderr",
               "output_type": "stream",
               "text": [
                  "\n",
                  "\u001b[A\n",
                  "\u001b[A\n",
                  "100%|██████████| 100/100 [00:00<00:00, 332.95it/s]\n"
               ]
            },
            {
               "name": "stdout",
               "output_type": "stream",
               "text": [
                  "test on day 3000\n"
               ]
            },
            {
               "name": "stderr",
               "output_type": "stream",
               "text": [
                  "\n",
                  "\u001b[A\n",
                  "\u001b[A\n",
                  "100%|██████████| 100/100 [00:00<00:00, 307.44it/s]\n"
               ]
            },
            {
               "name": "stdout",
               "output_type": "stream",
               "text": [
                  "core-periphery tests using the Lip approach\n",
                  "test on day 0\n"
               ]
            },
            {
               "name": "stderr",
               "output_type": "stream",
               "text": [
                  "\n",
                  "100%|██████████| 100/100 [00:00<00:00, 2868.63it/s]\n"
               ]
            },
            {
               "name": "stdout",
               "output_type": "stream",
               "text": [
                  "test on day 500\n"
               ]
            },
            {
               "name": "stderr",
               "output_type": "stream",
               "text": [
                  "\n",
                  "\u001b[A\n",
                  "\u001b[A\n",
                  "100%|██████████| 100/100 [00:00<00:00, 338.38it/s]\n"
               ]
            },
            {
               "name": "stdout",
               "output_type": "stream",
               "text": [
                  "test on day 1000\n"
               ]
            },
            {
               "name": "stderr",
               "output_type": "stream",
               "text": [
                  "\n",
                  "\u001b[A\n",
                  "\u001b[A\n",
                  "\u001b[A\n",
                  "100%|██████████| 100/100 [00:00<00:00, 322.71it/s]\n"
               ]
            },
            {
               "name": "stdout",
               "output_type": "stream",
               "text": [
                  "test on day 1500\n"
               ]
            },
            {
               "name": "stderr",
               "output_type": "stream",
               "text": [
                  "\n",
                  "\u001b[A\n",
                  "\u001b[A\n",
                  "100%|██████████| 100/100 [00:00<00:00, 327.40it/s]\n"
               ]
            },
            {
               "name": "stdout",
               "output_type": "stream",
               "text": [
                  "test on day 2000\n"
               ]
            },
            {
               "name": "stderr",
               "output_type": "stream",
               "text": [
                  "\n",
                  "\u001b[A\n",
                  "\u001b[A\n",
                  "100%|██████████| 100/100 [00:00<00:00, 331.38it/s]\n"
               ]
            },
            {
               "name": "stdout",
               "output_type": "stream",
               "text": [
                  "test on day 2500\n"
               ]
            },
            {
               "name": "stderr",
               "output_type": "stream",
               "text": [
                  "\n",
                  "\u001b[A\n",
                  "\u001b[A\n",
                  "100%|██████████| 100/100 [00:00<00:00, 332.66it/s]\n"
               ]
            },
            {
               "name": "stdout",
               "output_type": "stream",
               "text": [
                  "test on day 3000\n"
               ]
            },
            {
               "name": "stderr",
               "output_type": "stream",
               "text": [
                  "\n",
                  "\u001b[A\n",
                  "\u001b[A\n",
                  "100%|██████████| 100/100 [00:00<00:00, 333.36it/s]\n"
               ]
            },
            {
               "name": "stdout",
               "output_type": "stream",
               "text": [
                  "core-periphery tests using the Lip approach\n",
                  "test on day 0\n"
               ]
            },
            {
               "name": "stderr",
               "output_type": "stream",
               "text": [
                  "\n",
                  "100%|██████████| 100/100 [00:00<00:00, 2852.94it/s]\n"
               ]
            },
            {
               "name": "stdout",
               "output_type": "stream",
               "text": [
                  "test on day 500\n"
               ]
            },
            {
               "name": "stderr",
               "output_type": "stream",
               "text": [
                  "\n",
                  "\u001b[A\n",
                  "\u001b[A\n",
                  "100%|██████████| 100/100 [00:00<00:00, 338.56it/s]\n"
               ]
            },
            {
               "name": "stdout",
               "output_type": "stream",
               "text": [
                  "test on day 1000\n"
               ]
            },
            {
               "name": "stderr",
               "output_type": "stream",
               "text": [
                  "\n",
                  "\u001b[A\n",
                  "\u001b[A\n",
                  "\u001b[A\n",
                  "100%|██████████| 100/100 [00:00<00:00, 321.66it/s]\n"
               ]
            },
            {
               "name": "stdout",
               "output_type": "stream",
               "text": [
                  "test on day 1500\n"
               ]
            },
            {
               "name": "stderr",
               "output_type": "stream",
               "text": [
                  "\n",
                  "\u001b[A\n",
                  "\u001b[A\n",
                  "\u001b[A\n",
                  "100%|██████████| 100/100 [00:00<00:00, 324.97it/s]\n"
               ]
            },
            {
               "name": "stdout",
               "output_type": "stream",
               "text": [
                  "test on day 2000\n"
               ]
            },
            {
               "name": "stderr",
               "output_type": "stream",
               "text": [
                  "\n",
                  "\u001b[A\n",
                  "\u001b[A\n",
                  "100%|██████████| 100/100 [00:00<00:00, 330.83it/s]\n"
               ]
            },
            {
               "name": "stdout",
               "output_type": "stream",
               "text": [
                  "test on day 2500\n"
               ]
            },
            {
               "name": "stderr",
               "output_type": "stream",
               "text": [
                  "\n",
                  "\u001b[A\n",
                  "\u001b[A\n",
                  "100%|██████████| 100/100 [00:00<00:00, 330.80it/s]\n"
               ]
            },
            {
               "name": "stdout",
               "output_type": "stream",
               "text": [
                  "test on day 3000\n"
               ]
            },
            {
               "name": "stderr",
               "output_type": "stream",
               "text": [
                  "\n",
                  "\u001b[A\n",
                  "\u001b[A\n",
                  "100%|██████████| 100/100 [00:00<00:00, 332.97it/s]\n"
               ]
            },
            {
               "name": "stdout",
               "output_type": "stream",
               "text": [
                  "core-periphery tests using the Lip approach\n",
                  "test on day 0\n"
               ]
            },
            {
               "name": "stderr",
               "output_type": "stream",
               "text": [
                  "\n",
                  "100%|██████████| 100/100 [00:00<00:00, 2820.72it/s]\n"
               ]
            },
            {
               "name": "stdout",
               "output_type": "stream",
               "text": [
                  "test on day 500\n"
               ]
            },
            {
               "name": "stderr",
               "output_type": "stream",
               "text": [
                  "\n",
                  "\u001b[A\n",
                  "\u001b[A\n",
                  "100%|██████████| 100/100 [00:00<00:00, 337.97it/s]\n"
               ]
            },
            {
               "name": "stdout",
               "output_type": "stream",
               "text": [
                  "test on day 1000\n"
               ]
            },
            {
               "name": "stderr",
               "output_type": "stream",
               "text": [
                  "\n",
                  "\u001b[A\n",
                  "\u001b[A\n",
                  "\u001b[A\n",
                  "100%|██████████| 100/100 [00:00<00:00, 319.75it/s]\n"
               ]
            },
            {
               "name": "stdout",
               "output_type": "stream",
               "text": [
                  "test on day 1500\n"
               ]
            },
            {
               "name": "stderr",
               "output_type": "stream",
               "text": [
                  "\n",
                  "\u001b[A\n",
                  "\u001b[A\n",
                  "\u001b[A\n",
                  "100%|██████████| 100/100 [00:00<00:00, 326.61it/s]\n"
               ]
            },
            {
               "name": "stdout",
               "output_type": "stream",
               "text": [
                  "test on day 2000\n"
               ]
            },
            {
               "name": "stderr",
               "output_type": "stream",
               "text": [
                  "\n",
                  "\u001b[A\n",
                  "\u001b[A\n",
                  "100%|██████████| 100/100 [00:00<00:00, 330.26it/s]\n"
               ]
            },
            {
               "name": "stdout",
               "output_type": "stream",
               "text": [
                  "test on day 2500\n"
               ]
            },
            {
               "name": "stderr",
               "output_type": "stream",
               "text": [
                  "\n",
                  "\u001b[A\n",
                  "\u001b[A\n",
                  "100%|██████████| 100/100 [00:00<00:00, 331.38it/s]\n"
               ]
            },
            {
               "name": "stdout",
               "output_type": "stream",
               "text": [
                  "test on day 3000\n"
               ]
            },
            {
               "name": "stderr",
               "output_type": "stream",
               "text": [
                  "\n",
                  "\u001b[A\n",
                  "\u001b[A\n",
                  "100%|██████████| 100/100 [00:00<00:00, 329.76it/s]\n"
               ]
            },
            {
               "name": "stdout",
               "output_type": "stream",
               "text": [
                  "core-periphery tests using the Lip approach\n",
                  "test on day 0\n"
               ]
            },
            {
               "name": "stderr",
               "output_type": "stream",
               "text": [
                  "\n",
                  "100%|██████████| 100/100 [00:00<00:00, 1823.52it/s]\n"
               ]
            },
            {
               "name": "stdout",
               "output_type": "stream",
               "text": [
                  "test on day 500\n"
               ]
            },
            {
               "name": "stderr",
               "output_type": "stream",
               "text": [
                  "\n",
                  "\u001b[A\n",
                  "\u001b[A\n",
                  "100%|██████████| 100/100 [00:00<00:00, 339.60it/s]\n"
               ]
            },
            {
               "name": "stdout",
               "output_type": "stream",
               "text": [
                  "test on day 1000\n"
               ]
            },
            {
               "name": "stderr",
               "output_type": "stream",
               "text": [
                  "\n",
                  "\u001b[A\n",
                  "\u001b[A\n",
                  "\u001b[A\n",
                  "100%|██████████| 100/100 [00:00<00:00, 322.48it/s]\n"
               ]
            },
            {
               "name": "stdout",
               "output_type": "stream",
               "text": [
                  "test on day 1500\n"
               ]
            },
            {
               "name": "stderr",
               "output_type": "stream",
               "text": [
                  "\n",
                  "\u001b[A\n",
                  "\u001b[A\n",
                  "\u001b[A\n",
                  "100%|██████████| 100/100 [00:00<00:00, 325.21it/s]\n"
               ]
            },
            {
               "name": "stdout",
               "output_type": "stream",
               "text": [
                  "test on day 2000\n"
               ]
            },
            {
               "name": "stderr",
               "output_type": "stream",
               "text": [
                  "\n",
                  "\u001b[A\n",
                  "\u001b[A\n",
                  "100%|██████████| 100/100 [00:00<00:00, 329.48it/s]\n"
               ]
            },
            {
               "name": "stdout",
               "output_type": "stream",
               "text": [
                  "test on day 2500\n"
               ]
            },
            {
               "name": "stderr",
               "output_type": "stream",
               "text": [
                  "\n",
                  "\u001b[A\n",
                  "\u001b[A\n",
                  "100%|██████████| 100/100 [00:00<00:00, 330.75it/s]\n"
               ]
            },
            {
               "name": "stdout",
               "output_type": "stream",
               "text": [
                  "test on day 3000\n"
               ]
            },
            {
               "name": "stderr",
               "output_type": "stream",
               "text": [
                  "\n",
                  "\u001b[A\n",
                  "\u001b[A\n",
                  "100%|██████████| 100/100 [00:00<00:00, 332.33it/s]\n",
                  "100%|██████████| 5/5 [00:09<00:00,  1.93s/it]\n"
               ]
            },
            {
               "name": "stdout",
               "output_type": "stream",
               "text": [
                  "get transaction stats av. network\n"
               ]
            },
            {
               "name": "stderr",
               "output_type": "stream",
               "text": [
                  "100%|██████████| 3000/3000 [00:28<00:00, 105.78it/s]\n"
               ]
            },
            {
               "name": "stdout",
               "output_type": "stream",
               "text": [
                  "get transaction stats av. bank\n"
               ]
            },
            {
               "name": "stderr",
               "output_type": "stream",
               "text": [
                  "100%|██████████| 3000/3000 [00:03<00:00, 833.53it/s]\n",
                  " 17%|█▋        | 3499/19999 [23:16<37:40,  7.30it/s]    "
               ]
            },
            {
               "name": "stdout",
               "output_type": "stream",
               "text": [
                  "get df_rev_repo_trans\n"
               ]
            },
            {
               "name": "stderr",
               "output_type": "stream",
               "text": [
                  "100%|██████████| 50/50 [00:00<00:00, 870187.55it/s]\n"
               ]
            },
            {
               "name": "stdout",
               "output_type": "stream",
               "text": [
                  "get df_rev_repo_trans\n"
               ]
            },
            {
               "name": "stderr",
               "output_type": "stream",
               "text": [
                  "100%|██████████| 50/50 [00:00<00:00, 915786.90it/s]\n"
               ]
            },
            {
               "name": "stdout",
               "output_type": "stream",
               "text": [
                  "get arr_rev_repo_exp_adj\n"
               ]
            },
            {
               "name": "stderr",
               "output_type": "stream",
               "text": [
                  "121281it [02:38, 764.37it/s]\n"
               ]
            },
            {
               "name": "stdout",
               "output_type": "stream",
               "text": [
                  "get arr_binary_adj (numba)\n",
                  "get degree distribution\n"
               ]
            },
            {
               "name": "stderr",
               "output_type": "stream",
               "text": [
                  "100%|██████████| 3500/3500 [00:31<00:00, 110.44it/s]\n"
               ]
            },
            {
               "name": "stdout",
               "output_type": "stream",
               "text": [
                  "get jaccard\n"
               ]
            },
            {
               "name": "stderr",
               "output_type": "stream",
               "text": [
                  "100%|██████████| 3499/3499 [00:00<00:00, 4892.11it/s]\n"
               ]
            },
            {
               "name": "stdout",
               "output_type": "stream",
               "text": [
                  "get density\n"
               ]
            },
            {
               "name": "stderr",
               "output_type": "stream",
               "text": [
                  "100%|██████████| 3499/3499 [00:00<00:00, 5010.18it/s]\n"
               ]
            },
            {
               "name": "stdout",
               "output_type": "stream",
               "text": [
                  "get degree stats\n"
               ]
            },
            {
               "name": "stderr",
               "output_type": "stream",
               "text": [
                  "100%|██████████| 3499/3499 [00:02<00:00, 1721.43it/s]\n"
               ]
            },
            {
               "name": "stdout",
               "output_type": "stream",
               "text": [
                  "get exposure stats\n"
               ]
            },
            {
               "name": "stderr",
               "output_type": "stream",
               "text": [
                  "100%|██████████| 3501/3501 [00:00<00:00, 4814.78it/s]\n"
               ]
            },
            {
               "name": "stdout",
               "output_type": "stream",
               "text": [
                  "run core-periphery tests\n"
               ]
            },
            {
               "name": "stderr",
               "output_type": "stream",
               "text": []
            },
            {
               "name": "stdout",
               "output_type": "stream",
               "text": [
                  "core-periphery tests using the Lip approach\n",
                  "test on day 0\n"
               ]
            },
            {
               "name": "stderr",
               "output_type": "stream",
               "text": [
                  "\n",
                  "100%|██████████| 100/100 [00:00<00:00, 2854.61it/s]\n"
               ]
            },
            {
               "name": "stdout",
               "output_type": "stream",
               "text": [
                  "test on day 500\n"
               ]
            },
            {
               "name": "stderr",
               "output_type": "stream",
               "text": [
                  "\n",
                  "\u001b[A\n",
                  "\u001b[A\n",
                  "\u001b[A\n",
                  "100%|██████████| 100/100 [00:00<00:00, 302.72it/s]\n"
               ]
            },
            {
               "name": "stdout",
               "output_type": "stream",
               "text": [
                  "test on day 1000\n"
               ]
            },
            {
               "name": "stderr",
               "output_type": "stream",
               "text": [
                  "\n",
                  "\u001b[A\n",
                  "\u001b[A\n",
                  "\u001b[A\n",
                  "100%|██████████| 100/100 [00:00<00:00, 322.59it/s]\n"
               ]
            },
            {
               "name": "stdout",
               "output_type": "stream",
               "text": [
                  "test on day 1500\n"
               ]
            },
            {
               "name": "stderr",
               "output_type": "stream",
               "text": [
                  "\n",
                  "\u001b[A\n",
                  "\u001b[A\n",
                  "\u001b[A\n",
                  "100%|██████████| 100/100 [00:00<00:00, 322.18it/s]\n"
               ]
            },
            {
               "name": "stdout",
               "output_type": "stream",
               "text": [
                  "test on day 2000\n"
               ]
            },
            {
               "name": "stderr",
               "output_type": "stream",
               "text": [
                  "\n",
                  "\u001b[A\n",
                  "\u001b[A\n",
                  "\u001b[A\n",
                  "100%|██████████| 100/100 [00:00<00:00, 321.32it/s]\n"
               ]
            },
            {
               "name": "stdout",
               "output_type": "stream",
               "text": [
                  "test on day 2500\n"
               ]
            },
            {
               "name": "stderr",
               "output_type": "stream",
               "text": [
                  "\n",
                  "\u001b[A\n",
                  "\u001b[A\n",
                  "\u001b[A\n",
                  "100%|██████████| 100/100 [00:00<00:00, 326.94it/s]\n"
               ]
            },
            {
               "name": "stdout",
               "output_type": "stream",
               "text": [
                  "test on day 3000\n"
               ]
            },
            {
               "name": "stderr",
               "output_type": "stream",
               "text": [
                  "\n",
                  "\u001b[A\n",
                  "\u001b[A\n",
                  "100%|██████████| 100/100 [00:00<00:00, 332.25it/s]\n"
               ]
            },
            {
               "name": "stdout",
               "output_type": "stream",
               "text": [
                  "test on day 3500\n"
               ]
            },
            {
               "name": "stderr",
               "output_type": "stream",
               "text": [
                  "\n",
                  "\u001b[A\n",
                  "\u001b[A\n",
                  "100%|██████████| 100/100 [00:00<00:00, 333.65it/s]\n"
               ]
            },
            {
               "name": "stdout",
               "output_type": "stream",
               "text": [
                  "core-periphery tests using the Lip approach\n",
                  "test on day 0\n"
               ]
            },
            {
               "name": "stderr",
               "output_type": "stream",
               "text": [
                  "\n",
                  "100%|██████████| 100/100 [00:00<00:00, 2865.57it/s]\n"
               ]
            },
            {
               "name": "stdout",
               "output_type": "stream",
               "text": [
                  "test on day 500\n"
               ]
            },
            {
               "name": "stderr",
               "output_type": "stream",
               "text": [
                  "\n",
                  "\u001b[A\n",
                  "\u001b[A\n",
                  "100%|██████████| 100/100 [00:00<00:00, 338.39it/s]\n"
               ]
            },
            {
               "name": "stdout",
               "output_type": "stream",
               "text": [
                  "test on day 1000\n"
               ]
            },
            {
               "name": "stderr",
               "output_type": "stream",
               "text": [
                  "\n",
                  "\u001b[A\n",
                  "\u001b[A\n",
                  "\u001b[A\n",
                  "100%|██████████| 100/100 [00:00<00:00, 324.00it/s]\n"
               ]
            },
            {
               "name": "stdout",
               "output_type": "stream",
               "text": [
                  "test on day 1500\n"
               ]
            },
            {
               "name": "stderr",
               "output_type": "stream",
               "text": [
                  "\n",
                  "\u001b[A\n",
                  "\u001b[A\n",
                  "\u001b[A\n",
                  "100%|██████████| 100/100 [00:00<00:00, 326.59it/s]\n"
               ]
            },
            {
               "name": "stdout",
               "output_type": "stream",
               "text": [
                  "test on day 2000\n"
               ]
            },
            {
               "name": "stderr",
               "output_type": "stream",
               "text": [
                  "\n",
                  "\u001b[A\n",
                  "\u001b[A\n",
                  "100%|██████████| 100/100 [00:00<00:00, 331.63it/s]\n"
               ]
            },
            {
               "name": "stdout",
               "output_type": "stream",
               "text": [
                  "test on day 2500\n"
               ]
            },
            {
               "name": "stderr",
               "output_type": "stream",
               "text": [
                  "\n",
                  "\u001b[A\n",
                  "\u001b[A\n",
                  "100%|██████████| 100/100 [00:00<00:00, 332.30it/s]\n"
               ]
            },
            {
               "name": "stdout",
               "output_type": "stream",
               "text": [
                  "test on day 3000\n"
               ]
            },
            {
               "name": "stderr",
               "output_type": "stream",
               "text": [
                  "\n",
                  "\u001b[A\n",
                  "\u001b[A\n",
                  "100%|██████████| 100/100 [00:00<00:00, 333.40it/s]\n"
               ]
            },
            {
               "name": "stdout",
               "output_type": "stream",
               "text": [
                  "test on day 3500\n"
               ]
            },
            {
               "name": "stderr",
               "output_type": "stream",
               "text": [
                  "\n",
                  "\u001b[A\n",
                  "\u001b[A\n",
                  "100%|██████████| 100/100 [00:00<00:00, 334.17it/s]\n"
               ]
            },
            {
               "name": "stdout",
               "output_type": "stream",
               "text": [
                  "core-periphery tests using the Lip approach\n",
                  "test on day 0\n"
               ]
            },
            {
               "name": "stderr",
               "output_type": "stream",
               "text": [
                  "\n",
                  "100%|██████████| 100/100 [00:00<00:00, 2815.74it/s]\n"
               ]
            },
            {
               "name": "stdout",
               "output_type": "stream",
               "text": [
                  "test on day 500\n"
               ]
            },
            {
               "name": "stderr",
               "output_type": "stream",
               "text": [
                  "\n",
                  "\u001b[A\n",
                  "\u001b[A\n",
                  "100%|██████████| 100/100 [00:00<00:00, 339.54it/s]\n"
               ]
            },
            {
               "name": "stdout",
               "output_type": "stream",
               "text": [
                  "test on day 1000\n"
               ]
            },
            {
               "name": "stderr",
               "output_type": "stream",
               "text": [
                  "\n",
                  "\u001b[A\n",
                  "\u001b[A\n",
                  "\u001b[A\n",
                  "100%|██████████| 100/100 [00:00<00:00, 323.26it/s]\n"
               ]
            },
            {
               "name": "stdout",
               "output_type": "stream",
               "text": [
                  "test on day 1500\n"
               ]
            },
            {
               "name": "stderr",
               "output_type": "stream",
               "text": [
                  "\n",
                  "\u001b[A\n",
                  "\u001b[A\n",
                  "\u001b[A\n",
                  "100%|██████████| 100/100 [00:00<00:00, 325.41it/s]\n"
               ]
            },
            {
               "name": "stdout",
               "output_type": "stream",
               "text": [
                  "test on day 2000\n"
               ]
            },
            {
               "name": "stderr",
               "output_type": "stream",
               "text": [
                  "\n",
                  "\u001b[A\n",
                  "\u001b[A\n",
                  "100%|██████████| 100/100 [00:00<00:00, 332.14it/s]\n"
               ]
            },
            {
               "name": "stdout",
               "output_type": "stream",
               "text": [
                  "test on day 2500\n"
               ]
            },
            {
               "name": "stderr",
               "output_type": "stream",
               "text": [
                  "\n",
                  "\u001b[A\n",
                  "\u001b[A\n",
                  "100%|██████████| 100/100 [00:00<00:00, 331.92it/s]\n"
               ]
            },
            {
               "name": "stdout",
               "output_type": "stream",
               "text": [
                  "test on day 3000\n"
               ]
            },
            {
               "name": "stderr",
               "output_type": "stream",
               "text": [
                  "\n",
                  "\u001b[A\n",
                  "\u001b[A\n",
                  "100%|██████████| 100/100 [00:00<00:00, 333.37it/s]\n"
               ]
            },
            {
               "name": "stdout",
               "output_type": "stream",
               "text": [
                  "test on day 3500\n"
               ]
            },
            {
               "name": "stderr",
               "output_type": "stream",
               "text": [
                  "\n",
                  "\u001b[A\n",
                  "\u001b[A\n",
                  "100%|██████████| 100/100 [00:00<00:00, 333.40it/s]\n"
               ]
            },
            {
               "name": "stdout",
               "output_type": "stream",
               "text": [
                  "core-periphery tests using the Lip approach\n",
                  "test on day 0\n"
               ]
            },
            {
               "name": "stderr",
               "output_type": "stream",
               "text": [
                  "\n",
                  "100%|██████████| 100/100 [00:00<00:00, 2796.37it/s]\n"
               ]
            },
            {
               "name": "stdout",
               "output_type": "stream",
               "text": [
                  "test on day 500\n"
               ]
            },
            {
               "name": "stderr",
               "output_type": "stream",
               "text": [
                  "\n",
                  "\u001b[A\n",
                  "\u001b[A\n",
                  "\u001b[A\n",
                  "100%|██████████| 100/100 [00:00<00:00, 321.30it/s]\n"
               ]
            },
            {
               "name": "stdout",
               "output_type": "stream",
               "text": [
                  "test on day 1000\n"
               ]
            },
            {
               "name": "stderr",
               "output_type": "stream",
               "text": [
                  "\n",
                  "\u001b[A\n",
                  "\u001b[A\n",
                  "\u001b[A\n",
                  "100%|██████████| 100/100 [00:00<00:00, 319.05it/s]\n"
               ]
            },
            {
               "name": "stdout",
               "output_type": "stream",
               "text": [
                  "test on day 1500\n"
               ]
            },
            {
               "name": "stderr",
               "output_type": "stream",
               "text": [
                  "\n",
                  "\u001b[A\n",
                  "\u001b[A\n",
                  "\u001b[A\n",
                  "100%|██████████| 100/100 [00:00<00:00, 327.84it/s]\n"
               ]
            },
            {
               "name": "stdout",
               "output_type": "stream",
               "text": [
                  "test on day 2000\n"
               ]
            },
            {
               "name": "stderr",
               "output_type": "stream",
               "text": [
                  "\n",
                  "\u001b[A\n",
                  "\u001b[A\n",
                  "100%|██████████| 100/100 [00:00<00:00, 331.41it/s]\n"
               ]
            },
            {
               "name": "stdout",
               "output_type": "stream",
               "text": [
                  "test on day 2500\n"
               ]
            },
            {
               "name": "stderr",
               "output_type": "stream",
               "text": [
                  "\n",
                  "\u001b[A\n",
                  "\u001b[A\n",
                  "100%|██████████| 100/100 [00:00<00:00, 330.97it/s]\n"
               ]
            },
            {
               "name": "stdout",
               "output_type": "stream",
               "text": [
                  "test on day 3000\n"
               ]
            },
            {
               "name": "stderr",
               "output_type": "stream",
               "text": [
                  "\n",
                  "\u001b[A\n",
                  "\u001b[A\n",
                  "100%|██████████| 100/100 [00:00<00:00, 330.91it/s]\n"
               ]
            },
            {
               "name": "stdout",
               "output_type": "stream",
               "text": [
                  "test on day 3500\n"
               ]
            },
            {
               "name": "stderr",
               "output_type": "stream",
               "text": [
                  "\n",
                  "\u001b[A\n",
                  "\u001b[A\n",
                  "100%|██████████| 100/100 [00:00<00:00, 333.86it/s]\n"
               ]
            },
            {
               "name": "stdout",
               "output_type": "stream",
               "text": [
                  "core-periphery tests using the Lip approach\n",
                  "test on day 0\n"
               ]
            },
            {
               "name": "stderr",
               "output_type": "stream",
               "text": [
                  "\n",
                  "100%|██████████| 100/100 [00:00<00:00, 1859.47it/s]\n"
               ]
            },
            {
               "name": "stdout",
               "output_type": "stream",
               "text": [
                  "test on day 500\n"
               ]
            },
            {
               "name": "stderr",
               "output_type": "stream",
               "text": [
                  "\n",
                  "\u001b[A\n",
                  "\u001b[A\n",
                  "100%|██████████| 100/100 [00:00<00:00, 341.28it/s]\n"
               ]
            },
            {
               "name": "stdout",
               "output_type": "stream",
               "text": [
                  "test on day 1000\n"
               ]
            },
            {
               "name": "stderr",
               "output_type": "stream",
               "text": [
                  "\n",
                  "\u001b[A\n",
                  "\u001b[A\n",
                  "\u001b[A\n",
                  "100%|██████████| 100/100 [00:00<00:00, 322.93it/s]\n"
               ]
            },
            {
               "name": "stdout",
               "output_type": "stream",
               "text": [
                  "test on day 1500\n"
               ]
            },
            {
               "name": "stderr",
               "output_type": "stream",
               "text": [
                  "\n",
                  "\u001b[A\n",
                  "\u001b[A\n",
                  "\u001b[A\n",
                  "100%|██████████| 100/100 [00:00<00:00, 325.40it/s]\n"
               ]
            },
            {
               "name": "stdout",
               "output_type": "stream",
               "text": [
                  "test on day 2000\n"
               ]
            },
            {
               "name": "stderr",
               "output_type": "stream",
               "text": [
                  "\n",
                  "\u001b[A\n",
                  "\u001b[A\n",
                  "100%|██████████| 100/100 [00:00<00:00, 332.39it/s]\n"
               ]
            },
            {
               "name": "stdout",
               "output_type": "stream",
               "text": [
                  "test on day 2500\n"
               ]
            },
            {
               "name": "stderr",
               "output_type": "stream",
               "text": [
                  "\n",
                  "\u001b[A\n",
                  "\u001b[A\n",
                  "100%|██████████| 100/100 [00:00<00:00, 332.81it/s]\n"
               ]
            },
            {
               "name": "stdout",
               "output_type": "stream",
               "text": [
                  "test on day 3000\n"
               ]
            },
            {
               "name": "stderr",
               "output_type": "stream",
               "text": [
                  "\n",
                  "\u001b[A\n",
                  "\u001b[A\n",
                  "100%|██████████| 100/100 [00:00<00:00, 333.90it/s]\n"
               ]
            },
            {
               "name": "stdout",
               "output_type": "stream",
               "text": [
                  "test on day 3500\n"
               ]
            },
            {
               "name": "stderr",
               "output_type": "stream",
               "text": [
                  "\n",
                  "\u001b[A\n",
                  "\u001b[A\n",
                  "100%|██████████| 100/100 [00:00<00:00, 333.66it/s]\n",
                  "100%|██████████| 5/5 [00:11<00:00,  2.30s/it]\n"
               ]
            },
            {
               "name": "stdout",
               "output_type": "stream",
               "text": [
                  "get transaction stats av. network\n"
               ]
            },
            {
               "name": "stderr",
               "output_type": "stream",
               "text": [
                  "100%|██████████| 3500/3500 [00:39<00:00, 89.72it/s]\n"
               ]
            },
            {
               "name": "stdout",
               "output_type": "stream",
               "text": [
                  "get transaction stats av. bank\n"
               ]
            },
            {
               "name": "stderr",
               "output_type": "stream",
               "text": [
                  "100%|██████████| 3500/3500 [00:04<00:00, 805.06it/s]\n",
                  " 20%|█▉        | 3999/19999 [30:11<42:26,  6.28it/s]     "
               ]
            },
            {
               "name": "stdout",
               "output_type": "stream",
               "text": [
                  "get df_rev_repo_trans\n"
               ]
            },
            {
               "name": "stderr",
               "output_type": "stream",
               "text": [
                  "100%|██████████| 50/50 [00:00<00:00, 845625.81it/s]\n"
               ]
            },
            {
               "name": "stdout",
               "output_type": "stream",
               "text": [
                  "get df_rev_repo_trans\n"
               ]
            },
            {
               "name": "stderr",
               "output_type": "stream",
               "text": [
                  "100%|██████████| 50/50 [00:00<00:00, 940426.91it/s]\n"
               ]
            },
            {
               "name": "stdout",
               "output_type": "stream",
               "text": [
                  "get arr_rev_repo_exp_adj\n"
               ]
            },
            {
               "name": "stderr",
               "output_type": "stream",
               "text": [
                  "138341it [03:03, 752.00it/s] \n"
               ]
            },
            {
               "name": "stdout",
               "output_type": "stream",
               "text": [
                  "get arr_binary_adj (numba)\n",
                  "get degree distribution\n"
               ]
            },
            {
               "name": "stderr",
               "output_type": "stream",
               "text": [
                  "100%|██████████| 4000/4000 [00:36<00:00, 110.74it/s]\n"
               ]
            },
            {
               "name": "stdout",
               "output_type": "stream",
               "text": [
                  "get jaccard\n"
               ]
            },
            {
               "name": "stderr",
               "output_type": "stream",
               "text": [
                  "100%|██████████| 3999/3999 [00:00<00:00, 4886.75it/s]\n"
               ]
            },
            {
               "name": "stdout",
               "output_type": "stream",
               "text": [
                  "get density\n"
               ]
            },
            {
               "name": "stderr",
               "output_type": "stream",
               "text": [
                  "100%|██████████| 3999/3999 [00:00<00:00, 5101.83it/s]\n"
               ]
            },
            {
               "name": "stdout",
               "output_type": "stream",
               "text": [
                  "get degree stats\n"
               ]
            },
            {
               "name": "stderr",
               "output_type": "stream",
               "text": [
                  "100%|██████████| 3999/3999 [00:02<00:00, 1728.01it/s]\n"
               ]
            },
            {
               "name": "stdout",
               "output_type": "stream",
               "text": [
                  "get exposure stats\n"
               ]
            },
            {
               "name": "stderr",
               "output_type": "stream",
               "text": [
                  "100%|██████████| 4001/4001 [00:00<00:00, 4849.58it/s]\n"
               ]
            },
            {
               "name": "stdout",
               "output_type": "stream",
               "text": [
                  "run core-periphery tests\n"
               ]
            },
            {
               "name": "stderr",
               "output_type": "stream",
               "text": []
            },
            {
               "name": "stdout",
               "output_type": "stream",
               "text": [
                  "core-periphery tests using the Lip approach\n",
                  "test on day 0\n"
               ]
            },
            {
               "name": "stderr",
               "output_type": "stream",
               "text": [
                  "\n",
                  "100%|██████████| 100/100 [00:00<00:00, 2815.74it/s]\n"
               ]
            },
            {
               "name": "stdout",
               "output_type": "stream",
               "text": [
                  "test on day 500\n"
               ]
            },
            {
               "name": "stderr",
               "output_type": "stream",
               "text": [
                  "\n",
                  "\u001b[A\n",
                  "\u001b[A\n",
                  "100%|██████████| 100/100 [00:00<00:00, 331.75it/s]\n"
               ]
            },
            {
               "name": "stdout",
               "output_type": "stream",
               "text": [
                  "test on day 1000\n"
               ]
            },
            {
               "name": "stderr",
               "output_type": "stream",
               "text": [
                  "\n",
                  "\u001b[A\n",
                  "\u001b[A\n",
                  "\u001b[A\n",
                  "100%|██████████| 100/100 [00:00<00:00, 325.61it/s]\n"
               ]
            },
            {
               "name": "stdout",
               "output_type": "stream",
               "text": [
                  "test on day 1500\n"
               ]
            },
            {
               "name": "stderr",
               "output_type": "stream",
               "text": [
                  "\n",
                  "\u001b[A\n",
                  "\u001b[A\n",
                  "100%|██████████| 100/100 [00:00<00:00, 328.18it/s]\n"
               ]
            },
            {
               "name": "stdout",
               "output_type": "stream",
               "text": [
                  "test on day 2000\n"
               ]
            },
            {
               "name": "stderr",
               "output_type": "stream",
               "text": [
                  "\n",
                  "\u001b[A\n",
                  "\u001b[A\n",
                  "100%|██████████| 100/100 [00:00<00:00, 333.34it/s]\n"
               ]
            },
            {
               "name": "stdout",
               "output_type": "stream",
               "text": [
                  "test on day 2500\n"
               ]
            },
            {
               "name": "stderr",
               "output_type": "stream",
               "text": [
                  "\n",
                  "\u001b[A\n",
                  "\u001b[A\n",
                  "100%|██████████| 100/100 [00:00<00:00, 333.67it/s]\n"
               ]
            },
            {
               "name": "stdout",
               "output_type": "stream",
               "text": [
                  "test on day 3000\n"
               ]
            },
            {
               "name": "stderr",
               "output_type": "stream",
               "text": [
                  "\n",
                  "\u001b[A\n",
                  "\u001b[A\n",
                  "100%|██████████| 100/100 [00:00<00:00, 332.68it/s]\n"
               ]
            },
            {
               "name": "stdout",
               "output_type": "stream",
               "text": [
                  "test on day 3500\n"
               ]
            },
            {
               "name": "stderr",
               "output_type": "stream",
               "text": [
                  "\n",
                  "\u001b[A\n",
                  "\u001b[A\n",
                  "\u001b[A\n",
                  "100%|██████████| 100/100 [00:00<00:00, 301.23it/s]\n"
               ]
            },
            {
               "name": "stdout",
               "output_type": "stream",
               "text": [
                  "test on day 4000\n"
               ]
            },
            {
               "name": "stderr",
               "output_type": "stream",
               "text": [
                  "\n",
                  "\u001b[A\n",
                  "\u001b[A\n",
                  "100%|██████████| 100/100 [00:00<00:00, 334.94it/s]\n"
               ]
            },
            {
               "name": "stdout",
               "output_type": "stream",
               "text": [
                  "core-periphery tests using the Lip approach\n",
                  "test on day 0\n"
               ]
            },
            {
               "name": "stderr",
               "output_type": "stream",
               "text": [
                  "\n",
                  "100%|██████████| 100/100 [00:00<00:00, 2820.95it/s]\n"
               ]
            },
            {
               "name": "stdout",
               "output_type": "stream",
               "text": [
                  "test on day 500\n"
               ]
            },
            {
               "name": "stderr",
               "output_type": "stream",
               "text": [
                  "\n",
                  "\u001b[A\n",
                  "\u001b[A\n",
                  "100%|██████████| 100/100 [00:00<00:00, 339.78it/s]\n"
               ]
            },
            {
               "name": "stdout",
               "output_type": "stream",
               "text": [
                  "test on day 1000\n"
               ]
            },
            {
               "name": "stderr",
               "output_type": "stream",
               "text": [
                  "\n",
                  "\u001b[A\n",
                  "\u001b[A\n",
                  "\u001b[A\n",
                  "100%|██████████| 100/100 [00:00<00:00, 324.02it/s]\n"
               ]
            },
            {
               "name": "stdout",
               "output_type": "stream",
               "text": [
                  "test on day 1500\n"
               ]
            },
            {
               "name": "stderr",
               "output_type": "stream",
               "text": [
                  "\n",
                  "\u001b[A\n",
                  "\u001b[A\n",
                  "\u001b[A\n",
                  "100%|██████████| 100/100 [00:00<00:00, 327.06it/s]\n"
               ]
            },
            {
               "name": "stdout",
               "output_type": "stream",
               "text": [
                  "test on day 2000\n"
               ]
            },
            {
               "name": "stderr",
               "output_type": "stream",
               "text": [
                  "\n",
                  "\u001b[A\n",
                  "\u001b[A\n",
                  "100%|██████████| 100/100 [00:00<00:00, 332.86it/s]\n"
               ]
            },
            {
               "name": "stdout",
               "output_type": "stream",
               "text": [
                  "test on day 2500\n"
               ]
            },
            {
               "name": "stderr",
               "output_type": "stream",
               "text": [
                  "\n",
                  "\u001b[A\n",
                  "\u001b[A\n",
                  "100%|██████████| 100/100 [00:00<00:00, 333.87it/s]\n"
               ]
            },
            {
               "name": "stdout",
               "output_type": "stream",
               "text": [
                  "test on day 3000\n"
               ]
            },
            {
               "name": "stderr",
               "output_type": "stream",
               "text": [
                  "\n",
                  "\u001b[A\n",
                  "\u001b[A\n",
                  "100%|██████████| 100/100 [00:00<00:00, 334.50it/s]\n"
               ]
            },
            {
               "name": "stdout",
               "output_type": "stream",
               "text": [
                  "test on day 3500\n"
               ]
            },
            {
               "name": "stderr",
               "output_type": "stream",
               "text": [
                  "\n",
                  "\u001b[A\n",
                  "\u001b[A\n",
                  "100%|██████████| 100/100 [00:00<00:00, 335.73it/s]\n"
               ]
            },
            {
               "name": "stdout",
               "output_type": "stream",
               "text": [
                  "test on day 4000\n"
               ]
            },
            {
               "name": "stderr",
               "output_type": "stream",
               "text": [
                  "\n",
                  "\u001b[A\n",
                  "\u001b[A\n",
                  "100%|██████████| 100/100 [00:00<00:00, 336.07it/s]\n"
               ]
            },
            {
               "name": "stdout",
               "output_type": "stream",
               "text": [
                  "core-periphery tests using the Lip approach\n",
                  "test on day 0\n"
               ]
            },
            {
               "name": "stderr",
               "output_type": "stream",
               "text": [
                  "\n",
                  "100%|██████████| 100/100 [00:00<00:00, 2831.16it/s]\n"
               ]
            },
            {
               "name": "stdout",
               "output_type": "stream",
               "text": [
                  "test on day 500\n"
               ]
            },
            {
               "name": "stderr",
               "output_type": "stream",
               "text": [
                  "\n",
                  "\u001b[A\n",
                  "\u001b[A\n",
                  "100%|██████████| 100/100 [00:00<00:00, 339.32it/s]\n"
               ]
            },
            {
               "name": "stdout",
               "output_type": "stream",
               "text": [
                  "test on day 1000\n"
               ]
            },
            {
               "name": "stderr",
               "output_type": "stream",
               "text": [
                  "\n",
                  "\u001b[A\n",
                  "\u001b[A\n",
                  "\u001b[A\n",
                  "100%|██████████| 100/100 [00:00<00:00, 322.77it/s]\n"
               ]
            },
            {
               "name": "stdout",
               "output_type": "stream",
               "text": [
                  "test on day 1500\n"
               ]
            },
            {
               "name": "stderr",
               "output_type": "stream",
               "text": [
                  "\n",
                  "\u001b[A\n",
                  "\u001b[A\n",
                  "\u001b[A\n",
                  "100%|██████████| 100/100 [00:00<00:00, 325.53it/s]\n"
               ]
            },
            {
               "name": "stdout",
               "output_type": "stream",
               "text": [
                  "test on day 2000\n"
               ]
            },
            {
               "name": "stderr",
               "output_type": "stream",
               "text": [
                  "\n",
                  "\u001b[A\n",
                  "\u001b[A\n",
                  "100%|██████████| 100/100 [00:00<00:00, 331.52it/s]\n"
               ]
            },
            {
               "name": "stdout",
               "output_type": "stream",
               "text": [
                  "test on day 2500\n"
               ]
            },
            {
               "name": "stderr",
               "output_type": "stream",
               "text": [
                  "\n",
                  "\u001b[A\n",
                  "\u001b[A\n",
                  "100%|██████████| 100/100 [00:00<00:00, 331.89it/s]\n"
               ]
            },
            {
               "name": "stdout",
               "output_type": "stream",
               "text": [
                  "test on day 3000\n"
               ]
            },
            {
               "name": "stderr",
               "output_type": "stream",
               "text": [
                  "\n",
                  "\u001b[A\n",
                  "\u001b[A\n",
                  "100%|██████████| 100/100 [00:00<00:00, 332.96it/s]\n"
               ]
            },
            {
               "name": "stdout",
               "output_type": "stream",
               "text": [
                  "test on day 3500\n"
               ]
            },
            {
               "name": "stderr",
               "output_type": "stream",
               "text": [
                  "\n",
                  "\u001b[A\n",
                  "\u001b[A\n",
                  "100%|██████████| 100/100 [00:00<00:00, 328.65it/s]\n"
               ]
            },
            {
               "name": "stdout",
               "output_type": "stream",
               "text": [
                  "test on day 4000\n"
               ]
            },
            {
               "name": "stderr",
               "output_type": "stream",
               "text": [
                  "\n",
                  "\u001b[A\n",
                  "\u001b[A\n",
                  "\u001b[A\n",
                  "100%|██████████| 100/100 [00:00<00:00, 323.50it/s]\n"
               ]
            },
            {
               "name": "stdout",
               "output_type": "stream",
               "text": [
                  "core-periphery tests using the Lip approach\n",
                  "test on day 0\n"
               ]
            },
            {
               "name": "stderr",
               "output_type": "stream",
               "text": [
                  "\n",
                  "100%|██████████| 100/100 [00:00<00:00, 2785.30it/s]\n"
               ]
            },
            {
               "name": "stdout",
               "output_type": "stream",
               "text": [
                  "test on day 500\n"
               ]
            },
            {
               "name": "stderr",
               "output_type": "stream",
               "text": [
                  "\n",
                  "\u001b[A\n",
                  "\u001b[A\n",
                  "100%|██████████| 100/100 [00:00<00:00, 332.00it/s]\n"
               ]
            },
            {
               "name": "stdout",
               "output_type": "stream",
               "text": [
                  "test on day 1000\n"
               ]
            },
            {
               "name": "stderr",
               "output_type": "stream",
               "text": [
                  "\n",
                  "\u001b[A\n",
                  "\u001b[A\n",
                  "\u001b[A\n",
                  "100%|██████████| 100/100 [00:00<00:00, 313.82it/s]\n"
               ]
            },
            {
               "name": "stdout",
               "output_type": "stream",
               "text": [
                  "test on day 1500\n"
               ]
            },
            {
               "name": "stderr",
               "output_type": "stream",
               "text": [
                  "\n",
                  "\u001b[A\n",
                  "\u001b[A\n",
                  "\u001b[A\n",
                  "100%|██████████| 100/100 [00:00<00:00, 321.70it/s]\n"
               ]
            },
            {
               "name": "stdout",
               "output_type": "stream",
               "text": [
                  "test on day 2000\n"
               ]
            },
            {
               "name": "stderr",
               "output_type": "stream",
               "text": [
                  "\n",
                  "\u001b[A\n",
                  "\u001b[A\n",
                  "\u001b[A\n",
                  "100%|██████████| 100/100 [00:00<00:00, 316.91it/s]\n"
               ]
            },
            {
               "name": "stdout",
               "output_type": "stream",
               "text": [
                  "test on day 2500\n"
               ]
            },
            {
               "name": "stderr",
               "output_type": "stream",
               "text": [
                  "\n",
                  "\u001b[A\n",
                  "\u001b[A\n",
                  "\u001b[A\n",
                  "100%|██████████| 100/100 [00:00<00:00, 325.20it/s]\n"
               ]
            },
            {
               "name": "stdout",
               "output_type": "stream",
               "text": [
                  "test on day 3000\n"
               ]
            },
            {
               "name": "stderr",
               "output_type": "stream",
               "text": [
                  "\n",
                  "\u001b[A\n",
                  "\u001b[A\n",
                  "100%|██████████| 100/100 [00:00<00:00, 329.31it/s]\n"
               ]
            },
            {
               "name": "stdout",
               "output_type": "stream",
               "text": [
                  "test on day 3500\n"
               ]
            },
            {
               "name": "stderr",
               "output_type": "stream",
               "text": [
                  "\n",
                  "\u001b[A\n",
                  "\u001b[A\n",
                  "100%|██████████| 100/100 [00:00<00:00, 329.60it/s]\n"
               ]
            },
            {
               "name": "stdout",
               "output_type": "stream",
               "text": [
                  "test on day 4000\n"
               ]
            },
            {
               "name": "stderr",
               "output_type": "stream",
               "text": [
                  "\n",
                  "\u001b[A\n",
                  "\u001b[A\n",
                  "\u001b[A\n",
                  "100%|██████████| 100/100 [00:00<00:00, 324.97it/s]\n"
               ]
            },
            {
               "name": "stdout",
               "output_type": "stream",
               "text": [
                  "core-periphery tests using the Lip approach\n",
                  "test on day 0\n"
               ]
            },
            {
               "name": "stderr",
               "output_type": "stream",
               "text": [
                  "\n",
                  "100%|██████████| 100/100 [00:00<00:00, 1803.23it/s]\n"
               ]
            },
            {
               "name": "stdout",
               "output_type": "stream",
               "text": [
                  "test on day 500\n"
               ]
            },
            {
               "name": "stderr",
               "output_type": "stream",
               "text": [
                  "\n",
                  "\u001b[A\n",
                  "\u001b[A\n",
                  "100%|██████████| 100/100 [00:00<00:00, 337.50it/s]\n"
               ]
            },
            {
               "name": "stdout",
               "output_type": "stream",
               "text": [
                  "test on day 1000\n"
               ]
            },
            {
               "name": "stderr",
               "output_type": "stream",
               "text": [
                  "\n",
                  "\u001b[A\n",
                  "\u001b[A\n",
                  "\u001b[A\n",
                  "100%|██████████| 100/100 [00:00<00:00, 312.67it/s]\n"
               ]
            },
            {
               "name": "stdout",
               "output_type": "stream",
               "text": [
                  "test on day 1500\n"
               ]
            },
            {
               "name": "stderr",
               "output_type": "stream",
               "text": [
                  "\n",
                  "\u001b[A\n",
                  "\u001b[A\n",
                  "\u001b[A\n",
                  "100%|██████████| 100/100 [00:00<00:00, 318.65it/s]\n"
               ]
            },
            {
               "name": "stdout",
               "output_type": "stream",
               "text": [
                  "test on day 2000\n"
               ]
            },
            {
               "name": "stderr",
               "output_type": "stream",
               "text": [
                  "\n",
                  "\u001b[A\n",
                  "\u001b[A\n",
                  "\u001b[A\n",
                  "100%|██████████| 100/100 [00:00<00:00, 324.85it/s]\n"
               ]
            },
            {
               "name": "stdout",
               "output_type": "stream",
               "text": [
                  "test on day 2500\n"
               ]
            },
            {
               "name": "stderr",
               "output_type": "stream",
               "text": [
                  "\n",
                  "\u001b[A\n",
                  "\u001b[A\n",
                  "\u001b[A\n",
                  "100%|██████████| 100/100 [00:00<00:00, 325.31it/s]\n"
               ]
            },
            {
               "name": "stdout",
               "output_type": "stream",
               "text": [
                  "test on day 3000\n"
               ]
            },
            {
               "name": "stderr",
               "output_type": "stream",
               "text": [
                  "\n",
                  "\u001b[A\n",
                  "\u001b[A\n",
                  "\u001b[A\n",
                  "100%|██████████| 100/100 [00:00<00:00, 326.53it/s]\n"
               ]
            },
            {
               "name": "stdout",
               "output_type": "stream",
               "text": [
                  "test on day 3500\n"
               ]
            },
            {
               "name": "stderr",
               "output_type": "stream",
               "text": [
                  "\n",
                  "\u001b[A\n",
                  "\u001b[A\n",
                  "100%|██████████| 100/100 [00:00<00:00, 326.83it/s]\n"
               ]
            },
            {
               "name": "stdout",
               "output_type": "stream",
               "text": [
                  "test on day 4000\n"
               ]
            },
            {
               "name": "stderr",
               "output_type": "stream",
               "text": [
                  "\n",
                  "\u001b[A\n",
                  "\u001b[A\n",
                  "100%|██████████| 100/100 [00:00<00:00, 328.13it/s]\n",
                  "100%|██████████| 5/5 [00:12<00:00,  2.58s/it]\n"
               ]
            },
            {
               "name": "stdout",
               "output_type": "stream",
               "text": [
                  "get transaction stats av. network\n"
               ]
            },
            {
               "name": "stderr",
               "output_type": "stream",
               "text": [
                  "100%|██████████| 4000/4000 [00:51<00:00, 77.44it/s]\n"
               ]
            },
            {
               "name": "stdout",
               "output_type": "stream",
               "text": [
                  "get transaction stats av. bank\n"
               ]
            },
            {
               "name": "stderr",
               "output_type": "stream",
               "text": [
                  "100%|██████████| 4000/4000 [00:05<00:00, 780.52it/s]\n",
                  " 22%|██▏       | 4499/19999 [38:15<33:51,  7.63it/s]     "
               ]
            },
            {
               "name": "stdout",
               "output_type": "stream",
               "text": [
                  "get df_rev_repo_trans\n"
               ]
            },
            {
               "name": "stderr",
               "output_type": "stream",
               "text": [
                  "100%|██████████| 50/50 [00:00<00:00, 696728.24it/s]\n"
               ]
            },
            {
               "name": "stdout",
               "output_type": "stream",
               "text": [
                  "get df_rev_repo_trans\n"
               ]
            },
            {
               "name": "stderr",
               "output_type": "stream",
               "text": [
                  "100%|██████████| 50/50 [00:00<00:00, 699050.67it/s]\n"
               ]
            },
            {
               "name": "stdout",
               "output_type": "stream",
               "text": [
                  "get arr_rev_repo_exp_adj\n"
               ]
            },
            {
               "name": "stderr",
               "output_type": "stream",
               "text": [
                  "155945it [03:28, 746.69it/s] \n"
               ]
            },
            {
               "name": "stdout",
               "output_type": "stream",
               "text": [
                  "get arr_binary_adj (numba)\n",
                  "get degree distribution\n"
               ]
            },
            {
               "name": "stderr",
               "output_type": "stream",
               "text": [
                  "100%|██████████| 4500/4500 [00:43<00:00, 104.07it/s]\n"
               ]
            },
            {
               "name": "stdout",
               "output_type": "stream",
               "text": [
                  "get jaccard\n"
               ]
            },
            {
               "name": "stderr",
               "output_type": "stream",
               "text": [
                  "100%|██████████| 4499/4499 [00:00<00:00, 4844.10it/s]\n"
               ]
            },
            {
               "name": "stdout",
               "output_type": "stream",
               "text": [
                  "get density\n"
               ]
            },
            {
               "name": "stderr",
               "output_type": "stream",
               "text": [
                  "100%|██████████| 4499/4499 [00:00<00:00, 5016.16it/s]\n"
               ]
            },
            {
               "name": "stdout",
               "output_type": "stream",
               "text": [
                  "get degree stats\n"
               ]
            },
            {
               "name": "stderr",
               "output_type": "stream",
               "text": [
                  "100%|██████████| 4499/4499 [00:02<00:00, 1709.74it/s]\n"
               ]
            },
            {
               "name": "stdout",
               "output_type": "stream",
               "text": [
                  "get exposure stats\n"
               ]
            },
            {
               "name": "stderr",
               "output_type": "stream",
               "text": [
                  "100%|██████████| 4501/4501 [00:00<00:00, 4803.92it/s]\n"
               ]
            },
            {
               "name": "stdout",
               "output_type": "stream",
               "text": [
                  "run core-periphery tests\n"
               ]
            },
            {
               "name": "stderr",
               "output_type": "stream",
               "text": []
            },
            {
               "name": "stdout",
               "output_type": "stream",
               "text": [
                  "core-periphery tests using the Lip approach\n",
                  "test on day 0\n"
               ]
            },
            {
               "name": "stderr",
               "output_type": "stream",
               "text": [
                  "\n",
                  "100%|██████████| 100/100 [00:00<00:00, 2753.65it/s]\n"
               ]
            },
            {
               "name": "stdout",
               "output_type": "stream",
               "text": [
                  "test on day 500\n"
               ]
            },
            {
               "name": "stderr",
               "output_type": "stream",
               "text": [
                  "\n",
                  "\u001b[A\n",
                  "\u001b[A\n",
                  "100%|██████████| 100/100 [00:00<00:00, 338.62it/s]\n"
               ]
            },
            {
               "name": "stdout",
               "output_type": "stream",
               "text": [
                  "test on day 1000\n"
               ]
            },
            {
               "name": "stderr",
               "output_type": "stream",
               "text": [
                  "\n",
                  "\u001b[A\n",
                  "\u001b[A\n",
                  "\u001b[A\n",
                  "100%|██████████| 100/100 [00:00<00:00, 326.07it/s]\n"
               ]
            },
            {
               "name": "stdout",
               "output_type": "stream",
               "text": [
                  "test on day 1500\n"
               ]
            },
            {
               "name": "stderr",
               "output_type": "stream",
               "text": [
                  "\n",
                  "\u001b[A\n",
                  "\u001b[A\n",
                  "100%|██████████| 100/100 [00:00<00:00, 329.63it/s]\n"
               ]
            },
            {
               "name": "stdout",
               "output_type": "stream",
               "text": [
                  "test on day 2000\n"
               ]
            },
            {
               "name": "stderr",
               "output_type": "stream",
               "text": [
                  "\n",
                  "\u001b[A\n",
                  "\u001b[A\n",
                  "100%|██████████| 100/100 [00:00<00:00, 332.64it/s]\n"
               ]
            },
            {
               "name": "stdout",
               "output_type": "stream",
               "text": [
                  "test on day 2500\n"
               ]
            },
            {
               "name": "stderr",
               "output_type": "stream",
               "text": [
                  "\n",
                  "\u001b[A\n",
                  "\u001b[A\n",
                  "100%|██████████| 100/100 [00:00<00:00, 333.76it/s]\n"
               ]
            },
            {
               "name": "stdout",
               "output_type": "stream",
               "text": [
                  "test on day 3000\n"
               ]
            },
            {
               "name": "stderr",
               "output_type": "stream",
               "text": [
                  "\n",
                  "\u001b[A\n",
                  "\u001b[A\n",
                  "100%|██████████| 100/100 [00:00<00:00, 333.37it/s]\n"
               ]
            },
            {
               "name": "stdout",
               "output_type": "stream",
               "text": [
                  "test on day 3500\n"
               ]
            },
            {
               "name": "stderr",
               "output_type": "stream",
               "text": [
                  "\n",
                  "\u001b[A\n",
                  "\u001b[A\n",
                  "100%|██████████| 100/100 [00:00<00:00, 333.67it/s]\n"
               ]
            },
            {
               "name": "stdout",
               "output_type": "stream",
               "text": [
                  "test on day 4000\n"
               ]
            },
            {
               "name": "stderr",
               "output_type": "stream",
               "text": [
                  "\n",
                  "\u001b[A\n",
                  "\u001b[A\n",
                  "100%|██████████| 100/100 [00:00<00:00, 329.70it/s]\n"
               ]
            },
            {
               "name": "stdout",
               "output_type": "stream",
               "text": [
                  "test on day 4500\n"
               ]
            },
            {
               "name": "stderr",
               "output_type": "stream",
               "text": [
                  "\n",
                  "\u001b[A\n",
                  "\u001b[A\n",
                  "100%|██████████| 100/100 [00:00<00:00, 335.35it/s]\n"
               ]
            },
            {
               "name": "stdout",
               "output_type": "stream",
               "text": [
                  "core-periphery tests using the Lip approach\n",
                  "test on day 0\n"
               ]
            },
            {
               "name": "stderr",
               "output_type": "stream",
               "text": [
                  "\n",
                  "100%|██████████| 100/100 [00:00<00:00, 2972.07it/s]\n"
               ]
            },
            {
               "name": "stdout",
               "output_type": "stream",
               "text": [
                  "test on day 500\n"
               ]
            },
            {
               "name": "stderr",
               "output_type": "stream",
               "text": [
                  "\n",
                  "\u001b[A\n",
                  "\u001b[A\n",
                  "100%|██████████| 100/100 [00:00<00:00, 340.01it/s]\n"
               ]
            },
            {
               "name": "stdout",
               "output_type": "stream",
               "text": [
                  "test on day 1000\n"
               ]
            },
            {
               "name": "stderr",
               "output_type": "stream",
               "text": [
                  "\n",
                  "\u001b[A\n",
                  "\u001b[A\n",
                  "\u001b[A\n",
                  "100%|██████████| 100/100 [00:00<00:00, 322.62it/s]\n"
               ]
            },
            {
               "name": "stdout",
               "output_type": "stream",
               "text": [
                  "test on day 1500\n"
               ]
            },
            {
               "name": "stderr",
               "output_type": "stream",
               "text": [
                  "\n",
                  "\u001b[A\n",
                  "\u001b[A\n",
                  "\u001b[A\n",
                  "100%|██████████| 100/100 [00:00<00:00, 324.87it/s]\n"
               ]
            },
            {
               "name": "stdout",
               "output_type": "stream",
               "text": [
                  "test on day 2000\n"
               ]
            },
            {
               "name": "stderr",
               "output_type": "stream",
               "text": [
                  "\n",
                  "\u001b[A\n",
                  "\u001b[A\n",
                  "100%|██████████| 100/100 [00:00<00:00, 331.24it/s]\n"
               ]
            },
            {
               "name": "stdout",
               "output_type": "stream",
               "text": [
                  "test on day 2500\n"
               ]
            },
            {
               "name": "stderr",
               "output_type": "stream",
               "text": [
                  "\n",
                  "\u001b[A\n",
                  "\u001b[A\n",
                  "100%|██████████| 100/100 [00:00<00:00, 332.70it/s]\n"
               ]
            },
            {
               "name": "stdout",
               "output_type": "stream",
               "text": [
                  "test on day 3000\n"
               ]
            },
            {
               "name": "stderr",
               "output_type": "stream",
               "text": [
                  "\n",
                  "\u001b[A\n",
                  "\u001b[A\n",
                  "100%|██████████| 100/100 [00:00<00:00, 333.35it/s]\n"
               ]
            },
            {
               "name": "stdout",
               "output_type": "stream",
               "text": [
                  "test on day 3500\n"
               ]
            },
            {
               "name": "stderr",
               "output_type": "stream",
               "text": [
                  "\n",
                  "\u001b[A\n",
                  "\u001b[A\n",
                  "100%|██████████| 100/100 [00:00<00:00, 331.87it/s]\n"
               ]
            },
            {
               "name": "stdout",
               "output_type": "stream",
               "text": [
                  "test on day 4000\n"
               ]
            },
            {
               "name": "stderr",
               "output_type": "stream",
               "text": [
                  "\n",
                  "\u001b[A\n",
                  "\u001b[A\n",
                  "100%|██████████| 100/100 [00:00<00:00, 332.57it/s]\n"
               ]
            },
            {
               "name": "stdout",
               "output_type": "stream",
               "text": [
                  "test on day 4500\n"
               ]
            },
            {
               "name": "stderr",
               "output_type": "stream",
               "text": [
                  "\n",
                  "\u001b[A\n",
                  "\u001b[A\n",
                  "100%|██████████| 100/100 [00:00<00:00, 331.57it/s]\n"
               ]
            },
            {
               "name": "stdout",
               "output_type": "stream",
               "text": [
                  "core-periphery tests using the Lip approach\n",
                  "test on day 0\n"
               ]
            },
            {
               "name": "stderr",
               "output_type": "stream",
               "text": [
                  "\n",
                  "100%|██████████| 100/100 [00:00<00:00, 2841.82it/s]\n"
               ]
            },
            {
               "name": "stdout",
               "output_type": "stream",
               "text": [
                  "test on day 500\n"
               ]
            },
            {
               "name": "stderr",
               "output_type": "stream",
               "text": [
                  "\n",
                  "\u001b[A\n",
                  "\u001b[A\n",
                  "100%|██████████| 100/100 [00:00<00:00, 337.88it/s]\n"
               ]
            },
            {
               "name": "stdout",
               "output_type": "stream",
               "text": [
                  "test on day 1000\n"
               ]
            },
            {
               "name": "stderr",
               "output_type": "stream",
               "text": [
                  "\n",
                  "\u001b[A\n",
                  "\u001b[A\n",
                  "\u001b[A\n",
                  "100%|██████████| 100/100 [00:00<00:00, 323.19it/s]\n"
               ]
            },
            {
               "name": "stdout",
               "output_type": "stream",
               "text": [
                  "test on day 1500\n"
               ]
            },
            {
               "name": "stderr",
               "output_type": "stream",
               "text": [
                  "\n",
                  "\u001b[A\n",
                  "\u001b[A\n",
                  "\u001b[A\n",
                  "100%|██████████| 100/100 [00:00<00:00, 325.83it/s]\n"
               ]
            },
            {
               "name": "stdout",
               "output_type": "stream",
               "text": [
                  "test on day 2000\n"
               ]
            },
            {
               "name": "stderr",
               "output_type": "stream",
               "text": [
                  "\n",
                  "\u001b[A\n",
                  "\u001b[A\n",
                  "100%|██████████| 100/100 [00:00<00:00, 330.18it/s]\n"
               ]
            },
            {
               "name": "stdout",
               "output_type": "stream",
               "text": [
                  "test on day 2500\n"
               ]
            },
            {
               "name": "stderr",
               "output_type": "stream",
               "text": [
                  "\n",
                  "\u001b[A\n",
                  "\u001b[A\n",
                  "100%|██████████| 100/100 [00:00<00:00, 331.43it/s]\n"
               ]
            },
            {
               "name": "stdout",
               "output_type": "stream",
               "text": [
                  "test on day 3000\n"
               ]
            },
            {
               "name": "stderr",
               "output_type": "stream",
               "text": [
                  "\n",
                  "\u001b[A\n",
                  "\u001b[A\n",
                  "100%|██████████| 100/100 [00:00<00:00, 331.84it/s]\n"
               ]
            },
            {
               "name": "stdout",
               "output_type": "stream",
               "text": [
                  "test on day 3500\n"
               ]
            },
            {
               "name": "stderr",
               "output_type": "stream",
               "text": [
                  "\n",
                  "\u001b[A\n",
                  "\u001b[A\n",
                  "100%|██████████| 100/100 [00:00<00:00, 332.12it/s]\n"
               ]
            },
            {
               "name": "stdout",
               "output_type": "stream",
               "text": [
                  "test on day 4000\n"
               ]
            },
            {
               "name": "stderr",
               "output_type": "stream",
               "text": [
                  "\n",
                  "\u001b[A\n",
                  "\u001b[A\n",
                  "100%|██████████| 100/100 [00:00<00:00, 334.20it/s]\n"
               ]
            },
            {
               "name": "stdout",
               "output_type": "stream",
               "text": [
                  "test on day 4500\n"
               ]
            },
            {
               "name": "stderr",
               "output_type": "stream",
               "text": [
                  "\n",
                  "\u001b[A\n",
                  "\u001b[A\n",
                  "100%|██████████| 100/100 [00:00<00:00, 333.87it/s]\n"
               ]
            },
            {
               "name": "stdout",
               "output_type": "stream",
               "text": [
                  "core-periphery tests using the Lip approach\n",
                  "test on day 0\n"
               ]
            },
            {
               "name": "stderr",
               "output_type": "stream",
               "text": [
                  "\n",
                  "100%|██████████| 100/100 [00:00<00:00, 2801.10it/s]\n"
               ]
            },
            {
               "name": "stdout",
               "output_type": "stream",
               "text": [
                  "test on day 500\n"
               ]
            },
            {
               "name": "stderr",
               "output_type": "stream",
               "text": [
                  "\n",
                  "\u001b[A\n",
                  "\u001b[A\n",
                  "100%|██████████| 100/100 [00:00<00:00, 337.12it/s]\n"
               ]
            },
            {
               "name": "stdout",
               "output_type": "stream",
               "text": [
                  "test on day 1000\n"
               ]
            },
            {
               "name": "stderr",
               "output_type": "stream",
               "text": [
                  "\n",
                  "\u001b[A\n",
                  "\u001b[A\n",
                  "\u001b[A\n",
                  "100%|██████████| 100/100 [00:00<00:00, 320.68it/s]\n"
               ]
            },
            {
               "name": "stdout",
               "output_type": "stream",
               "text": [
                  "test on day 1500\n"
               ]
            },
            {
               "name": "stderr",
               "output_type": "stream",
               "text": [
                  "\n",
                  "\u001b[A\n",
                  "\u001b[A\n",
                  "\u001b[A\n",
                  "100%|██████████| 100/100 [00:00<00:00, 326.62it/s]\n"
               ]
            },
            {
               "name": "stdout",
               "output_type": "stream",
               "text": [
                  "test on day 2000\n"
               ]
            },
            {
               "name": "stderr",
               "output_type": "stream",
               "text": [
                  "\n",
                  "\u001b[A\n",
                  "\u001b[A\n",
                  "100%|██████████| 100/100 [00:00<00:00, 330.88it/s]\n"
               ]
            },
            {
               "name": "stdout",
               "output_type": "stream",
               "text": [
                  "test on day 2500\n"
               ]
            },
            {
               "name": "stderr",
               "output_type": "stream",
               "text": [
                  "\n",
                  "\u001b[A\n",
                  "\u001b[A\n",
                  "100%|██████████| 100/100 [00:00<00:00, 331.09it/s]\n"
               ]
            },
            {
               "name": "stdout",
               "output_type": "stream",
               "text": [
                  "test on day 3000\n"
               ]
            },
            {
               "name": "stderr",
               "output_type": "stream",
               "text": [
                  "\n",
                  "\u001b[A\n",
                  "\u001b[A\n",
                  "100%|██████████| 100/100 [00:00<00:00, 331.30it/s]\n"
               ]
            },
            {
               "name": "stdout",
               "output_type": "stream",
               "text": [
                  "test on day 3500\n"
               ]
            },
            {
               "name": "stderr",
               "output_type": "stream",
               "text": [
                  "\n",
                  "\u001b[A\n",
                  "\u001b[A\n",
                  "100%|██████████| 100/100 [00:00<00:00, 311.46it/s]\n"
               ]
            },
            {
               "name": "stdout",
               "output_type": "stream",
               "text": [
                  "test on day 4000\n"
               ]
            },
            {
               "name": "stderr",
               "output_type": "stream",
               "text": [
                  "\n",
                  "\u001b[A\n",
                  "\u001b[A\n",
                  "100%|██████████| 100/100 [00:00<00:00, 334.30it/s]\n"
               ]
            },
            {
               "name": "stdout",
               "output_type": "stream",
               "text": [
                  "test on day 4500\n"
               ]
            },
            {
               "name": "stderr",
               "output_type": "stream",
               "text": [
                  "\n",
                  "\u001b[A\n",
                  "\u001b[A\n",
                  "100%|██████████| 100/100 [00:00<00:00, 333.07it/s]\n"
               ]
            },
            {
               "name": "stdout",
               "output_type": "stream",
               "text": [
                  "core-periphery tests using the Lip approach\n",
                  "test on day 0\n"
               ]
            },
            {
               "name": "stderr",
               "output_type": "stream",
               "text": [
                  "\n",
                  "100%|██████████| 100/100 [00:00<00:00, 1831.02it/s]\n"
               ]
            },
            {
               "name": "stdout",
               "output_type": "stream",
               "text": [
                  "test on day 500\n"
               ]
            },
            {
               "name": "stderr",
               "output_type": "stream",
               "text": [
                  "\n",
                  "\u001b[A\n",
                  "\u001b[A\n",
                  "100%|██████████| 100/100 [00:00<00:00, 340.23it/s]\n"
               ]
            },
            {
               "name": "stdout",
               "output_type": "stream",
               "text": [
                  "test on day 1000\n"
               ]
            },
            {
               "name": "stderr",
               "output_type": "stream",
               "text": [
                  "\n",
                  "\u001b[A\n",
                  "\u001b[A\n",
                  "\u001b[A\n",
                  "100%|██████████| 100/100 [00:00<00:00, 321.03it/s]\n"
               ]
            },
            {
               "name": "stdout",
               "output_type": "stream",
               "text": [
                  "test on day 1500\n"
               ]
            },
            {
               "name": "stderr",
               "output_type": "stream",
               "text": [
                  "\n",
                  "\u001b[A\n",
                  "\u001b[A\n",
                  "\u001b[A\n",
                  "100%|██████████| 100/100 [00:00<00:00, 324.91it/s]\n"
               ]
            },
            {
               "name": "stdout",
               "output_type": "stream",
               "text": [
                  "test on day 2000\n"
               ]
            },
            {
               "name": "stderr",
               "output_type": "stream",
               "text": [
                  "\n",
                  "\u001b[A\n",
                  "\u001b[A\n",
                  "100%|██████████| 100/100 [00:00<00:00, 330.43it/s]\n"
               ]
            },
            {
               "name": "stdout",
               "output_type": "stream",
               "text": [
                  "test on day 2500\n"
               ]
            },
            {
               "name": "stderr",
               "output_type": "stream",
               "text": [
                  "\n",
                  "\u001b[A\n",
                  "\u001b[A\n",
                  "100%|██████████| 100/100 [00:00<00:00, 330.98it/s]\n"
               ]
            },
            {
               "name": "stdout",
               "output_type": "stream",
               "text": [
                  "test on day 3000\n"
               ]
            },
            {
               "name": "stderr",
               "output_type": "stream",
               "text": [
                  "\n",
                  "\u001b[A\n",
                  "\u001b[A\n",
                  "100%|██████████| 100/100 [00:00<00:00, 330.45it/s]\n"
               ]
            },
            {
               "name": "stdout",
               "output_type": "stream",
               "text": [
                  "test on day 3500\n"
               ]
            },
            {
               "name": "stderr",
               "output_type": "stream",
               "text": [
                  "\n",
                  "\u001b[A\n",
                  "\u001b[A\n",
                  "100%|██████████| 100/100 [00:00<00:00, 332.74it/s]\n"
               ]
            },
            {
               "name": "stdout",
               "output_type": "stream",
               "text": [
                  "test on day 4000\n"
               ]
            },
            {
               "name": "stderr",
               "output_type": "stream",
               "text": [
                  "\n",
                  "\u001b[A\n",
                  "\u001b[A\n",
                  "100%|██████████| 100/100 [00:00<00:00, 334.36it/s]\n"
               ]
            },
            {
               "name": "stdout",
               "output_type": "stream",
               "text": [
                  "test on day 4500\n"
               ]
            },
            {
               "name": "stderr",
               "output_type": "stream",
               "text": [
                  "\n",
                  "\u001b[A\n",
                  "\u001b[A\n",
                  "100%|██████████| 100/100 [00:00<00:00, 333.66it/s]\n",
                  "100%|██████████| 5/5 [00:14<00:00,  2.86s/it]\n"
               ]
            },
            {
               "name": "stdout",
               "output_type": "stream",
               "text": [
                  "get transaction stats av. network\n"
               ]
            },
            {
               "name": "stderr",
               "output_type": "stream",
               "text": [
                  "100%|██████████| 4500/4500 [01:05<00:00, 68.97it/s]\n"
               ]
            },
            {
               "name": "stdout",
               "output_type": "stream",
               "text": [
                  "get transaction stats av. bank\n"
               ]
            },
            {
               "name": "stderr",
               "output_type": "stream",
               "text": [
                  "100%|██████████| 4500/4500 [00:05<00:00, 752.58it/s]\n",
                  " 25%|██▍       | 4999/19999 [47:27<33:35,  7.44it/s]     "
               ]
            },
            {
               "name": "stdout",
               "output_type": "stream",
               "text": [
                  "get df_rev_repo_trans\n"
               ]
            },
            {
               "name": "stderr",
               "output_type": "stream",
               "text": [
                  "100%|██████████| 50/50 [00:00<00:00, 741043.11it/s]\n"
               ]
            },
            {
               "name": "stdout",
               "output_type": "stream",
               "text": [
                  "get df_rev_repo_trans\n"
               ]
            },
            {
               "name": "stderr",
               "output_type": "stream",
               "text": [
                  "100%|██████████| 50/50 [00:00<00:00, 725658.13it/s]\n"
               ]
            },
            {
               "name": "stdout",
               "output_type": "stream",
               "text": [
                  "get arr_rev_repo_exp_adj\n"
               ]
            },
            {
               "name": "stderr",
               "output_type": "stream",
               "text": [
                  "174932it [03:54, 746.70it/s] \n"
               ]
            },
            {
               "name": "stdout",
               "output_type": "stream",
               "text": [
                  "get arr_binary_adj (numba)\n",
                  "get degree distribution\n"
               ]
            },
            {
               "name": "stderr",
               "output_type": "stream",
               "text": [
                  "100%|██████████| 5000/5000 [00:44<00:00, 112.02it/s]\n"
               ]
            },
            {
               "name": "stdout",
               "output_type": "stream",
               "text": [
                  "get jaccard\n"
               ]
            },
            {
               "name": "stderr",
               "output_type": "stream",
               "text": [
                  "100%|██████████| 4999/4999 [00:01<00:00, 4857.92it/s]\n"
               ]
            },
            {
               "name": "stdout",
               "output_type": "stream",
               "text": [
                  "get density\n"
               ]
            },
            {
               "name": "stderr",
               "output_type": "stream",
               "text": [
                  "100%|██████████| 4999/4999 [00:00<00:00, 5144.12it/s]\n"
               ]
            },
            {
               "name": "stdout",
               "output_type": "stream",
               "text": [
                  "get degree stats\n"
               ]
            },
            {
               "name": "stderr",
               "output_type": "stream",
               "text": [
                  "100%|██████████| 4999/4999 [00:02<00:00, 1733.97it/s]\n"
               ]
            },
            {
               "name": "stdout",
               "output_type": "stream",
               "text": [
                  "get exposure stats\n"
               ]
            },
            {
               "name": "stderr",
               "output_type": "stream",
               "text": [
                  "100%|██████████| 5001/5001 [00:01<00:00, 4876.02it/s]\n"
               ]
            },
            {
               "name": "stdout",
               "output_type": "stream",
               "text": [
                  "run core-periphery tests\n"
               ]
            },
            {
               "name": "stderr",
               "output_type": "stream",
               "text": []
            },
            {
               "name": "stdout",
               "output_type": "stream",
               "text": [
                  "core-periphery tests using the Lip approach\n",
                  "test on day 0\n"
               ]
            },
            {
               "name": "stderr",
               "output_type": "stream",
               "text": [
                  "\n",
                  "100%|██████████| 100/100 [00:00<00:00, 2829.80it/s]\n"
               ]
            },
            {
               "name": "stdout",
               "output_type": "stream",
               "text": [
                  "test on day 500\n"
               ]
            },
            {
               "name": "stderr",
               "output_type": "stream",
               "text": [
                  "\n",
                  "\u001b[A\n",
                  "\u001b[A\n",
                  "\u001b[A\n",
                  "100%|██████████| 100/100 [00:00<00:00, 247.82it/s]\n"
               ]
            },
            {
               "name": "stdout",
               "output_type": "stream",
               "text": [
                  "test on day 1000\n"
               ]
            },
            {
               "name": "stderr",
               "output_type": "stream",
               "text": [
                  "\n",
                  "\u001b[A\n",
                  "\u001b[A\n",
                  "\u001b[A\n",
                  "100%|██████████| 100/100 [00:00<00:00, 325.23it/s]\n"
               ]
            },
            {
               "name": "stdout",
               "output_type": "stream",
               "text": [
                  "test on day 1500\n"
               ]
            },
            {
               "name": "stderr",
               "output_type": "stream",
               "text": [
                  "\n",
                  "\u001b[A\n",
                  "\u001b[A\n",
                  "\u001b[A\n",
                  "100%|██████████| 100/100 [00:00<00:00, 327.50it/s]\n"
               ]
            },
            {
               "name": "stdout",
               "output_type": "stream",
               "text": [
                  "test on day 2000\n"
               ]
            },
            {
               "name": "stderr",
               "output_type": "stream",
               "text": [
                  "\n",
                  "\u001b[A\n",
                  "\u001b[A\n",
                  "100%|██████████| 100/100 [00:00<00:00, 331.33it/s]\n"
               ]
            },
            {
               "name": "stdout",
               "output_type": "stream",
               "text": [
                  "test on day 2500\n"
               ]
            },
            {
               "name": "stderr",
               "output_type": "stream",
               "text": [
                  "\n",
                  "\u001b[A\n",
                  "\u001b[A\n",
                  "100%|██████████| 100/100 [00:00<00:00, 329.01it/s]\n"
               ]
            },
            {
               "name": "stdout",
               "output_type": "stream",
               "text": [
                  "test on day 3000\n"
               ]
            },
            {
               "name": "stderr",
               "output_type": "stream",
               "text": [
                  "\n",
                  "\u001b[A\n",
                  "\u001b[A\n",
                  "\u001b[A\n",
                  "100%|██████████| 100/100 [00:00<00:00, 328.43it/s]\n"
               ]
            },
            {
               "name": "stdout",
               "output_type": "stream",
               "text": [
                  "test on day 3500\n"
               ]
            },
            {
               "name": "stderr",
               "output_type": "stream",
               "text": [
                  "\n",
                  "\u001b[A\n",
                  "\u001b[A\n",
                  "100%|██████████| 100/100 [00:00<00:00, 330.89it/s]\n"
               ]
            },
            {
               "name": "stdout",
               "output_type": "stream",
               "text": [
                  "test on day 4000\n"
               ]
            },
            {
               "name": "stderr",
               "output_type": "stream",
               "text": [
                  "\n",
                  "\u001b[A\n",
                  "\u001b[A\n",
                  "100%|██████████| 100/100 [00:00<00:00, 330.69it/s]\n"
               ]
            },
            {
               "name": "stdout",
               "output_type": "stream",
               "text": [
                  "test on day 4500\n"
               ]
            },
            {
               "name": "stderr",
               "output_type": "stream",
               "text": [
                  "\n",
                  "\u001b[A\n",
                  "\u001b[A\n",
                  "100%|██████████| 100/100 [00:00<00:00, 330.87it/s]\n"
               ]
            },
            {
               "name": "stdout",
               "output_type": "stream",
               "text": [
                  "test on day 5000\n"
               ]
            },
            {
               "name": "stderr",
               "output_type": "stream",
               "text": [
                  "\n",
                  "\u001b[A\n",
                  "\u001b[A\n",
                  "100%|██████████| 100/100 [00:00<00:00, 330.78it/s]\n"
               ]
            },
            {
               "name": "stdout",
               "output_type": "stream",
               "text": [
                  "core-periphery tests using the Lip approach\n",
                  "test on day 0\n"
               ]
            },
            {
               "name": "stderr",
               "output_type": "stream",
               "text": [
                  "\n",
                  "100%|██████████| 100/100 [00:00<00:00, 2836.27it/s]\n"
               ]
            },
            {
               "name": "stdout",
               "output_type": "stream",
               "text": [
                  "test on day 500\n"
               ]
            },
            {
               "name": "stderr",
               "output_type": "stream",
               "text": [
                  "\n",
                  "\u001b[A\n",
                  "\u001b[A\n",
                  "100%|██████████| 100/100 [00:00<00:00, 336.35it/s]\n"
               ]
            },
            {
               "name": "stdout",
               "output_type": "stream",
               "text": [
                  "test on day 1000\n"
               ]
            },
            {
               "name": "stderr",
               "output_type": "stream",
               "text": [
                  "\n",
                  "\u001b[A\n",
                  "\u001b[A\n",
                  "\u001b[A\n",
                  "100%|██████████| 100/100 [00:00<00:00, 323.04it/s]\n"
               ]
            },
            {
               "name": "stdout",
               "output_type": "stream",
               "text": [
                  "test on day 1500\n"
               ]
            },
            {
               "name": "stderr",
               "output_type": "stream",
               "text": [
                  "\n",
                  "\u001b[A\n",
                  "\u001b[A\n",
                  "\u001b[A\n",
                  "100%|██████████| 100/100 [00:00<00:00, 325.54it/s]\n"
               ]
            },
            {
               "name": "stdout",
               "output_type": "stream",
               "text": [
                  "test on day 2000\n"
               ]
            },
            {
               "name": "stderr",
               "output_type": "stream",
               "text": [
                  "\n",
                  "\u001b[A\n",
                  "\u001b[A\n",
                  "\u001b[A\n",
                  "100%|██████████| 100/100 [00:00<00:00, 324.60it/s]\n"
               ]
            },
            {
               "name": "stdout",
               "output_type": "stream",
               "text": [
                  "test on day 2500\n"
               ]
            },
            {
               "name": "stderr",
               "output_type": "stream",
               "text": [
                  "\n",
                  "\u001b[A\n",
                  "\u001b[A\n",
                  "\u001b[A\n",
                  "100%|██████████| 100/100 [00:00<00:00, 326.13it/s]\n"
               ]
            },
            {
               "name": "stdout",
               "output_type": "stream",
               "text": [
                  "test on day 3000\n"
               ]
            },
            {
               "name": "stderr",
               "output_type": "stream",
               "text": [
                  "\n",
                  "\u001b[A\n",
                  "\u001b[A\n",
                  "\u001b[A\n",
                  "100%|██████████| 100/100 [00:00<00:00, 327.64it/s]\n"
               ]
            },
            {
               "name": "stdout",
               "output_type": "stream",
               "text": [
                  "test on day 3500\n"
               ]
            },
            {
               "name": "stderr",
               "output_type": "stream",
               "text": [
                  "\n",
                  "\u001b[A\n",
                  "\u001b[A\n",
                  "100%|██████████| 100/100 [00:00<00:00, 330.06it/s]\n"
               ]
            },
            {
               "name": "stdout",
               "output_type": "stream",
               "text": [
                  "test on day 4000\n"
               ]
            },
            {
               "name": "stderr",
               "output_type": "stream",
               "text": [
                  "\n",
                  "\u001b[A\n",
                  "\u001b[A\n",
                  "100%|██████████| 100/100 [00:00<00:00, 330.06it/s]\n"
               ]
            },
            {
               "name": "stdout",
               "output_type": "stream",
               "text": [
                  "test on day 4500\n"
               ]
            },
            {
               "name": "stderr",
               "output_type": "stream",
               "text": [
                  "\n",
                  "\u001b[A\n",
                  "\u001b[A\n",
                  "100%|██████████| 100/100 [00:00<00:00, 329.68it/s]\n"
               ]
            },
            {
               "name": "stdout",
               "output_type": "stream",
               "text": [
                  "test on day 5000\n"
               ]
            },
            {
               "name": "stderr",
               "output_type": "stream",
               "text": [
                  "\n",
                  "\u001b[A\n",
                  "\u001b[A\n",
                  "100%|██████████| 100/100 [00:00<00:00, 329.51it/s]\n"
               ]
            },
            {
               "name": "stdout",
               "output_type": "stream",
               "text": [
                  "core-periphery tests using the Lip approach\n",
                  "test on day 0\n"
               ]
            },
            {
               "name": "stderr",
               "output_type": "stream",
               "text": [
                  "\n",
                  "100%|██████████| 100/100 [00:00<00:00, 2827.47it/s]\n"
               ]
            },
            {
               "name": "stdout",
               "output_type": "stream",
               "text": [
                  "test on day 500\n"
               ]
            },
            {
               "name": "stderr",
               "output_type": "stream",
               "text": [
                  "\n",
                  "\u001b[A\n",
                  "\u001b[A\n",
                  "100%|██████████| 100/100 [00:00<00:00, 334.10it/s]\n"
               ]
            },
            {
               "name": "stdout",
               "output_type": "stream",
               "text": [
                  "test on day 1000\n"
               ]
            },
            {
               "name": "stderr",
               "output_type": "stream",
               "text": [
                  "\n",
                  "\u001b[A\n",
                  "\u001b[A\n",
                  "\u001b[A\n",
                  "100%|██████████| 100/100 [00:00<00:00, 317.85it/s]\n"
               ]
            },
            {
               "name": "stdout",
               "output_type": "stream",
               "text": [
                  "test on day 1500\n"
               ]
            },
            {
               "name": "stderr",
               "output_type": "stream",
               "text": [
                  "\n",
                  "\u001b[A\n",
                  "\u001b[A\n",
                  "\u001b[A\n",
                  "100%|██████████| 100/100 [00:00<00:00, 322.13it/s]\n"
               ]
            },
            {
               "name": "stdout",
               "output_type": "stream",
               "text": [
                  "test on day 2000\n"
               ]
            },
            {
               "name": "stderr",
               "output_type": "stream",
               "text": [
                  "\n",
                  "\u001b[A\n",
                  "\u001b[A\n",
                  "\u001b[A\n",
                  "100%|██████████| 100/100 [00:00<00:00, 324.64it/s]\n"
               ]
            },
            {
               "name": "stdout",
               "output_type": "stream",
               "text": [
                  "test on day 2500\n"
               ]
            },
            {
               "name": "stderr",
               "output_type": "stream",
               "text": [
                  "\n",
                  "\u001b[A\n",
                  "\u001b[A\n",
                  "100%|██████████| 100/100 [00:00<00:00, 319.96it/s]\n"
               ]
            },
            {
               "name": "stdout",
               "output_type": "stream",
               "text": [
                  "test on day 3000\n"
               ]
            },
            {
               "name": "stderr",
               "output_type": "stream",
               "text": [
                  "\n",
                  "\u001b[A\n",
                  "\u001b[A\n",
                  "100%|██████████| 100/100 [00:00<00:00, 331.56it/s]\n"
               ]
            },
            {
               "name": "stdout",
               "output_type": "stream",
               "text": [
                  "test on day 3500\n"
               ]
            },
            {
               "name": "stderr",
               "output_type": "stream",
               "text": [
                  "\n",
                  "\u001b[A\n",
                  "\u001b[A\n",
                  "\u001b[A\n",
                  "100%|██████████| 100/100 [00:00<00:00, 326.42it/s]\n"
               ]
            },
            {
               "name": "stdout",
               "output_type": "stream",
               "text": [
                  "test on day 4000\n"
               ]
            },
            {
               "name": "stderr",
               "output_type": "stream",
               "text": [
                  "\n",
                  "\u001b[A\n",
                  "\u001b[A\n",
                  "100%|██████████| 100/100 [00:00<00:00, 329.05it/s]\n"
               ]
            },
            {
               "name": "stdout",
               "output_type": "stream",
               "text": [
                  "test on day 4500\n"
               ]
            },
            {
               "name": "stderr",
               "output_type": "stream",
               "text": [
                  "\n",
                  "\u001b[A\n",
                  "\u001b[A\n",
                  "\u001b[A\n",
                  "100%|██████████| 100/100 [00:00<00:00, 327.16it/s]\n"
               ]
            },
            {
               "name": "stdout",
               "output_type": "stream",
               "text": [
                  "test on day 5000\n"
               ]
            },
            {
               "name": "stderr",
               "output_type": "stream",
               "text": [
                  "\n",
                  "\u001b[A\n",
                  "\u001b[A\n",
                  "\u001b[A\n",
                  "100%|██████████| 100/100 [00:00<00:00, 326.72it/s]\n"
               ]
            },
            {
               "name": "stdout",
               "output_type": "stream",
               "text": [
                  "core-periphery tests using the Lip approach\n",
                  "test on day 0\n"
               ]
            },
            {
               "name": "stderr",
               "output_type": "stream",
               "text": [
                  "\n",
                  "100%|██████████| 100/100 [00:00<00:00, 2823.69it/s]\n"
               ]
            },
            {
               "name": "stdout",
               "output_type": "stream",
               "text": [
                  "test on day 500\n"
               ]
            },
            {
               "name": "stderr",
               "output_type": "stream",
               "text": [
                  "\n",
                  "\u001b[A\n",
                  "\u001b[A\n",
                  "100%|██████████| 100/100 [00:00<00:00, 333.70it/s]\n"
               ]
            },
            {
               "name": "stdout",
               "output_type": "stream",
               "text": [
                  "test on day 1000\n"
               ]
            },
            {
               "name": "stderr",
               "output_type": "stream",
               "text": [
                  "\n",
                  "\u001b[A\n",
                  "\u001b[A\n",
                  "\u001b[A\n",
                  "100%|██████████| 100/100 [00:00<00:00, 316.53it/s]\n"
               ]
            },
            {
               "name": "stdout",
               "output_type": "stream",
               "text": [
                  "test on day 1500\n"
               ]
            },
            {
               "name": "stderr",
               "output_type": "stream",
               "text": [
                  "\n",
                  "\u001b[A\n",
                  "\u001b[A\n",
                  "\u001b[A\n",
                  "100%|██████████| 100/100 [00:00<00:00, 320.39it/s]\n"
               ]
            },
            {
               "name": "stdout",
               "output_type": "stream",
               "text": [
                  "test on day 2000\n"
               ]
            },
            {
               "name": "stderr",
               "output_type": "stream",
               "text": [
                  "\n",
                  "\u001b[A\n",
                  "\u001b[A\n",
                  "\u001b[A\n",
                  "100%|██████████| 100/100 [00:00<00:00, 323.55it/s]\n"
               ]
            },
            {
               "name": "stdout",
               "output_type": "stream",
               "text": [
                  "test on day 2500\n"
               ]
            },
            {
               "name": "stderr",
               "output_type": "stream",
               "text": [
                  "\n",
                  "\u001b[A\n",
                  "\u001b[A\n",
                  "\u001b[A\n",
                  "100%|██████████| 100/100 [00:00<00:00, 321.27it/s]\n"
               ]
            },
            {
               "name": "stdout",
               "output_type": "stream",
               "text": [
                  "test on day 3000\n"
               ]
            },
            {
               "name": "stderr",
               "output_type": "stream",
               "text": [
                  "\n",
                  "\u001b[A\n",
                  "\u001b[A\n",
                  "100%|██████████| 100/100 [00:00<00:00, 330.63it/s]\n"
               ]
            },
            {
               "name": "stdout",
               "output_type": "stream",
               "text": [
                  "test on day 3500\n"
               ]
            },
            {
               "name": "stderr",
               "output_type": "stream",
               "text": [
                  "\n",
                  "\u001b[A\n",
                  "\u001b[A\n",
                  "100%|██████████| 100/100 [00:00<00:00, 330.03it/s]\n"
               ]
            },
            {
               "name": "stdout",
               "output_type": "stream",
               "text": [
                  "test on day 4000\n"
               ]
            },
            {
               "name": "stderr",
               "output_type": "stream",
               "text": [
                  "\n",
                  "\u001b[A\n",
                  "\u001b[A\n",
                  "\u001b[A\n",
                  "100%|██████████| 100/100 [00:00<00:00, 326.10it/s]\n"
               ]
            },
            {
               "name": "stdout",
               "output_type": "stream",
               "text": [
                  "test on day 4500\n"
               ]
            },
            {
               "name": "stderr",
               "output_type": "stream",
               "text": [
                  "\n",
                  "\u001b[A\n",
                  "\u001b[A\n",
                  "\u001b[A\n",
                  "100%|██████████| 100/100 [00:00<00:00, 325.35it/s]\n"
               ]
            },
            {
               "name": "stdout",
               "output_type": "stream",
               "text": [
                  "test on day 5000\n"
               ]
            },
            {
               "name": "stderr",
               "output_type": "stream",
               "text": [
                  "\n",
                  "\u001b[A\n",
                  "\u001b[A\n",
                  "\u001b[A\n",
                  "100%|██████████| 100/100 [00:00<00:00, 325.95it/s]\n"
               ]
            },
            {
               "name": "stdout",
               "output_type": "stream",
               "text": [
                  "core-periphery tests using the Lip approach\n",
                  "test on day 0\n"
               ]
            },
            {
               "name": "stderr",
               "output_type": "stream",
               "text": [
                  "\n",
                  "100%|██████████| 100/100 [00:00<00:00, 1806.43it/s]\n"
               ]
            },
            {
               "name": "stdout",
               "output_type": "stream",
               "text": [
                  "test on day 500\n"
               ]
            },
            {
               "name": "stderr",
               "output_type": "stream",
               "text": [
                  "\n",
                  "\u001b[A\n",
                  "\u001b[A\n",
                  "100%|██████████| 100/100 [00:00<00:00, 337.46it/s]\n"
               ]
            },
            {
               "name": "stdout",
               "output_type": "stream",
               "text": [
                  "test on day 1000\n"
               ]
            },
            {
               "name": "stderr",
               "output_type": "stream",
               "text": [
                  "\n",
                  "\u001b[A\n",
                  "\u001b[A\n",
                  "\u001b[A\n",
                  "100%|██████████| 100/100 [00:00<00:00, 320.35it/s]\n"
               ]
            },
            {
               "name": "stdout",
               "output_type": "stream",
               "text": [
                  "test on day 1500\n"
               ]
            },
            {
               "name": "stderr",
               "output_type": "stream",
               "text": [
                  "\n",
                  "\u001b[A\n",
                  "\u001b[A\n",
                  "\u001b[A\n",
                  "100%|██████████| 100/100 [00:00<00:00, 318.21it/s]\n"
               ]
            },
            {
               "name": "stdout",
               "output_type": "stream",
               "text": [
                  "test on day 2000\n"
               ]
            },
            {
               "name": "stderr",
               "output_type": "stream",
               "text": [
                  "\n",
                  "\u001b[A\n",
                  "\u001b[A\n",
                  "\u001b[A\n",
                  "100%|██████████| 100/100 [00:00<00:00, 321.96it/s]\n"
               ]
            },
            {
               "name": "stdout",
               "output_type": "stream",
               "text": [
                  "test on day 2500\n"
               ]
            },
            {
               "name": "stderr",
               "output_type": "stream",
               "text": [
                  "\n",
                  "\u001b[A\n",
                  "\u001b[A\n",
                  "\u001b[A\n",
                  "100%|██████████| 100/100 [00:00<00:00, 323.88it/s]\n"
               ]
            },
            {
               "name": "stdout",
               "output_type": "stream",
               "text": [
                  "test on day 3000\n"
               ]
            },
            {
               "name": "stderr",
               "output_type": "stream",
               "text": [
                  "\n",
                  "\u001b[A\n",
                  "\u001b[A\n",
                  "\u001b[A\n",
                  "100%|██████████| 100/100 [00:00<00:00, 325.01it/s]\n"
               ]
            },
            {
               "name": "stdout",
               "output_type": "stream",
               "text": [
                  "test on day 3500\n"
               ]
            },
            {
               "name": "stderr",
               "output_type": "stream",
               "text": [
                  "\n",
                  "\u001b[A\n",
                  "\u001b[A\n",
                  "\u001b[A\n",
                  "100%|██████████| 100/100 [00:00<00:00, 324.78it/s]\n"
               ]
            },
            {
               "name": "stdout",
               "output_type": "stream",
               "text": [
                  "test on day 4000\n"
               ]
            },
            {
               "name": "stderr",
               "output_type": "stream",
               "text": [
                  "\n",
                  "\u001b[A\n",
                  "\u001b[A\n",
                  "\u001b[A\n",
                  "100%|██████████| 100/100 [00:00<00:00, 320.89it/s]\n"
               ]
            },
            {
               "name": "stdout",
               "output_type": "stream",
               "text": [
                  "test on day 4500\n"
               ]
            },
            {
               "name": "stderr",
               "output_type": "stream",
               "text": [
                  "\n",
                  "\u001b[A\n",
                  "\u001b[A\n",
                  "100%|██████████| 100/100 [00:00<00:00, 331.18it/s]\n"
               ]
            },
            {
               "name": "stdout",
               "output_type": "stream",
               "text": [
                  "test on day 5000\n"
               ]
            },
            {
               "name": "stderr",
               "output_type": "stream",
               "text": [
                  "\n",
                  "\u001b[A\n",
                  "\u001b[A\n",
                  "100%|██████████| 100/100 [00:00<00:00, 331.65it/s]\n",
                  "100%|██████████| 5/5 [00:16<00:00,  3.26s/it]\n"
               ]
            },
            {
               "name": "stdout",
               "output_type": "stream",
               "text": [
                  "get transaction stats av. network\n"
               ]
            },
            {
               "name": "stderr",
               "output_type": "stream",
               "text": [
                  "100%|██████████| 5000/5000 [01:20<00:00, 62.19it/s]\n"
               ]
            },
            {
               "name": "stdout",
               "output_type": "stream",
               "text": [
                  "get transaction stats av. bank\n"
               ]
            },
            {
               "name": "stderr",
               "output_type": "stream",
               "text": [
                  "100%|██████████| 5000/5000 [00:06<00:00, 734.88it/s]\n",
                  " 27%|██▋       | 5499/19999 [57:34<36:52,  6.55it/s]     "
               ]
            },
            {
               "name": "stdout",
               "output_type": "stream",
               "text": [
                  "get df_rev_repo_trans\n"
               ]
            },
            {
               "name": "stderr",
               "output_type": "stream",
               "text": [
                  "100%|██████████| 50/50 [00:00<00:00, 788403.01it/s]\n"
               ]
            },
            {
               "name": "stdout",
               "output_type": "stream",
               "text": [
                  "get df_rev_repo_trans\n"
               ]
            },
            {
               "name": "stderr",
               "output_type": "stream",
               "text": [
                  "100%|██████████| 50/50 [00:00<00:00, 723155.86it/s]\n"
               ]
            },
            {
               "name": "stdout",
               "output_type": "stream",
               "text": [
                  "get arr_rev_repo_exp_adj\n"
               ]
            },
            {
               "name": "stderr",
               "output_type": "stream",
               "text": [
                  "191143it [04:18, 738.85it/s] \n"
               ]
            },
            {
               "name": "stdout",
               "output_type": "stream",
               "text": [
                  "get arr_binary_adj (numba)\n",
                  "get degree distribution\n"
               ]
            },
            {
               "name": "stderr",
               "output_type": "stream",
               "text": [
                  "100%|██████████| 5500/5500 [00:55<00:00, 99.84it/s]\n"
               ]
            },
            {
               "name": "stdout",
               "output_type": "stream",
               "text": [
                  "get jaccard\n"
               ]
            },
            {
               "name": "stderr",
               "output_type": "stream",
               "text": [
                  "100%|██████████| 5499/5499 [00:01<00:00, 4768.85it/s]\n"
               ]
            },
            {
               "name": "stdout",
               "output_type": "stream",
               "text": [
                  "get density\n"
               ]
            },
            {
               "name": "stderr",
               "output_type": "stream",
               "text": [
                  "100%|██████████| 5499/5499 [00:01<00:00, 4965.72it/s]\n"
               ]
            },
            {
               "name": "stdout",
               "output_type": "stream",
               "text": [
                  "get degree stats\n"
               ]
            },
            {
               "name": "stderr",
               "output_type": "stream",
               "text": [
                  "100%|██████████| 5499/5499 [00:03<00:00, 1700.89it/s]\n"
               ]
            },
            {
               "name": "stdout",
               "output_type": "stream",
               "text": [
                  "get exposure stats\n"
               ]
            },
            {
               "name": "stderr",
               "output_type": "stream",
               "text": [
                  "100%|██████████| 5501/5501 [00:01<00:00, 4820.09it/s]\n"
               ]
            },
            {
               "name": "stdout",
               "output_type": "stream",
               "text": [
                  "run core-periphery tests\n"
               ]
            },
            {
               "name": "stderr",
               "output_type": "stream",
               "text": []
            },
            {
               "name": "stdout",
               "output_type": "stream",
               "text": [
                  "core-periphery tests using the Lip approach\n",
                  "test on day 0\n"
               ]
            },
            {
               "name": "stderr",
               "output_type": "stream",
               "text": [
                  "\n",
                  "100%|██████████| 100/100 [00:00<00:00, 2800.98it/s]\n"
               ]
            },
            {
               "name": "stdout",
               "output_type": "stream",
               "text": [
                  "test on day 500\n"
               ]
            },
            {
               "name": "stderr",
               "output_type": "stream",
               "text": [
                  "\n",
                  "\u001b[A\n",
                  "\u001b[A\n",
                  "\u001b[A\n",
                  "100%|██████████| 100/100 [00:00<00:00, 326.81it/s]\n"
               ]
            },
            {
               "name": "stdout",
               "output_type": "stream",
               "text": [
                  "test on day 1000\n"
               ]
            },
            {
               "name": "stderr",
               "output_type": "stream",
               "text": [
                  "\n",
                  "\u001b[A\n",
                  "\u001b[A\n",
                  "\u001b[A\n",
                  "100%|██████████| 100/100 [00:00<00:00, 321.69it/s]\n"
               ]
            },
            {
               "name": "stdout",
               "output_type": "stream",
               "text": [
                  "test on day 1500\n"
               ]
            },
            {
               "name": "stderr",
               "output_type": "stream",
               "text": [
                  "\n",
                  "\u001b[A\n",
                  "\u001b[A\n",
                  "\u001b[A\n",
                  "100%|██████████| 100/100 [00:00<00:00, 323.40it/s]\n"
               ]
            },
            {
               "name": "stdout",
               "output_type": "stream",
               "text": [
                  "test on day 2000\n"
               ]
            },
            {
               "name": "stderr",
               "output_type": "stream",
               "text": [
                  "\n",
                  "\u001b[A\n",
                  "\u001b[A\n",
                  "100%|██████████| 100/100 [00:00<00:00, 329.81it/s]\n"
               ]
            },
            {
               "name": "stdout",
               "output_type": "stream",
               "text": [
                  "test on day 2500\n"
               ]
            },
            {
               "name": "stderr",
               "output_type": "stream",
               "text": [
                  "\n",
                  "\u001b[A\n",
                  "\u001b[A\n",
                  "100%|██████████| 100/100 [00:00<00:00, 330.50it/s]\n"
               ]
            },
            {
               "name": "stdout",
               "output_type": "stream",
               "text": [
                  "test on day 3000\n"
               ]
            },
            {
               "name": "stderr",
               "output_type": "stream",
               "text": [
                  "\n",
                  "\u001b[A\n",
                  "\u001b[A\n",
                  "100%|██████████| 100/100 [00:00<00:00, 329.70it/s]\n"
               ]
            },
            {
               "name": "stdout",
               "output_type": "stream",
               "text": [
                  "test on day 3500\n"
               ]
            },
            {
               "name": "stderr",
               "output_type": "stream",
               "text": [
                  "\n",
                  "\u001b[A\n",
                  "\u001b[A\n",
                  "100%|██████████| 100/100 [00:00<00:00, 330.28it/s]\n"
               ]
            },
            {
               "name": "stdout",
               "output_type": "stream",
               "text": [
                  "test on day 4000\n"
               ]
            },
            {
               "name": "stderr",
               "output_type": "stream",
               "text": [
                  "\n",
                  "\u001b[A\n",
                  "\u001b[A\n",
                  "100%|██████████| 100/100 [00:00<00:00, 328.99it/s]\n"
               ]
            },
            {
               "name": "stdout",
               "output_type": "stream",
               "text": [
                  "test on day 4500\n"
               ]
            },
            {
               "name": "stderr",
               "output_type": "stream",
               "text": [
                  "\n",
                  "\u001b[A\n",
                  "\u001b[A\n",
                  "\u001b[A\n",
                  "100%|██████████| 100/100 [00:00<00:00, 326.85it/s]\n"
               ]
            },
            {
               "name": "stdout",
               "output_type": "stream",
               "text": [
                  "test on day 5000\n"
               ]
            },
            {
               "name": "stderr",
               "output_type": "stream",
               "text": [
                  "\n",
                  "\u001b[A\n",
                  "\u001b[A\n",
                  "100%|██████████| 100/100 [00:00<00:00, 329.62it/s]\n"
               ]
            },
            {
               "name": "stdout",
               "output_type": "stream",
               "text": [
                  "test on day 5500\n"
               ]
            },
            {
               "name": "stderr",
               "output_type": "stream",
               "text": [
                  "\n",
                  "\u001b[A\n",
                  "\u001b[A\n",
                  "100%|██████████| 100/100 [00:00<00:00, 331.41it/s]\n"
               ]
            },
            {
               "name": "stdout",
               "output_type": "stream",
               "text": [
                  "core-periphery tests using the Lip approach\n",
                  "test on day 0\n"
               ]
            },
            {
               "name": "stderr",
               "output_type": "stream",
               "text": [
                  "\n",
                  "100%|██████████| 100/100 [00:00<00:00, 2798.24it/s]\n"
               ]
            },
            {
               "name": "stdout",
               "output_type": "stream",
               "text": [
                  "test on day 500\n"
               ]
            },
            {
               "name": "stderr",
               "output_type": "stream",
               "text": [
                  "\n",
                  "\u001b[A\n",
                  "\u001b[A\n",
                  "100%|██████████| 100/100 [00:00<00:00, 332.45it/s]\n"
               ]
            },
            {
               "name": "stdout",
               "output_type": "stream",
               "text": [
                  "test on day 1000\n"
               ]
            },
            {
               "name": "stderr",
               "output_type": "stream",
               "text": [
                  "\n",
                  "\u001b[A\n",
                  "\u001b[A\n",
                  "\u001b[A\n",
                  "100%|██████████| 100/100 [00:00<00:00, 318.44it/s]\n"
               ]
            },
            {
               "name": "stdout",
               "output_type": "stream",
               "text": [
                  "test on day 1500\n"
               ]
            },
            {
               "name": "stderr",
               "output_type": "stream",
               "text": [
                  "\n",
                  "\u001b[A\n",
                  "\u001b[A\n",
                  "\u001b[A\n",
                  "100%|██████████| 100/100 [00:00<00:00, 321.62it/s]\n"
               ]
            },
            {
               "name": "stdout",
               "output_type": "stream",
               "text": [
                  "test on day 2000\n"
               ]
            },
            {
               "name": "stderr",
               "output_type": "stream",
               "text": [
                  "\n",
                  "\u001b[A\n",
                  "\u001b[A\n",
                  "100%|██████████| 100/100 [00:00<00:00, 326.61it/s]\n"
               ]
            },
            {
               "name": "stdout",
               "output_type": "stream",
               "text": [
                  "test on day 2500\n"
               ]
            },
            {
               "name": "stderr",
               "output_type": "stream",
               "text": [
                  "\n",
                  "\u001b[A\n",
                  "\u001b[A\n",
                  "100%|██████████| 100/100 [00:00<00:00, 327.89it/s]\n"
               ]
            },
            {
               "name": "stdout",
               "output_type": "stream",
               "text": [
                  "test on day 3000\n"
               ]
            },
            {
               "name": "stderr",
               "output_type": "stream",
               "text": [
                  "\n",
                  "\u001b[A\n",
                  "\u001b[A\n",
                  "100%|██████████| 100/100 [00:00<00:00, 329.30it/s]\n"
               ]
            },
            {
               "name": "stdout",
               "output_type": "stream",
               "text": [
                  "test on day 3500\n"
               ]
            },
            {
               "name": "stderr",
               "output_type": "stream",
               "text": [
                  "\n",
                  "\u001b[A\n",
                  "\u001b[A\n",
                  "100%|██████████| 100/100 [00:00<00:00, 328.38it/s]\n"
               ]
            },
            {
               "name": "stdout",
               "output_type": "stream",
               "text": [
                  "test on day 4000\n"
               ]
            },
            {
               "name": "stderr",
               "output_type": "stream",
               "text": [
                  "\n",
                  "\u001b[A\n",
                  "\u001b[A\n",
                  "100%|██████████| 100/100 [00:00<00:00, 329.72it/s]\n"
               ]
            },
            {
               "name": "stdout",
               "output_type": "stream",
               "text": [
                  "test on day 4500\n"
               ]
            },
            {
               "name": "stderr",
               "output_type": "stream",
               "text": [
                  "\n",
                  "\u001b[A\n",
                  "\u001b[A\n",
                  "\u001b[A\n",
                  "100%|██████████| 100/100 [00:00<00:00, 324.98it/s]\n"
               ]
            },
            {
               "name": "stdout",
               "output_type": "stream",
               "text": [
                  "test on day 5000\n"
               ]
            },
            {
               "name": "stderr",
               "output_type": "stream",
               "text": [
                  "\n",
                  "\u001b[A\n",
                  "\u001b[A\n",
                  "100%|██████████| 100/100 [00:00<00:00, 329.06it/s]\n"
               ]
            },
            {
               "name": "stdout",
               "output_type": "stream",
               "text": [
                  "test on day 5500\n"
               ]
            },
            {
               "name": "stderr",
               "output_type": "stream",
               "text": [
                  "\n",
                  "\u001b[A\n",
                  "\u001b[A\n",
                  "100%|██████████| 100/100 [00:00<00:00, 327.73it/s]\n"
               ]
            },
            {
               "name": "stdout",
               "output_type": "stream",
               "text": [
                  "core-periphery tests using the Lip approach\n",
                  "test on day 0\n"
               ]
            },
            {
               "name": "stderr",
               "output_type": "stream",
               "text": [
                  "\n",
                  "100%|██████████| 100/100 [00:00<00:00, 2779.95it/s]\n"
               ]
            },
            {
               "name": "stdout",
               "output_type": "stream",
               "text": [
                  "test on day 500\n"
               ]
            },
            {
               "name": "stderr",
               "output_type": "stream",
               "text": [
                  "\n",
                  "\u001b[A\n",
                  "\u001b[A\n",
                  "100%|██████████| 100/100 [00:00<00:00, 331.14it/s]\n"
               ]
            },
            {
               "name": "stdout",
               "output_type": "stream",
               "text": [
                  "test on day 1000\n"
               ]
            },
            {
               "name": "stderr",
               "output_type": "stream",
               "text": [
                  "\n",
                  "\u001b[A\n",
                  "\u001b[A\n",
                  "\u001b[A\n",
                  "100%|██████████| 100/100 [00:00<00:00, 316.88it/s]\n"
               ]
            },
            {
               "name": "stdout",
               "output_type": "stream",
               "text": [
                  "test on day 1500\n"
               ]
            },
            {
               "name": "stderr",
               "output_type": "stream",
               "text": [
                  "\n",
                  "\u001b[A\n",
                  "\u001b[A\n",
                  "\u001b[A\n",
                  "100%|██████████| 100/100 [00:00<00:00, 319.80it/s]\n"
               ]
            },
            {
               "name": "stdout",
               "output_type": "stream",
               "text": [
                  "test on day 2000\n"
               ]
            },
            {
               "name": "stderr",
               "output_type": "stream",
               "text": [
                  "\n",
                  "\u001b[A\n",
                  "\u001b[A\n",
                  "\u001b[A\n",
                  "100%|██████████| 100/100 [00:00<00:00, 324.35it/s]\n"
               ]
            },
            {
               "name": "stdout",
               "output_type": "stream",
               "text": [
                  "test on day 2500\n"
               ]
            },
            {
               "name": "stderr",
               "output_type": "stream",
               "text": [
                  "\n",
                  "\u001b[A\n",
                  "\u001b[A\n",
                  "\u001b[A\n",
                  "100%|██████████| 100/100 [00:00<00:00, 324.75it/s]\n"
               ]
            },
            {
               "name": "stdout",
               "output_type": "stream",
               "text": [
                  "test on day 3000\n"
               ]
            },
            {
               "name": "stderr",
               "output_type": "stream",
               "text": [
                  "\n",
                  "\u001b[A\n",
                  "\u001b[A\n",
                  "\u001b[A\n",
                  "100%|██████████| 100/100 [00:00<00:00, 325.33it/s]\n"
               ]
            },
            {
               "name": "stdout",
               "output_type": "stream",
               "text": [
                  "test on day 3500\n"
               ]
            },
            {
               "name": "stderr",
               "output_type": "stream",
               "text": [
                  "\n",
                  "\u001b[A\n",
                  "\u001b[A\n",
                  "\u001b[A\n",
                  "100%|██████████| 100/100 [00:00<00:00, 326.10it/s]\n"
               ]
            },
            {
               "name": "stdout",
               "output_type": "stream",
               "text": [
                  "test on day 4000\n"
               ]
            },
            {
               "name": "stderr",
               "output_type": "stream",
               "text": [
                  "\n",
                  "\u001b[A\n",
                  "\u001b[A\n",
                  "100%|██████████| 100/100 [00:00<00:00, 330.17it/s]\n"
               ]
            },
            {
               "name": "stdout",
               "output_type": "stream",
               "text": [
                  "test on day 4500\n"
               ]
            },
            {
               "name": "stderr",
               "output_type": "stream",
               "text": [
                  "\n",
                  "\u001b[A\n",
                  "\u001b[A\n",
                  "\u001b[A\n",
                  "100%|██████████| 100/100 [00:00<00:00, 326.43it/s]\n"
               ]
            },
            {
               "name": "stdout",
               "output_type": "stream",
               "text": [
                  "test on day 5000\n"
               ]
            },
            {
               "name": "stderr",
               "output_type": "stream",
               "text": [
                  "\n",
                  "\u001b[A\n",
                  "\u001b[A\n",
                  "100%|██████████| 100/100 [00:00<00:00, 329.18it/s]\n"
               ]
            },
            {
               "name": "stdout",
               "output_type": "stream",
               "text": [
                  "test on day 5500\n"
               ]
            },
            {
               "name": "stderr",
               "output_type": "stream",
               "text": [
                  "\n",
                  "\u001b[A\n",
                  "\u001b[A\n",
                  "100%|██████████| 100/100 [00:00<00:00, 328.28it/s]\n"
               ]
            },
            {
               "name": "stdout",
               "output_type": "stream",
               "text": [
                  "core-periphery tests using the Lip approach\n",
                  "test on day 0\n"
               ]
            },
            {
               "name": "stderr",
               "output_type": "stream",
               "text": [
                  "\n",
                  "100%|██████████| 100/100 [00:00<00:00, 2797.55it/s]\n"
               ]
            },
            {
               "name": "stdout",
               "output_type": "stream",
               "text": [
                  "test on day 500\n"
               ]
            },
            {
               "name": "stderr",
               "output_type": "stream",
               "text": [
                  "\n",
                  "\u001b[A\n",
                  "\u001b[A\n",
                  "100%|██████████| 100/100 [00:00<00:00, 332.98it/s]\n"
               ]
            },
            {
               "name": "stdout",
               "output_type": "stream",
               "text": [
                  "test on day 1000\n"
               ]
            },
            {
               "name": "stderr",
               "output_type": "stream",
               "text": [
                  "\n",
                  "\u001b[A\n",
                  "\u001b[A\n",
                  "\u001b[A\n",
                  "100%|██████████| 100/100 [00:00<00:00, 316.91it/s]\n"
               ]
            },
            {
               "name": "stdout",
               "output_type": "stream",
               "text": [
                  "test on day 1500\n"
               ]
            },
            {
               "name": "stderr",
               "output_type": "stream",
               "text": [
                  "\n",
                  "\u001b[A\n",
                  "\u001b[A\n",
                  "\u001b[A\n",
                  "100%|██████████| 100/100 [00:00<00:00, 318.49it/s]\n"
               ]
            },
            {
               "name": "stdout",
               "output_type": "stream",
               "text": [
                  "test on day 2000\n"
               ]
            },
            {
               "name": "stderr",
               "output_type": "stream",
               "text": [
                  "\n",
                  "\u001b[A\n",
                  "\u001b[A\n",
                  "\u001b[A\n",
                  "100%|██████████| 100/100 [00:00<00:00, 324.80it/s]\n"
               ]
            },
            {
               "name": "stdout",
               "output_type": "stream",
               "text": [
                  "test on day 2500\n"
               ]
            },
            {
               "name": "stderr",
               "output_type": "stream",
               "text": [
                  "\n",
                  "\u001b[A\n",
                  "\u001b[A\n",
                  "100%|██████████| 100/100 [00:00<00:00, 314.68it/s]\n"
               ]
            },
            {
               "name": "stdout",
               "output_type": "stream",
               "text": [
                  "test on day 3000\n"
               ]
            },
            {
               "name": "stderr",
               "output_type": "stream",
               "text": [
                  "\n",
                  "\u001b[A\n",
                  "\u001b[A\n",
                  "\u001b[A\n",
                  "100%|██████████| 100/100 [00:00<00:00, 324.84it/s]\n"
               ]
            },
            {
               "name": "stdout",
               "output_type": "stream",
               "text": [
                  "test on day 3500\n"
               ]
            },
            {
               "name": "stderr",
               "output_type": "stream",
               "text": [
                  "\n",
                  "\u001b[A\n",
                  "\u001b[A\n",
                  "\u001b[A\n",
                  "100%|██████████| 100/100 [00:00<00:00, 324.43it/s]\n"
               ]
            },
            {
               "name": "stdout",
               "output_type": "stream",
               "text": [
                  "test on day 4000\n"
               ]
            },
            {
               "name": "stderr",
               "output_type": "stream",
               "text": [
                  "\n",
                  "\u001b[A\n",
                  "\u001b[A\n",
                  "\u001b[A\n",
                  "100%|██████████| 100/100 [00:00<00:00, 323.86it/s]\n"
               ]
            },
            {
               "name": "stdout",
               "output_type": "stream",
               "text": [
                  "test on day 4500\n"
               ]
            },
            {
               "name": "stderr",
               "output_type": "stream",
               "text": [
                  "\n",
                  "\u001b[A\n",
                  "\u001b[A\n",
                  "100%|██████████| 100/100 [00:00<00:00, 327.50it/s]\n"
               ]
            },
            {
               "name": "stdout",
               "output_type": "stream",
               "text": [
                  "test on day 5000\n"
               ]
            },
            {
               "name": "stderr",
               "output_type": "stream",
               "text": [
                  "\n",
                  "\u001b[A\n",
                  "\u001b[A\n",
                  "\u001b[A\n",
                  "100%|██████████| 100/100 [00:00<00:00, 325.59it/s]\n"
               ]
            },
            {
               "name": "stdout",
               "output_type": "stream",
               "text": [
                  "test on day 5500\n"
               ]
            },
            {
               "name": "stderr",
               "output_type": "stream",
               "text": [
                  "\n",
                  "\u001b[A\n",
                  "\u001b[A\n",
                  "100%|██████████| 100/100 [00:00<00:00, 327.44it/s]\n"
               ]
            },
            {
               "name": "stdout",
               "output_type": "stream",
               "text": [
                  "core-periphery tests using the Lip approach\n",
                  "test on day 0\n"
               ]
            },
            {
               "name": "stderr",
               "output_type": "stream",
               "text": [
                  "\n",
                  "100%|██████████| 100/100 [00:00<00:00, 1791.15it/s]\n"
               ]
            },
            {
               "name": "stdout",
               "output_type": "stream",
               "text": [
                  "test on day 500\n"
               ]
            },
            {
               "name": "stderr",
               "output_type": "stream",
               "text": [
                  "\n",
                  "\u001b[A\n",
                  "\u001b[A\n",
                  "100%|██████████| 100/100 [00:00<00:00, 334.94it/s]\n"
               ]
            },
            {
               "name": "stdout",
               "output_type": "stream",
               "text": [
                  "test on day 1000\n"
               ]
            },
            {
               "name": "stderr",
               "output_type": "stream",
               "text": [
                  "\n",
                  "\u001b[A\n",
                  "\u001b[A\n",
                  "\u001b[A\n",
                  "100%|██████████| 100/100 [00:00<00:00, 316.49it/s]\n"
               ]
            },
            {
               "name": "stdout",
               "output_type": "stream",
               "text": [
                  "test on day 1500\n"
               ]
            },
            {
               "name": "stderr",
               "output_type": "stream",
               "text": [
                  "\n",
                  "\u001b[A\n",
                  "\u001b[A\n",
                  "\u001b[A\n",
                  "100%|██████████| 100/100 [00:00<00:00, 319.63it/s]\n"
               ]
            },
            {
               "name": "stdout",
               "output_type": "stream",
               "text": [
                  "test on day 2000\n"
               ]
            },
            {
               "name": "stderr",
               "output_type": "stream",
               "text": [
                  "\n",
                  "\u001b[A\n",
                  "\u001b[A\n",
                  "\u001b[A\n",
                  "100%|██████████| 100/100 [00:00<00:00, 323.57it/s]\n"
               ]
            },
            {
               "name": "stdout",
               "output_type": "stream",
               "text": [
                  "test on day 2500\n"
               ]
            },
            {
               "name": "stderr",
               "output_type": "stream",
               "text": [
                  "\n",
                  "\u001b[A\n",
                  "\u001b[A\n",
                  "\u001b[A\n",
                  "100%|██████████| 100/100 [00:00<00:00, 324.64it/s]\n"
               ]
            },
            {
               "name": "stdout",
               "output_type": "stream",
               "text": [
                  "test on day 3000\n"
               ]
            },
            {
               "name": "stderr",
               "output_type": "stream",
               "text": [
                  "\n",
                  "\u001b[A\n",
                  "\u001b[A\n",
                  "\u001b[A\n",
                  "100%|██████████| 100/100 [00:00<00:00, 324.08it/s]\n"
               ]
            },
            {
               "name": "stdout",
               "output_type": "stream",
               "text": [
                  "test on day 3500\n"
               ]
            },
            {
               "name": "stderr",
               "output_type": "stream",
               "text": [
                  "\n",
                  "\u001b[A\n",
                  "\u001b[A\n",
                  "\u001b[A\n",
                  "100%|██████████| 100/100 [00:00<00:00, 322.94it/s]\n"
               ]
            },
            {
               "name": "stdout",
               "output_type": "stream",
               "text": [
                  "test on day 4000\n"
               ]
            },
            {
               "name": "stderr",
               "output_type": "stream",
               "text": [
                  "\n",
                  "\u001b[A\n",
                  "\u001b[A\n",
                  "\u001b[A\n",
                  "100%|██████████| 100/100 [00:00<00:00, 324.80it/s]\n"
               ]
            },
            {
               "name": "stdout",
               "output_type": "stream",
               "text": [
                  "test on day 4500\n"
               ]
            },
            {
               "name": "stderr",
               "output_type": "stream",
               "text": [
                  "\n",
                  "\u001b[A\n",
                  "\u001b[A\n",
                  "\u001b[A\n",
                  "100%|██████████| 100/100 [00:00<00:00, 324.72it/s]\n"
               ]
            },
            {
               "name": "stdout",
               "output_type": "stream",
               "text": [
                  "test on day 5000\n"
               ]
            },
            {
               "name": "stderr",
               "output_type": "stream",
               "text": [
                  "\n",
                  "\u001b[A\n",
                  "\u001b[A\n",
                  "\u001b[A\n",
                  "100%|██████████| 100/100 [00:00<00:00, 327.08it/s]\n"
               ]
            },
            {
               "name": "stdout",
               "output_type": "stream",
               "text": [
                  "test on day 5500\n"
               ]
            },
            {
               "name": "stderr",
               "output_type": "stream",
               "text": [
                  "\n",
                  "\u001b[A\n",
                  "\u001b[A\n",
                  "100%|██████████| 100/100 [00:00<00:00, 327.69it/s]\n",
                  "100%|██████████| 5/5 [00:17<00:00,  3.56s/it]\n"
               ]
            },
            {
               "name": "stdout",
               "output_type": "stream",
               "text": [
                  "get transaction stats av. network\n"
               ]
            },
            {
               "name": "stderr",
               "output_type": "stream",
               "text": [
                  "100%|██████████| 5500/5500 [01:39<00:00, 55.33it/s]\n"
               ]
            },
            {
               "name": "stdout",
               "output_type": "stream",
               "text": [
                  "get transaction stats av. bank\n"
               ]
            },
            {
               "name": "stderr",
               "output_type": "stream",
               "text": [
                  "100%|██████████| 5500/5500 [00:07<00:00, 710.18it/s]\n",
                  " 30%|██▉       | 5999/19999 [1:08:58<32:06,  7.27it/s]     "
               ]
            },
            {
               "name": "stdout",
               "output_type": "stream",
               "text": [
                  "get df_rev_repo_trans\n"
               ]
            },
            {
               "name": "stderr",
               "output_type": "stream",
               "text": [
                  "100%|██████████| 50/50 [00:00<00:00, 779610.41it/s]\n"
               ]
            },
            {
               "name": "stdout",
               "output_type": "stream",
               "text": [
                  "get df_rev_repo_trans\n"
               ]
            },
            {
               "name": "stderr",
               "output_type": "stream",
               "text": [
                  "100%|██████████| 50/50 [00:00<00:00, 773856.83it/s]\n"
               ]
            },
            {
               "name": "stdout",
               "output_type": "stream",
               "text": [
                  "get arr_rev_repo_exp_adj\n"
               ]
            },
            {
               "name": "stderr",
               "output_type": "stream",
               "text": [
                  "207049it [04:40, 738.41it/s] \n"
               ]
            },
            {
               "name": "stdout",
               "output_type": "stream",
               "text": [
                  "get arr_binary_adj (numba)\n",
                  "get degree distribution\n"
               ]
            },
            {
               "name": "stderr",
               "output_type": "stream",
               "text": [
                  "100%|██████████| 6000/6000 [00:55<00:00, 107.92it/s]\n"
               ]
            },
            {
               "name": "stdout",
               "output_type": "stream",
               "text": [
                  "get jaccard\n"
               ]
            },
            {
               "name": "stderr",
               "output_type": "stream",
               "text": [
                  "100%|██████████| 5999/5999 [00:01<00:00, 4792.70it/s]\n"
               ]
            },
            {
               "name": "stdout",
               "output_type": "stream",
               "text": [
                  "get density\n"
               ]
            },
            {
               "name": "stderr",
               "output_type": "stream",
               "text": [
                  "100%|██████████| 5999/5999 [00:01<00:00, 5018.39it/s]\n"
               ]
            },
            {
               "name": "stdout",
               "output_type": "stream",
               "text": [
                  "get degree stats\n"
               ]
            },
            {
               "name": "stderr",
               "output_type": "stream",
               "text": [
                  "100%|██████████| 5999/5999 [00:03<00:00, 1712.37it/s]\n"
               ]
            },
            {
               "name": "stdout",
               "output_type": "stream",
               "text": [
                  "get exposure stats\n"
               ]
            },
            {
               "name": "stderr",
               "output_type": "stream",
               "text": [
                  "100%|██████████| 6001/6001 [00:01<00:00, 4844.08it/s]\n"
               ]
            },
            {
               "name": "stdout",
               "output_type": "stream",
               "text": [
                  "run core-periphery tests\n"
               ]
            },
            {
               "name": "stderr",
               "output_type": "stream",
               "text": []
            },
            {
               "name": "stdout",
               "output_type": "stream",
               "text": [
                  "core-periphery tests using the Lip approach\n",
                  "test on day 0\n"
               ]
            },
            {
               "name": "stderr",
               "output_type": "stream",
               "text": [
                  "\n",
                  "100%|██████████| 100/100 [00:00<00:00, 2800.78it/s]\n"
               ]
            },
            {
               "name": "stdout",
               "output_type": "stream",
               "text": [
                  "test on day 500\n"
               ]
            },
            {
               "name": "stderr",
               "output_type": "stream",
               "text": [
                  "\n",
                  "\u001b[A\n",
                  "\u001b[A\n",
                  "\u001b[A\n",
                  "100%|██████████| 100/100 [00:00<00:00, 320.42it/s]\n"
               ]
            },
            {
               "name": "stdout",
               "output_type": "stream",
               "text": [
                  "test on day 1000\n"
               ]
            },
            {
               "name": "stderr",
               "output_type": "stream",
               "text": [
                  "\n",
                  "\u001b[A\n",
                  "\u001b[A\n",
                  "\u001b[A\n",
                  "100%|██████████| 100/100 [00:00<00:00, 324.54it/s]\n"
               ]
            },
            {
               "name": "stdout",
               "output_type": "stream",
               "text": [
                  "test on day 1500\n"
               ]
            },
            {
               "name": "stderr",
               "output_type": "stream",
               "text": [
                  "\n",
                  "\u001b[A\n",
                  "\u001b[A\n",
                  "\u001b[A\n",
                  "100%|██████████| 100/100 [00:00<00:00, 325.67it/s]\n"
               ]
            },
            {
               "name": "stdout",
               "output_type": "stream",
               "text": [
                  "test on day 2000\n"
               ]
            },
            {
               "name": "stderr",
               "output_type": "stream",
               "text": [
                  "\n",
                  "\u001b[A\n",
                  "\u001b[A\n",
                  "100%|██████████| 100/100 [00:00<00:00, 328.56it/s]\n"
               ]
            },
            {
               "name": "stdout",
               "output_type": "stream",
               "text": [
                  "test on day 2500\n"
               ]
            },
            {
               "name": "stderr",
               "output_type": "stream",
               "text": [
                  "\n",
                  "\u001b[A\n",
                  "\u001b[A\n",
                  "\u001b[A\n",
                  "100%|██████████| 100/100 [00:00<00:00, 322.55it/s]\n"
               ]
            },
            {
               "name": "stdout",
               "output_type": "stream",
               "text": [
                  "test on day 3000\n"
               ]
            },
            {
               "name": "stderr",
               "output_type": "stream",
               "text": [
                  "\n",
                  "\u001b[A\n",
                  "\u001b[A\n",
                  "100%|██████████| 100/100 [00:00<00:00, 331.06it/s]\n"
               ]
            },
            {
               "name": "stdout",
               "output_type": "stream",
               "text": [
                  "test on day 3500\n"
               ]
            },
            {
               "name": "stderr",
               "output_type": "stream",
               "text": [
                  "\n",
                  "\u001b[A\n",
                  "\u001b[A\n",
                  "\u001b[A\n",
                  "100%|██████████| 100/100 [00:00<00:00, 323.92it/s]\n"
               ]
            },
            {
               "name": "stdout",
               "output_type": "stream",
               "text": [
                  "test on day 4000\n"
               ]
            },
            {
               "name": "stderr",
               "output_type": "stream",
               "text": [
                  "\n",
                  "\u001b[A\n",
                  "\u001b[A\n",
                  "\u001b[A\n",
                  "100%|██████████| 100/100 [00:00<00:00, 328.38it/s]\n"
               ]
            },
            {
               "name": "stdout",
               "output_type": "stream",
               "text": [
                  "test on day 4500\n"
               ]
            },
            {
               "name": "stderr",
               "output_type": "stream",
               "text": [
                  "\n",
                  "\u001b[A\n",
                  "\u001b[A\n",
                  "100%|██████████| 100/100 [00:00<00:00, 331.72it/s]\n"
               ]
            },
            {
               "name": "stdout",
               "output_type": "stream",
               "text": [
                  "test on day 5000\n"
               ]
            },
            {
               "name": "stderr",
               "output_type": "stream",
               "text": [
                  "\n",
                  "\u001b[A\n",
                  "\u001b[A\n",
                  "\u001b[A\n",
                  "100%|██████████| 100/100 [00:00<00:00, 325.76it/s]\n"
               ]
            },
            {
               "name": "stdout",
               "output_type": "stream",
               "text": [
                  "test on day 5500\n"
               ]
            },
            {
               "name": "stderr",
               "output_type": "stream",
               "text": [
                  "\n",
                  "\u001b[A\n",
                  "\u001b[A\n",
                  "100%|██████████| 100/100 [00:00<00:00, 331.77it/s]\n"
               ]
            },
            {
               "name": "stdout",
               "output_type": "stream",
               "text": [
                  "test on day 6000\n"
               ]
            },
            {
               "name": "stderr",
               "output_type": "stream",
               "text": [
                  "\n",
                  "\u001b[A\n",
                  "\u001b[A\n",
                  "100%|██████████| 100/100 [00:00<00:00, 333.79it/s]\n"
               ]
            },
            {
               "name": "stdout",
               "output_type": "stream",
               "text": [
                  "core-periphery tests using the Lip approach\n",
                  "test on day 0\n"
               ]
            },
            {
               "name": "stderr",
               "output_type": "stream",
               "text": [
                  "\n",
                  "100%|██████████| 100/100 [00:00<00:00, 2798.29it/s]\n"
               ]
            },
            {
               "name": "stdout",
               "output_type": "stream",
               "text": [
                  "test on day 500\n"
               ]
            },
            {
               "name": "stderr",
               "output_type": "stream",
               "text": [
                  "\n",
                  "\u001b[A\n",
                  "\u001b[A\n",
                  "100%|██████████| 100/100 [00:00<00:00, 337.50it/s]\n"
               ]
            },
            {
               "name": "stdout",
               "output_type": "stream",
               "text": [
                  "test on day 1000\n"
               ]
            },
            {
               "name": "stderr",
               "output_type": "stream",
               "text": [
                  "\n",
                  "\u001b[A\n",
                  "\u001b[A\n",
                  "\u001b[A\n",
                  "100%|██████████| 100/100 [00:00<00:00, 319.04it/s]\n"
               ]
            },
            {
               "name": "stdout",
               "output_type": "stream",
               "text": [
                  "test on day 1500\n"
               ]
            },
            {
               "name": "stderr",
               "output_type": "stream",
               "text": [
                  "\n",
                  "\u001b[A\n",
                  "\u001b[A\n",
                  "\u001b[A\n",
                  "100%|██████████| 100/100 [00:00<00:00, 322.57it/s]\n"
               ]
            },
            {
               "name": "stdout",
               "output_type": "stream",
               "text": [
                  "test on day 2000\n"
               ]
            },
            {
               "name": "stderr",
               "output_type": "stream",
               "text": [
                  "\n",
                  "\u001b[A\n",
                  "\u001b[A\n",
                  "100%|██████████| 100/100 [00:00<00:00, 328.93it/s]\n"
               ]
            },
            {
               "name": "stdout",
               "output_type": "stream",
               "text": [
                  "test on day 2500\n"
               ]
            },
            {
               "name": "stderr",
               "output_type": "stream",
               "text": [
                  "\n",
                  "\u001b[A\n",
                  "\u001b[A\n",
                  "\u001b[A\n",
                  "100%|██████████| 100/100 [00:00<00:00, 328.51it/s]\n"
               ]
            },
            {
               "name": "stdout",
               "output_type": "stream",
               "text": [
                  "test on day 3000\n"
               ]
            },
            {
               "name": "stderr",
               "output_type": "stream",
               "text": [
                  "\n",
                  "\u001b[A\n",
                  "\u001b[A\n",
                  "\u001b[A\n",
                  "100%|██████████| 100/100 [00:00<00:00, 321.39it/s]\n"
               ]
            },
            {
               "name": "stdout",
               "output_type": "stream",
               "text": [
                  "test on day 3500\n"
               ]
            },
            {
               "name": "stderr",
               "output_type": "stream",
               "text": [
                  "\n",
                  "\u001b[A\n",
                  "\u001b[A\n",
                  "\u001b[A\n",
                  "100%|██████████| 100/100 [00:00<00:00, 322.02it/s]\n"
               ]
            },
            {
               "name": "stdout",
               "output_type": "stream",
               "text": [
                  "test on day 4000\n"
               ]
            },
            {
               "name": "stderr",
               "output_type": "stream",
               "text": [
                  "\n",
                  "\u001b[A\n",
                  "\u001b[A\n",
                  "\u001b[A\n",
                  "100%|██████████| 100/100 [00:00<00:00, 321.24it/s]\n"
               ]
            },
            {
               "name": "stdout",
               "output_type": "stream",
               "text": [
                  "test on day 4500\n"
               ]
            },
            {
               "name": "stderr",
               "output_type": "stream",
               "text": [
                  "\n",
                  "\u001b[A\n",
                  "\u001b[A\n",
                  "100%|██████████| 100/100 [00:00<00:00, 327.20it/s]\n"
               ]
            },
            {
               "name": "stdout",
               "output_type": "stream",
               "text": [
                  "test on day 5000\n"
               ]
            },
            {
               "name": "stderr",
               "output_type": "stream",
               "text": [
                  "\n",
                  "\u001b[A\n",
                  "\u001b[A\n",
                  "\u001b[A\n",
                  "100%|██████████| 100/100 [00:00<00:00, 317.36it/s]\n"
               ]
            },
            {
               "name": "stdout",
               "output_type": "stream",
               "text": [
                  "test on day 5500\n"
               ]
            },
            {
               "name": "stderr",
               "output_type": "stream",
               "text": [
                  "\n",
                  "\u001b[A\n",
                  "\u001b[A\n",
                  "100%|██████████| 100/100 [00:00<00:00, 329.69it/s]\n"
               ]
            },
            {
               "name": "stdout",
               "output_type": "stream",
               "text": [
                  "test on day 6000\n"
               ]
            },
            {
               "name": "stderr",
               "output_type": "stream",
               "text": [
                  "\n",
                  "\u001b[A\n",
                  "\u001b[A\n",
                  "100%|██████████| 100/100 [00:00<00:00, 329.20it/s]\n"
               ]
            },
            {
               "name": "stdout",
               "output_type": "stream",
               "text": [
                  "core-periphery tests using the Lip approach\n",
                  "test on day 0\n"
               ]
            },
            {
               "name": "stderr",
               "output_type": "stream",
               "text": [
                  "\n",
                  "100%|██████████| 100/100 [00:00<00:00, 2799.02it/s]\n"
               ]
            },
            {
               "name": "stdout",
               "output_type": "stream",
               "text": [
                  "test on day 500\n"
               ]
            },
            {
               "name": "stderr",
               "output_type": "stream",
               "text": [
                  "\n",
                  "\u001b[A\n",
                  "\u001b[A\n",
                  "100%|██████████| 100/100 [00:00<00:00, 333.25it/s]\n"
               ]
            },
            {
               "name": "stdout",
               "output_type": "stream",
               "text": [
                  "test on day 1000\n"
               ]
            },
            {
               "name": "stderr",
               "output_type": "stream",
               "text": [
                  "\n",
                  "\u001b[A\n",
                  "\u001b[A\n",
                  "\u001b[A\n",
                  "100%|██████████| 100/100 [00:00<00:00, 319.34it/s]\n"
               ]
            },
            {
               "name": "stdout",
               "output_type": "stream",
               "text": [
                  "test on day 1500\n"
               ]
            },
            {
               "name": "stderr",
               "output_type": "stream",
               "text": [
                  "\n",
                  "\u001b[A\n",
                  "\u001b[A\n",
                  "\u001b[A\n",
                  "100%|██████████| 100/100 [00:00<00:00, 321.10it/s]\n"
               ]
            },
            {
               "name": "stdout",
               "output_type": "stream",
               "text": [
                  "test on day 2000\n"
               ]
            },
            {
               "name": "stderr",
               "output_type": "stream",
               "text": [
                  "\n",
                  "\u001b[A\n",
                  "\u001b[A\n",
                  "\u001b[A\n",
                  "100%|██████████| 100/100 [00:00<00:00, 324.77it/s]\n"
               ]
            },
            {
               "name": "stdout",
               "output_type": "stream",
               "text": [
                  "test on day 2500\n"
               ]
            },
            {
               "name": "stderr",
               "output_type": "stream",
               "text": [
                  "\n",
                  "\u001b[A\n",
                  "\u001b[A\n",
                  "\u001b[A\n",
                  "100%|██████████| 100/100 [00:00<00:00, 325.90it/s]\n"
               ]
            },
            {
               "name": "stdout",
               "output_type": "stream",
               "text": [
                  "test on day 3000\n"
               ]
            },
            {
               "name": "stderr",
               "output_type": "stream",
               "text": [
                  "\n",
                  "\u001b[A\n",
                  "\u001b[A\n",
                  "100%|██████████| 100/100 [00:00<00:00, 328.12it/s]\n"
               ]
            },
            {
               "name": "stdout",
               "output_type": "stream",
               "text": [
                  "test on day 3500\n"
               ]
            },
            {
               "name": "stderr",
               "output_type": "stream",
               "text": [
                  "\n",
                  "\u001b[A\n",
                  "\u001b[A\n",
                  "\u001b[A\n",
                  "100%|██████████| 100/100 [00:00<00:00, 326.67it/s]\n"
               ]
            },
            {
               "name": "stdout",
               "output_type": "stream",
               "text": [
                  "test on day 4000\n"
               ]
            },
            {
               "name": "stderr",
               "output_type": "stream",
               "text": [
                  "\n",
                  "\u001b[A\n",
                  "\u001b[A\n",
                  "100%|██████████| 100/100 [00:00<00:00, 329.53it/s]\n"
               ]
            },
            {
               "name": "stdout",
               "output_type": "stream",
               "text": [
                  "test on day 4500\n"
               ]
            },
            {
               "name": "stderr",
               "output_type": "stream",
               "text": [
                  "\n",
                  "\u001b[A\n",
                  "\u001b[A\n",
                  "100%|██████████| 100/100 [00:00<00:00, 329.51it/s]\n"
               ]
            },
            {
               "name": "stdout",
               "output_type": "stream",
               "text": [
                  "test on day 5000\n"
               ]
            },
            {
               "name": "stderr",
               "output_type": "stream",
               "text": [
                  "\n",
                  "\u001b[A\n",
                  "\u001b[A\n",
                  "100%|██████████| 100/100 [00:00<00:00, 329.19it/s]\n"
               ]
            },
            {
               "name": "stdout",
               "output_type": "stream",
               "text": [
                  "test on day 5500\n"
               ]
            },
            {
               "name": "stderr",
               "output_type": "stream",
               "text": [
                  "\n",
                  "\u001b[A\n",
                  "\u001b[A\n",
                  "100%|██████████| 100/100 [00:00<00:00, 329.44it/s]\n"
               ]
            },
            {
               "name": "stdout",
               "output_type": "stream",
               "text": [
                  "test on day 6000\n"
               ]
            },
            {
               "name": "stderr",
               "output_type": "stream",
               "text": [
                  "\n",
                  "\u001b[A\n",
                  "\u001b[A\n",
                  "100%|██████████| 100/100 [00:00<00:00, 329.40it/s]\n"
               ]
            },
            {
               "name": "stdout",
               "output_type": "stream",
               "text": [
                  "core-periphery tests using the Lip approach\n",
                  "test on day 0\n"
               ]
            },
            {
               "name": "stderr",
               "output_type": "stream",
               "text": [
                  "\n",
                  "100%|██████████| 100/100 [00:00<00:00, 2814.44it/s]\n"
               ]
            },
            {
               "name": "stdout",
               "output_type": "stream",
               "text": [
                  "test on day 500\n"
               ]
            },
            {
               "name": "stderr",
               "output_type": "stream",
               "text": [
                  "\n",
                  "\u001b[A\n",
                  "\u001b[A\n",
                  "100%|██████████| 100/100 [00:00<00:00, 332.53it/s]\n"
               ]
            },
            {
               "name": "stdout",
               "output_type": "stream",
               "text": [
                  "test on day 1000\n"
               ]
            },
            {
               "name": "stderr",
               "output_type": "stream",
               "text": [
                  "\n",
                  "\u001b[A\n",
                  "\u001b[A\n",
                  "\u001b[A\n",
                  "100%|██████████| 100/100 [00:00<00:00, 314.39it/s]\n"
               ]
            },
            {
               "name": "stdout",
               "output_type": "stream",
               "text": [
                  "test on day 1500\n"
               ]
            },
            {
               "name": "stderr",
               "output_type": "stream",
               "text": [
                  "\n",
                  "\u001b[A\n",
                  "\u001b[A\n",
                  "\u001b[A\n",
                  "100%|██████████| 100/100 [00:00<00:00, 320.54it/s]\n"
               ]
            },
            {
               "name": "stdout",
               "output_type": "stream",
               "text": [
                  "test on day 2000\n"
               ]
            },
            {
               "name": "stderr",
               "output_type": "stream",
               "text": [
                  "\n",
                  "\u001b[A\n",
                  "\u001b[A\n",
                  "\u001b[A\n",
                  "100%|██████████| 100/100 [00:00<00:00, 324.85it/s]\n"
               ]
            },
            {
               "name": "stdout",
               "output_type": "stream",
               "text": [
                  "test on day 2500\n"
               ]
            },
            {
               "name": "stderr",
               "output_type": "stream",
               "text": [
                  "\n",
                  "\u001b[A\n",
                  "\u001b[A\n",
                  "\u001b[A\n",
                  "100%|██████████| 100/100 [00:00<00:00, 326.83it/s]\n"
               ]
            },
            {
               "name": "stdout",
               "output_type": "stream",
               "text": [
                  "test on day 3000\n"
               ]
            },
            {
               "name": "stderr",
               "output_type": "stream",
               "text": [
                  "\n",
                  "\u001b[A\n",
                  "\u001b[A\n",
                  "\u001b[A\n",
                  "100%|██████████| 100/100 [00:00<00:00, 325.21it/s]\n"
               ]
            },
            {
               "name": "stdout",
               "output_type": "stream",
               "text": [
                  "test on day 3500\n"
               ]
            },
            {
               "name": "stderr",
               "output_type": "stream",
               "text": [
                  "\n",
                  "\u001b[A\n",
                  "\u001b[A\n",
                  "\u001b[A\n",
                  "100%|██████████| 100/100 [00:00<00:00, 326.70it/s]\n"
               ]
            },
            {
               "name": "stdout",
               "output_type": "stream",
               "text": [
                  "test on day 4000\n"
               ]
            },
            {
               "name": "stderr",
               "output_type": "stream",
               "text": [
                  "\n",
                  "\u001b[A\n",
                  "\u001b[A\n",
                  "\u001b[A\n",
                  "100%|██████████| 100/100 [00:00<00:00, 327.87it/s]\n"
               ]
            },
            {
               "name": "stdout",
               "output_type": "stream",
               "text": [
                  "test on day 4500\n"
               ]
            },
            {
               "name": "stderr",
               "output_type": "stream",
               "text": [
                  "\n",
                  "\u001b[A\n",
                  "\u001b[A\n",
                  "100%|██████████| 100/100 [00:00<00:00, 328.82it/s]\n"
               ]
            },
            {
               "name": "stdout",
               "output_type": "stream",
               "text": [
                  "test on day 5000\n"
               ]
            },
            {
               "name": "stderr",
               "output_type": "stream",
               "text": [
                  "\n",
                  "\u001b[A\n",
                  "\u001b[A\n",
                  "\u001b[A\n",
                  "100%|██████████| 100/100 [00:00<00:00, 326.57it/s]\n"
               ]
            },
            {
               "name": "stdout",
               "output_type": "stream",
               "text": [
                  "test on day 5500\n"
               ]
            },
            {
               "name": "stderr",
               "output_type": "stream",
               "text": [
                  "\n",
                  "\u001b[A\n",
                  "\u001b[A\n",
                  "100%|██████████| 100/100 [00:00<00:00, 328.70it/s]\n"
               ]
            },
            {
               "name": "stdout",
               "output_type": "stream",
               "text": [
                  "test on day 6000\n"
               ]
            },
            {
               "name": "stderr",
               "output_type": "stream",
               "text": [
                  "\n",
                  "\u001b[A\n",
                  "\u001b[A\n",
                  "100%|██████████| 100/100 [00:00<00:00, 329.37it/s]\n"
               ]
            },
            {
               "name": "stdout",
               "output_type": "stream",
               "text": [
                  "core-periphery tests using the Lip approach\n",
                  "test on day 0\n"
               ]
            },
            {
               "name": "stderr",
               "output_type": "stream",
               "text": [
                  "\n",
                  "100%|██████████| 100/100 [00:00<00:00, 1808.44it/s]\n"
               ]
            },
            {
               "name": "stdout",
               "output_type": "stream",
               "text": [
                  "test on day 500\n"
               ]
            },
            {
               "name": "stderr",
               "output_type": "stream",
               "text": [
                  "\n",
                  "\u001b[A\n",
                  "\u001b[A\n",
                  "100%|██████████| 100/100 [00:00<00:00, 337.31it/s]\n"
               ]
            },
            {
               "name": "stdout",
               "output_type": "stream",
               "text": [
                  "test on day 1000\n"
               ]
            },
            {
               "name": "stderr",
               "output_type": "stream",
               "text": [
                  "\n",
                  "\u001b[A\n",
                  "\u001b[A\n",
                  "\u001b[A\n",
                  "100%|██████████| 100/100 [00:00<00:00, 317.80it/s]\n"
               ]
            },
            {
               "name": "stdout",
               "output_type": "stream",
               "text": [
                  "test on day 1500\n"
               ]
            },
            {
               "name": "stderr",
               "output_type": "stream",
               "text": [
                  "\n",
                  "\u001b[A\n",
                  "\u001b[A\n",
                  "\u001b[A\n",
                  "100%|██████████| 100/100 [00:00<00:00, 319.43it/s]\n"
               ]
            },
            {
               "name": "stdout",
               "output_type": "stream",
               "text": [
                  "test on day 2000\n"
               ]
            },
            {
               "name": "stderr",
               "output_type": "stream",
               "text": [
                  "\n",
                  "\u001b[A\n",
                  "\u001b[A\n",
                  "\u001b[A\n",
                  "100%|██████████| 100/100 [00:00<00:00, 324.80it/s]\n"
               ]
            },
            {
               "name": "stdout",
               "output_type": "stream",
               "text": [
                  "test on day 2500\n"
               ]
            },
            {
               "name": "stderr",
               "output_type": "stream",
               "text": [
                  "\n",
                  "\u001b[A\n",
                  "\u001b[A\n",
                  "\u001b[A\n",
                  "100%|██████████| 100/100 [00:00<00:00, 325.59it/s]\n"
               ]
            },
            {
               "name": "stdout",
               "output_type": "stream",
               "text": [
                  "test on day 3000\n"
               ]
            },
            {
               "name": "stderr",
               "output_type": "stream",
               "text": [
                  "\n",
                  "\u001b[A\n",
                  "\u001b[A\n",
                  "\u001b[A\n",
                  "100%|██████████| 100/100 [00:00<00:00, 326.14it/s]\n"
               ]
            },
            {
               "name": "stdout",
               "output_type": "stream",
               "text": [
                  "test on day 3500\n"
               ]
            },
            {
               "name": "stderr",
               "output_type": "stream",
               "text": [
                  "\n",
                  "\u001b[A\n",
                  "\u001b[A\n",
                  "\u001b[A\n",
                  "100%|██████████| 100/100 [00:00<00:00, 326.43it/s]\n"
               ]
            },
            {
               "name": "stdout",
               "output_type": "stream",
               "text": [
                  "test on day 4000\n"
               ]
            },
            {
               "name": "stderr",
               "output_type": "stream",
               "text": [
                  "\n",
                  "\u001b[A\n",
                  "\u001b[A\n",
                  "100%|██████████| 100/100 [00:00<00:00, 328.19it/s]\n"
               ]
            },
            {
               "name": "stdout",
               "output_type": "stream",
               "text": [
                  "test on day 4500\n"
               ]
            },
            {
               "name": "stderr",
               "output_type": "stream",
               "text": [
                  "\n",
                  "\u001b[A\n",
                  "\u001b[A\n",
                  "100%|██████████| 100/100 [00:00<00:00, 328.92it/s]\n"
               ]
            },
            {
               "name": "stdout",
               "output_type": "stream",
               "text": [
                  "test on day 5000\n"
               ]
            },
            {
               "name": "stderr",
               "output_type": "stream",
               "text": [
                  "\n",
                  "\u001b[A\n",
                  "\u001b[A\n",
                  "100%|██████████| 100/100 [00:00<00:00, 328.66it/s]\n"
               ]
            },
            {
               "name": "stdout",
               "output_type": "stream",
               "text": [
                  "test on day 5500\n"
               ]
            },
            {
               "name": "stderr",
               "output_type": "stream",
               "text": [
                  "\n",
                  "\u001b[A\n",
                  "\u001b[A\n",
                  "\u001b[A\n",
                  "100%|██████████| 100/100 [00:00<00:00, 326.92it/s]\n"
               ]
            },
            {
               "name": "stdout",
               "output_type": "stream",
               "text": [
                  "test on day 6000\n"
               ]
            },
            {
               "name": "stderr",
               "output_type": "stream",
               "text": [
                  "\n",
                  "\u001b[A\n",
                  "\u001b[A\n",
                  "100%|██████████| 100/100 [00:00<00:00, 329.00it/s]\n",
                  "100%|██████████| 5/5 [00:19<00:00,  3.88s/it]\n"
               ]
            },
            {
               "name": "stdout",
               "output_type": "stream",
               "text": [
                  "get transaction stats av. network\n"
               ]
            },
            {
               "name": "stderr",
               "output_type": "stream",
               "text": [
                  "100%|██████████| 6000/6000 [01:56<00:00, 51.61it/s]\n"
               ]
            },
            {
               "name": "stdout",
               "output_type": "stream",
               "text": [
                  "get transaction stats av. bank\n"
               ]
            },
            {
               "name": "stderr",
               "output_type": "stream",
               "text": [
                  "100%|██████████| 6000/6000 [00:08<00:00, 695.49it/s]\n",
                  " 32%|███▏      | 6499/19999 [1:21:27<31:08,  7.23it/s]     "
               ]
            },
            {
               "name": "stdout",
               "output_type": "stream",
               "text": [
                  "get df_rev_repo_trans\n"
               ]
            },
            {
               "name": "stderr",
               "output_type": "stream",
               "text": [
                  "100%|██████████| 50/50 [00:00<00:00, 718202.74it/s]\n"
               ]
            },
            {
               "name": "stdout",
               "output_type": "stream",
               "text": [
                  "get df_rev_repo_trans\n"
               ]
            },
            {
               "name": "stderr",
               "output_type": "stream",
               "text": [
                  "100%|██████████| 50/50 [00:00<00:00, 708497.30it/s]\n"
               ]
            },
            {
               "name": "stdout",
               "output_type": "stream",
               "text": [
                  "get arr_rev_repo_exp_adj\n"
               ]
            },
            {
               "name": "stderr",
               "output_type": "stream",
               "text": [
                  "223619it [05:04, 733.19it/s]\n"
               ]
            },
            {
               "name": "stdout",
               "output_type": "stream",
               "text": [
                  "get arr_binary_adj (numba)\n",
                  "get degree distribution\n"
               ]
            },
            {
               "name": "stderr",
               "output_type": "stream",
               "text": [
                  "100%|██████████| 6500/6500 [01:09<00:00, 93.88it/s]\n"
               ]
            },
            {
               "name": "stdout",
               "output_type": "stream",
               "text": [
                  "get jaccard\n"
               ]
            },
            {
               "name": "stderr",
               "output_type": "stream",
               "text": [
                  "100%|██████████| 6499/6499 [00:01<00:00, 4883.49it/s]\n"
               ]
            },
            {
               "name": "stdout",
               "output_type": "stream",
               "text": [
                  "get density\n"
               ]
            },
            {
               "name": "stderr",
               "output_type": "stream",
               "text": [
                  "100%|██████████| 6499/6499 [00:01<00:00, 4954.03it/s]\n"
               ]
            },
            {
               "name": "stdout",
               "output_type": "stream",
               "text": [
                  "get degree stats\n"
               ]
            },
            {
               "name": "stderr",
               "output_type": "stream",
               "text": [
                  "100%|██████████| 6499/6499 [00:03<00:00, 1714.34it/s]\n"
               ]
            },
            {
               "name": "stdout",
               "output_type": "stream",
               "text": [
                  "get exposure stats\n"
               ]
            },
            {
               "name": "stderr",
               "output_type": "stream",
               "text": [
                  "100%|██████████| 6501/6501 [00:01<00:00, 4860.19it/s]\n"
               ]
            },
            {
               "name": "stdout",
               "output_type": "stream",
               "text": [
                  "run core-periphery tests\n"
               ]
            },
            {
               "name": "stderr",
               "output_type": "stream",
               "text": []
            },
            {
               "name": "stdout",
               "output_type": "stream",
               "text": [
                  "core-periphery tests using the Lip approach\n",
                  "test on day 0\n"
               ]
            },
            {
               "name": "stderr",
               "output_type": "stream",
               "text": [
                  "\n",
                  "100%|██████████| 100/100 [00:00<00:00, 2808.43it/s]\n"
               ]
            },
            {
               "name": "stdout",
               "output_type": "stream",
               "text": [
                  "test on day 500\n"
               ]
            },
            {
               "name": "stderr",
               "output_type": "stream",
               "text": [
                  "\n",
                  "\u001b[A\n",
                  "\u001b[A\n",
                  "\u001b[A\n",
                  "100%|██████████| 100/100 [00:00<00:00, 297.73it/s]\n"
               ]
            },
            {
               "name": "stdout",
               "output_type": "stream",
               "text": [
                  "test on day 1000\n"
               ]
            },
            {
               "name": "stderr",
               "output_type": "stream",
               "text": [
                  "\n",
                  "\u001b[A\n",
                  "\u001b[A\n",
                  "\u001b[A\n",
                  "100%|██████████| 100/100 [00:00<00:00, 323.55it/s]\n"
               ]
            },
            {
               "name": "stdout",
               "output_type": "stream",
               "text": [
                  "test on day 1500\n"
               ]
            },
            {
               "name": "stderr",
               "output_type": "stream",
               "text": [
                  "\n",
                  "\u001b[A\n",
                  "\u001b[A\n",
                  "\u001b[A\n",
                  "100%|██████████| 100/100 [00:00<00:00, 326.94it/s]\n"
               ]
            },
            {
               "name": "stdout",
               "output_type": "stream",
               "text": [
                  "test on day 2000\n"
               ]
            },
            {
               "name": "stderr",
               "output_type": "stream",
               "text": [
                  "\n",
                  "\u001b[A\n",
                  "\u001b[A\n",
                  "100%|██████████| 100/100 [00:00<00:00, 333.09it/s]\n"
               ]
            },
            {
               "name": "stdout",
               "output_type": "stream",
               "text": [
                  "test on day 2500\n"
               ]
            },
            {
               "name": "stderr",
               "output_type": "stream",
               "text": [
                  "\n",
                  "\u001b[A\n",
                  "\u001b[A\n",
                  "100%|██████████| 100/100 [00:00<00:00, 332.78it/s]\n"
               ]
            },
            {
               "name": "stdout",
               "output_type": "stream",
               "text": [
                  "test on day 3000\n"
               ]
            },
            {
               "name": "stderr",
               "output_type": "stream",
               "text": [
                  "\n",
                  "\u001b[A\n",
                  "\u001b[A\n",
                  "100%|██████████| 100/100 [00:00<00:00, 333.40it/s]\n"
               ]
            },
            {
               "name": "stdout",
               "output_type": "stream",
               "text": [
                  "test on day 3500\n"
               ]
            },
            {
               "name": "stderr",
               "output_type": "stream",
               "text": [
                  "\n",
                  "\u001b[A\n",
                  "\u001b[A\n",
                  "100%|██████████| 100/100 [00:00<00:00, 334.23it/s]\n"
               ]
            },
            {
               "name": "stdout",
               "output_type": "stream",
               "text": [
                  "test on day 4000\n"
               ]
            },
            {
               "name": "stderr",
               "output_type": "stream",
               "text": [
                  "\n",
                  "\u001b[A\n",
                  "\u001b[A\n",
                  "100%|██████████| 100/100 [00:00<00:00, 334.12it/s]\n"
               ]
            },
            {
               "name": "stdout",
               "output_type": "stream",
               "text": [
                  "test on day 4500\n"
               ]
            },
            {
               "name": "stderr",
               "output_type": "stream",
               "text": [
                  "\n",
                  "\u001b[A\n",
                  "\u001b[A\n",
                  "100%|██████████| 100/100 [00:00<00:00, 334.80it/s]\n"
               ]
            },
            {
               "name": "stdout",
               "output_type": "stream",
               "text": [
                  "test on day 5000\n"
               ]
            },
            {
               "name": "stderr",
               "output_type": "stream",
               "text": [
                  "\n",
                  "\u001b[A\n",
                  "\u001b[A\n",
                  "100%|██████████| 100/100 [00:00<00:00, 333.42it/s]\n"
               ]
            },
            {
               "name": "stdout",
               "output_type": "stream",
               "text": [
                  "test on day 5500\n"
               ]
            },
            {
               "name": "stderr",
               "output_type": "stream",
               "text": [
                  "\n",
                  "\u001b[A\n",
                  "\u001b[A\n",
                  "100%|██████████| 100/100 [00:00<00:00, 333.56it/s]\n"
               ]
            },
            {
               "name": "stdout",
               "output_type": "stream",
               "text": [
                  "test on day 6000\n"
               ]
            },
            {
               "name": "stderr",
               "output_type": "stream",
               "text": [
                  "\n",
                  "\u001b[A\n",
                  "\u001b[A\n",
                  "100%|██████████| 100/100 [00:00<00:00, 333.48it/s]\n"
               ]
            },
            {
               "name": "stdout",
               "output_type": "stream",
               "text": [
                  "test on day 6500\n"
               ]
            },
            {
               "name": "stderr",
               "output_type": "stream",
               "text": [
                  "\n",
                  "\u001b[A\n",
                  "\u001b[A\n",
                  "100%|██████████| 100/100 [00:00<00:00, 333.96it/s]\n"
               ]
            },
            {
               "name": "stdout",
               "output_type": "stream",
               "text": [
                  "core-periphery tests using the Lip approach\n",
                  "test on day 0\n"
               ]
            },
            {
               "name": "stderr",
               "output_type": "stream",
               "text": [
                  "\n",
                  "100%|██████████| 100/100 [00:00<00:00, 2817.07it/s]\n"
               ]
            },
            {
               "name": "stdout",
               "output_type": "stream",
               "text": [
                  "test on day 500\n"
               ]
            },
            {
               "name": "stderr",
               "output_type": "stream",
               "text": [
                  "\n",
                  "\u001b[A\n",
                  "\u001b[A\n",
                  "100%|██████████| 100/100 [00:00<00:00, 336.26it/s]\n"
               ]
            },
            {
               "name": "stdout",
               "output_type": "stream",
               "text": [
                  "test on day 1000\n"
               ]
            },
            {
               "name": "stderr",
               "output_type": "stream",
               "text": [
                  "\n",
                  "\u001b[A\n",
                  "\u001b[A\n",
                  "\u001b[A\n",
                  "100%|██████████| 100/100 [00:00<00:00, 319.46it/s]\n"
               ]
            },
            {
               "name": "stdout",
               "output_type": "stream",
               "text": [
                  "test on day 1500\n"
               ]
            },
            {
               "name": "stderr",
               "output_type": "stream",
               "text": [
                  "\n",
                  "\u001b[A\n",
                  "\u001b[A\n",
                  "\u001b[A\n",
                  "100%|██████████| 100/100 [00:00<00:00, 323.22it/s]\n"
               ]
            },
            {
               "name": "stdout",
               "output_type": "stream",
               "text": [
                  "test on day 2000\n"
               ]
            },
            {
               "name": "stderr",
               "output_type": "stream",
               "text": [
                  "\n",
                  "\u001b[A\n",
                  "\u001b[A\n",
                  "100%|██████████| 100/100 [00:00<00:00, 330.01it/s]\n"
               ]
            },
            {
               "name": "stdout",
               "output_type": "stream",
               "text": [
                  "test on day 2500\n"
               ]
            },
            {
               "name": "stderr",
               "output_type": "stream",
               "text": [
                  "\n",
                  "\u001b[A\n",
                  "\u001b[A\n",
                  "100%|██████████| 100/100 [00:00<00:00, 329.47it/s]\n"
               ]
            },
            {
               "name": "stdout",
               "output_type": "stream",
               "text": [
                  "test on day 3000\n"
               ]
            },
            {
               "name": "stderr",
               "output_type": "stream",
               "text": [
                  "\n",
                  "\u001b[A\n",
                  "\u001b[A\n",
                  "100%|██████████| 100/100 [00:00<00:00, 328.22it/s]\n"
               ]
            },
            {
               "name": "stdout",
               "output_type": "stream",
               "text": [
                  "test on day 3500\n"
               ]
            },
            {
               "name": "stderr",
               "output_type": "stream",
               "text": [
                  "\n",
                  "\u001b[A\n",
                  "\u001b[A\n",
                  "100%|██████████| 100/100 [00:00<00:00, 330.44it/s]\n"
               ]
            },
            {
               "name": "stdout",
               "output_type": "stream",
               "text": [
                  "test on day 4000\n"
               ]
            },
            {
               "name": "stderr",
               "output_type": "stream",
               "text": [
                  "\n",
                  "\u001b[A\n",
                  "\u001b[A\n",
                  "100%|██████████| 100/100 [00:00<00:00, 331.82it/s]\n"
               ]
            },
            {
               "name": "stdout",
               "output_type": "stream",
               "text": [
                  "test on day 4500\n"
               ]
            },
            {
               "name": "stderr",
               "output_type": "stream",
               "text": [
                  "\n",
                  "\u001b[A\n",
                  "\u001b[A\n",
                  "100%|██████████| 100/100 [00:00<00:00, 331.30it/s]\n"
               ]
            },
            {
               "name": "stdout",
               "output_type": "stream",
               "text": [
                  "test on day 5000\n"
               ]
            },
            {
               "name": "stderr",
               "output_type": "stream",
               "text": [
                  "\n",
                  "\u001b[A\n",
                  "\u001b[A\n",
                  "100%|██████████| 100/100 [00:00<00:00, 331.79it/s]\n"
               ]
            },
            {
               "name": "stdout",
               "output_type": "stream",
               "text": [
                  "test on day 5500\n"
               ]
            },
            {
               "name": "stderr",
               "output_type": "stream",
               "text": [
                  "\n",
                  "\u001b[A\n",
                  "\u001b[A\n",
                  "100%|██████████| 100/100 [00:00<00:00, 330.82it/s]\n"
               ]
            },
            {
               "name": "stdout",
               "output_type": "stream",
               "text": [
                  "test on day 6000\n"
               ]
            },
            {
               "name": "stderr",
               "output_type": "stream",
               "text": [
                  "\n",
                  "\u001b[A\n",
                  "\u001b[A\n",
                  "100%|██████████| 100/100 [00:00<00:00, 332.10it/s]\n"
               ]
            },
            {
               "name": "stdout",
               "output_type": "stream",
               "text": [
                  "test on day 6500\n"
               ]
            },
            {
               "name": "stderr",
               "output_type": "stream",
               "text": [
                  "\n",
                  "\u001b[A\n",
                  "\u001b[A\n",
                  "100%|██████████| 100/100 [00:00<00:00, 332.38it/s]\n"
               ]
            },
            {
               "name": "stdout",
               "output_type": "stream",
               "text": [
                  "core-periphery tests using the Lip approach\n",
                  "test on day 0\n"
               ]
            },
            {
               "name": "stderr",
               "output_type": "stream",
               "text": [
                  "\n",
                  "100%|██████████| 100/100 [00:00<00:00, 2812.84it/s]\n"
               ]
            },
            {
               "name": "stdout",
               "output_type": "stream",
               "text": [
                  "test on day 500\n"
               ]
            },
            {
               "name": "stderr",
               "output_type": "stream",
               "text": [
                  "\n",
                  "\u001b[A\n",
                  "\u001b[A\n",
                  "100%|██████████| 100/100 [00:00<00:00, 336.14it/s]\n"
               ]
            },
            {
               "name": "stdout",
               "output_type": "stream",
               "text": [
                  "test on day 1000\n"
               ]
            },
            {
               "name": "stderr",
               "output_type": "stream",
               "text": [
                  "\n",
                  "\u001b[A\n",
                  "\u001b[A\n",
                  "\u001b[A\n",
                  "100%|██████████| 100/100 [00:00<00:00, 320.23it/s]\n"
               ]
            },
            {
               "name": "stdout",
               "output_type": "stream",
               "text": [
                  "test on day 1500\n"
               ]
            },
            {
               "name": "stderr",
               "output_type": "stream",
               "text": [
                  "\n",
                  "\u001b[A\n",
                  "\u001b[A\n",
                  "\u001b[A\n",
                  "100%|██████████| 100/100 [00:00<00:00, 324.82it/s]\n"
               ]
            },
            {
               "name": "stdout",
               "output_type": "stream",
               "text": [
                  "test on day 2000\n"
               ]
            },
            {
               "name": "stderr",
               "output_type": "stream",
               "text": [
                  "\n",
                  "\u001b[A\n",
                  "\u001b[A\n",
                  "100%|██████████| 100/100 [00:00<00:00, 329.12it/s]\n"
               ]
            },
            {
               "name": "stdout",
               "output_type": "stream",
               "text": [
                  "test on day 2500\n"
               ]
            },
            {
               "name": "stderr",
               "output_type": "stream",
               "text": [
                  "\n",
                  "\u001b[A\n",
                  "\u001b[A\n",
                  "100%|██████████| 100/100 [00:00<00:00, 330.14it/s]\n"
               ]
            },
            {
               "name": "stdout",
               "output_type": "stream",
               "text": [
                  "test on day 3000\n"
               ]
            },
            {
               "name": "stderr",
               "output_type": "stream",
               "text": [
                  "\n",
                  "\u001b[A\n",
                  "\u001b[A\n",
                  "100%|██████████| 100/100 [00:00<00:00, 331.82it/s]\n"
               ]
            },
            {
               "name": "stdout",
               "output_type": "stream",
               "text": [
                  "test on day 3500\n"
               ]
            },
            {
               "name": "stderr",
               "output_type": "stream",
               "text": [
                  "\n",
                  "\u001b[A\n",
                  "\u001b[A\n",
                  "100%|██████████| 100/100 [00:00<00:00, 332.18it/s]\n"
               ]
            },
            {
               "name": "stdout",
               "output_type": "stream",
               "text": [
                  "test on day 4000\n"
               ]
            },
            {
               "name": "stderr",
               "output_type": "stream",
               "text": [
                  "\n",
                  "\u001b[A\n",
                  "\u001b[A\n",
                  "100%|██████████| 100/100 [00:00<00:00, 332.96it/s]\n"
               ]
            },
            {
               "name": "stdout",
               "output_type": "stream",
               "text": [
                  "test on day 4500\n"
               ]
            },
            {
               "name": "stderr",
               "output_type": "stream",
               "text": [
                  "\n",
                  "\u001b[A\n",
                  "\u001b[A\n",
                  "100%|██████████| 100/100 [00:00<00:00, 333.49it/s]\n"
               ]
            },
            {
               "name": "stdout",
               "output_type": "stream",
               "text": [
                  "test on day 5000\n"
               ]
            },
            {
               "name": "stderr",
               "output_type": "stream",
               "text": [
                  "\n",
                  "\u001b[A\n",
                  "\u001b[A\n",
                  "100%|██████████| 100/100 [00:00<00:00, 332.56it/s]\n"
               ]
            },
            {
               "name": "stdout",
               "output_type": "stream",
               "text": [
                  "test on day 5500\n"
               ]
            },
            {
               "name": "stderr",
               "output_type": "stream",
               "text": [
                  "\n",
                  "\u001b[A\n",
                  "\u001b[A\n",
                  "100%|██████████| 100/100 [00:00<00:00, 333.06it/s]\n"
               ]
            },
            {
               "name": "stdout",
               "output_type": "stream",
               "text": [
                  "test on day 6000\n"
               ]
            },
            {
               "name": "stderr",
               "output_type": "stream",
               "text": [
                  "\n",
                  "\u001b[A\n",
                  "\u001b[A\n",
                  "100%|██████████| 100/100 [00:00<00:00, 332.82it/s]\n"
               ]
            },
            {
               "name": "stdout",
               "output_type": "stream",
               "text": [
                  "test on day 6500\n"
               ]
            },
            {
               "name": "stderr",
               "output_type": "stream",
               "text": [
                  "\n",
                  "\u001b[A\n",
                  "\u001b[A\n",
                  "100%|██████████| 100/100 [00:00<00:00, 333.44it/s]\n"
               ]
            },
            {
               "name": "stdout",
               "output_type": "stream",
               "text": [
                  "core-periphery tests using the Lip approach\n",
                  "test on day 0\n"
               ]
            },
            {
               "name": "stderr",
               "output_type": "stream",
               "text": [
                  "\n",
                  "100%|██████████| 100/100 [00:00<00:00, 2805.27it/s]\n"
               ]
            },
            {
               "name": "stdout",
               "output_type": "stream",
               "text": [
                  "test on day 500\n"
               ]
            },
            {
               "name": "stderr",
               "output_type": "stream",
               "text": [
                  "\n",
                  "\u001b[A\n",
                  "\u001b[A\n",
                  "100%|██████████| 100/100 [00:00<00:00, 337.53it/s]\n"
               ]
            },
            {
               "name": "stdout",
               "output_type": "stream",
               "text": [
                  "test on day 1000\n"
               ]
            },
            {
               "name": "stderr",
               "output_type": "stream",
               "text": [
                  "\n",
                  "\u001b[A\n",
                  "\u001b[A\n",
                  "\u001b[A\n",
                  "100%|██████████| 100/100 [00:00<00:00, 320.68it/s]\n"
               ]
            },
            {
               "name": "stdout",
               "output_type": "stream",
               "text": [
                  "test on day 1500\n"
               ]
            },
            {
               "name": "stderr",
               "output_type": "stream",
               "text": [
                  "\n",
                  "\u001b[A\n",
                  "\u001b[A\n",
                  "\u001b[A\n",
                  "100%|██████████| 100/100 [00:00<00:00, 323.43it/s]\n"
               ]
            },
            {
               "name": "stdout",
               "output_type": "stream",
               "text": [
                  "test on day 2000\n"
               ]
            },
            {
               "name": "stderr",
               "output_type": "stream",
               "text": [
                  "\n",
                  "\u001b[A\n",
                  "\u001b[A\n",
                  "\u001b[A\n",
                  "100%|██████████| 100/100 [00:00<00:00, 327.08it/s]\n"
               ]
            },
            {
               "name": "stdout",
               "output_type": "stream",
               "text": [
                  "test on day 2500\n"
               ]
            },
            {
               "name": "stderr",
               "output_type": "stream",
               "text": [
                  "\n",
                  "\u001b[A\n",
                  "\u001b[A\n",
                  "\u001b[A\n",
                  "100%|██████████| 100/100 [00:00<00:00, 327.85it/s]\n"
               ]
            },
            {
               "name": "stdout",
               "output_type": "stream",
               "text": [
                  "test on day 3000\n"
               ]
            },
            {
               "name": "stderr",
               "output_type": "stream",
               "text": [
                  "\n",
                  "\u001b[A\n",
                  "\u001b[A\n",
                  "100%|██████████| 100/100 [00:00<00:00, 329.30it/s]\n"
               ]
            },
            {
               "name": "stdout",
               "output_type": "stream",
               "text": [
                  "test on day 3500\n"
               ]
            },
            {
               "name": "stderr",
               "output_type": "stream",
               "text": [
                  "\n",
                  "\u001b[A\n",
                  "\u001b[A\n",
                  "100%|██████████| 100/100 [00:00<00:00, 330.62it/s]\n"
               ]
            },
            {
               "name": "stdout",
               "output_type": "stream",
               "text": [
                  "test on day 4000\n"
               ]
            },
            {
               "name": "stderr",
               "output_type": "stream",
               "text": [
                  "\n",
                  "\u001b[A\n",
                  "\u001b[A\n",
                  "100%|██████████| 100/100 [00:00<00:00, 330.49it/s]\n"
               ]
            },
            {
               "name": "stdout",
               "output_type": "stream",
               "text": [
                  "test on day 4500\n"
               ]
            },
            {
               "name": "stderr",
               "output_type": "stream",
               "text": [
                  "\n",
                  "\u001b[A\n",
                  "\u001b[A\n",
                  "100%|██████████| 100/100 [00:00<00:00, 330.42it/s]\n"
               ]
            },
            {
               "name": "stdout",
               "output_type": "stream",
               "text": [
                  "test on day 5000\n"
               ]
            },
            {
               "name": "stderr",
               "output_type": "stream",
               "text": [
                  "\n",
                  "\u001b[A\n",
                  "\u001b[A\n",
                  "100%|██████████| 100/100 [00:00<00:00, 328.44it/s]\n"
               ]
            },
            {
               "name": "stdout",
               "output_type": "stream",
               "text": [
                  "test on day 5500\n"
               ]
            },
            {
               "name": "stderr",
               "output_type": "stream",
               "text": [
                  "\n",
                  "\u001b[A\n",
                  "\u001b[A\n",
                  "100%|██████████| 100/100 [00:00<00:00, 327.52it/s]\n"
               ]
            },
            {
               "name": "stdout",
               "output_type": "stream",
               "text": [
                  "test on day 6000\n"
               ]
            },
            {
               "name": "stderr",
               "output_type": "stream",
               "text": [
                  "\n",
                  "\u001b[A\n",
                  "\u001b[A\n",
                  "\u001b[A\n",
                  "100%|██████████| 100/100 [00:00<00:00, 326.33it/s]\n"
               ]
            },
            {
               "name": "stdout",
               "output_type": "stream",
               "text": [
                  "test on day 6500\n"
               ]
            },
            {
               "name": "stderr",
               "output_type": "stream",
               "text": [
                  "\n",
                  "\u001b[A\n",
                  "\u001b[A\n",
                  "\u001b[A\n",
                  "100%|██████████| 100/100 [00:00<00:00, 325.27it/s]\n"
               ]
            },
            {
               "name": "stdout",
               "output_type": "stream",
               "text": [
                  "core-periphery tests using the Lip approach\n",
                  "test on day 0\n"
               ]
            },
            {
               "name": "stderr",
               "output_type": "stream",
               "text": [
                  "\n",
                  "100%|██████████| 100/100 [00:00<00:00, 1816.38it/s]\n"
               ]
            },
            {
               "name": "stdout",
               "output_type": "stream",
               "text": [
                  "test on day 500\n"
               ]
            },
            {
               "name": "stderr",
               "output_type": "stream",
               "text": [
                  "\n",
                  "\u001b[A\n",
                  "\u001b[A\n",
                  "100%|██████████| 100/100 [00:00<00:00, 335.65it/s]\n"
               ]
            },
            {
               "name": "stdout",
               "output_type": "stream",
               "text": [
                  "test on day 1000\n"
               ]
            },
            {
               "name": "stderr",
               "output_type": "stream",
               "text": [
                  "\n",
                  "\u001b[A\n",
                  "\u001b[A\n",
                  "\u001b[A\n",
                  "100%|██████████| 100/100 [00:00<00:00, 319.94it/s]\n"
               ]
            },
            {
               "name": "stdout",
               "output_type": "stream",
               "text": [
                  "test on day 1500\n"
               ]
            },
            {
               "name": "stderr",
               "output_type": "stream",
               "text": [
                  "\n",
                  "\u001b[A\n",
                  "\u001b[A\n",
                  "\u001b[A\n",
                  "100%|██████████| 100/100 [00:00<00:00, 320.00it/s]\n"
               ]
            },
            {
               "name": "stdout",
               "output_type": "stream",
               "text": [
                  "test on day 2000\n"
               ]
            },
            {
               "name": "stderr",
               "output_type": "stream",
               "text": [
                  "\n",
                  "\u001b[A\n",
                  "\u001b[A\n",
                  "100%|██████████| 100/100 [00:00<00:00, 328.81it/s]\n"
               ]
            },
            {
               "name": "stdout",
               "output_type": "stream",
               "text": [
                  "test on day 2500\n"
               ]
            },
            {
               "name": "stderr",
               "output_type": "stream",
               "text": [
                  "\n",
                  "\u001b[A\n",
                  "\u001b[A\n",
                  "\u001b[A\n",
                  "100%|██████████| 100/100 [00:00<00:00, 327.13it/s]\n"
               ]
            },
            {
               "name": "stdout",
               "output_type": "stream",
               "text": [
                  "test on day 3000\n"
               ]
            },
            {
               "name": "stderr",
               "output_type": "stream",
               "text": [
                  "\n",
                  "\u001b[A\n",
                  "\u001b[A\n",
                  "100%|██████████| 100/100 [00:00<00:00, 329.64it/s]\n"
               ]
            },
            {
               "name": "stdout",
               "output_type": "stream",
               "text": [
                  "test on day 3500\n"
               ]
            },
            {
               "name": "stderr",
               "output_type": "stream",
               "text": [
                  "\n",
                  "\u001b[A\n",
                  "\u001b[A\n",
                  "100%|██████████| 100/100 [00:00<00:00, 331.37it/s]\n"
               ]
            },
            {
               "name": "stdout",
               "output_type": "stream",
               "text": [
                  "test on day 4000\n"
               ]
            },
            {
               "name": "stderr",
               "output_type": "stream",
               "text": [
                  "\n",
                  "\u001b[A\n",
                  "\u001b[A\n",
                  "100%|██████████| 100/100 [00:00<00:00, 330.10it/s]\n"
               ]
            },
            {
               "name": "stdout",
               "output_type": "stream",
               "text": [
                  "test on day 4500\n"
               ]
            },
            {
               "name": "stderr",
               "output_type": "stream",
               "text": [
                  "\n",
                  "\u001b[A\n",
                  "\u001b[A\n",
                  "100%|██████████| 100/100 [00:00<00:00, 329.74it/s]\n"
               ]
            },
            {
               "name": "stdout",
               "output_type": "stream",
               "text": [
                  "test on day 5000\n"
               ]
            },
            {
               "name": "stderr",
               "output_type": "stream",
               "text": [
                  "\n",
                  "\u001b[A\n",
                  "\u001b[A\n",
                  "100%|██████████| 100/100 [00:00<00:00, 329.73it/s]\n"
               ]
            },
            {
               "name": "stdout",
               "output_type": "stream",
               "text": [
                  "test on day 5500\n"
               ]
            },
            {
               "name": "stderr",
               "output_type": "stream",
               "text": [
                  "\n",
                  "\u001b[A\n",
                  "\u001b[A\n",
                  "100%|██████████| 100/100 [00:00<00:00, 330.37it/s]\n"
               ]
            },
            {
               "name": "stdout",
               "output_type": "stream",
               "text": [
                  "test on day 6000\n"
               ]
            },
            {
               "name": "stderr",
               "output_type": "stream",
               "text": [
                  "\n",
                  "\u001b[A\n",
                  "\u001b[A\n",
                  "100%|██████████| 100/100 [00:00<00:00, 331.30it/s]\n"
               ]
            },
            {
               "name": "stdout",
               "output_type": "stream",
               "text": [
                  "test on day 6500\n"
               ]
            },
            {
               "name": "stderr",
               "output_type": "stream",
               "text": [
                  "\n",
                  "\u001b[A\n",
                  "\u001b[A\n",
                  "100%|██████████| 100/100 [00:00<00:00, 330.15it/s]\n",
                  "100%|██████████| 5/5 [00:20<00:00,  4.14s/it]\n"
               ]
            },
            {
               "name": "stdout",
               "output_type": "stream",
               "text": [
                  "get transaction stats av. network\n"
               ]
            },
            {
               "name": "stderr",
               "output_type": "stream",
               "text": [
                  "100%|██████████| 6500/6500 [02:15<00:00, 47.87it/s]\n"
               ]
            },
            {
               "name": "stdout",
               "output_type": "stream",
               "text": [
                  "get transaction stats av. bank\n"
               ]
            },
            {
               "name": "stderr",
               "output_type": "stream",
               "text": [
                  "100%|██████████| 6500/6500 [00:09<00:00, 668.50it/s]\n",
                  " 35%|███▍      | 6999/19999 [1:34:53<33:19,  6.50it/s]     "
               ]
            },
            {
               "name": "stdout",
               "output_type": "stream",
               "text": [
                  "get df_rev_repo_trans\n"
               ]
            },
            {
               "name": "stderr",
               "output_type": "stream",
               "text": [
                  "100%|██████████| 50/50 [00:00<00:00, 822412.55it/s]\n"
               ]
            },
            {
               "name": "stdout",
               "output_type": "stream",
               "text": [
                  "get df_rev_repo_trans\n"
               ]
            },
            {
               "name": "stderr",
               "output_type": "stream",
               "text": [
                  "100%|██████████| 50/50 [00:00<00:00, 812849.61it/s]\n"
               ]
            },
            {
               "name": "stdout",
               "output_type": "stream",
               "text": [
                  "get arr_rev_repo_exp_adj\n"
               ]
            },
            {
               "name": "stderr",
               "output_type": "stream",
               "text": [
                  "240914it [05:33, 723.07it/s] \n"
               ]
            },
            {
               "name": "stdout",
               "output_type": "stream",
               "text": [
                  "get arr_binary_adj (numba)\n",
                  "get degree distribution\n"
               ]
            },
            {
               "name": "stderr",
               "output_type": "stream",
               "text": [
                  "100%|██████████| 7000/7000 [01:25<00:00, 81.82it/s]\n"
               ]
            },
            {
               "name": "stdout",
               "output_type": "stream",
               "text": [
                  "get jaccard\n"
               ]
            },
            {
               "name": "stderr",
               "output_type": "stream",
               "text": [
                  "100%|██████████| 6999/6999 [00:01<00:00, 4550.68it/s]\n"
               ]
            },
            {
               "name": "stdout",
               "output_type": "stream",
               "text": [
                  "get density\n"
               ]
            },
            {
               "name": "stderr",
               "output_type": "stream",
               "text": [
                  "100%|██████████| 6999/6999 [00:03<00:00, 1760.91it/s]\n"
               ]
            },
            {
               "name": "stdout",
               "output_type": "stream",
               "text": [
                  "get degree stats\n"
               ]
            },
            {
               "name": "stderr",
               "output_type": "stream",
               "text": [
                  "100%|██████████| 6999/6999 [00:09<00:00, 743.82it/s]\n"
               ]
            },
            {
               "name": "stdout",
               "output_type": "stream",
               "text": [
                  "get exposure stats\n"
               ]
            },
            {
               "name": "stderr",
               "output_type": "stream",
               "text": [
                  "100%|██████████| 7001/7001 [00:01<00:00, 4836.43it/s]\n"
               ]
            },
            {
               "name": "stdout",
               "output_type": "stream",
               "text": [
                  "run core-periphery tests\n"
               ]
            },
            {
               "name": "stderr",
               "output_type": "stream",
               "text": []
            },
            {
               "name": "stdout",
               "output_type": "stream",
               "text": [
                  "core-periphery tests using the Lip approach\n",
                  "test on day 0\n"
               ]
            },
            {
               "name": "stderr",
               "output_type": "stream",
               "text": [
                  "\n",
                  "100%|██████████| 100/100 [00:00<00:00, 2752.89it/s]\n"
               ]
            },
            {
               "name": "stdout",
               "output_type": "stream",
               "text": [
                  "test on day 500\n"
               ]
            },
            {
               "name": "stderr",
               "output_type": "stream",
               "text": [
                  "\n",
                  "\u001b[A\n",
                  "\u001b[A\n",
                  "100%|██████████| 100/100 [00:00<00:00, 334.03it/s]\n"
               ]
            },
            {
               "name": "stdout",
               "output_type": "stream",
               "text": [
                  "test on day 1000\n"
               ]
            },
            {
               "name": "stderr",
               "output_type": "stream",
               "text": [
                  "\n",
                  "\u001b[A\n",
                  "\u001b[A\n",
                  "\u001b[A\n",
                  "100%|██████████| 100/100 [00:00<00:00, 321.78it/s]\n"
               ]
            },
            {
               "name": "stdout",
               "output_type": "stream",
               "text": [
                  "test on day 1500\n"
               ]
            },
            {
               "name": "stderr",
               "output_type": "stream",
               "text": [
                  "\n",
                  "\u001b[A\n",
                  "\u001b[A\n",
                  "\u001b[A\n",
                  "100%|██████████| 100/100 [00:00<00:00, 321.94it/s]\n"
               ]
            },
            {
               "name": "stdout",
               "output_type": "stream",
               "text": [
                  "test on day 2000\n"
               ]
            },
            {
               "name": "stderr",
               "output_type": "stream",
               "text": [
                  "\n",
                  "\u001b[A\n",
                  "\u001b[A\n",
                  "\u001b[A\n",
                  "100%|██████████| 100/100 [00:00<00:00, 324.87it/s]\n"
               ]
            },
            {
               "name": "stdout",
               "output_type": "stream",
               "text": [
                  "test on day 2500\n"
               ]
            },
            {
               "name": "stderr",
               "output_type": "stream",
               "text": [
                  "\n",
                  "\u001b[A\n",
                  "\u001b[A\n",
                  "\u001b[A\n",
                  "100%|██████████| 100/100 [00:00<00:00, 325.55it/s]\n"
               ]
            },
            {
               "name": "stdout",
               "output_type": "stream",
               "text": [
                  "test on day 3000\n"
               ]
            },
            {
               "name": "stderr",
               "output_type": "stream",
               "text": [
                  "\n",
                  "\u001b[A\n",
                  "\u001b[A\n",
                  "\u001b[A\n",
                  "100%|██████████| 100/100 [00:00<00:00, 327.00it/s]\n"
               ]
            },
            {
               "name": "stdout",
               "output_type": "stream",
               "text": [
                  "test on day 3500\n"
               ]
            },
            {
               "name": "stderr",
               "output_type": "stream",
               "text": [
                  "\n",
                  "\u001b[A\n",
                  "\u001b[A\n",
                  "\u001b[A\n",
                  "100%|██████████| 100/100 [00:00<00:00, 325.81it/s]\n"
               ]
            },
            {
               "name": "stdout",
               "output_type": "stream",
               "text": [
                  "test on day 4000\n"
               ]
            },
            {
               "name": "stderr",
               "output_type": "stream",
               "text": [
                  "\n",
                  "\u001b[A\n",
                  "\u001b[A\n",
                  "\u001b[A\n",
                  "100%|██████████| 100/100 [00:00<00:00, 326.68it/s]\n"
               ]
            },
            {
               "name": "stdout",
               "output_type": "stream",
               "text": [
                  "test on day 4500\n"
               ]
            },
            {
               "name": "stderr",
               "output_type": "stream",
               "text": [
                  "\n",
                  "\u001b[A\n",
                  "\u001b[A\n",
                  "\u001b[A\n",
                  "100%|██████████| 100/100 [00:00<00:00, 326.91it/s]\n"
               ]
            },
            {
               "name": "stdout",
               "output_type": "stream",
               "text": [
                  "test on day 5000\n"
               ]
            },
            {
               "name": "stderr",
               "output_type": "stream",
               "text": [
                  "\n",
                  "\u001b[A\n",
                  "\u001b[A\n",
                  "\u001b[A\n",
                  "100%|██████████| 100/100 [00:00<00:00, 327.87it/s]\n"
               ]
            },
            {
               "name": "stdout",
               "output_type": "stream",
               "text": [
                  "test on day 5500\n"
               ]
            },
            {
               "name": "stderr",
               "output_type": "stream",
               "text": [
                  "\n",
                  "\u001b[A\n",
                  "\u001b[A\n",
                  "\u001b[A\n",
                  "100%|██████████| 100/100 [00:00<00:00, 326.97it/s]\n"
               ]
            },
            {
               "name": "stdout",
               "output_type": "stream",
               "text": [
                  "test on day 6000\n"
               ]
            },
            {
               "name": "stderr",
               "output_type": "stream",
               "text": [
                  "\n",
                  "\u001b[A\n",
                  "\u001b[A\n",
                  "\u001b[A\n",
                  "100%|██████████| 100/100 [00:00<00:00, 327.15it/s]\n"
               ]
            },
            {
               "name": "stdout",
               "output_type": "stream",
               "text": [
                  "test on day 6500\n"
               ]
            },
            {
               "name": "stderr",
               "output_type": "stream",
               "text": [
                  "\n",
                  "\u001b[A\n",
                  "\u001b[A\n",
                  "\u001b[A\n",
                  "100%|██████████| 100/100 [00:00<00:00, 326.78it/s]\n"
               ]
            },
            {
               "name": "stdout",
               "output_type": "stream",
               "text": [
                  "test on day 7000\n"
               ]
            },
            {
               "name": "stderr",
               "output_type": "stream",
               "text": [
                  "\n",
                  "\u001b[A\n",
                  "\u001b[A\n",
                  "\u001b[A\n",
                  "100%|██████████| 100/100 [00:00<00:00, 327.27it/s]\n"
               ]
            },
            {
               "name": "stdout",
               "output_type": "stream",
               "text": [
                  "core-periphery tests using the Lip approach\n",
                  "test on day 0\n"
               ]
            },
            {
               "name": "stderr",
               "output_type": "stream",
               "text": [
                  "\n",
                  "100%|██████████| 100/100 [00:00<00:00, 1068.90it/s]\n"
               ]
            },
            {
               "name": "stdout",
               "output_type": "stream",
               "text": [
                  "test on day 500\n"
               ]
            },
            {
               "name": "stderr",
               "output_type": "stream",
               "text": [
                  "\n",
                  "\u001b[A\n",
                  "\u001b[A\n",
                  "\u001b[A\n",
                  "\u001b[A\n",
                  "\u001b[A\n",
                  "\u001b[A\n",
                  "\u001b[A\n",
                  "\u001b[A\n",
                  "100%|██████████| 100/100 [00:01<00:00, 66.91it/s]\n"
               ]
            },
            {
               "name": "stdout",
               "output_type": "stream",
               "text": [
                  "test on day 1000\n"
               ]
            },
            {
               "name": "stderr",
               "output_type": "stream",
               "text": [
                  "\n",
                  "\u001b[A\n",
                  "\u001b[A\n",
                  "\u001b[A\n",
                  "\u001b[A\n",
                  "\u001b[A\n",
                  "\u001b[A\n",
                  "\u001b[A\n",
                  "\u001b[A\n",
                  "\u001b[A\n",
                  "100%|██████████| 100/100 [00:13<00:00,  7.55it/s]\n"
               ]
            },
            {
               "name": "stdout",
               "output_type": "stream",
               "text": [
                  "test on day 1500\n"
               ]
            },
            {
               "name": "stderr",
               "output_type": "stream",
               "text": [
                  "\n",
                  "\u001b[A\n",
                  "\u001b[A\n",
                  "\u001b[A\n",
                  "100%|██████████| 100/100 [00:00<00:00, 320.49it/s]\n"
               ]
            },
            {
               "name": "stdout",
               "output_type": "stream",
               "text": [
                  "test on day 2000\n"
               ]
            },
            {
               "name": "stderr",
               "output_type": "stream",
               "text": [
                  "\n",
                  "\u001b[A\n",
                  "\u001b[A\n",
                  "\u001b[A\n",
                  "100%|██████████| 100/100 [00:00<00:00, 324.45it/s]\n"
               ]
            },
            {
               "name": "stdout",
               "output_type": "stream",
               "text": [
                  "test on day 2500\n"
               ]
            },
            {
               "name": "stderr",
               "output_type": "stream",
               "text": [
                  "\n",
                  "\u001b[A\n",
                  "\u001b[A\n",
                  "\u001b[A\n",
                  "100%|██████████| 100/100 [00:00<00:00, 325.28it/s]\n"
               ]
            },
            {
               "name": "stdout",
               "output_type": "stream",
               "text": [
                  "test on day 3000\n"
               ]
            },
            {
               "name": "stderr",
               "output_type": "stream",
               "text": [
                  "\n",
                  "\u001b[A\n",
                  "\u001b[A\n",
                  "100%|██████████| 100/100 [00:00<00:00, 327.72it/s]\n"
               ]
            },
            {
               "name": "stdout",
               "output_type": "stream",
               "text": [
                  "test on day 3500\n"
               ]
            },
            {
               "name": "stderr",
               "output_type": "stream",
               "text": [
                  "\n",
                  "\u001b[A\n",
                  "\u001b[A\n",
                  "\u001b[A\n",
                  "100%|██████████| 100/100 [00:00<00:00, 326.43it/s]\n"
               ]
            },
            {
               "name": "stdout",
               "output_type": "stream",
               "text": [
                  "test on day 4000\n"
               ]
            },
            {
               "name": "stderr",
               "output_type": "stream",
               "text": [
                  "\n",
                  "\u001b[A\n",
                  "\u001b[A\n",
                  "\u001b[A\n",
                  "100%|██████████| 100/100 [00:00<00:00, 327.56it/s]\n"
               ]
            },
            {
               "name": "stdout",
               "output_type": "stream",
               "text": [
                  "test on day 4500\n"
               ]
            },
            {
               "name": "stderr",
               "output_type": "stream",
               "text": [
                  "\n",
                  "\u001b[A\n",
                  "\u001b[A\n",
                  "\u001b[A\n",
                  "100%|██████████| 100/100 [00:00<00:00, 327.75it/s]\n"
               ]
            },
            {
               "name": "stdout",
               "output_type": "stream",
               "text": [
                  "test on day 5000\n"
               ]
            },
            {
               "name": "stderr",
               "output_type": "stream",
               "text": [
                  "\n",
                  "\u001b[A\n",
                  "\u001b[A\n",
                  "\u001b[A\n",
                  "100%|██████████| 100/100 [00:00<00:00, 327.07it/s]\n"
               ]
            },
            {
               "name": "stdout",
               "output_type": "stream",
               "text": [
                  "test on day 5500\n"
               ]
            },
            {
               "name": "stderr",
               "output_type": "stream",
               "text": [
                  "\n",
                  "\u001b[A\n",
                  "\u001b[A\n",
                  "\u001b[A\n",
                  "\u001b[A\n",
                  "\u001b[A\n",
                  "100%|██████████| 100/100 [00:05<00:00, 18.20it/s]\n"
               ]
            },
            {
               "name": "stdout",
               "output_type": "stream",
               "text": [
                  "test on day 6000\n"
               ]
            },
            {
               "name": "stderr",
               "output_type": "stream",
               "text": [
                  "\n",
                  "\u001b[A\n",
                  "\u001b[A\n",
                  "\u001b[A\n",
                  "100%|██████████| 100/100 [00:05<00:00, 18.64it/s]\n"
               ]
            },
            {
               "name": "stdout",
               "output_type": "stream",
               "text": [
                  "test on day 6500\n"
               ]
            },
            {
               "name": "stderr",
               "output_type": "stream",
               "text": [
                  "\n",
                  "\u001b[A\n",
                  "\u001b[A\n",
                  "\u001b[A\n",
                  "100%|██████████| 100/100 [00:00<00:00, 328.24it/s]\n"
               ]
            },
            {
               "name": "stdout",
               "output_type": "stream",
               "text": [
                  "test on day 7000\n"
               ]
            },
            {
               "name": "stderr",
               "output_type": "stream",
               "text": [
                  "\n",
                  "\u001b[A\n",
                  "\u001b[A\n",
                  "100%|██████████| 100/100 [00:00<00:00, 329.79it/s]\n"
               ]
            },
            {
               "name": "stdout",
               "output_type": "stream",
               "text": [
                  "core-periphery tests using the Lip approach\n",
                  "test on day 0\n"
               ]
            },
            {
               "name": "stderr",
               "output_type": "stream",
               "text": [
                  "\n",
                  "100%|██████████| 100/100 [00:00<00:00, 2818.07it/s]\n"
               ]
            },
            {
               "name": "stdout",
               "output_type": "stream",
               "text": [
                  "test on day 500\n"
               ]
            },
            {
               "name": "stderr",
               "output_type": "stream",
               "text": [
                  "\n",
                  "\u001b[A\n",
                  "\u001b[A\n",
                  "100%|██████████| 100/100 [00:00<00:00, 335.34it/s]\n"
               ]
            },
            {
               "name": "stdout",
               "output_type": "stream",
               "text": [
                  "test on day 1000\n"
               ]
            },
            {
               "name": "stderr",
               "output_type": "stream",
               "text": [
                  "\n",
                  "\u001b[A\n",
                  "\u001b[A\n",
                  "\u001b[A\n",
                  "100%|██████████| 100/100 [00:00<00:00, 314.36it/s]\n"
               ]
            },
            {
               "name": "stdout",
               "output_type": "stream",
               "text": [
                  "test on day 1500\n"
               ]
            },
            {
               "name": "stderr",
               "output_type": "stream",
               "text": [
                  "\n",
                  "\u001b[A\n",
                  "\u001b[A\n",
                  "\u001b[A\n",
                  "\u001b[A\n",
                  "\u001b[A\n",
                  "100%|██████████| 100/100 [00:19<00:00,  5.18it/s]\n"
               ]
            },
            {
               "name": "stdout",
               "output_type": "stream",
               "text": [
                  "test on day 2000\n"
               ]
            },
            {
               "name": "stderr",
               "output_type": "stream",
               "text": [
                  "\n",
                  "\u001b[A\n",
                  "\u001b[A\n",
                  "\u001b[A\n",
                  "100%|██████████| 100/100 [00:00<00:00, 322.95it/s]\n"
               ]
            },
            {
               "name": "stdout",
               "output_type": "stream",
               "text": [
                  "test on day 2500\n"
               ]
            },
            {
               "name": "stderr",
               "output_type": "stream",
               "text": [
                  "\n",
                  "\u001b[A\n",
                  "\u001b[A\n",
                  "\u001b[A\n",
                  "100%|██████████| 100/100 [00:00<00:00, 323.38it/s]\n"
               ]
            },
            {
               "name": "stdout",
               "output_type": "stream",
               "text": [
                  "test on day 3000\n"
               ]
            },
            {
               "name": "stderr",
               "output_type": "stream",
               "text": [
                  "\n",
                  "\u001b[A\n",
                  "\u001b[A\n",
                  "\u001b[A\n",
                  "\u001b[A\n",
                  "\u001b[A\n",
                  "100%|██████████| 100/100 [00:40<00:00,  2.45it/s]\n"
               ]
            },
            {
               "name": "stdout",
               "output_type": "stream",
               "text": [
                  "test on day 3500\n"
               ]
            },
            {
               "name": "stderr",
               "output_type": "stream",
               "text": [
                  "\n",
                  "\u001b[A\n",
                  "\u001b[A\n",
                  "\u001b[A\n",
                  "100%|██████████| 100/100 [00:00<00:00, 324.27it/s]\n"
               ]
            },
            {
               "name": "stdout",
               "output_type": "stream",
               "text": [
                  "test on day 4000\n"
               ]
            },
            {
               "name": "stderr",
               "output_type": "stream",
               "text": [
                  "\n",
                  "\u001b[A\n",
                  "\u001b[A\n",
                  "\u001b[A\n",
                  "100%|██████████| 100/100 [00:00<00:00, 325.77it/s]\n"
               ]
            },
            {
               "name": "stdout",
               "output_type": "stream",
               "text": [
                  "test on day 4500\n"
               ]
            },
            {
               "name": "stderr",
               "output_type": "stream",
               "text": [
                  "\n",
                  "\u001b[A\n",
                  "\u001b[A\n",
                  "\u001b[A\n",
                  "\u001b[A\n",
                  "100%|██████████| 100/100 [00:11<00:00,  8.64it/s]\n"
               ]
            },
            {
               "name": "stdout",
               "output_type": "stream",
               "text": [
                  "test on day 5000\n"
               ]
            },
            {
               "name": "stderr",
               "output_type": "stream",
               "text": [
                  "\n",
                  "\u001b[A\n",
                  "\u001b[A\n",
                  "\u001b[A\n",
                  "100%|██████████| 100/100 [00:00<00:00, 326.20it/s]\n"
               ]
            },
            {
               "name": "stdout",
               "output_type": "stream",
               "text": [
                  "test on day 5500\n"
               ]
            },
            {
               "name": "stderr",
               "output_type": "stream",
               "text": [
                  "\n",
                  "\u001b[A\n",
                  "\u001b[A\n",
                  "\u001b[A\n",
                  "100%|██████████| 100/100 [00:11<00:00,  8.88it/s]\n"
               ]
            },
            {
               "name": "stdout",
               "output_type": "stream",
               "text": [
                  "test on day 6000\n"
               ]
            },
            {
               "name": "stderr",
               "output_type": "stream",
               "text": [
                  "\n",
                  "\u001b[A\n",
                  "\u001b[A\n",
                  "\u001b[A\n",
                  "100%|██████████| 100/100 [00:00<00:00, 327.18it/s]\n"
               ]
            },
            {
               "name": "stdout",
               "output_type": "stream",
               "text": [
                  "test on day 6500\n"
               ]
            },
            {
               "name": "stderr",
               "output_type": "stream",
               "text": [
                  "\n",
                  "\u001b[A\n",
                  "\u001b[A\n",
                  "\u001b[A\n",
                  "100%|██████████| 100/100 [00:00<00:00, 327.00it/s]\n"
               ]
            },
            {
               "name": "stdout",
               "output_type": "stream",
               "text": [
                  "test on day 7000\n"
               ]
            },
            {
               "name": "stderr",
               "output_type": "stream",
               "text": [
                  "\n",
                  "\u001b[A\n",
                  "\u001b[A\n",
                  "\u001b[A\n",
                  "100%|██████████| 100/100 [00:00<00:00, 327.58it/s]\n"
               ]
            },
            {
               "name": "stdout",
               "output_type": "stream",
               "text": [
                  "core-periphery tests using the Lip approach\n",
                  "test on day 0\n"
               ]
            },
            {
               "name": "stderr",
               "output_type": "stream",
               "text": [
                  "\n",
                  "\u001b[A\n",
                  "\u001b[A\n",
                  "\u001b[A\n",
                  "100%|██████████| 100/100 [00:26<00:00,  3.74it/s]\n"
               ]
            },
            {
               "name": "stdout",
               "output_type": "stream",
               "text": [
                  "test on day 500\n"
               ]
            },
            {
               "name": "stderr",
               "output_type": "stream",
               "text": [
                  "\n",
                  "\u001b[A\n",
                  "\u001b[A\n",
                  "\u001b[A\n",
                  "100%|██████████| 100/100 [00:00<00:00, 261.61it/s]\n"
               ]
            },
            {
               "name": "stdout",
               "output_type": "stream",
               "text": [
                  "test on day 1000\n"
               ]
            },
            {
               "name": "stderr",
               "output_type": "stream",
               "text": [
                  "\n",
                  "\u001b[A\n",
                  "\u001b[A\n",
                  "\u001b[A\n",
                  "100%|██████████| 100/100 [00:00<00:00, 317.32it/s]\n"
               ]
            },
            {
               "name": "stdout",
               "output_type": "stream",
               "text": [
                  "test on day 1500\n"
               ]
            },
            {
               "name": "stderr",
               "output_type": "stream",
               "text": [
                  "\n",
                  "\u001b[A\n",
                  "\u001b[A\n",
                  "\u001b[A\n",
                  "100%|██████████| 100/100 [00:00<00:00, 320.12it/s]\n"
               ]
            },
            {
               "name": "stdout",
               "output_type": "stream",
               "text": [
                  "test on day 2000\n"
               ]
            },
            {
               "name": "stderr",
               "output_type": "stream",
               "text": [
                  "\n",
                  "\u001b[A\n",
                  "\u001b[A\n",
                  "\u001b[A\n",
                  "100%|██████████| 100/100 [00:00<00:00, 323.86it/s]\n"
               ]
            },
            {
               "name": "stdout",
               "output_type": "stream",
               "text": [
                  "test on day 2500\n"
               ]
            },
            {
               "name": "stderr",
               "output_type": "stream",
               "text": [
                  "\n",
                  "\u001b[A\n",
                  "\u001b[A\n",
                  "\u001b[A\n",
                  "100%|██████████| 100/100 [00:03<00:00, 33.13it/s]\n"
               ]
            },
            {
               "name": "stdout",
               "output_type": "stream",
               "text": [
                  "test on day 3000\n"
               ]
            },
            {
               "name": "stderr",
               "output_type": "stream",
               "text": [
                  "\n",
                  "\u001b[A\n",
                  "\u001b[A\n",
                  "\u001b[A\n",
                  "100%|██████████| 100/100 [00:00<00:00, 321.86it/s]\n"
               ]
            },
            {
               "name": "stdout",
               "output_type": "stream",
               "text": [
                  "test on day 3500\n"
               ]
            },
            {
               "name": "stderr",
               "output_type": "stream",
               "text": [
                  "\n",
                  "\u001b[A\n",
                  "\u001b[A\n",
                  "\u001b[A\n",
                  "100%|██████████| 100/100 [00:00<00:00, 323.79it/s]\n"
               ]
            },
            {
               "name": "stdout",
               "output_type": "stream",
               "text": [
                  "test on day 4000\n"
               ]
            },
            {
               "name": "stderr",
               "output_type": "stream",
               "text": [
                  "\n",
                  "\u001b[A\n",
                  "\u001b[A\n",
                  "\u001b[A\n",
                  "100%|██████████| 100/100 [00:00<00:00, 323.28it/s]\n"
               ]
            },
            {
               "name": "stdout",
               "output_type": "stream",
               "text": [
                  "test on day 4500\n"
               ]
            },
            {
               "name": "stderr",
               "output_type": "stream",
               "text": [
                  "\n",
                  "\u001b[A\n",
                  "\u001b[A\n",
                  "\u001b[A\n",
                  "100%|██████████| 100/100 [00:00<00:00, 321.76it/s]\n"
               ]
            },
            {
               "name": "stdout",
               "output_type": "stream",
               "text": [
                  "test on day 5000\n"
               ]
            },
            {
               "name": "stderr",
               "output_type": "stream",
               "text": [
                  "\n",
                  "\u001b[A\n",
                  "\u001b[A\n",
                  "\u001b[A\n",
                  "100%|██████████| 100/100 [00:00<00:00, 324.06it/s]\n"
               ]
            },
            {
               "name": "stdout",
               "output_type": "stream",
               "text": [
                  "test on day 5500\n"
               ]
            },
            {
               "name": "stderr",
               "output_type": "stream",
               "text": [
                  "\n",
                  "\u001b[A\n",
                  "\u001b[A\n",
                  "\u001b[A\n",
                  "100%|██████████| 100/100 [00:00<00:00, 324.09it/s]\n"
               ]
            },
            {
               "name": "stdout",
               "output_type": "stream",
               "text": [
                  "test on day 6000\n"
               ]
            },
            {
               "name": "stderr",
               "output_type": "stream",
               "text": [
                  "\n",
                  "\u001b[A\n",
                  "\u001b[A\n",
                  "\u001b[A\n",
                  "100%|██████████| 100/100 [00:00<00:00, 323.89it/s]\n"
               ]
            },
            {
               "name": "stdout",
               "output_type": "stream",
               "text": [
                  "test on day 6500\n"
               ]
            },
            {
               "name": "stderr",
               "output_type": "stream",
               "text": [
                  "\n",
                  "\u001b[A\n",
                  "\u001b[A\n",
                  "\u001b[A\n",
                  "\u001b[A\n",
                  "100%|██████████| 100/100 [00:14<00:00,  7.05it/s]\n"
               ]
            },
            {
               "name": "stdout",
               "output_type": "stream",
               "text": [
                  "test on day 7000\n"
               ]
            },
            {
               "name": "stderr",
               "output_type": "stream",
               "text": [
                  "\n",
                  "\u001b[A\n",
                  "\u001b[A\n",
                  "\u001b[A\n",
                  "100%|██████████| 100/100 [00:00<00:00, 326.25it/s]\n"
               ]
            },
            {
               "name": "stdout",
               "output_type": "stream",
               "text": [
                  "core-periphery tests using the Lip approach\n",
                  "test on day 0\n"
               ]
            },
            {
               "name": "stderr",
               "output_type": "stream",
               "text": [
                  "\n",
                  "100%|██████████| 100/100 [00:00<00:00, 1767.22it/s]\n"
               ]
            },
            {
               "name": "stdout",
               "output_type": "stream",
               "text": [
                  "test on day 500\n"
               ]
            },
            {
               "name": "stderr",
               "output_type": "stream",
               "text": [
                  "\n",
                  "\u001b[A\n",
                  "\u001b[A\n",
                  "100%|██████████| 100/100 [00:00<00:00, 335.74it/s]\n"
               ]
            },
            {
               "name": "stdout",
               "output_type": "stream",
               "text": [
                  "test on day 1000\n"
               ]
            },
            {
               "name": "stderr",
               "output_type": "stream",
               "text": [
                  "\n",
                  "\u001b[A\n",
                  "\u001b[A\n",
                  "\u001b[A\n",
                  "100%|██████████| 100/100 [00:00<00:00, 315.78it/s]\n"
               ]
            },
            {
               "name": "stdout",
               "output_type": "stream",
               "text": [
                  "test on day 1500\n"
               ]
            },
            {
               "name": "stderr",
               "output_type": "stream",
               "text": [
                  "\n",
                  "\u001b[A\n",
                  "\u001b[A\n",
                  "\u001b[A\n",
                  "100%|██████████| 100/100 [00:00<00:00, 318.86it/s]\n"
               ]
            },
            {
               "name": "stdout",
               "output_type": "stream",
               "text": [
                  "test on day 2000\n"
               ]
            },
            {
               "name": "stderr",
               "output_type": "stream",
               "text": [
                  "\n",
                  "\u001b[A\n",
                  "\u001b[A\n",
                  "\u001b[A\n",
                  "100%|██████████| 100/100 [00:00<00:00, 323.70it/s]\n"
               ]
            },
            {
               "name": "stdout",
               "output_type": "stream",
               "text": [
                  "test on day 2500\n"
               ]
            },
            {
               "name": "stderr",
               "output_type": "stream",
               "text": [
                  "\n",
                  "\u001b[A\n",
                  "\u001b[A\n",
                  "\u001b[A\n",
                  "100%|██████████| 100/100 [00:00<00:00, 323.08it/s]\n"
               ]
            },
            {
               "name": "stdout",
               "output_type": "stream",
               "text": [
                  "test on day 3000\n"
               ]
            },
            {
               "name": "stderr",
               "output_type": "stream",
               "text": [
                  "\n",
                  "\u001b[A\n",
                  "\u001b[A\n",
                  "\u001b[A\n",
                  "100%|██████████| 100/100 [00:00<00:00, 324.92it/s]\n"
               ]
            },
            {
               "name": "stdout",
               "output_type": "stream",
               "text": [
                  "test on day 3500\n"
               ]
            },
            {
               "name": "stderr",
               "output_type": "stream",
               "text": [
                  "\n",
                  "\u001b[A\n",
                  "\u001b[A\n",
                  "\u001b[A\n",
                  "100%|██████████| 100/100 [00:00<00:00, 325.91it/s]\n"
               ]
            },
            {
               "name": "stdout",
               "output_type": "stream",
               "text": [
                  "test on day 4000\n"
               ]
            },
            {
               "name": "stderr",
               "output_type": "stream",
               "text": [
                  "\n",
                  "\u001b[A\n",
                  "\u001b[A\n",
                  "\u001b[A\n",
                  "100%|██████████| 100/100 [00:00<00:00, 326.50it/s]\n"
               ]
            },
            {
               "name": "stdout",
               "output_type": "stream",
               "text": [
                  "test on day 4500\n"
               ]
            },
            {
               "name": "stderr",
               "output_type": "stream",
               "text": [
                  "\n",
                  "\u001b[A\n",
                  "\u001b[A\n",
                  "\u001b[A\n",
                  "100%|██████████| 100/100 [00:00<00:00, 325.93it/s]\n"
               ]
            },
            {
               "name": "stdout",
               "output_type": "stream",
               "text": [
                  "test on day 5000\n"
               ]
            },
            {
               "name": "stderr",
               "output_type": "stream",
               "text": [
                  "\n",
                  "\u001b[A\n",
                  "\u001b[A\n",
                  "\u001b[A\n",
                  "100%|██████████| 100/100 [00:00<00:00, 325.24it/s]\n"
               ]
            },
            {
               "name": "stdout",
               "output_type": "stream",
               "text": [
                  "test on day 5500\n"
               ]
            },
            {
               "name": "stderr",
               "output_type": "stream",
               "text": [
                  "\n",
                  "\u001b[A\n",
                  "\u001b[A\n",
                  "\u001b[A\n",
                  "100%|██████████| 100/100 [00:00<00:00, 325.87it/s]\n"
               ]
            },
            {
               "name": "stdout",
               "output_type": "stream",
               "text": [
                  "test on day 6000\n"
               ]
            },
            {
               "name": "stderr",
               "output_type": "stream",
               "text": [
                  "\n",
                  "\u001b[A\n",
                  "\u001b[A\n",
                  "\u001b[A\n",
                  "100%|██████████| 100/100 [00:00<00:00, 326.72it/s]\n"
               ]
            },
            {
               "name": "stdout",
               "output_type": "stream",
               "text": [
                  "test on day 6500\n"
               ]
            },
            {
               "name": "stderr",
               "output_type": "stream",
               "text": [
                  "\n",
                  "\u001b[A\n",
                  "\u001b[A\n",
                  "\u001b[A\n",
                  "100%|██████████| 100/100 [00:00<00:00, 326.42it/s]\n"
               ]
            },
            {
               "name": "stdout",
               "output_type": "stream",
               "text": [
                  "test on day 7000\n"
               ]
            },
            {
               "name": "stderr",
               "output_type": "stream",
               "text": [
                  "\n",
                  "\u001b[A\n",
                  "\u001b[A\n",
                  "\u001b[A\n",
                  "100%|██████████| 100/100 [00:00<00:00, 327.01it/s]\n",
                  "100%|██████████| 5/5 [02:54<00:00, 34.88s/it]\n"
               ]
            },
            {
               "name": "stdout",
               "output_type": "stream",
               "text": [
                  "get transaction stats av. network\n"
               ]
            },
            {
               "name": "stderr",
               "output_type": "stream",
               "text": [
                  "100%|██████████| 7000/7000 [02:54<00:00, 40.02it/s]\n"
               ]
            },
            {
               "name": "stdout",
               "output_type": "stream",
               "text": [
                  "get transaction stats av. bank\n"
               ]
            },
            {
               "name": "stderr",
               "output_type": "stream",
               "text": [
                  "100%|██████████| 7000/7000 [00:20<00:00, 347.68it/s]\n",
                  " 37%|███▋      | 7499/19999 [1:54:00<42:32,  4.90it/s]      "
               ]
            },
            {
               "name": "stdout",
               "output_type": "stream",
               "text": [
                  "get df_rev_repo_trans\n"
               ]
            },
            {
               "name": "stderr",
               "output_type": "stream",
               "text": [
                  "100%|██████████| 50/50 [00:00<00:00, 710898.98it/s]\n"
               ]
            },
            {
               "name": "stdout",
               "output_type": "stream",
               "text": [
                  "get df_rev_repo_trans\n"
               ]
            },
            {
               "name": "stderr",
               "output_type": "stream",
               "text": [
                  "100%|██████████| 50/50 [00:00<00:00, 624152.38it/s]\n"
               ]
            },
            {
               "name": "stdout",
               "output_type": "stream",
               "text": [
                  "get arr_rev_repo_exp_adj\n"
               ]
            },
            {
               "name": "stderr",
               "output_type": "stream",
               "text": [
                  "257326it [05:51, 731.98it/s]\n"
               ]
            },
            {
               "name": "stdout",
               "output_type": "stream",
               "text": [
                  "get arr_binary_adj (numba)\n",
                  "get degree distribution\n"
               ]
            },
            {
               "name": "stderr",
               "output_type": "stream",
               "text": [
                  "100%|██████████| 7500/7500 [01:32<00:00, 81.31it/s]\n"
               ]
            },
            {
               "name": "stdout",
               "output_type": "stream",
               "text": [
                  "get jaccard\n"
               ]
            },
            {
               "name": "stderr",
               "output_type": "stream",
               "text": [
                  "100%|██████████| 7499/7499 [00:01<00:00, 4224.99it/s]\n"
               ]
            },
            {
               "name": "stdout",
               "output_type": "stream",
               "text": [
                  "get density\n"
               ]
            },
            {
               "name": "stderr",
               "output_type": "stream",
               "text": [
                  "100%|██████████| 7499/7499 [00:01<00:00, 4266.86it/s]\n"
               ]
            },
            {
               "name": "stdout",
               "output_type": "stream",
               "text": [
                  "get degree stats\n"
               ]
            },
            {
               "name": "stderr",
               "output_type": "stream",
               "text": [
                  "100%|██████████| 7499/7499 [00:04<00:00, 1732.20it/s]\n"
               ]
            },
            {
               "name": "stdout",
               "output_type": "stream",
               "text": [
                  "get exposure stats\n"
               ]
            },
            {
               "name": "stderr",
               "output_type": "stream",
               "text": [
                  "100%|██████████| 7501/7501 [00:01<00:00, 4587.56it/s]\n"
               ]
            },
            {
               "name": "stdout",
               "output_type": "stream",
               "text": [
                  "run core-periphery tests\n"
               ]
            },
            {
               "name": "stderr",
               "output_type": "stream",
               "text": []
            },
            {
               "name": "stdout",
               "output_type": "stream",
               "text": [
                  "core-periphery tests using the Lip approach\n",
                  "test on day 0\n"
               ]
            },
            {
               "name": "stderr",
               "output_type": "stream",
               "text": [
                  "\n",
                  "100%|██████████| 100/100 [00:00<00:00, 2735.19it/s]\n"
               ]
            },
            {
               "name": "stdout",
               "output_type": "stream",
               "text": [
                  "test on day 500\n"
               ]
            },
            {
               "name": "stderr",
               "output_type": "stream",
               "text": [
                  "\n",
                  "\u001b[A\n",
                  "\u001b[A\n",
                  "\u001b[A\n",
                  "100%|██████████| 100/100 [00:00<00:00, 226.64it/s]\n"
               ]
            },
            {
               "name": "stdout",
               "output_type": "stream",
               "text": [
                  "test on day 1000\n"
               ]
            },
            {
               "name": "stderr",
               "output_type": "stream",
               "text": [
                  "\n",
                  "\u001b[A\n",
                  "\u001b[A\n",
                  "\u001b[A\n",
                  "100%|██████████| 100/100 [00:00<00:00, 326.54it/s]\n"
               ]
            },
            {
               "name": "stdout",
               "output_type": "stream",
               "text": [
                  "test on day 1500\n"
               ]
            },
            {
               "name": "stderr",
               "output_type": "stream",
               "text": [
                  "\n",
                  "\u001b[A\n",
                  "\u001b[A\n",
                  "100%|██████████| 100/100 [00:00<00:00, 330.92it/s]\n"
               ]
            },
            {
               "name": "stdout",
               "output_type": "stream",
               "text": [
                  "test on day 2000\n"
               ]
            },
            {
               "name": "stderr",
               "output_type": "stream",
               "text": [
                  "\n",
                  "\u001b[A\n",
                  "\u001b[A\n",
                  "100%|██████████| 100/100 [00:00<00:00, 333.67it/s]\n"
               ]
            },
            {
               "name": "stdout",
               "output_type": "stream",
               "text": [
                  "test on day 2500\n"
               ]
            },
            {
               "name": "stderr",
               "output_type": "stream",
               "text": [
                  "\n",
                  "\u001b[A\n",
                  "\u001b[A\n",
                  "100%|██████████| 100/100 [00:00<00:00, 334.06it/s]\n"
               ]
            },
            {
               "name": "stdout",
               "output_type": "stream",
               "text": [
                  "test on day 3000\n"
               ]
            },
            {
               "name": "stderr",
               "output_type": "stream",
               "text": [
                  "\n",
                  "\u001b[A\n",
                  "\u001b[A\n",
                  "100%|██████████| 100/100 [00:00<00:00, 334.31it/s]\n"
               ]
            },
            {
               "name": "stdout",
               "output_type": "stream",
               "text": [
                  "test on day 3500\n"
               ]
            },
            {
               "name": "stderr",
               "output_type": "stream",
               "text": [
                  "\n",
                  "\u001b[A\n",
                  "\u001b[A\n",
                  "\u001b[A\n",
                  "\u001b[A\n",
                  "100%|██████████| 100/100 [00:00<00:00, 171.21it/s]\n"
               ]
            },
            {
               "name": "stdout",
               "output_type": "stream",
               "text": [
                  "test on day 4000\n"
               ]
            },
            {
               "name": "stderr",
               "output_type": "stream",
               "text": [
                  "\n",
                  "\u001b[A\n",
                  "\u001b[A\n",
                  "100%|██████████| 100/100 [00:00<00:00, 334.37it/s]\n"
               ]
            },
            {
               "name": "stdout",
               "output_type": "stream",
               "text": [
                  "test on day 4500\n"
               ]
            },
            {
               "name": "stderr",
               "output_type": "stream",
               "text": [
                  "\n",
                  "\u001b[A\n",
                  "\u001b[A\n",
                  "100%|██████████| 100/100 [00:00<00:00, 333.43it/s]\n"
               ]
            },
            {
               "name": "stdout",
               "output_type": "stream",
               "text": [
                  "test on day 5000\n"
               ]
            },
            {
               "name": "stderr",
               "output_type": "stream",
               "text": [
                  "\n",
                  "\u001b[A\n",
                  "\u001b[A\n",
                  "100%|██████████| 100/100 [00:00<00:00, 333.43it/s]\n"
               ]
            },
            {
               "name": "stdout",
               "output_type": "stream",
               "text": [
                  "test on day 5500\n"
               ]
            },
            {
               "name": "stderr",
               "output_type": "stream",
               "text": [
                  "\n",
                  "\u001b[A\n",
                  "\u001b[A\n",
                  "100%|██████████| 100/100 [00:00<00:00, 333.61it/s]\n"
               ]
            },
            {
               "name": "stdout",
               "output_type": "stream",
               "text": [
                  "test on day 6000\n"
               ]
            },
            {
               "name": "stderr",
               "output_type": "stream",
               "text": [
                  "\n",
                  "\u001b[A\n",
                  "\u001b[A\n",
                  "100%|██████████| 100/100 [00:00<00:00, 332.66it/s]\n"
               ]
            },
            {
               "name": "stdout",
               "output_type": "stream",
               "text": [
                  "test on day 6500\n"
               ]
            },
            {
               "name": "stderr",
               "output_type": "stream",
               "text": [
                  "\n",
                  "\u001b[A\n",
                  "\u001b[A\n",
                  "100%|██████████| 100/100 [00:00<00:00, 333.28it/s]\n"
               ]
            },
            {
               "name": "stdout",
               "output_type": "stream",
               "text": [
                  "test on day 7000\n"
               ]
            },
            {
               "name": "stderr",
               "output_type": "stream",
               "text": [
                  "\n",
                  "\u001b[A\n",
                  "\u001b[A\n",
                  "\u001b[A\n",
                  "\u001b[A\n",
                  "\u001b[A\n",
                  "\u001b[A\n",
                  "\u001b[A\n",
                  "\u001b[A\n",
                  "100%|██████████| 100/100 [00:09<00:00, 11.06it/s]\n"
               ]
            },
            {
               "name": "stdout",
               "output_type": "stream",
               "text": [
                  "test on day 7500\n"
               ]
            },
            {
               "name": "stderr",
               "output_type": "stream",
               "text": [
                  "\n",
                  "\u001b[A\n",
                  "\u001b[A\n",
                  "\u001b[A\n",
                  "\u001b[A\n",
                  "\u001b[A\n",
                  "\u001b[A\n",
                  "100%|██████████| 100/100 [00:00<00:00, 120.57it/s]\n"
               ]
            },
            {
               "name": "stdout",
               "output_type": "stream",
               "text": [
                  "core-periphery tests using the Lip approach\n",
                  "test on day 0\n"
               ]
            },
            {
               "name": "stderr",
               "output_type": "stream",
               "text": [
                  "\n",
                  "100%|██████████| 100/100 [00:00<00:00, 2792.35it/s]\n"
               ]
            },
            {
               "name": "stdout",
               "output_type": "stream",
               "text": [
                  "test on day 500\n"
               ]
            },
            {
               "name": "stderr",
               "output_type": "stream",
               "text": [
                  "\n",
                  "\u001b[A\n",
                  "\u001b[A\n",
                  "100%|██████████| 100/100 [00:00<00:00, 336.46it/s]\n"
               ]
            },
            {
               "name": "stdout",
               "output_type": "stream",
               "text": [
                  "test on day 1000\n"
               ]
            },
            {
               "name": "stderr",
               "output_type": "stream",
               "text": [
                  "\n",
                  "\u001b[A\n",
                  "\u001b[A\n",
                  "\u001b[A\n",
                  "100%|██████████| 100/100 [00:00<00:00, 319.98it/s]\n"
               ]
            },
            {
               "name": "stdout",
               "output_type": "stream",
               "text": [
                  "test on day 1500\n"
               ]
            },
            {
               "name": "stderr",
               "output_type": "stream",
               "text": [
                  "\n",
                  "\u001b[A\n",
                  "\u001b[A\n",
                  "\u001b[A\n",
                  "100%|██████████| 100/100 [00:00<00:00, 322.32it/s]\n"
               ]
            },
            {
               "name": "stdout",
               "output_type": "stream",
               "text": [
                  "test on day 2000\n"
               ]
            },
            {
               "name": "stderr",
               "output_type": "stream",
               "text": [
                  "\n",
                  "\u001b[A\n",
                  "\u001b[A\n",
                  "100%|██████████| 100/100 [00:00<00:00, 328.33it/s]\n"
               ]
            },
            {
               "name": "stdout",
               "output_type": "stream",
               "text": [
                  "test on day 2500\n"
               ]
            },
            {
               "name": "stderr",
               "output_type": "stream",
               "text": [
                  "\n",
                  "\u001b[A\n",
                  "\u001b[A\n",
                  "100%|██████████| 100/100 [00:00<00:00, 329.16it/s]\n"
               ]
            },
            {
               "name": "stdout",
               "output_type": "stream",
               "text": [
                  "test on day 3000\n"
               ]
            },
            {
               "name": "stderr",
               "output_type": "stream",
               "text": [
                  "\n",
                  "\u001b[A\n",
                  "\u001b[A\n",
                  "\u001b[A\n",
                  "100%|██████████| 100/100 [00:00<00:00, 328.67it/s]\n"
               ]
            },
            {
               "name": "stdout",
               "output_type": "stream",
               "text": [
                  "test on day 3500\n"
               ]
            },
            {
               "name": "stderr",
               "output_type": "stream",
               "text": [
                  "\n",
                  "\u001b[A\n",
                  "\u001b[A\n",
                  "100%|██████████| 100/100 [00:00<00:00, 330.58it/s]\n"
               ]
            },
            {
               "name": "stdout",
               "output_type": "stream",
               "text": [
                  "test on day 4000\n"
               ]
            },
            {
               "name": "stderr",
               "output_type": "stream",
               "text": [
                  "\n",
                  "\u001b[A\n",
                  "\u001b[A\n",
                  "100%|██████████| 100/100 [00:00<00:00, 330.48it/s]\n"
               ]
            },
            {
               "name": "stdout",
               "output_type": "stream",
               "text": [
                  "test on day 4500\n"
               ]
            },
            {
               "name": "stderr",
               "output_type": "stream",
               "text": [
                  "\n",
                  "\u001b[A\n",
                  "\u001b[A\n",
                  "100%|██████████| 100/100 [00:00<00:00, 330.92it/s]\n"
               ]
            },
            {
               "name": "stdout",
               "output_type": "stream",
               "text": [
                  "test on day 5000\n"
               ]
            },
            {
               "name": "stderr",
               "output_type": "stream",
               "text": [
                  "\n",
                  "\u001b[A\n",
                  "\u001b[A\n",
                  "100%|██████████| 100/100 [00:00<00:00, 329.51it/s]\n"
               ]
            },
            {
               "name": "stdout",
               "output_type": "stream",
               "text": [
                  "test on day 5500\n"
               ]
            },
            {
               "name": "stderr",
               "output_type": "stream",
               "text": [
                  "\n",
                  "\u001b[A\n",
                  "\u001b[A\n",
                  "100%|██████████| 100/100 [00:00<00:00, 329.87it/s]\n"
               ]
            },
            {
               "name": "stdout",
               "output_type": "stream",
               "text": [
                  "test on day 6000\n"
               ]
            },
            {
               "name": "stderr",
               "output_type": "stream",
               "text": [
                  "\n",
                  "\u001b[A\n",
                  "\u001b[A\n",
                  "100%|██████████| 100/100 [00:00<00:00, 330.44it/s]\n"
               ]
            },
            {
               "name": "stdout",
               "output_type": "stream",
               "text": [
                  "test on day 6500\n"
               ]
            },
            {
               "name": "stderr",
               "output_type": "stream",
               "text": [
                  "\n",
                  "\u001b[A\n",
                  "\u001b[A\n",
                  "100%|██████████| 100/100 [00:00<00:00, 331.10it/s]\n"
               ]
            },
            {
               "name": "stdout",
               "output_type": "stream",
               "text": [
                  "test on day 7000\n"
               ]
            },
            {
               "name": "stderr",
               "output_type": "stream",
               "text": [
                  "\n",
                  "\u001b[A\n",
                  "\u001b[A\n",
                  "100%|██████████| 100/100 [00:00<00:00, 330.27it/s]\n"
               ]
            },
            {
               "name": "stdout",
               "output_type": "stream",
               "text": [
                  "test on day 7500\n"
               ]
            },
            {
               "name": "stderr",
               "output_type": "stream",
               "text": [
                  "\n",
                  "\u001b[A\n",
                  "\u001b[A\n",
                  "100%|██████████| 100/100 [00:00<00:00, 330.28it/s]\n"
               ]
            },
            {
               "name": "stdout",
               "output_type": "stream",
               "text": [
                  "core-periphery tests using the Lip approach\n",
                  "test on day 0\n"
               ]
            },
            {
               "name": "stderr",
               "output_type": "stream",
               "text": [
                  "\n",
                  "100%|██████████| 100/100 [00:00<00:00, 2851.21it/s]\n"
               ]
            },
            {
               "name": "stdout",
               "output_type": "stream",
               "text": [
                  "test on day 500\n"
               ]
            },
            {
               "name": "stderr",
               "output_type": "stream",
               "text": [
                  "\n",
                  "\u001b[A\n",
                  "\u001b[A\n",
                  "100%|██████████| 100/100 [00:00<00:00, 333.91it/s]\n"
               ]
            },
            {
               "name": "stdout",
               "output_type": "stream",
               "text": [
                  "test on day 1000\n"
               ]
            },
            {
               "name": "stderr",
               "output_type": "stream",
               "text": [
                  "\n",
                  "\u001b[A\n",
                  "\u001b[A\n",
                  "\u001b[A\n",
                  "100%|██████████| 100/100 [00:00<00:00, 316.99it/s]\n"
               ]
            },
            {
               "name": "stdout",
               "output_type": "stream",
               "text": [
                  "test on day 1500\n"
               ]
            },
            {
               "name": "stderr",
               "output_type": "stream",
               "text": [
                  "\n",
                  "\u001b[A\n",
                  "\u001b[A\n",
                  "\u001b[A\n",
                  "100%|██████████| 100/100 [00:00<00:00, 322.22it/s]\n"
               ]
            },
            {
               "name": "stdout",
               "output_type": "stream",
               "text": [
                  "test on day 2000\n"
               ]
            },
            {
               "name": "stderr",
               "output_type": "stream",
               "text": [
                  "\n",
                  "\u001b[A\n",
                  "\u001b[A\n",
                  "\u001b[A\n",
                  "100%|██████████| 100/100 [00:00<00:00, 325.28it/s]\n"
               ]
            },
            {
               "name": "stdout",
               "output_type": "stream",
               "text": [
                  "test on day 2500\n"
               ]
            },
            {
               "name": "stderr",
               "output_type": "stream",
               "text": [
                  "\n",
                  "\u001b[A\n",
                  "\u001b[A\n",
                  "\u001b[A\n",
                  "100%|██████████| 100/100 [00:00<00:00, 325.51it/s]\n"
               ]
            },
            {
               "name": "stdout",
               "output_type": "stream",
               "text": [
                  "test on day 3000\n"
               ]
            },
            {
               "name": "stderr",
               "output_type": "stream",
               "text": [
                  "\n",
                  "\u001b[A\n",
                  "\u001b[A\n",
                  "\u001b[A\n",
                  "100%|██████████| 100/100 [00:00<00:00, 327.81it/s]\n"
               ]
            },
            {
               "name": "stdout",
               "output_type": "stream",
               "text": [
                  "test on day 3500\n"
               ]
            },
            {
               "name": "stderr",
               "output_type": "stream",
               "text": [
                  "\n",
                  "\u001b[A\n",
                  "\u001b[A\n",
                  "100%|██████████| 100/100 [00:00<00:00, 329.46it/s]\n"
               ]
            },
            {
               "name": "stdout",
               "output_type": "stream",
               "text": [
                  "test on day 4000\n"
               ]
            },
            {
               "name": "stderr",
               "output_type": "stream",
               "text": [
                  "\n",
                  "\u001b[A\n",
                  "\u001b[A\n",
                  "100%|██████████| 100/100 [00:00<00:00, 329.30it/s]\n"
               ]
            },
            {
               "name": "stdout",
               "output_type": "stream",
               "text": [
                  "test on day 4500\n"
               ]
            },
            {
               "name": "stderr",
               "output_type": "stream",
               "text": [
                  "\n",
                  "\u001b[A\n",
                  "\u001b[A\n",
                  "100%|██████████| 100/100 [00:00<00:00, 329.14it/s]\n"
               ]
            },
            {
               "name": "stdout",
               "output_type": "stream",
               "text": [
                  "test on day 5000\n"
               ]
            },
            {
               "name": "stderr",
               "output_type": "stream",
               "text": [
                  "\n",
                  "\u001b[A\n",
                  "\u001b[A\n",
                  "100%|██████████| 100/100 [00:00<00:00, 329.64it/s]\n"
               ]
            },
            {
               "name": "stdout",
               "output_type": "stream",
               "text": [
                  "test on day 5500\n"
               ]
            },
            {
               "name": "stderr",
               "output_type": "stream",
               "text": [
                  "\n",
                  "\u001b[A\n",
                  "\u001b[A\n",
                  "100%|██████████| 100/100 [00:00<00:00, 328.83it/s]\n"
               ]
            },
            {
               "name": "stdout",
               "output_type": "stream",
               "text": [
                  "test on day 6000\n"
               ]
            },
            {
               "name": "stderr",
               "output_type": "stream",
               "text": [
                  "\n",
                  "\u001b[A\n",
                  "\u001b[A\n",
                  "100%|██████████| 100/100 [00:00<00:00, 328.89it/s]\n"
               ]
            },
            {
               "name": "stdout",
               "output_type": "stream",
               "text": [
                  "test on day 6500\n"
               ]
            },
            {
               "name": "stderr",
               "output_type": "stream",
               "text": [
                  "\n",
                  "\u001b[A\n",
                  "\u001b[A\n",
                  "100%|██████████| 100/100 [00:00<00:00, 328.78it/s]\n"
               ]
            },
            {
               "name": "stdout",
               "output_type": "stream",
               "text": [
                  "test on day 7000\n"
               ]
            },
            {
               "name": "stderr",
               "output_type": "stream",
               "text": [
                  "\n",
                  "\u001b[A\n",
                  "\u001b[A\n",
                  "100%|██████████| 100/100 [00:00<00:00, 329.11it/s]\n"
               ]
            },
            {
               "name": "stdout",
               "output_type": "stream",
               "text": [
                  "test on day 7500\n"
               ]
            },
            {
               "name": "stderr",
               "output_type": "stream",
               "text": [
                  "\n",
                  "\u001b[A\n",
                  "\u001b[A\n",
                  "\u001b[A\n",
                  "100%|██████████| 100/100 [00:00<00:00, 328.36it/s]\n"
               ]
            },
            {
               "name": "stdout",
               "output_type": "stream",
               "text": [
                  "core-periphery tests using the Lip approach\n",
                  "test on day 0\n"
               ]
            },
            {
               "name": "stderr",
               "output_type": "stream",
               "text": [
                  "\n",
                  "100%|██████████| 100/100 [00:00<00:00, 2825.13it/s]\n"
               ]
            },
            {
               "name": "stdout",
               "output_type": "stream",
               "text": [
                  "test on day 500\n"
               ]
            },
            {
               "name": "stderr",
               "output_type": "stream",
               "text": [
                  "\n",
                  "\u001b[A\n",
                  "\u001b[A\n",
                  "100%|██████████| 100/100 [00:00<00:00, 333.33it/s]\n"
               ]
            },
            {
               "name": "stdout",
               "output_type": "stream",
               "text": [
                  "test on day 1000\n"
               ]
            },
            {
               "name": "stderr",
               "output_type": "stream",
               "text": [
                  "\n",
                  "\u001b[A\n",
                  "\u001b[A\n",
                  "\u001b[A\n",
                  "100%|██████████| 100/100 [00:00<00:00, 318.05it/s]\n"
               ]
            },
            {
               "name": "stdout",
               "output_type": "stream",
               "text": [
                  "test on day 1500\n"
               ]
            },
            {
               "name": "stderr",
               "output_type": "stream",
               "text": [
                  "\n",
                  "\u001b[A\n",
                  "\u001b[A\n",
                  "\u001b[A\n",
                  "100%|██████████| 100/100 [00:00<00:00, 322.65it/s]\n"
               ]
            },
            {
               "name": "stdout",
               "output_type": "stream",
               "text": [
                  "test on day 2000\n"
               ]
            },
            {
               "name": "stderr",
               "output_type": "stream",
               "text": [
                  "\n",
                  "\u001b[A\n",
                  "\u001b[A\n",
                  "100%|██████████| 100/100 [00:00<00:00, 327.58it/s]\n"
               ]
            },
            {
               "name": "stdout",
               "output_type": "stream",
               "text": [
                  "test on day 2500\n"
               ]
            },
            {
               "name": "stderr",
               "output_type": "stream",
               "text": [
                  "\n",
                  "\u001b[A\n",
                  "\u001b[A\n",
                  "\u001b[A\n",
                  "100%|██████████| 100/100 [00:00<00:00, 326.53it/s]\n"
               ]
            },
            {
               "name": "stdout",
               "output_type": "stream",
               "text": [
                  "test on day 3000\n"
               ]
            },
            {
               "name": "stderr",
               "output_type": "stream",
               "text": [
                  "\n",
                  "\u001b[A\n",
                  "\u001b[A\n",
                  "\u001b[A\n",
                  "100%|██████████| 100/100 [00:00<00:00, 326.64it/s]\n"
               ]
            },
            {
               "name": "stdout",
               "output_type": "stream",
               "text": [
                  "test on day 3500\n"
               ]
            },
            {
               "name": "stderr",
               "output_type": "stream",
               "text": [
                  "\n",
                  "\u001b[A\n",
                  "\u001b[A\n",
                  "100%|██████████| 100/100 [00:00<00:00, 328.38it/s]\n"
               ]
            },
            {
               "name": "stdout",
               "output_type": "stream",
               "text": [
                  "test on day 4000\n"
               ]
            },
            {
               "name": "stderr",
               "output_type": "stream",
               "text": [
                  "\n",
                  "\u001b[A\n",
                  "\u001b[A\n",
                  "100%|██████████| 100/100 [00:00<00:00, 330.53it/s]\n"
               ]
            },
            {
               "name": "stdout",
               "output_type": "stream",
               "text": [
                  "test on day 4500\n"
               ]
            },
            {
               "name": "stderr",
               "output_type": "stream",
               "text": [
                  "\n",
                  "\u001b[A\n",
                  "\u001b[A\n",
                  "100%|██████████| 100/100 [00:00<00:00, 329.31it/s]\n"
               ]
            },
            {
               "name": "stdout",
               "output_type": "stream",
               "text": [
                  "test on day 5000\n"
               ]
            },
            {
               "name": "stderr",
               "output_type": "stream",
               "text": [
                  "\n",
                  "\u001b[A\n",
                  "\u001b[A\n",
                  "\u001b[A\n",
                  "100%|██████████| 100/100 [00:00<00:00, 327.86it/s]\n"
               ]
            },
            {
               "name": "stdout",
               "output_type": "stream",
               "text": [
                  "test on day 5500\n"
               ]
            },
            {
               "name": "stderr",
               "output_type": "stream",
               "text": [
                  "\n",
                  "\u001b[A\n",
                  "\u001b[A\n",
                  "100%|██████████| 100/100 [00:00<00:00, 328.91it/s]\n"
               ]
            },
            {
               "name": "stdout",
               "output_type": "stream",
               "text": [
                  "test on day 6000\n"
               ]
            },
            {
               "name": "stderr",
               "output_type": "stream",
               "text": [
                  "\n",
                  "\u001b[A\n",
                  "\u001b[A\n",
                  "100%|██████████| 100/100 [00:00<00:00, 330.32it/s]\n"
               ]
            },
            {
               "name": "stdout",
               "output_type": "stream",
               "text": [
                  "test on day 6500\n"
               ]
            },
            {
               "name": "stderr",
               "output_type": "stream",
               "text": [
                  "\n",
                  "\u001b[A\n",
                  "\u001b[A\n",
                  "100%|██████████| 100/100 [00:00<00:00, 330.96it/s]\n"
               ]
            },
            {
               "name": "stdout",
               "output_type": "stream",
               "text": [
                  "test on day 7000\n"
               ]
            },
            {
               "name": "stderr",
               "output_type": "stream",
               "text": [
                  "\n",
                  "\u001b[A\n",
                  "\u001b[A\n",
                  "100%|██████████| 100/100 [00:00<00:00, 330.15it/s]\n"
               ]
            },
            {
               "name": "stdout",
               "output_type": "stream",
               "text": [
                  "test on day 7500\n"
               ]
            },
            {
               "name": "stderr",
               "output_type": "stream",
               "text": [
                  "\n",
                  "\u001b[A\n",
                  "\u001b[A\n",
                  "100%|██████████| 100/100 [00:00<00:00, 329.96it/s]\n"
               ]
            },
            {
               "name": "stdout",
               "output_type": "stream",
               "text": [
                  "core-periphery tests using the Lip approach\n",
                  "test on day 0\n"
               ]
            },
            {
               "name": "stderr",
               "output_type": "stream",
               "text": [
                  "\n",
                  "100%|██████████| 100/100 [00:00<00:00, 1813.74it/s]\n"
               ]
            },
            {
               "name": "stdout",
               "output_type": "stream",
               "text": [
                  "test on day 500\n"
               ]
            },
            {
               "name": "stderr",
               "output_type": "stream",
               "text": [
                  "\n",
                  "\u001b[A\n",
                  "\u001b[A\n",
                  "100%|██████████| 100/100 [00:00<00:00, 338.81it/s]\n"
               ]
            },
            {
               "name": "stdout",
               "output_type": "stream",
               "text": [
                  "test on day 1000\n"
               ]
            },
            {
               "name": "stderr",
               "output_type": "stream",
               "text": [
                  "\n",
                  "\u001b[A\n",
                  "\u001b[A\n",
                  "\u001b[A\n",
                  "100%|██████████| 100/100 [00:00<00:00, 318.06it/s]\n"
               ]
            },
            {
               "name": "stdout",
               "output_type": "stream",
               "text": [
                  "test on day 1500\n"
               ]
            },
            {
               "name": "stderr",
               "output_type": "stream",
               "text": [
                  "\n",
                  "\u001b[A\n",
                  "\u001b[A\n",
                  "\u001b[A\n",
                  "100%|██████████| 100/100 [00:00<00:00, 321.92it/s]\n"
               ]
            },
            {
               "name": "stdout",
               "output_type": "stream",
               "text": [
                  "test on day 2000\n"
               ]
            },
            {
               "name": "stderr",
               "output_type": "stream",
               "text": [
                  "\n",
                  "\u001b[A\n",
                  "\u001b[A\n",
                  "\u001b[A\n",
                  "100%|██████████| 100/100 [00:00<00:00, 325.46it/s]\n"
               ]
            },
            {
               "name": "stdout",
               "output_type": "stream",
               "text": [
                  "test on day 2500\n"
               ]
            },
            {
               "name": "stderr",
               "output_type": "stream",
               "text": [
                  "\n",
                  "\u001b[A\n",
                  "\u001b[A\n",
                  "\u001b[A\n",
                  "100%|██████████| 100/100 [00:00<00:00, 326.03it/s]\n"
               ]
            },
            {
               "name": "stdout",
               "output_type": "stream",
               "text": [
                  "test on day 3000\n"
               ]
            },
            {
               "name": "stderr",
               "output_type": "stream",
               "text": [
                  "\n",
                  "\u001b[A\n",
                  "\u001b[A\n",
                  "\u001b[A\n",
                  "100%|██████████| 100/100 [00:00<00:00, 326.55it/s]\n"
               ]
            },
            {
               "name": "stdout",
               "output_type": "stream",
               "text": [
                  "test on day 3500\n"
               ]
            },
            {
               "name": "stderr",
               "output_type": "stream",
               "text": [
                  "\n",
                  "\u001b[A\n",
                  "\u001b[A\n",
                  "\u001b[A\n",
                  "100%|██████████| 100/100 [00:00<00:00, 327.00it/s]\n"
               ]
            },
            {
               "name": "stdout",
               "output_type": "stream",
               "text": [
                  "test on day 4000\n"
               ]
            },
            {
               "name": "stderr",
               "output_type": "stream",
               "text": [
                  "\n",
                  "\u001b[A\n",
                  "\u001b[A\n",
                  "\u001b[A\n",
                  "100%|██████████| 100/100 [00:00<00:00, 327.80it/s]\n"
               ]
            },
            {
               "name": "stdout",
               "output_type": "stream",
               "text": [
                  "test on day 4500\n"
               ]
            },
            {
               "name": "stderr",
               "output_type": "stream",
               "text": [
                  "\n",
                  "\u001b[A\n",
                  "\u001b[A\n",
                  "\u001b[A\n",
                  "100%|██████████| 100/100 [00:00<00:00, 328.15it/s]\n"
               ]
            },
            {
               "name": "stdout",
               "output_type": "stream",
               "text": [
                  "test on day 5000\n"
               ]
            },
            {
               "name": "stderr",
               "output_type": "stream",
               "text": [
                  "\n",
                  "\u001b[A\n",
                  "\u001b[A\n",
                  "100%|██████████| 100/100 [00:00<00:00, 329.26it/s]\n"
               ]
            },
            {
               "name": "stdout",
               "output_type": "stream",
               "text": [
                  "test on day 5500\n"
               ]
            },
            {
               "name": "stderr",
               "output_type": "stream",
               "text": [
                  "\n",
                  "\u001b[A\n",
                  "\u001b[A\n",
                  "100%|██████████| 100/100 [00:00<00:00, 328.82it/s]\n"
               ]
            },
            {
               "name": "stdout",
               "output_type": "stream",
               "text": [
                  "test on day 6000\n"
               ]
            },
            {
               "name": "stderr",
               "output_type": "stream",
               "text": [
                  "\n",
                  "\u001b[A\n",
                  "\u001b[A\n",
                  "100%|██████████| 100/100 [00:00<00:00, 329.51it/s]\n"
               ]
            },
            {
               "name": "stdout",
               "output_type": "stream",
               "text": [
                  "test on day 6500\n"
               ]
            },
            {
               "name": "stderr",
               "output_type": "stream",
               "text": [
                  "\n",
                  "\u001b[A\n",
                  "\u001b[A\n",
                  "100%|██████████| 100/100 [00:00<00:00, 330.52it/s]\n"
               ]
            },
            {
               "name": "stdout",
               "output_type": "stream",
               "text": [
                  "test on day 7000\n"
               ]
            },
            {
               "name": "stderr",
               "output_type": "stream",
               "text": [
                  "\n",
                  "\u001b[A\n",
                  "\u001b[A\n",
                  "100%|██████████| 100/100 [00:00<00:00, 329.87it/s]\n"
               ]
            },
            {
               "name": "stdout",
               "output_type": "stream",
               "text": [
                  "test on day 7500\n"
               ]
            },
            {
               "name": "stderr",
               "output_type": "stream",
               "text": [
                  "\n",
                  "\u001b[A\n",
                  "\u001b[A\n",
                  "100%|██████████| 100/100 [00:00<00:00, 330.40it/s]\n",
                  "100%|██████████| 5/5 [00:33<00:00,  6.74s/it]\n"
               ]
            },
            {
               "name": "stdout",
               "output_type": "stream",
               "text": [
                  "get transaction stats av. network\n"
               ]
            },
            {
               "name": "stderr",
               "output_type": "stream",
               "text": [
                  "100%|██████████| 7500/7500 [04:48<00:00, 26.00it/s]\n"
               ]
            },
            {
               "name": "stdout",
               "output_type": "stream",
               "text": [
                  "get transaction stats av. bank\n"
               ]
            },
            {
               "name": "stderr",
               "output_type": "stream",
               "text": [
                  "100%|██████████| 7500/7500 [00:38<00:00, 196.77it/s]\n",
                  " 40%|███▉      | 7999/19999 [2:13:41<32:28,  6.16it/s]      "
               ]
            },
            {
               "name": "stdout",
               "output_type": "stream",
               "text": [
                  "get df_rev_repo_trans\n"
               ]
            },
            {
               "name": "stderr",
               "output_type": "stream",
               "text": [
                  "100%|██████████| 50/50 [00:00<00:00, 701388.63it/s]\n"
               ]
            },
            {
               "name": "stdout",
               "output_type": "stream",
               "text": [
                  "get df_rev_repo_trans\n"
               ]
            },
            {
               "name": "stderr",
               "output_type": "stream",
               "text": [
                  "100%|██████████| 50/50 [00:00<00:00, 606113.29it/s]\n"
               ]
            },
            {
               "name": "stdout",
               "output_type": "stream",
               "text": [
                  "get arr_rev_repo_exp_adj\n"
               ]
            },
            {
               "name": "stderr",
               "output_type": "stream",
               "text": [
                  "273709it [06:15, 728.07it/s]\n"
               ]
            },
            {
               "name": "stdout",
               "output_type": "stream",
               "text": [
                  "get arr_binary_adj (numba)\n",
                  "get degree distribution\n"
               ]
            },
            {
               "name": "stderr",
               "output_type": "stream",
               "text": [
                  "100%|██████████| 8000/8000 [01:25<00:00, 93.57it/s]\n"
               ]
            },
            {
               "name": "stdout",
               "output_type": "stream",
               "text": [
                  "get jaccard\n"
               ]
            },
            {
               "name": "stderr",
               "output_type": "stream",
               "text": [
                  "100%|██████████| 7999/7999 [00:01<00:00, 4804.61it/s]\n"
               ]
            },
            {
               "name": "stdout",
               "output_type": "stream",
               "text": [
                  "get density\n"
               ]
            },
            {
               "name": "stderr",
               "output_type": "stream",
               "text": [
                  "100%|██████████| 7999/7999 [00:01<00:00, 5006.35it/s]\n"
               ]
            },
            {
               "name": "stdout",
               "output_type": "stream",
               "text": [
                  "get degree stats\n"
               ]
            },
            {
               "name": "stderr",
               "output_type": "stream",
               "text": [
                  "100%|██████████| 7999/7999 [00:04<00:00, 1709.78it/s]\n"
               ]
            },
            {
               "name": "stdout",
               "output_type": "stream",
               "text": [
                  "get exposure stats\n"
               ]
            },
            {
               "name": "stderr",
               "output_type": "stream",
               "text": [
                  "100%|██████████| 8001/8001 [00:01<00:00, 4796.58it/s]\n"
               ]
            },
            {
               "name": "stdout",
               "output_type": "stream",
               "text": [
                  "run core-periphery tests\n"
               ]
            },
            {
               "name": "stderr",
               "output_type": "stream",
               "text": []
            },
            {
               "name": "stdout",
               "output_type": "stream",
               "text": [
                  "core-periphery tests using the Lip approach\n",
                  "test on day 0\n"
               ]
            },
            {
               "name": "stderr",
               "output_type": "stream",
               "text": [
                  "\n",
                  "100%|██████████| 100/100 [00:00<00:00, 2761.68it/s]\n"
               ]
            },
            {
               "name": "stdout",
               "output_type": "stream",
               "text": [
                  "test on day 500\n"
               ]
            },
            {
               "name": "stderr",
               "output_type": "stream",
               "text": [
                  "\n",
                  "\u001b[A\n",
                  "\u001b[A\n",
                  "100%|██████████| 100/100 [00:00<00:00, 335.11it/s]\n"
               ]
            },
            {
               "name": "stdout",
               "output_type": "stream",
               "text": [
                  "test on day 1000\n"
               ]
            },
            {
               "name": "stderr",
               "output_type": "stream",
               "text": [
                  "\n",
                  "\u001b[A\n",
                  "\u001b[A\n",
                  "\u001b[A\n",
                  "100%|██████████| 100/100 [00:00<00:00, 323.92it/s]\n"
               ]
            },
            {
               "name": "stdout",
               "output_type": "stream",
               "text": [
                  "test on day 1500\n"
               ]
            },
            {
               "name": "stderr",
               "output_type": "stream",
               "text": [
                  "\n",
                  "\u001b[A\n",
                  "\u001b[A\n",
                  "\u001b[A\n",
                  "100%|██████████| 100/100 [00:00<00:00, 323.93it/s]\n"
               ]
            },
            {
               "name": "stdout",
               "output_type": "stream",
               "text": [
                  "test on day 2000\n"
               ]
            },
            {
               "name": "stderr",
               "output_type": "stream",
               "text": [
                  "\n",
                  "\u001b[A\n",
                  "\u001b[A\n",
                  "100%|██████████| 100/100 [00:00<00:00, 329.79it/s]\n"
               ]
            },
            {
               "name": "stdout",
               "output_type": "stream",
               "text": [
                  "test on day 2500\n"
               ]
            },
            {
               "name": "stderr",
               "output_type": "stream",
               "text": [
                  "\n",
                  "\u001b[A\n",
                  "\u001b[A\n",
                  "100%|██████████| 100/100 [00:00<00:00, 330.61it/s]\n"
               ]
            },
            {
               "name": "stdout",
               "output_type": "stream",
               "text": [
                  "test on day 3000\n"
               ]
            },
            {
               "name": "stderr",
               "output_type": "stream",
               "text": [
                  "\n",
                  "\u001b[A\n",
                  "\u001b[A\n",
                  "100%|██████████| 100/100 [00:00<00:00, 330.71it/s]\n"
               ]
            },
            {
               "name": "stdout",
               "output_type": "stream",
               "text": [
                  "test on day 3500\n"
               ]
            },
            {
               "name": "stderr",
               "output_type": "stream",
               "text": [
                  "\n",
                  "\u001b[A\n",
                  "\u001b[A\n",
                  "100%|██████████| 100/100 [00:00<00:00, 330.66it/s]\n"
               ]
            },
            {
               "name": "stdout",
               "output_type": "stream",
               "text": [
                  "test on day 4000\n"
               ]
            },
            {
               "name": "stderr",
               "output_type": "stream",
               "text": [
                  "\n",
                  "\u001b[A\n",
                  "\u001b[A\n",
                  "100%|██████████| 100/100 [00:00<00:00, 284.26it/s]\n"
               ]
            },
            {
               "name": "stdout",
               "output_type": "stream",
               "text": [
                  "test on day 4500\n"
               ]
            },
            {
               "name": "stderr",
               "output_type": "stream",
               "text": [
                  "\n",
                  "\u001b[A\n",
                  "\u001b[A\n",
                  "100%|██████████| 100/100 [00:00<00:00, 331.83it/s]\n"
               ]
            },
            {
               "name": "stdout",
               "output_type": "stream",
               "text": [
                  "test on day 5000\n"
               ]
            },
            {
               "name": "stderr",
               "output_type": "stream",
               "text": [
                  "\n",
                  "\u001b[A\n",
                  "\u001b[A\n",
                  "\u001b[A\n",
                  "100%|██████████| 100/100 [00:00<00:00, 186.46it/s]\n"
               ]
            },
            {
               "name": "stdout",
               "output_type": "stream",
               "text": [
                  "test on day 5500\n"
               ]
            },
            {
               "name": "stderr",
               "output_type": "stream",
               "text": [
                  "\n",
                  "\u001b[A\n",
                  "\u001b[A\n",
                  "\u001b[A\n",
                  "\u001b[A\n",
                  "\u001b[A\n",
                  "100%|██████████| 100/100 [00:00<00:00, 101.54it/s]\n"
               ]
            },
            {
               "name": "stdout",
               "output_type": "stream",
               "text": [
                  "test on day 6000\n"
               ]
            },
            {
               "name": "stderr",
               "output_type": "stream",
               "text": [
                  "\n",
                  "\u001b[A\n",
                  "\u001b[A\n",
                  "100%|██████████| 100/100 [00:00<00:00, 330.74it/s]\n"
               ]
            },
            {
               "name": "stdout",
               "output_type": "stream",
               "text": [
                  "test on day 6500\n"
               ]
            },
            {
               "name": "stderr",
               "output_type": "stream",
               "text": [
                  "\n",
                  "\u001b[A\n",
                  "\u001b[A\n",
                  "100%|██████████| 100/100 [00:00<00:00, 330.84it/s]\n"
               ]
            },
            {
               "name": "stdout",
               "output_type": "stream",
               "text": [
                  "test on day 7000\n"
               ]
            },
            {
               "name": "stderr",
               "output_type": "stream",
               "text": [
                  "\n",
                  "\u001b[A\n",
                  "\u001b[A\n",
                  "100%|██████████| 100/100 [00:00<00:00, 331.18it/s]\n"
               ]
            },
            {
               "name": "stdout",
               "output_type": "stream",
               "text": [
                  "test on day 7500\n"
               ]
            },
            {
               "name": "stderr",
               "output_type": "stream",
               "text": [
                  "\n",
                  "\u001b[A\n",
                  "\u001b[A\n",
                  "100%|██████████| 100/100 [00:00<00:00, 331.95it/s]\n"
               ]
            },
            {
               "name": "stdout",
               "output_type": "stream",
               "text": [
                  "test on day 8000\n"
               ]
            },
            {
               "name": "stderr",
               "output_type": "stream",
               "text": [
                  "\n",
                  "\u001b[A\n",
                  "\u001b[A\n",
                  "100%|██████████| 100/100 [00:00<00:00, 331.78it/s]\n"
               ]
            },
            {
               "name": "stdout",
               "output_type": "stream",
               "text": [
                  "core-periphery tests using the Lip approach\n",
                  "test on day 0\n"
               ]
            },
            {
               "name": "stderr",
               "output_type": "stream",
               "text": [
                  "\n",
                  "100%|██████████| 100/100 [00:00<00:00, 2795.44it/s]\n"
               ]
            },
            {
               "name": "stdout",
               "output_type": "stream",
               "text": [
                  "test on day 500\n"
               ]
            },
            {
               "name": "stderr",
               "output_type": "stream",
               "text": [
                  "\n",
                  "\u001b[A\n",
                  "\u001b[A\n",
                  "100%|██████████| 100/100 [00:00<00:00, 336.01it/s]\n"
               ]
            },
            {
               "name": "stdout",
               "output_type": "stream",
               "text": [
                  "test on day 1000\n"
               ]
            },
            {
               "name": "stderr",
               "output_type": "stream",
               "text": [
                  "\n",
                  "\u001b[A\n",
                  "\u001b[A\n",
                  "\u001b[A\n",
                  "100%|██████████| 100/100 [00:00<00:00, 319.33it/s]\n"
               ]
            },
            {
               "name": "stdout",
               "output_type": "stream",
               "text": [
                  "test on day 1500\n"
               ]
            },
            {
               "name": "stderr",
               "output_type": "stream",
               "text": [
                  "\n",
                  "\u001b[A\n",
                  "\u001b[A\n",
                  "\u001b[A\n",
                  "100%|██████████| 100/100 [00:00<00:00, 322.08it/s]\n"
               ]
            },
            {
               "name": "stdout",
               "output_type": "stream",
               "text": [
                  "test on day 2000\n"
               ]
            },
            {
               "name": "stderr",
               "output_type": "stream",
               "text": [
                  "\n",
                  "\u001b[A\n",
                  "\u001b[A\n",
                  "\u001b[A\n",
                  "100%|██████████| 100/100 [00:00<00:00, 326.64it/s]\n"
               ]
            },
            {
               "name": "stdout",
               "output_type": "stream",
               "text": [
                  "test on day 2500\n"
               ]
            },
            {
               "name": "stderr",
               "output_type": "stream",
               "text": [
                  "\n",
                  "\u001b[A\n",
                  "\u001b[A\n",
                  "100%|██████████| 100/100 [00:00<00:00, 329.08it/s]\n"
               ]
            },
            {
               "name": "stdout",
               "output_type": "stream",
               "text": [
                  "test on day 3000\n"
               ]
            },
            {
               "name": "stderr",
               "output_type": "stream",
               "text": [
                  "\n",
                  "\u001b[A\n",
                  "\u001b[A\n",
                  "100%|██████████| 100/100 [00:00<00:00, 328.58it/s]\n"
               ]
            },
            {
               "name": "stdout",
               "output_type": "stream",
               "text": [
                  "test on day 3500\n"
               ]
            },
            {
               "name": "stderr",
               "output_type": "stream",
               "text": [
                  "\n",
                  "\u001b[A\n",
                  "\u001b[A\n",
                  "100%|██████████| 100/100 [00:00<00:00, 329.63it/s]\n"
               ]
            },
            {
               "name": "stdout",
               "output_type": "stream",
               "text": [
                  "test on day 4000\n"
               ]
            },
            {
               "name": "stderr",
               "output_type": "stream",
               "text": [
                  "\n",
                  "\u001b[A\n",
                  "\u001b[A\n",
                  "100%|██████████| 100/100 [00:00<00:00, 331.00it/s]\n"
               ]
            },
            {
               "name": "stdout",
               "output_type": "stream",
               "text": [
                  "test on day 4500\n"
               ]
            },
            {
               "name": "stderr",
               "output_type": "stream",
               "text": [
                  "\n",
                  "\u001b[A\n",
                  "\u001b[A\n",
                  "100%|██████████| 100/100 [00:00<00:00, 330.94it/s]\n"
               ]
            },
            {
               "name": "stdout",
               "output_type": "stream",
               "text": [
                  "test on day 5000\n"
               ]
            },
            {
               "name": "stderr",
               "output_type": "stream",
               "text": [
                  "\n",
                  "\u001b[A\n",
                  "\u001b[A\n",
                  "100%|██████████| 100/100 [00:00<00:00, 330.82it/s]\n"
               ]
            },
            {
               "name": "stdout",
               "output_type": "stream",
               "text": [
                  "test on day 5500\n"
               ]
            },
            {
               "name": "stderr",
               "output_type": "stream",
               "text": [
                  "\n",
                  "\u001b[A\n",
                  "\u001b[A\n",
                  "100%|██████████| 100/100 [00:00<00:00, 330.74it/s]\n"
               ]
            },
            {
               "name": "stdout",
               "output_type": "stream",
               "text": [
                  "test on day 6000\n"
               ]
            },
            {
               "name": "stderr",
               "output_type": "stream",
               "text": [
                  "\n",
                  "\u001b[A\n",
                  "\u001b[A\n",
                  "100%|██████████| 100/100 [00:00<00:00, 331.40it/s]\n"
               ]
            },
            {
               "name": "stdout",
               "output_type": "stream",
               "text": [
                  "test on day 6500\n"
               ]
            },
            {
               "name": "stderr",
               "output_type": "stream",
               "text": [
                  "\n",
                  "\u001b[A\n",
                  "\u001b[A\n",
                  "100%|██████████| 100/100 [00:00<00:00, 331.08it/s]\n"
               ]
            },
            {
               "name": "stdout",
               "output_type": "stream",
               "text": [
                  "test on day 7000\n"
               ]
            },
            {
               "name": "stderr",
               "output_type": "stream",
               "text": [
                  "\n",
                  "\u001b[A\n",
                  "\u001b[A\n",
                  "100%|██████████| 100/100 [00:00<00:00, 331.17it/s]\n"
               ]
            },
            {
               "name": "stdout",
               "output_type": "stream",
               "text": [
                  "test on day 7500\n"
               ]
            },
            {
               "name": "stderr",
               "output_type": "stream",
               "text": [
                  "\n",
                  "\u001b[A\n",
                  "\u001b[A\n",
                  "100%|██████████| 100/100 [00:00<00:00, 331.46it/s]\n"
               ]
            },
            {
               "name": "stdout",
               "output_type": "stream",
               "text": [
                  "test on day 8000\n"
               ]
            },
            {
               "name": "stderr",
               "output_type": "stream",
               "text": [
                  "\n",
                  "\u001b[A\n",
                  "\u001b[A\n",
                  "100%|██████████| 100/100 [00:00<00:00, 331.33it/s]\n"
               ]
            },
            {
               "name": "stdout",
               "output_type": "stream",
               "text": [
                  "core-periphery tests using the Lip approach\n",
                  "test on day 0\n"
               ]
            },
            {
               "name": "stderr",
               "output_type": "stream",
               "text": [
                  "\n",
                  "100%|██████████| 100/100 [00:00<00:00, 2797.06it/s]\n"
               ]
            },
            {
               "name": "stdout",
               "output_type": "stream",
               "text": [
                  "test on day 500\n"
               ]
            },
            {
               "name": "stderr",
               "output_type": "stream",
               "text": [
                  "\n",
                  "\u001b[A\n",
                  "\u001b[A\n",
                  "100%|██████████| 100/100 [00:00<00:00, 336.30it/s]\n"
               ]
            },
            {
               "name": "stdout",
               "output_type": "stream",
               "text": [
                  "test on day 1000\n"
               ]
            },
            {
               "name": "stderr",
               "output_type": "stream",
               "text": [
                  "\n",
                  "\u001b[A\n",
                  "\u001b[A\n",
                  "\u001b[A\n",
                  "100%|██████████| 100/100 [00:00<00:00, 318.82it/s]\n"
               ]
            },
            {
               "name": "stdout",
               "output_type": "stream",
               "text": [
                  "test on day 1500\n"
               ]
            },
            {
               "name": "stderr",
               "output_type": "stream",
               "text": [
                  "\n",
                  "\u001b[A\n",
                  "\u001b[A\n",
                  "\u001b[A\n",
                  "100%|██████████| 100/100 [00:00<00:00, 321.08it/s]\n"
               ]
            },
            {
               "name": "stdout",
               "output_type": "stream",
               "text": [
                  "test on day 2000\n"
               ]
            },
            {
               "name": "stderr",
               "output_type": "stream",
               "text": [
                  "\n",
                  "\u001b[A\n",
                  "\u001b[A\n",
                  "\u001b[A\n",
                  "100%|██████████| 100/100 [00:00<00:00, 326.48it/s]\n"
               ]
            },
            {
               "name": "stdout",
               "output_type": "stream",
               "text": [
                  "test on day 2500\n"
               ]
            },
            {
               "name": "stderr",
               "output_type": "stream",
               "text": [
                  "\n",
                  "\u001b[A\n",
                  "\u001b[A\n",
                  "100%|██████████| 100/100 [00:00<00:00, 327.69it/s]\n"
               ]
            },
            {
               "name": "stdout",
               "output_type": "stream",
               "text": [
                  "test on day 3000\n"
               ]
            },
            {
               "name": "stderr",
               "output_type": "stream",
               "text": [
                  "\n",
                  "\u001b[A\n",
                  "\u001b[A\n",
                  "100%|██████████| 100/100 [00:00<00:00, 328.56it/s]\n"
               ]
            },
            {
               "name": "stdout",
               "output_type": "stream",
               "text": [
                  "test on day 3500\n"
               ]
            },
            {
               "name": "stderr",
               "output_type": "stream",
               "text": [
                  "\n",
                  "\u001b[A\n",
                  "\u001b[A\n",
                  "\u001b[A\n",
                  "100%|██████████| 100/100 [00:00<00:00, 327.80it/s]\n"
               ]
            },
            {
               "name": "stdout",
               "output_type": "stream",
               "text": [
                  "test on day 4000\n"
               ]
            },
            {
               "name": "stderr",
               "output_type": "stream",
               "text": [
                  "\n",
                  "\u001b[A\n",
                  "\u001b[A\n",
                  "\u001b[A\n",
                  "100%|██████████| 100/100 [00:00<00:00, 328.65it/s]\n"
               ]
            },
            {
               "name": "stdout",
               "output_type": "stream",
               "text": [
                  "test on day 4500\n"
               ]
            },
            {
               "name": "stderr",
               "output_type": "stream",
               "text": [
                  "\n",
                  "\u001b[A\n",
                  "\u001b[A\n",
                  "\u001b[A\n",
                  "\u001b[A\n",
                  "\u001b[A\n",
                  "\u001b[A\n",
                  "\u001b[A\n",
                  "100%|██████████| 100/100 [00:00<00:00, 119.78it/s]\n"
               ]
            },
            {
               "name": "stdout",
               "output_type": "stream",
               "text": [
                  "test on day 5000\n"
               ]
            },
            {
               "name": "stderr",
               "output_type": "stream",
               "text": [
                  "\n",
                  "\u001b[A\n",
                  "\u001b[A\n",
                  "\u001b[A\n",
                  "\u001b[A\n",
                  "100%|██████████| 100/100 [00:00<00:00, 169.84it/s]\n"
               ]
            },
            {
               "name": "stdout",
               "output_type": "stream",
               "text": [
                  "test on day 5500\n"
               ]
            },
            {
               "name": "stderr",
               "output_type": "stream",
               "text": [
                  "\n",
                  "\u001b[A\n",
                  "\u001b[A\n",
                  "100%|██████████| 100/100 [00:00<00:00, 330.46it/s]\n"
               ]
            },
            {
               "name": "stdout",
               "output_type": "stream",
               "text": [
                  "test on day 6000\n"
               ]
            },
            {
               "name": "stderr",
               "output_type": "stream",
               "text": [
                  "\n",
                  "\u001b[A\n",
                  "\u001b[A\n",
                  "100%|██████████| 100/100 [00:00<00:00, 330.37it/s]\n"
               ]
            },
            {
               "name": "stdout",
               "output_type": "stream",
               "text": [
                  "test on day 6500\n"
               ]
            },
            {
               "name": "stderr",
               "output_type": "stream",
               "text": [
                  "\n",
                  "\u001b[A\n",
                  "\u001b[A\n",
                  "100%|██████████| 100/100 [00:00<00:00, 330.47it/s]\n"
               ]
            },
            {
               "name": "stdout",
               "output_type": "stream",
               "text": [
                  "test on day 7000\n"
               ]
            },
            {
               "name": "stderr",
               "output_type": "stream",
               "text": [
                  "\n",
                  "\u001b[A\n",
                  "\u001b[A\n",
                  "100%|██████████| 100/100 [00:00<00:00, 330.48it/s]\n"
               ]
            },
            {
               "name": "stdout",
               "output_type": "stream",
               "text": [
                  "test on day 7500\n"
               ]
            },
            {
               "name": "stderr",
               "output_type": "stream",
               "text": [
                  "\n",
                  "\u001b[A\n",
                  "\u001b[A\n",
                  "100%|██████████| 100/100 [00:00<00:00, 330.39it/s]\n"
               ]
            },
            {
               "name": "stdout",
               "output_type": "stream",
               "text": [
                  "test on day 8000\n"
               ]
            },
            {
               "name": "stderr",
               "output_type": "stream",
               "text": [
                  "\n",
                  "\u001b[A\n",
                  "\u001b[A\n",
                  "100%|██████████| 100/100 [00:00<00:00, 330.44it/s]\n"
               ]
            },
            {
               "name": "stdout",
               "output_type": "stream",
               "text": [
                  "core-periphery tests using the Lip approach\n",
                  "test on day 0\n"
               ]
            },
            {
               "name": "stderr",
               "output_type": "stream",
               "text": [
                  "\n",
                  "100%|██████████| 100/100 [00:00<00:00, 2781.57it/s]\n"
               ]
            },
            {
               "name": "stdout",
               "output_type": "stream",
               "text": [
                  "test on day 500\n"
               ]
            },
            {
               "name": "stderr",
               "output_type": "stream",
               "text": [
                  "\n",
                  "\u001b[A\n",
                  "\u001b[A\n",
                  "100%|██████████| 100/100 [00:00<00:00, 334.17it/s]\n"
               ]
            },
            {
               "name": "stdout",
               "output_type": "stream",
               "text": [
                  "test on day 1000\n"
               ]
            },
            {
               "name": "stderr",
               "output_type": "stream",
               "text": [
                  "\n",
                  "\u001b[A\n",
                  "\u001b[A\n",
                  "\u001b[A\n",
                  "100%|██████████| 100/100 [00:00<00:00, 318.31it/s]\n"
               ]
            },
            {
               "name": "stdout",
               "output_type": "stream",
               "text": [
                  "test on day 1500\n"
               ]
            },
            {
               "name": "stderr",
               "output_type": "stream",
               "text": [
                  "\n",
                  "\u001b[A\n",
                  "\u001b[A\n",
                  "\u001b[A\n",
                  "100%|██████████| 100/100 [00:00<00:00, 322.74it/s]\n"
               ]
            },
            {
               "name": "stdout",
               "output_type": "stream",
               "text": [
                  "test on day 2000\n"
               ]
            },
            {
               "name": "stderr",
               "output_type": "stream",
               "text": [
                  "\n",
                  "\u001b[A\n",
                  "\u001b[A\n",
                  "\u001b[A\n",
                  "100%|██████████| 100/100 [00:00<00:00, 326.27it/s]\n"
               ]
            },
            {
               "name": "stdout",
               "output_type": "stream",
               "text": [
                  "test on day 2500\n"
               ]
            },
            {
               "name": "stderr",
               "output_type": "stream",
               "text": [
                  "\n",
                  "\u001b[A\n",
                  "\u001b[A\n",
                  "\u001b[A\n",
                  "100%|██████████| 100/100 [00:00<00:00, 326.30it/s]\n"
               ]
            },
            {
               "name": "stdout",
               "output_type": "stream",
               "text": [
                  "test on day 3000\n"
               ]
            },
            {
               "name": "stderr",
               "output_type": "stream",
               "text": [
                  "\n",
                  "\u001b[A\n",
                  "\u001b[A\n",
                  "\u001b[A\n",
                  "100%|██████████| 100/100 [00:00<00:00, 326.43it/s]\n"
               ]
            },
            {
               "name": "stdout",
               "output_type": "stream",
               "text": [
                  "test on day 3500\n"
               ]
            },
            {
               "name": "stderr",
               "output_type": "stream",
               "text": [
                  "\n",
                  "\u001b[A\n",
                  "\u001b[A\n",
                  "100%|██████████| 100/100 [00:00<00:00, 330.10it/s]\n"
               ]
            },
            {
               "name": "stdout",
               "output_type": "stream",
               "text": [
                  "test on day 4000\n"
               ]
            },
            {
               "name": "stderr",
               "output_type": "stream",
               "text": [
                  "\n",
                  "\u001b[A\n",
                  "\u001b[A\n",
                  "100%|██████████| 100/100 [00:00<00:00, 330.88it/s]\n"
               ]
            },
            {
               "name": "stdout",
               "output_type": "stream",
               "text": [
                  "test on day 4500\n"
               ]
            },
            {
               "name": "stderr",
               "output_type": "stream",
               "text": [
                  "\n",
                  "\u001b[A\n",
                  "\u001b[A\n",
                  "100%|██████████| 100/100 [00:00<00:00, 329.93it/s]\n"
               ]
            },
            {
               "name": "stdout",
               "output_type": "stream",
               "text": [
                  "test on day 5000\n"
               ]
            },
            {
               "name": "stderr",
               "output_type": "stream",
               "text": [
                  "\n",
                  "\u001b[A\n",
                  "\u001b[A\n",
                  "\u001b[A\n",
                  "100%|██████████| 100/100 [00:00<00:00, 327.67it/s]\n"
               ]
            },
            {
               "name": "stdout",
               "output_type": "stream",
               "text": [
                  "test on day 5500\n"
               ]
            },
            {
               "name": "stderr",
               "output_type": "stream",
               "text": [
                  "\n",
                  "\u001b[A\n",
                  "\u001b[A\n",
                  "100%|██████████| 100/100 [00:00<00:00, 329.67it/s]\n"
               ]
            },
            {
               "name": "stdout",
               "output_type": "stream",
               "text": [
                  "test on day 6000\n"
               ]
            },
            {
               "name": "stderr",
               "output_type": "stream",
               "text": [
                  "\n",
                  "\u001b[A\n",
                  "\u001b[A\n",
                  "100%|██████████| 100/100 [00:00<00:00, 329.80it/s]\n"
               ]
            },
            {
               "name": "stdout",
               "output_type": "stream",
               "text": [
                  "test on day 6500\n"
               ]
            },
            {
               "name": "stderr",
               "output_type": "stream",
               "text": [
                  "\n",
                  "\u001b[A\n",
                  "\u001b[A\n",
                  "100%|██████████| 100/100 [00:00<00:00, 330.92it/s]\n"
               ]
            },
            {
               "name": "stdout",
               "output_type": "stream",
               "text": [
                  "test on day 7000\n"
               ]
            },
            {
               "name": "stderr",
               "output_type": "stream",
               "text": [
                  "\n",
                  "\u001b[A\n",
                  "\u001b[A\n",
                  "100%|██████████| 100/100 [00:00<00:00, 330.43it/s]\n"
               ]
            },
            {
               "name": "stdout",
               "output_type": "stream",
               "text": [
                  "test on day 7500\n"
               ]
            },
            {
               "name": "stderr",
               "output_type": "stream",
               "text": [
                  "\n",
                  "\u001b[A\n",
                  "\u001b[A\n",
                  "100%|██████████| 100/100 [00:00<00:00, 330.13it/s]\n"
               ]
            },
            {
               "name": "stdout",
               "output_type": "stream",
               "text": [
                  "test on day 8000\n"
               ]
            },
            {
               "name": "stderr",
               "output_type": "stream",
               "text": [
                  "\n",
                  "\u001b[A\n",
                  "\u001b[A\n",
                  "100%|██████████| 100/100 [00:00<00:00, 330.40it/s]\n"
               ]
            },
            {
               "name": "stdout",
               "output_type": "stream",
               "text": [
                  "core-periphery tests using the Lip approach\n",
                  "test on day 0\n"
               ]
            },
            {
               "name": "stderr",
               "output_type": "stream",
               "text": [
                  "\n",
                  "100%|██████████| 100/100 [00:00<00:00, 1819.62it/s]\n"
               ]
            },
            {
               "name": "stdout",
               "output_type": "stream",
               "text": [
                  "test on day 500\n"
               ]
            },
            {
               "name": "stderr",
               "output_type": "stream",
               "text": [
                  "\n",
                  "\u001b[A\n",
                  "\u001b[A\n",
                  "100%|██████████| 100/100 [00:00<00:00, 338.70it/s]\n"
               ]
            },
            {
               "name": "stdout",
               "output_type": "stream",
               "text": [
                  "test on day 1000\n"
               ]
            },
            {
               "name": "stderr",
               "output_type": "stream",
               "text": [
                  "\n",
                  "\u001b[A\n",
                  "\u001b[A\n",
                  "\u001b[A\n",
                  "100%|██████████| 100/100 [00:00<00:00, 319.37it/s]\n"
               ]
            },
            {
               "name": "stdout",
               "output_type": "stream",
               "text": [
                  "test on day 1500\n"
               ]
            },
            {
               "name": "stderr",
               "output_type": "stream",
               "text": [
                  "\n",
                  "\u001b[A\n",
                  "\u001b[A\n",
                  "\u001b[A\n",
                  "100%|██████████| 100/100 [00:00<00:00, 322.44it/s]\n"
               ]
            },
            {
               "name": "stdout",
               "output_type": "stream",
               "text": [
                  "test on day 2000\n"
               ]
            },
            {
               "name": "stderr",
               "output_type": "stream",
               "text": [
                  "\n",
                  "\u001b[A\n",
                  "\u001b[A\n",
                  "\u001b[A\n",
                  "100%|██████████| 100/100 [00:00<00:00, 327.18it/s]\n"
               ]
            },
            {
               "name": "stdout",
               "output_type": "stream",
               "text": [
                  "test on day 2500\n"
               ]
            },
            {
               "name": "stderr",
               "output_type": "stream",
               "text": [
                  "\n",
                  "\u001b[A\n",
                  "\u001b[A\n",
                  "100%|██████████| 100/100 [00:00<00:00, 327.87it/s]\n"
               ]
            },
            {
               "name": "stdout",
               "output_type": "stream",
               "text": [
                  "test on day 3000\n"
               ]
            },
            {
               "name": "stderr",
               "output_type": "stream",
               "text": [
                  "\n",
                  "\u001b[A\n",
                  "\u001b[A\n",
                  "100%|██████████| 100/100 [00:00<00:00, 329.52it/s]\n"
               ]
            },
            {
               "name": "stdout",
               "output_type": "stream",
               "text": [
                  "test on day 3500\n"
               ]
            },
            {
               "name": "stderr",
               "output_type": "stream",
               "text": [
                  "\n",
                  "\u001b[A\n",
                  "\u001b[A\n",
                  "100%|██████████| 100/100 [00:00<00:00, 330.65it/s]\n"
               ]
            },
            {
               "name": "stdout",
               "output_type": "stream",
               "text": [
                  "test on day 4000\n"
               ]
            },
            {
               "name": "stderr",
               "output_type": "stream",
               "text": [
                  "\n",
                  "\u001b[A\n",
                  "\u001b[A\n",
                  "100%|██████████| 100/100 [00:00<00:00, 330.51it/s]\n"
               ]
            },
            {
               "name": "stdout",
               "output_type": "stream",
               "text": [
                  "test on day 4500\n"
               ]
            },
            {
               "name": "stderr",
               "output_type": "stream",
               "text": [
                  "\n",
                  "\u001b[A\n",
                  "\u001b[A\n",
                  "100%|██████████| 100/100 [00:00<00:00, 330.87it/s]\n"
               ]
            },
            {
               "name": "stdout",
               "output_type": "stream",
               "text": [
                  "test on day 5000\n"
               ]
            },
            {
               "name": "stderr",
               "output_type": "stream",
               "text": [
                  "\n",
                  "\u001b[A\n",
                  "\u001b[A\n",
                  "100%|██████████| 100/100 [00:00<00:00, 329.85it/s]\n"
               ]
            },
            {
               "name": "stdout",
               "output_type": "stream",
               "text": [
                  "test on day 5500\n"
               ]
            },
            {
               "name": "stderr",
               "output_type": "stream",
               "text": [
                  "\n",
                  "\u001b[A\n",
                  "\u001b[A\n",
                  "100%|██████████| 100/100 [00:00<00:00, 329.60it/s]\n"
               ]
            },
            {
               "name": "stdout",
               "output_type": "stream",
               "text": [
                  "test on day 6000\n"
               ]
            },
            {
               "name": "stderr",
               "output_type": "stream",
               "text": [
                  "\n",
                  "\u001b[A\n",
                  "\u001b[A\n",
                  "100%|██████████| 100/100 [00:00<00:00, 330.53it/s]\n"
               ]
            },
            {
               "name": "stdout",
               "output_type": "stream",
               "text": [
                  "test on day 6500\n"
               ]
            },
            {
               "name": "stderr",
               "output_type": "stream",
               "text": [
                  "\n",
                  "\u001b[A\n",
                  "\u001b[A\n",
                  "100%|██████████| 100/100 [00:00<00:00, 330.11it/s]\n"
               ]
            },
            {
               "name": "stdout",
               "output_type": "stream",
               "text": [
                  "test on day 7000\n"
               ]
            },
            {
               "name": "stderr",
               "output_type": "stream",
               "text": [
                  "\n",
                  "\u001b[A\n",
                  "\u001b[A\n",
                  "100%|██████████| 100/100 [00:00<00:00, 331.43it/s]\n"
               ]
            },
            {
               "name": "stdout",
               "output_type": "stream",
               "text": [
                  "test on day 7500\n"
               ]
            },
            {
               "name": "stderr",
               "output_type": "stream",
               "text": [
                  "\n",
                  "\u001b[A\n",
                  "\u001b[A\n",
                  "100%|██████████| 100/100 [00:00<00:00, 331.01it/s]\n"
               ]
            },
            {
               "name": "stdout",
               "output_type": "stream",
               "text": [
                  "test on day 8000\n"
               ]
            },
            {
               "name": "stderr",
               "output_type": "stream",
               "text": [
                  "\n",
                  "\u001b[A\n",
                  "\u001b[A\n",
                  "100%|██████████| 100/100 [00:00<00:00, 331.03it/s]\n",
                  "100%|██████████| 5/5 [00:27<00:00,  5.50s/it]\n"
               ]
            },
            {
               "name": "stdout",
               "output_type": "stream",
               "text": [
                  "get transaction stats av. network\n"
               ]
            },
            {
               "name": "stderr",
               "output_type": "stream",
               "text": [
                  "100%|██████████| 8000/8000 [03:29<00:00, 38.13it/s]\n"
               ]
            },
            {
               "name": "stdout",
               "output_type": "stream",
               "text": [
                  "get transaction stats av. bank\n"
               ]
            },
            {
               "name": "stderr",
               "output_type": "stream",
               "text": [
                  "100%|██████████| 8000/8000 [00:12<00:00, 617.20it/s]\n",
                  " 42%|████▏     | 8499/19999 [2:31:10<28:25,  6.74it/s]     "
               ]
            },
            {
               "name": "stdout",
               "output_type": "stream",
               "text": [
                  "get df_rev_repo_trans\n"
               ]
            },
            {
               "name": "stderr",
               "output_type": "stream",
               "text": [
                  "100%|██████████| 50/50 [00:00<00:00, 699050.67it/s]\n"
               ]
            },
            {
               "name": "stdout",
               "output_type": "stream",
               "text": [
                  "get df_rev_repo_trans\n"
               ]
            },
            {
               "name": "stderr",
               "output_type": "stream",
               "text": [
                  "100%|██████████| 50/50 [00:00<00:00, 599186.29it/s]\n"
               ]
            },
            {
               "name": "stdout",
               "output_type": "stream",
               "text": [
                  "get arr_rev_repo_exp_adj\n"
               ]
            },
            {
               "name": "stderr",
               "output_type": "stream",
               "text": [
                  "289883it [06:39, 725.46it/s]\n"
               ]
            },
            {
               "name": "stdout",
               "output_type": "stream",
               "text": [
                  "get arr_binary_adj (numba)\n",
                  "get degree distribution\n"
               ]
            },
            {
               "name": "stderr",
               "output_type": "stream",
               "text": [
                  "100%|██████████| 8500/8500 [01:37<00:00, 86.94it/s]\n"
               ]
            },
            {
               "name": "stdout",
               "output_type": "stream",
               "text": [
                  "get jaccard\n"
               ]
            },
            {
               "name": "stderr",
               "output_type": "stream",
               "text": [
                  "100%|██████████| 8499/8499 [00:01<00:00, 4838.66it/s]\n"
               ]
            },
            {
               "name": "stdout",
               "output_type": "stream",
               "text": [
                  "get density\n"
               ]
            },
            {
               "name": "stderr",
               "output_type": "stream",
               "text": [
                  "100%|██████████| 8499/8499 [00:01<00:00, 4978.29it/s]\n"
               ]
            },
            {
               "name": "stdout",
               "output_type": "stream",
               "text": [
                  "get degree stats\n"
               ]
            },
            {
               "name": "stderr",
               "output_type": "stream",
               "text": [
                  "100%|██████████| 8499/8499 [00:04<00:00, 1729.13it/s]\n"
               ]
            },
            {
               "name": "stdout",
               "output_type": "stream",
               "text": [
                  "get exposure stats\n"
               ]
            },
            {
               "name": "stderr",
               "output_type": "stream",
               "text": [
                  "100%|██████████| 8501/8501 [00:01<00:00, 4847.96it/s]\n"
               ]
            },
            {
               "name": "stdout",
               "output_type": "stream",
               "text": [
                  "run core-periphery tests\n"
               ]
            },
            {
               "name": "stderr",
               "output_type": "stream",
               "text": []
            },
            {
               "name": "stdout",
               "output_type": "stream",
               "text": [
                  "core-periphery tests using the Lip approach\n",
                  "test on day 0\n"
               ]
            },
            {
               "name": "stderr",
               "output_type": "stream",
               "text": [
                  "\n",
                  "100%|██████████| 100/100 [00:00<00:00, 2771.46it/s]\n"
               ]
            },
            {
               "name": "stdout",
               "output_type": "stream",
               "text": [
                  "test on day 500\n"
               ]
            },
            {
               "name": "stderr",
               "output_type": "stream",
               "text": [
                  "\n",
                  "\u001b[A\n",
                  "\u001b[A\n",
                  "100%|██████████| 100/100 [00:00<00:00, 335.62it/s]\n"
               ]
            },
            {
               "name": "stdout",
               "output_type": "stream",
               "text": [
                  "test on day 1000\n"
               ]
            },
            {
               "name": "stderr",
               "output_type": "stream",
               "text": [
                  "\n",
                  "\u001b[A\n",
                  "\u001b[A\n",
                  "\u001b[A\n",
                  "100%|██████████| 100/100 [00:00<00:00, 325.44it/s]\n"
               ]
            },
            {
               "name": "stdout",
               "output_type": "stream",
               "text": [
                  "test on day 1500\n"
               ]
            },
            {
               "name": "stderr",
               "output_type": "stream",
               "text": [
                  "\n",
                  "\u001b[A\n",
                  "\u001b[A\n",
                  "\u001b[A\n",
                  "100%|██████████| 100/100 [00:00<00:00, 325.80it/s]\n"
               ]
            },
            {
               "name": "stdout",
               "output_type": "stream",
               "text": [
                  "test on day 2000\n"
               ]
            },
            {
               "name": "stderr",
               "output_type": "stream",
               "text": [
                  "\n",
                  "\u001b[A\n",
                  "\u001b[A\n",
                  "100%|██████████| 100/100 [00:00<00:00, 329.84it/s]\n"
               ]
            },
            {
               "name": "stdout",
               "output_type": "stream",
               "text": [
                  "test on day 2500\n"
               ]
            },
            {
               "name": "stderr",
               "output_type": "stream",
               "text": [
                  "\n",
                  "\u001b[A\n",
                  "\u001b[A\n",
                  "100%|██████████| 100/100 [00:00<00:00, 331.17it/s]\n"
               ]
            },
            {
               "name": "stdout",
               "output_type": "stream",
               "text": [
                  "test on day 3000\n"
               ]
            },
            {
               "name": "stderr",
               "output_type": "stream",
               "text": [
                  "\n",
                  "\u001b[A\n",
                  "\u001b[A\n",
                  "100%|██████████| 100/100 [00:00<00:00, 332.26it/s]\n"
               ]
            },
            {
               "name": "stdout",
               "output_type": "stream",
               "text": [
                  "test on day 3500\n"
               ]
            },
            {
               "name": "stderr",
               "output_type": "stream",
               "text": [
                  "\n",
                  "\u001b[A\n",
                  "\u001b[A\n",
                  "100%|██████████| 100/100 [00:00<00:00, 332.81it/s]\n"
               ]
            },
            {
               "name": "stdout",
               "output_type": "stream",
               "text": [
                  "test on day 4000\n"
               ]
            },
            {
               "name": "stderr",
               "output_type": "stream",
               "text": [
                  "\n",
                  "\u001b[A\n",
                  "\u001b[A\n",
                  "100%|██████████| 100/100 [00:00<00:00, 333.31it/s]\n"
               ]
            },
            {
               "name": "stdout",
               "output_type": "stream",
               "text": [
                  "test on day 4500\n"
               ]
            },
            {
               "name": "stderr",
               "output_type": "stream",
               "text": [
                  "\n",
                  "\u001b[A\n",
                  "\u001b[A\n",
                  "100%|██████████| 100/100 [00:00<00:00, 333.76it/s]\n"
               ]
            },
            {
               "name": "stdout",
               "output_type": "stream",
               "text": [
                  "test on day 5000\n"
               ]
            },
            {
               "name": "stderr",
               "output_type": "stream",
               "text": [
                  "\n",
                  "\u001b[A\n",
                  "\u001b[A\n",
                  "100%|██████████| 100/100 [00:00<00:00, 333.03it/s]\n"
               ]
            },
            {
               "name": "stdout",
               "output_type": "stream",
               "text": [
                  "test on day 5500\n"
               ]
            },
            {
               "name": "stderr",
               "output_type": "stream",
               "text": [
                  "\n",
                  "\u001b[A\n",
                  "\u001b[A\n",
                  "100%|██████████| 100/100 [00:00<00:00, 332.43it/s]\n"
               ]
            },
            {
               "name": "stdout",
               "output_type": "stream",
               "text": [
                  "test on day 6000\n"
               ]
            },
            {
               "name": "stderr",
               "output_type": "stream",
               "text": [
                  "\n",
                  "\u001b[A\n",
                  "\u001b[A\n",
                  "100%|██████████| 100/100 [00:00<00:00, 332.52it/s]\n"
               ]
            },
            {
               "name": "stdout",
               "output_type": "stream",
               "text": [
                  "test on day 6500\n"
               ]
            },
            {
               "name": "stderr",
               "output_type": "stream",
               "text": [
                  "\n",
                  "\u001b[A\n",
                  "\u001b[A\n",
                  "100%|██████████| 100/100 [00:00<00:00, 332.49it/s]\n"
               ]
            },
            {
               "name": "stdout",
               "output_type": "stream",
               "text": [
                  "test on day 7000\n"
               ]
            },
            {
               "name": "stderr",
               "output_type": "stream",
               "text": [
                  "\n",
                  "\u001b[A\n",
                  "\u001b[A\n",
                  "100%|██████████| 100/100 [00:00<00:00, 332.56it/s]\n"
               ]
            },
            {
               "name": "stdout",
               "output_type": "stream",
               "text": [
                  "test on day 7500\n"
               ]
            },
            {
               "name": "stderr",
               "output_type": "stream",
               "text": [
                  "\n",
                  "\u001b[A\n",
                  "\u001b[A\n",
                  "100%|██████████| 100/100 [00:00<00:00, 332.25it/s]\n"
               ]
            },
            {
               "name": "stdout",
               "output_type": "stream",
               "text": [
                  "test on day 8000\n"
               ]
            },
            {
               "name": "stderr",
               "output_type": "stream",
               "text": [
                  "\n",
                  "\u001b[A\n",
                  "\u001b[A\n",
                  "100%|██████████| 100/100 [00:00<00:00, 331.80it/s]\n"
               ]
            },
            {
               "name": "stdout",
               "output_type": "stream",
               "text": [
                  "test on day 8500\n"
               ]
            },
            {
               "name": "stderr",
               "output_type": "stream",
               "text": [
                  "\n",
                  "\u001b[A\n",
                  "\u001b[A\n",
                  "100%|██████████| 100/100 [00:00<00:00, 332.18it/s]\n"
               ]
            },
            {
               "name": "stdout",
               "output_type": "stream",
               "text": [
                  "core-periphery tests using the Lip approach\n",
                  "test on day 0\n"
               ]
            },
            {
               "name": "stderr",
               "output_type": "stream",
               "text": [
                  "\n",
                  "100%|██████████| 100/100 [00:00<00:00, 2789.62it/s]\n"
               ]
            },
            {
               "name": "stdout",
               "output_type": "stream",
               "text": [
                  "test on day 500\n"
               ]
            },
            {
               "name": "stderr",
               "output_type": "stream",
               "text": [
                  "\n",
                  "\u001b[A\n",
                  "\u001b[A\n",
                  "100%|██████████| 100/100 [00:00<00:00, 336.73it/s]\n"
               ]
            },
            {
               "name": "stdout",
               "output_type": "stream",
               "text": [
                  "test on day 1000\n"
               ]
            },
            {
               "name": "stderr",
               "output_type": "stream",
               "text": [
                  "\n",
                  "\u001b[A\n",
                  "\u001b[A\n",
                  "\u001b[A\n",
                  "100%|██████████| 100/100 [00:00<00:00, 320.13it/s]\n"
               ]
            },
            {
               "name": "stdout",
               "output_type": "stream",
               "text": [
                  "test on day 1500\n"
               ]
            },
            {
               "name": "stderr",
               "output_type": "stream",
               "text": [
                  "\n",
                  "\u001b[A\n",
                  "\u001b[A\n",
                  "\u001b[A\n",
                  "100%|██████████| 100/100 [00:00<00:00, 323.16it/s]\n"
               ]
            },
            {
               "name": "stdout",
               "output_type": "stream",
               "text": [
                  "test on day 2000\n"
               ]
            },
            {
               "name": "stderr",
               "output_type": "stream",
               "text": [
                  "\n",
                  "\u001b[A\n",
                  "\u001b[A\n",
                  "100%|██████████| 100/100 [00:00<00:00, 329.43it/s]\n"
               ]
            },
            {
               "name": "stdout",
               "output_type": "stream",
               "text": [
                  "test on day 2500\n"
               ]
            },
            {
               "name": "stderr",
               "output_type": "stream",
               "text": [
                  "\n",
                  "\u001b[A\n",
                  "\u001b[A\n",
                  "100%|██████████| 100/100 [00:00<00:00, 330.72it/s]\n"
               ]
            },
            {
               "name": "stdout",
               "output_type": "stream",
               "text": [
                  "test on day 3000\n"
               ]
            },
            {
               "name": "stderr",
               "output_type": "stream",
               "text": [
                  "\n",
                  "\u001b[A\n",
                  "\u001b[A\n",
                  "100%|██████████| 100/100 [00:00<00:00, 330.69it/s]\n"
               ]
            },
            {
               "name": "stdout",
               "output_type": "stream",
               "text": [
                  "test on day 3500\n"
               ]
            },
            {
               "name": "stderr",
               "output_type": "stream",
               "text": [
                  "\n",
                  "\u001b[A\n",
                  "\u001b[A\n",
                  "100%|██████████| 100/100 [00:00<00:00, 331.05it/s]\n"
               ]
            },
            {
               "name": "stdout",
               "output_type": "stream",
               "text": [
                  "test on day 4000\n"
               ]
            },
            {
               "name": "stderr",
               "output_type": "stream",
               "text": [
                  "\n",
                  "\u001b[A\n",
                  "\u001b[A\n",
                  "100%|██████████| 100/100 [00:00<00:00, 332.46it/s]\n"
               ]
            },
            {
               "name": "stdout",
               "output_type": "stream",
               "text": [
                  "test on day 4500\n"
               ]
            },
            {
               "name": "stderr",
               "output_type": "stream",
               "text": [
                  "\n",
                  "\u001b[A\n",
                  "\u001b[A\n",
                  "100%|██████████| 100/100 [00:00<00:00, 332.05it/s]\n"
               ]
            },
            {
               "name": "stdout",
               "output_type": "stream",
               "text": [
                  "test on day 5000\n"
               ]
            },
            {
               "name": "stderr",
               "output_type": "stream",
               "text": [
                  "\n",
                  "\u001b[A\n",
                  "\u001b[A\n",
                  "100%|██████████| 100/100 [00:00<00:00, 329.62it/s]\n"
               ]
            },
            {
               "name": "stdout",
               "output_type": "stream",
               "text": [
                  "test on day 5500\n"
               ]
            },
            {
               "name": "stderr",
               "output_type": "stream",
               "text": [
                  "\n",
                  "\u001b[A\n",
                  "\u001b[A\n",
                  "100%|██████████| 100/100 [00:00<00:00, 331.08it/s]\n"
               ]
            },
            {
               "name": "stdout",
               "output_type": "stream",
               "text": [
                  "test on day 6000\n"
               ]
            },
            {
               "name": "stderr",
               "output_type": "stream",
               "text": [
                  "\n",
                  "\u001b[A\n",
                  "\u001b[A\n",
                  "100%|██████████| 100/100 [00:00<00:00, 330.67it/s]\n"
               ]
            },
            {
               "name": "stdout",
               "output_type": "stream",
               "text": [
                  "test on day 6500\n"
               ]
            },
            {
               "name": "stderr",
               "output_type": "stream",
               "text": [
                  "\n",
                  "\u001b[A\n",
                  "\u001b[A\n",
                  "100%|██████████| 100/100 [00:00<00:00, 331.47it/s]\n"
               ]
            },
            {
               "name": "stdout",
               "output_type": "stream",
               "text": [
                  "test on day 7000\n"
               ]
            },
            {
               "name": "stderr",
               "output_type": "stream",
               "text": [
                  "\n",
                  "\u001b[A\n",
                  "\u001b[A\n",
                  "100%|██████████| 100/100 [00:00<00:00, 330.89it/s]\n"
               ]
            },
            {
               "name": "stdout",
               "output_type": "stream",
               "text": [
                  "test on day 7500\n"
               ]
            },
            {
               "name": "stderr",
               "output_type": "stream",
               "text": [
                  "\n",
                  "\u001b[A\n",
                  "\u001b[A\n",
                  "100%|██████████| 100/100 [00:00<00:00, 331.18it/s]\n"
               ]
            },
            {
               "name": "stdout",
               "output_type": "stream",
               "text": [
                  "test on day 8000\n"
               ]
            },
            {
               "name": "stderr",
               "output_type": "stream",
               "text": [
                  "\n",
                  "\u001b[A\n",
                  "\u001b[A\n",
                  "100%|██████████| 100/100 [00:00<00:00, 330.78it/s]\n"
               ]
            },
            {
               "name": "stdout",
               "output_type": "stream",
               "text": [
                  "test on day 8500\n"
               ]
            },
            {
               "name": "stderr",
               "output_type": "stream",
               "text": [
                  "\n",
                  "\u001b[A\n",
                  "\u001b[A\n",
                  "100%|██████████| 100/100 [00:00<00:00, 331.69it/s]\n"
               ]
            },
            {
               "name": "stdout",
               "output_type": "stream",
               "text": [
                  "core-periphery tests using the Lip approach\n",
                  "test on day 0\n"
               ]
            },
            {
               "name": "stderr",
               "output_type": "stream",
               "text": [
                  "\n",
                  "100%|██████████| 100/100 [00:00<00:00, 2824.26it/s]\n"
               ]
            },
            {
               "name": "stdout",
               "output_type": "stream",
               "text": [
                  "test on day 500\n"
               ]
            },
            {
               "name": "stderr",
               "output_type": "stream",
               "text": [
                  "\n",
                  "\u001b[A\n",
                  "\u001b[A\n",
                  "100%|██████████| 100/100 [00:00<00:00, 336.82it/s]\n"
               ]
            },
            {
               "name": "stdout",
               "output_type": "stream",
               "text": [
                  "test on day 1000\n"
               ]
            },
            {
               "name": "stderr",
               "output_type": "stream",
               "text": [
                  "\n",
                  "\u001b[A\n",
                  "\u001b[A\n",
                  "\u001b[A\n",
                  "100%|██████████| 100/100 [00:00<00:00, 318.90it/s]\n"
               ]
            },
            {
               "name": "stdout",
               "output_type": "stream",
               "text": [
                  "test on day 1500\n"
               ]
            },
            {
               "name": "stderr",
               "output_type": "stream",
               "text": [
                  "\n",
                  "\u001b[A\n",
                  "\u001b[A\n",
                  "\u001b[A\n",
                  "100%|██████████| 100/100 [00:00<00:00, 321.09it/s]\n"
               ]
            },
            {
               "name": "stdout",
               "output_type": "stream",
               "text": [
                  "test on day 2000\n"
               ]
            },
            {
               "name": "stderr",
               "output_type": "stream",
               "text": [
                  "\n",
                  "\u001b[A\n",
                  "\u001b[A\n",
                  "\u001b[A\n",
                  "100%|██████████| 100/100 [00:00<00:00, 327.11it/s]\n"
               ]
            },
            {
               "name": "stdout",
               "output_type": "stream",
               "text": [
                  "test on day 2500\n"
               ]
            },
            {
               "name": "stderr",
               "output_type": "stream",
               "text": [
                  "\n",
                  "\u001b[A\n",
                  "\u001b[A\n",
                  "\u001b[A\n",
                  "100%|██████████| 100/100 [00:00<00:00, 326.03it/s]\n"
               ]
            },
            {
               "name": "stdout",
               "output_type": "stream",
               "text": [
                  "test on day 3000\n"
               ]
            },
            {
               "name": "stderr",
               "output_type": "stream",
               "text": [
                  "\n",
                  "\u001b[A\n",
                  "\u001b[A\n",
                  "100%|██████████| 100/100 [00:00<00:00, 329.45it/s]\n"
               ]
            },
            {
               "name": "stdout",
               "output_type": "stream",
               "text": [
                  "test on day 3500\n"
               ]
            },
            {
               "name": "stderr",
               "output_type": "stream",
               "text": [
                  "\n",
                  "\u001b[A\n",
                  "\u001b[A\n",
                  "100%|██████████| 100/100 [00:00<00:00, 330.29it/s]\n"
               ]
            },
            {
               "name": "stdout",
               "output_type": "stream",
               "text": [
                  "test on day 4000\n"
               ]
            },
            {
               "name": "stderr",
               "output_type": "stream",
               "text": [
                  "\n",
                  "\u001b[A\n",
                  "\u001b[A\n",
                  "100%|██████████| 100/100 [00:00<00:00, 331.09it/s]\n"
               ]
            },
            {
               "name": "stdout",
               "output_type": "stream",
               "text": [
                  "test on day 4500\n"
               ]
            },
            {
               "name": "stderr",
               "output_type": "stream",
               "text": [
                  "\n",
                  "\u001b[A\n",
                  "\u001b[A\n",
                  "100%|██████████| 100/100 [00:00<00:00, 330.06it/s]\n"
               ]
            },
            {
               "name": "stdout",
               "output_type": "stream",
               "text": [
                  "test on day 5000\n"
               ]
            },
            {
               "name": "stderr",
               "output_type": "stream",
               "text": [
                  "\n",
                  "\u001b[A\n",
                  "\u001b[A\n",
                  "100%|██████████| 100/100 [00:00<00:00, 329.40it/s]\n"
               ]
            },
            {
               "name": "stdout",
               "output_type": "stream",
               "text": [
                  "test on day 5500\n"
               ]
            },
            {
               "name": "stderr",
               "output_type": "stream",
               "text": [
                  "\n",
                  "\u001b[A\n",
                  "\u001b[A\n",
                  "100%|██████████| 100/100 [00:00<00:00, 329.18it/s]\n"
               ]
            },
            {
               "name": "stdout",
               "output_type": "stream",
               "text": [
                  "test on day 6000\n"
               ]
            },
            {
               "name": "stderr",
               "output_type": "stream",
               "text": [
                  "\n",
                  "\u001b[A\n",
                  "\u001b[A\n",
                  "100%|██████████| 100/100 [00:00<00:00, 329.98it/s]\n"
               ]
            },
            {
               "name": "stdout",
               "output_type": "stream",
               "text": [
                  "test on day 6500\n"
               ]
            },
            {
               "name": "stderr",
               "output_type": "stream",
               "text": [
                  "\n",
                  "\u001b[A\n",
                  "\u001b[A\n",
                  "100%|██████████| 100/100 [00:00<00:00, 330.56it/s]\n"
               ]
            },
            {
               "name": "stdout",
               "output_type": "stream",
               "text": [
                  "test on day 7000\n"
               ]
            },
            {
               "name": "stderr",
               "output_type": "stream",
               "text": [
                  "\n",
                  "\u001b[A\n",
                  "\u001b[A\n",
                  "100%|██████████| 100/100 [00:00<00:00, 329.57it/s]\n"
               ]
            },
            {
               "name": "stdout",
               "output_type": "stream",
               "text": [
                  "test on day 7500\n"
               ]
            },
            {
               "name": "stderr",
               "output_type": "stream",
               "text": [
                  "\n",
                  "\u001b[A\n",
                  "\u001b[A\n",
                  "100%|██████████| 100/100 [00:00<00:00, 330.97it/s]\n"
               ]
            },
            {
               "name": "stdout",
               "output_type": "stream",
               "text": [
                  "test on day 8000\n"
               ]
            },
            {
               "name": "stderr",
               "output_type": "stream",
               "text": [
                  "\n",
                  "\u001b[A\n",
                  "\u001b[A\n",
                  "100%|██████████| 100/100 [00:00<00:00, 330.82it/s]\n"
               ]
            },
            {
               "name": "stdout",
               "output_type": "stream",
               "text": [
                  "test on day 8500\n"
               ]
            },
            {
               "name": "stderr",
               "output_type": "stream",
               "text": [
                  "\n",
                  "\u001b[A\n",
                  "\u001b[A\n",
                  "100%|██████████| 100/100 [00:00<00:00, 330.66it/s]\n"
               ]
            },
            {
               "name": "stdout",
               "output_type": "stream",
               "text": [
                  "core-periphery tests using the Lip approach\n",
                  "test on day 0\n"
               ]
            },
            {
               "name": "stderr",
               "output_type": "stream",
               "text": [
                  "\n",
                  "100%|██████████| 100/100 [00:00<00:00, 2808.18it/s]\n"
               ]
            },
            {
               "name": "stdout",
               "output_type": "stream",
               "text": [
                  "test on day 500\n"
               ]
            },
            {
               "name": "stderr",
               "output_type": "stream",
               "text": [
                  "\n",
                  "\u001b[A\n",
                  "\u001b[A\n",
                  "100%|██████████| 100/100 [00:00<00:00, 334.94it/s]\n"
               ]
            },
            {
               "name": "stdout",
               "output_type": "stream",
               "text": [
                  "test on day 1000\n"
               ]
            },
            {
               "name": "stderr",
               "output_type": "stream",
               "text": [
                  "\n",
                  "\u001b[A\n",
                  "\u001b[A\n",
                  "\u001b[A\n",
                  "100%|██████████| 100/100 [00:00<00:00, 318.60it/s]\n"
               ]
            },
            {
               "name": "stdout",
               "output_type": "stream",
               "text": [
                  "test on day 1500\n"
               ]
            },
            {
               "name": "stderr",
               "output_type": "stream",
               "text": [
                  "\n",
                  "\u001b[A\n",
                  "\u001b[A\n",
                  "\u001b[A\n",
                  "100%|██████████| 100/100 [00:00<00:00, 323.47it/s]\n"
               ]
            },
            {
               "name": "stdout",
               "output_type": "stream",
               "text": [
                  "test on day 2000\n"
               ]
            },
            {
               "name": "stderr",
               "output_type": "stream",
               "text": [
                  "\n",
                  "\u001b[A\n",
                  "\u001b[A\n",
                  "\u001b[A\n",
                  "100%|██████████| 100/100 [00:00<00:00, 326.01it/s]\n"
               ]
            },
            {
               "name": "stdout",
               "output_type": "stream",
               "text": [
                  "test on day 2500\n"
               ]
            },
            {
               "name": "stderr",
               "output_type": "stream",
               "text": [
                  "\n",
                  "\u001b[A\n",
                  "\u001b[A\n",
                  "100%|██████████| 100/100 [00:00<00:00, 328.35it/s]\n"
               ]
            },
            {
               "name": "stdout",
               "output_type": "stream",
               "text": [
                  "test on day 3000\n"
               ]
            },
            {
               "name": "stderr",
               "output_type": "stream",
               "text": [
                  "\n",
                  "\u001b[A\n",
                  "\u001b[A\n",
                  "100%|██████████| 100/100 [00:00<00:00, 328.35it/s]\n"
               ]
            },
            {
               "name": "stdout",
               "output_type": "stream",
               "text": [
                  "test on day 3500\n"
               ]
            },
            {
               "name": "stderr",
               "output_type": "stream",
               "text": [
                  "\n",
                  "\u001b[A\n",
                  "\u001b[A\n",
                  "100%|██████████| 100/100 [00:00<00:00, 330.28it/s]\n"
               ]
            },
            {
               "name": "stdout",
               "output_type": "stream",
               "text": [
                  "test on day 4000\n"
               ]
            },
            {
               "name": "stderr",
               "output_type": "stream",
               "text": [
                  "\n",
                  "\u001b[A\n",
                  "\u001b[A\n",
                  "100%|██████████| 100/100 [00:00<00:00, 329.97it/s]\n"
               ]
            },
            {
               "name": "stdout",
               "output_type": "stream",
               "text": [
                  "test on day 4500\n"
               ]
            },
            {
               "name": "stderr",
               "output_type": "stream",
               "text": [
                  "\n",
                  "\u001b[A\n",
                  "\u001b[A\n",
                  "100%|██████████| 100/100 [00:00<00:00, 330.61it/s]\n"
               ]
            },
            {
               "name": "stdout",
               "output_type": "stream",
               "text": [
                  "test on day 5000\n"
               ]
            },
            {
               "name": "stderr",
               "output_type": "stream",
               "text": [
                  "\n",
                  "\u001b[A\n",
                  "\u001b[A\n",
                  "100%|██████████| 100/100 [00:00<00:00, 328.94it/s]\n"
               ]
            },
            {
               "name": "stdout",
               "output_type": "stream",
               "text": [
                  "test on day 5500\n"
               ]
            },
            {
               "name": "stderr",
               "output_type": "stream",
               "text": [
                  "\n",
                  "\u001b[A\n",
                  "\u001b[A\n",
                  "100%|██████████| 100/100 [00:00<00:00, 329.14it/s]\n"
               ]
            },
            {
               "name": "stdout",
               "output_type": "stream",
               "text": [
                  "test on day 6000\n"
               ]
            },
            {
               "name": "stderr",
               "output_type": "stream",
               "text": [
                  "\n",
                  "\u001b[A\n",
                  "\u001b[A\n",
                  "100%|██████████| 100/100 [00:00<00:00, 330.43it/s]\n"
               ]
            },
            {
               "name": "stdout",
               "output_type": "stream",
               "text": [
                  "test on day 6500\n"
               ]
            },
            {
               "name": "stderr",
               "output_type": "stream",
               "text": [
                  "\n",
                  "\u001b[A\n",
                  "\u001b[A\n",
                  "100%|██████████| 100/100 [00:00<00:00, 330.65it/s]\n"
               ]
            },
            {
               "name": "stdout",
               "output_type": "stream",
               "text": [
                  "test on day 7000\n"
               ]
            },
            {
               "name": "stderr",
               "output_type": "stream",
               "text": [
                  "\n",
                  "\u001b[A\n",
                  "\u001b[A\n",
                  "100%|██████████| 100/100 [00:00<00:00, 330.31it/s]\n"
               ]
            },
            {
               "name": "stdout",
               "output_type": "stream",
               "text": [
                  "test on day 7500\n"
               ]
            },
            {
               "name": "stderr",
               "output_type": "stream",
               "text": [
                  "\n",
                  "\u001b[A\n",
                  "\u001b[A\n",
                  "100%|██████████| 100/100 [00:00<00:00, 329.37it/s]\n"
               ]
            },
            {
               "name": "stdout",
               "output_type": "stream",
               "text": [
                  "test on day 8000\n"
               ]
            },
            {
               "name": "stderr",
               "output_type": "stream",
               "text": [
                  "\n",
                  "\u001b[A\n",
                  "\u001b[A\n",
                  "100%|██████████| 100/100 [00:00<00:00, 330.19it/s]\n"
               ]
            },
            {
               "name": "stdout",
               "output_type": "stream",
               "text": [
                  "test on day 8500\n"
               ]
            },
            {
               "name": "stderr",
               "output_type": "stream",
               "text": [
                  "\n",
                  "\u001b[A\n",
                  "\u001b[A\n",
                  "100%|██████████| 100/100 [00:00<00:00, 331.57it/s]\n"
               ]
            },
            {
               "name": "stdout",
               "output_type": "stream",
               "text": [
                  "core-periphery tests using the Lip approach\n",
                  "test on day 0\n"
               ]
            },
            {
               "name": "stderr",
               "output_type": "stream",
               "text": [
                  "\n",
                  "100%|██████████| 100/100 [00:00<00:00, 1808.14it/s]\n"
               ]
            },
            {
               "name": "stdout",
               "output_type": "stream",
               "text": [
                  "test on day 500\n"
               ]
            },
            {
               "name": "stderr",
               "output_type": "stream",
               "text": [
                  "\n",
                  "\u001b[A\n",
                  "\u001b[A\n",
                  "100%|██████████| 100/100 [00:00<00:00, 340.28it/s]\n"
               ]
            },
            {
               "name": "stdout",
               "output_type": "stream",
               "text": [
                  "test on day 1000\n"
               ]
            },
            {
               "name": "stderr",
               "output_type": "stream",
               "text": [
                  "\n",
                  "\u001b[A\n",
                  "\u001b[A\n",
                  "\u001b[A\n",
                  "100%|██████████| 100/100 [00:00<00:00, 320.51it/s]\n"
               ]
            },
            {
               "name": "stdout",
               "output_type": "stream",
               "text": [
                  "test on day 1500\n"
               ]
            },
            {
               "name": "stderr",
               "output_type": "stream",
               "text": [
                  "\n",
                  "\u001b[A\n",
                  "\u001b[A\n",
                  "\u001b[A\n",
                  "100%|██████████| 100/100 [00:00<00:00, 322.73it/s]\n"
               ]
            },
            {
               "name": "stdout",
               "output_type": "stream",
               "text": [
                  "test on day 2000\n"
               ]
            },
            {
               "name": "stderr",
               "output_type": "stream",
               "text": [
                  "\n",
                  "\u001b[A\n",
                  "\u001b[A\n",
                  "100%|██████████| 100/100 [00:00<00:00, 327.90it/s]\n"
               ]
            },
            {
               "name": "stdout",
               "output_type": "stream",
               "text": [
                  "test on day 2500\n"
               ]
            },
            {
               "name": "stderr",
               "output_type": "stream",
               "text": [
                  "\n",
                  "\u001b[A\n",
                  "\u001b[A\n",
                  "\u001b[A\n",
                  "100%|██████████| 100/100 [00:00<00:00, 326.55it/s]\n"
               ]
            },
            {
               "name": "stdout",
               "output_type": "stream",
               "text": [
                  "test on day 3000\n"
               ]
            },
            {
               "name": "stderr",
               "output_type": "stream",
               "text": [
                  "\n",
                  "\u001b[A\n",
                  "\u001b[A\n",
                  "\u001b[A\n",
                  "100%|██████████| 100/100 [00:00<00:00, 327.80it/s]\n"
               ]
            },
            {
               "name": "stdout",
               "output_type": "stream",
               "text": [
                  "test on day 3500\n"
               ]
            },
            {
               "name": "stderr",
               "output_type": "stream",
               "text": [
                  "\n",
                  "\u001b[A\n",
                  "\u001b[A\n",
                  "\u001b[A\n",
                  "\u001b[A\n",
                  "\u001b[A\n",
                  "\u001b[A\n",
                  "100%|██████████| 100/100 [00:01<00:00, 77.49it/s]\n"
               ]
            },
            {
               "name": "stdout",
               "output_type": "stream",
               "text": [
                  "test on day 4000\n"
               ]
            },
            {
               "name": "stderr",
               "output_type": "stream",
               "text": [
                  "\n",
                  "\u001b[A\n",
                  "\u001b[A\n",
                  "100%|██████████| 100/100 [00:00<00:00, 330.78it/s]\n"
               ]
            },
            {
               "name": "stdout",
               "output_type": "stream",
               "text": [
                  "test on day 4500\n"
               ]
            },
            {
               "name": "stderr",
               "output_type": "stream",
               "text": [
                  "\n",
                  "\u001b[A\n",
                  "\u001b[A\n",
                  "100%|██████████| 100/100 [00:00<00:00, 330.12it/s]\n"
               ]
            },
            {
               "name": "stdout",
               "output_type": "stream",
               "text": [
                  "test on day 5000\n"
               ]
            },
            {
               "name": "stderr",
               "output_type": "stream",
               "text": [
                  "\n",
                  "\u001b[A\n",
                  "\u001b[A\n",
                  "100%|██████████| 100/100 [00:00<00:00, 330.10it/s]\n"
               ]
            },
            {
               "name": "stdout",
               "output_type": "stream",
               "text": [
                  "test on day 5500\n"
               ]
            },
            {
               "name": "stderr",
               "output_type": "stream",
               "text": [
                  "\n",
                  "\u001b[A\n",
                  "\u001b[A\n",
                  "100%|██████████| 100/100 [00:00<00:00, 330.30it/s]\n"
               ]
            },
            {
               "name": "stdout",
               "output_type": "stream",
               "text": [
                  "test on day 6000\n"
               ]
            },
            {
               "name": "stderr",
               "output_type": "stream",
               "text": [
                  "\n",
                  "\u001b[A\n",
                  "\u001b[A\n",
                  "100%|██████████| 100/100 [00:00<00:00, 330.84it/s]\n"
               ]
            },
            {
               "name": "stdout",
               "output_type": "stream",
               "text": [
                  "test on day 6500\n"
               ]
            },
            {
               "name": "stderr",
               "output_type": "stream",
               "text": [
                  "\n",
                  "\u001b[A\n",
                  "\u001b[A\n",
                  "\u001b[A\n",
                  "100%|██████████| 100/100 [00:00<00:00, 204.59it/s]\n"
               ]
            },
            {
               "name": "stdout",
               "output_type": "stream",
               "text": [
                  "test on day 7000\n"
               ]
            },
            {
               "name": "stderr",
               "output_type": "stream",
               "text": [
                  "\n",
                  "\u001b[A\n",
                  "\u001b[A\n",
                  "100%|██████████| 100/100 [00:00<00:00, 330.48it/s]\n"
               ]
            },
            {
               "name": "stdout",
               "output_type": "stream",
               "text": [
                  "test on day 7500\n"
               ]
            },
            {
               "name": "stderr",
               "output_type": "stream",
               "text": [
                  "\n",
                  "\u001b[A\n",
                  "\u001b[A\n",
                  "100%|██████████| 100/100 [00:00<00:00, 331.55it/s]\n"
               ]
            },
            {
               "name": "stdout",
               "output_type": "stream",
               "text": [
                  "test on day 8000\n"
               ]
            },
            {
               "name": "stderr",
               "output_type": "stream",
               "text": [
                  "\n",
                  "\u001b[A\n",
                  "\u001b[A\n",
                  "100%|██████████| 100/100 [00:00<00:00, 331.72it/s]\n"
               ]
            },
            {
               "name": "stdout",
               "output_type": "stream",
               "text": [
                  "test on day 8500\n"
               ]
            },
            {
               "name": "stderr",
               "output_type": "stream",
               "text": [
                  "\n",
                  "\u001b[A\n",
                  "\u001b[A\n",
                  "100%|██████████| 100/100 [00:00<00:00, 331.81it/s]\n",
                  "100%|██████████| 5/5 [00:28<00:00,  5.64s/it]\n"
               ]
            },
            {
               "name": "stdout",
               "output_type": "stream",
               "text": [
                  "get transaction stats av. network\n"
               ]
            },
            {
               "name": "stderr",
               "output_type": "stream",
               "text": [
                  "100%|██████████| 8500/8500 [04:24<00:00, 32.11it/s]\n"
               ]
            },
            {
               "name": "stdout",
               "output_type": "stream",
               "text": [
                  "get transaction stats av. bank\n"
               ]
            },
            {
               "name": "stderr",
               "output_type": "stream",
               "text": [
                  "100%|██████████| 8500/8500 [00:17<00:00, 478.24it/s]\n",
                  " 45%|████▍     | 8999/19999 [2:51:36<31:17,  5.86it/s]      "
               ]
            },
            {
               "name": "stdout",
               "output_type": "stream",
               "text": [
                  "get df_rev_repo_trans\n"
               ]
            },
            {
               "name": "stderr",
               "output_type": "stream",
               "text": [
                  "100%|██████████| 50/50 [00:00<00:00, 779610.41it/s]\n"
               ]
            },
            {
               "name": "stdout",
               "output_type": "stream",
               "text": [
                  "get df_rev_repo_trans\n"
               ]
            },
            {
               "name": "stderr",
               "output_type": "stream",
               "text": [
                  "100%|██████████| 50/50 [00:00<00:00, 594094.05it/s]\n"
               ]
            },
            {
               "name": "stdout",
               "output_type": "stream",
               "text": [
                  "get arr_rev_repo_exp_adj\n"
               ]
            },
            {
               "name": "stderr",
               "output_type": "stream",
               "text": [
                  "305301it [07:03, 720.22it/s] \n"
               ]
            },
            {
               "name": "stdout",
               "output_type": "stream",
               "text": [
                  "get arr_binary_adj (numba)\n",
                  "get degree distribution\n"
               ]
            },
            {
               "name": "stderr",
               "output_type": "stream",
               "text": [
                  "100%|██████████| 9000/9000 [01:37<00:00, 92.45it/s]\n"
               ]
            },
            {
               "name": "stdout",
               "output_type": "stream",
               "text": [
                  "get jaccard\n"
               ]
            },
            {
               "name": "stderr",
               "output_type": "stream",
               "text": [
                  "100%|██████████| 8999/8999 [00:01<00:00, 4789.89it/s]\n"
               ]
            },
            {
               "name": "stdout",
               "output_type": "stream",
               "text": [
                  "get density\n"
               ]
            },
            {
               "name": "stderr",
               "output_type": "stream",
               "text": [
                  "100%|██████████| 8999/8999 [00:01<00:00, 4958.15it/s]\n"
               ]
            },
            {
               "name": "stdout",
               "output_type": "stream",
               "text": [
                  "get degree stats\n"
               ]
            },
            {
               "name": "stderr",
               "output_type": "stream",
               "text": [
                  "100%|██████████| 8999/8999 [00:05<00:00, 1547.58it/s]\n"
               ]
            },
            {
               "name": "stdout",
               "output_type": "stream",
               "text": [
                  "get exposure stats\n"
               ]
            },
            {
               "name": "stderr",
               "output_type": "stream",
               "text": [
                  "100%|██████████| 9001/9001 [00:01<00:00, 4811.17it/s]\n"
               ]
            },
            {
               "name": "stdout",
               "output_type": "stream",
               "text": [
                  "run core-periphery tests\n"
               ]
            },
            {
               "name": "stderr",
               "output_type": "stream",
               "text": []
            },
            {
               "name": "stdout",
               "output_type": "stream",
               "text": [
                  "core-periphery tests using the Lip approach\n",
                  "test on day 0\n"
               ]
            },
            {
               "name": "stderr",
               "output_type": "stream",
               "text": [
                  "\n",
                  "100%|██████████| 100/100 [00:00<00:00, 2744.57it/s]\n"
               ]
            },
            {
               "name": "stdout",
               "output_type": "stream",
               "text": [
                  "test on day 500\n"
               ]
            },
            {
               "name": "stderr",
               "output_type": "stream",
               "text": [
                  "\n",
                  "\u001b[A\n",
                  "\u001b[A\n",
                  "100%|██████████| 100/100 [00:00<00:00, 329.90it/s]\n"
               ]
            },
            {
               "name": "stdout",
               "output_type": "stream",
               "text": [
                  "test on day 1000\n"
               ]
            },
            {
               "name": "stderr",
               "output_type": "stream",
               "text": [
                  "\n",
                  "\u001b[A\n",
                  "\u001b[A\n",
                  "\u001b[A\n",
                  "100%|██████████| 100/100 [00:00<00:00, 324.06it/s]\n"
               ]
            },
            {
               "name": "stdout",
               "output_type": "stream",
               "text": [
                  "test on day 1500\n"
               ]
            },
            {
               "name": "stderr",
               "output_type": "stream",
               "text": [
                  "\n",
                  "\u001b[A\n",
                  "\u001b[A\n",
                  "100%|██████████| 100/100 [00:00<00:00, 327.52it/s]\n"
               ]
            },
            {
               "name": "stdout",
               "output_type": "stream",
               "text": [
                  "test on day 2000\n"
               ]
            },
            {
               "name": "stderr",
               "output_type": "stream",
               "text": [
                  "\n",
                  "\u001b[A\n",
                  "\u001b[A\n",
                  "100%|██████████| 100/100 [00:00<00:00, 332.32it/s]\n"
               ]
            },
            {
               "name": "stdout",
               "output_type": "stream",
               "text": [
                  "test on day 2500\n"
               ]
            },
            {
               "name": "stderr",
               "output_type": "stream",
               "text": [
                  "\n",
                  "\u001b[A\n",
                  "\u001b[A\n",
                  "100%|██████████| 100/100 [00:00<00:00, 331.28it/s]\n"
               ]
            },
            {
               "name": "stdout",
               "output_type": "stream",
               "text": [
                  "test on day 3000\n"
               ]
            },
            {
               "name": "stderr",
               "output_type": "stream",
               "text": [
                  "\n",
                  "\u001b[A\n",
                  "\u001b[A\n",
                  "100%|██████████| 100/100 [00:00<00:00, 333.10it/s]\n"
               ]
            },
            {
               "name": "stdout",
               "output_type": "stream",
               "text": [
                  "test on day 3500\n"
               ]
            },
            {
               "name": "stderr",
               "output_type": "stream",
               "text": [
                  "\n",
                  "\u001b[A\n",
                  "\u001b[A\n",
                  "100%|██████████| 100/100 [00:00<00:00, 330.82it/s]\n"
               ]
            },
            {
               "name": "stdout",
               "output_type": "stream",
               "text": [
                  "test on day 4000\n"
               ]
            },
            {
               "name": "stderr",
               "output_type": "stream",
               "text": [
                  "\n",
                  "\u001b[A\n",
                  "\u001b[A\n",
                  "100%|██████████| 100/100 [00:00<00:00, 335.24it/s]\n"
               ]
            },
            {
               "name": "stdout",
               "output_type": "stream",
               "text": [
                  "test on day 4500\n"
               ]
            },
            {
               "name": "stderr",
               "output_type": "stream",
               "text": [
                  "\n",
                  "\u001b[A\n",
                  "\u001b[A\n",
                  "100%|██████████| 100/100 [00:00<00:00, 334.35it/s]\n"
               ]
            },
            {
               "name": "stdout",
               "output_type": "stream",
               "text": [
                  "test on day 5000\n"
               ]
            },
            {
               "name": "stderr",
               "output_type": "stream",
               "text": [
                  "\n",
                  "\u001b[A\n",
                  "\u001b[A\n",
                  "100%|██████████| 100/100 [00:00<00:00, 329.53it/s]\n"
               ]
            },
            {
               "name": "stdout",
               "output_type": "stream",
               "text": [
                  "test on day 5500\n"
               ]
            },
            {
               "name": "stderr",
               "output_type": "stream",
               "text": [
                  "\n",
                  "\u001b[A\n",
                  "\u001b[A\n",
                  "\u001b[A\n",
                  "100%|██████████| 100/100 [00:00<00:00, 325.90it/s]\n"
               ]
            },
            {
               "name": "stdout",
               "output_type": "stream",
               "text": [
                  "test on day 6000\n"
               ]
            },
            {
               "name": "stderr",
               "output_type": "stream",
               "text": [
                  "\n",
                  "\u001b[A\n",
                  "\u001b[A\n",
                  "\u001b[A\n",
                  "100%|██████████| 100/100 [00:00<00:00, 327.10it/s]\n"
               ]
            },
            {
               "name": "stdout",
               "output_type": "stream",
               "text": [
                  "test on day 6500\n"
               ]
            },
            {
               "name": "stderr",
               "output_type": "stream",
               "text": [
                  "\n",
                  "\u001b[A\n",
                  "\u001b[A\n",
                  "100%|██████████| 100/100 [00:00<00:00, 328.19it/s]\n"
               ]
            },
            {
               "name": "stdout",
               "output_type": "stream",
               "text": [
                  "test on day 7000\n"
               ]
            },
            {
               "name": "stderr",
               "output_type": "stream",
               "text": [
                  "\n",
                  "\u001b[A\n",
                  "\u001b[A\n",
                  "100%|██████████| 100/100 [00:00<00:00, 330.97it/s]\n"
               ]
            },
            {
               "name": "stdout",
               "output_type": "stream",
               "text": [
                  "test on day 7500\n"
               ]
            },
            {
               "name": "stderr",
               "output_type": "stream",
               "text": [
                  "\n",
                  "\u001b[A\n",
                  "\u001b[A\n",
                  "100%|██████████| 100/100 [00:00<00:00, 331.13it/s]\n"
               ]
            },
            {
               "name": "stdout",
               "output_type": "stream",
               "text": [
                  "test on day 8000\n"
               ]
            },
            {
               "name": "stderr",
               "output_type": "stream",
               "text": [
                  "\n",
                  "\u001b[A\n",
                  "\u001b[A\n",
                  "\u001b[A\n",
                  "100%|██████████| 100/100 [00:00<00:00, 323.58it/s]\n"
               ]
            },
            {
               "name": "stdout",
               "output_type": "stream",
               "text": [
                  "test on day 8500\n"
               ]
            },
            {
               "name": "stderr",
               "output_type": "stream",
               "text": [
                  "\n",
                  "\u001b[A\n",
                  "\u001b[A\n",
                  "100%|██████████| 100/100 [00:00<00:00, 332.22it/s]\n"
               ]
            },
            {
               "name": "stdout",
               "output_type": "stream",
               "text": [
                  "test on day 9000\n"
               ]
            },
            {
               "name": "stderr",
               "output_type": "stream",
               "text": [
                  "\n",
                  "\u001b[A\n",
                  "\u001b[A\n",
                  "\u001b[A\n",
                  "100%|██████████| 100/100 [00:00<00:00, 328.13it/s]\n"
               ]
            },
            {
               "name": "stdout",
               "output_type": "stream",
               "text": [
                  "core-periphery tests using the Lip approach\n",
                  "test on day 0\n"
               ]
            },
            {
               "name": "stderr",
               "output_type": "stream",
               "text": [
                  "\n",
                  "100%|██████████| 100/100 [00:00<00:00, 2809.05it/s]\n"
               ]
            },
            {
               "name": "stdout",
               "output_type": "stream",
               "text": [
                  "test on day 500\n"
               ]
            },
            {
               "name": "stderr",
               "output_type": "stream",
               "text": [
                  "\n",
                  "\u001b[A\n",
                  "\u001b[A\n",
                  "100%|██████████| 100/100 [00:00<00:00, 338.53it/s]\n"
               ]
            },
            {
               "name": "stdout",
               "output_type": "stream",
               "text": [
                  "test on day 1000\n"
               ]
            },
            {
               "name": "stderr",
               "output_type": "stream",
               "text": [
                  "\n",
                  "\u001b[A\n",
                  "\u001b[A\n",
                  "\u001b[A\n",
                  "100%|██████████| 100/100 [00:00<00:00, 319.70it/s]\n"
               ]
            },
            {
               "name": "stdout",
               "output_type": "stream",
               "text": [
                  "test on day 1500\n"
               ]
            },
            {
               "name": "stderr",
               "output_type": "stream",
               "text": [
                  "\n",
                  "\u001b[A\n",
                  "\u001b[A\n",
                  "\u001b[A\n",
                  "100%|██████████| 100/100 [00:00<00:00, 316.07it/s]\n"
               ]
            },
            {
               "name": "stdout",
               "output_type": "stream",
               "text": [
                  "test on day 2000\n"
               ]
            },
            {
               "name": "stderr",
               "output_type": "stream",
               "text": [
                  "\n",
                  "\u001b[A\n",
                  "\u001b[A\n",
                  "\u001b[A\n",
                  "100%|██████████| 100/100 [00:00<00:00, 320.07it/s]\n"
               ]
            },
            {
               "name": "stdout",
               "output_type": "stream",
               "text": [
                  "test on day 2500\n"
               ]
            },
            {
               "name": "stderr",
               "output_type": "stream",
               "text": [
                  "\n",
                  "\u001b[A\n",
                  "\u001b[A\n",
                  "100%|██████████| 100/100 [00:00<00:00, 327.45it/s]\n"
               ]
            },
            {
               "name": "stdout",
               "output_type": "stream",
               "text": [
                  "test on day 3000\n"
               ]
            },
            {
               "name": "stderr",
               "output_type": "stream",
               "text": [
                  "\n",
                  "\u001b[A\n",
                  "\u001b[A\n",
                  "100%|██████████| 100/100 [00:00<00:00, 328.14it/s]\n"
               ]
            },
            {
               "name": "stdout",
               "output_type": "stream",
               "text": [
                  "test on day 3500\n"
               ]
            },
            {
               "name": "stderr",
               "output_type": "stream",
               "text": [
                  "\n",
                  "\u001b[A\n",
                  "\u001b[A\n",
                  "100%|██████████| 100/100 [00:00<00:00, 331.21it/s]\n"
               ]
            },
            {
               "name": "stdout",
               "output_type": "stream",
               "text": [
                  "test on day 4000\n"
               ]
            },
            {
               "name": "stderr",
               "output_type": "stream",
               "text": [
                  "\n",
                  "\u001b[A\n",
                  "\u001b[A\n",
                  "100%|██████████| 100/100 [00:00<00:00, 328.65it/s]\n"
               ]
            },
            {
               "name": "stdout",
               "output_type": "stream",
               "text": [
                  "test on day 4500\n"
               ]
            },
            {
               "name": "stderr",
               "output_type": "stream",
               "text": [
                  "\n",
                  "\u001b[A\n",
                  "\u001b[A\n",
                  "\u001b[A\n",
                  "100%|██████████| 100/100 [00:00<00:00, 325.10it/s]\n"
               ]
            },
            {
               "name": "stdout",
               "output_type": "stream",
               "text": [
                  "test on day 5000\n"
               ]
            },
            {
               "name": "stderr",
               "output_type": "stream",
               "text": [
                  "\n",
                  "\u001b[A\n",
                  "\u001b[A\n",
                  "100%|██████████| 100/100 [00:00<00:00, 331.55it/s]\n"
               ]
            },
            {
               "name": "stdout",
               "output_type": "stream",
               "text": [
                  "test on day 5500\n"
               ]
            },
            {
               "name": "stderr",
               "output_type": "stream",
               "text": [
                  "\n",
                  "\u001b[A\n",
                  "\u001b[A\n",
                  "100%|██████████| 100/100 [00:00<00:00, 330.94it/s]\n"
               ]
            },
            {
               "name": "stdout",
               "output_type": "stream",
               "text": [
                  "test on day 6000\n"
               ]
            },
            {
               "name": "stderr",
               "output_type": "stream",
               "text": [
                  "\n",
                  "\u001b[A\n",
                  "\u001b[A\n",
                  "100%|██████████| 100/100 [00:00<00:00, 331.65it/s]\n"
               ]
            },
            {
               "name": "stdout",
               "output_type": "stream",
               "text": [
                  "test on day 6500\n"
               ]
            },
            {
               "name": "stderr",
               "output_type": "stream",
               "text": [
                  "\n",
                  "\u001b[A\n",
                  "\u001b[A\n",
                  "100%|██████████| 100/100 [00:00<00:00, 332.79it/s]\n"
               ]
            },
            {
               "name": "stdout",
               "output_type": "stream",
               "text": [
                  "test on day 7000\n"
               ]
            },
            {
               "name": "stderr",
               "output_type": "stream",
               "text": [
                  "\n",
                  "\u001b[A\n",
                  "\u001b[A\n",
                  "100%|██████████| 100/100 [00:00<00:00, 332.53it/s]\n"
               ]
            },
            {
               "name": "stdout",
               "output_type": "stream",
               "text": [
                  "test on day 7500\n"
               ]
            },
            {
               "name": "stderr",
               "output_type": "stream",
               "text": [
                  "\n",
                  "\u001b[A\n",
                  "\u001b[A\n",
                  "100%|██████████| 100/100 [00:00<00:00, 328.44it/s]\n"
               ]
            },
            {
               "name": "stdout",
               "output_type": "stream",
               "text": [
                  "test on day 8000\n"
               ]
            },
            {
               "name": "stderr",
               "output_type": "stream",
               "text": [
                  "\n",
                  "\u001b[A\n",
                  "\u001b[A\n",
                  "100%|██████████| 100/100 [00:00<00:00, 331.01it/s]\n"
               ]
            },
            {
               "name": "stdout",
               "output_type": "stream",
               "text": [
                  "test on day 8500\n"
               ]
            },
            {
               "name": "stderr",
               "output_type": "stream",
               "text": [
                  "\n",
                  "\u001b[A\n",
                  "\u001b[A\n",
                  "100%|██████████| 100/100 [00:00<00:00, 327.67it/s]\n"
               ]
            },
            {
               "name": "stdout",
               "output_type": "stream",
               "text": [
                  "test on day 9000\n"
               ]
            },
            {
               "name": "stderr",
               "output_type": "stream",
               "text": [
                  "\n",
                  "\u001b[A\n",
                  "\u001b[A\n",
                  "\u001b[A\n",
                  "100%|██████████| 100/100 [00:00<00:00, 325.35it/s]\n"
               ]
            },
            {
               "name": "stdout",
               "output_type": "stream",
               "text": [
                  "core-periphery tests using the Lip approach\n",
                  "test on day 0\n"
               ]
            },
            {
               "name": "stderr",
               "output_type": "stream",
               "text": [
                  "\n",
                  "100%|██████████| 100/100 [00:00<00:00, 2818.24it/s]\n"
               ]
            },
            {
               "name": "stdout",
               "output_type": "stream",
               "text": [
                  "test on day 500\n"
               ]
            },
            {
               "name": "stderr",
               "output_type": "stream",
               "text": [
                  "\n",
                  "\u001b[A\n",
                  "\u001b[A\n",
                  "100%|██████████| 100/100 [00:00<00:00, 330.02it/s]\n"
               ]
            },
            {
               "name": "stdout",
               "output_type": "stream",
               "text": [
                  "test on day 1000\n"
               ]
            },
            {
               "name": "stderr",
               "output_type": "stream",
               "text": [
                  "\n",
                  "\u001b[A\n",
                  "\u001b[A\n",
                  "\u001b[A\n",
                  "100%|██████████| 100/100 [00:00<00:00, 316.38it/s]\n"
               ]
            },
            {
               "name": "stdout",
               "output_type": "stream",
               "text": [
                  "test on day 1500\n"
               ]
            },
            {
               "name": "stderr",
               "output_type": "stream",
               "text": [
                  "\n",
                  "\u001b[A\n",
                  "\u001b[A\n",
                  "\u001b[A\n",
                  "100%|██████████| 100/100 [00:00<00:00, 320.22it/s]\n"
               ]
            },
            {
               "name": "stdout",
               "output_type": "stream",
               "text": [
                  "test on day 2000\n"
               ]
            },
            {
               "name": "stderr",
               "output_type": "stream",
               "text": [
                  "\n",
                  "\u001b[A\n",
                  "\u001b[A\n",
                  "\u001b[A\n",
                  "100%|██████████| 100/100 [00:00<00:00, 323.48it/s]\n"
               ]
            },
            {
               "name": "stdout",
               "output_type": "stream",
               "text": [
                  "test on day 2500\n"
               ]
            },
            {
               "name": "stderr",
               "output_type": "stream",
               "text": [
                  "\n",
                  "\u001b[A\n",
                  "\u001b[A\n",
                  "\u001b[A\n",
                  "100%|██████████| 100/100 [00:00<00:00, 322.65it/s]\n"
               ]
            },
            {
               "name": "stdout",
               "output_type": "stream",
               "text": [
                  "test on day 3000\n"
               ]
            },
            {
               "name": "stderr",
               "output_type": "stream",
               "text": [
                  "\n",
                  "\u001b[A\n",
                  "\u001b[A\n",
                  "\u001b[A\n",
                  "100%|██████████| 100/100 [00:00<00:00, 323.98it/s]\n"
               ]
            },
            {
               "name": "stdout",
               "output_type": "stream",
               "text": [
                  "test on day 3500\n"
               ]
            },
            {
               "name": "stderr",
               "output_type": "stream",
               "text": [
                  "\n",
                  "\u001b[A\n",
                  "\u001b[A\n",
                  "\u001b[A\n",
                  "100%|██████████| 100/100 [00:00<00:00, 324.95it/s]\n"
               ]
            },
            {
               "name": "stdout",
               "output_type": "stream",
               "text": [
                  "test on day 4000\n"
               ]
            },
            {
               "name": "stderr",
               "output_type": "stream",
               "text": [
                  "\n",
                  "\u001b[A\n",
                  "\u001b[A\n",
                  "100%|██████████| 100/100 [00:00<00:00, 323.11it/s]\n"
               ]
            },
            {
               "name": "stdout",
               "output_type": "stream",
               "text": [
                  "test on day 4500\n"
               ]
            },
            {
               "name": "stderr",
               "output_type": "stream",
               "text": [
                  "\n",
                  "\u001b[A\n",
                  "\u001b[A\n",
                  "\u001b[A\n",
                  "100%|██████████| 100/100 [00:00<00:00, 320.89it/s]\n"
               ]
            },
            {
               "name": "stdout",
               "output_type": "stream",
               "text": [
                  "test on day 5000\n"
               ]
            },
            {
               "name": "stderr",
               "output_type": "stream",
               "text": [
                  "\n",
                  "\u001b[A\n",
                  "\u001b[A\n",
                  "\u001b[A\n",
                  "100%|██████████| 100/100 [00:00<00:00, 327.67it/s]\n"
               ]
            },
            {
               "name": "stdout",
               "output_type": "stream",
               "text": [
                  "test on day 5500\n"
               ]
            },
            {
               "name": "stderr",
               "output_type": "stream",
               "text": [
                  "\n",
                  "\u001b[A\n",
                  "\u001b[A\n",
                  "100%|██████████| 100/100 [00:00<00:00, 328.33it/s]\n"
               ]
            },
            {
               "name": "stdout",
               "output_type": "stream",
               "text": [
                  "test on day 6000\n"
               ]
            },
            {
               "name": "stderr",
               "output_type": "stream",
               "text": [
                  "\n",
                  "\u001b[A\n",
                  "\u001b[A\n",
                  "\u001b[A\n",
                  "100%|██████████| 100/100 [00:00<00:00, 318.73it/s]\n"
               ]
            },
            {
               "name": "stdout",
               "output_type": "stream",
               "text": [
                  "test on day 6500\n"
               ]
            },
            {
               "name": "stderr",
               "output_type": "stream",
               "text": [
                  "\n",
                  "\u001b[A\n",
                  "\u001b[A\n",
                  "100%|██████████| 100/100 [00:00<00:00, 329.17it/s]\n"
               ]
            },
            {
               "name": "stdout",
               "output_type": "stream",
               "text": [
                  "test on day 7000\n"
               ]
            },
            {
               "name": "stderr",
               "output_type": "stream",
               "text": [
                  "\n",
                  "\u001b[A\n",
                  "\u001b[A\n",
                  "\u001b[A\n",
                  "100%|██████████| 100/100 [00:00<00:00, 327.61it/s]\n"
               ]
            },
            {
               "name": "stdout",
               "output_type": "stream",
               "text": [
                  "test on day 7500\n"
               ]
            },
            {
               "name": "stderr",
               "output_type": "stream",
               "text": [
                  "\n",
                  "\u001b[A\n",
                  "\u001b[A\n",
                  "100%|██████████| 100/100 [00:00<00:00, 330.16it/s]\n"
               ]
            },
            {
               "name": "stdout",
               "output_type": "stream",
               "text": [
                  "test on day 8000\n"
               ]
            },
            {
               "name": "stderr",
               "output_type": "stream",
               "text": [
                  "\n",
                  "\u001b[A\n",
                  "\u001b[A\n",
                  "100%|██████████| 100/100 [00:00<00:00, 329.81it/s]\n"
               ]
            },
            {
               "name": "stdout",
               "output_type": "stream",
               "text": [
                  "test on day 8500\n"
               ]
            },
            {
               "name": "stderr",
               "output_type": "stream",
               "text": [
                  "\n",
                  "\u001b[A\n",
                  "\u001b[A\n",
                  "100%|██████████| 100/100 [00:00<00:00, 330.34it/s]\n"
               ]
            },
            {
               "name": "stdout",
               "output_type": "stream",
               "text": [
                  "test on day 9000\n"
               ]
            },
            {
               "name": "stderr",
               "output_type": "stream",
               "text": [
                  "\n",
                  "\u001b[A\n",
                  "\u001b[A\n",
                  "100%|██████████| 100/100 [00:00<00:00, 331.86it/s]\n"
               ]
            },
            {
               "name": "stdout",
               "output_type": "stream",
               "text": [
                  "core-periphery tests using the Lip approach\n",
                  "test on day 0\n"
               ]
            },
            {
               "name": "stderr",
               "output_type": "stream",
               "text": [
                  "\n",
                  "100%|██████████| 100/100 [00:00<00:00, 2799.88it/s]\n"
               ]
            },
            {
               "name": "stdout",
               "output_type": "stream",
               "text": [
                  "test on day 500\n"
               ]
            },
            {
               "name": "stderr",
               "output_type": "stream",
               "text": [
                  "\n",
                  "\u001b[A\n",
                  "\u001b[A\n",
                  "100%|██████████| 100/100 [00:00<00:00, 335.47it/s]\n"
               ]
            },
            {
               "name": "stdout",
               "output_type": "stream",
               "text": [
                  "test on day 1000\n"
               ]
            },
            {
               "name": "stderr",
               "output_type": "stream",
               "text": [
                  "\n",
                  "\u001b[A\n",
                  "\u001b[A\n",
                  "\u001b[A\n",
                  "100%|██████████| 100/100 [00:00<00:00, 318.90it/s]\n"
               ]
            },
            {
               "name": "stdout",
               "output_type": "stream",
               "text": [
                  "test on day 1500\n"
               ]
            },
            {
               "name": "stderr",
               "output_type": "stream",
               "text": [
                  "\n",
                  "\u001b[A\n",
                  "\u001b[A\n",
                  "\u001b[A\n",
                  "100%|██████████| 100/100 [00:00<00:00, 324.14it/s]\n"
               ]
            },
            {
               "name": "stdout",
               "output_type": "stream",
               "text": [
                  "test on day 2000\n"
               ]
            },
            {
               "name": "stderr",
               "output_type": "stream",
               "text": [
                  "\n",
                  "\u001b[A\n",
                  "\u001b[A\n",
                  "100%|██████████| 100/100 [00:00<00:00, 328.09it/s]\n"
               ]
            },
            {
               "name": "stdout",
               "output_type": "stream",
               "text": [
                  "test on day 2500\n"
               ]
            },
            {
               "name": "stderr",
               "output_type": "stream",
               "text": [
                  "\n",
                  "\u001b[A\n",
                  "\u001b[A\n",
                  "100%|██████████| 100/100 [00:00<00:00, 328.81it/s]\n"
               ]
            },
            {
               "name": "stdout",
               "output_type": "stream",
               "text": [
                  "test on day 3000\n"
               ]
            },
            {
               "name": "stderr",
               "output_type": "stream",
               "text": [
                  "\n",
                  "\u001b[A\n",
                  "\u001b[A\n",
                  "\u001b[A\n",
                  "100%|██████████| 100/100 [00:00<00:00, 325.90it/s]\n"
               ]
            },
            {
               "name": "stdout",
               "output_type": "stream",
               "text": [
                  "test on day 3500\n"
               ]
            },
            {
               "name": "stderr",
               "output_type": "stream",
               "text": [
                  "\n",
                  "\u001b[A\n",
                  "\u001b[A\n",
                  "100%|██████████| 100/100 [00:00<00:00, 329.53it/s]\n"
               ]
            },
            {
               "name": "stdout",
               "output_type": "stream",
               "text": [
                  "test on day 4000\n"
               ]
            },
            {
               "name": "stderr",
               "output_type": "stream",
               "text": [
                  "\n",
                  "\u001b[A\n",
                  "\u001b[A\n",
                  "100%|██████████| 100/100 [00:00<00:00, 329.19it/s]\n"
               ]
            },
            {
               "name": "stdout",
               "output_type": "stream",
               "text": [
                  "test on day 4500\n"
               ]
            },
            {
               "name": "stderr",
               "output_type": "stream",
               "text": [
                  "\n",
                  "\u001b[A\n",
                  "\u001b[A\n",
                  "100%|██████████| 100/100 [00:00<00:00, 331.06it/s]\n"
               ]
            },
            {
               "name": "stdout",
               "output_type": "stream",
               "text": [
                  "test on day 5000\n"
               ]
            },
            {
               "name": "stderr",
               "output_type": "stream",
               "text": [
                  "\n",
                  "\u001b[A\n",
                  "\u001b[A\n",
                  "100%|██████████| 100/100 [00:00<00:00, 329.16it/s]\n"
               ]
            },
            {
               "name": "stdout",
               "output_type": "stream",
               "text": [
                  "test on day 5500\n"
               ]
            },
            {
               "name": "stderr",
               "output_type": "stream",
               "text": [
                  "\n",
                  "\u001b[A\n",
                  "\u001b[A\n",
                  "100%|██████████| 100/100 [00:00<00:00, 328.12it/s]\n"
               ]
            },
            {
               "name": "stdout",
               "output_type": "stream",
               "text": [
                  "test on day 6000\n"
               ]
            },
            {
               "name": "stderr",
               "output_type": "stream",
               "text": [
                  "\n",
                  "\u001b[A\n",
                  "\u001b[A\n",
                  "\u001b[A\n",
                  "100%|██████████| 100/100 [00:00<00:00, 327.53it/s]\n"
               ]
            },
            {
               "name": "stdout",
               "output_type": "stream",
               "text": [
                  "test on day 6500\n"
               ]
            },
            {
               "name": "stderr",
               "output_type": "stream",
               "text": [
                  "\n",
                  "\u001b[A\n",
                  "\u001b[A\n",
                  "100%|██████████| 100/100 [00:00<00:00, 326.82it/s]\n"
               ]
            },
            {
               "name": "stdout",
               "output_type": "stream",
               "text": [
                  "test on day 7000\n"
               ]
            },
            {
               "name": "stderr",
               "output_type": "stream",
               "text": [
                  "\n",
                  "\u001b[A\n",
                  "\u001b[A\n",
                  "\u001b[A\n",
                  "100%|██████████| 100/100 [00:00<00:00, 328.75it/s]\n"
               ]
            },
            {
               "name": "stdout",
               "output_type": "stream",
               "text": [
                  "test on day 7500\n"
               ]
            },
            {
               "name": "stderr",
               "output_type": "stream",
               "text": [
                  "\n",
                  "\u001b[A\n",
                  "\u001b[A\n",
                  "100%|██████████| 100/100 [00:00<00:00, 329.15it/s]\n"
               ]
            },
            {
               "name": "stdout",
               "output_type": "stream",
               "text": [
                  "test on day 8000\n"
               ]
            },
            {
               "name": "stderr",
               "output_type": "stream",
               "text": [
                  "\n",
                  "\u001b[A\n",
                  "\u001b[A\n",
                  "100%|██████████| 100/100 [00:00<00:00, 329.76it/s]\n"
               ]
            },
            {
               "name": "stdout",
               "output_type": "stream",
               "text": [
                  "test on day 8500\n"
               ]
            },
            {
               "name": "stderr",
               "output_type": "stream",
               "text": [
                  "\n",
                  "\u001b[A\n",
                  "\u001b[A\n",
                  "100%|██████████| 100/100 [00:00<00:00, 329.21it/s]\n"
               ]
            },
            {
               "name": "stdout",
               "output_type": "stream",
               "text": [
                  "test on day 9000\n"
               ]
            },
            {
               "name": "stderr",
               "output_type": "stream",
               "text": [
                  "\n",
                  "\u001b[A\n",
                  "\u001b[A\n",
                  "100%|██████████| 100/100 [00:00<00:00, 331.11it/s]\n"
               ]
            },
            {
               "name": "stdout",
               "output_type": "stream",
               "text": [
                  "core-periphery tests using the Lip approach\n",
                  "test on day 0\n"
               ]
            },
            {
               "name": "stderr",
               "output_type": "stream",
               "text": [
                  "\n",
                  "100%|██████████| 100/100 [00:00<00:00, 1733.79it/s]\n"
               ]
            },
            {
               "name": "stdout",
               "output_type": "stream",
               "text": [
                  "test on day 500\n"
               ]
            },
            {
               "name": "stderr",
               "output_type": "stream",
               "text": [
                  "\n",
                  "\u001b[A\n",
                  "\u001b[A\n",
                  "100%|██████████| 100/100 [00:00<00:00, 337.46it/s]\n"
               ]
            },
            {
               "name": "stdout",
               "output_type": "stream",
               "text": [
                  "test on day 1000\n"
               ]
            },
            {
               "name": "stderr",
               "output_type": "stream",
               "text": [
                  "\n",
                  "\u001b[A\n",
                  "\u001b[A\n",
                  "\u001b[A\n",
                  "100%|██████████| 100/100 [00:00<00:00, 319.89it/s]\n"
               ]
            },
            {
               "name": "stdout",
               "output_type": "stream",
               "text": [
                  "test on day 1500\n"
               ]
            },
            {
               "name": "stderr",
               "output_type": "stream",
               "text": [
                  "\n",
                  "\u001b[A\n",
                  "\u001b[A\n",
                  "\u001b[A\n",
                  "100%|██████████| 100/100 [00:00<00:00, 322.24it/s]\n"
               ]
            },
            {
               "name": "stdout",
               "output_type": "stream",
               "text": [
                  "test on day 2000\n"
               ]
            },
            {
               "name": "stderr",
               "output_type": "stream",
               "text": [
                  "\n",
                  "\u001b[A\n",
                  "\u001b[A\n",
                  "\u001b[A\n",
                  "100%|██████████| 100/100 [00:00<00:00, 325.32it/s]\n"
               ]
            },
            {
               "name": "stdout",
               "output_type": "stream",
               "text": [
                  "test on day 2500\n"
               ]
            },
            {
               "name": "stderr",
               "output_type": "stream",
               "text": [
                  "\n",
                  "\u001b[A\n",
                  "\u001b[A\n",
                  "100%|██████████| 100/100 [00:00<00:00, 326.12it/s]\n"
               ]
            },
            {
               "name": "stdout",
               "output_type": "stream",
               "text": [
                  "test on day 3000\n"
               ]
            },
            {
               "name": "stderr",
               "output_type": "stream",
               "text": [
                  "\n",
                  "\u001b[A\n",
                  "\u001b[A\n",
                  "100%|██████████| 100/100 [00:00<00:00, 330.78it/s]\n"
               ]
            },
            {
               "name": "stdout",
               "output_type": "stream",
               "text": [
                  "test on day 3500\n"
               ]
            },
            {
               "name": "stderr",
               "output_type": "stream",
               "text": [
                  "\n",
                  "\u001b[A\n",
                  "\u001b[A\n",
                  "100%|██████████| 100/100 [00:00<00:00, 330.00it/s]\n"
               ]
            },
            {
               "name": "stdout",
               "output_type": "stream",
               "text": [
                  "test on day 4000\n"
               ]
            },
            {
               "name": "stderr",
               "output_type": "stream",
               "text": [
                  "\n",
                  "\u001b[A\n",
                  "\u001b[A\n",
                  "100%|██████████| 100/100 [00:00<00:00, 330.40it/s]\n"
               ]
            },
            {
               "name": "stdout",
               "output_type": "stream",
               "text": [
                  "test on day 4500\n"
               ]
            },
            {
               "name": "stderr",
               "output_type": "stream",
               "text": [
                  "\n",
                  "\u001b[A\n",
                  "\u001b[A\n",
                  "100%|██████████| 100/100 [00:00<00:00, 329.13it/s]\n"
               ]
            },
            {
               "name": "stdout",
               "output_type": "stream",
               "text": [
                  "test on day 5000\n"
               ]
            },
            {
               "name": "stderr",
               "output_type": "stream",
               "text": [
                  "\n",
                  "\u001b[A\n",
                  "\u001b[A\n",
                  "100%|██████████| 100/100 [00:00<00:00, 329.83it/s]\n"
               ]
            },
            {
               "name": "stdout",
               "output_type": "stream",
               "text": [
                  "test on day 5500\n"
               ]
            },
            {
               "name": "stderr",
               "output_type": "stream",
               "text": [
                  "\n",
                  "\u001b[A\n",
                  "\u001b[A\n",
                  "\u001b[A\n",
                  "100%|██████████| 100/100 [00:00<00:00, 325.61it/s]\n"
               ]
            },
            {
               "name": "stdout",
               "output_type": "stream",
               "text": [
                  "test on day 6000\n"
               ]
            },
            {
               "name": "stderr",
               "output_type": "stream",
               "text": [
                  "\n",
                  "\u001b[A\n",
                  "\u001b[A\n",
                  "100%|██████████| 100/100 [00:00<00:00, 330.81it/s]\n"
               ]
            },
            {
               "name": "stdout",
               "output_type": "stream",
               "text": [
                  "test on day 6500\n"
               ]
            },
            {
               "name": "stderr",
               "output_type": "stream",
               "text": [
                  "\n",
                  "\u001b[A\n",
                  "\u001b[A\n",
                  "100%|██████████| 100/100 [00:00<00:00, 330.08it/s]\n"
               ]
            },
            {
               "name": "stdout",
               "output_type": "stream",
               "text": [
                  "test on day 7000\n"
               ]
            },
            {
               "name": "stderr",
               "output_type": "stream",
               "text": [
                  "\n",
                  "\u001b[A\n",
                  "\u001b[A\n",
                  "100%|██████████| 100/100 [00:00<00:00, 329.87it/s]\n"
               ]
            },
            {
               "name": "stdout",
               "output_type": "stream",
               "text": [
                  "test on day 7500\n"
               ]
            },
            {
               "name": "stderr",
               "output_type": "stream",
               "text": [
                  "\n",
                  "\u001b[A\n",
                  "\u001b[A\n",
                  "\u001b[A\n",
                  "100%|██████████| 100/100 [00:00<00:00, 328.22it/s]\n"
               ]
            },
            {
               "name": "stdout",
               "output_type": "stream",
               "text": [
                  "test on day 8000\n"
               ]
            },
            {
               "name": "stderr",
               "output_type": "stream",
               "text": [
                  "\n",
                  "\u001b[A\n",
                  "\u001b[A\n",
                  "100%|██████████| 100/100 [00:00<00:00, 330.62it/s]\n"
               ]
            },
            {
               "name": "stdout",
               "output_type": "stream",
               "text": [
                  "test on day 8500\n"
               ]
            },
            {
               "name": "stderr",
               "output_type": "stream",
               "text": [
                  "\n",
                  "\u001b[A\n",
                  "\u001b[A\n",
                  "100%|██████████| 100/100 [00:00<00:00, 330.93it/s]\n"
               ]
            },
            {
               "name": "stdout",
               "output_type": "stream",
               "text": [
                  "test on day 9000\n"
               ]
            },
            {
               "name": "stderr",
               "output_type": "stream",
               "text": [
                  "\n",
                  "\u001b[A\n",
                  "\u001b[A\n",
                  "100%|██████████| 100/100 [00:00<00:00, 327.43it/s]\n",
                  "100%|██████████| 5/5 [00:28<00:00,  5.75s/it]\n"
               ]
            },
            {
               "name": "stdout",
               "output_type": "stream",
               "text": [
                  "get transaction stats av. network\n"
               ]
            },
            {
               "name": "stderr",
               "output_type": "stream",
               "text": [
                  "100%|██████████| 9000/9000 [04:43<00:00, 31.72it/s]\n"
               ]
            },
            {
               "name": "stdout",
               "output_type": "stream",
               "text": [
                  "get transaction stats av. bank\n"
               ]
            },
            {
               "name": "stderr",
               "output_type": "stream",
               "text": [
                  "100%|██████████| 9000/9000 [00:15<00:00, 589.67it/s]\n",
                  " 47%|████▋     | 9499/19999 [3:12:30<23:10,  7.55it/s]      "
               ]
            },
            {
               "name": "stdout",
               "output_type": "stream",
               "text": [
                  "get df_rev_repo_trans\n"
               ]
            },
            {
               "name": "stderr",
               "output_type": "stream",
               "text": [
                  "100%|██████████| 50/50 [00:00<00:00, 587437.54it/s]\n"
               ]
            },
            {
               "name": "stdout",
               "output_type": "stream",
               "text": [
                  "get df_rev_repo_trans\n"
               ]
            },
            {
               "name": "stderr",
               "output_type": "stream",
               "text": [
                  "100%|██████████| 50/50 [00:00<00:00, 571431.06it/s]\n"
               ]
            },
            {
               "name": "stdout",
               "output_type": "stream",
               "text": [
                  "get arr_rev_repo_exp_adj\n"
               ]
            },
            {
               "name": "stderr",
               "output_type": "stream",
               "text": [
                  "320383it [07:30, 710.90it/s] \n"
               ]
            },
            {
               "name": "stdout",
               "output_type": "stream",
               "text": [
                  "get arr_binary_adj (numba)\n",
                  "get degree distribution\n"
               ]
            },
            {
               "name": "stderr",
               "output_type": "stream",
               "text": [
                  "100%|██████████| 9500/9500 [01:44<00:00, 90.59it/s]\n"
               ]
            },
            {
               "name": "stdout",
               "output_type": "stream",
               "text": [
                  "get jaccard\n"
               ]
            },
            {
               "name": "stderr",
               "output_type": "stream",
               "text": [
                  "100%|██████████| 9499/9499 [00:01<00:00, 4757.84it/s]\n"
               ]
            },
            {
               "name": "stdout",
               "output_type": "stream",
               "text": [
                  "get density\n"
               ]
            },
            {
               "name": "stderr",
               "output_type": "stream",
               "text": [
                  "100%|██████████| 9499/9499 [00:01<00:00, 5028.30it/s]\n"
               ]
            },
            {
               "name": "stdout",
               "output_type": "stream",
               "text": [
                  "get degree stats\n"
               ]
            },
            {
               "name": "stderr",
               "output_type": "stream",
               "text": [
                  "100%|██████████| 9499/9499 [00:05<00:00, 1699.90it/s]\n"
               ]
            },
            {
               "name": "stdout",
               "output_type": "stream",
               "text": [
                  "get exposure stats\n"
               ]
            },
            {
               "name": "stderr",
               "output_type": "stream",
               "text": [
                  "100%|██████████| 9501/9501 [00:01<00:00, 4806.65it/s]\n"
               ]
            },
            {
               "name": "stdout",
               "output_type": "stream",
               "text": [
                  "run core-periphery tests\n"
               ]
            },
            {
               "name": "stderr",
               "output_type": "stream",
               "text": []
            },
            {
               "name": "stdout",
               "output_type": "stream",
               "text": [
                  "core-periphery tests using the Lip approach\n",
                  "test on day 0\n"
               ]
            },
            {
               "name": "stderr",
               "output_type": "stream",
               "text": [
                  "\n",
                  "100%|██████████| 100/100 [00:00<00:00, 2746.62it/s]\n"
               ]
            },
            {
               "name": "stdout",
               "output_type": "stream",
               "text": [
                  "test on day 500\n"
               ]
            },
            {
               "name": "stderr",
               "output_type": "stream",
               "text": [
                  "\n",
                  "\u001b[A\n",
                  "\u001b[A\n",
                  "\u001b[A\n",
                  "100%|██████████| 100/100 [00:00<00:00, 318.60it/s]\n"
               ]
            },
            {
               "name": "stdout",
               "output_type": "stream",
               "text": [
                  "test on day 1000\n"
               ]
            },
            {
               "name": "stderr",
               "output_type": "stream",
               "text": [
                  "\n",
                  "\u001b[A\n",
                  "\u001b[A\n",
                  "\u001b[A\n",
                  "100%|██████████| 100/100 [00:00<00:00, 324.80it/s]\n"
               ]
            },
            {
               "name": "stdout",
               "output_type": "stream",
               "text": [
                  "test on day 1500\n"
               ]
            },
            {
               "name": "stderr",
               "output_type": "stream",
               "text": [
                  "\n",
                  "\u001b[A\n",
                  "\u001b[A\n",
                  "\u001b[A\n",
                  "100%|██████████| 100/100 [00:00<00:00, 325.90it/s]\n"
               ]
            },
            {
               "name": "stdout",
               "output_type": "stream",
               "text": [
                  "test on day 2000\n"
               ]
            },
            {
               "name": "stderr",
               "output_type": "stream",
               "text": [
                  "\n",
                  "\u001b[A\n",
                  "\u001b[A\n",
                  "100%|██████████| 100/100 [00:00<00:00, 326.98it/s]\n"
               ]
            },
            {
               "name": "stdout",
               "output_type": "stream",
               "text": [
                  "test on day 2500\n"
               ]
            },
            {
               "name": "stderr",
               "output_type": "stream",
               "text": [
                  "\n",
                  "\u001b[A\n",
                  "\u001b[A\n",
                  "\u001b[A\n",
                  "100%|██████████| 100/100 [00:00<00:00, 322.34it/s]\n"
               ]
            },
            {
               "name": "stdout",
               "output_type": "stream",
               "text": [
                  "test on day 3000\n"
               ]
            },
            {
               "name": "stderr",
               "output_type": "stream",
               "text": [
                  "\n",
                  "\u001b[A\n",
                  "\u001b[A\n",
                  "100%|██████████| 100/100 [00:00<00:00, 333.76it/s]\n"
               ]
            },
            {
               "name": "stdout",
               "output_type": "stream",
               "text": [
                  "test on day 3500\n"
               ]
            },
            {
               "name": "stderr",
               "output_type": "stream",
               "text": [
                  "\n",
                  "\u001b[A\n",
                  "\u001b[A\n",
                  "100%|██████████| 100/100 [00:00<00:00, 333.98it/s]\n"
               ]
            },
            {
               "name": "stdout",
               "output_type": "stream",
               "text": [
                  "test on day 4000\n"
               ]
            },
            {
               "name": "stderr",
               "output_type": "stream",
               "text": [
                  "\n",
                  "\u001b[A\n",
                  "\u001b[A\n",
                  "100%|██████████| 100/100 [00:00<00:00, 318.78it/s]\n"
               ]
            },
            {
               "name": "stdout",
               "output_type": "stream",
               "text": [
                  "test on day 4500\n"
               ]
            },
            {
               "name": "stderr",
               "output_type": "stream",
               "text": [
                  "\n",
                  "\u001b[A\n",
                  "\u001b[A\n",
                  "100%|██████████| 100/100 [00:00<00:00, 331.99it/s]\n"
               ]
            },
            {
               "name": "stdout",
               "output_type": "stream",
               "text": [
                  "test on day 5000\n"
               ]
            },
            {
               "name": "stderr",
               "output_type": "stream",
               "text": [
                  "\n",
                  "\u001b[A\n",
                  "\u001b[A\n",
                  "100%|██████████| 100/100 [00:00<00:00, 334.11it/s]\n"
               ]
            },
            {
               "name": "stdout",
               "output_type": "stream",
               "text": [
                  "test on day 5500\n"
               ]
            },
            {
               "name": "stderr",
               "output_type": "stream",
               "text": [
                  "\n",
                  "\u001b[A\n",
                  "\u001b[A\n",
                  "100%|██████████| 100/100 [00:00<00:00, 330.88it/s]\n"
               ]
            },
            {
               "name": "stdout",
               "output_type": "stream",
               "text": [
                  "test on day 6000\n"
               ]
            },
            {
               "name": "stderr",
               "output_type": "stream",
               "text": [
                  "\n",
                  "\u001b[A\n",
                  "\u001b[A\n",
                  "\u001b[A\n",
                  "100%|██████████| 100/100 [00:00<00:00, 321.93it/s]\n"
               ]
            },
            {
               "name": "stdout",
               "output_type": "stream",
               "text": [
                  "test on day 6500\n"
               ]
            },
            {
               "name": "stderr",
               "output_type": "stream",
               "text": [
                  "\n",
                  "\u001b[A\n",
                  "\u001b[A\n",
                  "\u001b[A\n",
                  "100%|██████████| 100/100 [00:00<00:00, 177.25it/s]\n"
               ]
            },
            {
               "name": "stdout",
               "output_type": "stream",
               "text": [
                  "test on day 7000\n"
               ]
            },
            {
               "name": "stderr",
               "output_type": "stream",
               "text": [
                  "\n",
                  "\u001b[A\n",
                  "\u001b[A\n",
                  "100%|██████████| 100/100 [00:00<00:00, 323.69it/s]\n"
               ]
            },
            {
               "name": "stdout",
               "output_type": "stream",
               "text": [
                  "test on day 7500\n"
               ]
            },
            {
               "name": "stderr",
               "output_type": "stream",
               "text": [
                  "\n",
                  "\u001b[A\n",
                  "\u001b[A\n",
                  "\u001b[A\n",
                  "100%|██████████| 100/100 [00:00<00:00, 322.70it/s]\n"
               ]
            },
            {
               "name": "stdout",
               "output_type": "stream",
               "text": [
                  "test on day 8000\n"
               ]
            },
            {
               "name": "stderr",
               "output_type": "stream",
               "text": [
                  "\n",
                  "\u001b[A\n",
                  "\u001b[A\n",
                  "100%|██████████| 100/100 [00:00<00:00, 332.27it/s]\n"
               ]
            },
            {
               "name": "stdout",
               "output_type": "stream",
               "text": [
                  "test on day 8500\n"
               ]
            },
            {
               "name": "stderr",
               "output_type": "stream",
               "text": [
                  "\n",
                  "\u001b[A\n",
                  "\u001b[A\n",
                  "100%|██████████| 100/100 [00:00<00:00, 332.82it/s]\n"
               ]
            },
            {
               "name": "stdout",
               "output_type": "stream",
               "text": [
                  "test on day 9000\n"
               ]
            },
            {
               "name": "stderr",
               "output_type": "stream",
               "text": [
                  "\n",
                  "\u001b[A\n",
                  "\u001b[A\n",
                  "\u001b[A\n",
                  "100%|██████████| 100/100 [00:00<00:00, 314.67it/s]\n"
               ]
            },
            {
               "name": "stdout",
               "output_type": "stream",
               "text": [
                  "test on day 9500\n"
               ]
            },
            {
               "name": "stderr",
               "output_type": "stream",
               "text": [
                  "\n",
                  "\u001b[A\n",
                  "\u001b[A\n",
                  "100%|██████████| 100/100 [00:00<00:00, 331.72it/s]\n"
               ]
            },
            {
               "name": "stdout",
               "output_type": "stream",
               "text": [
                  "core-periphery tests using the Lip approach\n",
                  "test on day 0\n"
               ]
            },
            {
               "name": "stderr",
               "output_type": "stream",
               "text": [
                  "\n",
                  "100%|██████████| 100/100 [00:00<00:00, 2787.14it/s]\n"
               ]
            },
            {
               "name": "stdout",
               "output_type": "stream",
               "text": [
                  "test on day 500\n"
               ]
            },
            {
               "name": "stderr",
               "output_type": "stream",
               "text": [
                  "\n",
                  "\u001b[A\n",
                  "\u001b[A\n",
                  "100%|██████████| 100/100 [00:00<00:00, 336.87it/s]\n"
               ]
            },
            {
               "name": "stdout",
               "output_type": "stream",
               "text": [
                  "test on day 1000\n"
               ]
            },
            {
               "name": "stderr",
               "output_type": "stream",
               "text": [
                  "\n",
                  "\u001b[A\n",
                  "\u001b[A\n",
                  "\u001b[A\n",
                  "100%|██████████| 100/100 [00:00<00:00, 309.64it/s]\n"
               ]
            },
            {
               "name": "stdout",
               "output_type": "stream",
               "text": [
                  "test on day 1500\n"
               ]
            },
            {
               "name": "stderr",
               "output_type": "stream",
               "text": [
                  "\n",
                  "\u001b[A\n",
                  "\u001b[A\n",
                  "\u001b[A\n",
                  "100%|██████████| 100/100 [00:00<00:00, 318.41it/s]\n"
               ]
            },
            {
               "name": "stdout",
               "output_type": "stream",
               "text": [
                  "test on day 2000\n"
               ]
            },
            {
               "name": "stderr",
               "output_type": "stream",
               "text": [
                  "\n",
                  "\u001b[A\n",
                  "\u001b[A\n",
                  "100%|██████████| 100/100 [00:00<00:00, 329.58it/s]\n"
               ]
            },
            {
               "name": "stdout",
               "output_type": "stream",
               "text": [
                  "test on day 2500\n"
               ]
            },
            {
               "name": "stderr",
               "output_type": "stream",
               "text": [
                  "\n",
                  "\u001b[A\n",
                  "\u001b[A\n",
                  "100%|██████████| 100/100 [00:00<00:00, 328.83it/s]\n"
               ]
            },
            {
               "name": "stdout",
               "output_type": "stream",
               "text": [
                  "test on day 3000\n"
               ]
            },
            {
               "name": "stderr",
               "output_type": "stream",
               "text": [
                  "\n",
                  "\u001b[A\n",
                  "\u001b[A\n",
                  "\u001b[A\n",
                  "100%|██████████| 100/100 [00:00<00:00, 312.90it/s]\n"
               ]
            },
            {
               "name": "stdout",
               "output_type": "stream",
               "text": [
                  "test on day 3500\n"
               ]
            },
            {
               "name": "stderr",
               "output_type": "stream",
               "text": [
                  "\n",
                  "\u001b[A\n",
                  "\u001b[A\n",
                  "100%|██████████| 100/100 [00:00<00:00, 302.43it/s]\n"
               ]
            },
            {
               "name": "stdout",
               "output_type": "stream",
               "text": [
                  "test on day 4000\n"
               ]
            },
            {
               "name": "stderr",
               "output_type": "stream",
               "text": [
                  "\n",
                  "\u001b[A\n",
                  "\u001b[A\n",
                  "100%|██████████| 100/100 [00:00<00:00, 331.37it/s]\n"
               ]
            },
            {
               "name": "stdout",
               "output_type": "stream",
               "text": [
                  "test on day 4500\n"
               ]
            },
            {
               "name": "stderr",
               "output_type": "stream",
               "text": [
                  "\n",
                  "\u001b[A\n",
                  "\u001b[A\n",
                  "100%|██████████| 100/100 [00:00<00:00, 322.49it/s]\n"
               ]
            },
            {
               "name": "stdout",
               "output_type": "stream",
               "text": [
                  "test on day 5000\n"
               ]
            },
            {
               "name": "stderr",
               "output_type": "stream",
               "text": [
                  "\n",
                  "\u001b[A\n",
                  "\u001b[A\n",
                  "\u001b[A\n",
                  "100%|██████████| 100/100 [00:00<00:00, 327.10it/s]\n"
               ]
            },
            {
               "name": "stdout",
               "output_type": "stream",
               "text": [
                  "test on day 5500\n"
               ]
            },
            {
               "name": "stderr",
               "output_type": "stream",
               "text": [
                  "\n",
                  "\u001b[A\n",
                  "\u001b[A\n",
                  "100%|██████████| 100/100 [00:00<00:00, 330.91it/s]\n"
               ]
            },
            {
               "name": "stdout",
               "output_type": "stream",
               "text": [
                  "test on day 6000\n"
               ]
            },
            {
               "name": "stderr",
               "output_type": "stream",
               "text": [
                  "\n",
                  "\u001b[A\n",
                  "\u001b[A\n",
                  "100%|██████████| 100/100 [00:00<00:00, 327.23it/s]\n"
               ]
            },
            {
               "name": "stdout",
               "output_type": "stream",
               "text": [
                  "test on day 6500\n"
               ]
            },
            {
               "name": "stderr",
               "output_type": "stream",
               "text": [
                  "\n",
                  "\u001b[A\n",
                  "\u001b[A\n",
                  "\u001b[A\n",
                  "100%|██████████| 100/100 [00:00<00:00, 319.68it/s]\n"
               ]
            },
            {
               "name": "stdout",
               "output_type": "stream",
               "text": [
                  "test on day 7000\n"
               ]
            },
            {
               "name": "stderr",
               "output_type": "stream",
               "text": [
                  "\n",
                  "\u001b[A\n",
                  "\u001b[A\n",
                  "100%|██████████| 100/100 [00:00<00:00, 331.84it/s]\n"
               ]
            },
            {
               "name": "stdout",
               "output_type": "stream",
               "text": [
                  "test on day 7500\n"
               ]
            },
            {
               "name": "stderr",
               "output_type": "stream",
               "text": [
                  "\n",
                  "\u001b[A\n",
                  "\u001b[A\n",
                  "100%|██████████| 100/100 [00:00<00:00, 331.21it/s]\n"
               ]
            },
            {
               "name": "stdout",
               "output_type": "stream",
               "text": [
                  "test on day 8000\n"
               ]
            },
            {
               "name": "stderr",
               "output_type": "stream",
               "text": [
                  "\n",
                  "\u001b[A\n",
                  "\u001b[A\n",
                  "100%|██████████| 100/100 [00:00<00:00, 321.87it/s]\n"
               ]
            },
            {
               "name": "stdout",
               "output_type": "stream",
               "text": [
                  "test on day 8500\n"
               ]
            },
            {
               "name": "stderr",
               "output_type": "stream",
               "text": [
                  "\n",
                  "\u001b[A\n",
                  "\u001b[A\n",
                  "100%|██████████| 100/100 [00:00<00:00, 327.97it/s]\n"
               ]
            },
            {
               "name": "stdout",
               "output_type": "stream",
               "text": [
                  "test on day 9000\n"
               ]
            },
            {
               "name": "stderr",
               "output_type": "stream",
               "text": [
                  "\n",
                  "\u001b[A\n",
                  "\u001b[A\n",
                  "100%|██████████| 100/100 [00:00<00:00, 331.74it/s]\n"
               ]
            },
            {
               "name": "stdout",
               "output_type": "stream",
               "text": [
                  "test on day 9500\n"
               ]
            },
            {
               "name": "stderr",
               "output_type": "stream",
               "text": [
                  "\n",
                  "\u001b[A\n",
                  "\u001b[A\n",
                  "100%|██████████| 100/100 [00:00<00:00, 330.48it/s]\n"
               ]
            },
            {
               "name": "stdout",
               "output_type": "stream",
               "text": [
                  "core-periphery tests using the Lip approach\n",
                  "test on day 0\n"
               ]
            },
            {
               "name": "stderr",
               "output_type": "stream",
               "text": [
                  "\n",
                  "100%|██████████| 100/100 [00:00<00:00, 2710.51it/s]\n"
               ]
            },
            {
               "name": "stdout",
               "output_type": "stream",
               "text": [
                  "test on day 500\n"
               ]
            },
            {
               "name": "stderr",
               "output_type": "stream",
               "text": [
                  "\n",
                  "\u001b[A\n",
                  "\u001b[A\n",
                  "\u001b[A\n",
                  "100%|██████████| 100/100 [00:00<00:00, 307.98it/s]\n"
               ]
            },
            {
               "name": "stdout",
               "output_type": "stream",
               "text": [
                  "test on day 1000\n"
               ]
            },
            {
               "name": "stderr",
               "output_type": "stream",
               "text": [
                  "\n",
                  "\u001b[A\n",
                  "\u001b[A\n",
                  "\u001b[A\n",
                  "100%|██████████| 100/100 [00:00<00:00, 319.93it/s]\n"
               ]
            },
            {
               "name": "stdout",
               "output_type": "stream",
               "text": [
                  "test on day 1500\n"
               ]
            },
            {
               "name": "stderr",
               "output_type": "stream",
               "text": [
                  "\n",
                  "\u001b[A\n",
                  "\u001b[A\n",
                  "\u001b[A\n",
                  "100%|██████████| 100/100 [00:00<00:00, 322.39it/s]\n"
               ]
            },
            {
               "name": "stdout",
               "output_type": "stream",
               "text": [
                  "test on day 2000\n"
               ]
            },
            {
               "name": "stderr",
               "output_type": "stream",
               "text": [
                  "\n",
                  "\u001b[A\n",
                  "\u001b[A\n",
                  "\u001b[A\n",
                  "100%|██████████| 100/100 [00:00<00:00, 317.86it/s]\n"
               ]
            },
            {
               "name": "stdout",
               "output_type": "stream",
               "text": [
                  "test on day 2500\n"
               ]
            },
            {
               "name": "stderr",
               "output_type": "stream",
               "text": [
                  "\n",
                  "\u001b[A\n",
                  "\u001b[A\n",
                  "\u001b[A\n",
                  "100%|██████████| 100/100 [00:00<00:00, 325.32it/s]\n"
               ]
            },
            {
               "name": "stdout",
               "output_type": "stream",
               "text": [
                  "test on day 3000\n"
               ]
            },
            {
               "name": "stderr",
               "output_type": "stream",
               "text": [
                  "\n",
                  "\u001b[A\n",
                  "\u001b[A\n",
                  "100%|██████████| 100/100 [00:00<00:00, 328.77it/s]\n"
               ]
            },
            {
               "name": "stdout",
               "output_type": "stream",
               "text": [
                  "test on day 3500\n"
               ]
            },
            {
               "name": "stderr",
               "output_type": "stream",
               "text": [
                  "\n",
                  "\u001b[A\n",
                  "\u001b[A\n",
                  "\u001b[A\n",
                  "100%|██████████| 100/100 [00:00<00:00, 322.96it/s]\n"
               ]
            },
            {
               "name": "stdout",
               "output_type": "stream",
               "text": [
                  "test on day 4000\n"
               ]
            },
            {
               "name": "stderr",
               "output_type": "stream",
               "text": [
                  "\n",
                  "\u001b[A\n",
                  "\u001b[A\n",
                  "\u001b[A\n",
                  "100%|██████████| 100/100 [00:00<00:00, 314.54it/s]\n"
               ]
            },
            {
               "name": "stdout",
               "output_type": "stream",
               "text": [
                  "test on day 4500\n"
               ]
            },
            {
               "name": "stderr",
               "output_type": "stream",
               "text": [
                  "\n",
                  "\u001b[A\n",
                  "\u001b[A\n",
                  "\u001b[A\n",
                  "100%|██████████| 100/100 [00:00<00:00, 326.77it/s]\n"
               ]
            },
            {
               "name": "stdout",
               "output_type": "stream",
               "text": [
                  "test on day 5000\n"
               ]
            },
            {
               "name": "stderr",
               "output_type": "stream",
               "text": [
                  "\n",
                  "\u001b[A\n",
                  "\u001b[A\n",
                  "100%|██████████| 100/100 [00:00<00:00, 329.98it/s]\n"
               ]
            },
            {
               "name": "stdout",
               "output_type": "stream",
               "text": [
                  "test on day 5500\n"
               ]
            },
            {
               "name": "stderr",
               "output_type": "stream",
               "text": [
                  "\n",
                  "\u001b[A\n",
                  "\u001b[A\n",
                  "100%|██████████| 100/100 [00:00<00:00, 318.50it/s]\n"
               ]
            },
            {
               "name": "stdout",
               "output_type": "stream",
               "text": [
                  "test on day 6000\n"
               ]
            },
            {
               "name": "stderr",
               "output_type": "stream",
               "text": [
                  "\n",
                  "\u001b[A\n",
                  "\u001b[A\n",
                  "\u001b[A\n",
                  "100%|██████████| 100/100 [00:00<00:00, 325.54it/s]\n"
               ]
            },
            {
               "name": "stdout",
               "output_type": "stream",
               "text": [
                  "test on day 6500\n"
               ]
            },
            {
               "name": "stderr",
               "output_type": "stream",
               "text": [
                  "\n",
                  "\u001b[A\n",
                  "\u001b[A\n",
                  "100%|██████████| 100/100 [00:00<00:00, 330.94it/s]\n"
               ]
            },
            {
               "name": "stdout",
               "output_type": "stream",
               "text": [
                  "test on day 7000\n"
               ]
            },
            {
               "name": "stderr",
               "output_type": "stream",
               "text": [
                  "\n",
                  "\u001b[A\n",
                  "\u001b[A\n",
                  "100%|██████████| 100/100 [00:00<00:00, 327.49it/s]\n"
               ]
            },
            {
               "name": "stdout",
               "output_type": "stream",
               "text": [
                  "test on day 7500\n"
               ]
            },
            {
               "name": "stderr",
               "output_type": "stream",
               "text": [
                  "\n",
                  "\u001b[A\n",
                  "\u001b[A\n",
                  "\u001b[A\n",
                  "100%|██████████| 100/100 [00:00<00:00, 314.05it/s]\n"
               ]
            },
            {
               "name": "stdout",
               "output_type": "stream",
               "text": [
                  "test on day 8000\n"
               ]
            },
            {
               "name": "stderr",
               "output_type": "stream",
               "text": [
                  "\n",
                  "\u001b[A\n",
                  "\u001b[A\n",
                  "100%|██████████| 100/100 [00:00<00:00, 330.84it/s]\n"
               ]
            },
            {
               "name": "stdout",
               "output_type": "stream",
               "text": [
                  "test on day 8500\n"
               ]
            },
            {
               "name": "stderr",
               "output_type": "stream",
               "text": [
                  "\n",
                  "\u001b[A\n",
                  "\u001b[A\n",
                  "100%|██████████| 100/100 [00:00<00:00, 331.04it/s]\n"
               ]
            },
            {
               "name": "stdout",
               "output_type": "stream",
               "text": [
                  "test on day 9000\n"
               ]
            },
            {
               "name": "stderr",
               "output_type": "stream",
               "text": [
                  "\n",
                  "\u001b[A\n",
                  "\u001b[A\n",
                  "\u001b[A\n",
                  "100%|██████████| 100/100 [00:00<00:00, 317.73it/s]\n"
               ]
            },
            {
               "name": "stdout",
               "output_type": "stream",
               "text": [
                  "test on day 9500\n"
               ]
            },
            {
               "name": "stderr",
               "output_type": "stream",
               "text": [
                  "\n",
                  "\u001b[A\n",
                  "\u001b[A\n",
                  "100%|██████████| 100/100 [00:00<00:00, 328.59it/s]\n"
               ]
            },
            {
               "name": "stdout",
               "output_type": "stream",
               "text": [
                  "core-periphery tests using the Lip approach\n",
                  "test on day 0\n"
               ]
            },
            {
               "name": "stderr",
               "output_type": "stream",
               "text": [
                  "\n",
                  "100%|██████████| 100/100 [00:00<00:00, 2805.09it/s]\n"
               ]
            },
            {
               "name": "stdout",
               "output_type": "stream",
               "text": [
                  "test on day 500\n"
               ]
            },
            {
               "name": "stderr",
               "output_type": "stream",
               "text": [
                  "\n",
                  "\u001b[A\n",
                  "\u001b[A\n",
                  "100%|██████████| 100/100 [00:00<00:00, 336.84it/s]\n"
               ]
            },
            {
               "name": "stdout",
               "output_type": "stream",
               "text": [
                  "test on day 1000\n"
               ]
            },
            {
               "name": "stderr",
               "output_type": "stream",
               "text": [
                  "\n",
                  "\u001b[A\n",
                  "\u001b[A\n",
                  "\u001b[A\n",
                  "100%|██████████| 100/100 [00:00<00:00, 316.27it/s]\n"
               ]
            },
            {
               "name": "stdout",
               "output_type": "stream",
               "text": [
                  "test on day 1500\n"
               ]
            },
            {
               "name": "stderr",
               "output_type": "stream",
               "text": [
                  "\n",
                  "\u001b[A\n",
                  "\u001b[A\n",
                  "\u001b[A\n",
                  "100%|██████████| 100/100 [00:00<00:00, 315.64it/s]\n"
               ]
            },
            {
               "name": "stdout",
               "output_type": "stream",
               "text": [
                  "test on day 2000\n"
               ]
            },
            {
               "name": "stderr",
               "output_type": "stream",
               "text": [
                  "\n",
                  "\u001b[A\n",
                  "\u001b[A\n",
                  "100%|██████████| 100/100 [00:00<00:00, 329.59it/s]\n"
               ]
            },
            {
               "name": "stdout",
               "output_type": "stream",
               "text": [
                  "test on day 2500\n"
               ]
            },
            {
               "name": "stderr",
               "output_type": "stream",
               "text": [
                  "\n",
                  "\u001b[A\n",
                  "\u001b[A\n",
                  "100%|██████████| 100/100 [00:00<00:00, 330.22it/s]\n"
               ]
            },
            {
               "name": "stdout",
               "output_type": "stream",
               "text": [
                  "test on day 3000\n"
               ]
            },
            {
               "name": "stderr",
               "output_type": "stream",
               "text": [
                  "\n",
                  "\u001b[A\n",
                  "\u001b[A\n",
                  "\u001b[A\n",
                  "100%|██████████| 100/100 [00:00<00:00, 322.22it/s]\n"
               ]
            },
            {
               "name": "stdout",
               "output_type": "stream",
               "text": [
                  "test on day 3500\n"
               ]
            },
            {
               "name": "stderr",
               "output_type": "stream",
               "text": [
                  "\n",
                  "\u001b[A\n",
                  "\u001b[A\n",
                  "\u001b[A\n",
                  "100%|██████████| 100/100 [00:00<00:00, 328.78it/s]\n"
               ]
            },
            {
               "name": "stdout",
               "output_type": "stream",
               "text": [
                  "test on day 4000\n"
               ]
            },
            {
               "name": "stderr",
               "output_type": "stream",
               "text": [
                  "\n",
                  "\u001b[A\n",
                  "\u001b[A\n",
                  "100%|██████████| 100/100 [00:00<00:00, 332.28it/s]\n"
               ]
            },
            {
               "name": "stdout",
               "output_type": "stream",
               "text": [
                  "test on day 4500\n"
               ]
            },
            {
               "name": "stderr",
               "output_type": "stream",
               "text": [
                  "\n",
                  "\u001b[A\n",
                  "\u001b[A\n",
                  "100%|██████████| 100/100 [00:00<00:00, 329.20it/s]\n"
               ]
            },
            {
               "name": "stdout",
               "output_type": "stream",
               "text": [
                  "test on day 5000\n"
               ]
            },
            {
               "name": "stderr",
               "output_type": "stream",
               "text": [
                  "\n",
                  "\u001b[A\n",
                  "\u001b[A\n",
                  "\u001b[A\n",
                  "100%|██████████| 100/100 [00:00<00:00, 317.15it/s]\n"
               ]
            },
            {
               "name": "stdout",
               "output_type": "stream",
               "text": [
                  "test on day 5500\n"
               ]
            },
            {
               "name": "stderr",
               "output_type": "stream",
               "text": [
                  "\n",
                  "\u001b[A\n",
                  "\u001b[A\n",
                  "100%|██████████| 100/100 [00:00<00:00, 247.66it/s]\n"
               ]
            },
            {
               "name": "stdout",
               "output_type": "stream",
               "text": [
                  "test on day 6000\n"
               ]
            },
            {
               "name": "stderr",
               "output_type": "stream",
               "text": [
                  "\n",
                  "\u001b[A\n",
                  "\u001b[A\n",
                  "\u001b[A\n",
                  "\u001b[A\n",
                  "\u001b[A\n",
                  "\u001b[A\n",
                  "\u001b[A\n",
                  "\u001b[A\n",
                  "\u001b[A\n",
                  "\u001b[A\n",
                  "100%|██████████| 100/100 [00:02<00:00, 46.38it/s]\n"
               ]
            },
            {
               "name": "stdout",
               "output_type": "stream",
               "text": [
                  "test on day 6500\n"
               ]
            },
            {
               "name": "stderr",
               "output_type": "stream",
               "text": [
                  "\n",
                  "\u001b[A\n",
                  "\u001b[A\n",
                  "\u001b[A\n",
                  "\u001b[A\n",
                  "100%|██████████| 100/100 [00:03<00:00, 32.74it/s]\n"
               ]
            },
            {
               "name": "stdout",
               "output_type": "stream",
               "text": [
                  "test on day 7000\n"
               ]
            },
            {
               "name": "stderr",
               "output_type": "stream",
               "text": [
                  "\n",
                  "\u001b[A\n",
                  "\u001b[A\n",
                  "\u001b[A\n",
                  "100%|██████████| 100/100 [00:00<00:00, 323.97it/s]\n"
               ]
            },
            {
               "name": "stdout",
               "output_type": "stream",
               "text": [
                  "test on day 7500\n"
               ]
            },
            {
               "name": "stderr",
               "output_type": "stream",
               "text": [
                  "\n",
                  "\u001b[A\n",
                  "\u001b[A\n",
                  "\u001b[A\n",
                  "100%|██████████| 100/100 [00:00<00:00, 324.73it/s]\n"
               ]
            },
            {
               "name": "stdout",
               "output_type": "stream",
               "text": [
                  "test on day 8000\n"
               ]
            },
            {
               "name": "stderr",
               "output_type": "stream",
               "text": [
                  "\n",
                  "\u001b[A\n",
                  "\u001b[A\n",
                  "\u001b[A\n",
                  "100%|██████████| 100/100 [00:00<00:00, 325.11it/s]\n"
               ]
            },
            {
               "name": "stdout",
               "output_type": "stream",
               "text": [
                  "test on day 8500\n"
               ]
            },
            {
               "name": "stderr",
               "output_type": "stream",
               "text": [
                  "\n",
                  "\u001b[A\n",
                  "\u001b[A\n",
                  "\u001b[A\n",
                  "100%|██████████| 100/100 [00:00<00:00, 325.47it/s]\n"
               ]
            },
            {
               "name": "stdout",
               "output_type": "stream",
               "text": [
                  "test on day 9000\n"
               ]
            },
            {
               "name": "stderr",
               "output_type": "stream",
               "text": [
                  "\n",
                  "\u001b[A\n",
                  "\u001b[A\n",
                  "\u001b[A\n",
                  "100%|██████████| 100/100 [00:00<00:00, 325.04it/s]\n"
               ]
            },
            {
               "name": "stdout",
               "output_type": "stream",
               "text": [
                  "test on day 9500\n"
               ]
            },
            {
               "name": "stderr",
               "output_type": "stream",
               "text": [
                  "\n",
                  "\u001b[A\n",
                  "\u001b[A\n",
                  "\u001b[A\n",
                  "100%|██████████| 100/100 [00:00<00:00, 326.91it/s]\n"
               ]
            },
            {
               "name": "stdout",
               "output_type": "stream",
               "text": [
                  "core-periphery tests using the Lip approach\n",
                  "test on day 0\n"
               ]
            },
            {
               "name": "stderr",
               "output_type": "stream",
               "text": [
                  "\n",
                  "\u001b[A\n",
                  "\u001b[A\n",
                  "100%|██████████| 100/100 [00:01<00:00, 58.13it/s]\n"
               ]
            },
            {
               "name": "stdout",
               "output_type": "stream",
               "text": [
                  "test on day 500\n"
               ]
            },
            {
               "name": "stderr",
               "output_type": "stream",
               "text": [
                  "\n",
                  "\u001b[A\n",
                  "\u001b[A\n",
                  "100%|██████████| 100/100 [00:00<00:00, 334.41it/s]\n"
               ]
            },
            {
               "name": "stdout",
               "output_type": "stream",
               "text": [
                  "test on day 1000\n"
               ]
            },
            {
               "name": "stderr",
               "output_type": "stream",
               "text": [
                  "\n",
                  "\u001b[A\n",
                  "\u001b[A\n",
                  "\u001b[A\n",
                  "100%|██████████| 100/100 [00:00<00:00, 304.57it/s]\n"
               ]
            },
            {
               "name": "stdout",
               "output_type": "stream",
               "text": [
                  "test on day 1500\n"
               ]
            },
            {
               "name": "stderr",
               "output_type": "stream",
               "text": [
                  "\n",
                  "\u001b[A\n",
                  "\u001b[A\n",
                  "\u001b[A\n",
                  "100%|██████████| 100/100 [00:00<00:00, 320.03it/s]\n"
               ]
            },
            {
               "name": "stdout",
               "output_type": "stream",
               "text": [
                  "test on day 2000\n"
               ]
            },
            {
               "name": "stderr",
               "output_type": "stream",
               "text": [
                  "\n",
                  "\u001b[A\n",
                  "\u001b[A\n",
                  "\u001b[A\n",
                  "100%|██████████| 100/100 [00:00<00:00, 324.67it/s]\n"
               ]
            },
            {
               "name": "stdout",
               "output_type": "stream",
               "text": [
                  "test on day 2500\n"
               ]
            },
            {
               "name": "stderr",
               "output_type": "stream",
               "text": [
                  "\n",
                  "\u001b[A\n",
                  "\u001b[A\n",
                  "\u001b[A\n",
                  "100%|██████████| 100/100 [00:00<00:00, 316.39it/s]\n"
               ]
            },
            {
               "name": "stdout",
               "output_type": "stream",
               "text": [
                  "test on day 3000\n"
               ]
            },
            {
               "name": "stderr",
               "output_type": "stream",
               "text": [
                  "\n",
                  "\u001b[A\n",
                  "\u001b[A\n",
                  "\u001b[A\n",
                  "100%|██████████| 100/100 [00:00<00:00, 315.48it/s]\n"
               ]
            },
            {
               "name": "stdout",
               "output_type": "stream",
               "text": [
                  "test on day 3500\n"
               ]
            },
            {
               "name": "stderr",
               "output_type": "stream",
               "text": [
                  "\n",
                  "\u001b[A\n",
                  "\u001b[A\n",
                  "\u001b[A\n",
                  "100%|██████████| 100/100 [00:00<00:00, 325.72it/s]\n"
               ]
            },
            {
               "name": "stdout",
               "output_type": "stream",
               "text": [
                  "test on day 4000\n"
               ]
            },
            {
               "name": "stderr",
               "output_type": "stream",
               "text": [
                  "\n",
                  "\u001b[A\n",
                  "\u001b[A\n",
                  "\u001b[A\n",
                  "100%|██████████| 100/100 [00:00<00:00, 253.88it/s]\n"
               ]
            },
            {
               "name": "stdout",
               "output_type": "stream",
               "text": [
                  "test on day 4500\n"
               ]
            },
            {
               "name": "stderr",
               "output_type": "stream",
               "text": [
                  "\n",
                  "\u001b[A\n",
                  "\u001b[A\n",
                  "\u001b[A\n",
                  "100%|██████████| 100/100 [00:00<00:00, 324.60it/s]\n"
               ]
            },
            {
               "name": "stdout",
               "output_type": "stream",
               "text": [
                  "test on day 5000\n"
               ]
            },
            {
               "name": "stderr",
               "output_type": "stream",
               "text": [
                  "\n",
                  "\u001b[A\n",
                  "\u001b[A\n",
                  "100%|██████████| 100/100 [00:00<00:00, 330.82it/s]\n"
               ]
            },
            {
               "name": "stdout",
               "output_type": "stream",
               "text": [
                  "test on day 5500\n"
               ]
            },
            {
               "name": "stderr",
               "output_type": "stream",
               "text": [
                  "\n",
                  "\u001b[A\n",
                  "\u001b[A\n",
                  "\u001b[A\n",
                  "100%|██████████| 100/100 [00:00<00:00, 101.76it/s]\n"
               ]
            },
            {
               "name": "stdout",
               "output_type": "stream",
               "text": [
                  "test on day 6000\n"
               ]
            },
            {
               "name": "stderr",
               "output_type": "stream",
               "text": [
                  "\n",
                  "\u001b[A\n",
                  "\u001b[A\n",
                  "\u001b[A\n",
                  "\u001b[A\n",
                  "\u001b[A\n",
                  "\u001b[A\n",
                  "\u001b[A\n",
                  "100%|██████████| 100/100 [00:04<00:00, 22.00it/s]\n"
               ]
            },
            {
               "name": "stdout",
               "output_type": "stream",
               "text": [
                  "test on day 6500\n"
               ]
            },
            {
               "name": "stderr",
               "output_type": "stream",
               "text": [
                  "\n",
                  "\u001b[A\n",
                  "\u001b[A\n",
                  "\u001b[A\n",
                  "100%|██████████| 100/100 [00:00<00:00, 325.71it/s]\n"
               ]
            },
            {
               "name": "stdout",
               "output_type": "stream",
               "text": [
                  "test on day 7000\n"
               ]
            },
            {
               "name": "stderr",
               "output_type": "stream",
               "text": [
                  "\n",
                  "\u001b[A\n",
                  "\u001b[A\n",
                  "\u001b[A\n",
                  "100%|██████████| 100/100 [00:00<00:00, 312.59it/s]\n"
               ]
            },
            {
               "name": "stdout",
               "output_type": "stream",
               "text": [
                  "test on day 7500\n"
               ]
            },
            {
               "name": "stderr",
               "output_type": "stream",
               "text": [
                  "\n",
                  "\u001b[A\n",
                  "\u001b[A\n",
                  "\u001b[A\n",
                  "100%|██████████| 100/100 [00:00<00:00, 325.76it/s]\n"
               ]
            },
            {
               "name": "stdout",
               "output_type": "stream",
               "text": [
                  "test on day 8000\n"
               ]
            },
            {
               "name": "stderr",
               "output_type": "stream",
               "text": [
                  "\n",
                  "\u001b[A\n",
                  "\u001b[A\n",
                  "\u001b[A\n",
                  "100%|██████████| 100/100 [00:00<00:00, 326.61it/s]\n"
               ]
            },
            {
               "name": "stdout",
               "output_type": "stream",
               "text": [
                  "test on day 8500\n"
               ]
            },
            {
               "name": "stderr",
               "output_type": "stream",
               "text": [
                  "\n",
                  "\u001b[A\n",
                  "\u001b[A\n",
                  "\u001b[A\n",
                  "100%|██████████| 100/100 [00:00<00:00, 321.53it/s]\n"
               ]
            },
            {
               "name": "stdout",
               "output_type": "stream",
               "text": [
                  "test on day 9000\n"
               ]
            },
            {
               "name": "stderr",
               "output_type": "stream",
               "text": [
                  "\n",
                  "\u001b[A\n",
                  "\u001b[A\n",
                  "\u001b[A\n",
                  "100%|██████████| 100/100 [00:00<00:00, 321.56it/s]\n"
               ]
            },
            {
               "name": "stdout",
               "output_type": "stream",
               "text": [
                  "test on day 9500\n"
               ]
            },
            {
               "name": "stderr",
               "output_type": "stream",
               "text": [
                  "\n",
                  "\u001b[A\n",
                  "\u001b[A\n",
                  "100%|██████████| 100/100 [00:00<00:00, 332.76it/s]\n",
                  "100%|██████████| 5/5 [00:42<00:00,  8.51s/it]\n"
               ]
            },
            {
               "name": "stdout",
               "output_type": "stream",
               "text": [
                  "get transaction stats av. network\n"
               ]
            },
            {
               "name": "stderr",
               "output_type": "stream",
               "text": [
                  "100%|██████████| 9500/9500 [06:00<00:00, 26.37it/s]\n"
               ]
            },
            {
               "name": "stdout",
               "output_type": "stream",
               "text": [
                  "get transaction stats av. bank\n"
               ]
            },
            {
               "name": "stderr",
               "output_type": "stream",
               "text": [
                  "100%|██████████| 9500/9500 [00:16<00:00, 565.44it/s]\n",
                  " 50%|████▉     | 9999/19999 [3:35:13<24:07,  6.91it/s]      "
               ]
            },
            {
               "name": "stdout",
               "output_type": "stream",
               "text": [
                  "get df_rev_repo_trans\n"
               ]
            },
            {
               "name": "stderr",
               "output_type": "stream",
               "text": [
                  "100%|██████████| 50/50 [00:00<00:00, 604366.57it/s]\n"
               ]
            },
            {
               "name": "stdout",
               "output_type": "stream",
               "text": [
                  "get df_rev_repo_trans\n"
               ]
            },
            {
               "name": "stderr",
               "output_type": "stream",
               "text": [
                  "100%|██████████| 50/50 [00:00<00:00, 607870.14it/s]\n"
               ]
            },
            {
               "name": "stdout",
               "output_type": "stream",
               "text": [
                  "get arr_rev_repo_exp_adj\n"
               ]
            },
            {
               "name": "stderr",
               "output_type": "stream",
               "text": [
                  "336124it [07:55, 706.43it/s] \n"
               ]
            },
            {
               "name": "stdout",
               "output_type": "stream",
               "text": [
                  "get arr_binary_adj (numba)\n",
                  "get degree distribution\n"
               ]
            },
            {
               "name": "stderr",
               "output_type": "stream",
               "text": [
                  "100%|██████████| 10000/10000 [03:55<00:00, 42.49it/s]\n"
               ]
            },
            {
               "name": "stdout",
               "output_type": "stream",
               "text": [
                  "get jaccard\n"
               ]
            },
            {
               "name": "stderr",
               "output_type": "stream",
               "text": [
                  "100%|██████████| 9999/9999 [00:02<00:00, 4781.15it/s]\n"
               ]
            },
            {
               "name": "stdout",
               "output_type": "stream",
               "text": [
                  "get density\n"
               ]
            },
            {
               "name": "stderr",
               "output_type": "stream",
               "text": [
                  "100%|██████████| 9999/9999 [00:02<00:00, 4950.65it/s]\n"
               ]
            },
            {
               "name": "stdout",
               "output_type": "stream",
               "text": [
                  "get degree stats\n"
               ]
            },
            {
               "name": "stderr",
               "output_type": "stream",
               "text": [
                  "100%|██████████| 9999/9999 [00:05<00:00, 1718.21it/s]\n"
               ]
            },
            {
               "name": "stdout",
               "output_type": "stream",
               "text": [
                  "get exposure stats\n"
               ]
            },
            {
               "name": "stderr",
               "output_type": "stream",
               "text": [
                  "100%|██████████| 10001/10001 [00:02<00:00, 4755.55it/s]\n"
               ]
            },
            {
               "name": "stdout",
               "output_type": "stream",
               "text": [
                  "run core-periphery tests\n"
               ]
            },
            {
               "name": "stderr",
               "output_type": "stream",
               "text": []
            },
            {
               "name": "stdout",
               "output_type": "stream",
               "text": [
                  "core-periphery tests using the Lip approach\n",
                  "test on day 0\n"
               ]
            },
            {
               "name": "stderr",
               "output_type": "stream",
               "text": [
                  "\n",
                  "100%|██████████| 100/100 [00:00<00:00, 2681.06it/s]\n"
               ]
            },
            {
               "name": "stdout",
               "output_type": "stream",
               "text": [
                  "test on day 500\n"
               ]
            },
            {
               "name": "stderr",
               "output_type": "stream",
               "text": [
                  "\n",
                  "\u001b[A\n",
                  "\u001b[A\n",
                  "\u001b[A\n",
                  "100%|██████████| 100/100 [00:00<00:00, 325.73it/s]\n"
               ]
            },
            {
               "name": "stdout",
               "output_type": "stream",
               "text": [
                  "test on day 1000\n"
               ]
            },
            {
               "name": "stderr",
               "output_type": "stream",
               "text": [
                  "\n",
                  "\u001b[A\n",
                  "\u001b[A\n",
                  "\u001b[A\n",
                  "100%|██████████| 100/100 [00:00<00:00, 314.37it/s]\n"
               ]
            },
            {
               "name": "stdout",
               "output_type": "stream",
               "text": [
                  "test on day 1500\n"
               ]
            },
            {
               "name": "stderr",
               "output_type": "stream",
               "text": [
                  "\n",
                  "\u001b[A\n",
                  "\u001b[A\n",
                  "\u001b[A\n",
                  "100%|██████████| 100/100 [00:00<00:00, 316.48it/s]\n"
               ]
            },
            {
               "name": "stdout",
               "output_type": "stream",
               "text": [
                  "test on day 2000\n"
               ]
            },
            {
               "name": "stderr",
               "output_type": "stream",
               "text": [
                  "\n",
                  "\u001b[A\n",
                  "\u001b[A\n",
                  "100%|██████████| 100/100 [00:00<00:00, 330.74it/s]\n"
               ]
            },
            {
               "name": "stdout",
               "output_type": "stream",
               "text": [
                  "test on day 2500\n"
               ]
            },
            {
               "name": "stderr",
               "output_type": "stream",
               "text": [
                  "\n",
                  "\u001b[A\n",
                  "\u001b[A\n",
                  "100%|██████████| 100/100 [00:00<00:00, 328.95it/s]\n"
               ]
            },
            {
               "name": "stdout",
               "output_type": "stream",
               "text": [
                  "test on day 3000\n"
               ]
            },
            {
               "name": "stderr",
               "output_type": "stream",
               "text": [
                  "\n",
                  "\u001b[A\n",
                  "\u001b[A\n",
                  "100%|██████████| 100/100 [00:00<00:00, 328.21it/s]\n"
               ]
            },
            {
               "name": "stdout",
               "output_type": "stream",
               "text": [
                  "test on day 3500\n"
               ]
            },
            {
               "name": "stderr",
               "output_type": "stream",
               "text": [
                  "\n",
                  "\u001b[A\n",
                  "\u001b[A\n",
                  "\u001b[A\n",
                  "100%|██████████| 100/100 [00:00<00:00, 326.26it/s]\n"
               ]
            },
            {
               "name": "stdout",
               "output_type": "stream",
               "text": [
                  "test on day 4000\n"
               ]
            },
            {
               "name": "stderr",
               "output_type": "stream",
               "text": [
                  "\n",
                  "\u001b[A\n",
                  "\u001b[A\n",
                  "\u001b[A\n",
                  "100%|██████████| 100/100 [00:00<00:00, 328.33it/s]\n"
               ]
            },
            {
               "name": "stdout",
               "output_type": "stream",
               "text": [
                  "test on day 4500\n"
               ]
            },
            {
               "name": "stderr",
               "output_type": "stream",
               "text": [
                  "\n",
                  "\u001b[A\n",
                  "\u001b[A\n",
                  "\u001b[A\n",
                  "100%|██████████| 100/100 [00:00<00:00, 324.88it/s]\n"
               ]
            },
            {
               "name": "stdout",
               "output_type": "stream",
               "text": [
                  "test on day 5000\n"
               ]
            },
            {
               "name": "stderr",
               "output_type": "stream",
               "text": [
                  "\n",
                  "\u001b[A\n",
                  "\u001b[A\n",
                  "\u001b[A\n",
                  "100%|██████████| 100/100 [00:00<00:00, 319.03it/s]\n"
               ]
            },
            {
               "name": "stdout",
               "output_type": "stream",
               "text": [
                  "test on day 5500\n"
               ]
            },
            {
               "name": "stderr",
               "output_type": "stream",
               "text": [
                  "\n",
                  "\u001b[A\n",
                  "\u001b[A\n",
                  "\u001b[A\n",
                  "100%|██████████| 100/100 [00:00<00:00, 326.73it/s]\n"
               ]
            },
            {
               "name": "stdout",
               "output_type": "stream",
               "text": [
                  "test on day 6000\n"
               ]
            },
            {
               "name": "stderr",
               "output_type": "stream",
               "text": [
                  "\n",
                  "\u001b[A\n",
                  "\u001b[A\n",
                  "100%|██████████| 100/100 [00:00<00:00, 324.36it/s]\n"
               ]
            },
            {
               "name": "stdout",
               "output_type": "stream",
               "text": [
                  "test on day 6500\n"
               ]
            },
            {
               "name": "stderr",
               "output_type": "stream",
               "text": [
                  "\n",
                  "\u001b[A\n",
                  "\u001b[A\n",
                  "\u001b[A\n",
                  "100%|██████████| 100/100 [00:00<00:00, 322.22it/s]\n"
               ]
            },
            {
               "name": "stdout",
               "output_type": "stream",
               "text": [
                  "test on day 7000\n"
               ]
            },
            {
               "name": "stderr",
               "output_type": "stream",
               "text": [
                  "\n",
                  "\u001b[A\n",
                  "\u001b[A\n",
                  "\u001b[A\n",
                  "100%|██████████| 100/100 [00:00<00:00, 322.12it/s]\n"
               ]
            },
            {
               "name": "stdout",
               "output_type": "stream",
               "text": [
                  "test on day 7500\n"
               ]
            },
            {
               "name": "stderr",
               "output_type": "stream",
               "text": [
                  "\n",
                  "\u001b[A\n",
                  "\u001b[A\n",
                  "\u001b[A\n",
                  "100%|██████████| 100/100 [00:00<00:00, 235.20it/s]\n"
               ]
            },
            {
               "name": "stdout",
               "output_type": "stream",
               "text": [
                  "test on day 8000\n"
               ]
            },
            {
               "name": "stderr",
               "output_type": "stream",
               "text": [
                  "\n",
                  "\u001b[A\n",
                  "\u001b[A\n",
                  "100%|██████████| 100/100 [00:00<00:00, 329.72it/s]\n"
               ]
            },
            {
               "name": "stdout",
               "output_type": "stream",
               "text": [
                  "test on day 8500\n"
               ]
            },
            {
               "name": "stderr",
               "output_type": "stream",
               "text": [
                  "\n",
                  "\u001b[A\n",
                  "\u001b[A\n",
                  "\u001b[A\n",
                  "\u001b[A\n",
                  "\u001b[A\n",
                  "100%|██████████| 100/100 [00:00<00:00, 189.90it/s]\n"
               ]
            },
            {
               "name": "stdout",
               "output_type": "stream",
               "text": [
                  "test on day 9000\n"
               ]
            },
            {
               "name": "stderr",
               "output_type": "stream",
               "text": [
                  "\n",
                  "\u001b[A\n",
                  "\u001b[A\n",
                  "\u001b[A\n",
                  "100%|██████████| 100/100 [00:00<00:00, 149.50it/s]\n"
               ]
            },
            {
               "name": "stdout",
               "output_type": "stream",
               "text": [
                  "test on day 9500\n"
               ]
            },
            {
               "name": "stderr",
               "output_type": "stream",
               "text": [
                  "\n",
                  "\u001b[A\n",
                  "\u001b[A\n",
                  "100%|██████████| 100/100 [00:00<00:00, 332.69it/s]\n"
               ]
            },
            {
               "name": "stdout",
               "output_type": "stream",
               "text": [
                  "test on day 10000\n"
               ]
            },
            {
               "name": "stderr",
               "output_type": "stream",
               "text": [
                  "\n",
                  "\u001b[A\n",
                  "\u001b[A\n",
                  "100%|██████████| 100/100 [00:00<00:00, 332.22it/s]\n"
               ]
            },
            {
               "name": "stdout",
               "output_type": "stream",
               "text": [
                  "core-periphery tests using the Lip approach\n",
                  "test on day 0\n"
               ]
            },
            {
               "name": "stderr",
               "output_type": "stream",
               "text": [
                  "\n",
                  "100%|██████████| 100/100 [00:00<00:00, 2832.48it/s]\n"
               ]
            },
            {
               "name": "stdout",
               "output_type": "stream",
               "text": [
                  "test on day 500\n"
               ]
            },
            {
               "name": "stderr",
               "output_type": "stream",
               "text": [
                  "\n",
                  "\u001b[A\n",
                  "\u001b[A\n",
                  "\u001b[A\n",
                  "100%|██████████| 100/100 [00:00<00:00, 227.02it/s]\n"
               ]
            },
            {
               "name": "stdout",
               "output_type": "stream",
               "text": [
                  "test on day 1000\n"
               ]
            },
            {
               "name": "stderr",
               "output_type": "stream",
               "text": [
                  "\n",
                  "\u001b[A\n",
                  "\u001b[A\n",
                  "\u001b[A\n",
                  "100%|██████████| 100/100 [00:00<00:00, 239.81it/s]\n"
               ]
            },
            {
               "name": "stdout",
               "output_type": "stream",
               "text": [
                  "test on day 1500\n"
               ]
            },
            {
               "name": "stderr",
               "output_type": "stream",
               "text": [
                  "\n",
                  "\u001b[A\n",
                  "\u001b[A\n",
                  "\u001b[A\n",
                  "\u001b[A\n",
                  "100%|██████████| 100/100 [00:00<00:00, 208.90it/s]\n"
               ]
            },
            {
               "name": "stdout",
               "output_type": "stream",
               "text": [
                  "test on day 2000\n"
               ]
            },
            {
               "name": "stderr",
               "output_type": "stream",
               "text": [
                  "\n",
                  "\u001b[A\n",
                  "\u001b[A\n",
                  "\u001b[A\n",
                  "100%|██████████| 100/100 [00:00<00:00, 323.91it/s]\n"
               ]
            },
            {
               "name": "stdout",
               "output_type": "stream",
               "text": [
                  "test on day 2500\n"
               ]
            },
            {
               "name": "stderr",
               "output_type": "stream",
               "text": [
                  "\n",
                  "\u001b[A\n",
                  "\u001b[A\n",
                  "100%|██████████| 100/100 [00:00<00:00, 330.06it/s]\n"
               ]
            },
            {
               "name": "stdout",
               "output_type": "stream",
               "text": [
                  "test on day 3000\n"
               ]
            },
            {
               "name": "stderr",
               "output_type": "stream",
               "text": [
                  "\n",
                  "\u001b[A\n",
                  "\u001b[A\n",
                  "100%|██████████| 100/100 [00:00<00:00, 328.91it/s]\n"
               ]
            },
            {
               "name": "stdout",
               "output_type": "stream",
               "text": [
                  "test on day 3500\n"
               ]
            },
            {
               "name": "stderr",
               "output_type": "stream",
               "text": [
                  "\n",
                  "\u001b[A\n",
                  "\u001b[A\n",
                  "100%|██████████| 100/100 [00:00<00:00, 329.88it/s]\n"
               ]
            },
            {
               "name": "stdout",
               "output_type": "stream",
               "text": [
                  "test on day 4000\n"
               ]
            },
            {
               "name": "stderr",
               "output_type": "stream",
               "text": [
                  "\n",
                  "\u001b[A\n",
                  "\u001b[A\n",
                  "\u001b[A\n",
                  "100%|██████████| 100/100 [00:00<00:00, 315.68it/s]\n"
               ]
            },
            {
               "name": "stdout",
               "output_type": "stream",
               "text": [
                  "test on day 4500\n"
               ]
            },
            {
               "name": "stderr",
               "output_type": "stream",
               "text": [
                  "\n",
                  "\u001b[A\n",
                  "\u001b[A\n",
                  "\u001b[A\n",
                  "100%|██████████| 100/100 [00:00<00:00, 313.62it/s]\n"
               ]
            },
            {
               "name": "stdout",
               "output_type": "stream",
               "text": [
                  "test on day 5000\n"
               ]
            },
            {
               "name": "stderr",
               "output_type": "stream",
               "text": [
                  "\n",
                  "\u001b[A\n",
                  "\u001b[A\n",
                  "\u001b[A\n",
                  "100%|██████████| 100/100 [00:00<00:00, 314.90it/s]\n"
               ]
            },
            {
               "name": "stdout",
               "output_type": "stream",
               "text": [
                  "test on day 5500\n"
               ]
            },
            {
               "name": "stderr",
               "output_type": "stream",
               "text": [
                  "\n",
                  "\u001b[A\n",
                  "\u001b[A\n",
                  "\u001b[A\n",
                  "100%|██████████| 100/100 [00:00<00:00, 309.49it/s]\n"
               ]
            },
            {
               "name": "stdout",
               "output_type": "stream",
               "text": [
                  "test on day 6000\n"
               ]
            },
            {
               "name": "stderr",
               "output_type": "stream",
               "text": [
                  "\n",
                  "\u001b[A\n",
                  "\u001b[A\n",
                  "\u001b[A\n",
                  "100%|██████████| 100/100 [00:00<00:00, 326.49it/s]\n"
               ]
            },
            {
               "name": "stdout",
               "output_type": "stream",
               "text": [
                  "test on day 6500\n"
               ]
            },
            {
               "name": "stderr",
               "output_type": "stream",
               "text": [
                  "\n",
                  "\u001b[A\n",
                  "\u001b[A\n",
                  "100%|██████████| 100/100 [00:00<00:00, 329.73it/s]\n"
               ]
            },
            {
               "name": "stdout",
               "output_type": "stream",
               "text": [
                  "test on day 7000\n"
               ]
            },
            {
               "name": "stderr",
               "output_type": "stream",
               "text": [
                  "\n",
                  "\u001b[A\n",
                  "\u001b[A\n",
                  "\u001b[A\n",
                  "100%|██████████| 100/100 [00:00<00:00, 313.52it/s]\n"
               ]
            },
            {
               "name": "stdout",
               "output_type": "stream",
               "text": [
                  "test on day 7500\n"
               ]
            },
            {
               "name": "stderr",
               "output_type": "stream",
               "text": [
                  "\n",
                  "\u001b[A\n",
                  "\u001b[A\n",
                  "\u001b[A\n",
                  "100%|██████████| 100/100 [00:00<00:00, 318.68it/s]\n"
               ]
            },
            {
               "name": "stdout",
               "output_type": "stream",
               "text": [
                  "test on day 8000\n"
               ]
            },
            {
               "name": "stderr",
               "output_type": "stream",
               "text": [
                  "\n",
                  "\u001b[A\n",
                  "\u001b[A\n",
                  "100%|██████████| 100/100 [00:00<00:00, 328.66it/s]\n"
               ]
            },
            {
               "name": "stdout",
               "output_type": "stream",
               "text": [
                  "test on day 8500\n"
               ]
            },
            {
               "name": "stderr",
               "output_type": "stream",
               "text": [
                  "\n",
                  "\u001b[A\n",
                  "\u001b[A\n",
                  "\u001b[A\n",
                  "\u001b[A\n",
                  "100%|██████████| 100/100 [00:00<00:00, 155.31it/s]\n"
               ]
            },
            {
               "name": "stdout",
               "output_type": "stream",
               "text": [
                  "test on day 9000\n"
               ]
            },
            {
               "name": "stderr",
               "output_type": "stream",
               "text": [
                  "\n",
                  "\u001b[A\n",
                  "\u001b[A\n",
                  "100%|██████████| 100/100 [00:00<00:00, 325.70it/s]\n"
               ]
            },
            {
               "name": "stdout",
               "output_type": "stream",
               "text": [
                  "test on day 9500\n"
               ]
            },
            {
               "name": "stderr",
               "output_type": "stream",
               "text": [
                  "\n",
                  "\u001b[A\n",
                  "\u001b[A\n",
                  "\u001b[A\n",
                  "\u001b[A\n",
                  "100%|██████████| 100/100 [00:00<00:00, 230.22it/s]\n"
               ]
            },
            {
               "name": "stdout",
               "output_type": "stream",
               "text": [
                  "test on day 10000\n"
               ]
            },
            {
               "name": "stderr",
               "output_type": "stream",
               "text": [
                  "\n",
                  "\u001b[A\n",
                  "\u001b[A\n",
                  "\u001b[A\n",
                  "100%|██████████| 100/100 [00:00<00:00, 323.48it/s]\n"
               ]
            },
            {
               "name": "stdout",
               "output_type": "stream",
               "text": [
                  "core-periphery tests using the Lip approach\n",
                  "test on day 0\n"
               ]
            },
            {
               "name": "stderr",
               "output_type": "stream",
               "text": [
                  "\n",
                  "100%|██████████| 100/100 [00:00<00:00, 2700.60it/s]\n"
               ]
            },
            {
               "name": "stdout",
               "output_type": "stream",
               "text": [
                  "test on day 500\n"
               ]
            },
            {
               "name": "stderr",
               "output_type": "stream",
               "text": [
                  "\n",
                  "\u001b[A\n",
                  "\u001b[A\n",
                  "\u001b[A\n",
                  "100%|██████████| 100/100 [00:00<00:00, 193.65it/s]\n"
               ]
            },
            {
               "name": "stdout",
               "output_type": "stream",
               "text": [
                  "test on day 1000\n"
               ]
            },
            {
               "name": "stderr",
               "output_type": "stream",
               "text": [
                  "\n",
                  "\u001b[A\n",
                  "\u001b[A\n",
                  "\u001b[A\n",
                  "100%|██████████| 100/100 [00:00<00:00, 319.51it/s]\n"
               ]
            },
            {
               "name": "stdout",
               "output_type": "stream",
               "text": [
                  "test on day 1500\n"
               ]
            },
            {
               "name": "stderr",
               "output_type": "stream",
               "text": [
                  "\n",
                  "\u001b[A\n",
                  "\u001b[A\n",
                  "\u001b[A\n",
                  "100%|██████████| 100/100 [00:00<00:00, 321.96it/s]\n"
               ]
            },
            {
               "name": "stdout",
               "output_type": "stream",
               "text": [
                  "test on day 2000\n"
               ]
            },
            {
               "name": "stderr",
               "output_type": "stream",
               "text": [
                  "\n",
                  "\u001b[A\n",
                  "\u001b[A\n",
                  "\u001b[A\n",
                  "100%|██████████| 100/100 [00:00<00:00, 327.78it/s]\n"
               ]
            },
            {
               "name": "stdout",
               "output_type": "stream",
               "text": [
                  "test on day 2500\n"
               ]
            },
            {
               "name": "stderr",
               "output_type": "stream",
               "text": [
                  "\n",
                  "\u001b[A\n",
                  "\u001b[A\n",
                  "100%|██████████| 100/100 [00:00<00:00, 329.45it/s]\n"
               ]
            },
            {
               "name": "stdout",
               "output_type": "stream",
               "text": [
                  "test on day 3000\n"
               ]
            },
            {
               "name": "stderr",
               "output_type": "stream",
               "text": [
                  "\n",
                  "\u001b[A\n",
                  "\u001b[A\n",
                  "100%|██████████| 100/100 [00:00<00:00, 330.15it/s]\n"
               ]
            },
            {
               "name": "stdout",
               "output_type": "stream",
               "text": [
                  "test on day 3500\n"
               ]
            },
            {
               "name": "stderr",
               "output_type": "stream",
               "text": [
                  "\n",
                  "\u001b[A\n",
                  "\u001b[A\n",
                  "100%|██████████| 100/100 [00:00<00:00, 327.95it/s]\n"
               ]
            },
            {
               "name": "stdout",
               "output_type": "stream",
               "text": [
                  "test on day 4000\n"
               ]
            },
            {
               "name": "stderr",
               "output_type": "stream",
               "text": [
                  "\n",
                  "\u001b[A\n",
                  "\u001b[A\n",
                  "\u001b[A\n",
                  "100%|██████████| 100/100 [00:00<00:00, 327.16it/s]\n"
               ]
            },
            {
               "name": "stdout",
               "output_type": "stream",
               "text": [
                  "test on day 4500\n"
               ]
            },
            {
               "name": "stderr",
               "output_type": "stream",
               "text": [
                  "\n",
                  "\u001b[A\n",
                  "\u001b[A\n",
                  "\u001b[A\n",
                  "100%|██████████| 100/100 [00:00<00:00, 325.92it/s]\n"
               ]
            },
            {
               "name": "stdout",
               "output_type": "stream",
               "text": [
                  "test on day 5000\n"
               ]
            },
            {
               "name": "stderr",
               "output_type": "stream",
               "text": [
                  "\n",
                  "\u001b[A\n",
                  "\u001b[A\n",
                  "\u001b[A\n",
                  "100%|██████████| 100/100 [00:00<00:00, 250.82it/s]\n"
               ]
            },
            {
               "name": "stdout",
               "output_type": "stream",
               "text": [
                  "test on day 5500\n"
               ]
            },
            {
               "name": "stderr",
               "output_type": "stream",
               "text": [
                  "\n",
                  "\u001b[A\n",
                  "\u001b[A\n",
                  "\u001b[A\n",
                  "100%|██████████| 100/100 [00:00<00:00, 258.33it/s]\n"
               ]
            },
            {
               "name": "stdout",
               "output_type": "stream",
               "text": [
                  "test on day 6000\n"
               ]
            },
            {
               "name": "stderr",
               "output_type": "stream",
               "text": [
                  "\n",
                  "\u001b[A\n",
                  "\u001b[A\n",
                  "\u001b[A\n",
                  "100%|██████████| 100/100 [00:00<00:00, 256.86it/s]\n"
               ]
            },
            {
               "name": "stdout",
               "output_type": "stream",
               "text": [
                  "test on day 6500\n"
               ]
            },
            {
               "name": "stderr",
               "output_type": "stream",
               "text": [
                  "\n",
                  "\u001b[A\n",
                  "\u001b[A\n",
                  "\u001b[A\n",
                  "100%|██████████| 100/100 [00:00<00:00, 261.22it/s]\n"
               ]
            },
            {
               "name": "stdout",
               "output_type": "stream",
               "text": [
                  "test on day 7000\n"
               ]
            },
            {
               "name": "stderr",
               "output_type": "stream",
               "text": [
                  "\n",
                  "\u001b[A\n",
                  "\u001b[A\n",
                  "\u001b[A\n",
                  "100%|██████████| 100/100 [00:00<00:00, 281.62it/s]\n"
               ]
            },
            {
               "name": "stdout",
               "output_type": "stream",
               "text": [
                  "test on day 7500\n"
               ]
            },
            {
               "name": "stderr",
               "output_type": "stream",
               "text": [
                  "\n",
                  "\u001b[A\n",
                  "\u001b[A\n",
                  "100%|██████████| 100/100 [00:00<00:00, 332.27it/s]\n"
               ]
            },
            {
               "name": "stdout",
               "output_type": "stream",
               "text": [
                  "test on day 8000\n"
               ]
            },
            {
               "name": "stderr",
               "output_type": "stream",
               "text": [
                  "\n",
                  "\u001b[A\n",
                  "\u001b[A\n",
                  "100%|██████████| 100/100 [00:00<00:00, 330.56it/s]\n"
               ]
            },
            {
               "name": "stdout",
               "output_type": "stream",
               "text": [
                  "test on day 8500\n"
               ]
            },
            {
               "name": "stderr",
               "output_type": "stream",
               "text": [
                  "\n",
                  "\u001b[A\n",
                  "\u001b[A\n",
                  "\u001b[A\n",
                  "100%|██████████| 100/100 [00:00<00:00, 327.93it/s]\n"
               ]
            },
            {
               "name": "stdout",
               "output_type": "stream",
               "text": [
                  "test on day 9000\n"
               ]
            },
            {
               "name": "stderr",
               "output_type": "stream",
               "text": [
                  "\n",
                  "\u001b[A\n",
                  "\u001b[A\n",
                  "\u001b[A\n",
                  "100%|██████████| 100/100 [00:00<00:00, 327.61it/s]\n"
               ]
            },
            {
               "name": "stdout",
               "output_type": "stream",
               "text": [
                  "test on day 9500\n"
               ]
            },
            {
               "name": "stderr",
               "output_type": "stream",
               "text": [
                  "\n",
                  "\u001b[A\n",
                  "\u001b[A\n",
                  "\u001b[A\n",
                  "100%|██████████| 100/100 [00:00<00:00, 329.10it/s]\n"
               ]
            },
            {
               "name": "stdout",
               "output_type": "stream",
               "text": [
                  "test on day 10000\n"
               ]
            },
            {
               "name": "stderr",
               "output_type": "stream",
               "text": [
                  "\n",
                  "\u001b[A\n",
                  "\u001b[A\n",
                  "\u001b[A\n",
                  "100%|██████████| 100/100 [00:00<00:00, 326.84it/s]\n"
               ]
            },
            {
               "name": "stdout",
               "output_type": "stream",
               "text": [
                  "core-periphery tests using the Lip approach\n",
                  "test on day 0\n"
               ]
            },
            {
               "name": "stderr",
               "output_type": "stream",
               "text": [
                  "\n",
                  "100%|██████████| 100/100 [00:00<00:00, 2735.48it/s]\n"
               ]
            },
            {
               "name": "stdout",
               "output_type": "stream",
               "text": [
                  "test on day 500\n"
               ]
            },
            {
               "name": "stderr",
               "output_type": "stream",
               "text": [
                  "\n",
                  "\u001b[A\n",
                  "\u001b[A\n",
                  "\u001b[A\n",
                  "100%|██████████| 100/100 [00:00<00:00, 280.83it/s]\n"
               ]
            },
            {
               "name": "stdout",
               "output_type": "stream",
               "text": [
                  "test on day 1000\n"
               ]
            },
            {
               "name": "stderr",
               "output_type": "stream",
               "text": [
                  "\n",
                  "\u001b[A\n",
                  "\u001b[A\n",
                  "\u001b[A\n",
                  "100%|██████████| 100/100 [00:00<00:00, 234.65it/s]\n"
               ]
            },
            {
               "name": "stdout",
               "output_type": "stream",
               "text": [
                  "test on day 1500\n"
               ]
            },
            {
               "name": "stderr",
               "output_type": "stream",
               "text": [
                  "\n",
                  "\u001b[A\n",
                  "\u001b[A\n",
                  "\u001b[A\n",
                  "100%|██████████| 100/100 [00:00<00:00, 275.51it/s]\n"
               ]
            },
            {
               "name": "stdout",
               "output_type": "stream",
               "text": [
                  "test on day 2000\n"
               ]
            },
            {
               "name": "stderr",
               "output_type": "stream",
               "text": [
                  "\n",
                  "\u001b[A\n",
                  "\u001b[A\n",
                  "\u001b[A\n",
                  "100%|██████████| 100/100 [00:00<00:00, 271.63it/s]\n"
               ]
            },
            {
               "name": "stdout",
               "output_type": "stream",
               "text": [
                  "test on day 2500\n"
               ]
            },
            {
               "name": "stderr",
               "output_type": "stream",
               "text": [
                  "\n",
                  "\u001b[A\n",
                  "\u001b[A\n",
                  "\u001b[A\n",
                  "100%|██████████| 100/100 [00:00<00:00, 261.85it/s]\n"
               ]
            },
            {
               "name": "stdout",
               "output_type": "stream",
               "text": [
                  "test on day 3000\n"
               ]
            },
            {
               "name": "stderr",
               "output_type": "stream",
               "text": [
                  "\n",
                  "\u001b[A\n",
                  "\u001b[A\n",
                  "\u001b[A\n",
                  "100%|██████████| 100/100 [00:00<00:00, 258.81it/s]\n"
               ]
            },
            {
               "name": "stdout",
               "output_type": "stream",
               "text": [
                  "test on day 3500\n"
               ]
            },
            {
               "name": "stderr",
               "output_type": "stream",
               "text": [
                  "\n",
                  "\u001b[A\n",
                  "\u001b[A\n",
                  "\u001b[A\n",
                  "100%|██████████| 100/100 [00:00<00:00, 236.98it/s]\n"
               ]
            },
            {
               "name": "stdout",
               "output_type": "stream",
               "text": [
                  "test on day 4000\n"
               ]
            },
            {
               "name": "stderr",
               "output_type": "stream",
               "text": [
                  "\n",
                  "\u001b[A\n",
                  "\u001b[A\n",
                  "\u001b[A\n",
                  "100%|██████████| 100/100 [00:00<00:00, 250.76it/s]\n"
               ]
            },
            {
               "name": "stdout",
               "output_type": "stream",
               "text": [
                  "test on day 4500\n"
               ]
            },
            {
               "name": "stderr",
               "output_type": "stream",
               "text": [
                  "\n",
                  "\u001b[A\n",
                  "\u001b[A\n",
                  "\u001b[A\n",
                  "100%|██████████| 100/100 [00:00<00:00, 264.62it/s]\n"
               ]
            },
            {
               "name": "stdout",
               "output_type": "stream",
               "text": [
                  "test on day 5000\n"
               ]
            },
            {
               "name": "stderr",
               "output_type": "stream",
               "text": [
                  "\n",
                  "\u001b[A\n",
                  "\u001b[A\n",
                  "\u001b[A\n",
                  "100%|██████████| 100/100 [00:00<00:00, 253.23it/s]\n"
               ]
            },
            {
               "name": "stdout",
               "output_type": "stream",
               "text": [
                  "test on day 5500\n"
               ]
            },
            {
               "name": "stderr",
               "output_type": "stream",
               "text": [
                  "\n",
                  "\u001b[A\n",
                  "\u001b[A\n",
                  "\u001b[A\n",
                  "100%|██████████| 100/100 [00:00<00:00, 256.57it/s]\n"
               ]
            },
            {
               "name": "stdout",
               "output_type": "stream",
               "text": [
                  "test on day 6000\n"
               ]
            },
            {
               "name": "stderr",
               "output_type": "stream",
               "text": [
                  "\n",
                  "\u001b[A\n",
                  "\u001b[A\n",
                  "\u001b[A\n",
                  "100%|██████████| 100/100 [00:00<00:00, 271.01it/s]\n"
               ]
            },
            {
               "name": "stdout",
               "output_type": "stream",
               "text": [
                  "test on day 6500\n"
               ]
            },
            {
               "name": "stderr",
               "output_type": "stream",
               "text": [
                  "\n",
                  "\u001b[A\n",
                  "\u001b[A\n",
                  "\u001b[A\n",
                  "100%|██████████| 100/100 [00:00<00:00, 243.18it/s]\n"
               ]
            },
            {
               "name": "stdout",
               "output_type": "stream",
               "text": [
                  "test on day 7000\n"
               ]
            },
            {
               "name": "stderr",
               "output_type": "stream",
               "text": [
                  "\n",
                  "\u001b[A\n",
                  "\u001b[A\n",
                  "\u001b[A\n",
                  "100%|██████████| 100/100 [00:00<00:00, 256.29it/s]\n"
               ]
            },
            {
               "name": "stdout",
               "output_type": "stream",
               "text": [
                  "test on day 7500\n"
               ]
            },
            {
               "name": "stderr",
               "output_type": "stream",
               "text": [
                  "\n",
                  "\u001b[A\n",
                  "\u001b[A\n",
                  "\u001b[A\n",
                  "100%|██████████| 100/100 [00:00<00:00, 294.41it/s]\n"
               ]
            },
            {
               "name": "stdout",
               "output_type": "stream",
               "text": [
                  "test on day 8000\n"
               ]
            },
            {
               "name": "stderr",
               "output_type": "stream",
               "text": [
                  "\n",
                  "\u001b[A\n",
                  "\u001b[A\n",
                  "\u001b[A\n",
                  "\u001b[A\n",
                  "100%|██████████| 100/100 [00:00<00:00, 228.89it/s]\n"
               ]
            },
            {
               "name": "stdout",
               "output_type": "stream",
               "text": [
                  "test on day 8500\n"
               ]
            },
            {
               "name": "stderr",
               "output_type": "stream",
               "text": [
                  "\n",
                  "\u001b[A\n",
                  "\u001b[A\n",
                  "\u001b[A\n",
                  "100%|██████████| 100/100 [00:00<00:00, 279.62it/s]\n"
               ]
            },
            {
               "name": "stdout",
               "output_type": "stream",
               "text": [
                  "test on day 9000\n"
               ]
            },
            {
               "name": "stderr",
               "output_type": "stream",
               "text": [
                  "\n",
                  "\u001b[A\n",
                  "\u001b[A\n",
                  "\u001b[A\n",
                  "100%|██████████| 100/100 [00:00<00:00, 289.11it/s]\n"
               ]
            },
            {
               "name": "stdout",
               "output_type": "stream",
               "text": [
                  "test on day 9500\n"
               ]
            },
            {
               "name": "stderr",
               "output_type": "stream",
               "text": [
                  "\n",
                  "\u001b[A\n",
                  "\u001b[A\n",
                  "\u001b[A\n",
                  "100%|██████████| 100/100 [00:00<00:00, 248.08it/s]\n"
               ]
            },
            {
               "name": "stdout",
               "output_type": "stream",
               "text": [
                  "test on day 10000\n"
               ]
            },
            {
               "name": "stderr",
               "output_type": "stream",
               "text": [
                  "\n",
                  "\u001b[A\n",
                  "\u001b[A\n",
                  "\u001b[A\n",
                  "100%|██████████| 100/100 [00:00<00:00, 265.23it/s]\n"
               ]
            },
            {
               "name": "stdout",
               "output_type": "stream",
               "text": [
                  "core-periphery tests using the Lip approach\n",
                  "test on day 0\n"
               ]
            },
            {
               "name": "stderr",
               "output_type": "stream",
               "text": [
                  "\n",
                  "100%|██████████| 100/100 [00:00<00:00, 1743.86it/s]\n"
               ]
            },
            {
               "name": "stdout",
               "output_type": "stream",
               "text": [
                  "test on day 500\n"
               ]
            },
            {
               "name": "stderr",
               "output_type": "stream",
               "text": [
                  "\n",
                  "\u001b[A\n",
                  "\u001b[A\n",
                  "100%|██████████| 100/100 [00:00<00:00, 284.99it/s]\n"
               ]
            },
            {
               "name": "stdout",
               "output_type": "stream",
               "text": [
                  "test on day 1000\n"
               ]
            },
            {
               "name": "stderr",
               "output_type": "stream",
               "text": [
                  "\n",
                  "\u001b[A\n",
                  "\u001b[A\n",
                  "\u001b[A\n",
                  "100%|██████████| 100/100 [00:00<00:00, 249.81it/s]\n"
               ]
            },
            {
               "name": "stdout",
               "output_type": "stream",
               "text": [
                  "test on day 1500\n"
               ]
            },
            {
               "name": "stderr",
               "output_type": "stream",
               "text": [
                  "\n",
                  "\u001b[A\n",
                  "\u001b[A\n",
                  "\u001b[A\n",
                  "100%|██████████| 100/100 [00:00<00:00, 260.84it/s]\n"
               ]
            },
            {
               "name": "stdout",
               "output_type": "stream",
               "text": [
                  "test on day 2000\n"
               ]
            },
            {
               "name": "stderr",
               "output_type": "stream",
               "text": [
                  "\n",
                  "\u001b[A\n",
                  "\u001b[A\n",
                  "\u001b[A\n",
                  "100%|██████████| 100/100 [00:00<00:00, 296.31it/s]\n"
               ]
            },
            {
               "name": "stdout",
               "output_type": "stream",
               "text": [
                  "test on day 2500\n"
               ]
            },
            {
               "name": "stderr",
               "output_type": "stream",
               "text": [
                  "\n",
                  "\u001b[A\n",
                  "\u001b[A\n",
                  "\u001b[A\n",
                  "100%|██████████| 100/100 [00:00<00:00, 326.62it/s]\n"
               ]
            },
            {
               "name": "stdout",
               "output_type": "stream",
               "text": [
                  "test on day 3000\n"
               ]
            },
            {
               "name": "stderr",
               "output_type": "stream",
               "text": [
                  "\n",
                  "\u001b[A\n",
                  "\u001b[A\n",
                  "\u001b[A\n",
                  "100%|██████████| 100/100 [00:00<00:00, 266.36it/s]\n"
               ]
            },
            {
               "name": "stdout",
               "output_type": "stream",
               "text": [
                  "test on day 3500\n"
               ]
            },
            {
               "name": "stderr",
               "output_type": "stream",
               "text": [
                  "\n",
                  "\u001b[A\n",
                  "\u001b[A\n",
                  "100%|██████████| 100/100 [00:00<00:00, 330.36it/s]\n"
               ]
            },
            {
               "name": "stdout",
               "output_type": "stream",
               "text": [
                  "test on day 4000\n"
               ]
            },
            {
               "name": "stderr",
               "output_type": "stream",
               "text": [
                  "\n",
                  "\u001b[A\n",
                  "\u001b[A\n",
                  "\u001b[A\n",
                  "100%|██████████| 100/100 [00:00<00:00, 325.85it/s]\n"
               ]
            },
            {
               "name": "stdout",
               "output_type": "stream",
               "text": [
                  "test on day 4500\n"
               ]
            },
            {
               "name": "stderr",
               "output_type": "stream",
               "text": [
                  "\n",
                  "\u001b[A\n",
                  "\u001b[A\n",
                  "\u001b[A\n",
                  "100%|██████████| 100/100 [00:00<00:00, 230.67it/s]\n"
               ]
            },
            {
               "name": "stdout",
               "output_type": "stream",
               "text": [
                  "test on day 5000\n"
               ]
            },
            {
               "name": "stderr",
               "output_type": "stream",
               "text": [
                  "\n",
                  "\u001b[A\n",
                  "\u001b[A\n",
                  "\u001b[A\n",
                  "100%|██████████| 100/100 [00:00<00:00, 242.40it/s]\n"
               ]
            },
            {
               "name": "stdout",
               "output_type": "stream",
               "text": [
                  "test on day 5500\n"
               ]
            },
            {
               "name": "stderr",
               "output_type": "stream",
               "text": [
                  "\n",
                  "\u001b[A\n",
                  "\u001b[A\n",
                  "\u001b[A\n",
                  "\u001b[A\n",
                  "100%|██████████| 100/100 [00:00<00:00, 230.89it/s]\n"
               ]
            },
            {
               "name": "stdout",
               "output_type": "stream",
               "text": [
                  "test on day 6000\n"
               ]
            },
            {
               "name": "stderr",
               "output_type": "stream",
               "text": [
                  "\n",
                  "\u001b[A\n",
                  "\u001b[A\n",
                  "\u001b[A\n",
                  "\u001b[A\n",
                  "100%|██████████| 100/100 [00:00<00:00, 211.81it/s]\n"
               ]
            },
            {
               "name": "stdout",
               "output_type": "stream",
               "text": [
                  "test on day 6500\n"
               ]
            },
            {
               "name": "stderr",
               "output_type": "stream",
               "text": [
                  "\n",
                  "\u001b[A\n",
                  "\u001b[A\n",
                  "\u001b[A\n",
                  "100%|██████████| 100/100 [00:00<00:00, 225.16it/s]\n"
               ]
            },
            {
               "name": "stdout",
               "output_type": "stream",
               "text": [
                  "test on day 7000\n"
               ]
            },
            {
               "name": "stderr",
               "output_type": "stream",
               "text": [
                  "\n",
                  "\u001b[A\n",
                  "\u001b[A\n",
                  "\u001b[A\n",
                  "100%|██████████| 100/100 [00:00<00:00, 241.81it/s]\n"
               ]
            },
            {
               "name": "stdout",
               "output_type": "stream",
               "text": [
                  "test on day 7500\n"
               ]
            },
            {
               "name": "stderr",
               "output_type": "stream",
               "text": [
                  "\n",
                  "\u001b[A\n",
                  "\u001b[A\n",
                  "100%|██████████| 100/100 [00:00<00:00, 331.09it/s]\n"
               ]
            },
            {
               "name": "stdout",
               "output_type": "stream",
               "text": [
                  "test on day 8000\n"
               ]
            },
            {
               "name": "stderr",
               "output_type": "stream",
               "text": [
                  "\n",
                  "\u001b[A\n",
                  "\u001b[A\n",
                  "\u001b[A\n",
                  "100%|██████████| 100/100 [00:00<00:00, 239.54it/s]\n"
               ]
            },
            {
               "name": "stdout",
               "output_type": "stream",
               "text": [
                  "test on day 8500\n"
               ]
            },
            {
               "name": "stderr",
               "output_type": "stream",
               "text": [
                  "\n",
                  "\u001b[A\n",
                  "\u001b[A\n",
                  "\u001b[A\n",
                  "\u001b[A\n",
                  "100%|██████████| 100/100 [00:00<00:00, 200.24it/s]\n"
               ]
            },
            {
               "name": "stdout",
               "output_type": "stream",
               "text": [
                  "test on day 9000\n"
               ]
            },
            {
               "name": "stderr",
               "output_type": "stream",
               "text": [
                  "\n",
                  "\u001b[A\n",
                  "\u001b[A\n",
                  "\u001b[A\n",
                  "100%|██████████| 100/100 [00:00<00:00, 214.41it/s]\n"
               ]
            },
            {
               "name": "stdout",
               "output_type": "stream",
               "text": [
                  "test on day 9500\n"
               ]
            },
            {
               "name": "stderr",
               "output_type": "stream",
               "text": [
                  "\n",
                  "\u001b[A\n",
                  "\u001b[A\n",
                  "\u001b[A\n",
                  "\u001b[A\n",
                  "100%|██████████| 100/100 [00:00<00:00, 193.29it/s]\n"
               ]
            },
            {
               "name": "stdout",
               "output_type": "stream",
               "text": [
                  "test on day 10000\n"
               ]
            },
            {
               "name": "stderr",
               "output_type": "stream",
               "text": [
                  "\n",
                  "\u001b[A\n",
                  "\u001b[A\n",
                  "\u001b[A\n",
                  "\u001b[A\n",
                  "100%|██████████| 100/100 [00:00<00:00, 213.12it/s]\n",
                  "100%|██████████| 5/5 [00:39<00:00,  7.82s/it]\n"
               ]
            },
            {
               "name": "stdout",
               "output_type": "stream",
               "text": [
                  "get transaction stats av. network\n"
               ]
            },
            {
               "name": "stderr",
               "output_type": "stream",
               "text": [
                  "100%|██████████| 10000/10000 [05:44<00:00, 29.02it/s]\n"
               ]
            },
            {
               "name": "stdout",
               "output_type": "stream",
               "text": [
                  "get transaction stats av. bank\n"
               ]
            },
            {
               "name": "stderr",
               "output_type": "stream",
               "text": [
                  "100%|██████████| 10000/10000 [00:17<00:00, 563.70it/s]\n",
                  " 52%|█████▏    | 10499/19999 [4:00:29<24:40,  6.42it/s]      "
               ]
            },
            {
               "name": "stdout",
               "output_type": "stream",
               "text": [
                  "get df_rev_repo_trans\n"
               ]
            },
            {
               "name": "stderr",
               "output_type": "stream",
               "text": [
                  "100%|██████████| 50/50 [00:00<00:00, 710898.98it/s]\n"
               ]
            },
            {
               "name": "stdout",
               "output_type": "stream",
               "text": [
                  "get df_rev_repo_trans\n"
               ]
            },
            {
               "name": "stderr",
               "output_type": "stream",
               "text": [
                  "100%|██████████| 50/50 [00:00<00:00, 620459.17it/s]\n"
               ]
            },
            {
               "name": "stdout",
               "output_type": "stream",
               "text": [
                  "get arr_rev_repo_exp_adj\n"
               ]
            },
            {
               "name": "stderr",
               "output_type": "stream",
               "text": [
                  "352699it [09:02, 649.76it/s] \n"
               ]
            },
            {
               "name": "stdout",
               "output_type": "stream",
               "text": [
                  "get arr_binary_adj (numba)\n",
                  "get degree distribution\n"
               ]
            },
            {
               "name": "stderr",
               "output_type": "stream",
               "text": [
                  "100%|██████████| 10500/10500 [05:45<00:00, 30.41it/s]\n"
               ]
            },
            {
               "name": "stdout",
               "output_type": "stream",
               "text": [
                  "get jaccard\n"
               ]
            },
            {
               "name": "stderr",
               "output_type": "stream",
               "text": [
                  "100%|██████████| 10499/10499 [00:02<00:00, 4804.58it/s]\n"
               ]
            },
            {
               "name": "stdout",
               "output_type": "stream",
               "text": [
                  "get density\n"
               ]
            },
            {
               "name": "stderr",
               "output_type": "stream",
               "text": [
                  "100%|██████████| 10499/10499 [00:02<00:00, 5031.37it/s]\n"
               ]
            },
            {
               "name": "stdout",
               "output_type": "stream",
               "text": [
                  "get degree stats\n"
               ]
            },
            {
               "name": "stderr",
               "output_type": "stream",
               "text": [
                  "100%|██████████| 10499/10499 [00:06<00:00, 1718.33it/s]\n"
               ]
            },
            {
               "name": "stdout",
               "output_type": "stream",
               "text": [
                  "get exposure stats\n"
               ]
            },
            {
               "name": "stderr",
               "output_type": "stream",
               "text": [
                  "100%|██████████| 10501/10501 [00:02<00:00, 4834.40it/s]\n"
               ]
            },
            {
               "name": "stdout",
               "output_type": "stream",
               "text": [
                  "run core-periphery tests\n"
               ]
            },
            {
               "name": "stderr",
               "output_type": "stream",
               "text": []
            },
            {
               "name": "stdout",
               "output_type": "stream",
               "text": [
                  "core-periphery tests using the Lip approach\n",
                  "test on day 0\n"
               ]
            },
            {
               "name": "stderr",
               "output_type": "stream",
               "text": [
                  "\n",
                  "100%|██████████| 100/100 [00:00<00:00, 2870.31it/s]\n"
               ]
            },
            {
               "name": "stdout",
               "output_type": "stream",
               "text": [
                  "test on day 500\n"
               ]
            },
            {
               "name": "stderr",
               "output_type": "stream",
               "text": [
                  "\n",
                  "\u001b[A\n",
                  "\u001b[A\n",
                  "\u001b[A\n",
                  "100%|██████████| 100/100 [00:00<00:00, 296.68it/s]\n"
               ]
            },
            {
               "name": "stdout",
               "output_type": "stream",
               "text": [
                  "test on day 1000\n"
               ]
            },
            {
               "name": "stderr",
               "output_type": "stream",
               "text": [
                  "\n",
                  "\u001b[A\n",
                  "\u001b[A\n",
                  "\u001b[A\n",
                  "100%|██████████| 100/100 [00:00<00:00, 322.36it/s]\n"
               ]
            },
            {
               "name": "stdout",
               "output_type": "stream",
               "text": [
                  "test on day 1500\n"
               ]
            },
            {
               "name": "stderr",
               "output_type": "stream",
               "text": [
                  "\n",
                  "\u001b[A\n",
                  "\u001b[A\n",
                  "\u001b[A\n",
                  "100%|██████████| 100/100 [00:00<00:00, 324.28it/s]\n"
               ]
            },
            {
               "name": "stdout",
               "output_type": "stream",
               "text": [
                  "test on day 2000\n"
               ]
            },
            {
               "name": "stderr",
               "output_type": "stream",
               "text": [
                  "\n",
                  "\u001b[A\n",
                  "\u001b[A\n",
                  "100%|██████████| 100/100 [00:00<00:00, 329.89it/s]\n"
               ]
            },
            {
               "name": "stdout",
               "output_type": "stream",
               "text": [
                  "test on day 2500\n"
               ]
            },
            {
               "name": "stderr",
               "output_type": "stream",
               "text": [
                  "\n",
                  "\u001b[A\n",
                  "\u001b[A\n",
                  "100%|██████████| 100/100 [00:00<00:00, 329.90it/s]\n"
               ]
            },
            {
               "name": "stdout",
               "output_type": "stream",
               "text": [
                  "test on day 3000\n"
               ]
            },
            {
               "name": "stderr",
               "output_type": "stream",
               "text": [
                  "\n",
                  "\u001b[A\n",
                  "\u001b[A\n",
                  "100%|██████████| 100/100 [00:00<00:00, 330.04it/s]\n"
               ]
            },
            {
               "name": "stdout",
               "output_type": "stream",
               "text": [
                  "test on day 3500\n"
               ]
            },
            {
               "name": "stderr",
               "output_type": "stream",
               "text": [
                  "\n",
                  "\u001b[A\n",
                  "\u001b[A\n",
                  "100%|██████████| 100/100 [00:00<00:00, 330.21it/s]\n"
               ]
            },
            {
               "name": "stdout",
               "output_type": "stream",
               "text": [
                  "test on day 4000\n"
               ]
            },
            {
               "name": "stderr",
               "output_type": "stream",
               "text": [
                  "\n",
                  "\u001b[A\n",
                  "\u001b[A\n",
                  "100%|██████████| 100/100 [00:00<00:00, 332.30it/s]\n"
               ]
            },
            {
               "name": "stdout",
               "output_type": "stream",
               "text": [
                  "test on day 4500\n"
               ]
            },
            {
               "name": "stderr",
               "output_type": "stream",
               "text": [
                  "\n",
                  "\u001b[A\n",
                  "\u001b[A\n",
                  "100%|██████████| 100/100 [00:00<00:00, 332.50it/s]\n"
               ]
            },
            {
               "name": "stdout",
               "output_type": "stream",
               "text": [
                  "test on day 5000\n"
               ]
            },
            {
               "name": "stderr",
               "output_type": "stream",
               "text": [
                  "\n",
                  "\u001b[A\n",
                  "\u001b[A\n",
                  "100%|██████████| 100/100 [00:00<00:00, 331.86it/s]\n"
               ]
            },
            {
               "name": "stdout",
               "output_type": "stream",
               "text": [
                  "test on day 5500\n"
               ]
            },
            {
               "name": "stderr",
               "output_type": "stream",
               "text": [
                  "\n",
                  "\u001b[A\n",
                  "\u001b[A\n",
                  "100%|██████████| 100/100 [00:00<00:00, 331.43it/s]\n"
               ]
            },
            {
               "name": "stdout",
               "output_type": "stream",
               "text": [
                  "test on day 6000\n"
               ]
            },
            {
               "name": "stderr",
               "output_type": "stream",
               "text": [
                  "\n",
                  "\u001b[A\n",
                  "\u001b[A\n",
                  "100%|██████████| 100/100 [00:00<00:00, 332.11it/s]\n"
               ]
            },
            {
               "name": "stdout",
               "output_type": "stream",
               "text": [
                  "test on day 6500\n"
               ]
            },
            {
               "name": "stderr",
               "output_type": "stream",
               "text": [
                  "\n",
                  "\u001b[A\n",
                  "\u001b[A\n",
                  "100%|██████████| 100/100 [00:00<00:00, 331.40it/s]\n"
               ]
            },
            {
               "name": "stdout",
               "output_type": "stream",
               "text": [
                  "test on day 7000\n"
               ]
            },
            {
               "name": "stderr",
               "output_type": "stream",
               "text": [
                  "\n",
                  "\u001b[A\n",
                  "\u001b[A\n",
                  "100%|██████████| 100/100 [00:00<00:00, 331.94it/s]\n"
               ]
            },
            {
               "name": "stdout",
               "output_type": "stream",
               "text": [
                  "test on day 7500\n"
               ]
            },
            {
               "name": "stderr",
               "output_type": "stream",
               "text": [
                  "\n",
                  "\u001b[A\n",
                  "\u001b[A\n",
                  "100%|██████████| 100/100 [00:00<00:00, 331.89it/s]\n"
               ]
            },
            {
               "name": "stdout",
               "output_type": "stream",
               "text": [
                  "test on day 8000\n"
               ]
            },
            {
               "name": "stderr",
               "output_type": "stream",
               "text": [
                  "\n",
                  "\u001b[A\n",
                  "\u001b[A\n",
                  "100%|██████████| 100/100 [00:00<00:00, 332.24it/s]\n"
               ]
            },
            {
               "name": "stdout",
               "output_type": "stream",
               "text": [
                  "test on day 8500\n"
               ]
            },
            {
               "name": "stderr",
               "output_type": "stream",
               "text": [
                  "\n",
                  "\u001b[A\n",
                  "\u001b[A\n",
                  "100%|██████████| 100/100 [00:00<00:00, 331.69it/s]\n"
               ]
            },
            {
               "name": "stdout",
               "output_type": "stream",
               "text": [
                  "test on day 9000\n"
               ]
            },
            {
               "name": "stderr",
               "output_type": "stream",
               "text": [
                  "\n",
                  "\u001b[A\n",
                  "\u001b[A\n",
                  "100%|██████████| 100/100 [00:00<00:00, 332.48it/s]\n"
               ]
            },
            {
               "name": "stdout",
               "output_type": "stream",
               "text": [
                  "test on day 9500\n"
               ]
            },
            {
               "name": "stderr",
               "output_type": "stream",
               "text": [
                  "\n",
                  "\u001b[A\n",
                  "\u001b[A\n",
                  "100%|██████████| 100/100 [00:00<00:00, 332.68it/s]\n"
               ]
            },
            {
               "name": "stdout",
               "output_type": "stream",
               "text": [
                  "test on day 10000\n"
               ]
            },
            {
               "name": "stderr",
               "output_type": "stream",
               "text": [
                  "\n",
                  "\u001b[A\n",
                  "\u001b[A\n",
                  "100%|██████████| 100/100 [00:00<00:00, 331.56it/s]\n"
               ]
            },
            {
               "name": "stdout",
               "output_type": "stream",
               "text": [
                  "test on day 10500\n"
               ]
            },
            {
               "name": "stderr",
               "output_type": "stream",
               "text": [
                  "\n",
                  "\u001b[A\n",
                  "\u001b[A\n",
                  "100%|██████████| 100/100 [00:00<00:00, 332.83it/s]\n"
               ]
            },
            {
               "name": "stdout",
               "output_type": "stream",
               "text": [
                  "core-periphery tests using the Lip approach\n",
                  "test on day 0\n"
               ]
            },
            {
               "name": "stderr",
               "output_type": "stream",
               "text": [
                  "\n",
                  "100%|██████████| 100/100 [00:00<00:00, 2788.84it/s]\n"
               ]
            },
            {
               "name": "stdout",
               "output_type": "stream",
               "text": [
                  "test on day 500\n"
               ]
            },
            {
               "name": "stderr",
               "output_type": "stream",
               "text": [
                  "\n",
                  "\u001b[A\n",
                  "\u001b[A\n",
                  "100%|██████████| 100/100 [00:00<00:00, 336.76it/s]\n"
               ]
            },
            {
               "name": "stdout",
               "output_type": "stream",
               "text": [
                  "test on day 1000\n"
               ]
            },
            {
               "name": "stderr",
               "output_type": "stream",
               "text": [
                  "\n",
                  "\u001b[A\n",
                  "\u001b[A\n",
                  "\u001b[A\n",
                  "100%|██████████| 100/100 [00:00<00:00, 320.29it/s]\n"
               ]
            },
            {
               "name": "stdout",
               "output_type": "stream",
               "text": [
                  "test on day 1500\n"
               ]
            },
            {
               "name": "stderr",
               "output_type": "stream",
               "text": [
                  "\n",
                  "\u001b[A\n",
                  "\u001b[A\n",
                  "\u001b[A\n",
                  "100%|██████████| 100/100 [00:00<00:00, 322.83it/s]\n"
               ]
            },
            {
               "name": "stdout",
               "output_type": "stream",
               "text": [
                  "test on day 2000\n"
               ]
            },
            {
               "name": "stderr",
               "output_type": "stream",
               "text": [
                  "\n",
                  "\u001b[A\n",
                  "\u001b[A\n",
                  "\u001b[A\n",
                  "100%|██████████| 100/100 [00:00<00:00, 327.83it/s]\n"
               ]
            },
            {
               "name": "stdout",
               "output_type": "stream",
               "text": [
                  "test on day 2500\n"
               ]
            },
            {
               "name": "stderr",
               "output_type": "stream",
               "text": [
                  "\n",
                  "\u001b[A\n",
                  "\u001b[A\n",
                  "100%|██████████| 100/100 [00:00<00:00, 329.93it/s]\n"
               ]
            },
            {
               "name": "stdout",
               "output_type": "stream",
               "text": [
                  "test on day 3000\n"
               ]
            },
            {
               "name": "stderr",
               "output_type": "stream",
               "text": [
                  "\n",
                  "\u001b[A\n",
                  "\u001b[A\n",
                  "100%|██████████| 100/100 [00:00<00:00, 330.98it/s]\n"
               ]
            },
            {
               "name": "stdout",
               "output_type": "stream",
               "text": [
                  "test on day 3500\n"
               ]
            },
            {
               "name": "stderr",
               "output_type": "stream",
               "text": [
                  "\n",
                  "\u001b[A\n",
                  "\u001b[A\n",
                  "100%|██████████| 100/100 [00:00<00:00, 330.81it/s]\n"
               ]
            },
            {
               "name": "stdout",
               "output_type": "stream",
               "text": [
                  "test on day 4000\n"
               ]
            },
            {
               "name": "stderr",
               "output_type": "stream",
               "text": [
                  "\n",
                  "\u001b[A\n",
                  "\u001b[A\n",
                  "100%|██████████| 100/100 [00:00<00:00, 332.54it/s]\n"
               ]
            },
            {
               "name": "stdout",
               "output_type": "stream",
               "text": [
                  "test on day 4500\n"
               ]
            },
            {
               "name": "stderr",
               "output_type": "stream",
               "text": [
                  "\n",
                  "\u001b[A\n",
                  "\u001b[A\n",
                  "100%|██████████| 100/100 [00:00<00:00, 331.91it/s]\n"
               ]
            },
            {
               "name": "stdout",
               "output_type": "stream",
               "text": [
                  "test on day 5000\n"
               ]
            },
            {
               "name": "stderr",
               "output_type": "stream",
               "text": [
                  "\n",
                  "\u001b[A\n",
                  "\u001b[A\n",
                  "100%|██████████| 100/100 [00:00<00:00, 330.83it/s]\n"
               ]
            },
            {
               "name": "stdout",
               "output_type": "stream",
               "text": [
                  "test on day 5500\n"
               ]
            },
            {
               "name": "stderr",
               "output_type": "stream",
               "text": [
                  "\n",
                  "\u001b[A\n",
                  "\u001b[A\n",
                  "100%|██████████| 100/100 [00:00<00:00, 331.33it/s]\n"
               ]
            },
            {
               "name": "stdout",
               "output_type": "stream",
               "text": [
                  "test on day 6000\n"
               ]
            },
            {
               "name": "stderr",
               "output_type": "stream",
               "text": [
                  "\n",
                  "\u001b[A\n",
                  "\u001b[A\n",
                  "100%|██████████| 100/100 [00:00<00:00, 332.00it/s]\n"
               ]
            },
            {
               "name": "stdout",
               "output_type": "stream",
               "text": [
                  "test on day 6500\n"
               ]
            },
            {
               "name": "stderr",
               "output_type": "stream",
               "text": [
                  "\n",
                  "\u001b[A\n",
                  "\u001b[A\n",
                  "100%|██████████| 100/100 [00:00<00:00, 332.16it/s]\n"
               ]
            },
            {
               "name": "stdout",
               "output_type": "stream",
               "text": [
                  "test on day 7000\n"
               ]
            },
            {
               "name": "stderr",
               "output_type": "stream",
               "text": [
                  "\n",
                  "\u001b[A\n",
                  "\u001b[A\n",
                  "100%|██████████| 100/100 [00:00<00:00, 331.15it/s]\n"
               ]
            },
            {
               "name": "stdout",
               "output_type": "stream",
               "text": [
                  "test on day 7500\n"
               ]
            },
            {
               "name": "stderr",
               "output_type": "stream",
               "text": [
                  "\n",
                  "\u001b[A\n",
                  "\u001b[A\n",
                  "100%|██████████| 100/100 [00:00<00:00, 329.29it/s]\n"
               ]
            },
            {
               "name": "stdout",
               "output_type": "stream",
               "text": [
                  "test on day 8000\n"
               ]
            },
            {
               "name": "stderr",
               "output_type": "stream",
               "text": [
                  "\n",
                  "\u001b[A\n",
                  "\u001b[A\n",
                  "100%|██████████| 100/100 [00:00<00:00, 330.29it/s]\n"
               ]
            },
            {
               "name": "stdout",
               "output_type": "stream",
               "text": [
                  "test on day 8500\n"
               ]
            },
            {
               "name": "stderr",
               "output_type": "stream",
               "text": [
                  "\n",
                  "\u001b[A\n",
                  "\u001b[A\n",
                  "100%|██████████| 100/100 [00:00<00:00, 330.88it/s]\n"
               ]
            },
            {
               "name": "stdout",
               "output_type": "stream",
               "text": [
                  "test on day 9000\n"
               ]
            },
            {
               "name": "stderr",
               "output_type": "stream",
               "text": [
                  "\n",
                  "\u001b[A\n",
                  "\u001b[A\n",
                  "100%|██████████| 100/100 [00:00<00:00, 331.06it/s]\n"
               ]
            },
            {
               "name": "stdout",
               "output_type": "stream",
               "text": [
                  "test on day 9500\n"
               ]
            },
            {
               "name": "stderr",
               "output_type": "stream",
               "text": [
                  "\n",
                  "\u001b[A\n",
                  "\u001b[A\n",
                  "100%|██████████| 100/100 [00:00<00:00, 330.93it/s]\n"
               ]
            },
            {
               "name": "stdout",
               "output_type": "stream",
               "text": [
                  "test on day 10000\n"
               ]
            },
            {
               "name": "stderr",
               "output_type": "stream",
               "text": [
                  "\n",
                  "\u001b[A\n",
                  "\u001b[A\n",
                  "100%|██████████| 100/100 [00:00<00:00, 330.68it/s]\n"
               ]
            },
            {
               "name": "stdout",
               "output_type": "stream",
               "text": [
                  "test on day 10500\n"
               ]
            },
            {
               "name": "stderr",
               "output_type": "stream",
               "text": [
                  "\n",
                  "\u001b[A\n",
                  "\u001b[A\n",
                  "100%|██████████| 100/100 [00:00<00:00, 330.93it/s]\n"
               ]
            },
            {
               "name": "stdout",
               "output_type": "stream",
               "text": [
                  "core-periphery tests using the Lip approach\n",
                  "test on day 0\n"
               ]
            },
            {
               "name": "stderr",
               "output_type": "stream",
               "text": [
                  "\n",
                  "100%|██████████| 100/100 [00:00<00:00, 2840.44it/s]\n"
               ]
            },
            {
               "name": "stdout",
               "output_type": "stream",
               "text": [
                  "test on day 500\n"
               ]
            },
            {
               "name": "stderr",
               "output_type": "stream",
               "text": [
                  "\n",
                  "\u001b[A\n",
                  "\u001b[A\n",
                  "100%|██████████| 100/100 [00:00<00:00, 335.93it/s]\n"
               ]
            },
            {
               "name": "stdout",
               "output_type": "stream",
               "text": [
                  "test on day 1000\n"
               ]
            },
            {
               "name": "stderr",
               "output_type": "stream",
               "text": [
                  "\n",
                  "\u001b[A\n",
                  "\u001b[A\n",
                  "\u001b[A\n",
                  "100%|██████████| 100/100 [00:00<00:00, 318.97it/s]\n"
               ]
            },
            {
               "name": "stdout",
               "output_type": "stream",
               "text": [
                  "test on day 1500\n"
               ]
            },
            {
               "name": "stderr",
               "output_type": "stream",
               "text": [
                  "\n",
                  "\u001b[A\n",
                  "\u001b[A\n",
                  "\u001b[A\n",
                  "100%|██████████| 100/100 [00:00<00:00, 322.10it/s]\n"
               ]
            },
            {
               "name": "stdout",
               "output_type": "stream",
               "text": [
                  "test on day 2000\n"
               ]
            },
            {
               "name": "stderr",
               "output_type": "stream",
               "text": [
                  "\n",
                  "\u001b[A\n",
                  "\u001b[A\n",
                  "\u001b[A\n",
                  "100%|██████████| 100/100 [00:00<00:00, 326.51it/s]\n"
               ]
            },
            {
               "name": "stdout",
               "output_type": "stream",
               "text": [
                  "test on day 2500\n"
               ]
            },
            {
               "name": "stderr",
               "output_type": "stream",
               "text": [
                  "\n",
                  "\u001b[A\n",
                  "\u001b[A\n",
                  "100%|██████████| 100/100 [00:00<00:00, 328.46it/s]\n"
               ]
            },
            {
               "name": "stdout",
               "output_type": "stream",
               "text": [
                  "test on day 3000\n"
               ]
            },
            {
               "name": "stderr",
               "output_type": "stream",
               "text": [
                  "\n",
                  "\u001b[A\n",
                  "\u001b[A\n",
                  "100%|██████████| 100/100 [00:00<00:00, 328.59it/s]\n"
               ]
            },
            {
               "name": "stdout",
               "output_type": "stream",
               "text": [
                  "test on day 3500\n"
               ]
            },
            {
               "name": "stderr",
               "output_type": "stream",
               "text": [
                  "\n",
                  "\u001b[A\n",
                  "\u001b[A\n",
                  "\u001b[A\n",
                  "100%|██████████| 100/100 [00:00<00:00, 327.49it/s]\n"
               ]
            },
            {
               "name": "stdout",
               "output_type": "stream",
               "text": [
                  "test on day 4000\n"
               ]
            },
            {
               "name": "stderr",
               "output_type": "stream",
               "text": [
                  "\n",
                  "\u001b[A\n",
                  "\u001b[A\n",
                  "100%|██████████| 100/100 [00:00<00:00, 331.43it/s]\n"
               ]
            },
            {
               "name": "stdout",
               "output_type": "stream",
               "text": [
                  "test on day 4500\n"
               ]
            },
            {
               "name": "stderr",
               "output_type": "stream",
               "text": [
                  "\n",
                  "\u001b[A\n",
                  "\u001b[A\n",
                  "100%|██████████| 100/100 [00:00<00:00, 328.83it/s]\n"
               ]
            },
            {
               "name": "stdout",
               "output_type": "stream",
               "text": [
                  "test on day 5000\n"
               ]
            },
            {
               "name": "stderr",
               "output_type": "stream",
               "text": [
                  "\n",
                  "\u001b[A\n",
                  "\u001b[A\n",
                  "100%|██████████| 100/100 [00:00<00:00, 330.31it/s]\n"
               ]
            },
            {
               "name": "stdout",
               "output_type": "stream",
               "text": [
                  "test on day 5500\n"
               ]
            },
            {
               "name": "stderr",
               "output_type": "stream",
               "text": [
                  "\n",
                  "\u001b[A\n",
                  "\u001b[A\n",
                  "100%|██████████| 100/100 [00:00<00:00, 329.21it/s]\n"
               ]
            },
            {
               "name": "stdout",
               "output_type": "stream",
               "text": [
                  "test on day 6000\n"
               ]
            },
            {
               "name": "stderr",
               "output_type": "stream",
               "text": [
                  "\n",
                  "\u001b[A\n",
                  "\u001b[A\n",
                  "100%|██████████| 100/100 [00:00<00:00, 330.78it/s]\n"
               ]
            },
            {
               "name": "stdout",
               "output_type": "stream",
               "text": [
                  "test on day 6500\n"
               ]
            },
            {
               "name": "stderr",
               "output_type": "stream",
               "text": [
                  "\n",
                  "\u001b[A\n",
                  "\u001b[A\n",
                  "100%|██████████| 100/100 [00:00<00:00, 331.44it/s]\n"
               ]
            },
            {
               "name": "stdout",
               "output_type": "stream",
               "text": [
                  "test on day 7000\n"
               ]
            },
            {
               "name": "stderr",
               "output_type": "stream",
               "text": [
                  "\n",
                  "\u001b[A\n",
                  "\u001b[A\n",
                  "100%|██████████| 100/100 [00:00<00:00, 330.05it/s]\n"
               ]
            },
            {
               "name": "stdout",
               "output_type": "stream",
               "text": [
                  "test on day 7500\n"
               ]
            },
            {
               "name": "stderr",
               "output_type": "stream",
               "text": [
                  "\n",
                  "\u001b[A\n",
                  "\u001b[A\n",
                  "100%|██████████| 100/100 [00:00<00:00, 330.07it/s]\n"
               ]
            },
            {
               "name": "stdout",
               "output_type": "stream",
               "text": [
                  "test on day 8000\n"
               ]
            },
            {
               "name": "stderr",
               "output_type": "stream",
               "text": [
                  "\n",
                  "\u001b[A\n",
                  "\u001b[A\n",
                  "100%|██████████| 100/100 [00:00<00:00, 331.12it/s]\n"
               ]
            },
            {
               "name": "stdout",
               "output_type": "stream",
               "text": [
                  "test on day 8500\n"
               ]
            },
            {
               "name": "stderr",
               "output_type": "stream",
               "text": [
                  "\n",
                  "\u001b[A\n",
                  "\u001b[A\n",
                  "100%|██████████| 100/100 [00:00<00:00, 331.71it/s]\n"
               ]
            },
            {
               "name": "stdout",
               "output_type": "stream",
               "text": [
                  "test on day 9000\n"
               ]
            },
            {
               "name": "stderr",
               "output_type": "stream",
               "text": [
                  "\n",
                  "\u001b[A\n",
                  "\u001b[A\n",
                  "100%|██████████| 100/100 [00:00<00:00, 331.37it/s]\n"
               ]
            },
            {
               "name": "stdout",
               "output_type": "stream",
               "text": [
                  "test on day 9500\n"
               ]
            },
            {
               "name": "stderr",
               "output_type": "stream",
               "text": [
                  "\n",
                  "\u001b[A\n",
                  "\u001b[A\n",
                  "100%|██████████| 100/100 [00:00<00:00, 331.84it/s]\n"
               ]
            },
            {
               "name": "stdout",
               "output_type": "stream",
               "text": [
                  "test on day 10000\n"
               ]
            },
            {
               "name": "stderr",
               "output_type": "stream",
               "text": [
                  "\n",
                  "\u001b[A\n",
                  "\u001b[A\n",
                  "100%|██████████| 100/100 [00:00<00:00, 329.59it/s]\n"
               ]
            },
            {
               "name": "stdout",
               "output_type": "stream",
               "text": [
                  "test on day 10500\n"
               ]
            },
            {
               "name": "stderr",
               "output_type": "stream",
               "text": [
                  "\n",
                  "\u001b[A\n",
                  "\u001b[A\n",
                  "100%|██████████| 100/100 [00:00<00:00, 331.61it/s]\n"
               ]
            },
            {
               "name": "stdout",
               "output_type": "stream",
               "text": [
                  "core-periphery tests using the Lip approach\n",
                  "test on day 0\n"
               ]
            },
            {
               "name": "stderr",
               "output_type": "stream",
               "text": [
                  "\n",
                  "100%|██████████| 100/100 [00:00<00:00, 2841.71it/s]\n"
               ]
            },
            {
               "name": "stdout",
               "output_type": "stream",
               "text": [
                  "test on day 500\n"
               ]
            },
            {
               "name": "stderr",
               "output_type": "stream",
               "text": [
                  "\n",
                  "\u001b[A\n",
                  "\u001b[A\n",
                  "100%|██████████| 100/100 [00:00<00:00, 335.05it/s]\n"
               ]
            },
            {
               "name": "stdout",
               "output_type": "stream",
               "text": [
                  "test on day 1000\n"
               ]
            },
            {
               "name": "stderr",
               "output_type": "stream",
               "text": [
                  "\n",
                  "\u001b[A\n",
                  "\u001b[A\n",
                  "\u001b[A\n",
                  "100%|██████████| 100/100 [00:00<00:00, 320.13it/s]\n"
               ]
            },
            {
               "name": "stdout",
               "output_type": "stream",
               "text": [
                  "test on day 1500\n"
               ]
            },
            {
               "name": "stderr",
               "output_type": "stream",
               "text": [
                  "\n",
                  "\u001b[A\n",
                  "\u001b[A\n",
                  "\u001b[A\n",
                  "100%|██████████| 100/100 [00:00<00:00, 324.55it/s]\n"
               ]
            },
            {
               "name": "stdout",
               "output_type": "stream",
               "text": [
                  "test on day 2000\n"
               ]
            },
            {
               "name": "stderr",
               "output_type": "stream",
               "text": [
                  "\n",
                  "\u001b[A\n",
                  "\u001b[A\n",
                  "\u001b[A\n",
                  "100%|██████████| 100/100 [00:00<00:00, 327.55it/s]\n"
               ]
            },
            {
               "name": "stdout",
               "output_type": "stream",
               "text": [
                  "test on day 2500\n"
               ]
            },
            {
               "name": "stderr",
               "output_type": "stream",
               "text": [
                  "\n",
                  "\u001b[A\n",
                  "\u001b[A\n",
                  "100%|██████████| 100/100 [00:00<00:00, 327.84it/s]\n"
               ]
            },
            {
               "name": "stdout",
               "output_type": "stream",
               "text": [
                  "test on day 3000\n"
               ]
            },
            {
               "name": "stderr",
               "output_type": "stream",
               "text": [
                  "\n",
                  "\u001b[A\n",
                  "\u001b[A\n",
                  "100%|██████████| 100/100 [00:00<00:00, 326.53it/s]\n"
               ]
            },
            {
               "name": "stdout",
               "output_type": "stream",
               "text": [
                  "test on day 3500\n"
               ]
            },
            {
               "name": "stderr",
               "output_type": "stream",
               "text": [
                  "\n",
                  "\u001b[A\n",
                  "\u001b[A\n",
                  "100%|██████████| 100/100 [00:00<00:00, 329.85it/s]\n"
               ]
            },
            {
               "name": "stdout",
               "output_type": "stream",
               "text": [
                  "test on day 4000\n"
               ]
            },
            {
               "name": "stderr",
               "output_type": "stream",
               "text": [
                  "\n",
                  "\u001b[A\n",
                  "\u001b[A\n",
                  "100%|██████████| 100/100 [00:00<00:00, 330.18it/s]\n"
               ]
            },
            {
               "name": "stdout",
               "output_type": "stream",
               "text": [
                  "test on day 4500\n"
               ]
            },
            {
               "name": "stderr",
               "output_type": "stream",
               "text": [
                  "\n",
                  "\u001b[A\n",
                  "\u001b[A\n",
                  "100%|██████████| 100/100 [00:00<00:00, 330.09it/s]\n"
               ]
            },
            {
               "name": "stdout",
               "output_type": "stream",
               "text": [
                  "test on day 5000\n"
               ]
            },
            {
               "name": "stderr",
               "output_type": "stream",
               "text": [
                  "\n",
                  "\u001b[A\n",
                  "\u001b[A\n",
                  "100%|██████████| 100/100 [00:00<00:00, 329.02it/s]\n"
               ]
            },
            {
               "name": "stdout",
               "output_type": "stream",
               "text": [
                  "test on day 5500\n"
               ]
            },
            {
               "name": "stderr",
               "output_type": "stream",
               "text": [
                  "\n",
                  "\u001b[A\n",
                  "\u001b[A\n",
                  "\u001b[A\n",
                  "100%|██████████| 100/100 [00:00<00:00, 328.57it/s]\n"
               ]
            },
            {
               "name": "stdout",
               "output_type": "stream",
               "text": [
                  "test on day 6000\n"
               ]
            },
            {
               "name": "stderr",
               "output_type": "stream",
               "text": [
                  "\n",
                  "\u001b[A\n",
                  "\u001b[A\n",
                  "100%|██████████| 100/100 [00:00<00:00, 330.74it/s]\n"
               ]
            },
            {
               "name": "stdout",
               "output_type": "stream",
               "text": [
                  "test on day 6500\n"
               ]
            },
            {
               "name": "stderr",
               "output_type": "stream",
               "text": [
                  "\n",
                  "\u001b[A\n",
                  "\u001b[A\n",
                  "100%|██████████| 100/100 [00:00<00:00, 331.63it/s]\n"
               ]
            },
            {
               "name": "stdout",
               "output_type": "stream",
               "text": [
                  "test on day 7000\n"
               ]
            },
            {
               "name": "stderr",
               "output_type": "stream",
               "text": [
                  "\n",
                  "\u001b[A\n",
                  "\u001b[A\n",
                  "100%|██████████| 100/100 [00:00<00:00, 319.21it/s]\n"
               ]
            },
            {
               "name": "stdout",
               "output_type": "stream",
               "text": [
                  "test on day 7500\n"
               ]
            },
            {
               "name": "stderr",
               "output_type": "stream",
               "text": [
                  "\n",
                  "\u001b[A\n",
                  "\u001b[A\n",
                  "100%|██████████| 100/100 [00:00<00:00, 330.81it/s]\n"
               ]
            },
            {
               "name": "stdout",
               "output_type": "stream",
               "text": [
                  "test on day 8000\n"
               ]
            },
            {
               "name": "stderr",
               "output_type": "stream",
               "text": [
                  "\n",
                  "\u001b[A\n",
                  "\u001b[A\n",
                  "100%|██████████| 100/100 [00:00<00:00, 330.96it/s]\n"
               ]
            },
            {
               "name": "stdout",
               "output_type": "stream",
               "text": [
                  "test on day 8500\n"
               ]
            },
            {
               "name": "stderr",
               "output_type": "stream",
               "text": [
                  "\n",
                  "\u001b[A\n",
                  "\u001b[A\n",
                  "100%|██████████| 100/100 [00:00<00:00, 331.40it/s]\n"
               ]
            },
            {
               "name": "stdout",
               "output_type": "stream",
               "text": [
                  "test on day 9000\n"
               ]
            },
            {
               "name": "stderr",
               "output_type": "stream",
               "text": [
                  "\n",
                  "\u001b[A\n",
                  "\u001b[A\n",
                  "100%|██████████| 100/100 [00:00<00:00, 331.16it/s]\n"
               ]
            },
            {
               "name": "stdout",
               "output_type": "stream",
               "text": [
                  "test on day 9500\n"
               ]
            },
            {
               "name": "stderr",
               "output_type": "stream",
               "text": [
                  "\n",
                  "\u001b[A\n",
                  "\u001b[A\n",
                  "100%|██████████| 100/100 [00:00<00:00, 332.43it/s]\n"
               ]
            },
            {
               "name": "stdout",
               "output_type": "stream",
               "text": [
                  "test on day 10000\n"
               ]
            },
            {
               "name": "stderr",
               "output_type": "stream",
               "text": [
                  "\n",
                  "\u001b[A\n",
                  "\u001b[A\n",
                  "100%|██████████| 100/100 [00:00<00:00, 330.64it/s]\n"
               ]
            },
            {
               "name": "stdout",
               "output_type": "stream",
               "text": [
                  "test on day 10500\n"
               ]
            },
            {
               "name": "stderr",
               "output_type": "stream",
               "text": [
                  "\n",
                  "\u001b[A\n",
                  "\u001b[A\n",
                  "100%|██████████| 100/100 [00:00<00:00, 330.46it/s]\n"
               ]
            },
            {
               "name": "stdout",
               "output_type": "stream",
               "text": [
                  "core-periphery tests using the Lip approach\n",
                  "test on day 0\n"
               ]
            },
            {
               "name": "stderr",
               "output_type": "stream",
               "text": [
                  "\n",
                  "100%|██████████| 100/100 [00:00<00:00, 1809.69it/s]\n"
               ]
            },
            {
               "name": "stdout",
               "output_type": "stream",
               "text": [
                  "test on day 500\n"
               ]
            },
            {
               "name": "stderr",
               "output_type": "stream",
               "text": [
                  "\n",
                  "\u001b[A\n",
                  "\u001b[A\n",
                  "100%|██████████| 100/100 [00:00<00:00, 339.43it/s]\n"
               ]
            },
            {
               "name": "stdout",
               "output_type": "stream",
               "text": [
                  "test on day 1000\n"
               ]
            },
            {
               "name": "stderr",
               "output_type": "stream",
               "text": [
                  "\n",
                  "\u001b[A\n",
                  "\u001b[A\n",
                  "\u001b[A\n",
                  "100%|██████████| 100/100 [00:00<00:00, 318.73it/s]\n"
               ]
            },
            {
               "name": "stdout",
               "output_type": "stream",
               "text": [
                  "test on day 1500\n"
               ]
            },
            {
               "name": "stderr",
               "output_type": "stream",
               "text": [
                  "\n",
                  "\u001b[A\n",
                  "\u001b[A\n",
                  "\u001b[A\n",
                  "100%|██████████| 100/100 [00:00<00:00, 321.63it/s]\n"
               ]
            },
            {
               "name": "stdout",
               "output_type": "stream",
               "text": [
                  "test on day 2000\n"
               ]
            },
            {
               "name": "stderr",
               "output_type": "stream",
               "text": [
                  "\n",
                  "\u001b[A\n",
                  "\u001b[A\n",
                  "\u001b[A\n",
                  "100%|██████████| 100/100 [00:00<00:00, 325.27it/s]\n"
               ]
            },
            {
               "name": "stdout",
               "output_type": "stream",
               "text": [
                  "test on day 2500\n"
               ]
            },
            {
               "name": "stderr",
               "output_type": "stream",
               "text": [
                  "\n",
                  "\u001b[A\n",
                  "\u001b[A\n",
                  "\u001b[A\n",
                  "100%|██████████| 100/100 [00:00<00:00, 326.22it/s]\n"
               ]
            },
            {
               "name": "stdout",
               "output_type": "stream",
               "text": [
                  "test on day 3000\n"
               ]
            },
            {
               "name": "stderr",
               "output_type": "stream",
               "text": [
                  "\n",
                  "\u001b[A\n",
                  "\u001b[A\n",
                  "100%|██████████| 100/100 [00:00<00:00, 329.86it/s]\n"
               ]
            },
            {
               "name": "stdout",
               "output_type": "stream",
               "text": [
                  "test on day 3500\n"
               ]
            },
            {
               "name": "stderr",
               "output_type": "stream",
               "text": [
                  "\n",
                  "\u001b[A\n",
                  "\u001b[A\n",
                  "100%|██████████| 100/100 [00:00<00:00, 329.87it/s]\n"
               ]
            },
            {
               "name": "stdout",
               "output_type": "stream",
               "text": [
                  "test on day 4000\n"
               ]
            },
            {
               "name": "stderr",
               "output_type": "stream",
               "text": [
                  "\n",
                  "\u001b[A\n",
                  "\u001b[A\n",
                  "100%|██████████| 100/100 [00:00<00:00, 330.70it/s]\n"
               ]
            },
            {
               "name": "stdout",
               "output_type": "stream",
               "text": [
                  "test on day 4500\n"
               ]
            },
            {
               "name": "stderr",
               "output_type": "stream",
               "text": [
                  "\n",
                  "\u001b[A\n",
                  "\u001b[A\n",
                  "100%|██████████| 100/100 [00:00<00:00, 330.19it/s]\n"
               ]
            },
            {
               "name": "stdout",
               "output_type": "stream",
               "text": [
                  "test on day 5000\n"
               ]
            },
            {
               "name": "stderr",
               "output_type": "stream",
               "text": [
                  "\n",
                  "\u001b[A\n",
                  "\u001b[A\n",
                  "100%|██████████| 100/100 [00:00<00:00, 329.46it/s]\n"
               ]
            },
            {
               "name": "stdout",
               "output_type": "stream",
               "text": [
                  "test on day 5500\n"
               ]
            },
            {
               "name": "stderr",
               "output_type": "stream",
               "text": [
                  "\n",
                  "\u001b[A\n",
                  "\u001b[A\n",
                  "\u001b[A\n",
                  "100%|██████████| 100/100 [00:00<00:00, 314.60it/s]\n"
               ]
            },
            {
               "name": "stdout",
               "output_type": "stream",
               "text": [
                  "test on day 6000\n"
               ]
            },
            {
               "name": "stderr",
               "output_type": "stream",
               "text": [
                  "\n",
                  "\u001b[A\n",
                  "\u001b[A\n",
                  "\u001b[A\n",
                  "100%|██████████| 100/100 [00:00<00:00, 326.46it/s]\n"
               ]
            },
            {
               "name": "stdout",
               "output_type": "stream",
               "text": [
                  "test on day 6500\n"
               ]
            },
            {
               "name": "stderr",
               "output_type": "stream",
               "text": [
                  "\n",
                  "\u001b[A\n",
                  "\u001b[A\n",
                  "\u001b[A\n",
                  "100%|██████████| 100/100 [00:00<00:00, 328.56it/s]\n"
               ]
            },
            {
               "name": "stdout",
               "output_type": "stream",
               "text": [
                  "test on day 7000\n"
               ]
            },
            {
               "name": "stderr",
               "output_type": "stream",
               "text": [
                  "\n",
                  "\u001b[A\n",
                  "\u001b[A\n",
                  "100%|██████████| 100/100 [00:00<00:00, 330.78it/s]\n"
               ]
            },
            {
               "name": "stdout",
               "output_type": "stream",
               "text": [
                  "test on day 7500\n"
               ]
            },
            {
               "name": "stderr",
               "output_type": "stream",
               "text": [
                  "\n",
                  "\u001b[A\n",
                  "\u001b[A\n",
                  "100%|██████████| 100/100 [00:00<00:00, 330.85it/s]\n"
               ]
            },
            {
               "name": "stdout",
               "output_type": "stream",
               "text": [
                  "test on day 8000\n"
               ]
            },
            {
               "name": "stderr",
               "output_type": "stream",
               "text": [
                  "\n",
                  "\u001b[A\n",
                  "\u001b[A\n",
                  "100%|██████████| 100/100 [00:00<00:00, 331.18it/s]\n"
               ]
            },
            {
               "name": "stdout",
               "output_type": "stream",
               "text": [
                  "test on day 8500\n"
               ]
            },
            {
               "name": "stderr",
               "output_type": "stream",
               "text": [
                  "\n",
                  "\u001b[A\n",
                  "\u001b[A\n",
                  "100%|██████████| 100/100 [00:00<00:00, 330.65it/s]\n"
               ]
            },
            {
               "name": "stdout",
               "output_type": "stream",
               "text": [
                  "test on day 9000\n"
               ]
            },
            {
               "name": "stderr",
               "output_type": "stream",
               "text": [
                  "\n",
                  "\u001b[A\n",
                  "\u001b[A\n",
                  "100%|██████████| 100/100 [00:00<00:00, 330.31it/s]\n"
               ]
            },
            {
               "name": "stdout",
               "output_type": "stream",
               "text": [
                  "test on day 9500\n"
               ]
            },
            {
               "name": "stderr",
               "output_type": "stream",
               "text": [
                  "\n",
                  "\u001b[A\n",
                  "\u001b[A\n",
                  "100%|██████████| 100/100 [00:00<00:00, 331.10it/s]\n"
               ]
            },
            {
               "name": "stdout",
               "output_type": "stream",
               "text": [
                  "test on day 10000\n"
               ]
            },
            {
               "name": "stderr",
               "output_type": "stream",
               "text": [
                  "\n",
                  "\u001b[A\n",
                  "\u001b[A\n",
                  "100%|██████████| 100/100 [00:00<00:00, 330.11it/s]\n"
               ]
            },
            {
               "name": "stdout",
               "output_type": "stream",
               "text": [
                  "test on day 10500\n"
               ]
            },
            {
               "name": "stderr",
               "output_type": "stream",
               "text": [
                  "\n",
                  "\u001b[A\n",
                  "\u001b[A\n",
                  "100%|██████████| 100/100 [00:00<00:00, 330.16it/s]\n",
                  "100%|██████████| 5/5 [00:33<00:00,  6.69s/it]\n"
               ]
            },
            {
               "name": "stdout",
               "output_type": "stream",
               "text": [
                  "get transaction stats av. network\n"
               ]
            },
            {
               "name": "stderr",
               "output_type": "stream",
               "text": [
                  "100%|██████████| 10500/10500 [06:29<00:00, 26.99it/s]\n"
               ]
            },
            {
               "name": "stdout",
               "output_type": "stream",
               "text": [
                  "get transaction stats av. bank\n"
               ]
            },
            {
               "name": "stderr",
               "output_type": "stream",
               "text": [
                  "100%|██████████| 10500/10500 [00:19<00:00, 542.09it/s]\n",
                  " 55%|█████▍    | 10999/19999 [4:29:14<22:13,  6.75it/s]      "
               ]
            },
            {
               "name": "stdout",
               "output_type": "stream",
               "text": [
                  "get df_rev_repo_trans\n"
               ]
            },
            {
               "name": "stderr",
               "output_type": "stream",
               "text": [
                  "100%|██████████| 50/50 [00:00<00:00, 791378.11it/s]\n"
               ]
            },
            {
               "name": "stdout",
               "output_type": "stream",
               "text": [
                  "get df_rev_repo_trans\n"
               ]
            },
            {
               "name": "stderr",
               "output_type": "stream",
               "text": [
                  "100%|██████████| 50/50 [00:00<00:00, 768187.55it/s]\n"
               ]
            },
            {
               "name": "stdout",
               "output_type": "stream",
               "text": [
                  "get arr_rev_repo_exp_adj\n"
               ]
            },
            {
               "name": "stderr",
               "output_type": "stream",
               "text": []
            }
         ],
         "source": [
            "from dynamics import ClassDynamics\n",
            "from network import ClassNetwork\n",
            "\n",
            "\n",
            "# parameter setting\n",
            "nb_banks=50\n",
            "path_results=\"./results/single_run/test/\"\n",
            "initial_deposits_size = 40\n",
            "\n",
            "# reg ratios\n",
            "alpha_init=False # initial cash (< 1/(1-gamma) - beta)\n",
            "alpha=0.01\n",
            "beta_init=0.5 # initial collateral  (< 1/(1-gamma) - alpha)\n",
            "beta_reg=0.5\n",
            "beta_star=0.5\n",
            "gamma=0.03\n",
            "gamma_init = 3*gamma\n",
            "collateral_value=1.0\n",
            "\n",
            "# initialisation of deposits size\n",
            "initialization_method=\"pareto\"\n",
            "alpha_pareto=1.3\n",
            "\n",
            "# shocks on deposits\n",
            "shocks_method=\"non-conservative\"\n",
            "shocks_law=\"normal-mean-reverting\"\n",
            "shocks_vol=0.01 # 0.05\n",
            "\n",
            "\n",
            "# speed of learning\n",
            "learning_speed = 0.1\n",
            "\n",
            "# min trans size\n",
            "min_repo_trans_size=1e-8  # 1e-8\n",
            "\n",
            "# dynamics & ploting\n",
            "nb_steps=int(20e3)\n",
            "dump_period=int(5e2)\n",
            "plot_period=int(5e2)\n",
            "cp_option=True\n",
            "heavy_plot=False\n",
            "\n",
            "# LCR mgt\n",
            "LCR_mgt_opt=True\n",
            "\n",
            "# leverage mgt\n",
            "end_repo_period=False # if int, periodic end repo / if false, leverage mgt\n",
            "gamma_star = 1.5*gamma\n",
            "\n",
            "# money creation\n",
            "loan_tenor=nb_steps # if int, money creation / if false. no new loans\n",
            "loan_period=1\n",
            "new_loans_vol = 0 # standard deviation around the mean creation of loans\n",
            "new_loans_mean = 100e-2/250 # daily mean increase in loans expressed as a percentage of the intital loans (the other option would be a relative increase but it is unstable np.exp(np.log(1.01)/250)-1 = 4e-5)\n",
            "beta_new = beta_reg # if number, new colat / if false, no new colat \n",
            "gamma_new = gamma_init\n",
            "\n",
            "# substitution of collateral\n",
            "substitution = False\n",
            "\n",
            "\n",
            "# initialize ClassNetwork\n",
            "Network = ClassNetwork(\n",
            "    nb_banks=nb_banks,\n",
            "    initial_deposits_size=initial_deposits_size,\n",
            "    alpha_init=alpha_init,\n",
            "    alpha=alpha,\n",
            "    beta_init=beta_init,\n",
            "    beta_reg=beta_reg,\n",
            "    beta_star=beta_star,\n",
            "    beta_new=beta_new,\n",
            "    gamma_init=gamma_init,\n",
            "    gamma=gamma,\n",
            "    gamma_star=gamma_star,\n",
            "    gamma_new=gamma_new,\n",
            "    collateral_value=collateral_value,\n",
            "    initialization_method=initialization_method,\n",
            "    alpha_pareto=alpha_pareto,\n",
            "    shocks_method=shocks_method,\n",
            "    shocks_law=shocks_law,\n",
            "    shocks_vol=shocks_vol,\n",
            "    LCR_mgt_opt=LCR_mgt_opt,\n",
            "    min_repo_trans_size=min_repo_trans_size,\n",
            "    loan_tenor=loan_tenor,\n",
            "    loan_period=loan_period,\n",
            "    new_loans_vol=new_loans_vol,\n",
            "    new_loans_mean=new_loans_mean,\n",
            "    end_repo_period=end_repo_period,\n",
            "    substitution=substitution,\n",
            "    learning_speed=learning_speed,\n",
            ")\n",
            "\n",
            "# initialize ClassDynamics\n",
            "Dynamics = ClassDynamics(\n",
            "    Network,\n",
            "    nb_steps=nb_steps,\n",
            "    path_results=path_results,\n",
            "    dump_period=dump_period,\n",
            "    plot_period=plot_period,\n",
            "    cp_option=cp_option,\n",
            "    heavy_plot=heavy_plot,\n",
            ")\n",
            "\n",
            "# simulate\n",
            "Dynamics.simulate()"
         ]
      },
      {
         "cell_type": "code",
         "execution_count": 5,
         "metadata": {},
         "outputs": [
            {
               "data": {
                  "text/plain": [
                     "3.980211549592383e-05"
                  ]
               },
               "execution_count": 5,
               "metadata": {},
               "output_type": "execute_result"
            }
         ],
         "source": [
            "import numpy as np\n",
            "np.exp(np.log(1.01)/250)-1"
         ]
      },
      {
         "cell_type": "markdown",
         "metadata": {},
         "source": [
            "# ploting"
         ]
      },
      {
         "cell_type": "code",
         "execution_count": 3,
         "metadata": {},
         "outputs": [
            {
               "name": "stdout",
               "output_type": "stream",
               "text": [
                  "get df_rev_repo_trans\n"
               ]
            },
            {
               "name": "stderr",
               "output_type": "stream",
               "text": [
                  "100%|██████████| 50/50 [00:00<00:00, 580928.53it/s]\n"
               ]
            },
            {
               "name": "stdout",
               "output_type": "stream",
               "text": [
                  "get df_rev_repo_trans\n"
               ]
            },
            {
               "name": "stderr",
               "output_type": "stream",
               "text": [
                  "100%|██████████| 50/50 [00:00<00:00, 735842.81it/s]\n"
               ]
            },
            {
               "name": "stdout",
               "output_type": "stream",
               "text": [
                  "get arr_rev_repo_exp_adj\n"
               ]
            },
            {
               "name": "stderr",
               "output_type": "stream",
               "text": [
                  "58736it [00:07, 7801.67it/s]\n"
               ]
            },
            {
               "name": "stdout",
               "output_type": "stream",
               "text": [
                  "get arr_binary_adj (numba)\n",
                  "get degree distribution\n"
               ]
            },
            {
               "name": "stderr",
               "output_type": "stream",
               "text": [
                  "100%|██████████| 3087/3087 [00:03<00:00, 841.98it/s] \n"
               ]
            },
            {
               "name": "stdout",
               "output_type": "stream",
               "text": [
                  "get jaccard\n"
               ]
            },
            {
               "name": "stderr",
               "output_type": "stream",
               "text": [
                  "100%|██████████| 3086/3086 [00:00<00:00, 4989.66it/s]\n"
               ]
            },
            {
               "name": "stdout",
               "output_type": "stream",
               "text": [
                  "get density\n"
               ]
            },
            {
               "name": "stderr",
               "output_type": "stream",
               "text": [
                  "100%|██████████| 3086/3086 [00:00<00:00, 5102.64it/s]\n"
               ]
            },
            {
               "name": "stdout",
               "output_type": "stream",
               "text": [
                  "get degree stats\n"
               ]
            },
            {
               "name": "stderr",
               "output_type": "stream",
               "text": [
                  "100%|██████████| 3086/3086 [00:01<00:00, 1721.31it/s]\n"
               ]
            },
            {
               "name": "stdout",
               "output_type": "stream",
               "text": [
                  "get exposure stats\n"
               ]
            },
            {
               "name": "stderr",
               "output_type": "stream",
               "text": [
                  "100%|██████████| 3088/3088 [00:00<00:00, 5410.68it/s]\n"
               ]
            },
            {
               "name": "stdout",
               "output_type": "stream",
               "text": [
                  "run core-periphery tests\n"
               ]
            },
            {
               "name": "stderr",
               "output_type": "stream",
               "text": [
                  "  0%|          | 0/5 [00:00<?, ?it/s]"
               ]
            },
            {
               "name": "stdout",
               "output_type": "stream",
               "text": [
                  "core-periphery tests using the Lip approach\n",
                  "test on day 0\n"
               ]
            },
            {
               "name": "stderr",
               "output_type": "stream",
               "text": [
                  "100%|██████████| 100/100 [00:00<00:00, 2813.99it/s]\n"
               ]
            },
            {
               "name": "stdout",
               "output_type": "stream",
               "text": [
                  "test on day 3087\n"
               ]
            },
            {
               "name": "stderr",
               "output_type": "stream",
               "text": [
                  "100%|██████████| 100/100 [00:00<00:00, 1259.41it/s]\n",
                  " 20%|██        | 1/5 [00:00<00:00,  6.98it/s]"
               ]
            },
            {
               "name": "stdout",
               "output_type": "stream",
               "text": [
                  "core-periphery tests using the Lip approach\n",
                  "test on day 0\n"
               ]
            },
            {
               "name": "stderr",
               "output_type": "stream",
               "text": [
                  "100%|██████████| 100/100 [00:00<00:00, 2895.66it/s]\n"
               ]
            },
            {
               "name": "stdout",
               "output_type": "stream",
               "text": [
                  "test on day 3087\n"
               ]
            },
            {
               "name": "stderr",
               "output_type": "stream",
               "text": [
                  "100%|██████████| 100/100 [00:00<00:00, 1329.52it/s]\n",
                  " 40%|████      | 2/5 [00:00<00:00,  7.66it/s]"
               ]
            },
            {
               "name": "stdout",
               "output_type": "stream",
               "text": [
                  "core-periphery tests using the Lip approach\n",
                  "test on day 0\n"
               ]
            },
            {
               "name": "stderr",
               "output_type": "stream",
               "text": [
                  "100%|██████████| 100/100 [00:00<00:00, 2939.18it/s]\n"
               ]
            },
            {
               "name": "stdout",
               "output_type": "stream",
               "text": [
                  "test on day 3087\n"
               ]
            },
            {
               "name": "stderr",
               "output_type": "stream",
               "text": [
                  "100%|██████████| 100/100 [00:00<00:00, 1254.85it/s]\n",
                  " 60%|██████    | 3/5 [00:00<00:00,  7.81it/s]"
               ]
            },
            {
               "name": "stdout",
               "output_type": "stream",
               "text": [
                  "core-periphery tests using the Lip approach\n",
                  "test on day 0\n"
               ]
            },
            {
               "name": "stderr",
               "output_type": "stream",
               "text": [
                  "100%|██████████| 100/100 [00:00<00:00, 2890.59it/s]\n"
               ]
            },
            {
               "name": "stdout",
               "output_type": "stream",
               "text": [
                  "test on day 3087\n"
               ]
            },
            {
               "name": "stderr",
               "output_type": "stream",
               "text": [
                  "100%|██████████| 100/100 [00:00<00:00, 1221.94it/s]\n",
                  " 80%|████████  | 4/5 [00:00<00:00,  7.82it/s]"
               ]
            },
            {
               "name": "stdout",
               "output_type": "stream",
               "text": [
                  "core-periphery tests using the Lip approach\n",
                  "test on day 0\n"
               ]
            },
            {
               "name": "stderr",
               "output_type": "stream",
               "text": [
                  "100%|██████████| 100/100 [00:00<00:00, 1666.24it/s]\n"
               ]
            },
            {
               "name": "stdout",
               "output_type": "stream",
               "text": [
                  "test on day 3087\n"
               ]
            },
            {
               "name": "stderr",
               "output_type": "stream",
               "text": [
                  "100%|██████████| 100/100 [00:00<00:00, 1447.95it/s]\n",
                  "100%|██████████| 5/5 [00:00<00:00,  7.58it/s]\n"
               ]
            },
            {
               "name": "stdout",
               "output_type": "stream",
               "text": [
                  "get transaction stats av. network\n"
               ]
            },
            {
               "name": "stderr",
               "output_type": "stream",
               "text": [
                  "100%|██████████| 3087/3087 [00:18<00:00, 169.81it/s]\n"
               ]
            },
            {
               "name": "stdout",
               "output_type": "stream",
               "text": [
                  "get transaction stats av. bank\n"
               ]
            },
            {
               "name": "stderr",
               "output_type": "stream",
               "text": [
                  "100%|██████████| 3087/3087 [00:03<00:00, 944.97it/s]\n"
               ]
            }
         ],
         "source": [
            "# get graphics after interupting \n",
            "import graphics  as gx\n",
            "Dynamics.nb_steps = Network.step\n",
            "Dynamics.plot_period = Network.step\n",
            "Dynamics.fill()\n",
            "Dynamics.dump()\n",
            "gx.plot(Dynamics)"
         ]
      },
      {
         "cell_type": "markdown",
         "metadata": {},
         "source": [
            "# analysis"
         ]
      },
      {
         "cell_type": "code",
         "execution_count": 3,
         "metadata": {},
         "outputs": [],
         "source": [
            "import numpy as np \n",
            "for chain in Network.chains_rev_repo:\n",
            "   if  len(np.unique (np.array(chain))) < len(np.array(chain)):\n",
            "      print(\"error\")"
         ]
      },
      {
         "cell_type": "code",
         "execution_count": 6,
         "metadata": {},
         "outputs": [
            {
               "name": "stdout",
               "output_type": "stream",
               "text": [
                  "18\n",
                  "2\n",
                  "9.411325805448131\n"
               ]
            }
         ],
         "source": [
            "max = 0 \n",
            "min = 19\n",
            "sum = 0\n",
            "for chain in Network.chains_rev_repo:\n",
            "   if  len(chain) > max:\n",
            "      max = len(chain)\n",
            "   if  len(chain) < min:\n",
            "      min = len(chain)\n",
            "   sum +=len(chain)\n",
            "\n",
            "print(max)\n",
            "print(min)\n",
            "print(sum/len(Network.chains_rev_repo))"
         ]
      },
      {
         "cell_type": "markdown",
         "metadata": {},
         "source": [
            "# new loans"
         ]
      },
      {
         "cell_type": "code",
         "execution_count": null,
         "metadata": {},
         "outputs": [
            {
               "data": {
                  "text/plain": [
                     "(array([36.,  7.,  3.,  0.,  0.,  2.,  1.,  0.,  0.,  1.]),\n",
                     " array([0.22896693, 0.83264029, 1.43631366, 2.03998702, 2.64366039,\n",
                     "        3.24733375, 3.85100712, 4.45468048, 5.05835385, 5.66202721,\n",
                     "        6.26570058]),\n",
                     " <BarContainer object of 10 artists>)"
                  ]
               },
               "metadata": {},
               "output_type": "display_data"
            },
            {
               "data": {
                  "image/png": "[encoded data removed]",
                  "text/plain": [
                     "<Figure size 640x480 with 1 Axes>"
                  ]
               },
               "metadata": {},
               "output_type": "display_data"
            }
         ],
         "source": [
            "import numpy as np\n",
            "from matplotlib import pyplot as plt\n",
            "ar_new_loans = (np.random.randn(nb_banks) * new_loans_vol + 1)*new_loans_mean\n",
            "plt.hist(ar_new_loans*Network.df_banks[\"initial loans\"])"
         ]
      }
   ],
   "metadata": {
      "kernelspec": {
         "display_name": "Python 3",
         "language": "python",
         "name": "python3"
      },
      "language_info": {
         "codemirror_mode": {
            "name": "ipython",
            "version": 3
         },
         "file_extension": ".py",
         "mimetype": "text/x-python",
         "name": "python",
         "nbconvert_exporter": "python",
         "pygments_lexer": "ipython3",
         "version": "3.8.13"
      }
   },
   "nbformat": 4,
   "nbformat_minor": 2
}
