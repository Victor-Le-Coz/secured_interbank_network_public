{
   "cells": [
      {
         "cell_type": "markdown",
         "metadata": {},
         "source": [
            "reuse rate measured\n",
            "\n",
            "swiss 0.1\n",
            "\n",
            "ESRB 1\n",
            "\n",
            "australia 0.6"
         ]
      },
      {
         "cell_type": "markdown",
         "metadata": {},
         "source": [
            "# testing "
         ]
      },
      {
         "cell_type": "markdown",
         "metadata": {},
         "source": [
            "At initialization, asset and liabilites are equal \n",
            "$$\\alpha D + \\beta D + L  = \\frac{1}{1-\\gamma} D$$\n",
            "$$\\alpha + \\beta \\leq \\frac{1}{1-\\gamma}$$"
         ]
      },
      {
         "cell_type": "code",
         "execution_count": 5,
         "metadata": {},
         "outputs": [
            {
               "data": {
                  "text/plain": [
                     "1.0638297872340425"
                  ]
               },
               "execution_count": 5,
               "metadata": {},
               "output_type": "execute_result"
            }
         ],
         "source": [
            "1/(1-(0.06))"
         ]
      },
      {
         "cell_type": "code",
         "execution_count": 1,
         "metadata": {},
         "outputs": [
            {
               "name": "stdout",
               "output_type": "stream",
               "text": [
                  "simulate the repo market\n"
               ]
            },
            {
               "name": "stderr",
               "output_type": "stream",
               "text": [
                  " 10%|▉         | 499/4999 [00:39<05:48, 12.93it/s]"
               ]
            },
            {
               "name": "stdout",
               "output_type": "stream",
               "text": [
                  "get df_rev_repo_trans\n"
               ]
            },
            {
               "name": "stderr",
               "output_type": "stream",
               "text": [
                  "100%|██████████| 50/50 [00:00<00:00, 771011.76it/s]\n"
               ]
            },
            {
               "name": "stdout",
               "output_type": "stream",
               "text": [
                  "get df_rev_repo_trans\n"
               ]
            },
            {
               "name": "stderr",
               "output_type": "stream",
               "text": [
                  "100%|██████████| 50/50 [00:00<00:00, 993910.90it/s]\n"
               ]
            },
            {
               "name": "stdout",
               "output_type": "stream",
               "text": [
                  "get arr_rev_repo_exp_adj\n"
               ]
            },
            {
               "name": "stderr",
               "output_type": "stream",
               "text": [
                  "9938it [00:07, 1374.21it/s]\n"
               ]
            },
            {
               "name": "stdout",
               "output_type": "stream",
               "text": [
                  "get arr_binary_adj (numba)\n"
               ]
            },
            {
               "name": "stderr",
               "output_type": "stream",
               "text": [
                  " 10%|▉         | 499/4999 [00:51<05:48, 12.93it/s]"
               ]
            },
            {
               "name": "stdout",
               "output_type": "stream",
               "text": [
                  "get degree distribution\n"
               ]
            },
            {
               "name": "stderr",
               "output_type": "stream",
               "text": [
                  "100%|██████████| 500/500 [00:01<00:00, 268.11it/s]\n"
               ]
            },
            {
               "name": "stdout",
               "output_type": "stream",
               "text": [
                  "get jaccard\n"
               ]
            },
            {
               "name": "stderr",
               "output_type": "stream",
               "text": [
                  "100%|██████████| 499/499 [00:00<00:00, 6026.68it/s]\n"
               ]
            },
            {
               "name": "stdout",
               "output_type": "stream",
               "text": [
                  "get density\n"
               ]
            },
            {
               "name": "stderr",
               "output_type": "stream",
               "text": [
                  "100%|██████████| 499/499 [00:00<00:00, 4503.84it/s]\n"
               ]
            },
            {
               "name": "stdout",
               "output_type": "stream",
               "text": [
                  "get degree stats\n"
               ]
            },
            {
               "name": "stderr",
               "output_type": "stream",
               "text": [
                  "100%|██████████| 499/499 [00:00<00:00, 1728.60it/s]\n"
               ]
            },
            {
               "name": "stdout",
               "output_type": "stream",
               "text": [
                  "get exposure stats\n"
               ]
            },
            {
               "name": "stderr",
               "output_type": "stream",
               "text": [
                  "100%|██████████| 501/501 [00:00<00:00, 5088.50it/s]\n"
               ]
            },
            {
               "name": "stdout",
               "output_type": "stream",
               "text": [
                  "run core-periphery tests\n"
               ]
            },
            {
               "name": "stderr",
               "output_type": "stream",
               "text": []
            },
            {
               "name": "stdout",
               "output_type": "stream",
               "text": [
                  "core-periphery tests using the Lip approach\n",
                  "test on day 0\n"
               ]
            },
            {
               "name": "stderr",
               "output_type": "stream",
               "text": [
                  "\n",
                  "100%|██████████| 100/100 [00:00<00:00, 2796.87it/s]\n"
               ]
            },
            {
               "name": "stdout",
               "output_type": "stream",
               "text": [
                  "test on day 500\n"
               ]
            },
            {
               "name": "stderr",
               "output_type": "stream",
               "text": [
                  "\n",
                  "\u001b[A\n",
                  "\u001b[A\n",
                  "100%|██████████| 100/100 [00:00<00:00, 432.05it/s]\n"
               ]
            },
            {
               "name": "stdout",
               "output_type": "stream",
               "text": [
                  "core-periphery tests using the Lip approach\n",
                  "test on day 0\n"
               ]
            },
            {
               "name": "stderr",
               "output_type": "stream",
               "text": [
                  "\n",
                  "100%|██████████| 100/100 [00:00<00:00, 2815.61it/s]\n"
               ]
            },
            {
               "name": "stdout",
               "output_type": "stream",
               "text": [
                  "test on day 500\n"
               ]
            },
            {
               "name": "stderr",
               "output_type": "stream",
               "text": [
                  "\n",
                  "\u001b[A\n",
                  "\u001b[A\n",
                  "100%|██████████| 100/100 [00:00<00:00, 430.77it/s]\n"
               ]
            },
            {
               "name": "stdout",
               "output_type": "stream",
               "text": [
                  "core-periphery tests using the Lip approach\n",
                  "test on day 0\n"
               ]
            },
            {
               "name": "stderr",
               "output_type": "stream",
               "text": [
                  "\n",
                  "100%|██████████| 100/100 [00:00<00:00, 2853.33it/s]\n"
               ]
            },
            {
               "name": "stdout",
               "output_type": "stream",
               "text": [
                  "test on day 500\n"
               ]
            },
            {
               "name": "stderr",
               "output_type": "stream",
               "text": [
                  "\n",
                  "\u001b[A\n",
                  "\u001b[A\n",
                  "100%|██████████| 100/100 [00:00<00:00, 427.59it/s]\n"
               ]
            },
            {
               "name": "stdout",
               "output_type": "stream",
               "text": [
                  "core-periphery tests using the Lip approach\n",
                  "test on day 0\n"
               ]
            },
            {
               "name": "stderr",
               "output_type": "stream",
               "text": [
                  "\n",
                  "100%|██████████| 100/100 [00:00<00:00, 2944.36it/s]\n"
               ]
            },
            {
               "name": "stdout",
               "output_type": "stream",
               "text": [
                  "test on day 500\n"
               ]
            },
            {
               "name": "stderr",
               "output_type": "stream",
               "text": [
                  "\n",
                  "\u001b[A\n",
                  "\u001b[A\n",
                  "100%|██████████| 100/100 [00:00<00:00, 421.44it/s]\n"
               ]
            },
            {
               "name": "stdout",
               "output_type": "stream",
               "text": [
                  "core-periphery tests using the Lip approach\n",
                  "test on day 0\n"
               ]
            },
            {
               "name": "stderr",
               "output_type": "stream",
               "text": [
                  "\n",
                  "100%|██████████| 100/100 [00:00<00:00, 1665.93it/s]\n"
               ]
            },
            {
               "name": "stdout",
               "output_type": "stream",
               "text": [
                  "test on day 500\n"
               ]
            },
            {
               "name": "stderr",
               "output_type": "stream",
               "text": [
                  "\n",
                  "\u001b[A\n",
                  "\u001b[A\n",
                  "100%|██████████| 100/100 [00:00<00:00, 433.99it/s]\n",
                  "100%|██████████| 5/5 [00:01<00:00,  3.43it/s]\n"
               ]
            },
            {
               "name": "stdout",
               "output_type": "stream",
               "text": [
                  "get transaction stats av. network\n"
               ]
            },
            {
               "name": "stderr",
               "output_type": "stream",
               "text": [
                  "100%|██████████| 500/500 [00:00<00:00, 605.14it/s]\n"
               ]
            },
            {
               "name": "stdout",
               "output_type": "stream",
               "text": [
                  "get transaction stats av. bank\n"
               ]
            },
            {
               "name": "stderr",
               "output_type": "stream",
               "text": [
                  "100%|██████████| 500/500 [00:00<00:00, 1151.39it/s]\n",
                  " 20%|█▉        | 999/4999 [01:51<05:53, 11.32it/s]  "
               ]
            },
            {
               "name": "stdout",
               "output_type": "stream",
               "text": [
                  "get df_rev_repo_trans\n"
               ]
            },
            {
               "name": "stderr",
               "output_type": "stream",
               "text": [
                  "100%|██████████| 50/50 [00:00<00:00, 613202.34it/s]\n"
               ]
            },
            {
               "name": "stdout",
               "output_type": "stream",
               "text": [
                  "get df_rev_repo_trans\n"
               ]
            },
            {
               "name": "stderr",
               "output_type": "stream",
               "text": [
                  "100%|██████████| 50/50 [00:00<00:00, 919803.51it/s]\n"
               ]
            },
            {
               "name": "stdout",
               "output_type": "stream",
               "text": [
                  "get arr_rev_repo_exp_adj\n"
               ]
            },
            {
               "name": "stderr",
               "output_type": "stream",
               "text": [
                  "17519it [00:19, 892.97it/s] 2:11<05:53, 11.32it/s]\n"
               ]
            },
            {
               "name": "stdout",
               "output_type": "stream",
               "text": [
                  "get arr_binary_adj (numba)\n",
                  "get degree distribution\n"
               ]
            },
            {
               "name": "stderr",
               "output_type": "stream",
               "text": [
                  "100%|██████████| 1000/1000 [00:04<00:00, 247.85it/s]\n"
               ]
            },
            {
               "name": "stdout",
               "output_type": "stream",
               "text": [
                  "get jaccard\n"
               ]
            },
            {
               "name": "stderr",
               "output_type": "stream",
               "text": [
                  "100%|██████████| 999/999 [00:00<00:00, 5218.80it/s]\n"
               ]
            },
            {
               "name": "stdout",
               "output_type": "stream",
               "text": [
                  "get density\n"
               ]
            },
            {
               "name": "stderr",
               "output_type": "stream",
               "text": [
                  "100%|██████████| 999/999 [00:00<00:00, 5041.40it/s]\n"
               ]
            },
            {
               "name": "stdout",
               "output_type": "stream",
               "text": [
                  "get degree stats\n"
               ]
            },
            {
               "name": "stderr",
               "output_type": "stream",
               "text": [
                  "100%|██████████| 999/999 [00:00<00:00, 1719.15it/s]\n"
               ]
            },
            {
               "name": "stdout",
               "output_type": "stream",
               "text": [
                  "get exposure stats\n"
               ]
            },
            {
               "name": "stderr",
               "output_type": "stream",
               "text": [
                  "100%|██████████| 1001/1001 [00:00<00:00, 5055.35it/s]\n"
               ]
            },
            {
               "name": "stdout",
               "output_type": "stream",
               "text": [
                  "run core-periphery tests\n"
               ]
            },
            {
               "name": "stderr",
               "output_type": "stream",
               "text": []
            },
            {
               "name": "stdout",
               "output_type": "stream",
               "text": [
                  "core-periphery tests using the Lip approach\n",
                  "test on day 0\n"
               ]
            },
            {
               "name": "stderr",
               "output_type": "stream",
               "text": [
                  "\n",
                  "100%|██████████| 100/100 [00:00<00:00, 2912.33it/s]\n"
               ]
            },
            {
               "name": "stdout",
               "output_type": "stream",
               "text": [
                  "test on day 500\n"
               ]
            },
            {
               "name": "stderr",
               "output_type": "stream",
               "text": [
                  "\n",
                  "\u001b[A\n",
                  "\u001b[A\n",
                  "100%|██████████| 100/100 [00:00<00:00, 429.85it/s]\n"
               ]
            },
            {
               "name": "stdout",
               "output_type": "stream",
               "text": [
                  "test on day 1000\n"
               ]
            },
            {
               "name": "stderr",
               "output_type": "stream",
               "text": [
                  "\n",
                  "\u001b[A\n",
                  "\u001b[A\n",
                  "100%|██████████| 100/100 [00:00<00:00, 446.69it/s]\n"
               ]
            },
            {
               "name": "stdout",
               "output_type": "stream",
               "text": [
                  "core-periphery tests using the Lip approach\n",
                  "test on day 0\n"
               ]
            },
            {
               "name": "stderr",
               "output_type": "stream",
               "text": [
                  "\n",
                  "100%|██████████| 100/100 [00:00<00:00, 2910.93it/s]\n"
               ]
            },
            {
               "name": "stdout",
               "output_type": "stream",
               "text": [
                  "test on day 500\n"
               ]
            },
            {
               "name": "stderr",
               "output_type": "stream",
               "text": [
                  "\n",
                  "\u001b[A\n",
                  "\u001b[A\n",
                  "100%|██████████| 100/100 [00:00<00:00, 436.36it/s]\n"
               ]
            },
            {
               "name": "stdout",
               "output_type": "stream",
               "text": [
                  "test on day 1000\n"
               ]
            },
            {
               "name": "stderr",
               "output_type": "stream",
               "text": [
                  "\n",
                  "\u001b[A\n",
                  "\u001b[A\n",
                  "100%|██████████| 100/100 [00:00<00:00, 441.69it/s]\n"
               ]
            },
            {
               "name": "stdout",
               "output_type": "stream",
               "text": [
                  "core-periphery tests using the Lip approach\n",
                  "test on day 0\n"
               ]
            },
            {
               "name": "stderr",
               "output_type": "stream",
               "text": [
                  "\n",
                  "100%|██████████| 100/100 [00:00<00:00, 2879.67it/s]\n"
               ]
            },
            {
               "name": "stdout",
               "output_type": "stream",
               "text": [
                  "test on day 500\n"
               ]
            },
            {
               "name": "stderr",
               "output_type": "stream",
               "text": [
                  "\n",
                  "\u001b[A\n",
                  "\u001b[A\n",
                  "100%|██████████| 100/100 [00:00<00:00, 432.47it/s]\n"
               ]
            },
            {
               "name": "stdout",
               "output_type": "stream",
               "text": [
                  "test on day 1000\n"
               ]
            },
            {
               "name": "stderr",
               "output_type": "stream",
               "text": [
                  "\n",
                  "\u001b[A\n",
                  "\u001b[A\n",
                  "100%|██████████| 100/100 [00:00<00:00, 439.05it/s]\n"
               ]
            },
            {
               "name": "stdout",
               "output_type": "stream",
               "text": [
                  "core-periphery tests using the Lip approach\n",
                  "test on day 0\n"
               ]
            },
            {
               "name": "stderr",
               "output_type": "stream",
               "text": [
                  "\n",
                  "100%|██████████| 100/100 [00:00<00:00, 2904.42it/s]\n"
               ]
            },
            {
               "name": "stdout",
               "output_type": "stream",
               "text": [
                  "test on day 500\n"
               ]
            },
            {
               "name": "stderr",
               "output_type": "stream",
               "text": [
                  "\n",
                  "\u001b[A\n",
                  "\u001b[A\n",
                  "100%|██████████| 100/100 [00:00<00:00, 424.61it/s]\n"
               ]
            },
            {
               "name": "stdout",
               "output_type": "stream",
               "text": [
                  "test on day 1000\n"
               ]
            },
            {
               "name": "stderr",
               "output_type": "stream",
               "text": [
                  "\n",
                  "\u001b[A\n",
                  "\u001b[A\n",
                  "100%|██████████| 100/100 [00:00<00:00, 436.44it/s]\n"
               ]
            },
            {
               "name": "stdout",
               "output_type": "stream",
               "text": [
                  "core-periphery tests using the Lip approach\n",
                  "test on day 0\n"
               ]
            },
            {
               "name": "stderr",
               "output_type": "stream",
               "text": [
                  "\n",
                  "100%|██████████| 100/100 [00:00<00:00, 1692.21it/s]\n"
               ]
            },
            {
               "name": "stdout",
               "output_type": "stream",
               "text": [
                  "test on day 500\n"
               ]
            },
            {
               "name": "stderr",
               "output_type": "stream",
               "text": [
                  "\n",
                  "\u001b[A\n",
                  "\u001b[A\n",
                  "100%|██████████| 100/100 [00:00<00:00, 438.86it/s]\n"
               ]
            },
            {
               "name": "stdout",
               "output_type": "stream",
               "text": [
                  "test on day 1000\n"
               ]
            },
            {
               "name": "stderr",
               "output_type": "stream",
               "text": [
                  "\n",
                  "\u001b[A\n",
                  "\u001b[A\n",
                  "100%|██████████| 100/100 [00:00<00:00, 444.63it/s]\n",
                  "100%|██████████| 5/5 [00:02<00:00,  1.92it/s]\n"
               ]
            },
            {
               "name": "stdout",
               "output_type": "stream",
               "text": [
                  "get transaction stats av. network\n"
               ]
            },
            {
               "name": "stderr",
               "output_type": "stream",
               "text": [
                  "100%|██████████| 1000/1000 [00:02<00:00, 421.95it/s]\n"
               ]
            },
            {
               "name": "stdout",
               "output_type": "stream",
               "text": [
                  "get transaction stats av. bank\n"
               ]
            },
            {
               "name": "stderr",
               "output_type": "stream",
               "text": [
                  "100%|██████████| 1000/1000 [00:00<00:00, 1140.68it/s]\n",
                  " 30%|██▉       | 1499/4999 [03:31<05:12, 11.19it/s]   "
               ]
            },
            {
               "name": "stdout",
               "output_type": "stream",
               "text": [
                  "get df_rev_repo_trans\n"
               ]
            },
            {
               "name": "stderr",
               "output_type": "stream",
               "text": [
                  "100%|██████████| 50/50 [00:00<00:00, 680893.51it/s]\n"
               ]
            },
            {
               "name": "stdout",
               "output_type": "stream",
               "text": [
                  "get df_rev_repo_trans\n"
               ]
            },
            {
               "name": "stderr",
               "output_type": "stream",
               "text": [
                  "100%|██████████| 50/50 [00:00<00:00, 859488.52it/s]\n"
               ]
            },
            {
               "name": "stdout",
               "output_type": "stream",
               "text": [
                  "get arr_rev_repo_exp_adj\n"
               ]
            },
            {
               "name": "stderr",
               "output_type": "stream",
               "text": [
                  "26913it [00:34, 770.94it/s] 03:41<05:12, 11.19it/s]\n"
               ]
            },
            {
               "name": "stdout",
               "output_type": "stream",
               "text": [
                  "get arr_binary_adj (numba)\n",
                  "get degree distribution\n"
               ]
            },
            {
               "name": "stderr",
               "output_type": "stream",
               "text": [
                  "100%|██████████| 1500/1500 [00:05<00:00, 262.75it/s]\n"
               ]
            },
            {
               "name": "stdout",
               "output_type": "stream",
               "text": [
                  "get jaccard\n"
               ]
            },
            {
               "name": "stderr",
               "output_type": "stream",
               "text": [
                  "100%|██████████| 1499/1499 [00:00<00:00, 5111.42it/s]\n"
               ]
            },
            {
               "name": "stdout",
               "output_type": "stream",
               "text": [
                  "get density\n"
               ]
            },
            {
               "name": "stderr",
               "output_type": "stream",
               "text": [
                  "100%|██████████| 1499/1499 [00:00<00:00, 5022.16it/s]\n"
               ]
            },
            {
               "name": "stdout",
               "output_type": "stream",
               "text": [
                  "get degree stats\n"
               ]
            },
            {
               "name": "stderr",
               "output_type": "stream",
               "text": [
                  "100%|██████████| 1499/1499 [00:00<00:00, 1712.11it/s]\n"
               ]
            },
            {
               "name": "stdout",
               "output_type": "stream",
               "text": [
                  "get exposure stats\n"
               ]
            },
            {
               "name": "stderr",
               "output_type": "stream",
               "text": [
                  "100%|██████████| 1501/1501 [00:00<00:00, 4963.94it/s]\n"
               ]
            },
            {
               "name": "stdout",
               "output_type": "stream",
               "text": [
                  "run core-periphery tests\n"
               ]
            },
            {
               "name": "stderr",
               "output_type": "stream",
               "text": []
            },
            {
               "name": "stdout",
               "output_type": "stream",
               "text": [
                  "core-periphery tests using the Lip approach\n",
                  "test on day 0\n"
               ]
            },
            {
               "name": "stderr",
               "output_type": "stream",
               "text": [
                  "\n",
                  "100%|██████████| 100/100 [00:00<00:00, 2817.81it/s]\n"
               ]
            },
            {
               "name": "stdout",
               "output_type": "stream",
               "text": [
                  "test on day 500\n"
               ]
            },
            {
               "name": "stderr",
               "output_type": "stream",
               "text": [
                  "\n",
                  "\u001b[A\n",
                  "\u001b[A\n",
                  "100%|██████████| 100/100 [00:00<00:00, 431.77it/s]\n"
               ]
            },
            {
               "name": "stdout",
               "output_type": "stream",
               "text": [
                  "test on day 1000\n"
               ]
            },
            {
               "name": "stderr",
               "output_type": "stream",
               "text": [
                  "\n",
                  "\u001b[A\n",
                  "\u001b[A\n",
                  "100%|██████████| 100/100 [00:00<00:00, 446.47it/s]\n"
               ]
            },
            {
               "name": "stdout",
               "output_type": "stream",
               "text": [
                  "test on day 1500\n"
               ]
            },
            {
               "name": "stderr",
               "output_type": "stream",
               "text": [
                  "\n",
                  "\u001b[A\n",
                  "\u001b[A\n",
                  "\u001b[A\n",
                  "100%|██████████| 100/100 [00:00<00:00, 126.07it/s]\n"
               ]
            },
            {
               "name": "stdout",
               "output_type": "stream",
               "text": [
                  "core-periphery tests using the Lip approach\n",
                  "test on day 0\n"
               ]
            },
            {
               "name": "stderr",
               "output_type": "stream",
               "text": [
                  "\n",
                  "100%|██████████| 100/100 [00:00<00:00, 2913.03it/s]\n"
               ]
            },
            {
               "name": "stdout",
               "output_type": "stream",
               "text": [
                  "test on day 500\n"
               ]
            },
            {
               "name": "stderr",
               "output_type": "stream",
               "text": [
                  "\n",
                  "\u001b[A\n",
                  "\u001b[A\n",
                  "100%|██████████| 100/100 [00:00<00:00, 435.39it/s]\n"
               ]
            },
            {
               "name": "stdout",
               "output_type": "stream",
               "text": [
                  "test on day 1000\n"
               ]
            },
            {
               "name": "stderr",
               "output_type": "stream",
               "text": [
                  "\n",
                  "\u001b[A\n",
                  "\u001b[A\n",
                  "100%|██████████| 100/100 [00:00<00:00, 439.54it/s]\n"
               ]
            },
            {
               "name": "stdout",
               "output_type": "stream",
               "text": [
                  "test on day 1500\n"
               ]
            },
            {
               "name": "stderr",
               "output_type": "stream",
               "text": [
                  "\n",
                  "\u001b[A\n",
                  "\u001b[A\n",
                  "100%|██████████| 100/100 [00:00<00:00, 433.94it/s]\n"
               ]
            },
            {
               "name": "stdout",
               "output_type": "stream",
               "text": [
                  "core-periphery tests using the Lip approach\n",
                  "test on day 0\n"
               ]
            },
            {
               "name": "stderr",
               "output_type": "stream",
               "text": [
                  "\n",
                  "100%|██████████| 100/100 [00:00<00:00, 2832.90it/s]\n"
               ]
            },
            {
               "name": "stdout",
               "output_type": "stream",
               "text": [
                  "test on day 500\n"
               ]
            },
            {
               "name": "stderr",
               "output_type": "stream",
               "text": [
                  "\n",
                  "\u001b[A\n",
                  "\u001b[A\n",
                  "100%|██████████| 100/100 [00:00<00:00, 427.00it/s]\n"
               ]
            },
            {
               "name": "stdout",
               "output_type": "stream",
               "text": [
                  "test on day 1000\n"
               ]
            },
            {
               "name": "stderr",
               "output_type": "stream",
               "text": [
                  "\n",
                  "\u001b[A\n",
                  "\u001b[A\n",
                  "100%|██████████| 100/100 [00:00<00:00, 424.32it/s]\n"
               ]
            },
            {
               "name": "stdout",
               "output_type": "stream",
               "text": [
                  "test on day 1500\n"
               ]
            },
            {
               "name": "stderr",
               "output_type": "stream",
               "text": [
                  "\n",
                  "\u001b[A\n",
                  "\u001b[A\n",
                  "100%|██████████| 100/100 [00:00<00:00, 427.58it/s]\n"
               ]
            },
            {
               "name": "stdout",
               "output_type": "stream",
               "text": [
                  "core-periphery tests using the Lip approach\n",
                  "test on day 0\n"
               ]
            },
            {
               "name": "stderr",
               "output_type": "stream",
               "text": [
                  "\n",
                  "100%|██████████| 100/100 [00:00<00:00, 2811.97it/s]\n"
               ]
            },
            {
               "name": "stdout",
               "output_type": "stream",
               "text": [
                  "test on day 500\n"
               ]
            },
            {
               "name": "stderr",
               "output_type": "stream",
               "text": [
                  "\n",
                  "\u001b[A\n",
                  "\u001b[A\n",
                  "100%|██████████| 100/100 [00:00<00:00, 417.80it/s]\n"
               ]
            },
            {
               "name": "stdout",
               "output_type": "stream",
               "text": [
                  "test on day 1000\n"
               ]
            },
            {
               "name": "stderr",
               "output_type": "stream",
               "text": [
                  "\n",
                  "\u001b[A\n",
                  "\u001b[A\n",
                  "100%|██████████| 100/100 [00:00<00:00, 428.46it/s]\n"
               ]
            },
            {
               "name": "stdout",
               "output_type": "stream",
               "text": [
                  "test on day 1500\n"
               ]
            },
            {
               "name": "stderr",
               "output_type": "stream",
               "text": [
                  "\n",
                  "\u001b[A\n",
                  "\u001b[A\n",
                  "100%|██████████| 100/100 [00:00<00:00, 424.43it/s]\n"
               ]
            },
            {
               "name": "stdout",
               "output_type": "stream",
               "text": [
                  "core-periphery tests using the Lip approach\n",
                  "test on day 0\n"
               ]
            },
            {
               "name": "stderr",
               "output_type": "stream",
               "text": [
                  "\n",
                  "100%|██████████| 100/100 [00:00<00:00, 1669.46it/s]\n"
               ]
            },
            {
               "name": "stdout",
               "output_type": "stream",
               "text": [
                  "test on day 500\n"
               ]
            },
            {
               "name": "stderr",
               "output_type": "stream",
               "text": [
                  "\n",
                  "\u001b[A\n",
                  "\u001b[A\n",
                  "100%|██████████| 100/100 [00:00<00:00, 432.00it/s]\n"
               ]
            },
            {
               "name": "stdout",
               "output_type": "stream",
               "text": [
                  "test on day 1000\n"
               ]
            },
            {
               "name": "stderr",
               "output_type": "stream",
               "text": [
                  "\n",
                  "\u001b[A\n",
                  "\u001b[A\n",
                  "100%|██████████| 100/100 [00:00<00:00, 437.26it/s]\n"
               ]
            },
            {
               "name": "stdout",
               "output_type": "stream",
               "text": [
                  "test on day 1500\n"
               ]
            },
            {
               "name": "stderr",
               "output_type": "stream",
               "text": [
                  "\n",
                  "\u001b[A\n",
                  "\u001b[A\n",
                  "100%|██████████| 100/100 [00:00<00:00, 435.64it/s]\n",
                  "100%|██████████| 5/5 [00:04<00:00,  1.14it/s]\n"
               ]
            },
            {
               "name": "stdout",
               "output_type": "stream",
               "text": [
                  "get transaction stats av. network\n"
               ]
            },
            {
               "name": "stderr",
               "output_type": "stream",
               "text": [
                  "100%|██████████| 1500/1500 [00:04<00:00, 313.69it/s]\n"
               ]
            },
            {
               "name": "stdout",
               "output_type": "stream",
               "text": [
                  "get transaction stats av. bank\n"
               ]
            },
            {
               "name": "stderr",
               "output_type": "stream",
               "text": [
                  "100%|██████████| 1500/1500 [00:01<00:00, 1100.01it/s]\n",
                  " 40%|███▉      | 1999/4999 [05:38<03:46, 13.26it/s]   "
               ]
            },
            {
               "name": "stdout",
               "output_type": "stream",
               "text": [
                  "get df_rev_repo_trans\n"
               ]
            },
            {
               "name": "stderr",
               "output_type": "stream",
               "text": [
                  "100%|██████████| 50/50 [00:00<00:00, 680893.51it/s]\n"
               ]
            },
            {
               "name": "stdout",
               "output_type": "stream",
               "text": [
                  "get df_rev_repo_trans\n"
               ]
            },
            {
               "name": "stderr",
               "output_type": "stream",
               "text": [
                  "100%|██████████| 50/50 [00:00<00:00, 842229.72it/s]\n"
               ]
            },
            {
               "name": "stdout",
               "output_type": "stream",
               "text": [
                  "get arr_rev_repo_exp_adj\n"
               ]
            },
            {
               "name": "stderr",
               "output_type": "stream",
               "text": [
                  "33821it [00:51, 653.36it/s] 05:53<03:46, 13.26it/s]\n"
               ]
            },
            {
               "name": "stdout",
               "output_type": "stream",
               "text": [
                  "get arr_binary_adj (numba)\n",
                  "get degree distribution\n"
               ]
            },
            {
               "name": "stderr",
               "output_type": "stream",
               "text": [
                  "100%|██████████| 2000/2000 [00:08<00:00, 234.24it/s]\n"
               ]
            },
            {
               "name": "stdout",
               "output_type": "stream",
               "text": [
                  "get jaccard\n"
               ]
            },
            {
               "name": "stderr",
               "output_type": "stream",
               "text": [
                  "100%|██████████| 1999/1999 [00:00<00:00, 4985.61it/s]\n"
               ]
            },
            {
               "name": "stdout",
               "output_type": "stream",
               "text": [
                  "get density\n"
               ]
            },
            {
               "name": "stderr",
               "output_type": "stream",
               "text": [
                  "100%|██████████| 1999/1999 [00:00<00:00, 5064.28it/s]\n"
               ]
            },
            {
               "name": "stdout",
               "output_type": "stream",
               "text": [
                  "get degree stats\n"
               ]
            },
            {
               "name": "stderr",
               "output_type": "stream",
               "text": [
                  "100%|██████████| 1999/1999 [00:01<00:00, 1706.96it/s]\n"
               ]
            },
            {
               "name": "stdout",
               "output_type": "stream",
               "text": [
                  "get exposure stats\n"
               ]
            },
            {
               "name": "stderr",
               "output_type": "stream",
               "text": [
                  "100%|██████████| 2001/2001 [00:00<00:00, 5010.17it/s]\n"
               ]
            },
            {
               "name": "stdout",
               "output_type": "stream",
               "text": [
                  "run core-periphery tests\n"
               ]
            },
            {
               "name": "stderr",
               "output_type": "stream",
               "text": []
            },
            {
               "name": "stdout",
               "output_type": "stream",
               "text": [
                  "core-periphery tests using the Lip approach\n",
                  "test on day 0\n"
               ]
            },
            {
               "name": "stderr",
               "output_type": "stream",
               "text": [
                  "\n",
                  "100%|██████████| 100/100 [00:00<00:00, 2855.05it/s]\n"
               ]
            },
            {
               "name": "stdout",
               "output_type": "stream",
               "text": [
                  "test on day 500\n"
               ]
            },
            {
               "name": "stderr",
               "output_type": "stream",
               "text": [
                  "\n",
                  "\u001b[A\n",
                  "\u001b[A\n",
                  "100%|██████████| 100/100 [00:00<00:00, 424.35it/s]\n"
               ]
            },
            {
               "name": "stdout",
               "output_type": "stream",
               "text": [
                  "test on day 1000\n"
               ]
            },
            {
               "name": "stderr",
               "output_type": "stream",
               "text": [
                  "\n",
                  "\u001b[A\n",
                  "\u001b[A\n",
                  "100%|██████████| 100/100 [00:00<00:00, 443.36it/s]\n"
               ]
            },
            {
               "name": "stdout",
               "output_type": "stream",
               "text": [
                  "test on day 1500\n"
               ]
            },
            {
               "name": "stderr",
               "output_type": "stream",
               "text": [
                  "\n",
                  "\u001b[A\n",
                  "\u001b[A\n",
                  "100%|██████████| 100/100 [00:00<00:00, 439.12it/s]\n"
               ]
            },
            {
               "name": "stdout",
               "output_type": "stream",
               "text": [
                  "test on day 2000\n"
               ]
            },
            {
               "name": "stderr",
               "output_type": "stream",
               "text": [
                  "\n",
                  "\u001b[A\n",
                  "\u001b[A\n",
                  "100%|██████████| 100/100 [00:00<00:00, 442.80it/s]\n"
               ]
            },
            {
               "name": "stdout",
               "output_type": "stream",
               "text": [
                  "core-periphery tests using the Lip approach\n",
                  "test on day 0\n"
               ]
            },
            {
               "name": "stderr",
               "output_type": "stream",
               "text": [
                  "\n",
                  "100%|██████████| 100/100 [00:00<00:00, 2894.12it/s]\n"
               ]
            },
            {
               "name": "stdout",
               "output_type": "stream",
               "text": [
                  "test on day 500\n"
               ]
            },
            {
               "name": "stderr",
               "output_type": "stream",
               "text": [
                  "\n",
                  "\u001b[A\n",
                  "\u001b[A\n",
                  "100%|██████████| 100/100 [00:00<00:00, 431.76it/s]\n"
               ]
            },
            {
               "name": "stdout",
               "output_type": "stream",
               "text": [
                  "test on day 1000\n"
               ]
            },
            {
               "name": "stderr",
               "output_type": "stream",
               "text": [
                  "\n",
                  "\u001b[A\n",
                  "\u001b[A\n",
                  "100%|██████████| 100/100 [00:00<00:00, 437.51it/s]\n"
               ]
            },
            {
               "name": "stdout",
               "output_type": "stream",
               "text": [
                  "test on day 1500\n"
               ]
            },
            {
               "name": "stderr",
               "output_type": "stream",
               "text": [
                  "\n",
                  "\u001b[A\n",
                  "\u001b[A\n",
                  "100%|██████████| 100/100 [00:00<00:00, 432.07it/s]\n"
               ]
            },
            {
               "name": "stdout",
               "output_type": "stream",
               "text": [
                  "test on day 2000\n"
               ]
            },
            {
               "name": "stderr",
               "output_type": "stream",
               "text": [
                  "\n",
                  "\u001b[A\n",
                  "\u001b[A\n",
                  "100%|██████████| 100/100 [00:00<00:00, 440.84it/s]\n"
               ]
            },
            {
               "name": "stdout",
               "output_type": "stream",
               "text": [
                  "core-periphery tests using the Lip approach\n",
                  "test on day 0\n"
               ]
            },
            {
               "name": "stderr",
               "output_type": "stream",
               "text": [
                  "\n",
                  "100%|██████████| 100/100 [00:00<00:00, 2890.93it/s]\n"
               ]
            },
            {
               "name": "stdout",
               "output_type": "stream",
               "text": [
                  "test on day 500\n"
               ]
            },
            {
               "name": "stderr",
               "output_type": "stream",
               "text": [
                  "\n",
                  "\u001b[A\n",
                  "\u001b[A\n",
                  "100%|██████████| 100/100 [00:00<00:00, 426.20it/s]\n"
               ]
            },
            {
               "name": "stdout",
               "output_type": "stream",
               "text": [
                  "test on day 1000\n"
               ]
            },
            {
               "name": "stderr",
               "output_type": "stream",
               "text": [
                  "\n",
                  "\u001b[A\n",
                  "\u001b[A\n",
                  "100%|██████████| 100/100 [00:00<00:00, 435.37it/s]\n"
               ]
            },
            {
               "name": "stdout",
               "output_type": "stream",
               "text": [
                  "test on day 1500\n"
               ]
            },
            {
               "name": "stderr",
               "output_type": "stream",
               "text": [
                  "\n",
                  "\u001b[A\n",
                  "\u001b[A\n",
                  "100%|██████████| 100/100 [00:00<00:00, 430.84it/s]\n"
               ]
            },
            {
               "name": "stdout",
               "output_type": "stream",
               "text": [
                  "test on day 2000\n"
               ]
            },
            {
               "name": "stderr",
               "output_type": "stream",
               "text": [
                  "\n",
                  "\u001b[A\n",
                  "\u001b[A\n",
                  "100%|██████████| 100/100 [00:00<00:00, 441.39it/s]\n"
               ]
            },
            {
               "name": "stdout",
               "output_type": "stream",
               "text": [
                  "core-periphery tests using the Lip approach\n",
                  "test on day 0\n"
               ]
            },
            {
               "name": "stderr",
               "output_type": "stream",
               "text": [
                  "\n",
                  "100%|██████████| 100/100 [00:00<00:00, 2854.71it/s]\n"
               ]
            },
            {
               "name": "stdout",
               "output_type": "stream",
               "text": [
                  "test on day 500\n"
               ]
            },
            {
               "name": "stderr",
               "output_type": "stream",
               "text": [
                  "\n",
                  "\u001b[A\n",
                  "\u001b[A\n",
                  "100%|██████████| 100/100 [00:00<00:00, 420.44it/s]\n"
               ]
            },
            {
               "name": "stdout",
               "output_type": "stream",
               "text": [
                  "test on day 1000\n"
               ]
            },
            {
               "name": "stderr",
               "output_type": "stream",
               "text": [
                  "\n",
                  "\u001b[A\n",
                  "\u001b[A\n",
                  "100%|██████████| 100/100 [00:00<00:00, 433.18it/s]\n"
               ]
            },
            {
               "name": "stdout",
               "output_type": "stream",
               "text": [
                  "test on day 1500\n"
               ]
            },
            {
               "name": "stderr",
               "output_type": "stream",
               "text": [
                  "\n",
                  "\u001b[A\n",
                  "\u001b[A\n",
                  "100%|██████████| 100/100 [00:00<00:00, 429.09it/s]\n"
               ]
            },
            {
               "name": "stdout",
               "output_type": "stream",
               "text": [
                  "test on day 2000\n"
               ]
            },
            {
               "name": "stderr",
               "output_type": "stream",
               "text": [
                  "\n",
                  "\u001b[A\n",
                  "\u001b[A\n",
                  "100%|██████████| 100/100 [00:00<00:00, 437.14it/s]\n"
               ]
            },
            {
               "name": "stdout",
               "output_type": "stream",
               "text": [
                  "core-periphery tests using the Lip approach\n",
                  "test on day 0\n"
               ]
            },
            {
               "name": "stderr",
               "output_type": "stream",
               "text": [
                  "\n",
                  "100%|██████████| 100/100 [00:00<00:00, 1668.56it/s]\n"
               ]
            },
            {
               "name": "stdout",
               "output_type": "stream",
               "text": [
                  "test on day 500\n"
               ]
            },
            {
               "name": "stderr",
               "output_type": "stream",
               "text": [
                  "\n",
                  "\u001b[A\n",
                  "\u001b[A\n",
                  "100%|██████████| 100/100 [00:00<00:00, 433.81it/s]\n"
               ]
            },
            {
               "name": "stdout",
               "output_type": "stream",
               "text": [
                  "test on day 1000\n"
               ]
            },
            {
               "name": "stderr",
               "output_type": "stream",
               "text": [
                  "\n",
                  "\u001b[A\n",
                  "\u001b[A\n",
                  "100%|██████████| 100/100 [00:00<00:00, 442.44it/s]\n"
               ]
            },
            {
               "name": "stdout",
               "output_type": "stream",
               "text": [
                  "test on day 1500\n"
               ]
            },
            {
               "name": "stderr",
               "output_type": "stream",
               "text": [
                  "\n",
                  "\u001b[A\n",
                  "\u001b[A\n",
                  "100%|██████████| 100/100 [00:00<00:00, 437.50it/s]\n"
               ]
            },
            {
               "name": "stdout",
               "output_type": "stream",
               "text": [
                  "test on day 2000\n"
               ]
            },
            {
               "name": "stderr",
               "output_type": "stream",
               "text": [
                  "\n",
                  "\u001b[A\n",
                  "\u001b[A\n",
                  "100%|██████████| 100/100 [00:00<00:00, 442.86it/s]\n",
                  "100%|██████████| 5/5 [00:04<00:00,  1.00it/s]\n"
               ]
            },
            {
               "name": "stdout",
               "output_type": "stream",
               "text": [
                  "get transaction stats av. network\n"
               ]
            },
            {
               "name": "stderr",
               "output_type": "stream",
               "text": [
                  "100%|██████████| 2000/2000 [00:07<00:00, 267.06it/s]\n"
               ]
            },
            {
               "name": "stdout",
               "output_type": "stream",
               "text": [
                  "get transaction stats av. bank\n"
               ]
            },
            {
               "name": "stderr",
               "output_type": "stream",
               "text": [
                  "100%|██████████| 2000/2000 [00:01<00:00, 1097.12it/s]\n",
                  " 50%|████▉     | 2498/4999 [08:16<03:40, 11.32it/s]   "
               ]
            },
            {
               "name": "stdout",
               "output_type": "stream",
               "text": [
                  "get df_rev_repo_trans\n"
               ]
            },
            {
               "name": "stderr",
               "output_type": "stream",
               "text": [
                  "100%|██████████| 50/50 [00:00<00:00, 816012.45it/s]\n"
               ]
            },
            {
               "name": "stdout",
               "output_type": "stream",
               "text": [
                  "get df_rev_repo_trans\n"
               ]
            },
            {
               "name": "stderr",
               "output_type": "stream",
               "text": [
                  "100%|██████████| 50/50 [00:00<00:00, 948937.56it/s]\n"
               ]
            },
            {
               "name": "stdout",
               "output_type": "stream",
               "text": [
                  "get arr_rev_repo_exp_adj\n"
               ]
            },
            {
               "name": "stderr",
               "output_type": "stream",
               "text": [
                  "41654it [01:09, 598.08it/s] 08:29<03:40, 11.32it/s]\n"
               ]
            },
            {
               "name": "stdout",
               "output_type": "stream",
               "text": [
                  "get arr_binary_adj (numba)\n",
                  "get degree distribution\n"
               ]
            },
            {
               "name": "stderr",
               "output_type": "stream",
               "text": [
                  "100%|██████████| 2500/2500 [00:09<00:00, 258.03it/s]\n"
               ]
            },
            {
               "name": "stdout",
               "output_type": "stream",
               "text": [
                  "get jaccard\n"
               ]
            },
            {
               "name": "stderr",
               "output_type": "stream",
               "text": [
                  "100%|██████████| 2499/2499 [00:00<00:00, 4950.01it/s]\n"
               ]
            },
            {
               "name": "stdout",
               "output_type": "stream",
               "text": [
                  "get density\n"
               ]
            },
            {
               "name": "stderr",
               "output_type": "stream",
               "text": [
                  "100%|██████████| 2499/2499 [00:00<00:00, 5071.97it/s]\n"
               ]
            },
            {
               "name": "stdout",
               "output_type": "stream",
               "text": [
                  "get degree stats\n"
               ]
            },
            {
               "name": "stderr",
               "output_type": "stream",
               "text": [
                  "100%|██████████| 2499/2499 [00:01<00:00, 1724.27it/s]\n"
               ]
            },
            {
               "name": "stdout",
               "output_type": "stream",
               "text": [
                  "get exposure stats\n"
               ]
            },
            {
               "name": "stderr",
               "output_type": "stream",
               "text": [
                  "100%|██████████| 2501/2501 [00:00<00:00, 5048.94it/s]\n"
               ]
            },
            {
               "name": "stdout",
               "output_type": "stream",
               "text": [
                  "run core-periphery tests\n"
               ]
            },
            {
               "name": "stderr",
               "output_type": "stream",
               "text": []
            },
            {
               "name": "stdout",
               "output_type": "stream",
               "text": [
                  "core-periphery tests using the Lip approach\n",
                  "test on day 0\n"
               ]
            },
            {
               "name": "stderr",
               "output_type": "stream",
               "text": [
                  "\n",
                  "100%|██████████| 100/100 [00:00<00:00, 2816.56it/s]\n"
               ]
            },
            {
               "name": "stdout",
               "output_type": "stream",
               "text": [
                  "test on day 500\n"
               ]
            },
            {
               "name": "stderr",
               "output_type": "stream",
               "text": [
                  "\n",
                  "\u001b[A\n",
                  "\u001b[A\n",
                  "100%|██████████| 100/100 [00:00<00:00, 427.48it/s]\n"
               ]
            },
            {
               "name": "stdout",
               "output_type": "stream",
               "text": [
                  "test on day 1000\n"
               ]
            },
            {
               "name": "stderr",
               "output_type": "stream",
               "text": [
                  "\n",
                  "\u001b[A\n",
                  "\u001b[A\n",
                  "100%|██████████| 100/100 [00:00<00:00, 443.58it/s]\n"
               ]
            },
            {
               "name": "stdout",
               "output_type": "stream",
               "text": [
                  "test on day 1500\n"
               ]
            },
            {
               "name": "stderr",
               "output_type": "stream",
               "text": [
                  "\n",
                  "\u001b[A\n",
                  "\u001b[A\n",
                  "100%|██████████| 100/100 [00:00<00:00, 440.00it/s]\n"
               ]
            },
            {
               "name": "stdout",
               "output_type": "stream",
               "text": [
                  "test on day 2000\n"
               ]
            },
            {
               "name": "stderr",
               "output_type": "stream",
               "text": [
                  "\n",
                  "\u001b[A\n",
                  "\u001b[A\n",
                  "100%|██████████| 100/100 [00:00<00:00, 444.67it/s]\n"
               ]
            },
            {
               "name": "stdout",
               "output_type": "stream",
               "text": [
                  "test on day 2500\n"
               ]
            },
            {
               "name": "stderr",
               "output_type": "stream",
               "text": [
                  "\n",
                  "\u001b[A\n",
                  "\u001b[A\n",
                  "100%|██████████| 100/100 [00:00<00:00, 438.23it/s]\n"
               ]
            },
            {
               "name": "stdout",
               "output_type": "stream",
               "text": [
                  "core-periphery tests using the Lip approach\n",
                  "test on day 0\n"
               ]
            },
            {
               "name": "stderr",
               "output_type": "stream",
               "text": [
                  "\n",
                  "100%|██████████| 100/100 [00:00<00:00, 2870.08it/s]\n"
               ]
            },
            {
               "name": "stdout",
               "output_type": "stream",
               "text": [
                  "test on day 500\n"
               ]
            },
            {
               "name": "stderr",
               "output_type": "stream",
               "text": [
                  "\n",
                  "\u001b[A\n",
                  "\u001b[A\n",
                  "100%|██████████| 100/100 [00:00<00:00, 433.77it/s]\n"
               ]
            },
            {
               "name": "stdout",
               "output_type": "stream",
               "text": [
                  "test on day 1000\n"
               ]
            },
            {
               "name": "stderr",
               "output_type": "stream",
               "text": [
                  "\n",
                  "\u001b[A\n",
                  "\u001b[A\n",
                  "100%|██████████| 100/100 [00:00<00:00, 436.02it/s]\n"
               ]
            },
            {
               "name": "stdout",
               "output_type": "stream",
               "text": [
                  "test on day 1500\n"
               ]
            },
            {
               "name": "stderr",
               "output_type": "stream",
               "text": [
                  "\n",
                  "\u001b[A\n",
                  "\u001b[A\n",
                  "100%|██████████| 100/100 [00:00<00:00, 433.88it/s]\n"
               ]
            },
            {
               "name": "stdout",
               "output_type": "stream",
               "text": [
                  "test on day 2000\n"
               ]
            },
            {
               "name": "stderr",
               "output_type": "stream",
               "text": [
                  "\n",
                  "\u001b[A\n",
                  "\u001b[A\n",
                  "100%|██████████| 100/100 [00:00<00:00, 443.58it/s]\n"
               ]
            },
            {
               "name": "stdout",
               "output_type": "stream",
               "text": [
                  "test on day 2500\n"
               ]
            },
            {
               "name": "stderr",
               "output_type": "stream",
               "text": [
                  "\n",
                  "\u001b[A\n",
                  "\u001b[A\n",
                  "100%|██████████| 100/100 [00:00<00:00, 434.29it/s]\n"
               ]
            },
            {
               "name": "stdout",
               "output_type": "stream",
               "text": [
                  "core-periphery tests using the Lip approach\n",
                  "test on day 0\n"
               ]
            },
            {
               "name": "stderr",
               "output_type": "stream",
               "text": [
                  "\n",
                  "100%|██████████| 100/100 [00:00<00:00, 2848.21it/s]\n"
               ]
            },
            {
               "name": "stdout",
               "output_type": "stream",
               "text": [
                  "test on day 500\n"
               ]
            },
            {
               "name": "stderr",
               "output_type": "stream",
               "text": [
                  "\n",
                  "\u001b[A\n",
                  "\u001b[A\n",
                  "100%|██████████| 100/100 [00:00<00:00, 430.58it/s]\n"
               ]
            },
            {
               "name": "stdout",
               "output_type": "stream",
               "text": [
                  "test on day 1000\n"
               ]
            },
            {
               "name": "stderr",
               "output_type": "stream",
               "text": [
                  "\n",
                  "\u001b[A\n",
                  "\u001b[A\n",
                  "100%|██████████| 100/100 [00:00<00:00, 435.58it/s]\n"
               ]
            },
            {
               "name": "stdout",
               "output_type": "stream",
               "text": [
                  "test on day 1500\n"
               ]
            },
            {
               "name": "stderr",
               "output_type": "stream",
               "text": [
                  "\n",
                  "\u001b[A\n",
                  "\u001b[A\n",
                  "100%|██████████| 100/100 [00:00<00:00, 431.38it/s]\n"
               ]
            },
            {
               "name": "stdout",
               "output_type": "stream",
               "text": [
                  "test on day 2000\n"
               ]
            },
            {
               "name": "stderr",
               "output_type": "stream",
               "text": [
                  "\n",
                  "\u001b[A\n",
                  "\u001b[A\n",
                  "100%|██████████| 100/100 [00:00<00:00, 439.54it/s]\n"
               ]
            },
            {
               "name": "stdout",
               "output_type": "stream",
               "text": [
                  "test on day 2500\n"
               ]
            },
            {
               "name": "stderr",
               "output_type": "stream",
               "text": [
                  "\n",
                  "\u001b[A\n",
                  "\u001b[A\n",
                  "100%|██████████| 100/100 [00:00<00:00, 433.92it/s]\n"
               ]
            },
            {
               "name": "stdout",
               "output_type": "stream",
               "text": [
                  "core-periphery tests using the Lip approach\n",
                  "test on day 0\n"
               ]
            },
            {
               "name": "stderr",
               "output_type": "stream",
               "text": [
                  "\n",
                  "100%|██████████| 100/100 [00:00<00:00, 2816.80it/s]\n"
               ]
            },
            {
               "name": "stdout",
               "output_type": "stream",
               "text": [
                  "test on day 500\n"
               ]
            },
            {
               "name": "stderr",
               "output_type": "stream",
               "text": [
                  "\n",
                  "\u001b[A\n",
                  "\u001b[A\n",
                  "100%|██████████| 100/100 [00:00<00:00, 422.52it/s]\n"
               ]
            },
            {
               "name": "stdout",
               "output_type": "stream",
               "text": [
                  "test on day 1000\n"
               ]
            },
            {
               "name": "stderr",
               "output_type": "stream",
               "text": [
                  "\n",
                  "\u001b[A\n",
                  "\u001b[A\n",
                  "100%|██████████| 100/100 [00:00<00:00, 432.08it/s]\n"
               ]
            },
            {
               "name": "stdout",
               "output_type": "stream",
               "text": [
                  "test on day 1500\n"
               ]
            },
            {
               "name": "stderr",
               "output_type": "stream",
               "text": [
                  "\n",
                  "\u001b[A\n",
                  "\u001b[A\n",
                  "100%|██████████| 100/100 [00:00<00:00, 427.92it/s]\n"
               ]
            },
            {
               "name": "stdout",
               "output_type": "stream",
               "text": [
                  "test on day 2000\n"
               ]
            },
            {
               "name": "stderr",
               "output_type": "stream",
               "text": [
                  "\n",
                  "\u001b[A\n",
                  "\u001b[A\n",
                  "100%|██████████| 100/100 [00:00<00:00, 436.13it/s]\n"
               ]
            },
            {
               "name": "stdout",
               "output_type": "stream",
               "text": [
                  "test on day 2500\n"
               ]
            },
            {
               "name": "stderr",
               "output_type": "stream",
               "text": [
                  "\n",
                  "\u001b[A\n",
                  "\u001b[A\n",
                  "100%|██████████| 100/100 [00:00<00:00, 430.84it/s]\n"
               ]
            },
            {
               "name": "stdout",
               "output_type": "stream",
               "text": [
                  "core-periphery tests using the Lip approach\n",
                  "test on day 0\n"
               ]
            },
            {
               "name": "stderr",
               "output_type": "stream",
               "text": [
                  "\n",
                  "100%|██████████| 100/100 [00:00<00:00, 1669.61it/s]\n"
               ]
            },
            {
               "name": "stdout",
               "output_type": "stream",
               "text": [
                  "test on day 500\n"
               ]
            },
            {
               "name": "stderr",
               "output_type": "stream",
               "text": [
                  "\n",
                  "\u001b[A\n",
                  "\u001b[A\n",
                  "100%|██████████| 100/100 [00:00<00:00, 434.95it/s]\n"
               ]
            },
            {
               "name": "stdout",
               "output_type": "stream",
               "text": [
                  "test on day 1000\n"
               ]
            },
            {
               "name": "stderr",
               "output_type": "stream",
               "text": [
                  "\n",
                  "\u001b[A\n",
                  "\u001b[A\n",
                  "100%|██████████| 100/100 [00:00<00:00, 439.40it/s]\n"
               ]
            },
            {
               "name": "stdout",
               "output_type": "stream",
               "text": [
                  "test on day 1500\n"
               ]
            },
            {
               "name": "stderr",
               "output_type": "stream",
               "text": [
                  "\n",
                  "\u001b[A\n",
                  "\u001b[A\n",
                  "100%|██████████| 100/100 [00:00<00:00, 435.99it/s]\n"
               ]
            },
            {
               "name": "stdout",
               "output_type": "stream",
               "text": [
                  "test on day 2000\n"
               ]
            },
            {
               "name": "stderr",
               "output_type": "stream",
               "text": [
                  "\n",
                  "\u001b[A\n",
                  "\u001b[A\n",
                  "100%|██████████| 100/100 [00:00<00:00, 440.63it/s]\n"
               ]
            },
            {
               "name": "stdout",
               "output_type": "stream",
               "text": [
                  "test on day 2500\n"
               ]
            },
            {
               "name": "stderr",
               "output_type": "stream",
               "text": [
                  "\n",
                  "\u001b[A\n",
                  "\u001b[A\n",
                  "100%|██████████| 100/100 [00:00<00:00, 431.76it/s]\n",
                  "100%|██████████| 5/5 [00:06<00:00,  1.24s/it]\n"
               ]
            },
            {
               "name": "stdout",
               "output_type": "stream",
               "text": [
                  "get transaction stats av. network\n"
               ]
            },
            {
               "name": "stderr",
               "output_type": "stream",
               "text": [
                  "100%|██████████| 2500/2500 [00:10<00:00, 234.18it/s]\n"
               ]
            },
            {
               "name": "stdout",
               "output_type": "stream",
               "text": [
                  "get transaction stats av. bank\n"
               ]
            },
            {
               "name": "stderr",
               "output_type": "stream",
               "text": [
                  "100%|██████████| 2500/2500 [00:02<00:00, 1075.42it/s]\n",
                  " 60%|█████▉    | 2999/4999 [11:28<02:52, 11.62it/s]   "
               ]
            },
            {
               "name": "stdout",
               "output_type": "stream",
               "text": [
                  "get df_rev_repo_trans\n"
               ]
            },
            {
               "name": "stderr",
               "output_type": "stream",
               "text": [
                  "100%|██████████| 50/50 [00:00<00:00, 620459.17it/s]\n"
               ]
            },
            {
               "name": "stdout",
               "output_type": "stream",
               "text": [
                  "get df_rev_repo_trans\n"
               ]
            },
            {
               "name": "stderr",
               "output_type": "stream",
               "text": [
                  "100%|██████████| 50/50 [00:00<00:00, 900065.24it/s]\n"
               ]
            },
            {
               "name": "stdout",
               "output_type": "stream",
               "text": [
                  "get arr_rev_repo_exp_adj\n"
               ]
            },
            {
               "name": "stderr",
               "output_type": "stream",
               "text": [
                  "48926it [01:30, 541.24it/s][11:38<02:52, 11.62it/s]\n"
               ]
            },
            {
               "name": "stdout",
               "output_type": "stream",
               "text": [
                  "get arr_binary_adj (numba)\n",
                  "get degree distribution\n"
               ]
            },
            {
               "name": "stderr",
               "output_type": "stream",
               "text": [
                  "100%|██████████| 3000/3000 [00:11<00:00, 257.49it/s]\n"
               ]
            },
            {
               "name": "stdout",
               "output_type": "stream",
               "text": [
                  "get jaccard\n"
               ]
            },
            {
               "name": "stderr",
               "output_type": "stream",
               "text": [
                  "100%|██████████| 2999/2999 [00:00<00:00, 4902.68it/s]\n"
               ]
            },
            {
               "name": "stdout",
               "output_type": "stream",
               "text": [
                  "get density\n"
               ]
            },
            {
               "name": "stderr",
               "output_type": "stream",
               "text": [
                  "100%|██████████| 2999/2999 [00:00<00:00, 5051.15it/s]\n"
               ]
            },
            {
               "name": "stdout",
               "output_type": "stream",
               "text": [
                  "get degree stats\n"
               ]
            },
            {
               "name": "stderr",
               "output_type": "stream",
               "text": [
                  "100%|██████████| 2999/2999 [00:01<00:00, 1711.11it/s]\n"
               ]
            },
            {
               "name": "stdout",
               "output_type": "stream",
               "text": [
                  "get exposure stats\n"
               ]
            },
            {
               "name": "stderr",
               "output_type": "stream",
               "text": [
                  "100%|██████████| 3001/3001 [00:00<00:00, 5008.97it/s]\n"
               ]
            },
            {
               "name": "stdout",
               "output_type": "stream",
               "text": [
                  "run core-periphery tests\n"
               ]
            },
            {
               "name": "stderr",
               "output_type": "stream",
               "text": []
            },
            {
               "name": "stdout",
               "output_type": "stream",
               "text": [
                  "core-periphery tests using the Lip approach\n",
                  "test on day 0\n"
               ]
            },
            {
               "name": "stderr",
               "output_type": "stream",
               "text": [
                  "\n",
                  "100%|██████████| 100/100 [00:00<00:00, 2829.25it/s]\n"
               ]
            },
            {
               "name": "stdout",
               "output_type": "stream",
               "text": [
                  "test on day 500\n"
               ]
            },
            {
               "name": "stderr",
               "output_type": "stream",
               "text": [
                  "\n",
                  "\u001b[A\n",
                  "\u001b[A\n",
                  "100%|██████████| 100/100 [00:00<00:00, 422.38it/s]\n"
               ]
            },
            {
               "name": "stdout",
               "output_type": "stream",
               "text": [
                  "test on day 1000\n"
               ]
            },
            {
               "name": "stderr",
               "output_type": "stream",
               "text": [
                  "\n",
                  "\u001b[A\n",
                  "\u001b[A\n",
                  "100%|██████████| 100/100 [00:00<00:00, 446.84it/s]\n"
               ]
            },
            {
               "name": "stdout",
               "output_type": "stream",
               "text": [
                  "test on day 1500\n"
               ]
            },
            {
               "name": "stderr",
               "output_type": "stream",
               "text": [
                  "\n",
                  "\u001b[A\n",
                  "\u001b[A\n",
                  "100%|██████████| 100/100 [00:00<00:00, 444.71it/s]\n"
               ]
            },
            {
               "name": "stdout",
               "output_type": "stream",
               "text": [
                  "test on day 2000\n"
               ]
            },
            {
               "name": "stderr",
               "output_type": "stream",
               "text": [
                  "\n",
                  "\u001b[A\n",
                  "\u001b[A\n",
                  "100%|██████████| 100/100 [00:00<00:00, 446.97it/s]\n"
               ]
            },
            {
               "name": "stdout",
               "output_type": "stream",
               "text": [
                  "test on day 2500\n"
               ]
            },
            {
               "name": "stderr",
               "output_type": "stream",
               "text": [
                  "\n",
                  "\u001b[A\n",
                  "\u001b[A\n",
                  "100%|██████████| 100/100 [00:00<00:00, 439.75it/s]\n"
               ]
            },
            {
               "name": "stdout",
               "output_type": "stream",
               "text": [
                  "test on day 3000\n"
               ]
            },
            {
               "name": "stderr",
               "output_type": "stream",
               "text": [
                  "\n",
                  "\u001b[A\n",
                  "\u001b[A\n",
                  "100%|██████████| 100/100 [00:00<00:00, 445.09it/s]\n"
               ]
            },
            {
               "name": "stdout",
               "output_type": "stream",
               "text": [
                  "core-periphery tests using the Lip approach\n",
                  "test on day 0\n"
               ]
            },
            {
               "name": "stderr",
               "output_type": "stream",
               "text": [
                  "\n",
                  "100%|██████████| 100/100 [00:00<00:00, 2868.00it/s]\n"
               ]
            },
            {
               "name": "stdout",
               "output_type": "stream",
               "text": [
                  "test on day 500\n"
               ]
            },
            {
               "name": "stderr",
               "output_type": "stream",
               "text": [
                  "\n",
                  "\u001b[A\n",
                  "\u001b[A\n",
                  "100%|██████████| 100/100 [00:00<00:00, 434.36it/s]\n"
               ]
            },
            {
               "name": "stdout",
               "output_type": "stream",
               "text": [
                  "test on day 1000\n"
               ]
            },
            {
               "name": "stderr",
               "output_type": "stream",
               "text": [
                  "\n",
                  "\u001b[A\n",
                  "\u001b[A\n",
                  "100%|██████████| 100/100 [00:00<00:00, 439.19it/s]\n"
               ]
            },
            {
               "name": "stdout",
               "output_type": "stream",
               "text": [
                  "test on day 1500\n"
               ]
            },
            {
               "name": "stderr",
               "output_type": "stream",
               "text": [
                  "\n",
                  "\u001b[A\n",
                  "\u001b[A\n",
                  "100%|██████████| 100/100 [00:00<00:00, 435.84it/s]\n"
               ]
            },
            {
               "name": "stdout",
               "output_type": "stream",
               "text": [
                  "test on day 2000\n"
               ]
            },
            {
               "name": "stderr",
               "output_type": "stream",
               "text": [
                  "\n",
                  "\u001b[A\n",
                  "\u001b[A\n",
                  "100%|██████████| 100/100 [00:00<00:00, 445.84it/s]\n"
               ]
            },
            {
               "name": "stdout",
               "output_type": "stream",
               "text": [
                  "test on day 2500\n"
               ]
            },
            {
               "name": "stderr",
               "output_type": "stream",
               "text": [
                  "\n",
                  "\u001b[A\n",
                  "\u001b[A\n",
                  "100%|██████████| 100/100 [00:00<00:00, 437.26it/s]\n"
               ]
            },
            {
               "name": "stdout",
               "output_type": "stream",
               "text": [
                  "test on day 3000\n"
               ]
            },
            {
               "name": "stderr",
               "output_type": "stream",
               "text": [
                  "\n",
                  "\u001b[A\n",
                  "\u001b[A\n",
                  "100%|██████████| 100/100 [00:00<00:00, 442.08it/s]\n"
               ]
            },
            {
               "name": "stdout",
               "output_type": "stream",
               "text": [
                  "core-periphery tests using the Lip approach\n",
                  "test on day 0\n"
               ]
            },
            {
               "name": "stderr",
               "output_type": "stream",
               "text": [
                  "\n",
                  "100%|██████████| 100/100 [00:00<00:00, 2875.55it/s]\n"
               ]
            },
            {
               "name": "stdout",
               "output_type": "stream",
               "text": [
                  "test on day 500\n"
               ]
            },
            {
               "name": "stderr",
               "output_type": "stream",
               "text": [
                  "\n",
                  "\u001b[A\n",
                  "\u001b[A\n",
                  "100%|██████████| 100/100 [00:00<00:00, 428.31it/s]\n"
               ]
            },
            {
               "name": "stdout",
               "output_type": "stream",
               "text": [
                  "test on day 1000\n"
               ]
            },
            {
               "name": "stderr",
               "output_type": "stream",
               "text": [
                  "\n",
                  "\u001b[A\n",
                  "\u001b[A\n",
                  "100%|██████████| 100/100 [00:00<00:00, 438.77it/s]\n"
               ]
            },
            {
               "name": "stdout",
               "output_type": "stream",
               "text": [
                  "test on day 1500\n"
               ]
            },
            {
               "name": "stderr",
               "output_type": "stream",
               "text": [
                  "\n",
                  "\u001b[A\n",
                  "\u001b[A\n",
                  "100%|██████████| 100/100 [00:00<00:00, 432.09it/s]\n"
               ]
            },
            {
               "name": "stdout",
               "output_type": "stream",
               "text": [
                  "test on day 2000\n"
               ]
            },
            {
               "name": "stderr",
               "output_type": "stream",
               "text": [
                  "\n",
                  "\u001b[A\n",
                  "\u001b[A\n",
                  "100%|██████████| 100/100 [00:00<00:00, 442.88it/s]\n"
               ]
            },
            {
               "name": "stdout",
               "output_type": "stream",
               "text": [
                  "test on day 2500\n"
               ]
            },
            {
               "name": "stderr",
               "output_type": "stream",
               "text": [
                  "\n",
                  "\u001b[A\n",
                  "\u001b[A\n",
                  "100%|██████████| 100/100 [00:00<00:00, 434.80it/s]\n"
               ]
            },
            {
               "name": "stdout",
               "output_type": "stream",
               "text": [
                  "test on day 3000\n"
               ]
            },
            {
               "name": "stderr",
               "output_type": "stream",
               "text": [
                  "\n",
                  "\u001b[A\n",
                  "\u001b[A\n",
                  "100%|██████████| 100/100 [00:00<00:00, 437.73it/s]\n"
               ]
            },
            {
               "name": "stdout",
               "output_type": "stream",
               "text": [
                  "core-periphery tests using the Lip approach\n",
                  "test on day 0\n"
               ]
            },
            {
               "name": "stderr",
               "output_type": "stream",
               "text": [
                  "\n",
                  "100%|██████████| 100/100 [00:00<00:00, 3021.59it/s]\n"
               ]
            },
            {
               "name": "stdout",
               "output_type": "stream",
               "text": [
                  "test on day 500\n"
               ]
            },
            {
               "name": "stderr",
               "output_type": "stream",
               "text": [
                  "\n",
                  "\u001b[A\n",
                  "\u001b[A\n",
                  "100%|██████████| 100/100 [00:00<00:00, 423.73it/s]\n"
               ]
            },
            {
               "name": "stdout",
               "output_type": "stream",
               "text": [
                  "test on day 1000\n"
               ]
            },
            {
               "name": "stderr",
               "output_type": "stream",
               "text": [
                  "\n",
                  "\u001b[A\n",
                  "\u001b[A\n",
                  "100%|██████████| 100/100 [00:00<00:00, 435.69it/s]\n"
               ]
            },
            {
               "name": "stdout",
               "output_type": "stream",
               "text": [
                  "test on day 1500\n"
               ]
            },
            {
               "name": "stderr",
               "output_type": "stream",
               "text": [
                  "\n",
                  "\u001b[A\n",
                  "\u001b[A\n",
                  "100%|██████████| 100/100 [00:00<00:00, 429.28it/s]\n"
               ]
            },
            {
               "name": "stdout",
               "output_type": "stream",
               "text": [
                  "test on day 2000\n"
               ]
            },
            {
               "name": "stderr",
               "output_type": "stream",
               "text": [
                  "\n",
                  "\u001b[A\n",
                  "\u001b[A\n",
                  "100%|██████████| 100/100 [00:00<00:00, 437.93it/s]\n"
               ]
            },
            {
               "name": "stdout",
               "output_type": "stream",
               "text": [
                  "test on day 2500\n"
               ]
            },
            {
               "name": "stderr",
               "output_type": "stream",
               "text": [
                  "\n",
                  "\u001b[A\n",
                  "\u001b[A\n",
                  "100%|██████████| 100/100 [00:00<00:00, 432.14it/s]\n"
               ]
            },
            {
               "name": "stdout",
               "output_type": "stream",
               "text": [
                  "test on day 3000\n"
               ]
            },
            {
               "name": "stderr",
               "output_type": "stream",
               "text": [
                  "\n",
                  "\u001b[A\n",
                  "\u001b[A\n",
                  "100%|██████████| 100/100 [00:00<00:00, 433.79it/s]\n"
               ]
            },
            {
               "name": "stdout",
               "output_type": "stream",
               "text": [
                  "core-periphery tests using the Lip approach\n",
                  "test on day 0\n"
               ]
            },
            {
               "name": "stderr",
               "output_type": "stream",
               "text": [
                  "\n",
                  "100%|██████████| 100/100 [00:00<00:00, 1648.04it/s]\n"
               ]
            },
            {
               "name": "stdout",
               "output_type": "stream",
               "text": [
                  "test on day 500\n"
               ]
            },
            {
               "name": "stderr",
               "output_type": "stream",
               "text": [
                  "\n",
                  "\u001b[A\n",
                  "\u001b[A\n",
                  "100%|██████████| 100/100 [00:00<00:00, 436.28it/s]\n"
               ]
            },
            {
               "name": "stdout",
               "output_type": "stream",
               "text": [
                  "test on day 1000\n"
               ]
            },
            {
               "name": "stderr",
               "output_type": "stream",
               "text": [
                  "\n",
                  "\u001b[A\n",
                  "\u001b[A\n",
                  "100%|██████████| 100/100 [00:00<00:00, 441.29it/s]\n"
               ]
            },
            {
               "name": "stdout",
               "output_type": "stream",
               "text": [
                  "test on day 1500\n"
               ]
            },
            {
               "name": "stderr",
               "output_type": "stream",
               "text": [
                  "\n",
                  "\u001b[A\n",
                  "\u001b[A\n",
                  "100%|██████████| 100/100 [00:00<00:00, 439.24it/s]\n"
               ]
            },
            {
               "name": "stdout",
               "output_type": "stream",
               "text": [
                  "test on day 2000\n"
               ]
            },
            {
               "name": "stderr",
               "output_type": "stream",
               "text": [
                  "\n",
                  "\u001b[A\n",
                  "\u001b[A\n",
                  "100%|██████████| 100/100 [00:00<00:00, 434.83it/s]\n"
               ]
            },
            {
               "name": "stdout",
               "output_type": "stream",
               "text": [
                  "test on day 2500\n"
               ]
            },
            {
               "name": "stderr",
               "output_type": "stream",
               "text": [
                  "\n",
                  "\u001b[A\n",
                  "\u001b[A\n",
                  "100%|██████████| 100/100 [00:00<00:00, 435.28it/s]\n"
               ]
            },
            {
               "name": "stdout",
               "output_type": "stream",
               "text": [
                  "test on day 3000\n"
               ]
            },
            {
               "name": "stderr",
               "output_type": "stream",
               "text": [
                  "\n",
                  "\u001b[A\n",
                  "\u001b[A\n",
                  "100%|██████████| 100/100 [00:00<00:00, 444.15it/s]\n",
                  "100%|██████████| 5/5 [00:07<00:00,  1.47s/it]\n"
               ]
            },
            {
               "name": "stdout",
               "output_type": "stream",
               "text": [
                  "get transaction stats av. network\n"
               ]
            },
            {
               "name": "stderr",
               "output_type": "stream",
               "text": [
                  "100%|██████████| 3000/3000 [00:14<00:00, 208.46it/s]\n"
               ]
            },
            {
               "name": "stdout",
               "output_type": "stream",
               "text": [
                  "get transaction stats av. bank\n"
               ]
            },
            {
               "name": "stderr",
               "output_type": "stream",
               "text": [
                  "100%|██████████| 3000/3000 [00:02<00:00, 1043.36it/s]\n",
                  " 70%|██████▉   | 3499/4999 [15:18<02:04, 12.08it/s]   "
               ]
            },
            {
               "name": "stdout",
               "output_type": "stream",
               "text": [
                  "get df_rev_repo_trans\n"
               ]
            },
            {
               "name": "stderr",
               "output_type": "stream",
               "text": [
                  "100%|██████████| 50/50 [00:00<00:00, 773856.83it/s]\n"
               ]
            },
            {
               "name": "stdout",
               "output_type": "stream",
               "text": [
                  "get df_rev_repo_trans\n"
               ]
            },
            {
               "name": "stderr",
               "output_type": "stream",
               "text": [
                  "100%|██████████| 50/50 [00:00<00:00, 915786.90it/s]\n"
               ]
            },
            {
               "name": "stdout",
               "output_type": "stream",
               "text": [
                  "get arr_rev_repo_exp_adj\n"
               ]
            },
            {
               "name": "stderr",
               "output_type": "stream",
               "text": [
                  "55461it [01:53, 488.18it/s] 15:34<02:04, 12.08it/s]\n"
               ]
            },
            {
               "name": "stdout",
               "output_type": "stream",
               "text": [
                  "get arr_binary_adj (numba)\n",
                  "get degree distribution\n"
               ]
            },
            {
               "name": "stderr",
               "output_type": "stream",
               "text": [
                  "100%|██████████| 3500/3500 [00:14<00:00, 243.40it/s]\n"
               ]
            },
            {
               "name": "stdout",
               "output_type": "stream",
               "text": [
                  "get jaccard\n"
               ]
            },
            {
               "name": "stderr",
               "output_type": "stream",
               "text": [
                  "100%|██████████| 3499/3499 [00:00<00:00, 4651.62it/s]\n"
               ]
            },
            {
               "name": "stdout",
               "output_type": "stream",
               "text": [
                  "get density\n"
               ]
            },
            {
               "name": "stderr",
               "output_type": "stream",
               "text": [
                  "100%|██████████| 3499/3499 [00:00<00:00, 5018.60it/s]\n"
               ]
            },
            {
               "name": "stdout",
               "output_type": "stream",
               "text": [
                  "get degree stats\n"
               ]
            },
            {
               "name": "stderr",
               "output_type": "stream",
               "text": [
                  "100%|██████████| 3499/3499 [00:02<00:00, 1700.60it/s]\n"
               ]
            },
            {
               "name": "stdout",
               "output_type": "stream",
               "text": [
                  "get exposure stats\n"
               ]
            },
            {
               "name": "stderr",
               "output_type": "stream",
               "text": [
                  "100%|██████████| 3501/3501 [00:00<00:00, 4908.92it/s]\n"
               ]
            },
            {
               "name": "stdout",
               "output_type": "stream",
               "text": [
                  "run core-periphery tests\n"
               ]
            },
            {
               "name": "stderr",
               "output_type": "stream",
               "text": []
            },
            {
               "name": "stdout",
               "output_type": "stream",
               "text": [
                  "core-periphery tests using the Lip approach\n",
                  "test on day 0\n"
               ]
            },
            {
               "name": "stderr",
               "output_type": "stream",
               "text": [
                  "\n",
                  "100%|██████████| 100/100 [00:00<00:00, 2775.02it/s]\n"
               ]
            },
            {
               "name": "stdout",
               "output_type": "stream",
               "text": [
                  "test on day 500\n"
               ]
            },
            {
               "name": "stderr",
               "output_type": "stream",
               "text": [
                  "\n",
                  "\u001b[A\n",
                  "\u001b[A\n",
                  "100%|██████████| 100/100 [00:00<00:00, 410.58it/s]\n"
               ]
            },
            {
               "name": "stdout",
               "output_type": "stream",
               "text": [
                  "test on day 1000\n"
               ]
            },
            {
               "name": "stderr",
               "output_type": "stream",
               "text": [
                  "\n",
                  "\u001b[A\n",
                  "\u001b[A\n",
                  "100%|██████████| 100/100 [00:00<00:00, 431.41it/s]\n"
               ]
            },
            {
               "name": "stdout",
               "output_type": "stream",
               "text": [
                  "test on day 1500\n"
               ]
            },
            {
               "name": "stderr",
               "output_type": "stream",
               "text": [
                  "\n",
                  "\u001b[A\n",
                  "\u001b[A\n",
                  "100%|██████████| 100/100 [00:00<00:00, 427.15it/s]\n"
               ]
            },
            {
               "name": "stdout",
               "output_type": "stream",
               "text": [
                  "test on day 2000\n"
               ]
            },
            {
               "name": "stderr",
               "output_type": "stream",
               "text": [
                  "\n",
                  "\u001b[A\n",
                  "\u001b[A\n",
                  "100%|██████████| 100/100 [00:00<00:00, 429.57it/s]\n"
               ]
            },
            {
               "name": "stdout",
               "output_type": "stream",
               "text": [
                  "test on day 2500\n"
               ]
            },
            {
               "name": "stderr",
               "output_type": "stream",
               "text": [
                  "\n",
                  "\u001b[A\n",
                  "\u001b[A\n",
                  "100%|██████████| 100/100 [00:00<00:00, 423.26it/s]\n"
               ]
            },
            {
               "name": "stdout",
               "output_type": "stream",
               "text": [
                  "test on day 3000\n"
               ]
            },
            {
               "name": "stderr",
               "output_type": "stream",
               "text": [
                  "\n",
                  "\u001b[A\n",
                  "\u001b[A\n",
                  "100%|██████████| 100/100 [00:00<00:00, 430.45it/s]\n"
               ]
            },
            {
               "name": "stdout",
               "output_type": "stream",
               "text": [
                  "test on day 3500\n"
               ]
            },
            {
               "name": "stderr",
               "output_type": "stream",
               "text": [
                  "\n",
                  "\u001b[A\n",
                  "\u001b[A\n",
                  "100%|██████████| 100/100 [00:00<00:00, 422.76it/s]\n"
               ]
            },
            {
               "name": "stdout",
               "output_type": "stream",
               "text": [
                  "core-periphery tests using the Lip approach\n",
                  "test on day 0\n"
               ]
            },
            {
               "name": "stderr",
               "output_type": "stream",
               "text": [
                  "\n",
                  "100%|██████████| 100/100 [00:00<00:00, 2786.69it/s]\n"
               ]
            },
            {
               "name": "stdout",
               "output_type": "stream",
               "text": [
                  "test on day 500\n"
               ]
            },
            {
               "name": "stderr",
               "output_type": "stream",
               "text": [
                  "\n",
                  "\u001b[A\n",
                  "\u001b[A\n",
                  "100%|██████████| 100/100 [00:00<00:00, 419.91it/s]\n"
               ]
            },
            {
               "name": "stdout",
               "output_type": "stream",
               "text": [
                  "test on day 1000\n"
               ]
            },
            {
               "name": "stderr",
               "output_type": "stream",
               "text": [
                  "\n",
                  "\u001b[A\n",
                  "\u001b[A\n",
                  "100%|██████████| 100/100 [00:00<00:00, 423.06it/s]\n"
               ]
            },
            {
               "name": "stdout",
               "output_type": "stream",
               "text": [
                  "test on day 1500\n"
               ]
            },
            {
               "name": "stderr",
               "output_type": "stream",
               "text": [
                  "\n",
                  "\u001b[A\n",
                  "\u001b[A\n",
                  "100%|██████████| 100/100 [00:00<00:00, 412.49it/s]\n"
               ]
            },
            {
               "name": "stdout",
               "output_type": "stream",
               "text": [
                  "test on day 2000\n"
               ]
            },
            {
               "name": "stderr",
               "output_type": "stream",
               "text": [
                  "\n",
                  "\u001b[A\n",
                  "\u001b[A\n",
                  "100%|██████████| 100/100 [00:00<00:00, 415.22it/s]\n"
               ]
            },
            {
               "name": "stdout",
               "output_type": "stream",
               "text": [
                  "test on day 2500\n"
               ]
            },
            {
               "name": "stderr",
               "output_type": "stream",
               "text": [
                  "\n",
                  "\u001b[A\n",
                  "\u001b[A\n",
                  "100%|██████████| 100/100 [00:00<00:00, 408.63it/s]\n"
               ]
            },
            {
               "name": "stdout",
               "output_type": "stream",
               "text": [
                  "test on day 3000\n"
               ]
            },
            {
               "name": "stderr",
               "output_type": "stream",
               "text": [
                  "\n",
                  "\u001b[A\n",
                  "\u001b[A\n",
                  "100%|██████████| 100/100 [00:00<00:00, 410.69it/s]\n"
               ]
            },
            {
               "name": "stdout",
               "output_type": "stream",
               "text": [
                  "test on day 3500\n"
               ]
            },
            {
               "name": "stderr",
               "output_type": "stream",
               "text": [
                  "\n",
                  "\u001b[A\n",
                  "\u001b[A\n",
                  "100%|██████████| 100/100 [00:00<00:00, 409.26it/s]\n"
               ]
            },
            {
               "name": "stdout",
               "output_type": "stream",
               "text": [
                  "core-periphery tests using the Lip approach\n",
                  "test on day 0\n"
               ]
            },
            {
               "name": "stderr",
               "output_type": "stream",
               "text": [
                  "\n",
                  "100%|██████████| 100/100 [00:00<00:00, 2822.39it/s]\n"
               ]
            },
            {
               "name": "stdout",
               "output_type": "stream",
               "text": [
                  "test on day 500\n"
               ]
            },
            {
               "name": "stderr",
               "output_type": "stream",
               "text": [
                  "\n",
                  "\u001b[A\n",
                  "\u001b[A\n",
                  "100%|██████████| 100/100 [00:00<00:00, 404.22it/s]\n"
               ]
            },
            {
               "name": "stdout",
               "output_type": "stream",
               "text": [
                  "test on day 1000\n"
               ]
            },
            {
               "name": "stderr",
               "output_type": "stream",
               "text": [
                  "\n",
                  "\u001b[A\n",
                  "\u001b[A\n",
                  "100%|██████████| 100/100 [00:00<00:00, 405.34it/s]\n"
               ]
            },
            {
               "name": "stdout",
               "output_type": "stream",
               "text": [
                  "test on day 1500\n"
               ]
            },
            {
               "name": "stderr",
               "output_type": "stream",
               "text": [
                  "\n",
                  "\u001b[A\n",
                  "\u001b[A\n",
                  "100%|██████████| 100/100 [00:00<00:00, 412.70it/s]\n"
               ]
            },
            {
               "name": "stdout",
               "output_type": "stream",
               "text": [
                  "test on day 2000\n"
               ]
            },
            {
               "name": "stderr",
               "output_type": "stream",
               "text": [
                  "\n",
                  "\u001b[A\n",
                  "\u001b[A\n",
                  "100%|██████████| 100/100 [00:00<00:00, 434.21it/s]\n"
               ]
            },
            {
               "name": "stdout",
               "output_type": "stream",
               "text": [
                  "test on day 2500\n"
               ]
            },
            {
               "name": "stderr",
               "output_type": "stream",
               "text": [
                  "\n",
                  "\u001b[A\n",
                  "\u001b[A\n",
                  "100%|██████████| 100/100 [00:00<00:00, 430.77it/s]\n"
               ]
            },
            {
               "name": "stdout",
               "output_type": "stream",
               "text": [
                  "test on day 3000\n"
               ]
            },
            {
               "name": "stderr",
               "output_type": "stream",
               "text": [
                  "\n",
                  "\u001b[A\n",
                  "\u001b[A\n",
                  "100%|██████████| 100/100 [00:00<00:00, 431.14it/s]\n"
               ]
            },
            {
               "name": "stdout",
               "output_type": "stream",
               "text": [
                  "test on day 3500\n"
               ]
            },
            {
               "name": "stderr",
               "output_type": "stream",
               "text": [
                  "\n",
                  "\u001b[A\n",
                  "\u001b[A\n",
                  "100%|██████████| 100/100 [00:00<00:00, 436.29it/s]\n"
               ]
            },
            {
               "name": "stdout",
               "output_type": "stream",
               "text": [
                  "core-periphery tests using the Lip approach\n",
                  "test on day 0\n"
               ]
            },
            {
               "name": "stderr",
               "output_type": "stream",
               "text": [
                  "\n",
                  "100%|██████████| 100/100 [00:00<00:00, 2783.58it/s]\n"
               ]
            },
            {
               "name": "stdout",
               "output_type": "stream",
               "text": [
                  "test on day 500\n"
               ]
            },
            {
               "name": "stderr",
               "output_type": "stream",
               "text": [
                  "\n",
                  "\u001b[A\n",
                  "\u001b[A\n",
                  "100%|██████████| 100/100 [00:00<00:00, 419.96it/s]\n"
               ]
            },
            {
               "name": "stdout",
               "output_type": "stream",
               "text": [
                  "test on day 1000\n"
               ]
            },
            {
               "name": "stderr",
               "output_type": "stream",
               "text": [
                  "\n",
                  "\u001b[A\n",
                  "\u001b[A\n",
                  "100%|██████████| 100/100 [00:00<00:00, 431.33it/s]\n"
               ]
            },
            {
               "name": "stdout",
               "output_type": "stream",
               "text": [
                  "test on day 1500\n"
               ]
            },
            {
               "name": "stderr",
               "output_type": "stream",
               "text": [
                  "\n",
                  "\u001b[A\n",
                  "\u001b[A\n",
                  "100%|██████████| 100/100 [00:00<00:00, 426.72it/s]\n"
               ]
            },
            {
               "name": "stdout",
               "output_type": "stream",
               "text": [
                  "test on day 2000\n"
               ]
            },
            {
               "name": "stderr",
               "output_type": "stream",
               "text": [
                  "\n",
                  "\u001b[A\n",
                  "\u001b[A\n",
                  "100%|██████████| 100/100 [00:00<00:00, 433.90it/s]\n"
               ]
            },
            {
               "name": "stdout",
               "output_type": "stream",
               "text": [
                  "test on day 2500\n"
               ]
            },
            {
               "name": "stderr",
               "output_type": "stream",
               "text": [
                  "\n",
                  "\u001b[A\n",
                  "\u001b[A\n",
                  "100%|██████████| 100/100 [00:00<00:00, 432.21it/s]\n"
               ]
            },
            {
               "name": "stdout",
               "output_type": "stream",
               "text": [
                  "test on day 3000\n"
               ]
            },
            {
               "name": "stderr",
               "output_type": "stream",
               "text": [
                  "\n",
                  "\u001b[A\n",
                  "\u001b[A\n",
                  "100%|██████████| 100/100 [00:00<00:00, 430.29it/s]\n"
               ]
            },
            {
               "name": "stdout",
               "output_type": "stream",
               "text": [
                  "test on day 3500\n"
               ]
            },
            {
               "name": "stderr",
               "output_type": "stream",
               "text": [
                  "\n",
                  "\u001b[A\n",
                  "\u001b[A\n",
                  "100%|██████████| 100/100 [00:00<00:00, 439.38it/s]\n"
               ]
            },
            {
               "name": "stdout",
               "output_type": "stream",
               "text": [
                  "core-periphery tests using the Lip approach\n",
                  "test on day 0\n"
               ]
            },
            {
               "name": "stderr",
               "output_type": "stream",
               "text": [
                  "\n",
                  "100%|██████████| 100/100 [00:00<00:00, 1670.19it/s]\n"
               ]
            },
            {
               "name": "stdout",
               "output_type": "stream",
               "text": [
                  "test on day 500\n"
               ]
            },
            {
               "name": "stderr",
               "output_type": "stream",
               "text": [
                  "\n",
                  "\u001b[A\n",
                  "\u001b[A\n",
                  "100%|██████████| 100/100 [00:00<00:00, 433.01it/s]\n"
               ]
            },
            {
               "name": "stdout",
               "output_type": "stream",
               "text": [
                  "test on day 1000\n"
               ]
            },
            {
               "name": "stderr",
               "output_type": "stream",
               "text": [
                  "\n",
                  "\u001b[A\n",
                  "\u001b[A\n",
                  "100%|██████████| 100/100 [00:00<00:00, 439.26it/s]\n"
               ]
            },
            {
               "name": "stdout",
               "output_type": "stream",
               "text": [
                  "test on day 1500\n"
               ]
            },
            {
               "name": "stderr",
               "output_type": "stream",
               "text": [
                  "\n",
                  "\u001b[A\n",
                  "\u001b[A\n",
                  "100%|██████████| 100/100 [00:00<00:00, 432.61it/s]\n"
               ]
            },
            {
               "name": "stdout",
               "output_type": "stream",
               "text": [
                  "test on day 2000\n"
               ]
            },
            {
               "name": "stderr",
               "output_type": "stream",
               "text": [
                  "\n",
                  "\u001b[A\n",
                  "\u001b[A\n",
                  "100%|██████████| 100/100 [00:00<00:00, 436.67it/s]\n"
               ]
            },
            {
               "name": "stdout",
               "output_type": "stream",
               "text": [
                  "test on day 2500\n"
               ]
            },
            {
               "name": "stderr",
               "output_type": "stream",
               "text": [
                  "\n",
                  "\u001b[A\n",
                  "\u001b[A\n",
                  "100%|██████████| 100/100 [00:00<00:00, 435.89it/s]\n"
               ]
            },
            {
               "name": "stdout",
               "output_type": "stream",
               "text": [
                  "test on day 3000\n"
               ]
            },
            {
               "name": "stderr",
               "output_type": "stream",
               "text": [
                  "\n",
                  "\u001b[A\n",
                  "\u001b[A\n",
                  "100%|██████████| 100/100 [00:00<00:00, 435.64it/s]\n"
               ]
            },
            {
               "name": "stdout",
               "output_type": "stream",
               "text": [
                  "test on day 3500\n"
               ]
            },
            {
               "name": "stderr",
               "output_type": "stream",
               "text": [
                  "\n",
                  "\u001b[A\n",
                  "\u001b[A\n",
                  "100%|██████████| 100/100 [00:00<00:00, 428.39it/s]\n",
                  "100%|██████████| 5/5 [00:08<00:00,  1.80s/it]\n"
               ]
            },
            {
               "name": "stdout",
               "output_type": "stream",
               "text": [
                  "get transaction stats av. network\n"
               ]
            },
            {
               "name": "stderr",
               "output_type": "stream",
               "text": [
                  "100%|██████████| 3500/3500 [00:19<00:00, 184.18it/s]\n"
               ]
            },
            {
               "name": "stdout",
               "output_type": "stream",
               "text": [
                  "get transaction stats av. bank\n"
               ]
            },
            {
               "name": "stderr",
               "output_type": "stream",
               "text": [
                  "100%|██████████| 3500/3500 [00:03<00:00, 1034.73it/s]\n",
                  " 80%|███████▉  | 3999/4999 [19:49<01:28, 11.34it/s]   "
               ]
            },
            {
               "name": "stdout",
               "output_type": "stream",
               "text": [
                  "get df_rev_repo_trans\n"
               ]
            },
            {
               "name": "stderr",
               "output_type": "stream",
               "text": [
                  "100%|██████████| 50/50 [00:00<00:00, 757094.58it/s]\n"
               ]
            },
            {
               "name": "stdout",
               "output_type": "stream",
               "text": [
                  "get df_rev_repo_trans\n"
               ]
            },
            {
               "name": "stderr",
               "output_type": "stream",
               "text": [
                  "100%|██████████| 50/50 [00:00<00:00, 800439.69it/s]\n"
               ]
            },
            {
               "name": "stdout",
               "output_type": "stream",
               "text": [
                  "get arr_rev_repo_exp_adj\n"
               ]
            },
            {
               "name": "stderr",
               "output_type": "stream",
               "text": [
                  "62598it [02:17, 454.40it/s][20:09<01:28, 11.34it/s]\n"
               ]
            },
            {
               "name": "stdout",
               "output_type": "stream",
               "text": [
                  "get arr_binary_adj (numba)\n",
                  "get degree distribution\n"
               ]
            },
            {
               "name": "stderr",
               "output_type": "stream",
               "text": [
                  "100%|██████████| 4000/4000 [00:17<00:00, 225.99it/s]\n"
               ]
            },
            {
               "name": "stdout",
               "output_type": "stream",
               "text": [
                  "get jaccard\n"
               ]
            },
            {
               "name": "stderr",
               "output_type": "stream",
               "text": [
                  "100%|██████████| 3999/3999 [00:00<00:00, 4896.12it/s]\n"
               ]
            },
            {
               "name": "stdout",
               "output_type": "stream",
               "text": [
                  "get density\n"
               ]
            },
            {
               "name": "stderr",
               "output_type": "stream",
               "text": [
                  "100%|██████████| 3999/3999 [00:00<00:00, 5009.78it/s]\n"
               ]
            },
            {
               "name": "stdout",
               "output_type": "stream",
               "text": [
                  "get degree stats\n"
               ]
            },
            {
               "name": "stderr",
               "output_type": "stream",
               "text": [
                  "100%|██████████| 3999/3999 [00:02<00:00, 1708.18it/s]\n"
               ]
            },
            {
               "name": "stdout",
               "output_type": "stream",
               "text": [
                  "get exposure stats\n"
               ]
            },
            {
               "name": "stderr",
               "output_type": "stream",
               "text": [
                  "100%|██████████| 4001/4001 [00:00<00:00, 5020.34it/s]\n"
               ]
            },
            {
               "name": "stdout",
               "output_type": "stream",
               "text": [
                  "run core-periphery tests\n"
               ]
            },
            {
               "name": "stderr",
               "output_type": "stream",
               "text": []
            },
            {
               "name": "stdout",
               "output_type": "stream",
               "text": [
                  "core-periphery tests using the Lip approach\n",
                  "test on day 0\n"
               ]
            },
            {
               "name": "stderr",
               "output_type": "stream",
               "text": [
                  "\n",
                  "100%|██████████| 100/100 [00:00<00:00, 2821.45it/s]\n"
               ]
            },
            {
               "name": "stdout",
               "output_type": "stream",
               "text": [
                  "test on day 500\n"
               ]
            },
            {
               "name": "stderr",
               "output_type": "stream",
               "text": [
                  "\n",
                  "\u001b[A\n",
                  "\u001b[A\n",
                  "100%|██████████| 100/100 [00:00<00:00, 426.44it/s]\n"
               ]
            },
            {
               "name": "stdout",
               "output_type": "stream",
               "text": [
                  "test on day 1000\n"
               ]
            },
            {
               "name": "stderr",
               "output_type": "stream",
               "text": [
                  "\n",
                  "\u001b[A\n",
                  "\u001b[A\n",
                  "100%|██████████| 100/100 [00:00<00:00, 441.52it/s]\n"
               ]
            },
            {
               "name": "stdout",
               "output_type": "stream",
               "text": [
                  "test on day 1500\n"
               ]
            },
            {
               "name": "stderr",
               "output_type": "stream",
               "text": [
                  "\n",
                  "\u001b[A\n",
                  "\u001b[A\n",
                  "100%|██████████| 100/100 [00:00<00:00, 444.17it/s]\n"
               ]
            },
            {
               "name": "stdout",
               "output_type": "stream",
               "text": [
                  "test on day 2000\n"
               ]
            },
            {
               "name": "stderr",
               "output_type": "stream",
               "text": [
                  "\n",
                  "\u001b[A\n",
                  "\u001b[A\n",
                  "100%|██████████| 100/100 [00:00<00:00, 447.38it/s]\n"
               ]
            },
            {
               "name": "stdout",
               "output_type": "stream",
               "text": [
                  "test on day 2500\n"
               ]
            },
            {
               "name": "stderr",
               "output_type": "stream",
               "text": [
                  "\n",
                  "\u001b[A\n",
                  "\u001b[A\n",
                  "100%|██████████| 100/100 [00:00<00:00, 442.39it/s]\n"
               ]
            },
            {
               "name": "stdout",
               "output_type": "stream",
               "text": [
                  "test on day 3000\n"
               ]
            },
            {
               "name": "stderr",
               "output_type": "stream",
               "text": [
                  "\n",
                  "\u001b[A\n",
                  "\u001b[A\n",
                  "100%|██████████| 100/100 [00:00<00:00, 445.06it/s]\n"
               ]
            },
            {
               "name": "stdout",
               "output_type": "stream",
               "text": [
                  "test on day 3500\n"
               ]
            },
            {
               "name": "stderr",
               "output_type": "stream",
               "text": [
                  "\n",
                  "\u001b[A\n",
                  "\u001b[A\n",
                  "100%|██████████| 100/100 [00:00<00:00, 445.00it/s]\n"
               ]
            },
            {
               "name": "stdout",
               "output_type": "stream",
               "text": [
                  "test on day 4000\n"
               ]
            },
            {
               "name": "stderr",
               "output_type": "stream",
               "text": [
                  "\n",
                  "\u001b[A\n",
                  "\u001b[A\n",
                  "100%|██████████| 100/100 [00:00<00:00, 440.63it/s]\n"
               ]
            },
            {
               "name": "stdout",
               "output_type": "stream",
               "text": [
                  "core-periphery tests using the Lip approach\n",
                  "test on day 0\n"
               ]
            },
            {
               "name": "stderr",
               "output_type": "stream",
               "text": [
                  "\n",
                  "100%|██████████| 100/100 [00:00<00:00, 2873.46it/s]\n"
               ]
            },
            {
               "name": "stdout",
               "output_type": "stream",
               "text": [
                  "test on day 500\n"
               ]
            },
            {
               "name": "stderr",
               "output_type": "stream",
               "text": [
                  "\n",
                  "\u001b[A\n",
                  "\u001b[A\n",
                  "100%|██████████| 100/100 [00:00<00:00, 434.71it/s]\n"
               ]
            },
            {
               "name": "stdout",
               "output_type": "stream",
               "text": [
                  "test on day 1000\n"
               ]
            },
            {
               "name": "stderr",
               "output_type": "stream",
               "text": [
                  "\n",
                  "\u001b[A\n",
                  "\u001b[A\n",
                  "100%|██████████| 100/100 [00:00<00:00, 439.32it/s]\n"
               ]
            },
            {
               "name": "stdout",
               "output_type": "stream",
               "text": [
                  "test on day 1500\n"
               ]
            },
            {
               "name": "stderr",
               "output_type": "stream",
               "text": [
                  "\n",
                  "\u001b[A\n",
                  "\u001b[A\n",
                  "100%|██████████| 100/100 [00:00<00:00, 436.50it/s]\n"
               ]
            },
            {
               "name": "stdout",
               "output_type": "stream",
               "text": [
                  "test on day 2000\n"
               ]
            },
            {
               "name": "stderr",
               "output_type": "stream",
               "text": [
                  "\n",
                  "\u001b[A\n",
                  "\u001b[A\n",
                  "100%|██████████| 100/100 [00:00<00:00, 442.79it/s]\n"
               ]
            },
            {
               "name": "stdout",
               "output_type": "stream",
               "text": [
                  "test on day 2500\n"
               ]
            },
            {
               "name": "stderr",
               "output_type": "stream",
               "text": [
                  "\n",
                  "\u001b[A\n",
                  "\u001b[A\n",
                  "100%|██████████| 100/100 [00:00<00:00, 437.79it/s]\n"
               ]
            },
            {
               "name": "stdout",
               "output_type": "stream",
               "text": [
                  "test on day 3000\n"
               ]
            },
            {
               "name": "stderr",
               "output_type": "stream",
               "text": [
                  "\n",
                  "\u001b[A\n",
                  "\u001b[A\n",
                  "100%|██████████| 100/100 [00:00<00:00, 442.58it/s]\n"
               ]
            },
            {
               "name": "stdout",
               "output_type": "stream",
               "text": [
                  "test on day 3500\n"
               ]
            },
            {
               "name": "stderr",
               "output_type": "stream",
               "text": [
                  "\n",
                  "\u001b[A\n",
                  "\u001b[A\n",
                  "100%|██████████| 100/100 [00:00<00:00, 440.52it/s]\n"
               ]
            },
            {
               "name": "stdout",
               "output_type": "stream",
               "text": [
                  "test on day 4000\n"
               ]
            },
            {
               "name": "stderr",
               "output_type": "stream",
               "text": [
                  "\n",
                  "\u001b[A\n",
                  "\u001b[A\n",
                  "100%|██████████| 100/100 [00:00<00:00, 437.57it/s]\n"
               ]
            },
            {
               "name": "stdout",
               "output_type": "stream",
               "text": [
                  "core-periphery tests using the Lip approach\n",
                  "test on day 0\n"
               ]
            },
            {
               "name": "stderr",
               "output_type": "stream",
               "text": [
                  "\n",
                  "100%|██████████| 100/100 [00:00<00:00, 2854.80it/s]\n"
               ]
            },
            {
               "name": "stdout",
               "output_type": "stream",
               "text": [
                  "test on day 500\n"
               ]
            },
            {
               "name": "stderr",
               "output_type": "stream",
               "text": [
                  "\n",
                  "\u001b[A\n",
                  "\u001b[A\n",
                  "100%|██████████| 100/100 [00:00<00:00, 429.81it/s]\n"
               ]
            },
            {
               "name": "stdout",
               "output_type": "stream",
               "text": [
                  "test on day 1000\n"
               ]
            },
            {
               "name": "stderr",
               "output_type": "stream",
               "text": [
                  "\n",
                  "\u001b[A\n",
                  "\u001b[A\n",
                  "100%|██████████| 100/100 [00:00<00:00, 439.25it/s]\n"
               ]
            },
            {
               "name": "stdout",
               "output_type": "stream",
               "text": [
                  "test on day 1500\n"
               ]
            },
            {
               "name": "stderr",
               "output_type": "stream",
               "text": [
                  "\n",
                  "\u001b[A\n",
                  "\u001b[A\n",
                  "100%|██████████| 100/100 [00:00<00:00, 434.69it/s]\n"
               ]
            },
            {
               "name": "stdout",
               "output_type": "stream",
               "text": [
                  "test on day 2000\n"
               ]
            },
            {
               "name": "stderr",
               "output_type": "stream",
               "text": [
                  "\n",
                  "\u001b[A\n",
                  "\u001b[A\n",
                  "100%|██████████| 100/100 [00:00<00:00, 445.26it/s]\n"
               ]
            },
            {
               "name": "stdout",
               "output_type": "stream",
               "text": [
                  "test on day 2500\n"
               ]
            },
            {
               "name": "stderr",
               "output_type": "stream",
               "text": [
                  "\n",
                  "\u001b[A\n",
                  "\u001b[A\n",
                  "100%|██████████| 100/100 [00:00<00:00, 436.33it/s]\n"
               ]
            },
            {
               "name": "stdout",
               "output_type": "stream",
               "text": [
                  "test on day 3000\n"
               ]
            },
            {
               "name": "stderr",
               "output_type": "stream",
               "text": [
                  "\n",
                  "\u001b[A\n",
                  "\u001b[A\n",
                  "100%|██████████| 100/100 [00:00<00:00, 441.16it/s]\n"
               ]
            },
            {
               "name": "stdout",
               "output_type": "stream",
               "text": [
                  "test on day 3500\n"
               ]
            },
            {
               "name": "stderr",
               "output_type": "stream",
               "text": [
                  "\n",
                  "\u001b[A\n",
                  "\u001b[A\n",
                  "100%|██████████| 100/100 [00:00<00:00, 442.69it/s]\n"
               ]
            },
            {
               "name": "stdout",
               "output_type": "stream",
               "text": [
                  "test on day 4000\n"
               ]
            },
            {
               "name": "stderr",
               "output_type": "stream",
               "text": [
                  "\n",
                  "\u001b[A\n",
                  "\u001b[A\n",
                  "100%|██████████| 100/100 [00:00<00:00, 440.39it/s]\n"
               ]
            },
            {
               "name": "stdout",
               "output_type": "stream",
               "text": [
                  "core-periphery tests using the Lip approach\n",
                  "test on day 0\n"
               ]
            },
            {
               "name": "stderr",
               "output_type": "stream",
               "text": [
                  "\n",
                  "100%|██████████| 100/100 [00:00<00:00, 2909.76it/s]\n"
               ]
            },
            {
               "name": "stdout",
               "output_type": "stream",
               "text": [
                  "test on day 500\n"
               ]
            },
            {
               "name": "stderr",
               "output_type": "stream",
               "text": [
                  "\n",
                  "\u001b[A\n",
                  "\u001b[A\n",
                  "100%|██████████| 100/100 [00:00<00:00, 424.32it/s]\n"
               ]
            },
            {
               "name": "stdout",
               "output_type": "stream",
               "text": [
                  "test on day 1000\n"
               ]
            },
            {
               "name": "stderr",
               "output_type": "stream",
               "text": [
                  "\n",
                  "\u001b[A\n",
                  "\u001b[A\n",
                  "100%|██████████| 100/100 [00:00<00:00, 436.36it/s]\n"
               ]
            },
            {
               "name": "stdout",
               "output_type": "stream",
               "text": [
                  "test on day 1500\n"
               ]
            },
            {
               "name": "stderr",
               "output_type": "stream",
               "text": [
                  "\n",
                  "\u001b[A\n",
                  "\u001b[A\n",
                  "100%|██████████| 100/100 [00:00<00:00, 431.26it/s]\n"
               ]
            },
            {
               "name": "stdout",
               "output_type": "stream",
               "text": [
                  "test on day 2000\n"
               ]
            },
            {
               "name": "stderr",
               "output_type": "stream",
               "text": [
                  "\n",
                  "\u001b[A\n",
                  "\u001b[A\n",
                  "100%|██████████| 100/100 [00:00<00:00, 440.79it/s]\n"
               ]
            },
            {
               "name": "stdout",
               "output_type": "stream",
               "text": [
                  "test on day 2500\n"
               ]
            },
            {
               "name": "stderr",
               "output_type": "stream",
               "text": [
                  "\n",
                  "\u001b[A\n",
                  "\u001b[A\n",
                  "100%|██████████| 100/100 [00:00<00:00, 435.22it/s]\n"
               ]
            },
            {
               "name": "stdout",
               "output_type": "stream",
               "text": [
                  "test on day 3000\n"
               ]
            },
            {
               "name": "stderr",
               "output_type": "stream",
               "text": [
                  "\n",
                  "\u001b[A\n",
                  "\u001b[A\n",
                  "100%|██████████| 100/100 [00:00<00:00, 436.50it/s]\n"
               ]
            },
            {
               "name": "stdout",
               "output_type": "stream",
               "text": [
                  "test on day 3500\n"
               ]
            },
            {
               "name": "stderr",
               "output_type": "stream",
               "text": [
                  "\n",
                  "\u001b[A\n",
                  "\u001b[A\n",
                  "100%|██████████| 100/100 [00:00<00:00, 441.68it/s]\n"
               ]
            },
            {
               "name": "stdout",
               "output_type": "stream",
               "text": [
                  "test on day 4000\n"
               ]
            },
            {
               "name": "stderr",
               "output_type": "stream",
               "text": [
                  "\n",
                  "\u001b[A\n",
                  "\u001b[A\n",
                  "100%|██████████| 100/100 [00:00<00:00, 438.83it/s]\n"
               ]
            },
            {
               "name": "stdout",
               "output_type": "stream",
               "text": [
                  "core-periphery tests using the Lip approach\n",
                  "test on day 0\n"
               ]
            },
            {
               "name": "stderr",
               "output_type": "stream",
               "text": [
                  "\n",
                  "100%|██████████| 100/100 [00:00<00:00, 1689.86it/s]\n"
               ]
            },
            {
               "name": "stdout",
               "output_type": "stream",
               "text": [
                  "test on day 500\n"
               ]
            },
            {
               "name": "stderr",
               "output_type": "stream",
               "text": [
                  "\n",
                  "\u001b[A\n",
                  "\u001b[A\n",
                  "100%|██████████| 100/100 [00:00<00:00, 433.75it/s]\n"
               ]
            },
            {
               "name": "stdout",
               "output_type": "stream",
               "text": [
                  "test on day 1000\n"
               ]
            },
            {
               "name": "stderr",
               "output_type": "stream",
               "text": [
                  "\n",
                  "\u001b[A\n",
                  "\u001b[A\n",
                  "100%|██████████| 100/100 [00:00<00:00, 442.06it/s]\n"
               ]
            },
            {
               "name": "stdout",
               "output_type": "stream",
               "text": [
                  "test on day 1500\n"
               ]
            },
            {
               "name": "stderr",
               "output_type": "stream",
               "text": [
                  "\n",
                  "\u001b[A\n",
                  "\u001b[A\n",
                  "100%|██████████| 100/100 [00:00<00:00, 439.16it/s]\n"
               ]
            },
            {
               "name": "stdout",
               "output_type": "stream",
               "text": [
                  "test on day 2000\n"
               ]
            },
            {
               "name": "stderr",
               "output_type": "stream",
               "text": [
                  "\n",
                  "\u001b[A\n",
                  "\u001b[A\n",
                  "100%|██████████| 100/100 [00:00<00:00, 444.25it/s]\n"
               ]
            },
            {
               "name": "stdout",
               "output_type": "stream",
               "text": [
                  "test on day 2500\n"
               ]
            },
            {
               "name": "stderr",
               "output_type": "stream",
               "text": [
                  "\n",
                  "\u001b[A\n",
                  "\u001b[A\n",
                  "100%|██████████| 100/100 [00:00<00:00, 436.22it/s]\n"
               ]
            },
            {
               "name": "stdout",
               "output_type": "stream",
               "text": [
                  "test on day 3000\n"
               ]
            },
            {
               "name": "stderr",
               "output_type": "stream",
               "text": [
                  "\n",
                  "\u001b[A\n",
                  "\u001b[A\n",
                  "100%|██████████| 100/100 [00:00<00:00, 443.19it/s]\n"
               ]
            },
            {
               "name": "stdout",
               "output_type": "stream",
               "text": [
                  "test on day 3500\n"
               ]
            },
            {
               "name": "stderr",
               "output_type": "stream",
               "text": [
                  "\n",
                  "\u001b[A\n",
                  "\u001b[A\n",
                  "100%|██████████| 100/100 [00:00<00:00, 435.70it/s]\n"
               ]
            },
            {
               "name": "stdout",
               "output_type": "stream",
               "text": [
                  "test on day 4000\n"
               ]
            },
            {
               "name": "stderr",
               "output_type": "stream",
               "text": [
                  "\n",
                  "\u001b[A\n",
                  "\u001b[A\n",
                  "100%|██████████| 100/100 [00:00<00:00, 436.54it/s]\n",
                  "100%|██████████| 5/5 [00:09<00:00,  1.93s/it]\n"
               ]
            },
            {
               "name": "stdout",
               "output_type": "stream",
               "text": [
                  "get transaction stats av. network\n"
               ]
            },
            {
               "name": "stderr",
               "output_type": "stream",
               "text": [
                  "100%|██████████| 4000/4000 [00:23<00:00, 170.66it/s]\n"
               ]
            },
            {
               "name": "stdout",
               "output_type": "stream",
               "text": [
                  "get transaction stats av. bank\n"
               ]
            },
            {
               "name": "stderr",
               "output_type": "stream",
               "text": [
                  "100%|██████████| 4000/4000 [00:04<00:00, 994.06it/s]\n",
                  " 90%|████████▉ | 4499/4999 [24:58<00:38, 13.01it/s]   "
               ]
            },
            {
               "name": "stdout",
               "output_type": "stream",
               "text": [
                  "get df_rev_repo_trans\n"
               ]
            },
            {
               "name": "stderr",
               "output_type": "stream",
               "text": [
                  "100%|██████████| 50/50 [00:00<00:00, 776722.96it/s]\n"
               ]
            },
            {
               "name": "stdout",
               "output_type": "stream",
               "text": [
                  "get df_rev_repo_trans\n"
               ]
            },
            {
               "name": "stderr",
               "output_type": "stream",
               "text": [
                  "100%|██████████| 50/50 [00:00<00:00, 923855.51it/s]\n"
               ]
            },
            {
               "name": "stdout",
               "output_type": "stream",
               "text": [
                  "get arr_rev_repo_exp_adj\n"
               ]
            },
            {
               "name": "stderr",
               "output_type": "stream",
               "text": [
                  "67964it [02:41, 419.60it/s][25:09<00:38, 13.01it/s]\n"
               ]
            },
            {
               "name": "stdout",
               "output_type": "stream",
               "text": [
                  "get arr_binary_adj (numba)\n",
                  "get degree distribution\n"
               ]
            },
            {
               "name": "stderr",
               "output_type": "stream",
               "text": [
                  "100%|██████████| 4500/4500 [00:17<00:00, 256.64it/s]\n"
               ]
            },
            {
               "name": "stdout",
               "output_type": "stream",
               "text": [
                  "get jaccard\n"
               ]
            },
            {
               "name": "stderr",
               "output_type": "stream",
               "text": [
                  "100%|██████████| 4499/4499 [00:00<00:00, 4877.69it/s]\n"
               ]
            },
            {
               "name": "stdout",
               "output_type": "stream",
               "text": [
                  "get density\n"
               ]
            },
            {
               "name": "stderr",
               "output_type": "stream",
               "text": [
                  "100%|██████████| 4499/4499 [00:00<00:00, 5073.35it/s]\n"
               ]
            },
            {
               "name": "stdout",
               "output_type": "stream",
               "text": [
                  "get degree stats\n"
               ]
            },
            {
               "name": "stderr",
               "output_type": "stream",
               "text": [
                  "100%|██████████| 4499/4499 [00:02<00:00, 1714.52it/s]\n"
               ]
            },
            {
               "name": "stdout",
               "output_type": "stream",
               "text": [
                  "get exposure stats\n"
               ]
            },
            {
               "name": "stderr",
               "output_type": "stream",
               "text": [
                  "100%|██████████| 4501/4501 [00:00<00:00, 5040.46it/s]\n"
               ]
            },
            {
               "name": "stdout",
               "output_type": "stream",
               "text": [
                  "run core-periphery tests\n"
               ]
            },
            {
               "name": "stderr",
               "output_type": "stream",
               "text": []
            },
            {
               "name": "stdout",
               "output_type": "stream",
               "text": [
                  "core-periphery tests using the Lip approach\n",
                  "test on day 0\n"
               ]
            },
            {
               "name": "stderr",
               "output_type": "stream",
               "text": [
                  "\n",
                  "100%|██████████| 100/100 [00:00<00:00, 2867.88it/s]\n"
               ]
            },
            {
               "name": "stdout",
               "output_type": "stream",
               "text": [
                  "test on day 500\n"
               ]
            },
            {
               "name": "stderr",
               "output_type": "stream",
               "text": [
                  "\n",
                  "\u001b[A\n",
                  "\u001b[A\n",
                  "100%|██████████| 100/100 [00:00<00:00, 431.43it/s]\n"
               ]
            },
            {
               "name": "stdout",
               "output_type": "stream",
               "text": [
                  "test on day 1000\n"
               ]
            },
            {
               "name": "stderr",
               "output_type": "stream",
               "text": [
                  "\n",
                  "\u001b[A\n",
                  "\u001b[A\n",
                  "100%|██████████| 100/100 [00:00<00:00, 444.96it/s]\n"
               ]
            },
            {
               "name": "stdout",
               "output_type": "stream",
               "text": [
                  "test on day 1500\n"
               ]
            },
            {
               "name": "stderr",
               "output_type": "stream",
               "text": [
                  "\n",
                  "\u001b[A\n",
                  "\u001b[A\n",
                  "100%|██████████| 100/100 [00:00<00:00, 441.66it/s]\n"
               ]
            },
            {
               "name": "stdout",
               "output_type": "stream",
               "text": [
                  "test on day 2000\n"
               ]
            },
            {
               "name": "stderr",
               "output_type": "stream",
               "text": [
                  "\n",
                  "\u001b[A\n",
                  "\u001b[A\n",
                  "100%|██████████| 100/100 [00:00<00:00, 446.19it/s]\n"
               ]
            },
            {
               "name": "stdout",
               "output_type": "stream",
               "text": [
                  "test on day 2500\n"
               ]
            },
            {
               "name": "stderr",
               "output_type": "stream",
               "text": [
                  "\n",
                  "\u001b[A\n",
                  "\u001b[A\n",
                  "100%|██████████| 100/100 [00:00<00:00, 437.91it/s]\n"
               ]
            },
            {
               "name": "stdout",
               "output_type": "stream",
               "text": [
                  "test on day 3000\n"
               ]
            },
            {
               "name": "stderr",
               "output_type": "stream",
               "text": [
                  "\n",
                  "\u001b[A\n",
                  "\u001b[A\n",
                  "100%|██████████| 100/100 [00:00<00:00, 422.39it/s]\n"
               ]
            },
            {
               "name": "stdout",
               "output_type": "stream",
               "text": [
                  "test on day 3500\n"
               ]
            },
            {
               "name": "stderr",
               "output_type": "stream",
               "text": [
                  "\n",
                  "\u001b[A\n",
                  "\u001b[A\n",
                  "100%|██████████| 100/100 [00:00<00:00, 442.96it/s]\n"
               ]
            },
            {
               "name": "stdout",
               "output_type": "stream",
               "text": [
                  "test on day 4000\n"
               ]
            },
            {
               "name": "stderr",
               "output_type": "stream",
               "text": [
                  "\n",
                  "\u001b[A\n",
                  "\u001b[A\n",
                  "100%|██████████| 100/100 [00:00<00:00, 438.65it/s]\n"
               ]
            },
            {
               "name": "stdout",
               "output_type": "stream",
               "text": [
                  "test on day 4500\n"
               ]
            },
            {
               "name": "stderr",
               "output_type": "stream",
               "text": [
                  "\n",
                  "\u001b[A\n",
                  "\u001b[A\n",
                  "100%|██████████| 100/100 [00:00<00:00, 443.61it/s]\n"
               ]
            },
            {
               "name": "stdout",
               "output_type": "stream",
               "text": [
                  "core-periphery tests using the Lip approach\n",
                  "test on day 0\n"
               ]
            },
            {
               "name": "stderr",
               "output_type": "stream",
               "text": [
                  "\n",
                  "100%|██████████| 100/100 [00:00<00:00, 2908.03it/s]\n"
               ]
            },
            {
               "name": "stdout",
               "output_type": "stream",
               "text": [
                  "test on day 500\n"
               ]
            },
            {
               "name": "stderr",
               "output_type": "stream",
               "text": [
                  "\n",
                  "\u001b[A\n",
                  "\u001b[A\n",
                  "100%|██████████| 100/100 [00:00<00:00, 433.32it/s]\n"
               ]
            },
            {
               "name": "stdout",
               "output_type": "stream",
               "text": [
                  "test on day 1000\n"
               ]
            },
            {
               "name": "stderr",
               "output_type": "stream",
               "text": [
                  "\n",
                  "\u001b[A\n",
                  "\u001b[A\n",
                  "100%|██████████| 100/100 [00:00<00:00, 440.05it/s]\n"
               ]
            },
            {
               "name": "stdout",
               "output_type": "stream",
               "text": [
                  "test on day 1500\n"
               ]
            },
            {
               "name": "stderr",
               "output_type": "stream",
               "text": [
                  "\n",
                  "\u001b[A\n",
                  "\u001b[A\n",
                  "100%|██████████| 100/100 [00:00<00:00, 434.39it/s]\n"
               ]
            },
            {
               "name": "stdout",
               "output_type": "stream",
               "text": [
                  "test on day 2000\n"
               ]
            },
            {
               "name": "stderr",
               "output_type": "stream",
               "text": [
                  "\n",
                  "\u001b[A\n",
                  "\u001b[A\n",
                  "100%|██████████| 100/100 [00:00<00:00, 441.80it/s]\n"
               ]
            },
            {
               "name": "stdout",
               "output_type": "stream",
               "text": [
                  "test on day 2500\n"
               ]
            },
            {
               "name": "stderr",
               "output_type": "stream",
               "text": [
                  "\n",
                  "\u001b[A\n",
                  "\u001b[A\n",
                  "100%|██████████| 100/100 [00:00<00:00, 434.92it/s]\n"
               ]
            },
            {
               "name": "stdout",
               "output_type": "stream",
               "text": [
                  "test on day 3000\n"
               ]
            },
            {
               "name": "stderr",
               "output_type": "stream",
               "text": [
                  "\n",
                  "\u001b[A\n",
                  "\u001b[A\n",
                  "100%|██████████| 100/100 [00:00<00:00, 438.27it/s]\n"
               ]
            },
            {
               "name": "stdout",
               "output_type": "stream",
               "text": [
                  "test on day 3500\n"
               ]
            },
            {
               "name": "stderr",
               "output_type": "stream",
               "text": [
                  "\n",
                  "\u001b[A\n",
                  "\u001b[A\n",
                  "100%|██████████| 100/100 [00:00<00:00, 441.41it/s]\n"
               ]
            },
            {
               "name": "stdout",
               "output_type": "stream",
               "text": [
                  "test on day 4000\n"
               ]
            },
            {
               "name": "stderr",
               "output_type": "stream",
               "text": [
                  "\n",
                  "\u001b[A\n",
                  "\u001b[A\n",
                  "100%|██████████| 100/100 [00:00<00:00, 435.85it/s]\n"
               ]
            },
            {
               "name": "stdout",
               "output_type": "stream",
               "text": [
                  "test on day 4500\n"
               ]
            },
            {
               "name": "stderr",
               "output_type": "stream",
               "text": [
                  "\n",
                  "\u001b[A\n",
                  "\u001b[A\n",
                  "100%|██████████| 100/100 [00:00<00:00, 440.80it/s]\n"
               ]
            },
            {
               "name": "stdout",
               "output_type": "stream",
               "text": [
                  "core-periphery tests using the Lip approach\n",
                  "test on day 0\n"
               ]
            },
            {
               "name": "stderr",
               "output_type": "stream",
               "text": [
                  "\n",
                  "100%|██████████| 100/100 [00:00<00:00, 2850.05it/s]\n"
               ]
            },
            {
               "name": "stdout",
               "output_type": "stream",
               "text": [
                  "test on day 500\n"
               ]
            },
            {
               "name": "stderr",
               "output_type": "stream",
               "text": [
                  "\n",
                  "\u001b[A\n",
                  "\u001b[A\n",
                  "100%|██████████| 100/100 [00:00<00:00, 430.29it/s]\n"
               ]
            },
            {
               "name": "stdout",
               "output_type": "stream",
               "text": [
                  "test on day 1000\n"
               ]
            },
            {
               "name": "stderr",
               "output_type": "stream",
               "text": [
                  "\n",
                  "\u001b[A\n",
                  "\u001b[A\n",
                  "100%|██████████| 100/100 [00:00<00:00, 435.85it/s]\n"
               ]
            },
            {
               "name": "stdout",
               "output_type": "stream",
               "text": [
                  "test on day 1500\n"
               ]
            },
            {
               "name": "stderr",
               "output_type": "stream",
               "text": [
                  "\n",
                  "\u001b[A\n",
                  "\u001b[A\n",
                  "100%|██████████| 100/100 [00:00<00:00, 431.14it/s]\n"
               ]
            },
            {
               "name": "stdout",
               "output_type": "stream",
               "text": [
                  "test on day 2000\n"
               ]
            },
            {
               "name": "stderr",
               "output_type": "stream",
               "text": [
                  "\n",
                  "\u001b[A\n",
                  "\u001b[A\n",
                  "100%|██████████| 100/100 [00:00<00:00, 441.47it/s]\n"
               ]
            },
            {
               "name": "stdout",
               "output_type": "stream",
               "text": [
                  "test on day 2500\n"
               ]
            },
            {
               "name": "stderr",
               "output_type": "stream",
               "text": [
                  "\n",
                  "\u001b[A\n",
                  "\u001b[A\n",
                  "100%|██████████| 100/100 [00:00<00:00, 434.52it/s]\n"
               ]
            },
            {
               "name": "stdout",
               "output_type": "stream",
               "text": [
                  "test on day 3000\n"
               ]
            },
            {
               "name": "stderr",
               "output_type": "stream",
               "text": [
                  "\n",
                  "\u001b[A\n",
                  "\u001b[A\n",
                  "100%|██████████| 100/100 [00:00<00:00, 436.90it/s]\n"
               ]
            },
            {
               "name": "stdout",
               "output_type": "stream",
               "text": [
                  "test on day 3500\n"
               ]
            },
            {
               "name": "stderr",
               "output_type": "stream",
               "text": [
                  "\n",
                  "\u001b[A\n",
                  "\u001b[A\n",
                  "100%|██████████| 100/100 [00:00<00:00, 438.23it/s]\n"
               ]
            },
            {
               "name": "stdout",
               "output_type": "stream",
               "text": [
                  "test on day 4000\n"
               ]
            },
            {
               "name": "stderr",
               "output_type": "stream",
               "text": [
                  "\n",
                  "\u001b[A\n",
                  "\u001b[A\n",
                  "100%|██████████| 100/100 [00:00<00:00, 433.93it/s]\n"
               ]
            },
            {
               "name": "stdout",
               "output_type": "stream",
               "text": [
                  "test on day 4500\n"
               ]
            },
            {
               "name": "stderr",
               "output_type": "stream",
               "text": [
                  "\n",
                  "\u001b[A\n",
                  "\u001b[A\n",
                  "100%|██████████| 100/100 [00:00<00:00, 439.24it/s]\n"
               ]
            },
            {
               "name": "stdout",
               "output_type": "stream",
               "text": [
                  "core-periphery tests using the Lip approach\n",
                  "test on day 0\n"
               ]
            },
            {
               "name": "stderr",
               "output_type": "stream",
               "text": [
                  "\n",
                  "100%|██████████| 100/100 [00:00<00:00, 2823.50it/s]\n"
               ]
            },
            {
               "name": "stdout",
               "output_type": "stream",
               "text": [
                  "test on day 500\n"
               ]
            },
            {
               "name": "stderr",
               "output_type": "stream",
               "text": [
                  "\n",
                  "\u001b[A\n",
                  "\u001b[A\n",
                  "100%|██████████| 100/100 [00:00<00:00, 421.72it/s]\n"
               ]
            },
            {
               "name": "stdout",
               "output_type": "stream",
               "text": [
                  "test on day 1000\n"
               ]
            },
            {
               "name": "stderr",
               "output_type": "stream",
               "text": [
                  "\n",
                  "\u001b[A\n",
                  "\u001b[A\n",
                  "100%|██████████| 100/100 [00:00<00:00, 433.95it/s]\n"
               ]
            },
            {
               "name": "stdout",
               "output_type": "stream",
               "text": [
                  "test on day 1500\n"
               ]
            },
            {
               "name": "stderr",
               "output_type": "stream",
               "text": [
                  "\n",
                  "\u001b[A\n",
                  "\u001b[A\n",
                  "100%|██████████| 100/100 [00:00<00:00, 430.06it/s]\n"
               ]
            },
            {
               "name": "stdout",
               "output_type": "stream",
               "text": [
                  "test on day 2000\n"
               ]
            },
            {
               "name": "stderr",
               "output_type": "stream",
               "text": [
                  "\n",
                  "\u001b[A\n",
                  "\u001b[A\n",
                  "100%|██████████| 100/100 [00:00<00:00, 436.92it/s]\n"
               ]
            },
            {
               "name": "stdout",
               "output_type": "stream",
               "text": [
                  "test on day 2500\n"
               ]
            },
            {
               "name": "stderr",
               "output_type": "stream",
               "text": [
                  "\n",
                  "\u001b[A\n",
                  "\u001b[A\n",
                  "100%|██████████| 100/100 [00:00<00:00, 433.34it/s]\n"
               ]
            },
            {
               "name": "stdout",
               "output_type": "stream",
               "text": [
                  "test on day 3000\n"
               ]
            },
            {
               "name": "stderr",
               "output_type": "stream",
               "text": [
                  "\n",
                  "\u001b[A\n",
                  "\u001b[A\n",
                  "100%|██████████| 100/100 [00:00<00:00, 434.50it/s]\n"
               ]
            },
            {
               "name": "stdout",
               "output_type": "stream",
               "text": [
                  "test on day 3500\n"
               ]
            },
            {
               "name": "stderr",
               "output_type": "stream",
               "text": [
                  "\n",
                  "\u001b[A\n",
                  "\u001b[A\n",
                  "100%|██████████| 100/100 [00:00<00:00, 437.30it/s]\n"
               ]
            },
            {
               "name": "stdout",
               "output_type": "stream",
               "text": [
                  "test on day 4000\n"
               ]
            },
            {
               "name": "stderr",
               "output_type": "stream",
               "text": [
                  "\n",
                  "\u001b[A\n",
                  "\u001b[A\n",
                  "100%|██████████| 100/100 [00:00<00:00, 434.92it/s]\n"
               ]
            },
            {
               "name": "stdout",
               "output_type": "stream",
               "text": [
                  "test on day 4500\n"
               ]
            },
            {
               "name": "stderr",
               "output_type": "stream",
               "text": [
                  "\n",
                  "\u001b[A\n",
                  "\u001b[A\n",
                  "100%|██████████| 100/100 [00:00<00:00, 435.37it/s]\n"
               ]
            },
            {
               "name": "stdout",
               "output_type": "stream",
               "text": [
                  "core-periphery tests using the Lip approach\n",
                  "test on day 0\n"
               ]
            },
            {
               "name": "stderr",
               "output_type": "stream",
               "text": [
                  "\n",
                  "100%|██████████| 100/100 [00:00<00:00, 1660.45it/s]\n"
               ]
            },
            {
               "name": "stdout",
               "output_type": "stream",
               "text": [
                  "test on day 500\n"
               ]
            },
            {
               "name": "stderr",
               "output_type": "stream",
               "text": [
                  "\n",
                  "\u001b[A\n",
                  "\u001b[A\n",
                  "100%|██████████| 100/100 [00:00<00:00, 434.57it/s]\n"
               ]
            },
            {
               "name": "stdout",
               "output_type": "stream",
               "text": [
                  "test on day 1000\n"
               ]
            },
            {
               "name": "stderr",
               "output_type": "stream",
               "text": [
                  "\n",
                  "\u001b[A\n",
                  "\u001b[A\n",
                  "100%|██████████| 100/100 [00:00<00:00, 440.62it/s]\n"
               ]
            },
            {
               "name": "stdout",
               "output_type": "stream",
               "text": [
                  "test on day 1500\n"
               ]
            },
            {
               "name": "stderr",
               "output_type": "stream",
               "text": [
                  "\n",
                  "\u001b[A\n",
                  "\u001b[A\n",
                  "100%|██████████| 100/100 [00:00<00:00, 438.11it/s]\n"
               ]
            },
            {
               "name": "stdout",
               "output_type": "stream",
               "text": [
                  "test on day 2000\n"
               ]
            },
            {
               "name": "stderr",
               "output_type": "stream",
               "text": [
                  "\n",
                  "\u001b[A\n",
                  "\u001b[A\n",
                  "100%|██████████| 100/100 [00:00<00:00, 441.15it/s]\n"
               ]
            },
            {
               "name": "stdout",
               "output_type": "stream",
               "text": [
                  "test on day 2500\n"
               ]
            },
            {
               "name": "stderr",
               "output_type": "stream",
               "text": [
                  "\n",
                  "\u001b[A\n",
                  "\u001b[A\n",
                  "100%|██████████| 100/100 [00:00<00:00, 437.46it/s]\n"
               ]
            },
            {
               "name": "stdout",
               "output_type": "stream",
               "text": [
                  "test on day 3000\n"
               ]
            },
            {
               "name": "stderr",
               "output_type": "stream",
               "text": [
                  "\n",
                  "\u001b[A\n",
                  "\u001b[A\n",
                  "100%|██████████| 100/100 [00:00<00:00, 443.33it/s]\n"
               ]
            },
            {
               "name": "stdout",
               "output_type": "stream",
               "text": [
                  "test on day 3500\n"
               ]
            },
            {
               "name": "stderr",
               "output_type": "stream",
               "text": [
                  "\n",
                  "\u001b[A\n",
                  "\u001b[A\n",
                  "100%|██████████| 100/100 [00:00<00:00, 439.61it/s]\n"
               ]
            },
            {
               "name": "stdout",
               "output_type": "stream",
               "text": [
                  "test on day 4000\n"
               ]
            },
            {
               "name": "stderr",
               "output_type": "stream",
               "text": [
                  "\n",
                  "\u001b[A\n",
                  "\u001b[A\n",
                  "100%|██████████| 100/100 [00:00<00:00, 437.48it/s]\n"
               ]
            },
            {
               "name": "stdout",
               "output_type": "stream",
               "text": [
                  "test on day 4500\n"
               ]
            },
            {
               "name": "stderr",
               "output_type": "stream",
               "text": [
                  "\n",
                  "\u001b[A\n",
                  "\u001b[A\n",
                  "100%|██████████| 100/100 [00:00<00:00, 442.17it/s]\n",
                  "100%|██████████| 5/5 [00:10<00:00,  2.18s/it]\n"
               ]
            },
            {
               "name": "stdout",
               "output_type": "stream",
               "text": [
                  "get transaction stats av. network\n"
               ]
            },
            {
               "name": "stderr",
               "output_type": "stream",
               "text": [
                  "100%|██████████| 4500/4500 [00:28<00:00, 158.72it/s]\n"
               ]
            },
            {
               "name": "stdout",
               "output_type": "stream",
               "text": [
                  "get transaction stats av. bank\n"
               ]
            },
            {
               "name": "stderr",
               "output_type": "stream",
               "text": [
                  "100%|██████████| 4500/4500 [00:04<00:00, 982.05it/s]\n",
                  "100%|██████████| 4999/4999 [30:49<00:00,  2.70it/s]  \n"
               ]
            },
            {
               "name": "stdout",
               "output_type": "stream",
               "text": [
                  "get df_rev_repo_trans\n"
               ]
            },
            {
               "name": "stderr",
               "output_type": "stream",
               "text": [
                  "100%|██████████| 50/50 [00:00<00:00, 659481.76it/s]\n"
               ]
            },
            {
               "name": "stdout",
               "output_type": "stream",
               "text": [
                  "get df_rev_repo_trans\n"
               ]
            },
            {
               "name": "stderr",
               "output_type": "stream",
               "text": [
                  "100%|██████████| 50/50 [00:00<00:00, 723155.86it/s]\n"
               ]
            },
            {
               "name": "stdout",
               "output_type": "stream",
               "text": [
                  "get arr_rev_repo_exp_adj\n"
               ]
            },
            {
               "name": "stderr",
               "output_type": "stream",
               "text": [
                  "72296it [03:07, 384.88it/s] \n"
               ]
            },
            {
               "name": "stdout",
               "output_type": "stream",
               "text": [
                  "get arr_binary_adj (numba)\n",
                  "get degree distribution\n"
               ]
            },
            {
               "name": "stderr",
               "output_type": "stream",
               "text": [
                  "100%|██████████| 4999/4999 [00:22<00:00, 217.85it/s]\n"
               ]
            },
            {
               "name": "stdout",
               "output_type": "stream",
               "text": [
                  "get jaccard\n"
               ]
            },
            {
               "name": "stderr",
               "output_type": "stream",
               "text": [
                  "100%|██████████| 4998/4998 [00:01<00:00, 4910.28it/s]\n"
               ]
            },
            {
               "name": "stdout",
               "output_type": "stream",
               "text": [
                  "get density\n"
               ]
            },
            {
               "name": "stderr",
               "output_type": "stream",
               "text": [
                  "100%|██████████| 4998/4998 [00:00<00:00, 5149.07it/s]\n"
               ]
            },
            {
               "name": "stdout",
               "output_type": "stream",
               "text": [
                  "get degree stats\n"
               ]
            },
            {
               "name": "stderr",
               "output_type": "stream",
               "text": [
                  "100%|██████████| 4998/4998 [00:02<00:00, 1730.57it/s]\n"
               ]
            },
            {
               "name": "stdout",
               "output_type": "stream",
               "text": [
                  "get exposure stats\n"
               ]
            },
            {
               "name": "stderr",
               "output_type": "stream",
               "text": [
                  "100%|██████████| 5000/5000 [00:00<00:00, 5054.63it/s]\n"
               ]
            },
            {
               "name": "stdout",
               "output_type": "stream",
               "text": [
                  "run core-periphery tests\n"
               ]
            },
            {
               "name": "stderr",
               "output_type": "stream",
               "text": [
                  "  0%|          | 0/5 [00:00<?, ?it/s]"
               ]
            },
            {
               "name": "stdout",
               "output_type": "stream",
               "text": [
                  "core-periphery tests using the Lip approach\n",
                  "test on day 0\n"
               ]
            },
            {
               "name": "stderr",
               "output_type": "stream",
               "text": [
                  "100%|██████████| 100/100 [00:00<00:00, 2851.93it/s]\n"
               ]
            },
            {
               "name": "stdout",
               "output_type": "stream",
               "text": [
                  "test on day 500\n"
               ]
            },
            {
               "name": "stderr",
               "output_type": "stream",
               "text": [
                  "100%|██████████| 100/100 [00:00<00:00, 429.61it/s]\n"
               ]
            },
            {
               "name": "stdout",
               "output_type": "stream",
               "text": [
                  "test on day 1000\n"
               ]
            },
            {
               "name": "stderr",
               "output_type": "stream",
               "text": [
                  "100%|██████████| 100/100 [00:00<00:00, 444.38it/s]\n"
               ]
            },
            {
               "name": "stdout",
               "output_type": "stream",
               "text": [
                  "test on day 1500\n"
               ]
            },
            {
               "name": "stderr",
               "output_type": "stream",
               "text": [
                  "100%|██████████| 100/100 [00:00<00:00, 441.49it/s]\n"
               ]
            },
            {
               "name": "stdout",
               "output_type": "stream",
               "text": [
                  "test on day 2000\n"
               ]
            },
            {
               "name": "stderr",
               "output_type": "stream",
               "text": [
                  "100%|██████████| 100/100 [00:00<00:00, 444.31it/s]\n"
               ]
            },
            {
               "name": "stdout",
               "output_type": "stream",
               "text": [
                  "test on day 2500\n"
               ]
            },
            {
               "name": "stderr",
               "output_type": "stream",
               "text": [
                  "100%|██████████| 100/100 [00:00<00:00, 438.89it/s]\n"
               ]
            },
            {
               "name": "stdout",
               "output_type": "stream",
               "text": [
                  "test on day 3000\n"
               ]
            },
            {
               "name": "stderr",
               "output_type": "stream",
               "text": [
                  "100%|██████████| 100/100 [00:00<00:00, 444.36it/s]\n"
               ]
            },
            {
               "name": "stdout",
               "output_type": "stream",
               "text": [
                  "test on day 3500\n"
               ]
            },
            {
               "name": "stderr",
               "output_type": "stream",
               "text": [
                  "100%|██████████| 100/100 [00:00<00:00, 440.75it/s]\n"
               ]
            },
            {
               "name": "stdout",
               "output_type": "stream",
               "text": [
                  "test on day 4000\n"
               ]
            },
            {
               "name": "stderr",
               "output_type": "stream",
               "text": [
                  "100%|██████████| 100/100 [00:00<00:00, 437.52it/s]\n"
               ]
            },
            {
               "name": "stdout",
               "output_type": "stream",
               "text": [
                  "test on day 4500\n"
               ]
            },
            {
               "name": "stderr",
               "output_type": "stream",
               "text": [
                  "100%|██████████| 100/100 [00:00<00:00, 441.48it/s]\n"
               ]
            },
            {
               "name": "stdout",
               "output_type": "stream",
               "text": [
                  "test on day 4999\n"
               ]
            },
            {
               "name": "stderr",
               "output_type": "stream",
               "text": [
                  "100%|██████████| 100/100 [00:00<00:00, 442.03it/s]\n",
                  " 20%|██        | 1/5 [00:02<00:09,  2.41s/it]"
               ]
            },
            {
               "name": "stdout",
               "output_type": "stream",
               "text": [
                  "core-periphery tests using the Lip approach\n",
                  "test on day 0\n"
               ]
            },
            {
               "name": "stderr",
               "output_type": "stream",
               "text": [
                  "100%|██████████| 100/100 [00:00<00:00, 2837.79it/s]\n"
               ]
            },
            {
               "name": "stdout",
               "output_type": "stream",
               "text": [
                  "test on day 500\n"
               ]
            },
            {
               "name": "stderr",
               "output_type": "stream",
               "text": [
                  "100%|██████████| 100/100 [00:00<00:00, 434.01it/s]\n"
               ]
            },
            {
               "name": "stdout",
               "output_type": "stream",
               "text": [
                  "test on day 1000\n"
               ]
            },
            {
               "name": "stderr",
               "output_type": "stream",
               "text": [
                  "100%|██████████| 100/100 [00:00<00:00, 440.39it/s]\n"
               ]
            },
            {
               "name": "stdout",
               "output_type": "stream",
               "text": [
                  "test on day 1500\n"
               ]
            },
            {
               "name": "stderr",
               "output_type": "stream",
               "text": [
                  "100%|██████████| 100/100 [00:00<00:00, 434.87it/s]\n"
               ]
            },
            {
               "name": "stdout",
               "output_type": "stream",
               "text": [
                  "test on day 2000\n"
               ]
            },
            {
               "name": "stderr",
               "output_type": "stream",
               "text": [
                  "100%|██████████| 100/100 [00:00<00:00, 443.93it/s]\n"
               ]
            },
            {
               "name": "stdout",
               "output_type": "stream",
               "text": [
                  "test on day 2500\n"
               ]
            },
            {
               "name": "stderr",
               "output_type": "stream",
               "text": [
                  "100%|██████████| 100/100 [00:00<00:00, 436.86it/s]\n"
               ]
            },
            {
               "name": "stdout",
               "output_type": "stream",
               "text": [
                  "test on day 3000\n"
               ]
            },
            {
               "name": "stderr",
               "output_type": "stream",
               "text": [
                  "100%|██████████| 100/100 [00:00<00:00, 441.71it/s]\n"
               ]
            },
            {
               "name": "stdout",
               "output_type": "stream",
               "text": [
                  "test on day 3500\n"
               ]
            },
            {
               "name": "stderr",
               "output_type": "stream",
               "text": [
                  "100%|██████████| 100/100 [00:00<00:00, 441.56it/s]\n"
               ]
            },
            {
               "name": "stdout",
               "output_type": "stream",
               "text": [
                  "test on day 4000\n"
               ]
            },
            {
               "name": "stderr",
               "output_type": "stream",
               "text": [
                  "100%|██████████| 100/100 [00:00<00:00, 434.45it/s]\n"
               ]
            },
            {
               "name": "stdout",
               "output_type": "stream",
               "text": [
                  "test on day 4500\n"
               ]
            },
            {
               "name": "stderr",
               "output_type": "stream",
               "text": [
                  "100%|██████████| 100/100 [00:00<00:00, 440.19it/s]\n"
               ]
            },
            {
               "name": "stdout",
               "output_type": "stream",
               "text": [
                  "test on day 4999\n"
               ]
            },
            {
               "name": "stderr",
               "output_type": "stream",
               "text": [
                  "100%|██████████| 100/100 [00:00<00:00, 440.53it/s]\n",
                  " 40%|████      | 2/5 [00:04<00:07,  2.40s/it]"
               ]
            },
            {
               "name": "stdout",
               "output_type": "stream",
               "text": [
                  "core-periphery tests using the Lip approach\n",
                  "test on day 0\n"
               ]
            },
            {
               "name": "stderr",
               "output_type": "stream",
               "text": [
                  "100%|██████████| 100/100 [00:00<00:00, 2862.42it/s]\n"
               ]
            },
            {
               "name": "stdout",
               "output_type": "stream",
               "text": [
                  "test on day 500\n"
               ]
            },
            {
               "name": "stderr",
               "output_type": "stream",
               "text": [
                  "100%|██████████| 100/100 [00:00<00:00, 430.64it/s]\n"
               ]
            },
            {
               "name": "stdout",
               "output_type": "stream",
               "text": [
                  "test on day 1000\n"
               ]
            },
            {
               "name": "stderr",
               "output_type": "stream",
               "text": [
                  "100%|██████████| 100/100 [00:00<00:00, 436.64it/s]\n"
               ]
            },
            {
               "name": "stdout",
               "output_type": "stream",
               "text": [
                  "test on day 1500\n"
               ]
            },
            {
               "name": "stderr",
               "output_type": "stream",
               "text": [
                  "100%|██████████| 100/100 [00:00<00:00, 431.30it/s]\n"
               ]
            },
            {
               "name": "stdout",
               "output_type": "stream",
               "text": [
                  "test on day 2000\n"
               ]
            },
            {
               "name": "stderr",
               "output_type": "stream",
               "text": [
                  "100%|██████████| 100/100 [00:00<00:00, 441.86it/s]\n"
               ]
            },
            {
               "name": "stdout",
               "output_type": "stream",
               "text": [
                  "test on day 2500\n"
               ]
            },
            {
               "name": "stderr",
               "output_type": "stream",
               "text": [
                  "100%|██████████| 100/100 [00:00<00:00, 429.33it/s]\n"
               ]
            },
            {
               "name": "stdout",
               "output_type": "stream",
               "text": [
                  "test on day 3000\n"
               ]
            },
            {
               "name": "stderr",
               "output_type": "stream",
               "text": [
                  "100%|██████████| 100/100 [00:00<00:00, 437.06it/s]\n"
               ]
            },
            {
               "name": "stdout",
               "output_type": "stream",
               "text": [
                  "test on day 3500\n"
               ]
            },
            {
               "name": "stderr",
               "output_type": "stream",
               "text": [
                  "100%|██████████| 100/100 [00:00<00:00, 440.13it/s]\n"
               ]
            },
            {
               "name": "stdout",
               "output_type": "stream",
               "text": [
                  "test on day 4000\n"
               ]
            },
            {
               "name": "stderr",
               "output_type": "stream",
               "text": [
                  "100%|██████████| 100/100 [00:00<00:00, 432.59it/s]\n"
               ]
            },
            {
               "name": "stdout",
               "output_type": "stream",
               "text": [
                  "test on day 4500\n"
               ]
            },
            {
               "name": "stderr",
               "output_type": "stream",
               "text": [
                  "100%|██████████| 100/100 [00:00<00:00, 439.83it/s]\n"
               ]
            },
            {
               "name": "stdout",
               "output_type": "stream",
               "text": [
                  "test on day 4999\n"
               ]
            },
            {
               "name": "stderr",
               "output_type": "stream",
               "text": [
                  "100%|██████████| 100/100 [00:00<00:00, 437.57it/s]\n",
                  " 60%|██████    | 3/5 [00:07<00:04,  2.41s/it]"
               ]
            },
            {
               "name": "stdout",
               "output_type": "stream",
               "text": [
                  "core-periphery tests using the Lip approach\n",
                  "test on day 0\n"
               ]
            },
            {
               "name": "stderr",
               "output_type": "stream",
               "text": [
                  "100%|██████████| 100/100 [00:00<00:00, 2859.53it/s]\n"
               ]
            },
            {
               "name": "stdout",
               "output_type": "stream",
               "text": [
                  "test on day 500\n"
               ]
            },
            {
               "name": "stderr",
               "output_type": "stream",
               "text": [
                  "100%|██████████| 100/100 [00:00<00:00, 423.94it/s]\n"
               ]
            },
            {
               "name": "stdout",
               "output_type": "stream",
               "text": [
                  "test on day 1000\n"
               ]
            },
            {
               "name": "stderr",
               "output_type": "stream",
               "text": [
                  "100%|██████████| 100/100 [00:00<00:00, 433.56it/s]\n"
               ]
            },
            {
               "name": "stdout",
               "output_type": "stream",
               "text": [
                  "test on day 1500\n"
               ]
            },
            {
               "name": "stderr",
               "output_type": "stream",
               "text": [
                  "100%|██████████| 100/100 [00:00<00:00, 431.83it/s]\n"
               ]
            },
            {
               "name": "stdout",
               "output_type": "stream",
               "text": [
                  "test on day 2000\n"
               ]
            },
            {
               "name": "stderr",
               "output_type": "stream",
               "text": [
                  "100%|██████████| 100/100 [00:00<00:00, 440.07it/s]\n"
               ]
            },
            {
               "name": "stdout",
               "output_type": "stream",
               "text": [
                  "test on day 2500\n"
               ]
            },
            {
               "name": "stderr",
               "output_type": "stream",
               "text": [
                  "100%|██████████| 100/100 [00:00<00:00, 435.22it/s]\n"
               ]
            },
            {
               "name": "stdout",
               "output_type": "stream",
               "text": [
                  "test on day 3000\n"
               ]
            },
            {
               "name": "stderr",
               "output_type": "stream",
               "text": [
                  "100%|██████████| 100/100 [00:00<00:00, 433.51it/s]\n"
               ]
            },
            {
               "name": "stdout",
               "output_type": "stream",
               "text": [
                  "test on day 3500\n"
               ]
            },
            {
               "name": "stderr",
               "output_type": "stream",
               "text": [
                  "100%|██████████| 100/100 [00:00<00:00, 442.28it/s]\n"
               ]
            },
            {
               "name": "stdout",
               "output_type": "stream",
               "text": [
                  "test on day 4000\n"
               ]
            },
            {
               "name": "stderr",
               "output_type": "stream",
               "text": [
                  "100%|██████████| 100/100 [00:00<00:00, 435.95it/s]\n"
               ]
            },
            {
               "name": "stdout",
               "output_type": "stream",
               "text": [
                  "test on day 4500\n"
               ]
            },
            {
               "name": "stderr",
               "output_type": "stream",
               "text": [
                  "100%|██████████| 100/100 [00:00<00:00, 437.37it/s]\n"
               ]
            },
            {
               "name": "stdout",
               "output_type": "stream",
               "text": [
                  "test on day 4999\n"
               ]
            },
            {
               "name": "stderr",
               "output_type": "stream",
               "text": [
                  "100%|██████████| 100/100 [00:00<00:00, 439.84it/s]\n",
                  " 80%|████████  | 4/5 [00:09<00:02,  2.41s/it]"
               ]
            },
            {
               "name": "stdout",
               "output_type": "stream",
               "text": [
                  "core-periphery tests using the Lip approach\n",
                  "test on day 0\n"
               ]
            },
            {
               "name": "stderr",
               "output_type": "stream",
               "text": [
                  "100%|██████████| 100/100 [00:00<00:00, 1667.31it/s]\n"
               ]
            },
            {
               "name": "stdout",
               "output_type": "stream",
               "text": [
                  "test on day 500\n"
               ]
            },
            {
               "name": "stderr",
               "output_type": "stream",
               "text": [
                  "100%|██████████| 100/100 [00:00<00:00, 438.66it/s]\n"
               ]
            },
            {
               "name": "stdout",
               "output_type": "stream",
               "text": [
                  "test on day 1000\n"
               ]
            },
            {
               "name": "stderr",
               "output_type": "stream",
               "text": [
                  "100%|██████████| 100/100 [00:00<00:00, 441.86it/s]\n"
               ]
            },
            {
               "name": "stdout",
               "output_type": "stream",
               "text": [
                  "test on day 1500\n"
               ]
            },
            {
               "name": "stderr",
               "output_type": "stream",
               "text": [
                  "100%|██████████| 100/100 [00:00<00:00, 439.67it/s]\n"
               ]
            },
            {
               "name": "stdout",
               "output_type": "stream",
               "text": [
                  "test on day 2000\n"
               ]
            },
            {
               "name": "stderr",
               "output_type": "stream",
               "text": [
                  "100%|██████████| 100/100 [00:00<00:00, 444.22it/s]\n"
               ]
            },
            {
               "name": "stdout",
               "output_type": "stream",
               "text": [
                  "test on day 2500\n"
               ]
            },
            {
               "name": "stderr",
               "output_type": "stream",
               "text": [
                  "100%|██████████| 100/100 [00:00<00:00, 439.92it/s]\n"
               ]
            },
            {
               "name": "stdout",
               "output_type": "stream",
               "text": [
                  "test on day 3000\n"
               ]
            },
            {
               "name": "stderr",
               "output_type": "stream",
               "text": [
                  "100%|██████████| 100/100 [00:00<00:00, 443.78it/s]\n"
               ]
            },
            {
               "name": "stdout",
               "output_type": "stream",
               "text": [
                  "test on day 3500\n"
               ]
            },
            {
               "name": "stderr",
               "output_type": "stream",
               "text": [
                  "100%|██████████| 100/100 [00:00<00:00, 441.41it/s]\n"
               ]
            },
            {
               "name": "stdout",
               "output_type": "stream",
               "text": [
                  "test on day 4000\n"
               ]
            },
            {
               "name": "stderr",
               "output_type": "stream",
               "text": [
                  "100%|██████████| 100/100 [00:00<00:00, 434.71it/s]\n"
               ]
            },
            {
               "name": "stdout",
               "output_type": "stream",
               "text": [
                  "test on day 4500\n"
               ]
            },
            {
               "name": "stderr",
               "output_type": "stream",
               "text": [
                  "100%|██████████| 100/100 [00:00<00:00, 441.12it/s]\n"
               ]
            },
            {
               "name": "stdout",
               "output_type": "stream",
               "text": [
                  "test on day 4999\n"
               ]
            },
            {
               "name": "stderr",
               "output_type": "stream",
               "text": [
                  "100%|██████████| 100/100 [00:00<00:00, 439.57it/s]\n",
                  "100%|██████████| 5/5 [00:12<00:00,  2.41s/it]\n"
               ]
            },
            {
               "name": "stdout",
               "output_type": "stream",
               "text": [
                  "get transaction stats av. network\n"
               ]
            },
            {
               "name": "stderr",
               "output_type": "stream",
               "text": [
                  "100%|██████████| 4999/4999 [00:32<00:00, 153.90it/s]\n"
               ]
            },
            {
               "name": "stdout",
               "output_type": "stream",
               "text": [
                  "get transaction stats av. bank\n"
               ]
            },
            {
               "name": "stderr",
               "output_type": "stream",
               "text": [
                  "100%|██████████| 4999/4999 [00:04<00:00, 1035.52it/s]\n"
               ]
            }
         ],
         "source": [
            "from dynamics import ClassDynamics\n",
            "from network import ClassNetwork\n",
            "\n",
            "\n",
            "# parameter setting\n",
            "nb_banks=50\n",
            "result_location=\"./results/single_run/test/\"\n",
            "\n",
            "# reg ratios\n",
            "alpha_init=0.01  # initial cash (< 1/(1-gamma) - beta)\n",
            "alpha=0.01\n",
            "beta_init=0.5 # initial collateral  (< 1/(1-gamma) - alpha)\n",
            "beta_reg=0.5\n",
            "beta_star=0.5\n",
            "gamma=0.03\n",
            "gamma_init = 2*gamma\n",
            "collateral_value=1.0\n",
            "\n",
            "# initialisation of deposits size\n",
            "initialization_method=\"pareto\"\n",
            "alpha_pareto=1.3\n",
            "\n",
            "# shocks on deposits \n",
            "shocks_method=\"non-conservative\"\n",
            "shocks_law=\"normal-mean-reverting\"\n",
            "shocks_vol=0.01 # 0.05\n",
            "\n",
            "# min trans size\n",
            "min_repo_trans_size=1e-8  # 1e-8\n",
            "\n",
            "# dynamics & ploting\n",
            "nb_steps=int(5e3)\n",
            "dump_period=int(5e2)\n",
            "plot_period=int(5e2)\n",
            "cp_option=True\n",
            "heavy_plot=False\n",
            "\n",
            "# LCR mgt\n",
            "LCR_mgt_opt=True\n",
            "\n",
            "# leverage mgt\n",
            "end_repo_period=False # if int, periodic end repo / if false, leverage mgt\n",
            "gamma_star = 1.2*gamma\n",
            "# money creation\n",
            "loan_tenor=5000 # if int, money creation / if false. no new loans\n",
            "new_loans_vol = 0 # standard deviation around the mean creation of loans\n",
            "new_loans_mean = 1e-2/250 # daily mean increase in loans expressed as a percentage of the intital loans (the other option would be a relative increase but it is unstable np.exp(np.log(1.01)/250)-1 = 4e-5)\n",
            "beta_new = False # if number, new colat / if false, no new colat \n",
            "gamma_new = gamma_star + beta_reg # if number, new own funds / if false, no new own funds. we need to also add beta reg to ensure LCR can be covered with additional cash (and we still match the solvency ratio despite this excess of stress)\n",
            "\n",
            "\n",
            "# initialize ClassNetwork\n",
            "Network = ClassNetwork(\n",
            "    nb_banks=nb_banks,\n",
            "    alpha_init=alpha_init,\n",
            "    beta_init=beta_init,\n",
            "    beta_reg=beta_reg,\n",
            "    beta_star=beta_star,\n",
            "    beta_new=beta_new,\n",
            "    alpha=alpha,\n",
            "    gamma_init=gamma_init,\n",
            "    gamma=gamma,\n",
            "    gamma_star=gamma_star,\n",
            "    gamma_new=gamma_new,\n",
            "    collateral_value=collateral_value,\n",
            "    initialization_method=initialization_method,\n",
            "    alpha_pareto=alpha_pareto,\n",
            "    shocks_method=shocks_method,\n",
            "    shocks_law=shocks_law,\n",
            "    shocks_vol=shocks_vol,\n",
            "    LCR_mgt_opt=LCR_mgt_opt,\n",
            "    min_repo_trans_size=min_repo_trans_size,\n",
            "    loan_tenor=loan_tenor,\n",
            "    new_loans_vol=new_loans_vol,\n",
            "    new_loans_mean=new_loans_mean,\n",
            "    end_repo_period=end_repo_period,\n",
            ")\n",
            "\n",
            "# initialize ClassDynamics\n",
            "Dynamics = ClassDynamics(\n",
            "    Network,\n",
            "    nb_steps=nb_steps,\n",
            "    path_results=result_location,\n",
            "    dump_period=dump_period,\n",
            "    plot_period=plot_period,\n",
            "    cp_option=cp_option,\n",
            "    heavy_plot=heavy_plot,\n",
            ")\n",
            "\n",
            "# simulate\n",
            "Dynamics.simulate()"
         ]
      },
      {
         "cell_type": "code",
         "execution_count": 5,
         "metadata": {},
         "outputs": [
            {
               "data": {
                  "text/plain": [
                     "3.980211549592383e-05"
                  ]
               },
               "execution_count": 5,
               "metadata": {},
               "output_type": "execute_result"
            }
         ],
         "source": [
            "import numpy as np\n",
            "np.exp(np.log(1.01)/250)-1"
         ]
      },
      {
         "cell_type": "code",
         "execution_count": 5,
         "metadata": {},
         "outputs": [
            {
               "data": {
                  "text/plain": [
                     "(array([36.,  7.,  3.,  0.,  0.,  2.,  1.,  0.,  0.,  1.]),\n",
                     " array([0.22896693, 0.83264029, 1.43631366, 2.03998702, 2.64366039,\n",
                     "        3.24733375, 3.85100712, 4.45468048, 5.05835385, 5.66202721,\n",
                     "        6.26570058]),\n",
                     " <BarContainer object of 10 artists>)"
                  ]
               },
               "execution_count": 5,
               "metadata": {},
               "output_type": "execute_result"
            },
            {
               "data": {
                  "image/png": "[encoded data removed]",
                  "text/plain": [
                     "<Figure size 640x480 with 1 Axes>"
                  ]
               },
               "metadata": {},
               "output_type": "display_data"
            }
         ],
         "source": [
            "import numpy as np\n",
            "from matplotlib import pyplot as plt\n",
            "ar_new_loans = (np.random.randn(nb_banks) * new_loans_vol + 1)*new_loans_mean\n",
            "plt.hist(ar_new_loans*Network.df_banks[\"initial loans\"])"
         ]
      },
      {
         "cell_type": "code",
         "execution_count": 2,
         "metadata": {},
         "outputs": [
            {
               "name": "stdout",
               "output_type": "stream",
               "text": [
                  "get df_rev_repo_trans\n"
               ]
            },
            {
               "name": "stderr",
               "output_type": "stream",
               "text": [
                  "100%|██████████| 50/50 [00:00<00:00, 720670.79it/s]\n"
               ]
            },
            {
               "name": "stdout",
               "output_type": "stream",
               "text": [
                  "get df_rev_repo_trans\n"
               ]
            },
            {
               "name": "stderr",
               "output_type": "stream",
               "text": [
                  "100%|██████████| 50/50 [00:00<00:00, 970903.70it/s]\n"
               ]
            },
            {
               "name": "stdout",
               "output_type": "stream",
               "text": [
                  "get arr_rev_repo_exp_adj\n"
               ]
            },
            {
               "name": "stderr",
               "output_type": "stream",
               "text": [
                  "6947it [00:00, 8465.61it/s]\n"
               ]
            },
            {
               "name": "stdout",
               "output_type": "stream",
               "text": [
                  "get arr_binary_adj (numba)\n",
                  "get degree distribution\n"
               ]
            },
            {
               "name": "stderr",
               "output_type": "stream",
               "text": [
                  "100%|██████████| 359/359 [00:00<00:00, 725.44it/s]\n"
               ]
            },
            {
               "name": "stdout",
               "output_type": "stream",
               "text": [
                  "get jaccard\n"
               ]
            },
            {
               "name": "stderr",
               "output_type": "stream",
               "text": [
                  "100%|██████████| 358/358 [00:00<00:00, 6766.38it/s]\n"
               ]
            },
            {
               "name": "stdout",
               "output_type": "stream",
               "text": [
                  "get density\n"
               ]
            },
            {
               "name": "stderr",
               "output_type": "stream",
               "text": [
                  "100%|██████████| 358/358 [00:00<00:00, 4538.82it/s]\n"
               ]
            },
            {
               "name": "stdout",
               "output_type": "stream",
               "text": [
                  "get degree stats\n"
               ]
            },
            {
               "name": "stderr",
               "output_type": "stream",
               "text": [
                  "100%|██████████| 358/358 [00:00<00:00, 1734.92it/s]\n"
               ]
            },
            {
               "name": "stdout",
               "output_type": "stream",
               "text": [
                  "get exposure stats\n"
               ]
            },
            {
               "name": "stderr",
               "output_type": "stream",
               "text": [
                  "100%|██████████| 360/360 [00:00<00:00, 5262.76it/s]\n"
               ]
            },
            {
               "name": "stdout",
               "output_type": "stream",
               "text": [
                  "run core-periphery tests\n"
               ]
            },
            {
               "name": "stderr",
               "output_type": "stream",
               "text": [
                  "  0%|          | 0/5 [00:00<?, ?it/s]"
               ]
            },
            {
               "name": "stdout",
               "output_type": "stream",
               "text": [
                  "core-periphery tests using the Lip approach\n",
                  "test on day 0\n"
               ]
            },
            {
               "name": "stderr",
               "output_type": "stream",
               "text": [
                  "100%|██████████| 100/100 [00:00<00:00, 2807.49it/s]\n"
               ]
            },
            {
               "name": "stdout",
               "output_type": "stream",
               "text": [
                  "test on day 359\n"
               ]
            },
            {
               "name": "stderr",
               "output_type": "stream",
               "text": [
                  "100%|██████████| 100/100 [00:00<00:00, 1350.14it/s]\n",
                  " 20%|██        | 1/5 [00:00<00:00,  6.72it/s]"
               ]
            },
            {
               "name": "stdout",
               "output_type": "stream",
               "text": [
                  "core-periphery tests using the Lip approach\n",
                  "test on day 0\n"
               ]
            },
            {
               "name": "stderr",
               "output_type": "stream",
               "text": [
                  "100%|██████████| 100/100 [00:00<00:00, 2814.52it/s]\n"
               ]
            },
            {
               "name": "stdout",
               "output_type": "stream",
               "text": [
                  "test on day 359\n"
               ]
            },
            {
               "name": "stderr",
               "output_type": "stream",
               "text": [
                  "100%|██████████| 100/100 [00:00<00:00, 1320.64it/s]\n",
                  " 40%|████      | 2/5 [00:00<00:00,  7.51it/s]"
               ]
            },
            {
               "name": "stdout",
               "output_type": "stream",
               "text": [
                  "core-periphery tests using the Lip approach\n",
                  "test on day 0\n"
               ]
            },
            {
               "name": "stderr",
               "output_type": "stream",
               "text": [
                  "100%|██████████| 100/100 [00:00<00:00, 2826.39it/s]\n"
               ]
            },
            {
               "name": "stdout",
               "output_type": "stream",
               "text": [
                  "test on day 359\n"
               ]
            },
            {
               "name": "stderr",
               "output_type": "stream",
               "text": [
                  "100%|██████████| 100/100 [00:00<00:00, 1241.12it/s]\n",
                  " 60%|██████    | 3/5 [00:00<00:00,  7.67it/s]"
               ]
            },
            {
               "name": "stdout",
               "output_type": "stream",
               "text": [
                  "core-periphery tests using the Lip approach\n",
                  "test on day 0\n"
               ]
            },
            {
               "name": "stderr",
               "output_type": "stream",
               "text": [
                  "100%|██████████| 100/100 [00:00<00:00, 2827.55it/s]\n"
               ]
            },
            {
               "name": "stdout",
               "output_type": "stream",
               "text": [
                  "test on day 359\n"
               ]
            },
            {
               "name": "stderr",
               "output_type": "stream",
               "text": [
                  "100%|██████████| 100/100 [00:00<00:00, 1031.62it/s]\n",
                  " 80%|████████  | 4/5 [00:00<00:00,  7.40it/s]"
               ]
            },
            {
               "name": "stdout",
               "output_type": "stream",
               "text": [
                  "core-periphery tests using the Lip approach\n",
                  "test on day 0\n"
               ]
            },
            {
               "name": "stderr",
               "output_type": "stream",
               "text": [
                  "100%|██████████| 100/100 [00:00<00:00, 1876.26it/s]\n"
               ]
            },
            {
               "name": "stdout",
               "output_type": "stream",
               "text": [
                  "test on day 359\n"
               ]
            },
            {
               "name": "stderr",
               "output_type": "stream",
               "text": [
                  "100%|██████████| 100/100 [00:00<00:00, 1439.33it/s]\n",
                  "100%|██████████| 5/5 [00:00<00:00,  7.40it/s]\n"
               ]
            },
            {
               "name": "stdout",
               "output_type": "stream",
               "text": [
                  "get transaction stats av. network\n"
               ]
            },
            {
               "name": "stderr",
               "output_type": "stream",
               "text": [
                  "100%|██████████| 359/359 [00:00<00:00, 561.60it/s]\n"
               ]
            },
            {
               "name": "stdout",
               "output_type": "stream",
               "text": [
                  "get transaction stats av. bank\n"
               ]
            },
            {
               "name": "stderr",
               "output_type": "stream",
               "text": [
                  "100%|██████████| 359/359 [00:00<00:00, 1172.51it/s]\n"
               ]
            }
         ],
         "source": [
            "# get graphics after interupting \n",
            "import graphics  as gx\n",
            "Dynamics.nb_steps = Network.step\n",
            "Dynamics.plot_period = Network.step\n",
            "Dynamics.fill()\n",
            "Dynamics.dump()\n",
            "gx.plot(Dynamics)"
         ]
      },
      {
         "cell_type": "markdown",
         "metadata": {},
         "source": [
            "# analysis"
         ]
      },
      {
         "cell_type": "code",
         "execution_count": 3,
         "metadata": {},
         "outputs": [],
         "source": [
            "import numpy as np \n",
            "for chain in Network.chains_rev_repo:\n",
            "   if  len(np.unique (np.array(chain))) < len(np.array(chain)):\n",
            "      print(\"error\")"
         ]
      },
      {
         "cell_type": "code",
         "execution_count": 4,
         "metadata": {},
         "outputs": [
            {
               "data": {
                  "text/plain": [
                     "871161"
                  ]
               },
               "execution_count": 4,
               "metadata": {},
               "output_type": "execute_result"
            }
         ],
         "source": [
            "len(Network.chains_rev_repo)"
         ]
      },
      {
         "cell_type": "code",
         "execution_count": 8,
         "metadata": {},
         "outputs": [
            {
               "data": {
                  "text/plain": [
                     "[[22, 24],\n",
                     " [47, 22],\n",
                     " [30, 11, 27],\n",
                     " [21, 40],\n",
                     " [6, 40, 11],\n",
                     " [41, 40, 10],\n",
                     " [41, 40, 30, 11, 10],\n",
                     " [41, 40, 11, 10],\n",
                     " [5, 40, 30, 11, 27, 48, 21],\n",
                     " [5, 40, 11, 27, 48, 21],\n",
                     " [5, 40, 21],\n",
                     " [5, 48, 21],\n",
                     " [5, 48, 19, 35, 21],\n",
                     " [33, 10],\n",
                     " [11, 19, 35, 22, 36, 30],\n",
                     " [11, 6, 40, 30],\n",
                     " [11, 6, 22, 36, 30],\n",
                     " [11, 27, 30],\n",
                     " [11, 47, 22, 36, 30],\n",
                     " [0, 48, 19, 35, 22],\n",
                     " [0, 48, 19, 35],\n",
                     " [21, 5, 48, 19, 35],\n",
                     " [10, 33],\n",
                     " [16, 27, 48],\n",
                     " [19, 35, 22],\n",
                     " [22, 36, 30, 11, 6],\n",
                     " [22, 0, 48, 21, 40, 11, 6],\n",
                     " [22, 24, 40, 11, 6],\n",
                     " [22, 0, 21, 40, 11, 6],\n",
                     " [22, 16, 27, 30, 11, 6],\n",
                     " [22, 36, 30, 11, 27, 48, 21, 5],\n",
                     " [22, 0, 48, 21, 5],\n",
                     " [22, 0, 48, 19, 35, 21, 5],\n",
                     " [22, 16, 27, 48, 21, 5],\n",
                     " [22, 24, 40, 21, 5],\n",
                     " [22, 0, 21, 5],\n",
                     " [22, 19, 35, 21, 5],\n",
                     " [22, 47],\n",
                     " [22, 36, 30, 11, 47],\n",
                     " [22, 0, 48, 21, 40, 11, 47],\n",
                     " [22, 24, 40, 11, 47],\n",
                     " [22, 0, 21, 40, 11, 47],\n",
                     " [22, 16, 27, 30, 11, 47],\n",
                     " [48, 16, 27],\n",
                     " [10, 41, 40, 30, 11],\n",
                     " [10, 41, 40, 11],\n",
                     " [25, 48, 38],\n",
                     " [25, 5, 48, 38],\n",
                     " [25, 5, 40, 30, 11, 27, 48, 38],\n",
                     " [25, 44, 30, 11, 27, 48, 38],\n",
                     " [25, 12, 11, 27, 48, 38],\n",
                     " [25, 5, 40, 11, 27, 48, 38],\n",
                     " [25, 44, 32, 48, 38],\n",
                     " [25, 44, 40, 30, 11, 27, 48, 38],\n",
                     " [25, 44, 40, 11, 27, 48, 38],\n",
                     " [25, 38],\n",
                     " [25, 11, 27, 48, 38],\n",
                     " [25, 41, 40, 30, 11, 27, 48, 38],\n",
                     " [25, 41, 40, 11, 27, 48, 38],\n",
                     " [25, 40, 30, 11, 27, 48, 38],\n",
                     " [25, 40, 11, 27, 48, 38],\n",
                     " [25, 0, 48, 38],\n",
                     " [25, 8],\n",
                     " [25, 7, 40, 10, 41],\n",
                     " [25, 48, 38, 21, 10, 41],\n",
                     " [25, 31, 40, 10, 41],\n",
                     " [25, 44, 40, 10, 41],\n",
                     " [25, 48, 38, 21, 40, 10, 41],\n",
                     " [25, 5, 40, 10, 41],\n",
                     " [25, 5, 40, 30, 11, 10, 41],\n",
                     " [25, 44, 30, 11, 10, 41],\n",
                     " [25, 12, 11, 10, 41],\n",
                     " [25, 5, 40, 11, 10, 41],\n",
                     " [25, 44, 32, 21, 10, 41],\n",
                     " [25, 44, 32, 21, 40, 10, 41],\n",
                     " [25, 44, 32, 48, 21, 10, 41],\n",
                     " [25, 44, 32, 48, 21, 40, 10, 41],\n",
                     " [25, 44, 40, 11, 10, 41],\n",
                     " [25, 44, 40, 30, 11, 10, 41],\n",
                     " [25, 44, 40, 21, 10, 41],\n",
                     " [25, 38, 21, 10, 41],\n",
                     " [25, 38, 21, 40, 10, 41],\n",
                     " [25, 45, 40, 10, 41],\n",
                     " [25, 45, 21, 10, 41],\n",
                     " [25, 45, 21, 40, 10, 41],\n",
                     " [25, 11, 10, 41],\n",
                     " [25, 11, 6, 40, 10, 41],\n",
                     " [25, 41],\n",
                     " [25, 40, 10, 41],\n",
                     " [25, 40, 11, 10, 41],\n",
                     " [25, 40, 30, 11, 10, 41],\n",
                     " [25, 40, 21, 10, 41],\n",
                     " [25, 48, 21, 10, 41],\n",
                     " [25, 48, 21, 40, 10, 41],\n",
                     " [25, 0, 21, 10, 41],\n",
                     " [25, 0, 21, 40, 10, 41],\n",
                     " [25, 0, 48, 21, 10, 41],\n",
                     " [25, 0, 48, 21, 40, 10, 41],\n",
                     " [25, 5, 48, 21, 10, 41],\n",
                     " [25, 5, 48, 21, 40, 10, 41],\n",
                     " [25, 44, 32],\n",
                     " [25, 31],\n",
                     " [40, 30, 11],\n",
                     " [40, 11],\n",
                     " [8, 25, 5, 40, 30, 11, 27],\n",
                     " [8, 25, 44, 30, 11, 27],\n",
                     " [8, 25, 12, 11, 27],\n",
                     " [8, 25, 5, 40, 11, 27],\n",
                     " [8, 25, 44, 40, 30, 11, 27],\n",
                     " [8, 25, 44, 40, 11, 27],\n",
                     " [8, 25, 11, 27],\n",
                     " [8, 25, 41, 40, 30, 11, 27],\n",
                     " [8, 25, 41, 40, 11, 27],\n",
                     " [8, 25, 40, 30, 11, 27],\n",
                     " [8, 25, 40, 11, 27],\n",
                     " [8, 25, 0],\n",
                     " [8, 25, 47, 22, 0],\n",
                     " [8, 25, 5, 22, 0],\n",
                     " [8, 25, 39, 22, 0],\n",
                     " [8, 25, 48, 38, 47, 22, 0],\n",
                     " [8, 25, 12, 47, 22, 0],\n",
                     " [8, 25, 44, 32, 48, 19, 35, 22, 0],\n",
                     " [8, 25, 48, 19, 35, 22, 0],\n",
                     " [8, 25, 44, 40, 11, 19, 35, 22, 0],\n",
                     " [8, 25, 38, 47, 22, 0],\n",
                     " [8, 25, 11, 19, 35, 22, 0],\n",
                     " [8, 25, 11, 6, 22, 0],\n",
                     " [8, 25, 11, 47, 22, 0],\n",
                     " [8, 25, 40, 11, 19, 35, 22, 0],\n",
                     " [8, 25, 44, 32, 48, 19, 35, 0],\n",
                     " [8, 25, 48, 19, 35, 0],\n",
                     " [8, 25, 44, 40, 11, 19, 35, 0],\n",
                     " [8, 25, 11, 19, 35, 0],\n",
                     " [8, 25, 40, 11, 19, 35, 0],\n",
                     " [8, 25, 5, 48, 19, 35, 22, 0],\n",
                     " [8, 25, 5, 48, 19, 35, 0],\n",
                     " [8, 25, 14, 47, 22, 0],\n",
                     " [33, 10, 41, 40, 30, 11, 27, 48, 21],\n",
                     " [33, 10, 41, 40, 11, 27, 48, 21],\n",
                     " [33, 10, 41, 40, 21],\n",
                     " [15, 4, 21, 5, 22],\n",
                     " [15, 25, 4, 21, 5, 22],\n",
                     " [15, 14, 47, 22],\n",
                     " [15, 25, 14, 47, 22],\n",
                     " [15, 35, 22],\n",
                     " [15, 41, 14, 47, 22],\n",
                     " [15, 48, 21, 5, 22],\n",
                     " [15, 45, 21, 5, 22],\n",
                     " [15, 25, 47, 22],\n",
                     " [15, 0, 21, 5, 22],\n",
                     " [15, 7, 40, 30, 11, 27, 48, 21, 5, 22],\n",
                     " [15, 25, 5, 22],\n",
                     " [15, 4, 11, 6, 22],\n",
                     " [15, 41, 40, 30, 11, 27, 48, 21, 5, 22],\n",
                     " [15, 27, 48, 21, 5, 22],\n",
                     " [15, 25, 44, 30, 11, 27, 48, 21, 5, 22],\n",
                     " [15, 25, 39, 22],\n",
                     " [15, 25, 12, 47, 22],\n",
                     " [15, 25, 12, 14, 47, 22],\n",
                     " [15, 25, 12, 11, 27, 48, 21, 5, 22],\n",
                     " [15, 7, 40, 11, 27, 48, 21, 5, 22],\n",
                     " [15, 41, 40, 11, 27, 48, 21, 5, 22],\n",
                     " [15, 25, 48, 38, 21, 5, 22],\n",
                     " [15, 21, 5, 22],\n",
                     " [15, 32, 21, 5, 22],\n",
                     " [15, 35, 21, 5, 22],\n",
                     " [15, 25, 7, 40, 21, 5, 22],\n",
                     " [15, 40, 21, 5, 22],\n",
                     " [15, 7, 40, 21, 5, 22],\n",
                     " [15, 25, 31, 40, 21, 5, 22],\n",
                     " [15, 25, 44, 40, 21, 5, 22],\n",
                     " [15, 41, 40, 21, 5, 22],\n",
                     " [15, 45, 40, 21, 5, 22],\n",
                     " [15, 24, 40, 21, 5, 22],\n",
                     " [15, 32, 48, 21, 5, 22],\n",
                     " [15, 32, 48, 19, 35, 22],\n",
                     " [15, 32, 48, 19, 35, 21, 5, 22],\n",
                     " [15, 25, 0, 48, 19, 35, 22],\n",
                     " [15, 35, 10, 41, 14, 47, 22],\n",
                     " [15, 35, 10, 41, 40, 30, 11, 27, 48, 21, 5, 22],\n",
                     " [15, 35, 10, 41, 40, 11, 27, 48, 21, 5, 22],\n",
                     " [15, 35, 10, 41, 40, 21, 5, 22],\n",
                     " [15, 25, 48, 38, 47, 22],\n",
                     " [15, 4, 11, 47, 22],\n",
                     " [15, 25, 5, 40, 30, 11, 47, 22],\n",
                     " [15, 7, 40, 30, 11, 47, 22],\n",
                     " [15, 41, 40, 30, 11, 47, 22],\n",
                     " [15, 27, 30, 11, 47, 22],\n",
                     " [15, 25, 44, 30, 11, 47, 22],\n",
                     " [15, 25, 12, 11, 47, 22],\n",
                     " [15, 25, 7, 40, 11, 47, 22],\n",
                     " [15, 40, 11, 47, 22],\n",
                     " [15, 7, 40, 11, 47, 22],\n",
                     " [15, 25, 31, 40, 11, 47, 22],\n",
                     " [15, 25, 44, 40, 11, 47, 22],\n",
                     " [15, 41, 40, 11, 47, 22],\n",
                     " [15, 25, 48, 38, 21, 40, 11, 47, 22],\n",
                     " [15, 45, 40, 11, 47, 22],\n",
                     " [15, 24, 40, 11, 47, 22],\n",
                     " [15, 25, 5, 40, 11, 47, 22],\n",
                     " [15, 0, 21, 40, 11, 47, 22],\n",
                     " [15, 4, 21, 40, 11, 47, 22],\n",
                     " [15, 21, 40, 11, 47, 22],\n",
                     " [15, 32, 21, 40, 11, 47, 22],\n",
                     " [15, 32, 48, 21, 40, 11, 47, 22],\n",
                     " [15, 35, 10, 41, 40, 30, 11, 47, 22],\n",
                     " [15, 35, 10, 41, 40, 11, 47, 22],\n",
                     " [15, 25, 44, 32, 21, 5, 22],\n",
                     " [15, 25, 44, 32, 48, 21, 5, 22],\n",
                     " [15, 25, 44, 32, 48, 19, 35, 22],\n",
                     " [15, 25, 44, 32, 48, 19, 35, 21, 5, 22],\n",
                     " [15, 25, 44, 32, 21, 40, 11, 47, 22],\n",
                     " [15, 25, 44, 32, 48, 21, 40, 11, 47, 22],\n",
                     " [15, 35, 21, 5, 40, 30, 11, 47, 22],\n",
                     " [15, 35, 21, 5, 40, 11, 47, 22],\n",
                     " [15, 25, 48, 19, 35, 22],\n",
                     " [15, 25, 48, 19, 35, 21, 5, 22],\n",
                     " [15, 25, 44, 40, 30, 11, 27, 48, 21, 5, 22],\n",
                     " [15, 25, 44, 40, 11, 27, 48, 21, 5, 22],\n",
                     " [15, 25, 44, 40, 11, 19, 35, 22],\n",
                     " [15, 25, 44, 40, 11, 19, 35, 21, 5, 22],\n",
                     " [15, 25, 44, 40, 30, 11, 47, 22],\n",
                     " [15, 25, 38, 21, 5, 22],\n",
                     " [15, 25, 38, 47, 22],\n",
                     " [15, 25, 38, 21, 40, 11, 47, 22],\n",
                     " [15, 25, 45, 21, 5, 22],\n",
                     " [15, 25, 45, 40, 21, 5, 22],\n",
                     " [15, 25, 45, 40, 11, 47, 22],\n",
                     " [15, 25, 45, 21, 40, 11, 47, 22],\n",
                     " [15, 4, 11, 27, 48, 21, 5, 22],\n",
                     " [15, 4, 11, 19, 35, 22],\n",
                     " [15, 4, 11, 19, 35, 21, 5, 22],\n",
                     " [15, 4, 11, 6, 40, 21, 5, 22],\n",
                     " [15, 25, 11, 27, 48, 21, 5, 22],\n",
                     " [15, 25, 11, 19, 35, 22],\n",
                     " [15, 25, 11, 6, 22],\n",
                     " [15, 25, 11, 47, 22],\n",
                     " [15, 25, 11, 19, 35, 21, 5, 22],\n",
                     " [15, 25, 11, 6, 40, 21, 5, 22],\n",
                     " [15, 25, 41, 14, 47, 22],\n",
                     " [15, 25, 41, 40, 30, 11, 27, 48, 21, 5, 22],\n",
                     " [15, 25, 41, 40, 11, 27, 48, 21, 5, 22],\n",
                     " [15, 25, 41, 40, 21, 5, 22],\n",
                     " [15, 25, 41, 40, 30, 11, 47, 22],\n",
                     " [15, 25, 41, 40, 11, 47, 22],\n",
                     " [15, 25, 40, 30, 11, 27, 48, 21, 5, 22],\n",
                     " [15, 25, 40, 11, 27, 48, 21, 5, 22],\n",
                     " [15, 25, 40, 11, 19, 35, 22],\n",
                     " [15, 25, 40, 11, 47, 22],\n",
                     " [15, 25, 40, 11, 19, 35, 21, 5, 22],\n",
                     " [15, 25, 40, 21, 5, 22],\n",
                     " [15, 25, 40, 30, 11, 47, 22],\n",
                     " [15, 25, 48, 21, 5, 22],\n",
                     " [15, 25, 48, 21, 40, 11, 47, 22],\n",
                     " [15, 25, 0, 21, 5, 22],\n",
                     " [15, 25, 0, 48, 21, 5, 22],\n",
                     " [15, 25, 0, 48, 19, 35, 21, 5, 22],\n",
                     " [15, 25, 0, 21, 40, 11, 47, 22],\n",
                     " [15, 25, 0, 48, 21, 40, 11, 47, 22],\n",
                     " [15, 35, 0, 21, 5, 22],\n",
                     " [15, 35, 0, 48, 21, 5, 22],\n",
                     " [15, 35, 0, 21, 40, 11, 47, 22],\n",
                     " [15, 35, 0, 48, 21, 40, 11, 47, 22],\n",
                     " [15, 35, 21, 40, 11, 47, 22],\n",
                     " [15, 25, 37, 22],\n",
                     " [15, 21, 5, 48, 19, 35, 22],\n",
                     " [15, 21, 5, 40, 30, 11, 47, 22],\n",
                     " [15, 21, 5, 40, 11, 47, 22],\n",
                     " [15, 0, 48, 21, 5, 22],\n",
                     " [15, 0, 48, 19, 35, 22],\n",
                     " [15, 0, 48, 19, 35, 21, 5, 22],\n",
                     " [15, 0, 48, 21, 40, 11, 47, 22],\n",
                     " [15, 25, 5, 48, 19, 35, 22],\n",
                     " [15, 25, 5, 48, 21, 40, 11, 47, 22],\n",
                     " [15, 44, 30, 11, 27, 48, 21, 5, 22],\n",
                     " [15, 44, 40, 21, 5, 22],\n",
                     " [15, 44, 30, 11, 47, 22],\n",
                     " [15, 44, 40, 11, 47, 22],\n",
                     " [15, 44, 32, 21, 5, 22],\n",
                     " [15, 44, 32, 48, 21, 5, 22],\n",
                     " [15, 44, 32, 48, 19, 35, 22],\n",
                     " [15, 44, 32, 48, 19, 35, 21, 5, 22],\n",
                     " [15, 44, 32, 21, 40, 11, 47, 22],\n",
                     " [15, 44, 32, 48, 21, 40, 11, 47, 22],\n",
                     " [15, 44, 40, 30, 11, 27, 48, 21, 5, 22],\n",
                     " [15, 44, 40, 11, 27, 48, 21, 5, 22],\n",
                     " [15, 44, 40, 11, 19, 35, 22],\n",
                     " [15, 44, 40, 11, 19, 35, 21, 5, 22],\n",
                     " [15, 44, 40, 30, 11, 47, 22],\n",
                     " [15, 25, 7, 40, 11, 6, 22],\n",
                     " [15, 40, 11, 6, 22],\n",
                     " [15, 7, 40, 11, 6, 22],\n",
                     " [15, 25, 31, 40, 11, 6, 22],\n",
                     " [15, 25, 44, 40, 11, 6, 22],\n",
                     " [15, 41, 40, 11, 6, 22],\n",
                     " [15, 25, 48, 38, 21, 40, 11, 6, 22],\n",
                     " [15, 45, 40, 11, 6, 22],\n",
                     " [15, 24, 40, 11, 6, 22],\n",
                     " [15, 25, 5, 40, 11, 6, 22],\n",
                     " [15, 0, 21, 40, 11, 6, 22],\n",
                     " [15, 4, 21, 40, 11, 6, 22],\n",
                     " [15, 21, 40, 11, 6, 22],\n",
                     " [15, 32, 21, 40, 11, 6, 22],\n",
                     " [15, 25, 5, 40, 30, 11, 6, 22],\n",
                     " [15, 7, 40, 30, 11, 6, 22],\n",
                     " [15, 41, 40, 30, 11, 6, 22],\n",
                     " [15, 27, 30, 11, 6, 22],\n",
                     " [15, 25, 44, 30, 11, 6, 22],\n",
                     " [15, 25, 12, 11, 6, 22],\n",
                     " [15, 32, 48, 21, 40, 11, 6, 22],\n",
                     " [15, 35, 10, 41, 40, 11, 6, 22],\n",
                     " [15, 35, 10, 41, 40, 30, 11, 6, 22],\n",
                     " [15, 25, 44, 32, 21, 40, 11, 6, 22],\n",
                     " [15, 25, 44, 32, 48, 21, 40, 11, 6, 22],\n",
                     " [15, 35, 21, 5, 40, 11, 6, 22],\n",
                     " [15, 35, 21, 5, 40, 30, 11, 6, 22],\n",
                     " [15, 25, 44, 40, 30, 11, 6, 22],\n",
                     " [15, 25, 38, 21, 40, 11, 6, 22],\n",
                     " [15, 25, 45, 40, 11, 6, 22],\n",
                     " [15, 25, 45, 21, 40, 11, 6, 22],\n",
                     " [15, 25, 41, 40, 11, 6, 22],\n",
                     " [15, 25, 41, 40, 30, 11, 6, 22],\n",
                     " [15, 25, 40, 11, 6, 22],\n",
                     " [15, 25, 40, 30, 11, 6, 22],\n",
                     " [15, 25, 48, 21, 40, 11, 6, 22],\n",
                     " [15, 25, 0, 21, 40, 11, 6, 22],\n",
                     " [15, 25, 0, 48, 21, 40, 11, 6, 22],\n",
                     " [15, 35, 0, 21, 40, 11, 6, 22],\n",
                     " [15, 35, 0, 48, 21, 40, 11, 6, 22],\n",
                     " [15, 35, 21, 40, 11, 6, 22],\n",
                     " [15, 21, 5, 40, 11, 6, 22],\n",
                     " [15, 21, 5, 40, 30, 11, 6, 22],\n",
                     " [15, 0, 48, 21, 40, 11, 6, 22],\n",
                     " [15, 25, 5, 48, 21, 40, 11, 6, 22],\n",
                     " [15, 44, 40, 11, 6, 22],\n",
                     " [15, 44, 30, 11, 6, 22],\n",
                     " [15, 44, 32, 21, 40, 11, 6, 22],\n",
                     " [15, 44, 32, 48, 21, 40, 11, 6, 22],\n",
                     " [15, 44, 40, 30, 11, 6, 22],\n",
                     " [15, 4, 11, 40, 21, 5, 22],\n",
                     " [15, 25, 11, 40, 21, 5, 22],\n",
                     " [26, 5, 48, 21, 40],\n",
                     " [26, 4, 21, 40],\n",
                     " [26, 5, 40],\n",
                     " [26, 0, 21, 40],\n",
                     " [26, 0, 48, 21, 40],\n",
                     " [26, 5, 48, 19, 35, 22, 36, 30, 11, 40],\n",
                     " [26, 5, 22, 36, 30, 11, 40],\n",
                     " [26, 19, 35, 22, 36, 30, 11, 40],\n",
                     " [26, 4, 11, 40],\n",
                     " [26, 0, 48, 19, 35, 22, 36, 30, 11, 40],\n",
                     " [48, 19, 35, 22, 0],\n",
                     " [48, 38, 47, 22, 0],\n",
                     " [48, 19, 35, 0],\n",
                     " [48, 21, 5],\n",
                     " [48, 38, 21, 5],\n",
                     " [48, 19, 35, 21, 5],\n",
                     " [48, 16],\n",
                     " [48, 19, 35, 22, 16],\n",
                     " [48, 38, 47, 22, 16],\n",
                     " [32, 25, 44],\n",
                     " [46, 41, 40, 30, 11, 27, 48, 16],\n",
                     " [46, 41, 40, 11, 27, 48, 16],\n",
                     " [46, 22, 16],\n",
                     " [46, 41, 40, 30, 11, 19],\n",
                     " [46, 41, 40, 11, 19],\n",
                     " [46, 41, 40, 30, 11, 27, 48, 19],\n",
                     " [46, 41, 40, 11, 27, 48, 19],\n",
                     " [46, 22, 19],\n",
                     " [25, 44],\n",
                     " [25, 11, 40, 10, 41],\n",
                     " [25, 4, 21, 5, 22],\n",
                     " [25, 14, 47, 22],\n",
                     " [25, 47, 22],\n",
                     " [25, 5, 22],\n",
                     " [25, 44, 30, 11, 27, 48, 21, 5, 22],\n",
                     " [25, 39, 22],\n",
                     " [25, 12, 47, 22],\n",
                     " [25, 12, 14, 47, 22],\n",
                     " [25, 12, 11, 27, 48, 21, 5, 22],\n",
                     " [25, 48, 38, 21, 5, 22],\n",
                     " [25, 7, 40, 21, 5, 22],\n",
                     " [25, 31, 40, 21, 5, 22],\n",
                     " [25, 44, 40, 21, 5, 22],\n",
                     " [25, 0, 48, 19, 35, 22],\n",
                     " [25, 48, 38, 47, 22],\n",
                     " [25, 5, 40, 30, 11, 47, 22],\n",
                     " [25, 44, 30, 11, 47, 22],\n",
                     " [25, 12, 11, 47, 22],\n",
                     " [25, 7, 40, 11, 47, 22],\n",
                     " [25, 31, 40, 11, 47, 22],\n",
                     " [25, 44, 40, 11, 47, 22],\n",
                     " [25, 48, 38, 21, 40, 11, 47, 22],\n",
                     " [25, 5, 40, 11, 47, 22],\n",
                     " [25, 44, 32, 21, 5, 22],\n",
                     " [25, 44, 32, 48, 21, 5, 22],\n",
                     " [25, 44, 32, 48, 19, 35, 22],\n",
                     " [25, 44, 32, 48, 19, 35, 21, 5, 22],\n",
                     " [25, 44, 32, 21, 40, 11, 47, 22],\n",
                     " [25, 44, 32, 48, 21, 40, 11, 47, 22],\n",
                     " [25, 48, 19, 35, 22],\n",
                     " [25, 48, 19, 35, 21, 5, 22],\n",
                     " [25, 44, 40, 30, 11, 27, 48, 21, 5, 22],\n",
                     " [25, 44, 40, 11, 27, 48, 21, 5, 22],\n",
                     " [25, 44, 40, 11, 19, 35, 22],\n",
                     " [25, 44, 40, 11, 19, 35, 21, 5, 22],\n",
                     " [25, 44, 40, 30, 11, 47, 22],\n",
                     " [25, 38, 21, 5, 22],\n",
                     " [25, 38, 47, 22],\n",
                     " [25, 38, 21, 40, 11, 47, 22],\n",
                     " [25, 45, 21, 5, 22],\n",
                     " [25, 45, 40, 21, 5, 22],\n",
                     " [25, 45, 40, 11, 47, 22],\n",
                     " [25, 45, 21, 40, 11, 47, 22],\n",
                     " [25, 11, 27, 48, 21, 5, 22],\n",
                     " [25, 11, 19, 35, 22],\n",
                     " [25, 11, 6, 22],\n",
                     " [25, 11, 47, 22],\n",
                     " [25, 11, 19, 35, 21, 5, 22],\n",
                     " [25, 11, 6, 40, 21, 5, 22],\n",
                     " [25, 41, 14, 47, 22],\n",
                     " [25, 41, 40, 30, 11, 27, 48, 21, 5, 22],\n",
                     " [25, 41, 40, 11, 27, 48, 21, 5, 22],\n",
                     " [25, 41, 40, 21, 5, 22],\n",
                     " [25, 41, 40, 30, 11, 47, 22],\n",
                     " [25, 41, 40, 11, 47, 22],\n",
                     " [25, 40, 30, 11, 27, 48, 21, 5, 22],\n",
                     " [25, 40, 11, 27, 48, 21, 5, 22],\n",
                     " [25, 40, 11, 19, 35, 22],\n",
                     " [25, 40, 11, 47, 22],\n",
                     " [25, 40, 11, 19, 35, 21, 5, 22],\n",
                     " [25, 40, 21, 5, 22],\n",
                     " [25, 40, 30, 11, 47, 22],\n",
                     " [25, 48, 21, 5, 22],\n",
                     " [25, 48, 21, 40, 11, 47, 22],\n",
                     " [25, 0, 21, 5, 22],\n",
                     " [25, 0, 48, 21, 5, 22],\n",
                     " [25, 0, 48, 19, 35, 21, 5, 22],\n",
                     " [25, 0, 21, 40, 11, 47, 22],\n",
                     " [25, 0, 48, 21, 40, 11, 47, 22],\n",
                     " [25, 37, 22],\n",
                     " [25, 5, 48, 19, 35, 22],\n",
                     " [25, 5, 48, 21, 40, 11, 47, 22],\n",
                     " [25, 7, 40, 11, 6, 22],\n",
                     " [25, 31, 40, 11, 6, 22],\n",
                     " [25, 44, 40, 11, 6, 22],\n",
                     " [25, 48, 38, 21, 40, 11, 6, 22],\n",
                     " [25, 5, 40, 11, 6, 22],\n",
                     " [25, 5, 40, 30, 11, 6, 22],\n",
                     " [25, 44, 30, 11, 6, 22],\n",
                     " [25, 12, 11, 6, 22],\n",
                     " [25, 44, 32, 21, 40, 11, 6, 22],\n",
                     " [25, 44, 32, 48, 21, 40, 11, 6, 22],\n",
                     " [25, 44, 40, 30, 11, 6, 22],\n",
                     " [25, 38, 21, 40, 11, 6, 22],\n",
                     " [25, 45, 40, 11, 6, 22],\n",
                     " [25, 45, 21, 40, 11, 6, 22],\n",
                     " [25, 41, 40, 11, 6, 22],\n",
                     " [25, 41, 40, 30, 11, 6, 22],\n",
                     " [25, 40, 11, 6, 22],\n",
                     " [25, 40, 30, 11, 6, 22],\n",
                     " [25, 48, 21, 40, 11, 6, 22],\n",
                     " [25, 0, 21, 40, 11, 6, 22],\n",
                     " [25, 0, 48, 21, 40, 11, 6, 22],\n",
                     " [25, 5, 48, 21, 40, 11, 6, 22],\n",
                     " [25, 11, 40, 21, 5, 22],\n",
                     " [25, 37],\n",
                     " [25, 39, 34],\n",
                     " [25, 34],\n",
                     " [25, 31, 40, 30, 11, 34],\n",
                     " [25, 44, 40, 30, 11, 34],\n",
                     " [25, 48, 38, 21, 40, 30, 11, 34],\n",
                     " [25, 47, 22, 36, 30, 11, 34],\n",
                     " [25, 5, 40, 30, 11, 34],\n",
                     " [25, 5, 22, 36, 30, 11, 34],\n",
                     " [25, 44, 30, 11, 34],\n",
                     " [25, 39, 22, 36, 30, 11, 34],\n",
                     " [25, 12, 11, 34],\n",
                     " [25, 7, 40, 30, 11, 34],\n",
                     " [25, 7, 40, 11, 34],\n",
                     " [25, 31, 40, 11, 34],\n",
                     " [25, 44, 40, 11, 34],\n",
                     " [25, 48, 38, 21, 40, 11, 34],\n",
                     " [25, 5, 40, 11, 34],\n",
                     " [25, 0, 48, 19, 35, 22, 36, 30, 11, 34],\n",
                     " [25, 48, 38, 47, 22, 36, 30, 11, 34],\n",
                     " [25, 12, 47, 22, 36, 30, 11, 34],\n",
                     " [25, 44, 32, 21, 40, 30, 11, 34],\n",
                     " [25, 44, 32, 21, 40, 11, 34],\n",
                     " [25, 44, 32, 48, 21, 40, 30, 11, 34],\n",
                     " [25, 44, 32, 48, 21, 40, 11, 34],\n",
                     " [25, 44, 32, 48, 19, 35, 22, 36, 30, 11, 34],\n",
                     " [25, 48, 19, 35, 22, 36, 30, 11, 34],\n",
                     " [25, 38, 21, 40, 30, 11, 34],\n",
                     " [25, 38, 21, 40, 11, 34],\n",
                     " [25, 38, 47, 22, 36, 30, 11, 34],\n",
                     " [25, 45, 40, 30, 11, 34],\n",
                     " [25, 45, 40, 11, 34],\n",
                     " [25, 45, 21, 40, 30, 11, 34],\n",
                     " [25, 45, 21, 40, 11, 34],\n",
                     " [25, 4, 11, 34],\n",
                     " [25, 11, 34],\n",
                     " [25, 41, 40, 30, 11, 34],\n",
                     " [25, 41, 40, 11, 34],\n",
                     " [25, 40, 30, 11, 34],\n",
                     " [25, 40, 11, 34],\n",
                     " [25, 48, 21, 40, 30, 11, 34],\n",
                     " [25, 48, 21, 40, 11, 34],\n",
                     " [25, 0, 21, 40, 30, 11, 34],\n",
                     " [25, 0, 21, 40, 11, 34],\n",
                     " [25, 0, 48, 21, 40, 30, 11, 34],\n",
                     " [25, 0, 48, 21, 40, 11, 34],\n",
                     " [25, 5, 48, 21, 40, 30, 11, 34],\n",
                     " [25, 5, 48, 21, 40, 11, 34],\n",
                     " [25, 5, 48, 19, 35, 22, 36, 30, 11, 34],\n",
                     " [25, 14, 47, 22, 36, 30, 11, 34],\n",
                     " [25, 12, 18, 34],\n",
                     " [35, 10, 41, 40, 30, 11, 19],\n",
                     " [35, 10, 41, 40, 11, 19],\n",
                     " [35, 10, 41, 40, 30, 11, 27, 48, 19],\n",
                     " [35, 10, 41, 40, 11, 27, 48, 19],\n",
                     " [35, 21, 5, 40, 30, 11, 19],\n",
                     " [35, 21, 5, 40, 11, 19],\n",
                     " [35, 21, 5, 48, 19],\n",
                     " [35, 21, 5, 40, 30, 11, 27, 48, 19],\n",
                     " [35, 21, 5, 40, 11, 27, 48, 19],\n",
                     " [35, 0, 48, 19],\n",
                     " [35, 22, 19],\n",
                     " [35, 21, 5, 22, 19],\n",
                     " [35, 21, 40],\n",
                     " [35, 10, 41, 40],\n",
                     " [35, 21, 5, 40],\n",
                     " [35, 0, 21, 40],\n",
                     " [35, 0, 48, 21, 40],\n",
                     " [35, 22, 36, 30, 11, 40],\n",
                     " [35, 21, 5, 22, 36, 30, 11, 40],\n",
                     " [38, 47],\n",
                     " [38, 21, 40, 11, 47],\n",
                     " [38, 25, 14, 47],\n",
                     " [38, 25, 47],\n",
                     " [38, 25, 5, 22, 47],\n",
                     " [38, 25, 39, 22, 47],\n",
                     " [38, 25, 12, 47],\n",
                     " [38, 25, 12, 14, 47],\n",
                     " [38, 25, 0, 48, 19, 35, 22, 47],\n",
                     " [38, 25, 5, 40, 30, 11, 47],\n",
                     " [38, 25, 44, 30, 11, 47],\n",
                     " [38, 25, 12, 11, 47],\n",
                     " [38, 25, 7, 40, 11, 47],\n",
                     " [38, 25, 31, 40, 11, 47],\n",
                     " [38, 25, 44, 40, 11, 47],\n",
                     " [38, 25, 5, 40, 11, 47],\n",
                     " [38, 25, 44, 32, 48, 19, 35, 22, 47],\n",
                     " [38, 25, 44, 32, 21, 40, 11, 47],\n",
                     " [38, 25, 44, 32, 48, 21, 40, 11, 47],\n",
                     " [38, 25, 48, 19, 35, 22, 47],\n",
                     " [38, 25, 44, 40, 11, 19, 35, 22, 47],\n",
                     " [38, 25, 44, 40, 30, 11, 47],\n",
                     " [38, 25, 45, 40, 11, 47],\n",
                     " [38, 25, 45, 21, 40, 11, 47],\n",
                     " [38, 25, 11, 19, 35, 22, 47],\n",
                     " [38, 25, 11, 6, 22, 47],\n",
                     " [38, 25, 11, 47],\n",
                     " [38, 25, 41, 14, 47],\n",
                     " [38, 25, 41, 40, 30, 11, 47],\n",
                     " [38, 25, 41, 40, 11, 47],\n",
                     " [38, 25, 40, 11, 19, 35, 22, 47],\n",
                     " [38, 25, 40, 11, 47],\n",
                     " [38, 25, 40, 30, 11, 47],\n",
                     " [38, 25, 48, 21, 40, 11, 47],\n",
                     " [38, 25, 0, 21, 40, 11, 47],\n",
                     " [38, 25, 0, 48, 21, 40, 11, 47],\n",
                     " [38, 25, 5, 48, 19, 35, 22, 47],\n",
                     " [38, 25, 5, 48, 21, 40, 11, 47],\n",
                     " [38, 25, 44, 40, 35, 22, 47],\n",
                     " [38, 25, 40, 35, 22, 47],\n",
                     " [38, 25, 39, 34],\n",
                     " [38, 25, 34],\n",
                     " [38, 21, 40, 30, 11, 34],\n",
                     " [38, 21, 40, 11, 34],\n",
                     " [38, 47, 22, 36, 30, 11, 34],\n",
                     " [38, 25, 31, 40, 30, 11, 34],\n",
                     " [38, 25, 44, 40, 30, 11, 34],\n",
                     " [38, 25, 47, 22, 36, 30, 11, 34],\n",
                     " [38, 25, 5, 40, 30, 11, 34],\n",
                     " [38, 25, 5, 22, 36, 30, 11, 34],\n",
                     " [38, 25, 44, 30, 11, 34],\n",
                     " [38, 25, 39, 22, 36, 30, 11, 34],\n",
                     " [38, 25, 12, 11, 34],\n",
                     " [38, 25, 7, 40, 30, 11, 34],\n",
                     " [38, 25, 7, 40, 11, 34],\n",
                     " [38, 25, 31, 40, 11, 34],\n",
                     " [38, 25, 44, 40, 11, 34],\n",
                     " [38, 25, 5, 40, 11, 34],\n",
                     " [38, 25, 0, 48, 19, 35, 22, 36, 30, 11, 34],\n",
                     " [38, 25, 12, 47, 22, 36, 30, 11, 34],\n",
                     " [38, 25, 44, 32, 21, 40, 30, 11, 34],\n",
                     " [38, 25, 44, 32, 21, 40, 11, 34],\n",
                     " [38, 25, 44, 32, 48, 21, 40, 30, 11, 34],\n",
                     " [38, 25, 44, 32, 48, 21, 40, 11, 34],\n",
                     " [38, 25, 44, 32, 48, 19, 35, 22, 36, 30, 11, 34],\n",
                     " [38, 25, 48, 19, 35, 22, 36, 30, 11, 34],\n",
                     " [38, 25, 45, 40, 30, 11, 34],\n",
                     " [38, 25, 45, 40, 11, 34],\n",
                     " [38, 25, 45, 21, 40, 30, 11, 34],\n",
                     " [38, 25, 45, 21, 40, 11, 34],\n",
                     " [38, 25, 4, 11, 34],\n",
                     " [38, 25, 11, 34],\n",
                     " [38, 25, 41, 40, 30, 11, 34],\n",
                     " [38, 25, 41, 40, 11, 34],\n",
                     " [38, 25, 40, 30, 11, 34],\n",
                     " [38, 25, 40, 11, 34],\n",
                     " [38, 25, 48, 21, 40, 30, 11, 34],\n",
                     " [38, 25, 48, 21, 40, 11, 34],\n",
                     " [38, 25, 0, 21, 40, 30, 11, 34],\n",
                     " [38, 25, 0, 21, 40, 11, 34],\n",
                     " [38, 25, 0, 48, 21, 40, 30, 11, 34],\n",
                     " [38, 25, 0, 48, 21, 40, 11, 34],\n",
                     " [38, 25, 5, 48, 21, 40, 30, 11, 34],\n",
                     " [38, 25, 5, 48, 21, 40, 11, 34],\n",
                     " [38, 25, 5, 48, 19, 35, 22, 36, 30, 11, 34],\n",
                     " [38, 25, 14, 47, 22, 36, 30, 11, 34],\n",
                     " [38, 25, 12, 18, 34],\n",
                     " [38, 47, 22, 36],\n",
                     " [38, 25, 47, 22, 36],\n",
                     " [38, 25, 5, 22, 36],\n",
                     " [38, 25, 39, 22, 36],\n",
                     " [38, 25, 0, 48, 19, 35, 22, 36],\n",
                     " [38, 25, 12, 47, 22, 36],\n",
                     " [38, 25, 44, 32, 48, 19, 35, 22, 36],\n",
                     " [38, 25, 48, 19, 35, 22, 36],\n",
                     " [38, 25, 44, 40, 11, 19, 35, 22, 36],\n",
                     " [38, 25, 11, 19, 35, 22, 36],\n",
                     " [38, 25, 11, 6, 22, 36],\n",
                     " [38, 25, 11, 47, 22, 36],\n",
                     " [38, 25, 40, 11, 19, 35, 22, 36],\n",
                     " [38, 25, 5, 48, 19, 35, 22, 36],\n",
                     " [38, 25, 14, 47, 22, 36],\n",
                     " [38, 25, 44, 40, 35, 22, 36],\n",
                     " [38, 25, 40, 35, 22, 36],\n",
                     " [1, 35, 22, 36],\n",
                     " [1, 45, 40],\n",
                     " [1, 45, 21, 40],\n",
                     " [1, 30, 11, 40],\n",
                     " [1, 35, 22, 36, 30, 11, 40],\n",
                     " [15, 25, 12],\n",
                     " [15, 40, 30],\n",
                     " [15, 25, 31, 40, 30],\n",
                     " [15, 25, 44, 40, 30],\n",
                     " [15, 41, 40, 30],\n",
                     " [15, 35, 22, 36, 30],\n",
                     " [15, 25, 48, 38, 21, 40, 30],\n",
                     " [15, 45, 40, 30],\n",
                     " [15, 24, 40, 30],\n",
                     " [15, 25, 47, 22, 36, 30],\n",
                     " [15, 4, 11, 6, 40, 30],\n",
                     " [15, 25, 5, 40, 30],\n",
                     " [15, 7, 40, 30],\n",
                     " [15, 25, 5, 22, 36, 30],\n",
                     " [15, 4, 11, 6, 22, 36, 30],\n",
                     " [15, 0, 21, 40, 30],\n",
                     " [15, 4, 21, 40, 30],\n",
                     " [15, 27, 30],\n",
                     " [15, 25, 44, 30],\n",
                     " [15, 25, 39, 22, 36, 30],\n",
                     " [15, 25, 12, 11, 27, 30],\n",
                     " [15, 25, 7, 40, 30],\n",
                     " [15, 21, 40, 30],\n",
                     " [15, 32, 21, 40, 30],\n",
                     " [15, 32, 48, 21, 40, 30],\n",
                     " [15, 32, 48, 19, 35, 22, 36, 30],\n",
                     " [15, 25, 0, 48, 19, 35, 22, 36, 30],\n",
                     " [15, 35, 10, 41, 40, 30],\n",
                     " [15, 25, 48, 38, 47, 22, 36, 30],\n",
                     " [15, 4, 11, 47, 22, 36, 30],\n",
                     " [15, 25, 12, 47, 22, 36, 30],\n",
                     " [15, 14, 47, 22, 36, 30],\n",
                     " [15, 25, 44, 32, 21, 40, 30],\n",
                     " [15, 25, 44, 32, 48, 21, 40, 30],\n",
                     " [15, 25, 44, 32, 48, 19, 35, 22, 36, 30],\n",
                     " [15, 35, 21, 5, 40, 30],\n",
                     " [15, 35, 21, 5, 22, 36, 30],\n",
                     " [15, 25, 48, 19, 35, 22, 36, 30],\n",
                     " [15, 25, 44, 40, 11, 19, 35, 22, 36, 30],\n",
                     " [15, 25, 44, 40, 11, 27, 30],\n",
                     " [15, 25, 38, 21, 40, 30],\n",
                     " [15, 25, 38, 47, 22, 36, 30],\n",
                     " [15, 25, 45, 40, 30],\n",
                     " [15, 25, 45, 21, 40, 30],\n",
                     " [15, 4, 11, 19, 35, 22, 36, 30],\n",
                     " [15, 4, 11, 27, 30],\n",
                     " [15, 25, 11, 19, 35, 22, 36, 30],\n",
                     " [15, 25, 11, 6, 40, 30],\n",
                     " [15, 25, 11, 6, 22, 36, 30],\n",
                     " [15, 25, 11, 27, 30],\n",
                     " [15, 25, 11, 47, 22, 36, 30],\n",
                     " [15, 25, 41, 40, 30],\n",
                     " [15, 25, 40, 30],\n",
                     " [15, 25, 40, 11, 19, 35, 22, 36, 30],\n",
                     " [15, 25, 40, 11, 27, 30],\n",
                     " [15, 25, 48, 21, 40, 30],\n",
                     " [15, 25, 0, 21, 40, 30],\n",
                     " [15, 25, 0, 48, 21, 40, 30],\n",
                     " [15, 35, 0, 21, 40, 30],\n",
                     " [15, 35, 0, 48, 21, 40, 30],\n",
                     " [15, 35, 21, 40, 30],\n",
                     " [15, 25, 5, 40, 11, 27, 30],\n",
                     " [15, 7, 40, 11, 27, 30],\n",
                     " [15, 41, 40, 11, 27, 30],\n",
                     " [15, 35, 10, 41, 40, 11, 27, 30],\n",
                     " [15, 35, 21, 5, 40, 11, 27, 30],\n",
                     " [15, 25, 41, 40, 11, 27, 30],\n",
                     " [15, 21, 5, 40, 30],\n",
                     " [15, 21, 5, 22, 36, 30],\n",
                     " [15, 21, 5, 48, 19, 35, 22, 36, 30],\n",
                     " [15, 21, 5, 40, 11, 27, 30],\n",
                     " [15, 0, 48, 21, 40, 30],\n",
                     " [15, 0, 48, 19, 35, 22, 36, 30],\n",
                     " [15, 25, 5, 48, 21, 40, 30],\n",
                     " [15, 25, 5, 48, 19, 35, 22, 36, 30],\n",
                     " [15, 25, 14, 47, 22, 36, 30],\n",
                     " [15, 44, 40, 30],\n",
                     " [15, 44, 30],\n",
                     " [15, 44, 32, 21, 40, 30],\n",
                     " [15, 44, 32, 48, 21, 40, 30],\n",
                     " [15, 44, 32, 48, 19, 35, 22, 36, 30],\n",
                     " [15, 44, 40, 11, 19, 35, 22, 36, 30],\n",
                     " [15, 44, 40, 11, 27, 30],\n",
                     " [15, 4, 11, 40, 30],\n",
                     " [15, 25, 11, 40, 30],\n",
                     " [15, 25, 44, 40, 35, 22, 36, 30],\n",
                     " [15, 25, 40, 35, 22, 36, 30],\n",
                     " [15, 44, 40, 35, 22, 36, 30],\n",
                     " [15, 40, 30, 11],\n",
                     " [15, 25, 31, 40, 30, 11],\n",
                     " [15, 25, 44, 40, 30, 11],\n",
                     " [15, 41, 40, 30, 11],\n",
                     " [15, 35, 22, 36, 30, 11],\n",
                     " [15, 25, 48, 38, 21, 40, 30, 11],\n",
                     " [15, 45, 40, 30, 11],\n",
                     " [15, 24, 40, 30, 11],\n",
                     " [15, 25, 47, 22, 36, 30, 11],\n",
                     " [15, 4, 11],\n",
                     " [15, 25, 5, 40, 30, 11],\n",
                     " [15, 7, 40, 30, 11],\n",
                     " [15, 25, 5, 22, 36, 30, 11],\n",
                     " [15, 0, 21, 40, 30, 11],\n",
                     " [15, 4, 21, 40, 30, 11],\n",
                     " [15, 27, 30, 11],\n",
                     " [15, 25, 44, 30, 11],\n",
                     " [15, 25, 39, 22, 36, 30, 11],\n",
                     " [15, 25, 12, 11],\n",
                     " [15, 25, 7, 40, 30, 11],\n",
                     " [15, 25, 7, 40, 11],\n",
                     " [15, 40, 11],\n",
                     " [15, 7, 40, 11],\n",
                     " [15, 25, 31, 40, 11],\n",
                     " [15, 25, 44, 40, 11],\n",
                     " [15, 41, 40, 11],\n",
                     " [15, 25, 48, 38, 21, 40, 11],\n",
                     " [15, 45, 40, 11],\n",
                     " [15, 24, 40, 11],\n",
                     " [15, 25, 5, 40, 11],\n",
                     " [15, 0, 21, 40, 11],\n",
                     " [15, 4, 21, 40, 11],\n",
                     " [15, 21, 40, 30, 11],\n",
                     " [15, 21, 40, 11],\n",
                     " [15, 32, 21, 40, 30, 11],\n",
                     " [15, 32, 21, 40, 11],\n",
                     " [15, 32, 48, 21, 40, 30, 11],\n",
                     " [15, 32, 48, 21, 40, 11],\n",
                     " [15, 32, 48, 19, 35, 22, 36, 30, 11],\n",
                     " [15, 25, 0, 48, 19, 35, 22, 36, 30, 11],\n",
                     " [15, 35, 10, 41, 40, 30, 11],\n",
                     " [15, 35, 10, 41, 40, 11],\n",
                     " [15, 25, 48, 38, 47, 22, 36, 30, 11],\n",
                     " [15, 25, 12, 47, 22, 36, 30, 11],\n",
                     " [15, 14, 47, 22, 36, 30, 11],\n",
                     " [15, 25, 44, 32, 21, 40, 30, 11],\n",
                     " [15, 25, 44, 32, 21, 40, 11],\n",
                     " [15, 25, 44, 32, 48, 21, 40, 30, 11],\n",
                     " [15, 25, 44, 32, 48, 21, 40, 11],\n",
                     " [15, 25, 44, 32, 48, 19, 35, 22, 36, 30, 11],\n",
                     " [15, 35, 21, 5, 40, 30, 11],\n",
                     " [15, 35, 21, 5, 22, 36, 30, 11],\n",
                     " [15, 35, 21, 5, 40, 11],\n",
                     " [15, 25, 48, 19, 35, 22, 36, 30, 11],\n",
                     " [15, 25, 38, 21, 40, 30, 11],\n",
                     " [15, 25, 38, 21, 40, 11],\n",
                     " [15, 25, 38, 47, 22, 36, 30, 11],\n",
                     " [15, 25, 45, 40, 30, 11],\n",
                     " [15, 25, 45, 40, 11],\n",
                     " [15, 25, 45, 21, 40, 30, 11],\n",
                     " [15, 25, 45, 21, 40, 11],\n",
                     " [15, 25, 4, 11],\n",
                     " [15, 25, 11],\n",
                     " [15, 25, 41, 40, 30, 11],\n",
                     " [15, 25, 41, 40, 11],\n",
                     " [15, 25, 40, 30, 11],\n",
                     " [15, 25, 40, 11],\n",
                     " [15, 25, 48, 21, 40, 30, 11],\n",
                     " [15, 25, 48, 21, 40, 11],\n",
                     " [15, 25, 0, 21, 40, 30, 11],\n",
                     " [15, 25, 0, 21, 40, 11],\n",
                     " [15, 25, 0, 48, 21, 40, 30, 11],\n",
                     " [15, 25, 0, 48, 21, 40, 11],\n",
                     " [15, 35, 0, 21, 40, 30, 11],\n",
                     " [15, 35, 0, 21, 40, 11],\n",
                     " [15, 35, 0, 48, 21, 40, 30, 11],\n",
                     " [15, 35, 0, 48, 21, 40, 11],\n",
                     " [15, 35, 21, 40, 30, 11],\n",
                     " [15, 35, 21, 40, 11],\n",
                     " [15, 21, 5, 40, 30, 11],\n",
                     " [15, 21, 5, 22, 36, 30, 11],\n",
                     " [15, 21, 5, 40, 11],\n",
                     " [15, 21, 5, 48, 19, 35, 22, 36, 30, 11],\n",
                     " [15, 0, 48, 21, 40, 30, 11],\n",
                     " [15, 0, 48, 21, 40, 11],\n",
                     " [15, 0, 48, 19, 35, 22, 36, 30, 11],\n",
                     " [15, 25, 5, 48, 21, 40, 30, 11],\n",
                     " [15, 25, 5, 48, 21, 40, 11],\n",
                     " [15, 25, 5, 48, 19, 35, 22, 36, 30, 11],\n",
                     " [15, 25, 14, 47, 22, 36, 30, 11],\n",
                     " [15, 44, 40, 30, 11],\n",
                     " [15, 44, 30, 11],\n",
                     " [15, 44, 40, 11],\n",
                     " [15, 44, 32, 21, 40, 30, 11],\n",
                     " [15, 44, 32, 21, 40, 11],\n",
                     " [15, 44, 32, 48, 21, 40, 30, 11],\n",
                     " [15, 44, 32, 48, 21, 40, 11],\n",
                     " [15, 44, 32, 48, 19, 35, 22, 36, 30, 11],\n",
                     " [15, 14],\n",
                     " [15, 25, 14],\n",
                     " [15, 41, 14],\n",
                     " [15, 25, 12, 14],\n",
                     " [15, 35, 10, 41, 14],\n",
                     " [15, 25, 41, 14],\n",
                     " [15, 40, 30, 11, 10, 33],\n",
                     " [15, 25, 31, 40, 30, 11, 10, 33],\n",
                     " [15, 25, 44, 40, 30, 11, 10, 33],\n",
                     " [15, 41, 40, 30, 11, 10, 33],\n",
                     " [15, 35, 22, 36, 30, 11, 10, 33],\n",
                     " [15, 25, 48, 38, 21, 40, 30, 11, 10, 33],\n",
                     " [15, 45, 40, 30, 11, 10, 33],\n",
                     " [15, 24, 40, 30, 11, 10, 33],\n",
                     " [15, 41, 40, 10, 33],\n",
                     " [15, 25, 47, 22, 36, 30, 11, 10, 33],\n",
                     " [15, 25, 5, 40, 30, 11, 10, 33],\n",
                     " [15, 25, 5, 40, 30, 11, 27, 48, 21, 33],\n",
                     " [15, 7, 40, 30, 11, 10, 33],\n",
                     " [15, 25, 5, 22, 36, 30, 11, 10, 33],\n",
                     " [15, 0, 21, 40, 30, 11, 10, 33],\n",
                     " [15, 4, 21, 40, 30, 11, 10, 33],\n",
                     " [15, 27, 30, 11, 10, 33],\n",
                     " [15, 25, 44, 30, 11, 10, 33],\n",
                     " [15, 25, 39, 22, 36, 30, 11, 10, 33],\n",
                     " [15, 25, 7, 40, 30, 11, 10, 33],\n",
                     " [15, 25, 5, 40, 11, 27, 48, 21, 33],\n",
                     " [15, 41, 40, 11, 10, 33],\n",
                     " [15, 21, 40, 30, 11, 10, 33],\n",
                     " [15, 32, 21, 40, 30, 11, 10, 33],\n",
                     " [15, 25, 5, 40, 21, 33],\n",
                     " [15, 25, 5, 48, 21, 33],\n",
                     " [15, 32, 48, 21, 40, 30, 11, 10, 33],\n",
                     " [15, 32, 48, 19, 35, 22, 36, 30, 11, 10, 33],\n",
                     " [15, 25, 0, 48, 19, 35, 22, 36, 30, 11, 10, 33],\n",
                     " [15, 25, 48, 38, 47, 22, 36, 30, 11, 10, 33],\n",
                     " [15, 25, 12, 47, 22, 36, 30, 11, 10, 33],\n",
                     " [15, 14, 47, 22, 36, 30, 11, 10, 33],\n",
                     " [15, 25, 44, 32, 21, 40, 30, 11, 10, 33],\n",
                     " [15, 25, 44, 32, 48, 21, 40, 30, 11, 10, 33],\n",
                     " [15, 25, 44, 32, 48, 19, 35, 22, 36, 30, 11, 10, 33],\n",
                     " [15, 35, 21, 5, 40, 30, 11, 10, 33],\n",
                     " [15, 35, 21, 5, 22, 36, 30, 11, 10, 33],\n",
                     " [15, 25, 48, 19, 35, 22, 36, 30, 11, 10, 33],\n",
                     " [15, 25, 7, 40, 10, 33],\n",
                     " [15, 7, 40, 10, 33],\n",
                     " [15, 25, 48, 38, 21, 10, 33],\n",
                     " [15, 40, 10, 33],\n",
                     " [15, 25, 31, 40, 10, 33],\n",
                     " [15, 25, 44, 40, 10, 33],\n",
                     " [15, 25, 48, 38, 21, 40, 10, 33],\n",
                     " [15, 45, 40, 10, 33],\n",
                     " [15, 24, 40, 10, 33],\n",
                     " [15, 25, 5, 40, 10, 33],\n",
                     " [15, 0, 21, 10, 33],\n",
                     " [15, 0, 21, 40, 10, 33],\n",
                     " [15, 4, 21, 10, 33],\n",
                     " [15, 4, 21, 40, 10, 33],\n",
                     " [15, 25, 12, 11, 10, 33],\n",
                     " [15, 25, 5, 40, 11, 10, 33],\n",
                     " [15, 7, 40, 11, 10, 33],\n",
                     " [15, 21, 10, 33],\n",
                     " [15, 21, 40, 10, 33],\n",
                     " [15, 32, 21, 10, 33],\n",
                     " [15, 32, 21, 40, 10, 33],\n",
                     " [15, 32, 48, 21, 10, 33],\n",
                     " [15, 32, 48, 21, 40, 10, 33],\n",
                     " [15, 35, 10, 33],\n",
                     " [15, 25, 44, 32, 21, 10, 33],\n",
                     " [15, 25, 44, 32, 21, 40, 10, 33],\n",
                     " [15, 25, 44, 32, 48, 21, 10, 33],\n",
                     " [15, 25, 44, 32, 48, 21, 40, 10, 33],\n",
                     " [15, 35, 21, 5, 40, 10, 33],\n",
                     " [15, 35, 21, 5, 40, 11, 10, 33],\n",
                     " [15, 24, 33],\n",
                     " [15, 25, 44, 40, 30, 11, 27, 48, 21, 33],\n",
                     " [15, 25, 44, 40, 11, 27, 48, 21, 33],\n",
                     " [15, 25, 44, 40, 11, 10, 33],\n",
                     " [15, 25, 44, 40, 21, 33],\n",
                     " [15, 25, 44, 40, 21, 10, 33],\n",
                     " [15, 25, 38, 21, 40, 30, 11, 10, 33],\n",
                     " [15, 25, 38, 47, 22, 36, 30, 11, 10, 33],\n",
                     " [15, 25, 38, 21, 10, 33],\n",
                     " [15, 25, 38, 21, 40, 10, 33],\n",
                     " [15, 25, 45, 40, 30, 11, 10, 33],\n",
                     " [15, 25, 45, 21, 40, 30, 11, 10, 33],\n",
                     " [15, 25, 45, 40, 10, 33],\n",
                     " [15, 25, 45, 21, 10, 33],\n",
                     " [15, 25, 45, 21, 40, 10, 33],\n",
                     " [15, 4, 11, 10, 33],\n",
                     " [15, 25, 4, 11, 10, 33],\n",
                     " [15, 4, 11, 27, 48, 21, 33],\n",
                     " [15, 4, 11, 6, 40, 10, 33],\n",
                     " [15, 25, 11, 10, 33],\n",
                     " [15, 25, 11, 27, 48, 21, 33],\n",
                     " [15, 25, 11, 6, 40, 10, 33],\n",
                     " [15, 25, 41, 40, 30, 11, 10, 33],\n",
                     " [15, 25, 41, 40, 10, 33],\n",
                     " [15, 25, 41, 40, 11, 10, 33],\n",
                     " [15, 35, 22, 24, 33],\n",
                     " [15, 25, 47, 22, 24, 33],\n",
                     " [15, 25, 5, 22, 24, 33],\n",
                     " [15, 4, 11, 6, 22, 24, 33],\n",
                     " [15, 25, 39, 22, 24, 33],\n",
                     " [15, 32, 48, 19, 35, 22, 24, 33],\n",
                     " [15, 25, 0, 48, 19, 35, 22, 24, 33],\n",
                     " [15, 25, 48, 38, 47, 22, 24, 33],\n",
                     " [15, 4, 11, 47, 22, 24, 33],\n",
                     " [15, 25, 12, 47, 22, 24, 33],\n",
                     " [15, 14, 47, 22, 24, 33],\n",
                     " [15, 25, 44, 32, 48, 19, 35, 22, 24, 33],\n",
                     " [15, 35, 21, 5, 22, 24, 33],\n",
                     " [15, 25, 48, 19, 35, 22, 24, 33],\n",
                     " [15, 25, 44, 40, 11, 19, 35, 22, 24, 33],\n",
                     " [15, 25, 38, 47, 22, 24, 33],\n",
                     " [15, 4, 11, 19, 35, 22, 24, 33],\n",
                     " [15, 25, 11, 19, 35, 22, 24, 33],\n",
                     " [15, 25, 11, 6, 22, 24, 33],\n",
                     " [15, 25, 11, 47, 22, 24, 33],\n",
                     " [15, 25, 40, 30, 11, 10, 33],\n",
                     " [15, 25, 40, 10, 33],\n",
                     " [15, 25, 40, 30, 11, 27, 48, 21, 33],\n",
                     " [15, 25, 40, 11, 27, 48, 21, 33],\n",
                     " [15, 25, 40, 11, 10, 33],\n",
                     " [15, 25, 40, 21, 33],\n",
                     " [15, 25, 40, 21, 10, 33],\n",
                     " [15, 25, 40, 11, 19, 35, 22, 24, 33],\n",
                     " [15, 25, 48, 21, 33],\n",
                     " [15, 25, 48, 21, 40, 30, 11, 10, 33],\n",
                     " [15, 25, 48, 19, 35, 21, 33],\n",
                     " [15, 25, 48, 21, 10, 33],\n",
                     " [15, 25, 48, 21, 40, 10, 33],\n",
                     " [15, 25, 0, 21, 40, 30, 11, 10, 33],\n",
                     " [15, 25, 0, 48, 21, 40, 30, 11, 10, 33],\n",
                     " [15, 25, 0, 21, 10, 33],\n",
                     " [15, 25, 0, 21, 40, 10, 33],\n",
                     " [15, 25, 0, 48, 21, 10, 33],\n",
                     " [15, 25, 0, 48, 21, 40, 10, 33],\n",
                     " [15, 35, 0, 21, 40, 30, 11, 10, 33],\n",
                     " [15, 35, 0, 48, 21, 40, 30, 11, 10, 33],\n",
                     " [15, 35, 0, 21, 10, 33],\n",
                     " [15, 35, 0, 21, 40, 10, 33],\n",
                     " [15, 35, 0, 48, 21, 10, 33],\n",
                     " [15, 35, 0, 48, 21, 40, 10, 33],\n",
                     " [15, 32, 48, 19, 35, 10, 33],\n",
                     " [15, 25, 0, 48, 19, 35, 10, 33],\n",
                     " [15, 25, 44, 32, 48, 19, 35, 10, 33],\n",
                     " [15, 25, 48, 19, 35, 10, 33],\n",
                     " [15, 25, 44, 40, 11, 19, 35, 10, 33],\n",
                     " [15, 4, 11, 19, 35, 10, 33],\n",
                     " [15, 25, 11, 19, 35, 10, 33],\n",
                     " [15, 25, 40, 11, 19, 35, 10, 33],\n",
                     " [15, 35, 21, 33],\n",
                     " [15, 35, 21, 40, 30, 11, 10, 33],\n",
                     " [15, 32, 48, 19, 35, 21, 33],\n",
                     " [15, 25, 0, 48, 19, 35, 21, 33],\n",
                     " [15, 25, 44, 32, 48, 19, 35, 21, 33],\n",
                     " [15, 35, 21, 10, 33],\n",
                     " [15, 35, 21, 40, 10, 33],\n",
                     " [15, 25, 44, 40, 11, 19, 35, 21, 33],\n",
                     " [15, 4, 11, 19, 35, 21, 33],\n",
                     " [15, 25, 11, 19, 35, 21, 33],\n",
                     " [15, 25, 40, 11, 19, 35, 21, 33],\n",
                     " [15, 21, 33],\n",
                     " [15, 21, 5, 40, 30, 11, 10, 33],\n",
                     " [15, 21, 5, 22, 36, 30, 11, 10, 33],\n",
                     " [15, 21, 5, 48, 19, 35, 22, 36, 30, 11, 10, 33],\n",
                     " [15, 21, 5, 40, 10, 33],\n",
                     " [15, 21, 5, 40, 11, 10, 33],\n",
                     " ...]"
                  ]
               },
               "execution_count": 8,
               "metadata": {},
               "output_type": "execute_result"
            }
         ],
         "source": [
            "Network.loops_rev_repo"
         ]
      },
      {
         "cell_type": "code",
         "execution_count": 5,
         "metadata": {},
         "outputs": [
            {
               "data": {
                  "text/plain": [
                     "[[22, 24],\n",
                     " [47, 22],\n",
                     " [30, 11, 27],\n",
                     " [21, 40],\n",
                     " [6, 40, 11],\n",
                     " [41, 40, 10],\n",
                     " [41, 40, 30, 11, 10],\n",
                     " [41, 40, 11, 10],\n",
                     " [5, 40, 30, 11, 27, 48, 21],\n",
                     " [5, 40, 11, 27, 48, 21],\n",
                     " [5, 40, 21],\n",
                     " [5, 48, 21],\n",
                     " [5, 48, 19, 35, 21],\n",
                     " [33, 10],\n",
                     " [11, 19, 35, 22, 36, 30],\n",
                     " [11, 6, 40, 30],\n",
                     " [11, 6, 22, 36, 30],\n",
                     " [11, 27, 30],\n",
                     " [11, 47, 22, 36, 30],\n",
                     " [0, 48, 19, 35, 22],\n",
                     " [0, 48, 19, 35],\n",
                     " [21, 5, 48, 19, 35],\n",
                     " [10, 33],\n",
                     " [16, 27, 48],\n",
                     " [19, 35, 22],\n",
                     " [22, 36, 30, 11, 6],\n",
                     " [22, 0, 48, 21, 40, 11, 6],\n",
                     " [22, 24, 40, 11, 6],\n",
                     " [22, 0, 21, 40, 11, 6],\n",
                     " [22, 16, 27, 30, 11, 6],\n",
                     " [22, 36, 30, 11, 27, 48, 21, 5],\n",
                     " [22, 0, 48, 21, 5],\n",
                     " [22, 0, 48, 19, 35, 21, 5],\n",
                     " [22, 16, 27, 48, 21, 5],\n",
                     " [22, 24, 40, 21, 5],\n",
                     " [22, 0, 21, 5],\n",
                     " [22, 19, 35, 21, 5],\n",
                     " [22, 47],\n",
                     " [22, 36, 30, 11, 47],\n",
                     " [22, 0, 48, 21, 40, 11, 47],\n",
                     " [22, 24, 40, 11, 47],\n",
                     " [22, 0, 21, 40, 11, 47],\n",
                     " [22, 16, 27, 30, 11, 47],\n",
                     " [48, 16, 27],\n",
                     " [10, 41, 40, 30, 11],\n",
                     " [10, 41, 40, 11],\n",
                     " [25, 48, 38],\n",
                     " [25, 5, 48, 38],\n",
                     " [25, 5, 40, 30, 11, 27, 48, 38],\n",
                     " [25, 44, 30, 11, 27, 48, 38],\n",
                     " [25, 12, 11, 27, 48, 38],\n",
                     " [25, 5, 40, 11, 27, 48, 38],\n",
                     " [25, 44, 32, 48, 38],\n",
                     " [25, 44, 40, 30, 11, 27, 48, 38],\n",
                     " [25, 44, 40, 11, 27, 48, 38],\n",
                     " [25, 38],\n",
                     " [25, 11, 27, 48, 38],\n",
                     " [25, 41, 40, 30, 11, 27, 48, 38],\n",
                     " [25, 41, 40, 11, 27, 48, 38],\n",
                     " [25, 40, 30, 11, 27, 48, 38],\n",
                     " [25, 40, 11, 27, 48, 38],\n",
                     " [25, 0, 48, 38],\n",
                     " [25, 8],\n",
                     " [25, 7, 40, 10, 41],\n",
                     " [25, 48, 38, 21, 10, 41],\n",
                     " [25, 31, 40, 10, 41],\n",
                     " [25, 44, 40, 10, 41],\n",
                     " [25, 48, 38, 21, 40, 10, 41],\n",
                     " [25, 5, 40, 10, 41],\n",
                     " [25, 5, 40, 30, 11, 10, 41],\n",
                     " [25, 44, 30, 11, 10, 41],\n",
                     " [25, 12, 11, 10, 41],\n",
                     " [25, 5, 40, 11, 10, 41],\n",
                     " [25, 44, 32, 21, 10, 41],\n",
                     " [25, 44, 32, 21, 40, 10, 41],\n",
                     " [25, 44, 32, 48, 21, 10, 41],\n",
                     " [25, 44, 32, 48, 21, 40, 10, 41],\n",
                     " [25, 44, 40, 11, 10, 41],\n",
                     " [25, 44, 40, 30, 11, 10, 41],\n",
                     " [25, 44, 40, 21, 10, 41],\n",
                     " [25, 38, 21, 10, 41],\n",
                     " [25, 38, 21, 40, 10, 41],\n",
                     " [25, 45, 40, 10, 41],\n",
                     " [25, 45, 21, 10, 41],\n",
                     " [25, 45, 21, 40, 10, 41],\n",
                     " [25, 11, 10, 41],\n",
                     " [25, 11, 6, 40, 10, 41],\n",
                     " [25, 41],\n",
                     " [25, 40, 10, 41],\n",
                     " [25, 40, 11, 10, 41],\n",
                     " [25, 40, 30, 11, 10, 41],\n",
                     " [25, 40, 21, 10, 41],\n",
                     " [25, 48, 21, 10, 41],\n",
                     " [25, 48, 21, 40, 10, 41],\n",
                     " [25, 0, 21, 10, 41],\n",
                     " [25, 0, 21, 40, 10, 41],\n",
                     " [25, 0, 48, 21, 10, 41],\n",
                     " [25, 0, 48, 21, 40, 10, 41],\n",
                     " [25, 5, 48, 21, 10, 41],\n",
                     " [25, 5, 48, 21, 40, 10, 41],\n",
                     " [25, 44, 32],\n",
                     " [25, 31],\n",
                     " [40, 30, 11],\n",
                     " [40, 11],\n",
                     " [8, 25, 5, 40, 30, 11, 27],\n",
                     " [8, 25, 44, 30, 11, 27],\n",
                     " [8, 25, 12, 11, 27],\n",
                     " [8, 25, 5, 40, 11, 27],\n",
                     " [8, 25, 44, 40, 30, 11, 27],\n",
                     " [8, 25, 44, 40, 11, 27],\n",
                     " [8, 25, 11, 27],\n",
                     " [8, 25, 41, 40, 30, 11, 27],\n",
                     " [8, 25, 41, 40, 11, 27],\n",
                     " [8, 25, 40, 30, 11, 27],\n",
                     " [8, 25, 40, 11, 27],\n",
                     " [8, 25, 0],\n",
                     " [8, 25, 47, 22, 0],\n",
                     " [8, 25, 5, 22, 0],\n",
                     " [8, 25, 39, 22, 0],\n",
                     " [8, 25, 48, 38, 47, 22, 0],\n",
                     " [8, 25, 12, 47, 22, 0],\n",
                     " [8, 25, 44, 32, 48, 19, 35, 22, 0],\n",
                     " [8, 25, 48, 19, 35, 22, 0],\n",
                     " [8, 25, 44, 40, 11, 19, 35, 22, 0],\n",
                     " [8, 25, 38, 47, 22, 0],\n",
                     " [8, 25, 11, 19, 35, 22, 0],\n",
                     " [8, 25, 11, 6, 22, 0],\n",
                     " [8, 25, 11, 47, 22, 0],\n",
                     " [8, 25, 40, 11, 19, 35, 22, 0],\n",
                     " [8, 25, 44, 32, 48, 19, 35, 0],\n",
                     " [8, 25, 48, 19, 35, 0],\n",
                     " [8, 25, 44, 40, 11, 19, 35, 0],\n",
                     " [8, 25, 11, 19, 35, 0],\n",
                     " [8, 25, 40, 11, 19, 35, 0],\n",
                     " [8, 25, 5, 48, 19, 35, 22, 0],\n",
                     " [8, 25, 5, 48, 19, 35, 0],\n",
                     " [8, 25, 14, 47, 22, 0],\n",
                     " [33, 10, 41, 40, 30, 11, 27, 48, 21],\n",
                     " [33, 10, 41, 40, 11, 27, 48, 21],\n",
                     " [33, 10, 41, 40, 21],\n",
                     " [15, 4, 21, 5, 22],\n",
                     " [15, 25, 4, 21, 5, 22],\n",
                     " [15, 14, 47, 22],\n",
                     " [15, 25, 14, 47, 22],\n",
                     " [15, 35, 22],\n",
                     " [15, 41, 14, 47, 22],\n",
                     " [15, 48, 21, 5, 22],\n",
                     " [15, 45, 21, 5, 22],\n",
                     " [15, 25, 47, 22],\n",
                     " [15, 0, 21, 5, 22],\n",
                     " [15, 7, 40, 30, 11, 27, 48, 21, 5, 22],\n",
                     " [15, 25, 5, 22],\n",
                     " [15, 4, 11, 6, 22],\n",
                     " [15, 41, 40, 30, 11, 27, 48, 21, 5, 22],\n",
                     " [15, 27, 48, 21, 5, 22],\n",
                     " [15, 25, 44, 30, 11, 27, 48, 21, 5, 22],\n",
                     " [15, 25, 39, 22],\n",
                     " [15, 25, 12, 47, 22],\n",
                     " [15, 25, 12, 14, 47, 22],\n",
                     " [15, 25, 12, 11, 27, 48, 21, 5, 22],\n",
                     " [15, 7, 40, 11, 27, 48, 21, 5, 22],\n",
                     " [15, 41, 40, 11, 27, 48, 21, 5, 22],\n",
                     " [15, 25, 48, 38, 21, 5, 22],\n",
                     " [15, 21, 5, 22],\n",
                     " [15, 32, 21, 5, 22],\n",
                     " [15, 35, 21, 5, 22],\n",
                     " [15, 25, 7, 40, 21, 5, 22],\n",
                     " [15, 40, 21, 5, 22],\n",
                     " [15, 7, 40, 21, 5, 22],\n",
                     " [15, 25, 31, 40, 21, 5, 22],\n",
                     " [15, 25, 44, 40, 21, 5, 22],\n",
                     " [15, 41, 40, 21, 5, 22],\n",
                     " [15, 45, 40, 21, 5, 22],\n",
                     " [15, 24, 40, 21, 5, 22],\n",
                     " [15, 32, 48, 21, 5, 22],\n",
                     " [15, 32, 48, 19, 35, 22],\n",
                     " [15, 32, 48, 19, 35, 21, 5, 22],\n",
                     " [15, 25, 0, 48, 19, 35, 22],\n",
                     " [15, 35, 10, 41, 14, 47, 22],\n",
                     " [15, 35, 10, 41, 40, 30, 11, 27, 48, 21, 5, 22],\n",
                     " [15, 35, 10, 41, 40, 11, 27, 48, 21, 5, 22],\n",
                     " [15, 35, 10, 41, 40, 21, 5, 22],\n",
                     " [15, 25, 48, 38, 47, 22],\n",
                     " [15, 4, 11, 47, 22],\n",
                     " [15, 25, 5, 40, 30, 11, 47, 22],\n",
                     " [15, 7, 40, 30, 11, 47, 22],\n",
                     " [15, 41, 40, 30, 11, 47, 22],\n",
                     " [15, 27, 30, 11, 47, 22],\n",
                     " [15, 25, 44, 30, 11, 47, 22],\n",
                     " [15, 25, 12, 11, 47, 22],\n",
                     " [15, 25, 7, 40, 11, 47, 22],\n",
                     " [15, 40, 11, 47, 22],\n",
                     " [15, 7, 40, 11, 47, 22],\n",
                     " [15, 25, 31, 40, 11, 47, 22],\n",
                     " [15, 25, 44, 40, 11, 47, 22],\n",
                     " [15, 41, 40, 11, 47, 22],\n",
                     " [15, 25, 48, 38, 21, 40, 11, 47, 22],\n",
                     " [15, 45, 40, 11, 47, 22],\n",
                     " [15, 24, 40, 11, 47, 22],\n",
                     " [15, 25, 5, 40, 11, 47, 22],\n",
                     " [15, 0, 21, 40, 11, 47, 22],\n",
                     " [15, 4, 21, 40, 11, 47, 22],\n",
                     " [15, 21, 40, 11, 47, 22],\n",
                     " [15, 32, 21, 40, 11, 47, 22],\n",
                     " [15, 32, 48, 21, 40, 11, 47, 22],\n",
                     " [15, 35, 10, 41, 40, 30, 11, 47, 22],\n",
                     " [15, 35, 10, 41, 40, 11, 47, 22],\n",
                     " [15, 25, 44, 32, 21, 5, 22],\n",
                     " [15, 25, 44, 32, 48, 21, 5, 22],\n",
                     " [15, 25, 44, 32, 48, 19, 35, 22],\n",
                     " [15, 25, 44, 32, 48, 19, 35, 21, 5, 22],\n",
                     " [15, 25, 44, 32, 21, 40, 11, 47, 22],\n",
                     " [15, 25, 44, 32, 48, 21, 40, 11, 47, 22],\n",
                     " [15, 35, 21, 5, 40, 30, 11, 47, 22],\n",
                     " [15, 35, 21, 5, 40, 11, 47, 22],\n",
                     " [15, 25, 48, 19, 35, 22],\n",
                     " [15, 25, 48, 19, 35, 21, 5, 22],\n",
                     " [15, 25, 44, 40, 30, 11, 27, 48, 21, 5, 22],\n",
                     " [15, 25, 44, 40, 11, 27, 48, 21, 5, 22],\n",
                     " [15, 25, 44, 40, 11, 19, 35, 22],\n",
                     " [15, 25, 44, 40, 11, 19, 35, 21, 5, 22],\n",
                     " [15, 25, 44, 40, 30, 11, 47, 22],\n",
                     " [15, 25, 38, 21, 5, 22],\n",
                     " [15, 25, 38, 47, 22],\n",
                     " [15, 25, 38, 21, 40, 11, 47, 22],\n",
                     " [15, 25, 45, 21, 5, 22],\n",
                     " [15, 25, 45, 40, 21, 5, 22],\n",
                     " [15, 25, 45, 40, 11, 47, 22],\n",
                     " [15, 25, 45, 21, 40, 11, 47, 22],\n",
                     " [15, 4, 11, 27, 48, 21, 5, 22],\n",
                     " [15, 4, 11, 19, 35, 22],\n",
                     " [15, 4, 11, 19, 35, 21, 5, 22],\n",
                     " [15, 4, 11, 6, 40, 21, 5, 22],\n",
                     " [15, 25, 11, 27, 48, 21, 5, 22],\n",
                     " [15, 25, 11, 19, 35, 22],\n",
                     " [15, 25, 11, 6, 22],\n",
                     " [15, 25, 11, 47, 22],\n",
                     " [15, 25, 11, 19, 35, 21, 5, 22],\n",
                     " [15, 25, 11, 6, 40, 21, 5, 22],\n",
                     " [15, 25, 41, 14, 47, 22],\n",
                     " [15, 25, 41, 40, 30, 11, 27, 48, 21, 5, 22],\n",
                     " [15, 25, 41, 40, 11, 27, 48, 21, 5, 22],\n",
                     " [15, 25, 41, 40, 21, 5, 22],\n",
                     " [15, 25, 41, 40, 30, 11, 47, 22],\n",
                     " [15, 25, 41, 40, 11, 47, 22],\n",
                     " [15, 25, 40, 30, 11, 27, 48, 21, 5, 22],\n",
                     " [15, 25, 40, 11, 27, 48, 21, 5, 22],\n",
                     " [15, 25, 40, 11, 19, 35, 22],\n",
                     " [15, 25, 40, 11, 47, 22],\n",
                     " [15, 25, 40, 11, 19, 35, 21, 5, 22],\n",
                     " [15, 25, 40, 21, 5, 22],\n",
                     " [15, 25, 40, 30, 11, 47, 22],\n",
                     " [15, 25, 48, 21, 5, 22],\n",
                     " [15, 25, 48, 21, 40, 11, 47, 22],\n",
                     " [15, 25, 0, 21, 5, 22],\n",
                     " [15, 25, 0, 48, 21, 5, 22],\n",
                     " [15, 25, 0, 48, 19, 35, 21, 5, 22],\n",
                     " [15, 25, 0, 21, 40, 11, 47, 22],\n",
                     " [15, 25, 0, 48, 21, 40, 11, 47, 22],\n",
                     " [15, 35, 0, 21, 5, 22],\n",
                     " [15, 35, 0, 48, 21, 5, 22],\n",
                     " [15, 35, 0, 21, 40, 11, 47, 22],\n",
                     " [15, 35, 0, 48, 21, 40, 11, 47, 22],\n",
                     " [15, 35, 21, 40, 11, 47, 22],\n",
                     " [15, 25, 37, 22],\n",
                     " [15, 21, 5, 48, 19, 35, 22],\n",
                     " [15, 21, 5, 40, 30, 11, 47, 22],\n",
                     " [15, 21, 5, 40, 11, 47, 22],\n",
                     " [15, 0, 48, 21, 5, 22],\n",
                     " [15, 0, 48, 19, 35, 22],\n",
                     " [15, 0, 48, 19, 35, 21, 5, 22],\n",
                     " [15, 0, 48, 21, 40, 11, 47, 22],\n",
                     " [15, 25, 5, 48, 19, 35, 22],\n",
                     " [15, 25, 5, 48, 21, 40, 11, 47, 22],\n",
                     " [15, 44, 30, 11, 27, 48, 21, 5, 22],\n",
                     " [15, 44, 40, 21, 5, 22],\n",
                     " [15, 44, 30, 11, 47, 22],\n",
                     " [15, 44, 40, 11, 47, 22],\n",
                     " [15, 44, 32, 21, 5, 22],\n",
                     " [15, 44, 32, 48, 21, 5, 22],\n",
                     " [15, 44, 32, 48, 19, 35, 22],\n",
                     " [15, 44, 32, 48, 19, 35, 21, 5, 22],\n",
                     " [15, 44, 32, 21, 40, 11, 47, 22],\n",
                     " [15, 44, 32, 48, 21, 40, 11, 47, 22],\n",
                     " [15, 44, 40, 30, 11, 27, 48, 21, 5, 22],\n",
                     " [15, 44, 40, 11, 27, 48, 21, 5, 22],\n",
                     " [15, 44, 40, 11, 19, 35, 22],\n",
                     " [15, 44, 40, 11, 19, 35, 21, 5, 22],\n",
                     " [15, 44, 40, 30, 11, 47, 22],\n",
                     " [15, 25, 7, 40, 11, 6, 22],\n",
                     " [15, 40, 11, 6, 22],\n",
                     " [15, 7, 40, 11, 6, 22],\n",
                     " [15, 25, 31, 40, 11, 6, 22],\n",
                     " [15, 25, 44, 40, 11, 6, 22],\n",
                     " [15, 41, 40, 11, 6, 22],\n",
                     " [15, 25, 48, 38, 21, 40, 11, 6, 22],\n",
                     " [15, 45, 40, 11, 6, 22],\n",
                     " [15, 24, 40, 11, 6, 22],\n",
                     " [15, 25, 5, 40, 11, 6, 22],\n",
                     " [15, 0, 21, 40, 11, 6, 22],\n",
                     " [15, 4, 21, 40, 11, 6, 22],\n",
                     " [15, 21, 40, 11, 6, 22],\n",
                     " [15, 32, 21, 40, 11, 6, 22],\n",
                     " [15, 25, 5, 40, 30, 11, 6, 22],\n",
                     " [15, 7, 40, 30, 11, 6, 22],\n",
                     " [15, 41, 40, 30, 11, 6, 22],\n",
                     " [15, 27, 30, 11, 6, 22],\n",
                     " [15, 25, 44, 30, 11, 6, 22],\n",
                     " [15, 25, 12, 11, 6, 22],\n",
                     " [15, 32, 48, 21, 40, 11, 6, 22],\n",
                     " [15, 35, 10, 41, 40, 11, 6, 22],\n",
                     " [15, 35, 10, 41, 40, 30, 11, 6, 22],\n",
                     " [15, 25, 44, 32, 21, 40, 11, 6, 22],\n",
                     " [15, 25, 44, 32, 48, 21, 40, 11, 6, 22],\n",
                     " [15, 35, 21, 5, 40, 11, 6, 22],\n",
                     " [15, 35, 21, 5, 40, 30, 11, 6, 22],\n",
                     " [15, 25, 44, 40, 30, 11, 6, 22],\n",
                     " [15, 25, 38, 21, 40, 11, 6, 22],\n",
                     " [15, 25, 45, 40, 11, 6, 22],\n",
                     " [15, 25, 45, 21, 40, 11, 6, 22],\n",
                     " [15, 25, 41, 40, 11, 6, 22],\n",
                     " [15, 25, 41, 40, 30, 11, 6, 22],\n",
                     " [15, 25, 40, 11, 6, 22],\n",
                     " [15, 25, 40, 30, 11, 6, 22],\n",
                     " [15, 25, 48, 21, 40, 11, 6, 22],\n",
                     " [15, 25, 0, 21, 40, 11, 6, 22],\n",
                     " [15, 25, 0, 48, 21, 40, 11, 6, 22],\n",
                     " [15, 35, 0, 21, 40, 11, 6, 22],\n",
                     " [15, 35, 0, 48, 21, 40, 11, 6, 22],\n",
                     " [15, 35, 21, 40, 11, 6, 22],\n",
                     " [15, 21, 5, 40, 11, 6, 22],\n",
                     " [15, 21, 5, 40, 30, 11, 6, 22],\n",
                     " [15, 0, 48, 21, 40, 11, 6, 22],\n",
                     " [15, 25, 5, 48, 21, 40, 11, 6, 22],\n",
                     " [15, 44, 40, 11, 6, 22],\n",
                     " [15, 44, 30, 11, 6, 22],\n",
                     " [15, 44, 32, 21, 40, 11, 6, 22],\n",
                     " [15, 44, 32, 48, 21, 40, 11, 6, 22],\n",
                     " [15, 44, 40, 30, 11, 6, 22],\n",
                     " [15, 4, 11, 40, 21, 5, 22],\n",
                     " [15, 25, 11, 40, 21, 5, 22],\n",
                     " [26, 5, 48, 21, 40],\n",
                     " [26, 4, 21, 40],\n",
                     " [26, 5, 40],\n",
                     " [26, 0, 21, 40],\n",
                     " [26, 0, 48, 21, 40],\n",
                     " [26, 5, 48, 19, 35, 22, 36, 30, 11, 40],\n",
                     " [26, 5, 22, 36, 30, 11, 40],\n",
                     " [26, 19, 35, 22, 36, 30, 11, 40],\n",
                     " [26, 4, 11, 40],\n",
                     " [26, 0, 48, 19, 35, 22, 36, 30, 11, 40],\n",
                     " [48, 19, 35, 22, 0],\n",
                     " [48, 38, 47, 22, 0],\n",
                     " [48, 19, 35, 0],\n",
                     " [48, 21, 5],\n",
                     " [48, 38, 21, 5],\n",
                     " [48, 19, 35, 21, 5],\n",
                     " [48, 16],\n",
                     " [48, 19, 35, 22, 16],\n",
                     " [48, 38, 47, 22, 16],\n",
                     " [32, 25, 44],\n",
                     " [46, 41, 40, 30, 11, 27, 48, 16],\n",
                     " [46, 41, 40, 11, 27, 48, 16],\n",
                     " [46, 22, 16],\n",
                     " [46, 41, 40, 30, 11, 19],\n",
                     " [46, 41, 40, 11, 19],\n",
                     " [46, 41, 40, 30, 11, 27, 48, 19],\n",
                     " [46, 41, 40, 11, 27, 48, 19],\n",
                     " [46, 22, 19],\n",
                     " [25, 44],\n",
                     " [25, 11, 40, 10, 41],\n",
                     " [25, 4, 21, 5, 22],\n",
                     " [25, 14, 47, 22],\n",
                     " [25, 47, 22],\n",
                     " [25, 5, 22],\n",
                     " [25, 44, 30, 11, 27, 48, 21, 5, 22],\n",
                     " [25, 39, 22],\n",
                     " [25, 12, 47, 22],\n",
                     " [25, 12, 14, 47, 22],\n",
                     " [25, 12, 11, 27, 48, 21, 5, 22],\n",
                     " [25, 48, 38, 21, 5, 22],\n",
                     " [25, 7, 40, 21, 5, 22],\n",
                     " [25, 31, 40, 21, 5, 22],\n",
                     " [25, 44, 40, 21, 5, 22],\n",
                     " [25, 0, 48, 19, 35, 22],\n",
                     " [25, 48, 38, 47, 22],\n",
                     " [25, 5, 40, 30, 11, 47, 22],\n",
                     " [25, 44, 30, 11, 47, 22],\n",
                     " [25, 12, 11, 47, 22],\n",
                     " [25, 7, 40, 11, 47, 22],\n",
                     " [25, 31, 40, 11, 47, 22],\n",
                     " [25, 44, 40, 11, 47, 22],\n",
                     " [25, 48, 38, 21, 40, 11, 47, 22],\n",
                     " [25, 5, 40, 11, 47, 22],\n",
                     " [25, 44, 32, 21, 5, 22],\n",
                     " [25, 44, 32, 48, 21, 5, 22],\n",
                     " [25, 44, 32, 48, 19, 35, 22],\n",
                     " [25, 44, 32, 48, 19, 35, 21, 5, 22],\n",
                     " [25, 44, 32, 21, 40, 11, 47, 22],\n",
                     " [25, 44, 32, 48, 21, 40, 11, 47, 22],\n",
                     " [25, 48, 19, 35, 22],\n",
                     " [25, 48, 19, 35, 21, 5, 22],\n",
                     " [25, 44, 40, 30, 11, 27, 48, 21, 5, 22],\n",
                     " [25, 44, 40, 11, 27, 48, 21, 5, 22],\n",
                     " [25, 44, 40, 11, 19, 35, 22],\n",
                     " [25, 44, 40, 11, 19, 35, 21, 5, 22],\n",
                     " [25, 44, 40, 30, 11, 47, 22],\n",
                     " [25, 38, 21, 5, 22],\n",
                     " [25, 38, 47, 22],\n",
                     " [25, 38, 21, 40, 11, 47, 22],\n",
                     " [25, 45, 21, 5, 22],\n",
                     " [25, 45, 40, 21, 5, 22],\n",
                     " [25, 45, 40, 11, 47, 22],\n",
                     " [25, 45, 21, 40, 11, 47, 22],\n",
                     " [25, 11, 27, 48, 21, 5, 22],\n",
                     " [25, 11, 19, 35, 22],\n",
                     " [25, 11, 6, 22],\n",
                     " [25, 11, 47, 22],\n",
                     " [25, 11, 19, 35, 21, 5, 22],\n",
                     " [25, 11, 6, 40, 21, 5, 22],\n",
                     " [25, 41, 14, 47, 22],\n",
                     " [25, 41, 40, 30, 11, 27, 48, 21, 5, 22],\n",
                     " [25, 41, 40, 11, 27, 48, 21, 5, 22],\n",
                     " [25, 41, 40, 21, 5, 22],\n",
                     " [25, 41, 40, 30, 11, 47, 22],\n",
                     " [25, 41, 40, 11, 47, 22],\n",
                     " [25, 40, 30, 11, 27, 48, 21, 5, 22],\n",
                     " [25, 40, 11, 27, 48, 21, 5, 22],\n",
                     " [25, 40, 11, 19, 35, 22],\n",
                     " [25, 40, 11, 47, 22],\n",
                     " [25, 40, 11, 19, 35, 21, 5, 22],\n",
                     " [25, 40, 21, 5, 22],\n",
                     " [25, 40, 30, 11, 47, 22],\n",
                     " [25, 48, 21, 5, 22],\n",
                     " [25, 48, 21, 40, 11, 47, 22],\n",
                     " [25, 0, 21, 5, 22],\n",
                     " [25, 0, 48, 21, 5, 22],\n",
                     " [25, 0, 48, 19, 35, 21, 5, 22],\n",
                     " [25, 0, 21, 40, 11, 47, 22],\n",
                     " [25, 0, 48, 21, 40, 11, 47, 22],\n",
                     " [25, 37, 22],\n",
                     " [25, 5, 48, 19, 35, 22],\n",
                     " [25, 5, 48, 21, 40, 11, 47, 22],\n",
                     " [25, 7, 40, 11, 6, 22],\n",
                     " [25, 31, 40, 11, 6, 22],\n",
                     " [25, 44, 40, 11, 6, 22],\n",
                     " [25, 48, 38, 21, 40, 11, 6, 22],\n",
                     " [25, 5, 40, 11, 6, 22],\n",
                     " [25, 5, 40, 30, 11, 6, 22],\n",
                     " [25, 44, 30, 11, 6, 22],\n",
                     " [25, 12, 11, 6, 22],\n",
                     " [25, 44, 32, 21, 40, 11, 6, 22],\n",
                     " [25, 44, 32, 48, 21, 40, 11, 6, 22],\n",
                     " [25, 44, 40, 30, 11, 6, 22],\n",
                     " [25, 38, 21, 40, 11, 6, 22],\n",
                     " [25, 45, 40, 11, 6, 22],\n",
                     " [25, 45, 21, 40, 11, 6, 22],\n",
                     " [25, 41, 40, 11, 6, 22],\n",
                     " [25, 41, 40, 30, 11, 6, 22],\n",
                     " [25, 40, 11, 6, 22],\n",
                     " [25, 40, 30, 11, 6, 22],\n",
                     " [25, 48, 21, 40, 11, 6, 22],\n",
                     " [25, 0, 21, 40, 11, 6, 22],\n",
                     " [25, 0, 48, 21, 40, 11, 6, 22],\n",
                     " [25, 5, 48, 21, 40, 11, 6, 22],\n",
                     " [25, 11, 40, 21, 5, 22],\n",
                     " [25, 37],\n",
                     " [25, 39, 34],\n",
                     " [25, 34],\n",
                     " [25, 31, 40, 30, 11, 34],\n",
                     " [25, 44, 40, 30, 11, 34],\n",
                     " [25, 48, 38, 21, 40, 30, 11, 34],\n",
                     " [25, 47, 22, 36, 30, 11, 34],\n",
                     " [25, 5, 40, 30, 11, 34],\n",
                     " [25, 5, 22, 36, 30, 11, 34],\n",
                     " [25, 44, 30, 11, 34],\n",
                     " [25, 39, 22, 36, 30, 11, 34],\n",
                     " [25, 12, 11, 34],\n",
                     " [25, 7, 40, 30, 11, 34],\n",
                     " [25, 7, 40, 11, 34],\n",
                     " [25, 31, 40, 11, 34],\n",
                     " [25, 44, 40, 11, 34],\n",
                     " [25, 48, 38, 21, 40, 11, 34],\n",
                     " [25, 5, 40, 11, 34],\n",
                     " [25, 0, 48, 19, 35, 22, 36, 30, 11, 34],\n",
                     " [25, 48, 38, 47, 22, 36, 30, 11, 34],\n",
                     " [25, 12, 47, 22, 36, 30, 11, 34],\n",
                     " [25, 44, 32, 21, 40, 30, 11, 34],\n",
                     " [25, 44, 32, 21, 40, 11, 34],\n",
                     " [25, 44, 32, 48, 21, 40, 30, 11, 34],\n",
                     " [25, 44, 32, 48, 21, 40, 11, 34],\n",
                     " [25, 44, 32, 48, 19, 35, 22, 36, 30, 11, 34],\n",
                     " [25, 48, 19, 35, 22, 36, 30, 11, 34],\n",
                     " [25, 38, 21, 40, 30, 11, 34],\n",
                     " [25, 38, 21, 40, 11, 34],\n",
                     " [25, 38, 47, 22, 36, 30, 11, 34],\n",
                     " [25, 45, 40, 30, 11, 34],\n",
                     " [25, 45, 40, 11, 34],\n",
                     " [25, 45, 21, 40, 30, 11, 34],\n",
                     " [25, 45, 21, 40, 11, 34],\n",
                     " [25, 4, 11, 34],\n",
                     " [25, 11, 34],\n",
                     " [25, 41, 40, 30, 11, 34],\n",
                     " [25, 41, 40, 11, 34],\n",
                     " [25, 40, 30, 11, 34],\n",
                     " [25, 40, 11, 34],\n",
                     " [25, 48, 21, 40, 30, 11, 34],\n",
                     " [25, 48, 21, 40, 11, 34],\n",
                     " [25, 0, 21, 40, 30, 11, 34],\n",
                     " [25, 0, 21, 40, 11, 34],\n",
                     " [25, 0, 48, 21, 40, 30, 11, 34],\n",
                     " [25, 0, 48, 21, 40, 11, 34],\n",
                     " [25, 5, 48, 21, 40, 30, 11, 34],\n",
                     " [25, 5, 48, 21, 40, 11, 34],\n",
                     " [25, 5, 48, 19, 35, 22, 36, 30, 11, 34],\n",
                     " [25, 14, 47, 22, 36, 30, 11, 34],\n",
                     " [25, 12, 18, 34],\n",
                     " [35, 10, 41, 40, 30, 11, 19],\n",
                     " [35, 10, 41, 40, 11, 19],\n",
                     " [35, 10, 41, 40, 30, 11, 27, 48, 19],\n",
                     " [35, 10, 41, 40, 11, 27, 48, 19],\n",
                     " [35, 21, 5, 40, 30, 11, 19],\n",
                     " [35, 21, 5, 40, 11, 19],\n",
                     " [35, 21, 5, 48, 19],\n",
                     " [35, 21, 5, 40, 30, 11, 27, 48, 19],\n",
                     " [35, 21, 5, 40, 11, 27, 48, 19],\n",
                     " [35, 0, 48, 19],\n",
                     " [35, 22, 19],\n",
                     " [35, 21, 5, 22, 19],\n",
                     " [35, 21, 40],\n",
                     " [35, 10, 41, 40],\n",
                     " [35, 21, 5, 40],\n",
                     " [35, 0, 21, 40],\n",
                     " [35, 0, 48, 21, 40],\n",
                     " [35, 22, 36, 30, 11, 40],\n",
                     " [35, 21, 5, 22, 36, 30, 11, 40],\n",
                     " [38, 47],\n",
                     " [38, 21, 40, 11, 47],\n",
                     " [38, 25, 14, 47],\n",
                     " [38, 25, 47],\n",
                     " [38, 25, 5, 22, 47],\n",
                     " [38, 25, 39, 22, 47],\n",
                     " [38, 25, 12, 47],\n",
                     " [38, 25, 12, 14, 47],\n",
                     " [38, 25, 0, 48, 19, 35, 22, 47],\n",
                     " [38, 25, 5, 40, 30, 11, 47],\n",
                     " [38, 25, 44, 30, 11, 47],\n",
                     " [38, 25, 12, 11, 47],\n",
                     " [38, 25, 7, 40, 11, 47],\n",
                     " [38, 25, 31, 40, 11, 47],\n",
                     " [38, 25, 44, 40, 11, 47],\n",
                     " [38, 25, 5, 40, 11, 47],\n",
                     " [38, 25, 44, 32, 48, 19, 35, 22, 47],\n",
                     " [38, 25, 44, 32, 21, 40, 11, 47],\n",
                     " [38, 25, 44, 32, 48, 21, 40, 11, 47],\n",
                     " [38, 25, 48, 19, 35, 22, 47],\n",
                     " [38, 25, 44, 40, 11, 19, 35, 22, 47],\n",
                     " [38, 25, 44, 40, 30, 11, 47],\n",
                     " [38, 25, 45, 40, 11, 47],\n",
                     " [38, 25, 45, 21, 40, 11, 47],\n",
                     " [38, 25, 11, 19, 35, 22, 47],\n",
                     " [38, 25, 11, 6, 22, 47],\n",
                     " [38, 25, 11, 47],\n",
                     " [38, 25, 41, 14, 47],\n",
                     " [38, 25, 41, 40, 30, 11, 47],\n",
                     " [38, 25, 41, 40, 11, 47],\n",
                     " [38, 25, 40, 11, 19, 35, 22, 47],\n",
                     " [38, 25, 40, 11, 47],\n",
                     " [38, 25, 40, 30, 11, 47],\n",
                     " [38, 25, 48, 21, 40, 11, 47],\n",
                     " [38, 25, 0, 21, 40, 11, 47],\n",
                     " [38, 25, 0, 48, 21, 40, 11, 47],\n",
                     " [38, 25, 5, 48, 19, 35, 22, 47],\n",
                     " [38, 25, 5, 48, 21, 40, 11, 47],\n",
                     " [38, 25, 44, 40, 35, 22, 47],\n",
                     " [38, 25, 40, 35, 22, 47],\n",
                     " [38, 25, 39, 34],\n",
                     " [38, 25, 34],\n",
                     " [38, 21, 40, 30, 11, 34],\n",
                     " [38, 21, 40, 11, 34],\n",
                     " [38, 47, 22, 36, 30, 11, 34],\n",
                     " [38, 25, 31, 40, 30, 11, 34],\n",
                     " [38, 25, 44, 40, 30, 11, 34],\n",
                     " [38, 25, 47, 22, 36, 30, 11, 34],\n",
                     " [38, 25, 5, 40, 30, 11, 34],\n",
                     " [38, 25, 5, 22, 36, 30, 11, 34],\n",
                     " [38, 25, 44, 30, 11, 34],\n",
                     " [38, 25, 39, 22, 36, 30, 11, 34],\n",
                     " [38, 25, 12, 11, 34],\n",
                     " [38, 25, 7, 40, 30, 11, 34],\n",
                     " [38, 25, 7, 40, 11, 34],\n",
                     " [38, 25, 31, 40, 11, 34],\n",
                     " [38, 25, 44, 40, 11, 34],\n",
                     " [38, 25, 5, 40, 11, 34],\n",
                     " [38, 25, 0, 48, 19, 35, 22, 36, 30, 11, 34],\n",
                     " [38, 25, 12, 47, 22, 36, 30, 11, 34],\n",
                     " [38, 25, 44, 32, 21, 40, 30, 11, 34],\n",
                     " [38, 25, 44, 32, 21, 40, 11, 34],\n",
                     " [38, 25, 44, 32, 48, 21, 40, 30, 11, 34],\n",
                     " [38, 25, 44, 32, 48, 21, 40, 11, 34],\n",
                     " [38, 25, 44, 32, 48, 19, 35, 22, 36, 30, 11, 34],\n",
                     " [38, 25, 48, 19, 35, 22, 36, 30, 11, 34],\n",
                     " [38, 25, 45, 40, 30, 11, 34],\n",
                     " [38, 25, 45, 40, 11, 34],\n",
                     " [38, 25, 45, 21, 40, 30, 11, 34],\n",
                     " [38, 25, 45, 21, 40, 11, 34],\n",
                     " [38, 25, 4, 11, 34],\n",
                     " [38, 25, 11, 34],\n",
                     " [38, 25, 41, 40, 30, 11, 34],\n",
                     " [38, 25, 41, 40, 11, 34],\n",
                     " [38, 25, 40, 30, 11, 34],\n",
                     " [38, 25, 40, 11, 34],\n",
                     " [38, 25, 48, 21, 40, 30, 11, 34],\n",
                     " [38, 25, 48, 21, 40, 11, 34],\n",
                     " [38, 25, 0, 21, 40, 30, 11, 34],\n",
                     " [38, 25, 0, 21, 40, 11, 34],\n",
                     " [38, 25, 0, 48, 21, 40, 30, 11, 34],\n",
                     " [38, 25, 0, 48, 21, 40, 11, 34],\n",
                     " [38, 25, 5, 48, 21, 40, 30, 11, 34],\n",
                     " [38, 25, 5, 48, 21, 40, 11, 34],\n",
                     " [38, 25, 5, 48, 19, 35, 22, 36, 30, 11, 34],\n",
                     " [38, 25, 14, 47, 22, 36, 30, 11, 34],\n",
                     " [38, 25, 12, 18, 34],\n",
                     " [38, 47, 22, 36],\n",
                     " [38, 25, 47, 22, 36],\n",
                     " [38, 25, 5, 22, 36],\n",
                     " [38, 25, 39, 22, 36],\n",
                     " [38, 25, 0, 48, 19, 35, 22, 36],\n",
                     " [38, 25, 12, 47, 22, 36],\n",
                     " [38, 25, 44, 32, 48, 19, 35, 22, 36],\n",
                     " [38, 25, 48, 19, 35, 22, 36],\n",
                     " [38, 25, 44, 40, 11, 19, 35, 22, 36],\n",
                     " [38, 25, 11, 19, 35, 22, 36],\n",
                     " [38, 25, 11, 6, 22, 36],\n",
                     " [38, 25, 11, 47, 22, 36],\n",
                     " [38, 25, 40, 11, 19, 35, 22, 36],\n",
                     " [38, 25, 5, 48, 19, 35, 22, 36],\n",
                     " [38, 25, 14, 47, 22, 36],\n",
                     " [38, 25, 44, 40, 35, 22, 36],\n",
                     " [38, 25, 40, 35, 22, 36],\n",
                     " [1, 35, 22, 36],\n",
                     " [1, 45, 40],\n",
                     " [1, 45, 21, 40],\n",
                     " [1, 30, 11, 40],\n",
                     " [1, 35, 22, 36, 30, 11, 40],\n",
                     " [15, 25, 12],\n",
                     " [15, 40, 30],\n",
                     " [15, 25, 31, 40, 30],\n",
                     " [15, 25, 44, 40, 30],\n",
                     " [15, 41, 40, 30],\n",
                     " [15, 35, 22, 36, 30],\n",
                     " [15, 25, 48, 38, 21, 40, 30],\n",
                     " [15, 45, 40, 30],\n",
                     " [15, 24, 40, 30],\n",
                     " [15, 25, 47, 22, 36, 30],\n",
                     " [15, 4, 11, 6, 40, 30],\n",
                     " [15, 25, 5, 40, 30],\n",
                     " [15, 7, 40, 30],\n",
                     " [15, 25, 5, 22, 36, 30],\n",
                     " [15, 4, 11, 6, 22, 36, 30],\n",
                     " [15, 0, 21, 40, 30],\n",
                     " [15, 4, 21, 40, 30],\n",
                     " [15, 27, 30],\n",
                     " [15, 25, 44, 30],\n",
                     " [15, 25, 39, 22, 36, 30],\n",
                     " [15, 25, 12, 11, 27, 30],\n",
                     " [15, 25, 7, 40, 30],\n",
                     " [15, 21, 40, 30],\n",
                     " [15, 32, 21, 40, 30],\n",
                     " [15, 32, 48, 21, 40, 30],\n",
                     " [15, 32, 48, 19, 35, 22, 36, 30],\n",
                     " [15, 25, 0, 48, 19, 35, 22, 36, 30],\n",
                     " [15, 35, 10, 41, 40, 30],\n",
                     " [15, 25, 48, 38, 47, 22, 36, 30],\n",
                     " [15, 4, 11, 47, 22, 36, 30],\n",
                     " [15, 25, 12, 47, 22, 36, 30],\n",
                     " [15, 14, 47, 22, 36, 30],\n",
                     " [15, 25, 44, 32, 21, 40, 30],\n",
                     " [15, 25, 44, 32, 48, 21, 40, 30],\n",
                     " [15, 25, 44, 32, 48, 19, 35, 22, 36, 30],\n",
                     " [15, 35, 21, 5, 40, 30],\n",
                     " [15, 35, 21, 5, 22, 36, 30],\n",
                     " [15, 25, 48, 19, 35, 22, 36, 30],\n",
                     " [15, 25, 44, 40, 11, 19, 35, 22, 36, 30],\n",
                     " [15, 25, 44, 40, 11, 27, 30],\n",
                     " [15, 25, 38, 21, 40, 30],\n",
                     " [15, 25, 38, 47, 22, 36, 30],\n",
                     " [15, 25, 45, 40, 30],\n",
                     " [15, 25, 45, 21, 40, 30],\n",
                     " [15, 4, 11, 19, 35, 22, 36, 30],\n",
                     " [15, 4, 11, 27, 30],\n",
                     " [15, 25, 11, 19, 35, 22, 36, 30],\n",
                     " [15, 25, 11, 6, 40, 30],\n",
                     " [15, 25, 11, 6, 22, 36, 30],\n",
                     " [15, 25, 11, 27, 30],\n",
                     " [15, 25, 11, 47, 22, 36, 30],\n",
                     " [15, 25, 41, 40, 30],\n",
                     " [15, 25, 40, 30],\n",
                     " [15, 25, 40, 11, 19, 35, 22, 36, 30],\n",
                     " [15, 25, 40, 11, 27, 30],\n",
                     " [15, 25, 48, 21, 40, 30],\n",
                     " [15, 25, 0, 21, 40, 30],\n",
                     " [15, 25, 0, 48, 21, 40, 30],\n",
                     " [15, 35, 0, 21, 40, 30],\n",
                     " [15, 35, 0, 48, 21, 40, 30],\n",
                     " [15, 35, 21, 40, 30],\n",
                     " [15, 25, 5, 40, 11, 27, 30],\n",
                     " [15, 7, 40, 11, 27, 30],\n",
                     " [15, 41, 40, 11, 27, 30],\n",
                     " [15, 35, 10, 41, 40, 11, 27, 30],\n",
                     " [15, 35, 21, 5, 40, 11, 27, 30],\n",
                     " [15, 25, 41, 40, 11, 27, 30],\n",
                     " [15, 21, 5, 40, 30],\n",
                     " [15, 21, 5, 22, 36, 30],\n",
                     " [15, 21, 5, 48, 19, 35, 22, 36, 30],\n",
                     " [15, 21, 5, 40, 11, 27, 30],\n",
                     " [15, 0, 48, 21, 40, 30],\n",
                     " [15, 0, 48, 19, 35, 22, 36, 30],\n",
                     " [15, 25, 5, 48, 21, 40, 30],\n",
                     " [15, 25, 5, 48, 19, 35, 22, 36, 30],\n",
                     " [15, 25, 14, 47, 22, 36, 30],\n",
                     " [15, 44, 40, 30],\n",
                     " [15, 44, 30],\n",
                     " [15, 44, 32, 21, 40, 30],\n",
                     " [15, 44, 32, 48, 21, 40, 30],\n",
                     " [15, 44, 32, 48, 19, 35, 22, 36, 30],\n",
                     " [15, 44, 40, 11, 19, 35, 22, 36, 30],\n",
                     " [15, 44, 40, 11, 27, 30],\n",
                     " [15, 4, 11, 40, 30],\n",
                     " [15, 25, 11, 40, 30],\n",
                     " [15, 25, 44, 40, 35, 22, 36, 30],\n",
                     " [15, 25, 40, 35, 22, 36, 30],\n",
                     " [15, 44, 40, 35, 22, 36, 30],\n",
                     " [15, 40, 30, 11],\n",
                     " [15, 25, 31, 40, 30, 11],\n",
                     " [15, 25, 44, 40, 30, 11],\n",
                     " [15, 41, 40, 30, 11],\n",
                     " [15, 35, 22, 36, 30, 11],\n",
                     " [15, 25, 48, 38, 21, 40, 30, 11],\n",
                     " [15, 45, 40, 30, 11],\n",
                     " [15, 24, 40, 30, 11],\n",
                     " [15, 25, 47, 22, 36, 30, 11],\n",
                     " [15, 4, 11],\n",
                     " [15, 25, 5, 40, 30, 11],\n",
                     " [15, 7, 40, 30, 11],\n",
                     " [15, 25, 5, 22, 36, 30, 11],\n",
                     " [15, 0, 21, 40, 30, 11],\n",
                     " [15, 4, 21, 40, 30, 11],\n",
                     " [15, 27, 30, 11],\n",
                     " [15, 25, 44, 30, 11],\n",
                     " [15, 25, 39, 22, 36, 30, 11],\n",
                     " [15, 25, 12, 11],\n",
                     " [15, 25, 7, 40, 30, 11],\n",
                     " [15, 25, 7, 40, 11],\n",
                     " [15, 40, 11],\n",
                     " [15, 7, 40, 11],\n",
                     " [15, 25, 31, 40, 11],\n",
                     " [15, 25, 44, 40, 11],\n",
                     " [15, 41, 40, 11],\n",
                     " [15, 25, 48, 38, 21, 40, 11],\n",
                     " [15, 45, 40, 11],\n",
                     " [15, 24, 40, 11],\n",
                     " [15, 25, 5, 40, 11],\n",
                     " [15, 0, 21, 40, 11],\n",
                     " [15, 4, 21, 40, 11],\n",
                     " [15, 21, 40, 30, 11],\n",
                     " [15, 21, 40, 11],\n",
                     " [15, 32, 21, 40, 30, 11],\n",
                     " [15, 32, 21, 40, 11],\n",
                     " [15, 32, 48, 21, 40, 30, 11],\n",
                     " [15, 32, 48, 21, 40, 11],\n",
                     " [15, 32, 48, 19, 35, 22, 36, 30, 11],\n",
                     " [15, 25, 0, 48, 19, 35, 22, 36, 30, 11],\n",
                     " [15, 35, 10, 41, 40, 30, 11],\n",
                     " [15, 35, 10, 41, 40, 11],\n",
                     " [15, 25, 48, 38, 47, 22, 36, 30, 11],\n",
                     " [15, 25, 12, 47, 22, 36, 30, 11],\n",
                     " [15, 14, 47, 22, 36, 30, 11],\n",
                     " [15, 25, 44, 32, 21, 40, 30, 11],\n",
                     " [15, 25, 44, 32, 21, 40, 11],\n",
                     " [15, 25, 44, 32, 48, 21, 40, 30, 11],\n",
                     " [15, 25, 44, 32, 48, 21, 40, 11],\n",
                     " [15, 25, 44, 32, 48, 19, 35, 22, 36, 30, 11],\n",
                     " [15, 35, 21, 5, 40, 30, 11],\n",
                     " [15, 35, 21, 5, 22, 36, 30, 11],\n",
                     " [15, 35, 21, 5, 40, 11],\n",
                     " [15, 25, 48, 19, 35, 22, 36, 30, 11],\n",
                     " [15, 25, 38, 21, 40, 30, 11],\n",
                     " [15, 25, 38, 21, 40, 11],\n",
                     " [15, 25, 38, 47, 22, 36, 30, 11],\n",
                     " [15, 25, 45, 40, 30, 11],\n",
                     " [15, 25, 45, 40, 11],\n",
                     " [15, 25, 45, 21, 40, 30, 11],\n",
                     " [15, 25, 45, 21, 40, 11],\n",
                     " [15, 25, 4, 11],\n",
                     " [15, 25, 11],\n",
                     " [15, 25, 41, 40, 30, 11],\n",
                     " [15, 25, 41, 40, 11],\n",
                     " [15, 25, 40, 30, 11],\n",
                     " [15, 25, 40, 11],\n",
                     " [15, 25, 48, 21, 40, 30, 11],\n",
                     " [15, 25, 48, 21, 40, 11],\n",
                     " [15, 25, 0, 21, 40, 30, 11],\n",
                     " [15, 25, 0, 21, 40, 11],\n",
                     " [15, 25, 0, 48, 21, 40, 30, 11],\n",
                     " [15, 25, 0, 48, 21, 40, 11],\n",
                     " [15, 35, 0, 21, 40, 30, 11],\n",
                     " [15, 35, 0, 21, 40, 11],\n",
                     " [15, 35, 0, 48, 21, 40, 30, 11],\n",
                     " [15, 35, 0, 48, 21, 40, 11],\n",
                     " [15, 35, 21, 40, 30, 11],\n",
                     " [15, 35, 21, 40, 11],\n",
                     " [15, 21, 5, 40, 30, 11],\n",
                     " [15, 21, 5, 22, 36, 30, 11],\n",
                     " [15, 21, 5, 40, 11],\n",
                     " [15, 21, 5, 48, 19, 35, 22, 36, 30, 11],\n",
                     " [15, 0, 48, 21, 40, 30, 11],\n",
                     " [15, 0, 48, 21, 40, 11],\n",
                     " [15, 0, 48, 19, 35, 22, 36, 30, 11],\n",
                     " [15, 25, 5, 48, 21, 40, 30, 11],\n",
                     " [15, 25, 5, 48, 21, 40, 11],\n",
                     " [15, 25, 5, 48, 19, 35, 22, 36, 30, 11],\n",
                     " [15, 25, 14, 47, 22, 36, 30, 11],\n",
                     " [15, 44, 40, 30, 11],\n",
                     " [15, 44, 30, 11],\n",
                     " [15, 44, 40, 11],\n",
                     " [15, 44, 32, 21, 40, 30, 11],\n",
                     " [15, 44, 32, 21, 40, 11],\n",
                     " [15, 44, 32, 48, 21, 40, 30, 11],\n",
                     " [15, 44, 32, 48, 21, 40, 11],\n",
                     " [15, 44, 32, 48, 19, 35, 22, 36, 30, 11],\n",
                     " [15, 14],\n",
                     " [15, 25, 14],\n",
                     " [15, 41, 14],\n",
                     " [15, 25, 12, 14],\n",
                     " [15, 35, 10, 41, 14],\n",
                     " [15, 25, 41, 14],\n",
                     " [15, 40, 30, 11, 10, 33],\n",
                     " [15, 25, 31, 40, 30, 11, 10, 33],\n",
                     " [15, 25, 44, 40, 30, 11, 10, 33],\n",
                     " [15, 41, 40, 30, 11, 10, 33],\n",
                     " [15, 35, 22, 36, 30, 11, 10, 33],\n",
                     " [15, 25, 48, 38, 21, 40, 30, 11, 10, 33],\n",
                     " [15, 45, 40, 30, 11, 10, 33],\n",
                     " [15, 24, 40, 30, 11, 10, 33],\n",
                     " [15, 41, 40, 10, 33],\n",
                     " [15, 25, 47, 22, 36, 30, 11, 10, 33],\n",
                     " [15, 25, 5, 40, 30, 11, 10, 33],\n",
                     " [15, 25, 5, 40, 30, 11, 27, 48, 21, 33],\n",
                     " [15, 7, 40, 30, 11, 10, 33],\n",
                     " [15, 25, 5, 22, 36, 30, 11, 10, 33],\n",
                     " [15, 0, 21, 40, 30, 11, 10, 33],\n",
                     " [15, 4, 21, 40, 30, 11, 10, 33],\n",
                     " [15, 27, 30, 11, 10, 33],\n",
                     " [15, 25, 44, 30, 11, 10, 33],\n",
                     " [15, 25, 39, 22, 36, 30, 11, 10, 33],\n",
                     " [15, 25, 7, 40, 30, 11, 10, 33],\n",
                     " [15, 25, 5, 40, 11, 27, 48, 21, 33],\n",
                     " [15, 41, 40, 11, 10, 33],\n",
                     " [15, 21, 40, 30, 11, 10, 33],\n",
                     " [15, 32, 21, 40, 30, 11, 10, 33],\n",
                     " [15, 25, 5, 40, 21, 33],\n",
                     " [15, 25, 5, 48, 21, 33],\n",
                     " [15, 32, 48, 21, 40, 30, 11, 10, 33],\n",
                     " [15, 32, 48, 19, 35, 22, 36, 30, 11, 10, 33],\n",
                     " [15, 25, 0, 48, 19, 35, 22, 36, 30, 11, 10, 33],\n",
                     " [15, 25, 48, 38, 47, 22, 36, 30, 11, 10, 33],\n",
                     " [15, 25, 12, 47, 22, 36, 30, 11, 10, 33],\n",
                     " [15, 14, 47, 22, 36, 30, 11, 10, 33],\n",
                     " [15, 25, 44, 32, 21, 40, 30, 11, 10, 33],\n",
                     " [15, 25, 44, 32, 48, 21, 40, 30, 11, 10, 33],\n",
                     " [15, 25, 44, 32, 48, 19, 35, 22, 36, 30, 11, 10, 33],\n",
                     " [15, 35, 21, 5, 40, 30, 11, 10, 33],\n",
                     " [15, 35, 21, 5, 22, 36, 30, 11, 10, 33],\n",
                     " [15, 25, 48, 19, 35, 22, 36, 30, 11, 10, 33],\n",
                     " [15, 25, 7, 40, 10, 33],\n",
                     " [15, 7, 40, 10, 33],\n",
                     " [15, 25, 48, 38, 21, 10, 33],\n",
                     " [15, 40, 10, 33],\n",
                     " [15, 25, 31, 40, 10, 33],\n",
                     " [15, 25, 44, 40, 10, 33],\n",
                     " [15, 25, 48, 38, 21, 40, 10, 33],\n",
                     " [15, 45, 40, 10, 33],\n",
                     " [15, 24, 40, 10, 33],\n",
                     " [15, 25, 5, 40, 10, 33],\n",
                     " [15, 0, 21, 10, 33],\n",
                     " [15, 0, 21, 40, 10, 33],\n",
                     " [15, 4, 21, 10, 33],\n",
                     " [15, 4, 21, 40, 10, 33],\n",
                     " [15, 25, 12, 11, 10, 33],\n",
                     " [15, 25, 5, 40, 11, 10, 33],\n",
                     " [15, 7, 40, 11, 10, 33],\n",
                     " [15, 21, 10, 33],\n",
                     " [15, 21, 40, 10, 33],\n",
                     " [15, 32, 21, 10, 33],\n",
                     " [15, 32, 21, 40, 10, 33],\n",
                     " [15, 32, 48, 21, 10, 33],\n",
                     " [15, 32, 48, 21, 40, 10, 33],\n",
                     " [15, 35, 10, 33],\n",
                     " [15, 25, 44, 32, 21, 10, 33],\n",
                     " [15, 25, 44, 32, 21, 40, 10, 33],\n",
                     " [15, 25, 44, 32, 48, 21, 10, 33],\n",
                     " [15, 25, 44, 32, 48, 21, 40, 10, 33],\n",
                     " [15, 35, 21, 5, 40, 10, 33],\n",
                     " [15, 35, 21, 5, 40, 11, 10, 33],\n",
                     " [15, 24, 33],\n",
                     " [15, 25, 44, 40, 30, 11, 27, 48, 21, 33],\n",
                     " [15, 25, 44, 40, 11, 27, 48, 21, 33],\n",
                     " [15, 25, 44, 40, 11, 10, 33],\n",
                     " [15, 25, 44, 40, 21, 33],\n",
                     " [15, 25, 44, 40, 21, 10, 33],\n",
                     " [15, 25, 38, 21, 40, 30, 11, 10, 33],\n",
                     " [15, 25, 38, 47, 22, 36, 30, 11, 10, 33],\n",
                     " [15, 25, 38, 21, 10, 33],\n",
                     " [15, 25, 38, 21, 40, 10, 33],\n",
                     " [15, 25, 45, 40, 30, 11, 10, 33],\n",
                     " [15, 25, 45, 21, 40, 30, 11, 10, 33],\n",
                     " [15, 25, 45, 40, 10, 33],\n",
                     " [15, 25, 45, 21, 10, 33],\n",
                     " [15, 25, 45, 21, 40, 10, 33],\n",
                     " [15, 4, 11, 10, 33],\n",
                     " [15, 25, 4, 11, 10, 33],\n",
                     " [15, 4, 11, 27, 48, 21, 33],\n",
                     " [15, 4, 11, 6, 40, 10, 33],\n",
                     " [15, 25, 11, 10, 33],\n",
                     " [15, 25, 11, 27, 48, 21, 33],\n",
                     " [15, 25, 11, 6, 40, 10, 33],\n",
                     " [15, 25, 41, 40, 30, 11, 10, 33],\n",
                     " [15, 25, 41, 40, 10, 33],\n",
                     " [15, 25, 41, 40, 11, 10, 33],\n",
                     " [15, 35, 22, 24, 33],\n",
                     " [15, 25, 47, 22, 24, 33],\n",
                     " [15, 25, 5, 22, 24, 33],\n",
                     " [15, 4, 11, 6, 22, 24, 33],\n",
                     " [15, 25, 39, 22, 24, 33],\n",
                     " [15, 32, 48, 19, 35, 22, 24, 33],\n",
                     " [15, 25, 0, 48, 19, 35, 22, 24, 33],\n",
                     " [15, 25, 48, 38, 47, 22, 24, 33],\n",
                     " [15, 4, 11, 47, 22, 24, 33],\n",
                     " [15, 25, 12, 47, 22, 24, 33],\n",
                     " [15, 14, 47, 22, 24, 33],\n",
                     " [15, 25, 44, 32, 48, 19, 35, 22, 24, 33],\n",
                     " [15, 35, 21, 5, 22, 24, 33],\n",
                     " [15, 25, 48, 19, 35, 22, 24, 33],\n",
                     " [15, 25, 44, 40, 11, 19, 35, 22, 24, 33],\n",
                     " [15, 25, 38, 47, 22, 24, 33],\n",
                     " [15, 4, 11, 19, 35, 22, 24, 33],\n",
                     " [15, 25, 11, 19, 35, 22, 24, 33],\n",
                     " [15, 25, 11, 6, 22, 24, 33],\n",
                     " [15, 25, 11, 47, 22, 24, 33],\n",
                     " [15, 25, 40, 30, 11, 10, 33],\n",
                     " [15, 25, 40, 10, 33],\n",
                     " [15, 25, 40, 30, 11, 27, 48, 21, 33],\n",
                     " [15, 25, 40, 11, 27, 48, 21, 33],\n",
                     " [15, 25, 40, 11, 10, 33],\n",
                     " [15, 25, 40, 21, 33],\n",
                     " [15, 25, 40, 21, 10, 33],\n",
                     " [15, 25, 40, 11, 19, 35, 22, 24, 33],\n",
                     " [15, 25, 48, 21, 33],\n",
                     " [15, 25, 48, 21, 40, 30, 11, 10, 33],\n",
                     " [15, 25, 48, 19, 35, 21, 33],\n",
                     " [15, 25, 48, 21, 10, 33],\n",
                     " [15, 25, 48, 21, 40, 10, 33],\n",
                     " [15, 25, 0, 21, 40, 30, 11, 10, 33],\n",
                     " [15, 25, 0, 48, 21, 40, 30, 11, 10, 33],\n",
                     " [15, 25, 0, 21, 10, 33],\n",
                     " [15, 25, 0, 21, 40, 10, 33],\n",
                     " [15, 25, 0, 48, 21, 10, 33],\n",
                     " [15, 25, 0, 48, 21, 40, 10, 33],\n",
                     " [15, 35, 0, 21, 40, 30, 11, 10, 33],\n",
                     " [15, 35, 0, 48, 21, 40, 30, 11, 10, 33],\n",
                     " [15, 35, 0, 21, 10, 33],\n",
                     " [15, 35, 0, 21, 40, 10, 33],\n",
                     " [15, 35, 0, 48, 21, 10, 33],\n",
                     " [15, 35, 0, 48, 21, 40, 10, 33],\n",
                     " [15, 32, 48, 19, 35, 10, 33],\n",
                     " [15, 25, 0, 48, 19, 35, 10, 33],\n",
                     " [15, 25, 44, 32, 48, 19, 35, 10, 33],\n",
                     " [15, 25, 48, 19, 35, 10, 33],\n",
                     " [15, 25, 44, 40, 11, 19, 35, 10, 33],\n",
                     " [15, 4, 11, 19, 35, 10, 33],\n",
                     " [15, 25, 11, 19, 35, 10, 33],\n",
                     " [15, 25, 40, 11, 19, 35, 10, 33],\n",
                     " [15, 35, 21, 33],\n",
                     " [15, 35, 21, 40, 30, 11, 10, 33],\n",
                     " [15, 32, 48, 19, 35, 21, 33],\n",
                     " [15, 25, 0, 48, 19, 35, 21, 33],\n",
                     " [15, 25, 44, 32, 48, 19, 35, 21, 33],\n",
                     " [15, 35, 21, 10, 33],\n",
                     " [15, 35, 21, 40, 10, 33],\n",
                     " [15, 25, 44, 40, 11, 19, 35, 21, 33],\n",
                     " [15, 4, 11, 19, 35, 21, 33],\n",
                     " [15, 25, 11, 19, 35, 21, 33],\n",
                     " [15, 25, 40, 11, 19, 35, 21, 33],\n",
                     " [15, 21, 33],\n",
                     " [15, 21, 5, 40, 30, 11, 10, 33],\n",
                     " [15, 21, 5, 22, 36, 30, 11, 10, 33],\n",
                     " [15, 21, 5, 48, 19, 35, 22, 36, 30, 11, 10, 33],\n",
                     " [15, 21, 5, 40, 10, 33],\n",
                     " [15, 21, 5, 40, 11, 10, 33],\n",
                     " ...]"
                  ]
               },
               "execution_count": 5,
               "metadata": {},
               "output_type": "execute_result"
            }
         ],
         "source": [
            "Network.loops_rev_repo"
         ]
      },
      {
         "cell_type": "code",
         "execution_count": 6,
         "metadata": {},
         "outputs": [
            {
               "name": "stdout",
               "output_type": "stream",
               "text": [
                  "18\n",
                  "2\n",
                  "9.411325805448131\n"
               ]
            }
         ],
         "source": [
            "max = 0 \n",
            "min = 19\n",
            "sum = 0\n",
            "for chain in Network.chains_rev_repo:\n",
            "   if  len(chain) > max:\n",
            "      max = len(chain)\n",
            "   if  len(chain) < min:\n",
            "      min = len(chain)\n",
            "   sum +=len(chain)\n",
            "\n",
            "print(max)\n",
            "print(min)\n",
            "print(sum/len(Network.chains_rev_repo))"
         ]
      },
      {
         "cell_type": "code",
         "execution_count": 7,
         "metadata": {},
         "outputs": [
            {
               "data": {
                  "text/plain": [
                     "[[42, 15, 25, 14, 47, 22, 44],\n",
                     " [42, 15, 25, 47, 22, 44],\n",
                     " [42, 15, 3, 22, 44],\n",
                     " [42, 15, 3, 22, 44],\n",
                     " [42, 15, 24, 33, 10, 3, 22, 44],\n",
                     " [23, 45, 1, 33, 2, 44],\n",
                     " [42, 15, 25, 45, 1, 33, 2, 44],\n",
                     " [42, 15, 25, 45, 21, 5, 22, 44],\n",
                     " [42, 15, 25, 11, 6, 3, 22, 44],\n",
                     " [42, 15, 4, 22, 44],\n",
                     " [42, 15, 25, 45, 1, 33, 2, 44],\n",
                     " [42, 15, 25, 45, 21, 5, 22, 44],\n",
                     " [42, 15, 25, 11, 6, 3, 22, 44],\n",
                     " [42, 15, 25, 11, 6, 3, 22, 44],\n",
                     " [42, 15, 25, 5, 22, 44],\n",
                     " [42, 15, 25, 14, 47, 22, 44],\n",
                     " [42, 15, 25, 11, 6, 22, 44],\n",
                     " [42, 15, 25, 5, 22, 44],\n",
                     " [42, 15, 24, 33, 10, 3, 22, 44],\n",
                     " [13, 29, 25, 45, 1, 33, 2, 44],\n",
                     " [40, 15, 7, 47, 41, 25, 45, 1, 33, 2, 44],\n",
                     " [31, 25, 45, 1, 33, 2, 44],\n",
                     " [42, 15, 24, 33, 10, 3, 22, 44],\n",
                     " [42, 7, 47, 22, 15, 25, 45, 1, 33, 2, 44],\n",
                     " [31, 25, 40, 15, 0, 48, 16, 3, 22, 44],\n",
                     " [31, 25, 40, 15, 0, 48, 16, 3, 22, 44],\n",
                     " [40, 15, 7, 47, 41, 25, 45, 1, 33, 2, 44],\n",
                     " [40, 15, 7, 47, 41, 25, 45, 21, 5, 22, 44],\n",
                     " [40, 15, 7, 47, 41, 25, 5, 22, 44],\n",
                     " [40, 15, 7, 47, 22, 25, 45, 1, 33, 2, 44],\n",
                     " [24, 18, 34, 25, 45, 1, 33, 2, 44],\n",
                     " [23, 9, 40, 1, 33, 2, 44],\n",
                     " [23, 40, 1, 33, 2, 44],\n",
                     " [45, 0, 25, 40, 1, 33, 2, 44],\n",
                     " [22, 6, 16, 46, 41, 40, 1, 33, 2, 44],\n",
                     " [13, 29, 25, 31, 40, 1, 33, 2, 44],\n",
                     " [13, 29, 25, 5, 40, 1, 33, 2, 44],\n",
                     " [13, 29, 25, 11, 6, 40, 1, 33, 2, 44],\n",
                     " [13, 29, 25, 41, 40, 1, 33, 2, 44],\n",
                     " [13, 29, 25, 40, 1, 33, 2, 44],\n",
                     " [26, 11, 15, 7, 47, 41, 25, 31, 40, 1, 33, 2, 44],\n",
                     " [26, 11, 15, 7, 47, 41, 25, 5, 40, 1, 33, 2, 44],\n",
                     " [26, 11, 15, 7, 47, 41, 25, 40, 1, 33, 2, 44],\n",
                     " [31, 25, 5, 40, 1, 33, 2, 44],\n",
                     " [31, 25, 11, 6, 40, 1, 33, 2, 44],\n",
                     " [31, 25, 41, 40, 1, 33, 2, 44],\n",
                     " [31, 25, 40, 1, 33, 2, 44],\n",
                     " [21, 32, 0, 25, 31, 40, 1, 33, 2, 44],\n",
                     " [45, 0, 25, 11, 40, 1, 33, 2, 44],\n",
                     " [13, 29, 25, 11, 40, 1, 33, 2, 44],\n",
                     " [31, 25, 11, 40, 1, 33, 2, 44],\n",
                     " [26, 11, 15, 7, 47, 22, 25, 31, 40, 1, 33, 2, 44],\n",
                     " [26, 11, 15, 7, 47, 22, 25, 5, 40, 1, 33, 2, 44],\n",
                     " [26, 11, 15, 7, 47, 22, 25, 41, 40, 1, 33, 2, 44],\n",
                     " [26, 11, 15, 7, 47, 22, 25, 40, 1, 33, 2, 44],\n",
                     " [24, 18, 34, 25, 31, 40, 1, 33, 2, 44],\n",
                     " [24, 18, 34, 25, 5, 40, 1, 33, 2, 44],\n",
                     " [24, 18, 34, 25, 41, 40, 1, 33, 2, 44],\n",
                     " [24, 18, 34, 25, 40, 1, 33, 2, 44],\n",
                     " [45, 0, 25, 12, 15, 3, 22, 44],\n",
                     " [45, 0, 25, 12, 15, 24, 33, 10, 3, 22, 44],\n",
                     " [22, 12, 15, 25, 45, 1, 33, 2, 44],\n",
                     " [12, 15, 25, 45, 21, 5, 22, 44],\n",
                     " [45, 0, 25, 12, 15, 4, 22, 44],\n",
                     " [12, 15, 25, 5, 22, 44],\n",
                     " [42, 15, 25, 14, 47, 22, 44],\n",
                     " [42, 15, 25, 47, 22, 44],\n",
                     " [42, 15, 3, 22, 44],\n",
                     " [42, 15, 24, 33, 10, 3, 22, 44],\n",
                     " [42, 15, 25, 45, 1, 33, 2, 44],\n",
                     " [42, 15, 25, 45, 21, 5, 22, 44],\n",
                     " [42, 15, 25, 11, 6, 3, 22, 44],\n",
                     " [42, 15, 4, 22, 44],\n",
                     " [42, 15, 25, 5, 22, 44],\n",
                     " [42, 15, 25, 11, 6, 22, 44],\n",
                     " [23, 15, 3, 22, 44],\n",
                     " [23, 15, 24, 33, 10, 3, 22, 44],\n",
                     " [23, 15, 4, 22, 44],\n",
                     " [27, 30, 15, 25, 14, 47, 22, 44],\n",
                     " [27, 30, 15, 25, 47, 22, 44],\n",
                     " [27, 30, 15, 3, 22, 44],\n",
                     " [27, 30, 15, 24, 33, 10, 3, 22, 44],\n",
                     " [27, 30, 15, 25, 45, 21, 5, 22, 44],\n",
                     " [27, 30, 15, 4, 22, 44],\n",
                     " [27, 30, 15, 25, 5, 22, 44],\n",
                     " [45, 0, 25, 40, 11, 15, 3, 22, 44],\n",
                     " [45, 0, 25, 40, 11, 15, 24, 33, 10, 3, 22, 44],\n",
                     " [40, 11, 15, 25, 45, 1, 33, 2, 44],\n",
                     " [40, 11, 15, 25, 45, 21, 5, 22, 44],\n",
                     " [40, 11, 15, 25, 5, 22, 44],\n",
                     " [49, 14, 15, 25, 47, 22, 44],\n",
                     " [49, 14, 15, 3, 22, 44],\n",
                     " [49, 14, 15, 24, 33, 10, 3, 22, 44],\n",
                     " [49, 14, 15, 25, 45, 1, 33, 2, 44],\n",
                     " [49, 14, 15, 25, 45, 21, 5, 22, 44],\n",
                     " [49, 14, 15, 25, 11, 6, 3, 22, 44],\n",
                     " [49, 14, 15, 4, 22, 44],\n",
                     " [49, 14, 15, 25, 5, 22, 44],\n",
                     " [49, 14, 15, 25, 11, 6, 22, 44],\n",
                     " [13, 33, 15, 25, 14, 47, 22, 44],\n",
                     " [13, 33, 15, 25, 47, 22, 44],\n",
                     " [13, 33, 15, 3, 22, 44],\n",
                     " [13, 33, 15, 25, 45, 21, 5, 22, 44],\n",
                     " [13, 33, 15, 4, 22, 44],\n",
                     " [13, 33, 15, 25, 5, 22, 44],\n",
                     " [45, 0, 25, 40, 6, 22, 47, 1, 33, 2, 44],\n",
                     " [26, 11, 15, 7, 47, 41, 25, 31, 40, 6, 3, 22, 44],\n",
                     " [26, 11, 15, 7, 47, 41, 25, 5, 40, 6, 3, 22, 44],\n",
                     " [26, 11, 15, 7, 47, 41, 25, 40, 6, 3, 22, 44],\n",
                     " [26, 11, 15, 7, 47, 41, 25, 31, 40, 6, 22, 44],\n",
                     " [26, 11, 15, 7, 47, 41, 25, 5, 40, 6, 22, 44],\n",
                     " [26, 11, 15, 7, 47, 41, 25, 40, 6, 22, 44],\n",
                     " [24, 18, 34, 25, 45, 1, 33, 2, 44],\n",
                     " [24, 18, 34, 25, 5, 22, 47, 1, 33, 2, 44],\n",
                     " [24, 18, 34, 25, 31, 40, 1, 33, 2, 44],\n",
                     " [24, 18, 34, 25, 5, 40, 1, 33, 2, 44],\n",
                     " [24, 18, 34, 25, 41, 40, 1, 33, 2, 44],\n",
                     " [24, 18, 34, 25, 40, 1, 33, 2, 44],\n",
                     " [31, 25, 45, 1, 33, 2, 44],\n",
                     " [31, 25, 5, 22, 47, 1, 33, 2, 44],\n",
                     " [31, 25, 39, 22, 47, 1, 33, 2, 44],\n",
                     " [31, 25, 5, 40, 1, 33, 2, 44],\n",
                     " [31, 25, 11, 6, 40, 1, 33, 2, 44],\n",
                     " [31, 25, 41, 40, 1, 33, 2, 44],\n",
                     " [31, 25, 40, 1, 33, 2, 44],\n",
                     " [31, 25, 11, 40, 1, 33, 2, 44],\n",
                     " [49, 25, 45, 1, 33, 2, 44],\n",
                     " [49, 25, 5, 22, 47, 1, 33, 2, 44],\n",
                     " [49, 25, 39, 22, 47, 1, 33, 2, 44],\n",
                     " [49, 25, 31, 40, 1, 33, 2, 44],\n",
                     " [49, 25, 5, 40, 1, 33, 2, 44],\n",
                     " [49, 25, 11, 6, 40, 1, 33, 2, 44],\n",
                     " [49, 25, 41, 40, 1, 33, 2, 44],\n",
                     " [49, 25, 40, 1, 33, 2, 44],\n",
                     " [49, 25, 11, 40, 1, 33, 2, 44],\n",
                     " [49, 26, 25, 45, 1, 33, 2, 44],\n",
                     " [49, 26, 25, 5, 22, 47, 1, 33, 2, 44],\n",
                     " [13, 29, 25, 45, 1, 33, 2, 44],\n",
                     " [13, 29, 25, 5, 22, 47, 1, 33, 2, 44],\n",
                     " [13, 29, 25, 39, 22, 47, 1, 33, 2, 44],\n",
                     " [13, 29, 25, 31, 40, 1, 33, 2, 44],\n",
                     " [13, 29, 25, 5, 40, 1, 33, 2, 44],\n",
                     " [13, 29, 25, 11, 6, 40, 1, 33, 2, 44],\n",
                     " [13, 29, 25, 41, 40, 1, 33, 2, 44],\n",
                     " [13, 29, 25, 40, 1, 33, 2, 44],\n",
                     " [13, 29, 25, 11, 40, 1, 33, 2, 44],\n",
                     " [49, 27, 25, 45, 1, 33, 2, 44],\n",
                     " [49, 27, 25, 5, 22, 47, 1, 33, 2, 44],\n",
                     " [49, 27, 25, 39, 22, 47, 1, 33, 2, 44],\n",
                     " [49, 27, 25, 31, 40, 1, 33, 2, 44],\n",
                     " [49, 27, 25, 5, 40, 1, 33, 2, 44],\n",
                     " [49, 27, 25, 41, 40, 1, 33, 2, 44],\n",
                     " [49, 27, 25, 40, 1, 33, 2, 44],\n",
                     " [49, 39, 25, 45, 1, 33, 2, 44],\n",
                     " [49, 39, 25, 5, 22, 47, 1, 33, 2, 44],\n",
                     " [49, 39, 25, 31, 40, 1, 33, 2, 44],\n",
                     " [49, 39, 25, 5, 40, 1, 33, 2, 44],\n",
                     " [49, 39, 25, 11, 6, 40, 1, 33, 2, 44],\n",
                     " [49, 39, 25, 41, 40, 1, 33, 2, 44],\n",
                     " [49, 39, 25, 40, 1, 33, 2, 44],\n",
                     " [49, 39, 25, 11, 40, 1, 33, 2, 44],\n",
                     " [43, 5, 25, 45, 1, 33, 2, 44],\n",
                     " [43, 5, 25, 39, 22, 47, 1, 33, 2, 44],\n",
                     " [43, 5, 25, 31, 40, 1, 33, 2, 44],\n",
                     " [43, 5, 25, 11, 6, 40, 1, 33, 2, 44],\n",
                     " [43, 5, 25, 41, 40, 1, 33, 2, 44],\n",
                     " [43, 5, 25, 40, 1, 33, 2, 44],\n",
                     " [43, 5, 25, 11, 40, 1, 33, 2, 44],\n",
                     " [23, 20, 15, 48, 46, 25, 5, 40, 11, 6, 3, 22, 44],\n",
                     " [43, 5, 48, 46, 25, 45, 1, 33, 2, 44],\n",
                     " [40, 15, 48, 46, 25, 45, 21, 5, 22, 44],\n",
                     " [40, 15, 48, 46, 25, 5, 22, 44],\n",
                     " [23, 20, 15, 48, 46, 25, 5, 40, 11, 6, 22, 44],\n",
                     " [40, 15, 48, 46, 25, 5, 22, 47, 1, 33, 2, 44],\n",
                     " [43, 5, 48, 46, 25, 39, 22, 47, 1, 33, 2, 44],\n",
                     " [43, 5, 48, 46, 25, 31, 40, 1, 33, 2, 44],\n",
                     " [26, 11, 15, 48, 46, 25, 5, 40, 1, 33, 2, 44],\n",
                     " [43, 5, 48, 46, 25, 11, 6, 40, 1, 33, 2, 44],\n",
                     " [43, 5, 48, 46, 25, 41, 40, 1, 33, 2, 44],\n",
                     " [43, 5, 48, 46, 25, 40, 1, 33, 2, 44],\n",
                     " [43, 5, 48, 46, 25, 11, 40, 1, 33, 2, 44],\n",
                     " [26, 11, 15, 48, 46, 25, 5, 40, 6, 3, 22, 44],\n",
                     " [26, 11, 15, 48, 46, 25, 5, 40, 6, 22, 44],\n",
                     " [43, 34, 25, 47, 22, 24, 18, 45, 2, 44],\n",
                     " [43, 34, 25, 5, 22, 24, 18, 45, 2, 44],\n",
                     " [43, 34, 25, 14, 47, 22, 24, 18, 45, 2, 44],\n",
                     " [42, 15, 35, 21, 33, 2, 44],\n",
                     " [49, 35, 21, 33, 2, 44],\n",
                     " [45, 0, 25, 12, 37, 22, 19, 35, 21, 33, 2, 44],\n",
                     " [43, 5, 22, 19, 35, 21, 33, 2, 44],\n",
                     " [31, 32, 0, 25, 47, 22, 19, 35, 21, 33, 2, 44],\n",
                     " [49, 22, 19, 35, 21, 33, 2, 44],\n",
                     " [42, 19, 35, 21, 33, 2, 44],\n",
                     " [45, 0, 25, 40, 35, 21, 33, 2, 44],\n",
                     " [26, 11, 10, 3, 24, 18, 35, 21, 33, 2, 44],\n",
                     " [42, 15, 24, 18, 35, 21, 33, 2, 44],\n",
                     " [42, 15, 18, 35, 21, 33, 2, 44],\n",
                     " [49, 18, 35, 21, 33, 2, 44],\n",
                     " [49, 12, 18, 35, 21, 33, 2, 44],\n",
                     " [42, 15, 25, 12, 18, 35, 21, 33, 2, 44],\n",
                     " [24, 18, 35, 21, 33, 2, 44],\n",
                     " [45, 0, 25, 12, 37, 22, 24, 18, 35, 21, 33, 2, 44],\n",
                     " [43, 5, 22, 24, 18, 35, 21, 33, 2, 44],\n",
                     " [31, 32, 0, 25, 47, 22, 24, 18, 35, 21, 33, 2, 44],\n",
                     " [49, 22, 24, 18, 35, 21, 33, 2, 44],\n",
                     " [13, 29, 25, 12, 18, 35, 21, 33, 2, 44],\n",
                     " [31, 25, 12, 18, 35, 21, 33, 2, 44],\n",
                     " [45, 0, 25, 40, 35, 21, 33, 2, 44],\n",
                     " [31, 32, 0, 25, 47, 22, 15, 35, 21, 33, 2, 44],\n",
                     " [31, 32, 0, 25, 47, 22, 15, 24, 18, 35, 21, 33, 2, 44],\n",
                     " [31, 32, 0, 25, 47, 22, 15, 18, 35, 21, 33, 2, 44],\n",
                     " [43, 34, 25, 12, 18, 35, 21, 33, 2, 44],\n",
                     " [42, 19, 35, 21, 33, 2, 44],\n",
                     " [49, 39, 22, 19, 35, 21, 33, 2, 44],\n",
                     " [42, 15, 25, 47, 22, 19, 35, 21, 33, 2, 44],\n",
                     " [42, 15, 25, 5, 22, 19, 35, 21, 33, 2, 44],\n",
                     " [42, 15, 25, 39, 22, 19, 35, 21, 33, 2, 44],\n",
                     " [42, 15, 14, 47, 22, 19, 35, 21, 33, 2, 44],\n",
                     " [49, 14, 47, 22, 19, 35, 21, 33, 2, 44],\n",
                     " [42, 15, 25, 14, 47, 22, 19, 35, 21, 33, 2, 44],\n",
                     " [13, 29, 25, 47, 22, 19, 35, 21, 33, 2, 44],\n",
                     " [13, 29, 25, 5, 22, 19, 35, 21, 33, 2, 44],\n",
                     " [13, 29, 25, 39, 22, 19, 35, 21, 33, 2, 44],\n",
                     " [13, 29, 25, 14, 47, 22, 19, 35, 21, 33, 2, 44],\n",
                     " [23, 20, 41, 25, 47, 22, 19, 35, 21, 33, 2, 44],\n",
                     " [40, 15, 7, 47, 41, 25, 5, 22, 19, 35, 21, 33, 2, 44],\n",
                     " [40, 15, 7, 47, 41, 25, 39, 22, 19, 35, 21, 33, 2, 44],\n",
                     " [23, 20, 41, 25, 14, 47, 22, 19, 35, 21, 33, 2, 44],\n",
                     " [31, 25, 47, 22, 19, 35, 21, 33, 2, 44],\n",
                     " [31, 25, 5, 22, 19, 35, 21, 33, 2, 44],\n",
                     " [31, 25, 39, 22, 19, 35, 21, 33, 2, 44],\n",
                     " [31, 25, 14, 47, 22, 19, 35, 21, 33, 2, 44],\n",
                     " [24, 18, 34, 25, 47, 22, 19, 35, 21, 33, 2, 44],\n",
                     " [24, 18, 34, 25, 5, 22, 19, 35, 21, 33, 2, 44],\n",
                     " [24, 18, 34, 25, 14, 47, 22, 19, 35, 21, 33, 2, 44],\n",
                     " [45, 0, 25, 12, 15, 35, 21, 33, 2, 44],\n",
                     " [45, 0, 25, 12, 15, 24, 18, 35, 21, 33, 2, 44],\n",
                     " [45, 0, 25, 12, 15, 18, 35, 21, 33, 2, 44],\n",
                     " [12, 15, 25, 5, 22, 19, 35, 21, 33, 2, 44],\n",
                     " [12, 15, 25, 39, 22, 19, 35, 21, 33, 2, 44],\n",
                     " [23, 15, 35, 21, 33, 2, 44],\n",
                     " [23, 15, 24, 18, 35, 21, 33, 2, 44],\n",
                     " [23, 15, 18, 35, 21, 33, 2, 44],\n",
                     " [23, 15, 14, 47, 22, 19, 35, 21, 33, 2, 44],\n",
                     " [27, 30, 15, 35, 21, 33, 2, 44],\n",
                     " [27, 30, 15, 24, 18, 35, 21, 33, 2, 44],\n",
                     " [27, 30, 15, 18, 35, 21, 33, 2, 44],\n",
                     " [27, 30, 15, 25, 12, 18, 35, 21, 33, 2, 44],\n",
                     " [27, 30, 15, 25, 47, 22, 19, 35, 21, 33, 2, 44],\n",
                     " [27, 30, 15, 25, 5, 22, 19, 35, 21, 33, 2, 44],\n",
                     " [27, 30, 15, 25, 39, 22, 19, 35, 21, 33, 2, 44],\n",
                     " [27, 30, 15, 14, 47, 22, 19, 35, 21, 33, 2, 44],\n",
                     " [27, 30, 15, 25, 14, 47, 22, 19, 35, 21, 33, 2, 44],\n",
                     " [45, 0, 25, 40, 11, 15, 35, 21, 33, 2, 44],\n",
                     " [45, 0, 25, 40, 11, 15, 24, 18, 35, 21, 33, 2, 44],\n",
                     " [45, 0, 25, 40, 11, 15, 18, 35, 21, 33, 2, 44],\n",
                     " [49, 14, 15, 35, 21, 33, 2, 44],\n",
                     " [49, 14, 15, 24, 18, 35, 21, 33, 2, 44],\n",
                     " [49, 14, 15, 18, 35, 21, 33, 2, 44],\n",
                     " [49, 14, 15, 25, 47, 22, 19, 35, 21, 33, 2, 44],\n",
                     " [49, 14, 15, 25, 5, 22, 19, 35, 21, 33, 2, 44],\n",
                     " [49, 14, 15, 25, 39, 22, 19, 35, 21, 33, 2, 44],\n",
                     " [13, 33, 15, 35, 21, 2, 44],\n",
                     " [13, 33, 15, 24, 18, 35, 21, 2, 44],\n",
                     " [13, 33, 15, 18, 35, 21, 2, 44],\n",
                     " [13, 33, 15, 25, 12, 18, 35, 21, 2, 44],\n",
                     " [13, 33, 15, 25, 47, 22, 19, 35, 21, 2, 44],\n",
                     " [13, 33, 15, 25, 5, 22, 19, 35, 21, 2, 44],\n",
                     " [13, 33, 15, 25, 39, 22, 19, 35, 21, 2, 44],\n",
                     " [13, 33, 15, 14, 47, 22, 19, 35, 21, 2, 44],\n",
                     " [13, 33, 15, 25, 14, 47, 22, 19, 35, 21, 2, 44],\n",
                     " [49, 25, 12, 18, 35, 21, 33, 2, 44],\n",
                     " [49, 25, 47, 22, 19, 35, 21, 33, 2, 44],\n",
                     " [49, 25, 5, 22, 19, 35, 21, 33, 2, 44],\n",
                     " [49, 25, 39, 22, 19, 35, 21, 33, 2, 44],\n",
                     " [49, 25, 14, 47, 22, 19, 35, 21, 33, 2, 44],\n",
                     " [49, 26, 25, 12, 18, 35, 21, 33, 2, 44],\n",
                     " [49, 26, 25, 47, 22, 19, 35, 21, 33, 2, 44],\n",
                     " [49, 26, 25, 5, 22, 19, 35, 21, 33, 2, 44],\n",
                     " [49, 26, 25, 14, 47, 22, 19, 35, 21, 33, 2, 44],\n",
                     " [49, 27, 25, 12, 18, 35, 21, 33, 2, 44],\n",
                     " [49, 27, 25, 47, 22, 19, 35, 21, 33, 2, 44],\n",
                     " [49, 27, 25, 5, 22, 19, 35, 21, 33, 2, 44],\n",
                     " [49, 27, 25, 39, 22, 19, 35, 21, 33, 2, 44],\n",
                     " [49, 27, 25, 14, 47, 22, 19, 35, 21, 33, 2, 44],\n",
                     " [49, 39, 25, 12, 18, 35, 21, 33, 2, 44],\n",
                     " [49, 39, 25, 47, 22, 19, 35, 21, 33, 2, 44],\n",
                     " [49, 39, 25, 5, 22, 19, 35, 21, 33, 2, 44],\n",
                     " [49, 39, 25, 14, 47, 22, 19, 35, 21, 33, 2, 44],\n",
                     " [43, 5, 25, 12, 18, 35, 21, 33, 2, 44],\n",
                     " [43, 5, 25, 47, 22, 19, 35, 21, 33, 2, 44],\n",
                     " [43, 5, 25, 39, 22, 19, 35, 21, 33, 2, 44],\n",
                     " [43, 5, 25, 14, 47, 22, 19, 35, 21, 33, 2, 44],\n",
                     " [43, 5, 48, 46, 25, 12, 18, 35, 21, 33, 2, 44],\n",
                     " [43, 5, 48, 46, 25, 47, 22, 19, 35, 21, 33, 2, 44],\n",
                     " [40, 15, 48, 46, 25, 5, 22, 19, 35, 21, 33, 2, 44],\n",
                     " [43, 5, 48, 46, 25, 39, 22, 19, 35, 21, 33, 2, 44],\n",
                     " [43, 5, 48, 46, 25, 14, 47, 22, 19, 35, 21, 33, 2, 44],\n",
                     " [26, 11, 10, 3, 24, 25, 12, 18, 35, 21, 33, 2, 44],\n",
                     " [26, 11, 10, 3, 24, 25, 47, 22, 19, 35, 21, 33, 2, 44],\n",
                     " [26, 11, 10, 3, 24, 25, 5, 22, 19, 35, 21, 33, 2, 44],\n",
                     " [26, 11, 10, 3, 24, 25, 39, 22, 19, 35, 21, 33, 2, 44],\n",
                     " [26, 11, 10, 3, 24, 25, 14, 47, 22, 19, 35, 21, 33, 2, 44],\n",
                     " [42, 15, 25, 14, 47, 22, 44],\n",
                     " [42, 15, 25, 47, 22, 44],\n",
                     " [21, 32, 0, 25, 47, 22, 24, 33, 2, 44],\n",
                     " [31, 32, 0, 25, 47, 22, 19, 35, 21, 33, 2, 44],\n",
                     " [42, 15, 14, 47, 22, 44],\n",
                     " [23, 15, 14, 47, 22, 44],\n",
                     " [27, 30, 15, 25, 14, 47, 22, 44],\n",
                     " [27, 30, 15, 25, 47, 22, 44],\n",
                     " [27, 30, 15, 14, 47, 22, 44],\n",
                     " [49, 14, 15, 25, 47, 22, 44],\n",
                     " [13, 33, 15, 25, 14, 47, 22, 44],\n",
                     " [13, 33, 15, 25, 47, 22, 44],\n",
                     " [13, 33, 15, 14, 47, 22, 44],\n",
                     " [43, 34, 25, 47, 22, 24, 18, 45, 2, 44],\n",
                     " [43, 34, 25, 14, 47, 22, 24, 18, 45, 2, 44],\n",
                     " [31, 32, 0, 25, 47, 22, 24, 18, 35, 21, 33, 2, 44],\n",
                     " [42, 15, 25, 47, 22, 19, 35, 21, 33, 2, 44],\n",
                     " [42, 15, 14, 47, 22, 19, 35, 21, 33, 2, 44],\n",
                     " [49, 14, 47, 22, 19, 35, 21, 33, 2, 44],\n",
                     " [42, 15, 25, 14, 47, 22, 19, 35, 21, 33, 2, 44],\n",
                     " [13, 29, 25, 47, 22, 19, 35, 21, 33, 2, 44],\n",
                     " [13, 29, 25, 14, 47, 22, 19, 35, 21, 33, 2, 44],\n",
                     " [23, 20, 41, 25, 47, 22, 19, 35, 21, 33, 2, 44],\n",
                     " [23, 20, 41, 25, 14, 47, 22, 19, 35, 21, 33, 2, 44],\n",
                     " [31, 25, 47, 22, 19, 35, 21, 33, 2, 44],\n",
                     " [31, 25, 14, 47, 22, 19, 35, 21, 33, 2, 44],\n",
                     " [24, 18, 34, 25, 47, 22, 19, 35, 21, 33, 2, 44],\n",
                     " [24, 18, 34, 25, 14, 47, 22, 19, 35, 21, 33, 2, 44],\n",
                     " [23, 15, 14, 47, 22, 19, 35, 21, 33, 2, 44],\n",
                     " [27, 30, 15, 25, 47, 22, 19, 35, 21, 33, 2, 44],\n",
                     " [27, 30, 15, 14, 47, 22, 19, 35, 21, 33, 2, 44],\n",
                     " [27, 30, 15, 25, 14, 47, 22, 19, 35, 21, 33, 2, 44],\n",
                     " [49, 14, 15, 25, 47, 22, 19, 35, 21, 33, 2, 44],\n",
                     " [13, 33, 15, 25, 47, 22, 19, 35, 21, 2, 44],\n",
                     " [13, 33, 15, 14, 47, 22, 19, 35, 21, 2, 44],\n",
                     " [13, 33, 15, 25, 14, 47, 22, 19, 35, 21, 2, 44],\n",
                     " [49, 25, 47, 22, 19, 35, 21, 33, 2, 44],\n",
                     " [49, 25, 14, 47, 22, 19, 35, 21, 33, 2, 44],\n",
                     " [49, 26, 25, 47, 22, 19, 35, 21, 33, 2, 44],\n",
                     " [49, 26, 25, 14, 47, 22, 19, 35, 21, 33, 2, 44],\n",
                     " [49, 27, 25, 47, 22, 19, 35, 21, 33, 2, 44],\n",
                     " [49, 27, 25, 14, 47, 22, 19, 35, 21, 33, 2, 44],\n",
                     " [49, 39, 25, 47, 22, 19, 35, 21, 33, 2, 44],\n",
                     " [49, 39, 25, 14, 47, 22, 19, 35, 21, 33, 2, 44],\n",
                     " [43, 5, 25, 47, 22, 19, 35, 21, 33, 2, 44],\n",
                     " [43, 5, 25, 14, 47, 22, 19, 35, 21, 33, 2, 44],\n",
                     " [43, 5, 48, 46, 25, 47, 22, 19, 35, 21, 33, 2, 44],\n",
                     " [43, 5, 48, 46, 25, 14, 47, 22, 19, 35, 21, 33, 2, 44],\n",
                     " [26, 11, 10, 3, 24, 25, 47, 22, 19, 35, 21, 33, 2, 44],\n",
                     " [26, 11, 10, 3, 24, 25, 14, 47, 22, 19, 35, 21, 33, 2, 44],\n",
                     " [31, 25, 40, 15, 0, 48, 16, 3, 22, 44],\n",
                     " [42, 15, 35, 10, 3, 22, 44],\n",
                     " [42, 15, 25, 11, 10, 3, 22, 44],\n",
                     " [45, 0, 25, 12, 15, 35, 10, 3, 22, 44],\n",
                     " [23, 15, 35, 10, 3, 22, 44],\n",
                     " [27, 30, 15, 35, 10, 3, 22, 44],\n",
                     " [45, 0, 25, 40, 11, 15, 35, 10, 3, 22, 44],\n",
                     " [49, 14, 15, 35, 10, 3, 22, 44],\n",
                     " [49, 14, 15, 25, 11, 10, 3, 22, 44],\n",
                     " [13, 33, 15, 35, 10, 3, 22, 44],\n",
                     " [13, 33, 15, 25, 11, 10, 3, 22, 44],\n",
                     " [26, 11, 15, 48, 46, 25, 5, 40, 10, 3, 22, 44],\n",
                     " [23, 20, 15, 48, 46, 25, 5, 40, 11, 10, 3, 22, 44],\n",
                     " [42, 15, 45, 1, 33, 2, 44],\n",
                     " [43, 5, 48, 45, 1, 33, 2, 44],\n",
                     " [23, 45, 1, 33, 2, 44],\n",
                     " [28, 45, 1, 33, 2, 44],\n",
                     " [42, 15, 25, 45, 1, 33, 2, 44],\n",
                     " [13, 29, 25, 45, 1, 33, 2, 44],\n",
                     " [40, 15, 7, 47, 41, 25, 45, 1, 33, 2, 44],\n",
                     " [31, 25, 45, 1, 33, 2, 44],\n",
                     " [21, 32, 0, 25, 47, 22, 15, 45, 1, 33, 2, 44],\n",
                     " [42, 7, 47, 22, 15, 25, 45, 1, 33, 2, 44],\n",
                     " [40, 15, 7, 47, 22, 25, 45, 1, 33, 2, 44],\n",
                     " [24, 18, 34, 25, 45, 1, 33, 2, 44],\n",
                     " [0, 25, 12, 15, 45, 1, 33, 2, 44],\n",
                     " [22, 12, 15, 25, 45, 1, 33, 2, 44],\n",
                     " [23, 15, 45, 1, 33, 2, 44],\n",
                     " [0, 25, 40, 11, 15, 45, 1, 33, 2, 44],\n",
                     " [40, 11, 15, 25, 45, 1, 33, 2, 44],\n",
                     " [49, 14, 15, 45, 1, 33, 2, 44],\n",
                     " [49, 14, 15, 25, 45, 1, 33, 2, 44],\n",
                     " [49, 25, 45, 1, 33, 2, 44],\n",
                     " [49, 26, 25, 45, 1, 33, 2, 44],\n",
                     " [49, 27, 25, 45, 1, 33, 2, 44],\n",
                     " [49, 39, 25, 45, 1, 33, 2, 44],\n",
                     " [43, 5, 25, 45, 1, 33, 2, 44],\n",
                     " [43, 5, 48, 46, 25, 45, 1, 33, 2, 44],\n",
                     " [42, 15, 14, 47, 1, 33, 2, 44],\n",
                     " [42, 15, 25, 14, 47, 1, 33, 2, 44],\n",
                     " [49, 14, 47, 1, 33, 2, 44],\n",
                     " [21, 32, 0, 25, 47, 1, 33, 2, 44],\n",
                     " [42, 15, 25, 47, 1, 33, 2, 44],\n",
                     " [49, 39, 22, 47, 1, 33, 2, 44],\n",
                     " [42, 15, 25, 5, 22, 47, 1, 33, 2, 44],\n",
                     " [42, 15, 25, 39, 22, 47, 1, 33, 2, 44],\n",
                     " [45, 0, 25, 40, 6, 16, 46, 41, 14, 47, 1, 33, 2, 44],\n",
                     " [21, 32, 0, 25, 47, 1, 45, 2, 44],\n",
                     " [49, 21, 5, 22, 47, 1, 33, 2, 44],\n",
                     " [42, 15, 21, 5, 22, 47, 1, 33, 2, 44],\n",
                     " [45, 0, 25, 12, 37, 22, 47, 1, 33, 2, 44],\n",
                     " [43, 5, 22, 47, 1, 33, 2, 44],\n",
                     " [49, 22, 47, 1, 33, 2, 44],\n",
                     " [13, 29, 25, 14, 47, 1, 33, 2, 44],\n",
                     " [13, 29, 25, 47, 1, 33, 2, 44],\n",
                     " [13, 29, 25, 5, 22, 47, 1, 33, 2, 44],\n",
                     " [13, 29, 25, 39, 22, 47, 1, 33, 2, 44],\n",
                     " [13, 29, 25, 41, 14, 47, 1, 33, 2, 44],\n",
                     " [24, 18, 35, 41, 25, 14, 47, 1, 33, 2, 44],\n",
                     " [24, 18, 35, 41, 25, 47, 1, 33, 2, 44],\n",
                     " [24, 18, 35, 41, 25, 5, 22, 47, 1, 33, 2, 44],\n",
                     " [24, 18, 35, 41, 25, 39, 22, 47, 1, 33, 2, 44],\n",
                     " [31, 25, 14, 47, 1, 33, 2, 44],\n",
                     " [31, 25, 47, 1, 33, 2, 44],\n",
                     " [31, 25, 5, 22, 47, 1, 33, 2, 44],\n",
                     " [31, 25, 39, 22, 47, 1, 33, 2, 44],\n",
                     " [31, 25, 41, 14, 47, 1, 33, 2, 44],\n",
                     " [24, 18, 34, 25, 14, 47, 1, 33, 2, 44],\n",
                     " [24, 18, 34, 25, 47, 1, 33, 2, 44],\n",
                     " [24, 18, 34, 25, 5, 22, 47, 1, 33, 2, 44],\n",
                     " [24, 18, 34, 25, 41, 14, 47, 1, 33, 2, 44],\n",
                     " [23, 15, 14, 47, 1, 33, 2, 44],\n",
                     " [23, 15, 21, 5, 22, 47, 1, 33, 2, 44],\n",
                     " [49, 14, 15, 25, 47, 1, 33, 2, 44],\n",
                     " [49, 14, 15, 25, 5, 22, 47, 1, 33, 2, 44],\n",
                     " [49, 14, 15, 25, 39, 22, 47, 1, 33, 2, 44],\n",
                     " [49, 14, 15, 21, 5, 22, 47, 1, 33, 2, 44],\n",
                     " [45, 0, 25, 40, 6, 22, 47, 1, 33, 2, 44],\n",
                     " [49, 25, 14, 47, 1, 33, 2, 44],\n",
                     " [49, 25, 47, 1, 33, 2, 44],\n",
                     " [49, 25, 5, 22, 47, 1, 33, 2, 44],\n",
                     " [49, 25, 39, 22, 47, 1, 33, 2, 44],\n",
                     " [49, 25, 41, 14, 47, 1, 33, 2, 44],\n",
                     " [49, 26, 25, 14, 47, 1, 33, 2, 44],\n",
                     " [49, 26, 25, 47, 1, 33, 2, 44],\n",
                     " [49, 26, 25, 5, 22, 47, 1, 33, 2, 44],\n",
                     " [49, 26, 25, 41, 14, 47, 1, 33, 2, 44],\n",
                     " [49, 27, 25, 14, 47, 1, 33, 2, 44],\n",
                     " [49, 27, 25, 47, 1, 33, 2, 44],\n",
                     " [49, 27, 25, 5, 22, 47, 1, 33, 2, 44],\n",
                     " [49, 27, 25, 39, 22, 47, 1, 33, 2, 44],\n",
                     " [49, 27, 25, 41, 14, 47, 1, 33, 2, 44],\n",
                     " [49, 39, 25, 14, 47, 1, 33, 2, 44],\n",
                     " [49, 39, 25, 47, 1, 33, 2, 44],\n",
                     " [49, 39, 25, 5, 22, 47, 1, 33, 2, 44],\n",
                     " [49, 39, 25, 41, 14, 47, 1, 33, 2, 44],\n",
                     " [43, 5, 25, 14, 47, 1, 33, 2, 44],\n",
                     " [43, 5, 25, 47, 1, 33, 2, 44],\n",
                     " [43, 5, 25, 39, 22, 47, 1, 33, 2, 44],\n",
                     " [43, 5, 25, 41, 14, 47, 1, 33, 2, 44],\n",
                     " [43, 5, 48, 46, 25, 14, 47, 1, 33, 2, 44],\n",
                     " [43, 5, 48, 46, 25, 47, 1, 33, 2, 44],\n",
                     " [40, 15, 48, 46, 25, 5, 22, 47, 1, 33, 2, 44],\n",
                     " [43, 5, 48, 46, 25, 39, 22, 47, 1, 33, 2, 44],\n",
                     " [43, 5, 48, 46, 25, 41, 14, 47, 1, 33, 2, 44],\n",
                     " [21, 32, 0, 25, 47, 41, 40, 1, 33, 2, 44],\n",
                     " [40, 9, 44, 32, 3],\n",
                     " [13, 33, 2, 44],\n",
                     " [42, 15, 45, 21, 33, 2, 44],\n",
                     " [23, 45, 21, 33, 2, 44],\n",
                     " [28, 45, 21, 33, 2, 44],\n",
                     " [42, 15, 21, 33, 2, 44],\n",
                     " [49, 35, 21, 33, 2, 44],\n",
                     " [42, 15, 35, 21, 33, 2, 44],\n",
                     " [27, 48, 15, 21, 33, 10, 3, 22, 44],\n",
                     " [42, 15, 25, 45, 21, 33, 2, 44],\n",
                     " [49, 21, 33, 2, 44],\n",
                     " [42, 19, 35, 21, 33, 2, 44],\n",
                     " [13, 29, 25, 45, 21, 33, 2, 44],\n",
                     " [31, 25, 45, 21, 33, 2, 44],\n",
                     " [26, 11, 10, 3, 24, 18, 35, 21, 33, 2, 44],\n",
                     " [26, 11, 10, 3, 24, 18, 45, 21, 33, 2, 44],\n",
                     " [45, 0, 25, 12, 4, 21, 33, 2, 44],\n",
                     " [40, 15, 7, 47, 41, 25, 45, 21, 33, 2, 44],\n",
                     " [24, 18, 34, 25, 45, 21, 33, 2, 44],\n",
                     " [42, 19, 35, 21, 33, 2, 44],\n",
                     " [0, 25, 12, 15, 45, 21, 33, 2, 44],\n",
                     " [45, 0, 25, 12, 15, 21, 33, 2, 44],\n",
                     " [45, 0, 25, 12, 15, 35, 21, 33, 2, 44],\n",
                     " [22, 12, 15, 25, 45, 21, 33, 2, 44],\n",
                     " [27, 30, 15, 45, 21, 33, 2, 44],\n",
                     " [27, 30, 15, 21, 33, 2, 44],\n",
                     " [27, 30, 15, 35, 21, 33, 2, 44],\n",
                     " [27, 30, 15, 25, 45, 21, 33, 2, 44],\n",
                     " [0, 25, 40, 11, 15, 45, 21, 33, 2, 44],\n",
                     " [45, 0, 25, 40, 11, 15, 21, 33, 2, 44],\n",
                     " [45, 0, 25, 40, 11, 15, 35, 21, 33, 2, 44],\n",
                     " [40, 11, 15, 25, 45, 21, 33, 2, 44],\n",
                     " [49, 14, 15, 45, 21, 33, 2, 44],\n",
                     " [49, 14, 15, 21, 33, 2, 44],\n",
                     " [49, 14, 15, 35, 21, 33, 2, 44],\n",
                     " [49, 14, 15, 25, 45, 21, 33, 2, 44],\n",
                     " [21, 33, 15, 25, 14, 47, 22, 44],\n",
                     " [21, 33, 15, 25, 47, 22, 44],\n",
                     " [21, 33, 15, 3, 22, 44],\n",
                     " [21, 33, 15, 4, 22, 44],\n",
                     " [21, 33, 15, 25, 5, 22, 44],\n",
                     " [49, 25, 45, 21, 33, 2, 44],\n",
                     " [49, 26, 25, 45, 21, 33, 2, 44],\n",
                     " [49, 27, 25, 45, 21, 33, 2, 44],\n",
                     " [49, 39, 25, 45, 21, 33, 2, 44],\n",
                     " [31, 32, 0, 25, 47, 22, 19, 35, 21, 33, 2, 44],\n",
                     " [49, 22, 19, 35, 21, 33, 2, 44],\n",
                     " [31, 32, 0, 25, 47, 22, 15, 35, 21, 33, 2, 44],\n",
                     " [31, 32, 0, 25, 47, 22, 15, 21, 33, 2, 44],\n",
                     " [43, 5, 48, 46, 25, 45, 21, 33, 2, 44],\n",
                     " [26, 11, 10, 3, 24, 25, 45, 21, 33, 2, 44],\n",
                     " [24, 18, 35, 21, 33, 2, 44],\n",
                     " [23, 15, 35, 21, 33, 2, 44],\n",
                     " [23, 15, 21, 33, 2, 44],\n",
                     " [42, 19, 4, 21, 33, 2, 44],\n",
                     " [45, 0, 25, 40, 35, 21, 33, 2, 44],\n",
                     " [27, 48, 15, 21, 33, 2, 44],\n",
                     " [21, 33, 15, 14, 47, 22, 44],\n",
                     " [21, 33, 15, 35, 10, 3, 22, 44],\n",
                     " [21, 33, 15, 25, 11, 10, 3, 22, 44],\n",
                     " [31, 32, 0, 25, 47, 1, 45, 21, 33, 2, 44],\n",
                     " [45, 0, 25, 36, 38, 21, 33, 2, 44],\n",
                     " [23, 20, 33, 15, 25, 14, 47, 22, 44],\n",
                     " [23, 20, 33, 15, 25, 47, 22, 44],\n",
                     " [23, 20, 33, 15, 3, 22, 44],\n",
                     " [23, 20, 33, 15, 25, 45, 21, 5, 22, 44],\n",
                     " [23, 20, 33, 15, 4, 22, 44],\n",
                     " [23, 20, 33, 15, 25, 5, 22, 44],\n",
                     " [23, 20, 33, 2, 44],\n",
                     " [23, 20, 33, 15, 35, 21, 2, 44],\n",
                     " [23, 20, 33, 15, 24, 18, 35, 21, 2, 44],\n",
                     " [23, 20, 33, 15, 18, 35, 21, 2, 44],\n",
                     " [23, 20, 33, 15, 25, 12, 18, 35, 21, 2, 44],\n",
                     " [23, 20, 33, 15, 25, 47, 22, 19, 35, 21, 2, 44],\n",
                     " [23, 20, 33, 15, 25, 5, 22, 19, 35, 21, 2, 44],\n",
                     " [23, 20, 33, 15, 25, 39, 22, 19, 35, 21, 2, 44],\n",
                     " [23, 20, 33, 15, 14, 47, 22, 19, 35, 21, 2, 44],\n",
                     " [23, 20, 33, 15, 25, 14, 47, 22, 19, 35, 21, 2, 44],\n",
                     " [23, 20, 33, 15, 14, 47, 22, 44],\n",
                     " [23, 20, 33, 15, 35, 10, 3, 22, 44],\n",
                     " [23, 20, 33, 15, 25, 11, 10, 3, 22, 44],\n",
                     " [40, 1, 33, 15, 25, 14, 47, 22, 44],\n",
                     " [40, 1, 33, 15, 25, 47, 22, 44],\n",
                     " [45, 0, 25, 40, 1, 33, 15, 3, 22, 44],\n",
                     " [40, 1, 33, 15, 25, 45, 21, 5, 22, 44],\n",
                     " [45, 0, 25, 40, 1, 33, 15, 4, 22, 44],\n",
                     " [40, 1, 33, 15, 25, 5, 22, 44],\n",
                     " [45, 0, 25, 40, 1, 33, 2, 44],\n",
                     " [45, 0, 25, 40, 1, 33, 15, 35, 21, 2, 44],\n",
                     " [45, 0, 25, 40, 1, 33, 15, 24, 18, 35, 21, 2, 44],\n",
                     " [45, 0, 25, 40, 1, 33, 15, 18, 35, 21, 2, 44],\n",
                     " [40, 1, 33, 15, 25, 12, 18, 35, 21, 2, 44],\n",
                     " [40, 1, 33, 15, 25, 47, 22, 19, 35, 21, 2, 44],\n",
                     " [40, 1, 33, 15, 25, 5, 22, 19, 35, 21, 2, 44],\n",
                     " [40, 1, 33, 15, 25, 39, 22, 19, 35, 21, 2, 44],\n",
                     " [45, 0, 25, 40, 1, 33, 15, 14, 47, 22, 19, 35, 21, 2, 44],\n",
                     " [40, 1, 33, 15, 25, 14, 47, 22, 19, 35, 21, 2, 44],\n",
                     " [45, 0, 25, 40, 1, 33, 15, 14, 47, 22, 44],\n",
                     " [45, 0, 25, 40, 1, 33, 15, 35, 10, 3, 22, 44],\n",
                     " [40, 1, 33, 15, 25, 11, 10, 3, 22, 44],\n",
                     " [21, 32, 0, 25, 47, 1, 33, 2, 44],\n",
                     " [12, 15, 25, 14, 47, 22, 44],\n",
                     " [12, 15, 25, 47, 22, 44],\n",
                     " [45, 0, 25, 12, 15, 3, 22, 44],\n",
                     " [45, 0, 25, 12, 15, 24, 33, 10, 3, 22, 44],\n",
                     " [22, 12, 15, 25, 45, 1, 33, 2, 44],\n",
                     " [12, 15, 25, 45, 21, 5, 22, 44],\n",
                     " [12, 15, 25, 11, 6, 3, 22, 44],\n",
                     " [45, 0, 25, 12, 15, 4, 22, 44],\n",
                     " [12, 15, 25, 5, 22, 44],\n",
                     " [12, 15, 25, 11, 6, 22, 44],\n",
                     " [45, 0, 25, 12, 15, 35, 21, 33, 2, 44],\n",
                     " [45, 0, 25, 12, 15, 24, 18, 35, 21, 33, 2, 44],\n",
                     " [45, 0, 25, 12, 15, 18, 35, 21, 33, 2, 44],\n",
                     " [12, 15, 25, 47, 22, 19, 35, 21, 33, 2, 44],\n",
                     " [12, 15, 25, 5, 22, 19, 35, 21, 33, 2, 44],\n",
                     " [12, 15, 25, 39, 22, 19, 35, 21, 33, 2, 44],\n",
                     " [45, 0, 25, 12, 15, 14, 47, 22, 19, 35, 21, 33, 2, 44],\n",
                     " [12, 15, 25, 14, 47, 22, 19, 35, 21, 33, 2, 44],\n",
                     " [45, 0, 25, 12, 15, 35, 21, 2, 44],\n",
                     " [45, 0, 25, 12, 15, 24, 18, 35, 21, 2, 44],\n",
                     " [45, 0, 25, 12, 15, 18, 35, 21, 2, 44],\n",
                     " [12, 15, 25, 47, 22, 19, 35, 21, 2, 44],\n",
                     " [12, 15, 25, 5, 22, 19, 35, 21, 2, 44],\n",
                     " [12, 15, 25, 39, 22, 19, 35, 21, 2, 44],\n",
                     " [45, 0, 25, 12, 15, 14, 47, 22, 19, 35, 21, 2, 44],\n",
                     " [12, 15, 25, 14, 47, 22, 19, 35, 21, 2, 44],\n",
                     " [45, 0, 25, 12, 15, 14, 47, 22, 44],\n",
                     " [45, 0, 25, 12, 15, 35, 10, 3, 22, 44],\n",
                     " [12, 15, 25, 11, 10, 3, 22, 44],\n",
                     " [0, 25, 12, 15, 45, 1, 33, 2, 44],\n",
                     " [45, 0, 25, 12, 15, 14, 47, 1, 33, 2, 44],\n",
                     " [22, 12, 15, 25, 14, 47, 1, 33, 2, 44],\n",
                     " [22, 12, 15, 25, 47, 1, 33, 2, 44],\n",
                     " [12, 15, 25, 5, 22, 47, 1, 33, 2, 44],\n",
                     " [12, 15, 25, 39, 22, 47, 1, 33, 2, 44],\n",
                     " [45, 0, 25, 12, 15, 21, 5, 22, 47, 1, 33, 2, 44],\n",
                     " [0, 25, 12, 15, 45, 21, 33, 2, 44],\n",
                     " [45, 0, 25, 12, 15, 21, 33, 2, 44],\n",
                     " [22, 12, 15, 25, 45, 21, 33, 2, 44],\n",
                     " [21, 32, 0, 25, 15, 3, 22, 44],\n",
                     " [21, 32, 0, 25, 15, 24, 33, 10, 3, 22, 44],\n",
                     " [21, 32, 0, 25, 15, 4, 22, 44],\n",
                     " [31, 32, 0, 25, 15, 35, 21, 33, 2, 44],\n",
                     " [31, 32, 0, 25, 15, 24, 18, 35, 21, 33, 2, 44],\n",
                     " [31, 32, 0, 25, 15, 18, 35, 21, 33, 2, 44],\n",
                     " [31, 32, 0, 25, 15, 14, 47, 22, 19, 35, 21, 33, 2, 44],\n",
                     " [31, 32, 0, 25, 15, 35, 21, 2, 44],\n",
                     " [31, 32, 0, 25, 15, 24, 18, 35, 21, 2, 44],\n",
                     " [31, 32, 0, 25, 15, 18, 35, 21, 2, 44],\n",
                     " [31, 32, 0, 25, 15, 14, 47, 22, 19, 35, 21, 2, 44],\n",
                     " [21, 32, 0, 25, 15, 14, 47, 22, 44],\n",
                     " [21, 32, 0, 25, 15, 35, 10, 3, 22, 44],\n",
                     " [21, 32, 0, 25, 15, 45, 1, 33, 2, 44],\n",
                     " [21, 32, 0, 25, 15, 14, 47, 1, 33, 2, 44],\n",
                     " [31, 32, 0, 25, 15, 21, 5, 22, 47, 1, 33, 2, 44],\n",
                     " [31, 32, 0, 25, 15, 45, 21, 33, 2, 44],\n",
                     " [31, 32, 0, 25, 15, 21, 33, 2, 44],\n",
                     " [23, 15, 25, 14, 47, 22, 44],\n",
                     " [23, 15, 25, 47, 22, 44],\n",
                     " [23, 15, 3, 22, 44],\n",
                     " [23, 15, 24, 33, 10, 3, 22, 44],\n",
                     " [23, 15, 25, 45, 1, 33, 2, 44],\n",
                     " [23, 15, 25, 45, 21, 5, 22, 44],\n",
                     " [23, 15, 25, 11, 6, 3, 22, 44],\n",
                     " [23, 15, 4, 22, 44],\n",
                     " [23, 15, 25, 5, 22, 44],\n",
                     " [23, 15, 25, 11, 6, 22, 44],\n",
                     " [23, 15, 35, 21, 33, 2, 44],\n",
                     " [23, 15, 24, 18, 35, 21, 33, 2, 44],\n",
                     " [23, 15, 18, 35, 21, 33, 2, 44],\n",
                     " [23, 15, 25, 12, 18, 35, 21, 33, 2, 44],\n",
                     " [23, 15, 25, 47, 22, 19, 35, 21, 33, 2, 44],\n",
                     " [23, 15, 25, 5, 22, 19, 35, 21, 33, 2, 44],\n",
                     " [23, 15, 25, 39, 22, 19, 35, 21, 33, 2, 44],\n",
                     " [23, 15, 14, 47, 22, 19, 35, 21, 33, 2, 44],\n",
                     " [23, 15, 25, 14, 47, 22, 19, 35, 21, 33, 2, 44],\n",
                     " [23, 15, 35, 21, 2, 44],\n",
                     " [23, 15, 24, 18, 35, 21, 2, 44],\n",
                     " [23, 15, 18, 35, 21, 2, 44],\n",
                     " [23, 15, 25, 12, 18, 35, 21, 2, 44],\n",
                     " [23, 15, 25, 47, 22, 19, 35, 21, 2, 44],\n",
                     " [23, 15, 25, 5, 22, 19, 35, 21, 2, 44],\n",
                     " [23, 15, 25, 39, 22, 19, 35, 21, 2, 44],\n",
                     " [23, 15, 14, 47, 22, 19, 35, 21, 2, 44],\n",
                     " [23, 15, 25, 14, 47, 22, 19, 35, 21, 2, 44],\n",
                     " [23, 15, 14, 47, 22, 44],\n",
                     " [23, 15, 35, 10, 3, 22, 44],\n",
                     " [23, 15, 25, 11, 10, 3, 22, 44],\n",
                     " [23, 15, 45, 1, 33, 2, 44],\n",
                     " [23, 15, 14, 47, 1, 33, 2, 44],\n",
                     " [23, 15, 25, 14, 47, 1, 33, 2, 44],\n",
                     " [23, 15, 25, 47, 1, 33, 2, 44],\n",
                     " [23, 15, 25, 5, 22, 47, 1, 33, 2, 44],\n",
                     " [23, 15, 25, 39, 22, 47, 1, 33, 2, 44],\n",
                     " [23, 15, 21, 5, 22, 47, 1, 33, 2, 44],\n",
                     " [23, 15, 45, 21, 33, 2, 44],\n",
                     " [23, 15, 21, 33, 2, 44],\n",
                     " [23, 15, 25, 45, 21, 33, 2, 44],\n",
                     " [42, 15, 25, 14, 47, 22, 44],\n",
                     " [42, 15, 25, 47, 22, 44],\n",
                     " [42, 15, 3, 22, 44],\n",
                     " [42, 15, 24, 33, 10, 3, 22, 44],\n",
                     " [42, 15, 25, 45, 1, 33, 2, 44],\n",
                     " [42, 15, 25, 45, 21, 5, 22, 44],\n",
                     " [42, 15, 25, 11, 6, 3, 22, 44],\n",
                     " [42, 15, 4, 22, 44],\n",
                     " [42, 15, 25, 5, 22, 44],\n",
                     " [42, 15, 25, 11, 6, 22, 44],\n",
                     " [42, 15, 35, 21, 33, 2, 44],\n",
                     " [42, 15, 24, 18, 35, 21, 33, 2, 44],\n",
                     " [42, 15, 18, 35, 21, 33, 2, 44],\n",
                     " [42, 15, 25, 12, 18, 35, 21, 33, 2, 44],\n",
                     " [42, 15, 25, 47, 22, 19, 35, 21, 33, 2, 44],\n",
                     " [42, 15, 25, 5, 22, 19, 35, 21, 33, 2, 44],\n",
                     " [42, 15, 25, 39, 22, 19, 35, 21, 33, 2, 44],\n",
                     " [42, 15, 14, 47, 22, 19, 35, 21, 33, 2, 44],\n",
                     " [42, 15, 25, 14, 47, 22, 19, 35, 21, 33, 2, 44],\n",
                     " [42, 15, 35, 21, 2, 44],\n",
                     " [42, 15, 24, 18, 35, 21, 2, 44],\n",
                     " [42, 15, 18, 35, 21, 2, 44],\n",
                     " [42, 15, 25, 12, 18, 35, 21, 2, 44],\n",
                     " [42, 15, 25, 47, 22, 19, 35, 21, 2, 44],\n",
                     " [42, 15, 25, 5, 22, 19, 35, 21, 2, 44],\n",
                     " [42, 15, 25, 39, 22, 19, 35, 21, 2, 44],\n",
                     " [42, 15, 14, 47, 22, 19, 35, 21, 2, 44],\n",
                     " [42, 15, 25, 14, 47, 22, 19, 35, 21, 2, 44],\n",
                     " [42, 15, 14, 47, 22, 44],\n",
                     " [42, 15, 35, 10, 3, 22, 44],\n",
                     " [42, 15, 25, 11, 10, 3, 22, 44],\n",
                     " [42, 15, 45, 1, 33, 2, 44],\n",
                     " [42, 15, 14, 47, 1, 33, 2, 44],\n",
                     " [42, 15, 25, 14, 47, 1, 33, 2, 44],\n",
                     " [42, 15, 25, 47, 1, 33, 2, 44],\n",
                     " [42, 15, 25, 5, 22, 47, 1, 33, 2, 44],\n",
                     " [42, 15, 25, 39, 22, 47, 1, 33, 2, 44],\n",
                     " [42, 15, 21, 5, 22, 47, 1, 33, 2, 44],\n",
                     " [42, 15, 45, 21, 33, 2, 44],\n",
                     " [42, 15, 21, 33, 2, 44],\n",
                     " [42, 15, 25, 45, 21, 33, 2, 44],\n",
                     " [40, 9, 15, 25, 14, 47, 22, 44],\n",
                     " [40, 9, 15, 25, 47, 22, 44],\n",
                     " [40, 9, 15, 3, 22, 44],\n",
                     " [40, 9, 15, 24, 33, 10, 3, 22, 44],\n",
                     " [40, 9, 15, 25, 45, 1, 33, 2, 44],\n",
                     " [40, 9, 15, 25, 45, 21, 5, 22, 44],\n",
                     " [40, 9, 15, 25, 11, 6, 3, 22, 44],\n",
                     " [40, 9, 15, 4, 22, 44],\n",
                     " [40, 9, 15, 25, 5, 22, 44],\n",
                     " [40, 9, 15, 25, 11, 6, 22, 44],\n",
                     " [40, 9, 15, 35, 21, 33, 2, 44],\n",
                     " [40, 9, 15, 24, 18, 35, 21, 33, 2, 44],\n",
                     " [40, 9, 15, 18, 35, 21, 33, 2, 44],\n",
                     " [40, 9, 15, 25, 12, 18, 35, 21, 33, 2, 44],\n",
                     " [40, 9, 15, 25, 47, 22, 19, 35, 21, 33, 2, 44],\n",
                     " [40, 9, 15, 25, 5, 22, 19, 35, 21, 33, 2, 44],\n",
                     " [40, 9, 15, 25, 39, 22, 19, 35, 21, 33, 2, 44],\n",
                     " [40, 9, 15, 14, 47, 22, 19, 35, 21, 33, 2, 44],\n",
                     " [40, 9, 15, 25, 14, 47, 22, 19, 35, 21, 33, 2, 44],\n",
                     " [40, 9, 15, 35, 21, 2, 44],\n",
                     " [40, 9, 15, 24, 18, 35, 21, 2, 44],\n",
                     " [40, 9, 15, 18, 35, 21, 2, 44],\n",
                     " [40, 9, 15, 25, 12, 18, 35, 21, 2, 44],\n",
                     " [40, 9, 15, 25, 47, 22, 19, 35, 21, 2, 44],\n",
                     " [40, 9, 15, 25, 5, 22, 19, 35, 21, 2, 44],\n",
                     " [40, 9, 15, 25, 39, 22, 19, 35, 21, 2, 44],\n",
                     " [40, 9, 15, 14, 47, 22, 19, 35, 21, 2, 44],\n",
                     " [40, 9, 15, 25, 14, 47, 22, 19, 35, 21, 2, 44],\n",
                     " [40, 9, 15, 14, 47, 22, 44],\n",
                     " [40, 9, 15, 35, 10, 3, 22, 44],\n",
                     " [40, 9, 15, 25, 11, 10, 3, 22, 44],\n",
                     " [40, 9, 15, 45, 1, 33, 2, 44],\n",
                     " [40, 9, 15, 14, 47, 1, 33, 2, 44],\n",
                     " [40, 9, 15, 25, 14, 47, 1, 33, 2, 44],\n",
                     " [40, 9, 15, 25, 47, 1, 33, 2, 44],\n",
                     " [40, 9, 15, 25, 5, 22, 47, 1, 33, 2, 44],\n",
                     " [40, 9, 15, 25, 39, 22, 47, 1, 33, 2, 44],\n",
                     " [40, 9, 15, 21, 5, 22, 47, 1, 33, 2, 44],\n",
                     " [40, 9, 15, 45, 21, 33, 2, 44],\n",
                     " [40, 9, 15, 21, 33, 2, 44],\n",
                     " [40, 9, 15, 25, 45, 21, 33, 2, 44],\n",
                     " [24, 18, 34, 15, 25, 14, 47, 22, 44],\n",
                     " [24, 18, 34, 15, 25, 47, 22, 44],\n",
                     " [24, 18, 34, 15, 3, 22, 44],\n",
                     " [18, 34, 15, 24, 33, 10, 3, 22, 44],\n",
                     " [24, 18, 34, 15, 25, 45, 1, 33, 2, 44],\n",
                     " [24, 18, 34, 15, 25, 45, 21, 5, 22, 44],\n",
                     " [24, 18, 34, 15, 25, 11, 6, 3, 22, 44],\n",
                     " [24, 18, 34, 15, 4, 22, 44],\n",
                     " [24, 18, 34, 15, 25, 5, 22, 44],\n",
                     " [24, 18, 34, 15, 25, 11, 6, 22, 44],\n",
                     " [43, 34, 15, 24, 18, 45, 2, 44],\n",
                     " [43, 34, 15, 35, 22, 24, 18, 45, 2, 44],\n",
                     " [43, 34, 15, 25, 47, 22, 24, 18, 45, 2, 44],\n",
                     " [43, 34, 15, 25, 5, 22, 24, 18, 45, 2, 44],\n",
                     " [43, 34, 15, 25, 39, 22, 24, 18, 45, 2, 44],\n",
                     " [43, 34, 15, 14, 47, 22, 24, 18, 45, 2, 44],\n",
                     " [43, 34, 15, 35, 21, 5, 22, 24, 18, 45, 2, 44],\n",
                     " [43, 34, 15, 25, 11, 6, 22, 24, 18, 45, 2, 44],\n",
                     " [43, 34, 15, 21, 5, 22, 24, 18, 45, 2, 44],\n",
                     " [43, 34, 15, 25, 14, 47, 22, 24, 18, 45, 2, 44],\n",
                     " [24, 18, 34, 15, 35, 21, 33, 2, 44],\n",
                     " [43, 34, 15, 24, 18, 35, 21, 33, 2, 44],\n",
                     " [43, 34, 15, 18, 35, 21, 33, 2, 44],\n",
                     " [43, 34, 15, 25, 12, 18, 35, 21, 33, 2, 44],\n",
                     " [24, 18, 34, 15, 25, 47, 22, 19, 35, 21, 33, 2, 44],\n",
                     " [24, 18, 34, 15, 25, 5, 22, 19, 35, 21, 33, 2, 44],\n",
                     " [24, 18, 34, 15, 25, 39, 22, 19, 35, 21, 33, 2, 44],\n",
                     " [24, 18, 34, 15, 14, 47, 22, 19, 35, 21, 33, 2, 44],\n",
                     " [24, 18, 34, 15, 25, 14, 47, 22, 19, 35, 21, 33, 2, 44],\n",
                     " [24, 18, 34, 15, 35, 21, 2, 44],\n",
                     " [43, 34, 15, 24, 18, 35, 21, 2, 44],\n",
                     " [43, 34, 15, 18, 35, 21, 2, 44],\n",
                     " [43, 34, 15, 25, 12, 18, 35, 21, 2, 44],\n",
                     " [24, 18, 34, 15, 25, 47, 22, 19, 35, 21, 2, 44],\n",
                     " [24, 18, 34, 15, 25, 5, 22, 19, 35, 21, 2, 44],\n",
                     " [24, 18, 34, 15, 25, 39, 22, 19, 35, 21, 2, 44],\n",
                     " [24, 18, 34, 15, 14, 47, 22, 19, 35, 21, 2, 44],\n",
                     " [24, 18, 34, 15, 25, 14, 47, 22, 19, 35, 21, 2, 44],\n",
                     " [24, 18, 34, 15, 14, 47, 22, 44],\n",
                     " [24, 18, 34, 15, 35, 10, 3, 22, 44],\n",
                     " [24, 18, 34, 15, 25, 11, 10, 3, 22, 44],\n",
                     " [24, 18, 34, 15, 45, 1, 33, 2, 44],\n",
                     " [24, 18, 34, 15, 14, 47, 1, 33, 2, 44],\n",
                     " [24, 18, 34, 15, 25, 14, 47, 1, 33, 2, 44],\n",
                     " [24, 18, 34, 15, 25, 47, 1, 33, 2, 44],\n",
                     " [24, 18, 34, 15, 25, 5, 22, 47, 1, 33, 2, 44],\n",
                     " [24, 18, 34, 15, 25, 39, 22, 47, 1, 33, 2, 44],\n",
                     " [24, 18, 34, 15, 21, 5, 22, 47, 1, 33, 2, 44],\n",
                     " [24, 18, 34, 15, 45, 21, 33, 2, 44],\n",
                     " [24, 18, 34, 15, 21, 33, 2, 44],\n",
                     " [24, 18, 34, 15, 25, 45, 21, 33, 2, 44],\n",
                     " [28, 15, 25, 14, 47, 22, 44],\n",
                     " [28, 15, 25, 47, 22, 44],\n",
                     " [28, 15, 3, 22, 44],\n",
                     " [28, 15, 24, 33, 10, 3, 22, 44],\n",
                     " [28, 15, 25, 45, 1, 33, 2, 44],\n",
                     " [28, 15, 25, 45, 21, 5, 22, 44],\n",
                     " [28, 15, 25, 11, 6, 3, 22, 44],\n",
                     " [28, 15, 4, 22, 44],\n",
                     " [28, 15, 25, 5, 22, 44],\n",
                     " [28, 15, 25, 11, 6, 22, 44],\n",
                     " [28, 15, 35, 21, 33, 2, 44],\n",
                     " [28, 15, 24, 18, 35, 21, 33, 2, 44],\n",
                     " [28, 15, 18, 35, 21, 33, 2, 44],\n",
                     " [28, 15, 25, 12, 18, 35, 21, 33, 2, 44],\n",
                     " [28, 15, 25, 47, 22, 19, 35, 21, 33, 2, 44],\n",
                     " [28, 15, 25, 5, 22, 19, 35, 21, 33, 2, 44],\n",
                     " [28, 15, 25, 39, 22, 19, 35, 21, 33, 2, 44],\n",
                     " [28, 15, 14, 47, 22, 19, 35, 21, 33, 2, 44],\n",
                     " [28, 15, 25, 14, 47, 22, 19, 35, 21, 33, 2, 44],\n",
                     " [28, 15, 35, 21, 2, 44],\n",
                     " [28, 15, 24, 18, 35, 21, 2, 44],\n",
                     " [28, 15, 18, 35, 21, 2, 44],\n",
                     " [28, 15, 25, 12, 18, 35, 21, 2, 44],\n",
                     " [28, 15, 25, 47, 22, 19, 35, 21, 2, 44],\n",
                     " [28, 15, 25, 5, 22, 19, 35, 21, 2, 44],\n",
                     " [28, 15, 25, 39, 22, 19, 35, 21, 2, 44],\n",
                     " [28, 15, 14, 47, 22, 19, 35, 21, 2, 44],\n",
                     " [28, 15, 25, 14, 47, 22, 19, 35, 21, 2, 44],\n",
                     " [28, 15, 14, 47, 22, 44],\n",
                     " [28, 15, 35, 10, 3, 22, 44],\n",
                     " [28, 15, 25, 11, 10, 3, 22, 44],\n",
                     " [28, 15, 45, 1, 33, 2, 44],\n",
                     " [28, 15, 14, 47, 1, 33, 2, 44],\n",
                     " [28, 15, 25, 14, 47, 1, 33, 2, 44],\n",
                     " [28, 15, 25, 47, 1, 33, 2, 44],\n",
                     " [28, 15, 25, 5, 22, 47, 1, 33, 2, 44],\n",
                     " [28, 15, 25, 39, 22, 47, 1, 33, 2, 44],\n",
                     " [28, 15, 21, 5, 22, 47, 1, 33, 2, 44],\n",
                     " [28, 15, 45, 21, 33, 2, 44],\n",
                     " [28, 15, 21, 33, 2, 44],\n",
                     " [28, 15, 25, 45, 21, 33, 2, 44],\n",
                     " [42, 19, 15, 25, 14, 47, 22, 44],\n",
                     " [42, 19, 15, 25, 47, 22, 44],\n",
                     " [42, 19, 15, 3, 22, 44],\n",
                     " [42, 19, 15, 24, 33, 10, 3, 22, 44],\n",
                     " [42, 19, 15, 25, 45, 1, 33, 2, 44],\n",
                     " [42, 19, 15, 25, 45, 21, 5, 22, 44],\n",
                     " [42, 19, 15, 25, 11, 6, 3, 22, 44],\n",
                     " [42, 19, 15, 4, 22, 44],\n",
                     " [42, 19, 15, 25, 5, 22, 44],\n",
                     " [42, 19, 15, 25, 11, 6, 22, 44],\n",
                     " [42, 19, 15, 35, 21, 33, 2, 44],\n",
                     " [42, 19, 15, 24, 18, 35, 21, 33, 2, 44],\n",
                     " [42, 19, 15, 18, 35, 21, 33, 2, 44],\n",
                     " [42, 19, 15, 25, 12, 18, 35, 21, 33, 2, 44],\n",
                     " [42, 19, 15, 35, 21, 2, 44],\n",
                     " [42, 19, 15, 24, 18, 35, 21, 2, 44],\n",
                     " [42, 19, 15, 18, 35, 21, 2, 44],\n",
                     " [42, 19, 15, 25, 12, 18, 35, 21, 2, 44],\n",
                     " [42, 19, 15, 14, 47, 22, 44],\n",
                     " [42, 19, 15, 35, 10, 3, 22, 44],\n",
                     " [42, 19, 15, 25, 11, 10, 3, 22, 44],\n",
                     " [42, 19, 15, 45, 1, 33, 2, 44],\n",
                     " [42, 19, 15, 14, 47, 1, 33, 2, 44],\n",
                     " [42, 19, 15, 25, 14, 47, 1, 33, 2, 44],\n",
                     " [42, 19, 15, 25, 47, 1, 33, 2, 44],\n",
                     " [42, 19, 15, 25, 5, 22, 47, 1, 33, 2, 44],\n",
                     " [42, 19, 15, 25, 39, 22, 47, 1, 33, 2, 44],\n",
                     " [42, 19, 15, 21, 5, 22, 47, 1, 33, 2, 44],\n",
                     " [42, 19, 15, 45, 21, 33, 2, 44],\n",
                     " [42, 19, 15, 21, 33, 2, 44],\n",
                     " [42, 19, 15, 25, 45, 21, 33, 2, 44],\n",
                     " [21, 32, 0, 25, 47, 15, 3, 22, 44],\n",
                     " [21, 32, 0, 25, 47, 15, 24, 33, 10, 3, 22, 44],\n",
                     " [42, 7, 47, 15, 25, 45, 1, 33, 2, 44],\n",
                     " [42, 7, 47, 15, 25, 45, 21, 5, 22, 44],\n",
                     " [42, 7, 47, 15, 25, 11, 6, 3, 22, 44],\n",
                     " [21, 32, 0, 25, 47, 15, 4, 22, 44],\n",
                     " [42, 7, 47, 15, 25, 5, 22, 44],\n",
                     " [42, 7, 47, 15, 25, 11, 6, 22, 44],\n",
                     " [31, 32, 0, 25, 47, 15, 35, 21, 33, 2, 44],\n",
                     " [31, 32, 0, 25, 47, 15, 24, 18, 35, 21, 33, 2, 44],\n",
                     " [31, 32, 0, 25, 47, 15, 18, 35, 21, 33, 2, 44],\n",
                     " [42, 7, 47, 15, 25, 12, 18, 35, 21, 33, 2, 44],\n",
                     " [42, 7, 47, 15, 25, 5, 22, 19, 35, 21, 33, 2, 44],\n",
                     " [42, 7, 47, 15, 25, 39, 22, 19, 35, 21, 33, 2, 44],\n",
                     " [31, 32, 0, 25, 47, 15, 35, 21, 2, 44],\n",
                     " [31, 32, 0, 25, 47, 15, 24, 18, 35, 21, 2, 44],\n",
                     " [31, 32, 0, 25, 47, 15, 18, 35, 21, 2, 44],\n",
                     " [42, 7, 47, 15, 25, 12, 18, 35, 21, 2, 44],\n",
                     " [42, 7, 47, 15, 25, 5, 22, 19, 35, 21, 2, 44],\n",
                     " [42, 7, 47, 15, 25, 39, 22, 19, 35, 21, 2, 44],\n",
                     " [21, 32, 0, 25, 47, 15, 35, 10, 3, 22, 44],\n",
                     " [42, 7, 47, 15, 25, 11, 10, 3, 22, 44],\n",
                     " [21, 32, 0, 25, 47, 15, 45, 1, 33, 2, 44],\n",
                     " [31, 32, 0, 25, 47, 15, 45, 21, 33, 2, 44],\n",
                     " [31, 32, 0, 25, 47, 15, 21, 33, 2, 44],\n",
                     " [42, 7, 47, 15, 25, 45, 21, 33, 2, 44],\n",
                     " [49, 26, 15, 25, 14, 47, 22, 44],\n",
                     " [49, 26, 15, 25, 47, 22, 44],\n",
                     " [49, 26, 15, 3, 22, 44],\n",
                     " [49, 26, 15, 24, 33, 10, 3, 22, 44],\n",
                     " [49, 26, 15, 25, 45, 1, 33, 2, 44],\n",
                     " [49, 26, 15, 25, 45, 21, 5, 22, 44],\n",
                     " [49, 26, 15, 25, 11, 6, 3, 22, 44],\n",
                     " [49, 26, 15, 4, 22, 44],\n",
                     " [49, 26, 15, 25, 5, 22, 44],\n",
                     " [49, 26, 15, 25, 11, 6, 22, 44],\n",
                     " [49, 26, 15, 35, 21, 33, 2, 44],\n",
                     " [49, 26, 15, 24, 18, 35, 21, 33, 2, 44],\n",
                     " [49, 26, 15, 18, 35, 21, 33, 2, 44],\n",
                     " [49, 26, 15, 25, 12, 18, 35, 21, 33, 2, 44],\n",
                     " [49, 26, 15, 25, 47, 22, 19, 35, 21, 33, 2, 44],\n",
                     " [49, 26, 15, 25, 5, 22, 19, 35, 21, 33, 2, 44],\n",
                     " [49, 26, 15, 25, 39, 22, 19, 35, 21, 33, 2, 44],\n",
                     " [49, 26, 15, 14, 47, 22, 19, 35, 21, 33, 2, 44],\n",
                     " [49, 26, 15, 25, 14, 47, 22, 19, 35, 21, 33, 2, 44],\n",
                     " [49, 26, 15, 35, 21, 2, 44],\n",
                     " [49, 26, 15, 24, 18, 35, 21, 2, 44],\n",
                     " [49, 26, 15, 18, 35, 21, 2, 44],\n",
                     " [49, 26, 15, 25, 12, 18, 35, 21, 2, 44],\n",
                     " [49, 26, 15, 25, 47, 22, 19, 35, 21, 2, 44],\n",
                     " [49, 26, 15, 25, 5, 22, 19, 35, 21, 2, 44],\n",
                     " [49, 26, 15, 25, 39, 22, 19, 35, 21, 2, 44],\n",
                     " [49, 26, 15, 14, 47, 22, 19, 35, 21, 2, 44],\n",
                     " [49, 26, 15, 25, 14, 47, 22, 19, 35, 21, 2, 44],\n",
                     " [49, 26, 15, 14, 47, 22, 44],\n",
                     " [49, 26, 15, 35, 10, 3, 22, 44],\n",
                     " [49, 26, 15, 25, 11, 10, 3, 22, 44],\n",
                     " [49, 26, 15, 45, 1, 33, 2, 44],\n",
                     " [49, 26, 15, 14, 47, 1, 33, 2, 44],\n",
                     " [49, 26, 15, 25, 14, 47, 1, 33, 2, 44],\n",
                     " [49, 26, 15, 25, 47, 1, 33, 2, 44],\n",
                     " [49, 26, 15, 25, 5, 22, 47, 1, 33, 2, 44],\n",
                     " [49, 26, 15, 25, 39, 22, 47, 1, 33, 2, 44],\n",
                     " [49, 26, 15, 21, 5, 22, 47, 1, 33, 2, 44],\n",
                     " [49, 26, 15, 45, 21, 33, 2, 44],\n",
                     " [49, 26, 15, 21, 33, 2, 44],\n",
                     " [49, 26, 15, 25, 45, 21, 33, 2, 44],\n",
                     " [21, 33, 5, 15, 25, 14, 47, 22, 44],\n",
                     " [21, 33, 5, 15, 25, 47, 22, 44],\n",
                     " [21, 33, 5, 15, 3, 22, 44],\n",
                     " [43, 5, 15, 24, 33, 10, 3, 22, 44],\n",
                     " [43, 5, 15, 25, 45, 1, 33, 2, 44],\n",
                     " [21, 33, 5, 15, 25, 11, 6, 3, 22, 44],\n",
                     " [21, 33, 5, 15, 4, 22, 44],\n",
                     " [21, 33, 5, 15, 25, 11, 6, 22, 44],\n",
                     " [43, 5, 15, 35, 21, 33, 2, 44],\n",
                     " [43, 5, 15, 24, 18, 35, 21, 33, 2, 44],\n",
                     " [43, 5, 15, 18, 35, 21, 33, 2, 44],\n",
                     " [43, 5, 15, 25, 12, 18, 35, 21, 33, 2, 44],\n",
                     " [43, 5, 15, 25, 47, 22, 19, 35, 21, 33, 2, 44],\n",
                     " [43, 5, 15, 25, 39, 22, 19, 35, 21, 33, 2, 44],\n",
                     " [43, 5, 15, 14, 47, 22, 19, 35, 21, 33, 2, 44],\n",
                     " [43, 5, 15, 25, 14, 47, 22, 19, 35, 21, 33, 2, 44],\n",
                     " [23, 20, 33, 5, 15, 35, 21, 2, 44],\n",
                     " [23, 20, 33, 5, 15, 24, 18, 35, 21, 2, 44],\n",
                     " [23, 20, 33, 5, 15, 18, 35, 21, 2, 44],\n",
                     " [23, 20, 33, 5, 15, 25, 12, 18, 35, 21, 2, 44],\n",
                     " [23, 20, 33, 5, 15, 25, 47, 22, 19, 35, 21, 2, 44],\n",
                     " [23, 20, 33, 5, 15, 25, 39, 22, 19, 35, 21, 2, 44],\n",
                     " [23, 20, 33, 5, 15, 14, 47, 22, 19, 35, 21, 2, 44],\n",
                     " [23, 20, 33, 5, 15, 25, 14, 47, 22, 19, 35, 21, 2, 44],\n",
                     " [21, 33, 5, 15, 14, 47, 22, 44],\n",
                     " [21, 33, 5, 15, 35, 10, 3, 22, 44],\n",
                     " [21, 33, 5, 15, 25, 11, 10, 3, 22, 44],\n",
                     " [43, 5, 15, 45, 1, 33, 2, 44],\n",
                     " [43, 5, 15, 14, 47, 1, 33, 2, 44],\n",
                     " [43, 5, 15, 25, 14, 47, 1, 33, 2, 44],\n",
                     " [43, 5, 15, 25, 47, 1, 33, 2, 44],\n",
                     " [43, 5, 15, 25, 39, 22, 47, 1, 33, 2, 44],\n",
                     " [43, 5, 15, 45, 21, 33, 2, 44],\n",
                     " [43, 5, 15, 21, 33, 2, 44],\n",
                     " [43, 5, 15, 25, 45, 21, 33, 2, 44],\n",
                     " [40, 1, 15, 25, 14, 47, 22, 44],\n",
                     " [40, 1, 15, 25, 47, 22, 44],\n",
                     " [45, 0, 25, 40, 1, 15, 3, 22, 44],\n",
                     " [45, 0, 25, 40, 1, 15, 24, 33, 10, 3, 22, 44],\n",
                     " [40, 1, 15, 25, 45, 21, 5, 22, 44],\n",
                     " [40, 1, 15, 25, 11, 6, 3, 22, 44],\n",
                     " [45, 0, 25, 40, 1, 15, 4, 22, 44],\n",
                     " [40, 1, 15, 25, 5, 22, 44],\n",
                     " [40, 1, 15, 25, 11, 6, 22, 44],\n",
                     " [45, 0, 25, 40, 1, 15, 35, 21, 33, 2, 44],\n",
                     " [45, 0, 25, 40, 1, 15, 24, 18, 35, 21, 33, 2, 44],\n",
                     " [45, 0, 25, 40, 1, 15, 18, 35, 21, 33, 2, 44],\n",
                     " [40, 1, 15, 25, 12, 18, 35, 21, 33, 2, 44],\n",
                     " [40, 1, 15, 25, 47, 22, 19, 35, 21, 33, 2, 44],\n",
                     " [40, 1, 15, 25, 5, 22, 19, 35, 21, 33, 2, 44],\n",
                     " [40, 1, 15, 25, 39, 22, 19, 35, 21, 33, 2, 44],\n",
                     " [45, 0, 25, 40, 1, 15, 14, 47, 22, 19, 35, 21, 33, 2, 44],\n",
                     " [40, 1, 15, 25, 14, 47, 22, 19, 35, 21, 33, 2, 44],\n",
                     " [45, 0, 25, 40, 1, 15, 35, 21, 2, 44],\n",
                     " [45, 0, 25, 40, 1, 15, 24, 18, 35, 21, 2, 44],\n",
                     " [45, 0, 25, 40, 1, 15, 18, 35, 21, 2, 44],\n",
                     " [40, 1, 15, 25, 12, 18, 35, 21, 2, 44],\n",
                     " [40, 1, 15, 25, 47, 22, 19, 35, 21, 2, 44],\n",
                     " [40, 1, 15, 25, 5, 22, 19, 35, 21, 2, 44],\n",
                     " [40, 1, 15, 25, 39, 22, 19, 35, 21, 2, 44],\n",
                     " [45, 0, 25, 40, 1, 15, 14, 47, 22, 19, 35, 21, 2, 44],\n",
                     " [40, 1, 15, 25, 14, 47, 22, 19, 35, 21, 2, 44],\n",
                     " [45, 0, 25, 40, 1, 15, 14, 47, 22, 44],\n",
                     " [45, 0, 25, 40, 1, 15, 35, 10, 3, 22, 44],\n",
                     " [40, 1, 15, 25, 11, 10, 3, 22, 44],\n",
                     " [0, 25, 40, 1, 15, 45, 21, 33, 2, 44],\n",
                     " [45, 0, 25, 40, 1, 15, 21, 33, 2, 44],\n",
                     " [40, 1, 15, 25, 45, 21, 33, 2, 44],\n",
                     " [21, 32, 0, 15, 25, 14, 47, 22, 44],\n",
                     " [21, 32, 0, 15, 25, 47, 22, 44],\n",
                     " ...]"
                  ]
               },
               "execution_count": 7,
               "metadata": {},
               "output_type": "execute_result"
            }
         ],
         "source": [
            "selected_chains = []\n",
            "for chain in Network.chains_rev_repo:\n",
            "    if 44 in chain[1:]:\n",
            "        selected_chains.append(chain)\n",
            "selected_chains"
         ]
      },
      {
         "cell_type": "code",
         "execution_count": 25,
         "metadata": {},
         "outputs": [
            {
               "name": "stdout",
               "output_type": "stream",
               "text": [
                  "Bank 44\n",
                  "        ----------------------------------------\n",
                  "        Total Assets: 679.34\n",
                  "        ----Cash: 3.0\n",
                  "        ----Securities Usable: 0.0\n",
                  "        ----Securities Encumbered: 30.84\n",
                  "        ----Reverse Repos: 167.25\n",
                  "        ----Loans: 54.95\n",
                  "        ----------------------------------------\n",
                  "        Total Liabilities: 679.34\n",
                  "        ----Own Funds: 1.95\n",
                  "        ----Deposits: 11.79\n",
                  "        ----Repos: 195.19\n",
                  "        ----MROs: 47.11\n",
                  "        ----------------------------------------\n",
                  "        Off-balance sheet Items:\n",
                  "        ----Collateral received: 2.9\n",
                  "        ----Collateral Reuse: 164.35\n",
                  "        ----------------------------------------\n",
                  "        Regulatory:\n",
                  "        ----Liquidity Coverage Ratio: 100.0%\n",
                  "        ----Cash / Deposits (for minimal reserves): 25.43%\n",
                  "        ----Leverage / Solvency ratio: 0.76%\n",
                  "        \n"
               ]
            }
         ],
         "source": [
            "print(Network.banks[44])"
         ]
      },
      {
         "cell_type": "code",
         "execution_count": 15,
         "metadata": {},
         "outputs": [
            {
               "data": {
                  "text/html": [
                     "<div>\n",
                     "<style scoped>\n",
                     "    .dataframe tbody tr th:only-of-type {\n",
                     "        vertical-align: middle;\n",
                     "    }\n",
                     "\n",
                     "    .dataframe tbody tr th {\n",
                     "        vertical-align: top;\n",
                     "    }\n",
                     "\n",
                     "    .dataframe thead th {\n",
                     "        text-align: right;\n",
                     "    }\n",
                     "</style>\n",
                     "<table border=\"1\" class=\"dataframe\">\n",
                     "  <thead>\n",
                     "    <tr style=\"text-align: right;\">\n",
                     "      <th></th>\n",
                     "      <th></th>\n",
                     "      <th>amount</th>\n",
                     "      <th>start_step</th>\n",
                     "      <th>end_step</th>\n",
                     "      <th>status</th>\n",
                     "    </tr>\n",
                     "    <tr>\n",
                     "      <th>bank_id</th>\n",
                     "      <th>trans_id</th>\n",
                     "      <th></th>\n",
                     "      <th></th>\n",
                     "      <th></th>\n",
                     "      <th></th>\n",
                     "    </tr>\n",
                     "  </thead>\n",
                     "  <tbody>\n",
                     "    <tr>\n",
                     "      <th>40</th>\n",
                     "      <th>0</th>\n",
                     "      <td>0.959584</td>\n",
                     "      <td>1</td>\n",
                     "      <td>NaN</td>\n",
                     "      <td>True</td>\n",
                     "    </tr>\n",
                     "    <tr>\n",
                     "      <th>35</th>\n",
                     "      <th>0</th>\n",
                     "      <td>0.121694</td>\n",
                     "      <td>1</td>\n",
                     "      <td>NaN</td>\n",
                     "      <td>True</td>\n",
                     "    </tr>\n",
                     "    <tr>\n",
                     "      <th>17</th>\n",
                     "      <th>0</th>\n",
                     "      <td>0.27862</td>\n",
                     "      <td>1</td>\n",
                     "      <td>NaN</td>\n",
                     "      <td>True</td>\n",
                     "    </tr>\n",
                     "    <tr>\n",
                     "      <th>40</th>\n",
                     "      <th>1</th>\n",
                     "      <td>13.473041</td>\n",
                     "      <td>9</td>\n",
                     "      <td>NaN</td>\n",
                     "      <td>True</td>\n",
                     "    </tr>\n",
                     "    <tr>\n",
                     "      <th>21</th>\n",
                     "      <th>0</th>\n",
                     "      <td>0.6912</td>\n",
                     "      <td>10</td>\n",
                     "      <td>60</td>\n",
                     "      <td>False</td>\n",
                     "    </tr>\n",
                     "    <tr>\n",
                     "      <th>...</th>\n",
                     "      <th>...</th>\n",
                     "      <td>...</td>\n",
                     "      <td>...</td>\n",
                     "      <td>...</td>\n",
                     "      <td>...</td>\n",
                     "    </tr>\n",
                     "    <tr>\n",
                     "      <th>40</th>\n",
                     "      <th>31</th>\n",
                     "      <td>40.993917</td>\n",
                     "      <td>171</td>\n",
                     "      <td>NaN</td>\n",
                     "      <td>True</td>\n",
                     "    </tr>\n",
                     "    <tr>\n",
                     "      <th>46</th>\n",
                     "      <th>10</th>\n",
                     "      <td>0.820983</td>\n",
                     "      <td>74</td>\n",
                     "      <td>180</td>\n",
                     "      <td>False</td>\n",
                     "    </tr>\n",
                     "    <tr>\n",
                     "      <th>5</th>\n",
                     "      <th>12</th>\n",
                     "      <td>0.38308</td>\n",
                     "      <td>123</td>\n",
                     "      <td>180</td>\n",
                     "      <td>False</td>\n",
                     "    </tr>\n",
                     "    <tr>\n",
                     "      <th>29</th>\n",
                     "      <th>8</th>\n",
                     "      <td>0.623479</td>\n",
                     "      <td>77</td>\n",
                     "      <td>180</td>\n",
                     "      <td>False</td>\n",
                     "    </tr>\n",
                     "    <tr>\n",
                     "      <th>21</th>\n",
                     "      <th>18</th>\n",
                     "      <td>0.402486</td>\n",
                     "      <td>27</td>\n",
                     "      <td>180</td>\n",
                     "      <td>False</td>\n",
                     "    </tr>\n",
                     "  </tbody>\n",
                     "</table>\n",
                     "<p>125 rows × 4 columns</p>\n",
                     "</div>"
                  ],
                  "text/plain": [
                     "                     amount start_step end_step status\n",
                     "bank_id trans_id                                      \n",
                     "40      0          0.959584          1      NaN   True\n",
                     "35      0          0.121694          1      NaN   True\n",
                     "17      0           0.27862          1      NaN   True\n",
                     "40      1         13.473041          9      NaN   True\n",
                     "21      0            0.6912         10       60  False\n",
                     "...                     ...        ...      ...    ...\n",
                     "40      31        40.993917        171      NaN   True\n",
                     "46      10         0.820983         74      180  False\n",
                     "5       12          0.38308        123      180  False\n",
                     "29      8          0.623479         77      180  False\n",
                     "21      18         0.402486         27      180  False\n",
                     "\n",
                     "[125 rows x 4 columns]"
                  ]
               },
               "execution_count": 15,
               "metadata": {},
               "output_type": "execute_result"
            }
         ],
         "source": [
            "Network.banks[32].df_rev_repo_trans"
         ]
      },
      {
         "cell_type": "code",
         "execution_count": 9,
         "metadata": {},
         "outputs": [
            {
               "data": {
                  "text/plain": [
                     "[[8, 27, 22, 7],\n",
                     " [8, 27, 22, 15],\n",
                     " [8, 27, 22, 3],\n",
                     " [8, 27, 22, 11, 38, 34],\n",
                     " [8, 27, 22, 28, 38, 4],\n",
                     " [8, 27, 22, 13],\n",
                     " [8, 27, 22, 29],\n",
                     " [8, 27, 22, 30, 7],\n",
                     " [8, 27, 22, 31],\n",
                     " [8, 27, 22, 39],\n",
                     " [8, 27, 22, 26],\n",
                     " [8, 27, 22, 16, 25],\n",
                     " [8, 27, 22, 47, 10, 11],\n",
                     " [8, 27, 22, 48],\n",
                     " [8, 22, 29],\n",
                     " [8, 22, 30, 7],\n",
                     " [8, 22, 47, 10, 11],\n",
                     " [8, 22, 31],\n",
                     " [8, 22, 15],\n",
                     " [8, 22, 39],\n",
                     " [8, 22, 11, 38, 34],\n",
                     " [8, 22, 26],\n",
                     " [8, 22, 7],\n",
                     " [8, 22, 3],\n",
                     " [8, 22, 28, 38, 4],\n",
                     " [8, 22, 13],\n",
                     " [8, 22, 16, 25],\n",
                     " [8, 22, 48],\n",
                     " [8, 27, 22, 7],\n",
                     " [8, 27, 22, 15],\n",
                     " [8, 27, 22, 3],\n",
                     " [8, 27, 22, 11, 38, 34],\n",
                     " [8, 27, 22, 28, 38, 4],\n",
                     " [8, 27, 22, 13],\n",
                     " [8, 27, 22, 29],\n",
                     " [8, 27, 22, 30, 7],\n",
                     " [8, 27, 22, 31],\n",
                     " [8, 27, 22, 39],\n",
                     " [8, 27, 22, 26],\n",
                     " [8, 27, 22, 16, 25],\n",
                     " [8, 27, 22, 47, 10, 11],\n",
                     " [8, 27, 22, 48],\n",
                     " [8, 27, 22, 29],\n",
                     " [8, 27, 22, 30, 7],\n",
                     " [8, 27, 22, 47, 10, 11],\n",
                     " [8, 27, 22, 31],\n",
                     " [8, 27, 22, 15],\n",
                     " [8, 27, 22, 39],\n",
                     " [8, 27, 22, 11, 38, 34],\n",
                     " [8, 27, 22, 26],\n",
                     " [8, 27, 22, 7],\n",
                     " [8, 27, 22, 3],\n",
                     " [8, 27, 22, 28, 38, 4],\n",
                     " [8, 27, 22, 13],\n",
                     " [8, 27, 22, 16, 25],\n",
                     " [8, 27, 22, 48],\n",
                     " [8, 22, 29],\n",
                     " [8, 22, 30, 7],\n",
                     " [8, 22, 47, 10, 11],\n",
                     " [8, 22, 31],\n",
                     " [8, 22, 15],\n",
                     " [8, 22, 39],\n",
                     " [8, 22, 11, 38, 34],\n",
                     " [8, 22, 26],\n",
                     " [8, 22, 7],\n",
                     " [8, 22, 3],\n",
                     " [8, 22, 28, 38, 4],\n",
                     " [8, 22, 13],\n",
                     " [8, 22, 16, 25],\n",
                     " [8, 22, 48],\n",
                     " [8, 27, 22, 7],\n",
                     " [8, 27, 22, 15],\n",
                     " [8, 27, 22, 3],\n",
                     " [8, 27, 22, 11, 38, 34],\n",
                     " [8, 27, 22, 28, 38, 4],\n",
                     " [8, 27, 22, 13],\n",
                     " [8, 27, 22, 29],\n",
                     " [8, 27, 22, 30, 7],\n",
                     " [8, 27, 22, 31],\n",
                     " [8, 27, 22, 39],\n",
                     " [8, 27, 22, 26],\n",
                     " [8, 27, 22, 16, 25],\n",
                     " [8, 27, 22, 47, 10, 11],\n",
                     " [8, 27, 22, 48],\n",
                     " [8, 27, 22, 30, 7],\n",
                     " [8, 27, 22, 15],\n",
                     " [8, 27, 22, 29],\n",
                     " [8, 27, 22, 7],\n",
                     " [8, 27, 22, 3],\n",
                     " [8, 27, 22, 11, 38, 34],\n",
                     " [8, 27, 22, 28, 38, 4],\n",
                     " [8, 27, 22, 13],\n",
                     " [8, 27, 22, 31],\n",
                     " [8, 27, 22, 39],\n",
                     " [8, 27, 22, 26],\n",
                     " [8, 27, 22, 16, 25],\n",
                     " [8, 27, 22, 47, 10, 11],\n",
                     " [8, 27, 22, 48],\n",
                     " [8, 44, 21, 18, 12, 27, 22, 7],\n",
                     " [8, 44, 21, 18, 12, 27, 22, 16, 25],\n",
                     " [8, 44, 21, 18, 12, 27, 22, 48],\n",
                     " [8, 44, 21, 18, 12, 27, 22, 30, 7],\n",
                     " [8, 44, 21, 18, 12, 27, 22, 15],\n",
                     " [8, 44, 21, 18, 12, 27, 22, 29],\n",
                     " [8, 44, 21, 18, 12, 27, 22, 47, 10, 11],\n",
                     " [8, 44, 21, 18, 12, 27, 22, 13],\n",
                     " [8, 44, 21, 18, 12, 27, 22, 31],\n",
                     " [8, 44, 21, 18, 12, 27, 22, 26],\n",
                     " [8, 44, 21, 18, 12, 27, 22, 3],\n",
                     " [8, 44, 21, 18, 12, 27, 22, 39],\n",
                     " [8, 27, 22, 29],\n",
                     " [8, 27, 22, 30, 7],\n",
                     " [8, 27, 22, 47, 10, 11],\n",
                     " [8, 27, 22, 31],\n",
                     " [8, 27, 22, 15],\n",
                     " [8, 27, 22, 39],\n",
                     " [8, 27, 22, 11, 38, 34],\n",
                     " [8, 27, 22, 26],\n",
                     " [8, 27, 22, 7],\n",
                     " [8, 27, 22, 3],\n",
                     " [8, 27, 22, 28, 38, 4],\n",
                     " [8, 27, 22, 13],\n",
                     " [8, 27, 22, 16, 25],\n",
                     " [8, 27, 22, 48],\n",
                     " [8, 27, 22, 11, 38, 34],\n",
                     " [8, 22, 11, 38, 34],\n",
                     " [8, 27, 22, 29],\n",
                     " [8, 22, 29],\n",
                     " [8, 44, 21, 18, 12, 27, 22, 29],\n",
                     " [8, 27, 22, 31],\n",
                     " [8, 22, 31],\n",
                     " [8, 44, 21, 18, 12, 27, 22, 31],\n",
                     " [8, 27, 41, 22, 31],\n",
                     " [8, 27, 22, 28, 38, 4],\n",
                     " [8, 22, 28, 38, 4],\n",
                     " [8, 27, 41, 22, 28, 38, 4],\n",
                     " [8, 27, 22, 39],\n",
                     " [8, 22, 39],\n",
                     " [8, 44, 21, 18, 12, 27, 22, 39],\n",
                     " [8, 27, 41, 22, 39],\n",
                     " [8, 27, 22, 13],\n",
                     " [8, 22, 13],\n",
                     " [8, 44, 21, 18, 12, 27, 22, 13],\n",
                     " [8, 27, 41, 22, 13],\n",
                     " [8, 27, 22, 47, 10, 11],\n",
                     " [8, 22, 47, 10, 11],\n",
                     " [8, 44, 21, 18, 12, 27, 22, 47, 10, 11],\n",
                     " [8, 27, 41, 22, 47, 10, 11],\n",
                     " [8, 27, 22, 7],\n",
                     " [8, 22, 7],\n",
                     " [8, 44, 21, 18, 12, 27, 22, 7],\n",
                     " [8, 27, 41, 22, 7],\n",
                     " [8, 27, 22, 16, 25],\n",
                     " [8, 22, 16, 25],\n",
                     " [8, 44, 21, 18, 12, 27, 22, 16, 25],\n",
                     " [8, 27, 41, 22, 16, 25],\n",
                     " [8, 27, 22, 15],\n",
                     " [8, 22, 15],\n",
                     " [8, 44, 21, 18, 12, 27, 22, 15],\n",
                     " [8, 27, 41, 22, 15],\n",
                     " [8, 27, 22, 3],\n",
                     " [8, 22, 3],\n",
                     " [8, 44, 21, 18, 12, 27, 22, 3],\n",
                     " [8, 27, 41, 22, 3],\n",
                     " [8, 27, 22, 26],\n",
                     " [8, 22, 26],\n",
                     " [8, 44, 21, 18, 12, 27, 22, 26],\n",
                     " [8, 27, 41, 22, 26],\n",
                     " [8, 27, 22, 26],\n",
                     " [8, 22, 26],\n",
                     " [8, 44, 21, 18, 12, 27, 22, 26],\n",
                     " [8, 27, 41, 22, 26],\n",
                     " [8, 0, 37, 1, 12, 27, 22, 7],\n",
                     " [8, 0, 37, 1, 12, 27, 22, 16, 25],\n",
                     " [8, 0, 37, 1, 12, 27, 22, 11, 38, 34],\n",
                     " [8, 0, 37, 1, 12, 27, 22, 48],\n",
                     " [8, 0, 37, 1, 12, 27, 22, 30, 7],\n",
                     " [8, 0, 37, 1, 12, 27, 22, 15],\n",
                     " [8, 0, 37, 1, 12, 27, 22, 47, 10, 11],\n",
                     " [8, 0, 37, 1, 12, 27, 22, 29],\n",
                     " [8, 0, 37, 1, 12, 27, 22, 13],\n",
                     " [8, 0, 37, 1, 12, 27, 22, 31],\n",
                     " [8, 0, 37, 1, 12, 27, 22, 26],\n",
                     " [8, 0, 37, 1, 12, 27, 22, 3],\n",
                     " [8, 0, 37, 1, 12, 27, 22, 39],\n",
                     " [8, 27, 22, 47, 10, 11],\n",
                     " [8, 22, 47, 10, 11],\n",
                     " [8, 44, 21, 18, 12, 27, 22, 47, 10, 11],\n",
                     " [8, 27, 41, 22, 47, 10, 11],\n",
                     " [8, 0, 37, 1, 12, 27, 22, 47, 10, 11],\n",
                     " [8, 27, 22, 11, 38, 34],\n",
                     " [8, 22, 11, 38, 34],\n",
                     " [8, 27, 41, 22, 11, 38, 34],\n",
                     " [8, 0, 37, 1, 12, 27, 22, 11, 38, 34],\n",
                     " [8, 27, 22, 13],\n",
                     " [8, 22, 13],\n",
                     " [8, 44, 21, 18, 12, 27, 22, 13],\n",
                     " [8, 27, 41, 22, 13],\n",
                     " [8, 0, 37, 1, 12, 27, 22, 13],\n",
                     " [8, 27, 22, 47, 10, 11],\n",
                     " [8, 22, 47, 10, 11],\n",
                     " [8, 44, 21, 18, 12, 27, 22, 47, 10, 11],\n",
                     " [8, 27, 41, 22, 47, 10, 11],\n",
                     " [8, 0, 37, 1, 12, 27, 22, 47, 10, 11],\n",
                     " [8, 44, 21, 18, 12, 27, 22, 7],\n",
                     " [8, 44, 21, 18, 12, 27, 22, 16, 25],\n",
                     " [8, 44, 21, 18, 12, 27, 22, 48],\n",
                     " [8, 44, 21, 18, 12, 27, 22, 30, 7],\n",
                     " [8, 44, 21, 18, 12, 27, 22, 15],\n",
                     " [8, 44, 21, 18, 12, 27, 22, 29],\n",
                     " [8, 44, 21, 18, 12, 27, 22, 47, 10, 11],\n",
                     " [8, 44, 21, 18, 12, 27, 22, 13],\n",
                     " [8, 44, 21, 18, 12, 27, 22, 31],\n",
                     " [8, 44, 21, 18, 12, 27, 22, 26],\n",
                     " [8, 44, 21, 18, 12, 27, 22, 3],\n",
                     " [8, 44, 21, 18, 12, 27, 22, 39],\n",
                     " [8, 27, 22, 13],\n",
                     " [8, 22, 13],\n",
                     " [8, 44, 21, 18, 12, 27, 22, 13],\n",
                     " [8, 27, 41, 22, 13],\n",
                     " [8, 0, 37, 1, 12, 27, 22, 13],\n",
                     " [8, 27, 22, 11, 38, 34],\n",
                     " [8, 22, 11, 38, 34],\n",
                     " [8, 27, 41, 22, 11, 38, 34],\n",
                     " [8, 0, 37, 1, 12, 27, 22, 11, 38, 34],\n",
                     " [8, 27, 22, 13],\n",
                     " [8, 22, 13],\n",
                     " [8, 44, 21, 18, 12, 27, 22, 13],\n",
                     " [8, 27, 41, 22, 13],\n",
                     " [8, 0, 37, 1, 12, 27, 22, 13],\n",
                     " [8, 27, 22, 30, 7],\n",
                     " [8, 22, 30, 7],\n",
                     " [8, 44, 21, 18, 12, 27, 22, 30, 7],\n",
                     " [8, 27, 41, 22, 30, 7],\n",
                     " [8, 0, 37, 1, 12, 27, 22, 30, 7],\n",
                     " [8, 27, 22, 39],\n",
                     " [8, 22, 39],\n",
                     " [8, 44, 21, 18, 12, 27, 22, 39],\n",
                     " [8, 27, 41, 22, 39],\n",
                     " [8, 0, 37, 1, 12, 27, 22, 39],\n",
                     " [8, 27, 22, 3],\n",
                     " [8, 22, 3],\n",
                     " [8, 44, 21, 18, 12, 27, 22, 3],\n",
                     " [8, 27, 41, 22, 3],\n",
                     " [8, 0, 37, 1, 12, 27, 22, 3],\n",
                     " [8, 27, 22, 11, 38, 34],\n",
                     " [8, 22, 11, 38, 34],\n",
                     " [8, 27, 41, 22, 11, 38, 34],\n",
                     " [8, 0, 37, 1, 12, 27, 22, 11, 38, 34],\n",
                     " [8, 0, 37, 1, 12, 27, 22, 7],\n",
                     " [8, 0, 37, 1, 12, 27, 22, 16, 25],\n",
                     " [8, 0, 37, 1, 12, 27, 22, 11, 38, 34],\n",
                     " [8, 0, 37, 1, 12, 27, 22, 48],\n",
                     " [8, 0, 37, 1, 12, 27, 22, 30, 7],\n",
                     " [8, 0, 37, 1, 12, 27, 22, 15],\n",
                     " [8, 0, 37, 1, 12, 27, 22, 47, 10, 11],\n",
                     " [8, 0, 37, 1, 12, 27, 22, 29],\n",
                     " [8, 0, 37, 1, 12, 27, 22, 13],\n",
                     " [8, 0, 37, 1, 12, 27, 22, 31],\n",
                     " [8, 0, 37, 1, 12, 27, 22, 26],\n",
                     " [8, 0, 37, 1, 12, 27, 22, 3],\n",
                     " [8, 0, 37, 1, 12, 27, 22, 39],\n",
                     " [8, 27, 22, 15],\n",
                     " [8, 22, 15],\n",
                     " [8, 44, 21, 18, 12, 27, 22, 15],\n",
                     " [8, 27, 41, 22, 15],\n",
                     " [8, 0, 37, 1, 12, 27, 22, 15],\n",
                     " [8, 27, 22, 11, 38, 34],\n",
                     " [8, 22, 11, 38, 34],\n",
                     " [8, 27, 41, 22, 11, 38, 34],\n",
                     " [8, 0, 37, 1, 12, 27, 22, 11, 38, 34],\n",
                     " [8, 27, 22, 16, 25],\n",
                     " [8, 22, 16, 25],\n",
                     " [8, 44, 21, 18, 12, 27, 22, 16, 25],\n",
                     " [8, 27, 41, 22, 16, 25],\n",
                     " [8, 0, 37, 1, 12, 27, 22, 16, 25],\n",
                     " [8, 27, 22, 47, 10, 11],\n",
                     " [8, 22, 47, 10, 11],\n",
                     " [8, 44, 21, 18, 12, 27, 22, 47, 10, 11],\n",
                     " [8, 27, 41, 22, 47, 10, 11],\n",
                     " [8, 0, 37, 1, 12, 27, 22, 47, 10, 11],\n",
                     " [8, 27, 22, 26],\n",
                     " [8, 22, 26],\n",
                     " [8, 44, 21, 18, 12, 27, 22, 26],\n",
                     " [8, 27, 41, 22, 26],\n",
                     " [8, 0, 37, 1, 12, 27, 22, 26],\n",
                     " [8, 27, 22, 3],\n",
                     " [8, 22, 3],\n",
                     " [8, 44, 21, 18, 12, 27, 22, 3],\n",
                     " [8, 27, 41, 22, 3],\n",
                     " [8, 0, 37, 1, 12, 27, 22, 3],\n",
                     " [8, 27, 22, 29],\n",
                     " [8, 22, 29],\n",
                     " [8, 44, 21, 18, 12, 27, 22, 29],\n",
                     " [8, 27, 41, 22, 29],\n",
                     " [8, 0, 37, 1, 12, 27, 22, 29],\n",
                     " [8, 27, 22, 30, 7],\n",
                     " [8, 22, 30, 7],\n",
                     " [8, 44, 21, 18, 12, 27, 22, 30, 7],\n",
                     " [8, 27, 41, 22, 30, 7],\n",
                     " [8, 0, 37, 1, 12, 27, 22, 30, 7],\n",
                     " [8, 27, 22, 48],\n",
                     " [8, 22, 48],\n",
                     " [8, 44, 21, 18, 12, 27, 22, 48],\n",
                     " [8, 27, 41, 22, 48],\n",
                     " [8, 0, 37, 1, 12, 27, 22, 48],\n",
                     " [8, 27, 22, 39],\n",
                     " [8, 22, 39],\n",
                     " [8, 44, 21, 18, 12, 27, 22, 39],\n",
                     " [8, 27, 41, 22, 39],\n",
                     " [8, 0, 37, 1, 12, 27, 22, 39],\n",
                     " [8, 27, 22, 28, 38, 4],\n",
                     " [8, 22, 28, 38, 4],\n",
                     " [8, 27, 41, 22, 28, 38, 4],\n",
                     " [8, 27, 22, 7],\n",
                     " [8, 22, 7],\n",
                     " [8, 44, 21, 18, 12, 27, 22, 7],\n",
                     " [8, 27, 41, 22, 7],\n",
                     " [8, 0, 37, 1, 12, 27, 22, 7],\n",
                     " [8, 27, 22, 13],\n",
                     " [8, 22, 13],\n",
                     " [8, 44, 21, 18, 12, 27, 22, 13],\n",
                     " [8, 27, 41, 22, 13],\n",
                     " [8, 0, 37, 1, 12, 27, 22, 13],\n",
                     " [8, 27, 22, 31],\n",
                     " [8, 22, 31],\n",
                     " [8, 44, 21, 18, 12, 27, 22, 31],\n",
                     " [8, 27, 41, 22, 31],\n",
                     " [8, 0, 37, 1, 12, 27, 22, 31],\n",
                     " [8, 0, 37, 1, 12, 27, 22, 7],\n",
                     " [8, 0, 37, 1, 12, 27, 22, 47, 10, 11],\n",
                     " [8, 0, 37, 1, 12, 27, 22, 16, 25],\n",
                     " [8, 0, 37, 1, 12, 27, 22, 11, 38, 34],\n",
                     " [8, 0, 37, 1, 12, 27, 22, 48],\n",
                     " [8, 0, 37, 1, 12, 27, 22, 30, 7],\n",
                     " [8, 0, 37, 1, 12, 27, 22, 15],\n",
                     " [8, 0, 37, 1, 12, 27, 22, 29],\n",
                     " [8, 0, 37, 1, 12, 27, 22, 13],\n",
                     " [8, 0, 37, 1, 12, 27, 22, 31],\n",
                     " [8, 0, 37, 1, 12, 27, 22, 26],\n",
                     " [8, 0, 37, 1, 12, 27, 22, 3],\n",
                     " [8, 0, 37, 1, 12, 27, 22, 39],\n",
                     " [8, 44, 21, 18, 37, 1, 12, 27, 22, 7],\n",
                     " [8, 44, 21, 18, 37, 1, 12, 27, 22, 47, 10, 11],\n",
                     " [8, 44, 21, 18, 37, 1, 12, 27, 22, 16, 25],\n",
                     " [8, 44, 21, 18, 37, 1, 12, 27, 22, 48],\n",
                     " [8, 44, 21, 18, 37, 1, 12, 27, 22, 30, 7],\n",
                     " [8, 44, 21, 18, 37, 1, 12, 27, 22, 15],\n",
                     " [8, 44, 21, 18, 37, 1, 12, 27, 22, 29],\n",
                     " [8, 44, 21, 18, 37, 1, 12, 27, 22, 13],\n",
                     " [8, 44, 21, 18, 37, 1, 12, 27, 22, 31],\n",
                     " [8, 44, 21, 18, 37, 1, 12, 27, 22, 26],\n",
                     " [8, 44, 21, 18, 37, 1, 12, 27, 22, 3],\n",
                     " [8, 44, 21, 18, 37, 1, 12, 27, 22, 39],\n",
                     " [8, 18, 12, 27, 22, 7],\n",
                     " [8, 18, 12, 27, 22, 16, 25],\n",
                     " [8, 18, 12, 27, 22, 11, 38, 34],\n",
                     " [8, 18, 12, 27, 22, 48],\n",
                     " [8, 18, 12, 27, 22, 30, 7],\n",
                     " [8, 18, 12, 27, 22, 15],\n",
                     " [8, 18, 12, 27, 22, 47, 10, 11],\n",
                     " [8, 18, 12, 27, 22, 29],\n",
                     " [8, 18, 12, 27, 22, 13],\n",
                     " [8, 18, 12, 27, 22, 31],\n",
                     " [8, 18, 12, 27, 22, 26],\n",
                     " [8, 18, 12, 27, 22, 3],\n",
                     " [8, 18, 12, 27, 22, 39],\n",
                     " [8, 44, 21, 18, 12, 27, 22, 7],\n",
                     " [8, 44, 21, 18, 12, 27, 22, 16, 25],\n",
                     " [8, 44, 21, 18, 12, 27, 22, 48],\n",
                     " [8, 44, 21, 18, 12, 27, 22, 30, 7],\n",
                     " [8, 44, 21, 18, 12, 27, 22, 15],\n",
                     " [8, 44, 21, 18, 12, 27, 22, 29],\n",
                     " [8, 44, 21, 18, 12, 27, 22, 47, 10, 11],\n",
                     " [8, 44, 21, 18, 12, 27, 22, 13],\n",
                     " [8, 44, 21, 18, 12, 27, 22, 31],\n",
                     " [8, 44, 21, 18, 12, 27, 22, 26],\n",
                     " [8, 44, 21, 18, 12, 27, 22, 3],\n",
                     " [8, 44, 21, 18, 12, 27, 22, 39],\n",
                     " [8, 0, 37, 12, 27, 22, 7],\n",
                     " [8, 0, 37, 12, 27, 22, 16, 25],\n",
                     " [8, 0, 37, 12, 27, 22, 11, 38, 34],\n",
                     " [8, 0, 37, 12, 27, 22, 48],\n",
                     " [8, 0, 37, 12, 27, 22, 30, 7],\n",
                     " [8, 0, 37, 12, 27, 22, 15],\n",
                     " [8, 0, 37, 12, 27, 22, 47, 10, 11],\n",
                     " [8, 0, 37, 12, 27, 22, 29],\n",
                     " [8, 0, 37, 12, 27, 22, 13],\n",
                     " [8, 0, 37, 12, 27, 22, 31],\n",
                     " [8, 0, 37, 12, 27, 22, 26],\n",
                     " [8, 0, 37, 12, 27, 22, 3],\n",
                     " [8, 0, 37, 12, 27, 22, 39],\n",
                     " [8, 44, 21, 18, 37, 12, 27, 22, 7],\n",
                     " [8, 44, 21, 18, 37, 12, 27, 22, 16, 25],\n",
                     " [8, 44, 21, 18, 37, 12, 27, 22, 48],\n",
                     " [8, 44, 21, 18, 37, 12, 27, 22, 30, 7],\n",
                     " [8, 44, 21, 18, 37, 12, 27, 22, 15],\n",
                     " [8, 44, 21, 18, 37, 12, 27, 22, 29],\n",
                     " [8, 44, 21, 18, 37, 12, 27, 22, 47, 10, 11],\n",
                     " [8, 44, 21, 18, 37, 12, 27, 22, 13],\n",
                     " [8, 44, 21, 18, 37, 12, 27, 22, 31],\n",
                     " [8, 44, 21, 18, 37, 12, 27, 22, 26],\n",
                     " [8, 44, 21, 18, 37, 12, 27, 22, 3],\n",
                     " [8, 44, 21, 18, 37, 12, 27, 22, 39],\n",
                     " [8, 27, 22, 17, 32],\n",
                     " [8, 22, 17, 32],\n",
                     " [8, 44, 21, 18, 12, 27, 22, 17, 32],\n",
                     " [8, 0, 37, 1, 12, 27, 22, 17, 32],\n",
                     " [8, 27, 41, 22, 17, 32],\n",
                     " [8, 44, 21, 18, 37, 1, 12, 27, 22, 17, 32],\n",
                     " [8, 18, 12, 27, 22, 17, 32],\n",
                     " [8, 0, 37, 12, 27, 22, 17, 32],\n",
                     " [8, 44, 21, 18, 37, 12, 27, 22, 17, 32],\n",
                     " [8, 27, 41, 22, 29],\n",
                     " [8, 27, 22, 29],\n",
                     " [8, 22, 29],\n",
                     " [8, 44, 21, 18, 12, 27, 22, 29],\n",
                     " [8, 0, 37, 1, 12, 27, 22, 29],\n",
                     " [8, 44, 21, 18, 37, 1, 12, 27, 22, 29],\n",
                     " [8, 18, 12, 27, 22, 29],\n",
                     " [8, 0, 37, 12, 27, 22, 29],\n",
                     " [8, 44, 21, 18, 37, 12, 27, 22, 29],\n",
                     " [8, 27, 22, 38, 34],\n",
                     " [8, 22, 38, 34],\n",
                     " [8, 27, 41, 22, 38, 34],\n",
                     " [8, 27, 22, 6, 38, 34],\n",
                     " [8, 0, 37, 1, 12, 27, 22, 38, 34],\n",
                     " [8, 18, 12, 27, 22, 38, 34],\n",
                     " [8, 0, 37, 12, 27, 22, 38, 34],\n",
                     " [8, 27, 22, 6, 38, 34],\n",
                     " [8, 22, 6, 38, 34],\n",
                     " [8, 0, 37, 1, 12, 27, 22, 6, 38, 34],\n",
                     " [8, 27, 41, 22, 6, 38, 34],\n",
                     " [8, 18, 12, 27, 22, 6, 38, 34],\n",
                     " [8, 0, 37, 12, 27, 22, 6, 38, 34],\n",
                     " [44, 23, 30, 7],\n",
                     " [8, 27, 22, 36, 33],\n",
                     " [8, 22, 36, 33],\n",
                     " [8, 44, 21, 18, 12, 27, 22, 36, 33],\n",
                     " [8, 27, 41, 22, 36, 33],\n",
                     " [8, 0, 37, 1, 12, 27, 22, 36, 33],\n",
                     " [8, 44, 21, 18, 37, 1, 12, 27, 22, 36, 33],\n",
                     " [8, 18, 12, 27, 22, 36, 33],\n",
                     " [8, 0, 37, 12, 27, 22, 36, 33],\n",
                     " [8, 44, 21, 18, 37, 12, 27, 22, 36, 33],\n",
                     " [8, 27, 22, 40, 17, 32],\n",
                     " [8, 22, 40, 17, 32],\n",
                     " [8, 44, 21, 18, 12, 27, 22, 40, 17, 32],\n",
                     " [8, 27, 41, 22, 40, 17, 32],\n",
                     " [8, 18, 12, 27, 22, 40, 17, 32],\n",
                     " [8, 0, 37, 12, 27, 22, 40, 17, 32],\n",
                     " [8, 44, 21, 18, 37, 12, 27, 22, 40, 17, 32],\n",
                     " [8, 27, 22, 40, 17, 32],\n",
                     " [8, 27, 22, 40, 17, 32],\n",
                     " [8, 27, 22, 40, 25],\n",
                     " [8, 22, 40, 25],\n",
                     " [8, 44, 21, 18, 12, 27, 22, 40, 25],\n",
                     " [8, 27, 41, 22, 40, 25],\n",
                     " [8, 18, 12, 27, 22, 40, 25],\n",
                     " [8, 0, 37, 12, 27, 22, 40, 25],\n",
                     " [8, 44, 21, 18, 37, 12, 27, 22, 40, 25],\n",
                     " [8, 27, 22, 40, 25],\n",
                     " [8, 27, 22, 43, 25],\n",
                     " [8, 22, 43, 25],\n",
                     " [8, 44, 21, 18, 12, 27, 22, 43, 25],\n",
                     " [8, 0, 37, 1, 12, 27, 22, 43, 25],\n",
                     " [8, 27, 41, 22, 43, 25],\n",
                     " [8, 44, 21, 18, 37, 1, 12, 27, 22, 43, 25],\n",
                     " [8, 18, 12, 27, 22, 43, 25],\n",
                     " [8, 0, 37, 12, 27, 22, 43, 25],\n",
                     " [8, 44, 21, 18, 37, 12, 27, 22, 43, 25],\n",
                     " [8, 27, 41, 22, 43, 25],\n",
                     " [8, 0, 23, 30, 7],\n",
                     " [8, 0, 44, 23, 30, 7],\n",
                     " [8, 0, 37, 1, 12, 27, 22, 7],\n",
                     " [8, 0, 37, 1, 12, 27, 22, 47, 10, 11],\n",
                     " [8, 0, 37, 1, 12, 27, 22, 16, 25],\n",
                     " [8, 0, 37, 1, 12, 27, 22, 11, 38, 34],\n",
                     " [8, 0, 37, 1, 12, 27, 22, 48],\n",
                     " [8, 0, 37, 1, 12, 27, 22, 30, 7],\n",
                     " [8, 0, 37, 1, 12, 27, 22, 15],\n",
                     " [8, 0, 37, 1, 12, 27, 22, 29],\n",
                     " [8, 0, 37, 1, 12, 27, 22, 13],\n",
                     " [8, 0, 37, 1, 12, 27, 22, 31],\n",
                     " [8, 0, 37, 1, 12, 27, 22, 26],\n",
                     " [8, 0, 37, 1, 12, 27, 22, 3],\n",
                     " [8, 0, 37, 1, 12, 27, 22, 39],\n",
                     " [8, 0, 37, 12, 27, 22, 7],\n",
                     " [8, 0, 37, 12, 27, 22, 16, 25],\n",
                     " [8, 0, 37, 12, 27, 22, 11, 38, 34],\n",
                     " [8, 0, 37, 12, 27, 22, 48],\n",
                     " [8, 0, 37, 12, 27, 22, 30, 7],\n",
                     " [8, 0, 37, 12, 27, 22, 15],\n",
                     " [8, 0, 37, 12, 27, 22, 29],\n",
                     " [8, 0, 37, 12, 27, 22, 47, 10, 11],\n",
                     " [8, 0, 37, 12, 27, 22, 13],\n",
                     " [8, 0, 37, 12, 27, 22, 31],\n",
                     " [8, 0, 37, 12, 27, 22, 26],\n",
                     " [8, 0, 37, 12, 27, 22, 3],\n",
                     " [8, 0, 37, 12, 27, 22, 39],\n",
                     " [8, 0, 37, 1, 12, 27, 22, 17, 32],\n",
                     " [8, 0, 37, 12, 27, 22, 17, 32],\n",
                     " [8, 0, 37, 1, 12, 27, 22, 38, 34],\n",
                     " [8, 0, 37, 12, 27, 22, 38, 34],\n",
                     " [8, 0, 37, 1, 12, 27, 22, 6, 38, 34],\n",
                     " [8, 0, 37, 12, 27, 22, 6, 38, 34],\n",
                     " [8, 0, 37, 1, 12, 27, 22, 36, 33],\n",
                     " [8, 0, 37, 12, 27, 22, 36, 33],\n",
                     " [8, 0, 37, 12, 27, 22, 40, 17, 32],\n",
                     " [8, 0, 37, 12, 27, 22, 40, 25],\n",
                     " [8, 0, 37, 1, 12, 27, 22, 43, 25],\n",
                     " [8, 0, 37, 12, 27, 22, 43, 25],\n",
                     " [8, 0, 37, 12],\n",
                     " [8, 27, 22, 4, 34],\n",
                     " [8, 22, 4, 34],\n",
                     " [8, 27, 41, 22, 4, 34],\n",
                     " [8, 18, 12, 27, 22, 4, 34],\n",
                     " [8, 0, 37, 12, 27, 22, 4, 34],\n",
                     " [8, 27, 41, 22, 6, 38, 34],\n",
                     " [8, 27, 22, 6, 38, 34],\n",
                     " [8, 22, 6, 38, 34],\n",
                     " [8, 0, 37, 1, 12, 27, 22, 6, 38, 34],\n",
                     " [8, 18, 12, 27, 22, 6, 38, 34],\n",
                     " [8, 0, 37, 12, 27, 22, 6, 38, 34],\n",
                     " [8, 27, 22, 17, 32],\n",
                     " [8, 22, 17, 32],\n",
                     " [8, 44, 21, 18, 12, 27, 22, 17, 32],\n",
                     " [8, 27, 41, 22, 17, 32],\n",
                     " [8, 0, 37, 1, 12, 27, 22, 17, 32],\n",
                     " [8, 44, 21, 18, 37, 1, 12, 27, 22, 17, 32],\n",
                     " [8, 18, 12, 27, 22, 17, 32],\n",
                     " [8, 0, 37, 12, 27, 22, 17, 32],\n",
                     " [8, 44, 21, 18, 37, 12, 27, 22, 17, 32],\n",
                     " [8, 27, 41, 22, 17, 32],\n",
                     " [8, 27, 22, 17, 32],\n",
                     " [8, 22, 17, 32],\n",
                     " [8, 44, 21, 18, 12, 27, 22, 17, 32],\n",
                     " [8, 0, 37, 1, 12, 27, 22, 17, 32],\n",
                     " [8, 44, 21, 18, 37, 1, 12, 27, 22, 17, 32],\n",
                     " [8, 18, 12, 27, 22, 17, 32],\n",
                     " [8, 0, 37, 12, 27, 22, 17, 32],\n",
                     " [8, 44, 21, 18, 37, 12, 27, 22, 17, 32],\n",
                     " [8, 27, 41, 22, 28, 38, 4],\n",
                     " [8, 27, 22, 28, 38, 4],\n",
                     " [8, 22, 28, 38, 4],\n",
                     " [8, 27, 22, 43, 25],\n",
                     " [8, 22, 43, 25],\n",
                     " [8, 44, 21, 18, 12, 27, 22, 43, 25],\n",
                     " [8, 27, 41, 22, 43, 25],\n",
                     " [8, 0, 37, 1, 12, 27, 22, 43, 25],\n",
                     " [8, 44, 21, 18, 37, 1, 12, 27, 22, 43, 25],\n",
                     " [8, 18, 12, 27, 22, 43, 25],\n",
                     " [8, 0, 37, 12, 27, 22, 43, 25],\n",
                     " [8, 44, 21, 18, 37, 12, 27, 22, 43, 25],\n",
                     " [8, 27, 22, 43, 25],\n",
                     " [8, 22, 43, 25],\n",
                     " [8, 44, 21, 18, 12, 27, 22, 43, 25],\n",
                     " [8, 0, 37, 1, 12, 27, 22, 43, 25],\n",
                     " [8, 27, 41, 22, 43, 25],\n",
                     " [8, 44, 21, 18, 37, 1, 12, 27, 22, 43, 25],\n",
                     " [8, 18, 12, 27, 22, 43, 25],\n",
                     " [8, 0, 37, 12, 27, 22, 43, 25],\n",
                     " [8, 44, 21, 18, 37, 12, 27, 22, 43, 25],\n",
                     " [8, 27, 22, 4, 34],\n",
                     " [8, 22, 4, 34],\n",
                     " [8, 27, 41, 22, 4, 34],\n",
                     " [8, 18, 12, 27, 22, 4, 34],\n",
                     " [8, 0, 37, 12, 27, 22, 4, 34],\n",
                     " [8, 22, 17, 32],\n",
                     " [8, 27, 22, 17, 32],\n",
                     " [8, 22, 17, 32],\n",
                     " [8, 44, 21, 18, 12, 27, 22, 17, 32],\n",
                     " [8, 0, 37, 1, 12, 27, 22, 17, 32],\n",
                     " [8, 27, 41, 22, 17, 32],\n",
                     " [8, 44, 21, 18, 37, 1, 12, 27, 22, 17, 32],\n",
                     " [8, 18, 12, 27, 22, 17, 32],\n",
                     " [8, 0, 37, 12, 27, 22, 17, 32],\n",
                     " [8, 44, 21, 18, 37, 12, 27, 22, 17, 32],\n",
                     " [8, 27, 22, 40, 17, 32],\n",
                     " [8, 27, 22, 40, 25],\n",
                     " [8, 27, 22, 40, 25],\n",
                     " [8, 22, 40, 25],\n",
                     " [8, 44, 21, 18, 12, 27, 22, 40, 25],\n",
                     " [8, 27, 41, 22, 40, 25],\n",
                     " [8, 18, 12, 27, 22, 40, 25],\n",
                     " [8, 0, 37, 12, 27, 22, 40, 25],\n",
                     " [8, 44, 21, 18, 37, 12, 27, 22, 40, 25],\n",
                     " [8, 27, 22, 29],\n",
                     " [8, 22, 29],\n",
                     " [8, 44, 21, 18, 12, 27, 22, 29],\n",
                     " [8, 27, 41, 22, 29],\n",
                     " [8, 0, 37, 1, 12, 27, 22, 29],\n",
                     " [8, 44, 21, 18, 37, 1, 12, 27, 22, 29],\n",
                     " [8, 18, 12, 27, 22, 29],\n",
                     " [8, 0, 37, 12, 27, 22, 29],\n",
                     " [8, 44, 21, 18, 37, 12, 27, 22, 29],\n",
                     " [8, 27, 22, 47, 10, 11],\n",
                     " [8, 22, 47, 10, 11],\n",
                     " [8, 44, 21, 18, 12, 27, 22, 47, 10, 11],\n",
                     " [8, 27, 41, 22, 47, 10, 11],\n",
                     " [8, 0, 37, 1, 12, 27, 22, 47, 10, 11],\n",
                     " [8, 44, 21, 18, 37, 1, 12, 27, 22, 47, 10, 11],\n",
                     " [8, 18, 12, 27, 22, 47, 10, 11],\n",
                     " [8, 0, 37, 12, 27, 22, 47, 10, 11],\n",
                     " [8, 44, 21, 18, 37, 12, 27, 22, 47, 10, 11],\n",
                     " [8, 44, 37, 12],\n",
                     " [8, 44, 37, 1, 12, 27, 22, 7],\n",
                     " [8, 44, 37, 1, 12, 27, 22, 16, 25],\n",
                     " [8, 44, 37, 1, 12, 27, 22, 48],\n",
                     " [8, 44, 37, 1, 12, 27, 22, 30, 7],\n",
                     " [8, 44, 37, 1, 12, 27, 22, 15],\n",
                     " [8, 44, 37, 1, 12, 27, 22, 47, 10, 11],\n",
                     " [8, 44, 37, 1, 12, 27, 22, 29],\n",
                     " [8, 44, 37, 1, 12, 27, 22, 13],\n",
                     " [8, 44, 37, 1, 12, 27, 22, 31],\n",
                     " [8, 44, 37, 1, 12, 27, 22, 26],\n",
                     " [8, 44, 37, 1, 12, 27, 22, 3],\n",
                     " [8, 44, 37, 1, 12, 27, 22, 39],\n",
                     " [8, 44, 37, 12, 27, 22, 7],\n",
                     " [8, 44, 37, 12, 27, 22, 16, 25],\n",
                     " [8, 44, 37, 12, 27, 22, 48],\n",
                     " [8, 44, 37, 12, 27, 22, 30, 7],\n",
                     " [8, 44, 37, 12, 27, 22, 15],\n",
                     " [8, 44, 37, 12, 27, 22, 47, 10, 11],\n",
                     " [8, 44, 37, 12, 27, 22, 29],\n",
                     " [8, 44, 37, 12, 27, 22, 13],\n",
                     " [8, 44, 37, 12, 27, 22, 31],\n",
                     " [8, 44, 37, 12, 27, 22, 26],\n",
                     " [8, 44, 37, 12, 27, 22, 3],\n",
                     " [8, 44, 37, 12, 27, 22, 39],\n",
                     " [8, 44, 37, 1, 12, 27, 22, 17, 32],\n",
                     " [8, 44, 37, 12, 27, 22, 17, 32],\n",
                     " [8, 44, 37, 1, 12, 27, 22, 36, 33],\n",
                     " [8, 44, 37, 12, 27, 22, 36, 33],\n",
                     " [8, 44, 37, 12, 27, 22, 40, 17, 32],\n",
                     " [8, 44, 37, 12, 27, 22, 40, 25],\n",
                     " [8, 44, 37, 1, 12, 27, 22, 43, 25],\n",
                     " [8, 44, 37, 12, 27, 22, 43, 25],\n",
                     " [8, 0, 44, 37, 12],\n",
                     " [8, 44, 37, 12],\n",
                     " [8, 44, 37, 1, 12, 27, 22, 43, 25],\n",
                     " [8, 44, 37, 12, 27, 22, 43, 25],\n",
                     " [8, 27, 22, 13],\n",
                     " [8, 22, 13],\n",
                     " [8, 44, 21, 18, 12, 27, 22, 13],\n",
                     " [8, 27, 41, 22, 13],\n",
                     " [8, 0, 37, 1, 12, 27, 22, 13],\n",
                     " [8, 44, 21, 18, 37, 1, 12, 27, 22, 13],\n",
                     " [8, 18, 12, 27, 22, 13],\n",
                     " [8, 0, 37, 12, 27, 22, 13],\n",
                     " [8, 44, 21, 18, 37, 12, 27, 22, 13],\n",
                     " [8, 44, 37, 1, 12, 27, 22, 13],\n",
                     " [8, 44, 37, 12, 27, 22, 13],\n",
                     " [8, 27, 22, 34],\n",
                     " [8, 22, 34],\n",
                     " [8, 27, 41, 22, 34],\n",
                     " [8, 0, 37, 1, 12, 27, 22, 34],\n",
                     " [8, 18, 12, 27, 22, 34],\n",
                     " [8, 0, 37, 12, 27, 22, 34],\n",
                     " [8, 27, 22, 33],\n",
                     " [8, 22, 33],\n",
                     " [8, 44, 21, 18, 12, 27, 22, 33],\n",
                     " [8, 27, 41, 22, 33],\n",
                     " [8, 0, 37, 1, 12, 27, 22, 33],\n",
                     " [8, 44, 21, 18, 37, 1, 12, 27, 22, 33],\n",
                     " [8, 18, 12, 27, 22, 33],\n",
                     " [8, 0, 37, 12, 27, 22, 33],\n",
                     " [8, 44, 21, 18, 37, 12, 27, 22, 33],\n",
                     " [8, 44, 37, 1, 12, 27, 22, 33],\n",
                     " [8, 44, 37, 12, 27, 22, 33],\n",
                     " [8, 27, 22, 15],\n",
                     " [8, 22, 15],\n",
                     " [8, 44, 21, 18, 12, 27, 22, 15],\n",
                     " [8, 27, 41, 22, 15],\n",
                     " [8, 0, 37, 1, 12, 27, 22, 15],\n",
                     " [8, 44, 21, 18, 37, 1, 12, 27, 22, 15],\n",
                     " [8, 18, 12, 27, 22, 15],\n",
                     " [8, 0, 37, 12, 27, 22, 15],\n",
                     " [8, 44, 21, 18, 37, 12, 27, 22, 15],\n",
                     " [8, 44, 37, 1, 12, 27, 22, 15],\n",
                     " [8, 44, 37, 12, 27, 22, 15],\n",
                     " [8, 27, 22, 10, 34],\n",
                     " [8, 22, 10, 34],\n",
                     " [8, 27, 41, 22, 10, 34],\n",
                     " [8, 0, 37, 1, 12, 27, 22, 10, 34],\n",
                     " [8, 18, 12, 27, 22, 10, 34],\n",
                     " [8, 0, 37, 12, 27, 22, 10, 34],\n",
                     " [8, 27, 22, 7],\n",
                     " [8, 22, 7],\n",
                     " [8, 44, 21, 18, 12, 27, 22, 7],\n",
                     " [8, 27, 41, 22, 7],\n",
                     " [8, 0, 37, 1, 12, 27, 22, 7],\n",
                     " [8, 44, 21, 18, 37, 1, 12, 27, 22, 7],\n",
                     " [8, 18, 12, 27, 22, 7],\n",
                     " [8, 0, 37, 12, 27, 22, 7],\n",
                     " [8, 44, 21, 18, 37, 12, 27, 22, 7],\n",
                     " [8, 44, 37, 1, 12, 27, 22, 7],\n",
                     " [8, 44, 37, 12, 27, 22, 7],\n",
                     " [8, 27, 22, 36, 33],\n",
                     " [8, 22, 36, 33],\n",
                     " [8, 44, 21, 18, 12, 27, 22, 36, 33],\n",
                     " [8, 27, 41, 22, 36, 33],\n",
                     " [8, 0, 37, 1, 12, 27, 22, 36, 33],\n",
                     " [8, 44, 21, 18, 37, 1, 12, 27, 22, 36, 33],\n",
                     " [8, 18, 12, 27, 22, 36, 33],\n",
                     " [8, 0, 37, 12, 27, 22, 36, 33],\n",
                     " [8, 44, 21, 18, 37, 12, 27, 22, 36, 33],\n",
                     " [8, 44, 37, 1, 12, 27, 22, 36, 33],\n",
                     " [8, 44, 37, 12, 27, 22, 36, 33],\n",
                     " [8, 27, 41, 22, 6, 38, 34],\n",
                     " [8, 27, 22, 6, 38, 34],\n",
                     " [8, 22, 6, 38, 34],\n",
                     " [8, 0, 37, 1, 12, 27, 22, 6, 38, 34],\n",
                     " [8, 18, 12, 27, 22, 6, 38, 34],\n",
                     " [8, 0, 37, 12, 27, 22, 6, 38, 34],\n",
                     " [8, 27, 22, 30, 7],\n",
                     " [8, 22, 30, 7],\n",
                     " [8, 44, 21, 18, 12, 27, 22, 30, 7],\n",
                     " [8, 27, 41, 22, 30, 7],\n",
                     " [8, 0, 37, 1, 12, 27, 22, 30, 7],\n",
                     " [8, 44, 21, 18, 37, 1, 12, 27, 22, 30, 7],\n",
                     " [8, 18, 12, 27, 22, 30, 7],\n",
                     " [8, 0, 37, 12, 27, 22, 30, 7],\n",
                     " [8, 44, 21, 18, 37, 12, 27, 22, 30, 7],\n",
                     " [8, 44, 37, 1, 12, 27, 22, 30, 7],\n",
                     " [8, 44, 37, 12, 27, 22, 30, 7],\n",
                     " [8, 27, 22, 6, 38, 34],\n",
                     " [8, 27, 22, 6, 38, 34],\n",
                     " [8, 22, 6, 38, 34],\n",
                     " [8, 0, 37, 1, 12, 27, 22, 6, 38, 34],\n",
                     " [8, 27, 41, 22, 6, 38, 34],\n",
                     " [8, 18, 12, 27, 22, 6, 38, 34],\n",
                     " [8, 0, 37, 12, 27, 22, 6, 38, 34],\n",
                     " [8, 0, 9, 38, 34],\n",
                     " [8, 27, 22, 19, 38, 34],\n",
                     " [8, 27, 22, 35, 38, 34],\n",
                     " [8, 27, 22, 4, 34],\n",
                     " [8, 22, 4, 34],\n",
                     " [8, 27, 41, 22, 4, 34],\n",
                     " [8, 18, 12, 27, 22, 4, 34],\n",
                     " [8, 0, 37, 12, 27, 22, 4, 34],\n",
                     " [8, 27, 22, 4, 34],\n",
                     " [8, 27, 22, 10, 34],\n",
                     " [8, 0, 37, 1, 34],\n",
                     " [8, 18, 37, 1, 34],\n",
                     " [8, 27, 22, 18, 37, 1, 34],\n",
                     " [8, 22, 18, 37, 1, 34],\n",
                     " [8, 27, 22, 21, 18, 37, 1, 34],\n",
                     " [8, 22, 21, 18, 37, 1, 34],\n",
                     " [8, 1, 34],\n",
                     " [8, 0, 21, 18, 37, 1, 34],\n",
                     " [8, 0, 18, 37, 1, 34],\n",
                     " [8, 27, 41, 22, 7],\n",
                     " [8, 27, 41, 22, 15],\n",
                     " [8, 27, 41, 22, 3],\n",
                     " [8, 27, 41, 22, 11, 38, 34],\n",
                     " [8, 27, 41, 22, 28, 38, 4],\n",
                     " [8, 27, 41, 22, 13],\n",
                     " [8, 27, 41, 22, 29],\n",
                     " [8, 27, 41, 22, 30, 7],\n",
                     " [8, 27, 41, 22, 31],\n",
                     " [8, 27, 41, 22, 39],\n",
                     " [8, 27, 41, 22, 26],\n",
                     " [8, 27, 41, 22, 16, 25],\n",
                     " [8, 27, 41, 22, 47, 10, 11],\n",
                     " [8, 27, 41, 22, 48],\n",
                     " [8, 27, 41, 22, 17, 32],\n",
                     " [8, 27, 41, 22, 38, 34],\n",
                     " [8, 27, 41, 22, 6, 38, 34],\n",
                     " [8, 27, 41, 22, 36, 33],\n",
                     " [8, 27, 41, 22, 40, 17, 32],\n",
                     " [8, 27, 41, 22, 40, 25],\n",
                     " [8, 27, 41, 22, 43, 25],\n",
                     " [8, 27, 41, 22, 4, 34],\n",
                     " [8, 27, 41, 22, 43, 25],\n",
                     " [8, 27, 41, 22, 34],\n",
                     " [8, 27, 41, 22, 33],\n",
                     " [8, 27, 41, 22, 10, 34],\n",
                     " [8, 27, 41, 22, 18, 37, 1, 34],\n",
                     " [8, 27, 41, 22, 21, 18, 37, 1, 34],\n",
                     " [8, 27, 41, 22, 1, 34],\n",
                     " [8, 27, 22, 7],\n",
                     " [8, 27, 22, 15],\n",
                     " [8, 27, 22, 3],\n",
                     " [8, 27, 22, 11, 38, 34],\n",
                     " [8, 27, 22, 28, 38, 4],\n",
                     " [8, 27, 22, 13],\n",
                     " [8, 27, 22, 29],\n",
                     " [8, 27, 22, 30, 7],\n",
                     " [8, 27, 22, 31],\n",
                     " [8, 27, 22, 39],\n",
                     " [8, 27, 22, 26],\n",
                     " [8, 27, 22, 16, 25],\n",
                     " [8, 27, 22, 47, 10, 11],\n",
                     " [8, 27, 22, 48],\n",
                     " [8, 27, 22, 29],\n",
                     " [8, 27, 22, 30, 7],\n",
                     " [8, 27, 22, 47, 10, 11],\n",
                     " [8, 27, 22, 31],\n",
                     " [8, 27, 22, 15],\n",
                     " [8, 27, 22, 39],\n",
                     " [8, 27, 22, 11, 38, 34],\n",
                     " [8, 27, 22, 26],\n",
                     " [8, 27, 22, 7],\n",
                     " [8, 27, 22, 3],\n",
                     " [8, 27, 22, 28, 38, 4],\n",
                     " [8, 27, 22, 13],\n",
                     " [8, 27, 22, 16, 25],\n",
                     " [8, 27, 22, 48],\n",
                     " [8, 44, 21, 18, 12, 27, 22, 7],\n",
                     " [8, 44, 21, 18, 12, 27, 22, 16, 25],\n",
                     " [8, 44, 21, 18, 12, 27, 22, 48],\n",
                     " [8, 44, 21, 18, 12, 27, 22, 30, 7],\n",
                     " [8, 44, 21, 18, 12, 27, 22, 15],\n",
                     " [8, 44, 21, 18, 12, 27, 22, 29],\n",
                     " [8, 44, 21, 18, 12, 27, 22, 47, 10, 11],\n",
                     " [8, 44, 21, 18, 12, 27, 22, 13],\n",
                     " [8, 44, 21, 18, 12, 27, 22, 31],\n",
                     " [8, 44, 21, 18, 12, 27, 22, 26],\n",
                     " [8, 44, 21, 18, 12, 27, 22, 3],\n",
                     " [8, 44, 21, 18, 12, 27, 22, 39],\n",
                     " [8, 0, 37, 1, 12, 27, 22, 7],\n",
                     " [8, 0, 37, 1, 12, 27, 22, 16, 25],\n",
                     " [8, 0, 37, 1, 12, 27, 22, 11, 38, 34],\n",
                     " [8, 0, 37, 1, 12, 27, 22, 48],\n",
                     " [8, 0, 37, 1, 12, 27, 22, 30, 7],\n",
                     " [8, 0, 37, 1, 12, 27, 22, 15],\n",
                     " [8, 0, 37, 1, 12, 27, 22, 47, 10, 11],\n",
                     " [8, 0, 37, 1, 12, 27, 22, 29],\n",
                     " [8, 0, 37, 1, 12, 27, 22, 13],\n",
                     " [8, 0, 37, 1, 12, 27, 22, 31],\n",
                     " [8, 0, 37, 1, 12, 27, 22, 26],\n",
                     " [8, 0, 37, 1, 12, 27, 22, 3],\n",
                     " [8, 0, 37, 1, 12, 27, 22, 39],\n",
                     " [8, 44, 21, 18, 37, 1, 12, 27, 22, 7],\n",
                     " [8, 44, 21, 18, 37, 1, 12, 27, 22, 47, 10, 11],\n",
                     " [8, 44, 21, 18, 37, 1, 12, 27, 22, 16, 25],\n",
                     " [8, 44, 21, 18, 37, 1, 12, 27, 22, 48],\n",
                     " [8, 44, 21, 18, 37, 1, 12, 27, 22, 30, 7],\n",
                     " [8, 44, 21, 18, 37, 1, 12, 27, 22, 15],\n",
                     " [8, 44, 21, 18, 37, 1, 12, 27, 22, 29],\n",
                     " [8, 44, 21, 18, 37, 1, 12, 27, 22, 13],\n",
                     " [8, 44, 21, 18, 37, 1, 12, 27, 22, 31],\n",
                     " [8, 44, 21, 18, 37, 1, 12, 27, 22, 26],\n",
                     " [8, 44, 21, 18, 37, 1, 12, 27, 22, 3],\n",
                     " [8, 44, 21, 18, 37, 1, 12, 27, 22, 39],\n",
                     " [8, 18, 12, 27, 22, 7],\n",
                     " [8, 18, 12, 27, 22, 16, 25],\n",
                     " [8, 18, 12, 27, 22, 11, 38, 34],\n",
                     " [8, 18, 12, 27, 22, 48],\n",
                     " [8, 18, 12, 27, 22, 30, 7],\n",
                     " [8, 18, 12, 27, 22, 15],\n",
                     " [8, 18, 12, 27, 22, 47, 10, 11],\n",
                     " [8, 18, 12, 27, 22, 29],\n",
                     " [8, 18, 12, 27, 22, 13],\n",
                     " [8, 18, 12, 27, 22, 31],\n",
                     " [8, 18, 12, 27, 22, 26],\n",
                     " [8, 18, 12, 27, 22, 3],\n",
                     " [8, 18, 12, 27, 22, 39],\n",
                     " [8, 0, 37, 12, 27, 22, 7],\n",
                     " [8, 0, 37, 12, 27, 22, 16, 25],\n",
                     " [8, 0, 37, 12, 27, 22, 11, 38, 34],\n",
                     " [8, 0, 37, 12, 27, 22, 48],\n",
                     " [8, 0, 37, 12, 27, 22, 30, 7],\n",
                     " [8, 0, 37, 12, 27, 22, 15],\n",
                     " [8, 0, 37, 12, 27, 22, 47, 10, 11],\n",
                     " [8, 0, 37, 12, 27, 22, 29],\n",
                     " [8, 0, 37, 12, 27, 22, 13],\n",
                     " [8, 0, 37, 12, 27, 22, 31],\n",
                     " [8, 0, 37, 12, 27, 22, 26],\n",
                     " [8, 0, 37, 12, 27, 22, 3],\n",
                     " [8, 0, 37, 12, 27, 22, 39],\n",
                     " [8, 44, 21, 18, 37, 12, 27, 22, 7],\n",
                     " [8, 44, 21, 18, 37, 12, 27, 22, 16, 25],\n",
                     " [8, 44, 21, 18, 37, 12, 27, 22, 48],\n",
                     " [8, 44, 21, 18, 37, 12, 27, 22, 30, 7],\n",
                     " [8, 44, 21, 18, 37, 12, 27, 22, 15],\n",
                     " [8, 44, 21, 18, 37, 12, 27, 22, 29],\n",
                     " [8, 44, 21, 18, 37, 12, 27, 22, 47, 10, 11],\n",
                     " [8, 44, 21, 18, 37, 12, 27, 22, 13],\n",
                     " [8, 44, 21, 18, 37, 12, 27, 22, 31],\n",
                     " [8, 44, 21, 18, 37, 12, 27, 22, 26],\n",
                     " [8, 44, 21, 18, 37, 12, 27, 22, 3],\n",
                     " [8, 44, 21, 18, 37, 12, 27, 22, 39],\n",
                     " [8, 27, 22, 17, 32],\n",
                     " [8, 27, 22, 17, 32],\n",
                     " [8, 44, 21, 18, 12, 27, 22, 17, 32],\n",
                     " [8, 0, 37, 1, 12, 27, 22, 17, 32],\n",
                     " [8, 44, 21, 18, 37, 1, 12, 27, 22, 17, 32],\n",
                     " [8, 18, 12, 27, 22, 17, 32],\n",
                     " [8, 0, 37, 12, 27, 22, 17, 32],\n",
                     " [8, 44, 21, 18, 37, 12, 27, 22, 17, 32],\n",
                     " [8, 27, 22, 38, 34],\n",
                     " [8, 27, 22, 38, 34],\n",
                     " [8, 0, 37, 1, 12, 27, 22, 38, 34],\n",
                     " [8, 18, 12, 27, 22, 38, 34],\n",
                     " [8, 0, 37, 12, 27, 22, 38, 34],\n",
                     " [8, 27, 22, 6, 38, 34],\n",
                     " [8, 27, 22, 6, 38, 34],\n",
                     " [8, 0, 37, 1, 12, 27, 22, 6, 38, 34],\n",
                     " [8, 18, 12, 27, 22, 6, 38, 34],\n",
                     " [8, 0, 37, 12, 27, 22, 6, 38, 34],\n",
                     " [8, 27, 22, 36, 33],\n",
                     " [8, 27, 22, 36, 33],\n",
                     " [8, 44, 21, 18, 12, 27, 22, 36, 33],\n",
                     " [8, 0, 37, 1, 12, 27, 22, 36, 33],\n",
                     " [8, 44, 21, 18, 37, 1, 12, 27, 22, 36, 33],\n",
                     " [8, 18, 12, 27, 22, 36, 33],\n",
                     " [8, 0, 37, 12, 27, 22, 36, 33],\n",
                     " [8, 44, 21, 18, 37, 12, 27, 22, 36, 33],\n",
                     " [8, 27, 22, 40, 17, 32],\n",
                     " [8, 27, 22, 40, 17, 32],\n",
                     " [8, 44, 21, 18, 12, 27, 22, 40, 17, 32],\n",
                     " [8, 18, 12, 27, 22, 40, 17, 32],\n",
                     " [8, 0, 37, 12, 27, 22, 40, 17, 32],\n",
                     " [8, 44, 21, 18, 37, 12, 27, 22, 40, 17, 32],\n",
                     " [8, 27, 22, 40, 25],\n",
                     " [8, 27, 22, 40, 25],\n",
                     " [8, 44, 21, 18, 12, 27, 22, 40, 25],\n",
                     " [8, 18, 12, 27, 22, 40, 25],\n",
                     " [8, 0, 37, 12, 27, 22, 40, 25],\n",
                     " [8, 44, 21, 18, 37, 12, 27, 22, 40, 25],\n",
                     " [8, 27, 22, 43, 25],\n",
                     " [8, 27, 22, 43, 25],\n",
                     " [8, 44, 21, 18, 12, 27, 22, 43, 25],\n",
                     " [8, 0, 37, 1, 12, 27, 22, 43, 25],\n",
                     " [8, 44, 21, 18, 37, 1, 12, 27, 22, 43, 25],\n",
                     " [8, 18, 12, 27, 22, 43, 25],\n",
                     " [8, 0, 37, 12, 27, 22, 43, 25],\n",
                     " [8, 44, 21, 18, 37, 12, 27, 22, 43, 25],\n",
                     " [8, 27, 22, 4, 34],\n",
                     " [8, 27, 22, 4, 34],\n",
                     " [8, 18, 12, 27, 22, 4, 34],\n",
                     " [8, 0, 37, 12, 27, 22, 4, 34],\n",
                     " [8, 27, 22, 43, 25],\n",
                     " [8, 27, 22, 43, 25],\n",
                     " [8, 44, 21, 18, 12, 27, 22, 43, 25],\n",
                     " [8, 0, 37, 1, 12, 27, 22, 43, 25],\n",
                     " [8, 44, 21, 18, 37, 1, 12, 27, 22, 43, 25],\n",
                     " [8, 18, 12, 27, 22, 43, 25],\n",
                     " [8, 0, 37, 12, 27, 22, 43, 25],\n",
                     " [8, 44, 21, 18, 37, 12, 27, 22, 43, 25],\n",
                     " [8, 44, 37, 1, 12, 27, 22, 7],\n",
                     " [8, 44, 37, 1, 12, 27, 22, 16, 25],\n",
                     " [8, 44, 37, 1, 12, 27, 22, 48],\n",
                     " [8, 44, 37, 1, 12, 27, 22, 30, 7],\n",
                     " [8, 44, 37, 1, 12, 27, 22, 15],\n",
                     " [8, 44, 37, 1, 12, 27, 22, 47, 10, 11],\n",
                     " [8, 44, 37, 1, 12, 27, 22, 29],\n",
                     " [8, 44, 37, 1, 12, 27, 22, 13],\n",
                     " [8, 44, 37, 1, 12, 27, 22, 31],\n",
                     " [8, 44, 37, 1, 12, 27, 22, 26],\n",
                     " [8, 44, 37, 1, 12, 27, 22, 3],\n",
                     " [8, 44, 37, 1, 12, 27, 22, 39],\n",
                     " [8, 44, 37, 12, 27, 22, 7],\n",
                     " [8, 44, 37, 12, 27, 22, 16, 25],\n",
                     " [8, 44, 37, 12, 27, 22, 48],\n",
                     " [8, 44, 37, 12, 27, 22, 30, 7],\n",
                     " [8, 44, 37, 12, 27, 22, 15],\n",
                     " [8, 44, 37, 12, 27, 22, 47, 10, 11],\n",
                     " [8, 44, 37, 12, 27, 22, 29],\n",
                     " [8, 44, 37, 12, 27, 22, 13],\n",
                     " [8, 44, 37, 12, 27, 22, 31],\n",
                     " [8, 44, 37, 12, 27, 22, 26],\n",
                     " [8, 44, 37, 12, 27, 22, 3],\n",
                     " [8, 44, 37, 12, 27, 22, 39],\n",
                     " [8, 44, 37, 1, 12, 27, 22, 17, 32],\n",
                     " [8, 44, 37, 12, 27, 22, 17, 32],\n",
                     " [8, 44, 37, 1, 12, 27, 22, 36, 33],\n",
                     " [8, 44, 37, 12, 27, 22, 36, 33],\n",
                     " [8, 44, 37, 12, 27, 22, 40, 17, 32],\n",
                     " [8, 44, 37, 12, 27, 22, 40, 25],\n",
                     " [8, 44, 37, 1, 12, 27, 22, 43, 25],\n",
                     " [8, 44, 37, 12, 27, 22, 43, 25],\n",
                     " [8, 44, 37, 1, 12, 27, 22, 43, 25],\n",
                     " [8, 44, 37, 12, 27, 22, 43, 25],\n",
                     " [8, 27, 22, 34],\n",
                     " [8, 27, 22, 34],\n",
                     " [8, 0, 37, 1, 12, 27, 22, 34],\n",
                     " [8, 18, 12, 27, 22, 34],\n",
                     " [8, 0, 37, 12, 27, 22, 34],\n",
                     " [8, 27, 22, 33],\n",
                     " [8, 27, 22, 33],\n",
                     " [8, 44, 21, 18, 12, 27, 22, 33],\n",
                     " [8, 0, 37, 1, 12, 27, 22, 33],\n",
                     " [8, 44, 21, 18, 37, 1, 12, 27, 22, 33],\n",
                     " [8, 18, 12, 27, 22, 33],\n",
                     " [8, 0, 37, 12, 27, 22, 33],\n",
                     " [8, 44, 21, 18, 37, 12, 27, 22, 33],\n",
                     " [8, 44, 37, 1, 12, 27, 22, 33],\n",
                     " [8, 44, 37, 12, 27, 22, 33],\n",
                     " [8, 27, 22, 10, 34],\n",
                     " [8, 27, 22, 10, 34],\n",
                     " [8, 0, 37, 1, 12, 27, 22, 10, 34],\n",
                     " [8, 18, 12, 27, 22, 10, 34],\n",
                     " [8, 0, 37, 12, 27, 22, 10, 34],\n",
                     " [8, 27, 22, 18, 37, 1, 34],\n",
                     " [8, 27, 22, 18, 37, 1, 34],\n",
                     " [8, 27, 22, 21, 18, 37, 1, 34],\n",
                     " [8, 27, 22, 21, 18, 37, 1, 34],\n",
                     " ...]"
                  ]
               },
               "execution_count": 9,
               "metadata": {},
               "output_type": "execute_result"
            }
         ],
         "source": [
            "Network.chains_rev_repo"
         ]
      },
      {
         "cell_type": "code",
         "execution_count": 5,
         "metadata": {},
         "outputs": [
            {
               "data": {
                  "text/plain": [
                     "<AxesSubplot: >"
                  ]
               },
               "execution_count": 5,
               "metadata": {},
               "output_type": "execute_result"
            },
            {
               "data": {
                  "image/png": "[encoded data removed]",
                  "text/plain": [
                     "<Figure size 640x480 with 1 Axes>"
                  ]
               },
               "metadata": {},
               "output_type": "display_data"
            }
         ],
         "source": [
            "Dynamics.df_network_trajectory[\"securities reused tot. network\"].plot()"
         ]
      },
      {
         "cell_type": "code",
         "execution_count": null,
         "metadata": {},
         "outputs": [],
         "source": []
      }
   ],
   "metadata": {
      "kernelspec": {
         "display_name": "Python 3",
         "language": "python",
         "name": "python3"
      },
      "language_info": {
         "codemirror_mode": {
            "name": "ipython",
            "version": 3
         },
         "file_extension": ".py",
         "mimetype": "text/x-python",
         "name": "python",
         "nbconvert_exporter": "python",
         "pygments_lexer": "ipython3",
         "version": "3.8.13"
      }
   },
   "nbformat": 4,
   "nbformat_minor": 2
}
