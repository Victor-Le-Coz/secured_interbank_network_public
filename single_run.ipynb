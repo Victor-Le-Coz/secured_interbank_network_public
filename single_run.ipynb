{
   "cells": [
      {
         "cell_type": "markdown",
         "metadata": {},
         "source": [
            "# Single run testing "
         ]
      },
      {
         "cell_type": "markdown",
         "metadata": {},
         "source": [
            "At initialization, asset and liabilites are equal \n",
            "$$\\alpha D + \\beta D + L  = \\frac{1}{1-\\gamma} D$$\n",
            "$$\\alpha + \\beta \\leq \\frac{1}{1-\\gamma}$$"
         ]
      },
      {
         "cell_type": "code",
         "execution_count": 1,
         "metadata": {},
         "outputs": [
            {
               "name": "stdout",
               "output_type": "stream",
               "text": [
                  "simulate the repo market\n"
               ]
            },
            {
               "name": "stderr",
               "output_type": "stream",
               "text": [
                  "  2%|▏         | 499/19999 [01:05<40:59,  7.93it/s]"
               ]
            },
            {
               "name": "stdout",
               "output_type": "stream",
               "text": [
                  "get df_rev_repo_trans\n"
               ]
            },
            {
               "name": "stderr",
               "output_type": "stream",
               "text": [
                  "100%|██████████| 50/50 [00:00<00:00, 754371.22it/s]\n"
               ]
            },
            {
               "name": "stdout",
               "output_type": "stream",
               "text": [
                  "get df_rev_repo_trans\n"
               ]
            },
            {
               "name": "stderr",
               "output_type": "stream",
               "text": [
                  "100%|██████████| 50/50 [00:00<00:00, 907858.01it/s]\n"
               ]
            },
            {
               "name": "stdout",
               "output_type": "stream",
               "text": [
                  "get arr_rev_repo_exp_adj\n"
               ]
            },
            {
               "name": "stderr",
               "output_type": "stream",
               "text": [
                  "16623it [00:01, 11551.37it/s]\n"
               ]
            },
            {
               "name": "stdout",
               "output_type": "stream",
               "text": [
                  "get arr_binary_adj (numba)\n",
                  "get degree distribution\n"
               ]
            },
            {
               "name": "stderr",
               "output_type": "stream",
               "text": [
                  "100%|██████████| 500/500 [00:01<00:00, 491.30it/s]\n"
               ]
            },
            {
               "name": "stdout",
               "output_type": "stream",
               "text": [
                  "get jaccard\n"
               ]
            },
            {
               "name": "stderr",
               "output_type": "stream",
               "text": [
                  "100%|██████████| 499/499 [00:00<00:00, 6048.22it/s]\n"
               ]
            },
            {
               "name": "stdout",
               "output_type": "stream",
               "text": [
                  "get density\n"
               ]
            },
            {
               "name": "stderr",
               "output_type": "stream",
               "text": [
                  "100%|██████████| 499/499 [00:00<00:00, 4604.75it/s]\n"
               ]
            },
            {
               "name": "stdout",
               "output_type": "stream",
               "text": [
                  "get degree stats\n"
               ]
            },
            {
               "name": "stderr",
               "output_type": "stream",
               "text": [
                  "100%|██████████| 499/499 [00:00<00:00, 1733.10it/s]\n"
               ]
            },
            {
               "name": "stdout",
               "output_type": "stream",
               "text": [
                  "get exposure stats\n"
               ]
            },
            {
               "name": "stderr",
               "output_type": "stream",
               "text": [
                  "100%|██████████| 501/501 [00:00<00:00, 5483.25it/s]\n"
               ]
            },
            {
               "name": "stdout",
               "output_type": "stream",
               "text": [
                  "run core-periphery tests\n"
               ]
            },
            {
               "name": "stderr",
               "output_type": "stream",
               "text": []
            },
            {
               "name": "stdout",
               "output_type": "stream",
               "text": [
                  "core-periphery tests using the Lip approach\n",
                  "test on day 0\n"
               ]
            },
            {
               "name": "stderr",
               "output_type": "stream",
               "text": [
                  "\n",
                  "100%|██████████| 100/100 [00:00<00:00, 2844.17it/s]\n"
               ]
            },
            {
               "name": "stdout",
               "output_type": "stream",
               "text": [
                  "test on day 500\n"
               ]
            },
            {
               "name": "stderr",
               "output_type": "stream",
               "text": [
                  "\n",
                  "100%|██████████| 100/100 [00:00<00:00, 1340.97it/s]\n"
               ]
            },
            {
               "name": "stdout",
               "output_type": "stream",
               "text": [
                  "core-periphery tests using the Lip approach\n",
                  "test on day 0\n"
               ]
            },
            {
               "name": "stderr",
               "output_type": "stream",
               "text": [
                  "\n",
                  "100%|██████████| 100/100 [00:00<00:00, 2870.00it/s]\n"
               ]
            },
            {
               "name": "stdout",
               "output_type": "stream",
               "text": [
                  "test on day 500\n"
               ]
            },
            {
               "name": "stderr",
               "output_type": "stream",
               "text": [
                  "\n",
                  "\u001b[A\n",
                  "100%|██████████| 100/100 [00:00<00:00, 807.51it/s]\n"
               ]
            },
            {
               "name": "stdout",
               "output_type": "stream",
               "text": [
                  "core-periphery tests using the Lip approach\n",
                  "test on day 0\n"
               ]
            },
            {
               "name": "stderr",
               "output_type": "stream",
               "text": [
                  "\n",
                  "100%|██████████| 100/100 [00:00<00:00, 2842.02it/s]\n"
               ]
            },
            {
               "name": "stdout",
               "output_type": "stream",
               "text": [
                  "test on day 500\n"
               ]
            },
            {
               "name": "stderr",
               "output_type": "stream",
               "text": [
                  "\n",
                  "\u001b[A\n",
                  "100%|██████████| 100/100 [00:00<00:00, 707.50it/s]\n"
               ]
            },
            {
               "name": "stdout",
               "output_type": "stream",
               "text": [
                  "core-periphery tests using the Lip approach\n",
                  "test on day 0\n"
               ]
            },
            {
               "name": "stderr",
               "output_type": "stream",
               "text": [
                  "\n",
                  "100%|██████████| 100/100 [00:00<00:00, 2836.63it/s]\n"
               ]
            },
            {
               "name": "stdout",
               "output_type": "stream",
               "text": [
                  "test on day 500\n"
               ]
            },
            {
               "name": "stderr",
               "output_type": "stream",
               "text": [
                  "\n",
                  "\u001b[A\n",
                  "100%|██████████| 100/100 [00:00<00:00, 336.00it/s]\n"
               ]
            },
            {
               "name": "stdout",
               "output_type": "stream",
               "text": [
                  "core-periphery tests using the Lip approach\n",
                  "test on day 0\n"
               ]
            },
            {
               "name": "stderr",
               "output_type": "stream",
               "text": [
                  "\n",
                  "100%|██████████| 100/100 [00:00<00:00, 1758.09it/s]\n"
               ]
            },
            {
               "name": "stdout",
               "output_type": "stream",
               "text": [
                  "test on day 500\n"
               ]
            },
            {
               "name": "stderr",
               "output_type": "stream",
               "text": [
                  "\n",
                  "100%|██████████| 100/100 [00:00<00:00, 1527.87it/s]\n",
                  "100%|██████████| 5/5 [00:00<00:00,  5.06it/s]\n"
               ]
            },
            {
               "name": "stdout",
               "output_type": "stream",
               "text": [
                  "get transaction stats av. network\n"
               ]
            },
            {
               "name": "stderr",
               "output_type": "stream",
               "text": [
                  "100%|██████████| 500/500 [00:01<00:00, 361.06it/s]\n"
               ]
            },
            {
               "name": "stdout",
               "output_type": "stream",
               "text": [
                  "get transaction stats av. bank\n"
               ]
            },
            {
               "name": "stderr",
               "output_type": "stream",
               "text": [
                  "100%|██████████| 500/500 [00:00<00:00, 1130.25it/s]\n",
                  "  5%|▍         | 999/19999 [02:38<42:19,  7.48it/s]   "
               ]
            },
            {
               "name": "stdout",
               "output_type": "stream",
               "text": [
                  "get df_rev_repo_trans\n"
               ]
            },
            {
               "name": "stderr",
               "output_type": "stream",
               "text": [
                  "100%|██████████| 50/50 [00:00<00:00, 663655.70it/s]\n"
               ]
            },
            {
               "name": "stdout",
               "output_type": "stream",
               "text": [
                  "get df_rev_repo_trans\n"
               ]
            },
            {
               "name": "stderr",
               "output_type": "stream",
               "text": [
                  "100%|██████████| 50/50 [00:00<00:00, 835518.73it/s]\n"
               ]
            },
            {
               "name": "stdout",
               "output_type": "stream",
               "text": [
                  "get arr_rev_repo_exp_adj\n"
               ]
            },
            {
               "name": "stderr",
               "output_type": "stream",
               "text": [
                  "34000it [00:02, 12445.38it/s]\n"
               ]
            },
            {
               "name": "stdout",
               "output_type": "stream",
               "text": [
                  "get arr_binary_adj (numba)\n",
                  "get degree distribution\n"
               ]
            },
            {
               "name": "stderr",
               "output_type": "stream",
               "text": [
                  "100%|██████████| 1000/1000 [00:02<00:00, 412.49it/s]\n"
               ]
            },
            {
               "name": "stdout",
               "output_type": "stream",
               "text": [
                  "get jaccard\n"
               ]
            },
            {
               "name": "stderr",
               "output_type": "stream",
               "text": [
                  "100%|██████████| 999/999 [00:00<00:00, 5367.25it/s]\n"
               ]
            },
            {
               "name": "stdout",
               "output_type": "stream",
               "text": [
                  "get density\n"
               ]
            },
            {
               "name": "stderr",
               "output_type": "stream",
               "text": [
                  "100%|██████████| 999/999 [00:00<00:00, 5024.53it/s]\n"
               ]
            },
            {
               "name": "stdout",
               "output_type": "stream",
               "text": [
                  "get degree stats\n"
               ]
            },
            {
               "name": "stderr",
               "output_type": "stream",
               "text": [
                  "100%|██████████| 999/999 [00:00<00:00, 1731.13it/s]\n"
               ]
            },
            {
               "name": "stdout",
               "output_type": "stream",
               "text": [
                  "get exposure stats\n"
               ]
            },
            {
               "name": "stderr",
               "output_type": "stream",
               "text": [
                  "100%|██████████| 1001/1001 [00:00<00:00, 5318.63it/s]\n"
               ]
            },
            {
               "name": "stdout",
               "output_type": "stream",
               "text": [
                  "run core-periphery tests\n"
               ]
            },
            {
               "name": "stderr",
               "output_type": "stream",
               "text": []
            },
            {
               "name": "stdout",
               "output_type": "stream",
               "text": [
                  "core-periphery tests using the Lip approach\n",
                  "test on day 0\n"
               ]
            },
            {
               "name": "stderr",
               "output_type": "stream",
               "text": [
                  "\n",
                  "100%|██████████| 100/100 [00:00<00:00, 2801.53it/s]\n"
               ]
            },
            {
               "name": "stdout",
               "output_type": "stream",
               "text": [
                  "test on day 500\n"
               ]
            },
            {
               "name": "stderr",
               "output_type": "stream",
               "text": [
                  "\n",
                  "100%|██████████| 100/100 [00:00<00:00, 1307.11it/s]\n"
               ]
            },
            {
               "name": "stdout",
               "output_type": "stream",
               "text": [
                  "test on day 1000\n"
               ]
            },
            {
               "name": "stderr",
               "output_type": "stream",
               "text": [
                  "\n",
                  "100%|██████████| 100/100 [00:00<00:00, 1334.90it/s]\n"
               ]
            },
            {
               "name": "stdout",
               "output_type": "stream",
               "text": [
                  "core-periphery tests using the Lip approach\n",
                  "test on day 0\n"
               ]
            },
            {
               "name": "stderr",
               "output_type": "stream",
               "text": [
                  "\n",
                  "100%|██████████| 100/100 [00:00<00:00, 2837.50it/s]\n"
               ]
            },
            {
               "name": "stdout",
               "output_type": "stream",
               "text": [
                  "test on day 500\n"
               ]
            },
            {
               "name": "stderr",
               "output_type": "stream",
               "text": [
                  "\n",
                  "\u001b[A\n",
                  "100%|██████████| 100/100 [00:00<00:00, 812.71it/s]\n"
               ]
            },
            {
               "name": "stdout",
               "output_type": "stream",
               "text": [
                  "test on day 1000\n"
               ]
            },
            {
               "name": "stderr",
               "output_type": "stream",
               "text": [
                  "\n",
                  "\u001b[A\n",
                  "100%|██████████| 100/100 [00:00<00:00, 830.44it/s]\n"
               ]
            },
            {
               "name": "stdout",
               "output_type": "stream",
               "text": [
                  "core-periphery tests using the Lip approach\n",
                  "test on day 0\n"
               ]
            },
            {
               "name": "stderr",
               "output_type": "stream",
               "text": [
                  "\n",
                  "100%|██████████| 100/100 [00:00<00:00, 2880.03it/s]\n"
               ]
            },
            {
               "name": "stdout",
               "output_type": "stream",
               "text": [
                  "test on day 500\n"
               ]
            },
            {
               "name": "stderr",
               "output_type": "stream",
               "text": [
                  "\n",
                  "\u001b[A\n",
                  "100%|██████████| 100/100 [00:00<00:00, 709.20it/s]\n"
               ]
            },
            {
               "name": "stdout",
               "output_type": "stream",
               "text": [
                  "test on day 1000\n"
               ]
            },
            {
               "name": "stderr",
               "output_type": "stream",
               "text": [
                  "\n",
                  "\u001b[A\n",
                  "100%|██████████| 100/100 [00:00<00:00, 705.69it/s]\n"
               ]
            },
            {
               "name": "stdout",
               "output_type": "stream",
               "text": [
                  "core-periphery tests using the Lip approach\n",
                  "test on day 0\n"
               ]
            },
            {
               "name": "stderr",
               "output_type": "stream",
               "text": [
                  "\n",
                  "100%|██████████| 100/100 [00:00<00:00, 2831.43it/s]\n"
               ]
            },
            {
               "name": "stdout",
               "output_type": "stream",
               "text": [
                  "test on day 500\n"
               ]
            },
            {
               "name": "stderr",
               "output_type": "stream",
               "text": [
                  "\n",
                  "\u001b[A\n",
                  "100%|██████████| 100/100 [00:00<00:00, 601.44it/s]\n"
               ]
            },
            {
               "name": "stdout",
               "output_type": "stream",
               "text": [
                  "test on day 1000\n"
               ]
            },
            {
               "name": "stderr",
               "output_type": "stream",
               "text": [
                  "\n",
                  "\u001b[A\n",
                  "100%|██████████| 100/100 [00:00<00:00, 565.78it/s]\n"
               ]
            },
            {
               "name": "stdout",
               "output_type": "stream",
               "text": [
                  "core-periphery tests using the Lip approach\n",
                  "test on day 0\n"
               ]
            },
            {
               "name": "stderr",
               "output_type": "stream",
               "text": [
                  "\n",
                  "100%|██████████| 100/100 [00:00<00:00, 1760.13it/s]\n"
               ]
            },
            {
               "name": "stdout",
               "output_type": "stream",
               "text": [
                  "test on day 500\n"
               ]
            },
            {
               "name": "stderr",
               "output_type": "stream",
               "text": [
                  "\n",
                  "100%|██████████| 100/100 [00:00<00:00, 1478.47it/s]\n"
               ]
            },
            {
               "name": "stdout",
               "output_type": "stream",
               "text": [
                  "test on day 1000\n"
               ]
            },
            {
               "name": "stderr",
               "output_type": "stream",
               "text": [
                  "\n",
                  "100%|██████████| 100/100 [00:00<00:00, 1363.04it/s]\n",
                  "100%|██████████| 5/5 [00:01<00:00,  3.43it/s]\n"
               ]
            },
            {
               "name": "stdout",
               "output_type": "stream",
               "text": [
                  "get transaction stats av. network\n"
               ]
            },
            {
               "name": "stderr",
               "output_type": "stream",
               "text": [
                  "100%|██████████| 1000/1000 [00:04<00:00, 238.60it/s]\n"
               ]
            },
            {
               "name": "stdout",
               "output_type": "stream",
               "text": [
                  "get transaction stats av. bank\n"
               ]
            },
            {
               "name": "stderr",
               "output_type": "stream",
               "text": [
                  "100%|██████████| 1000/1000 [00:00<00:00, 1058.42it/s]\n",
                  "  7%|▋         | 1389/19999 [04:11<47:34,  6.52it/s]   "
               ]
            }
         ],
         "source": [
            "from dynamics import ClassDynamics\n",
            "from network import ClassNetwork\n",
            "\n",
            "\n",
            "# parameter setting\n",
            "nb_banks=50\n",
            "path_results=\"./results/single_run/test/\"\n",
            "initial_deposits_size = 40\n",
            "\n",
            "# reg ratios\n",
            "alpha_init=False # initial cash (< 1/(1-gamma) - beta)\n",
            "alpha=0.01\n",
            "beta_init=0.5 # initial collateral  (< 1/(1-gamma) - alpha)\n",
            "beta_reg=0.5\n",
            "beta_star=0.5\n",
            "gamma=0.03\n",
            "gamma_init = 5*gamma\n",
            "collateral_value=1.0\n",
            "\n",
            "# initialisation of deposits size\n",
            "initialization_method=\"pareto\"\n",
            "alpha_pareto=1.3\n",
            "\n",
            "# shocks on deposits\n",
            "shocks_method=\"non-conservative\"\n",
            "shocks_law=\"normal-mean-reverting\"\n",
            "shocks_vol=0.10 # 0.05\n",
            "\n",
            "\n",
            "# speed of learning\n",
            "learning_speed = 0.5\n",
            "\n",
            "# min trans size\n",
            "min_repo_trans_size=1e-8  # 1e-8\n",
            "\n",
            "# dynamics & ploting\n",
            "nb_steps=int(20e3)\n",
            "dump_period=int(5e2)\n",
            "plot_period=int(5e2)\n",
            "cp_option=True\n",
            "heavy_plot=False\n",
            "\n",
            "# LCR mgt\n",
            "LCR_mgt_opt=True\n",
            "\n",
            "# leverage mgt\n",
            "end_repo_period=False # if int, periodic end repo / if false, leverage mgt\n",
            "gamma_star = 5*gamma #1.5\n",
            "check_leverage_opt = True # to avoid killing the run if one or several banks are below min leverage due to high shocks (there is not possibility of decrease balance sheet size if no interbank borrowings)\n",
            "\n",
            "# money creation\n",
            "loan_tenor=nb_steps # if int, money creation / if false. no new loans\n",
            "loan_period=1\n",
            "new_loans_vol = 0 # standard deviation around the mean creation of loans\n",
            "new_loans_mean = 100e-2/250 # daily mean increase in loans expressed as a percentage of the intital loans (the other option would be a relative increase but it is unstable np.exp(np.log(1.01)/250)-1 = 4e-5)\n",
            "beta_new = beta_reg # if number, new colat / if false, no new colat \n",
            "gamma_new = gamma_init\n",
            "\n",
            "# substitution of collateral\n",
            "substitution = False\n",
            "\n",
            "\n",
            "# initialize ClassNetwork\n",
            "Network = ClassNetwork(\n",
            "    nb_banks=nb_banks,\n",
            "    initial_deposits_size=initial_deposits_size,\n",
            "    alpha_init=alpha_init,\n",
            "    alpha=alpha,\n",
            "    beta_init=beta_init,\n",
            "    beta_reg=beta_reg,\n",
            "    beta_star=beta_star,\n",
            "    beta_new=beta_new,\n",
            "    gamma_init=gamma_init,\n",
            "    gamma=gamma,\n",
            "    gamma_star=gamma_star,\n",
            "    gamma_new=gamma_new,\n",
            "    collateral_value=collateral_value,\n",
            "    initialization_method=initialization_method,\n",
            "    alpha_pareto=alpha_pareto,\n",
            "    shocks_method=shocks_method,\n",
            "    shocks_law=shocks_law,\n",
            "    shocks_vol=shocks_vol,\n",
            "    LCR_mgt_opt=LCR_mgt_opt,\n",
            "    min_repo_trans_size=min_repo_trans_size,\n",
            "    loan_tenor=loan_tenor,\n",
            "    loan_period=loan_period,\n",
            "    new_loans_vol=new_loans_vol,\n",
            "    new_loans_mean=new_loans_mean,\n",
            "    end_repo_period=end_repo_period,\n",
            "    substitution=substitution,\n",
            "    learning_speed=learning_speed,\n",
            "    check_leverage_opt=check_leverage_opt,\n",
            ")\n",
            "\n",
            "# initialize ClassDynamics\n",
            "Dynamics = ClassDynamics(\n",
            "    Network,\n",
            "    nb_steps=nb_steps,\n",
            "    path_results=path_results,\n",
            "    dump_period=dump_period,\n",
            "    plot_period=plot_period,\n",
            "    cp_option=cp_option,\n",
            "    heavy_plot=heavy_plot,\n",
            ")\n",
            "\n",
            "# simulate\n",
            "Dynamics.simulate()"
         ]
      },
      {
         "cell_type": "markdown",
         "metadata": {},
         "source": [
            "# ploting"
         ]
      },
      {
         "cell_type": "code",
         "execution_count": null,
         "metadata": {},
         "outputs": [],
         "source": [
            "# get graphics after interupting \n",
            "import graphics  as gx\n",
            "Dynamics.nb_steps = Network.step\n",
            "Dynamics.plot_period = Network.step\n",
            "Dynamics.fill()\n",
            "Dynamics.dump()\n",
            "gx.plot(Dynamics)"
         ]
      },
      {
         "cell_type": "markdown",
         "metadata": {},
         "source": [
            "# analysis"
         ]
      },
      {
         "cell_type": "code",
         "execution_count": null,
         "metadata": {},
         "outputs": [],
         "source": [
            "import numpy as np \n",
            "for chain in Network.chains_rev_repo:\n",
            "   if  len(np.unique (np.array(chain))) < len(np.array(chain)):\n",
            "      print(\"error\")"
         ]
      },
      {
         "cell_type": "code",
         "execution_count": null,
         "metadata": {},
         "outputs": [],
         "source": [
            "max = 0 \n",
            "min = 19\n",
            "sum = 0\n",
            "for chain in Network.chains_rev_repo:\n",
            "   if  len(chain) > max:\n",
            "      max = len(chain)\n",
            "   if  len(chain) < min:\n",
            "      min = len(chain)\n",
            "   sum +=len(chain)\n",
            "\n",
            "print(max)\n",
            "print(min)\n",
            "print(sum/len(Network.chains_rev_repo))"
         ]
      },
      {
         "cell_type": "markdown",
         "metadata": {},
         "source": [
            "# new loans"
         ]
      },
      {
         "cell_type": "code",
         "execution_count": null,
         "metadata": {},
         "outputs": [],
         "source": [
            "import numpy as np\n",
            "from matplotlib import pyplot as plt\n",
            "ar_new_loans = (np.random.randn(nb_banks) * new_loans_vol + 1)*new_loans_mean\n",
            "plt.hist(ar_new_loans*Network.df_banks[\"initial loans\"])"
         ]
      }
   ],
   "metadata": {
      "kernelspec": {
         "display_name": "Python 3",
         "language": "python",
         "name": "python3"
      },
      "language_info": {
         "codemirror_mode": {
            "name": "ipython",
            "version": 3
         },
         "file_extension": ".py",
         "mimetype": "text/x-python",
         "name": "python",
         "nbconvert_exporter": "python",
         "pygments_lexer": "ipython3",
         "version": "3.8.13"
      }
   },
   "nbformat": 4,
   "nbformat_minor": 2
}
