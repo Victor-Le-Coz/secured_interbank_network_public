{
   "cells": [
      {
         "cell_type": "markdown",
         "metadata": {},
         "source": [
            "# Single run testing "
         ]
      },
      {
         "cell_type": "markdown",
         "metadata": {},
         "source": [
            "At initialization, asset and liabilites are equal \n",
            "$$\\alpha D + \\beta D + L  = \\frac{1}{1-\\gamma} D$$\n",
            "$$\\alpha + \\beta \\leq \\frac{1}{1-\\gamma}$$"
         ]
      },
      {
         "cell_type": "code",
         "execution_count": 3,
         "metadata": {},
         "outputs": [
            {
               "name": "stdout",
               "output_type": "stream",
               "text": [
                  "simulate the repo market\n"
               ]
            },
            {
               "name": "stderr",
               "output_type": "stream",
               "text": [
                  "  2%|▏         | 499/19999 [00:56<30:12, 10.76it/s]"
               ]
            },
            {
               "name": "stdout",
               "output_type": "stream",
               "text": [
                  "get df_rev_repo_trans\n"
               ]
            },
            {
               "name": "stderr",
               "output_type": "stream",
               "text": [
                  "100%|██████████| 50/50 [00:00<00:00, 803506.51it/s]\n"
               ]
            },
            {
               "name": "stdout",
               "output_type": "stream",
               "text": [
                  "get df_rev_repo_trans\n"
               ]
            },
            {
               "name": "stderr",
               "output_type": "stream",
               "text": [
                  "100%|██████████| 50/50 [00:00<00:00, 966429.49it/s]\n"
               ]
            },
            {
               "name": "stdout",
               "output_type": "stream",
               "text": [
                  "get arr_rev_repo_exp_adj\n"
               ]
            },
            {
               "name": "stderr",
               "output_type": "stream",
               "text": [
                  "16333it [00:02, 5457.17it/s]\n"
               ]
            },
            {
               "name": "stdout",
               "output_type": "stream",
               "text": [
                  "get arr_binary_adj (numba)\n",
                  "get degree distribution\n"
               ]
            },
            {
               "name": "stderr",
               "output_type": "stream",
               "text": [
                  "100%|██████████| 500/500 [00:01<00:00, 318.24it/s]\n"
               ]
            },
            {
               "name": "stdout",
               "output_type": "stream",
               "text": [
                  "get jaccard\n"
               ]
            },
            {
               "name": "stderr",
               "output_type": "stream",
               "text": [
                  "100%|██████████| 499/499 [00:00<00:00, 5959.04it/s]\n"
               ]
            },
            {
               "name": "stdout",
               "output_type": "stream",
               "text": [
                  "get density\n"
               ]
            },
            {
               "name": "stderr",
               "output_type": "stream",
               "text": [
                  "100%|██████████| 499/499 [00:00<00:00, 4627.68it/s]\n"
               ]
            },
            {
               "name": "stdout",
               "output_type": "stream",
               "text": [
                  "get degree stats\n"
               ]
            },
            {
               "name": "stderr",
               "output_type": "stream",
               "text": [
                  "100%|██████████| 499/499 [00:00<00:00, 1709.47it/s]\n"
               ]
            },
            {
               "name": "stdout",
               "output_type": "stream",
               "text": [
                  "get exposure stats\n"
               ]
            },
            {
               "name": "stderr",
               "output_type": "stream",
               "text": [
                  "100%|██████████| 501/501 [00:00<00:00, 5011.74it/s]\n"
               ]
            },
            {
               "name": "stdout",
               "output_type": "stream",
               "text": [
                  "run core-periphery tests\n"
               ]
            },
            {
               "name": "stderr",
               "output_type": "stream",
               "text": []
            },
            {
               "name": "stdout",
               "output_type": "stream",
               "text": [
                  "core-periphery tests using the Lip approach\n",
                  "test on day 0\n"
               ]
            },
            {
               "name": "stderr",
               "output_type": "stream",
               "text": [
                  "\n",
                  "100%|██████████| 100/100 [00:00<00:00, 2842.27it/s]\n"
               ]
            },
            {
               "name": "stdout",
               "output_type": "stream",
               "text": [
                  "test on day 500\n"
               ]
            },
            {
               "name": "stderr",
               "output_type": "stream",
               "text": [
                  "\n",
                  "\u001b[A\n",
                  "100%|██████████| 100/100 [00:00<00:00, 563.41it/s]\n"
               ]
            },
            {
               "name": "stdout",
               "output_type": "stream",
               "text": [
                  "core-periphery tests using the Lip approach\n",
                  "test on day 0\n"
               ]
            },
            {
               "name": "stderr",
               "output_type": "stream",
               "text": [
                  "\n",
                  "100%|██████████| 100/100 [00:00<00:00, 2854.37it/s]\n"
               ]
            },
            {
               "name": "stdout",
               "output_type": "stream",
               "text": [
                  "test on day 500\n"
               ]
            },
            {
               "name": "stderr",
               "output_type": "stream",
               "text": [
                  "\n",
                  "\u001b[A\n",
                  "100%|██████████| 100/100 [00:00<00:00, 557.08it/s]\n"
               ]
            },
            {
               "name": "stdout",
               "output_type": "stream",
               "text": [
                  "core-periphery tests using the Lip approach\n",
                  "test on day 0\n"
               ]
            },
            {
               "name": "stderr",
               "output_type": "stream",
               "text": [
                  "\n",
                  "100%|██████████| 100/100 [00:00<00:00, 2886.43it/s]\n"
               ]
            },
            {
               "name": "stdout",
               "output_type": "stream",
               "text": [
                  "test on day 500\n"
               ]
            },
            {
               "name": "stderr",
               "output_type": "stream",
               "text": [
                  "\n",
                  "\u001b[A\n",
                  "100%|██████████| 100/100 [00:00<00:00, 538.90it/s]\n"
               ]
            },
            {
               "name": "stdout",
               "output_type": "stream",
               "text": [
                  "core-periphery tests using the Lip approach\n",
                  "test on day 0\n"
               ]
            },
            {
               "name": "stderr",
               "output_type": "stream",
               "text": [
                  "\n",
                  "100%|██████████| 100/100 [00:00<00:00, 2843.63it/s]\n"
               ]
            },
            {
               "name": "stdout",
               "output_type": "stream",
               "text": [
                  "test on day 500\n"
               ]
            },
            {
               "name": "stderr",
               "output_type": "stream",
               "text": [
                  "\n",
                  "\u001b[A\n",
                  "100%|██████████| 100/100 [00:00<00:00, 508.78it/s]\n"
               ]
            },
            {
               "name": "stdout",
               "output_type": "stream",
               "text": [
                  "core-periphery tests using the Lip approach\n",
                  "test on day 0\n"
               ]
            },
            {
               "name": "stderr",
               "output_type": "stream",
               "text": [
                  "\n",
                  "100%|██████████| 100/100 [00:00<00:00, 1732.12it/s]\n"
               ]
            },
            {
               "name": "stdout",
               "output_type": "stream",
               "text": [
                  "test on day 500\n"
               ]
            },
            {
               "name": "stderr",
               "output_type": "stream",
               "text": [
                  "\n",
                  "\u001b[A\n",
                  "100%|██████████| 100/100 [00:00<00:00, 567.46it/s]\n",
                  "100%|██████████| 5/5 [00:01<00:00,  4.19it/s]\n"
               ]
            },
            {
               "name": "stdout",
               "output_type": "stream",
               "text": [
                  "get transaction stats av. network\n"
               ]
            },
            {
               "name": "stderr",
               "output_type": "stream",
               "text": [
                  "100%|██████████| 500/500 [00:01<00:00, 359.17it/s]\n"
               ]
            },
            {
               "name": "stdout",
               "output_type": "stream",
               "text": [
                  "get transaction stats av. bank\n"
               ]
            },
            {
               "name": "stderr",
               "output_type": "stream",
               "text": [
                  "100%|██████████| 500/500 [00:00<00:00, 1049.36it/s]\n",
                  "  5%|▍         | 999/19999 [02:20<33:48,  9.37it/s]   "
               ]
            },
            {
               "name": "stdout",
               "output_type": "stream",
               "text": [
                  "get df_rev_repo_trans\n"
               ]
            },
            {
               "name": "stderr",
               "output_type": "stream",
               "text": [
                  "100%|██████████| 50/50 [00:00<00:00, 825650.39it/s]\n"
               ]
            },
            {
               "name": "stdout",
               "output_type": "stream",
               "text": [
                  "get df_rev_repo_trans\n"
               ]
            },
            {
               "name": "stderr",
               "output_type": "stream",
               "text": [
                  "100%|██████████| 50/50 [00:00<00:00, 966429.49it/s]\n"
               ]
            },
            {
               "name": "stdout",
               "output_type": "stream",
               "text": [
                  "get arr_rev_repo_exp_adj\n"
               ]
            },
            {
               "name": "stderr",
               "output_type": "stream",
               "text": [
                  "31995it [00:06, 5137.95it/s]\n"
               ]
            },
            {
               "name": "stdout",
               "output_type": "stream",
               "text": [
                  "get arr_binary_adj (numba)\n",
                  "get degree distribution\n"
               ]
            },
            {
               "name": "stderr",
               "output_type": "stream",
               "text": [
                  "100%|██████████| 1000/1000 [00:03<00:00, 271.12it/s]\n"
               ]
            },
            {
               "name": "stdout",
               "output_type": "stream",
               "text": [
                  "get jaccard\n"
               ]
            },
            {
               "name": "stderr",
               "output_type": "stream",
               "text": [
                  "100%|██████████| 999/999 [00:00<00:00, 5075.14it/s]\n"
               ]
            },
            {
               "name": "stdout",
               "output_type": "stream",
               "text": [
                  "get density\n"
               ]
            },
            {
               "name": "stderr",
               "output_type": "stream",
               "text": [
                  "100%|██████████| 999/999 [00:00<00:00, 4808.82it/s]\n"
               ]
            },
            {
               "name": "stdout",
               "output_type": "stream",
               "text": [
                  "get degree stats\n"
               ]
            },
            {
               "name": "stderr",
               "output_type": "stream",
               "text": [
                  "100%|██████████| 999/999 [00:00<00:00, 1715.71it/s]\n"
               ]
            },
            {
               "name": "stdout",
               "output_type": "stream",
               "text": [
                  "get exposure stats\n"
               ]
            },
            {
               "name": "stderr",
               "output_type": "stream",
               "text": [
                  "100%|██████████| 1001/1001 [00:00<00:00, 5093.86it/s]\n"
               ]
            },
            {
               "name": "stdout",
               "output_type": "stream",
               "text": [
                  "run core-periphery tests\n"
               ]
            },
            {
               "name": "stderr",
               "output_type": "stream",
               "text": []
            },
            {
               "name": "stdout",
               "output_type": "stream",
               "text": [
                  "core-periphery tests using the Lip approach\n",
                  "test on day 0\n"
               ]
            },
            {
               "name": "stderr",
               "output_type": "stream",
               "text": [
                  "\n",
                  "100%|██████████| 100/100 [00:00<00:00, 2814.74it/s]\n"
               ]
            },
            {
               "name": "stdout",
               "output_type": "stream",
               "text": [
                  "test on day 500\n"
               ]
            },
            {
               "name": "stderr",
               "output_type": "stream",
               "text": [
                  "\n",
                  "\u001b[A\n",
                  "100%|██████████| 100/100 [00:00<00:00, 544.59it/s]\n"
               ]
            },
            {
               "name": "stdout",
               "output_type": "stream",
               "text": [
                  "test on day 1000\n"
               ]
            },
            {
               "name": "stderr",
               "output_type": "stream",
               "text": [
                  "\n",
                  "\u001b[A\n",
                  "100%|██████████| 100/100 [00:00<00:00, 567.05it/s]\n"
               ]
            },
            {
               "name": "stdout",
               "output_type": "stream",
               "text": [
                  "core-periphery tests using the Lip approach\n",
                  "test on day 0\n"
               ]
            },
            {
               "name": "stderr",
               "output_type": "stream",
               "text": [
                  "\n",
                  "100%|██████████| 100/100 [00:00<00:00, 2900.73it/s]\n"
               ]
            },
            {
               "name": "stdout",
               "output_type": "stream",
               "text": [
                  "test on day 500\n"
               ]
            },
            {
               "name": "stderr",
               "output_type": "stream",
               "text": [
                  "\n",
                  "\u001b[A\n",
                  "100%|██████████| 100/100 [00:00<00:00, 550.75it/s]\n"
               ]
            },
            {
               "name": "stdout",
               "output_type": "stream",
               "text": [
                  "test on day 1000\n"
               ]
            },
            {
               "name": "stderr",
               "output_type": "stream",
               "text": [
                  "\n",
                  "\u001b[A\n",
                  "100%|██████████| 100/100 [00:00<00:00, 527.46it/s]\n"
               ]
            },
            {
               "name": "stdout",
               "output_type": "stream",
               "text": [
                  "core-periphery tests using the Lip approach\n",
                  "test on day 0\n"
               ]
            },
            {
               "name": "stderr",
               "output_type": "stream",
               "text": [
                  "\n",
                  "100%|██████████| 100/100 [00:00<00:00, 2840.51it/s]\n"
               ]
            },
            {
               "name": "stdout",
               "output_type": "stream",
               "text": [
                  "test on day 500\n"
               ]
            },
            {
               "name": "stderr",
               "output_type": "stream",
               "text": [
                  "\n",
                  "\u001b[A\n",
                  "100%|██████████| 100/100 [00:00<00:00, 534.11it/s]\n"
               ]
            },
            {
               "name": "stdout",
               "output_type": "stream",
               "text": [
                  "test on day 1000\n"
               ]
            },
            {
               "name": "stderr",
               "output_type": "stream",
               "text": [
                  "\n",
                  "\u001b[A\n",
                  "100%|██████████| 100/100 [00:00<00:00, 517.60it/s]\n"
               ]
            },
            {
               "name": "stdout",
               "output_type": "stream",
               "text": [
                  "core-periphery tests using the Lip approach\n",
                  "test on day 0\n"
               ]
            },
            {
               "name": "stderr",
               "output_type": "stream",
               "text": [
                  "\n",
                  "100%|██████████| 100/100 [00:00<00:00, 2861.01it/s]\n"
               ]
            },
            {
               "name": "stdout",
               "output_type": "stream",
               "text": [
                  "test on day 500\n"
               ]
            },
            {
               "name": "stderr",
               "output_type": "stream",
               "text": [
                  "\n",
                  "\u001b[A\n",
                  "100%|██████████| 100/100 [00:00<00:00, 503.56it/s]\n"
               ]
            },
            {
               "name": "stdout",
               "output_type": "stream",
               "text": [
                  "test on day 1000\n"
               ]
            },
            {
               "name": "stderr",
               "output_type": "stream",
               "text": [
                  "\n",
                  "\u001b[A\n",
                  "\u001b[A\n",
                  "100%|██████████| 100/100 [00:00<00:00, 487.39it/s]\n"
               ]
            },
            {
               "name": "stdout",
               "output_type": "stream",
               "text": [
                  "core-periphery tests using the Lip approach\n",
                  "test on day 0\n"
               ]
            },
            {
               "name": "stderr",
               "output_type": "stream",
               "text": [
                  "\n",
                  "100%|██████████| 100/100 [00:00<00:00, 1724.62it/s]\n"
               ]
            },
            {
               "name": "stdout",
               "output_type": "stream",
               "text": [
                  "test on day 500\n"
               ]
            },
            {
               "name": "stderr",
               "output_type": "stream",
               "text": [
                  "\n",
                  "\u001b[A\n",
                  "100%|██████████| 100/100 [00:00<00:00, 563.70it/s]\n"
               ]
            },
            {
               "name": "stdout",
               "output_type": "stream",
               "text": [
                  "test on day 1000\n"
               ]
            },
            {
               "name": "stderr",
               "output_type": "stream",
               "text": [
                  "\n",
                  "\u001b[A\n",
                  "100%|██████████| 100/100 [00:00<00:00, 564.73it/s]\n",
                  "100%|██████████| 5/5 [00:02<00:00,  2.30it/s]\n"
               ]
            },
            {
               "name": "stdout",
               "output_type": "stream",
               "text": [
                  "get transaction stats av. network\n"
               ]
            },
            {
               "name": "stderr",
               "output_type": "stream",
               "text": [
                  "100%|██████████| 1000/1000 [00:04<00:00, 242.72it/s]\n"
               ]
            },
            {
               "name": "stdout",
               "output_type": "stream",
               "text": [
                  "get transaction stats av. bank\n"
               ]
            },
            {
               "name": "stderr",
               "output_type": "stream",
               "text": [
                  "100%|██████████| 1000/1000 [00:00<00:00, 1021.75it/s]\n",
                  "  7%|▋         | 1499/19999 [04:06<37:28,  8.23it/s]   "
               ]
            },
            {
               "name": "stdout",
               "output_type": "stream",
               "text": [
                  "get df_rev_repo_trans\n"
               ]
            },
            {
               "name": "stderr",
               "output_type": "stream",
               "text": [
                  "100%|██████████| 50/50 [00:00<00:00, 903944.83it/s]\n"
               ]
            },
            {
               "name": "stdout",
               "output_type": "stream",
               "text": [
                  "get df_rev_repo_trans\n"
               ]
            },
            {
               "name": "stderr",
               "output_type": "stream",
               "text": [
                  "100%|██████████| 50/50 [00:00<00:00, 979977.57it/s]\n"
               ]
            },
            {
               "name": "stdout",
               "output_type": "stream",
               "text": [
                  "get arr_rev_repo_exp_adj\n"
               ]
            },
            {
               "name": "stderr",
               "output_type": "stream",
               "text": [
                  "47777it [00:09, 4828.50it/s]\n"
               ]
            },
            {
               "name": "stdout",
               "output_type": "stream",
               "text": [
                  "get arr_binary_adj (numba)\n",
                  "get degree distribution\n"
               ]
            },
            {
               "name": "stderr",
               "output_type": "stream",
               "text": [
                  "100%|██████████| 1500/1500 [00:05<00:00, 299.02it/s]\n"
               ]
            },
            {
               "name": "stdout",
               "output_type": "stream",
               "text": [
                  "get jaccard\n"
               ]
            },
            {
               "name": "stderr",
               "output_type": "stream",
               "text": [
                  "100%|██████████| 1499/1499 [00:00<00:00, 5125.14it/s]\n"
               ]
            },
            {
               "name": "stdout",
               "output_type": "stream",
               "text": [
                  "get density\n"
               ]
            },
            {
               "name": "stderr",
               "output_type": "stream",
               "text": [
                  "100%|██████████| 1499/1499 [00:00<00:00, 4990.85it/s]\n"
               ]
            },
            {
               "name": "stdout",
               "output_type": "stream",
               "text": [
                  "get degree stats\n"
               ]
            },
            {
               "name": "stderr",
               "output_type": "stream",
               "text": [
                  "100%|██████████| 1499/1499 [00:00<00:00, 1714.68it/s]\n"
               ]
            },
            {
               "name": "stdout",
               "output_type": "stream",
               "text": [
                  "get exposure stats\n"
               ]
            },
            {
               "name": "stderr",
               "output_type": "stream",
               "text": [
                  "100%|██████████| 1501/1501 [00:00<00:00, 5064.34it/s]\n"
               ]
            },
            {
               "name": "stdout",
               "output_type": "stream",
               "text": [
                  "run core-periphery tests\n"
               ]
            },
            {
               "name": "stderr",
               "output_type": "stream",
               "text": []
            },
            {
               "name": "stdout",
               "output_type": "stream",
               "text": [
                  "core-periphery tests using the Lip approach\n",
                  "test on day 0\n"
               ]
            },
            {
               "name": "stderr",
               "output_type": "stream",
               "text": [
                  "\n",
                  "100%|██████████| 100/100 [00:00<00:00, 2942.11it/s]\n"
               ]
            },
            {
               "name": "stdout",
               "output_type": "stream",
               "text": [
                  "test on day 500\n"
               ]
            },
            {
               "name": "stderr",
               "output_type": "stream",
               "text": [
                  "\n",
                  "\u001b[A\n",
                  "100%|██████████| 100/100 [00:00<00:00, 535.65it/s]\n"
               ]
            },
            {
               "name": "stdout",
               "output_type": "stream",
               "text": [
                  "test on day 1000\n"
               ]
            },
            {
               "name": "stderr",
               "output_type": "stream",
               "text": [
                  "\n",
                  "\u001b[A\n",
                  "100%|██████████| 100/100 [00:00<00:00, 573.54it/s]\n"
               ]
            },
            {
               "name": "stdout",
               "output_type": "stream",
               "text": [
                  "test on day 1500\n"
               ]
            },
            {
               "name": "stderr",
               "output_type": "stream",
               "text": [
                  "\n",
                  "\u001b[A\n",
                  "100%|██████████| 100/100 [00:00<00:00, 513.32it/s]\n"
               ]
            },
            {
               "name": "stdout",
               "output_type": "stream",
               "text": [
                  "core-periphery tests using the Lip approach\n",
                  "test on day 0\n"
               ]
            },
            {
               "name": "stderr",
               "output_type": "stream",
               "text": [
                  "\n",
                  "100%|██████████| 100/100 [00:00<00:00, 2849.29it/s]\n"
               ]
            },
            {
               "name": "stdout",
               "output_type": "stream",
               "text": [
                  "test on day 500\n"
               ]
            },
            {
               "name": "stderr",
               "output_type": "stream",
               "text": [
                  "\n",
                  "\u001b[A\n",
                  "100%|██████████| 100/100 [00:00<00:00, 551.10it/s]\n"
               ]
            },
            {
               "name": "stdout",
               "output_type": "stream",
               "text": [
                  "test on day 1000\n"
               ]
            },
            {
               "name": "stderr",
               "output_type": "stream",
               "text": [
                  "\n",
                  "\u001b[A\n",
                  "100%|██████████| 100/100 [00:00<00:00, 536.09it/s]\n"
               ]
            },
            {
               "name": "stdout",
               "output_type": "stream",
               "text": [
                  "test on day 1500\n"
               ]
            },
            {
               "name": "stderr",
               "output_type": "stream",
               "text": [
                  "\n",
                  "\u001b[A\n",
                  "100%|██████████| 100/100 [00:00<00:00, 513.65it/s]\n"
               ]
            },
            {
               "name": "stdout",
               "output_type": "stream",
               "text": [
                  "core-periphery tests using the Lip approach\n",
                  "test on day 0\n"
               ]
            },
            {
               "name": "stderr",
               "output_type": "stream",
               "text": [
                  "\n",
                  "100%|██████████| 100/100 [00:00<00:00, 2878.33it/s]\n"
               ]
            },
            {
               "name": "stdout",
               "output_type": "stream",
               "text": [
                  "test on day 500\n"
               ]
            },
            {
               "name": "stderr",
               "output_type": "stream",
               "text": [
                  "\n",
                  "\u001b[A\n",
                  "100%|██████████| 100/100 [00:00<00:00, 537.09it/s]\n"
               ]
            },
            {
               "name": "stdout",
               "output_type": "stream",
               "text": [
                  "test on day 1000\n"
               ]
            },
            {
               "name": "stderr",
               "output_type": "stream",
               "text": [
                  "\n",
                  "\u001b[A\n",
                  "100%|██████████| 100/100 [00:00<00:00, 516.27it/s]\n"
               ]
            },
            {
               "name": "stdout",
               "output_type": "stream",
               "text": [
                  "test on day 1500\n"
               ]
            },
            {
               "name": "stderr",
               "output_type": "stream",
               "text": [
                  "\n",
                  "\u001b[A\n",
                  "\u001b[A\n",
                  "100%|██████████| 100/100 [00:00<00:00, 477.02it/s]\n"
               ]
            },
            {
               "name": "stdout",
               "output_type": "stream",
               "text": [
                  "core-periphery tests using the Lip approach\n",
                  "test on day 0\n"
               ]
            },
            {
               "name": "stderr",
               "output_type": "stream",
               "text": [
                  "\n",
                  "100%|██████████| 100/100 [00:00<00:00, 2884.25it/s]\n"
               ]
            },
            {
               "name": "stdout",
               "output_type": "stream",
               "text": [
                  "test on day 500\n"
               ]
            },
            {
               "name": "stderr",
               "output_type": "stream",
               "text": [
                  "\n",
                  "\u001b[A\n",
                  "100%|██████████| 100/100 [00:00<00:00, 505.64it/s]\n"
               ]
            },
            {
               "name": "stdout",
               "output_type": "stream",
               "text": [
                  "test on day 1000\n"
               ]
            },
            {
               "name": "stderr",
               "output_type": "stream",
               "text": [
                  "\n",
                  "\u001b[A\n",
                  "\u001b[A\n",
                  "100%|██████████| 100/100 [00:00<00:00, 490.89it/s]\n"
               ]
            },
            {
               "name": "stdout",
               "output_type": "stream",
               "text": [
                  "test on day 1500\n"
               ]
            },
            {
               "name": "stderr",
               "output_type": "stream",
               "text": [
                  "\n",
                  "\u001b[A\n",
                  "\u001b[A\n",
                  "100%|██████████| 100/100 [00:00<00:00, 452.91it/s]\n"
               ]
            },
            {
               "name": "stdout",
               "output_type": "stream",
               "text": [
                  "core-periphery tests using the Lip approach\n",
                  "test on day 0\n"
               ]
            },
            {
               "name": "stderr",
               "output_type": "stream",
               "text": [
                  "\n",
                  "100%|██████████| 100/100 [00:00<00:00, 1727.78it/s]\n"
               ]
            },
            {
               "name": "stdout",
               "output_type": "stream",
               "text": [
                  "test on day 500\n"
               ]
            },
            {
               "name": "stderr",
               "output_type": "stream",
               "text": [
                  "\n",
                  "\u001b[A\n",
                  "100%|██████████| 100/100 [00:00<00:00, 562.64it/s]\n"
               ]
            },
            {
               "name": "stdout",
               "output_type": "stream",
               "text": [
                  "test on day 1000\n"
               ]
            },
            {
               "name": "stderr",
               "output_type": "stream",
               "text": [
                  "\n",
                  "\u001b[A\n",
                  "100%|██████████| 100/100 [00:00<00:00, 556.64it/s]\n"
               ]
            },
            {
               "name": "stdout",
               "output_type": "stream",
               "text": [
                  "test on day 1500\n"
               ]
            },
            {
               "name": "stderr",
               "output_type": "stream",
               "text": [
                  "\n",
                  "\u001b[A\n",
                  "100%|██████████| 100/100 [00:00<00:00, 549.60it/s]\n",
                  "100%|██████████| 5/5 [00:03<00:00,  1.56it/s]\n"
               ]
            },
            {
               "name": "stdout",
               "output_type": "stream",
               "text": [
                  "get transaction stats av. network\n"
               ]
            },
            {
               "name": "stderr",
               "output_type": "stream",
               "text": [
                  "100%|██████████| 1500/1500 [00:08<00:00, 184.27it/s]\n"
               ]
            },
            {
               "name": "stdout",
               "output_type": "stream",
               "text": [
                  "get transaction stats av. bank\n"
               ]
            },
            {
               "name": "stderr",
               "output_type": "stream",
               "text": [
                  "100%|██████████| 1500/1500 [00:01<00:00, 980.93it/s]\n",
                  "  9%|▉         | 1892/19999 [06:01<39:45,  7.59it/s]   "
               ]
            }
         ],
         "source": [
            "from dynamics import ClassDynamics\n",
            "from network import ClassNetwork\n",
            "\n",
            "# parameter setting\n",
            "nb_banks=50\n",
            "path_results=\"./results/single_run/test/\"\n",
            "initial_deposits_size = 40\n",
            "\n",
            "# reg ratios\n",
            "alpha_init=False # initial cash (< 1/(1-gamma) - beta)\n",
            "alpha=0.01\n",
            "beta_init=0.5 # initial collateral  (< 1/(1-gamma) - alpha)\n",
            "beta_reg=0.5\n",
            "beta_star=0.5\n",
            "gamma=0.03\n",
            "gamma_init = 3*gamma\n",
            "collateral_value=1.0\n",
            "\n",
            "# initialisation of deposits size\n",
            "initialization_method=\"pareto\"\n",
            "alpha_pareto=1.3\n",
            "\n",
            "# shocks on deposits\n",
            "shocks_method=\"non-conservative\"\n",
            "shocks_law=\"normal-mean-reverting\"\n",
            "shocks_vol=0.10 # 0.05\n",
            "\n",
            "\n",
            "# speed of learning\n",
            "learning_speed = 0.5\n",
            "\n",
            "# min trans size\n",
            "min_repo_trans_size=1e-8  # 1e-8\n",
            "\n",
            "# dynamics & ploting\n",
            "nb_steps=int(20e3)\n",
            "dump_period=int(5e2)\n",
            "plot_period=int(5e2)\n",
            "cp_option=True\n",
            "heavy_plot=False\n",
            "\n",
            "# LCR mgt\n",
            "LCR_mgt_opt=True\n",
            "\n",
            "# leverage mgt\n",
            "end_repo_period=False # if int, periodic end repo / if false, leverage mgt\n",
            "gamma_star = 1.5*gamma #1.5\n",
            "check_leverage_opt = False # to avoid killing the run if one or several banks are below min leverage due to high shocks (there is not possibility of decrease balance sheet size if no interbank borrowings)\n",
            "\n",
            "# money creation\n",
            "loan_tenor=nb_steps # if int, money creation / if false. no new loans\n",
            "loan_period=1\n",
            "new_loans_vol = 0 # standard deviation around the mean creation of loans\n",
            "new_loans_mean = 100e-2/250 # daily mean increase in loans expressed as a percentage of the intital loans (the other option would be a relative increase but it is unstable np.exp(np.log(1.01)/250)-1 = 4e-5)\n",
            "beta_new = beta_reg # if number, new colat / if false, no new colat \n",
            "gamma_new = 2*gamma_star\n",
            "\n",
            "# substitution of collateral\n",
            "substitution = False\n",
            "\n",
            "\n",
            "# initialize ClassNetwork\n",
            "Network = ClassNetwork(\n",
            "    nb_banks=nb_banks,\n",
            "    initial_deposits_size=initial_deposits_size,\n",
            "    alpha_init=alpha_init,\n",
            "    alpha=alpha,\n",
            "    beta_init=beta_init,\n",
            "    beta_reg=beta_reg,\n",
            "    beta_star=beta_star,\n",
            "    beta_new=beta_new,\n",
            "    gamma_init=gamma_init,\n",
            "    gamma=gamma,\n",
            "    gamma_star=gamma_star,\n",
            "    gamma_new=gamma_new,\n",
            "    collateral_value=collateral_value,\n",
            "    initialization_method=initialization_method,\n",
            "    alpha_pareto=alpha_pareto,\n",
            "    shocks_method=shocks_method,\n",
            "    shocks_law=shocks_law,\n",
            "    shocks_vol=shocks_vol,\n",
            "    LCR_mgt_opt=LCR_mgt_opt,\n",
            "    min_repo_trans_size=min_repo_trans_size,\n",
            "    loan_tenor=loan_tenor,\n",
            "    loan_period=loan_period,\n",
            "    new_loans_vol=new_loans_vol,\n",
            "    new_loans_mean=new_loans_mean,\n",
            "    end_repo_period=end_repo_period,\n",
            "    substitution=substitution,\n",
            "    learning_speed=learning_speed,\n",
            "    check_leverage_opt=check_leverage_opt,\n",
            ")\n",
            "\n",
            "# initialize ClassDynamics\n",
            "Dynamics = ClassDynamics(\n",
            "    Network,\n",
            "    nb_steps=nb_steps,\n",
            "    path_results=path_results,\n",
            "    dump_period=dump_period,\n",
            "    plot_period=plot_period,\n",
            "    cp_option=cp_option,\n",
            "    heavy_plot=heavy_plot,\n",
            ")\n",
            "\n",
            "# simulate\n",
            "Dynamics.simulate()"
         ]
      },
      {
         "cell_type": "markdown",
         "metadata": {},
         "source": [
            "# ploting"
         ]
      },
      {
         "cell_type": "code",
         "execution_count": null,
         "metadata": {},
         "outputs": [],
         "source": [
            "# get graphics after interupting \n",
            "import graphics  as gx\n",
            "Dynamics.nb_steps = Network.step\n",
            "Dynamics.plot_period = Network.step\n",
            "Dynamics.fill()\n",
            "Dynamics.dump()\n",
            "gx.plot(Dynamics)"
         ]
      },
      {
         "cell_type": "markdown",
         "metadata": {},
         "source": [
            "# analysis"
         ]
      },
      {
         "cell_type": "code",
         "execution_count": null,
         "metadata": {},
         "outputs": [],
         "source": [
            "import numpy as np \n",
            "for chain in Network.chains_rev_repo:\n",
            "   if  len(np.unique (np.array(chain))) < len(np.array(chain)):\n",
            "      print(\"error\")"
         ]
      },
      {
         "cell_type": "code",
         "execution_count": null,
         "metadata": {},
         "outputs": [],
         "source": [
            "max = 0 \n",
            "min = 19\n",
            "sum = 0\n",
            "for chain in Network.chains_rev_repo:\n",
            "   if  len(chain) > max:\n",
            "      max = len(chain)\n",
            "   if  len(chain) < min:\n",
            "      min = len(chain)\n",
            "   sum +=len(chain)\n",
            "\n",
            "print(max)\n",
            "print(min)\n",
            "print(sum/len(Network.chains_rev_repo))"
         ]
      },
      {
         "cell_type": "markdown",
         "metadata": {},
         "source": [
            "# new loans"
         ]
      },
      {
         "cell_type": "code",
         "execution_count": null,
         "metadata": {},
         "outputs": [],
         "source": [
            "import numpy as np\n",
            "from matplotlib import pyplot as plt\n",
            "ar_new_loans = (np.random.randn(nb_banks) * new_loans_vol + 1)*new_loans_mean\n",
            "plt.hist(ar_new_loans*Network.df_banks[\"initial loans\"])"
         ]
      }
   ],
   "metadata": {
      "kernelspec": {
         "display_name": "Python 3",
         "language": "python",
         "name": "python3"
      },
      "language_info": {
         "codemirror_mode": {
            "name": "ipython",
            "version": 3
         },
         "file_extension": ".py",
         "mimetype": "text/x-python",
         "name": "python",
         "nbconvert_exporter": "python",
         "pygments_lexer": "ipython3",
         "version": "3.8.13"
      }
   },
   "nbformat": 4,
   "nbformat_minor": 2
}
