{
 "cells": [
  {
   "cell_type": "code",
   "execution_count": 1,
   "id": "8c221870",
   "metadata": {},
   "outputs": [],
   "source": [
    "# imports \n",
    "import data_preprocessing as dp\n",
    "import fake_data as fd\n",
    "\n",
    "# param definition\n",
    "nb_tran=100\n",
    "\n",
    "# load fake data\n",
    "df_mmsr = fd.get_df_mmsr(nb_tran=100)"
   ]
  },
  {
   "cell_type": "code",
   "execution_count": 6,
   "id": "39da42cb",
   "metadata": {},
   "outputs": [
    {
     "data": {
      "text/plain": [
       "{'2020-01-01':        fund_3 bank_0 fund_0 fund_2 fund_4 bank_4 bank_1 fund_1 bank_3 bank_2\n",
       " fund_3    NaN    NaN    NaN    NaN    NaN    NaN    NaN    NaN    NaN    NaN\n",
       " bank_0    NaN    NaN    NaN    NaN    NaN    NaN    NaN    NaN    NaN    NaN\n",
       " fund_0    NaN    NaN    NaN    NaN    NaN    NaN    NaN    NaN    NaN    NaN\n",
       " fund_2    NaN    NaN    NaN    NaN    NaN    NaN    NaN    NaN    NaN    NaN\n",
       " fund_4    NaN    NaN    NaN    NaN    NaN    NaN    NaN    NaN    NaN    NaN\n",
       " bank_4    NaN    NaN    NaN    NaN    NaN    NaN    NaN    NaN    NaN    NaN\n",
       " bank_1    NaN    NaN    NaN    NaN    NaN    NaN    NaN    NaN    NaN    NaN\n",
       " fund_1    NaN    NaN    NaN    NaN    NaN    NaN    NaN    NaN    NaN    NaN\n",
       " bank_3    NaN    NaN    NaN    NaN    NaN    NaN    NaN    NaN    NaN    NaN\n",
       " bank_2    NaN    NaN    NaN    NaN    NaN    NaN    NaN    NaN    NaN    NaN,\n",
       " '2020-01-02':        fund_3 bank_0 fund_0 fund_2 fund_4 bank_4 bank_1 fund_1 bank_3 bank_2\n",
       " fund_3    NaN    NaN    NaN    NaN    NaN    NaN    NaN    NaN    NaN    NaN\n",
       " bank_0    NaN    NaN    NaN    NaN    NaN    NaN    NaN    NaN    NaN    NaN\n",
       " fund_0    NaN    NaN    NaN    NaN    NaN    NaN    NaN    NaN    NaN    NaN\n",
       " fund_2    NaN    NaN    NaN    NaN    NaN    NaN    NaN    NaN    NaN    NaN\n",
       " fund_4    NaN    NaN    NaN    NaN    NaN    NaN    NaN    NaN    NaN    NaN\n",
       " bank_4    NaN    NaN    NaN    NaN    NaN    NaN    NaN    NaN    NaN    NaN\n",
       " bank_1    NaN    NaN    NaN    NaN    NaN    NaN    NaN    NaN    NaN    NaN\n",
       " fund_1    NaN    NaN    NaN    NaN    NaN    NaN    NaN    NaN    NaN    NaN\n",
       " bank_3    NaN    NaN    NaN    NaN    NaN    NaN    NaN    NaN    NaN    NaN\n",
       " bank_2    NaN    NaN    NaN    NaN    NaN    NaN    NaN    NaN    NaN    NaN,\n",
       " '2020-01-03':        fund_3 bank_0 fund_0 fund_2 fund_4 bank_4 bank_1 fund_1 bank_3 bank_2\n",
       " fund_3    NaN    NaN    NaN    NaN    NaN    NaN    NaN    NaN    NaN    NaN\n",
       " bank_0    NaN    NaN    NaN    NaN    NaN    NaN    NaN    NaN    NaN    NaN\n",
       " fund_0    NaN    NaN    NaN    NaN    NaN    NaN    NaN    NaN    NaN    NaN\n",
       " fund_2    NaN    NaN    NaN    NaN    NaN    NaN    NaN    NaN    NaN    NaN\n",
       " fund_4    NaN    NaN    NaN    NaN    NaN    NaN    NaN    NaN    NaN    NaN\n",
       " bank_4    NaN    NaN    NaN    NaN    NaN    NaN    NaN    NaN    NaN    NaN\n",
       " bank_1    NaN    NaN    NaN    NaN    NaN    NaN    NaN    NaN    NaN    NaN\n",
       " fund_1    NaN    NaN    NaN    NaN    NaN    NaN    NaN    NaN    NaN    NaN\n",
       " bank_3    NaN    NaN    NaN    NaN    NaN    NaN    NaN    NaN    NaN    NaN\n",
       " bank_2    NaN    NaN    NaN    NaN    NaN    NaN    NaN    NaN    NaN    NaN,\n",
       " '2020-01-04':        fund_3 bank_0 fund_0 fund_2 fund_4 bank_4 bank_1 fund_1 bank_3 bank_2\n",
       " fund_3    NaN    NaN    NaN    NaN    NaN    NaN    NaN    NaN    NaN    NaN\n",
       " bank_0    NaN    NaN    NaN    NaN    NaN    NaN    NaN    NaN    NaN    NaN\n",
       " fund_0    NaN    NaN    NaN    NaN    NaN    NaN    NaN    NaN    NaN    NaN\n",
       " fund_2    NaN    NaN    NaN    NaN    NaN    NaN    NaN    NaN    NaN    NaN\n",
       " fund_4    NaN    NaN    NaN    NaN    NaN    NaN    NaN    NaN    NaN    NaN\n",
       " bank_4    NaN    NaN    NaN    NaN    NaN    NaN    NaN    NaN    NaN    NaN\n",
       " bank_1    NaN    NaN    NaN    NaN    NaN    NaN    NaN    NaN    NaN    NaN\n",
       " fund_1    NaN    NaN    NaN    NaN    NaN    NaN    NaN    NaN    NaN    NaN\n",
       " bank_3    NaN    NaN    NaN    NaN    NaN    NaN    NaN    NaN    NaN    NaN\n",
       " bank_2    NaN    NaN    NaN    NaN    NaN    NaN    NaN    NaN    NaN    NaN,\n",
       " '2020-01-05':        fund_3 bank_0 fund_0 fund_2 fund_4 bank_4 bank_1 fund_1 bank_3 bank_2\n",
       " fund_3    NaN    NaN    NaN    NaN    NaN    NaN    NaN    NaN    NaN    NaN\n",
       " bank_0    NaN    NaN    NaN    NaN    NaN    NaN    NaN    NaN    NaN    NaN\n",
       " fund_0    NaN    NaN    NaN    NaN    NaN    NaN    NaN    NaN    NaN    NaN\n",
       " fund_2    NaN    NaN    NaN    NaN    NaN    NaN    NaN    NaN    NaN    NaN\n",
       " fund_4    NaN    NaN    NaN    NaN    NaN    NaN    NaN    NaN    NaN    NaN\n",
       " bank_4    NaN    NaN    NaN    NaN    NaN    NaN    NaN    NaN    NaN    NaN\n",
       " bank_1    NaN    NaN    NaN    NaN    NaN    NaN    NaN    NaN    NaN    NaN\n",
       " fund_1    NaN    NaN    NaN    NaN    NaN    NaN    NaN    NaN    NaN    NaN\n",
       " bank_3    NaN    NaN    NaN    NaN    NaN    NaN    NaN    NaN    NaN    NaN\n",
       " bank_2    NaN    NaN    NaN    NaN    NaN    NaN    NaN    NaN    NaN    NaN}"
      ]
     },
     "execution_count": 6,
     "metadata": {},
     "output_type": "execute_result"
    }
   ],
   "source": [
    "dp.build_from_data(df_mmsr=df_mmsr)"
   ]
  }
 ],
 "metadata": {
  "kernelspec": {
   "display_name": "Python 3.9.5 ('doudienv')",
   "language": "python",
   "name": "python3"
  },
  "language_info": {
   "codemirror_mode": {
    "name": "ipython",
    "version": 3
   },
   "file_extension": ".py",
   "mimetype": "text/x-python",
   "name": "python",
   "nbconvert_exporter": "python",
   "pygments_lexer": "ipython3",
   "version": "3.9.5"
  },
  "vscode": {
   "interpreter": {
    "hash": "59101c57e076f2aa64ba7fd4f09fc30d9fdcf318df562b3130a87198e170a43e"
   }
  }
 },
 "nbformat": 4,
 "nbformat_minor": 5
}
