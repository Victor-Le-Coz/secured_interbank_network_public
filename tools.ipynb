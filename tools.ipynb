{
 "cells": [
  {
   "cell_type": "markdown",
   "metadata": {},
   "source": [
    "# Pareto"
   ]
  },
  {
   "cell_type": "code",
   "execution_count": 73,
   "metadata": {},
   "outputs": [
    {
     "data": {
      "text/plain": [
       "array([1.85347817e+02, 1.05033880e+02, 2.34802525e+03, 1.45784683e+02,\n",
       "       1.02944513e+02, 3.62975930e+03, 2.23559980e+03, 3.20404495e+02,\n",
       "       1.54971648e+02, 3.57275985e+02, 1.77522349e+02, 1.05759616e+03,\n",
       "       1.39795634e+02, 4.66450597e+02, 1.98296310e+02, 1.56288506e+03,\n",
       "       6.57307311e+02, 2.25741705e+02, 4.93047286e+02, 1.42690261e+02,\n",
       "       1.33882649e+02, 1.06899677e+02, 6.15640315e+02, 1.82430386e+03,\n",
       "       3.28044409e+02, 1.57550906e+02, 4.20637137e+02, 2.37889031e+03,\n",
       "       1.82537336e+02, 9.17037534e+02, 1.44006804e+03, 1.27250264e+02,\n",
       "       3.92073650e+02, 3.96589127e+04, 6.00403934e+02, 1.97043495e+02,\n",
       "       1.14338720e+03, 4.20060846e+02, 7.55616597e+02, 1.44562022e+02,\n",
       "       2.69618412e+04, 3.27473816e+02, 3.54472153e+03, 1.26604089e+04,\n",
       "       1.18409109e+02, 7.09563436e+02, 7.36947121e+02, 5.00827084e+06,\n",
       "       1.71119223e+02, 1.03585075e+02])"
      ]
     },
     "execution_count": 73,
     "metadata": {},
     "output_type": "execute_result"
    }
   ],
   "source": [
    "from scipy.stats import pareto\n",
    "pareto.rvs(0.5,\n",
    "                        loc=0,\n",
    "                        scale=1,\n",
    "                        size=50,\n",
    "                        random_state=None,\n",
    "                    )*100"
   ]
  },
  {
   "cell_type": "markdown",
   "metadata": {},
   "source": [
    "# building of the shocks with normal law for the relative changes / returns\n",
    "it means the returns are stationary but not deposits process which is a pure random walk log normal"
   ]
  },
  {
   "cell_type": "code",
   "execution_count": 3,
   "metadata": {},
   "outputs": [],
   "source": [
    "from scipy import stats\n",
    "import numpy as np\n",
    "from matplotlib import pyplot as plt"
   ]
  },
  {
   "cell_type": "code",
   "execution_count": null,
   "metadata": {},
   "outputs": [],
   "source": [
    "# define middle of the list of banks\n",
    "deposits = np.random.rand(int(1e5))*500\n",
    "plt.hist(deposits)\n",
    "N_max = len(deposits) - len(deposits) % 2  # can not apply a shock on\n",
    "# one bank if odd nb\n",
    "N_half = int(len(deposits) / 2)"
   ]
  },
  {
   "cell_type": "code",
   "execution_count": null,
   "metadata": {},
   "outputs": [],
   "source": [
    "rho_1 = stats.truncnorm(\n",
    "            (norm_lower - mu) / vol, (norm_upper - mu) / vol, loc=mu, scale=vol\n",
    "        ).rvs(N_half)"
   ]
  },
  {
   "cell_type": "code",
   "execution_count": null,
   "metadata": {},
   "outputs": [],
   "source": [
    "vol = 0.3\n",
    "mu=0\n",
    "norm_lower=-1\n",
    "norm_upper=0\n",
    "\n",
    "rho_1 = stats.truncnorm(\n",
    "        (norm_lower - mu) / vol,\n",
    "        (norm_upper - mu) / vol,\n",
    "        loc=mu,\n",
    "        scale=vol).rvs(N_half)\n",
    "plt.figure(figsize=(15,5))\n",
    "bin = plt.hist(rho_1, bins =200)\n",
    "print(np.mean(rho_1),np.var(rho_1), np.max(rho_1), np.min(rho_1))"
   ]
  },
  {
   "cell_type": "code",
   "execution_count": null,
   "metadata": {},
   "outputs": [],
   "source": [
    "# apply a positive relative shock on the second half of the banks\n",
    "rho_2 = -rho_1 * deposits[0:N_half] / deposits[N_half:N_max]\n",
    "plt.figure(figsize=(15,5))\n",
    "bin = plt.hist(rho_2, bins =200)\n",
    "print(np.mean(rho_2),np.var(rho_2), np.max(rho_2), np.min(rho_2))"
   ]
  },
  {
   "cell_type": "code",
   "execution_count": null,
   "metadata": {},
   "outputs": [],
   "source": [
    "# concatenate the relative shocks\n",
    "if len(deposits) > N_max:\n",
    "    rho = np.concatenate([rho_1, rho_2, [0]])\n",
    "elif len(deposits) == N_max:\n",
    "    rho = np.concatenate([rho_1, rho_2])\n",
    "else:\n",
    "    assert False, \"\"\n",
    "\n",
    "print(np.mean(rho),np.var(rho), np.max(rho), np.min(rho))\n",
    "plt.figure(figsize=(15,5))\n",
    "bin = plt.hist(rho, bins =200)\n"
   ]
  },
  {
   "cell_type": "code",
   "execution_count": null,
   "metadata": {},
   "outputs": [],
   "source": [
    "# compute the absolute shock from the deposit amount\n",
    "shocks = deposits * rho\n",
    "plt.figure(figsize=(15,5))\n",
    "bin = plt.hist(shocks, bins =200)"
   ]
  },
  {
   "cell_type": "markdown",
   "metadata": {},
   "source": [
    "we do obtain something close to a log normal for the distribution of the deposits "
   ]
  },
  {
   "cell_type": "code",
   "execution_count": null,
   "metadata": {},
   "outputs": [],
   "source": [
    "# compute the new deposits\n",
    "new_deposits = deposits + shocks\n",
    "plt.figure(figsize=(15,5))\n",
    "bin = plt.hist(new_deposits, bins =200)"
   ]
  },
  {
   "cell_type": "code",
   "execution_count": null,
   "metadata": {},
   "outputs": [],
   "source": [
    "new_deposits"
   ]
  },
  {
   "cell_type": "markdown",
   "metadata": {},
   "source": [
    "# Comparison of diffusions shocks types\n",
    "the processus for the deposits is non stationary in any case but lux proposes to add a mean reverting component to make it more realistic\n",
    "not implemented yet"
   ]
  },
  {
   "cell_type": "code",
   "execution_count": 81,
   "metadata": {},
   "outputs": [
    {
     "name": "stdout",
     "output_type": "stream",
     "text": [
      "9.916938292829562 0.002624439085201063 10.017107247369722 9.82719444770942\n",
      "2.294230904884009 2.6643906756058824e-05 2.3042943561081737 2.2851534862720846\n",
      "2.3025850929983007 1.2497265581573788e-15 2.302585302245282 2.3025848965022875\n",
      "2.302585095494249 1.3336663146872727e-10 2.3026382206178497 2.3025306595739274\n"
     ]
    },
    {
     "data": {
      "image/png": "[encoded data removed]",
      "text/plain": [
       "<Figure size 1080x360 with 1 Axes>"
      ]
     },
     "metadata": {
      "needs_background": "light"
     },
     "output_type": "display_data"
    }
   ],
   "source": [
    "walk = np.zeros(int(1e6))\n",
    "walk[0] = 10\n",
    "walk_p = np.zeros(int(1e6))\n",
    "walk_p[0] = 10\n",
    "walk_mr = np.zeros(int(1e6))\n",
    "walk_mr[0] = 10\n",
    "\n",
    "for i in range(1,int(1e6)):\n",
    "    # not mean reverting\n",
    "    walk[i] = walk[i-1] + walk[i-1]*np.random.normal(scale=0.00001)\n",
    "\n",
    "    # equivalent to log normal approach\n",
    "    walk_p[i] = walk_p[0]*np.exp(-0.5*(0.00001**2)*np.random.normal(scale=np.sqrt(i)))\n",
    "\n",
    "    # mean reverting\n",
    "    walk_mr[i] = walk_mr[i-1] + 0.5*(10-walk_mr[i-1]) + walk_mr[i-1]*np.random.normal(scale=0.00001)\n",
    "\n",
    "plt.figure(figsize=(15,5))\n",
    "plt.plot(walk,'o-')\n",
    "plt.plot(walk_p,'o-')\n",
    "plt.plot(walk_mr,'o-')\n",
    "\n",
    "print(np.mean(walk),np.var(walk), np.max(walk), np.min(walk))\n",
    "print(np.mean(np.log(walk)),np.var(np.log(walk)), np.max(np.log(walk)), np.min(np.log(walk)))\n",
    "print(np.mean(np.log(walk_p)),np.var(np.log(walk_p)), np.max(np.log(walk_p)), np.min(np.log(walk_p)))\n",
    "print(np.mean(np.log(walk_mr)),np.var(np.log(walk_mr)), np.max(np.log(walk_mr)), np.min(np.log(walk_mr)))\n"
   ]
  },
  {
   "cell_type": "code",
   "execution_count": 82,
   "metadata": {},
   "outputs": [
    {
     "data": {
      "image/png": "[encoded data removed]",
      "text/plain": [
       "<Figure size 432x288 with 1 Axes>"
      ]
     },
     "metadata": {
      "needs_background": "light"
     },
     "output_type": "display_data"
    }
   ],
   "source": [
    "bin  = plt.hist(walk, bins=50)\n"
   ]
  },
  {
   "cell_type": "code",
   "execution_count": 83,
   "metadata": {},
   "outputs": [
    {
     "data": {
      "image/png": "[encoded data removed]",
      "text/plain": [
       "<Figure size 432x288 with 1 Axes>"
      ]
     },
     "metadata": {
      "needs_background": "light"
     },
     "output_type": "display_data"
    }
   ],
   "source": [
    "bin  = plt.hist(walk_p, bins=50)\n"
   ]
  },
  {
   "cell_type": "code",
   "execution_count": 71,
   "metadata": {},
   "outputs": [
    {
     "data": {
      "text/plain": [
       "array([1.00000000e+01, 1.18901736e+01, 8.32428711e+00, ...,\n",
       "       7.11174097e+05, 2.94536566e-16, 7.11797006e+75])"
      ]
     },
     "execution_count": 71,
     "metadata": {},
     "output_type": "execute_result"
    }
   ],
   "source": [
    "walk_p"
   ]
  },
  {
   "cell_type": "code",
   "execution_count": 84,
   "metadata": {},
   "outputs": [
    {
     "data": {
      "image/png": "[encoded data removed]",
      "text/plain": [
       "<Figure size 432x288 with 1 Axes>"
      ]
     },
     "metadata": {
      "needs_background": "light"
     },
     "output_type": "display_data"
    }
   ],
   "source": [
    "bin  = plt.hist(walk_mr, bins=50)"
   ]
  },
  {
   "cell_type": "markdown",
   "metadata": {},
   "source": [
    "# Analysis beta init issue"
   ]
  },
  {
   "cell_type": "code",
   "execution_count": 1,
   "metadata": {},
   "outputs": [],
   "source": [
    "import shocks as sh\n",
    "from network import ClassNetwork\n",
    "import numpy as np"
   ]
  },
  {
   "cell_type": "code",
   "execution_count": 2,
   "metadata": {},
   "outputs": [
    {
     "name": "stderr",
     "output_type": "stream",
     "text": [
      "c:\\Users\\VictorLeCoz\\OneDrive - Quant Decisions S.L\\Documents\\PhD\\secured-inter-bank-network\\network.py:569: RuntimeWarning: invalid value encountered in double_scalars\n",
      "  np.sum(weighted_repo_maturity) / total_repo_amount\n",
      "c:\\Users\\VictorLeCoz\\OneDrive - Quant Decisions S.L\\Documents\\PhD\\secured-inter-bank-network\\network.py:727: RuntimeWarning: invalid value encountered in double_scalars\n",
      "  self.single_trajectory[\"Repos av. maturity\"][-1] = np.sum(\n"
     ]
    },
    {
     "data": {
      "text/plain": [
       "[<bank.ClassBank at 0x24241b14640>,\n",
       " <bank.ClassBank at 0x24241b14670>,\n",
       " <bank.ClassBank at 0x24241b14610>]"
      ]
     },
     "execution_count": 2,
     "metadata": {},
     "output_type": "execute_result"
    }
   ],
   "source": [
    "network = ClassNetwork(\n",
    "    n_banks=3,\n",
    "    alpha=0.01,\n",
    "    beta_init=100,\n",
    "    beta_reg=0.1,\n",
    "    beta_star=0.1,\n",
    "    gamma=0.03,\n",
    "    collateral_value=1.0,\n",
    "    initialization_method=\"constant\",\n",
    "    alpha_pareto=1.3,\n",
    "    shocks_method=\"bilateral\",\n",
    "    shocks_law=\"normal\",\n",
    "    shocks_vol=0.01,\n",
    "    result_location=\"./results/test/\",\n",
    "    min_repo_size=1e-10,\n",
    "    )\n",
    "\n",
    "network.banks"
   ]
  },
  {
   "cell_type": "code",
   "execution_count": 7,
   "metadata": {},
   "outputs": [
    {
     "data": {
      "text/plain": [
       "1.99"
      ]
     },
     "execution_count": 7,
     "metadata": {},
     "output_type": "execute_result"
    }
   ],
   "source": [
    "gamma = 0.5\n",
    "1/(1-gamma) - 0.01"
   ]
  },
  {
   "attachments": {},
   "cell_type": "markdown",
   "metadata": {},
   "source": [
    "# cpu count"
   ]
  },
  {
   "cell_type": "code",
   "execution_count": 1,
   "metadata": {},
   "outputs": [
    {
     "data": {
      "text/plain": [
       "36"
      ]
     },
     "execution_count": 1,
     "metadata": {},
     "output_type": "execute_result"
    }
   ],
   "source": [
    "import os\n",
    "os.cpu_count()"
   ]
  },
  {
   "cell_type": "markdown",
   "metadata": {},
   "source": [
    "# non conservative shocks"
   ]
  },
  {
   "cell_type": "code",
   "execution_count": 5,
   "metadata": {},
   "outputs": [],
   "source": [
    "import numpy as np\n",
    "from matplotlib import pyplot as plt"
   ]
  },
  {
   "cell_type": "code",
   "execution_count": 6,
   "metadata": {},
   "outputs": [],
   "source": [
    "def generate_non_conservative_shocks(deposits, initial_deposits, total_assets, law, vol):\n",
    "    if law == \"log-normal\":\n",
    "        std_control = np.sqrt(np.log(1.0 + vol**2.0))\n",
    "        new_deposits = (\n",
    "            np.random.lognormal(\n",
    "                mean=-0.5 * std_control**2,\n",
    "                sigma=std_control,\n",
    "                size=len(deposits),\n",
    "            )\n",
    "            * deposits\n",
    "        )\n",
    "        shocks = new_deposits - deposits\n",
    "    elif law == \"normal\":\n",
    "        new_deposits = np.maximum(deposits + np.random.randn(len(deposits)) * vol, 0.0)\n",
    "        shocks = new_deposits - deposits\n",
    "\n",
    "    elif law == \"normal-mean-reverting\":\n",
    "        mean_reversion = 1\n",
    "        epsilon = np.random.normal(loc=0,scale=vol,size=len(deposits))\n",
    "        shocks = mean_reversion * (initial_deposits-deposits) + epsilon*total_assets\n",
    "    else:\n",
    "        assert False, \"\"\n",
    "    \n",
    "    shocks = shocks -np.mean(shocks)\n",
    "    return shocks"
   ]
  },
  {
   "cell_type": "code",
   "execution_count": 7,
   "metadata": {},
   "outputs": [],
   "source": [
    "deposits = np.random.rand(int(50))*100\n",
    "initial_deposits = np.random.rand(int(50))*100\n",
    "total_assets = deposits\n",
    "law = \"normal-mean-reverting\"\n",
    "vol = 0.05\n",
    "shocks = generate_non_conservative_shocks(deposits, initial_deposits, total_assets, law, vol)\n"
   ]
  },
  {
   "cell_type": "code",
   "execution_count": 8,
   "metadata": {},
   "outputs": [
    {
     "data": {
      "text/plain": [
       "(array([4., 5., 4., 2., 7., 6., 7., 8., 2., 5.]),\n",
       " array([-74.75353562, -60.36456496, -45.9755943 , -31.58662364,\n",
       "        -17.19765299,  -2.80868233,  11.58028833,  25.96925899,\n",
       "         40.35822965,  54.74720031,  69.13617097]),\n",
       " <BarContainer object of 10 artists>)"
      ]
     },
     "execution_count": 8,
     "metadata": {},
     "output_type": "execute_result"
    },
    {
     "data": {
      "image/png": "[encoded data removed]",
      "text/plain": [
       "<Figure size 432x288 with 1 Axes>"
      ]
     },
     "metadata": {
      "needs_background": "light"
     },
     "output_type": "display_data"
    }
   ],
   "source": [
    "plt.hist(shocks)"
   ]
  },
  {
   "cell_type": "code",
   "execution_count": 9,
   "metadata": {},
   "outputs": [
    {
     "data": {
      "text/plain": [
       "26.983093114378335"
      ]
     },
     "execution_count": 9,
     "metadata": {},
     "output_type": "execute_result"
    },
    {
     "data": {
      "image/png": "[encoded data removed]",
      "text/plain": [
       "<Figure size 432x288 with 1 Axes>"
      ]
     },
     "metadata": {
      "needs_background": "light"
     },
     "output_type": "display_data"
    }
   ],
   "source": [
    "new_deposits = (deposits + shocks).clip(min=0)\n",
    "bin = plt.hist(new_deposits)\n",
    "np.sum(new_deposits)-np.sum(deposits)"
   ]
  },
  {
   "cell_type": "markdown",
   "metadata": {},
   "source": [
    "## time serie dynamics generated by non conservative shocks\n",
    "target: get total deposits / assets below 1e3 after 10 000 steps"
   ]
  },
  {
   "cell_type": "code",
   "execution_count": 8,
   "metadata": {},
   "outputs": [],
   "source": [
    "import numpy as np\n",
    "import pandas as pd\n",
    "from scipy.stats import pareto\n",
    "from matplotlib import pyplot as plt"
   ]
  },
  {
   "cell_type": "code",
   "execution_count": 9,
   "metadata": {},
   "outputs": [],
   "source": [
    "def generate_non_conservative_shocks(\n",
    "    deposits, initial_deposits, total_assets, law, vol\n",
    "):\n",
    "    if law == \"log-normal\":\n",
    "        std_control = np.sqrt(np.log(1.0 + vol**2.0))\n",
    "        new_deposits = (\n",
    "            np.random.lognormal(\n",
    "                mean=-0.5 * std_control**2,\n",
    "                sigma=std_control,\n",
    "                size=len(deposits),\n",
    "            )\n",
    "            * deposits\n",
    "        )\n",
    "\n",
    "    elif law == \"normal\":\n",
    "        new_deposits = np.maximum(deposits + np.random.randn(len(deposits)) * vol, 0.0)\n",
    "\n",
    "    elif law == \"normal-mean-reverting\":\n",
    "        mean_reversion = vol\n",
    "        epsilon = np.random.normal(loc=0, scale=vol, size=len(deposits))\n",
    "        shocks = mean_reversion * (initial_deposits - deposits) + epsilon * total_assets\n",
    "\n",
    "        # center the shocks\n",
    "        shocks = shocks - np.mean(shocks)\n",
    "\n",
    "        # clip the negative shocks to the deposits size\n",
    "        new_deposits = (deposits + shocks).clip(min=0)\n",
    "\n",
    "    else:\n",
    "        assert False, \"\"\n",
    "\n",
    "    shocks = new_deposits - deposits\n",
    "    return shocks"
   ]
  },
  {
   "cell_type": "code",
   "execution_count": 10,
   "metadata": {},
   "outputs": [],
   "source": [
    "# define parameters\n",
    "# deposits = np.random.rand(int(50))*100\n",
    "# initial_deposits = np.random.rand(int(50))*100\n",
    "deposits = pareto.rvs(\n",
    "    1.3,\n",
    "    loc=0,\n",
    "    scale=1,\n",
    "    size=50,\n",
    "    random_state=None,\n",
    "    )* 40.0\n",
    "\n",
    "initial_deposits = pareto.rvs(\n",
    "    1.3,\n",
    "    loc=0,\n",
    "    scale=1,\n",
    "    size=50,\n",
    "    random_state=None,\n",
    "    )* 40.0\n",
    "total_assets = deposits\n",
    "law =\"normal-mean-reverting\"\n",
    "vol = 0.3"
   ]
  },
  {
   "cell_type": "code",
   "execution_count": 11,
   "metadata": {},
   "outputs": [],
   "source": [
    "# run analysis\n",
    "\n",
    "deposits_time_serie = pd.DataFrame(columns=range(50),index=range(30000))\n",
    "\n",
    "for step in range(30000):\n",
    "    shocks = generate_non_conservative_shocks(deposits, initial_deposits, deposits, law, vol)\n",
    "    deposits = deposits + shocks\n",
    "    deposits_time_serie.loc[step] = deposits\n",
    "    \n"
   ]
  },
  {
   "cell_type": "code",
   "execution_count": 12,
   "metadata": {},
   "outputs": [
    {
     "data": {
      "text/plain": [
       "<AxesSubplot:>"
      ]
     },
     "execution_count": 12,
     "metadata": {},
     "output_type": "execute_result"
    },
    {
     "data": {
      "image/png": "[encoded data removed]",
      "text/plain": [
       "<Figure size 432x288 with 1 Axes>"
      ]
     },
     "metadata": {
      "needs_background": "light"
     },
     "output_type": "display_data"
    }
   ],
   "source": [
    "deposits_time_serie.plot(legend=False)"
   ]
  },
  {
   "attachments": {},
   "cell_type": "markdown",
   "metadata": {},
   "source": [
    "# gethostname"
   ]
  },
  {
   "cell_type": "code",
   "execution_count": null,
   "metadata": {},
   "outputs": [
    {
     "data": {
      "text/plain": [
       "'srv006542.fr.cfm.fr'"
      ]
     },
     "metadata": {},
     "output_type": "display_data"
    }
   ],
   "source": [
    "from socket import gethostname\n",
    "gethostname()"
   ]
  },
  {
   "attachments": {},
   "cell_type": "markdown",
   "metadata": {},
   "source": [
    "# data frame test"
   ]
  },
  {
   "cell_type": "code",
   "execution_count": null,
   "metadata": {},
   "outputs": [
    {
     "data": {
      "text/html": [
       "<div>\n",
       "<style scoped>\n",
       "    .dataframe tbody tr th:only-of-type {\n",
       "        vertical-align: middle;\n",
       "    }\n",
       "\n",
       "    .dataframe tbody tr th {\n",
       "        vertical-align: top;\n",
       "    }\n",
       "\n",
       "    .dataframe thead th {\n",
       "        text-align: right;\n",
       "    }\n",
       "</style>\n",
       "<table border=\"1\" class=\"dataframe\">\n",
       "  <thead>\n",
       "    <tr style=\"text-align: right;\">\n",
       "      <th></th>\n",
       "      <th></th>\n",
       "      <th></th>\n",
       "      <th>alpha</th>\n",
       "      <th>beta</th>\n",
       "    </tr>\n",
       "    <tr>\n",
       "      <th>one</th>\n",
       "      <th>two</th>\n",
       "      <th>three</th>\n",
       "      <th></th>\n",
       "      <th></th>\n",
       "    </tr>\n",
       "  </thead>\n",
       "  <tbody>\n",
       "    <tr>\n",
       "      <th rowspan=\"2\" valign=\"top\">bank a</th>\n",
       "      <th>transaction 1</th>\n",
       "      <th>time 56</th>\n",
       "      <td>0.2</td>\n",
       "      <td>True</td>\n",
       "    </tr>\n",
       "    <tr>\n",
       "      <th>transaction 2</th>\n",
       "      <th>time 57</th>\n",
       "      <td>0.3</td>\n",
       "      <td>True</td>\n",
       "    </tr>\n",
       "    <tr>\n",
       "      <th>bank b</th>\n",
       "      <th>transaction 2</th>\n",
       "      <th>time 57</th>\n",
       "      <td>0.3</td>\n",
       "      <td>False</td>\n",
       "    </tr>\n",
       "  </tbody>\n",
       "</table>\n",
       "</div>"
      ],
      "text/plain": [
       "                              alpha   beta\n",
       "one    two           three                \n",
       "bank a transaction 1 time 56    0.2   True\n",
       "       transaction 2 time 57    0.3   True\n",
       "bank b transaction 2 time 57    0.3  False"
      ]
     },
     "metadata": {},
     "output_type": "display_data"
    }
   ],
   "source": [
    "import pandas as pd\n",
    "ind = pd.MultiIndex.from_tuples([], names=(u'one', u'two', u'three'))\n",
    "df = pd.DataFrame(columns=['alpha', 'beta'], index=ind)\n",
    "df.loc[\"bank a\",\"transaction 1\",\"time 56\"] = [0.2,True]\n",
    "df.loc[\"bank a\",\"transaction 2\",\"time 57\"] = [0.3,True]\n",
    "df.loc[\"bank b\",\"transaction 2\",\"time 57\"] = [0.3,False]\n",
    "df"
   ]
  },
  {
   "cell_type": "markdown",
   "metadata": {},
   "source": [
    "# dictionaries of arrays or dataframes"
   ]
  },
  {
   "cell_type": "code",
   "execution_count": null,
   "metadata": {},
   "outputs": [],
   "source": [
    "import parameters as par\n",
    "import numpy as np\n",
    "dic_matrices = dict.fromkeys(par.matrices)\n",
    "for key in dic_matrices.keys():\n",
    "    dic_matrices[key] = np.zeros((3, 3)).copy()"
   ]
  },
  {
   "cell_type": "markdown",
   "metadata": {},
   "source": [
    "# bug analysis"
   ]
  },
  {
   "cell_type": "code",
   "execution_count": null,
   "metadata": {},
   "outputs": [],
   "source": [
    "import pickle\n",
    "\n",
    "bank_id_on_balance_repos = pickle.load(open(\"./support/bank_id_on_balance_repos.pickle\",\"rb\"))"
   ]
  },
  {
   "cell_type": "markdown",
   "metadata": {},
   "source": [
    "# df_reverse analysis"
   ]
  },
  {
   "cell_type": "code",
   "execution_count": null,
   "metadata": {},
   "outputs": [],
   "source": [
    "import pandas as pd\n",
    "\n",
    "df_reverse_repos = pd.read_csv(\"./results/single_run_saved/df_reverse_repos.csv\",index_col=0)"
   ]
  },
  {
   "cell_type": "code",
   "execution_count": null,
   "metadata": {},
   "outputs": [
    {
     "data": {
      "text/html": [
       "<div>\n",
       "<style scoped>\n",
       "    .dataframe tbody tr th:only-of-type {\n",
       "        vertical-align: middle;\n",
       "    }\n",
       "\n",
       "    .dataframe tbody tr th {\n",
       "        vertical-align: top;\n",
       "    }\n",
       "\n",
       "    .dataframe thead th {\n",
       "        text-align: right;\n",
       "    }\n",
       "</style>\n",
       "<table border=\"1\" class=\"dataframe\">\n",
       "  <thead>\n",
       "    <tr style=\"text-align: right;\">\n",
       "      <th></th>\n",
       "      <th>bank_id</th>\n",
       "      <th>trans_id</th>\n",
       "      <th>amount</th>\n",
       "      <th>start_step</th>\n",
       "      <th>tenor</th>\n",
       "      <th>status</th>\n",
       "    </tr>\n",
       "    <tr>\n",
       "      <th>owner_bank_id</th>\n",
       "      <th></th>\n",
       "      <th></th>\n",
       "      <th></th>\n",
       "      <th></th>\n",
       "      <th></th>\n",
       "      <th></th>\n",
       "    </tr>\n",
       "  </thead>\n",
       "  <tbody>\n",
       "    <tr>\n",
       "      <th>0</th>\n",
       "      <td>414</td>\n",
       "      <td>0</td>\n",
       "      <td>2.251317e-01</td>\n",
       "      <td>71</td>\n",
       "      <td>2.0</td>\n",
       "      <td>False</td>\n",
       "    </tr>\n",
       "    <tr>\n",
       "      <th>0</th>\n",
       "      <td>193</td>\n",
       "      <td>0</td>\n",
       "      <td>2.177591e+00</td>\n",
       "      <td>72</td>\n",
       "      <td>24.0</td>\n",
       "      <td>False</td>\n",
       "    </tr>\n",
       "    <tr>\n",
       "      <th>0</th>\n",
       "      <td>414</td>\n",
       "      <td>1</td>\n",
       "      <td>0.000000e+00</td>\n",
       "      <td>71</td>\n",
       "      <td>2.0</td>\n",
       "      <td>False</td>\n",
       "    </tr>\n",
       "    <tr>\n",
       "      <th>0</th>\n",
       "      <td>278</td>\n",
       "      <td>0</td>\n",
       "      <td>2.047012e+00</td>\n",
       "      <td>73</td>\n",
       "      <td>3.0</td>\n",
       "      <td>False</td>\n",
       "    </tr>\n",
       "    <tr>\n",
       "      <th>0</th>\n",
       "      <td>474</td>\n",
       "      <td>0</td>\n",
       "      <td>1.914228e+00</td>\n",
       "      <td>73</td>\n",
       "      <td>5.0</td>\n",
       "      <td>False</td>\n",
       "    </tr>\n",
       "    <tr>\n",
       "      <th>...</th>\n",
       "      <td>...</td>\n",
       "      <td>...</td>\n",
       "      <td>...</td>\n",
       "      <td>...</td>\n",
       "      <td>...</td>\n",
       "      <td>...</td>\n",
       "    </tr>\n",
       "    <tr>\n",
       "      <th>499</th>\n",
       "      <td>431</td>\n",
       "      <td>164</td>\n",
       "      <td>3.558560e-01</td>\n",
       "      <td>2491</td>\n",
       "      <td>3.0</td>\n",
       "      <td>False</td>\n",
       "    </tr>\n",
       "    <tr>\n",
       "      <th>499</th>\n",
       "      <td>431</td>\n",
       "      <td>165</td>\n",
       "      <td>1.110223e-16</td>\n",
       "      <td>2494</td>\n",
       "      <td>NaN</td>\n",
       "      <td>True</td>\n",
       "    </tr>\n",
       "    <tr>\n",
       "      <th>499</th>\n",
       "      <td>431</td>\n",
       "      <td>166</td>\n",
       "      <td>1.131620e+00</td>\n",
       "      <td>2491</td>\n",
       "      <td>4.0</td>\n",
       "      <td>False</td>\n",
       "    </tr>\n",
       "    <tr>\n",
       "      <th>499</th>\n",
       "      <td>431</td>\n",
       "      <td>167</td>\n",
       "      <td>9.388488e-01</td>\n",
       "      <td>2496</td>\n",
       "      <td>NaN</td>\n",
       "      <td>True</td>\n",
       "    </tr>\n",
       "    <tr>\n",
       "      <th>499</th>\n",
       "      <td>431</td>\n",
       "      <td>168</td>\n",
       "      <td>1.444025e+00</td>\n",
       "      <td>2493</td>\n",
       "      <td>6.0</td>\n",
       "      <td>False</td>\n",
       "    </tr>\n",
       "  </tbody>\n",
       "</table>\n",
       "<p>1152011 rows × 6 columns</p>\n",
       "</div>"
      ],
      "text/plain": [
       "               bank_id  trans_id        amount  start_step  tenor  status\n",
       "owner_bank_id                                                            \n",
       "0                  414         0  2.251317e-01          71    2.0   False\n",
       "0                  193         0  2.177591e+00          72   24.0   False\n",
       "0                  414         1  0.000000e+00          71    2.0   False\n",
       "0                  278         0  2.047012e+00          73    3.0   False\n",
       "0                  474         0  1.914228e+00          73    5.0   False\n",
       "...                ...       ...           ...         ...    ...     ...\n",
       "499                431       164  3.558560e-01        2491    3.0   False\n",
       "499                431       165  1.110223e-16        2494    NaN    True\n",
       "499                431       166  1.131620e+00        2491    4.0   False\n",
       "499                431       167  9.388488e-01        2496    NaN    True\n",
       "499                431       168  1.444025e+00        2493    6.0   False\n",
       "\n",
       "[1152011 rows x 6 columns]"
      ]
     },
     "metadata": {},
     "output_type": "display_data"
    }
   ],
   "source": [
    "df_reverse_repos"
   ]
  }
 ],
 "metadata": {
  "kernelspec": {
   "display_name": "Python 3.9.5 ('venv': venv)",
   "language": "python",
   "name": "python3"
  },
  "language_info": {
   "codemirror_mode": {
    "name": "ipython",
    "version": 3
   },
   "file_extension": ".py",
   "mimetype": "text/x-python",
   "name": "python",
   "nbconvert_exporter": "python",
   "pygments_lexer": "ipython3",
   "version": "3.8.13"
  },
  "orig_nbformat": 4,
  "vscode": {
   "interpreter": {
    "hash": "079b1fb917025cd1efcb3b76bbd42ea8503c3ca839bb74a5335b7616d8aa92a0"
   }
  }
 },
 "nbformat": 4,
 "nbformat_minor": 2
}
