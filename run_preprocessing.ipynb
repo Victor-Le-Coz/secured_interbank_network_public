{
 "cells": [
  {
   "cell_type": "code",
   "execution_count": 1,
   "id": "8c221870",
   "metadata": {},
   "outputs": [
    {
     "name": "stderr",
     "output_type": "stream",
     "text": [
      "100%|██████████| 1000/1000 [00:06<00:00, 163.18it/s]\n"
     ]
    }
   ],
   "source": [
    "# imports \n",
    "import data_preprocessing as dp\n",
    "import fake_data as fd\n",
    "\n",
    "# param definition\n",
    "nb_tran=100\n",
    "\n",
    "\n"
   ]
  },
  {
   "cell_type": "code",
   "execution_count": 5,
   "id": "22175976",
   "metadata": {},
   "outputs": [],
   "source": [
    "# load fake data\n",
    "df_mmsr = fd.get_df_mmsr(nb_tran=1000000)"
   ]
  },
  {
   "cell_type": "code",
   "execution_count": 7,
   "id": "1a1e4070",
   "metadata": {},
   "outputs": [
    {
     "name": "stderr",
     "output_type": "stream",
     "text": [
      "  0%|          | 3181/1000000 [01:41<12:44:07, 21.74it/s]"
     ]
    }
   ],
   "source": [
    "dic_obs_adj = dp.build_from_data(df_mmsr=df_mmsr)"
   ]
  },
  {
   "cell_type": "code",
   "execution_count": 4,
   "id": "5bde1574",
   "metadata": {},
   "outputs": [],
   "source": [
    "import pickle\n",
    "dic_obs_adj2 = pickle.load(open(\"./support/dic_obs_adj.pickle\", \"rb\"))"
   ]
  }
 ],
 "metadata": {
  "kernelspec": {
   "display_name": "Python 3.9.5 ('doudienv')",
   "language": "python",
   "name": "python3"
  },
  "language_info": {
   "codemirror_mode": {
    "name": "ipython",
    "version": 3
   },
   "file_extension": ".py",
   "mimetype": "text/x-python",
   "name": "python",
   "nbconvert_exporter": "python",
   "pygments_lexer": "ipython3",
   "version": "3.9.5"
  },
  "vscode": {
   "interpreter": {
    "hash": "59101c57e076f2aa64ba7fd4f09fc30d9fdcf318df562b3130a87198e170a43e"
   }
  }
 },
 "nbformat": 4,
 "nbformat_minor": 5
}
