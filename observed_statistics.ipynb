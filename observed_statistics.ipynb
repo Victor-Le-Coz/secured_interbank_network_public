{
 "cells": [
  {
   "cell_type": "code",
   "execution_count": 3,
   "id": "8c221870",
   "metadata": {},
   "outputs": [],
   "source": [
    "import numpy as np\n",
    "import numpy.ma as ma\n",
    "from matplotlib import pyplot as plt\n",
    "import datetime\n",
    "import pandas as pd\n",
    "from statistics import ClassHistory"
   ]
  },
  {
   "cell_type": "markdown",
   "id": "7c2e8de8",
   "metadata": {},
   "source": [
    "# 1 Build the history of the ECB deposit rate"
   ]
  },
  {
   "cell_type": "markdown",
   "id": "2cf276ab",
   "metadata": {},
   "source": [
    "The ECB deposit facility rate is used to compute the spread between the money market rate transaction and the ECB deposit rate.\n",
    "We get the source data information directly from the ECB website, with the following link:\n",
    "https://www.ecb.europa.eu/stats/policy_and_exchange_rates/key_ecb_interest_rates/html/index.en.html"
   ]
  },
  {
   "cell_type": "code",
   "execution_count": 4,
   "id": "67c39f06",
   "metadata": {},
   "outputs": [
    {
     "name": "stderr",
     "output_type": "stream",
     "text": [
      "C:\\Users\\VictorLeCoz\\AppData\\Local\\Temp\\ipykernel_20664\\2545617304.py:17: SettingWithCopyWarning: \n",
      "A value is trying to be set on a copy of a slice from a DataFrame\n",
      "\n",
      "See the caveats in the documentation: https://pandas.pydata.org/pandas-docs/stable/user_guide/indexing.html#returning-a-view-versus-a-copy\n",
      "  deposit_rate_data.new_deposit_rate.loc[index] = deposit_rate_data.new_deposit_rate.loc[index-1]\n"
     ]
    },
    {
     "data": {
      "text/plain": [
       "<function matplotlib.pyplot.show(close=None, block=None)>"
      ]
     },
     "execution_count": 4,
     "metadata": {},
     "output_type": "execute_result"
    },
    {
     "data": {
      "image/png": "[encoded data removed]",
      "text/plain": [
       "<Figure size 432x288 with 1 Axes>"
      ]
     },
     "metadata": {
      "needs_background": "light"
     },
     "output_type": "display_data"
    }
   ],
   "source": [
    "# write down the information about the dates of change of the ECB deposit facility rate and its new values\n",
    "deposit_rate_list = pd.DataFrame({  \n",
    "    \"trade_date\": pd.to_datetime([\"2019-09-18\", \"2016-03-16\", \"2015-12-9\", \"2014-09-10\", \"2014-06-11\", \"2013-11-13\", \n",
    "                                  \"2013-05-8\", \"2012-07-11\", \"2011-12-14\", \"2011-11-09\", \"2011-07-13\", \"2011-04-13\", \n",
    "                                  \"2009-05-13\"]),\n",
    "    \"new_deposit_rate\": [-0.50, -0.40, -0.30, -0.20, -0.10, 0.00, 0.00, 0.00, 0.25, 0.50, 0.75, 0.50, 0.25]})\n",
    "\n",
    "# Create a calendar of each of the dates between the first and last date of change of the ECB deposit facility rate\n",
    "calendar = pd.DataFrame({\"trade_date\": pd.date_range(deposit_rate_list.trade_date.min(),datetime.datetime.now())})\n",
    "\n",
    "# merge the 2 previously build data frame \n",
    "deposit_rate_data = pd.merge(calendar, deposit_rate_list, on ='trade_date', how ='left')\n",
    "\n",
    "# fill-in the missing information on the dates where the deposit rate remained the same\n",
    "for index in deposit_rate_data.index:\n",
    "    if np.isnan(deposit_rate_data.new_deposit_rate.loc[index]):\n",
    "        deposit_rate_data.new_deposit_rate.loc[index] = deposit_rate_data.new_deposit_rate.loc[index-1]\n",
    "\n",
    "# plot the historical deposit facility rate\n",
    "plt.plot(deposit_rate_data.trade_date,deposit_rate_data.new_deposit_rate)\n",
    "plt.show"
   ]
  },
  {
   "cell_type": "markdown",
   "id": "29d38508",
   "metadata": {},
   "source": [
    "# 2 Build the history of the maintenance periods dates"
   ]
  },
  {
   "cell_type": "code",
   "execution_count": 5,
   "id": "b6a8c15e",
   "metadata": {},
   "outputs": [],
   "source": [
    "# Set the path of the maintenance period source file\n",
    "path = r'C:/Users/VictorLeCoz/OneDrive - Quant Decisions S.L/Documents/PhD/data/MMSR/ECB_maintenance_periods-V0.2.xlsx'"
   ]
  },
  {
   "cell_type": "code",
   "execution_count": 6,
   "id": "c6710a2e",
   "metadata": {
    "scrolled": true
   },
   "outputs": [
    {
     "data": {
      "text/html": [
       "<div>\n",
       "<style scoped>\n",
       "    .dataframe tbody tr th:only-of-type {\n",
       "        vertical-align: middle;\n",
       "    }\n",
       "\n",
       "    .dataframe tbody tr th {\n",
       "        vertical-align: top;\n",
       "    }\n",
       "\n",
       "    .dataframe thead th {\n",
       "        text-align: right;\n",
       "    }\n",
       "</style>\n",
       "<table border=\"1\" class=\"dataframe\">\n",
       "  <thead>\n",
       "    <tr style=\"text-align: right;\">\n",
       "      <th></th>\n",
       "      <th>trade_date</th>\n",
       "      <th>end_maintenance_period</th>\n",
       "    </tr>\n",
       "  </thead>\n",
       "  <tbody>\n",
       "    <tr>\n",
       "      <th>0</th>\n",
       "      <td>2020-03-17</td>\n",
       "      <td>True</td>\n",
       "    </tr>\n",
       "    <tr>\n",
       "      <th>1</th>\n",
       "      <td>2020-05-05</td>\n",
       "      <td>True</td>\n",
       "    </tr>\n",
       "    <tr>\n",
       "      <th>2</th>\n",
       "      <td>2020-06-09</td>\n",
       "      <td>True</td>\n",
       "    </tr>\n",
       "    <tr>\n",
       "      <th>3</th>\n",
       "      <td>2020-07-21</td>\n",
       "      <td>True</td>\n",
       "    </tr>\n",
       "    <tr>\n",
       "      <th>4</th>\n",
       "      <td>2020-09-15</td>\n",
       "      <td>True</td>\n",
       "    </tr>\n",
       "    <tr>\n",
       "      <th>...</th>\n",
       "      <td>...</td>\n",
       "      <td>...</td>\n",
       "    </tr>\n",
       "    <tr>\n",
       "      <th>122</th>\n",
       "      <td>2021-06-15</td>\n",
       "      <td>True</td>\n",
       "    </tr>\n",
       "    <tr>\n",
       "      <th>123</th>\n",
       "      <td>2021-07-27</td>\n",
       "      <td>True</td>\n",
       "    </tr>\n",
       "    <tr>\n",
       "      <th>124</th>\n",
       "      <td>2021-09-14</td>\n",
       "      <td>True</td>\n",
       "    </tr>\n",
       "    <tr>\n",
       "      <th>125</th>\n",
       "      <td>2021-11-02</td>\n",
       "      <td>True</td>\n",
       "    </tr>\n",
       "    <tr>\n",
       "      <th>126</th>\n",
       "      <td>2021-12-21</td>\n",
       "      <td>True</td>\n",
       "    </tr>\n",
       "  </tbody>\n",
       "</table>\n",
       "<p>127 rows × 2 columns</p>\n",
       "</div>"
      ],
      "text/plain": [
       "    trade_date  end_maintenance_period\n",
       "0   2020-03-17                    True\n",
       "1   2020-05-05                    True\n",
       "2   2020-06-09                    True\n",
       "3   2020-07-21                    True\n",
       "4   2020-09-15                    True\n",
       "..         ...                     ...\n",
       "122 2021-06-15                    True\n",
       "123 2021-07-27                    True\n",
       "124 2021-09-14                    True\n",
       "125 2021-11-02                    True\n",
       "126 2021-12-21                    True\n",
       "\n",
       "[127 rows x 2 columns]"
      ]
     },
     "execution_count": 6,
     "metadata": {},
     "output_type": "execute_result"
    }
   ],
   "source": [
    "# load the data \n",
    "maintenance_periods_list = pd.read_excel(path, sheet_name='export')\n",
    "maintenance_periods_list"
   ]
  },
  {
   "cell_type": "markdown",
   "id": "e085f457",
   "metadata": {},
   "source": [
    "# 3 Build a fake data frame for the mmsr"
   ]
  },
  {
   "cell_type": "code",
   "execution_count": 7,
   "id": "698dbd3f",
   "metadata": {},
   "outputs": [],
   "source": [
    "mmsr_data = pd.DataFrame({\"unique_trns_id\": [1, 2, 3, 4, 5, 6, 7, 8, 9, 10, 11, 12, 13, 14, 15, 16, 17, 18, 19,20, 21, 22,23,24,25],\n",
    "                   \"trade_date\": pd.to_datetime([\"2020-01-20\",\"2020-01-29\",\"2020-01-22\",\n",
    "                                                 \"2020-01-22\",\"2020-01-25\",\"2020-01-26\",\n",
    "                                                 \"2020-01-27\",\"2020-01-28\",\"2020-01-29\",\n",
    "                                                 \"2020-01-21\", \"2020-01-27\", \"2020-01-27\",\n",
    "                                                 \"2020-01-27\", \"2020-01-27\", \"2020-01-27\",\n",
    "                                                 \"2020-01-27\", \"2020-01-27\", \"2020-01-27\",\n",
    "                                                 \"2020-01-27\", \"2020-01-26\", \"2020-01-25\", \n",
    "                                                 \"2020-01-24\", \"2020-01-22\",\"2020-01-27\", \"2020-01-27\"]),\n",
    "                   \"maturity_band\": [\"O/N\", \"O/N\",\"O/N\",\"O/N\",\"O/N\",\"O/N\",\"O/N\",\"O/N\",\"O/N\",\"O/N\", \"O/N\",\"O/N\", \"O/N\"\n",
    "                                    ,\"O/N\",\"O/N\",\"O/N\", \"O/N\",\"O/N\", \"O/N\", \"O/N\",\"O/N\", \"O/N\", \"O/N\", \"O/N\", \"O/N\"], \n",
    "                   \"trns_nominal_amt\": [156, 558, 56, 89, 148, 28, 4.5, 967, 456, 478, 498, 333, 9.2, 780, 1475, 38, 10, 8, \n",
    "                                        10, 11, 12, 11, 10, 11, 10], \n",
    "                   \"cntp_lei\": [\"01A\", \"02A\", \"03A\", \"04A\", \"05A\", \"06A\", \"07A\", \"08A\", \"08A\", \"08A\", \"08A\", \"08A\", \"08A\", \n",
    "                                \"01A\", \"02A\", \"03A\", \"04A\", \"05A\", \"06A\", \"06A\", \"06A\", \"06A\", \"06A\", \"03A\", \"04A\"],\n",
    "                   \"report_agent_lei\": [\"02A\", \"01A\", \"06A\", \"01A\", \"08A\", \"01A\", \"01A\", \"05A\", \"09A\", \"10A\", \"10A\", \"10A\",\n",
    "                                        \"10A\", \"05A\", \"09A\", \"10A\", \"10A\", \"10A\", \"07A\", \"07A\", \"07A\", \"07A\", \"07A\", \"04A\", \"05A\"],\n",
    "                   \"deal_rate\": [0.005, 0.001, 0.002, 0.006, 0.003, 0.001, 0.007, 0.005, 0.004, 0.005, 0.005, 0.005, 0.005, \n",
    "                                0.005, 0.004, 0.005, 0.005, 0.005, 0.005, 0.015, 0.001, 0.0025, 0.0025, 0.0025, 0.0025], \n",
    "                   \"rate_type\": [\"Fixed rate\", \"Fixed rate\", \"Fixed rate\", \"Fixed rate\", \"Fixed rate\",\n",
    "                                 \"Fixed rate\", \"Fixed rate\", \"Fixed rate\", \"Fixed rate\", \"Fixed rate\", \"Fixed rate\", \n",
    "                                 \"Fixed rate\", \"Fixed rate\", \"Fixed rate\", \"Fixed rate\", \"Fixed rate\", \"Fixed rate\", \n",
    "                                 \"Fixed rate\", \"Fixed rate\", \"Fixed rate\", \"Fixed rate\", \"Fixed rate\", \"Fixed rate\", \"Fixed rate\", \"Fixed rate\"], \n",
    "                   \"trns_type\": [\"SELL\", \"LEND\", \"LEND\", \"LEND\", \"LEND\"\n",
    "                                , \"SELL\", \"SELL\", \"SELL\", \"BUYI\", \"BORR\", \"BORR\", \"LEND\", \"LEND\",\n",
    "                                \"LEND\", \"LEND\", \"LEND\", \"SELL\", \"SELL\", \"SELL\", \"SELL\", \"SELL\", \"SELL\", \"SELL\", \"SELL\", \"SELL\"], \n",
    "                   \"instr_type\": [\"DPST\", \"DPST\", \"DPST\", \"DPST\", \"DPST\", \"DPST\", \"DPST\", \"DPST\",\n",
    "                                  \"DPST\", \"DPST\", \"DPST\", \"DPST\", \"DPST\", \n",
    "                                  \"DPST\", \"DPST\", \"DPST\", \"DPST\", \"DPST\", \"DPST\", \"DPST\", \"DPST\", \"DPST\", \"DPST\", \"DPST\", \"DPST\"], \n",
    "                  })"
   ]
  },
  {
   "cell_type": "markdown",
   "id": "b28ca9f7",
   "metadata": {},
   "source": [
    "# 3 Build from data"
   ]
  },
  {
   "cell_type": "code",
   "execution_count": 8,
   "id": "149dde9e",
   "metadata": {},
   "outputs": [
    {
     "name": "stdout",
     "output_type": "stream",
     "text": [
      "0 incorect lines in the data base\n"
     ]
    }
   ],
   "source": [
    "history = ClassHistory()\n",
    "history.build_from_data(mmsr_data, deposit_rate_data,maintenance_periods_list)\n"
   ]
  },
  {
   "cell_type": "code",
   "execution_count": 10,
   "id": "21def5e8",
   "metadata": {},
   "outputs": [
    {
     "data": {
      "text/plain": [
       "{0: <statistics.ClassNetwork at 0x1c121f9d400>,\n",
       " 1: <statistics.ClassNetwork at 0x1c121f9d310>,\n",
       " 2: <statistics.ClassNetwork at 0x1c121f9d8b0>,\n",
       " 3: <statistics.ClassNetwork at 0x1c121f9d1c0>,\n",
       " 4: <statistics.ClassNetwork at 0x1c121f9d100>,\n",
       " 5: <statistics.ClassNetwork at 0x1c121f9d070>,\n",
       " 6: <statistics.ClassNetwork at 0x1c121f9db80>,\n",
       " 7: <statistics.ClassNetwork at 0x1c121f9dac0>}"
      ]
     },
     "execution_count": 10,
     "metadata": {},
     "output_type": "execute_result"
    }
   ],
   "source": [
    "history.observed_path"
   ]
  }
 ],
 "metadata": {
  "kernelspec": {
   "display_name": "Python 3.9.5 ('doudienv')",
   "language": "python",
   "name": "python3"
  },
  "language_info": {
   "codemirror_mode": {
    "name": "ipython",
    "version": 3
   },
   "file_extension": ".py",
   "mimetype": "text/x-python",
   "name": "python",
   "nbconvert_exporter": "python",
   "pygments_lexer": "ipython3",
   "version": "3.9.5"
  },
  "vscode": {
   "interpreter": {
    "hash": "59101c57e076f2aa64ba7fd4f09fc30d9fdcf318df562b3130a87198e170a43e"
   }
  }
 },
 "nbformat": 4,
 "nbformat_minor": 5
}
