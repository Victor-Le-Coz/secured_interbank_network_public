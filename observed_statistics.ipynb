{
 "cells": [
  {
   "cell_type": "code",
   "execution_count": 1,
   "id": "8c221870",
   "metadata": {},
   "outputs": [
    {
     "name": "stdout",
     "output_type": "stream",
     "text": [
      "0 incorect lines in the data base\n"
     ]
    }
   ],
   "source": [
    "from statistics import ClassHistory\n",
    "import fake_data as fd\n",
    "\n",
    "mmsr_data = fd.mmsr_data\n",
    "maintenance_periods_list = fd.maintenance_periods_list\n",
    "deposit_rate_data = fd.deposit_rate_data\n",
    "\n",
    "\n",
    "history = ClassHistory()\n",
    "history.build_from_data(mmsr_data, deposit_rate_data, maintenance_periods_list)\n"
   ]
  },
  {
   "cell_type": "code",
   "execution_count": 2,
   "id": "e86e4b71",
   "metadata": {},
   "outputs": [],
   "source": [
    "mmsr_data = fd.mmsr_data"
   ]
  },
  {
   "cell_type": "code",
   "execution_count": 4,
   "id": "e67cff37",
   "metadata": {},
   "outputs": [],
   "source": [
    "history = ClassHistory()"
   ]
  },
  {
   "cell_type": "code",
   "execution_count": 6,
   "id": "8407beb4",
   "metadata": {},
   "outputs": [],
   "source": [
    "history.observed_path"
   ]
  },
  {
   "cell_type": "code",
   "execution_count": 7,
   "id": "c7d6c5e2",
   "metadata": {},
   "outputs": [
    {
     "name": "stdout",
     "output_type": "stream",
     "text": [
      "0 incorect lines in the data base\n"
     ]
    }
   ],
   "source": [
    "history.build_from_data(mmsr_data, deposit_rate_data, maintenance_periods_list)"
   ]
  },
  {
   "cell_type": "code",
   "execution_count": 13,
   "id": "72c89dcf",
   "metadata": {},
   "outputs": [
    {
     "data": {
      "text/plain": [
       "masked_array(\n",
       "  data=[[--, --, --, 178.0, --, 56.0, 4.5, --, --, --],\n",
       "        [312.0, --, --, --, --, --, --, --, --, --],\n",
       "        [--, --, --, --, --, --, --, --, --, --],\n",
       "        [--, --, 11.0, --, --, --, --, --, --, --],\n",
       "        [780.0, --, --, 10.0, --, --, --, --, --, --],\n",
       "        [--, --, 112.0, --, --, --, --, --, --, --],\n",
       "        [--, --, --, --, --, 20.0, --, --, --, --],\n",
       "        [--, --, --, --, 296.0, --, --, --, --, 1454.0],\n",
       "        [--, 1475.0, --, --, --, --, --, --, --, --],\n",
       "        [--, --, 38.0, 10.0, 8.0, --, --, 342.2, --, --]],\n",
       "  mask=[[ True,  True,  True, False,  True, False, False,  True,  True,\n",
       "          True],\n",
       "        [False,  True,  True,  True,  True,  True,  True,  True,  True,\n",
       "          True],\n",
       "        [ True,  True,  True,  True,  True,  True,  True,  True,  True,\n",
       "          True],\n",
       "        [ True,  True, False,  True,  True,  True,  True,  True,  True,\n",
       "          True],\n",
       "        [False,  True,  True, False,  True,  True,  True,  True,  True,\n",
       "          True],\n",
       "        [ True,  True, False,  True,  True,  True,  True,  True,  True,\n",
       "          True],\n",
       "        [ True,  True,  True,  True,  True, False,  True,  True,  True,\n",
       "          True],\n",
       "        [ True,  True,  True,  True, False,  True,  True,  True,  True,\n",
       "         False],\n",
       "        [ True, False,  True,  True,  True,  True,  True,  True,  True,\n",
       "          True],\n",
       "        [ True,  True, False, False, False,  True,  True, False,  True,\n",
       "          True]],\n",
       "  fill_value=0.0)"
      ]
     },
     "execution_count": 13,
     "metadata": {},
     "output_type": "execute_result"
    }
   ],
   "source": [
    "history.observed_path[5].y"
   ]
  },
  {
   "cell_type": "code",
   "execution_count": 24,
   "id": "3a815b44",
   "metadata": {},
   "outputs": [],
   "source": [
    "import pandas as pd\n",
    "import numpy as np\n",
    "df = pd.DataFrame(index=pd.period_range(start=\"2020-01-01\",end=\"2020-01-10\",freq=\"1h\").to_timestamp(),columns=[\"dingo\"],data=np.random.rand(len(pd.period_range(start=\"2020-01-01\",end=\"2020-01-10\",freq=\"1h\").to_timestamp())))"
   ]
  },
  {
   "cell_type": "code",
   "execution_count": 26,
   "id": "156af891",
   "metadata": {},
   "outputs": [
    {
     "data": {
      "text/html": [
       "<div>\n",
       "<style scoped>\n",
       "    .dataframe tbody tr th:only-of-type {\n",
       "        vertical-align: middle;\n",
       "    }\n",
       "\n",
       "    .dataframe tbody tr th {\n",
       "        vertical-align: top;\n",
       "    }\n",
       "\n",
       "    .dataframe thead th {\n",
       "        text-align: right;\n",
       "    }\n",
       "</style>\n",
       "<table border=\"1\" class=\"dataframe\">\n",
       "  <thead>\n",
       "    <tr style=\"text-align: right;\">\n",
       "      <th></th>\n",
       "      <th>dingo</th>\n",
       "    </tr>\n",
       "  </thead>\n",
       "  <tbody>\n",
       "    <tr>\n",
       "      <th>2020-01-01</th>\n",
       "      <td>12.062999</td>\n",
       "    </tr>\n",
       "    <tr>\n",
       "      <th>2020-01-02</th>\n",
       "      <td>11.503420</td>\n",
       "    </tr>\n",
       "    <tr>\n",
       "      <th>2020-01-03</th>\n",
       "      <td>14.074505</td>\n",
       "    </tr>\n",
       "    <tr>\n",
       "      <th>2020-01-04</th>\n",
       "      <td>12.432217</td>\n",
       "    </tr>\n",
       "    <tr>\n",
       "      <th>2020-01-05</th>\n",
       "      <td>9.920412</td>\n",
       "    </tr>\n",
       "    <tr>\n",
       "      <th>2020-01-06</th>\n",
       "      <td>11.410634</td>\n",
       "    </tr>\n",
       "    <tr>\n",
       "      <th>2020-01-07</th>\n",
       "      <td>14.401705</td>\n",
       "    </tr>\n",
       "    <tr>\n",
       "      <th>2020-01-08</th>\n",
       "      <td>10.883450</td>\n",
       "    </tr>\n",
       "    <tr>\n",
       "      <th>2020-01-09</th>\n",
       "      <td>11.877328</td>\n",
       "    </tr>\n",
       "    <tr>\n",
       "      <th>2020-01-10</th>\n",
       "      <td>0.620062</td>\n",
       "    </tr>\n",
       "  </tbody>\n",
       "</table>\n",
       "</div>"
      ],
      "text/plain": [
       "                dingo\n",
       "2020-01-01  12.062999\n",
       "2020-01-02  11.503420\n",
       "2020-01-03  14.074505\n",
       "2020-01-04  12.432217\n",
       "2020-01-05   9.920412\n",
       "2020-01-06  11.410634\n",
       "2020-01-07  14.401705\n",
       "2020-01-08  10.883450\n",
       "2020-01-09  11.877328\n",
       "2020-01-10   0.620062"
      ]
     },
     "execution_count": 26,
     "metadata": {},
     "output_type": "execute_result"
    }
   ],
   "source": [
    "df.resample(\"1d\",closed=\"left\").sum()"
   ]
  },
  {
   "cell_type": "code",
   "execution_count": 27,
   "id": "7693c65e",
   "metadata": {},
   "outputs": [
    {
     "data": {
      "text/html": [
       "<div>\n",
       "<style scoped>\n",
       "    .dataframe tbody tr th:only-of-type {\n",
       "        vertical-align: middle;\n",
       "    }\n",
       "\n",
       "    .dataframe tbody tr th {\n",
       "        vertical-align: top;\n",
       "    }\n",
       "\n",
       "    .dataframe thead th {\n",
       "        text-align: right;\n",
       "    }\n",
       "</style>\n",
       "<table border=\"1\" class=\"dataframe\">\n",
       "  <thead>\n",
       "    <tr style=\"text-align: right;\">\n",
       "      <th></th>\n",
       "    </tr>\n",
       "    <tr>\n",
       "      <th>dingo</th>\n",
       "    </tr>\n",
       "  </thead>\n",
       "  <tbody>\n",
       "    <tr>\n",
       "      <th>0.690627</th>\n",
       "    </tr>\n",
       "    <tr>\n",
       "      <th>0.907261</th>\n",
       "    </tr>\n",
       "    <tr>\n",
       "      <th>0.988176</th>\n",
       "    </tr>\n",
       "    <tr>\n",
       "      <th>0.298864</th>\n",
       "    </tr>\n",
       "    <tr>\n",
       "      <th>0.116028</th>\n",
       "    </tr>\n",
       "    <tr>\n",
       "      <th>...</th>\n",
       "    </tr>\n",
       "    <tr>\n",
       "      <th>0.086782</th>\n",
       "    </tr>\n",
       "    <tr>\n",
       "      <th>0.690002</th>\n",
       "    </tr>\n",
       "    <tr>\n",
       "      <th>0.688360</th>\n",
       "    </tr>\n",
       "    <tr>\n",
       "      <th>0.785628</th>\n",
       "    </tr>\n",
       "    <tr>\n",
       "      <th>0.620062</th>\n",
       "    </tr>\n",
       "  </tbody>\n",
       "</table>\n",
       "<p>217 rows × 0 columns</p>\n",
       "</div>"
      ],
      "text/plain": [
       "Empty DataFrame\n",
       "Columns: []\n",
       "Index: [0.6906273859192581, 0.9072605621290052, 0.9881764339426575, 0.29886379040456235, 0.11602817525283182, 0.028079468477850478, 0.789704168891941, 0.1835188544517785, 0.9477473927076552, 0.749010025820569, 0.5338097647022503, 0.46143370909712256, 0.8071165287118629, 0.43878997057095304, 0.9640448842118584, 0.944882195866708, 0.43151409906354254, 0.7320365640126504, 0.2561849774691556, 0.6494228016182172, 0.04511655641484391, 0.06015984870764546, 0.02616653552884618, 0.013304312313799027, 0.9342443096924532, 0.21155490932049925, 0.47986646109073117, 0.7274759749797144, 0.37492277765911086, 0.8442001846728809, 0.20023842150356208, 0.7346908193378097, 0.9832443799736429, 0.9019628809900586, 0.3129809533200202, 0.088895017418116, 0.4783066894207949, 0.025018236339509836, 0.4832277315720698, 0.12773447555384432, 0.19133396385302381, 0.8709148196764527, 0.011208467467768268, 0.6175925906560203, 0.2298762715505085, 0.826832000604208, 0.35849314726242776, 0.4886042431561378, 0.5482275861459415, 0.6500440739774309, 0.8978018087766788, 0.3667414677698707, 0.8786674164847992, 0.6394214033225756, 0.21456039561844953, 0.5792061473887055, 0.9577551945102756, 0.7146917365186105, 0.2921702999168242, 0.05681429831410367, 0.2834692441796699, 0.9899652223952881, 0.5430532729179812, 0.7490759255129193, 0.7830115093899016, 0.14800145146785937, 0.16821965727389332, 0.19378681524909125, 0.7730649832121719, 0.7648790295737056, 0.9368080824212608, 0.9450676477855872, 0.8719286356263716, 0.42946117456916244, 0.1770019267449492, 0.4447626692064802, 0.7800325432184773, 0.8148886097236621, 0.9744808307867661, 0.6801408950188822, 0.22738672102334456, 0.5499073433618608, 0.04089441733568622, 0.9528122282725924, 0.3366483328020293, 0.001039837190315418, 0.5359380861086156, 0.22047217422867804, 0.645281580751756, 0.9838876772312666, 0.6597244761974584, 0.5350381092962733, 0.25538538121477317, 0.1886495196864606, 0.6199892708078601, 0.5064649605801901, 0.42129909583988523, 0.7202549162040777, 0.2703288791056505, 0.542309964277102, ...]\n",
       "\n",
       "[217 rows x 0 columns]"
      ]
     },
     "execution_count": 27,
     "metadata": {},
     "output_type": "execute_result"
    }
   ],
   "source": [
    "df.set_index([\"dingo\"])"
   ]
  },
  {
   "cell_type": "code",
   "execution_count": null,
   "id": "d5384398",
   "metadata": {},
   "outputs": [],
   "source": [
    "pd.read_csv()"
   ]
  },
  {
   "cell_type": "code",
   "execution_count": 28,
   "id": "ec5db227",
   "metadata": {},
   "outputs": [],
   "source": [
    "observed_path ={\"2020-01-01\":df}"
   ]
  },
  {
   "cell_type": "code",
   "execution_count": 29,
   "id": "db22ca4e",
   "metadata": {},
   "outputs": [
    {
     "data": {
      "text/html": [
       "<div>\n",
       "<style scoped>\n",
       "    .dataframe tbody tr th:only-of-type {\n",
       "        vertical-align: middle;\n",
       "    }\n",
       "\n",
       "    .dataframe tbody tr th {\n",
       "        vertical-align: top;\n",
       "    }\n",
       "\n",
       "    .dataframe thead th {\n",
       "        text-align: right;\n",
       "    }\n",
       "</style>\n",
       "<table border=\"1\" class=\"dataframe\">\n",
       "  <thead>\n",
       "    <tr style=\"text-align: right;\">\n",
       "      <th></th>\n",
       "      <th>dingo</th>\n",
       "    </tr>\n",
       "  </thead>\n",
       "  <tbody>\n",
       "    <tr>\n",
       "      <th>2020-01-01 00:00:00</th>\n",
       "      <td>0.690627</td>\n",
       "    </tr>\n",
       "    <tr>\n",
       "      <th>2020-01-01 01:00:00</th>\n",
       "      <td>0.907261</td>\n",
       "    </tr>\n",
       "    <tr>\n",
       "      <th>2020-01-01 02:00:00</th>\n",
       "      <td>0.988176</td>\n",
       "    </tr>\n",
       "    <tr>\n",
       "      <th>2020-01-01 03:00:00</th>\n",
       "      <td>0.298864</td>\n",
       "    </tr>\n",
       "    <tr>\n",
       "      <th>2020-01-01 04:00:00</th>\n",
       "      <td>0.116028</td>\n",
       "    </tr>\n",
       "    <tr>\n",
       "      <th>...</th>\n",
       "      <td>...</td>\n",
       "    </tr>\n",
       "    <tr>\n",
       "      <th>2020-01-09 20:00:00</th>\n",
       "      <td>0.086782</td>\n",
       "    </tr>\n",
       "    <tr>\n",
       "      <th>2020-01-09 21:00:00</th>\n",
       "      <td>0.690002</td>\n",
       "    </tr>\n",
       "    <tr>\n",
       "      <th>2020-01-09 22:00:00</th>\n",
       "      <td>0.688360</td>\n",
       "    </tr>\n",
       "    <tr>\n",
       "      <th>2020-01-09 23:00:00</th>\n",
       "      <td>0.785628</td>\n",
       "    </tr>\n",
       "    <tr>\n",
       "      <th>2020-01-10 00:00:00</th>\n",
       "      <td>0.620062</td>\n",
       "    </tr>\n",
       "  </tbody>\n",
       "</table>\n",
       "<p>217 rows × 1 columns</p>\n",
       "</div>"
      ],
      "text/plain": [
       "                        dingo\n",
       "2020-01-01 00:00:00  0.690627\n",
       "2020-01-01 01:00:00  0.907261\n",
       "2020-01-01 02:00:00  0.988176\n",
       "2020-01-01 03:00:00  0.298864\n",
       "2020-01-01 04:00:00  0.116028\n",
       "...                       ...\n",
       "2020-01-09 20:00:00  0.086782\n",
       "2020-01-09 21:00:00  0.690002\n",
       "2020-01-09 22:00:00  0.688360\n",
       "2020-01-09 23:00:00  0.785628\n",
       "2020-01-10 00:00:00  0.620062\n",
       "\n",
       "[217 rows x 1 columns]"
      ]
     },
     "execution_count": 29,
     "metadata": {},
     "output_type": "execute_result"
    }
   ],
   "source": [
    "observed_path[\"2020-01-01\"]"
   ]
  },
  {
   "cell_type": "code",
   "execution_count": 31,
   "id": "a31d31b5",
   "metadata": {},
   "outputs": [],
   "source": [
    "df.iloc[0,0]=0"
   ]
  },
  {
   "cell_type": "code",
   "execution_count": 32,
   "id": "b4fe369b",
   "metadata": {},
   "outputs": [
    {
     "data": {
      "text/html": [
       "<div>\n",
       "<style scoped>\n",
       "    .dataframe tbody tr th:only-of-type {\n",
       "        vertical-align: middle;\n",
       "    }\n",
       "\n",
       "    .dataframe tbody tr th {\n",
       "        vertical-align: top;\n",
       "    }\n",
       "\n",
       "    .dataframe thead th {\n",
       "        text-align: right;\n",
       "    }\n",
       "</style>\n",
       "<table border=\"1\" class=\"dataframe\">\n",
       "  <thead>\n",
       "    <tr style=\"text-align: right;\">\n",
       "      <th></th>\n",
       "      <th>dingo</th>\n",
       "    </tr>\n",
       "  </thead>\n",
       "  <tbody>\n",
       "    <tr>\n",
       "      <th>2020-01-01 00:00:00</th>\n",
       "      <td>0.000000</td>\n",
       "    </tr>\n",
       "    <tr>\n",
       "      <th>2020-01-01 01:00:00</th>\n",
       "      <td>0.907261</td>\n",
       "    </tr>\n",
       "    <tr>\n",
       "      <th>2020-01-01 02:00:00</th>\n",
       "      <td>0.988176</td>\n",
       "    </tr>\n",
       "    <tr>\n",
       "      <th>2020-01-01 03:00:00</th>\n",
       "      <td>0.298864</td>\n",
       "    </tr>\n",
       "    <tr>\n",
       "      <th>2020-01-01 04:00:00</th>\n",
       "      <td>0.116028</td>\n",
       "    </tr>\n",
       "    <tr>\n",
       "      <th>...</th>\n",
       "      <td>...</td>\n",
       "    </tr>\n",
       "    <tr>\n",
       "      <th>2020-01-09 20:00:00</th>\n",
       "      <td>0.086782</td>\n",
       "    </tr>\n",
       "    <tr>\n",
       "      <th>2020-01-09 21:00:00</th>\n",
       "      <td>0.690002</td>\n",
       "    </tr>\n",
       "    <tr>\n",
       "      <th>2020-01-09 22:00:00</th>\n",
       "      <td>0.688360</td>\n",
       "    </tr>\n",
       "    <tr>\n",
       "      <th>2020-01-09 23:00:00</th>\n",
       "      <td>0.785628</td>\n",
       "    </tr>\n",
       "    <tr>\n",
       "      <th>2020-01-10 00:00:00</th>\n",
       "      <td>0.620062</td>\n",
       "    </tr>\n",
       "  </tbody>\n",
       "</table>\n",
       "<p>217 rows × 1 columns</p>\n",
       "</div>"
      ],
      "text/plain": [
       "                        dingo\n",
       "2020-01-01 00:00:00  0.000000\n",
       "2020-01-01 01:00:00  0.907261\n",
       "2020-01-01 02:00:00  0.988176\n",
       "2020-01-01 03:00:00  0.298864\n",
       "2020-01-01 04:00:00  0.116028\n",
       "...                       ...\n",
       "2020-01-09 20:00:00  0.086782\n",
       "2020-01-09 21:00:00  0.690002\n",
       "2020-01-09 22:00:00  0.688360\n",
       "2020-01-09 23:00:00  0.785628\n",
       "2020-01-10 00:00:00  0.620062\n",
       "\n",
       "[217 rows x 1 columns]"
      ]
     },
     "execution_count": 32,
     "metadata": {},
     "output_type": "execute_result"
    }
   ],
   "source": [
    "df.fillna(0)"
   ]
  }
 ],
 "metadata": {
  "kernelspec": {
   "display_name": "Python 3.9.5 ('doudienv')",
   "language": "python",
   "name": "python3"
  },
  "language_info": {
   "codemirror_mode": {
    "name": "ipython",
    "version": 3
   },
   "file_extension": ".py",
   "mimetype": "text/x-python",
   "name": "python",
   "nbconvert_exporter": "python",
   "pygments_lexer": "ipython3",
   "version": "3.9.5"
  },
  "vscode": {
   "interpreter": {
    "hash": "59101c57e076f2aa64ba7fd4f09fc30d9fdcf318df562b3130a87198e170a43e"
   }
  }
 },
 "nbformat": 4,
 "nbformat_minor": 5
}
