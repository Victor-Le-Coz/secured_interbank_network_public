{
 "cells": [
  {
   "cell_type": "code",
   "execution_count": 6,
   "metadata": {},
   "outputs": [
    {
     "name": "stdout",
     "output_type": "stream",
     "text": [
      "simulate the repo market\n"
     ]
    },
    {
     "name": "stderr",
     "output_type": "stream",
     "text": [
      "  1%|          | 499/49999 [01:50<3:23:13,  4.06it/s]"
     ]
    },
    {
     "name": "stdout",
     "output_type": "stream",
     "text": [
      "get df_rev_repo_trans\n"
     ]
    },
    {
     "name": "stderr",
     "output_type": "stream",
     "text": [
      "100%|██████████| 100/100 [00:00<00:00, 837186.43it/s]\n"
     ]
    },
    {
     "name": "stdout",
     "output_type": "stream",
     "text": [
      "get df_rev_repo_trans\n"
     ]
    },
    {
     "name": "stderr",
     "output_type": "stream",
     "text": [
      "100%|██████████| 100/100 [00:00<00:00, 1155455.65it/s]\n"
     ]
    },
    {
     "name": "stdout",
     "output_type": "stream",
     "text": [
      "get arr_rev_repo_exp_adj\n"
     ]
    },
    {
     "name": "stderr",
     "output_type": "stream",
     "text": [
      "31168it [00:06, 4882.16it/s]\n"
     ]
    },
    {
     "name": "stdout",
     "output_type": "stream",
     "text": [
      "get arr_binary_adj (numba)\n"
     ]
    },
    {
     "name": "stderr",
     "output_type": "stream",
     "text": [
      "100%|██████████| 500/500 [00:03<00:00, 144.96it/s]\n",
      "100%|██████████| 499/499 [00:00<00:00, 1382.04it/s]\n",
      "100%|██████████| 499/499 [00:00<00:00, 1548.41it/s]\n",
      "100%|██████████| 499/499 [00:00<00:00, 1755.80it/s]\n",
      "100%|██████████| 501/501 [00:00<00:00, 3788.95it/s]\n",
      "\n",
      "100%|██████████| 100/100 [00:00<00:00, 2071.56it/s]\n",
      "\n",
      "\u001b[A\n",
      "\u001b[A\n",
      "\u001b[A\n",
      "100%|██████████| 100/100 [00:00<00:00, 268.39it/s]\n",
      "\n",
      "100%|██████████| 100/100 [00:00<00:00, 2076.82it/s]\n",
      "\n",
      "\u001b[A\n",
      "\u001b[A\n",
      "\u001b[A\n",
      "100%|██████████| 100/100 [00:00<00:00, 257.85it/s]\n",
      "\n",
      "100%|██████████| 100/100 [00:00<00:00, 2144.33it/s]\n",
      "\n",
      "\u001b[A\n",
      "\u001b[A\n",
      "\u001b[A\n",
      "100%|██████████| 100/100 [00:00<00:00, 252.82it/s]\n",
      "\n",
      "100%|██████████| 100/100 [00:00<00:00, 2105.30it/s]\n",
      "\n",
      "\u001b[A\n",
      "\u001b[A\n",
      "\u001b[A\n",
      "\u001b[A\n",
      "100%|██████████| 100/100 [00:00<00:00, 234.99it/s]\n",
      "\n",
      "100%|██████████| 100/100 [00:00<00:00, 1060.98it/s]\n",
      "\n",
      "\u001b[A\n",
      "\u001b[A\n",
      "\u001b[A\n",
      "100%|██████████| 100/100 [00:00<00:00, 266.69it/s]\n",
      "100%|██████████| 5/5 [00:02<00:00,  2.14it/s]\n",
      "100%|██████████| 500/500 [00:01<00:00, 262.92it/s]\n",
      "100%|██████████| 500/500 [00:00<00:00, 1111.89it/s]\n"
     ]
    },
    {
     "name": "stdout",
     "output_type": "stream",
     "text": [
      "plot dynamics\n"
     ]
    },
    {
     "name": "stderr",
     "output_type": "stream",
     "text": [
      "  2%|▏         | 999/49999 [04:41<3:46:24,  3.61it/s]  "
     ]
    },
    {
     "name": "stdout",
     "output_type": "stream",
     "text": [
      "get df_rev_repo_trans\n"
     ]
    },
    {
     "name": "stderr",
     "output_type": "stream",
     "text": [
      "100%|██████████| 100/100 [00:00<00:00, 917790.81it/s]\n"
     ]
    },
    {
     "name": "stdout",
     "output_type": "stream",
     "text": [
      "get df_rev_repo_trans\n"
     ]
    },
    {
     "name": "stderr",
     "output_type": "stream",
     "text": [
      "100%|██████████| 100/100 [00:00<00:00, 1035630.62it/s]\n"
     ]
    },
    {
     "name": "stdout",
     "output_type": "stream",
     "text": [
      "get arr_rev_repo_exp_adj\n"
     ]
    },
    {
     "name": "stderr",
     "output_type": "stream",
     "text": [
      "62799it [00:13, 4685.03it/s]\n"
     ]
    },
    {
     "name": "stdout",
     "output_type": "stream",
     "text": [
      "get arr_binary_adj (numba)\n"
     ]
    },
    {
     "name": "stderr",
     "output_type": "stream",
     "text": [
      "100%|██████████| 1000/1000 [00:07<00:00, 133.40it/s]\n",
      "100%|██████████| 999/999 [00:00<00:00, 1218.00it/s]\n",
      "100%|██████████| 999/999 [00:00<00:00, 1561.98it/s]\n",
      "100%|██████████| 999/999 [00:00<00:00, 1748.58it/s]\n",
      "100%|██████████| 1001/1001 [00:00<00:00, 3752.90it/s]\n",
      "\n",
      "100%|██████████| 100/100 [00:00<00:00, 2112.74it/s]\n",
      "\n",
      "\u001b[A\n",
      "\u001b[A\n",
      "\u001b[A\n",
      "100%|██████████| 100/100 [00:00<00:00, 265.15it/s]\n",
      "\n",
      "\u001b[A\n",
      "\u001b[A\n",
      "\u001b[A\n",
      "100%|██████████| 100/100 [00:00<00:00, 253.68it/s]\n",
      "\n",
      "100%|██████████| 100/100 [00:00<00:00, 2182.92it/s]\n",
      "\n",
      "\u001b[A\n",
      "\u001b[A\n",
      "\u001b[A\n",
      "100%|██████████| 100/100 [00:00<00:00, 259.96it/s]\n",
      "\n",
      "\u001b[A\n",
      "\u001b[A\n",
      "\u001b[A\n",
      "100%|██████████| 100/100 [00:00<00:00, 248.11it/s]\n",
      "\n",
      "100%|██████████| 100/100 [00:00<00:00, 2131.22it/s]\n",
      "\n",
      "\u001b[A\n",
      "\u001b[A\n",
      "\u001b[A\n",
      "100%|██████████| 100/100 [00:00<00:00, 254.26it/s]\n",
      "\n",
      "\u001b[A\n",
      "\u001b[A\n",
      "\u001b[A\n",
      "\u001b[A\n",
      "100%|██████████| 100/100 [00:00<00:00, 238.07it/s]\n",
      "\n",
      "100%|██████████| 100/100 [00:00<00:00, 2166.66it/s]\n",
      "\n",
      "\u001b[A\n",
      "\u001b[A\n",
      "\u001b[A\n",
      "\u001b[A\n",
      "100%|██████████| 100/100 [00:00<00:00, 235.53it/s]\n",
      "\n",
      "\u001b[A\n",
      "\u001b[A\n",
      "\u001b[A\n",
      "\u001b[A\n",
      "100%|██████████| 100/100 [00:00<00:00, 219.91it/s]\n",
      "\n",
      "100%|██████████| 100/100 [00:00<00:00, 1063.60it/s]\n",
      "\n",
      "\u001b[A\n",
      "\u001b[A\n",
      "\u001b[A\n",
      "100%|██████████| 100/100 [00:00<00:00, 267.57it/s]\n",
      "\n",
      "\u001b[A\n",
      "\u001b[A\n",
      "\u001b[A\n",
      "100%|██████████| 100/100 [00:00<00:00, 255.57it/s]\n",
      "100%|██████████| 5/5 [00:04<00:00,  1.12it/s]\n",
      "100%|██████████| 1000/1000 [00:07<00:00, 141.09it/s]\n",
      "100%|██████████| 1000/1000 [00:00<00:00, 1046.17it/s]\n"
     ]
    },
    {
     "name": "stdout",
     "output_type": "stream",
     "text": [
      "plot dynamics\n"
     ]
    },
    {
     "name": "stderr",
     "output_type": "stream",
     "text": [
      "  3%|▎         | 1499/49999 [08:23<3:55:12,  3.44it/s]  "
     ]
    },
    {
     "name": "stdout",
     "output_type": "stream",
     "text": [
      "get df_rev_repo_trans\n"
     ]
    },
    {
     "name": "stderr",
     "output_type": "stream",
     "text": [
      "100%|██████████| 100/100 [00:00<00:00, 863025.51it/s]\n"
     ]
    },
    {
     "name": "stdout",
     "output_type": "stream",
     "text": [
      "get df_rev_repo_trans\n"
     ]
    },
    {
     "name": "stderr",
     "output_type": "stream",
     "text": [
      "100%|██████████| 100/100 [00:00<00:00, 989222.64it/s]\n"
     ]
    },
    {
     "name": "stdout",
     "output_type": "stream",
     "text": [
      "get arr_rev_repo_exp_adj\n"
     ]
    },
    {
     "name": "stderr",
     "output_type": "stream",
     "text": [
      "93773it [00:20, 4603.73it/s]\n"
     ]
    },
    {
     "name": "stdout",
     "output_type": "stream",
     "text": [
      "get arr_binary_adj (numba)\n"
     ]
    },
    {
     "name": "stderr",
     "output_type": "stream",
     "text": [
      "100%|██████████| 1500/1500 [00:32<00:00, 46.06it/s] \n",
      "100%|██████████| 1499/1499 [00:01<00:00, 1115.55it/s]\n",
      "100%|██████████| 1499/1499 [00:00<00:00, 1570.69it/s]\n",
      "100%|██████████| 1499/1499 [00:00<00:00, 1752.11it/s]\n",
      "100%|██████████| 1501/1501 [00:00<00:00, 3651.82it/s]\n",
      "\n",
      "100%|██████████| 100/100 [00:00<00:00, 2092.64it/s]\n",
      "\n",
      "\u001b[A\n",
      "\u001b[A\n",
      "\u001b[A\n",
      "100%|██████████| 100/100 [00:00<00:00, 266.06it/s]\n",
      "\n",
      "\u001b[A\n",
      "\u001b[A\n",
      "\u001b[A\n",
      "100%|██████████| 100/100 [00:00<00:00, 256.60it/s]\n",
      "\n",
      "\u001b[A\n",
      "\u001b[A\n",
      "\u001b[A\n",
      "\u001b[A\n",
      "100%|██████████| 100/100 [00:00<00:00, 242.59it/s]\n",
      "\n",
      "100%|██████████| 100/100 [00:00<00:00, 2136.69it/s]\n",
      "\n",
      "\u001b[A\n",
      "\u001b[A\n",
      "\u001b[A\n",
      "100%|██████████| 100/100 [00:00<00:00, 258.68it/s]\n",
      "\n",
      "\u001b[A\n",
      "\u001b[A\n",
      "\u001b[A\n",
      "\u001b[A\n",
      "100%|██████████| 100/100 [00:00<00:00, 241.99it/s]\n",
      "\n",
      "\u001b[A\n",
      "\u001b[A\n",
      "\u001b[A\n",
      "\u001b[A\n",
      "100%|██████████| 100/100 [00:00<00:00, 233.28it/s]\n",
      "\n",
      "100%|██████████| 100/100 [00:00<00:00, 2134.96it/s]\n",
      "\n",
      "\u001b[A\n",
      "\u001b[A\n",
      "\u001b[A\n",
      "100%|██████████| 100/100 [00:00<00:00, 253.40it/s]\n",
      "\n",
      "\u001b[A\n",
      "\u001b[A\n",
      "\u001b[A\n",
      "\u001b[A\n",
      "100%|██████████| 100/100 [00:00<00:00, 237.60it/s]\n",
      "\n",
      "\u001b[A\n",
      "\u001b[A\n",
      "\u001b[A\n",
      "\u001b[A\n",
      "100%|██████████| 100/100 [00:00<00:00, 228.11it/s]\n",
      "\n",
      "100%|██████████| 100/100 [00:00<00:00, 2142.42it/s]\n",
      "\n",
      "\u001b[A\n",
      "\u001b[A\n",
      "\u001b[A\n",
      "\u001b[A\n",
      "100%|██████████| 100/100 [00:00<00:00, 227.96it/s]\n",
      "\n",
      "\u001b[A\n",
      "\u001b[A\n",
      "\u001b[A\n",
      "\u001b[A\n",
      "100%|██████████| 100/100 [00:00<00:00, 212.90it/s]\n",
      "\n",
      "\u001b[A\n",
      "\u001b[A\n",
      "\u001b[A\n",
      "\u001b[A\n",
      "100%|██████████| 100/100 [00:00<00:00, 211.92it/s]\n",
      "\n",
      "100%|██████████| 100/100 [00:00<00:00, 1033.60it/s]\n",
      "\n",
      "\u001b[A\n",
      "\u001b[A\n",
      "\u001b[A\n",
      "100%|██████████| 100/100 [00:00<00:00, 259.57it/s]\n",
      "\n",
      "\u001b[A\n",
      "\u001b[A\n",
      "\u001b[A\n",
      "\u001b[A\n",
      "100%|██████████| 100/100 [00:00<00:00, 245.16it/s]\n",
      "\n",
      "\u001b[A\n",
      "\u001b[A\n",
      "\u001b[A\n",
      "\u001b[A\n",
      "100%|██████████| 100/100 [00:00<00:00, 236.93it/s]\n",
      "100%|██████████| 5/5 [00:07<00:00,  1.55s/it]\n",
      "100%|██████████| 1500/1500 [00:14<00:00, 100.86it/s]\n",
      "100%|██████████| 1500/1500 [00:01<00:00, 1064.94it/s]\n"
     ]
    },
    {
     "name": "stdout",
     "output_type": "stream",
     "text": [
      "plot dynamics\n"
     ]
    },
    {
     "name": "stderr",
     "output_type": "stream",
     "text": [
      "  4%|▍         | 1999/49999 [13:26<4:17:44,  3.10it/s]  "
     ]
    },
    {
     "name": "stdout",
     "output_type": "stream",
     "text": [
      "get df_rev_repo_trans\n"
     ]
    },
    {
     "name": "stderr",
     "output_type": "stream",
     "text": [
      "100%|██████████| 100/100 [00:00<00:00, 900065.24it/s]\n"
     ]
    },
    {
     "name": "stdout",
     "output_type": "stream",
     "text": [
      "get df_rev_repo_trans\n"
     ]
    },
    {
     "name": "stderr",
     "output_type": "stream",
     "text": [
      "100%|██████████| 100/100 [00:00<00:00, 917790.81it/s]\n"
     ]
    },
    {
     "name": "stdout",
     "output_type": "stream",
     "text": [
      "get arr_rev_repo_exp_adj\n"
     ]
    },
    {
     "name": "stderr",
     "output_type": "stream",
     "text": [
      "126065it [00:29, 4307.91it/s]\n"
     ]
    },
    {
     "name": "stdout",
     "output_type": "stream",
     "text": [
      "get arr_binary_adj (numba)\n"
     ]
    },
    {
     "name": "stderr",
     "output_type": "stream",
     "text": [
      "100%|██████████| 2000/2000 [00:17<00:00, 111.88it/s]\n",
      "100%|██████████| 1999/1999 [00:01<00:00, 1117.47it/s]\n",
      "100%|██████████| 1999/1999 [00:01<00:00, 1619.29it/s]\n",
      "100%|██████████| 1999/1999 [00:01<00:00, 1736.28it/s]\n",
      "100%|██████████| 2001/2001 [00:00<00:00, 3740.35it/s]\n",
      "\n",
      "100%|██████████| 100/100 [00:00<00:00, 2096.28it/s]\n",
      "\n",
      "\u001b[A\n",
      "\u001b[A\n",
      "\u001b[A\n",
      "100%|██████████| 100/100 [00:00<00:00, 263.03it/s]\n",
      "\n",
      "\u001b[A\n",
      "\u001b[A\n",
      "\u001b[A\n",
      "100%|██████████| 100/100 [00:00<00:00, 254.48it/s]\n",
      "\n",
      "\u001b[A\n",
      "\u001b[A\n",
      "\u001b[A\n",
      "\u001b[A\n",
      "100%|██████████| 100/100 [00:00<00:00, 245.59it/s]\n",
      "\n",
      "\u001b[A\n",
      "\u001b[A\n",
      "\u001b[A\n",
      "\u001b[A\n",
      "100%|██████████| 100/100 [00:00<00:00, 233.49it/s]\n",
      "\n",
      "100%|██████████| 100/100 [00:00<00:00, 2137.88it/s]\n",
      "\n",
      "\u001b[A\n",
      "\u001b[A\n",
      "\u001b[A\n",
      "100%|██████████| 100/100 [00:00<00:00, 258.70it/s]\n",
      "\n",
      "\u001b[A\n",
      "\u001b[A\n",
      "\u001b[A\n",
      "\u001b[A\n",
      "100%|██████████| 100/100 [00:00<00:00, 246.69it/s]\n",
      "\n",
      "\u001b[A\n",
      "\u001b[A\n",
      "\u001b[A\n",
      "\u001b[A\n",
      "100%|██████████| 100/100 [00:00<00:00, 234.42it/s]\n",
      "\n",
      "\u001b[A\n",
      "\u001b[A\n",
      "\u001b[A\n",
      "\u001b[A\n",
      "100%|██████████| 100/100 [00:00<00:00, 223.31it/s]\n",
      "\n",
      "100%|██████████| 100/100 [00:00<00:00, 2131.56it/s]\n",
      "\n",
      "\u001b[A\n",
      "\u001b[A\n",
      "\u001b[A\n",
      "100%|██████████| 100/100 [00:00<00:00, 253.95it/s]\n",
      "\n",
      "\u001b[A\n",
      "\u001b[A\n",
      "\u001b[A\n",
      "\u001b[A\n",
      "100%|██████████| 100/100 [00:00<00:00, 238.05it/s]\n",
      "\n",
      "\u001b[A\n",
      "\u001b[A\n",
      "\u001b[A\n",
      "\u001b[A\n",
      "100%|██████████| 100/100 [00:00<00:00, 229.40it/s]\n",
      "\n",
      "\u001b[A\n",
      "\u001b[A\n",
      "\u001b[A\n",
      "\u001b[A\n",
      "100%|██████████| 100/100 [00:00<00:00, 218.68it/s]\n",
      "\n",
      "100%|██████████| 100/100 [00:00<00:00, 2125.69it/s]\n",
      "\n",
      "\u001b[A\n",
      "\u001b[A\n",
      "\u001b[A\n",
      "\u001b[A\n",
      "100%|██████████| 100/100 [00:00<00:00, 234.85it/s]\n",
      "\n",
      "\u001b[A\n",
      "\u001b[A\n",
      "\u001b[A\n",
      "\u001b[A\n",
      "100%|██████████| 100/100 [00:00<00:00, 220.95it/s]\n",
      "\n",
      "\u001b[A\n",
      "\u001b[A\n",
      "\u001b[A\n",
      "\u001b[A\n",
      "100%|██████████| 100/100 [00:00<00:00, 219.60it/s]\n",
      "\n",
      "\u001b[A\n",
      "\u001b[A\n",
      "\u001b[A\n",
      "\u001b[A\n",
      "100%|██████████| 100/100 [00:00<00:00, 206.81it/s]\n",
      "\n",
      "100%|██████████| 100/100 [00:00<00:00, 1063.32it/s]\n",
      "\n",
      "\u001b[A\n",
      "\u001b[A\n",
      "\u001b[A\n",
      "100%|██████████| 100/100 [00:00<00:00, 268.74it/s]\n",
      "\n",
      "\u001b[A\n",
      "\u001b[A\n",
      "\u001b[A\n",
      "100%|██████████| 100/100 [00:00<00:00, 254.53it/s]\n",
      "\n",
      "\u001b[A\n",
      "\u001b[A\n",
      "\u001b[A\n",
      "\u001b[A\n",
      "100%|██████████| 100/100 [00:00<00:00, 243.88it/s]\n",
      "\n",
      "\u001b[A\n",
      "\u001b[A\n",
      "\u001b[A\n",
      "\u001b[A\n",
      "100%|██████████| 100/100 [00:00<00:00, 227.32it/s]\n",
      "100%|██████████| 5/5 [00:08<00:00,  1.79s/it]\n",
      "100%|██████████| 2000/2000 [00:25<00:00, 78.43it/s]\n",
      "100%|██████████| 2000/2000 [00:01<00:00, 1051.78it/s]\n"
     ]
    },
    {
     "name": "stdout",
     "output_type": "stream",
     "text": [
      "plot dynamics\n"
     ]
    },
    {
     "name": "stderr",
     "output_type": "stream",
     "text": [
      "  5%|▍         | 2499/49999 [19:12<4:27:00,  2.97it/s]  "
     ]
    },
    {
     "name": "stdout",
     "output_type": "stream",
     "text": [
      "get df_rev_repo_trans\n"
     ]
    },
    {
     "name": "stderr",
     "output_type": "stream",
     "text": [
      "100%|██████████| 100/100 [00:00<00:00, 1115506.38it/s]\n"
     ]
    },
    {
     "name": "stdout",
     "output_type": "stream",
     "text": [
      "get df_rev_repo_trans\n"
     ]
    },
    {
     "name": "stderr",
     "output_type": "stream",
     "text": [
      "100%|██████████| 100/100 [00:00<00:00, 1033079.80it/s]\n"
     ]
    },
    {
     "name": "stdout",
     "output_type": "stream",
     "text": [
      "get arr_rev_repo_exp_adj\n"
     ]
    },
    {
     "name": "stderr",
     "output_type": "stream",
     "text": [
      "158060it [00:35, 4427.79it/s]\n"
     ]
    },
    {
     "name": "stdout",
     "output_type": "stream",
     "text": [
      "get arr_binary_adj (numba)\n"
     ]
    },
    {
     "name": "stderr",
     "output_type": "stream",
     "text": [
      "100%|██████████| 2500/2500 [00:24<00:00, 101.42it/s]\n",
      "100%|██████████| 2499/2499 [00:02<00:00, 1115.22it/s]\n",
      "100%|██████████| 2499/2499 [00:01<00:00, 1685.60it/s]\n",
      "100%|██████████| 2499/2499 [00:01<00:00, 1720.50it/s]\n",
      "100%|██████████| 2501/2501 [00:00<00:00, 3657.82it/s]\n",
      "\n",
      "100%|██████████| 100/100 [00:00<00:00, 2125.79it/s]\n",
      "\n",
      "\u001b[A\n",
      "\u001b[A\n",
      "\u001b[A\n",
      "100%|██████████| 100/100 [00:00<00:00, 264.11it/s]\n",
      "\n",
      "\u001b[A\n",
      "\u001b[A\n",
      "\u001b[A\n",
      "100%|██████████| 100/100 [00:00<00:00, 252.53it/s]\n",
      "\n",
      "\u001b[A\n",
      "\u001b[A\n",
      "\u001b[A\n",
      "\u001b[A\n",
      "100%|██████████| 100/100 [00:00<00:00, 242.33it/s]\n",
      "\n",
      "\u001b[A\n",
      "\u001b[A\n",
      "\u001b[A\n",
      "\u001b[A\n",
      "100%|██████████| 100/100 [00:00<00:00, 231.69it/s]\n",
      "\n",
      "\u001b[A\n",
      "\u001b[A\n",
      "\u001b[A\n",
      "\u001b[A\n",
      "100%|██████████| 100/100 [00:00<00:00, 230.96it/s]\n",
      "\n",
      "100%|██████████| 100/100 [00:00<00:00, 2122.30it/s]\n",
      "\n",
      "\u001b[A\n",
      "\u001b[A\n",
      "\u001b[A\n",
      "100%|██████████| 100/100 [00:00<00:00, 254.53it/s]\n",
      "\n",
      "\u001b[A\n",
      "\u001b[A\n",
      "\u001b[A\n",
      "\u001b[A\n",
      "100%|██████████| 100/100 [00:00<00:00, 245.89it/s]\n",
      "\n",
      "\u001b[A\n",
      "\u001b[A\n",
      "\u001b[A\n",
      "\u001b[A\n",
      "100%|██████████| 100/100 [00:00<00:00, 229.86it/s]\n",
      "\n",
      "\u001b[A\n",
      "\u001b[A\n",
      "\u001b[A\n",
      "\u001b[A\n",
      "100%|██████████| 100/100 [00:00<00:00, 220.88it/s]\n",
      "\n",
      "\u001b[A\n",
      "\u001b[A\n",
      "\u001b[A\n",
      "\u001b[A\n",
      "100%|██████████| 100/100 [00:00<00:00, 224.86it/s]\n",
      "\n",
      "100%|██████████| 100/100 [00:00<00:00, 2116.49it/s]\n",
      "\n",
      "\u001b[A\n",
      "\u001b[A\n",
      "\u001b[A\n",
      "100%|██████████| 100/100 [00:00<00:00, 251.88it/s]\n",
      "\n",
      "\u001b[A\n",
      "\u001b[A\n",
      "\u001b[A\n",
      "\u001b[A\n",
      "100%|██████████| 100/100 [00:00<00:00, 234.13it/s]\n",
      "\n",
      "\u001b[A\n",
      "\u001b[A\n",
      "\u001b[A\n",
      "\u001b[A\n",
      "100%|██████████| 100/100 [00:00<00:00, 227.83it/s]\n",
      "\n",
      "\u001b[A\n",
      "\u001b[A\n",
      "\u001b[A\n",
      "\u001b[A\n",
      "100%|██████████| 100/100 [00:00<00:00, 218.44it/s]\n",
      "\n",
      "\u001b[A\n",
      "\u001b[A\n",
      "\u001b[A\n",
      "\u001b[A\n",
      "100%|██████████| 100/100 [00:00<00:00, 222.22it/s]\n",
      "\n",
      "100%|██████████| 100/100 [00:00<00:00, 2186.30it/s]\n",
      "\n",
      "\u001b[A\n",
      "\u001b[A\n",
      "\u001b[A\n",
      "\u001b[A\n",
      "100%|██████████| 100/100 [00:00<00:00, 234.67it/s]\n",
      "\n",
      "\u001b[A\n",
      "\u001b[A\n",
      "\u001b[A\n",
      "\u001b[A\n",
      "100%|██████████| 100/100 [00:00<00:00, 219.77it/s]\n",
      "\n",
      "\u001b[A\n",
      "\u001b[A\n",
      "\u001b[A\n",
      "\u001b[A\n",
      "100%|██████████| 100/100 [00:00<00:00, 218.17it/s]\n",
      "\n",
      "\u001b[A\n",
      "\u001b[A\n",
      "\u001b[A\n",
      "\u001b[A\n",
      "100%|██████████| 100/100 [00:00<00:00, 206.16it/s]\n",
      "\n",
      "\u001b[A\n",
      "\u001b[A\n",
      "\u001b[A\n",
      "\u001b[A\n",
      "100%|██████████| 100/100 [00:00<00:00, 203.14it/s]\n",
      "\n",
      "100%|██████████| 100/100 [00:00<00:00, 1065.32it/s]\n",
      "\n",
      "\u001b[A\n",
      "\u001b[A\n",
      "\u001b[A\n",
      "100%|██████████| 100/100 [00:00<00:00, 270.92it/s]\n",
      "\n",
      "\u001b[A\n",
      "\u001b[A\n",
      "\u001b[A\n",
      "100%|██████████| 100/100 [00:00<00:00, 254.06it/s]\n",
      "\n",
      "\u001b[A\n",
      "\u001b[A\n",
      "\u001b[A\n",
      "\u001b[A\n",
      "100%|██████████| 100/100 [00:00<00:00, 243.65it/s]\n",
      "\n",
      "\u001b[A\n",
      "\u001b[A\n",
      "\u001b[A\n",
      "\u001b[A\n",
      "100%|██████████| 100/100 [00:00<00:00, 233.97it/s]\n",
      "\n",
      "\u001b[A\n",
      "\u001b[A\n",
      "\u001b[A\n",
      "\u001b[A\n",
      "100%|██████████| 100/100 [00:00<00:00, 234.80it/s]\n",
      "100%|██████████| 5/5 [00:11<00:00,  2.26s/it]\n",
      "100%|██████████| 2500/2500 [00:40<00:00, 61.91it/s]\n",
      "100%|██████████| 2500/2500 [00:02<00:00, 1034.25it/s]\n"
     ]
    },
    {
     "name": "stdout",
     "output_type": "stream",
     "text": [
      "plot dynamics\n"
     ]
    },
    {
     "name": "stderr",
     "output_type": "stream",
     "text": [
      "  6%|▌         | 2999/49999 [26:05<4:29:41,  2.90it/s]  "
     ]
    },
    {
     "name": "stdout",
     "output_type": "stream",
     "text": [
      "get df_rev_repo_trans\n"
     ]
    },
    {
     "name": "stderr",
     "output_type": "stream",
     "text": [
      "100%|██████████| 100/100 [00:00<00:00, 998643.81it/s]\n"
     ]
    },
    {
     "name": "stdout",
     "output_type": "stream",
     "text": [
      "get df_rev_repo_trans\n"
     ]
    },
    {
     "name": "stderr",
     "output_type": "stream",
     "text": [
      "100%|██████████| 100/100 [00:00<00:00, 898137.90it/s]\n"
     ]
    },
    {
     "name": "stdout",
     "output_type": "stream",
     "text": [
      "get arr_rev_repo_exp_adj\n"
     ]
    },
    {
     "name": "stderr",
     "output_type": "stream",
     "text": []
    }
   ],
   "source": [
    "from dynamics import ClassDynamics\n",
    "from network import ClassNetwork\n",
    "\n",
    "# parameter setting\n",
    "nb_banks=100\n",
    "path_results=\"./results/single_run/QE_test/\"\n",
    "\n",
    "\n",
    "# reg ratios\n",
    "alpha_init=False # initial cash (< 1/(1-gamma) - beta)\n",
    "alpha=0.01\n",
    "beta_init=0.5 # initial collateral  (< 1/(1-gamma) - alpha)\n",
    "beta_reg=0.5\n",
    "beta_star=0.5\n",
    "gamma=0.03\n",
    "gamma_init = 3*gamma #3*gamma\n",
    "collateral_value=1.0\n",
    "\n",
    "# initialisation of deposits size or through money creation\n",
    "initialization_method=\"pareto\"\n",
    "alpha_pareto=1.4\n",
    "initial_deposits_size = 40 #40 if False, use the init money min and money creation\n",
    "init_money_min = 1e-2 # 10 million money units, minimum for a bank license\n",
    "\n",
    "# shocks on deposits\n",
    "shocks_method=\"non-conservative\"\n",
    "shocks_law=\"normal-mean-reverting\"\n",
    "shocks_vol=0.08 # 0.05\n",
    "\n",
    "\n",
    "# speed of learning\n",
    "learning_speed = 0.5 #0.5\n",
    "\n",
    "# min trans size\n",
    "min_repo_trans_size=1e-8  # 1e-8\n",
    "\n",
    "# dynamics & ploting\n",
    "nb_steps=int(50e3) #int(10e3)\n",
    "dump_period=int(5e2) #int(5e2)\n",
    "plot_period=int(5e2) #int(5e2)\n",
    "cp_option=True\n",
    "heavy_plot=False\n",
    "\n",
    "# LCR mgt\n",
    "LCR_mgt_opt=True\n",
    "\n",
    "# leverage mgt\n",
    "end_repo_period=False # if int, periodic end repo / if false, leverage mgt\n",
    "gamma_star = 1.5*gamma #1.5\n",
    "check_leverage_opt = False # to avoid killing the run if one or several banks are below min leverage due to high shocks (there is not possibility of decrease balance sheet size if no interbank borrowings)\n",
    "\n",
    "# money creation\n",
    "loan_tenor=nb_steps #nb_steps # if int, money creation / if false. no new loans\n",
    "loan_period=1\n",
    "new_loans_vol = 10 #5 standard deviation around the mean creation of loans (if initial deposits size not False)\n",
    "new_loans_mean = 2e-2/250 #2e-2/250 daily mean increase in loans expressed as a percentage of the intital loans, meaning linear growth (or of the current loans, then meaning exponential growth)\n",
    "beta_new = beta_reg # if number, new colat / if false, no new colat \n",
    "gamma_new = 2*gamma_star\n",
    "\n",
    "\n",
    "# substitution of collateral\n",
    "substitution = False\n",
    "\n",
    "# Quantitative easing scenario\n",
    "QE_start = 5000\n",
    "QE_stop = 12000\n",
    "\n",
    "# GFC scenario\n",
    "no_trust_start = False\n",
    "no_trust_stop = False\n",
    "\n",
    "# initialize ClassNetwork\n",
    "Network = ClassNetwork(\n",
    "    nb_banks=nb_banks,\n",
    "    initial_deposits_size=initial_deposits_size,\n",
    "    alpha_init=alpha_init,\n",
    "    alpha=alpha,\n",
    "    beta_init=beta_init,\n",
    "    beta_reg=beta_reg,\n",
    "    beta_star=beta_star,\n",
    "    beta_new=beta_new,\n",
    "    gamma_init=gamma_init,\n",
    "    gamma=gamma,\n",
    "    gamma_star=gamma_star,\n",
    "    gamma_new=gamma_new,\n",
    "    collateral_value=collateral_value,\n",
    "    initialization_method=initialization_method,\n",
    "    alpha_pareto=alpha_pareto,\n",
    "    shocks_method=shocks_method,\n",
    "    shocks_law=shocks_law,\n",
    "    shocks_vol=shocks_vol,\n",
    "    LCR_mgt_opt=LCR_mgt_opt,\n",
    "    min_repo_trans_size=min_repo_trans_size,\n",
    "    loan_tenor=loan_tenor,\n",
    "    loan_period=loan_period,\n",
    "    new_loans_vol=new_loans_vol,\n",
    "    new_loans_mean=new_loans_mean,\n",
    "    end_repo_period=end_repo_period,\n",
    "    substitution=substitution,\n",
    "    learning_speed=learning_speed,\n",
    "    check_leverage_opt=check_leverage_opt,\n",
    "    init_money_min=init_money_min,\n",
    "    QE_start=QE_start,\n",
    "    QE_stop=QE_stop,\n",
    "    no_trust_start=no_trust_start,\n",
    "    no_trust_stop=no_trust_stop,\n",
    ")\n",
    "\n",
    "# initialize ClassDynamics\n",
    "Dynamics = ClassDynamics(\n",
    "    Network,\n",
    "    nb_steps=nb_steps,\n",
    "    path_results=path_results,\n",
    "    dump_period=dump_period,\n",
    "    plot_period=plot_period,\n",
    "    cp_option=cp_option,\n",
    "    heavy_plot=heavy_plot,\n",
    ")\n",
    "\n",
    "# simulate\n",
    "Dynamics.simulate()"
   ]
  }
 ],
 "metadata": {
  "kernelspec": {
   "display_name": "Python 3",
   "language": "python",
   "name": "python3"
  },
  "language_info": {
   "codemirror_mode": {
    "name": "ipython",
    "version": 3
   },
   "file_extension": ".py",
   "mimetype": "text/x-python",
   "name": "python",
   "nbconvert_exporter": "python",
   "pygments_lexer": "ipython3",
   "version": "3.8.13"
  }
 },
 "nbformat": 4,
 "nbformat_minor": 2
}
