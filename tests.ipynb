{
 "cells": [
  {
   "cell_type": "code",
   "execution_count": 2,
   "metadata": {},
   "outputs": [],
   "source": [
    "import numpy as np\n",
    "from pylab import *\n",
    "from scipy import stats\n",
    "import matplotlib\n",
    "import matplotlib.pyplot as plt"
   ]
  },
  {
   "cell_type": "code",
   "execution_count": 44,
   "metadata": {},
   "outputs": [],
   "source": [
    "def get_trunc_lognorm(mu, sigma, lower_bound, upper_bound=np.inf, size=10000):\n",
    "    norm_lower = np.log(lower_bound)\n",
    "    norm_upper = np.log(upper_bound)\n",
    "    X = stats.truncnorm(\n",
    "        (norm_lower - mu) / sigma, (norm_upper - mu) / sigma, loc=mu, scale=sigma\n",
    "    )\n",
    "    norm_data = X.rvs(size)\n",
    "    log_norm_data = np.exp(norm_data)\n",
    "    return log_norm_data"
   ]
  },
  {
   "cell_type": "code",
   "execution_count": 71,
   "metadata": {},
   "outputs": [],
   "source": [
    "def generate_bilateral_shocks(deposits, law, vol):\n",
    "    # define middle of the list of banks\n",
    "    N_max = len(deposits) - len(deposits) % 2  # can not apply a shock on\n",
    "    # one bank if odd nb\n",
    "    N_half = int(len(deposits) / 2)\n",
    "\n",
    "    # create a permutation of all the deposits amounts\n",
    "    ix = np.arange(len(deposits))  # create an index\n",
    "    ix_p = np.random.permutation(ix)  # permutation of the index\n",
    "    deposits_p = deposits[ix_p]  # define the permuted array of deposits\n",
    "\n",
    "    # apply a negative relative shock on the first half of the banks\n",
    "    if law == \"uniform\":\n",
    "        rho_1 = np.random.uniform(-1, 0, size=N_half)\n",
    "\n",
    "    elif law == \"beta\":\n",
    "        rho_1 = -np.random.beta(1, 1, size=N_half)\n",
    "\n",
    "    elif law == \"log-normal\":\n",
    "        std_control = np.sqrt(np.log(1.0 + vol**2.0))\n",
    "        mu=-0.5 * std_control**2\n",
    "        rho_1 = get_trunc_lognorm(mu=0,\n",
    "            sigma=1,\n",
    "            lower_bound=0,\n",
    "            upper_bound=1,\n",
    "            size=N_half)\n",
    "\n",
    "    else:\n",
    "        assert False, \"\"\n",
    "\n",
    "    # apply a positive relative shock on the second half of the banks\n",
    "    rho_2 = -rho_1 * deposits_p[0:N_half] / deposits_p[N_half:N_max]\n",
    "\n",
    "    # concatenate the relative shocks\n",
    "    if len(deposits) > N_max:\n",
    "        rho = np.concatenate([rho_1, rho_2, [0]])\n",
    "    elif len(deposits) == N_max:\n",
    "        rho = np.concatenate([rho_1, rho_2])\n",
    "    else:\n",
    "        assert False, \"\"\n",
    "\n",
    "    # build an un-permuted array of absolute shocks\n",
    "    shocks = np.zeros(len(deposits))\n",
    "\n",
    "    # compute the absolute shock from the deposit amount\n",
    "    ## TO BE MODIFIED !! ##\n",
    "    shocks[ix_p] = deposits_p * rho - deposits_p\n",
    "\n",
    "    return shocks"
   ]
  },
  {
   "cell_type": "code",
   "execution_count": 72,
   "metadata": {},
   "outputs": [],
   "source": [
    "deposits  = np.ones(10000)"
   ]
  },
  {
   "cell_type": "code",
   "execution_count": 73,
   "metadata": {},
   "outputs": [
    {
     "name": "stderr",
     "output_type": "stream",
     "text": [
      "C:\\Users\\VictorLeCoz\\AppData\\Local\\Temp\\ipykernel_39540\\2744533655.py:2: RuntimeWarning: divide by zero encountered in log\n",
      "  norm_lower = np.log(lower_bound)\n"
     ]
    }
   ],
   "source": [
    "shocks = generate_bilateral_shocks(deposits, \"log-normal\", 1)"
   ]
  },
  {
   "cell_type": "code",
   "execution_count": 74,
   "metadata": {},
   "outputs": [],
   "source": [
    "new_deposits = deposits + shocks"
   ]
  },
  {
   "cell_type": "code",
   "execution_count": 75,
   "metadata": {},
   "outputs": [
    {
     "name": "stderr",
     "output_type": "stream",
     "text": [
      "C:\\Users\\VictorLeCoz\\AppData\\Local\\Temp\\ipykernel_39540\\1551713691.py:1: RuntimeWarning: invalid value encountered in log\n",
      "  log_return = np.log(new_deposits/deposits)\n"
     ]
    }
   ],
   "source": [
    "log_return = np.log(new_deposits/deposits)"
   ]
  },
  {
   "cell_type": "code",
   "execution_count": 76,
   "metadata": {},
   "outputs": [
    {
     "data": {
      "text/plain": [
       "[<matplotlib.lines.Line2D at 0x14594afed30>]"
      ]
     },
     "execution_count": 76,
     "metadata": {},
     "output_type": "execute_result"
    },
    {
     "data": {
      "image/png": "[encoded data removed]",
      "text/plain": [
       "<Figure size 432x288 with 1 Axes>"
      ]
     },
     "metadata": {
      "needs_background": "light"
     },
     "output_type": "display_data"
    }
   ],
   "source": [
    "plt.plot(log_return)"
   ]
  },
  {
   "cell_type": "code",
   "execution_count": 77,
   "metadata": {},
   "outputs": [
    {
     "data": {
      "text/plain": [
       "nan"
      ]
     },
     "execution_count": 77,
     "metadata": {},
     "output_type": "execute_result"
    }
   ],
   "source": [
    "np.mean(log_return)"
   ]
  },
  {
   "cell_type": "code",
   "execution_count": 40,
   "metadata": {},
   "outputs": [],
   "source": [
    "log_data_new = np.concatenate((log_data,log_data_pos))"
   ]
  },
  {
   "cell_type": "code",
   "execution_count": 41,
   "metadata": {},
   "outputs": [
    {
     "name": "stdout",
     "output_type": "stream",
     "text": [
      "1.6468353208969877 4.679844421995993\n"
     ]
    }
   ],
   "source": [
    "print(mean(log_data_new), var(log_data_new))"
   ]
  },
  {
   "cell_type": "code",
   "execution_count": 42,
   "metadata": {},
   "outputs": [
    {
     "data": {
      "text/plain": [
       "1.6487212707001282"
      ]
     },
     "execution_count": 42,
     "metadata": {},
     "output_type": "execute_result"
    }
   ],
   "source": [
    "np.exp(1/2)"
   ]
  },
  {
   "cell_type": "code",
   "execution_count": 43,
   "metadata": {},
   "outputs": [
    {
     "data": {
      "text/plain": [
       "4.670774270471604"
      ]
     },
     "execution_count": 43,
     "metadata": {},
     "output_type": "execute_result"
    }
   ],
   "source": [
    "(np.exp(1)-1)*np.exp(1)"
   ]
  },
  {
   "cell_type": "code",
   "execution_count": 11,
   "metadata": {},
   "outputs": [
    {
     "data": {
      "text/plain": [
       "Text(0.5, 1.0, 'The truncated normal distribution of the intermediate process')"
      ]
     },
     "execution_count": 11,
     "metadata": {},
     "output_type": "execute_result"
    },
    {
     "data": {
      "image/png": "[encoded data removed]",
      "text/plain": [
       "<Figure size 432x288 with 1 Axes>"
      ]
     },
     "metadata": {
      "needs_background": "light"
     },
     "output_type": "display_data"
    }
   ],
   "source": [
    "\n",
    "plt.hist(norm_data, bins=30)\n",
    "plt.xticks(np.arange(mu-5 * sigma, mu + 5 * sigma, 0.5))\n",
    "plt.title(\"The truncated normal distribution of the intermediate process\")\n"
   ]
  },
  {
   "cell_type": "code",
   "execution_count": 12,
   "metadata": {},
   "outputs": [
    {
     "data": {
      "image/png": "[encoded data removed]",
      "text/plain": [
       "<Figure size 432x288 with 1 Axes>"
      ]
     },
     "metadata": {
      "needs_background": "light"
     },
     "output_type": "display_data"
    }
   ],
   "source": [
    "plt.hist(log_data, bins=30)\n",
    "plt.xticks(np.arange(0, 50, 5))\n",
    "# plt.xlim(0,50)\n",
    "plt.title(\"The desired truncated lognormal distribution\")\n",
    "plt.show()"
   ]
  },
  {
   "cell_type": "code",
   "execution_count": 33,
   "metadata": {},
   "outputs": [],
   "source": [
    "def gini(x):\n",
    "    total = 0\n",
    "    for i, xi in enumerate(x[:-1], 1):\n",
    "        total += np.sum(np.abs(xi - x[i:]))\n",
    "    return total / (len(x)**2 * np.mean(x))\n",
    "\n",
    "\n",
    "def gini2(x):\n",
    "    total = 0\n",
    "    for i, xi in enumerate(x):\n",
    "        total += np.sum(np.abs(xi - x[i:]))\n",
    "    return total / (len(x)**2 * np.mean(x))"
   ]
  },
  {
   "cell_type": "code",
   "execution_count": 39,
   "metadata": {},
   "outputs": [
    {
     "data": {
      "text/plain": [
       "0.8"
      ]
     },
     "execution_count": 39,
     "metadata": {},
     "output_type": "execute_result"
    }
   ],
   "source": [
    "gini2(np.array([1,0,0,0,0]))"
   ]
  },
  {
   "cell_type": "code",
   "execution_count": 38,
   "metadata": {},
   "outputs": [
    {
     "data": {
      "text/plain": [
       "0.9736842105263158"
      ]
     },
     "execution_count": 38,
     "metadata": {},
     "output_type": "execute_result"
    }
   ],
   "source": [
    "gini2(np.array([1,0,0,0,0,0,0,0,0,0,0,0,0,0,0,0,0,0,0,0,0,0,0,0,0,0,0,0,0,0,0,0,0,0,0,0,0,0]))"
   ]
  },
  {
   "cell_type": "code",
   "execution_count": 31,
   "metadata": {},
   "outputs": [
    {
     "name": "stdout",
     "output_type": "stream",
     "text": [
      "0 4\n",
      "1 5\n"
     ]
    }
   ],
   "source": [
    "x = np.array([4,5,6])\n",
    "for i, j in enumerate(x[:-1]):\n",
    "    print(i,j)"
   ]
  },
  {
   "cell_type": "code",
   "execution_count": 30,
   "metadata": {},
   "outputs": [
    {
     "name": "stdout",
     "output_type": "stream",
     "text": [
      "<enumerate object at 0x000001E62192AFC0>\n"
     ]
    }
   ],
   "source": [
    "print(enumerate(x[:-1], 1))"
   ]
  },
  {
   "cell_type": "code",
   "execution_count": 28,
   "metadata": {},
   "outputs": [
    {
     "name": "stdout",
     "output_type": "stream",
     "text": [
      "0 1\n",
      "1 2\n"
     ]
    }
   ],
   "source": [
    "for i, j in enumerate(x[:-1]):\n",
    "    print(i,j)"
   ]
  },
  {
   "cell_type": "code",
   "execution_count": 26,
   "metadata": {},
   "outputs": [
    {
     "data": {
      "text/plain": [
       "array([1, 2])"
      ]
     },
     "execution_count": 26,
     "metadata": {},
     "output_type": "execute_result"
    }
   ],
   "source": [
    "x[:-1]"
   ]
  },
  {
   "cell_type": "code",
   "execution_count": 40,
   "metadata": {},
   "outputs": [],
   "source": [
    "import networkx as nx"
   ]
  },
  {
   "cell_type": "code",
   "execution_count": 52,
   "metadata": {},
   "outputs": [
    {
     "data": {
      "text/plain": [
       "array([[0, 1, 0],\n",
       "       [0, 0, 0],\n",
       "       [0, 0, 0]])"
      ]
     },
     "execution_count": 52,
     "metadata": {},
     "output_type": "execute_result"
    }
   ],
   "source": [
    "adj =np.array([[0,1,0],[0,0,0],[0,0,0]])\n",
    "adj"
   ]
  },
  {
   "cell_type": "code",
   "execution_count": 53,
   "metadata": {},
   "outputs": [],
   "source": [
    "G = nx.from_numpy_matrix(\n",
    "            adj,\n",
    "            parallel_edges=False,\n",
    "            create_using=nx.DiGraph,\n",
    "        )"
   ]
  },
  {
   "cell_type": "code",
   "execution_count": 57,
   "metadata": {},
   "outputs": [],
   "source": [
    "degree = G.degree()"
   ]
  },
  {
   "cell_type": "code",
   "execution_count": 58,
   "metadata": {},
   "outputs": [
    {
     "data": {
      "text/plain": [
       "1"
      ]
     },
     "execution_count": 58,
     "metadata": {},
     "output_type": "execute_result"
    }
   ],
   "source": [
    "degree[0]"
   ]
  },
  {
   "cell_type": "code",
   "execution_count": 78,
   "metadata": {},
   "outputs": [
    {
     "data": {
      "text/plain": [
       "array([1, 1, 0])"
      ]
     },
     "execution_count": 78,
     "metadata": {},
     "output_type": "execute_result"
    }
   ],
   "source": [
    "np.array(degree)[:,1]"
   ]
  },
  {
   "cell_type": "code",
   "execution_count": 60,
   "metadata": {},
   "outputs": [],
   "source": [
    "dic ={1:4,2:3}"
   ]
  },
  {
   "cell_type": "code",
   "execution_count": 63,
   "metadata": {},
   "outputs": [
    {
     "data": {
      "text/plain": [
       "[4, 3]"
      ]
     },
     "execution_count": 63,
     "metadata": {},
     "output_type": "execute_result"
    }
   ],
   "source": [
    "list(dic.values())"
   ]
  },
  {
   "cell_type": "code",
   "execution_count": 67,
   "metadata": {},
   "outputs": [],
   "source": [
    "a = np.array(list(dic.values()))"
   ]
  },
  {
   "cell_type": "code",
   "execution_count": 68,
   "metadata": {},
   "outputs": [
    {
     "data": {
      "text/plain": [
       "4"
      ]
     },
     "execution_count": 68,
     "metadata": {},
     "output_type": "execute_result"
    }
   ],
   "source": [
    "a[0]"
   ]
  },
  {
   "cell_type": "code",
   "execution_count": 69,
   "metadata": {},
   "outputs": [
    {
     "data": {
      "text/plain": [
       "array([4, 3])"
      ]
     },
     "execution_count": 69,
     "metadata": {},
     "output_type": "execute_result"
    }
   ],
   "source": [
    "a"
   ]
  },
  {
   "cell_type": "code",
   "execution_count": 79,
   "metadata": {},
   "outputs": [
    {
     "data": {
      "text/plain": [
       "[<matplotlib.lines.Line2D at 0x1e624ef5d00>]"
      ]
     },
     "execution_count": 79,
     "metadata": {},
     "output_type": "execute_result"
    },
    {
     "data": {
      "image/png": "[encoded data removed]",
      "text/plain": [
       "<Figure size 432x288 with 1 Axes>"
      ]
     },
     "metadata": {
      "needs_background": "light"
     },
     "output_type": "display_data"
    }
   ],
   "source": [
    "x = np.array([2,5,6,7])\n",
    "y = np.array([2,5,6,7])\n",
    "plt.plot(x,y,'.')"
   ]
  },
  {
   "cell_type": "code",
   "execution_count": 82,
   "metadata": {},
   "outputs": [
    {
     "data": {
      "text/plain": [
       "<matplotlib.legend.Legend at 0x1e6292bd4f0>"
      ]
     },
     "execution_count": 82,
     "metadata": {},
     "output_type": "execute_result"
    },
    {
     "data": {
      "image/png": "[encoded data removed]",
      "text/plain": [
       "<Figure size 432x288 with 1 Axes>"
      ]
     },
     "metadata": {
      "needs_background": "light"
     },
     "output_type": "display_data"
    }
   ],
   "source": [
    "plt.plot(x, label='dingo')\n",
    "plt.plot(y, label=\"double\")\n",
    "plt.legend()"
   ]
  },
  {
   "cell_type": "code",
   "execution_count": 86,
   "metadata": {},
   "outputs": [],
   "source": [
    "li = ['t','y','u','h']"
   ]
  },
  {
   "cell_type": "code",
   "execution_count": 87,
   "metadata": {},
   "outputs": [
    {
     "data": {
      "text/plain": [
       "'h'"
      ]
     },
     "execution_count": 87,
     "metadata": {},
     "output_type": "execute_result"
    }
   ],
   "source": [
    "li[-1]"
   ]
  },
  {
   "cell_type": "code",
   "execution_count": 88,
   "metadata": {},
   "outputs": [
    {
     "data": {
      "text/plain": [
       "['t', 'y', 'u', 'hy']"
      ]
     },
     "execution_count": 88,
     "metadata": {},
     "output_type": "execute_result"
    }
   ],
   "source": [
    "li[-1] += 'y'\n",
    "li"
   ]
  },
  {
   "cell_type": "code",
   "execution_count": 89,
   "metadata": {},
   "outputs": [
    {
     "data": {
      "text/plain": [
       "[2.0]"
      ]
     },
     "execution_count": 89,
     "metadata": {},
     "output_type": "execute_result"
    }
   ],
   "source": [
    "li = []\n",
    "li.append(0.0)\n",
    "li[-1] += 2\n",
    "li"
   ]
  },
  {
   "cell_type": "code",
   "execution_count": 5,
   "metadata": {},
   "outputs": [
    {
     "data": {
      "image/png": "[encoded data removed]",
      "text/plain": [
       "<Figure size 432x288 with 1 Axes>"
      ]
     },
     "metadata": {
      "needs_background": "light"
     },
     "output_type": "display_data"
    }
   ],
   "source": [
    "\n",
    "import matplotlib.pyplot as plt\n",
    "a = [pow(10, i) for i in range(10)]\n",
    "plt.figure()\n",
    "plt.plot(a, color='blue', lw=2)\n",
    "plt.gca().set_yscale('log')"
   ]
  },
  {
   "cell_type": "code",
   "execution_count": 3,
   "metadata": {},
   "outputs": [],
   "source": [
    "n_banks=150\n",
    "alpha_pareto=3\n",
    "beta_init=0.1\n",
    "beta_reg=0.1\n",
    "beta_star=0.1\n",
    "alpha=0.01\n",
    "gamma=0.03\n",
    "collateral_value=1.0\n",
    "initialization_method=\"pareto\"\n",
    "shock_method=\"dirichlet\"\n",
    "shocks_vol=0.3\n",
    "result_location=\"./results/\"\n",
    "time_steps=5000\n",
    "save_every=2500\n",
    "jaccard_period=20\n",
    "\n",
    "\n",
    "with open('results/param.txt', 'w') as f:\n",
    "    f.write((\n",
    "\"n_banks={} \\n\"\n",
    "\"alpha_pareto={} \\n\"\n",
    "\"beta_init={} \\n\"\n",
    "\"beta_reg={} \\n\"\n",
    "\"beta_star={} \\n\"\n",
    "\"alpha={} \\n\"\n",
    "\"gamma={} \\n\"\n",
    "\"collateral_value={} \\n\"\n",
    "\"initialization_method={} \\n\"\n",
    "\"shock_method={} \\n\"\n",
    "\"shocks_vol={} \\n\"\n",
    "\"result_location={} \\n\"\n",
    "\"time_steps={} \\n\"\n",
    "\"save_every={} \\n\"\n",
    "\"jaccard_period={} \\n\").format(n_banks,\n",
    "alpha_pareto,\n",
    "beta_init,\n",
    "beta_reg,\n",
    "beta_star,\n",
    "alpha,\n",
    "gamma,\n",
    "collateral_value,\n",
    "initialization_method,\n",
    "shock_method,\n",
    "shocks_vol,\n",
    "result_location,\n",
    "time_steps,\n",
    "save_every,\n",
    "jaccard_period))\n"
   ]
  },
  {
   "cell_type": "code",
   "execution_count": null,
   "metadata": {},
   "outputs": [],
   "source": []
  }
 ],
 "metadata": {
  "kernelspec": {
   "display_name": "Python 3.9.5 ('venv': venv)",
   "language": "python",
   "name": "python3"
  },
  "language_info": {
   "codemirror_mode": {
    "name": "ipython",
    "version": 3
   },
   "file_extension": ".py",
   "mimetype": "text/x-python",
   "name": "python",
   "nbconvert_exporter": "python",
   "pygments_lexer": "ipython3",
   "version": "3.9.5"
  },
  "orig_nbformat": 4,
  "vscode": {
   "interpreter": {
    "hash": "079b1fb917025cd1efcb3b76bbd42ea8503c3ca839bb74a5335b7616d8aa92a0"
   }
  }
 },
 "nbformat": 4,
 "nbformat_minor": 2
}
