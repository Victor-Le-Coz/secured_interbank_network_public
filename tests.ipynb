{
 "cells": [
  {
   "cell_type": "markdown",
   "metadata": {},
   "source": [
    "args"
   ]
  },
  {
   "cell_type": "code",
   "execution_count": 76,
   "metadata": {},
   "outputs": [],
   "source": [
    "import networkx"
   ]
  },
  {
   "cell_type": "code",
   "execution_count": 75,
   "metadata": {},
   "outputs": [
    {
     "data": {
      "text/plain": [
       "100"
      ]
     },
     "execution_count": 75,
     "metadata": {},
     "output_type": "execute_result"
    }
   ],
   "source": [
    "len(np.arange(0.0, 0.5, 0.005))"
   ]
  },
  {
   "cell_type": "code",
   "execution_count": 68,
   "metadata": {},
   "outputs": [
    {
     "data": {
      "text/plain": [
       "array([1.00000000e-16, 5.62341325e-16, 3.16227766e-15, 1.77827941e-14,\n",
       "       1.00000000e-13, 5.62341325e-13, 3.16227766e-12, 1.77827941e-11,\n",
       "       1.00000000e-10, 5.62341325e-10, 3.16227766e-09, 1.77827941e-08,\n",
       "       1.00000000e-07, 5.62341325e-07, 3.16227766e-06, 1.77827941e-05,\n",
       "       1.00000000e-04, 5.62341325e-04, 3.16227766e-03, 1.77827941e-02,\n",
       "       1.00000000e-01, 5.62341325e-01, 3.16227766e+00, 1.77827941e+01,\n",
       "       1.00000000e+02])"
      ]
     },
     "execution_count": 68,
     "metadata": {},
     "output_type": "execute_result"
    }
   ],
   "source": [
    "np.logspace(-16, 2, num=25)"
   ]
  },
  {
   "cell_type": "markdown",
   "metadata": {},
   "source": [
    "# Pareto"
   ]
  },
  {
   "cell_type": "code",
   "execution_count": 73,
   "metadata": {},
   "outputs": [
    {
     "data": {
      "text/plain": [
       "array([1.85347817e+02, 1.05033880e+02, 2.34802525e+03, 1.45784683e+02,\n",
       "       1.02944513e+02, 3.62975930e+03, 2.23559980e+03, 3.20404495e+02,\n",
       "       1.54971648e+02, 3.57275985e+02, 1.77522349e+02, 1.05759616e+03,\n",
       "       1.39795634e+02, 4.66450597e+02, 1.98296310e+02, 1.56288506e+03,\n",
       "       6.57307311e+02, 2.25741705e+02, 4.93047286e+02, 1.42690261e+02,\n",
       "       1.33882649e+02, 1.06899677e+02, 6.15640315e+02, 1.82430386e+03,\n",
       "       3.28044409e+02, 1.57550906e+02, 4.20637137e+02, 2.37889031e+03,\n",
       "       1.82537336e+02, 9.17037534e+02, 1.44006804e+03, 1.27250264e+02,\n",
       "       3.92073650e+02, 3.96589127e+04, 6.00403934e+02, 1.97043495e+02,\n",
       "       1.14338720e+03, 4.20060846e+02, 7.55616597e+02, 1.44562022e+02,\n",
       "       2.69618412e+04, 3.27473816e+02, 3.54472153e+03, 1.26604089e+04,\n",
       "       1.18409109e+02, 7.09563436e+02, 7.36947121e+02, 5.00827084e+06,\n",
       "       1.71119223e+02, 1.03585075e+02])"
      ]
     },
     "execution_count": 73,
     "metadata": {},
     "output_type": "execute_result"
    }
   ],
   "source": [
    "from scipy.stats import pareto\n",
    "pareto.rvs(0.5,\n",
    "                        loc=0,\n",
    "                        scale=1,\n",
    "                        size=50,\n",
    "                        random_state=None,\n",
    "                    )*100"
   ]
  },
  {
   "cell_type": "code",
   "execution_count": null,
   "metadata": {},
   "outputs": [],
   "source": []
  },
  {
   "cell_type": "markdown",
   "metadata": {},
   "source": [
    "# building of the shocks with normal law for the relative changes / returns\n",
    "it means the returns are stationary but not deposits process which is a pure random walk log normal"
   ]
  },
  {
   "cell_type": "code",
   "execution_count": 3,
   "metadata": {},
   "outputs": [],
   "source": [
    "from scipy import stats\n",
    "import numpy as np\n",
    "from matplotlib import pyplot as plt"
   ]
  },
  {
   "cell_type": "code",
   "execution_count": null,
   "metadata": {},
   "outputs": [],
   "source": [
    "# define middle of the list of banks\n",
    "deposits = np.random.rand(int(1e5))*500\n",
    "plt.hist(deposits)\n",
    "N_max = len(deposits) - len(deposits) % 2  # can not apply a shock on\n",
    "# one bank if odd nb\n",
    "N_half = int(len(deposits) / 2)"
   ]
  },
  {
   "cell_type": "code",
   "execution_count": null,
   "metadata": {},
   "outputs": [],
   "source": [
    "rho_1 = stats.truncnorm(\n",
    "            (norm_lower - mu) / vol, (norm_upper - mu) / vol, loc=mu, scale=vol\n",
    "        ).rvs(N_half)"
   ]
  },
  {
   "cell_type": "code",
   "execution_count": null,
   "metadata": {},
   "outputs": [],
   "source": [
    "vol = 0.3\n",
    "mu=0\n",
    "norm_lower=-1\n",
    "norm_upper=0\n",
    "\n",
    "rho_1 = stats.truncnorm(\n",
    "        (norm_lower - mu) / vol,\n",
    "        (norm_upper - mu) / vol,\n",
    "        loc=mu,\n",
    "        scale=vol).rvs(N_half)\n",
    "plt.figure(figsize=(15,5))\n",
    "bin = plt.hist(rho_1, bins =200)\n",
    "print(np.mean(rho_1),np.var(rho_1), np.max(rho_1), np.min(rho_1))"
   ]
  },
  {
   "cell_type": "code",
   "execution_count": null,
   "metadata": {},
   "outputs": [],
   "source": [
    "# apply a positive relative shock on the second half of the banks\n",
    "rho_2 = -rho_1 * deposits[0:N_half] / deposits[N_half:N_max]\n",
    "plt.figure(figsize=(15,5))\n",
    "bin = plt.hist(rho_2, bins =200)\n",
    "print(np.mean(rho_2),np.var(rho_2), np.max(rho_2), np.min(rho_2))"
   ]
  },
  {
   "cell_type": "code",
   "execution_count": null,
   "metadata": {},
   "outputs": [],
   "source": [
    "# concatenate the relative shocks\n",
    "if len(deposits) > N_max:\n",
    "    rho = np.concatenate([rho_1, rho_2, [0]])\n",
    "elif len(deposits) == N_max:\n",
    "    rho = np.concatenate([rho_1, rho_2])\n",
    "else:\n",
    "    assert False, \"\"\n",
    "\n",
    "print(np.mean(rho),np.var(rho), np.max(rho), np.min(rho))\n",
    "plt.figure(figsize=(15,5))\n",
    "bin = plt.hist(rho, bins =200)\n"
   ]
  },
  {
   "cell_type": "code",
   "execution_count": null,
   "metadata": {},
   "outputs": [],
   "source": [
    "# compute the absolute shock from the deposit amount\n",
    "shocks = deposits * rho\n",
    "plt.figure(figsize=(15,5))\n",
    "bin = plt.hist(shocks, bins =200)"
   ]
  },
  {
   "cell_type": "markdown",
   "metadata": {},
   "source": [
    "we do obtain something close to a log normal for the distribution of the deposits "
   ]
  },
  {
   "cell_type": "code",
   "execution_count": null,
   "metadata": {},
   "outputs": [],
   "source": [
    "# compute the new deposits\n",
    "new_deposits = deposits + shocks\n",
    "plt.figure(figsize=(15,5))\n",
    "bin = plt.hist(new_deposits, bins =200)"
   ]
  },
  {
   "cell_type": "code",
   "execution_count": null,
   "metadata": {},
   "outputs": [],
   "source": [
    "new_deposits"
   ]
  },
  {
   "cell_type": "markdown",
   "metadata": {},
   "source": [
    "# Comparison of diffusions shocks types\n",
    "the processus for the deposits is non stationary in any case but lux proposes to add a mean reverting component to make it more realistic\n",
    "not implemented yet"
   ]
  },
  {
   "cell_type": "code",
   "execution_count": 81,
   "metadata": {},
   "outputs": [
    {
     "name": "stdout",
     "output_type": "stream",
     "text": [
      "9.916938292829562 0.002624439085201063 10.017107247369722 9.82719444770942\n",
      "2.294230904884009 2.6643906756058824e-05 2.3042943561081737 2.2851534862720846\n",
      "2.3025850929983007 1.2497265581573788e-15 2.302585302245282 2.3025848965022875\n",
      "2.302585095494249 1.3336663146872727e-10 2.3026382206178497 2.3025306595739274\n"
     ]
    },
    {
     "data": {
      "image/png": "[encoded data removed]",
      "text/plain": [
       "<Figure size 1080x360 with 1 Axes>"
      ]
     },
     "metadata": {
      "needs_background": "light"
     },
     "output_type": "display_data"
    }
   ],
   "source": [
    "walk = np.zeros(int(1e6))\n",
    "walk[0] = 10\n",
    "walk_p = np.zeros(int(1e6))\n",
    "walk_p[0] = 10\n",
    "walk_mr = np.zeros(int(1e6))\n",
    "walk_mr[0] = 10\n",
    "\n",
    "for i in range(1,int(1e6)):\n",
    "    # not mean reverting\n",
    "    walk[i] = walk[i-1] + walk[i-1]*np.random.normal(scale=0.00001)\n",
    "\n",
    "    # equivalent to log normal approach\n",
    "    walk_p[i] = walk_p[0]*np.exp(-0.5*(0.00001**2)*np.random.normal(scale=np.sqrt(i)))\n",
    "\n",
    "    # mean reverting\n",
    "    walk_mr[i] = walk_mr[i-1] + 0.5*(10-walk_mr[i-1]) + walk_mr[i-1]*np.random.normal(scale=0.00001)\n",
    "\n",
    "plt.figure(figsize=(15,5))\n",
    "plt.plot(walk,'o-')\n",
    "plt.plot(walk_p,'o-')\n",
    "plt.plot(walk_mr,'o-')\n",
    "\n",
    "print(np.mean(walk),np.var(walk), np.max(walk), np.min(walk))\n",
    "print(np.mean(np.log(walk)),np.var(np.log(walk)), np.max(np.log(walk)), np.min(np.log(walk)))\n",
    "print(np.mean(np.log(walk_p)),np.var(np.log(walk_p)), np.max(np.log(walk_p)), np.min(np.log(walk_p)))\n",
    "print(np.mean(np.log(walk_mr)),np.var(np.log(walk_mr)), np.max(np.log(walk_mr)), np.min(np.log(walk_mr)))\n"
   ]
  },
  {
   "cell_type": "code",
   "execution_count": 82,
   "metadata": {},
   "outputs": [
    {
     "data": {
      "image/png": "[encoded data removed]",
      "text/plain": [
       "<Figure size 432x288 with 1 Axes>"
      ]
     },
     "metadata": {
      "needs_background": "light"
     },
     "output_type": "display_data"
    }
   ],
   "source": [
    "bin  = plt.hist(walk, bins=50)\n"
   ]
  },
  {
   "cell_type": "code",
   "execution_count": 83,
   "metadata": {},
   "outputs": [
    {
     "data": {
      "image/png": "[encoded data removed]",
      "text/plain": [
       "<Figure size 432x288 with 1 Axes>"
      ]
     },
     "metadata": {
      "needs_background": "light"
     },
     "output_type": "display_data"
    }
   ],
   "source": [
    "bin  = plt.hist(walk_p, bins=50)\n"
   ]
  },
  {
   "cell_type": "code",
   "execution_count": 71,
   "metadata": {},
   "outputs": [
    {
     "data": {
      "text/plain": [
       "array([1.00000000e+01, 1.18901736e+01, 8.32428711e+00, ...,\n",
       "       7.11174097e+05, 2.94536566e-16, 7.11797006e+75])"
      ]
     },
     "execution_count": 71,
     "metadata": {},
     "output_type": "execute_result"
    }
   ],
   "source": [
    "walk_p"
   ]
  },
  {
   "cell_type": "code",
   "execution_count": 84,
   "metadata": {},
   "outputs": [
    {
     "data": {
      "image/png": "[encoded data removed]",
      "text/plain": [
       "<Figure size 432x288 with 1 Axes>"
      ]
     },
     "metadata": {
      "needs_background": "light"
     },
     "output_type": "display_data"
    }
   ],
   "source": [
    "bin  = plt.hist(walk_mr, bins=50)"
   ]
  },
  {
   "cell_type": "markdown",
   "metadata": {},
   "source": [
    "# Dummy tests"
   ]
  },
  {
   "cell_type": "code",
   "execution_count": 4,
   "metadata": {},
   "outputs": [],
   "source": [
    "output_keys = [\n",
    "        \"Av. in-degree\",\n",
    "        \"Collateral reuse\",\n",
    "        \"Core-Peri. p_val.\",\n",
    "        \"Gini\",\n",
    "        \"Jaccard index\",\n",
    "        \"Network density\",\n",
    "        \"Repos av. maturity\",\n",
    "        \"Repos tot. volume\",\n",
    "        \"Repos av. volume\",\n",
    "    ]"
   ]
  },
  {
   "cell_type": "code",
   "execution_count": 7,
   "metadata": {},
   "outputs": [
    {
     "ename": "ValueError",
     "evalue": "list.remove(x): x not in list",
     "output_type": "error",
     "traceback": [
      "\u001b[1;31m---------------------------------------------------------------------------\u001b[0m",
      "\u001b[1;31mValueError\u001b[0m                                Traceback (most recent call last)",
      "\u001b[1;32mc:\\Users\\VictorLeCoz\\OneDrive - Quant Decisions S.L\\Documents\\PhD\\secured-inter-bank-network\\tests.ipynb Cell 27\u001b[0m in \u001b[0;36m<cell line: 1>\u001b[1;34m()\u001b[0m\n\u001b[1;32m----> <a href='vscode-notebook-cell:/c%3A/Users/VictorLeCoz/OneDrive%20-%20Quant%20Decisions%20S.L/Documents/PhD/secured-inter-bank-network/tests.ipynb#Y130sZmlsZQ%3D%3D?line=0'>1</a>\u001b[0m output_keys\u001b[39m.\u001b[39;49mremove(\u001b[39m\"\u001b[39;49m\u001b[39mCore-Peri. p_val.\u001b[39;49m\u001b[39m\"\u001b[39;49m)\n",
      "\u001b[1;31mValueError\u001b[0m: list.remove(x): x not in list"
     ]
    }
   ],
   "source": [
    "output_keys.remove(\"Core-Peri. p_val.\")"
   ]
  },
  {
   "cell_type": "code",
   "execution_count": 9,
   "metadata": {},
   "outputs": [],
   "source": [
    "dico = {\"ding\": 0, \"dong\": 4, \"a\": 5}"
   ]
  },
  {
   "cell_type": "code",
   "execution_count": 11,
   "metadata": {},
   "outputs": [
    {
     "data": {
      "text/plain": [
       "['a', 'ding', 'dong']"
      ]
     },
     "execution_count": 11,
     "metadata": {},
     "output_type": "execute_result"
    }
   ],
   "source": [
    "sorted(dico.keys())"
   ]
  },
  {
   "cell_type": "code",
   "execution_count": 61,
   "metadata": {},
   "outputs": [
    {
     "data": {
      "text/plain": [
       "50"
      ]
     },
     "execution_count": 61,
     "metadata": {},
     "output_type": "execute_result"
    }
   ],
   "source": [
    "len(np.arange(0.01, 1, 0.02))"
   ]
  },
  {
   "cell_type": "code",
   "execution_count": 58,
   "metadata": {},
   "outputs": [
    {
     "data": {
      "text/plain": [
       "array([1.00000000e-03, 1.61559810e-03, 2.61015722e-03, 4.21696503e-03,\n",
       "       6.81292069e-03, 1.10069417e-02, 1.77827941e-02, 2.87298483e-02,\n",
       "       4.64158883e-02, 7.49894209e-02, 1.21152766e-01, 1.95734178e-01,\n",
       "       3.16227766e-01, 5.10896977e-01, 8.25404185e-01, 1.33352143e+00,\n",
       "       2.15443469e+00, 3.48070059e+00, 5.62341325e+00, 9.08517576e+00,\n",
       "       1.46779927e+01, 2.37137371e+01, 3.83118685e+01, 6.18965819e+01,\n",
       "       1.00000000e+02])"
      ]
     },
     "execution_count": 58,
     "metadata": {},
     "output_type": "execute_result"
    }
   ],
   "source": [
    "np.logspace(-3, 2, num=25)"
   ]
  },
  {
   "cell_type": "code",
   "execution_count": 2,
   "metadata": {},
   "outputs": [],
   "source": [
    "import function as fct\n",
    "result_location = \"./results/\"\n",
    "    # axes = [\n",
    "    #     \"beta\",\n",
    "    #     \"shocks_vol\",\n",
    "    #     \"n_banks\",\n",
    "    #     \"min_repo_size\",\n",
    "    #     \"alpha_pareto\",\n",
    "    #     \"collateral\",\n",
    "    # ]\n",
    "axes = [\n",
    "        \"beta\",\n",
    "    ]\n",
    "output_keys = [\n",
    "        \"Av. in degree\",\n",
    "        \"Collateral reuse\",\n",
    "        \"Core-Peri. p_val.\",\n",
    "        \"Gini\",\n",
    "        \"Jaccard index\",\n",
    "        \"Network density\",\n",
    "        \"Repos av. maturity\",\n",
    "        \"Repos market size\",\n",
    "        \"Repos av. size\",\n",
    "    ]\n",
    "args = fct.build_args(\n",
    "            axe=axes[0],\n",
    "            n_banks=2,\n",
    "            alpha=0.01,\n",
    "            beta_init=0.5,  # for the initial collateral available\n",
    "            beta_reg=0.5,\n",
    "            beta_star=0.5,\n",
    "            gamma=0.03,\n",
    "            collateral_value=1.0,\n",
    "            initialization_method=\"constant\",\n",
    "            alpha_pareto=1.3,\n",
    "            shocks_method=\"bilateral\",\n",
    "            shocks_law=\"normal\",\n",
    "            shocks_vol=0.05,\n",
    "            result_location=result_location,\n",
    "            min_repo_size=1e-10,\n",
    "            time_steps=2,\n",
    "            save_every=2500,\n",
    "            jaccard_periods=[20],\n",
    "            output_opt=True,\n",
    "            output_keys=output_keys,\n",
    "        )"
   ]
  },
  {
   "cell_type": "code",
   "execution_count": 3,
   "metadata": {},
   "outputs": [
    {
     "data": {
      "text/plain": [
       "(2,\n",
       " 0.01,\n",
       " 0.01,\n",
       " 0.01,\n",
       " 0.01,\n",
       " 0.03,\n",
       " 1.0,\n",
       " 'constant',\n",
       " 1.3,\n",
       " 'bilateral',\n",
       " 'normal',\n",
       " 0.05,\n",
       " './results/beta/0.01/',\n",
       " 1e-10,\n",
       " 2,\n",
       " 2500,\n",
       " [20],\n",
       " True,\n",
       " ['Av. in degree',\n",
       "  'Collateral reuse',\n",
       "  'Core-Peri. p_val.',\n",
       "  'Gini',\n",
       "  'Jaccard index',\n",
       "  'Network density',\n",
       "  'Repos av. maturity',\n",
       "  'Repos market size',\n",
       "  'Repos av. size'])"
      ]
     },
     "execution_count": 3,
     "metadata": {},
     "output_type": "execute_result"
    }
   ],
   "source": [
    "args[0]"
   ]
  },
  {
   "cell_type": "markdown",
   "metadata": {},
   "source": [
    "# Analysis beta init issue"
   ]
  },
  {
   "cell_type": "code",
   "execution_count": 1,
   "metadata": {},
   "outputs": [],
   "source": [
    "import shocks as sh\n",
    "from network import ClassNetwork\n",
    "import numpy as np"
   ]
  },
  {
   "cell_type": "code",
   "execution_count": 2,
   "metadata": {},
   "outputs": [
    {
     "name": "stderr",
     "output_type": "stream",
     "text": [
      "c:\\Users\\VictorLeCoz\\OneDrive - Quant Decisions S.L\\Documents\\PhD\\secured-inter-bank-network\\network.py:569: RuntimeWarning: invalid value encountered in double_scalars\n",
      "  np.sum(weighted_repo_maturity) / total_repo_amount\n",
      "c:\\Users\\VictorLeCoz\\OneDrive - Quant Decisions S.L\\Documents\\PhD\\secured-inter-bank-network\\network.py:727: RuntimeWarning: invalid value encountered in double_scalars\n",
      "  self.single_trajectory[\"Repos av. maturity\"][-1] = np.sum(\n"
     ]
    },
    {
     "data": {
      "text/plain": [
       "[<bank.ClassBank at 0x24241b14640>,\n",
       " <bank.ClassBank at 0x24241b14670>,\n",
       " <bank.ClassBank at 0x24241b14610>]"
      ]
     },
     "execution_count": 2,
     "metadata": {},
     "output_type": "execute_result"
    }
   ],
   "source": [
    "network = ClassNetwork(\n",
    "    n_banks=3,\n",
    "    alpha=0.01,\n",
    "    beta_init=100,\n",
    "    beta_reg=0.1,\n",
    "    beta_star=0.1,\n",
    "    gamma=0.03,\n",
    "    collateral_value=1.0,\n",
    "    initialization_method=\"constant\",\n",
    "    alpha_pareto=1.3,\n",
    "    shocks_method=\"bilateral\",\n",
    "    shocks_law=\"normal\",\n",
    "    shocks_vol=0.01,\n",
    "    result_location=\"./results/test/\",\n",
    "    min_repo_size=1e-10,\n",
    "    )\n",
    "\n",
    "network.banks"
   ]
  },
  {
   "cell_type": "code",
   "execution_count": 7,
   "metadata": {},
   "outputs": [
    {
     "data": {
      "text/plain": [
       "1.99"
      ]
     },
     "execution_count": 7,
     "metadata": {},
     "output_type": "execute_result"
    }
   ],
   "source": [
    "gamma = 0.5\n",
    "1/(1-gamma) - 0.01"
   ]
  },
  {
   "cell_type": "markdown",
   "metadata": {},
   "source": [
    "# Line by line analysis"
   ]
  },
  {
   "cell_type": "code",
   "execution_count": 3,
   "metadata": {},
   "outputs": [
    {
     "name": "stdout",
     "output_type": "stream",
     "text": [
      "Bank 0\n",
      "        ----------------------------------------\n",
      "        Total Assets: 103.09\n",
      "        ----Cash: 1.0\n",
      "        ----Securities Usable: 9999.0\n",
      "        ----Securities Encumbered: 0.0\n",
      "        ----Reverse Repos: 0.0\n",
      "        ----Loans: -9896.91\n",
      "        ----------------------------------------\n",
      "        Total Liabilities: 103.09\n",
      "        ----Own Funds: 3.09\n",
      "        ----Deposits: 100.0\n",
      "        ----Repos: 0.0\n",
      "        ----MROs: 0.0\n",
      "        ----------------------------------------\n",
      "        Off-balance sheet Items:\n",
      "        ----Collateral received: 0.0\n",
      "        ----Collateral Reuse: 0.0\n",
      "        ----------------------------------------\n",
      "        Regulatory:\n",
      "        ----Liquidity Coverage Ratio: 100000.0%\n",
      "        ----Cash / Deposits (for minimal reserves): 1.0%\n",
      "        ----Leverage / Solvency ratio: 3.0%\n",
      "        \n"
     ]
    }
   ],
   "source": [
    "network.reset_network()\n",
    "print(network.banks[0])"
   ]
  },
  {
   "cell_type": "code",
   "execution_count": 26,
   "metadata": {},
   "outputs": [
    {
     "data": {
      "text/plain": [
       "{'0': 0.0, '1': 0.0}"
      ]
     },
     "execution_count": 26,
     "metadata": {},
     "output_type": "execute_result"
    }
   ],
   "source": [
    "network.banks[0].banks[\"1\"].reverse_repos"
   ]
  },
  {
   "cell_type": "code",
   "execution_count": 29,
   "metadata": {},
   "outputs": [
    {
     "name": "stdout",
     "output_type": "stream",
     "text": [
      "{'0': 0.0, '1': 0.0}\n"
     ]
    }
   ],
   "source": [
    "for bank in network.banks[0].banks.values():\n",
    "    print(bank.reverse_repos)\n"
   ]
  },
  {
   "cell_type": "markdown",
   "metadata": {},
   "source": [
    "## step_network()"
   ]
  },
  {
   "cell_type": "code",
   "execution_count": 46,
   "metadata": {},
   "outputs": [
    {
     "name": "stdout",
     "output_type": "stream",
     "text": [
      "1.403235798885991\n",
      "-1.403235798885991\n"
     ]
    }
   ],
   "source": [
    "# Generation of the shocks\n",
    "shocks = sh.generate_bilateral_shocks(\n",
    "        network.network_deposits, law=network.shocks_law, vol=network.shocks_vol)\n",
    "\n",
    "# For loops over the instances of ClassBank in the ClassNetwork.\n",
    "ix = np.arange(network.n_banks)  # Defines an index of the banks\n",
    "for i in ix:\n",
    "    network.banks[i].set_shock(shocks[i])\n",
    "    print(shocks[i])\n",
    "\n",
    "\n"
   ]
  },
  {
   "cell_type": "code",
   "execution_count": 48,
   "metadata": {},
   "outputs": [
    {
     "name": "stdout",
     "output_type": "stream",
     "text": [
      "-1.403235798885991\n",
      "Bank 1\n",
      "        ----------------------------------------\n",
      "        Total Assets: 101.69\n",
      "        ----Cash: -0.4\n",
      "        ----Securities Usable: 0.0\n",
      "        ----Securities Encumbered: 0.0\n",
      "        ----Reverse Repos: 0.0\n",
      "        ----Loans: 102.09\n",
      "        ----------------------------------------\n",
      "        Total Liabilities: 101.69\n",
      "        ----Own Funds: 3.09\n",
      "        ----Deposits: 98.6\n",
      "        ----Repos: 0.0\n",
      "        ----MROs: 0.0\n",
      "        ----------------------------------------\n",
      "        Off-balance sheet Items:\n",
      "        ----Collateral received: 0.0\n",
      "        ----Collateral Reuse: 0.0\n",
      "        ----------------------------------------\n",
      "        Regulatory:\n",
      "        ----Liquidity Coverage Ratio: -4.09%\n",
      "        ----Cash / Deposits (for minimal reserves): -0.41%\n",
      "        ----Leverage / Solvency ratio: 3.04%\n",
      "        \n"
     ]
    }
   ],
   "source": [
    "print(network.banks[1].shock)\n",
    "print(network.banks[1])\n"
   ]
  },
  {
   "cell_type": "code",
   "execution_count": 49,
   "metadata": {},
   "outputs": [
    {
     "name": "stdout",
     "output_type": "stream",
     "text": [
      "-1.403235798885991\n",
      "Bank 1\n",
      "        ----------------------------------------\n",
      "        Total Assets: 111.95\n",
      "        ----Cash: 9.86\n",
      "        ----Securities Usable: 0.0\n",
      "        ----Securities Encumbered: 0.0\n",
      "        ----Reverse Repos: 0.0\n",
      "        ----Loans: 102.09\n",
      "        ----------------------------------------\n",
      "        Total Liabilities: 111.95\n",
      "        ----Own Funds: 3.09\n",
      "        ----Deposits: 98.6\n",
      "        ----Repos: 0.0\n",
      "        ----MROs: 10.26\n",
      "        ----------------------------------------\n",
      "        Off-balance sheet Items:\n",
      "        ----Collateral received: 0.0\n",
      "        ----Collateral Reuse: 0.0\n",
      "        ----------------------------------------\n",
      "        Regulatory:\n",
      "        ----Liquidity Coverage Ratio: 100.0%\n",
      "        ----Cash / Deposits (for minimal reserves): 10.0%\n",
      "        ----Leverage / Solvency ratio: 2.76%\n",
      "        \n"
     ]
    }
   ],
   "source": [
    "for i in ix:\n",
    "    network.banks[i].step_lcr_mgt()\n",
    "\n",
    "print(network.banks[1].shock)\n",
    "print(network.banks[1])"
   ]
  },
  {
   "cell_type": "code",
   "execution_count": 50,
   "metadata": {},
   "outputs": [
    {
     "name": "stdout",
     "output_type": "stream",
     "text": [
      "-1.403235798885991\n",
      "Bank 0\n",
      "        ----------------------------------------\n",
      "        Total Assets: 112.23\n",
      "        ----Cash: 10.14\n",
      "        ----Securities Usable: 0.0\n",
      "        ----Securities Encumbered: 0.0\n",
      "        ----Reverse Repos: 0.0\n",
      "        ----Loans: 102.09\n",
      "        ----------------------------------------\n",
      "        Total Liabilities: 112.23\n",
      "        ----Own Funds: 3.09\n",
      "        ----Deposits: 101.4\n",
      "        ----Repos: 0.0\n",
      "        ----MROs: 7.74\n",
      "        ----------------------------------------\n",
      "        Off-balance sheet Items:\n",
      "        ----Collateral received: 0.0\n",
      "        ----Collateral Reuse: 0.0\n",
      "        ----------------------------------------\n",
      "        Regulatory:\n",
      "        ----Liquidity Coverage Ratio: 100.0%\n",
      "        ----Cash / Deposits (for minimal reserves): 10.0%\n",
      "        ----Leverage / Solvency ratio: 2.76%\n",
      "        \n"
     ]
    }
   ],
   "source": [
    "\n",
    "print(shocks[i])\n",
    "\n",
    "\n",
    "ix = np.random.permutation(ix)  # Permutation of the\n",
    "# banks' indexes to decide in which order banks can close their repos.\n",
    "for i in ix:\n",
    "    network.banks[i].step_end_repos()  # Run the step end repos for the bank network\n",
    "\n",
    "print(network.banks[0])"
   ]
  },
  {
   "cell_type": "code",
   "execution_count": 18,
   "metadata": {},
   "outputs": [
    {
     "name": "stdout",
     "output_type": "stream",
     "text": [
      "Bank 0\n",
      "        ----------------------------------------\n",
      "        Total Assets: 102.39\n",
      "        ----Cash: -39.07\n",
      "        ----Securities Usable: 49.0\n",
      "        ----Securities Encumbered: 0.0\n",
      "        ----Reverse Repos: 0.0\n",
      "        ----Loans: 92.46\n",
      "        ----------------------------------------\n",
      "        Total Liabilities: 102.39\n",
      "        ----Own Funds: 3.09\n",
      "        ----Deposits: 99.3\n",
      "        ----Repos: 0.0\n",
      "        ----MROs: 0.0\n",
      "        ----------------------------------------\n",
      "        Off-balance sheet Items:\n",
      "        ----Collateral received: 0.0\n",
      "        ----Collateral Reuse: 0.0\n",
      "        ----------------------------------------\n",
      "        Regulatory:\n",
      "        ----Liquidity Coverage Ratio: 100.0%\n",
      "        ----Cash / Deposits (for minimal reserves): -39.35%\n",
      "        ----Leverage / Solvency ratio: 3.02%\n",
      "        \n"
     ]
    },
    {
     "name": "stderr",
     "output_type": "stream",
     "text": [
      "<>:11: SyntaxWarning: assertion is always true, perhaps remove parentheses?\n",
      "<>:11: SyntaxWarning: assertion is always true, perhaps remove parentheses?\n",
      "C:\\Users\\VictorLeCoz\\AppData\\Local\\Temp\\ipykernel_12956\\1964417710.py:11: SyntaxWarning: assertion is always true, perhaps remove parentheses?\n",
      "  assert (\n"
     ]
    },
    {
     "ename": "AssertionError",
     "evalue": "repo request unsatified for bank 1, for the amount 39.93675462813507",
     "output_type": "error",
     "traceback": [
      "\u001b[1;31m---------------------------------------------------------------------------\u001b[0m",
      "\u001b[1;31mAssertionError\u001b[0m                            Traceback (most recent call last)",
      "\u001b[1;32mc:\\Users\\VictorLeCoz\\OneDrive - Quant Decisions S.L\\Documents\\PhD\\secured-inter-bank-network\\tests.ipynb Cell 24\u001b[0m in \u001b[0;36m<cell line: 39>\u001b[1;34m()\u001b[0m\n\u001b[0;32m     <a href='vscode-notebook-cell:/c%3A/Users/VictorLeCoz/OneDrive%20-%20Quant%20Decisions%20S.L/Documents/PhD/secured-inter-bank-network/tests.ipynb#X41sZmlsZQ%3D%3D?line=37'>38</a>\u001b[0m \u001b[39m# banks' indexes to decide in which order banks can enter into repos\u001b[39;00m\n\u001b[0;32m     <a href='vscode-notebook-cell:/c%3A/Users/VictorLeCoz/OneDrive%20-%20Quant%20Decisions%20S.L/Documents/PhD/secured-inter-bank-network/tests.ipynb#X41sZmlsZQ%3D%3D?line=38'>39</a>\u001b[0m \u001b[39mfor\u001b[39;00m i \u001b[39min\u001b[39;00m ix:\n\u001b[1;32m---> <a href='vscode-notebook-cell:/c%3A/Users/VictorLeCoz/OneDrive%20-%20Quant%20Decisions%20S.L/Documents/PhD/secured-inter-bank-network/tests.ipynb#X41sZmlsZQ%3D%3D?line=39'>40</a>\u001b[0m     network\u001b[39m.\u001b[39;49mbanks[i]\u001b[39m.\u001b[39;49mstep_enter_repos()\n\u001b[0;32m     <a href='vscode-notebook-cell:/c%3A/Users/VictorLeCoz/OneDrive%20-%20Quant%20Decisions%20S.L/Documents/PhD/secured-inter-bank-network/tests.ipynb#X41sZmlsZQ%3D%3D?line=40'>41</a>\u001b[0m \u001b[39mfor\u001b[39;00m i \u001b[39min\u001b[39;00m ix:\n\u001b[0;32m     <a href='vscode-notebook-cell:/c%3A/Users/VictorLeCoz/OneDrive%20-%20Quant%20Decisions%20S.L/Documents/PhD/secured-inter-bank-network/tests.ipynb#X41sZmlsZQ%3D%3D?line=41'>42</a>\u001b[0m     network\u001b[39m.\u001b[39mbanks[i]\u001b[39m.\u001b[39massert_minimum_reserves()\n",
      "File \u001b[1;32mc:\\Users\\VictorLeCoz\\OneDrive - Quant Decisions S.L\\Documents\\PhD\\secured-inter-bank-network\\bank.py:765\u001b[0m, in \u001b[0;36mClassBank.step_enter_repos\u001b[1;34m(self)\u001b[0m\n\u001b[0;32m    762\u001b[0m     \u001b[39mfor\u001b[39;00m b \u001b[39min\u001b[39;00m \u001b[39mself\u001b[39m\u001b[39m.\u001b[39mbanks\u001b[39m.\u001b[39mkeys():\n\u001b[0;32m    763\u001b[0m         \u001b[39mprint\u001b[39m(\u001b[39mself\u001b[39m\u001b[39m.\u001b[39mbanks[\u001b[39mstr\u001b[39m(b)])\n\u001b[1;32m--> 765\u001b[0m \u001b[39massert\u001b[39;00m (\n\u001b[0;32m    766\u001b[0m     repo_ask \u001b[39m<\u001b[39m\u001b[39m=\u001b[39m float_limit\n\u001b[0;32m    767\u001b[0m ), \u001b[39m\"\u001b[39m\u001b[39mrepo request unsatified for bank \u001b[39m\u001b[39m{}\u001b[39;00m\u001b[39m,\u001b[39m\u001b[39m\"\u001b[39m \u001b[39m\"\u001b[39m\u001b[39m for the amount \u001b[39m\u001b[39m{}\u001b[39;00m\u001b[39m\"\u001b[39m\u001b[39m.\u001b[39mformat(\n\u001b[0;32m    768\u001b[0m     \u001b[39mself\u001b[39m\u001b[39m.\u001b[39mid, repo_ask\n\u001b[0;32m    769\u001b[0m )\n",
      "\u001b[1;31mAssertionError\u001b[0m: repo request unsatified for bank 1, for the amount 39.93675462813507"
     ]
    }
   ],
   "source": [
    "\n",
    "\n",
    "ix = np.random.permutation(ix)  # New permutation of the\n",
    "# banks' indexes to decide in which order banks can enter into repos\n",
    "for i in ix:\n",
    "    network.banks[i].step_enter_repos()\n",
    "for i in ix:\n",
    "    network.banks[i].assert_minimum_reserves()\n",
    "    network.banks[i].assert_alm()\n",
    "    network.banks[i].assert_lcr()\n",
    "    # network.banks[i].assert_leverage()\n",
    "    network.banks[i].steps += 1"
   ]
  },
  {
   "cell_type": "code",
   "execution_count": 74,
   "metadata": {},
   "outputs": [
    {
     "data": {
      "text/plain": [
       "4.75"
      ]
     },
     "execution_count": 74,
     "metadata": {},
     "output_type": "execute_result"
    }
   ],
   "source": [
    "0.95*5"
   ]
  },
  {
   "cell_type": "code",
   "execution_count": 80,
   "metadata": {},
   "outputs": [
    {
     "ename": "TypeError",
     "evalue": "'>' not supported between instances of 'list' and 'float'",
     "output_type": "error",
     "traceback": [
      "\u001b[1;31m---------------------------------------------------------------------------\u001b[0m",
      "\u001b[1;31mTypeError\u001b[0m                                 Traceback (most recent call last)",
      "\u001b[1;32mc:\\Users\\VictorLeCoz\\OneDrive - Quant Decisions S.L\\Documents\\PhD\\secured-inter-bank-network\\tests.ipynb Cell 38\u001b[0m in \u001b[0;36m<cell line: 2>\u001b[1;34m()\u001b[0m\n\u001b[0;32m      <a href='vscode-notebook-cell:/c%3A/Users/VictorLeCoz/OneDrive%20-%20Quant%20Decisions%20S.L/Documents/PhD/secured-inter-bank-network/tests.ipynb#X66sZmlsZQ%3D%3D?line=0'>1</a>\u001b[0m weights \u001b[39m=\u001b[39m [\u001b[39m0.1\u001b[39m, \u001b[39m10\u001b[39m]\n\u001b[1;32m----> <a href='vscode-notebook-cell:/c%3A/Users/VictorLeCoz/OneDrive%20-%20Quant%20Decisions%20S.L/Documents/PhD/secured-inter-bank-network/tests.ipynb#X66sZmlsZQ%3D%3D?line=1'>2</a>\u001b[0m weights[weights[:]\u001b[39m>\u001b[39;49m\u001b[39m1.0\u001b[39;49m] \u001b[39m=\u001b[39m np\u001b[39m.\u001b[39mlog(weights)\n",
      "\u001b[1;31mTypeError\u001b[0m: '>' not supported between instances of 'list' and 'float'"
     ]
    }
   ],
   "source": [
    "weights = [0.1, 10]\n",
    "weights[weights>1.0] = np.log(weights)"
   ]
  },
  {
   "cell_type": "code",
   "execution_count": 81,
   "metadata": {},
   "outputs": [
    {
     "name": "stdout",
     "output_type": "stream",
     "text": [
      "True\n"
     ]
    }
   ],
   "source": [
    "bool_test = False\n",
    "if not(bool_test):\n",
    "    print(not(bool_test))"
   ]
  },
  {
   "cell_type": "markdown",
   "metadata": {},
   "source": [
    "# multiprocessing"
   ]
  },
  {
   "cell_type": "code",
   "execution_count": 86,
   "metadata": {},
   "outputs": [
    {
     "data": {
      "text/plain": [
       "8"
      ]
     },
     "execution_count": 86,
     "metadata": {},
     "output_type": "execute_result"
    }
   ],
   "source": [
    "import os\n",
    "os.cpu_count()"
   ]
  },
  {
   "cell_type": "code",
   "execution_count": 84,
   "metadata": {},
   "outputs": [],
   "source": [
    "import threading"
   ]
  },
  {
   "cell_type": "code",
   "execution_count": 90,
   "metadata": {},
   "outputs": [
    {
     "data": {
      "text/plain": [
       "6"
      ]
     },
     "execution_count": 90,
     "metadata": {},
     "output_type": "execute_result"
    }
   ],
   "source": [
    "threading.active_count()"
   ]
  },
  {
   "cell_type": "code",
   "execution_count": 91,
   "metadata": {},
   "outputs": [
    {
     "data": {
      "text/plain": [
       "[<_MainThread(MainThread, started 25424)>,\n",
       " <Thread(IOPub, started daemon 29660)>,\n",
       " <Heartbeat(Heartbeat, started daemon 24284)>,\n",
       " <ControlThread(Control, started daemon 4292)>,\n",
       " <HistorySavingThread(IPythonHistorySavingThread, started 12112)>,\n",
       " <ParentPollerWindows(Thread-2, started daemon 1184)>]"
      ]
     },
     "execution_count": 91,
     "metadata": {},
     "output_type": "execute_result"
    }
   ],
   "source": [
    "threading.enumerate()"
   ]
  },
  {
   "cell_type": "code",
   "execution_count": 104,
   "metadata": {},
   "outputs": [
    {
     "data": {
      "text/plain": [
       "4"
      ]
     },
     "execution_count": 104,
     "metadata": {},
     "output_type": "execute_result"
    }
   ],
   "source": [
    "import multiprocessing as mp\n",
    "int(mp.cpu_count()/2)"
   ]
  },
  {
   "cell_type": "code",
   "execution_count": 89,
   "metadata": {},
   "outputs": [
    {
     "ename": "AttributeError",
     "evalue": "module 'os' has no attribute 'sched_getaffinity'",
     "output_type": "error",
     "traceback": [
      "\u001b[1;31m---------------------------------------------------------------------------\u001b[0m",
      "\u001b[1;31mAttributeError\u001b[0m                            Traceback (most recent call last)",
      "\u001b[1;32mc:\\Users\\VictorLeCoz\\OneDrive - Quant Decisions S.L\\Documents\\PhD\\secured-inter-bank-network\\tests.ipynb Cell 45\u001b[0m in \u001b[0;36m<cell line: 1>\u001b[1;34m()\u001b[0m\n\u001b[1;32m----> <a href='vscode-notebook-cell:/c%3A/Users/VictorLeCoz/OneDrive%20-%20Quant%20Decisions%20S.L/Documents/PhD/secured-inter-bank-network/tests.ipynb#Y111sZmlsZQ%3D%3D?line=0'>1</a>\u001b[0m os\u001b[39m.\u001b[39;49msched_getaffinity(\u001b[39m0\u001b[39m)\n",
      "\u001b[1;31mAttributeError\u001b[0m: module 'os' has no attribute 'sched_getaffinity'"
     ]
    }
   ],
   "source": [
    "os.sched_getaffinity(0)"
   ]
  },
  {
   "cell_type": "code",
   "execution_count": 101,
   "metadata": {},
   "outputs": [
    {
     "ename": "AttributeError",
     "evalue": "'function' object has no attribute 'close'",
     "output_type": "error",
     "traceback": [
      "\u001b[1;31m---------------------------------------------------------------------------\u001b[0m",
      "\u001b[1;31mAttributeError\u001b[0m                            Traceback (most recent call last)",
      "\u001b[1;32mc:\\Users\\VictorLeCoz\\OneDrive - Quant Decisions S.L\\Documents\\PhD\\secured-inter-bank-network\\tests.ipynb Cell 47\u001b[0m in \u001b[0;36m<cell line: 1>\u001b[1;34m()\u001b[0m\n\u001b[1;32m----> <a href='vscode-notebook-cell:/c%3A/Users/VictorLeCoz/OneDrive%20-%20Quant%20Decisions%20S.L/Documents/PhD/secured-inter-bank-network/tests.ipynb#Y114sZmlsZQ%3D%3D?line=0'>1</a>\u001b[0m mp\u001b[39m.\u001b[39;49mPool\u001b[39m.\u001b[39;49mclose()\n",
      "\u001b[1;31mAttributeError\u001b[0m: 'function' object has no attribute 'close'"
     ]
    }
   ],
   "source": [
    "mp.Pool.close()"
   ]
  },
  {
   "cell_type": "code",
   "execution_count": 105,
   "metadata": {},
   "outputs": [
    {
     "ename": "AttributeError",
     "evalue": "module 'multiprocessing.pool' has no attribute 'close'",
     "output_type": "error",
     "traceback": [
      "\u001b[1;31m---------------------------------------------------------------------------\u001b[0m",
      "\u001b[1;31mAttributeError\u001b[0m                            Traceback (most recent call last)",
      "\u001b[1;32mc:\\Users\\VictorLeCoz\\OneDrive - Quant Decisions S.L\\Documents\\PhD\\secured-inter-bank-network\\tests.ipynb Cell 48\u001b[0m in \u001b[0;36m<cell line: 2>\u001b[1;34m()\u001b[0m\n\u001b[0;32m      <a href='vscode-notebook-cell:/c%3A/Users/VictorLeCoz/OneDrive%20-%20Quant%20Decisions%20S.L/Documents/PhD/secured-inter-bank-network/tests.ipynb#Y115sZmlsZQ%3D%3D?line=0'>1</a>\u001b[0m \u001b[39mimport\u001b[39;00m \u001b[39mmultiprocessing\u001b[39;00m \u001b[39mas\u001b[39;00m \u001b[39mmp\u001b[39;00m\n\u001b[1;32m----> <a href='vscode-notebook-cell:/c%3A/Users/VictorLeCoz/OneDrive%20-%20Quant%20Decisions%20S.L/Documents/PhD/secured-inter-bank-network/tests.ipynb#Y115sZmlsZQ%3D%3D?line=1'>2</a>\u001b[0m mp\u001b[39m.\u001b[39;49mpool\u001b[39m.\u001b[39;49mclose()\n",
      "\u001b[1;31mAttributeError\u001b[0m: module 'multiprocessing.pool' has no attribute 'close'"
     ]
    },
    {
     "ename": "",
     "evalue": "",
     "output_type": "error",
     "traceback": [
      "\u001b[1;31mThe Kernel crashed while executing code in the the current cell or a previous cell. Please review the code in the cell(s) to identify a possible cause of the failure. Click <a href='https://aka.ms/vscodeJupyterKernelCrash'>here</a> for more info. View Jupyter <a href='command:jupyter.viewOutput'>log</a> for further details."
     ]
    }
   ],
   "source": [
    "import multiprocessing as mp\n",
    "mp.pool.close()"
   ]
  },
  {
   "cell_type": "code",
   "execution_count": 1,
   "metadata": {},
   "outputs": [],
   "source": [
    "test = 0"
   ]
  },
  {
   "cell_type": "code",
   "execution_count": 2,
   "metadata": {},
   "outputs": [
    {
     "data": {
      "text/plain": [
       "'DESKTOP-45I2ALE'"
      ]
     },
     "execution_count": 2,
     "metadata": {},
     "output_type": "execute_result"
    }
   ],
   "source": [
    "import socket\n",
    "socket.gethostname()"
   ]
  },
  {
   "cell_type": "code",
   "execution_count": 44,
   "metadata": {},
   "outputs": [
    {
     "data": {
      "image/png": "[encoded data removed]",
      "text/plain": [
       "<Figure size 288x216 with 1 Axes>"
      ]
     },
     "metadata": {
      "needs_background": "light"
     },
     "output_type": "display_data"
    }
   ],
   "source": [
    "from matplotlib import pyplot as plt\n",
    "\n",
    "fig = plt.figure(figsize=(4,3))\n",
    "plt.ylabel(\"Repo av. maturity\")\n",
    "plt.plot(range(10))\n",
    "plt.title(\"Repo av. maturity as a fct. of min_repo_size fewfew fewfewfewfew\")\n",
    "# plt.gca().set_title(\"Repo av. maturity as a fct. of min_tr_size\", x=0)\n",
    "fig.tight_layout()\n",
    "plt.savefig(\"./results/dingo_test.pdf\", bbox_inches='tight')\n",
    "\n"
   ]
  },
  {
   "cell_type": "code",
   "execution_count": 45,
   "metadata": {},
   "outputs": [],
   "source": [
    "a=[-3,-5]"
   ]
  },
  {
   "cell_type": "code",
   "execution_count": 48,
   "metadata": {},
   "outputs": [
    {
     "data": {
      "text/plain": [
       "array([3, 5])"
      ]
     },
     "execution_count": 48,
     "metadata": {},
     "output_type": "execute_result"
    }
   ],
   "source": [
    "import numpy as np\n",
    "np.abs(a)"
   ]
  },
  {
   "cell_type": "code",
   "execution_count": 50,
   "metadata": {},
   "outputs": [
    {
     "name": "stderr",
     "output_type": "stream",
     "text": [
      "C:\\Users\\VictorLeCoz\\AppData\\Local\\Temp\\ipykernel_10216\\2933082444.py:1: RuntimeWarning: divide by zero encountered in log\n",
      "  np.log(0)\n"
     ]
    },
    {
     "data": {
      "text/plain": [
       "-inf"
      ]
     },
     "execution_count": 50,
     "metadata": {},
     "output_type": "execute_result"
    }
   ],
   "source": [
    "np.log(0)"
   ]
  },
  {
   "cell_type": "code",
   "execution_count": 51,
   "metadata": {},
   "outputs": [
    {
     "data": {
      "text/plain": [
       "0.5877866649021191"
      ]
     },
     "execution_count": 51,
     "metadata": {},
     "output_type": "execute_result"
    }
   ],
   "source": [
    "np.log(1.8)"
   ]
  },
  {
   "cell_type": "code",
   "execution_count": null,
   "metadata": {},
   "outputs": [],
   "source": []
  },
  {
   "cell_type": "markdown",
   "metadata": {},
   "source": [
    "# non conservative shocks"
   ]
  },
  {
   "cell_type": "code",
   "execution_count": 1,
   "metadata": {},
   "outputs": [],
   "source": [
    "import numpy as np"
   ]
  },
  {
   "cell_type": "code",
   "execution_count": 134,
   "metadata": {},
   "outputs": [],
   "source": [
    "def generate_non_conservative_shocks(deposits, initial_deposits, total_assets, law, vol):\n",
    "    if law == \"log-normal\":\n",
    "        std_control = np.sqrt(np.log(1.0 + vol**2.0))\n",
    "        new_deposits = (\n",
    "            np.random.lognormal(\n",
    "                mean=-0.5 * std_control**2,\n",
    "                sigma=std_control,\n",
    "                size=len(deposits),\n",
    "            )\n",
    "            * deposits\n",
    "        )\n",
    "        shocks = new_deposits - deposits\n",
    "    elif law == \"normal\":\n",
    "        new_deposits = np.maximum(deposits + np.random.randn(len(deposits)) * vol, 0.0)\n",
    "        shocks = new_deposits - deposits\n",
    "\n",
    "    elif law == \"normal-mean-reverting\":\n",
    "        mean_reversion = 1\n",
    "        epsilon = np.random.normal(loc=0,scale=vol,size=len(deposits))\n",
    "        shocks = mean_reversion * (initial_deposits-deposits) + epsilon*total_assets\n",
    "    else:\n",
    "        assert False, \"\"\n",
    "    \n",
    "    shocks = shocks -np.mean(shocks)\n",
    "    return shocks"
   ]
  },
  {
   "cell_type": "code",
   "execution_count": 142,
   "metadata": {},
   "outputs": [],
   "source": [
    "deposits = np.random.rand(int(50))*100\n",
    "initial_deposits = np.random.rand(int(50))*100\n",
    "total_assets = deposits\n",
    "law = \"normal-mean-reverting\"\n",
    "vol = 0.05\n",
    "shocks = generate_non_conservative_shocks(deposits, initial_deposits, total_assets, law, vol)\n"
   ]
  },
  {
   "cell_type": "code",
   "execution_count": 143,
   "metadata": {},
   "outputs": [
    {
     "data": {
      "text/plain": [
       "(array([ 3.,  2.,  4., 11., 10.,  6.,  9.,  2.,  1.,  2.]),\n",
       " array([-83.38561204, -65.3350935 , -47.28457497, -29.23405643,\n",
       "        -11.1835379 ,   6.86698064,  24.91749917,  42.96801771,\n",
       "         61.01853625,  79.06905478,  97.11957332]),\n",
       " <BarContainer object of 10 artists>)"
      ]
     },
     "execution_count": 143,
     "metadata": {},
     "output_type": "execute_result"
    },
    {
     "data": {
      "image/png": "[encoded data removed]",
      "text/plain": [
       "<Figure size 432x288 with 1 Axes>"
      ]
     },
     "metadata": {
      "needs_background": "light"
     },
     "output_type": "display_data"
    }
   ],
   "source": [
    "plt.hist(shocks)"
   ]
  },
  {
   "cell_type": "code",
   "execution_count": 144,
   "metadata": {},
   "outputs": [
    {
     "data": {
      "text/plain": [
       "0.0"
      ]
     },
     "execution_count": 144,
     "metadata": {},
     "output_type": "execute_result"
    },
    {
     "data": {
      "image/png": "[encoded data removed]",
      "text/plain": [
       "<Figure size 432x288 with 1 Axes>"
      ]
     },
     "metadata": {
      "needs_background": "light"
     },
     "output_type": "display_data"
    }
   ],
   "source": [
    "new_deposits = (deposits + shocks).clip(min=0)\n",
    "bin = plt.hist(new_deposits)\n",
    "np.sum(new_deposits)-np.sum(deposits)"
   ]
  },
  {
   "cell_type": "code",
   "execution_count": 147,
   "metadata": {},
   "outputs": [
    {
     "data": {
      "text/plain": [
       "0.72"
      ]
     },
     "execution_count": 147,
     "metadata": {},
     "output_type": "execute_result"
    }
   ],
   "source": [
    "0.3/0.5*1.2"
   ]
  },
  {
   "cell_type": "code",
   "execution_count": 153,
   "metadata": {},
   "outputs": [
    {
     "data": {
      "text/plain": [
       "0.8414634146341463"
      ]
     },
     "execution_count": 153,
     "metadata": {},
     "output_type": "execute_result"
    }
   ],
   "source": [
    "0.3*1.15/0.41"
   ]
  },
  {
   "cell_type": "code",
   "execution_count": 157,
   "metadata": {},
   "outputs": [
    {
     "name": "stderr",
     "output_type": "stream",
     "text": [
      "C:\\Users\\VictorLeCoz\\AppData\\Local\\Temp\\ipykernel_26096\\2806578281.py:1: RuntimeWarning: divide by zero encountered in log\n",
      "  plt.plot(np.log(np.arange(100)),np.log(1/np.arange(100)))\n",
      "C:\\Users\\VictorLeCoz\\AppData\\Local\\Temp\\ipykernel_26096\\2806578281.py:1: RuntimeWarning: divide by zero encountered in true_divide\n",
      "  plt.plot(np.log(np.arange(100)),np.log(1/np.arange(100)))\n"
     ]
    },
    {
     "data": {
      "text/plain": [
       "[<matplotlib.lines.Line2D at 0x18205d26160>]"
      ]
     },
     "execution_count": 157,
     "metadata": {},
     "output_type": "execute_result"
    },
    {
     "data": {
      "image/png": "[encoded data removed]",
      "text/plain": [
       "<Figure size 432x288 with 1 Axes>"
      ]
     },
     "metadata": {
      "needs_background": "light"
     },
     "output_type": "display_data"
    }
   ],
   "source": [
    "plt.plot(np.log(np.arange(100)),np.log(1/np.arange(100)))"
   ]
  },
  {
   "cell_type": "markdown",
   "metadata": {},
   "source": []
  },
  {
   "cell_type": "markdown",
   "metadata": {},
   "source": [
    "# new\n"
   ]
  },
  {
   "cell_type": "code",
   "execution_count": 1,
   "metadata": {},
   "outputs": [
    {
     "data": {
      "text/plain": [
       "[3, 5, 6]"
      ]
     },
     "execution_count": 1,
     "metadata": {},
     "output_type": "execute_result"
    }
   ],
   "source": [
    "dingo = [3,5,6]\n",
    "dingo"
   ]
  },
  {
   "cell_type": "code",
   "execution_count": 3,
   "metadata": {},
   "outputs": [
    {
     "data": {
      "text/plain": [
       "[3, 5, 5]"
      ]
     },
     "execution_count": 3,
     "metadata": {},
     "output_type": "execute_result"
    }
   ],
   "source": [
    "dingo[-1] = dingo[-2]\n",
    "dingo"
   ]
  }
 ],
 "metadata": {
  "kernelspec": {
   "display_name": "Python 3.9.5 ('venv': venv)",
   "language": "python",
   "name": "python3"
  },
  "language_info": {
   "codemirror_mode": {
    "name": "ipython",
    "version": 3
   },
   "file_extension": ".py",
   "mimetype": "text/x-python",
   "name": "python",
   "nbconvert_exporter": "python",
   "pygments_lexer": "ipython3",
   "version": "3.9.5"
  },
  "orig_nbformat": 4,
  "vscode": {
   "interpreter": {
    "hash": "079b1fb917025cd1efcb3b76bbd42ea8503c3ca839bb74a5335b7616d8aa92a0"
   }
  }
 },
 "nbformat": 4,
 "nbformat_minor": 2
}
