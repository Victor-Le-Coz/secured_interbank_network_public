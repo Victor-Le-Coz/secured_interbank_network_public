{
 "cells": [
  {
   "cell_type": "code",
   "execution_count": 1,
   "metadata": {},
   "outputs": [],
   "source": [
    "import multiple_run as mr\n",
    "import functions as fct\n",
    "import graphics as gx\n",
    "import pandas as pd"
   ]
  },
  {
   "attachments": {},
   "cell_type": "markdown",
   "metadata": {},
   "source": [
    "# 1 sensitivity analysis"
   ]
  },
  {
   "cell_type": "code",
   "execution_count": null,
   "metadata": {},
   "outputs": [],
   "source": [
    "# define the path of the sensitivity tests\n",
    "path = mr.path\n",
    "\n",
    "\n",
    "# collect results into df_network_sensitivity\n",
    "df_network_sensitivity = fct.get_df_network_sensitivity(\n",
    "    mr.dic_default_value[\"result_location\"]\n",
    ")\n",
    "\n"
   ]
  },
  {
   "cell_type": "code",
   "execution_count": 10,
   "metadata": {},
   "outputs": [],
   "source": [
    "# plot the sensitivity\n",
    "df_network_sensitivity = pd.read_csv(f\"{mr.dic_default_value['result_location']}df_network_sensitivity.csv\", index_col=(0,1))\n",
    "gx.plot_all_sensitivities(df_network_sensitivity,path=mr.path)"
   ]
  }
 ],
 "metadata": {
  "kernelspec": {
   "display_name": "Python 3",
   "language": "python",
   "name": "python3"
  },
  "language_info": {
   "codemirror_mode": {
    "name": "ipython",
    "version": 3
   },
   "file_extension": ".py",
   "mimetype": "text/x-python",
   "name": "python",
   "nbconvert_exporter": "python",
   "pygments_lexer": "ipython3",
   "version": "3.8.13"
  },
  "orig_nbformat": 4
 },
 "nbformat": 4,
 "nbformat_minor": 2
}
