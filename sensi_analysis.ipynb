{
 "cells": [
  {
   "cell_type": "code",
   "execution_count": 1,
   "metadata": {},
   "outputs": [],
   "source": [
    "import multiple_run as mr\n",
    "import functions as fct\n",
    "import graphics as gx\n",
    "import pandas as pd"
   ]
  },
  {
   "attachments": {},
   "cell_type": "markdown",
   "metadata": {},
   "source": [
    "# 1 sensitivity analysis"
   ]
  },
  {
   "cell_type": "code",
   "execution_count": 2,
   "metadata": {},
   "outputs": [
    {
     "ename": "FileNotFoundError",
     "evalue": "[Errno 2] No such file or directory: './results/sensitivity/lux_test/runs/'",
     "output_type": "error",
     "traceback": [
      "\u001b[0;31m---------------------------------------------------------------------------\u001b[0m",
      "\u001b[0;31mFileNotFoundError\u001b[0m                         Traceback (most recent call last)",
      "\u001b[1;32m/mnt/research-live/user/vlecoz/Secured_interbank_network/sensi_analysis.ipynb Cell 3\u001b[0m in \u001b[0;36m<cell line: 6>\u001b[0;34m()\u001b[0m\n\u001b[1;32m      <a href='vscode-notebook-cell://ssh-remote%2Bsrv006542/mnt/research-live/user/vlecoz/Secured_interbank_network/sensi_analysis.ipynb#W1sdnNjb2RlLXJlbW90ZQ%3D%3D?line=1'>2</a>\u001b[0m path \u001b[39m=\u001b[39m mr\u001b[39m.\u001b[39mpath\n\u001b[1;32m      <a href='vscode-notebook-cell://ssh-remote%2Bsrv006542/mnt/research-live/user/vlecoz/Secured_interbank_network/sensi_analysis.ipynb#W1sdnNjb2RlLXJlbW90ZQ%3D%3D?line=4'>5</a>\u001b[0m \u001b[39m# collect results into df_network_sensitivity\u001b[39;00m\n\u001b[0;32m----> <a href='vscode-notebook-cell://ssh-remote%2Bsrv006542/mnt/research-live/user/vlecoz/Secured_interbank_network/sensi_analysis.ipynb#W1sdnNjb2RlLXJlbW90ZQ%3D%3D?line=5'>6</a>\u001b[0m df_network_sensitivity \u001b[39m=\u001b[39m fct\u001b[39m.\u001b[39;49mget_df_network_sensitivity(\n\u001b[1;32m      <a href='vscode-notebook-cell://ssh-remote%2Bsrv006542/mnt/research-live/user/vlecoz/Secured_interbank_network/sensi_analysis.ipynb#W1sdnNjb2RlLXJlbW90ZQ%3D%3D?line=6'>7</a>\u001b[0m     mr\u001b[39m.\u001b[39;49mdic_default_value[\u001b[39m\"\u001b[39;49m\u001b[39mresult_location\u001b[39;49m\u001b[39m\"\u001b[39;49m]\n\u001b[1;32m      <a href='vscode-notebook-cell://ssh-remote%2Bsrv006542/mnt/research-live/user/vlecoz/Secured_interbank_network/sensi_analysis.ipynb#W1sdnNjb2RlLXJlbW90ZQ%3D%3D?line=7'>8</a>\u001b[0m )\n",
      "File \u001b[0;32m/mnt/live/user/vlecoz/Secured_interbank_network/functions.py:65\u001b[0m, in \u001b[0;36mget_df_network_sensitivity\u001b[0;34m(path)\u001b[0m\n\u001b[1;32m     63\u001b[0m \u001b[39mdef\u001b[39;00m \u001b[39mget_df_network_sensitivity\u001b[39m(path):\n\u001b[1;32m     64\u001b[0m     \u001b[39m# get the input parameters and their ranges\u001b[39;00m\n\u001b[0;32m---> 65\u001b[0m     dic_range \u001b[39m=\u001b[39m get_dic_range(path)\n\u001b[1;32m     67\u001b[0m     \u001b[39m# initiaze the index of df_network_sensitivity\u001b[39;00m\n\u001b[1;32m     68\u001b[0m     index \u001b[39m=\u001b[39m pd\u001b[39m.\u001b[39mMultiIndex\u001b[39m.\u001b[39mfrom_tuples(\n\u001b[1;32m     69\u001b[0m         [\n\u001b[1;32m     70\u001b[0m             (input_parameter, \u001b[39mfloat\u001b[39m(value))\n\u001b[0;32m   (...)\u001b[0m\n\u001b[1;32m     73\u001b[0m         ]\n\u001b[1;32m     74\u001b[0m     )\n",
      "File \u001b[0;32m/mnt/live/user/vlecoz/Secured_interbank_network/functions.py:42\u001b[0m, in \u001b[0;36mget_dic_range\u001b[0;34m(path)\u001b[0m\n\u001b[1;32m     39\u001b[0m \u001b[39mdef\u001b[39;00m \u001b[39mget_dic_range\u001b[39m(path):\n\u001b[1;32m     40\u001b[0m \n\u001b[1;32m     41\u001b[0m     \u001b[39m# get the list of input parameters\u001b[39;00m\n\u001b[0;32m---> 42\u001b[0m     repositories \u001b[39m=\u001b[39m os\u001b[39m.\u001b[39;49mlistdir(path)\n\u001b[1;32m     44\u001b[0m     \u001b[39m# exclude from this list df_network_trajectory.csv if it exists\u001b[39;00m\n\u001b[1;32m     45\u001b[0m     input_parameters \u001b[39m=\u001b[39m [\n\u001b[1;32m     46\u001b[0m         rep \u001b[39mfor\u001b[39;00m rep \u001b[39min\u001b[39;00m repositories \u001b[39mif\u001b[39;00m rep \u001b[39m!=\u001b[39m \u001b[39m\"\u001b[39m\u001b[39mdf_network_sensitivity.csv\u001b[39m\u001b[39m\"\u001b[39m\n\u001b[1;32m     47\u001b[0m     ]\n",
      "\u001b[0;31mFileNotFoundError\u001b[0m: [Errno 2] No such file or directory: './results/sensitivity/lux_test/runs/'"
     ]
    }
   ],
   "source": [
    "# define the path of the sensitivity tests\n",
    "path = mr.path\n",
    "\n",
    "\n",
    "# collect results into df_network_sensitivity\n",
    "df_network_sensitivity = fct.get_df_network_sensitivity(\n",
    "    mr.dic_default_value[\"result_location\"]\n",
    ")\n",
    "\n"
   ]
  },
  {
   "cell_type": "code",
   "execution_count": 10,
   "metadata": {},
   "outputs": [],
   "source": [
    "# plot the sensitivity\n",
    "df_network_sensitivity = pd.read_csv(f\"{mr.dic_default_value['result_location']}df_network_sensitivity.csv\", index_col=(0,1))\n",
    "gx.plot_all_sensitivities(df_network_sensitivity,path=mr.path)"
   ]
  }
 ],
 "metadata": {
  "kernelspec": {
   "display_name": "Python 3",
   "language": "python",
   "name": "python3"
  },
  "language_info": {
   "codemirror_mode": {
    "name": "ipython",
    "version": 3
   },
   "file_extension": ".py",
   "mimetype": "text/x-python",
   "name": "python",
   "nbconvert_exporter": "python",
   "pygments_lexer": "ipython3",
   "version": "3.8.13"
  },
  "orig_nbformat": 4
 },
 "nbformat": 4,
 "nbformat_minor": 2
}
