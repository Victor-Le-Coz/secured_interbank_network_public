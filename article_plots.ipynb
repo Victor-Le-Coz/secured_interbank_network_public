{
 "cells": [
  {
   "cell_type": "markdown",
   "metadata": {},
   "source": [
    "# random growth model"
   ]
  },
  {
   "cell_type": "code",
   "execution_count": null,
   "metadata": {},
   "outputs": [],
   "source": [
    "import os\n",
    "import numpy as np\n",
    "import cpnet\n",
    "import networkx as nx\n",
    "from matplotlib import pyplot as plt\n",
    "import pandas as pd\n",
    "import seaborn as sns\n",
    "from matplotlib.colors import ListedColormap\n",
    "import functions as fct\n",
    "import parameters as par\n",
    "import emp_metrics as em\n",
    "from tqdm import tqdm\n",
    "import numpy as np\n",
    "import powerlaw\n",
    "import os\n",
    "\n",
    "\n",
    "# Teted conditions\n",
    "T = int(1e5)\n",
    "nb_banks = int(1e6)\n",
    "init_money_min = 1e-2\n",
    "\n",
    "fig, ax = plt.subplots(figsize=(3,3))\n",
    "index = np.logspace(-6.5,-4)\n",
    "\n",
    "\n",
    "\n",
    "colors = sns.color_palette(\"flare\", n_colors=len(range(0,T,500)))\n",
    "\n",
    "path = \"data_1m_banks_vol_10_g_10percent_year\"\n",
    "\n",
    "os.makedirs(\"./results/power_law/charts_1m_banks_vol_10_g_10percent_year/\",exist_ok=True)\n",
    "\n",
    "for i, t in enumerate(tqdm(range(0,T,500))):\n",
    "        try:\n",
    "            df_ccdf = pd.read_csv(f\"./results/power_law/{path}/{t}_df_ccdf.csv\")\n",
    "        except:\n",
    "            pass\n",
    "        \n",
    "        plt.plot(df_ccdf[\"data\"],df_ccdf[\"rank\"],\".\",color=colors[i], markersize=1, label='_nolegend_')\n",
    "        plt.yscale(\"log\")\n",
    "        plt.xscale(\"log\")\n",
    "        plt.ylabel(r\"$\\mathbb{P}(Y > y)$\")\n",
    "        plt.xlabel(r\"$y$\")\n",
    "        # plt.savefig(f\"./results/power_law/charts_100000_banks_vol_10_g_10percent_year/{t}_stationarity_random_growth.png\", bbox_inches=\"tight\")\n",
    "        \n",
    "        \n",
    "ref= 1e-15\n",
    "plt.plot(index, [ref/x**0.5 for x in index], \"--\",color=\"0\",)\n",
    "plt.plot(index, [ref/x**1 for x in index], \"--\",color=\"0.15\")\n",
    "plt.plot(index, [ref/x**1.5 for x in index], \"--\",color=\"0.30\")\n",
    "plt.plot(index, [ref/x**2 for x in index], \"--\",color=\"0.45\")\n",
    "plt.plot(index, [ref/x**2.5 for x in index], \"--\",color=\"0.60\")\n",
    "plt.plot(index, [ref/x**3 for x in index], \"--\",color=\"0.75\")\n",
    "plt.legend([r\"$x^{-0.5}$\",r\"$x^{-1}$\",r\"$x^{-1.5}$\",r\"$x^{-2}$\",r\"$x^{-2.5}$\",r\"$x^{-3}$\"], \n",
    "           loc=\"lower center\",\n",
    "        # bbox_to_anchor=(1.0, 1.0),\n",
    "        ncols=3\n",
    "           )\n",
    "\n",
    "plt.savefig(f\"./results/article_plots/stationarity_random_growth_1m_banks_vol_10_g_10_2.png\", bbox_inches=\"tight\")"
   ]
  }
 ],
 "metadata": {
  "kernelspec": {
   "display_name": "Python 3",
   "language": "python",
   "name": "python3"
  },
  "language_info": {
   "codemirror_mode": {
    "name": "ipython",
    "version": 3
   },
   "file_extension": ".py",
   "mimetype": "text/x-python",
   "name": "python",
   "nbconvert_exporter": "python",
   "pygments_lexer": "ipython3",
   "version": "3.8.13"
  }
 },
 "nbformat": 4,
 "nbformat_minor": 2
}
